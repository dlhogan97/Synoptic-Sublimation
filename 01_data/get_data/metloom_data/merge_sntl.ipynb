{
 "cells": [
  {
   "cell_type": "code",
   "execution_count": 92,
   "metadata": {},
   "outputs": [],
   "source": [
    "import pandas as pd\n",
    "import numpy as np\n",
    "import xarray as xr\n",
    "import glob"
   ]
  },
  {
   "cell_type": "code",
   "execution_count": 160,
   "metadata": {},
   "outputs": [
    {
     "name": "stdout",
     "output_type": "stream",
     "text": [
      "Working on file:  butte_cascade_sntl.txt\n"
     ]
    },
    {
     "name": "stderr",
     "output_type": "stream",
     "text": [
      "/tmp/ipykernel_20125/4239888299.py:4: DtypeWarning: Columns (20,22) have mixed types. Specify dtype option on import or set low_memory=False.\n",
      "  df = pd.read_csv(file, header=73)\n"
     ]
    },
    {
     "name": "stdout",
     "output_type": "stream",
     "text": [
      "Saved Cascade to Cascade_386_SNTL_tidy.csv\n",
      "Saved Butte to Butte_380_SNTL_tidy.csv\n",
      "Working on file:  cascade2_eldiente_peak_sntl.txt\n"
     ]
    },
    {
     "name": "stderr",
     "output_type": "stream",
     "text": [
      "/tmp/ipykernel_20125/4239888299.py:4: DtypeWarning: Columns (32,34,36) have mixed types. Specify dtype option on import or set low_memory=False.\n",
      "  df = pd.read_csv(file, header=73)\n"
     ]
    },
    {
     "name": "stdout",
     "output_type": "stream",
     "text": [
      "Saved El to El_465_SNTL_tidy.csv\n",
      "Saved Cascade to Cascade_387_SNTL_tidy.csv\n",
      "Working on file:  hoosier_idarado_sntl.txt\n"
     ]
    },
    {
     "name": "stderr",
     "output_type": "stream",
     "text": [
      "/tmp/ipykernel_20125/4239888299.py:4: DtypeWarning: Columns (14,16,18) have mixed types. Specify dtype option on import or set low_memory=False.\n",
      "  df = pd.read_csv(file, header=73)\n"
     ]
    },
    {
     "name": "stdout",
     "output_type": "stream",
     "text": [
      "Saved Hoosier to Hoosier_538_SNTL_tidy.csv\n",
      "Saved Idarado to Idarado_531_SNTL_tidy.csv\n",
      "Working on file:  lizard_head_pass_mineral_creek_sntl.txt\n",
      "Saved Lizard to Lizard_586_SNTL_tidy.csv\n",
      "Saved Mineral to Mineral_629_SNTL_tidy.csv\n",
      "Working on file:  molas_lake_park_cone_sntl.txt\n",
      "Saved Molas to Molas_632_SNTL_tidy.csv\n",
      "Saved Park to Park_680_SNTL_tidy.csv\n",
      "Working on file:  red_mtn_pass_schofield_pass_sntl.txt\n"
     ]
    },
    {
     "name": "stderr",
     "output_type": "stream",
     "text": [
      "/tmp/ipykernel_20125/4239888299.py:4: DtypeWarning: Columns (30,32,34,36) have mixed types. Specify dtype option on import or set low_memory=False.\n",
      "  df = pd.read_csv(file, header=73)\n"
     ]
    },
    {
     "name": "stdout",
     "output_type": "stream",
     "text": [
      "Saved Red to Red_713_SNTL_tidy.csv\n",
      "Saved Schofield to Schofield_737_SNTL_tidy.csv\n",
      "Working on file:  scotch_creek_spud_mtn_sntl.txt\n",
      "Saved Scotch to Scotch_739_SNTL_tidy.csv\n",
      "Saved Spud to Spud_780_SNTL_tidy.csv\n",
      "Working on file:  upper_taylor_sntl.txt\n",
      "Saved Upper to Upper_1141_SNTL_tidy.csv\n"
     ]
    }
   ],
   "source": [
    "def clean_sntl(path):\n",
    "    for file in glob.glob(path+'/*.txt'):\n",
    "        print('Working on file: ', file.split('/')[-1])\n",
    "        df = pd.read_csv(file, header=73)\n",
    "        # set Date as index\n",
    "        df = df.set_index('Date')\n",
    "        # first lets separate the sites and the site_ids\n",
    "        sites = list(set([d.split('(')[0].split(' ')[0] for d in df.columns.to_list()]))\n",
    "        site_ids = list(set([int(d.split('(')[1].split(')')[0]) for d in df.columns.to_list()]))\n",
    "\n",
    "        # now get the columns that contain each site\n",
    "        site_columns = {}\n",
    "\n",
    "        for i,site in enumerate(sites):\n",
    "            site_columns[site] = {'original':[col for col in df.columns.to_list() if site in col],\n",
    "                                    'cleaned':[col.split(') ')[1] for col in df.columns.to_list() if site in col]}\n",
    "            \n",
    "            tmp_df = df[site_columns[site]['original']].rename(dict(zip(site_columns[site]['original'],\n",
    "                                                                        site_columns[site]['cleaned'])), axis=1)\n",
    "            tmp_df.index = pd.to_datetime(tmp_df.index)\n",
    "            # map QC flag columns to their respective data columns\n",
    "            data_columns = [col for col in tmp_df.columns.to_list() if 'QC' not in col]\n",
    "            qc_columns = [col for col in tmp_df.columns.to_list() if 'QC' in col]\n",
    "            qc_map = {data_columns[i]:col for i,col in enumerate(qc_columns)}\n",
    "            # convert to a tidy format\n",
    "            tidy_tmp_df = tmp_df.melt(ignore_index=False, var_name='variable', value_name='value')\n",
    "            # create a flag column with the values for\n",
    "            # create a new column called flag\n",
    "            tidy_tmp_df['qc_flag'] = ''\n",
    "            for col in data_columns:\n",
    "                tidy_tmp_df.loc[tidy_tmp_df['variable']==col,'qc_flag'] = tidy_tmp_df[tidy_tmp_df['variable']==qc_map[col]]['value']\n",
    "            # remove the rows where the variable is a QC flag\n",
    "            tidy_tmp_df = tidy_tmp_df[tidy_tmp_df['variable'].isin(data_columns)]\n",
    "            # explode the dataframe\n",
    "            tidy_tmp_df = tidy_tmp_df.explode('value')\n",
    "            # save to a csv file with the site name and site id\n",
    "            tidy_tmp_df.to_csv(f'../../raw_data/station_data/long_term_data/sntl_tidy/{site}_{site_ids[i]}_SNTL_tidy.csv')\n",
    "            print(f'Saved {site} to {site}_{site_ids[i]}_SNTL_tidy.csv')"
   ]
  }
 ],
 "metadata": {
  "kernelspec": {
   "display_name": "metloom",
   "language": "python",
   "name": "python3"
  },
  "language_info": {
   "codemirror_mode": {
    "name": "ipython",
    "version": 3
   },
   "file_extension": ".py",
   "mimetype": "text/x-python",
   "name": "python",
   "nbconvert_exporter": "python",
   "pygments_lexer": "ipython3",
   "version": "3.11.7"
  }
 },
 "nbformat": 4,
 "nbformat_minor": 2
}
