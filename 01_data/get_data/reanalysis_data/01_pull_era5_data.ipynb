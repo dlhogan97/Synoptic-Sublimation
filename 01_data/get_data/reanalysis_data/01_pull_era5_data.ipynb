{
 "cells": [
  {
   "cell_type": "code",
   "execution_count": 1,
   "metadata": {},
   "outputs": [],
   "source": [
    "import cdsapi\n",
    "import os\n",
    "import xarray as xr\n",
    "import numpy as np\n",
    "import pandas as pd\n",
    "import matplotlib.pyplot as plt"
   ]
  },
  {
   "cell_type": "code",
   "execution_count": 2,
   "metadata": {},
   "outputs": [],
   "source": [
    "years = np.arange(1979, 2025, 1)\n",
    "title = 'ERA5_reanalysis_western_NA'"
   ]
  },
  {
   "cell_type": "code",
   "execution_count": 10,
   "metadata": {},
   "outputs": [],
   "source": [
    "def get_ERA5_data(year, title):   \n",
    "    # Pull ERA5 data from the CDS API client\n",
    "    c = cdsapi.Client()\n",
    "    if not os.path.exists(f'/storage/dlhogan/data/processed_data/{title}_{year}.nc'):\n",
    "        c.retrieve(\n",
    "        'reanalysis-era5-pressure-levels',\n",
    "        {\n",
    "            'product_type': 'reanalysis',\n",
    "            'variable': [\n",
    "                'geopotential', 'potential_vorticity', 'relative_humidity',\n",
    "                'temperature', 'u_component_of_wind', 'v_component_of_wind',\n",
    "            ],\n",
    "            'pressure_level': [\n",
    "                '500', '600', '700',\n",
    "            ],\n",
    "            'year': '2023',\n",
    "            'month': [\n",
    "                '01', '02', '03',\n",
    "                '12',\n",
    "            ],\n",
    "            'day': [\n",
    "                '01', '02', '03',\n",
    "                '04', '05', '06',\n",
    "                '07', '08', '09',\n",
    "                '10', '11', '12',\n",
    "                '13', '14', '15',\n",
    "                '16', '17', '18',\n",
    "                '19', '20', '21',\n",
    "                '22', '23', '24',\n",
    "                '25', '26', '27',\n",
    "                '28', '29', '30',\n",
    "                '31',\n",
    "            ],\n",
    "            'time': [\n",
    "                '00:00', '01:00', '02:00',\n",
    "                '03:00', '04:00', '05:00',\n",
    "                '06:00', '07:00', '08:00',\n",
    "                '09:00', '10:00', '11:00',\n",
    "                '12:00', '13:00', '14:00',\n",
    "                '15:00', '16:00', '17:00',\n",
    "                '18:00', '19:00', '20:00',\n",
    "                '21:00', '22:00', '23:00',\n",
    "            ],\n",
    "            'area': [\n",
    "                53, -128, 23,\n",
    "                -100,\n",
    "            ],\n",
    "            'format': 'netcdf',\n",
    "        },\n",
    "            f'/storage/dlhogan/data/raw_data/{title}_{year}.nc')\n",
    "        print(f'ERA5 data for {year} has been downloaded.')\n",
    "        # print the approximate size of the file\n",
    "        print(f'The file size is {os.path.getsize(f\"/storage/dlhogan/data/processed_data/{title}_{year}.nc\") / 1e6} MB')\n",
    "        return \n",
    "    else:\n",
    "        print(f'ERA5 data for {year} has already been downloaded.')\n",
    "    ds = xr.open_dataset(f'/storage/dlhogan/data/processed_data/{title}_{year}.nc')\n",
    "    return ds"
   ]
  },
  {
   "cell_type": "code",
   "execution_count": 11,
   "metadata": {},
   "outputs": [
    {
     "name": "stderr",
     "output_type": "stream",
     "text": [
      "2024-08-01 17:39:57,255 INFO Welcome to the CDS.\n",
      " As per our announcements on the Forum, this instance of CDS will soon be decommissioned.\n",
      " Please update your cdsapi package to a version >=0.7.0, create an account on CDS-Beta and update your .cdsapirc file. We strongly recommend users to check our Guidelines at https://confluence.ecmwf.int/x/uINmFw\n",
      " The current legacy system will be kept for a while, but we will reduce resources gradually until full decommissioning in September 2024.\n",
      "2024-08-01 17:39:57,256 WARNING MOVE TO CDS-Beta\n",
      "2024-08-01 17:39:57,257 INFO Sending request to https://cds.climate.copernicus.eu/api/v2/resources/reanalysis-era5-pressure-levels\n",
      "2024-08-01 17:39:57,455 INFO Request is queued\n",
      "2024-08-01 17:39:58,619 INFO Request is running\n"
     ]
    }
   ],
   "source": [
    "for year in years:\n",
    "    get_ERA5_data(year, title)"
   ]
  },
  {
   "cell_type": "code",
   "execution_count": null,
   "metadata": {},
   "outputs": [],
   "source": [
    "#! /usr/bin/env python\n",
    "\n",
    "from mpl_toolkits.basemap import Basemap, shiftgrid, cm\n",
    "import numpy as np\n",
    "import matplotlib.pyplot as plt\n",
    "from netCDF4 import Dataset\n",
    "import datetime\n",
    "\n",
    "datetime_origin = datetime.datetime(1, 1, 1, 0, 0, 0, 0)\n",
    "# In this case, this is 500 mb. Can check below with d.variables[\"level\"][:]\n",
    "level = 5\n",
    "time = 0\n",
    "# 277830 is because this is a ~2.5 x 2.5 degree grid; 111132 meters are in about 111 km appart. This is fairly rough.\n",
    "meters_per_grid = 277830\n",
    "\n",
    "# Download the dataset from: ftp://ftp.cdc.noaa.gov/Datasets/ncep.reanalysis.derived/pressure/hgt.mon.mean.nc\n",
    "d = Dataset(\"hgt.mon.mean.nc\")\n",
    "hgt = d.variables[\"hgt\"][:][time, level, :, :]  # Not sure about the dims, here.\n",
    "lon = d.variables[\"lon\"][:]\n",
    "# need to reverse direction of lat dimension so it's increasing.\n",
    "lat = d.variables[\"lat\"][:][::-1]\n",
    "hgt = hgt[::-1, :]\n",
    "hgt, lon = shiftgrid(180, hgt, lon, start = False)\n",
    "fig = plt.figure()\n",
    "ax = fig.add_axes([0.1, 0.1, 0.8, 0.8])\n",
    "# Lambert Azimuthal Equal Area\n",
    "# Larger area:\n",
    "#m = Basemap(width = 12000000, height = 12000000, resolution = \"l\", projection = \"laea\", lat_ts = 50, lat_0 = 50, lon_0 = -107.0)\n",
    "# Smaller area:\n",
    "#m = Basemap(width = 12000000, height = 8000000, resolution = \"l\", projection = \"laea\", lat_ts = 50, lat_0 = 50, lon_0 = -107.0)\n",
    "# For north Polar Stereographic projection\n",
    "m = Basemap(projection='npstere',boundinglat=10,lon_0=270,resolution='l')\n",
    "nx = int((m.xmax - m.xmin)/meters_per_grid); ny = int((m.ymax - m.ymin)/meters_per_grid)\n",
    "hgt = m.transform_scalar(hgt, lon, lat, nx, ny)\n",
    "im = m.imshow(hgt, interpolation = \"none\")\n",
    "\n",
    "m.drawcoastlines()\n",
    "parallels = np.arange(-90, 90, 30)\n",
    "meridians = np.arange(-180, 180, 60)\n",
    "m.drawparallels(parallels, labels = [1, 0, 0, 1])\n",
    "m.drawmeridians(meridians, labels = [1, 0, 0, 1])\n",
    "\n",
    "cb = m.colorbar(im, \"right\", size = \"5%\", pad = \"2%\")\n",
    "ax.set_title(\"500 mb Geopotential Height\")\n",
    "plt.show()"
   ]
  }
 ],
 "metadata": {
  "kernelspec": {
   "display_name": "base",
   "language": "python",
   "name": "python3"
  },
  "language_info": {
   "codemirror_mode": {
    "name": "ipython",
    "version": 3
   },
   "file_extension": ".py",
   "mimetype": "text/x-python",
   "name": "python",
   "nbconvert_exporter": "python",
   "pygments_lexer": "ipython3",
   "version": "3.11.6"
  }
 },
 "nbformat": 4,
 "nbformat_minor": 2
}
