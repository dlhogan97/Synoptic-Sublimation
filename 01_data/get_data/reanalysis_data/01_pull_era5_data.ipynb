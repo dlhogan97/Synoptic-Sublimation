{
 "cells": [
  {
   "cell_type": "code",
   "execution_count": 1,
   "metadata": {},
   "outputs": [],
   "source": [
    "import cdsapi\n",
    "import os\n",
    "import xarray as xr\n",
    "import numpy as np\n",
    "import pandas as pd\n",
    "import matplotlib.pyplot as plt"
   ]
  },
  {
   "cell_type": "code",
   "execution_count": 2,
   "metadata": {},
   "outputs": [
    {
     "name": "stderr",
     "output_type": "stream",
     "text": [
      "2024-01-04 12:02:44,149 INFO Welcome to the CDS\n",
      "2024-01-04 12:02:44,151 INFO Sending request to https://cds.climate.copernicus.eu/api/v2/resources/reanalysis-era5-pressure-levels\n",
      "2024-01-04 12:02:44,446 INFO Request is queued\n",
      "2024-01-04 12:02:45,626 INFO Request is running\n"
     ]
    }
   ],
   "source": [
    "# Pull ERA5 data from the CDS API client\n",
    "c = cdsapi.Client()\n",
    "year = 2022\n",
    "if not os.path.exists(f'/storage/dlhogan/data/raw_data/ERA5_reanalysis_gpot_wspd_{year}.nc'):\n",
    "    c.retrieve(\n",
    "        'reanalysis-era5-pressure-levels',\n",
    "        {\n",
    "            'product_type': 'reanalysis',\n",
    "            'format': 'netcdf',\n",
    "            'variable': [\n",
    "                'geopotential', 'u_component_of_wind', 'v_component_of_wind',\n",
    "            ],\n",
    "            'pressure_level': [\n",
    "                '250', '500', '700',\n",
    "                '800',\n",
    "            ],\n",
    "            'year': f'{year}',\n",
    "            'month': [\n",
    "                '01', '02', '03',\n",
    "                '04', '05', '06',\n",
    "                '07', '08', '09',\n",
    "                '10', '11', '12',\n",
    "            ],\n",
    "            'day': [\n",
    "                '01', '02', '03',\n",
    "                '04', '05', '06',\n",
    "                '07', '08', '09',\n",
    "                '10', '11', '12',\n",
    "                '13', '14', '15',\n",
    "                '16', '17', '18',\n",
    "                '19', '20', '21',\n",
    "                '22', '23', '24',\n",
    "                '25', '26', '27',\n",
    "                '28', '29', '30',\n",
    "                '31',\n",
    "            ],\n",
    "            'area': [\n",
    "                50.4, -125.6, 31.9,\n",
    "                -93.5,\n",
    "            ],\n",
    "            'time': [\n",
    "                '00:00', '01:00', '02:00',\n",
    "                '03:00', '04:00', '05:00',\n",
    "                '06:00', '07:00', '08:00',\n",
    "                '09:00', '10:00', '11:00',\n",
    "                '12:00', '13:00', '14:00',\n",
    "                '15:00', '16:00', '17:00',\n",
    "                '18:00', '19:00', '20:00',\n",
    "                '21:00', '22:00', '23:00',\n",
    "            ],\n",
    "        },\n",
    "        f'/storage/dlhogan/data/raw_data/ERA5_reanalysis_gpot_wspd_{year}.nc')\n",
    "else:\n",
    "    xr.open_dataset(f'/storage/dlhogan/data/raw_data/ERA5_reanalysis_gpot_wspd_{year}.nc')"
   ]
  },
  {
   "cell_type": "code",
   "execution_count": null,
   "metadata": {},
   "outputs": [],
   "source": []
  }
 ],
 "metadata": {
  "kernelspec": {
   "display_name": "base",
   "language": "python",
   "name": "python3"
  },
  "language_info": {
   "codemirror_mode": {
    "name": "ipython",
    "version": 3
   },
   "file_extension": ".py",
   "mimetype": "text/x-python",
   "name": "python",
   "nbconvert_exporter": "python",
   "pygments_lexer": "ipython3",
   "version": "3.11.6"
  }
 },
 "nbformat": 4,
 "nbformat_minor": 2
}
