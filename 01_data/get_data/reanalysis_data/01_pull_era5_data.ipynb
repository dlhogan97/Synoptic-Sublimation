{
 "cells": [
  {
   "cell_type": "code",
   "execution_count": 1,
   "metadata": {},
   "outputs": [],
   "source": [
    "import cdsapi\n",
    "import os\n",
    "import xarray as xr\n",
    "import numpy as np\n",
    "import pandas as pd\n",
    "import matplotlib.pyplot as plt"
   ]
  },
  {
   "cell_type": "code",
   "execution_count": null,
   "metadata": {},
   "outputs": [],
   "source": [
    "years = np.arange(1979, 2026, 1)\n",
    "title = 'ERA5_reanalysis_western_NA'"
   ]
  },
  {
   "cell_type": "code",
   "execution_count": null,
   "metadata": {},
   "outputs": [],
   "source": [
    "def get_ERA5_data(year, title):   \n",
    "    # Pull ERA5 data from the CDS API client\n",
    "    if not os.path.exists(f'/storage/dlhogan/synoptic_sublimation/reanalysis_data/raw_data/{title}_{year}_v2.nc'):\n",
    "        dataset = \"reanalysis-era5-pressure-levels\"\n",
    "        request = {\n",
    "            \"product_type\": [\"reanalysis\"],\n",
    "            \"variable\": [\n",
    "                \"geopotential\",\n",
    "                \"specific_humidity\",\n",
    "                \"temperature\",\n",
    "                \"u_component_of_wind\",\n",
    "                \"v_component_of_wind\",\n",
    "                \"vorticity\"\n",
    "            ],\n",
    "            \"year\": [str(year)],\n",
    "            \"month\": [\n",
    "                \"01\", \"02\", \"03\",\n",
    "                \"04\", \"05\", \"06\",\n",
    "                \"07\", \"08\", \"09\",\n",
    "                \"10\", \"11\", \"12\"\n",
    "            ],\n",
    "            \"day\": [\n",
    "                \"01\", \"02\", \"03\",\n",
    "                \"04\", \"05\", \"06\",\n",
    "                \"07\", \"08\", \"09\",\n",
    "                \"10\", \"11\", \"12\",\n",
    "                \"13\", \"14\", \"15\",\n",
    "                \"16\", \"17\", \"18\",\n",
    "                \"19\", \"20\", \"21\",\n",
    "                \"22\", \"23\", \"24\",\n",
    "                \"25\", \"26\", \"27\",\n",
    "                \"28\", \"29\", \"30\",\n",
    "                \"31\"\n",
    "            ],\n",
    "            \"time\": [\n",
    "                \"00:00\", \"01:00\", \"02:00\",\n",
    "                \"03:00\", \"04:00\", \"05:00\",\n",
    "                \"06:00\", \"07:00\", \"08:00\",\n",
    "                \"09:00\", \"10:00\", \"11:00\",\n",
    "                \"12:00\", \"13:00\", \"14:00\",\n",
    "                \"15:00\", \"16:00\", \"17:00\",\n",
    "                \"18:00\", \"19:00\", \"20:00\",\n",
    "                \"21:00\", \"22:00\", \"23:00\"\n",
    "            ],\n",
    "            \"pressure_level\": [\"500\"],\n",
    "            \"data_format\": \"netcdf\",\n",
    "            \"area\": [45, -110, 35, -100]\n",
    "        }\n",
    "        target = f'/storage/dlhogan/synoptic_sublimation/reanalysis_data/raw_data/{title}_{year}_v2.nc'\n",
    "        client = cdsapi.Client()\n",
    "        client.retrieve(dataset, request, target=target)\n",
    "        print(f'ERA5 data for {year} has been downloaded.')\n",
    "        # print the approximate size of the file\n",
    "        print(f'The file size is {os.path.getsize(f\"/storage/dlhogan/synoptic_sublimation/reanalysis_data/raw_data/{title}_{year}_v2.nc\") / 1e6} MB')\n",
    "        return \n",
    "    else:\n",
    "        print(f'ERA5 data for {year} has already been downloaded.')\n",
    "    return"
   ]
  },
  {
   "cell_type": "code",
   "execution_count": 12,
   "metadata": {},
   "outputs": [
    {
     "name": "stderr",
     "output_type": "stream",
     "text": [
      "2025-06-17 16:00:29,536 INFO [2025-06-16T00:00:00] CC-BY licence to replace Licence to use Copernicus Products on 02 July 2025. More information available [here](https://forum.ecmwf.int/t/cc-by-licence-to-replace-licence-to-use-copernicus-products-on-02-july-2025/13464)\n",
      "2025-06-17 16:00:29,537 INFO [2025-06-10T00:00:00] To improve our C3S service, we need to hear from you! Please complete this very short [survey](https://confluence.ecmwf.int/x/E7uBEQ/). Thank you.\n",
      "2025-06-17 16:00:29,537 INFO [2024-09-26T00:00:00] Watch our [Forum](https://forum.ecmwf.int/) for Announcements, news and other discussed topics.\n",
      "2025-06-17 16:00:30,015 INFO Request ID is 50657dd3-1261-4c71-b736-72b6127ded46\n",
      "2025-06-17 16:00:30,228 INFO status has been updated to accepted\n",
      "2025-06-17 16:00:39,241 INFO status has been updated to running\n",
      "2025-06-17 16:04:51,205 INFO status has been updated to successful\n"
     ]
    },
    {
     "data": {
      "application/vnd.jupyter.widget-view+json": {
       "model_id": "8ff8343eb1984c72b452ce2ac4a00591",
       "version_major": 2,
       "version_minor": 0
      },
      "text/plain": [
       "5083f16b903168cd833d49720e1d0e85.nc:   0%|          | 0.00/14.5M [00:00<?, ?B/s]"
      ]
     },
     "metadata": {},
     "output_type": "display_data"
    },
    {
     "name": "stdout",
     "output_type": "stream",
     "text": [
      "ERA5 data for 2025 has been downloaded.\n",
      "The file size is 15.213615 MB\n"
     ]
    }
   ],
   "source": [
    "for year in years:\n",
    "    get_ERA5_data(year, title)"
   ]
  },
  {
   "cell_type": "code",
   "execution_count": null,
   "metadata": {},
   "outputs": [],
   "source": [
    "#! /usr/bin/env python\n",
    "\n",
    "from mpl_toolkits.basemap import Basemap, shiftgrid, cm\n",
    "import numpy as np\n",
    "import matplotlib.pyplot as plt\n",
    "from netCDF4 import Dataset\n",
    "import datetime\n",
    "\n",
    "datetime_origin = datetime.datetime(1, 1, 1, 0, 0, 0, 0)\n",
    "# In this case, this is 500 mb. Can check below with d.variables[\"level\"][:]\n",
    "level = 5\n",
    "time = 0\n",
    "# 277830 is because this is a ~2.5 x 2.5 degree grid; 111132 meters are in about 111 km appart. This is fairly rough.\n",
    "meters_per_grid = 277830\n",
    "\n",
    "# Download the dataset from: ftp://ftp.cdc.noaa.gov/Datasets/ncep.reanalysis.derived/pressure/hgt.mon.mean.nc\n",
    "d = Dataset(\"hgt.mon.mean.nc\")\n",
    "hgt = d.variables[\"hgt\"][:][time, level, :, :]  # Not sure about the dims, here.\n",
    "lon = d.variables[\"lon\"][:]\n",
    "# need to reverse direction of lat dimension so it's increasing.\n",
    "lat = d.variables[\"lat\"][:][::-1]\n",
    "hgt = hgt[::-1, :]\n",
    "hgt, lon = shiftgrid(180, hgt, lon, start = False)\n",
    "fig = plt.figure()\n",
    "ax = fig.add_axes([0.1, 0.1, 0.8, 0.8])\n",
    "# Lambert Azimuthal Equal Area\n",
    "# Larger area:\n",
    "#m = Basemap(width = 12000000, height = 12000000, resolution = \"l\", projection = \"laea\", lat_ts = 50, lat_0 = 50, lon_0 = -107.0)\n",
    "# Smaller area:\n",
    "#m = Basemap(width = 12000000, height = 8000000, resolution = \"l\", projection = \"laea\", lat_ts = 50, lat_0 = 50, lon_0 = -107.0)\n",
    "# For north Polar Stereographic projection\n",
    "m = Basemap(projection='npstere',boundinglat=10,lon_0=270,resolution='l')\n",
    "nx = int((m.xmax - m.xmin)/meters_per_grid); ny = int((m.ymax - m.ymin)/meters_per_grid)\n",
    "hgt = m.transform_scalar(hgt, lon, lat, nx, ny)\n",
    "im = m.imshow(hgt, interpolation = \"none\")\n",
    "\n",
    "m.drawcoastlines()\n",
    "parallels = np.arange(-90, 90, 30)\n",
    "meridians = np.arange(-180, 180, 60)\n",
    "m.drawparallels(parallels, labels = [1, 0, 0, 1])\n",
    "m.drawmeridians(meridians, labels = [1, 0, 0, 1])\n",
    "\n",
    "cb = m.colorbar(im, \"right\", size = \"5%\", pad = \"2%\")\n",
    "ax.set_title(\"500 mb Geopotential Height\")\n",
    "plt.show()"
   ]
  }
 ],
 "metadata": {
  "kernelspec": {
   "display_name": "sublime_synoptics",
   "language": "python",
   "name": "python3"
  },
  "language_info": {
   "codemirror_mode": {
    "name": "ipython",
    "version": 3
   },
   "file_extension": ".py",
   "mimetype": "text/x-python",
   "name": "python",
   "nbconvert_exporter": "python",
   "pygments_lexer": "ipython3",
   "version": "3.11.10"
  }
 },
 "nbformat": 4,
 "nbformat_minor": 2
}
