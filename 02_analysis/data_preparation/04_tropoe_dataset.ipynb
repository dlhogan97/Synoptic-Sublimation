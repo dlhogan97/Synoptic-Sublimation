{
 "cells": [
  {
   "cell_type": "markdown",
   "metadata": {},
   "source": [
    "### Imports\n"
   ]
  },
  {
   "cell_type": "code",
   "execution_count": 2,
   "metadata": {},
   "outputs": [
    {
     "name": "stdout",
     "output_type": "stream",
     "text": [
      "1 file was created by nctoolkit in prior or current sessions. Consider running deep_clean!\n",
      "nctoolkit is using Climate Data Operators version 2.3.0\n"
     ]
    },
    {
     "data": {
      "text/html": [
       "        <script type=\"text/javascript\">\n",
       "        window.PlotlyConfig = {MathJaxConfig: 'local'};\n",
       "        if (window.MathJax && window.MathJax.Hub && window.MathJax.Hub.Config) {window.MathJax.Hub.Config({SVG: {font: \"STIX-Web\"}});}\n",
       "        if (typeof require !== 'undefined') {\n",
       "        require.undef(\"plotly\");\n",
       "        requirejs.config({\n",
       "            paths: {\n",
       "                'plotly': ['https://cdn.plot.ly/plotly-2.27.0.min']\n",
       "            }\n",
       "        });\n",
       "        require(['plotly'], function(Plotly) {\n",
       "            window._Plotly = Plotly;\n",
       "        });\n",
       "        }\n",
       "        </script>\n",
       "        "
      ]
     },
     "metadata": {},
     "output_type": "display_data"
    },
    {
     "data": {
      "text/html": [
       "        <script type=\"text/javascript\">\n",
       "        window.PlotlyConfig = {MathJaxConfig: 'local'};\n",
       "        if (window.MathJax && window.MathJax.Hub && window.MathJax.Hub.Config) {window.MathJax.Hub.Config({SVG: {font: \"STIX-Web\"}});}\n",
       "        if (typeof require !== 'undefined') {\n",
       "        require.undef(\"plotly\");\n",
       "        requirejs.config({\n",
       "            paths: {\n",
       "                'plotly': ['https://cdn.plot.ly/plotly-2.27.0.min']\n",
       "            }\n",
       "        });\n",
       "        require(['plotly'], function(Plotly) {\n",
       "            window._Plotly = Plotly;\n",
       "        });\n",
       "        }\n",
       "        </script>\n",
       "        "
      ]
     },
     "metadata": {},
     "output_type": "display_data"
    }
   ],
   "source": [
    "# general\n",
    "import os\n",
    "import glob\n",
    "import datetime as dt\n",
    "import json\n",
    "# data \n",
    "import xarray as xr \n",
    "from sublimpy import utils, variables, tidy, turbulence\n",
    "import numpy as np\n",
    "import pandas as pd\n",
    "from act import discovery, plotting\n",
    "# plotting\n",
    "import matplotlib.pyplot as plt\n",
    "from metpy.cbook import get_test_data\n",
    "from metpy.plots import add_metpy_logo, SkewT\n",
    "import plotly.express as px \n",
    "import plotly.graph_objects as go\n",
    "from plotly.subplots import make_subplots\n",
    "import cufflinks as cf\n",
    "from plotly.offline import download_plotlyjs, init_notebook_mode, plot, iplot\n",
    "# helper tools\n",
    "from scripts.get_sail_data import get_sail_data\n",
    "from scripts.helper_funcs import create_windrose_df, simple_sounding, mean_sounding\n",
    "import scripts.helper_funcs as hf\n",
    "from metpy import calc, units\n",
    "# make plotly work \n",
    "init_notebook_mode(connected=True)\n",
    "cf.go_offline()"
   ]
  },
  {
   "cell_type": "code",
   "execution_count": 3,
   "metadata": {},
   "outputs": [],
   "source": [
    "# Function to load ARM credentials\n",
    "def load_arm_credentials(credential_path):\n",
    "    with open(credential_path, 'r') as f:\n",
    "        credentials = json.load(f)\n",
    "    return credentials\n",
    "# Location of ARM credentials\n",
    "credential_path = '/home/dlhogan/.act_config.json'\n",
    "credentials = load_arm_credentials(credential_path)\n",
    "# api token and username for ARM\n",
    "api_username = credentials.get('username')\n",
    "api_token = credentials.get('token')\n",
    "\n",
    "sail_datastream_dict = {\n",
    "    \"tropoe\":\"guctropoeM1.c1\"\n",
    "}"
   ]
  },
  {
   "cell_type": "code",
   "execution_count": 4,
   "metadata": {},
   "outputs": [],
   "source": [
    "winter_22 = ('20211201','20220401')\n",
    "winter_23 = ('20221201','20230401')"
   ]
  },
  {
   "cell_type": "code",
   "execution_count": 5,
   "metadata": {},
   "outputs": [],
   "source": [
    "# Set the location of the data folder where this data will be stored\n",
    "winter_22_folder = 'winter_21_22'\n",
    "winter_23_folder = 'winter_22_23'\n",
    " # change to location of data folder on your machine\n",
    "storage_directory = f'/storage/dlhogan/synoptic_sublimation/'\n",
    "# create a sail_data folder if it does not exist\n",
    "if not os.path.exists(os.path.join(storage_directory,'sail_data')):\n",
    "    os.makedirs(os.path.join(storage_directory,'sail_data'))\n",
    "# create a folder for the event if it does not exist\n",
    "if not os.path.exists(os.path.join(storage_directory,'sail_data',winter_22_folder)):\n",
    "    os.makedirs(os.path.join(storage_directory,'sail_data',winter_22_folder))\n",
    "# create a folder for the event if it does not exist\n",
    "if not os.path.exists(os.path.join(storage_directory,'sail_data',winter_23_folder)):\n",
    "    os.makedirs(os.path.join(storage_directory,'sail_data',winter_23_folder))\n",
    "    # make a radiosonde folder if it does not exist"
   ]
  },
  {
   "cell_type": "code",
   "execution_count": 6,
   "metadata": {},
   "outputs": [
    {
     "name": "stdout",
     "output_type": "stream",
     "text": [
      "[DOWNLOADING] guctropoeM1.c1.20211220.000502.nc\n"
     ]
    },
    {
     "name": "stderr",
     "output_type": "stream",
     "text": [
      "The variable(s) qc_flag,converged_flag,n_iter,hatchOpen,cbh_flag,obs_flag,arb1,arb2 have integer data type. Consider setting data type to float 'F64' or 'F32' using set_precision.\n"
     ]
    },
    {
     "name": "stdout",
     "output_type": "stream",
     "text": [
      "[DOWNLOADING] guctropoeM1.c1.20211223.000502.nc\n"
     ]
    },
    {
     "name": "stderr",
     "output_type": "stream",
     "text": [
      "The variable(s) qc_flag,converged_flag,n_iter,hatchOpen,cbh_flag,obs_flag,arb1,arb2 have integer data type. Consider setting data type to float 'F64' or 'F32' using set_precision.\n"
     ]
    },
    {
     "name": "stdout",
     "output_type": "stream",
     "text": [
      "[DOWNLOADING] guctropoeM1.c1.20220217.005502.nc\n"
     ]
    },
    {
     "name": "stderr",
     "output_type": "stream",
     "text": [
      "The variable(s) qc_flag,converged_flag,n_iter,hatchOpen,cbh_flag,obs_flag,arb1,arb2 have integer data type. Consider setting data type to float 'F64' or 'F32' using set_precision.\n"
     ]
    },
    {
     "name": "stdout",
     "output_type": "stream",
     "text": [
      "[DOWNLOADING] guctropoeM1.c1.20211221.000502.nc\n"
     ]
    },
    {
     "name": "stderr",
     "output_type": "stream",
     "text": [
      "The variable(s) qc_flag,converged_flag,n_iter,hatchOpen,cbh_flag,obs_flag,arb1,arb2 have integer data type. Consider setting data type to float 'F64' or 'F32' using set_precision.\n"
     ]
    },
    {
     "name": "stdout",
     "output_type": "stream",
     "text": [
      "[DOWNLOADING] guctropoeM1.c1.20220308.001002.nc\n"
     ]
    },
    {
     "name": "stderr",
     "output_type": "stream",
     "text": [
      "The variable(s) qc_flag,converged_flag,n_iter,hatchOpen,cbh_flag,obs_flag,arb1,arb2 have integer data type. Consider setting data type to float 'F64' or 'F32' using set_precision.\n"
     ]
    },
    {
     "name": "stdout",
     "output_type": "stream",
     "text": [
      "[DOWNLOADING] guctropoeM1.c1.20211206.000502.nc\n"
     ]
    },
    {
     "name": "stderr",
     "output_type": "stream",
     "text": [
      "The variable(s) qc_flag,converged_flag,n_iter,hatchOpen,cbh_flag,obs_flag,arb1,arb2 have integer data type. Consider setting data type to float 'F64' or 'F32' using set_precision.\n"
     ]
    },
    {
     "name": "stdout",
     "output_type": "stream",
     "text": [
      "[DOWNLOADING] guctropoeM1.c1.20220319.000502.nc\n"
     ]
    },
    {
     "name": "stderr",
     "output_type": "stream",
     "text": [
      "The variable(s) qc_flag,converged_flag,n_iter,hatchOpen,cbh_flag,obs_flag,arb1,arb2 have integer data type. Consider setting data type to float 'F64' or 'F32' using set_precision.\n"
     ]
    },
    {
     "name": "stdout",
     "output_type": "stream",
     "text": [
      "[DOWNLOADING] guctropoeM1.c1.20220326.000502.nc\n"
     ]
    },
    {
     "name": "stderr",
     "output_type": "stream",
     "text": [
      "The variable(s) qc_flag,converged_flag,n_iter,hatchOpen,cbh_flag,obs_flag,arb1,arb2 have integer data type. Consider setting data type to float 'F64' or 'F32' using set_precision.\n"
     ]
    },
    {
     "name": "stdout",
     "output_type": "stream",
     "text": [
      "[DOWNLOADING] guctropoeM1.c1.20220206.000502.nc\n"
     ]
    },
    {
     "name": "stderr",
     "output_type": "stream",
     "text": [
      "The variable(s) qc_flag,converged_flag,n_iter,hatchOpen,cbh_flag,obs_flag,arb1,arb2 have integer data type. Consider setting data type to float 'F64' or 'F32' using set_precision.\n"
     ]
    },
    {
     "name": "stdout",
     "output_type": "stream",
     "text": [
      "[DOWNLOADING] guctropoeM1.c1.20220214.000502.nc\n"
     ]
    },
    {
     "name": "stderr",
     "output_type": "stream",
     "text": [
      "The variable(s) qc_flag,converged_flag,n_iter,hatchOpen,cbh_flag,obs_flag,arb1,arb2 have integer data type. Consider setting data type to float 'F64' or 'F32' using set_precision.\n"
     ]
    },
    {
     "name": "stdout",
     "output_type": "stream",
     "text": [
      "[DOWNLOADING] guctropoeM1.c1.20220331.000502.nc\n"
     ]
    },
    {
     "name": "stderr",
     "output_type": "stream",
     "text": [
      "The variable(s) qc_flag,converged_flag,n_iter,hatchOpen,cbh_flag,obs_flag,arb1,arb2 have integer data type. Consider setting data type to float 'F64' or 'F32' using set_precision.\n"
     ]
    },
    {
     "name": "stdout",
     "output_type": "stream",
     "text": [
      "[DOWNLOADING] guctropoeM1.c1.20211207.000502.nc\n"
     ]
    },
    {
     "name": "stderr",
     "output_type": "stream",
     "text": [
      "The variable(s) qc_flag,converged_flag,n_iter,hatchOpen,cbh_flag,obs_flag,arb1,arb2 have integer data type. Consider setting data type to float 'F64' or 'F32' using set_precision.\n"
     ]
    },
    {
     "name": "stdout",
     "output_type": "stream",
     "text": [
      "[DOWNLOADING] guctropoeM1.c1.20220316.000502.nc\n"
     ]
    },
    {
     "name": "stderr",
     "output_type": "stream",
     "text": [
      "The variable(s) qc_flag,converged_flag,n_iter,hatchOpen,cbh_flag,obs_flag,arb1,arb2 have integer data type. Consider setting data type to float 'F64' or 'F32' using set_precision.\n"
     ]
    },
    {
     "name": "stdout",
     "output_type": "stream",
     "text": [
      "[DOWNLOADING] guctropoeM1.c1.20211212.000502.nc\n"
     ]
    },
    {
     "name": "stderr",
     "output_type": "stream",
     "text": [
      "The variable(s) qc_flag,converged_flag,n_iter,hatchOpen,cbh_flag,obs_flag,arb1,arb2 have integer data type. Consider setting data type to float 'F64' or 'F32' using set_precision.\n"
     ]
    },
    {
     "name": "stdout",
     "output_type": "stream",
     "text": [
      "[DOWNLOADING] guctropoeM1.c1.20220203.000502.nc\n"
     ]
    },
    {
     "name": "stderr",
     "output_type": "stream",
     "text": [
      "The variable(s) qc_flag,converged_flag,n_iter,hatchOpen,cbh_flag,obs_flag,arb1,arb2 have integer data type. Consider setting data type to float 'F64' or 'F32' using set_precision.\n"
     ]
    },
    {
     "name": "stdout",
     "output_type": "stream",
     "text": [
      "[DOWNLOADING] guctropoeM1.c1.20220216.000502.nc\n"
     ]
    },
    {
     "name": "stderr",
     "output_type": "stream",
     "text": [
      "The variable(s) qc_flag,converged_flag,n_iter,hatchOpen,cbh_flag,obs_flag,arb1,arb2 have integer data type. Consider setting data type to float 'F64' or 'F32' using set_precision.\n"
     ]
    },
    {
     "name": "stdout",
     "output_type": "stream",
     "text": [
      "[DOWNLOADING] guctropoeM1.c1.20211219.000502.nc\n"
     ]
    },
    {
     "name": "stderr",
     "output_type": "stream",
     "text": [
      "The variable(s) qc_flag,converged_flag,n_iter,hatchOpen,cbh_flag,obs_flag,arb1,arb2 have integer data type. Consider setting data type to float 'F64' or 'F32' using set_precision.\n"
     ]
    },
    {
     "name": "stdout",
     "output_type": "stream",
     "text": [
      "[DOWNLOADING] guctropoeM1.c1.20220320.000502.nc\n"
     ]
    },
    {
     "name": "stderr",
     "output_type": "stream",
     "text": [
      "The variable(s) qc_flag,converged_flag,n_iter,hatchOpen,cbh_flag,obs_flag,arb1,arb2 have integer data type. Consider setting data type to float 'F64' or 'F32' using set_precision.\n"
     ]
    },
    {
     "name": "stdout",
     "output_type": "stream",
     "text": [
      "[DOWNLOADING] guctropoeM1.c1.20220202.004502.nc\n"
     ]
    },
    {
     "name": "stderr",
     "output_type": "stream",
     "text": [
      "The variable(s) qc_flag,converged_flag,n_iter,hatchOpen,cbh_flag,obs_flag,arb1,arb2 have integer data type. Consider setting data type to float 'F64' or 'F32' using set_precision.\n"
     ]
    },
    {
     "name": "stdout",
     "output_type": "stream",
     "text": [
      "[DOWNLOADING] guctropoeM1.c1.20211213.000502.nc\n"
     ]
    },
    {
     "name": "stderr",
     "output_type": "stream",
     "text": [
      "The variable(s) qc_flag,converged_flag,n_iter,hatchOpen,cbh_flag,obs_flag,arb1,arb2 have integer data type. Consider setting data type to float 'F64' or 'F32' using set_precision.\n"
     ]
    },
    {
     "name": "stdout",
     "output_type": "stream",
     "text": [
      "[DOWNLOADING] guctropoeM1.c1.20220207.000502.nc\n"
     ]
    },
    {
     "name": "stderr",
     "output_type": "stream",
     "text": [
      "The variable(s) qc_flag,converged_flag,n_iter,hatchOpen,cbh_flag,obs_flag,arb1,arb2 have integer data type. Consider setting data type to float 'F64' or 'F32' using set_precision.\n"
     ]
    },
    {
     "name": "stdout",
     "output_type": "stream",
     "text": [
      "[DOWNLOADING] guctropoeM1.c1.20211215.000502.nc\n"
     ]
    },
    {
     "name": "stderr",
     "output_type": "stream",
     "text": [
      "The variable(s) qc_flag,converged_flag,n_iter,hatchOpen,cbh_flag,obs_flag,arb1,arb2 have integer data type. Consider setting data type to float 'F64' or 'F32' using set_precision.\n"
     ]
    },
    {
     "name": "stdout",
     "output_type": "stream",
     "text": [
      "[DOWNLOADING] guctropoeM1.c1.20220313.001002.nc\n"
     ]
    },
    {
     "name": "stderr",
     "output_type": "stream",
     "text": [
      "The variable(s) qc_flag,converged_flag,n_iter,hatchOpen,cbh_flag,obs_flag,arb1,arb2 have integer data type. Consider setting data type to float 'F64' or 'F32' using set_precision.\n"
     ]
    },
    {
     "name": "stdout",
     "output_type": "stream",
     "text": [
      "[DOWNLOADING] guctropoeM1.c1.20211218.000502.nc\n"
     ]
    },
    {
     "name": "stderr",
     "output_type": "stream",
     "text": [
      "The variable(s) qc_flag,converged_flag,n_iter,hatchOpen,cbh_flag,obs_flag,arb1,arb2 have integer data type. Consider setting data type to float 'F64' or 'F32' using set_precision.\n"
     ]
    },
    {
     "name": "stdout",
     "output_type": "stream",
     "text": [
      "[DOWNLOADING] guctropoeM1.c1.20220322.000502.nc\n"
     ]
    },
    {
     "name": "stderr",
     "output_type": "stream",
     "text": [
      "The variable(s) qc_flag,converged_flag,n_iter,hatchOpen,cbh_flag,obs_flag,arb1,arb2 have integer data type. Consider setting data type to float 'F64' or 'F32' using set_precision.\n"
     ]
    },
    {
     "name": "stdout",
     "output_type": "stream",
     "text": [
      "[DOWNLOADING] guctropoeM1.c1.20211208.000502.nc\n"
     ]
    },
    {
     "name": "stderr",
     "output_type": "stream",
     "text": [
      "The variable(s) qc_flag,converged_flag,n_iter,hatchOpen,cbh_flag,obs_flag,arb1,arb2 have integer data type. Consider setting data type to float 'F64' or 'F32' using set_precision.\n"
     ]
    },
    {
     "name": "stdout",
     "output_type": "stream",
     "text": [
      "[DOWNLOADING] guctropoeM1.c1.20220204.001502.nc\n"
     ]
    },
    {
     "name": "stderr",
     "output_type": "stream",
     "text": [
      "The variable(s) qc_flag,converged_flag,n_iter,hatchOpen,cbh_flag,obs_flag,arb1,arb2 have integer data type. Consider setting data type to float 'F64' or 'F32' using set_precision.\n"
     ]
    },
    {
     "name": "stdout",
     "output_type": "stream",
     "text": [
      "[DOWNLOADING] guctropoeM1.c1.20220126.000502.nc\n"
     ]
    },
    {
     "name": "stderr",
     "output_type": "stream",
     "text": [
      "The variable(s) qc_flag,converged_flag,n_iter,hatchOpen,cbh_flag,obs_flag,arb1,arb2 have integer data type. Consider setting data type to float 'F64' or 'F32' using set_precision.\n"
     ]
    },
    {
     "name": "stdout",
     "output_type": "stream",
     "text": [
      "[DOWNLOADING] guctropoeM1.c1.20220208.000502.nc\n"
     ]
    },
    {
     "name": "stderr",
     "output_type": "stream",
     "text": [
      "The variable(s) qc_flag,converged_flag,n_iter,hatchOpen,cbh_flag,obs_flag,arb1,arb2 have integer data type. Consider setting data type to float 'F64' or 'F32' using set_precision.\n"
     ]
    },
    {
     "name": "stdout",
     "output_type": "stream",
     "text": [
      "[DOWNLOADING] guctropoeM1.c1.20220127.000502.nc\n"
     ]
    },
    {
     "name": "stderr",
     "output_type": "stream",
     "text": [
      "The variable(s) qc_flag,converged_flag,n_iter,hatchOpen,cbh_flag,obs_flag,arb1,arb2 have integer data type. Consider setting data type to float 'F64' or 'F32' using set_precision.\n"
     ]
    },
    {
     "name": "stdout",
     "output_type": "stream",
     "text": [
      "[DOWNLOADING] guctropoeM1.c1.20220311.001002.nc\n"
     ]
    },
    {
     "name": "stderr",
     "output_type": "stream",
     "text": [
      "The variable(s) qc_flag,converged_flag,n_iter,hatchOpen,cbh_flag,obs_flag,arb1,arb2 have integer data type. Consider setting data type to float 'F64' or 'F32' using set_precision.\n"
     ]
    },
    {
     "name": "stdout",
     "output_type": "stream",
     "text": [
      "[DOWNLOADING] guctropoeM1.c1.20220307.162502.nc\n"
     ]
    },
    {
     "name": "stderr",
     "output_type": "stream",
     "text": [
      "The variable(s) qc_flag,converged_flag,n_iter,hatchOpen,cbh_flag,obs_flag,arb1,arb2 have integer data type. Consider setting data type to float 'F64' or 'F32' using set_precision.\n"
     ]
    },
    {
     "name": "stdout",
     "output_type": "stream",
     "text": [
      "[DOWNLOADING] guctropoeM1.c1.20220315.000502.nc\n"
     ]
    },
    {
     "name": "stderr",
     "output_type": "stream",
     "text": [
      "The variable(s) qc_flag,converged_flag,n_iter,hatchOpen,cbh_flag,obs_flag,arb1,arb2 have integer data type. Consider setting data type to float 'F64' or 'F32' using set_precision.\n"
     ]
    },
    {
     "name": "stdout",
     "output_type": "stream",
     "text": [
      "[DOWNLOADING] guctropoeM1.c1.20220125.000502.nc\n"
     ]
    },
    {
     "name": "stderr",
     "output_type": "stream",
     "text": [
      "The variable(s) qc_flag,converged_flag,n_iter,hatchOpen,cbh_flag,obs_flag,arb1,arb2 have integer data type. Consider setting data type to float 'F64' or 'F32' using set_precision.\n"
     ]
    },
    {
     "name": "stdout",
     "output_type": "stream",
     "text": [
      "[DOWNLOADING] guctropoeM1.c1.20220209.000502.nc\n"
     ]
    },
    {
     "name": "stderr",
     "output_type": "stream",
     "text": [
      "The variable(s) qc_flag,converged_flag,n_iter,hatchOpen,cbh_flag,obs_flag,arb1,arb2 have integer data type. Consider setting data type to float 'F64' or 'F32' using set_precision.\n"
     ]
    },
    {
     "name": "stdout",
     "output_type": "stream",
     "text": [
      "[DOWNLOADING] guctropoeM1.c1.20211217.000502.nc\n"
     ]
    },
    {
     "name": "stderr",
     "output_type": "stream",
     "text": [
      "The variable(s) qc_flag,converged_flag,n_iter,hatchOpen,cbh_flag,obs_flag,arb1,arb2 have integer data type. Consider setting data type to float 'F64' or 'F32' using set_precision.\n"
     ]
    },
    {
     "name": "stdout",
     "output_type": "stream",
     "text": [
      "[DOWNLOADING] guctropoeM1.c1.20211204.000502.nc\n"
     ]
    },
    {
     "name": "stderr",
     "output_type": "stream",
     "text": [
      "The variable(s) qc_flag,converged_flag,n_iter,hatchOpen,cbh_flag,obs_flag,arb1,arb2 have integer data type. Consider setting data type to float 'F64' or 'F32' using set_precision.\n"
     ]
    },
    {
     "name": "stdout",
     "output_type": "stream",
     "text": [
      "[DOWNLOADING] guctropoeM1.c1.20220205.003002.nc\n"
     ]
    },
    {
     "name": "stderr",
     "output_type": "stream",
     "text": [
      "The variable(s) qc_flag,converged_flag,n_iter,hatchOpen,cbh_flag,obs_flag,arb1,arb2 have integer data type. Consider setting data type to float 'F64' or 'F32' using set_precision.\n"
     ]
    },
    {
     "name": "stdout",
     "output_type": "stream",
     "text": [
      "[DOWNLOADING] guctropoeM1.c1.20220314.000502.nc\n"
     ]
    },
    {
     "name": "stderr",
     "output_type": "stream",
     "text": [
      "The variable(s) qc_flag,converged_flag,n_iter,hatchOpen,cbh_flag,obs_flag,arb1,arb2 have integer data type. Consider setting data type to float 'F64' or 'F32' using set_precision.\n"
     ]
    },
    {
     "name": "stdout",
     "output_type": "stream",
     "text": [
      "[DOWNLOADING] guctropoeM1.c1.20220131.000502.nc\n"
     ]
    },
    {
     "name": "stderr",
     "output_type": "stream",
     "text": [
      "The variable(s) qc_flag,converged_flag,n_iter,hatchOpen,cbh_flag,obs_flag,arb1,arb2 have integer data type. Consider setting data type to float 'F64' or 'F32' using set_precision.\n"
     ]
    },
    {
     "name": "stdout",
     "output_type": "stream",
     "text": [
      "[DOWNLOADING] guctropoeM1.c1.20220310.000502.nc\n"
     ]
    },
    {
     "name": "stderr",
     "output_type": "stream",
     "text": [
      "The variable(s) qc_flag,converged_flag,n_iter,hatchOpen,cbh_flag,obs_flag,arb1,arb2 have integer data type. Consider setting data type to float 'F64' or 'F32' using set_precision.\n"
     ]
    },
    {
     "name": "stdout",
     "output_type": "stream",
     "text": [
      "[DOWNLOADING] guctropoeM1.c1.20211222.000502.nc\n"
     ]
    },
    {
     "name": "stderr",
     "output_type": "stream",
     "text": [
      "The variable(s) qc_flag,converged_flag,n_iter,hatchOpen,cbh_flag,obs_flag,arb1,arb2 have integer data type. Consider setting data type to float 'F64' or 'F32' using set_precision.\n"
     ]
    },
    {
     "name": "stdout",
     "output_type": "stream",
     "text": [
      "[DOWNLOADING] guctropoeM1.c1.20220321.001002.nc\n"
     ]
    },
    {
     "name": "stderr",
     "output_type": "stream",
     "text": [
      "The variable(s) qc_flag,converged_flag,n_iter,hatchOpen,cbh_flag,obs_flag,arb1,arb2 have integer data type. Consider setting data type to float 'F64' or 'F32' using set_precision.\n"
     ]
    },
    {
     "name": "stdout",
     "output_type": "stream",
     "text": [
      "[DOWNLOADING] guctropoeM1.c1.20211210.031502.nc\n"
     ]
    },
    {
     "name": "stderr",
     "output_type": "stream",
     "text": [
      "The variable(s) qc_flag,converged_flag,n_iter,hatchOpen,cbh_flag,obs_flag,arb1,arb2 have integer data type. Consider setting data type to float 'F64' or 'F32' using set_precision.\n"
     ]
    },
    {
     "name": "stdout",
     "output_type": "stream",
     "text": [
      "[DOWNLOADING] guctropoeM1.c1.20220123.000502.nc\n"
     ]
    },
    {
     "name": "stderr",
     "output_type": "stream",
     "text": [
      "The variable(s) qc_flag,converged_flag,n_iter,hatchOpen,cbh_flag,obs_flag,arb1,arb2 have integer data type. Consider setting data type to float 'F64' or 'F32' using set_precision.\n"
     ]
    },
    {
     "name": "stdout",
     "output_type": "stream",
     "text": [
      "[DOWNLOADING] guctropoeM1.c1.20220201.000502.nc\n"
     ]
    },
    {
     "name": "stderr",
     "output_type": "stream",
     "text": [
      "The variable(s) qc_flag,converged_flag,n_iter,hatchOpen,cbh_flag,obs_flag,arb1,arb2 have integer data type. Consider setting data type to float 'F64' or 'F32' using set_precision.\n"
     ]
    },
    {
     "name": "stdout",
     "output_type": "stream",
     "text": [
      "[DOWNLOADING] guctropoeM1.c1.20220317.004502.nc\n"
     ]
    },
    {
     "name": "stderr",
     "output_type": "stream",
     "text": [
      "The variable(s) qc_flag,converged_flag,n_iter,hatchOpen,cbh_flag,obs_flag,arb1,arb2 have integer data type. Consider setting data type to float 'F64' or 'F32' using set_precision.\n"
     ]
    },
    {
     "name": "stdout",
     "output_type": "stream",
     "text": [
      "[DOWNLOADING] guctropoeM1.c1.20220309.001002.nc\n"
     ]
    },
    {
     "name": "stderr",
     "output_type": "stream",
     "text": [
      "The variable(s) qc_flag,converged_flag,n_iter,hatchOpen,cbh_flag,obs_flag,arb1,arb2 have integer data type. Consider setting data type to float 'F64' or 'F32' using set_precision.\n"
     ]
    },
    {
     "name": "stdout",
     "output_type": "stream",
     "text": [
      "[DOWNLOADING] guctropoeM1.c1.20211214.000502.nc\n"
     ]
    },
    {
     "name": "stderr",
     "output_type": "stream",
     "text": [
      "The variable(s) qc_flag,converged_flag,n_iter,hatchOpen,cbh_flag,obs_flag,arb1,arb2 have integer data type. Consider setting data type to float 'F64' or 'F32' using set_precision.\n"
     ]
    },
    {
     "name": "stdout",
     "output_type": "stream",
     "text": [
      "[DOWNLOADING] guctropoeM1.c1.20220211.000502.nc\n"
     ]
    },
    {
     "name": "stderr",
     "output_type": "stream",
     "text": [
      "The variable(s) qc_flag,converged_flag,n_iter,hatchOpen,cbh_flag,obs_flag,arb1,arb2 have integer data type. Consider setting data type to float 'F64' or 'F32' using set_precision.\n"
     ]
    },
    {
     "name": "stdout",
     "output_type": "stream",
     "text": [
      "[DOWNLOADING] guctropoeM1.c1.20220130.000502.nc\n"
     ]
    },
    {
     "name": "stderr",
     "output_type": "stream",
     "text": [
      "The variable(s) qc_flag,converged_flag,n_iter,hatchOpen,cbh_flag,obs_flag,arb1,arb2 have integer data type. Consider setting data type to float 'F64' or 'F32' using set_precision.\n"
     ]
    },
    {
     "name": "stdout",
     "output_type": "stream",
     "text": [
      "[DOWNLOADING] guctropoeM1.c1.20220330.000502.nc\n"
     ]
    },
    {
     "name": "stderr",
     "output_type": "stream",
     "text": [
      "The variable(s) qc_flag,converged_flag,n_iter,hatchOpen,cbh_flag,obs_flag,arb1,arb2 have integer data type. Consider setting data type to float 'F64' or 'F32' using set_precision.\n"
     ]
    },
    {
     "name": "stdout",
     "output_type": "stream",
     "text": [
      "[DOWNLOADING] guctropoeM1.c1.20220124.000502.nc\n"
     ]
    },
    {
     "name": "stderr",
     "output_type": "stream",
     "text": [
      "The variable(s) qc_flag,converged_flag,n_iter,hatchOpen,cbh_flag,obs_flag,arb1,arb2 have integer data type. Consider setting data type to float 'F64' or 'F32' using set_precision.\n"
     ]
    },
    {
     "name": "stdout",
     "output_type": "stream",
     "text": [
      "[DOWNLOADING] guctropoeM1.c1.20211224.100502.nc\n"
     ]
    },
    {
     "name": "stderr",
     "output_type": "stream",
     "text": [
      "The variable(s) qc_flag,converged_flag,n_iter,hatchOpen,cbh_flag,obs_flag,arb1,arb2 have integer data type. Consider setting data type to float 'F64' or 'F32' using set_precision.\n"
     ]
    },
    {
     "name": "stdout",
     "output_type": "stream",
     "text": [
      "[DOWNLOADING] guctropoeM1.c1.20220329.000502.nc\n"
     ]
    },
    {
     "name": "stderr",
     "output_type": "stream",
     "text": [
      "The variable(s) qc_flag,converged_flag,n_iter,hatchOpen,cbh_flag,obs_flag,arb1,arb2 have integer data type. Consider setting data type to float 'F64' or 'F32' using set_precision.\n"
     ]
    },
    {
     "name": "stdout",
     "output_type": "stream",
     "text": [
      "[DOWNLOADING] guctropoeM1.c1.20220215.000502.nc\n"
     ]
    },
    {
     "name": "stderr",
     "output_type": "stream",
     "text": [
      "The variable(s) qc_flag,converged_flag,n_iter,hatchOpen,cbh_flag,obs_flag,arb1,arb2 have integer data type. Consider setting data type to float 'F64' or 'F32' using set_precision.\n"
     ]
    },
    {
     "name": "stdout",
     "output_type": "stream",
     "text": [
      "[DOWNLOADING] guctropoeM1.c1.20211202.000502.nc\n"
     ]
    },
    {
     "name": "stderr",
     "output_type": "stream",
     "text": [
      "The variable(s) qc_flag,converged_flag,n_iter,hatchOpen,cbh_flag,obs_flag,arb1,arb2 have integer data type. Consider setting data type to float 'F64' or 'F32' using set_precision.\n"
     ]
    },
    {
     "name": "stdout",
     "output_type": "stream",
     "text": [
      "[DOWNLOADING] guctropoeM1.c1.20211205.000502.nc\n"
     ]
    },
    {
     "name": "stderr",
     "output_type": "stream",
     "text": [
      "The variable(s) qc_flag,converged_flag,n_iter,hatchOpen,cbh_flag,obs_flag,arb1,arb2 have integer data type. Consider setting data type to float 'F64' or 'F32' using set_precision.\n"
     ]
    },
    {
     "name": "stdout",
     "output_type": "stream",
     "text": [
      "[DOWNLOADING] guctropoeM1.c1.20220328.000502.nc\n"
     ]
    },
    {
     "name": "stderr",
     "output_type": "stream",
     "text": [
      "The variable(s) qc_flag,converged_flag,n_iter,hatchOpen,cbh_flag,obs_flag,arb1,arb2 have integer data type. Consider setting data type to float 'F64' or 'F32' using set_precision.\n"
     ]
    },
    {
     "name": "stdout",
     "output_type": "stream",
     "text": [
      "[DOWNLOADING] guctropoeM1.c1.20220213.000502.nc\n"
     ]
    },
    {
     "name": "stderr",
     "output_type": "stream",
     "text": [
      "The variable(s) qc_flag,converged_flag,n_iter,hatchOpen,cbh_flag,obs_flag,arb1,arb2 have integer data type. Consider setting data type to float 'F64' or 'F32' using set_precision.\n"
     ]
    },
    {
     "name": "stdout",
     "output_type": "stream",
     "text": [
      "[DOWNLOADING] guctropoeM1.c1.20220212.000502.nc\n"
     ]
    },
    {
     "name": "stderr",
     "output_type": "stream",
     "text": [
      "The variable(s) qc_flag,converged_flag,n_iter,hatchOpen,cbh_flag,obs_flag,arb1,arb2 have integer data type. Consider setting data type to float 'F64' or 'F32' using set_precision.\n"
     ]
    },
    {
     "name": "stdout",
     "output_type": "stream",
     "text": [
      "[DOWNLOADING] guctropoeM1.c1.20211216.034502.nc\n"
     ]
    },
    {
     "name": "stderr",
     "output_type": "stream",
     "text": [
      "The variable(s) qc_flag,converged_flag,n_iter,hatchOpen,cbh_flag,obs_flag,arb1,arb2 have integer data type. Consider setting data type to float 'F64' or 'F32' using set_precision.\n"
     ]
    },
    {
     "name": "stdout",
     "output_type": "stream",
     "text": [
      "[DOWNLOADING] guctropoeM1.c1.20220303.184002.nc\n"
     ]
    },
    {
     "name": "stderr",
     "output_type": "stream",
     "text": [
      "The variable(s) qc_flag,converged_flag,n_iter,hatchOpen,cbh_flag,obs_flag,arb1,arb2 have integer data type. Consider setting data type to float 'F64' or 'F32' using set_precision.\n"
     ]
    },
    {
     "name": "stdout",
     "output_type": "stream",
     "text": [
      "[DOWNLOADING] guctropoeM1.c1.20211203.000502.nc\n"
     ]
    },
    {
     "name": "stderr",
     "output_type": "stream",
     "text": [
      "The variable(s) qc_flag,converged_flag,n_iter,hatchOpen,cbh_flag,obs_flag,arb1,arb2 have integer data type. Consider setting data type to float 'F64' or 'F32' using set_precision.\n"
     ]
    },
    {
     "name": "stdout",
     "output_type": "stream",
     "text": [
      "[DOWNLOADING] guctropoeM1.c1.20211209.073502.nc\n"
     ]
    },
    {
     "name": "stderr",
     "output_type": "stream",
     "text": [
      "The variable(s) qc_flag,converged_flag,n_iter,hatchOpen,cbh_flag,obs_flag,arb1,arb2 have integer data type. Consider setting data type to float 'F64' or 'F32' using set_precision.\n"
     ]
    },
    {
     "name": "stdout",
     "output_type": "stream",
     "text": [
      "[DOWNLOADING] guctropoeM1.c1.20220312.000502.nc\n"
     ]
    },
    {
     "name": "stderr",
     "output_type": "stream",
     "text": [
      "The variable(s) qc_flag,converged_flag,n_iter,hatchOpen,cbh_flag,obs_flag,arb1,arb2 have integer data type. Consider setting data type to float 'F64' or 'F32' using set_precision.\n"
     ]
    },
    {
     "name": "stdout",
     "output_type": "stream",
     "text": [
      "[DOWNLOADING] guctropoeM1.c1.20220325.000502.nc\n"
     ]
    },
    {
     "name": "stderr",
     "output_type": "stream",
     "text": [
      "The variable(s) qc_flag,converged_flag,n_iter,hatchOpen,cbh_flag,obs_flag,arb1,arb2 have integer data type. Consider setting data type to float 'F64' or 'F32' using set_precision.\n"
     ]
    },
    {
     "name": "stdout",
     "output_type": "stream",
     "text": [
      "[DOWNLOADING] guctropoeM1.c1.20220304.001002.nc\n"
     ]
    },
    {
     "name": "stderr",
     "output_type": "stream",
     "text": [
      "The variable(s) qc_flag,converged_flag,n_iter,hatchOpen,cbh_flag,obs_flag,arb1,arb2 have integer data type. Consider setting data type to float 'F64' or 'F32' using set_precision.\n"
     ]
    },
    {
     "name": "stdout",
     "output_type": "stream",
     "text": [
      "[DOWNLOADING] guctropoeM1.c1.20220128.000502.nc\n"
     ]
    },
    {
     "name": "stderr",
     "output_type": "stream",
     "text": [
      "The variable(s) qc_flag,converged_flag,n_iter,hatchOpen,cbh_flag,obs_flag,arb1,arb2 have integer data type. Consider setting data type to float 'F64' or 'F32' using set_precision.\n"
     ]
    },
    {
     "name": "stdout",
     "output_type": "stream",
     "text": [
      "[DOWNLOADING] guctropoeM1.c1.20211211.001002.nc\n"
     ]
    },
    {
     "name": "stderr",
     "output_type": "stream",
     "text": [
      "The variable(s) qc_flag,converged_flag,n_iter,hatchOpen,cbh_flag,obs_flag,arb1,arb2 have integer data type. Consider setting data type to float 'F64' or 'F32' using set_precision.\n"
     ]
    },
    {
     "name": "stdout",
     "output_type": "stream",
     "text": [
      "[DOWNLOADING] guctropoeM1.c1.20220318.000502.nc\n"
     ]
    },
    {
     "name": "stderr",
     "output_type": "stream",
     "text": [
      "The variable(s) qc_flag,converged_flag,n_iter,hatchOpen,cbh_flag,obs_flag,arb1,arb2 have integer data type. Consider setting data type to float 'F64' or 'F32' using set_precision.\n"
     ]
    },
    {
     "name": "stdout",
     "output_type": "stream",
     "text": [
      "[DOWNLOADING] guctropoeM1.c1.20220129.000502.nc\n"
     ]
    },
    {
     "name": "stderr",
     "output_type": "stream",
     "text": [
      "The variable(s) qc_flag,converged_flag,n_iter,hatchOpen,cbh_flag,obs_flag,arb1,arb2 have integer data type. Consider setting data type to float 'F64' or 'F32' using set_precision.\n"
     ]
    },
    {
     "name": "stdout",
     "output_type": "stream",
     "text": [
      "[DOWNLOADING] guctropoeM1.c1.20220324.000502.nc\n"
     ]
    },
    {
     "name": "stderr",
     "output_type": "stream",
     "text": [
      "The variable(s) qc_flag,converged_flag,n_iter,hatchOpen,cbh_flag,obs_flag,arb1,arb2 have integer data type. Consider setting data type to float 'F64' or 'F32' using set_precision.\n"
     ]
    },
    {
     "name": "stdout",
     "output_type": "stream",
     "text": [
      "[DOWNLOADING] guctropoeM1.c1.20220210.000502.nc\n"
     ]
    },
    {
     "name": "stderr",
     "output_type": "stream",
     "text": [
      "The variable(s) qc_flag,converged_flag,n_iter,hatchOpen,cbh_flag,obs_flag,arb1,arb2 have integer data type. Consider setting data type to float 'F64' or 'F32' using set_precision.\n"
     ]
    },
    {
     "name": "stdout",
     "output_type": "stream",
     "text": [
      "[DOWNLOADING] guctropoeM1.c1.20220218.000502.nc\n"
     ]
    },
    {
     "name": "stderr",
     "output_type": "stream",
     "text": [
      "The variable(s) qc_flag,converged_flag,n_iter,hatchOpen,cbh_flag,obs_flag,arb1,arb2 have integer data type. Consider setting data type to float 'F64' or 'F32' using set_precision.\n"
     ]
    },
    {
     "name": "stdout",
     "output_type": "stream",
     "text": [
      "[DOWNLOADING] guctropoeM1.c1.20220327.000502.nc\n"
     ]
    },
    {
     "name": "stderr",
     "output_type": "stream",
     "text": [
      "The variable(s) qc_flag,converged_flag,n_iter,hatchOpen,cbh_flag,obs_flag,arb1,arb2 have integer data type. Consider setting data type to float 'F64' or 'F32' using set_precision.\n"
     ]
    },
    {
     "name": "stdout",
     "output_type": "stream",
     "text": [
      "[DOWNLOADING] guctropoeM1.c1.20220323.002502.nc\n"
     ]
    },
    {
     "name": "stderr",
     "output_type": "stream",
     "text": [
      "The variable(s) qc_flag,converged_flag,n_iter,hatchOpen,cbh_flag,obs_flag,arb1,arb2 have integer data type. Consider setting data type to float 'F64' or 'F32' using set_precision.\n"
     ]
    }
   ],
   "source": [
    "# load in the winter 22 data\n",
    "sail_winter_22_folder = os.path.join(storage_directory,'sail_data',winter_22_folder)\n",
    "# create empty data dictionary\n",
    "w22_data_loc_dict = {}\n",
    "# Iterate through the dictionary and pull the data for each datastream\n",
    "for k,v in sail_datastream_dict.items():\n",
    "\n",
    "    if (os.path.exists(f'{sail_winter_22_folder}/{k}_{winter_22[0]}_{winter_22[1]}.nc')): \n",
    "        print(f'{k}_{winter_22[0]}_{winter_22[1]}.nc already exists')\n",
    "        print('-------------------')\n",
    "        # add the filename to the dictionary which can be used if we want to load the data\n",
    "        w22_data_loc_dict[k] = os.path.join(sail_winter_22_folder,f'{k}_{winter_22[0]}_{winter_22[1]}.nc')\n",
    "        continue\n",
    "    else:\n",
    "        # explicitly download radiosonde data because they are a lot easier to process and think about when in individual files\n",
    "        ds = get_sail_data(api_username,\n",
    "                        api_token,\n",
    "                        v,\n",
    "                        startdate=winter_22[0],\n",
    "                        enddate=winter_22[1])\n",
    "        ds.to_netcdf(f'{sail_winter_22_folder}/{k}_{winter_22[0]}_{winter_22[1]}.nc')\n",
    "        w22_data_loc_dict[k] = os.path.join(sail_winter_22_folder,f'{k}_{winter_22[0]}_{winter_22[1]}.nc')"
   ]
  },
  {
   "cell_type": "code",
   "execution_count": 7,
   "metadata": {},
   "outputs": [
    {
     "name": "stdout",
     "output_type": "stream",
     "text": [
      "[DOWNLOADING] guctropoeM1.c1.20230315.000502.nc\n"
     ]
    },
    {
     "name": "stderr",
     "output_type": "stream",
     "text": [
      "The variable(s) qc_flag,converged_flag,n_iter,hatchOpen,cbh_flag,obs_flag,arb1,arb2 have integer data type. Consider setting data type to float 'F64' or 'F32' using set_precision.\n"
     ]
    },
    {
     "name": "stdout",
     "output_type": "stream",
     "text": [
      "[DOWNLOADING] guctropoeM1.c1.20230311.082502.nc\n"
     ]
    },
    {
     "name": "stderr",
     "output_type": "stream",
     "text": [
      "The variable(s) qc_flag,converged_flag,n_iter,hatchOpen,cbh_flag,obs_flag,arb1,arb2 have integer data type. Consider setting data type to float 'F64' or 'F32' using set_precision.\n"
     ]
    },
    {
     "name": "stdout",
     "output_type": "stream",
     "text": [
      "[DOWNLOADING] guctropoeM1.c1.20221203.000502.nc\n"
     ]
    },
    {
     "name": "stderr",
     "output_type": "stream",
     "text": [
      "The variable(s) qc_flag,converged_flag,n_iter,hatchOpen,cbh_flag,obs_flag,arb1,arb2 have integer data type. Consider setting data type to float 'F64' or 'F32' using set_precision.\n"
     ]
    },
    {
     "name": "stdout",
     "output_type": "stream",
     "text": [
      "[DOWNLOADING] guctropoeM1.c1.20221204.000502.nc\n"
     ]
    },
    {
     "name": "stderr",
     "output_type": "stream",
     "text": [
      "The variable(s) qc_flag,converged_flag,n_iter,hatchOpen,cbh_flag,obs_flag,arb1,arb2 have integer data type. Consider setting data type to float 'F64' or 'F32' using set_precision.\n"
     ]
    },
    {
     "name": "stdout",
     "output_type": "stream",
     "text": [
      "[DOWNLOADING] guctropoeM1.c1.20230129.003502.nc\n"
     ]
    },
    {
     "name": "stderr",
     "output_type": "stream",
     "text": [
      "The variable(s) qc_flag,converged_flag,n_iter,hatchOpen,cbh_flag,obs_flag,arb1,arb2 have integer data type. Consider setting data type to float 'F64' or 'F32' using set_precision.\n"
     ]
    },
    {
     "name": "stdout",
     "output_type": "stream",
     "text": [
      "[DOWNLOADING] guctropoeM1.c1.20221228.181002.nc\n"
     ]
    },
    {
     "name": "stderr",
     "output_type": "stream",
     "text": [
      "The variable(s) qc_flag,converged_flag,n_iter,hatchOpen,cbh_flag,obs_flag,arb1,arb2 have integer data type. Consider setting data type to float 'F64' or 'F32' using set_precision.\n"
     ]
    },
    {
     "name": "stdout",
     "output_type": "stream",
     "text": [
      "[DOWNLOADING] guctropoeM1.c1.20230130.000502.nc\n"
     ]
    },
    {
     "name": "stderr",
     "output_type": "stream",
     "text": [
      "The variable(s) qc_flag,converged_flag,n_iter,hatchOpen,cbh_flag,obs_flag,arb1,arb2 have integer data type. Consider setting data type to float 'F64' or 'F32' using set_precision.\n"
     ]
    },
    {
     "name": "stdout",
     "output_type": "stream",
     "text": [
      "[DOWNLOADING] guctropoeM1.c1.20230101.132502.nc\n"
     ]
    },
    {
     "name": "stderr",
     "output_type": "stream",
     "text": [
      "The variable(s) qc_flag,converged_flag,n_iter,hatchOpen,cbh_flag,obs_flag,arb1,arb2 have integer data type. Consider setting data type to float 'F64' or 'F32' using set_precision.\n"
     ]
    },
    {
     "name": "stdout",
     "output_type": "stream",
     "text": [
      "[DOWNLOADING] guctropoeM1.c1.20230216.004002.nc\n"
     ]
    },
    {
     "name": "stderr",
     "output_type": "stream",
     "text": [
      "The variable(s) qc_flag,converged_flag,n_iter,hatchOpen,cbh_flag,obs_flag,arb1,arb2 have integer data type. Consider setting data type to float 'F64' or 'F32' using set_precision.\n"
     ]
    },
    {
     "name": "stdout",
     "output_type": "stream",
     "text": [
      "[DOWNLOADING] guctropoeM1.c1.20230126.000502.nc\n"
     ]
    },
    {
     "name": "stderr",
     "output_type": "stream",
     "text": [
      "The variable(s) qc_flag,converged_flag,n_iter,hatchOpen,cbh_flag,obs_flag,arb1,arb2 have integer data type. Consider setting data type to float 'F64' or 'F32' using set_precision.\n"
     ]
    },
    {
     "name": "stdout",
     "output_type": "stream",
     "text": [
      "[DOWNLOADING] guctropoeM1.c1.20221206.000502.nc\n"
     ]
    },
    {
     "name": "stderr",
     "output_type": "stream",
     "text": [
      "The variable(s) qc_flag,converged_flag,n_iter,hatchOpen,cbh_flag,obs_flag,arb1,arb2 have integer data type. Consider setting data type to float 'F64' or 'F32' using set_precision.\n"
     ]
    },
    {
     "name": "stdout",
     "output_type": "stream",
     "text": [
      "[DOWNLOADING] guctropoeM1.c1.20221207.001002.nc\n"
     ]
    },
    {
     "name": "stderr",
     "output_type": "stream",
     "text": [
      "The variable(s) qc_flag,converged_flag,n_iter,hatchOpen,cbh_flag,obs_flag,arb1,arb2 have integer data type. Consider setting data type to float 'F64' or 'F32' using set_precision.\n"
     ]
    },
    {
     "name": "stdout",
     "output_type": "stream",
     "text": [
      "[DOWNLOADING] guctropoeM1.c1.20230227.003002.nc\n"
     ]
    },
    {
     "name": "stderr",
     "output_type": "stream",
     "text": [
      "The variable(s) qc_flag,converged_flag,n_iter,hatchOpen,cbh_flag,obs_flag,arb1,arb2 have integer data type. Consider setting data type to float 'F64' or 'F32' using set_precision.\n"
     ]
    },
    {
     "name": "stdout",
     "output_type": "stream",
     "text": [
      "[DOWNLOADING] guctropoeM1.c1.20230301.000502.nc\n"
     ]
    },
    {
     "name": "stderr",
     "output_type": "stream",
     "text": [
      "The variable(s) qc_flag,converged_flag,n_iter,hatchOpen,cbh_flag,obs_flag,arb1,arb2 have integer data type. Consider setting data type to float 'F64' or 'F32' using set_precision.\n"
     ]
    },
    {
     "name": "stdout",
     "output_type": "stream",
     "text": [
      "[DOWNLOADING] guctropoeM1.c1.20230207.000502.nc\n"
     ]
    },
    {
     "name": "stderr",
     "output_type": "stream",
     "text": [
      "The variable(s) qc_flag,converged_flag,n_iter,hatchOpen,cbh_flag,obs_flag,arb1,arb2 have integer data type. Consider setting data type to float 'F64' or 'F32' using set_precision.\n"
     ]
    },
    {
     "name": "stdout",
     "output_type": "stream",
     "text": [
      "[DOWNLOADING] guctropoeM1.c1.20230128.045502.nc\n"
     ]
    },
    {
     "name": "stderr",
     "output_type": "stream",
     "text": [
      "The variable(s) qc_flag,converged_flag,n_iter,hatchOpen,cbh_flag,obs_flag,arb1,arb2 have integer data type. Consider setting data type to float 'F64' or 'F32' using set_precision.\n"
     ]
    },
    {
     "name": "stdout",
     "output_type": "stream",
     "text": [
      "[DOWNLOADING] guctropoeM1.c1.20230107.001002.nc\n"
     ]
    },
    {
     "name": "stderr",
     "output_type": "stream",
     "text": [
      "The variable(s) qc_flag,converged_flag,n_iter,hatchOpen,cbh_flag,obs_flag,arb1,arb2 have integer data type. Consider setting data type to float 'F64' or 'F32' using set_precision.\n"
     ]
    },
    {
     "name": "stdout",
     "output_type": "stream",
     "text": [
      "[DOWNLOADING] guctropoeM1.c1.20221222.012502.nc\n"
     ]
    },
    {
     "name": "stderr",
     "output_type": "stream",
     "text": [
      "The variable(s) qc_flag,converged_flag,n_iter,hatchOpen,cbh_flag,obs_flag,arb1,arb2 have integer data type. Consider setting data type to float 'F64' or 'F32' using set_precision.\n"
     ]
    },
    {
     "name": "stdout",
     "output_type": "stream",
     "text": [
      "[DOWNLOADING] guctropoeM1.c1.20230123.001002.nc\n"
     ]
    },
    {
     "name": "stderr",
     "output_type": "stream",
     "text": [
      "The variable(s) qc_flag,converged_flag,n_iter,hatchOpen,cbh_flag,obs_flag,arb1,arb2 have integer data type. Consider setting data type to float 'F64' or 'F32' using set_precision.\n"
     ]
    },
    {
     "name": "stdout",
     "output_type": "stream",
     "text": [
      "[DOWNLOADING] guctropoeM1.c1.20230109.000502.nc\n"
     ]
    },
    {
     "name": "stderr",
     "output_type": "stream",
     "text": [
      "The variable(s) qc_flag,converged_flag,n_iter,hatchOpen,cbh_flag,obs_flag,arb1,arb2 have integer data type. Consider setting data type to float 'F64' or 'F32' using set_precision.\n"
     ]
    },
    {
     "name": "stdout",
     "output_type": "stream",
     "text": [
      "[DOWNLOADING] guctropoeM1.c1.20221211.000502.nc\n"
     ]
    },
    {
     "name": "stderr",
     "output_type": "stream",
     "text": [
      "The variable(s) qc_flag,converged_flag,n_iter,hatchOpen,cbh_flag,obs_flag,arb1,arb2 have integer data type. Consider setting data type to float 'F64' or 'F32' using set_precision.\n"
     ]
    },
    {
     "name": "stdout",
     "output_type": "stream",
     "text": [
      "[DOWNLOADING] guctropoeM1.c1.20221227.000502.nc\n"
     ]
    },
    {
     "name": "stderr",
     "output_type": "stream",
     "text": [
      "The variable(s) qc_flag,converged_flag,n_iter,hatchOpen,cbh_flag,obs_flag,arb1,arb2 have integer data type. Consider setting data type to float 'F64' or 'F32' using set_precision.\n"
     ]
    },
    {
     "name": "stdout",
     "output_type": "stream",
     "text": [
      "[DOWNLOADING] guctropoeM1.c1.20230304.000502.nc\n"
     ]
    },
    {
     "name": "stderr",
     "output_type": "stream",
     "text": [
      "The variable(s) qc_flag,converged_flag,n_iter,hatchOpen,cbh_flag,obs_flag,arb1,arb2 have integer data type. Consider setting data type to float 'F64' or 'F32' using set_precision.\n"
     ]
    },
    {
     "name": "stdout",
     "output_type": "stream",
     "text": [
      "[DOWNLOADING] guctropoeM1.c1.20230118.183002.nc\n"
     ]
    },
    {
     "name": "stderr",
     "output_type": "stream",
     "text": [
      "The variable(s) qc_flag,converged_flag,n_iter,hatchOpen,cbh_flag,obs_flag,arb1,arb2 have integer data type. Consider setting data type to float 'F64' or 'F32' using set_precision.\n"
     ]
    },
    {
     "name": "stdout",
     "output_type": "stream",
     "text": [
      "[DOWNLOADING] guctropoeM1.c1.20230324.005002.nc\n"
     ]
    },
    {
     "name": "stderr",
     "output_type": "stream",
     "text": [
      "The variable(s) qc_flag,converged_flag,n_iter,hatchOpen,cbh_flag,obs_flag,arb1,arb2 have integer data type. Consider setting data type to float 'F64' or 'F32' using set_precision.\n"
     ]
    },
    {
     "name": "stdout",
     "output_type": "stream",
     "text": [
      "[DOWNLOADING] guctropoeM1.c1.20230104.012502.nc\n"
     ]
    },
    {
     "name": "stderr",
     "output_type": "stream",
     "text": [
      "The variable(s) qc_flag,converged_flag,n_iter,hatchOpen,cbh_flag,obs_flag,arb1,arb2 have integer data type. Consider setting data type to float 'F64' or 'F32' using set_precision.\n"
     ]
    },
    {
     "name": "stdout",
     "output_type": "stream",
     "text": [
      "[DOWNLOADING] guctropoeM1.c1.20230119.000502.nc\n"
     ]
    },
    {
     "name": "stderr",
     "output_type": "stream",
     "text": [
      "The variable(s) qc_flag,converged_flag,n_iter,hatchOpen,cbh_flag,obs_flag,arb1,arb2 have integer data type. Consider setting data type to float 'F64' or 'F32' using set_precision.\n"
     ]
    },
    {
     "name": "stdout",
     "output_type": "stream",
     "text": [
      "[DOWNLOADING] guctropoeM1.c1.20230228.000502.nc\n"
     ]
    },
    {
     "name": "stderr",
     "output_type": "stream",
     "text": [
      "The variable(s) qc_flag,converged_flag,n_iter,hatchOpen,cbh_flag,obs_flag,arb1,arb2 have integer data type. Consider setting data type to float 'F64' or 'F32' using set_precision.\n"
     ]
    },
    {
     "name": "stdout",
     "output_type": "stream",
     "text": [
      "[DOWNLOADING] guctropoeM1.c1.20221224.000502.nc\n"
     ]
    },
    {
     "name": "stderr",
     "output_type": "stream",
     "text": [
      "The variable(s) qc_flag,converged_flag,n_iter,hatchOpen,cbh_flag,obs_flag,arb1,arb2 have integer data type. Consider setting data type to float 'F64' or 'F32' using set_precision.\n"
     ]
    },
    {
     "name": "stdout",
     "output_type": "stream",
     "text": [
      "[DOWNLOADING] guctropoeM1.c1.20230210.000502.nc\n"
     ]
    },
    {
     "name": "stderr",
     "output_type": "stream",
     "text": [
      "The variable(s) qc_flag,converged_flag,n_iter,hatchOpen,cbh_flag,obs_flag,arb1,arb2 have integer data type. Consider setting data type to float 'F64' or 'F32' using set_precision.\n"
     ]
    },
    {
     "name": "stdout",
     "output_type": "stream",
     "text": [
      "[DOWNLOADING] guctropoeM1.c1.20230327.093502.nc\n"
     ]
    },
    {
     "name": "stderr",
     "output_type": "stream",
     "text": [
      "The variable(s) qc_flag,converged_flag,n_iter,hatchOpen,cbh_flag,obs_flag,arb1,arb2 have integer data type. Consider setting data type to float 'F64' or 'F32' using set_precision.\n"
     ]
    },
    {
     "name": "stdout",
     "output_type": "stream",
     "text": [
      "[DOWNLOADING] guctropoeM1.c1.20230218.000502.nc\n"
     ]
    },
    {
     "name": "stderr",
     "output_type": "stream",
     "text": [
      "The variable(s) qc_flag,converged_flag,n_iter,hatchOpen,cbh_flag,obs_flag,arb1,arb2 have integer data type. Consider setting data type to float 'F64' or 'F32' using set_precision.\n"
     ]
    },
    {
     "name": "stdout",
     "output_type": "stream",
     "text": [
      "[DOWNLOADING] guctropoeM1.c1.20230312.000502.nc\n"
     ]
    },
    {
     "name": "stderr",
     "output_type": "stream",
     "text": [
      "The variable(s) qc_flag,converged_flag,n_iter,hatchOpen,cbh_flag,obs_flag,arb1,arb2 have integer data type. Consider setting data type to float 'F64' or 'F32' using set_precision.\n"
     ]
    },
    {
     "name": "stdout",
     "output_type": "stream",
     "text": [
      "[DOWNLOADING] guctropoeM1.c1.20221205.000502.nc\n"
     ]
    },
    {
     "name": "stderr",
     "output_type": "stream",
     "text": [
      "The variable(s) qc_flag,converged_flag,n_iter,hatchOpen,cbh_flag,obs_flag,arb1,arb2 have integer data type. Consider setting data type to float 'F64' or 'F32' using set_precision.\n"
     ]
    },
    {
     "name": "stdout",
     "output_type": "stream",
     "text": [
      "[DOWNLOADING] guctropoeM1.c1.20230108.001002.nc\n"
     ]
    },
    {
     "name": "stderr",
     "output_type": "stream",
     "text": [
      "The variable(s) qc_flag,converged_flag,n_iter,hatchOpen,cbh_flag,obs_flag,arb1,arb2 have integer data type. Consider setting data type to float 'F64' or 'F32' using set_precision.\n"
     ]
    },
    {
     "name": "stdout",
     "output_type": "stream",
     "text": [
      "[DOWNLOADING] guctropoeM1.c1.20221219.000502.nc\n"
     ]
    },
    {
     "name": "stderr",
     "output_type": "stream",
     "text": [
      "The variable(s) qc_flag,converged_flag,n_iter,hatchOpen,cbh_flag,obs_flag,arb1,arb2 have integer data type. Consider setting data type to float 'F64' or 'F32' using set_precision.\n"
     ]
    },
    {
     "name": "stdout",
     "output_type": "stream",
     "text": [
      "[DOWNLOADING] guctropoeM1.c1.20230309.000502.nc\n"
     ]
    },
    {
     "name": "stderr",
     "output_type": "stream",
     "text": [
      "The variable(s) qc_flag,converged_flag,n_iter,hatchOpen,cbh_flag,obs_flag,arb1,arb2 have integer data type. Consider setting data type to float 'F64' or 'F32' using set_precision.\n"
     ]
    },
    {
     "name": "stdout",
     "output_type": "stream",
     "text": [
      "[DOWNLOADING] guctropoeM1.c1.20230316.044002.nc\n"
     ]
    },
    {
     "name": "stderr",
     "output_type": "stream",
     "text": [
      "The variable(s) qc_flag,converged_flag,n_iter,hatchOpen,cbh_flag,obs_flag,arb1,arb2 have integer data type. Consider setting data type to float 'F64' or 'F32' using set_precision.\n"
     ]
    },
    {
     "name": "stdout",
     "output_type": "stream",
     "text": [
      "[DOWNLOADING] guctropoeM1.c1.20230302.014502.nc\n"
     ]
    },
    {
     "name": "stderr",
     "output_type": "stream",
     "text": [
      "The variable(s) qc_flag,converged_flag,n_iter,hatchOpen,cbh_flag,obs_flag,arb1,arb2 have integer data type. Consider setting data type to float 'F64' or 'F32' using set_precision.\n"
     ]
    },
    {
     "name": "stdout",
     "output_type": "stream",
     "text": [
      "[DOWNLOADING] guctropoeM1.c1.20230212.000502.nc\n"
     ]
    },
    {
     "name": "stderr",
     "output_type": "stream",
     "text": [
      "The variable(s) qc_flag,converged_flag,n_iter,hatchOpen,cbh_flag,obs_flag,arb1,arb2 have integer data type. Consider setting data type to float 'F64' or 'F32' using set_precision.\n"
     ]
    },
    {
     "name": "stdout",
     "output_type": "stream",
     "text": [
      "[DOWNLOADING] guctropoeM1.c1.20221208.000502.nc\n"
     ]
    },
    {
     "name": "stderr",
     "output_type": "stream",
     "text": [
      "The variable(s) qc_flag,converged_flag,n_iter,hatchOpen,cbh_flag,obs_flag,arb1,arb2 have integer data type. Consider setting data type to float 'F64' or 'F32' using set_precision.\n"
     ]
    },
    {
     "name": "stdout",
     "output_type": "stream",
     "text": [
      "[DOWNLOADING] guctropoeM1.c1.20221214.002002.nc\n"
     ]
    },
    {
     "name": "stderr",
     "output_type": "stream",
     "text": [
      "The variable(s) qc_flag,converged_flag,n_iter,hatchOpen,cbh_flag,obs_flag,arb1,arb2 have integer data type. Consider setting data type to float 'F64' or 'F32' using set_precision.\n"
     ]
    },
    {
     "name": "stdout",
     "output_type": "stream",
     "text": [
      "[DOWNLOADING] guctropoeM1.c1.20230313.000502.nc\n"
     ]
    },
    {
     "name": "stderr",
     "output_type": "stream",
     "text": [
      "The variable(s) qc_flag,converged_flag,n_iter,hatchOpen,cbh_flag,obs_flag,arb1,arb2 have integer data type. Consider setting data type to float 'F64' or 'F32' using set_precision.\n"
     ]
    },
    {
     "name": "stdout",
     "output_type": "stream",
     "text": [
      "[DOWNLOADING] guctropoeM1.c1.20230202.000502.nc\n"
     ]
    },
    {
     "name": "stderr",
     "output_type": "stream",
     "text": [
      "The variable(s) qc_flag,converged_flag,n_iter,hatchOpen,cbh_flag,obs_flag,arb1,arb2 have integer data type. Consider setting data type to float 'F64' or 'F32' using set_precision.\n"
     ]
    },
    {
     "name": "stdout",
     "output_type": "stream",
     "text": [
      "[DOWNLOADING] guctropoeM1.c1.20230310.000502.nc\n"
     ]
    },
    {
     "name": "stderr",
     "output_type": "stream",
     "text": [
      "The variable(s) qc_flag,converged_flag,n_iter,hatchOpen,cbh_flag,obs_flag,arb1,arb2 have integer data type. Consider setting data type to float 'F64' or 'F32' using set_precision.\n"
     ]
    },
    {
     "name": "stdout",
     "output_type": "stream",
     "text": [
      "[DOWNLOADING] guctropoeM1.c1.20230204.000502.nc\n"
     ]
    },
    {
     "name": "stderr",
     "output_type": "stream",
     "text": [
      "The variable(s) qc_flag,converged_flag,n_iter,hatchOpen,cbh_flag,obs_flag,arb1,arb2 have integer data type. Consider setting data type to float 'F64' or 'F32' using set_precision.\n"
     ]
    },
    {
     "name": "stdout",
     "output_type": "stream",
     "text": [
      "[DOWNLOADING] guctropoeM1.c1.20230307.000502.nc\n"
     ]
    },
    {
     "name": "stderr",
     "output_type": "stream",
     "text": [
      "The variable(s) qc_flag,converged_flag,n_iter,hatchOpen,cbh_flag,obs_flag,arb1,arb2 have integer data type. Consider setting data type to float 'F64' or 'F32' using set_precision.\n"
     ]
    },
    {
     "name": "stdout",
     "output_type": "stream",
     "text": [
      "[DOWNLOADING] guctropoeM1.c1.20230222.000502.nc\n"
     ]
    },
    {
     "name": "stderr",
     "output_type": "stream",
     "text": [
      "The variable(s) qc_flag,converged_flag,n_iter,hatchOpen,cbh_flag,obs_flag,arb1,arb2 have integer data type. Consider setting data type to float 'F64' or 'F32' using set_precision.\n"
     ]
    },
    {
     "name": "stdout",
     "output_type": "stream",
     "text": [
      "[DOWNLOADING] guctropoeM1.c1.20230113.000502.nc\n"
     ]
    },
    {
     "name": "stderr",
     "output_type": "stream",
     "text": [
      "The variable(s) qc_flag,converged_flag,n_iter,hatchOpen,cbh_flag,obs_flag,arb1,arb2 have integer data type. Consider setting data type to float 'F64' or 'F32' using set_precision.\n"
     ]
    },
    {
     "name": "stdout",
     "output_type": "stream",
     "text": [
      "[DOWNLOADING] guctropoeM1.c1.20230322.063502.nc\n"
     ]
    },
    {
     "name": "stderr",
     "output_type": "stream",
     "text": [
      "The variable(s) qc_flag,converged_flag,n_iter,hatchOpen,cbh_flag,obs_flag,arb1,arb2 have integer data type. Consider setting data type to float 'F64' or 'F32' using set_precision.\n"
     ]
    },
    {
     "name": "stdout",
     "output_type": "stream",
     "text": [
      "[DOWNLOADING] guctropoeM1.c1.20221215.000502.nc\n"
     ]
    },
    {
     "name": "stderr",
     "output_type": "stream",
     "text": [
      "The variable(s) qc_flag,converged_flag,n_iter,hatchOpen,cbh_flag,obs_flag,arb1,arb2 have integer data type. Consider setting data type to float 'F64' or 'F32' using set_precision.\n"
     ]
    },
    {
     "name": "stdout",
     "output_type": "stream",
     "text": [
      "[DOWNLOADING] guctropoeM1.c1.20230217.000502.nc\n"
     ]
    },
    {
     "name": "stderr",
     "output_type": "stream",
     "text": [
      "The variable(s) qc_flag,converged_flag,n_iter,hatchOpen,cbh_flag,obs_flag,arb1,arb2 have integer data type. Consider setting data type to float 'F64' or 'F32' using set_precision.\n"
     ]
    },
    {
     "name": "stdout",
     "output_type": "stream",
     "text": [
      "[DOWNLOADING] guctropoeM1.c1.20230325.003002.nc\n"
     ]
    },
    {
     "name": "stderr",
     "output_type": "stream",
     "text": [
      "The variable(s) qc_flag,converged_flag,n_iter,hatchOpen,cbh_flag,obs_flag,arb1,arb2 have integer data type. Consider setting data type to float 'F64' or 'F32' using set_precision.\n"
     ]
    },
    {
     "name": "stdout",
     "output_type": "stream",
     "text": [
      "[DOWNLOADING] guctropoeM1.c1.20221230.001002.nc\n"
     ]
    },
    {
     "name": "stderr",
     "output_type": "stream",
     "text": [
      "The variable(s) qc_flag,converged_flag,n_iter,hatchOpen,cbh_flag,obs_flag,arb1,arb2 have integer data type. Consider setting data type to float 'F64' or 'F32' using set_precision.\n"
     ]
    },
    {
     "name": "stdout",
     "output_type": "stream",
     "text": [
      "[DOWNLOADING] guctropoeM1.c1.20230308.000502.nc\n"
     ]
    },
    {
     "name": "stderr",
     "output_type": "stream",
     "text": [
      "The variable(s) qc_flag,converged_flag,n_iter,hatchOpen,cbh_flag,obs_flag,arb1,arb2 have integer data type. Consider setting data type to float 'F64' or 'F32' using set_precision.\n"
     ]
    },
    {
     "name": "stdout",
     "output_type": "stream",
     "text": [
      "[DOWNLOADING] guctropoeM1.c1.20230115.000502.nc\n"
     ]
    },
    {
     "name": "stderr",
     "output_type": "stream",
     "text": [
      "The variable(s) qc_flag,converged_flag,n_iter,hatchOpen,cbh_flag,obs_flag,arb1,arb2 have integer data type. Consider setting data type to float 'F64' or 'F32' using set_precision.\n"
     ]
    },
    {
     "name": "stdout",
     "output_type": "stream",
     "text": [
      "[DOWNLOADING] guctropoeM1.c1.20230201.000502.nc\n"
     ]
    },
    {
     "name": "stderr",
     "output_type": "stream",
     "text": [
      "The variable(s) qc_flag,converged_flag,n_iter,hatchOpen,cbh_flag,obs_flag,arb1,arb2 have integer data type. Consider setting data type to float 'F64' or 'F32' using set_precision.\n"
     ]
    },
    {
     "name": "stdout",
     "output_type": "stream",
     "text": [
      "[DOWNLOADING] guctropoeM1.c1.20230110.000502.nc\n"
     ]
    },
    {
     "name": "stderr",
     "output_type": "stream",
     "text": [
      "The variable(s) qc_flag,converged_flag,n_iter,hatchOpen,cbh_flag,obs_flag,arb1,arb2 have integer data type. Consider setting data type to float 'F64' or 'F32' using set_precision.\n"
     ]
    },
    {
     "name": "stdout",
     "output_type": "stream",
     "text": [
      "[DOWNLOADING] guctropoeM1.c1.20221226.000502.nc\n"
     ]
    },
    {
     "name": "stderr",
     "output_type": "stream",
     "text": [
      "The variable(s) qc_flag,converged_flag,n_iter,hatchOpen,cbh_flag,obs_flag,arb1,arb2 have integer data type. Consider setting data type to float 'F64' or 'F32' using set_precision.\n"
     ]
    },
    {
     "name": "stdout",
     "output_type": "stream",
     "text": [
      "[DOWNLOADING] guctropoeM1.c1.20230321.075002.nc\n"
     ]
    },
    {
     "name": "stderr",
     "output_type": "stream",
     "text": [
      "The variable(s) qc_flag,converged_flag,n_iter,hatchOpen,cbh_flag,obs_flag,arb1,arb2 have integer data type. Consider setting data type to float 'F64' or 'F32' using set_precision.\n"
     ]
    },
    {
     "name": "stdout",
     "output_type": "stream",
     "text": [
      "[DOWNLOADING] guctropoeM1.c1.20221217.000502.nc\n"
     ]
    },
    {
     "name": "stderr",
     "output_type": "stream",
     "text": [
      "The variable(s) qc_flag,converged_flag,n_iter,hatchOpen,cbh_flag,obs_flag,arb1,arb2 have integer data type. Consider setting data type to float 'F64' or 'F32' using set_precision.\n"
     ]
    },
    {
     "name": "stdout",
     "output_type": "stream",
     "text": [
      "[DOWNLOADING] guctropoeM1.c1.20230209.041002.nc\n"
     ]
    },
    {
     "name": "stderr",
     "output_type": "stream",
     "text": [
      "The variable(s) qc_flag,converged_flag,n_iter,hatchOpen,cbh_flag,obs_flag,arb1,arb2 have integer data type. Consider setting data type to float 'F64' or 'F32' using set_precision.\n"
     ]
    },
    {
     "name": "stdout",
     "output_type": "stream",
     "text": [
      "[DOWNLOADING] guctropoeM1.c1.20221223.000502.nc\n"
     ]
    },
    {
     "name": "stderr",
     "output_type": "stream",
     "text": [
      "The variable(s) qc_flag,converged_flag,n_iter,hatchOpen,cbh_flag,obs_flag,arb1,arb2 have integer data type. Consider setting data type to float 'F64' or 'F32' using set_precision.\n"
     ]
    },
    {
     "name": "stdout",
     "output_type": "stream",
     "text": [
      "[DOWNLOADING] guctropoeM1.c1.20221218.000502.nc\n"
     ]
    },
    {
     "name": "stderr",
     "output_type": "stream",
     "text": [
      "The variable(s) qc_flag,converged_flag,n_iter,hatchOpen,cbh_flag,obs_flag,arb1,arb2 have integer data type. Consider setting data type to float 'F64' or 'F32' using set_precision.\n"
     ]
    },
    {
     "name": "stdout",
     "output_type": "stream",
     "text": [
      "[DOWNLOADING] guctropoeM1.c1.20230111.000502.nc\n"
     ]
    },
    {
     "name": "stderr",
     "output_type": "stream",
     "text": [
      "The variable(s) qc_flag,converged_flag,n_iter,hatchOpen,cbh_flag,obs_flag,arb1,arb2 have integer data type. Consider setting data type to float 'F64' or 'F32' using set_precision.\n"
     ]
    },
    {
     "name": "stdout",
     "output_type": "stream",
     "text": [
      "[DOWNLOADING] guctropoeM1.c1.20221229.014502.nc\n"
     ]
    },
    {
     "name": "stderr",
     "output_type": "stream",
     "text": [
      "The variable(s) qc_flag,converged_flag,n_iter,hatchOpen,cbh_flag,obs_flag,arb1,arb2 have integer data type. Consider setting data type to float 'F64' or 'F32' using set_precision.\n"
     ]
    },
    {
     "name": "stdout",
     "output_type": "stream",
     "text": [
      "[DOWNLOADING] guctropoeM1.c1.20230219.000502.nc\n"
     ]
    },
    {
     "name": "stderr",
     "output_type": "stream",
     "text": [
      "The variable(s) qc_flag,converged_flag,n_iter,hatchOpen,cbh_flag,obs_flag,arb1,arb2 have integer data type. Consider setting data type to float 'F64' or 'F32' using set_precision.\n"
     ]
    },
    {
     "name": "stdout",
     "output_type": "stream",
     "text": [
      "[DOWNLOADING] guctropoeM1.c1.20230211.010502.nc\n"
     ]
    },
    {
     "name": "stderr",
     "output_type": "stream",
     "text": [
      "The variable(s) qc_flag,converged_flag,n_iter,hatchOpen,cbh_flag,obs_flag,arb1,arb2 have integer data type. Consider setting data type to float 'F64' or 'F32' using set_precision.\n"
     ]
    },
    {
     "name": "stdout",
     "output_type": "stream",
     "text": [
      "[DOWNLOADING] guctropoeM1.c1.20221209.000502.nc\n"
     ]
    },
    {
     "name": "stderr",
     "output_type": "stream",
     "text": [
      "The variable(s) qc_flag,converged_flag,n_iter,hatchOpen,cbh_flag,obs_flag,arb1,arb2 have integer data type. Consider setting data type to float 'F64' or 'F32' using set_precision.\n"
     ]
    },
    {
     "name": "stdout",
     "output_type": "stream",
     "text": [
      "[DOWNLOADING] guctropoeM1.c1.20230214.000502.nc\n"
     ]
    },
    {
     "name": "stderr",
     "output_type": "stream",
     "text": [
      "The variable(s) qc_flag,converged_flag,n_iter,hatchOpen,cbh_flag,obs_flag,arb1,arb2 have integer data type. Consider setting data type to float 'F64' or 'F32' using set_precision.\n"
     ]
    },
    {
     "name": "stdout",
     "output_type": "stream",
     "text": [
      "[DOWNLOADING] guctropoeM1.c1.20230320.000502.nc\n"
     ]
    },
    {
     "name": "stderr",
     "output_type": "stream",
     "text": [
      "The variable(s) qc_flag,converged_flag,n_iter,hatchOpen,cbh_flag,obs_flag,arb1,arb2 have integer data type. Consider setting data type to float 'F64' or 'F32' using set_precision.\n"
     ]
    },
    {
     "name": "stdout",
     "output_type": "stream",
     "text": [
      "[DOWNLOADING] guctropoeM1.c1.20230330.000502.nc\n"
     ]
    },
    {
     "name": "stderr",
     "output_type": "stream",
     "text": [
      "The variable(s) qc_flag,converged_flag,n_iter,hatchOpen,cbh_flag,obs_flag,arb1,arb2 have integer data type. Consider setting data type to float 'F64' or 'F32' using set_precision.\n"
     ]
    },
    {
     "name": "stdout",
     "output_type": "stream",
     "text": [
      "[DOWNLOADING] guctropoeM1.c1.20230331.002002.nc\n"
     ]
    },
    {
     "name": "stderr",
     "output_type": "stream",
     "text": [
      "The variable(s) qc_flag,converged_flag,n_iter,hatchOpen,cbh_flag,obs_flag,arb1,arb2 have integer data type. Consider setting data type to float 'F64' or 'F32' using set_precision.\n"
     ]
    },
    {
     "name": "stdout",
     "output_type": "stream",
     "text": [
      "[DOWNLOADING] guctropoeM1.c1.20230203.000502.nc\n"
     ]
    },
    {
     "name": "stderr",
     "output_type": "stream",
     "text": [
      "The variable(s) qc_flag,converged_flag,n_iter,hatchOpen,cbh_flag,obs_flag,arb1,arb2 have integer data type. Consider setting data type to float 'F64' or 'F32' using set_precision.\n"
     ]
    },
    {
     "name": "stdout",
     "output_type": "stream",
     "text": [
      "[DOWNLOADING] guctropoeM1.c1.20230120.000502.nc\n"
     ]
    },
    {
     "name": "stderr",
     "output_type": "stream",
     "text": [
      "The variable(s) qc_flag,converged_flag,n_iter,hatchOpen,cbh_flag,obs_flag,arb1,arb2 have integer data type. Consider setting data type to float 'F64' or 'F32' using set_precision.\n"
     ]
    },
    {
     "name": "stdout",
     "output_type": "stream",
     "text": [
      "[DOWNLOADING] guctropoeM1.c1.20221202.000502.nc\n"
     ]
    },
    {
     "name": "stderr",
     "output_type": "stream",
     "text": [
      "The variable(s) qc_flag,converged_flag,n_iter,hatchOpen,cbh_flag,obs_flag,arb1,arb2 have integer data type. Consider setting data type to float 'F64' or 'F32' using set_precision.\n"
     ]
    },
    {
     "name": "stdout",
     "output_type": "stream",
     "text": [
      "[DOWNLOADING] guctropoeM1.c1.20230328.000502.nc\n"
     ]
    },
    {
     "name": "stderr",
     "output_type": "stream",
     "text": [
      "The variable(s) qc_flag,converged_flag,n_iter,hatchOpen,cbh_flag,obs_flag,arb1,arb2 have integer data type. Consider setting data type to float 'F64' or 'F32' using set_precision.\n"
     ]
    },
    {
     "name": "stdout",
     "output_type": "stream",
     "text": [
      "[DOWNLOADING] guctropoeM1.c1.20230319.000502.nc\n"
     ]
    },
    {
     "name": "stderr",
     "output_type": "stream",
     "text": [
      "The variable(s) qc_flag,converged_flag,n_iter,hatchOpen,cbh_flag,obs_flag,arb1,arb2 have integer data type. Consider setting data type to float 'F64' or 'F32' using set_precision.\n"
     ]
    },
    {
     "name": "stdout",
     "output_type": "stream",
     "text": [
      "[DOWNLOADING] guctropoeM1.c1.20230208.000502.nc\n"
     ]
    },
    {
     "name": "stderr",
     "output_type": "stream",
     "text": [
      "The variable(s) qc_flag,converged_flag,n_iter,hatchOpen,cbh_flag,obs_flag,arb1,arb2 have integer data type. Consider setting data type to float 'F64' or 'F32' using set_precision.\n"
     ]
    },
    {
     "name": "stdout",
     "output_type": "stream",
     "text": [
      "[DOWNLOADING] guctropoeM1.c1.20221216.000502.nc\n"
     ]
    },
    {
     "name": "stderr",
     "output_type": "stream",
     "text": [
      "The variable(s) qc_flag,converged_flag,n_iter,hatchOpen,cbh_flag,obs_flag,arb1,arb2 have integer data type. Consider setting data type to float 'F64' or 'F32' using set_precision.\n"
     ]
    },
    {
     "name": "stdout",
     "output_type": "stream",
     "text": [
      "[DOWNLOADING] guctropoeM1.c1.20230220.000502.nc\n"
     ]
    },
    {
     "name": "stderr",
     "output_type": "stream",
     "text": [
      "The variable(s) qc_flag,converged_flag,n_iter,hatchOpen,cbh_flag,obs_flag,arb1,arb2 have integer data type. Consider setting data type to float 'F64' or 'F32' using set_precision.\n"
     ]
    },
    {
     "name": "stdout",
     "output_type": "stream",
     "text": [
      "[DOWNLOADING] guctropoeM1.c1.20230114.000502.nc\n"
     ]
    },
    {
     "name": "stderr",
     "output_type": "stream",
     "text": [
      "The variable(s) qc_flag,converged_flag,n_iter,hatchOpen,cbh_flag,obs_flag,arb1,arb2 have integer data type. Consider setting data type to float 'F64' or 'F32' using set_precision.\n"
     ]
    },
    {
     "name": "stdout",
     "output_type": "stream",
     "text": [
      "[DOWNLOADING] guctropoeM1.c1.20230213.001002.nc\n"
     ]
    },
    {
     "name": "stderr",
     "output_type": "stream",
     "text": [
      "The variable(s) qc_flag,converged_flag,n_iter,hatchOpen,cbh_flag,obs_flag,arb1,arb2 have integer data type. Consider setting data type to float 'F64' or 'F32' using set_precision.\n"
     ]
    },
    {
     "name": "stdout",
     "output_type": "stream",
     "text": [
      "[DOWNLOADING] guctropoeM1.c1.20221220.000502.nc\n"
     ]
    },
    {
     "name": "stderr",
     "output_type": "stream",
     "text": [
      "The variable(s) qc_flag,converged_flag,n_iter,hatchOpen,cbh_flag,obs_flag,arb1,arb2 have integer data type. Consider setting data type to float 'F64' or 'F32' using set_precision.\n"
     ]
    },
    {
     "name": "stdout",
     "output_type": "stream",
     "text": [
      "[DOWNLOADING] guctropoeM1.c1.20230317.000502.nc\n"
     ]
    },
    {
     "name": "stderr",
     "output_type": "stream",
     "text": [
      "The variable(s) qc_flag,converged_flag,n_iter,hatchOpen,cbh_flag,obs_flag,arb1,arb2 have integer data type. Consider setting data type to float 'F64' or 'F32' using set_precision.\n"
     ]
    },
    {
     "name": "stdout",
     "output_type": "stream",
     "text": [
      "[DOWNLOADING] guctropoeM1.c1.20230221.002502.nc\n"
     ]
    },
    {
     "name": "stderr",
     "output_type": "stream",
     "text": [
      "The variable(s) qc_flag,converged_flag,n_iter,hatchOpen,cbh_flag,obs_flag,arb1,arb2 have integer data type. Consider setting data type to float 'F64' or 'F32' using set_precision.\n"
     ]
    },
    {
     "name": "stdout",
     "output_type": "stream",
     "text": [
      "[DOWNLOADING] guctropoeM1.c1.20221213.002002.nc\n"
     ]
    },
    {
     "name": "stderr",
     "output_type": "stream",
     "text": [
      "The variable(s) qc_flag,converged_flag,n_iter,hatchOpen,cbh_flag,obs_flag,arb1,arb2 have integer data type. Consider setting data type to float 'F64' or 'F32' using set_precision.\n"
     ]
    },
    {
     "name": "stdout",
     "output_type": "stream",
     "text": [
      "[DOWNLOADING] guctropoeM1.c1.20230127.000502.nc\n"
     ]
    },
    {
     "name": "stderr",
     "output_type": "stream",
     "text": [
      "The variable(s) qc_flag,converged_flag,n_iter,hatchOpen,cbh_flag,obs_flag,arb1,arb2 have integer data type. Consider setting data type to float 'F64' or 'F32' using set_precision.\n"
     ]
    },
    {
     "name": "stdout",
     "output_type": "stream",
     "text": [
      "[DOWNLOADING] guctropoeM1.c1.20230122.000502.nc\n"
     ]
    },
    {
     "name": "stderr",
     "output_type": "stream",
     "text": [
      "The variable(s) qc_flag,converged_flag,n_iter,hatchOpen,cbh_flag,obs_flag,arb1,arb2 have integer data type. Consider setting data type to float 'F64' or 'F32' using set_precision.\n"
     ]
    },
    {
     "name": "stdout",
     "output_type": "stream",
     "text": [
      "[DOWNLOADING] guctropoeM1.c1.20230318.000502.nc\n"
     ]
    },
    {
     "name": "stderr",
     "output_type": "stream",
     "text": [
      "The variable(s) qc_flag,converged_flag,n_iter,hatchOpen,cbh_flag,obs_flag,arb1,arb2 have integer data type. Consider setting data type to float 'F64' or 'F32' using set_precision.\n"
     ]
    },
    {
     "name": "stdout",
     "output_type": "stream",
     "text": [
      "[DOWNLOADING] guctropoeM1.c1.20230323.042002.nc\n"
     ]
    },
    {
     "name": "stderr",
     "output_type": "stream",
     "text": [
      "The variable(s) qc_flag,converged_flag,n_iter,hatchOpen,cbh_flag,obs_flag,arb1,arb2 have integer data type. Consider setting data type to float 'F64' or 'F32' using set_precision.\n"
     ]
    },
    {
     "name": "stdout",
     "output_type": "stream",
     "text": [
      "[DOWNLOADING] guctropoeM1.c1.20230125.000502.nc\n"
     ]
    },
    {
     "name": "stderr",
     "output_type": "stream",
     "text": [
      "The variable(s) qc_flag,converged_flag,n_iter,hatchOpen,cbh_flag,obs_flag,arb1,arb2 have integer data type. Consider setting data type to float 'F64' or 'F32' using set_precision.\n"
     ]
    },
    {
     "name": "stdout",
     "output_type": "stream",
     "text": [
      "[DOWNLOADING] guctropoeM1.c1.20230206.000502.nc\n"
     ]
    },
    {
     "name": "stderr",
     "output_type": "stream",
     "text": [
      "The variable(s) qc_flag,converged_flag,n_iter,hatchOpen,cbh_flag,obs_flag,arb1,arb2 have integer data type. Consider setting data type to float 'F64' or 'F32' using set_precision.\n"
     ]
    },
    {
     "name": "stdout",
     "output_type": "stream",
     "text": [
      "[DOWNLOADING] guctropoeM1.c1.20230124.000502.nc\n"
     ]
    },
    {
     "name": "stderr",
     "output_type": "stream",
     "text": [
      "The variable(s) qc_flag,converged_flag,n_iter,hatchOpen,cbh_flag,obs_flag,arb1,arb2 have integer data type. Consider setting data type to float 'F64' or 'F32' using set_precision.\n"
     ]
    },
    {
     "name": "stdout",
     "output_type": "stream",
     "text": [
      "[DOWNLOADING] guctropoeM1.c1.20221210.000502.nc\n"
     ]
    },
    {
     "name": "stderr",
     "output_type": "stream",
     "text": [
      "The variable(s) qc_flag,converged_flag,n_iter,hatchOpen,cbh_flag,obs_flag,arb1,arb2 have integer data type. Consider setting data type to float 'F64' or 'F32' using set_precision.\n"
     ]
    },
    {
     "name": "stdout",
     "output_type": "stream",
     "text": [
      "[DOWNLOADING] guctropoeM1.c1.20230225.000502.nc\n"
     ]
    },
    {
     "name": "stderr",
     "output_type": "stream",
     "text": [
      "The variable(s) qc_flag,converged_flag,n_iter,hatchOpen,cbh_flag,obs_flag,arb1,arb2 have integer data type. Consider setting data type to float 'F64' or 'F32' using set_precision.\n"
     ]
    },
    {
     "name": "stdout",
     "output_type": "stream",
     "text": [
      "[DOWNLOADING] guctropoeM1.c1.20230226.000502.nc\n"
     ]
    },
    {
     "name": "stderr",
     "output_type": "stream",
     "text": [
      "The variable(s) qc_flag,converged_flag,n_iter,hatchOpen,cbh_flag,obs_flag,arb1,arb2 have integer data type. Consider setting data type to float 'F64' or 'F32' using set_precision.\n"
     ]
    },
    {
     "name": "stdout",
     "output_type": "stream",
     "text": [
      "[DOWNLOADING] guctropoeM1.c1.20230112.043502.nc\n"
     ]
    },
    {
     "name": "stderr",
     "output_type": "stream",
     "text": [
      "The variable(s) qc_flag,converged_flag,n_iter,hatchOpen,cbh_flag,obs_flag,arb1,arb2 have integer data type. Consider setting data type to float 'F64' or 'F32' using set_precision.\n"
     ]
    },
    {
     "name": "stdout",
     "output_type": "stream",
     "text": [
      "[DOWNLOADING] guctropoeM1.c1.20230106.000502.nc\n"
     ]
    },
    {
     "name": "stderr",
     "output_type": "stream",
     "text": [
      "The variable(s) qc_flag,converged_flag,n_iter,hatchOpen,cbh_flag,obs_flag,arb1,arb2 have integer data type. Consider setting data type to float 'F64' or 'F32' using set_precision.\n"
     ]
    },
    {
     "name": "stdout",
     "output_type": "stream",
     "text": [
      "[DOWNLOADING] guctropoeM1.c1.20221225.000502.nc\n"
     ]
    },
    {
     "name": "stderr",
     "output_type": "stream",
     "text": [
      "The variable(s) qc_flag,converged_flag,n_iter,hatchOpen,cbh_flag,obs_flag,arb1,arb2 have integer data type. Consider setting data type to float 'F64' or 'F32' using set_precision.\n"
     ]
    },
    {
     "name": "stdout",
     "output_type": "stream",
     "text": [
      "[DOWNLOADING] guctropoeM1.c1.20230215.002002.nc\n"
     ]
    },
    {
     "name": "stderr",
     "output_type": "stream",
     "text": [
      "The variable(s) qc_flag,converged_flag,n_iter,hatchOpen,cbh_flag,obs_flag,arb1,arb2 have integer data type. Consider setting data type to float 'F64' or 'F32' using set_precision.\n"
     ]
    },
    {
     "name": "stdout",
     "output_type": "stream",
     "text": [
      "[DOWNLOADING] guctropoeM1.c1.20230329.001002.nc\n"
     ]
    },
    {
     "name": "stderr",
     "output_type": "stream",
     "text": [
      "The variable(s) qc_flag,converged_flag,n_iter,hatchOpen,cbh_flag,obs_flag,arb1,arb2 have integer data type. Consider setting data type to float 'F64' or 'F32' using set_precision.\n"
     ]
    },
    {
     "name": "stdout",
     "output_type": "stream",
     "text": [
      "[DOWNLOADING] guctropoeM1.c1.20230102.050502.nc\n"
     ]
    },
    {
     "name": "stderr",
     "output_type": "stream",
     "text": [
      "The variable(s) qc_flag,converged_flag,n_iter,hatchOpen,cbh_flag,obs_flag,arb1,arb2 have integer data type. Consider setting data type to float 'F64' or 'F32' using set_precision.\n"
     ]
    },
    {
     "name": "stdout",
     "output_type": "stream",
     "text": [
      "[DOWNLOADING] guctropoeM1.c1.20230105.000502.nc\n"
     ]
    },
    {
     "name": "stderr",
     "output_type": "stream",
     "text": [
      "The variable(s) qc_flag,converged_flag,n_iter,hatchOpen,cbh_flag,obs_flag,arb1,arb2 have integer data type. Consider setting data type to float 'F64' or 'F32' using set_precision.\n"
     ]
    },
    {
     "name": "stdout",
     "output_type": "stream",
     "text": [
      "[DOWNLOADING] guctropoeM1.c1.20230314.000502.nc\n"
     ]
    },
    {
     "name": "stderr",
     "output_type": "stream",
     "text": [
      "The variable(s) qc_flag,converged_flag,n_iter,hatchOpen,cbh_flag,obs_flag,arb1,arb2 have integer data type. Consider setting data type to float 'F64' or 'F32' using set_precision.\n"
     ]
    },
    {
     "name": "stdout",
     "output_type": "stream",
     "text": [
      "[DOWNLOADING] guctropoeM1.c1.20230305.000502.nc\n"
     ]
    },
    {
     "name": "stderr",
     "output_type": "stream",
     "text": [
      "The variable(s) qc_flag,converged_flag,n_iter,hatchOpen,cbh_flag,obs_flag,arb1,arb2 have integer data type. Consider setting data type to float 'F64' or 'F32' using set_precision.\n"
     ]
    },
    {
     "name": "stdout",
     "output_type": "stream",
     "text": [
      "[DOWNLOADING] guctropoeM1.c1.20221221.000502.nc\n"
     ]
    },
    {
     "name": "stderr",
     "output_type": "stream",
     "text": [
      "The variable(s) qc_flag,converged_flag,n_iter,hatchOpen,cbh_flag,obs_flag,arb1,arb2 have integer data type. Consider setting data type to float 'F64' or 'F32' using set_precision.\n"
     ]
    },
    {
     "name": "stdout",
     "output_type": "stream",
     "text": [
      "[DOWNLOADING] guctropoeM1.c1.20230121.004002.nc\n"
     ]
    },
    {
     "name": "stderr",
     "output_type": "stream",
     "text": [
      "The variable(s) qc_flag,converged_flag,n_iter,hatchOpen,cbh_flag,obs_flag,arb1,arb2 have integer data type. Consider setting data type to float 'F64' or 'F32' using set_precision.\n"
     ]
    },
    {
     "name": "stdout",
     "output_type": "stream",
     "text": [
      "[DOWNLOADING] guctropoeM1.c1.20230131.070502.nc\n"
     ]
    },
    {
     "name": "stderr",
     "output_type": "stream",
     "text": [
      "The variable(s) qc_flag,converged_flag,n_iter,hatchOpen,cbh_flag,obs_flag,arb1,arb2 have integer data type. Consider setting data type to float 'F64' or 'F32' using set_precision.\n"
     ]
    },
    {
     "name": "stdout",
     "output_type": "stream",
     "text": [
      "[DOWNLOADING] guctropoeM1.c1.20221212.000502.nc\n"
     ]
    },
    {
     "name": "stderr",
     "output_type": "stream",
     "text": [
      "The variable(s) qc_flag,converged_flag,n_iter,hatchOpen,cbh_flag,obs_flag,arb1,arb2 have integer data type. Consider setting data type to float 'F64' or 'F32' using set_precision.\n"
     ]
    },
    {
     "name": "stdout",
     "output_type": "stream",
     "text": [
      "[DOWNLOADING] guctropoeM1.c1.20221201.000502.nc\n"
     ]
    },
    {
     "name": "stderr",
     "output_type": "stream",
     "text": [
      "The variable(s) qc_flag,converged_flag,n_iter,hatchOpen,cbh_flag,obs_flag,arb1,arb2 have integer data type. Consider setting data type to float 'F64' or 'F32' using set_precision.\n"
     ]
    },
    {
     "name": "stdout",
     "output_type": "stream",
     "text": [
      "[DOWNLOADING] guctropoeM1.c1.20230103.000502.nc\n"
     ]
    },
    {
     "name": "stderr",
     "output_type": "stream",
     "text": [
      "The variable(s) qc_flag,converged_flag,n_iter,hatchOpen,cbh_flag,obs_flag,arb1,arb2 have integer data type. Consider setting data type to float 'F64' or 'F32' using set_precision.\n"
     ]
    },
    {
     "name": "stdout",
     "output_type": "stream",
     "text": [
      "[DOWNLOADING] guctropoeM1.c1.20230223.033502.nc\n"
     ]
    },
    {
     "name": "stderr",
     "output_type": "stream",
     "text": [
      "The variable(s) qc_flag,converged_flag,n_iter,hatchOpen,cbh_flag,obs_flag,arb1,arb2 have integer data type. Consider setting data type to float 'F64' or 'F32' using set_precision.\n"
     ]
    },
    {
     "name": "stdout",
     "output_type": "stream",
     "text": [
      "[DOWNLOADING] guctropoeM1.c1.20230306.000502.nc\n"
     ]
    },
    {
     "name": "stderr",
     "output_type": "stream",
     "text": [
      "The variable(s) qc_flag,converged_flag,n_iter,hatchOpen,cbh_flag,obs_flag,arb1,arb2 have integer data type. Consider setting data type to float 'F64' or 'F32' using set_precision.\n"
     ]
    },
    {
     "name": "stdout",
     "output_type": "stream",
     "text": [
      "[DOWNLOADING] guctropoeM1.c1.20230326.001002.nc\n"
     ]
    },
    {
     "name": "stderr",
     "output_type": "stream",
     "text": [
      "The variable(s) qc_flag,converged_flag,n_iter,hatchOpen,cbh_flag,obs_flag,arb1,arb2 have integer data type. Consider setting data type to float 'F64' or 'F32' using set_precision.\n"
     ]
    },
    {
     "name": "stdout",
     "output_type": "stream",
     "text": [
      "[DOWNLOADING] guctropoeM1.c1.20230303.000502.nc\n"
     ]
    },
    {
     "name": "stderr",
     "output_type": "stream",
     "text": [
      "The variable(s) qc_flag,converged_flag,n_iter,hatchOpen,cbh_flag,obs_flag,arb1,arb2 have integer data type. Consider setting data type to float 'F64' or 'F32' using set_precision.\n"
     ]
    },
    {
     "name": "stdout",
     "output_type": "stream",
     "text": [
      "[DOWNLOADING] guctropoeM1.c1.20230224.003002.nc\n"
     ]
    },
    {
     "name": "stderr",
     "output_type": "stream",
     "text": [
      "The variable(s) qc_flag,converged_flag,n_iter,hatchOpen,cbh_flag,obs_flag,arb1,arb2 have integer data type. Consider setting data type to float 'F64' or 'F32' using set_precision.\n"
     ]
    },
    {
     "ename": "ValueError",
     "evalue": "cannot reindex or align along dimension 'obs_dim' because of conflicting dimension sizes: {457, 351}",
     "output_type": "error",
     "traceback": [
      "\u001b[0;31m---------------------------------------------------------------------------\u001b[0m",
      "\u001b[0;31mValueError\u001b[0m                                Traceback (most recent call last)",
      "Cell \u001b[0;32mIn[7], line 16\u001b[0m\n\u001b[1;32m     13\u001b[0m     \u001b[38;5;28;01mcontinue\u001b[39;00m\n\u001b[1;32m     14\u001b[0m \u001b[38;5;28;01melse\u001b[39;00m:\n\u001b[1;32m     15\u001b[0m     \u001b[38;5;66;03m# explicitly download radiosonde data because they are a lot easier to process and think about when in individual files\u001b[39;00m\n\u001b[0;32m---> 16\u001b[0m     ds \u001b[38;5;241m=\u001b[39m \u001b[43mget_sail_data\u001b[49m\u001b[43m(\u001b[49m\u001b[43mapi_username\u001b[49m\u001b[43m,\u001b[49m\n\u001b[1;32m     17\u001b[0m \u001b[43m                    \u001b[49m\u001b[43mapi_token\u001b[49m\u001b[43m,\u001b[49m\n\u001b[1;32m     18\u001b[0m \u001b[43m                    \u001b[49m\u001b[43mv\u001b[49m\u001b[43m,\u001b[49m\n\u001b[1;32m     19\u001b[0m \u001b[43m                    \u001b[49m\u001b[43mstartdate\u001b[49m\u001b[38;5;241;43m=\u001b[39;49m\u001b[43mwinter_23\u001b[49m\u001b[43m[\u001b[49m\u001b[38;5;241;43m0\u001b[39;49m\u001b[43m]\u001b[49m\u001b[43m,\u001b[49m\n\u001b[1;32m     20\u001b[0m \u001b[43m                    \u001b[49m\u001b[43menddate\u001b[49m\u001b[38;5;241;43m=\u001b[39;49m\u001b[43mwinter_23\u001b[49m\u001b[43m[\u001b[49m\u001b[38;5;241;43m1\u001b[39;49m\u001b[43m]\u001b[49m\u001b[43m)\u001b[49m\n\u001b[1;32m     21\u001b[0m     ds\u001b[38;5;241m.\u001b[39mto_netcdf(\u001b[38;5;124mf\u001b[39m\u001b[38;5;124m'\u001b[39m\u001b[38;5;132;01m{\u001b[39;00msail_winter_23_folder\u001b[38;5;132;01m}\u001b[39;00m\u001b[38;5;124m/\u001b[39m\u001b[38;5;132;01m{\u001b[39;00mk\u001b[38;5;132;01m}\u001b[39;00m\u001b[38;5;124m_\u001b[39m\u001b[38;5;132;01m{\u001b[39;00mwinter_23[\u001b[38;5;241m0\u001b[39m]\u001b[38;5;132;01m}\u001b[39;00m\u001b[38;5;124m_\u001b[39m\u001b[38;5;132;01m{\u001b[39;00mwinter_23[\u001b[38;5;241m1\u001b[39m]\u001b[38;5;132;01m}\u001b[39;00m\u001b[38;5;124m.nc\u001b[39m\u001b[38;5;124m'\u001b[39m)\n\u001b[1;32m     22\u001b[0m     w23_data_loc_dict[k] \u001b[38;5;241m=\u001b[39m os\u001b[38;5;241m.\u001b[39mpath\u001b[38;5;241m.\u001b[39mjoin(sail_winter_23_folder,\u001b[38;5;124mf\u001b[39m\u001b[38;5;124m'\u001b[39m\u001b[38;5;132;01m{\u001b[39;00mk\u001b[38;5;132;01m}\u001b[39;00m\u001b[38;5;124m_\u001b[39m\u001b[38;5;132;01m{\u001b[39;00mwinter_23[\u001b[38;5;241m0\u001b[39m]\u001b[38;5;132;01m}\u001b[39;00m\u001b[38;5;124m_\u001b[39m\u001b[38;5;132;01m{\u001b[39;00mwinter_23[\u001b[38;5;241m1\u001b[39m]\u001b[38;5;132;01m}\u001b[39;00m\u001b[38;5;124m.nc\u001b[39m\u001b[38;5;124m'\u001b[39m)\n",
      "File \u001b[0;32m~/GitHub/Synoptic-Sublimation/02_analysis/data_preparation/scripts/get_sail_data.py:182\u001b[0m, in \u001b[0;36mget_sail_data\u001b[0;34m(username, token, datastream, startdate, enddate, time)\u001b[0m\n\u001b[1;32m    180\u001b[0m         \u001b[38;5;28;01melse\u001b[39;00m: \n\u001b[1;32m    181\u001b[0m             tmp \u001b[38;5;241m=\u001b[39m nc\u001b[38;5;241m.\u001b[39mopen_data(save_data_url)\u001b[38;5;241m.\u001b[39mto_xarray()\n\u001b[0;32m--> 182\u001b[0m             ds \u001b[38;5;241m=\u001b[39m \u001b[43mxr\u001b[49m\u001b[38;5;241;43m.\u001b[39;49m\u001b[43mconcat\u001b[49m\u001b[43m(\u001b[49m\u001b[43m[\u001b[49m\u001b[43mds\u001b[49m\u001b[43m,\u001b[49m\u001b[43mtmp\u001b[49m\u001b[43m]\u001b[49m\u001b[43m,\u001b[49m\u001b[43m \u001b[49m\u001b[43mdim\u001b[49m\u001b[38;5;241;43m=\u001b[39;49m\u001b[38;5;124;43m'\u001b[39;49m\u001b[38;5;124;43mtime\u001b[39;49m\u001b[38;5;124;43m'\u001b[39;49m\u001b[43m)\u001b[49m\u001b[38;5;241m.\u001b[39msortby(\u001b[38;5;124m'\u001b[39m\u001b[38;5;124mtime\u001b[39m\u001b[38;5;124m'\u001b[39m)\n\u001b[1;32m    183\u001b[0m     \u001b[38;5;28;01mreturn\u001b[39;00m ds\n\u001b[1;32m    184\u001b[0m \u001b[38;5;28;01melse\u001b[39;00m:\n",
      "File \u001b[0;32m~/miniforge3/envs/sublime_synoptics/lib/python3.11/site-packages/xarray/core/concat.py:252\u001b[0m, in \u001b[0;36mconcat\u001b[0;34m(objs, dim, data_vars, coords, compat, positions, fill_value, join, combine_attrs)\u001b[0m\n\u001b[1;32m    240\u001b[0m     \u001b[38;5;28;01mreturn\u001b[39;00m _dataarray_concat(\n\u001b[1;32m    241\u001b[0m         objs,\n\u001b[1;32m    242\u001b[0m         dim\u001b[38;5;241m=\u001b[39mdim,\n\u001b[0;32m   (...)\u001b[0m\n\u001b[1;32m    249\u001b[0m         combine_attrs\u001b[38;5;241m=\u001b[39mcombine_attrs,\n\u001b[1;32m    250\u001b[0m     )\n\u001b[1;32m    251\u001b[0m \u001b[38;5;28;01melif\u001b[39;00m \u001b[38;5;28misinstance\u001b[39m(first_obj, Dataset):\n\u001b[0;32m--> 252\u001b[0m     \u001b[38;5;28;01mreturn\u001b[39;00m \u001b[43m_dataset_concat\u001b[49m\u001b[43m(\u001b[49m\n\u001b[1;32m    253\u001b[0m \u001b[43m        \u001b[49m\u001b[43mobjs\u001b[49m\u001b[43m,\u001b[49m\n\u001b[1;32m    254\u001b[0m \u001b[43m        \u001b[49m\u001b[43mdim\u001b[49m\u001b[38;5;241;43m=\u001b[39;49m\u001b[43mdim\u001b[49m\u001b[43m,\u001b[49m\n\u001b[1;32m    255\u001b[0m \u001b[43m        \u001b[49m\u001b[43mdata_vars\u001b[49m\u001b[38;5;241;43m=\u001b[39;49m\u001b[43mdata_vars\u001b[49m\u001b[43m,\u001b[49m\n\u001b[1;32m    256\u001b[0m \u001b[43m        \u001b[49m\u001b[43mcoords\u001b[49m\u001b[38;5;241;43m=\u001b[39;49m\u001b[43mcoords\u001b[49m\u001b[43m,\u001b[49m\n\u001b[1;32m    257\u001b[0m \u001b[43m        \u001b[49m\u001b[43mcompat\u001b[49m\u001b[38;5;241;43m=\u001b[39;49m\u001b[43mcompat\u001b[49m\u001b[43m,\u001b[49m\n\u001b[1;32m    258\u001b[0m \u001b[43m        \u001b[49m\u001b[43mpositions\u001b[49m\u001b[38;5;241;43m=\u001b[39;49m\u001b[43mpositions\u001b[49m\u001b[43m,\u001b[49m\n\u001b[1;32m    259\u001b[0m \u001b[43m        \u001b[49m\u001b[43mfill_value\u001b[49m\u001b[38;5;241;43m=\u001b[39;49m\u001b[43mfill_value\u001b[49m\u001b[43m,\u001b[49m\n\u001b[1;32m    260\u001b[0m \u001b[43m        \u001b[49m\u001b[43mjoin\u001b[49m\u001b[38;5;241;43m=\u001b[39;49m\u001b[43mjoin\u001b[49m\u001b[43m,\u001b[49m\n\u001b[1;32m    261\u001b[0m \u001b[43m        \u001b[49m\u001b[43mcombine_attrs\u001b[49m\u001b[38;5;241;43m=\u001b[39;49m\u001b[43mcombine_attrs\u001b[49m\u001b[43m,\u001b[49m\n\u001b[1;32m    262\u001b[0m \u001b[43m    \u001b[49m\u001b[43m)\u001b[49m\n\u001b[1;32m    263\u001b[0m \u001b[38;5;28;01melse\u001b[39;00m:\n\u001b[1;32m    264\u001b[0m     \u001b[38;5;28;01mraise\u001b[39;00m \u001b[38;5;167;01mTypeError\u001b[39;00m(\n\u001b[1;32m    265\u001b[0m         \u001b[38;5;124m\"\u001b[39m\u001b[38;5;124mcan only concatenate xarray Dataset and DataArray \u001b[39m\u001b[38;5;124m\"\u001b[39m\n\u001b[1;32m    266\u001b[0m         \u001b[38;5;124mf\u001b[39m\u001b[38;5;124m\"\u001b[39m\u001b[38;5;124mobjects, got \u001b[39m\u001b[38;5;132;01m{\u001b[39;00m\u001b[38;5;28mtype\u001b[39m(first_obj)\u001b[38;5;132;01m}\u001b[39;00m\u001b[38;5;124m\"\u001b[39m\n\u001b[1;32m    267\u001b[0m     )\n",
      "File \u001b[0;32m~/miniforge3/envs/sublime_synoptics/lib/python3.11/site-packages/xarray/core/concat.py:487\u001b[0m, in \u001b[0;36m_dataset_concat\u001b[0;34m(datasets, dim, data_vars, coords, compat, positions, fill_value, join, combine_attrs)\u001b[0m\n\u001b[1;32m    484\u001b[0m \u001b[38;5;66;03m# Make sure we're working on a copy (we'll be loading variables)\u001b[39;00m\n\u001b[1;32m    485\u001b[0m datasets \u001b[38;5;241m=\u001b[39m [ds\u001b[38;5;241m.\u001b[39mcopy() \u001b[38;5;28;01mfor\u001b[39;00m ds \u001b[38;5;129;01min\u001b[39;00m datasets]\n\u001b[1;32m    486\u001b[0m datasets \u001b[38;5;241m=\u001b[39m \u001b[38;5;28mlist\u001b[39m(\n\u001b[0;32m--> 487\u001b[0m     \u001b[43malign\u001b[49m\u001b[43m(\u001b[49m\u001b[38;5;241;43m*\u001b[39;49m\u001b[43mdatasets\u001b[49m\u001b[43m,\u001b[49m\u001b[43m \u001b[49m\u001b[43mjoin\u001b[49m\u001b[38;5;241;43m=\u001b[39;49m\u001b[43mjoin\u001b[49m\u001b[43m,\u001b[49m\u001b[43m \u001b[49m\u001b[43mcopy\u001b[49m\u001b[38;5;241;43m=\u001b[39;49m\u001b[38;5;28;43;01mFalse\u001b[39;49;00m\u001b[43m,\u001b[49m\u001b[43m \u001b[49m\u001b[43mexclude\u001b[49m\u001b[38;5;241;43m=\u001b[39;49m\u001b[43m[\u001b[49m\u001b[43mdim\u001b[49m\u001b[43m]\u001b[49m\u001b[43m,\u001b[49m\u001b[43m \u001b[49m\u001b[43mfill_value\u001b[49m\u001b[38;5;241;43m=\u001b[39;49m\u001b[43mfill_value\u001b[49m\u001b[43m)\u001b[49m\n\u001b[1;32m    488\u001b[0m )\n\u001b[1;32m    490\u001b[0m dim_coords, dims_sizes, coord_names, data_names, vars_order \u001b[38;5;241m=\u001b[39m _parse_datasets(\n\u001b[1;32m    491\u001b[0m     datasets\n\u001b[1;32m    492\u001b[0m )\n\u001b[1;32m    493\u001b[0m dim_names \u001b[38;5;241m=\u001b[39m \u001b[38;5;28mset\u001b[39m(dim_coords)\n",
      "File \u001b[0;32m~/miniforge3/envs/sublime_synoptics/lib/python3.11/site-packages/xarray/core/alignment.py:888\u001b[0m, in \u001b[0;36malign\u001b[0;34m(join, copy, indexes, exclude, fill_value, *objects)\u001b[0m\n\u001b[1;32m    692\u001b[0m \u001b[38;5;250m\u001b[39m\u001b[38;5;124;03m\"\"\"\u001b[39;00m\n\u001b[1;32m    693\u001b[0m \u001b[38;5;124;03mGiven any number of Dataset and/or DataArray objects, returns new\u001b[39;00m\n\u001b[1;32m    694\u001b[0m \u001b[38;5;124;03mobjects with aligned indexes and dimension sizes.\u001b[39;00m\n\u001b[0;32m   (...)\u001b[0m\n\u001b[1;32m    878\u001b[0m \n\u001b[1;32m    879\u001b[0m \u001b[38;5;124;03m\"\"\"\u001b[39;00m\n\u001b[1;32m    880\u001b[0m aligner \u001b[38;5;241m=\u001b[39m Aligner(\n\u001b[1;32m    881\u001b[0m     objects,\n\u001b[1;32m    882\u001b[0m     join\u001b[38;5;241m=\u001b[39mjoin,\n\u001b[0;32m   (...)\u001b[0m\n\u001b[1;32m    886\u001b[0m     fill_value\u001b[38;5;241m=\u001b[39mfill_value,\n\u001b[1;32m    887\u001b[0m )\n\u001b[0;32m--> 888\u001b[0m \u001b[43maligner\u001b[49m\u001b[38;5;241;43m.\u001b[39;49m\u001b[43malign\u001b[49m\u001b[43m(\u001b[49m\u001b[43m)\u001b[49m\n\u001b[1;32m    889\u001b[0m \u001b[38;5;28;01mreturn\u001b[39;00m aligner\u001b[38;5;241m.\u001b[39mresults\n",
      "File \u001b[0;32m~/miniforge3/envs/sublime_synoptics/lib/python3.11/site-packages/xarray/core/alignment.py:575\u001b[0m, in \u001b[0;36mAligner.align\u001b[0;34m(self)\u001b[0m\n\u001b[1;32m    573\u001b[0m \u001b[38;5;28mself\u001b[39m\u001b[38;5;241m.\u001b[39massert_no_index_conflict()\n\u001b[1;32m    574\u001b[0m \u001b[38;5;28mself\u001b[39m\u001b[38;5;241m.\u001b[39malign_indexes()\n\u001b[0;32m--> 575\u001b[0m \u001b[38;5;28;43mself\u001b[39;49m\u001b[38;5;241;43m.\u001b[39;49m\u001b[43massert_unindexed_dim_sizes_equal\u001b[49m\u001b[43m(\u001b[49m\u001b[43m)\u001b[49m\n\u001b[1;32m    577\u001b[0m \u001b[38;5;28;01mif\u001b[39;00m \u001b[38;5;28mself\u001b[39m\u001b[38;5;241m.\u001b[39mjoin \u001b[38;5;241m==\u001b[39m \u001b[38;5;124m\"\u001b[39m\u001b[38;5;124moverride\u001b[39m\u001b[38;5;124m\"\u001b[39m:\n\u001b[1;32m    578\u001b[0m     \u001b[38;5;28mself\u001b[39m\u001b[38;5;241m.\u001b[39moverride_indexes()\n",
      "File \u001b[0;32m~/miniforge3/envs/sublime_synoptics/lib/python3.11/site-packages/xarray/core/alignment.py:476\u001b[0m, in \u001b[0;36mAligner.assert_unindexed_dim_sizes_equal\u001b[0;34m(self)\u001b[0m\n\u001b[1;32m    474\u001b[0m     add_err_msg \u001b[38;5;241m=\u001b[39m \u001b[38;5;124m\"\u001b[39m\u001b[38;5;124m\"\u001b[39m\n\u001b[1;32m    475\u001b[0m \u001b[38;5;28;01mif\u001b[39;00m \u001b[38;5;28mlen\u001b[39m(sizes) \u001b[38;5;241m>\u001b[39m \u001b[38;5;241m1\u001b[39m:\n\u001b[0;32m--> 476\u001b[0m     \u001b[38;5;28;01mraise\u001b[39;00m \u001b[38;5;167;01mValueError\u001b[39;00m(\n\u001b[1;32m    477\u001b[0m         \u001b[38;5;124mf\u001b[39m\u001b[38;5;124m\"\u001b[39m\u001b[38;5;124mcannot reindex or align along dimension \u001b[39m\u001b[38;5;132;01m{\u001b[39;00mdim\u001b[38;5;132;01m!r}\u001b[39;00m\u001b[38;5;124m \u001b[39m\u001b[38;5;124m\"\u001b[39m\n\u001b[1;32m    478\u001b[0m         \u001b[38;5;124mf\u001b[39m\u001b[38;5;124m\"\u001b[39m\u001b[38;5;124mbecause of conflicting dimension sizes: \u001b[39m\u001b[38;5;132;01m{\u001b[39;00msizes\u001b[38;5;132;01m!r}\u001b[39;00m\u001b[38;5;124m\"\u001b[39m \u001b[38;5;241m+\u001b[39m add_err_msg\n\u001b[1;32m    479\u001b[0m     )\n",
      "\u001b[0;31mValueError\u001b[0m: cannot reindex or align along dimension 'obs_dim' because of conflicting dimension sizes: {457, 351}"
     ]
    }
   ],
   "source": [
    "# load in the winter 23 data\n",
    "sail_winter_23_folder = os.path.join(storage_directory,'sail_data',winter_23_folder)\n",
    "# create empty data dictionary\n",
    "w23_data_loc_dict = {}\n",
    "# Iterate through the dictionary and pull the data for each datastream\n",
    "for k,v in sail_datastream_dict.items():\n",
    "\n",
    "    if (os.path.exists(f'{sail_winter_23_folder}/{k}_{winter_23[0]}_{winter_23[1]}.nc')): \n",
    "        print(f'{k}_{winter_23[0]}_{winter_23[1]}.nc already exists')\n",
    "        print('-------------------')\n",
    "        # add the filename to the dictionary which can be used if we want to load the data\n",
    "        w23_data_loc_dict[k] = os.path.join(sail_winter_23_folder,f'{k}_{winter_23[0]}_{winter_23[1]}.nc')\n",
    "        continue\n",
    "    else:\n",
    "        # explicitly download radiosonde data because they are a lot easier to process and think about when in individual files\n",
    "        ds = get_sail_data(api_username,\n",
    "                        api_token,\n",
    "                        v,\n",
    "                        startdate=winter_23[0],\n",
    "                        enddate=winter_23[1])\n",
    "        ds.to_netcdf(f'{sail_winter_23_folder}/{k}_{winter_23[0]}_{winter_23[1]}.nc')\n",
    "        w23_data_loc_dict[k] = os.path.join(sail_winter_23_folder,f'{k}_{winter_23[0]}_{winter_23[1]}.nc')"
   ]
  },
  {
   "cell_type": "code",
   "execution_count": null,
   "metadata": {},
   "outputs": [],
   "source": []
  }
 ],
 "metadata": {
  "kernelspec": {
   "display_name": "sublime_synoptics",
   "language": "python",
   "name": "python3"
  },
  "language_info": {
   "codemirror_mode": {
    "name": "ipython",
    "version": 3
   },
   "file_extension": ".py",
   "mimetype": "text/x-python",
   "name": "python",
   "nbconvert_exporter": "python",
   "pygments_lexer": "ipython3",
   "version": "3.11.6"
  }
 },
 "nbformat": 4,
 "nbformat_minor": 2
}
