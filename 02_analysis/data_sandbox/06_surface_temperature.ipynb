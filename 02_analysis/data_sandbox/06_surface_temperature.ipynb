{
 "cells": [
  {
   "cell_type": "code",
   "execution_count": 1,
   "metadata": {},
   "outputs": [],
   "source": [
    "import xarray as xr\n",
    "import numpy as np\n",
    "# plotting\n",
    "import matplotlib.pyplot as plt\n",
    "from metpy.cbook import get_test_data\n",
    "from metpy.plots import add_metpy_logo, SkewT\n",
    "import plotly.express as px \n",
    "import plotly.graph_objects as go\n",
    "from plotly.subplots import make_subplots\n",
    "import cufflinks as cf\n",
    "from plotly.offline import download_plotlyjs, init_notebook_mode, plot, iplot\n",
    "import plotly.io as pio "
   ]
  },
  {
   "cell_type": "code",
   "execution_count": 2,
   "metadata": {},
   "outputs": [],
   "source": [
    "# functions I will need \n",
    "def apogee2temp(dat,tower):\n",
    "# hard-coded sensor-specific calibrations\n",
    "    Vref = 2.5\n",
    "    ID = dat[f\"IDir_{tower}\"]\n",
    "    sns = [136, 137, 138, 139, 140]\n",
    "    im = [ sns.index(x) if x in sns else None for x in ID ][0]\n",
    "# unclear if we want these, or scaled up versions\n",
    "    mC0 = [57508.575,56653.007,58756.588,58605.7861,58756.588][im] * 1e5\n",
    "    mC1 = [289.12189,280.03380,287.12487,285.00285,287.12487][im] * 1e5\n",
    "    mC2 = [2.16807,2.11478,2.11822,2.08932,2.11822][im] * 1e5\n",
    "    bC0 = [-168.3687,-319.9362,-214.5312,-329.6453,-214.5312][im]* 1e5\n",
    "    bC1 = [-0.22672,-1.23812,-0.59308,-1.24657,-0.59308][im]* 1e5\n",
    "    bC2 = [0.08927,0.08612,0.10936,0.09234,0.10936][im]* 1e5\n",
    "# read data\n",
    "    Vtherm = dat[f\"Vtherm_{tower}\"]\n",
    "    Vpile = dat[f\"Vpile_{tower}\"]*1000\n",
    "# calculation of detector temperature from Steinhart-Hart\n",
    "    Rt = 24900.0/((Vref/Vtherm) - 1)\n",
    "    Ac = 1.129241e-3\n",
    "    Bc = 2.341077e-4\n",
    "    Cc = 8.775468e-8\n",
    "    TDk = 1/(Ac + Bc*np.log(Rt) + Cc*(np.log(Rt)**3))\n",
    "    TDc = TDk - 273.15\n",
    "# finally, calculation of \"target\" temperature including thermopile measurement\n",
    "    m = mC2*TDc**2 + mC1*TDc + mC0\n",
    "    b = bC2*TDc**2 + bC1*TDc + bC0\n",
    "    TTc = (TDk**4 + m*Vpile + b)**0.25 - 273.15\n",
    "    # sufs = suffixes(TTc,leadch='') # get suffixes\n",
    "    # dimnames(TTc)[[2]] = paste0(\"Tsfc.Ap.\",sufs)\n",
    "    TTc = TTc\n",
    "    return TTc"
   ]
  },
  {
   "cell_type": "code",
   "execution_count": 4,
   "metadata": {},
   "outputs": [],
   "source": [
    "# import sos data\n",
    "sos_5min_ds = xr.open_dataset('../../01_data/processed_data/sos_ds_5min_storage.nc')"
   ]
  },
  {
   "cell_type": "code",
   "execution_count": 5,
   "metadata": {},
   "outputs": [
    {
     "ename": "NameError",
     "evalue": "name 'np' is not defined",
     "output_type": "error",
     "traceback": [
      "\u001b[0;31m---------------------------------------------------------------------------\u001b[0m",
      "\u001b[0;31mNameError\u001b[0m                                 Traceback (most recent call last)",
      "Cell \u001b[0;32mIn[5], line 2\u001b[0m\n\u001b[1;32m      1\u001b[0m \u001b[38;5;66;03m# surface temperature\u001b[39;00m\n\u001b[0;32m----> 2\u001b[0m sos_5min_ds \u001b[38;5;241m=\u001b[39m sos_5min_ds\u001b[38;5;241m.\u001b[39massign(Tsurfapogee_d\u001b[38;5;241m=\u001b[39m\u001b[43mapogee2temp\u001b[49m\u001b[43m(\u001b[49m\u001b[43msos_5min_ds\u001b[49m\u001b[43m,\u001b[49m\u001b[38;5;124;43m'\u001b[39;49m\u001b[38;5;124;43md\u001b[39;49m\u001b[38;5;124;43m'\u001b[39;49m\u001b[43m)\u001b[49m)\n\u001b[1;32m      3\u001b[0m sos_5min_ds \u001b[38;5;241m=\u001b[39m sos_5min_ds\u001b[38;5;241m.\u001b[39massign(Tsurfapogee_c\u001b[38;5;241m=\u001b[39mapogee2temp(sos_5min_ds,\u001b[38;5;124m'\u001b[39m\u001b[38;5;124mc\u001b[39m\u001b[38;5;124m'\u001b[39m))\n\u001b[1;32m      4\u001b[0m sos_5min_ds \u001b[38;5;241m=\u001b[39m sos_5min_ds\u001b[38;5;241m.\u001b[39massign(Tsurfapogee_uw\u001b[38;5;241m=\u001b[39mapogee2temp(sos_5min_ds,\u001b[38;5;124m'\u001b[39m\u001b[38;5;124muw\u001b[39m\u001b[38;5;124m'\u001b[39m))\n",
      "Cell \u001b[0;32mIn[2], line 23\u001b[0m, in \u001b[0;36mapogee2temp\u001b[0;34m(dat, tower)\u001b[0m\n\u001b[1;32m     21\u001b[0m     Bc \u001b[38;5;241m=\u001b[39m \u001b[38;5;241m2.341077e-4\u001b[39m\n\u001b[1;32m     22\u001b[0m     Cc \u001b[38;5;241m=\u001b[39m \u001b[38;5;241m8.775468e-8\u001b[39m\n\u001b[0;32m---> 23\u001b[0m     TDk \u001b[38;5;241m=\u001b[39m \u001b[38;5;241m1\u001b[39m\u001b[38;5;241m/\u001b[39m(Ac \u001b[38;5;241m+\u001b[39m Bc\u001b[38;5;241m*\u001b[39m\u001b[43mnp\u001b[49m\u001b[38;5;241m.\u001b[39mlog(Rt) \u001b[38;5;241m+\u001b[39m Cc\u001b[38;5;241m*\u001b[39m(np\u001b[38;5;241m.\u001b[39mlog(Rt)\u001b[38;5;241m*\u001b[39m\u001b[38;5;241m*\u001b[39m\u001b[38;5;241m3\u001b[39m))\n\u001b[1;32m     24\u001b[0m     TDc \u001b[38;5;241m=\u001b[39m TDk \u001b[38;5;241m-\u001b[39m \u001b[38;5;241m273.15\u001b[39m\n\u001b[1;32m     25\u001b[0m \u001b[38;5;66;03m# finally, calculation of \"target\" temperature including thermopile measurement\u001b[39;00m\n",
      "\u001b[0;31mNameError\u001b[0m: name 'np' is not defined"
     ]
    }
   ],
   "source": [
    "# surface temperature\n",
    "sos_5min_ds = sos_5min_ds.assign(Tsurfapogee_d=apogee2temp(sos_5min_ds,'d'))\n",
    "sos_5min_ds = sos_5min_ds.assign(Tsurfapogee_c=apogee2temp(sos_5min_ds,'c'))\n",
    "sos_5min_ds = sos_5min_ds.assign(Tsurfapogee_uw=apogee2temp(sos_5min_ds,'uw'))\n",
    "sos_5min_ds = sos_5min_ds.assign(Tsurfapogee_ue=apogee2temp(sos_5min_ds,'ue'))"
   ]
  },
  {
   "cell_type": "code",
   "execution_count": null,
   "metadata": {},
   "outputs": [],
   "source": [
    "surface_temp_df = sos_5min_ds[['Tsurfapogee_d','Tsurfapogee_c','Tsurfapogee_uw','Tsurfapogee_ue']].to_dataframe()"
   ]
  },
  {
   "cell_type": "code",
   "execution_count": null,
   "metadata": {},
   "outputs": [],
   "source": [
    "surface_temp_df.iplot()"
   ]
  }
 ],
 "metadata": {
  "kernelspec": {
   "display_name": "sublime_synoptics",
   "language": "python",
   "name": "python3"
  },
  "language_info": {
   "codemirror_mode": {
    "name": "ipython",
    "version": 3
   },
   "file_extension": ".py",
   "mimetype": "text/x-python",
   "name": "python",
   "nbconvert_exporter": "python",
   "pygments_lexer": "ipython3",
   "version": "3.11.6"
  }
 },
 "nbformat": 4,
 "nbformat_minor": 2
}
