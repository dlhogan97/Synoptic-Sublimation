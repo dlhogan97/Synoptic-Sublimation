{
 "cells": [
  {
   "cell_type": "markdown",
   "metadata": {},
   "source": [
    "# Winter 2022-2023 Wind Events at Kettle Ponds\n",
    "\n",
    "Author: Daniel Hogan\n",
    "Created: January 10, 2024\n",
    "\n",
    "This notebook will start to address two main questions (with sub-focuses discussed below):\n",
    "1) What events had the highest percentile of wind speeds?\n",
    "2) What were the general storm characteristics? Were they related?\n",
    "2) How much sublimation over the season came from these events?"
   ]
  },
  {
   "cell_type": "markdown",
   "metadata": {},
   "source": [
    "### Imports\n"
   ]
  },
  {
   "cell_type": "code",
   "execution_count": null,
   "metadata": {},
   "outputs": [],
   "source": [
    "# general\n",
    "import os\n",
    "import datetime as dt\n",
    "import json\n",
    "# data \n",
    "import xarray as xr \n",
    "from sublimpy import utils, variables, tidy\n",
    "import numpy as np\n",
    "import pandas as pd\n",
    "from act import discovery, plotting\n",
    "# plotting\n",
    "import matplotlib.pyplot as plt\n",
    "import plotly.express as px \n",
    "import plotly.graph_objects as go\n",
    "from plotly.subplots import make_subplots\n",
    "import cufflinks as cf\n",
    "from plotly.offline import download_plotlyjs, init_notebook_mode, plot, iplot\n",
    "# helper tools\n",
    "from scripts.get_sail_data import get_sail_data\n",
    "from scripts.helper_funcs import create_windrose_df\n",
    "from metpy import calc, units\n",
    "# make plotly work \n",
    "init_notebook_mode(connected=True)\n",
    "cf.go_offline()"
   ]
  },
  {
   "cell_type": "markdown",
   "metadata": {},
   "source": [
    "## 1. What events at Kettle Ponds had the highest percentile of wind speeds?\n",
    "We will begin to address this by looking at daily average wind speeds  from the SOS data to classify the top 90th percentile of windy days during the main snow season which we will call December 1, 2023 to May 1, 2024. This may need to be broken down further to capture wind events, but we'll start with this. We'll begin by comparing the days for 3-20 m wind speeds and compare tower-to-tower to make sure we have consistency at our location.\n",
    "\n",
    "1) We'll first make some box plots of daily average wind speeds at each height and each tower to look at the total distribution over winter\n",
    "2) We'll make a timeseries plot for each height bin and mark out the highest percentile of wind speeds for the year\n",
    "3) We'll also make a correlation plot with tower on one axis and measurement height on the other.\n",
    "4) We'll then filter to the days with the highest 10% of wind speeds over our period"
   ]
  },
  {
   "cell_type": "markdown",
   "metadata": {},
   "source": [
    "## 2. What were some of the storm characteristics at the surface? Are they related?\n",
    "This section will likely produce another notebook to focus on upper-level dynamics, but we want to get an idea of what the storm was like. We'll look at correlations of:\n",
    "- wind speed\n",
    "- wind direction\n",
    "- relative humidity\n",
    "- 2m temperature\n",
    "We'll also take a look at the SAIL radiosondes from those days to try to get a picture of what was happening at upper levels. Perhaps we'll make a mean radiosonde by binning the pressure columns and taking the mean? Have to figure that out.\n",
    "Can also start to explore some of the doppler lidar data.\n",
    "\n",
    "Eventually, (not in this notebook) I want to get an understanding for what the precipitation timing was like and see if that matters? I would think that windy storms where snow falls first and then blows around could be the most important."
   ]
  },
  {
   "cell_type": "markdown",
   "metadata": {},
   "source": [
    "## 3. How much sublimation over the season came from these events?\n",
    "We will address this question by calculating hourly sublimation totals from SOS and SAIL over the winter period (dates may need to be adjusted to what Eli calculated with). Then for each of the days we calculated from above, we'll get the total sublimation from those specific days. \n",
    "1) First, make a timeseries plot of cumulative sublimation over the year. Add horizontal boxes that mark the days of each wind event\n",
    "2) Filter the hourly sublimation totals to just the days we want to include and sum the total. \n",
    "3) How well the days with the most sublimation correspond with these windy days."
   ]
  },
  {
   "cell_type": "code",
   "execution_count": null,
   "metadata": {},
   "outputs": [],
   "source": []
  }
 ],
 "metadata": {
  "kernelspec": {
   "display_name": "sublime_synoptics",
   "language": "python",
   "name": "python3"
  },
  "language_info": {
   "name": "python",
   "version": "3.11.6"
  }
 },
 "nbformat": 4,
 "nbformat_minor": 2
}
