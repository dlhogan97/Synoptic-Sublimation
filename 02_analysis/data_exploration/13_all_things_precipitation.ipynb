{
 "cells": [
  {
   "cell_type": "markdown",
   "metadata": {},
   "source": [
    "# SOS, SAIL, SPLASH, and billy precipitation data for 2021-2023 winters.\n",
    "\n",
    "We need to gather the following data\n",
    "\n",
    "| Campaign | Location      | Name    | Shield Type                                                                         | Gauge Manufacturer     | Gauge Model                                               |\n",
    "|----------|---------------|---------|------------------------------------------------------------------------------------|------------------------|-----------------------------------------------------------|\n",
    "| SAIL     | Gothic        | aosmet  | --                                                                                 | Vaisala                | WXT520/530                                                |\n",
    "| SAIL     | Gothic        | ld      | --                                                                                 | OTT Hydromet Group     | Parsivel2                                                 |\n",
    "| SAIL     | Gothic        | met     | --                                                                                 | Optical Scientific     | ORG-815-DS Optical Precipitation Gauge                    |\n",
    "| SAIL     | Gothic        | met     | Single Alter                                                                       | Novalynx               | 260-2500E-12 Tipping Bucket Rain Gauge                    |\n",
    "| SAIL     | Gothic        | met     | --                                                                                 | Vaisala                | PWD22                                                     |\n",
    "| SAIL     | Gothic        | wbpluvio| Double fence? Unknown. Recommended for double fence, but possibly single alter     | OTT Hydromet Group     | Pluvio2-L weighing bucket rain gauge                      |\n",
    "| SPLASH   | Kettle Ponds  | ld      | --                                                                                 | OTT Hydromet Group     | Parsivel2                                                 |\n",
    "| SPLASH   | Kettle Ponds  | pluvio  | SDFIR                                                                              | OTT Hydromet Group     | Pluvio2-L weighing bucket rain gauge                      |\n",
    "| SPLASH   | Kettle Ponds-A| ASFS    | --                                                                                 | Unknown                | Unknown                                                   |\n",
    "| SPLASH   | Avery Picnic  | ASFS    | --                                                                                 | Unknown                | Unknown                                                   |\n",
    "| billy    | Gothic        | pluvio  | Single Alter                                                                       | Unknown                | Unknown                                                   |\n",
    "```"
   ]
  },
  {
   "cell_type": "code",
   "execution_count": null,
   "metadata": {},
   "outputs": [],
   "source": [
    "# general\n",
    "import os\n",
    "import glob\n",
    "import datetime as dt\n",
    "import json\n",
    "# data \n",
    "import xarray as xr \n",
    "from sublimpy import utils, variables, tidy, turbulence\n",
    "import numpy as np\n",
    "import pandas as pd\n",
    "from act import discovery, plotting\n",
    "# plotting\n",
    "import matplotlib.pyplot as plt\n",
    "from metpy.cbook import get_test_data\n",
    "from metpy.plots import add_metpy_logo, SkewT\n",
    "import plotly.express as px \n",
    "import plotly.graph_objects as go\n",
    "from plotly.subplots import make_subplots\n",
    "import cufflinks as cf\n",
    "from plotly.offline import download_plotlyjs, init_notebook_mode, plot, iplot\n",
    "import plotly.io as pio\n",
    "# helper tools\n",
    "from scripts.get_sail_data import get_sail_data\n",
    "from scripts.helper_funcs import create_windrose_df, simple_sounding, mean_sounding\n",
    "import scripts.helper_funcs as hf\n",
    "from metpy import calc, units\n",
    "import scipy.stats as stats\n",
    "from sklearn.linear_model import LinearRegression\n",
    "import time\n",
    "# make plotly work \n",
    "init_notebook_mode(connected=True)\n",
    "cf.go_offline()"
   ]
  },
  {
   "cell_type": "markdown",
   "metadata": {},
   "source": [
    "# SAIL"
   ]
  },
  {
   "cell_type": "markdown",
   "metadata": {},
   "source": [
    "### Setup to download SAIL data"
   ]
  },
  {
   "cell_type": "code",
   "execution_count": null,
   "metadata": {},
   "outputs": [],
   "source": [
    "# Function to load ARM credentials\n",
    "def load_arm_credentials(credential_path):\n",
    "    with open(credential_path, 'r') as f:\n",
    "        credentials = json.load(f)\n",
    "    return credentials\n",
    "# Location of ARM credentials\n",
    "credential_path = '/home/dlhogan/.act_config.json'\n",
    "credentials = load_arm_credentials(credential_path)\n",
    "# api token and username for ARM\n",
    "api_username = credentials.get('username')\n",
    "api_token = credentials.get('token')\n",
    "\n",
    "sail_datastream_dict = {\n",
    "    # \"aosmet\":\"gucaosmetM1.a1\", # Too short for analysis\n",
    "    \"met\":\"gucmetM1.b1\",\n",
    "    \"laser_disdrometer_gothic\":\"gucldM1.b1\",\n",
    "    \"ldquants\":\"gucldquantsM1.c1\",\n",
    "    \"pluvio2\":\"gucwbpluvio2M1.a1\",\n",
    "}"
   ]
  },
  {
   "cell_type": "code",
   "execution_count": null,
   "metadata": {},
   "outputs": [],
   "source": [
    "winter_22 = ('20211001','20220930')\n",
    "winter_23 = ('20221001','20230930')"
   ]
  },
  {
   "cell_type": "code",
   "execution_count": null,
   "metadata": {},
   "outputs": [],
   "source": [
    "# Set the location of the data folder where this data will be stored\n",
    "winter_22_folder = 'winter_21_22'\n",
    "winter_23_folder = 'winter_22_23'\n",
    " # change to location of data folder on your machine\n",
    "storage_directory = f'/storage/dlhogan/synoptic_sublimation/'\n",
    "# create a sail_data folder if it does not exist\n",
    "if not os.path.exists(os.path.join(storage_directory,'sail_data')):\n",
    "    os.makedirs(os.path.join(storage_directory,'sail_data'))\n",
    "# create a folder for the event if it does not exist\n",
    "if not os.path.exists(os.path.join(storage_directory,'sail_data',winter_22_folder)):\n",
    "    os.makedirs(os.path.join(storage_directory,'sail_data',winter_22_folder))\n",
    "if not os.path.exists(os.path.join(storage_directory,'sail_data',winter_22_folder,'radiosonde')):\n",
    "    os.makedirs(os.path.join(storage_directory,'sail_data',winter_22_folder,'radiosonde'))\n",
    "# create a folder for the event if it does not exist\n",
    "if not os.path.exists(os.path.join(storage_directory,'sail_data',winter_23_folder)):\n",
    "    os.makedirs(os.path.join(storage_directory,'sail_data',winter_23_folder))\n",
    "    # make a radiosonde folder if it does not exist\n",
    "if not os.path.exists(os.path.join(storage_directory,'sail_data',winter_23_folder,'radiosonde')):\n",
    "    os.makedirs(os.path.join(storage_directory,'sail_data',winter_23_folder,'radiosonde'))"
   ]
  },
  {
   "cell_type": "markdown",
   "metadata": {},
   "source": [
    "### Download winter 2022 data from SAIL\n",
    "For now we will just get met, ecor, and laser disdrometer data"
   ]
  },
  {
   "cell_type": "code",
   "execution_count": null,
   "metadata": {},
   "outputs": [],
   "source": [
    "# load in the winter 22 data\n",
    "sail_winter_22_folder = os.path.join(storage_directory,'sail_data',winter_22_folder)\n",
    "# create empty data dictionary\n",
    "w22_data_loc_dict = {}\n",
    "# Iterate through the dictionary and pull the data for each datastream\n",
    "for k,v in sail_datastream_dict.items():\n",
    "    if (k =='radiosonde') & (len(os.listdir(os.path.join(sail_winter_22_folder,\"radiosonde\"))) > 0):\n",
    "        print(\"Radiosonde data already donwloaded.\")\n",
    "        print('-------------------')\n",
    "    # Check if the file already exists\n",
    "    elif (os.path.exists(f'{sail_winter_22_folder}/{k}_{winter_22[0]}_{winter_22[1]}.nc')): \n",
    "        print(f'{k}_{winter_22[0]}_{winter_22[1]}.nc already exists')\n",
    "        print('-------------------')\n",
    "        # add the filename to the dictionary which can be used if we want to load the data\n",
    "        w22_data_loc_dict[k] = os.path.join(sail_winter_22_folder,f'{k}_{winter_22[0]}_{winter_22[1]}.nc')\n",
    "        continue\n",
    "    else:\n",
    "        # explicitly download radiosonde data because they are a lot easier to process and think about when in individual files\n",
    "        if k == 'radiosonde':\n",
    "            discovery.download_data(\n",
    "                api_username,\n",
    "                api_token,\n",
    "                v,\n",
    "                startdate=winter_22[0],\n",
    "                enddate=winter_22[1],\n",
    "                output=sail_winter_22_folder+'/radiosonde/'\n",
    "            )\n",
    "        else:\n",
    "            ds = get_sail_data(api_username,\n",
    "                        api_token,\n",
    "                        v,\n",
    "                        startdate=winter_22[0],\n",
    "                        enddate=winter_22[1])\n",
    "            ds.to_netcdf(f'{sail_winter_22_folder}/{k}_{winter_22[0]}_{winter_22[1]}.nc')\n",
    "            w22_data_loc_dict[k] = os.path.join(sail_winter_22_folder,f'{k}_{winter_22[0]}_{winter_22[1]}.nc')"
   ]
  },
  {
   "cell_type": "code",
   "execution_count": null,
   "metadata": {},
   "outputs": [],
   "source": [
    "w22_SAIL_gts_met = xr.open_dataset(w22_data_loc_dict['met']).sel(time=slice('2021-12-01','2022-03-31'))\n",
    "w22_SAIL_gts_ld = xr.open_dataset(w22_data_loc_dict['laser_disdrometer_gothic']).sel(time=slice('2021-12-01','2022-03-31'))\n",
    "w22_SAIL_gts_ldq = xr.open_dataset(w22_data_loc_dict['ldquants']).sel(time=slice('2021-12-01','2022-03-31'))\n",
    "w22_SAIL_gts_pluvio = xr.open_dataset(w22_data_loc_dict['pluvio2']).sel(time=slice('2021-12-01','2022-03-31'))\n"
   ]
  },
  {
   "cell_type": "markdown",
   "metadata": {},
   "source": [
    "### Download winter 2023 data from SAIL\n",
    "For now we will just get met, ecor, and laser disdrometer data"
   ]
  },
  {
   "cell_type": "code",
   "execution_count": null,
   "metadata": {},
   "outputs": [],
   "source": [
    "# load in the winter 23 data\n",
    "sail_winter_23_folder = os.path.join(storage_directory,'sail_data',winter_23_folder)\n",
    "# create empty data dictionary\n",
    "w23_data_loc_dict = {}\n",
    "# Iterate through the dictionary and pull the data for each datastream\n",
    "for k,v in sail_datastream_dict.items():\n",
    "    if (k =='radiosonde') & (len(os.listdir(os.path.join(sail_winter_23_folder,\"radiosonde\"))) > 0):\n",
    "        print(\"Radiosonde data already donwloaded.\")\n",
    "        print('-------------------')\n",
    "    # Check if the file already exists\n",
    "    elif (os.path.exists(f'{sail_winter_23_folder}/{k}_{winter_23[0]}_{winter_23[1]}.nc')): \n",
    "        print(f'{k}_{winter_23[0]}_{winter_23[1]}.nc already exists')\n",
    "        print('-------------------')\n",
    "        # add the filename to the dictionary which can be used if we want to load the data\n",
    "        w23_data_loc_dict[k] = os.path.join(sail_winter_23_folder,f'{k}_{winter_23[0]}_{winter_23[1]}.nc')\n",
    "        continue\n",
    "    else:\n",
    "        # explicitly download radiosonde data because they are a lot easier to process and think about when in individual files\n",
    "        if k == 'radiosonde':\n",
    "            discovery.download_data(\n",
    "                api_username,\n",
    "                api_token,\n",
    "                v,\n",
    "                startdate=winter_23[0],\n",
    "                enddate=winter_23[1],\n",
    "                output=sail_winter_23_folder+'/radiosonde/'\n",
    "            )\n",
    "        else:\n",
    "            ds = get_sail_data(api_username,\n",
    "                        api_token,\n",
    "                        v,\n",
    "                        startdate=winter_23[0],\n",
    "                        enddate=winter_23[1])\n",
    "            ds.to_netcdf(f'{sail_winter_23_folder}/{k}_{winter_23[0]}_{winter_23[1]}.nc')\n",
    "            w23_data_loc_dict[k] = os.path.join(sail_winter_23_folder,f'{k}_{winter_23[0]}_{winter_23[1]}.nc')"
   ]
  },
  {
   "cell_type": "code",
   "execution_count": null,
   "metadata": {},
   "outputs": [],
   "source": [
    "w23_SAIL_gts_met = xr.open_dataset(w23_data_loc_dict['met']).sel(time=slice('2022-12-01','2023-03-31'))\n",
    "w23_SAIL_gts_ld = xr.open_dataset(w23_data_loc_dict['laser_disdrometer_gothic']).sel(time=slice('2022-12-01','2023-03-31'))\n",
    "w23_SAIL_gts_ldq = xr.open_dataset(w23_data_loc_dict['ldquants']).sel(time=slice('2022-12-01','2023-03-31'))\n",
    "w23_SAIL_gts_pluvio = xr.open_dataset(w23_data_loc_dict['pluvio2']).sel(time=slice('2022-12-01','2023-03-31'))"
   ]
  },
  {
   "cell_type": "markdown",
   "metadata": {},
   "source": [
    "### Pull in corrected disdrometer data"
   ]
  },
  {
   "cell_type": "code",
   "execution_count": null,
   "metadata": {},
   "outputs": [],
   "source": [
    "w22_SAIL_gts_ld_corrected = xr.open_dataset('../../01_data/processed_data/sail_processed/precipitation_rate_gts_w22.nc')\n",
    "w23_SAIL_gts_ld_corrected = xr.open_dataset('../../01_data/processed_data/sail_processed/precipitation_rate_gts_w23.nc')"
   ]
  },
  {
   "cell_type": "markdown",
   "metadata": {},
   "source": [
    "# SPLASH\n",
    "\n",
    "### Get Tilden's data from the small double fenced intercomparison reference gauge"
   ]
  },
  {
   "cell_type": "code",
   "execution_count": null,
   "metadata": {},
   "outputs": [],
   "source": [
    "# open tilden's precipitaiton data\n",
    "w23_SPLASH_kp_tilden_prcp = pd.read_csv('../../01_data/processed_data/splash/tilden_precip_2022_2023.csv', index_col=0)\n"
   ]
  },
  {
   "cell_type": "markdown",
   "metadata": {},
   "source": [
    "### Get ASFS data"
   ]
  },
  {
   "cell_type": "code",
   "execution_count": null,
   "metadata": {},
   "outputs": [],
   "source": [
    "# open kettle ponds and avery picnic asfs datasets\n",
    "w22_SPLASH_kp_asfs = xr.open_dataset('../../01_data/processed_data/splash/w22_splash_kp_qc_1H.nc')\n",
    "w22_SPLASH_ap_asfs = xr.open_dataset('../../01_data/processed_data/splash/w22_splash_ap_qc_1H.nc')\n",
    "w23_SPLASH_kp_asfs = xr.open_dataset('../../01_data/processed_data/splash/w23_splash_kp_qc_1H.nc')\n",
    "w23_SPLASH_ap_asfs = xr.open_dataset('../../01_data/processed_data/splash/w23_splash_ap_qc_1H.nc')"
   ]
  },
  {
   "cell_type": "markdown",
   "metadata": {},
   "source": [
    "### Get Ceilometer Data for Kettle Ponds\n",
    "- gathered from the [Zenodo site](https://zenodo.org/records/10520198/files/ckp.cl51.cloud_prod.zip?download=1)"
   ]
  },
  {
   "cell_type": "code",
   "execution_count": null,
   "metadata": {},
   "outputs": [],
   "source": [
    "SPLASH_kp_ceil = xr.open_dataset('/storage/dlhogan/synoptic_sublimation/splash_data/ceilometer/splash_kp_ceilometer.nc')\n",
    "w22_SPLASH_kp_ceil = SPLASH_kp_ceil.sel(time=slice('2021-12-01','2022-03-31'))\n",
    "w23_SPLASH_kp_ceil = SPLASH_kp_ceil.sel(time=slice('2022-10-01','2023-03-31'))"
   ]
  },
  {
   "cell_type": "markdown",
   "metadata": {},
   "source": [
    "### Get Corrected Laser Disdrometer Data from KPS\n",
    "- gathered from the [Zenodo site](https://zenodo.org/records/10372121)"
   ]
  },
  {
   "cell_type": "code",
   "execution_count": null,
   "metadata": {},
   "outputs": [],
   "source": [
    "w22_SPLASH_kp_ld = xr.open_dataset('../../01_data/processed_data/splash/wy22_resampled_1H_SPLASH_kp_ldis.nc')\n",
    "w23_SPLASH_kp_ld = xr.open_dataset('../../01_data/processed_data/splash/wy23_resampled_1H_SPLASH_kp_ldis.nc')\n",
    "\n",
    "# filter to the same time period as the ceilometer data\n",
    "w22_SPLASH_kp_ld = w22_SPLASH_kp_ld.sel(time=slice('2021-12-01','2022-03-31'))\n",
    "w23_SPLASH_kp_ld = w23_SPLASH_kp_ld.sel(time=slice('2022-12-01','2023-03-31'))"
   ]
  },
  {
   "cell_type": "code",
   "execution_count": null,
   "metadata": {},
   "outputs": [],
   "source": [
    "parsivel_correction_dict = {\n",
    "    'holroyd1971': [0.17, -1],\n",
    "    'brandes2007': [0.178, -0.922],\n",
    "    'heymsfield2004': [0.104, -0.95]\n",
    "}\n",
    "\n",
    "def correct_parsivel_for_snow(ds, method='holroyd1971'):\n",
    "    \"\"\"\n",
    "    Correct snowfall rate using a method discussed in Boudala et al. 2014\n",
    "    \"\"\"\n",
    "    a = parsivel_correction_dict[method][0]\n",
    "    b = parsivel_correction_dict[method][1]\n",
    "    # Number density of particles\n",
    "    N_D = ds['particle_distribution']\n",
    "    # Fall velocity of particles summed over raw_fall_velocity\n",
    "    # V_D = ds['fall_velocity_calculated']\n",
    "    # Class size width\n",
    "    class_size_width = ds['size_bins']\n",
    "\n",
    "    # Apply the condition to include particle sizes from 2 to 31\n",
    "    size_bins_indices = range(2, 32)\n",
    "    raw_fall_velocity_indices = range(2, 32)\n",
    "\n",
    "    # Select the relevant slices using isel\n",
    "    N_D_masked = N_D.isel(size_bins=size_bins_indices)\n",
    "    class_size_width_masked = class_size_width.isel(size_bins=size_bins_indices)\n",
    "    # V_D_masked = V_D.isel(raw_fall_velocity=raw_fall_velocity_indices)\n",
    "\n",
    "    # Calculate the snowfall rate using vectorized operations\n",
    "    result = (N_D_masked * class_size_width_masked ** (3 + b)).sum(dim='size_bins')\n",
    "\n",
    "    # Calculate the final result\n",
    "    final_result = (6 * a * np.pi * 10e-3 * result)/60\n",
    "    return final_result"
   ]
  },
  {
   "cell_type": "code",
   "execution_count": null,
   "metadata": {},
   "outputs": [],
   "source": [
    "# make a new dataset for each with corrected precipitation rates\n",
    "w22_SPLASH_kp_ld_corrected = correct_parsivel_for_snow(w22_SPLASH_kp_ld)\n",
    "w23_SPLASH_kp_ld_corrected = correct_parsivel_for_snow(w23_SPLASH_kp_ld)"
   ]
  },
  {
   "cell_type": "markdown",
   "metadata": {},
   "source": [
    "# billy barr"
   ]
  },
  {
   "cell_type": "code",
   "execution_count": null,
   "metadata": {},
   "outputs": [],
   "source": [
    "# billy barr precipitation data\n",
    "bb_gts_prcp = pd.read_csv('../../01_data/raw_data/billy_barr/billy_barr_data.xls',skiprows=[1], header=0, delimiter='\\t')\n",
    "# use columns 1 and 2 as the datetime combining date and time\n",
    "bb_gts_prcp['datetime'] = pd.to_datetime(bb_gts_prcp['Date'] + ' ' + bb_gts_prcp['Time of Day'])\n",
    "# set the datetime as the index\n",
    "bb_gts_prcp['datetime'] = pd.to_datetime(bb_gts_prcp['datetime'])\n",
    "\n",
    "bb_gts_prcp = bb_gts_prcp.set_index('datetime')\n",
    "# drop the Date and Time of Day columns\n",
    "bb_gts_prcp = bb_gts_prcp.drop(columns=['Date','Time of Day'])\n",
    "\n",
    "# winter 22 and 23 data\n",
    "w22_bb_prcp = bb_gts_prcp.loc['2021-12-01':'2022-03-31']\n",
    "w23_bb_prcp = bb_gts_prcp.loc['2022-12-01':'2023-03-31']"
   ]
  },
  {
   "cell_type": "markdown",
   "metadata": {},
   "source": [
    "# Plotting them up"
   ]
  },
  {
   "cell_type": "code",
   "execution_count": null,
   "metadata": {},
   "outputs": [],
   "source": [
    "fig = go.Figure()\n",
    "\n",
    "fig.add_trace(go.Scatter(x=w22_bb_prcp.index, \n",
    "                         y=w22_bb_prcp['Precipitation'].cumsum(), \n",
    "                         name='billy barr', \n",
    "                         mode='lines', \n",
    "                         line=dict(color='blue')))\n",
    "fig.add_trace(go.Scatter(x=w22_SPLASH_kp_ld.isel(size_bins=0).time,\n",
    "                            y=w22_SPLASH_kp_ld['Amount'].isel(size_bins=0).cumsum(),\n",
    "                            name='SPLASH Kettle Ponds LDIS', \n",
    "                            mode='lines', \n",
    "                            line=dict(color='red')))\n",
    "fig.add_trace(go.Scatter(x=w22_SPLASH_kp_ld_corrected.time,\n",
    "                            y=w22_SPLASH_kp_ld_corrected.cumsum(),\n",
    "                            name='SPLASH Kettle Ponds LDIS corrected', \n",
    "                            mode='lines', \n",
    "                            line=dict(color='red', dash='dash'))) \n",
    "fig.add_trace(go.Scatter(x=w22_SAIL_gts_pluvio.time,\n",
    "                            y=w22_SAIL_gts_pluvio['accum_rtnrt'].cumsum(),\n",
    "                            name='SAIL Gothic Pluvio', \n",
    "                            mode='lines', \n",
    "                            line=dict(color='green')))\n",
    "fig.add_trace(go.Scatter(x=w22_SAIL_gts_met.time,\n",
    "                            y=w22_SAIL_gts_met['tbrg_precip_total'].cumsum(),\n",
    "                            name='SAIL Gothic Tipping Bucket', \n",
    "                            mode='lines', \n",
    "                            line=dict(color='purple'))) \n",
    "fig.add_trace(go.Scatter(x=w22_SAIL_gts_met.time,\n",
    "                            y=(w22_SAIL_gts_met['org_precip_rate_mean']/60).cumsum(),\n",
    "                            name='SAIL Gothic Optical Rain Gauge', \n",
    "                            mode='lines', \n",
    "                            line=dict(color='orange')))\n",
    "fig.add_trace(go.Scatter(x=w22_SAIL_gts_met.where(w22_SAIL_gts_met.qc_pwd_precip_rate_mean_1min==0).time,\n",
    "                            y=(w22_SAIL_gts_met.where(w22_SAIL_gts_met.qc_pwd_precip_rate_mean_1min==0)['pwd_precip_rate_mean_1min']/60).cumsum(),\n",
    "                            name='SAIL Gothic Present Weather Detector', \n",
    "                            mode='lines', \n",
    "                            line=dict(color='black')))\n",
    "fig.add_trace(go.Scatter(x=w22_SAIL_gts_ld.time,\n",
    "                            y=(w22_SAIL_gts_ld['precip_rate']/60).cumsum(),\n",
    "                            name='SAIL Gothic Laser Disdrometer (raw)', \n",
    "                            mode='lines', \n",
    "                            line=dict(color='brown')))\n",
    "fig.add_trace(go.Scatter(x=w22_SAIL_gts_ld_corrected.time,\n",
    "                         y=(w22_SAIL_gts_ld_corrected['corrected_prcp_rate_m2']).cumsum(),\n",
    "                         mode='lines',\n",
    "                         name='SAIL Gothic Laser Disdrometer (corrected)',\n",
    "                         line=dict(color='brown', dash='dash')))\n",
    "fig.add_trace(go.Scatter(x=w22_SAIL_gts_ldq.time,\n",
    "                            y=(w22_SAIL_gts_ldq['rain_rate']/60).cumsum(),\n",
    "                            name='SAIL Gothic Laser Disdrometer Quants', \n",
    "                            mode='lines', \n",
    "                            line=dict(color='gold')))\n",
    "\n",
    "\n",
    "fig.update_layout(title='Winter 22 Precipitation Comparison',\n",
    "                    xaxis_title='Date',\n",
    "                    yaxis_title='Cumulative Precipitation (mm)',\n",
    "                    showlegend=True,\n",
    "                    width=800,\n",
    "                    height=600)\n",
    "                        "
   ]
  },
  {
   "cell_type": "code",
   "execution_count": null,
   "metadata": {},
   "outputs": [],
   "source": [
    "fig = go.Figure()\n",
    "\n",
    "fig.add_trace(go.Scatter(x=w23_bb_prcp[w23_bb_prcp['Precipitation']<10].index, \n",
    "                         y=w23_bb_prcp[w23_bb_prcp['Precipitation']<10]['Precipitation'].cumsum(), \n",
    "                         name='billy barr', \n",
    "                         mode='lines', \n",
    "                         line=dict(color='blue')))\n",
    "fig.add_trace(go.Scatter(x=w23_SPLASH_kp_ld.where(w23_SPLASH_kp_ld['Amount']>0).isel(size_bins=0).time,\n",
    "                            y=w23_SPLASH_kp_ld.where(w23_SPLASH_kp_ld['Amount']>0).Amount.isel(size_bins=0).cumsum(),\n",
    "                            name='SPLASH Kettle Ponds LDIS', \n",
    "                            mode='lines', \n",
    "                            line=dict(color='red')))\n",
    "fig.add_trace(go.Scatter(x=w23_SPLASH_kp_ld_corrected.time,\n",
    "                            y=w23_SPLASH_kp_ld_corrected.cumsum(),\n",
    "                            name='SPLASH Kettle Ponds LDIS corrected', \n",
    "                            mode='lines', \n",
    "                            line=dict(color='red', dash='dash'))) \n",
    "fig.add_trace(go.Scatter(x=w23_SAIL_gts_pluvio.time,\n",
    "                            y=w23_SAIL_gts_pluvio['accum_rtnrt'].cumsum(),\n",
    "                            name='SAIL Gothic Pluvio', \n",
    "                            mode='lines', \n",
    "                            line=dict(color='green')))\n",
    "fig.add_trace(go.Scatter(x=w23_SAIL_gts_met.time,\n",
    "                            y=w23_SAIL_gts_met['tbrg_precip_total'].cumsum(),\n",
    "                            name='SAIL Gothic Tipping Bucket', \n",
    "                            mode='lines', \n",
    "                            line=dict(color='purple'))) \n",
    "fig.add_trace(go.Scatter(x=w23_SAIL_gts_met.time,\n",
    "                            y=(w23_SAIL_gts_met['org_precip_rate_mean']/60).cumsum(),\n",
    "                            name='SAIL Gothic Optical Rain Gauge', \n",
    "                            mode='lines', \n",
    "                            line=dict(color='orange')))\n",
    "fig.add_trace(go.Scatter(x=w23_SAIL_gts_met.where(w23_SAIL_gts_met.qc_pwd_precip_rate_mean_1min==0).time,\n",
    "                            y=(w23_SAIL_gts_met.where(w23_SAIL_gts_met.qc_pwd_precip_rate_mean_1min==0)['pwd_precip_rate_mean_1min']/60).cumsum(),\n",
    "                            name='SAIL Gothic Present Weather Detector', \n",
    "                            mode='lines', \n",
    "                            line=dict(color='black')))\n",
    "fig.add_trace(go.Scatter(x=w23_SAIL_gts_ld.time,\n",
    "                            y=(w23_SAIL_gts_ld['precip_rate']/60).cumsum(),\n",
    "                            name='SAIL Gothic Laser Disdrometer (raw)', \n",
    "                            mode='lines', \n",
    "                            line=dict(color='brown')))\n",
    "fig.add_trace(go.Scatter(x=w23_SAIL_gts_ld_corrected.time,\n",
    "                         y=(w23_SAIL_gts_ld_corrected['corrected_prcp_rate_m2']).cumsum(),\n",
    "                         mode='lines',\n",
    "                         name='SAIL Gothic Laser Disdrometer (corrected)',\n",
    "                         line=dict(color='brown', dash='dash')))\n",
    "fig.add_trace(go.Scatter(x=w23_SAIL_gts_ldq.time,\n",
    "                            y=(w23_SAIL_gts_ldq['rain_rate']/60).cumsum(),\n",
    "                            name='SAIL Gothic Laser Disdrometer Quants', \n",
    "                            mode='lines', \n",
    "                            line=dict(color='gold')))\n",
    "fig.add_trace(go.Scatter(x=w23_SPLASH_kp_tilden_prcp.loc['2022-12-01':'2023-03-31'].index,\n",
    "                         y=w23_SPLASH_kp_tilden_prcp['Precip_mm'].loc['2022-12-01':'2023-03-31'].cumsum(),\n",
    "                         name='SPLASH Kettle Ponds SDFIR WB',\n",
    "                         mode='lines',\n",
    "                         line=dict(color='magenta')))\n",
    "                         \n",
    "fig.update_layout(title='Winter 23 Precipitation Comparison',\n",
    "                    xaxis_title='Date',\n",
    "                    yaxis_title='Cumulative Precipitation (mm)',\n",
    "                    showlegend=True,\n",
    "                    width=800,\n",
    "                    height=600)\n",
    "# add SOS snow pillows to the mix                        "
   ]
  },
  {
   "cell_type": "code",
   "execution_count": null,
   "metadata": {},
   "outputs": [],
   "source": [
    "# do a sum sum plot of the gothic pluvio and billy barr's data"
   ]
  }
 ],
 "metadata": {
  "kernelspec": {
   "display_name": "sublime_synoptics",
   "language": "python",
   "name": "python3"
  },
  "language_info": {
   "codemirror_mode": {
    "name": "ipython",
    "version": 3
   },
   "file_extension": ".py",
   "mimetype": "text/x-python",
   "name": "python",
   "nbconvert_exporter": "python",
   "pygments_lexer": "ipython3",
   "version": "3.11.6"
  }
 },
 "nbformat": 4,
 "nbformat_minor": 2
}
