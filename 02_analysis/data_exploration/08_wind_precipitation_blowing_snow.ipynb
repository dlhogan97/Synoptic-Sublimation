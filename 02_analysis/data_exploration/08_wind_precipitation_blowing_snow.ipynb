{
 "cells": [
  {
   "cell_type": "markdown",
   "metadata": {},
   "source": [
    "# Winter Precipitation, Wind Characteristics, and Blowing Snow\n",
    "\n",
    "Author: Daniel Hogan\n",
    "Created: January 17, 2024\n",
    "\n",
    "This notebook will look at wind speed, direction, and precipitation to deduce how winds and precipitatiopn are related. This will help provide evidence in support (or against) my hypothesis that less snow means less sublimation, even if it is windy. "
   ]
  },
  {
   "cell_type": "markdown",
   "metadata": {},
   "source": [
    "### Library imports"
   ]
  },
  {
   "cell_type": "code",
   "execution_count": 11,
   "metadata": {},
   "outputs": [
    {
     "name": "stdout",
     "output_type": "stream",
     "text": [
      "Storage path set to: C:\\Users\\dlhogan\\OneDrive - UW\\Documents\\GitHub\\Synoptic-Sublimation\\01_data\\storage\n"
     ]
    }
   ],
   "source": [
    "import os\n",
    "# Change depending on where this is being run\n",
    "data_source = 'local'  # 'local' or 'remote'\n",
    "if data_source == 'remote':\n",
    "   os.chdir('/home/dlhogan/GitHub/Synoptic-Sublimation/')\n",
    "   storage_path = '/storage/dlhogan/synoptic_sublimation/'\n",
    "else:\n",
    "    os.chdir('C:/Users/dlhogan/OneDrive - UW/Documents/GitHub/Synoptic-Sublimation/')    \n",
    "    storage_path = os.path.join(os.getcwd(), '01_data', 'storage')\n",
    "\n",
    "print(f\"Storage path set to: {storage_path}\")"
   ]
  },
  {
   "cell_type": "code",
   "execution_count": null,
   "metadata": {},
   "outputs": [
    {
     "data": {
      "text/html": [
       "        <script type=\"text/javascript\">\n",
       "        window.PlotlyConfig = {MathJaxConfig: 'local'};\n",
       "        if (window.MathJax && window.MathJax.Hub && window.MathJax.Hub.Config) {window.MathJax.Hub.Config({SVG: {font: \"STIX-Web\"}});}\n",
       "        </script>\n",
       "        <script type=\"module\">import \"https://cdn.plot.ly/plotly-3.0.1.min\"</script>\n",
       "        "
      ]
     },
     "metadata": {},
     "output_type": "display_data"
    },
    {
     "data": {
      "text/html": [
       "        <script type=\"text/javascript\">\n",
       "        window.PlotlyConfig = {MathJaxConfig: 'local'};\n",
       "        if (window.MathJax && window.MathJax.Hub && window.MathJax.Hub.Config) {window.MathJax.Hub.Config({SVG: {font: \"STIX-Web\"}});}\n",
       "        </script>\n",
       "        <script type=\"module\">import \"https://cdn.plot.ly/plotly-3.0.1.min\"</script>\n",
       "        "
      ]
     },
     "metadata": {},
     "output_type": "display_data"
    }
   ],
   "source": [
    "# general\n",
    "import datetime as dt\n",
    "# data \n",
    "import xarray as xr \n",
    "import numpy as np\n",
    "import pandas as pd\n",
    "from act import discovery, plotting\n",
    "\n",
    "# plotting\n",
    "import matplotlib.pyplot as plt\n",
    "import plotly.express as px \n",
    "import plotly.graph_objects as go\n",
    "from plotly.subplots import make_subplots\n",
    "import cufflinks as cf\n",
    "from plotly.offline import download_plotlyjs, init_notebook_mode, plot, iplot\n",
    "import plotly.io as pio\n",
    "\n",
    "# helper tools\n",
    "if data_source == 'remote':\n",
    "    from scripts.get_sail_data import get_sail_data\n",
    "    from sublimpy import utils, variables, tidy, turbulence\n",
    "import scripts.helper_funcs as hf\n",
    "from metpy import calc, units\n",
    "import scipy.stats as stats\n",
    "from sklearn.linear_model import LinearRegression\n",
    "\n",
    "# make plotly work \n",
    "init_notebook_mode(connected=True)\n",
    "cf.go_offline()"
   ]
  },
  {
   "cell_type": "markdown",
   "metadata": {},
   "source": [
    "## Data imports\n",
    "Here, I will gather the laser disdrometer data and organize it into hourly data to plot alongside wind speeds and direction."
   ]
  },
  {
   "cell_type": "code",
   "execution_count": 15,
   "metadata": {},
   "outputs": [],
   "source": [
    "# decide what will be loaded\n",
    "load_disdrometer_data = False\n",
    "load_sdfir_data = False\n",
    "load_wind_data = True"
   ]
  },
  {
   "cell_type": "markdown",
   "metadata": {},
   "source": [
    "### Laser disdrometer\n",
    "Laser disdrometer is 1 minute data, with other dimensions of particle size (mm) and raw_fall_velocity (m/s).\n",
    "The variable of interest is `precip_rate` and `qc_precip_rate`\n",
    "\n",
    "#### SAIL data corrections"
   ]
  },
  {
   "cell_type": "code",
   "execution_count": null,
   "metadata": {},
   "outputs": [],
   "source": [
    "if load_disdrometer_data:\n",
    "    # gather laser disdrometer data for 2022\n",
    "    w22_ld_mtcb_ds = xr.open_dataset(f'{storage_path}sail_data/winter_21_22/laser_disdrometer_mt_cb_20211001_20220930.nc')\n",
    "    w22_ldquants_gts_ds = xr.open_dataset(f'{storage_path}sail_data/winter_21_22/ldquants_20211001_20220930.nc')\n",
    "    w22_ld_gts_ds = xr.open_dataset(f'{storage_path}sail_data/winter_21_22/laser_disdrometer_gothic_20211001_20220930.nc')\n",
    "    w22_splash_ld_kps_ds = xr.open_dataset('./01_data/processed_data/splash/wy22_resampled_5min_SPLASH_kp_ldis.nc')\n",
    "\n",
    "    # gather laser disdrometer data for 2023\n",
    "    w23_ld_mtcb_ds = xr.open_dataset(f'{storage_path}sail_data/winter_22_23/laser_disdrometer_mt_cb_20221001_20230930.nc')\n",
    "    w23_ldquants_gts_ds = xr.open_dataset(f'{storage_path}sail_data/winter_22_23/ldquants_20221001_20230930.nc')\n",
    "    w23_ld_gts_ds = xr.open_dataset(f'{storage_path}sail_data/winter_22_23/laser_disdrometer_gothic_20221001_20230930.nc')\n",
    "    w23_splash_ld_kps_ds = xr.open_dataset('./01_data/processed_data/splash/wy23_resampled_5min_SPLASH_kp_ldis.nc')\n",
    "    \n",
    "    # Now let's filtter the data to our winter period (Dec 1 - Mar 31) and only look at the precip_rate data\n",
    "    w22_prcp_rate_mtcb_ds = w22_ld_mtcb_ds.sel(time=slice('2021-11-30', '2022-05-12'))\n",
    "    w22_prcp_rate_gts_ds = w22_ld_gts_ds.sel(time=slice('2021-11-30', '2022-05-12'))\n",
    "    w22_prcp_rate_kps_ds = w22_splash_ld_kps_ds.sel(time=slice('2021-11-30', '2022-05-12'))\n",
    "    \n",
    "    w23_prcp_rate_mtcb_ds = w23_ld_mtcb_ds.sel(time=slice('2022-11-30', '2023-06-18'))\n",
    "    w23_prcp_rate_gts_ds = w23_ld_gts_ds.sel(time=slice('2022-11-30', '2023-06-18'))\n",
    "    w23_prcp_rate_kps_ds = w23_splash_ld_kps_ds.sel(time=slice('2022-11-30', '2023-06-18'))\n",
    "    "
   ]
  },
  {
   "cell_type": "markdown",
   "metadata": {},
   "source": [
    "##### Data correction: Particle size correction\n",
    "Let's begin by correcting the Parsivel data from SAIL at Gothic\n",
    "- first we emmploy corrections for the density of water in snowflakes and particle sizes of snowflakes following methods from Boudala et al. 2014\n",
    "- then we employ a ceilometer correction for blowing snow. Parameters used in the model were optimized in `11_ceilometer_blowing_snow.ipynb` using a grid search through parameters\n"
   ]
  },
  {
   "cell_type": "code",
   "execution_count": 17,
   "metadata": {},
   "outputs": [],
   "source": [
    "parsivel_correction_dict = {\n",
    "    'holroyd1971': [0.17, -1],\n",
    "    'brandes2007': [0.178, -0.922],\n",
    "    'heymsfield2004': [0.104, -0.95]\n",
    "}\n",
    "\n",
    "def correct_SAIL_parsivel_for_snow(ds, method='holroyd1971'):\n",
    "    \"\"\"\n",
    "    Correct snowfall rate using a method discussed in Boudala et al. 2014\n",
    "    \"\"\"\n",
    "    a = parsivel_correction_dict[method][0]\n",
    "    b = parsivel_correction_dict[method][1]\n",
    "    # Number density of particles\n",
    "    N_D = ds['number_density_drops']\n",
    "    # Fall velocity of particles summed over raw_fall_velocity\n",
    "    V_D = ds['fall_velocity_calculated']\n",
    "    # Class size width\n",
    "    class_size_width = ds['class_size_width']\n",
    "\n",
    "    # Apply the condition to include particle sizes from 2 to 31\n",
    "    particle_size_indices = range(2, 32)\n",
    "    raw_fall_velocity_indices = range(2, 32)\n",
    "\n",
    "    # Select the relevant slices using isel\n",
    "    N_D_masked = N_D.isel(particle_size=particle_size_indices)\n",
    "    class_size_width_masked = class_size_width.isel(particle_size=particle_size_indices)\n",
    "    V_D_masked = V_D.isel(raw_fall_velocity=raw_fall_velocity_indices)\n",
    "\n",
    "    # Calculate the snowfall rate using vectorized operations\n",
    "    result = (N_D_masked * V_D_masked * class_size_width_masked ** (3 + b)).sum(dim='particle_size').sum(dim='raw_fall_velocity')\n",
    "\n",
    "    # Calculate the final result\n",
    "    final_result = (6 * a * np.pi * 10e-4 * result)/60\n",
    "    # filter to only include times with snowfall\n",
    "    final_result = final_result.where(ds['weather_code'].isin([70,71,72,73,74,75,76,77,78,79,85,86,87]), ds['precip_rate'])\n",
    "    return final_result"
   ]
  },
  {
   "cell_type": "code",
   "execution_count": 20,
   "metadata": {},
   "outputs": [],
   "source": [
    "if load_disdrometer_data:\n",
    "    # add the corrected precip rate to the dataset for each method\n",
    "    w23_prcp_rate_mtcb_ds['corrected_prcp_rate_m1'] = correct_SAIL_parsivel_for_snow(w23_prcp_rate_mtcb_ds, method='holroyd1971')\n",
    "    w23_prcp_rate_mtcb_ds['corrected_prcp_rate_m2'] = correct_SAIL_parsivel_for_snow(w23_prcp_rate_mtcb_ds, method='brandes2007')\n",
    "    w23_prcp_rate_mtcb_ds['corrected_prcp_rate_m3'] = correct_SAIL_parsivel_for_snow(w23_prcp_rate_mtcb_ds, method='heymsfield2004')\n",
    "\n",
    "    w23_prcp_rate_gts_ds['corrected_prcp_rate_m1'] = correct_SAIL_parsivel_for_snow(w23_prcp_rate_gts_ds, method='holroyd1971')\n",
    "    w23_prcp_rate_gts_ds['corrected_prcp_rate_m2'] = correct_SAIL_parsivel_for_snow(w23_prcp_rate_gts_ds, method='brandes2007')\n",
    "    w23_prcp_rate_gts_ds['corrected_prcp_rate_m3'] = correct_SAIL_parsivel_for_snow(w23_prcp_rate_gts_ds, method='heymsfield2004')\n",
    "\n",
    "    w22_prcp_rate_mtcb_ds['corrected_prcp_rate_m1'] = correct_SAIL_parsivel_for_snow(w22_prcp_rate_mtcb_ds, method='holroyd1971')\n",
    "    w22_prcp_rate_mtcb_ds['corrected_prcp_rate_m2'] = correct_SAIL_parsivel_for_snow(w22_prcp_rate_mtcb_ds, method='brandes2007')\n",
    "    w22_prcp_rate_mtcb_ds['corrected_prcp_rate_m3'] = correct_SAIL_parsivel_for_snow(w22_prcp_rate_mtcb_ds, method='heymsfield2004')\n",
    "\n",
    "    w22_prcp_rate_gts_ds['corrected_prcp_rate_m1'] = correct_SAIL_parsivel_for_snow(w22_prcp_rate_gts_ds, method='holroyd1971')\n",
    "    w22_prcp_rate_gts_ds['corrected_prcp_rate_m2'] = correct_SAIL_parsivel_for_snow(w22_prcp_rate_gts_ds, method='brandes2007')\n",
    "    w22_prcp_rate_gts_ds['corrected_prcp_rate_m3'] = correct_SAIL_parsivel_for_snow(w22_prcp_rate_gts_ds, method='heymsfield2004')\n",
    "\n",
    "    # now only grab the precip rate data\n",
    "    w23_prcp_rate_mtcb_ds = w23_prcp_rate_mtcb_ds[['corrected_prcp_rate_m1', 'corrected_prcp_rate_m2', 'corrected_prcp_rate_m3','precip_rate', 'qc_precip_rate']]\n",
    "    w23_prcp_rate_gts_ds = w23_prcp_rate_gts_ds[['corrected_prcp_rate_m1', 'corrected_prcp_rate_m2', 'corrected_prcp_rate_m3','precip_rate', 'qc_precip_rate']]\n",
    "\n",
    "    w22_prcp_rate_mtcb_ds = w22_prcp_rate_mtcb_ds[['corrected_prcp_rate_m1', 'corrected_prcp_rate_m2', 'corrected_prcp_rate_m3','precip_rate', 'qc_precip_rate']]\n",
    "    w22_prcp_rate_gts_ds = w22_prcp_rate_gts_ds[['corrected_prcp_rate_m1', 'corrected_prcp_rate_m2', 'corrected_prcp_rate_m3','precip_rate', 'qc_precip_rate']]"
   ]
  },
  {
   "cell_type": "code",
   "execution_count": 21,
   "metadata": {},
   "outputs": [],
   "source": [
    "if load_disdrometer_data:\n",
    "    # Now let's filter any data that has a qc_precip_rate value of 0\n",
    "    w23_prcp_rate_mtcb_ds = w23_prcp_rate_mtcb_ds.where(w23_prcp_rate_mtcb_ds.qc_precip_rate == 0, np.nan)\n",
    "    w23_prcp_rate_gts_ds = w23_prcp_rate_gts_ds.where(w23_prcp_rate_gts_ds.qc_precip_rate == 0, np.nan)\n",
    "    w22_prcp_rate_mtcb_ds = w22_prcp_rate_mtcb_ds.where(w22_prcp_rate_mtcb_ds.qc_precip_rate == 0, np.nan)\n",
    "    w22_prcp_rate_gts_ds = w22_prcp_rate_gts_ds.where(w22_prcp_rate_gts_ds.qc_precip_rate == 0, np.nan)\n",
    "\n",
    "    # now let's resample the data to hourly sums\n",
    "    w23_prcp_rate_1H_mtcb_ds = w23_prcp_rate_mtcb_ds.resample(time='1H').sum()/60\n",
    "    w23_prcp_rate_1H_gts_ds = w23_prcp_rate_gts_ds.resample(time='1H').sum()/60\n",
    "    w22_prcp_rate_1H_mtcb_ds = w22_prcp_rate_mtcb_ds.resample(time='1H').sum()/60\n",
    "    w22_prcp_rate_1H_gts_ds = w22_prcp_rate_gts_ds.resample(time='1H').sum()/60"
   ]
  },
  {
   "cell_type": "markdown",
   "metadata": {},
   "source": [
    "##### Data correction: Using ceilometer to classify blowing snow\n",
    "\n",
    "In `11_ceilometer_blowing_snow.ipynb`, we used a simple classification algorithm to try to separate periods of blowing snow from periods of precipitiation, let's see how that impacts the total precipitation quantities."
   ]
  },
  {
   "cell_type": "code",
   "execution_count": null,
   "metadata": {},
   "outputs": [],
   "source": [
    "if load_disdrometer_data:\n",
    "    # open these datasets to get the ceilometer preciptiation classificiation data.\n",
    "    w22_ceil_precip_class = xr.open_dataset('./01_data/processed_data/sail/ceilometer_precipitation_classification_w22.nc')\n",
    "    w23_ceil_precip_class = xr.open_dataset('./01_data/processed_data/sail/ceilometer_precipitation_classification_w23.nc')\n",
    "\n",
    "    # now let's get 5 minute totals of precipitation\n",
    "    w22_prcp_rate_5min_gts_ds = (w22_prcp_rate_gts_ds[['corrected_prcp_rate_m1', 'corrected_prcp_rate_m2', 'corrected_prcp_rate_m3',\n",
    "                                                        'precip_rate', 'qc_precip_rate']].to_dataframe().resample('5min').sum()/60).to_xarray().sel(time=slice('2021-11-30','2022-05-11'))\n",
    "    w23_prcp_rate_5min_gts_ds = (w23_prcp_rate_gts_ds[['corrected_prcp_rate_m1', 'corrected_prcp_rate_m2', 'corrected_prcp_rate_m3',\n",
    "                                                        'precip_rate', 'qc_precip_rate']].to_dataframe().resample('5min').sum()/60).to_xarray().sel(time=slice('2022-11-30','2023-06-15'))\n",
    "\n",
    "    # if needed, filter each dataset to match period lengths\n",
    "    # print the start and end of w22_ceil_precip_class\n",
    "    print('Winter 2022 SAIL Ceilometer')\n",
    "    print(w22_ceil_precip_class.time.min().values, w22_ceil_precip_class.time.max().values)\n",
    "    print('Winter 2022 SAIL Disdrometer')\n",
    "    print(w22_prcp_rate_5min_gts_ds.time.min().values, w22_prcp_rate_5min_gts_ds.time.max().values)\n",
    "    print('Winter 2023 SAIL Ceilometer')\n",
    "    print(w23_ceil_precip_class.time.min().values, w23_ceil_precip_class.time.max().values)\n",
    "    print('Winter 2023 SAIL Disdrometer')\n",
    "    print(w23_prcp_rate_5min_gts_ds.time.min().values, w23_prcp_rate_5min_gts_ds.time.max().values)\n",
    "\n",
    "    # align the time dimensions\n",
    "    w22_ceil_precip_class['time'] = w22_prcp_rate_5min_gts_ds['time']\n",
    "    w23_ceil_precip_class['time'] = w23_prcp_rate_5min_gts_ds['time']\n",
    "    # now let's filer each where w22_ceil_precip_class is 1\n",
    "    w22_prcp_rate_5min_gts_corrected_ds = w22_prcp_rate_5min_gts_ds.where(w22_ceil_precip_class.backscatter == 1, 0)\n",
    "    w23_prcp_rate_5min_gts_corrected_ds = w23_prcp_rate_5min_gts_ds.where(w23_ceil_precip_class.backscatter == 1, 0)\n",
    "\n",
    "\n",
    "    # now let's resample to hourly sums\n",
    "    w22_prcp_rate_1H_gts_corrected_ds = w22_prcp_rate_5min_gts_corrected_ds.resample(time='1H').sum()\n",
    "    w23_prcp_rate_1H_gts_corrected_ds = w23_prcp_rate_5min_gts_corrected_ds.resample(time='1H').sum()\n",
    "\n",
    "    # create a binary_preicp variable for wheneber any of the precip_rate variables are greater than 0\n",
    "    for var in ['corrected_prcp_rate_m1', 'corrected_prcp_rate_m2', 'corrected_prcp_rate_m3','precip_rate']:\n",
    "        # save these as a new variable in the dataset with the same dimension of time\n",
    "        w22_prcp_rate_1H_gts_corrected_ds[f'binary_{var}'] = (w22_prcp_rate_1H_gts_corrected_ds[var] > 0).astype(int)\n",
    "        w23_prcp_rate_1H_gts_corrected_ds[f'binary_{var}'] = (w23_prcp_rate_1H_gts_corrected_ds[var] > 0).astype(int)\n",
    "        # drop the range dimension\n"
   ]
  },
  {
   "cell_type": "code",
   "execution_count": 23,
   "metadata": {},
   "outputs": [
    {
     "name": "stdout",
     "output_type": "stream",
     "text": [
      "Disdrometer data not loaded, skipping this step.\n"
     ]
    }
   ],
   "source": [
    "save_file = False\n",
    "# now for the corrected_prcp_rate_variables as metadata about which method they come from \n",
    "def add_attributes_and_save_file(ds, filepath, save_file=True):\n",
    "\n",
    "    ds['corrected_prcp_rate_m1'].attrs['method'] = 'holroyd1971'\n",
    "    ds['corrected_prcp_rate_m2'].attrs['method'] = 'brandes2007'\n",
    "    ds['corrected_prcp_rate_m3'].attrs['method'] = 'heymsfield2004'\n",
    "    # if 'precip_rate' in varialbe\n",
    "    if 'precip_rate' in ds:\n",
    "        ds['precip_rate'].attrs['method'] = 'raw'\n",
    "        ds['precip_rate'].attrs['long_name'] = 'Raw Precipitation Rate with ceilometer correction'\n",
    "        ds['precip_rate'].attrs['units'] = 'mm/hr'\n",
    "    elif 'Amount' in ds:\n",
    "        ds['Amount'].attrs['method'] = 'raw'\n",
    "        ds['Amount'].attrs['long_name'] = 'Raw Precipitation Rate with ceilometer correction'\n",
    "        ds['Amount'].attrs['units'] = 'mm/hr'\n",
    "\n",
    "    # add a long_name description of each of these variables\n",
    "    ds['corrected_prcp_rate_m1'].attrs['long_name'] = 'Corrected Precipitation Rate using Holroyd et al. (1971) with ceilometer correction'\n",
    "    ds['corrected_prcp_rate_m2'].attrs['long_name'] = 'Corrected Precipitation Rate using Brandes et al. (2007) with ceilometer correction'\n",
    "    ds['corrected_prcp_rate_m3'].attrs['long_name'] = 'Corrected Precipitation Rate using Heymsfield et al. (2004) with ceilometer correction'\n",
    "    \n",
    "    # add a units attribute\n",
    "    ds['corrected_prcp_rate_m1'].attrs['units'] = 'mm/hr'\n",
    "    ds['corrected_prcp_rate_m2'].attrs['units'] = 'mm/hr'\n",
    "    ds['corrected_prcp_rate_m3'].attrs['units'] = 'mm/hr'\n",
    "    \n",
    "    # save the gts data to a netcdf file\n",
    "    if save_file:\n",
    "        ds.to_netcdf(filepath)\n",
    "\n",
    "if load_disdrometer_data:\n",
    "    add_attributes_and_save_file(w22_prcp_rate_1H_gts_corrected_ds, './01_data/processed_data/sail/precipitation_rate_gts_w22.nc', save_file=save_file)\n",
    "    add_attributes_and_save_file(w23_prcp_rate_1H_gts_corrected_ds, './01_data/processed_data/sail/precipitation_rate_gts_w23.nc', save_file=save_file)\n",
    "else: \n",
    "    print(\"Disdrometer data not loaded, skipping this step.\")"
   ]
  },
  {
   "cell_type": "markdown",
   "metadata": {},
   "source": [
    "#### SPLASH data corrections"
   ]
  },
  {
   "cell_type": "code",
   "execution_count": 24,
   "metadata": {},
   "outputs": [],
   "source": [
    "def correct_SPLASH_parsivel_for_snow(ds, method='holroyd1971'):\n",
    "    \"\"\"\n",
    "    Correct snowfall rate using a method discussed in Boudala et al. 2014\n",
    "    \"\"\"\n",
    "    a = parsivel_correction_dict[method][0]\n",
    "    b = parsivel_correction_dict[method][1]\n",
    "    # Number density of particles\n",
    "    N_D = ds['particle_distribution']\n",
    "    # Fall velocity of particles summed over raw_fall_velocity\n",
    "    # V_D = ds['fall_velocity_calculated']\n",
    "    # Class size width\n",
    "    class_size_width = ds['size_bins']\n",
    "\n",
    "    # Apply the condition to include particle sizes from 2 to 31\n",
    "    size_bins_indices = range(2, 32)\n",
    "    raw_fall_velocity_indices = range(2, 32)\n",
    "\n",
    "    # Select the relevant slices using isel\n",
    "    N_D_masked = N_D.isel(size_bins=size_bins_indices)\n",
    "    class_size_width_masked = class_size_width.isel(size_bins=size_bins_indices)\n",
    "    # V_D_masked = V_D.isel(raw_fall_velocity=raw_fall_velocity_indices)\n",
    "\n",
    "    # Calculate the snowfall rate using vectorized operations\n",
    "    result = (N_D_masked * class_size_width_masked ** (3 + b)).sum(dim='size_bins')\n",
    "\n",
    "    # Calculate the final result\n",
    "    final_result = (6 * a * np.pi * 10e-3 * result)/60\n",
    "    # filter to only include times with snowfall\n",
    "    final_result = final_result.where(ds['Type'].isin([2,3]), ds['Amount'])\n",
    "    return final_result"
   ]
  },
  {
   "cell_type": "code",
   "execution_count": 25,
   "metadata": {},
   "outputs": [
    {
     "name": "stdout",
     "output_type": "stream",
     "text": [
      "Disdrometer data not loaded, skipping this step.\n"
     ]
    }
   ],
   "source": [
    "if load_disdrometer_data:\n",
    "    # add the corrected precip rate to the dataset for each method\n",
    "    w22_prcp_rate_kps_ds['corrected_prcp_rate_m1'] = correct_SPLASH_parsivel_for_snow(w22_prcp_rate_kps_ds, method='holroyd1971')\n",
    "    w22_prcp_rate_kps_ds['corrected_prcp_rate_m2'] = correct_SPLASH_parsivel_for_snow(w22_prcp_rate_kps_ds, method='brandes2007')\n",
    "    w22_prcp_rate_kps_ds['corrected_prcp_rate_m3'] = correct_SPLASH_parsivel_for_snow(w22_prcp_rate_kps_ds, method='heymsfield2004')\n",
    "\n",
    "    w23_prcp_rate_kps_ds['corrected_prcp_rate_m1'] = correct_SPLASH_parsivel_for_snow(w23_prcp_rate_kps_ds, method='holroyd1971')\n",
    "    w23_prcp_rate_kps_ds['corrected_prcp_rate_m2'] = correct_SPLASH_parsivel_for_snow(w23_prcp_rate_kps_ds, method='brandes2007')\n",
    "    w23_prcp_rate_kps_ds['corrected_prcp_rate_m3'] = correct_SPLASH_parsivel_for_snow(w23_prcp_rate_kps_ds, method='heymsfield2004')\n",
    "\n",
    "    # now only grab the precip rate data\n",
    "    w23_prcp_rate_kps_ds = w23_prcp_rate_kps_ds[['corrected_prcp_rate_m1', 'corrected_prcp_rate_m2', 'corrected_prcp_rate_m3','Amount', 'Good']]\n",
    "    w22_prcp_rate_kps_ds = w22_prcp_rate_kps_ds[['corrected_prcp_rate_m1', 'corrected_prcp_rate_m2', 'corrected_prcp_rate_m3','Amount', 'Good']]\n",
    "\n",
    "else: \n",
    "    print(\"Disdrometer data not loaded, skipping this step.\")"
   ]
  },
  {
   "cell_type": "code",
   "execution_count": 26,
   "metadata": {},
   "outputs": [
    {
     "name": "stdout",
     "output_type": "stream",
     "text": [
      "Disdrometer data not loaded, skipping this step.\n"
     ]
    }
   ],
   "source": [
    "if load_disdrometer_data:\n",
    "    # Now let's filter any data that has a qc_precip_rate value of 0\n",
    "    w23_prcp_rate_kps_ds = w23_prcp_rate_kps_ds.where(w23_prcp_rate_kps_ds.Good > 2, np.nan)\n",
    "    w22_prcp_rate_kps_ds = w22_prcp_rate_kps_ds.where(w22_prcp_rate_kps_ds.Good > 2, np.nan)\n",
    "    # remove all values less than 0\n",
    "    w23_prcp_rate_kps_ds = w23_prcp_rate_kps_ds.where(w23_prcp_rate_kps_ds.Amount >= 0, 0)\n",
    "    w22_prcp_rate_kps_ds = w22_prcp_rate_kps_ds.where(w22_prcp_rate_kps_ds.Amount >= 0, 0)\n",
    "    # now let's resample the data to hourly sums\n",
    "    w23_prcp_rate_1H_kps_ds = w23_prcp_rate_kps_ds.resample(time='1H').mean()\n",
    "    w22_prcp_rate_1H_kps_ds = w22_prcp_rate_kps_ds.resample(time='1H').mean()\n",
    "    # multiply Amount by 12 to get to the hourly rate\n",
    "    w23_prcp_rate_1H_kps_ds['Amount'] = w23_prcp_rate_1H_kps_ds['Amount']*12\n",
    "    w22_prcp_rate_1H_kps_ds['Amount'] = w22_prcp_rate_1H_kps_ds['Amount']*12\n",
    "\n",
    "else: \n",
    "    print(\"Disdrometer data not loaded, skipping this step.\")"
   ]
  },
  {
   "cell_type": "markdown",
   "metadata": {},
   "source": [
    "##### Data correction: Particle size correction\n",
    "\n",
    "In `11_ceilometer_blowing_snow.ipynb`, we used a simple classification algorithm to try to correct periods of blowing snow from periods of precipitiation, let's see how that impacts the total precipitation quantities."
   ]
  },
  {
   "cell_type": "code",
   "execution_count": 27,
   "metadata": {},
   "outputs": [
    {
     "name": "stdout",
     "output_type": "stream",
     "text": [
      "Disdrometer data not loaded, skipping this step.\n"
     ]
    }
   ],
   "source": [
    "if load_disdrometer_data:\n",
    "    # open these datasets to get the SPLASH_ceilometer preciptiation classificiation data.\n",
    "    w22_SPLASH_ceil_precip_class = xr.open_dataset('./01_data/processed_data/splash/ceilometer_precipitation_classification_splash_w22.nc').sel(time=slice('2021-11-30', '2022-05-12'))\n",
    "    w23_SPLASH_ceil_precip_class = xr.open_dataset('./01_data/processed_data/splash/ceilometer_precipitation_classification_splash_w23.nc').sel(time=slice('2022-11-30', '2023-06-18'))\n",
    "\n",
    "    # check to see if the lengths are the same of the time dimension\n",
    "    print(len(w22_SPLASH_ceil_precip_class.time), len(w22_prcp_rate_kps_ds.time))\n",
    "    print(len(w23_SPLASH_ceil_precip_class.time), len(w23_prcp_rate_kps_ds.time))\n",
    "    if len(w22_SPLASH_ceil_precip_class.time) != len(w22_prcp_rate_kps_ds.time):\n",
    "        print('The lengths of the time dimension are not the same')\n",
    "        # change so that the time dimension is the same\n",
    "        # find which is shorter\n",
    "        if len(w22_SPLASH_ceil_precip_class.time) < len(w22_prcp_rate_kps_ds.time):\n",
    "            w22_prcp_rate_kps_ds = w22_prcp_rate_kps_ds.sel(time=w22_SPLASH_ceil_precip_class.time)\n",
    "        else:\n",
    "            w22_SPLASH_ceil_precip_class = w22_SPLASH_ceil_precip_class.sel(time=w22_prcp_rate_kps_ds.time)\n",
    "    if len(w23_SPLASH_ceil_precip_class.time) != len(w23_prcp_rate_kps_ds.time):\n",
    "        print('The lengths of the time dimension are not the same')\n",
    "        # change so that the time dimension is the same\n",
    "        # find which is shorter\n",
    "        if len(w23_SPLASH_ceil_precip_class.time) < len(w23_prcp_rate_kps_ds.time):\n",
    "            w23_prcp_rate_kps_ds = w23_prcp_rate_kps_ds.sel(time=w23_SPLASH_ceil_precip_class.time)\n",
    "        else:\n",
    "            w23_SPLASH_ceil_precip_class = w23_SPLASH_ceil_precip_class.sel(time=w23_prcp_rate_kps_ds.time)\n",
    "\n",
    "    # now let's filer each where w22_SPLASH_ceil_precip_class is 1\n",
    "    w22_prcp_rate_kps_corrected_ds = w22_prcp_rate_kps_ds.where(w22_SPLASH_ceil_precip_class.backscatter_profile == 1, 0)\n",
    "    w23_prcp_rate_kps_corrected_ds = w23_prcp_rate_kps_ds.where(w23_SPLASH_ceil_precip_class.backscatter_profile == 1, 0)\n",
    "\n",
    "    # now let's resample to hourly sums\n",
    "    w22_prcp_rate_1H_kps_corrected_ds = w22_prcp_rate_kps_corrected_ds.resample(time='1H').sum()\n",
    "    w23_prcp_rate_1H_kps_corrected_ds = w23_prcp_rate_kps_corrected_ds.resample(time='1H').sum()\n",
    "\n",
    "    # create a binary_preicp variable for wheneber any of the precip_rate variables are greater than 0\n",
    "    for var in ['corrected_prcp_rate_m1', 'corrected_prcp_rate_m2', 'corrected_prcp_rate_m3','Amount']:\n",
    "        # save these as a new variable in the dataset with the same dimension of time\n",
    "        w22_prcp_rate_1H_kps_ds[f'binary_{var}'] = (w22_prcp_rate_1H_kps_ds[var] > 0).astype(int)\n",
    "        w23_prcp_rate_1H_kps_ds[f'binary_{var}'] = (w23_prcp_rate_1H_kps_ds[var] > 0).astype(int)\n",
    "\n",
    "    add_attributes_and_save_file(w22_prcp_rate_1H_kps_ds, './01_data/processed_data/splash/corrected_ldis_precipitation_rate_kps_w22.nc', save_file=save_file)\n",
    "    add_attributes_and_save_file(w23_prcp_rate_1H_kps_ds, './01_data/processed_data/splash/corrected_ldis_precipitation_rate_kps_w23.nc', save_file=save_file)\n",
    "\n",
    "else:\n",
    "    print(\"Disdrometer data not loaded, skipping this step.\")"
   ]
  },
  {
   "cell_type": "markdown",
   "metadata": {},
   "source": [
    "#### Figures"
   ]
  },
  {
   "cell_type": "code",
   "execution_count": null,
   "metadata": {},
   "outputs": [],
   "source": [
    "plot_plotly_figs = load_disdrometer_data"
   ]
  },
  {
   "cell_type": "markdown",
   "metadata": {},
   "source": [
    "##### 2022 precipitation comparison"
   ]
  },
  {
   "cell_type": "code",
   "execution_count": 3,
   "metadata": {},
   "outputs": [],
   "source": [
    "if plot_plotly_figs:\n",
    "    fig = go.Figure()\n",
    "\n",
    "    # fig.add_trace(go.Scatter(x=w22_prcp_rate_1H_gts_ds.time,\n",
    "    #                          y=w22_prcp_rate_1H_gts_ds.precip_rate,\n",
    "    #                          mode='lines',\n",
    "    #                          marker=dict(size=5),\n",
    "    #                          name='Gothic<br>Raw'))\n",
    "    # fig.add_trace(go.Scatter(x=w22_prcp_rate_1H_gts_ds.time,\n",
    "    #                          y=w22_prcp_rate_1H_gts_ds.corrected_prcp_rate_m1,\n",
    "    #                          mode='lines',\n",
    "    #                          marker=dict(size=5),\n",
    "    #                          name='Gothic<br>M1'))\n",
    "    # fig.add_trace(go.Scatter(x=w22_prcp_rate_1H_gts_ds.time,\n",
    "    #                             y=w22_prcp_rate_1H_gts_ds.corrected_prcp_rate_m2,\n",
    "    #                             mode='lines',\n",
    "    #                             marker=dict(size=5),\n",
    "    #                             name='Gothic<br>M2'))\n",
    "    # fig.add_trace(go.Scatter(x=w22_prcp_rate_1H_gts_ds.time,\n",
    "    #                             y=w22_prcp_rate_1H_gts_ds.corrected_prcp_rate_m3,\n",
    "    #                             mode='lines',\n",
    "    #                             marker=dict(size=5),\n",
    "    #                             name='Gothic<br>M3'))\n",
    "    # fig.add_trace(go.Scatter(x=w22_prcp_rate_1H_gts_corrected_ds.time,\n",
    "    #                          y=w22_prcp_rate_1H_gts_corrected_ds.corrected_prcp_rate_m1,\n",
    "    #                          mode='lines',\n",
    "    #                          marker=dict(size=5),\n",
    "    #                          name='Gothic<br>ind corrected M1)'))\n",
    "    # fig.update_layout(title='Winter Precipitation (Dec 1 - Mar 31) 2021-2022',\n",
    "    #                     xaxis_title='Time',\n",
    "    #                     yaxis_title='Precipitation Rate (mm/hr)',\n",
    "    #                     height=600,\n",
    "    #                     width=800)\n",
    "\n",
    "    # add a second y-axis\n",
    "    fig.update_layout(yaxis2=dict(title='Cumulative Precipitation (mm)',\n",
    "                                overlaying='y',\n",
    "                                side='right'))\n",
    "    fig.add_trace(go.Scatter(x=w22_prcp_rate_1H_gts_ds.time,\n",
    "                            y=w22_prcp_rate_1H_gts_ds.precip_rate.cumsum(),\n",
    "                            mode='lines',\n",
    "                            marker=dict(size=5),\n",
    "                            name='Gothic<br>Raw'))\n",
    "    # fig.add_trace(go.Scatter(x=w22_ldquants_dts_1H_ds.time,\n",
    "    #                          y=w22_ldquants_dts_1H_ds.rain_rate.cumsum(),\n",
    "    #                          mode='lines',\n",
    "    #                          marker=dict(size=5),\n",
    "    #                          name='Gothic<br>LDQuants'))\n",
    "    fig.add_trace(go.Scatter(x=w22_prcp_rate_1H_gts_ds.time,\n",
    "                            y=w22_prcp_rate_1H_gts_ds.corrected_prcp_rate_m1.cumsum(),\n",
    "                            mode='lines',\n",
    "                            marker=dict(size=5),\n",
    "                            name='Gothic<br>M1'))\n",
    "    fig.add_trace(go.Scatter(x=w22_prcp_rate_1H_gts_ds.time,\n",
    "                                y=w22_prcp_rate_1H_gts_ds.corrected_prcp_rate_m2.cumsum(),\n",
    "                                mode='lines',\n",
    "                                marker=dict(size=5),\n",
    "                                name='Gothic<br>M2'))\n",
    "    fig.add_trace(go.Scatter(x=w22_prcp_rate_1H_gts_ds.time,\n",
    "                                y=w22_prcp_rate_1H_gts_ds.corrected_prcp_rate_m3.cumsum(),\n",
    "                                mode='lines',\n",
    "                                marker=dict(size=5),\n",
    "                                name='Gothic<br>M3'))\n",
    "    fig.add_trace(go.Scatter(x=w22_prcp_rate_1H_gts_corrected_ds.time,\n",
    "                            y=w22_prcp_rate_1H_gts_corrected_ds.corrected_prcp_rate_m1.cumsum(),\n",
    "                            mode='lines',\n",
    "                            marker=dict(size=5),\n",
    "                            name='Gothic<br>wind corrected M1)'))\n",
    "    # move the legend up a bit\n",
    "    fig.update_layout(legend=dict(y=1.2), width=800, height=600)\n",
    "    # update hovermode to just display the name and increase hte width of the hover box\n",
    "    fig.update_layout(hovermode='x unified', hoverlabel=dict(bgcolor='white', font_size=12))"
   ]
  },
  {
   "cell_type": "markdown",
   "metadata": {},
   "source": [
    "##### 2023 precipitation comparison"
   ]
  },
  {
   "cell_type": "code",
   "execution_count": 4,
   "metadata": {},
   "outputs": [],
   "source": [
    "if plot_plotly_figs: \n",
    "    fig = go.Figure()\n",
    "    fig.add_trace(go.Scatter(x=w23_prcp_rate_1H_mtcb_ds.time,\n",
    "                            y=w23_prcp_rate_1H_mtcb_ds.precip_rate,\n",
    "                            mode='lines',\n",
    "                            marker=dict(size=5),\n",
    "                            name='Mt. Crested Butte'))\n",
    "    fig.add_trace(go.Scatter(x=w23_prcp_rate_1H_gts_ds.time,\n",
    "                            y=w23_prcp_rate_1H_gts_ds.precip_rate,\n",
    "                            mode='lines',\n",
    "                            marker=dict(size=5),\n",
    "                            name='Gothic Townsite'))\n",
    "    fig.add_trace(go.Scatter(x=w23_prcp_rate_1H_gts_corrected_ds.time,\n",
    "                            y=w23_prcp_rate_1H_gts_corrected_ds.precip_rate,\n",
    "                            mode='lines',\n",
    "                            marker=dict(size=5),\n",
    "                            name='Gothic Townsite (corrected<br>blowing snow)'))\n",
    "    fig.update_layout(title='Cold Season 2022-2023',\n",
    "                        xaxis_title='Time',\n",
    "                        yaxis_title='Precipitation Rate (mm/hr)',\n",
    "                        height=600,\n",
    "                        width=800)\n",
    "\n",
    "    # add a second y-axis\n",
    "    fig.update_layout(yaxis2=dict(title='Cumulative Precipitation (mm)',\n",
    "                                overlaying='y',\n",
    "                                side='right'))\n",
    "    fig.add_trace(go.Scatter(x=w23_prcp_rate_1H_mtcb_ds.time,\n",
    "                                y=w23_prcp_rate_1H_mtcb_ds.precip_rate.cumsum(),\n",
    "                                mode='lines',\n",
    "                                marker=dict(size=5,\n",
    "                                            color='blue'),\n",
    "                                name='Mt. Crested Butte',\n",
    "                                showlegend=False,\n",
    "                                yaxis='y2'))\n",
    "    fig.add_trace(go.Scatter(x=w23_prcp_rate_1H_gts_ds.time,\n",
    "                                y=w23_prcp_rate_1H_gts_ds.precip_rate.cumsum(),\n",
    "                                mode='lines',\n",
    "                                marker=dict(size=5,\n",
    "                                            color='red'),\n",
    "                                name='Gothic Townsite',\n",
    "                                showlegend=False,\n",
    "                                yaxis='y2'))\n",
    "    fig.add_trace(go.Scatter(x=w23_prcp_rate_1H_gts_corrected_ds.time,\n",
    "                                y=w23_prcp_rate_1H_gts_corrected_ds.precip_rate.cumsum(),\n",
    "                                mode='lines',\n",
    "                                marker=dict(size=5,\n",
    "                                            color='green'),\n",
    "                                name='Gothic Townsite (corrected<br>blowing snow)',\n",
    "                                showlegend=False,\n",
    "                                yaxis='y2'))\n",
    "    # move the legend up a bit\n",
    "    fig.update_layout(legend=dict(y=1.2))"
   ]
  },
  {
   "cell_type": "code",
   "execution_count": 5,
   "metadata": {},
   "outputs": [],
   "source": [
    "if plot_plotly_figs:\n",
    "    fig = go.Figure()\n",
    "    fig.add_trace(go.Scatter(x=w22_prcp_rate_1H_mtcb_ds.time,\n",
    "                            y=w22_prcp_rate_1H_mtcb_ds.precip_rate,\n",
    "                            mode='lines',\n",
    "                            marker=dict(size=5),\n",
    "                            name='Mt. Crested Butte'))\n",
    "    fig.add_trace(go.Scatter(x=w22_prcp_rate_1H_gts_ds.time,\n",
    "                            y=w22_prcp_rate_1H_gts_ds.precip_rate,\n",
    "                            mode='lines',\n",
    "                            marker=dict(size=5),\n",
    "                            name='Gothic Townsite'))\n",
    "    fig.add_trace(go.Scatter(x=w22_prcp_rate_1H_gts_corrected_ds.time,\n",
    "                            y=w22_prcp_rate_1H_gts_corrected_ds.precip_rate,\n",
    "                            mode='lines',\n",
    "                            marker=dict(size=5),\n",
    "                            name='Gothic Townsite (corrected)'))\n",
    "    fig.update_layout(title='Cold Season Precipitation 2021-2022',\n",
    "                        xaxis_title='Time',\n",
    "                        yaxis_title='Precipitation Rate (mm/hr)',\n",
    "                        height=600,\n",
    "                        width=800)\n",
    "\n",
    "    # add a second y-axis\n",
    "    fig.update_layout(yaxis2=dict(title='Cumulative Precipitation (mm)',\n",
    "                                overlaying='y',\n",
    "                                side='right'))\n",
    "    fig.add_trace(go.Scatter(x=w22_prcp_rate_1H_mtcb_ds.time,\n",
    "                                y=w22_prcp_rate_1H_mtcb_ds.precip_rate.cumsum(),\n",
    "                                mode='lines',\n",
    "                                marker=dict(size=5,\n",
    "                                            color='blue'),\n",
    "                                name='Mt. Crested Butte',\n",
    "                                showlegend=False,\n",
    "                                yaxis='y2'))\n",
    "    fig.add_trace(go.Scatter(x=w22_prcp_rate_1H_gts_ds.time,\n",
    "                                y=w22_prcp_rate_1H_gts_ds.precip_rate.cumsum(),\n",
    "                                mode='lines',\n",
    "                                marker=dict(size=5,\n",
    "                                            color='red'),\n",
    "                                name='Gothic Townsite',\n",
    "                                showlegend=False,\n",
    "                                yaxis='y2'))\n",
    "    fig.add_trace(go.Scatter(x=w22_prcp_rate_1H_gts_corrected_ds.time,\n",
    "                                y=w22_prcp_rate_1H_gts_corrected_ds.precip_rate.cumsum(),\n",
    "                                mode='lines',\n",
    "                                marker=dict(size=5,\n",
    "                                            color='green'),\n",
    "                                name='Gothic Townsite (corrected)',\n",
    "                                showlegend=False,\n",
    "                                yaxis='y2'))\n",
    "    # move the legend up a bit\n",
    "    fig.update_layout(legend=dict(y=1.2))"
   ]
  },
  {
   "cell_type": "markdown",
   "metadata": {},
   "source": [
    "### Kettle Ponds SDFIR"
   ]
  },
  {
   "cell_type": "code",
   "execution_count": 29,
   "metadata": {},
   "outputs": [
    {
     "data": {
      "text/html": [
       "<div><svg style=\"position: absolute; width: 0; height: 0; overflow: hidden\">\n",
       "<defs>\n",
       "<symbol id=\"icon-database\" viewBox=\"0 0 32 32\">\n",
       "<path d=\"M16 0c-8.837 0-16 2.239-16 5v4c0 2.761 7.163 5 16 5s16-2.239 16-5v-4c0-2.761-7.163-5-16-5z\"></path>\n",
       "<path d=\"M16 17c-8.837 0-16-2.239-16-5v6c0 2.761 7.163 5 16 5s16-2.239 16-5v-6c0 2.761-7.163 5-16 5z\"></path>\n",
       "<path d=\"M16 26c-8.837 0-16-2.239-16-5v6c0 2.761 7.163 5 16 5s16-2.239 16-5v-6c0 2.761-7.163 5-16 5z\"></path>\n",
       "</symbol>\n",
       "<symbol id=\"icon-file-text2\" viewBox=\"0 0 32 32\">\n",
       "<path d=\"M28.681 7.159c-0.694-0.947-1.662-2.053-2.724-3.116s-2.169-2.030-3.116-2.724c-1.612-1.182-2.393-1.319-2.841-1.319h-15.5c-1.378 0-2.5 1.121-2.5 2.5v27c0 1.378 1.122 2.5 2.5 2.5h23c1.378 0 2.5-1.122 2.5-2.5v-19.5c0-0.448-0.137-1.23-1.319-2.841zM24.543 5.457c0.959 0.959 1.712 1.825 2.268 2.543h-4.811v-4.811c0.718 0.556 1.584 1.309 2.543 2.268zM28 29.5c0 0.271-0.229 0.5-0.5 0.5h-23c-0.271 0-0.5-0.229-0.5-0.5v-27c0-0.271 0.229-0.5 0.5-0.5 0 0 15.499-0 15.5 0v7c0 0.552 0.448 1 1 1h7v19.5z\"></path>\n",
       "<path d=\"M23 26h-14c-0.552 0-1-0.448-1-1s0.448-1 1-1h14c0.552 0 1 0.448 1 1s-0.448 1-1 1z\"></path>\n",
       "<path d=\"M23 22h-14c-0.552 0-1-0.448-1-1s0.448-1 1-1h14c0.552 0 1 0.448 1 1s-0.448 1-1 1z\"></path>\n",
       "<path d=\"M23 18h-14c-0.552 0-1-0.448-1-1s0.448-1 1-1h14c0.552 0 1 0.448 1 1s-0.448 1-1 1z\"></path>\n",
       "</symbol>\n",
       "</defs>\n",
       "</svg>\n",
       "<style>/* CSS stylesheet for displaying xarray objects in jupyterlab.\n",
       " *\n",
       " */\n",
       "\n",
       ":root {\n",
       "  --xr-font-color0: var(\n",
       "    --jp-content-font-color0,\n",
       "    var(--pst-color-text-base rgba(0, 0, 0, 1))\n",
       "  );\n",
       "  --xr-font-color2: var(\n",
       "    --jp-content-font-color2,\n",
       "    var(--pst-color-text-base, rgba(0, 0, 0, 0.54))\n",
       "  );\n",
       "  --xr-font-color3: var(\n",
       "    --jp-content-font-color3,\n",
       "    var(--pst-color-text-base, rgba(0, 0, 0, 0.38))\n",
       "  );\n",
       "  --xr-border-color: var(\n",
       "    --jp-border-color2,\n",
       "    hsl(from var(--pst-color-on-background, white) h s calc(l - 10))\n",
       "  );\n",
       "  --xr-disabled-color: var(\n",
       "    --jp-layout-color3,\n",
       "    hsl(from var(--pst-color-on-background, white) h s calc(l - 40))\n",
       "  );\n",
       "  --xr-background-color: var(\n",
       "    --jp-layout-color0,\n",
       "    var(--pst-color-on-background, white)\n",
       "  );\n",
       "  --xr-background-color-row-even: var(\n",
       "    --jp-layout-color1,\n",
       "    hsl(from var(--pst-color-on-background, white) h s calc(l - 5))\n",
       "  );\n",
       "  --xr-background-color-row-odd: var(\n",
       "    --jp-layout-color2,\n",
       "    hsl(from var(--pst-color-on-background, white) h s calc(l - 15))\n",
       "  );\n",
       "}\n",
       "\n",
       "html[theme=\"dark\"],\n",
       "html[data-theme=\"dark\"],\n",
       "body[data-theme=\"dark\"],\n",
       "body.vscode-dark {\n",
       "  --xr-font-color0: var(\n",
       "    --jp-content-font-color0,\n",
       "    var(--pst-color-text-base, rgba(255, 255, 255, 1))\n",
       "  );\n",
       "  --xr-font-color2: var(\n",
       "    --jp-content-font-color2,\n",
       "    var(--pst-color-text-base, rgba(255, 255, 255, 0.54))\n",
       "  );\n",
       "  --xr-font-color3: var(\n",
       "    --jp-content-font-color3,\n",
       "    var(--pst-color-text-base, rgba(255, 255, 255, 0.38))\n",
       "  );\n",
       "  --xr-border-color: var(\n",
       "    --jp-border-color2,\n",
       "    hsl(from var(--pst-color-on-background, #111111) h s calc(l + 10))\n",
       "  );\n",
       "  --xr-disabled-color: var(\n",
       "    --jp-layout-color3,\n",
       "    hsl(from var(--pst-color-on-background, #111111) h s calc(l + 40))\n",
       "  );\n",
       "  --xr-background-color: var(\n",
       "    --jp-layout-color0,\n",
       "    var(--pst-color-on-background, #111111)\n",
       "  );\n",
       "  --xr-background-color-row-even: var(\n",
       "    --jp-layout-color1,\n",
       "    hsl(from var(--pst-color-on-background, #111111) h s calc(l + 5))\n",
       "  );\n",
       "  --xr-background-color-row-odd: var(\n",
       "    --jp-layout-color2,\n",
       "    hsl(from var(--pst-color-on-background, #111111) h s calc(l + 15))\n",
       "  );\n",
       "}\n",
       "\n",
       ".xr-wrap {\n",
       "  display: block !important;\n",
       "  min-width: 300px;\n",
       "  max-width: 700px;\n",
       "}\n",
       "\n",
       ".xr-text-repr-fallback {\n",
       "  /* fallback to plain text repr when CSS is not injected (untrusted notebook) */\n",
       "  display: none;\n",
       "}\n",
       "\n",
       ".xr-header {\n",
       "  padding-top: 6px;\n",
       "  padding-bottom: 6px;\n",
       "  margin-bottom: 4px;\n",
       "  border-bottom: solid 1px var(--xr-border-color);\n",
       "}\n",
       "\n",
       ".xr-header > div,\n",
       ".xr-header > ul {\n",
       "  display: inline;\n",
       "  margin-top: 0;\n",
       "  margin-bottom: 0;\n",
       "}\n",
       "\n",
       ".xr-obj-type,\n",
       ".xr-array-name {\n",
       "  margin-left: 2px;\n",
       "  margin-right: 10px;\n",
       "}\n",
       "\n",
       ".xr-obj-type {\n",
       "  color: var(--xr-font-color2);\n",
       "}\n",
       "\n",
       ".xr-sections {\n",
       "  padding-left: 0 !important;\n",
       "  display: grid;\n",
       "  grid-template-columns: 150px auto auto 1fr 0 20px 0 20px;\n",
       "}\n",
       "\n",
       ".xr-section-item {\n",
       "  display: contents;\n",
       "}\n",
       "\n",
       ".xr-section-item input {\n",
       "  display: inline-block;\n",
       "  opacity: 0;\n",
       "  height: 0;\n",
       "}\n",
       "\n",
       ".xr-section-item input + label {\n",
       "  color: var(--xr-disabled-color);\n",
       "  border: 2px solid transparent !important;\n",
       "}\n",
       "\n",
       ".xr-section-item input:enabled + label {\n",
       "  cursor: pointer;\n",
       "  color: var(--xr-font-color2);\n",
       "}\n",
       "\n",
       ".xr-section-item input:focus + label {\n",
       "  border: 2px solid var(--xr-font-color0) !important;\n",
       "}\n",
       "\n",
       ".xr-section-item input:enabled + label:hover {\n",
       "  color: var(--xr-font-color0);\n",
       "}\n",
       "\n",
       ".xr-section-summary {\n",
       "  grid-column: 1;\n",
       "  color: var(--xr-font-color2);\n",
       "  font-weight: 500;\n",
       "}\n",
       "\n",
       ".xr-section-summary > span {\n",
       "  display: inline-block;\n",
       "  padding-left: 0.5em;\n",
       "}\n",
       "\n",
       ".xr-section-summary-in:disabled + label {\n",
       "  color: var(--xr-font-color2);\n",
       "}\n",
       "\n",
       ".xr-section-summary-in + label:before {\n",
       "  display: inline-block;\n",
       "  content: \"►\";\n",
       "  font-size: 11px;\n",
       "  width: 15px;\n",
       "  text-align: center;\n",
       "}\n",
       "\n",
       ".xr-section-summary-in:disabled + label:before {\n",
       "  color: var(--xr-disabled-color);\n",
       "}\n",
       "\n",
       ".xr-section-summary-in:checked + label:before {\n",
       "  content: \"▼\";\n",
       "}\n",
       "\n",
       ".xr-section-summary-in:checked + label > span {\n",
       "  display: none;\n",
       "}\n",
       "\n",
       ".xr-section-summary,\n",
       ".xr-section-inline-details {\n",
       "  padding-top: 4px;\n",
       "  padding-bottom: 4px;\n",
       "}\n",
       "\n",
       ".xr-section-inline-details {\n",
       "  grid-column: 2 / -1;\n",
       "}\n",
       "\n",
       ".xr-section-details {\n",
       "  display: none;\n",
       "  grid-column: 1 / -1;\n",
       "  margin-bottom: 5px;\n",
       "}\n",
       "\n",
       ".xr-section-summary-in:checked ~ .xr-section-details {\n",
       "  display: contents;\n",
       "}\n",
       "\n",
       ".xr-array-wrap {\n",
       "  grid-column: 1 / -1;\n",
       "  display: grid;\n",
       "  grid-template-columns: 20px auto;\n",
       "}\n",
       "\n",
       ".xr-array-wrap > label {\n",
       "  grid-column: 1;\n",
       "  vertical-align: top;\n",
       "}\n",
       "\n",
       ".xr-preview {\n",
       "  color: var(--xr-font-color3);\n",
       "}\n",
       "\n",
       ".xr-array-preview,\n",
       ".xr-array-data {\n",
       "  padding: 0 5px !important;\n",
       "  grid-column: 2;\n",
       "}\n",
       "\n",
       ".xr-array-data,\n",
       ".xr-array-in:checked ~ .xr-array-preview {\n",
       "  display: none;\n",
       "}\n",
       "\n",
       ".xr-array-in:checked ~ .xr-array-data,\n",
       ".xr-array-preview {\n",
       "  display: inline-block;\n",
       "}\n",
       "\n",
       ".xr-dim-list {\n",
       "  display: inline-block !important;\n",
       "  list-style: none;\n",
       "  padding: 0 !important;\n",
       "  margin: 0;\n",
       "}\n",
       "\n",
       ".xr-dim-list li {\n",
       "  display: inline-block;\n",
       "  padding: 0;\n",
       "  margin: 0;\n",
       "}\n",
       "\n",
       ".xr-dim-list:before {\n",
       "  content: \"(\";\n",
       "}\n",
       "\n",
       ".xr-dim-list:after {\n",
       "  content: \")\";\n",
       "}\n",
       "\n",
       ".xr-dim-list li:not(:last-child):after {\n",
       "  content: \",\";\n",
       "  padding-right: 5px;\n",
       "}\n",
       "\n",
       ".xr-has-index {\n",
       "  font-weight: bold;\n",
       "}\n",
       "\n",
       ".xr-var-list,\n",
       ".xr-var-item {\n",
       "  display: contents;\n",
       "}\n",
       "\n",
       ".xr-var-item > div,\n",
       ".xr-var-item label,\n",
       ".xr-var-item > .xr-var-name span {\n",
       "  background-color: var(--xr-background-color-row-even);\n",
       "  border-color: var(--xr-background-color-row-odd);\n",
       "  margin-bottom: 0;\n",
       "  padding-top: 2px;\n",
       "}\n",
       "\n",
       ".xr-var-item > .xr-var-name:hover span {\n",
       "  padding-right: 5px;\n",
       "}\n",
       "\n",
       ".xr-var-list > li:nth-child(odd) > div,\n",
       ".xr-var-list > li:nth-child(odd) > label,\n",
       ".xr-var-list > li:nth-child(odd) > .xr-var-name span {\n",
       "  background-color: var(--xr-background-color-row-odd);\n",
       "  border-color: var(--xr-background-color-row-even);\n",
       "}\n",
       "\n",
       ".xr-var-name {\n",
       "  grid-column: 1;\n",
       "}\n",
       "\n",
       ".xr-var-dims {\n",
       "  grid-column: 2;\n",
       "}\n",
       "\n",
       ".xr-var-dtype {\n",
       "  grid-column: 3;\n",
       "  text-align: right;\n",
       "  color: var(--xr-font-color2);\n",
       "}\n",
       "\n",
       ".xr-var-preview {\n",
       "  grid-column: 4;\n",
       "}\n",
       "\n",
       ".xr-index-preview {\n",
       "  grid-column: 2 / 5;\n",
       "  color: var(--xr-font-color2);\n",
       "}\n",
       "\n",
       ".xr-var-name,\n",
       ".xr-var-dims,\n",
       ".xr-var-dtype,\n",
       ".xr-preview,\n",
       ".xr-attrs dt {\n",
       "  white-space: nowrap;\n",
       "  overflow: hidden;\n",
       "  text-overflow: ellipsis;\n",
       "  padding-right: 10px;\n",
       "}\n",
       "\n",
       ".xr-var-name:hover,\n",
       ".xr-var-dims:hover,\n",
       ".xr-var-dtype:hover,\n",
       ".xr-attrs dt:hover {\n",
       "  overflow: visible;\n",
       "  width: auto;\n",
       "  z-index: 1;\n",
       "}\n",
       "\n",
       ".xr-var-attrs,\n",
       ".xr-var-data,\n",
       ".xr-index-data {\n",
       "  display: none;\n",
       "  border-top: 2px dotted var(--xr-background-color);\n",
       "  padding-bottom: 20px !important;\n",
       "  padding-top: 10px !important;\n",
       "}\n",
       "\n",
       ".xr-var-attrs-in + label,\n",
       ".xr-var-data-in + label,\n",
       ".xr-index-data-in + label {\n",
       "  padding: 0 1px;\n",
       "}\n",
       "\n",
       ".xr-var-attrs-in:checked ~ .xr-var-attrs,\n",
       ".xr-var-data-in:checked ~ .xr-var-data,\n",
       ".xr-index-data-in:checked ~ .xr-index-data {\n",
       "  display: block;\n",
       "}\n",
       "\n",
       ".xr-var-data > table {\n",
       "  float: right;\n",
       "}\n",
       "\n",
       ".xr-var-data > pre,\n",
       ".xr-index-data > pre,\n",
       ".xr-var-data > table > tbody > tr {\n",
       "  background-color: transparent !important;\n",
       "}\n",
       "\n",
       ".xr-var-name span,\n",
       ".xr-var-data,\n",
       ".xr-index-name div,\n",
       ".xr-index-data,\n",
       ".xr-attrs {\n",
       "  padding-left: 25px !important;\n",
       "}\n",
       "\n",
       ".xr-attrs,\n",
       ".xr-var-attrs,\n",
       ".xr-var-data,\n",
       ".xr-index-data {\n",
       "  grid-column: 1 / -1;\n",
       "}\n",
       "\n",
       "dl.xr-attrs {\n",
       "  padding: 0;\n",
       "  margin: 0;\n",
       "  display: grid;\n",
       "  grid-template-columns: 125px auto;\n",
       "}\n",
       "\n",
       ".xr-attrs dt,\n",
       ".xr-attrs dd {\n",
       "  padding: 0;\n",
       "  margin: 0;\n",
       "  float: left;\n",
       "  padding-right: 10px;\n",
       "  width: auto;\n",
       "}\n",
       "\n",
       ".xr-attrs dt {\n",
       "  font-weight: normal;\n",
       "  grid-column: 1;\n",
       "}\n",
       "\n",
       ".xr-attrs dt:hover span {\n",
       "  display: inline-block;\n",
       "  background: var(--xr-background-color);\n",
       "  padding-right: 10px;\n",
       "}\n",
       "\n",
       ".xr-attrs dd {\n",
       "  grid-column: 2;\n",
       "  white-space: pre-wrap;\n",
       "  word-break: break-all;\n",
       "}\n",
       "\n",
       ".xr-icon-database,\n",
       ".xr-icon-file-text2,\n",
       ".xr-no-icon {\n",
       "  display: inline-block;\n",
       "  vertical-align: middle;\n",
       "  width: 1em;\n",
       "  height: 1.5em !important;\n",
       "  stroke-width: 0;\n",
       "  stroke: currentColor;\n",
       "  fill: currentColor;\n",
       "}\n",
       "\n",
       ".xr-var-attrs-in:checked + label > .xr-icon-file-text2,\n",
       ".xr-var-data-in:checked + label > .xr-icon-database,\n",
       ".xr-index-data-in:checked + label > .xr-icon-database {\n",
       "  color: var(--xr-font-color0);\n",
       "  filter: drop-shadow(1px 1px 5px var(--xr-font-color2));\n",
       "  stroke-width: 0.8px;\n",
       "}\n",
       "</style><pre class='xr-text-repr-fallback'>&lt;xarray.DataArray &#x27;Precip_mm&#x27; (time: 5)&gt; Size: 40B\n",
       "array([0., 0., 0., 0., 0.])\n",
       "Coordinates:\n",
       "  * time     (time) datetime64[ns] 40B 2022-11-30 ... 2022-11-30T04:00:00</pre><div class='xr-wrap' style='display:none'><div class='xr-header'><div class='xr-obj-type'>xarray.DataArray</div><div class='xr-array-name'>'Precip_mm'</div><ul class='xr-dim-list'><li><span class='xr-has-index'>time</span>: 5</li></ul></div><ul class='xr-sections'><li class='xr-section-item'><div class='xr-array-wrap'><input id='section-24752d3f-29bd-430b-b0f6-74b2e59ce4c8' class='xr-array-in' type='checkbox' checked><label for='section-24752d3f-29bd-430b-b0f6-74b2e59ce4c8' title='Show/hide data repr'><svg class='icon xr-icon-database'><use xlink:href='#icon-database'></use></svg></label><div class='xr-array-preview xr-preview'><span>0.0 0.0 0.0 0.0 0.0</span></div><div class='xr-array-data'><pre>array([0., 0., 0., 0., 0.])</pre></div></div></li><li class='xr-section-item'><input id='section-b397064c-4884-4e10-9da7-fa4705cbe335' class='xr-section-summary-in' type='checkbox'  checked><label for='section-b397064c-4884-4e10-9da7-fa4705cbe335' class='xr-section-summary' >Coordinates: <span>(1)</span></label><div class='xr-section-inline-details'></div><div class='xr-section-details'><ul class='xr-var-list'><li class='xr-var-item'><div class='xr-var-name'><span class='xr-has-index'>time</span></div><div class='xr-var-dims'>(time)</div><div class='xr-var-dtype'>datetime64[ns]</div><div class='xr-var-preview xr-preview'>2022-11-30 ... 2022-11-30T04:00:00</div><input id='attrs-517e24f2-97d4-46a2-a795-716eed7f3576' class='xr-var-attrs-in' type='checkbox' disabled><label for='attrs-517e24f2-97d4-46a2-a795-716eed7f3576' title='Show/Hide attributes'><svg class='icon xr-icon-file-text2'><use xlink:href='#icon-file-text2'></use></svg></label><input id='data-62acaaa8-4551-4f8b-a642-3956bd5bced3' class='xr-var-data-in' type='checkbox'><label for='data-62acaaa8-4551-4f8b-a642-3956bd5bced3' title='Show/Hide data repr'><svg class='icon xr-icon-database'><use xlink:href='#icon-database'></use></svg></label><div class='xr-var-attrs'><dl class='xr-attrs'></dl></div><div class='xr-var-data'><pre>array([&#x27;2022-11-30T00:00:00.000000000&#x27;, &#x27;2022-11-30T01:00:00.000000000&#x27;,\n",
       "       &#x27;2022-11-30T02:00:00.000000000&#x27;, &#x27;2022-11-30T03:00:00.000000000&#x27;,\n",
       "       &#x27;2022-11-30T04:00:00.000000000&#x27;], dtype=&#x27;datetime64[ns]&#x27;)</pre></div></li></ul></div></li><li class='xr-section-item'><input id='section-e0fe6d3e-1049-4334-8ef0-9f48eb49f0f5' class='xr-section-summary-in' type='checkbox'  ><label for='section-e0fe6d3e-1049-4334-8ef0-9f48eb49f0f5' class='xr-section-summary' >Indexes: <span>(1)</span></label><div class='xr-section-inline-details'></div><div class='xr-section-details'><ul class='xr-var-list'><li class='xr-var-item'><div class='xr-index-name'><div>time</div></div><div class='xr-index-preview'>PandasIndex</div><input type='checkbox' disabled/><label></label><input id='index-b59d1a5b-83b3-4efa-b835-b1f316ed8178' class='xr-index-data-in' type='checkbox'/><label for='index-b59d1a5b-83b3-4efa-b835-b1f316ed8178' title='Show/Hide index repr'><svg class='icon xr-icon-database'><use xlink:href='#icon-database'></use></svg></label><div class='xr-index-data'><pre>PandasIndex(DatetimeIndex([&#x27;2022-11-30 00:00:00&#x27;, &#x27;2022-11-30 01:00:00&#x27;,\n",
       "               &#x27;2022-11-30 02:00:00&#x27;, &#x27;2022-11-30 03:00:00&#x27;,\n",
       "               &#x27;2022-11-30 04:00:00&#x27;],\n",
       "              dtype=&#x27;datetime64[ns]&#x27;, name=&#x27;time&#x27;, freq=&#x27;h&#x27;))</pre></div></li></ul></div></li><li class='xr-section-item'><input id='section-d05a8b02-7480-4637-955a-d3d12d2ce98a' class='xr-section-summary-in' type='checkbox' disabled ><label for='section-d05a8b02-7480-4637-955a-d3d12d2ce98a' class='xr-section-summary'  title='Expand/collapse section'>Attributes: <span>(0)</span></label><div class='xr-section-inline-details'></div><div class='xr-section-details'><dl class='xr-attrs'></dl></div></li></ul></div></div>"
      ],
      "text/plain": [
       "<xarray.DataArray 'Precip_mm' (time: 5)> Size: 40B\n",
       "array([0., 0., 0., 0., 0.])\n",
       "Coordinates:\n",
       "  * time     (time) datetime64[ns] 40B 2022-11-30 ... 2022-11-30T04:00:00"
      ]
     },
     "execution_count": 29,
     "metadata": {},
     "output_type": "execute_result"
    }
   ],
   "source": [
    "tilden_fn = './01_data/processed_data/splash/tilden_precip_2022_2023.csv'\n",
    "if os.path.exists(tilden_fn):\n",
    "    tilden_df = pd.read_csv(tilden_fn, index_col=0, parse_dates=True)\n",
    "else:\n",
    "    fn_2022 = \"/storage/elilouis/sublimationofsnow/tilden_precip_data/KP22_274-365.PRECIP1\"\n",
    "    fn_2023 = \"/storage/elilouis/sublimationofsnow/tilden_precip_data/KP23_001-177.PRECIP1\"\n",
    "\n",
    "    df = pd.concat([\n",
    "        pd.read_csv(fn_2022, delim_whitespace=True),\n",
    "        pd.read_csv(fn_2023, delim_whitespace=True)\n",
    "    ])\n",
    "    # create timestamps from strings\n",
    "    df['date'] = pd.to_datetime(df['date'])\n",
    "    # calculate accumulated precip\n",
    "    # combine data and time(MST) columns into a single datetime column\n",
    "    df['datetime'] = pd.to_datetime(df['date'].astype(str) + ' ' + df['time(MST)'].astype(str))\n",
    "    # set the datetime to the index\n",
    "    df = df.set_index('datetime', drop=True)\n",
    "    # sort index\n",
    "    tilden_df = df.sort_index()\n",
    "    tilden_df.to_csv('./01_data/processed_data/splash/tilden_precip_2022_2023.csv')\n",
    "\n",
    "tilden_winter = tilden_df['Precip_mm'].loc['2022-11-30':'2023-06-18'].resample('1h').sum().to_xarray()\n",
    "# rename the datetime to time\n",
    "tilden_winter = tilden_winter.rename({'datetime':'time'})\n",
    "tilden_winter.head()"
   ]
  },
  {
   "cell_type": "markdown",
   "metadata": {},
   "source": [
    "### Wind Data\n",
    "Now, let's grab the SOS data, the SAIL met data, and the SPLASH data and add the precipitation data to each\n",
    "\n",
    "All time is currently in UTC"
   ]
  },
  {
   "cell_type": "code",
   "execution_count": 30,
   "metadata": {},
   "outputs": [],
   "source": [
    "# Now let's grab wind data from SOS for 2023 at Kettle Ponds and wind data from SAIL at Gothic\n",
    "sos_1H_max_wspd_ds = xr.open_dataset('./01_data/processed_data/sos/sos_ds_1H_max_wspd_storage.nc')\n",
    "sos_1H_mean_wspd_ds = xr.open_dataset('./01_data/raw_data/sos_ds_1H_storage.nc')\n",
    "\n",
    "# SOS data is in utc, let's convert it to mountain time\n",
    "# First let's add the UTC timezone to the datasets \n",
    "# sos_1H_max_wspd_ds['time'] = pd.to_datetime(sos_1H_max_wspd_ds.time).tz_localize('UTC').tz_convert('MST').tz_localize(None)\n",
    "# sos_1H_mean_wspd_ds['time'] = pd.to_datetime(sos_1H_mean_wspd_ds.time).tz_localize('UTC').tz_convert('MST').tz_localize(None)\n",
    "\n",
    "\n",
    "# now let's grab wind data from SAIL in Gothic \n",
    "w22_sail_met_qc_ds_1H = xr.open_dataset('./01_data/processed_data/sail/sail_ds_1H_met_2022.nc')\n",
    "w23_sail_met_qc_ds_1H = xr.open_dataset('./01_data/processed_data/sail/sail_ds_1H_met_2023.nc')\n",
    "\n",
    "# Now we grab the SPLASH data from Avery Picnic and Kettle Ponds\n",
    "##### Check how long these are\n",
    "w23_splash_ap_qc_ds_1H = xr.open_dataset(\"./01_data/processed_data/splash/w23_splash_ap_qc_1H.nc\")\n",
    "w22_splash_ap_qc_ds_1H = xr.open_dataset(\"./01_data/processed_data/splash/w22_splash_ap_qc_1H.nc\")\n",
    "w23_splash_kp_qc_ds_1H = xr.open_dataset(\"./01_data/processed_data/splash/w23_splash_kp_qc_1H.nc\")\n",
    "w22_splash_kp_qc_ds_1H = xr.open_dataset(\"./01_data/processed_data/splash/w22_splash_kp_qc_1H.nc\")\n",
    "\n",
    "# convert the SPLASH time series to mountain time\n",
    "# w23_splash_ap_qc_ds_1H['time'] = pd.to_datetime(w23_splash_ap_qc_ds_1H.time).tz_localize('UTC').tz_convert('MST').tz_localize(None)\n",
    "# w22_splash_ap_qc_ds_1H['time'] = pd.to_datetime(w22_splash_ap_qc_ds_1H.time).tz_localize('UTC').tz_convert('MST').tz_localize(None)\n",
    "# w23_splash_kp_qc_ds_1H['time'] = pd.to_datetime(w23_splash_kp_qc_ds_1H.time).tz_localize('UTC').tz_convert('MST').tz_localize(None)\n",
    "# w22_splash_kp_qc_ds_1H['time'] = pd.to_datetime(w22_splash_kp_qc_ds_1H.time).tz_localize('UTC').tz_convert('MST').tz_localize(None)\n"
   ]
  },
  {
   "cell_type": "markdown",
   "metadata": {},
   "source": [
    "Now let's add precipitation to each dataset for the respective years"
   ]
  },
  {
   "cell_type": "code",
   "execution_count": null,
   "metadata": {},
   "outputs": [],
   "source": [
    "# add precipitation data to each years data\n",
    "# SAIL\n",
    "w22_sail_met_qc_ds_1H['precip_rate'] = w22_prcp_rate_1H_gts_corrected_ds['corrected_prcp_rate_m2']\n",
    "w23_sail_met_qc_ds_1H['precip_rate'] = w23_prcp_rate_1H_gts_corrected_ds['corrected_prcp_rate_m2']\n",
    "w23_sail_met_qc_ds_1H['precip_rate_tilden'] = tilden_winter\n",
    "# SOS\n",
    "sos_1H_mean_wspd_ds['precip_rate'] = w23_prcp_rate_1H_kps_corrected_ds['corrected_prcp_rate_m2']\n",
    "sos_1H_mean_wspd_ds['precip_rate_tilden'] = tilden_winter\n",
    "# SPLASH\n",
    "w22_splash_ap_qc_ds_1H['precip_rate'] = w22_prcp_rate_1H_gts_ds['corrected_prcp_rate_m2']\n",
    "w22_splash_kp_qc_ds_1H['precip_rate'] = w22_prcp_rate_1H_kps_ds['corrected_prcp_rate_m2']\n",
    "w23_splash_ap_qc_ds_1H['precip_rate'] = w23_prcp_rate_1H_gts_ds['corrected_prcp_rate_m2']\n",
    "w23_splash_kp_qc_ds_1H['precip_rate'] = w23_prcp_rate_1H_kps_ds['corrected_prcp_rate_m2']\n",
    "w23_splash_ap_qc_ds_1H['precip_rate_tilden'] = tilden_winter\n",
    "w23_splash_kp_qc_ds_1H['precip_rate_tilden'] = tilden_winter\n",
    "\n",
    "# Now grab the SAIL data \n",
    "w23_sail_kp_qc_ds_1H = pd.read_csv('./01_data/processed_data/sail/w23_sail_met_kp_qc_sublimation.csv', index_col=0, parse_dates=True).to_xarray()\n",
    "# add precip_rate\n",
    "w23_sail_kp_qc_ds_1H['precip_rate'] = w23_prcp_rate_1H_kps_ds['corrected_prcp_rate_m2']\n",
    "w23_sail_kp_qc_ds_1H['precip_rate_tilden'] = tilden_winter"
   ]
  },
  {
   "cell_type": "markdown",
   "metadata": {},
   "source": [
    "## Dataset comparison\n",
    "### Compare Laser Disdrometer to SDFIR data at Kettle Ponds"
   ]
  },
  {
   "cell_type": "code",
   "execution_count": 6,
   "metadata": {},
   "outputs": [],
   "source": [
    "if plot_plotly_figs:\n",
    "   fig = go.Figure()\n",
    "   fig.add_trace(go.Scatter(x=tilden_winter.time,\n",
    "                           y=tilden_winter,\n",
    "                           mode='lines',\n",
    "                           marker=dict(size=5),\n",
    "                           name='Tilden'))\n",
    "   fig.add_trace(go.Scatter(x=w23_prcp_rate_1H_gts_ds.time,\n",
    "                           y=w23_prcp_rate_1H_gts_ds.precip_rate,\n",
    "                           mode='lines',\n",
    "                           marker=dict(size=5),\n",
    "                           name='Gothic LD'))\n",
    "   fig.update_layout(title='Gothic vs. Tilden Winter Precipitation 2023',\n",
    "                     xaxis_title='Time',\n",
    "                     yaxis_title='Precipitation Rate (mm/hr)',\n",
    "                     height=600,\n",
    "                     width=800)\n",
    "\n",
    "   # add a second y-axis\n",
    "   fig.update_layout(yaxis2=dict(title='Cumulative Precipitation (mm)',\n",
    "                                 overlaying='y',\n",
    "                                 side='right'))\n",
    "   fig.add_trace(go.Scatter(x=tilden_winter.time,\n",
    "                           y=tilden_winter.cumsum(),\n",
    "                              mode='lines',\n",
    "                              marker=dict(size=5,\n",
    "                                          color='blue'),\n",
    "                              name='Tilden',\n",
    "                              showlegend=False,\n",
    "                              yaxis='y2'))\n",
    "   fig.add_trace(go.Scatter(x=w23_prcp_rate_1H_gts_ds.time,\n",
    "                              y=w23_prcp_rate_1H_gts_ds.precip_rate.cumsum(),\n",
    "                              mode='lines',\n",
    "                              marker=dict(size=5,\n",
    "                                          color='red'),\n",
    "                              name='Gothic LD',\n",
    "                              showlegend=False,\n",
    "                              yaxis='y2'))\n",
    "   fig.add_trace(go.Scatter(x=w23_ldquants_gts_ds.sel(time=slice('2022-11-30','2023-06-18')).time,\n",
    "                              y=(w23_ldquants_gts_ds.sel(time=slice('2022-11-30','2023-06-18')).rain_rate/60).cumsum(),\n",
    "                              mode='lines',\n",
    "                              marker=dict(size=5,\n",
    "                                          color='purple'),\n",
    "                              name='Gothic LD (Ldquants)',\n",
    "                              showlegend=False,\n",
    "                              yaxis='y2'))\n",
    "   fig.add_trace(go.Scatter(x=w23_prcp_rate_1H_gts_corrected_ds.time,\n",
    "                              y=w23_prcp_rate_1H_gts_corrected_ds.corrected_prcp_rate_m2.cumsum(),\n",
    "                              mode='lines',\n",
    "                              marker=dict(size=5,\n",
    "                                          color='green'),\n",
    "                              name='Gothic LD (corrected with ceilometer+<br>Bouldala et al. 2014)',\n",
    "                              showlegend=True,\n",
    "                              yaxis='y2'))\n",
    "   fig.add_trace(go.Scatter(x=w23_prcp_rate_1H_gts_corrected_ds.time,\n",
    "                              y=w23_prcp_rate_1H_gts_ds.corrected_prcp_rate_m2.cumsum(),\n",
    "                              mode='lines',\n",
    "                              marker=dict(size=5,\n",
    "                                          color='brown'),\n",
    "                              name='Gothic LD (corrected using<br>Boudala et al. 2014)',\n",
    "                              showlegend=True,\n",
    "                              yaxis='y2'))\n",
    "\n",
    "   # move the legend up a bit\n",
    "   fig.update_layout(legend=dict(y=1.1), legend_font_size=16)"
   ]
  },
  {
   "cell_type": "markdown",
   "metadata": {},
   "source": [
    "There appears to be a rise in wind gust speed during stormy periods, but the signal to noise ratio is very low, so not much can be deduced from this"
   ]
  },
  {
   "cell_type": "markdown",
   "metadata": {},
   "source": [
    "### Time Lagged Cross-Correlation Plots between Variables"
   ]
  },
  {
   "cell_type": "code",
   "execution_count": null,
   "metadata": {},
   "outputs": [],
   "source": [
    "# let's add these two dataset together into a dataframe\n",
    "w23_prcp_rate_1H_gts_df = w23_prcp_rate_1H_gts_ds.sel(time=slice('2022-12-01','2023-03-31')).to_dataframe()\n",
    "w22_prcp_rate_1H_gts_df = w22_prcp_rate_1H_gts_ds.sel(time=slice('2021-12-01','2022-03-31')).to_dataframe()\n",
    "\n",
    "# create a binary precipitation dataset for 2022\n",
    "binary_22_df = w22_prcp_rate_1H_gts_df['corrected_prcp_rate_m2'].apply(lambda x: 1 if x > 0 else 0)\n",
    "binary_22_df.name = 'precip_binary'\n",
    "\n",
    "# create a binary precipitation dataset for 2023\n",
    "binary_23_df = w23_prcp_rate_1H_gts_df['corrected_prcp_rate_m2'].apply(lambda x: 1 if x > 0 else 0)\n",
    "binary_23_df.name = 'precip_binary'\n",
    "binary_23_df_tilden = tilden_winter.to_dataframe()['Precip_mm'].apply(lambda x: 1 if x > 0 else 0)\n",
    "binary_23_df_tilden.name = 'precip_binary_tilden'\n",
    "\n",
    "# add blowing snow flux\n",
    "total_bsf = sos_1H_mean_wspd_ds['SF_avg_1m_ue']+sos_1H_mean_wspd_ds['SF_avg_2m_ue']\n",
    "\n",
    "# translate the data before transforming it\n",
    "translated_bsf = total_bsf + 1 - total_bsf.min()\n",
    "sos_1H_mean_wspd_ds['bsf'] = np.log(translated_bsf).where(sos_1H_mean_wspd_ds['SF_avg_1m_ue']+sos_1H_mean_wspd_ds['SF_avg_2m_ue']>0.5, 0)\n",
    "\n",
    "# convert to dataframe\n",
    "sos_1H_mean_wspd_df = sos_1H_mean_wspd_ds.sel(time=slice('2022-12-01','2023-03-31')).to_dataframe()\n",
    "sail_1H_mean_wspd_22_df = w22_sail_met_qc_ds_1H.to_dataframe()\n",
    "sail_1H_mean_wspd_23_df = w23_sail_met_qc_ds_1H.to_dataframe()\n",
    "\n",
    "# combine the binary precipitation data with the wind speed data\n",
    "combined_sos_sail_df = pd.concat([binary_23_df, sos_1H_mean_wspd_df,binary_23_df_tilden], axis=1)[['precip_binary','spd_10m_uw','bsf','precip_rate','w_h2o__5m_c','precip_binary_tilden','precip_rate_tilden']]\n",
    "combined_sail_23_df = pd.concat([binary_23_df, sail_1H_mean_wspd_23_df,binary_23_df_tilden], axis=1)[['precip_binary','precip_rate','wspd_arith_mean','precip_binary_tilden','precip_rate_tilden']]\n",
    "combined_sail_22_df = pd.concat([binary_22_df, sail_1H_mean_wspd_22_df], axis=1)[['precip_binary','precip_rate','wspd_arith_mean']]"
   ]
  },
  {
   "cell_type": "code",
   "execution_count": 28,
   "metadata": {},
   "outputs": [],
   "source": [
    "# save the precipitation binary file\n",
    "save_file = False\n",
    "if save_file:\n",
    "    combined_sail_22_df[['precip_binary','precip_rate']].to_csv('./01_data/processed_data/sail/sail_ld_gothic_2022_precip_binary.csv')\n",
    "    combined_sail_23_df[['precip_binary','precip_rate']].to_csv('./01_data/processed_data/sail/sail_ld_gothic_2023_precip_binary.csv')"
   ]
  },
  {
   "cell_type": "markdown",
   "metadata": {},
   "source": [
    "#### Check for stationarity"
   ]
  },
  {
   "cell_type": "code",
   "execution_count": 29,
   "metadata": {},
   "outputs": [
    {
     "data": {
      "text/html": [
       "<div>\n",
       "<style scoped>\n",
       "    .dataframe tbody tr th:only-of-type {\n",
       "        vertical-align: middle;\n",
       "    }\n",
       "\n",
       "    .dataframe tbody tr th {\n",
       "        vertical-align: top;\n",
       "    }\n",
       "\n",
       "    .dataframe thead th {\n",
       "        text-align: right;\n",
       "    }\n",
       "</style>\n",
       "<table border=\"1\" class=\"dataframe\">\n",
       "  <thead>\n",
       "    <tr style=\"text-align: right;\">\n",
       "      <th></th>\n",
       "      <th>precip_binary</th>\n",
       "      <th>precip_rate</th>\n",
       "      <th>wspd_arith_mean</th>\n",
       "    </tr>\n",
       "  </thead>\n",
       "  <tbody>\n",
       "    <tr>\n",
       "      <th>Test Statistic</th>\n",
       "      <td>-7.270905e+00</td>\n",
       "      <td>-6.395625e+00</td>\n",
       "      <td>-6.998227e+00</td>\n",
       "    </tr>\n",
       "    <tr>\n",
       "      <th>P-value</th>\n",
       "      <td>1.589402e-10</td>\n",
       "      <td>2.054304e-08</td>\n",
       "      <td>7.437529e-10</td>\n",
       "    </tr>\n",
       "    <tr>\n",
       "      <th>Lags Used</th>\n",
       "      <td>1.300000e+01</td>\n",
       "      <td>2.600000e+01</td>\n",
       "      <td>2.700000e+01</td>\n",
       "    </tr>\n",
       "    <tr>\n",
       "      <th>No of Observations</th>\n",
       "      <td>2.886000e+03</td>\n",
       "      <td>2.873000e+03</td>\n",
       "      <td>2.872000e+03</td>\n",
       "    </tr>\n",
       "    <tr>\n",
       "      <th>Critical Value (1%)</th>\n",
       "      <td>-3.432618e+00</td>\n",
       "      <td>-3.432628e+00</td>\n",
       "      <td>-3.432629e+00</td>\n",
       "    </tr>\n",
       "    <tr>\n",
       "      <th>Critical Value (5%)</th>\n",
       "      <td>-2.862542e+00</td>\n",
       "      <td>-2.862547e+00</td>\n",
       "      <td>-2.862547e+00</td>\n",
       "    </tr>\n",
       "    <tr>\n",
       "      <th>Critical Value (10%)</th>\n",
       "      <td>-2.567303e+00</td>\n",
       "      <td>-2.567306e+00</td>\n",
       "      <td>-2.567306e+00</td>\n",
       "    </tr>\n",
       "  </tbody>\n",
       "</table>\n",
       "</div>"
      ],
      "text/plain": [
       "                      precip_binary   precip_rate  wspd_arith_mean\n",
       "Test Statistic        -7.270905e+00 -6.395625e+00    -6.998227e+00\n",
       "P-value                1.589402e-10  2.054304e-08     7.437529e-10\n",
       "Lags Used              1.300000e+01  2.600000e+01     2.700000e+01\n",
       "No of Observations     2.886000e+03  2.873000e+03     2.872000e+03\n",
       "Critical Value (1%)   -3.432618e+00 -3.432628e+00    -3.432629e+00\n",
       "Critical Value (5%)   -2.862542e+00 -2.862547e+00    -2.862547e+00\n",
       "Critical Value (10%)  -2.567303e+00 -2.567306e+00    -2.567306e+00"
      ]
     },
     "execution_count": 29,
     "metadata": {},
     "output_type": "execute_result"
    }
   ],
   "source": [
    "from statsmodels.tsa.stattools import adfuller\n",
    "def adf_test(timeseries):\n",
    "    dftest = adfuller(timeseries, autolag='AIC')\n",
    "    result = pd.Series(dftest[0:4], index=['Test Statistic','P-value','Lags Used','No of Observations'])\n",
    "    for key,value in dftest[4].items():\n",
    "        result['Critical Value (%s)'%key] = value\n",
    "    return result\n",
    "    \n",
    "# adf_table = df.drop('week', axis = 1)\n",
    "df = combined_sail_22_df.dropna().apply(adf_test, axis = 0)\n",
    "df"
   ]
  },
  {
   "cell_type": "markdown",
   "metadata": {},
   "source": [
    "#### Cross-correlation of prcp and wspd\n",
    "\n",
    "Here I used the pointbiserialr function to calculate the correlation coefficient, which is used when one variable is bivariate and the other is continuous. Using this function did not change the results.\n"
   ]
  },
  {
   "cell_type": "markdown",
   "metadata": {},
   "source": [
    "Cross-correlation for 2022 and 2023 between SAIL wind and SAIL Precipitation and for 2023 between SOS wind and SAIL precipitation"
   ]
  },
  {
   "cell_type": "code",
   "execution_count": 30,
   "metadata": {},
   "outputs": [],
   "source": [
    "# function to create lags\n",
    "def lagged_cross_corr(df, max_lag, var1, var2, binary=False):\n",
    "    # Calculate cross-correlation\n",
    "    lags = np.arange(-max_lag-1, max_lag + 1)\n",
    "    cross_corr = []\n",
    "    for lag in lags:\n",
    "        if binary:\n",
    "            if lag < 0:\n",
    "                cross_corr.append(stats.pointbiserialr(df.dropna()[var1].iloc[:lag], df.dropna()[var2].shift(lag).iloc[:lag])[0])\n",
    "            elif lag == 0:\n",
    "                cross_corr.append(stats.pointbiserialr(df.dropna()[var1], df.dropna()[var2])[0])\n",
    "            else:\n",
    "                cross_corr.append(stats.pointbiserialr(df.dropna()[var1].iloc[lag:], df.dropna()[var2].shift(lag).iloc[lag:])[0])\n",
    "        else:\n",
    "            cross_corr = [df[var1].corr(df[var2].shift(lag)) for lag in lags]\n",
    "    return lags, cross_corr"
   ]
  },
  {
   "cell_type": "code",
   "execution_count": null,
   "metadata": {},
   "outputs": [
    {
     "data": {
      "application/vnd.plotly.v1+json": {
       "config": {
        "plotlyServerURL": "https://plot.ly"
       },
       "data": [
        {
         "mode": "lines+markers",
         "name": "SAIL 2022",
         "type": "scatter",
         "x": [
          -25,
          -24,
          -23,
          -22,
          -21,
          -20,
          -19,
          -18,
          -17,
          -16,
          -15,
          -14,
          -13,
          -12,
          -11,
          -10,
          -9,
          -8,
          -7,
          -6,
          -5,
          -4,
          -3,
          -2,
          -1,
          0,
          1,
          2,
          3,
          4,
          5,
          6,
          7,
          8,
          9,
          10,
          11,
          12,
          13,
          14,
          15,
          16,
          17,
          18,
          19,
          20,
          21,
          22,
          23,
          24
         ],
         "y": [
          0.13679563527393238,
          0.1408662664741363,
          0.14175979736029642,
          0.1445735069052183,
          0.14569090310949567,
          0.14392008461080952,
          0.14289769650390605,
          0.1456598230160184,
          0.1464689548370478,
          0.14353465818759018,
          0.14790130048258954,
          0.15713702117478473,
          0.16075704027324722,
          0.16327004215648613,
          0.1737023384418638,
          0.18230919364994538,
          0.1903694584713795,
          0.20234773016839772,
          0.2134636536286121,
          0.22302450486427272,
          0.24276575995603175,
          0.26277836005119154,
          0.28187574539629445,
          0.2970908004014698,
          0.30710089283815856,
          0.3194296239669533,
          0.314999555730709,
          0.30980940513631416,
          0.30184447476718224,
          0.2851287027800985,
          0.27808925271138435,
          0.2678093957456158,
          0.2584039760987808,
          0.24672942121175123,
          0.23691889422408147,
          0.2254089848267063,
          0.21160023338399242,
          0.20420421925834356,
          0.19918004298217545,
          0.19944906675641338,
          0.2025546066675043,
          0.2056886323615954,
          0.20870744294879062,
          0.20484157014869603,
          0.2002371703515145,
          0.19463643780830697,
          0.19251952703907163,
          0.1917862644006024,
          0.1902815803577482,
          0.18711543117979879
         ]
        },
        {
         "mode": "lines+markers",
         "name": "SAIL 2023",
         "type": "scatter",
         "x": [
          -25,
          -24,
          -23,
          -22,
          -21,
          -20,
          -19,
          -18,
          -17,
          -16,
          -15,
          -14,
          -13,
          -12,
          -11,
          -10,
          -9,
          -8,
          -7,
          -6,
          -5,
          -4,
          -3,
          -2,
          -1,
          0,
          1,
          2,
          3,
          4,
          5,
          6,
          7,
          8,
          9,
          10,
          11,
          12,
          13,
          14,
          15,
          16,
          17,
          18,
          19,
          20,
          21,
          22,
          23,
          24
         ],
         "y": [
          -0.09776078276007309,
          -0.09432117045592171,
          -0.09791007699653188,
          -0.10024856734391191,
          -0.10103265609117254,
          -0.10462508984051493,
          -0.10703228403239066,
          -0.1092901784007163,
          -0.10735104590933561,
          -0.09653120847630559,
          -0.08769894165529205,
          -0.07560996191139312,
          -0.06461859733130335,
          -0.059093138343371564,
          -0.03970816002969178,
          -0.020456942339221396,
          -0.004842284250287307,
          0.009798151083413156,
          0.022151354584679653,
          0.0450958215059812,
          0.06786187792398718,
          0.09931977319785285,
          0.1382320809843845,
          0.16972009035953645,
          0.2047949889997715,
          0.24411283539669232,
          0.25583202880261857,
          0.256294647180902,
          0.2525209694771183,
          0.24567711488349825,
          0.22679724737124313,
          0.20666620209770578,
          0.19542958081204673,
          0.18519645792351916,
          0.18815463023643608,
          0.18371090094254772,
          0.17741472906434008,
          0.16499049173778096,
          0.1554246515000666,
          0.15054980348622354,
          0.1377198127708547,
          0.1271964555052841,
          0.11752032954362188,
          0.10632249574539418,
          0.10623327853552414,
          0.10922359936776228,
          0.10505200263386104,
          0.1099761024932771,
          0.11091921112949715,
          0.10802664233045906
         ]
        },
        {
         "mode": "lines+markers",
         "name": "SOS 2023",
         "type": "scatter",
         "x": [
          -25,
          -24,
          -23,
          -22,
          -21,
          -20,
          -19,
          -18,
          -17,
          -16,
          -15,
          -14,
          -13,
          -12,
          -11,
          -10,
          -9,
          -8,
          -7,
          -6,
          -5,
          -4,
          -3,
          -2,
          -1,
          0,
          1,
          2,
          3,
          4,
          5,
          6,
          7,
          8,
          9,
          10,
          11,
          12,
          13,
          14,
          15,
          16,
          17,
          18,
          19,
          20,
          21,
          22,
          23,
          24
         ],
         "y": [
          -0.10122721595309017,
          -0.10440962783602536,
          -0.10269236646834161,
          -0.10006763199994076,
          -0.10236586443070984,
          -0.10543179563278225,
          -0.10545867714585995,
          -0.10513023324002549,
          -0.10735434314351791,
          -0.09658322024354665,
          -0.08335887160420438,
          -0.0801397831977016,
          -0.07317481311312832,
          -0.0639078122842599,
          -0.049859751828395256,
          -0.022915436352515237,
          -0.0031414175937274497,
          0.014862061803836299,
          0.035484519568488054,
          0.06050314204323229,
          0.08587935436866852,
          0.10826568564923744,
          0.14322961061859202,
          0.17309038951269623,
          0.19961846110954284,
          0.234288045421375,
          0.25279809858561325,
          0.26429913916656145,
          0.26801569569218403,
          0.2699698382993188,
          0.27171622392436284,
          0.26876545698766463,
          0.2674590642876897,
          0.25402275100988725,
          0.2500598055108253,
          0.23669689412550443,
          0.22220239887208726,
          0.22058092543900204,
          0.21102658165887023,
          0.20323110828919327,
          0.19294507268253758,
          0.18652630601608627,
          0.1735830454606649,
          0.16365753374346598,
          0.15225257345510546,
          0.14817158486389181,
          0.14248881311897432,
          0.13946470347720538,
          0.1406104096977923,
          0.13050422916880342
         ]
        }
       ],
       "layout": {
        "height": 600,
        "legend": {
         "title": {
          "text": "Wind Speed + Precipitation"
         },
         "x": 0.99,
         "xanchor": "right",
         "y": 0.01,
         "yanchor": "bottom"
        },
        "template": {
         "data": {
          "bar": [
           {
            "error_x": {
             "color": "#2a3f5f"
            },
            "error_y": {
             "color": "#2a3f5f"
            },
            "marker": {
             "line": {
              "color": "#E5ECF6",
              "width": 0.5
             },
             "pattern": {
              "fillmode": "overlay",
              "size": 10,
              "solidity": 0.2
             }
            },
            "type": "bar"
           }
          ],
          "barpolar": [
           {
            "marker": {
             "line": {
              "color": "#E5ECF6",
              "width": 0.5
             },
             "pattern": {
              "fillmode": "overlay",
              "size": 10,
              "solidity": 0.2
             }
            },
            "type": "barpolar"
           }
          ],
          "carpet": [
           {
            "aaxis": {
             "endlinecolor": "#2a3f5f",
             "gridcolor": "white",
             "linecolor": "white",
             "minorgridcolor": "white",
             "startlinecolor": "#2a3f5f"
            },
            "baxis": {
             "endlinecolor": "#2a3f5f",
             "gridcolor": "white",
             "linecolor": "white",
             "minorgridcolor": "white",
             "startlinecolor": "#2a3f5f"
            },
            "type": "carpet"
           }
          ],
          "choropleth": [
           {
            "colorbar": {
             "outlinewidth": 0,
             "ticks": ""
            },
            "type": "choropleth"
           }
          ],
          "contour": [
           {
            "colorbar": {
             "outlinewidth": 0,
             "ticks": ""
            },
            "colorscale": [
             [
              0,
              "#0d0887"
             ],
             [
              0.1111111111111111,
              "#46039f"
             ],
             [
              0.2222222222222222,
              "#7201a8"
             ],
             [
              0.3333333333333333,
              "#9c179e"
             ],
             [
              0.4444444444444444,
              "#bd3786"
             ],
             [
              0.5555555555555556,
              "#d8576b"
             ],
             [
              0.6666666666666666,
              "#ed7953"
             ],
             [
              0.7777777777777778,
              "#fb9f3a"
             ],
             [
              0.8888888888888888,
              "#fdca26"
             ],
             [
              1,
              "#f0f921"
             ]
            ],
            "type": "contour"
           }
          ],
          "contourcarpet": [
           {
            "colorbar": {
             "outlinewidth": 0,
             "ticks": ""
            },
            "type": "contourcarpet"
           }
          ],
          "heatmap": [
           {
            "colorbar": {
             "outlinewidth": 0,
             "ticks": ""
            },
            "colorscale": [
             [
              0,
              "#0d0887"
             ],
             [
              0.1111111111111111,
              "#46039f"
             ],
             [
              0.2222222222222222,
              "#7201a8"
             ],
             [
              0.3333333333333333,
              "#9c179e"
             ],
             [
              0.4444444444444444,
              "#bd3786"
             ],
             [
              0.5555555555555556,
              "#d8576b"
             ],
             [
              0.6666666666666666,
              "#ed7953"
             ],
             [
              0.7777777777777778,
              "#fb9f3a"
             ],
             [
              0.8888888888888888,
              "#fdca26"
             ],
             [
              1,
              "#f0f921"
             ]
            ],
            "type": "heatmap"
           }
          ],
          "heatmapgl": [
           {
            "colorbar": {
             "outlinewidth": 0,
             "ticks": ""
            },
            "colorscale": [
             [
              0,
              "#0d0887"
             ],
             [
              0.1111111111111111,
              "#46039f"
             ],
             [
              0.2222222222222222,
              "#7201a8"
             ],
             [
              0.3333333333333333,
              "#9c179e"
             ],
             [
              0.4444444444444444,
              "#bd3786"
             ],
             [
              0.5555555555555556,
              "#d8576b"
             ],
             [
              0.6666666666666666,
              "#ed7953"
             ],
             [
              0.7777777777777778,
              "#fb9f3a"
             ],
             [
              0.8888888888888888,
              "#fdca26"
             ],
             [
              1,
              "#f0f921"
             ]
            ],
            "type": "heatmapgl"
           }
          ],
          "histogram": [
           {
            "marker": {
             "pattern": {
              "fillmode": "overlay",
              "size": 10,
              "solidity": 0.2
             }
            },
            "type": "histogram"
           }
          ],
          "histogram2d": [
           {
            "colorbar": {
             "outlinewidth": 0,
             "ticks": ""
            },
            "colorscale": [
             [
              0,
              "#0d0887"
             ],
             [
              0.1111111111111111,
              "#46039f"
             ],
             [
              0.2222222222222222,
              "#7201a8"
             ],
             [
              0.3333333333333333,
              "#9c179e"
             ],
             [
              0.4444444444444444,
              "#bd3786"
             ],
             [
              0.5555555555555556,
              "#d8576b"
             ],
             [
              0.6666666666666666,
              "#ed7953"
             ],
             [
              0.7777777777777778,
              "#fb9f3a"
             ],
             [
              0.8888888888888888,
              "#fdca26"
             ],
             [
              1,
              "#f0f921"
             ]
            ],
            "type": "histogram2d"
           }
          ],
          "histogram2dcontour": [
           {
            "colorbar": {
             "outlinewidth": 0,
             "ticks": ""
            },
            "colorscale": [
             [
              0,
              "#0d0887"
             ],
             [
              0.1111111111111111,
              "#46039f"
             ],
             [
              0.2222222222222222,
              "#7201a8"
             ],
             [
              0.3333333333333333,
              "#9c179e"
             ],
             [
              0.4444444444444444,
              "#bd3786"
             ],
             [
              0.5555555555555556,
              "#d8576b"
             ],
             [
              0.6666666666666666,
              "#ed7953"
             ],
             [
              0.7777777777777778,
              "#fb9f3a"
             ],
             [
              0.8888888888888888,
              "#fdca26"
             ],
             [
              1,
              "#f0f921"
             ]
            ],
            "type": "histogram2dcontour"
           }
          ],
          "mesh3d": [
           {
            "colorbar": {
             "outlinewidth": 0,
             "ticks": ""
            },
            "type": "mesh3d"
           }
          ],
          "parcoords": [
           {
            "line": {
             "colorbar": {
              "outlinewidth": 0,
              "ticks": ""
             }
            },
            "type": "parcoords"
           }
          ],
          "pie": [
           {
            "automargin": true,
            "type": "pie"
           }
          ],
          "scatter": [
           {
            "fillpattern": {
             "fillmode": "overlay",
             "size": 10,
             "solidity": 0.2
            },
            "type": "scatter"
           }
          ],
          "scatter3d": [
           {
            "line": {
             "colorbar": {
              "outlinewidth": 0,
              "ticks": ""
             }
            },
            "marker": {
             "colorbar": {
              "outlinewidth": 0,
              "ticks": ""
             }
            },
            "type": "scatter3d"
           }
          ],
          "scattercarpet": [
           {
            "marker": {
             "colorbar": {
              "outlinewidth": 0,
              "ticks": ""
             }
            },
            "type": "scattercarpet"
           }
          ],
          "scattergeo": [
           {
            "marker": {
             "colorbar": {
              "outlinewidth": 0,
              "ticks": ""
             }
            },
            "type": "scattergeo"
           }
          ],
          "scattergl": [
           {
            "marker": {
             "colorbar": {
              "outlinewidth": 0,
              "ticks": ""
             }
            },
            "type": "scattergl"
           }
          ],
          "scattermapbox": [
           {
            "marker": {
             "colorbar": {
              "outlinewidth": 0,
              "ticks": ""
             }
            },
            "type": "scattermapbox"
           }
          ],
          "scatterpolar": [
           {
            "marker": {
             "colorbar": {
              "outlinewidth": 0,
              "ticks": ""
             }
            },
            "type": "scatterpolar"
           }
          ],
          "scatterpolargl": [
           {
            "marker": {
             "colorbar": {
              "outlinewidth": 0,
              "ticks": ""
             }
            },
            "type": "scatterpolargl"
           }
          ],
          "scatterternary": [
           {
            "marker": {
             "colorbar": {
              "outlinewidth": 0,
              "ticks": ""
             }
            },
            "type": "scatterternary"
           }
          ],
          "surface": [
           {
            "colorbar": {
             "outlinewidth": 0,
             "ticks": ""
            },
            "colorscale": [
             [
              0,
              "#0d0887"
             ],
             [
              0.1111111111111111,
              "#46039f"
             ],
             [
              0.2222222222222222,
              "#7201a8"
             ],
             [
              0.3333333333333333,
              "#9c179e"
             ],
             [
              0.4444444444444444,
              "#bd3786"
             ],
             [
              0.5555555555555556,
              "#d8576b"
             ],
             [
              0.6666666666666666,
              "#ed7953"
             ],
             [
              0.7777777777777778,
              "#fb9f3a"
             ],
             [
              0.8888888888888888,
              "#fdca26"
             ],
             [
              1,
              "#f0f921"
             ]
            ],
            "type": "surface"
           }
          ],
          "table": [
           {
            "cells": {
             "fill": {
              "color": "#EBF0F8"
             },
             "line": {
              "color": "white"
             }
            },
            "header": {
             "fill": {
              "color": "#C8D4E3"
             },
             "line": {
              "color": "white"
             }
            },
            "type": "table"
           }
          ]
         },
         "layout": {
          "annotationdefaults": {
           "arrowcolor": "#2a3f5f",
           "arrowhead": 0,
           "arrowwidth": 1
          },
          "autotypenumbers": "strict",
          "coloraxis": {
           "colorbar": {
            "outlinewidth": 0,
            "ticks": ""
           }
          },
          "colorscale": {
           "diverging": [
            [
             0,
             "#8e0152"
            ],
            [
             0.1,
             "#c51b7d"
            ],
            [
             0.2,
             "#de77ae"
            ],
            [
             0.3,
             "#f1b6da"
            ],
            [
             0.4,
             "#fde0ef"
            ],
            [
             0.5,
             "#f7f7f7"
            ],
            [
             0.6,
             "#e6f5d0"
            ],
            [
             0.7,
             "#b8e186"
            ],
            [
             0.8,
             "#7fbc41"
            ],
            [
             0.9,
             "#4d9221"
            ],
            [
             1,
             "#276419"
            ]
           ],
           "sequential": [
            [
             0,
             "#0d0887"
            ],
            [
             0.1111111111111111,
             "#46039f"
            ],
            [
             0.2222222222222222,
             "#7201a8"
            ],
            [
             0.3333333333333333,
             "#9c179e"
            ],
            [
             0.4444444444444444,
             "#bd3786"
            ],
            [
             0.5555555555555556,
             "#d8576b"
            ],
            [
             0.6666666666666666,
             "#ed7953"
            ],
            [
             0.7777777777777778,
             "#fb9f3a"
            ],
            [
             0.8888888888888888,
             "#fdca26"
            ],
            [
             1,
             "#f0f921"
            ]
           ],
           "sequentialminus": [
            [
             0,
             "#0d0887"
            ],
            [
             0.1111111111111111,
             "#46039f"
            ],
            [
             0.2222222222222222,
             "#7201a8"
            ],
            [
             0.3333333333333333,
             "#9c179e"
            ],
            [
             0.4444444444444444,
             "#bd3786"
            ],
            [
             0.5555555555555556,
             "#d8576b"
            ],
            [
             0.6666666666666666,
             "#ed7953"
            ],
            [
             0.7777777777777778,
             "#fb9f3a"
            ],
            [
             0.8888888888888888,
             "#fdca26"
            ],
            [
             1,
             "#f0f921"
            ]
           ]
          },
          "colorway": [
           "#636efa",
           "#EF553B",
           "#00cc96",
           "#ab63fa",
           "#FFA15A",
           "#19d3f3",
           "#FF6692",
           "#B6E880",
           "#FF97FF",
           "#FECB52"
          ],
          "font": {
           "color": "#2a3f5f"
          },
          "geo": {
           "bgcolor": "white",
           "lakecolor": "white",
           "landcolor": "#E5ECF6",
           "showlakes": true,
           "showland": true,
           "subunitcolor": "white"
          },
          "hoverlabel": {
           "align": "left"
          },
          "hovermode": "closest",
          "mapbox": {
           "style": "light"
          },
          "paper_bgcolor": "white",
          "plot_bgcolor": "#E5ECF6",
          "polar": {
           "angularaxis": {
            "gridcolor": "white",
            "linecolor": "white",
            "ticks": ""
           },
           "bgcolor": "#E5ECF6",
           "radialaxis": {
            "gridcolor": "white",
            "linecolor": "white",
            "ticks": ""
           }
          },
          "scene": {
           "xaxis": {
            "backgroundcolor": "#E5ECF6",
            "gridcolor": "white",
            "gridwidth": 2,
            "linecolor": "white",
            "showbackground": true,
            "ticks": "",
            "zerolinecolor": "white"
           },
           "yaxis": {
            "backgroundcolor": "#E5ECF6",
            "gridcolor": "white",
            "gridwidth": 2,
            "linecolor": "white",
            "showbackground": true,
            "ticks": "",
            "zerolinecolor": "white"
           },
           "zaxis": {
            "backgroundcolor": "#E5ECF6",
            "gridcolor": "white",
            "gridwidth": 2,
            "linecolor": "white",
            "showbackground": true,
            "ticks": "",
            "zerolinecolor": "white"
           }
          },
          "shapedefaults": {
           "line": {
            "color": "#2a3f5f"
           }
          },
          "ternary": {
           "aaxis": {
            "gridcolor": "white",
            "linecolor": "white",
            "ticks": ""
           },
           "baxis": {
            "gridcolor": "white",
            "linecolor": "white",
            "ticks": ""
           },
           "bgcolor": "#E5ECF6",
           "caxis": {
            "gridcolor": "white",
            "linecolor": "white",
            "ticks": ""
           }
          },
          "title": {
           "x": 0.05
          },
          "xaxis": {
           "automargin": true,
           "gridcolor": "white",
           "linecolor": "white",
           "ticks": "",
           "title": {
            "standoff": 15
           },
           "zerolinecolor": "white",
           "zerolinewidth": 2
          },
          "yaxis": {
           "automargin": true,
           "gridcolor": "white",
           "linecolor": "white",
           "ticks": "",
           "title": {
            "standoff": 15
           },
           "zerolinecolor": "white",
           "zerolinewidth": 2
          }
         }
        },
        "title": {
         "text": "Time-Lagged Cross-Correlation between Wind Speed and Precipitation"
        },
        "width": 800,
        "xaxis": {
         "dtick": 6,
         "range": [
          -24.25,
          24.25
         ],
         "tickfont": {
          "size": 18
         },
         "tickmode": "linear",
         "title": {
          "font": {
           "size": 18
          },
          "text": "Lag (hours)"
         }
        },
        "yaxis": {
         "range": [
          -0.5,
          0.5
         ],
         "tickfont": {
          "size": 20
         },
         "title": {
          "font": {
           "size": 20
          },
          "text": "Cross-Correlation"
         }
        }
       }
      },
      "text/html": [
       "<div>                            <div id=\"33327ceb-4b04-434e-aa5f-132bb7a05db2\" class=\"plotly-graph-div\" style=\"height:600px; width:800px;\"></div>            <script type=\"text/javascript\">                require([\"plotly\"], function(Plotly) {                    window.PLOTLYENV=window.PLOTLYENV || {};                                    if (document.getElementById(\"33327ceb-4b04-434e-aa5f-132bb7a05db2\")) {                    Plotly.newPlot(                        \"33327ceb-4b04-434e-aa5f-132bb7a05db2\",                        [{\"mode\":\"lines+markers\",\"name\":\"SAIL 2022\",\"x\":[-25,-24,-23,-22,-21,-20,-19,-18,-17,-16,-15,-14,-13,-12,-11,-10,-9,-8,-7,-6,-5,-4,-3,-2,-1,0,1,2,3,4,5,6,7,8,9,10,11,12,13,14,15,16,17,18,19,20,21,22,23,24],\"y\":[0.13679563527393238,0.1408662664741363,0.14175979736029642,0.1445735069052183,0.14569090310949567,0.14392008461080952,0.14289769650390605,0.1456598230160184,0.1464689548370478,0.14353465818759018,0.14790130048258954,0.15713702117478473,0.16075704027324722,0.16327004215648613,0.1737023384418638,0.18230919364994538,0.1903694584713795,0.20234773016839772,0.2134636536286121,0.22302450486427272,0.24276575995603175,0.26277836005119154,0.28187574539629445,0.2970908004014698,0.30710089283815856,0.3194296239669533,0.314999555730709,0.30980940513631416,0.30184447476718224,0.2851287027800985,0.27808925271138435,0.2678093957456158,0.2584039760987808,0.24672942121175123,0.23691889422408147,0.2254089848267063,0.21160023338399242,0.20420421925834356,0.19918004298217545,0.19944906675641338,0.2025546066675043,0.2056886323615954,0.20870744294879062,0.20484157014869603,0.2002371703515145,0.19463643780830697,0.19251952703907163,0.1917862644006024,0.1902815803577482,0.18711543117979879],\"type\":\"scatter\"},{\"mode\":\"lines+markers\",\"name\":\"SAIL 2023\",\"x\":[-25,-24,-23,-22,-21,-20,-19,-18,-17,-16,-15,-14,-13,-12,-11,-10,-9,-8,-7,-6,-5,-4,-3,-2,-1,0,1,2,3,4,5,6,7,8,9,10,11,12,13,14,15,16,17,18,19,20,21,22,23,24],\"y\":[-0.09776078276007309,-0.09432117045592171,-0.09791007699653188,-0.10024856734391191,-0.10103265609117254,-0.10462508984051493,-0.10703228403239066,-0.1092901784007163,-0.10735104590933561,-0.09653120847630559,-0.08769894165529205,-0.07560996191139312,-0.06461859733130335,-0.059093138343371564,-0.03970816002969178,-0.020456942339221396,-0.004842284250287307,0.009798151083413156,0.022151354584679653,0.0450958215059812,0.06786187792398718,0.09931977319785285,0.1382320809843845,0.16972009035953645,0.2047949889997715,0.24411283539669232,0.25583202880261857,0.256294647180902,0.2525209694771183,0.24567711488349825,0.22679724737124313,0.20666620209770578,0.19542958081204673,0.18519645792351916,0.18815463023643608,0.18371090094254772,0.17741472906434008,0.16499049173778096,0.1554246515000666,0.15054980348622354,0.1377198127708547,0.1271964555052841,0.11752032954362188,0.10632249574539418,0.10623327853552414,0.10922359936776228,0.10505200263386104,0.1099761024932771,0.11091921112949715,0.10802664233045906],\"type\":\"scatter\"},{\"mode\":\"lines+markers\",\"name\":\"SOS 2023\",\"x\":[-25,-24,-23,-22,-21,-20,-19,-18,-17,-16,-15,-14,-13,-12,-11,-10,-9,-8,-7,-6,-5,-4,-3,-2,-1,0,1,2,3,4,5,6,7,8,9,10,11,12,13,14,15,16,17,18,19,20,21,22,23,24],\"y\":[-0.10122721595309017,-0.10440962783602536,-0.10269236646834161,-0.10006763199994076,-0.10236586443070984,-0.10543179563278225,-0.10545867714585995,-0.10513023324002549,-0.10735434314351791,-0.09658322024354665,-0.08335887160420438,-0.0801397831977016,-0.07317481311312832,-0.0639078122842599,-0.049859751828395256,-0.022915436352515237,-0.0031414175937274497,0.014862061803836299,0.035484519568488054,0.06050314204323229,0.08587935436866852,0.10826568564923744,0.14322961061859202,0.17309038951269623,0.19961846110954284,0.234288045421375,0.25279809858561325,0.26429913916656145,0.26801569569218403,0.2699698382993188,0.27171622392436284,0.26876545698766463,0.2674590642876897,0.25402275100988725,0.2500598055108253,0.23669689412550443,0.22220239887208726,0.22058092543900204,0.21102658165887023,0.20323110828919327,0.19294507268253758,0.18652630601608627,0.1735830454606649,0.16365753374346598,0.15225257345510546,0.14817158486389181,0.14248881311897432,0.13946470347720538,0.1406104096977923,0.13050422916880342],\"type\":\"scatter\"}],                        {\"template\":{\"data\":{\"histogram2dcontour\":[{\"type\":\"histogram2dcontour\",\"colorbar\":{\"outlinewidth\":0,\"ticks\":\"\"},\"colorscale\":[[0.0,\"#0d0887\"],[0.1111111111111111,\"#46039f\"],[0.2222222222222222,\"#7201a8\"],[0.3333333333333333,\"#9c179e\"],[0.4444444444444444,\"#bd3786\"],[0.5555555555555556,\"#d8576b\"],[0.6666666666666666,\"#ed7953\"],[0.7777777777777778,\"#fb9f3a\"],[0.8888888888888888,\"#fdca26\"],[1.0,\"#f0f921\"]]}],\"choropleth\":[{\"type\":\"choropleth\",\"colorbar\":{\"outlinewidth\":0,\"ticks\":\"\"}}],\"histogram2d\":[{\"type\":\"histogram2d\",\"colorbar\":{\"outlinewidth\":0,\"ticks\":\"\"},\"colorscale\":[[0.0,\"#0d0887\"],[0.1111111111111111,\"#46039f\"],[0.2222222222222222,\"#7201a8\"],[0.3333333333333333,\"#9c179e\"],[0.4444444444444444,\"#bd3786\"],[0.5555555555555556,\"#d8576b\"],[0.6666666666666666,\"#ed7953\"],[0.7777777777777778,\"#fb9f3a\"],[0.8888888888888888,\"#fdca26\"],[1.0,\"#f0f921\"]]}],\"heatmap\":[{\"type\":\"heatmap\",\"colorbar\":{\"outlinewidth\":0,\"ticks\":\"\"},\"colorscale\":[[0.0,\"#0d0887\"],[0.1111111111111111,\"#46039f\"],[0.2222222222222222,\"#7201a8\"],[0.3333333333333333,\"#9c179e\"],[0.4444444444444444,\"#bd3786\"],[0.5555555555555556,\"#d8576b\"],[0.6666666666666666,\"#ed7953\"],[0.7777777777777778,\"#fb9f3a\"],[0.8888888888888888,\"#fdca26\"],[1.0,\"#f0f921\"]]}],\"heatmapgl\":[{\"type\":\"heatmapgl\",\"colorbar\":{\"outlinewidth\":0,\"ticks\":\"\"},\"colorscale\":[[0.0,\"#0d0887\"],[0.1111111111111111,\"#46039f\"],[0.2222222222222222,\"#7201a8\"],[0.3333333333333333,\"#9c179e\"],[0.4444444444444444,\"#bd3786\"],[0.5555555555555556,\"#d8576b\"],[0.6666666666666666,\"#ed7953\"],[0.7777777777777778,\"#fb9f3a\"],[0.8888888888888888,\"#fdca26\"],[1.0,\"#f0f921\"]]}],\"contourcarpet\":[{\"type\":\"contourcarpet\",\"colorbar\":{\"outlinewidth\":0,\"ticks\":\"\"}}],\"contour\":[{\"type\":\"contour\",\"colorbar\":{\"outlinewidth\":0,\"ticks\":\"\"},\"colorscale\":[[0.0,\"#0d0887\"],[0.1111111111111111,\"#46039f\"],[0.2222222222222222,\"#7201a8\"],[0.3333333333333333,\"#9c179e\"],[0.4444444444444444,\"#bd3786\"],[0.5555555555555556,\"#d8576b\"],[0.6666666666666666,\"#ed7953\"],[0.7777777777777778,\"#fb9f3a\"],[0.8888888888888888,\"#fdca26\"],[1.0,\"#f0f921\"]]}],\"surface\":[{\"type\":\"surface\",\"colorbar\":{\"outlinewidth\":0,\"ticks\":\"\"},\"colorscale\":[[0.0,\"#0d0887\"],[0.1111111111111111,\"#46039f\"],[0.2222222222222222,\"#7201a8\"],[0.3333333333333333,\"#9c179e\"],[0.4444444444444444,\"#bd3786\"],[0.5555555555555556,\"#d8576b\"],[0.6666666666666666,\"#ed7953\"],[0.7777777777777778,\"#fb9f3a\"],[0.8888888888888888,\"#fdca26\"],[1.0,\"#f0f921\"]]}],\"mesh3d\":[{\"type\":\"mesh3d\",\"colorbar\":{\"outlinewidth\":0,\"ticks\":\"\"}}],\"scatter\":[{\"fillpattern\":{\"fillmode\":\"overlay\",\"size\":10,\"solidity\":0.2},\"type\":\"scatter\"}],\"parcoords\":[{\"type\":\"parcoords\",\"line\":{\"colorbar\":{\"outlinewidth\":0,\"ticks\":\"\"}}}],\"scatterpolargl\":[{\"type\":\"scatterpolargl\",\"marker\":{\"colorbar\":{\"outlinewidth\":0,\"ticks\":\"\"}}}],\"bar\":[{\"error_x\":{\"color\":\"#2a3f5f\"},\"error_y\":{\"color\":\"#2a3f5f\"},\"marker\":{\"line\":{\"color\":\"#E5ECF6\",\"width\":0.5},\"pattern\":{\"fillmode\":\"overlay\",\"size\":10,\"solidity\":0.2}},\"type\":\"bar\"}],\"scattergeo\":[{\"type\":\"scattergeo\",\"marker\":{\"colorbar\":{\"outlinewidth\":0,\"ticks\":\"\"}}}],\"scatterpolar\":[{\"type\":\"scatterpolar\",\"marker\":{\"colorbar\":{\"outlinewidth\":0,\"ticks\":\"\"}}}],\"histogram\":[{\"marker\":{\"pattern\":{\"fillmode\":\"overlay\",\"size\":10,\"solidity\":0.2}},\"type\":\"histogram\"}],\"scattergl\":[{\"type\":\"scattergl\",\"marker\":{\"colorbar\":{\"outlinewidth\":0,\"ticks\":\"\"}}}],\"scatter3d\":[{\"type\":\"scatter3d\",\"line\":{\"colorbar\":{\"outlinewidth\":0,\"ticks\":\"\"}},\"marker\":{\"colorbar\":{\"outlinewidth\":0,\"ticks\":\"\"}}}],\"scattermapbox\":[{\"type\":\"scattermapbox\",\"marker\":{\"colorbar\":{\"outlinewidth\":0,\"ticks\":\"\"}}}],\"scatterternary\":[{\"type\":\"scatterternary\",\"marker\":{\"colorbar\":{\"outlinewidth\":0,\"ticks\":\"\"}}}],\"scattercarpet\":[{\"type\":\"scattercarpet\",\"marker\":{\"colorbar\":{\"outlinewidth\":0,\"ticks\":\"\"}}}],\"carpet\":[{\"aaxis\":{\"endlinecolor\":\"#2a3f5f\",\"gridcolor\":\"white\",\"linecolor\":\"white\",\"minorgridcolor\":\"white\",\"startlinecolor\":\"#2a3f5f\"},\"baxis\":{\"endlinecolor\":\"#2a3f5f\",\"gridcolor\":\"white\",\"linecolor\":\"white\",\"minorgridcolor\":\"white\",\"startlinecolor\":\"#2a3f5f\"},\"type\":\"carpet\"}],\"table\":[{\"cells\":{\"fill\":{\"color\":\"#EBF0F8\"},\"line\":{\"color\":\"white\"}},\"header\":{\"fill\":{\"color\":\"#C8D4E3\"},\"line\":{\"color\":\"white\"}},\"type\":\"table\"}],\"barpolar\":[{\"marker\":{\"line\":{\"color\":\"#E5ECF6\",\"width\":0.5},\"pattern\":{\"fillmode\":\"overlay\",\"size\":10,\"solidity\":0.2}},\"type\":\"barpolar\"}],\"pie\":[{\"automargin\":true,\"type\":\"pie\"}]},\"layout\":{\"autotypenumbers\":\"strict\",\"colorway\":[\"#636efa\",\"#EF553B\",\"#00cc96\",\"#ab63fa\",\"#FFA15A\",\"#19d3f3\",\"#FF6692\",\"#B6E880\",\"#FF97FF\",\"#FECB52\"],\"font\":{\"color\":\"#2a3f5f\"},\"hovermode\":\"closest\",\"hoverlabel\":{\"align\":\"left\"},\"paper_bgcolor\":\"white\",\"plot_bgcolor\":\"#E5ECF6\",\"polar\":{\"bgcolor\":\"#E5ECF6\",\"angularaxis\":{\"gridcolor\":\"white\",\"linecolor\":\"white\",\"ticks\":\"\"},\"radialaxis\":{\"gridcolor\":\"white\",\"linecolor\":\"white\",\"ticks\":\"\"}},\"ternary\":{\"bgcolor\":\"#E5ECF6\",\"aaxis\":{\"gridcolor\":\"white\",\"linecolor\":\"white\",\"ticks\":\"\"},\"baxis\":{\"gridcolor\":\"white\",\"linecolor\":\"white\",\"ticks\":\"\"},\"caxis\":{\"gridcolor\":\"white\",\"linecolor\":\"white\",\"ticks\":\"\"}},\"coloraxis\":{\"colorbar\":{\"outlinewidth\":0,\"ticks\":\"\"}},\"colorscale\":{\"sequential\":[[0.0,\"#0d0887\"],[0.1111111111111111,\"#46039f\"],[0.2222222222222222,\"#7201a8\"],[0.3333333333333333,\"#9c179e\"],[0.4444444444444444,\"#bd3786\"],[0.5555555555555556,\"#d8576b\"],[0.6666666666666666,\"#ed7953\"],[0.7777777777777778,\"#fb9f3a\"],[0.8888888888888888,\"#fdca26\"],[1.0,\"#f0f921\"]],\"sequentialminus\":[[0.0,\"#0d0887\"],[0.1111111111111111,\"#46039f\"],[0.2222222222222222,\"#7201a8\"],[0.3333333333333333,\"#9c179e\"],[0.4444444444444444,\"#bd3786\"],[0.5555555555555556,\"#d8576b\"],[0.6666666666666666,\"#ed7953\"],[0.7777777777777778,\"#fb9f3a\"],[0.8888888888888888,\"#fdca26\"],[1.0,\"#f0f921\"]],\"diverging\":[[0,\"#8e0152\"],[0.1,\"#c51b7d\"],[0.2,\"#de77ae\"],[0.3,\"#f1b6da\"],[0.4,\"#fde0ef\"],[0.5,\"#f7f7f7\"],[0.6,\"#e6f5d0\"],[0.7,\"#b8e186\"],[0.8,\"#7fbc41\"],[0.9,\"#4d9221\"],[1,\"#276419\"]]},\"xaxis\":{\"gridcolor\":\"white\",\"linecolor\":\"white\",\"ticks\":\"\",\"title\":{\"standoff\":15},\"zerolinecolor\":\"white\",\"automargin\":true,\"zerolinewidth\":2},\"yaxis\":{\"gridcolor\":\"white\",\"linecolor\":\"white\",\"ticks\":\"\",\"title\":{\"standoff\":15},\"zerolinecolor\":\"white\",\"automargin\":true,\"zerolinewidth\":2},\"scene\":{\"xaxis\":{\"backgroundcolor\":\"#E5ECF6\",\"gridcolor\":\"white\",\"linecolor\":\"white\",\"showbackground\":true,\"ticks\":\"\",\"zerolinecolor\":\"white\",\"gridwidth\":2},\"yaxis\":{\"backgroundcolor\":\"#E5ECF6\",\"gridcolor\":\"white\",\"linecolor\":\"white\",\"showbackground\":true,\"ticks\":\"\",\"zerolinecolor\":\"white\",\"gridwidth\":2},\"zaxis\":{\"backgroundcolor\":\"#E5ECF6\",\"gridcolor\":\"white\",\"linecolor\":\"white\",\"showbackground\":true,\"ticks\":\"\",\"zerolinecolor\":\"white\",\"gridwidth\":2}},\"shapedefaults\":{\"line\":{\"color\":\"#2a3f5f\"}},\"annotationdefaults\":{\"arrowcolor\":\"#2a3f5f\",\"arrowhead\":0,\"arrowwidth\":1},\"geo\":{\"bgcolor\":\"white\",\"landcolor\":\"#E5ECF6\",\"subunitcolor\":\"white\",\"showland\":true,\"showlakes\":true,\"lakecolor\":\"white\"},\"title\":{\"x\":0.05},\"mapbox\":{\"style\":\"light\"}}},\"xaxis\":{\"tickfont\":{\"size\":18},\"title\":{\"text\":\"Lag (hours)\",\"font\":{\"size\":18}},\"range\":[-24.25,24.25],\"tickmode\":\"linear\",\"dtick\":6},\"yaxis\":{\"tickfont\":{\"size\":20},\"title\":{\"text\":\"Cross-Correlation\",\"font\":{\"size\":20}},\"range\":[-0.5,0.5]},\"title\":{\"text\":\"Time-Lagged Cross-Correlation between Wind Speed and Precipitation\"},\"width\":800,\"height\":600,\"legend\":{\"title\":{\"text\":\"Wind Speed + Precipitation\"},\"yanchor\":\"bottom\",\"y\":0.01,\"xanchor\":\"right\",\"x\":0.99}},                        {\"responsive\": true}                    ).then(function(){\n",
       "                            \n",
       "var gd = document.getElementById('33327ceb-4b04-434e-aa5f-132bb7a05db2');\n",
       "var x = new MutationObserver(function (mutations, observer) {{\n",
       "        var display = window.getComputedStyle(gd).display;\n",
       "        if (!display || display === 'none') {{\n",
       "            console.log([gd, 'removed!']);\n",
       "            Plotly.purge(gd);\n",
       "            observer.disconnect();\n",
       "        }}\n",
       "}});\n",
       "\n",
       "// Listen for the removal of the full notebook cells\n",
       "var notebookContainer = gd.closest('#notebook-container');\n",
       "if (notebookContainer) {{\n",
       "    x.observe(notebookContainer, {childList: true});\n",
       "}}\n",
       "\n",
       "// Listen for the clearing of the current output cell\n",
       "var outputEl = gd.closest('.output');\n",
       "if (outputEl) {{\n",
       "    x.observe(outputEl, {childList: true});\n",
       "}}\n",
       "\n",
       "                        })                };                });            </script>        </div>"
      ]
     },
     "metadata": {},
     "output_type": "display_data"
    }
   ],
   "source": [
    "# Calculate cross-correlation\n",
    "lags_sail_22, cross_corr_sail_22 = lagged_cross_corr(combined_sail_22_df, 24, 'wspd_arith_mean', 'precip_binary', binary=True)\n",
    "lags_sail_23, cross_corr_sail_23 = lagged_cross_corr(combined_sail_23_df, 24, 'wspd_arith_mean', 'precip_binary', binary=True)\n",
    "lags_sos_23, cross_corr_sos_23 = lagged_cross_corr(combined_sos_sail_df, 24, 'spd_10m_uw', 'precip_binary', binary=True)\n",
    "\n",
    "# Create plot\n",
    "fig = go.Figure()\n",
    "fig.add_trace(go.Scatter(x=lags_sail_22, y=cross_corr_sail_22, mode='lines+markers', name='SAIL 2022'))\n",
    "fig.add_trace(go.Scatter(x=lags_sail_23, y=cross_corr_sail_23, mode='lines+markers', name='SAIL 2023'))\n",
    "fig.add_trace(go.Scatter(x=lags_sos_23, y=cross_corr_sos_23, mode='lines+markers', name='SOS 2023'))\n",
    "\n",
    "fig.update_layout(\n",
    "    title='Time-Lagged Cross-Correlation between Wind Speed and Precipitation' ,\n",
    "    xaxis_title='Lag (hours)',\n",
    "    yaxis_title='Cross-Correlation',\n",
    "    xaxis=dict(range=[-24.25, 24.25],\n",
    "               tickmode='linear',\n",
    "               dtick=6,\n",
    "               tickfont=dict(size=18)),\n",
    "    yaxis=dict(range=[-0.5, 0.5], tickfont=dict(size=20)),\n",
    "    width=800,\n",
    "    height=600\n",
    ")\n",
    "# increase yaxis font label size\n",
    "fig.update_yaxes(title_font=dict(size=20))\n",
    "fig.update_xaxes(title_font=dict(size=18),\n",
    "                # show every 6th tick on the x-axis\n",
    "                )\n",
    "# update legend with title and font size\n",
    "fig.update_layout(legend_title_text='Wind Speed + Precipitation', \n",
    "                legend=dict(\n",
    "                             yanchor=\"bottom\",\n",
    "                             y=0.01,\n",
    "                             xanchor=\"right\",\n",
    "                             x=0.99\n",
    "                            ))\n",
    "\n",
    "fig.show()"
   ]
  },
  {
   "cell_type": "markdown",
   "metadata": {},
   "source": [
    "#### Cross-correlation of prcp, wspd, BSF"
   ]
  },
  {
   "cell_type": "code",
   "execution_count": 32,
   "metadata": {},
   "outputs": [
    {
     "data": {
      "application/vnd.plotly.v1+json": {
       "config": {
        "plotlyServerURL": "https://plot.ly"
       },
       "data": [
        {
         "mode": "lines+markers",
         "name": "BSF + WSPD",
         "type": "scatter",
         "x": [
          -25,
          -24,
          -23,
          -22,
          -21,
          -20,
          -19,
          -18,
          -17,
          -16,
          -15,
          -14,
          -13,
          -12,
          -11,
          -10,
          -9,
          -8,
          -7,
          -6,
          -5,
          -4,
          -3,
          -2,
          -1,
          0,
          1,
          2,
          3,
          4,
          5,
          6,
          7,
          8,
          9,
          10,
          11,
          12,
          13,
          14,
          15,
          16,
          17,
          18,
          19,
          20,
          21,
          22,
          23,
          24
         ],
         "y": [
          -0.030870967553888237,
          -0.020003748487484197,
          -0.008227825526183053,
          0.0038306663766800074,
          0.023088877698263947,
          0.046114915197025465,
          0.06642356459107959,
          0.08658597085273374,
          0.10510313707543238,
          0.1177917470894355,
          0.12962144108348042,
          0.14316518357345648,
          0.167604401318692,
          0.18637897868343703,
          0.21038922608331984,
          0.23285830242812877,
          0.25896902437077085,
          0.2759135398804458,
          0.29828514210199014,
          0.3154238696683704,
          0.3338186972015458,
          0.35091189220399643,
          0.3611257578442614,
          0.3780707618747807,
          0.3882832509572431,
          0.3910463856689977,
          0.37556911054573766,
          0.3525617203828625,
          0.32624635747057756,
          0.30211877530961073,
          0.2807542150439722,
          0.268490818763767,
          0.25153997899782865,
          0.2371570826092172,
          0.21984723843263348,
          0.20194629391140392,
          0.1861609963393792,
          0.17358126296348092,
          0.15364675533712718,
          0.1347237696095883,
          0.1198996431607726,
          0.10858722242523078,
          0.09870597693902046,
          0.0849572852857284,
          0.07322885988593263,
          0.05611976149068733,
          0.04744358525102804,
          0.03970650502109493,
          0.02395913121132933,
          0.001832085524981718
         ]
        },
        {
         "mode": "lines+markers",
         "name": "BSF + H2O Flux",
         "type": "scatter",
         "x": [
          -25,
          -24,
          -23,
          -22,
          -21,
          -20,
          -19,
          -18,
          -17,
          -16,
          -15,
          -14,
          -13,
          -12,
          -11,
          -10,
          -9,
          -8,
          -7,
          -6,
          -5,
          -4,
          -3,
          -2,
          -1,
          0,
          1,
          2,
          3,
          4,
          5,
          6,
          7,
          8,
          9,
          10,
          11,
          12,
          13,
          14,
          15,
          16,
          17,
          18,
          19,
          20,
          21,
          22,
          23,
          24
         ],
         "y": [
          -0.01220273912008562,
          -0.007244261956718573,
          0.002685534187712037,
          0.011528345532671434,
          0.023737122245787372,
          0.044284895111076285,
          0.05737113256496917,
          0.06957115081069139,
          0.08203091286572628,
          0.09358694009429534,
          0.10935538365690355,
          0.12127766741198173,
          0.1358458021270137,
          0.15301002817136714,
          0.17876174392896108,
          0.187791681090441,
          0.1974970793545956,
          0.19757118675157517,
          0.20221887408196293,
          0.20619842945558972,
          0.20874104067630947,
          0.22239001409587433,
          0.224711135116971,
          0.24299635733639846,
          0.26472083819802866,
          0.24858695173858528,
          0.23281586391360257,
          0.22386952511679153,
          0.21564448325340055,
          0.20319334321832538,
          0.19265145696546382,
          0.18787070654428045,
          0.15882571016501015,
          0.1623317388879531,
          0.14501692047343978,
          0.1479916744045583,
          0.147081351285918,
          0.14134167549891097,
          0.12782928727919543,
          0.12543417375609892,
          0.11214275741039352,
          0.09756619782614877,
          0.09246738549593574,
          0.07988936814344738,
          0.06631878193319148,
          0.051655633166108855,
          0.04547645616812161,
          0.04256517366741854,
          0.029236518688838753,
          0.012544343383243277
         ]
        },
        {
         "mode": "lines+markers",
         "name": "BSF + PRCP",
         "type": "scatter",
         "x": [
          -25,
          -24,
          -23,
          -22,
          -21,
          -20,
          -19,
          -18,
          -17,
          -16,
          -15,
          -14,
          -13,
          -12,
          -11,
          -10,
          -9,
          -8,
          -7,
          -6,
          -5,
          -4,
          -3,
          -2,
          -1,
          0,
          1,
          2,
          3,
          4,
          5,
          6,
          7,
          8,
          9,
          10,
          11,
          12,
          13,
          14,
          15,
          16,
          17,
          18,
          19,
          20,
          21,
          22,
          23,
          24
         ],
         "y": [
          -0.045545738877832184,
          -0.036992390846086326,
          -0.025872922514625963,
          -0.017826174179184646,
          -0.014475022458801196,
          -0.01767599911230805,
          -0.030470290042832134,
          -0.03488571371184882,
          -0.04913957776038977,
          -0.037654575000269724,
          -0.03359759949329841,
          -0.029032547843078148,
          -0.025417706857084284,
          -0.029412096155871776,
          -0.029125733174416846,
          -0.023418145814613184,
          -0.006073640163118354,
          -0.006094555766556212,
          0.0015135513144776055,
          -0.007498434027557052,
          -0.01168257201856921,
          -0.0029102164725312643,
          0.009612896277921652,
          0.011451626055667645,
          0.01851463132303623,
          0.010686049231549878,
          0.027630070807420165,
          0.042598967652718964,
          0.05193477755226396,
          0.056178042096036954,
          0.05608229909865378,
          0.06313439990155709,
          0.06471413309662927,
          0.07070262955234757,
          0.08882834815502584,
          0.09589873031254115,
          0.0892026762122785,
          0.08122786374299863,
          0.07342220118026166,
          0.05288554804837657,
          0.041497071042535257,
          0.03832521530172474,
          0.03744573119713803,
          0.033283862940080546,
          0.047151292902864746,
          0.0606230743605244,
          0.0728857080607722,
          0.07094758516868283,
          0.05479940144016379,
          0.058449211807117034
         ]
        }
       ],
       "layout": {
        "height": 600,
        "legend": {
         "title": {
          "text": "Legend"
         },
         "x": 0.99,
         "xanchor": "right",
         "y": 0.01,
         "yanchor": "bottom"
        },
        "template": {
         "data": {
          "bar": [
           {
            "error_x": {
             "color": "#2a3f5f"
            },
            "error_y": {
             "color": "#2a3f5f"
            },
            "marker": {
             "line": {
              "color": "#E5ECF6",
              "width": 0.5
             },
             "pattern": {
              "fillmode": "overlay",
              "size": 10,
              "solidity": 0.2
             }
            },
            "type": "bar"
           }
          ],
          "barpolar": [
           {
            "marker": {
             "line": {
              "color": "#E5ECF6",
              "width": 0.5
             },
             "pattern": {
              "fillmode": "overlay",
              "size": 10,
              "solidity": 0.2
             }
            },
            "type": "barpolar"
           }
          ],
          "carpet": [
           {
            "aaxis": {
             "endlinecolor": "#2a3f5f",
             "gridcolor": "white",
             "linecolor": "white",
             "minorgridcolor": "white",
             "startlinecolor": "#2a3f5f"
            },
            "baxis": {
             "endlinecolor": "#2a3f5f",
             "gridcolor": "white",
             "linecolor": "white",
             "minorgridcolor": "white",
             "startlinecolor": "#2a3f5f"
            },
            "type": "carpet"
           }
          ],
          "choropleth": [
           {
            "colorbar": {
             "outlinewidth": 0,
             "ticks": ""
            },
            "type": "choropleth"
           }
          ],
          "contour": [
           {
            "colorbar": {
             "outlinewidth": 0,
             "ticks": ""
            },
            "colorscale": [
             [
              0,
              "#0d0887"
             ],
             [
              0.1111111111111111,
              "#46039f"
             ],
             [
              0.2222222222222222,
              "#7201a8"
             ],
             [
              0.3333333333333333,
              "#9c179e"
             ],
             [
              0.4444444444444444,
              "#bd3786"
             ],
             [
              0.5555555555555556,
              "#d8576b"
             ],
             [
              0.6666666666666666,
              "#ed7953"
             ],
             [
              0.7777777777777778,
              "#fb9f3a"
             ],
             [
              0.8888888888888888,
              "#fdca26"
             ],
             [
              1,
              "#f0f921"
             ]
            ],
            "type": "contour"
           }
          ],
          "contourcarpet": [
           {
            "colorbar": {
             "outlinewidth": 0,
             "ticks": ""
            },
            "type": "contourcarpet"
           }
          ],
          "heatmap": [
           {
            "colorbar": {
             "outlinewidth": 0,
             "ticks": ""
            },
            "colorscale": [
             [
              0,
              "#0d0887"
             ],
             [
              0.1111111111111111,
              "#46039f"
             ],
             [
              0.2222222222222222,
              "#7201a8"
             ],
             [
              0.3333333333333333,
              "#9c179e"
             ],
             [
              0.4444444444444444,
              "#bd3786"
             ],
             [
              0.5555555555555556,
              "#d8576b"
             ],
             [
              0.6666666666666666,
              "#ed7953"
             ],
             [
              0.7777777777777778,
              "#fb9f3a"
             ],
             [
              0.8888888888888888,
              "#fdca26"
             ],
             [
              1,
              "#f0f921"
             ]
            ],
            "type": "heatmap"
           }
          ],
          "heatmapgl": [
           {
            "colorbar": {
             "outlinewidth": 0,
             "ticks": ""
            },
            "colorscale": [
             [
              0,
              "#0d0887"
             ],
             [
              0.1111111111111111,
              "#46039f"
             ],
             [
              0.2222222222222222,
              "#7201a8"
             ],
             [
              0.3333333333333333,
              "#9c179e"
             ],
             [
              0.4444444444444444,
              "#bd3786"
             ],
             [
              0.5555555555555556,
              "#d8576b"
             ],
             [
              0.6666666666666666,
              "#ed7953"
             ],
             [
              0.7777777777777778,
              "#fb9f3a"
             ],
             [
              0.8888888888888888,
              "#fdca26"
             ],
             [
              1,
              "#f0f921"
             ]
            ],
            "type": "heatmapgl"
           }
          ],
          "histogram": [
           {
            "marker": {
             "pattern": {
              "fillmode": "overlay",
              "size": 10,
              "solidity": 0.2
             }
            },
            "type": "histogram"
           }
          ],
          "histogram2d": [
           {
            "colorbar": {
             "outlinewidth": 0,
             "ticks": ""
            },
            "colorscale": [
             [
              0,
              "#0d0887"
             ],
             [
              0.1111111111111111,
              "#46039f"
             ],
             [
              0.2222222222222222,
              "#7201a8"
             ],
             [
              0.3333333333333333,
              "#9c179e"
             ],
             [
              0.4444444444444444,
              "#bd3786"
             ],
             [
              0.5555555555555556,
              "#d8576b"
             ],
             [
              0.6666666666666666,
              "#ed7953"
             ],
             [
              0.7777777777777778,
              "#fb9f3a"
             ],
             [
              0.8888888888888888,
              "#fdca26"
             ],
             [
              1,
              "#f0f921"
             ]
            ],
            "type": "histogram2d"
           }
          ],
          "histogram2dcontour": [
           {
            "colorbar": {
             "outlinewidth": 0,
             "ticks": ""
            },
            "colorscale": [
             [
              0,
              "#0d0887"
             ],
             [
              0.1111111111111111,
              "#46039f"
             ],
             [
              0.2222222222222222,
              "#7201a8"
             ],
             [
              0.3333333333333333,
              "#9c179e"
             ],
             [
              0.4444444444444444,
              "#bd3786"
             ],
             [
              0.5555555555555556,
              "#d8576b"
             ],
             [
              0.6666666666666666,
              "#ed7953"
             ],
             [
              0.7777777777777778,
              "#fb9f3a"
             ],
             [
              0.8888888888888888,
              "#fdca26"
             ],
             [
              1,
              "#f0f921"
             ]
            ],
            "type": "histogram2dcontour"
           }
          ],
          "mesh3d": [
           {
            "colorbar": {
             "outlinewidth": 0,
             "ticks": ""
            },
            "type": "mesh3d"
           }
          ],
          "parcoords": [
           {
            "line": {
             "colorbar": {
              "outlinewidth": 0,
              "ticks": ""
             }
            },
            "type": "parcoords"
           }
          ],
          "pie": [
           {
            "automargin": true,
            "type": "pie"
           }
          ],
          "scatter": [
           {
            "fillpattern": {
             "fillmode": "overlay",
             "size": 10,
             "solidity": 0.2
            },
            "type": "scatter"
           }
          ],
          "scatter3d": [
           {
            "line": {
             "colorbar": {
              "outlinewidth": 0,
              "ticks": ""
             }
            },
            "marker": {
             "colorbar": {
              "outlinewidth": 0,
              "ticks": ""
             }
            },
            "type": "scatter3d"
           }
          ],
          "scattercarpet": [
           {
            "marker": {
             "colorbar": {
              "outlinewidth": 0,
              "ticks": ""
             }
            },
            "type": "scattercarpet"
           }
          ],
          "scattergeo": [
           {
            "marker": {
             "colorbar": {
              "outlinewidth": 0,
              "ticks": ""
             }
            },
            "type": "scattergeo"
           }
          ],
          "scattergl": [
           {
            "marker": {
             "colorbar": {
              "outlinewidth": 0,
              "ticks": ""
             }
            },
            "type": "scattergl"
           }
          ],
          "scattermapbox": [
           {
            "marker": {
             "colorbar": {
              "outlinewidth": 0,
              "ticks": ""
             }
            },
            "type": "scattermapbox"
           }
          ],
          "scatterpolar": [
           {
            "marker": {
             "colorbar": {
              "outlinewidth": 0,
              "ticks": ""
             }
            },
            "type": "scatterpolar"
           }
          ],
          "scatterpolargl": [
           {
            "marker": {
             "colorbar": {
              "outlinewidth": 0,
              "ticks": ""
             }
            },
            "type": "scatterpolargl"
           }
          ],
          "scatterternary": [
           {
            "marker": {
             "colorbar": {
              "outlinewidth": 0,
              "ticks": ""
             }
            },
            "type": "scatterternary"
           }
          ],
          "surface": [
           {
            "colorbar": {
             "outlinewidth": 0,
             "ticks": ""
            },
            "colorscale": [
             [
              0,
              "#0d0887"
             ],
             [
              0.1111111111111111,
              "#46039f"
             ],
             [
              0.2222222222222222,
              "#7201a8"
             ],
             [
              0.3333333333333333,
              "#9c179e"
             ],
             [
              0.4444444444444444,
              "#bd3786"
             ],
             [
              0.5555555555555556,
              "#d8576b"
             ],
             [
              0.6666666666666666,
              "#ed7953"
             ],
             [
              0.7777777777777778,
              "#fb9f3a"
             ],
             [
              0.8888888888888888,
              "#fdca26"
             ],
             [
              1,
              "#f0f921"
             ]
            ],
            "type": "surface"
           }
          ],
          "table": [
           {
            "cells": {
             "fill": {
              "color": "#EBF0F8"
             },
             "line": {
              "color": "white"
             }
            },
            "header": {
             "fill": {
              "color": "#C8D4E3"
             },
             "line": {
              "color": "white"
             }
            },
            "type": "table"
           }
          ]
         },
         "layout": {
          "annotationdefaults": {
           "arrowcolor": "#2a3f5f",
           "arrowhead": 0,
           "arrowwidth": 1
          },
          "autotypenumbers": "strict",
          "coloraxis": {
           "colorbar": {
            "outlinewidth": 0,
            "ticks": ""
           }
          },
          "colorscale": {
           "diverging": [
            [
             0,
             "#8e0152"
            ],
            [
             0.1,
             "#c51b7d"
            ],
            [
             0.2,
             "#de77ae"
            ],
            [
             0.3,
             "#f1b6da"
            ],
            [
             0.4,
             "#fde0ef"
            ],
            [
             0.5,
             "#f7f7f7"
            ],
            [
             0.6,
             "#e6f5d0"
            ],
            [
             0.7,
             "#b8e186"
            ],
            [
             0.8,
             "#7fbc41"
            ],
            [
             0.9,
             "#4d9221"
            ],
            [
             1,
             "#276419"
            ]
           ],
           "sequential": [
            [
             0,
             "#0d0887"
            ],
            [
             0.1111111111111111,
             "#46039f"
            ],
            [
             0.2222222222222222,
             "#7201a8"
            ],
            [
             0.3333333333333333,
             "#9c179e"
            ],
            [
             0.4444444444444444,
             "#bd3786"
            ],
            [
             0.5555555555555556,
             "#d8576b"
            ],
            [
             0.6666666666666666,
             "#ed7953"
            ],
            [
             0.7777777777777778,
             "#fb9f3a"
            ],
            [
             0.8888888888888888,
             "#fdca26"
            ],
            [
             1,
             "#f0f921"
            ]
           ],
           "sequentialminus": [
            [
             0,
             "#0d0887"
            ],
            [
             0.1111111111111111,
             "#46039f"
            ],
            [
             0.2222222222222222,
             "#7201a8"
            ],
            [
             0.3333333333333333,
             "#9c179e"
            ],
            [
             0.4444444444444444,
             "#bd3786"
            ],
            [
             0.5555555555555556,
             "#d8576b"
            ],
            [
             0.6666666666666666,
             "#ed7953"
            ],
            [
             0.7777777777777778,
             "#fb9f3a"
            ],
            [
             0.8888888888888888,
             "#fdca26"
            ],
            [
             1,
             "#f0f921"
            ]
           ]
          },
          "colorway": [
           "#636efa",
           "#EF553B",
           "#00cc96",
           "#ab63fa",
           "#FFA15A",
           "#19d3f3",
           "#FF6692",
           "#B6E880",
           "#FF97FF",
           "#FECB52"
          ],
          "font": {
           "color": "#2a3f5f"
          },
          "geo": {
           "bgcolor": "white",
           "lakecolor": "white",
           "landcolor": "#E5ECF6",
           "showlakes": true,
           "showland": true,
           "subunitcolor": "white"
          },
          "hoverlabel": {
           "align": "left"
          },
          "hovermode": "closest",
          "mapbox": {
           "style": "light"
          },
          "paper_bgcolor": "white",
          "plot_bgcolor": "#E5ECF6",
          "polar": {
           "angularaxis": {
            "gridcolor": "white",
            "linecolor": "white",
            "ticks": ""
           },
           "bgcolor": "#E5ECF6",
           "radialaxis": {
            "gridcolor": "white",
            "linecolor": "white",
            "ticks": ""
           }
          },
          "scene": {
           "xaxis": {
            "backgroundcolor": "#E5ECF6",
            "gridcolor": "white",
            "gridwidth": 2,
            "linecolor": "white",
            "showbackground": true,
            "ticks": "",
            "zerolinecolor": "white"
           },
           "yaxis": {
            "backgroundcolor": "#E5ECF6",
            "gridcolor": "white",
            "gridwidth": 2,
            "linecolor": "white",
            "showbackground": true,
            "ticks": "",
            "zerolinecolor": "white"
           },
           "zaxis": {
            "backgroundcolor": "#E5ECF6",
            "gridcolor": "white",
            "gridwidth": 2,
            "linecolor": "white",
            "showbackground": true,
            "ticks": "",
            "zerolinecolor": "white"
           }
          },
          "shapedefaults": {
           "line": {
            "color": "#2a3f5f"
           }
          },
          "ternary": {
           "aaxis": {
            "gridcolor": "white",
            "linecolor": "white",
            "ticks": ""
           },
           "baxis": {
            "gridcolor": "white",
            "linecolor": "white",
            "ticks": ""
           },
           "bgcolor": "#E5ECF6",
           "caxis": {
            "gridcolor": "white",
            "linecolor": "white",
            "ticks": ""
           }
          },
          "title": {
           "x": 0.05
          },
          "xaxis": {
           "automargin": true,
           "gridcolor": "white",
           "linecolor": "white",
           "ticks": "",
           "title": {
            "standoff": 15
           },
           "zerolinecolor": "white",
           "zerolinewidth": 2
          },
          "yaxis": {
           "automargin": true,
           "gridcolor": "white",
           "linecolor": "white",
           "ticks": "",
           "title": {
            "standoff": 15
           },
           "zerolinecolor": "white",
           "zerolinewidth": 2
          }
         }
        },
        "title": {
         "text": "Time-Lagged Cross-Correlation for Blowing Snow Flux"
        },
        "width": 800,
        "xaxis": {
         "dtick": 6,
         "range": [
          -24.25,
          24.25
         ],
         "tickfont": {
          "size": 18
         },
         "tickmode": "linear",
         "title": {
          "font": {
           "size": 18
          },
          "text": "Lag (hours)"
         }
        },
        "yaxis": {
         "range": [
          -0.5,
          0.5
         ],
         "tickfont": {
          "size": 20
         },
         "title": {
          "font": {
           "size": 20
          },
          "text": "Cross-Correlation"
         }
        }
       }
      },
      "text/html": [
       "<div>                            <div id=\"3870e4cd-5077-42ee-b4b1-5957770a80ae\" class=\"plotly-graph-div\" style=\"height:600px; width:800px;\"></div>            <script type=\"text/javascript\">                require([\"plotly\"], function(Plotly) {                    window.PLOTLYENV=window.PLOTLYENV || {};                                    if (document.getElementById(\"3870e4cd-5077-42ee-b4b1-5957770a80ae\")) {                    Plotly.newPlot(                        \"3870e4cd-5077-42ee-b4b1-5957770a80ae\",                        [{\"mode\":\"lines+markers\",\"name\":\"BSF + WSPD\",\"x\":[-25,-24,-23,-22,-21,-20,-19,-18,-17,-16,-15,-14,-13,-12,-11,-10,-9,-8,-7,-6,-5,-4,-3,-2,-1,0,1,2,3,4,5,6,7,8,9,10,11,12,13,14,15,16,17,18,19,20,21,22,23,24],\"y\":[-0.030870967553888237,-0.020003748487484197,-0.008227825526183053,0.0038306663766800074,0.023088877698263947,0.046114915197025465,0.06642356459107959,0.08658597085273374,0.10510313707543238,0.1177917470894355,0.12962144108348042,0.14316518357345648,0.167604401318692,0.18637897868343703,0.21038922608331984,0.23285830242812877,0.25896902437077085,0.2759135398804458,0.29828514210199014,0.3154238696683704,0.3338186972015458,0.35091189220399643,0.3611257578442614,0.3780707618747807,0.3882832509572431,0.3910463856689977,0.37556911054573766,0.3525617203828625,0.32624635747057756,0.30211877530961073,0.2807542150439722,0.268490818763767,0.25153997899782865,0.2371570826092172,0.21984723843263348,0.20194629391140392,0.1861609963393792,0.17358126296348092,0.15364675533712718,0.1347237696095883,0.1198996431607726,0.10858722242523078,0.09870597693902046,0.0849572852857284,0.07322885988593263,0.05611976149068733,0.04744358525102804,0.03970650502109493,0.02395913121132933,0.001832085524981718],\"type\":\"scatter\"},{\"mode\":\"lines+markers\",\"name\":\"BSF + H2O Flux\",\"x\":[-25,-24,-23,-22,-21,-20,-19,-18,-17,-16,-15,-14,-13,-12,-11,-10,-9,-8,-7,-6,-5,-4,-3,-2,-1,0,1,2,3,4,5,6,7,8,9,10,11,12,13,14,15,16,17,18,19,20,21,22,23,24],\"y\":[-0.01220273912008562,-0.007244261956718573,0.002685534187712037,0.011528345532671434,0.023737122245787372,0.044284895111076285,0.05737113256496917,0.06957115081069139,0.08203091286572628,0.09358694009429534,0.10935538365690355,0.12127766741198173,0.1358458021270137,0.15301002817136714,0.17876174392896108,0.187791681090441,0.1974970793545956,0.19757118675157517,0.20221887408196293,0.20619842945558972,0.20874104067630947,0.22239001409587433,0.224711135116971,0.24299635733639846,0.26472083819802866,0.24858695173858528,0.23281586391360257,0.22386952511679153,0.21564448325340055,0.20319334321832538,0.19265145696546382,0.18787070654428045,0.15882571016501015,0.1623317388879531,0.14501692047343978,0.1479916744045583,0.147081351285918,0.14134167549891097,0.12782928727919543,0.12543417375609892,0.11214275741039352,0.09756619782614877,0.09246738549593574,0.07988936814344738,0.06631878193319148,0.051655633166108855,0.04547645616812161,0.04256517366741854,0.029236518688838753,0.012544343383243277],\"type\":\"scatter\"},{\"mode\":\"lines+markers\",\"name\":\"BSF + PRCP\",\"x\":[-25,-24,-23,-22,-21,-20,-19,-18,-17,-16,-15,-14,-13,-12,-11,-10,-9,-8,-7,-6,-5,-4,-3,-2,-1,0,1,2,3,4,5,6,7,8,9,10,11,12,13,14,15,16,17,18,19,20,21,22,23,24],\"y\":[-0.045545738877832184,-0.036992390846086326,-0.025872922514625963,-0.017826174179184646,-0.014475022458801196,-0.01767599911230805,-0.030470290042832134,-0.03488571371184882,-0.04913957776038977,-0.037654575000269724,-0.03359759949329841,-0.029032547843078148,-0.025417706857084284,-0.029412096155871776,-0.029125733174416846,-0.023418145814613184,-0.006073640163118354,-0.006094555766556212,0.0015135513144776055,-0.007498434027557052,-0.01168257201856921,-0.0029102164725312643,0.009612896277921652,0.011451626055667645,0.01851463132303623,0.010686049231549878,0.027630070807420165,0.042598967652718964,0.05193477755226396,0.056178042096036954,0.05608229909865378,0.06313439990155709,0.06471413309662927,0.07070262955234757,0.08882834815502584,0.09589873031254115,0.0892026762122785,0.08122786374299863,0.07342220118026166,0.05288554804837657,0.041497071042535257,0.03832521530172474,0.03744573119713803,0.033283862940080546,0.047151292902864746,0.0606230743605244,0.0728857080607722,0.07094758516868283,0.05479940144016379,0.058449211807117034],\"type\":\"scatter\"}],                        {\"template\":{\"data\":{\"histogram2dcontour\":[{\"type\":\"histogram2dcontour\",\"colorbar\":{\"outlinewidth\":0,\"ticks\":\"\"},\"colorscale\":[[0.0,\"#0d0887\"],[0.1111111111111111,\"#46039f\"],[0.2222222222222222,\"#7201a8\"],[0.3333333333333333,\"#9c179e\"],[0.4444444444444444,\"#bd3786\"],[0.5555555555555556,\"#d8576b\"],[0.6666666666666666,\"#ed7953\"],[0.7777777777777778,\"#fb9f3a\"],[0.8888888888888888,\"#fdca26\"],[1.0,\"#f0f921\"]]}],\"choropleth\":[{\"type\":\"choropleth\",\"colorbar\":{\"outlinewidth\":0,\"ticks\":\"\"}}],\"histogram2d\":[{\"type\":\"histogram2d\",\"colorbar\":{\"outlinewidth\":0,\"ticks\":\"\"},\"colorscale\":[[0.0,\"#0d0887\"],[0.1111111111111111,\"#46039f\"],[0.2222222222222222,\"#7201a8\"],[0.3333333333333333,\"#9c179e\"],[0.4444444444444444,\"#bd3786\"],[0.5555555555555556,\"#d8576b\"],[0.6666666666666666,\"#ed7953\"],[0.7777777777777778,\"#fb9f3a\"],[0.8888888888888888,\"#fdca26\"],[1.0,\"#f0f921\"]]}],\"heatmap\":[{\"type\":\"heatmap\",\"colorbar\":{\"outlinewidth\":0,\"ticks\":\"\"},\"colorscale\":[[0.0,\"#0d0887\"],[0.1111111111111111,\"#46039f\"],[0.2222222222222222,\"#7201a8\"],[0.3333333333333333,\"#9c179e\"],[0.4444444444444444,\"#bd3786\"],[0.5555555555555556,\"#d8576b\"],[0.6666666666666666,\"#ed7953\"],[0.7777777777777778,\"#fb9f3a\"],[0.8888888888888888,\"#fdca26\"],[1.0,\"#f0f921\"]]}],\"heatmapgl\":[{\"type\":\"heatmapgl\",\"colorbar\":{\"outlinewidth\":0,\"ticks\":\"\"},\"colorscale\":[[0.0,\"#0d0887\"],[0.1111111111111111,\"#46039f\"],[0.2222222222222222,\"#7201a8\"],[0.3333333333333333,\"#9c179e\"],[0.4444444444444444,\"#bd3786\"],[0.5555555555555556,\"#d8576b\"],[0.6666666666666666,\"#ed7953\"],[0.7777777777777778,\"#fb9f3a\"],[0.8888888888888888,\"#fdca26\"],[1.0,\"#f0f921\"]]}],\"contourcarpet\":[{\"type\":\"contourcarpet\",\"colorbar\":{\"outlinewidth\":0,\"ticks\":\"\"}}],\"contour\":[{\"type\":\"contour\",\"colorbar\":{\"outlinewidth\":0,\"ticks\":\"\"},\"colorscale\":[[0.0,\"#0d0887\"],[0.1111111111111111,\"#46039f\"],[0.2222222222222222,\"#7201a8\"],[0.3333333333333333,\"#9c179e\"],[0.4444444444444444,\"#bd3786\"],[0.5555555555555556,\"#d8576b\"],[0.6666666666666666,\"#ed7953\"],[0.7777777777777778,\"#fb9f3a\"],[0.8888888888888888,\"#fdca26\"],[1.0,\"#f0f921\"]]}],\"surface\":[{\"type\":\"surface\",\"colorbar\":{\"outlinewidth\":0,\"ticks\":\"\"},\"colorscale\":[[0.0,\"#0d0887\"],[0.1111111111111111,\"#46039f\"],[0.2222222222222222,\"#7201a8\"],[0.3333333333333333,\"#9c179e\"],[0.4444444444444444,\"#bd3786\"],[0.5555555555555556,\"#d8576b\"],[0.6666666666666666,\"#ed7953\"],[0.7777777777777778,\"#fb9f3a\"],[0.8888888888888888,\"#fdca26\"],[1.0,\"#f0f921\"]]}],\"mesh3d\":[{\"type\":\"mesh3d\",\"colorbar\":{\"outlinewidth\":0,\"ticks\":\"\"}}],\"scatter\":[{\"fillpattern\":{\"fillmode\":\"overlay\",\"size\":10,\"solidity\":0.2},\"type\":\"scatter\"}],\"parcoords\":[{\"type\":\"parcoords\",\"line\":{\"colorbar\":{\"outlinewidth\":0,\"ticks\":\"\"}}}],\"scatterpolargl\":[{\"type\":\"scatterpolargl\",\"marker\":{\"colorbar\":{\"outlinewidth\":0,\"ticks\":\"\"}}}],\"bar\":[{\"error_x\":{\"color\":\"#2a3f5f\"},\"error_y\":{\"color\":\"#2a3f5f\"},\"marker\":{\"line\":{\"color\":\"#E5ECF6\",\"width\":0.5},\"pattern\":{\"fillmode\":\"overlay\",\"size\":10,\"solidity\":0.2}},\"type\":\"bar\"}],\"scattergeo\":[{\"type\":\"scattergeo\",\"marker\":{\"colorbar\":{\"outlinewidth\":0,\"ticks\":\"\"}}}],\"scatterpolar\":[{\"type\":\"scatterpolar\",\"marker\":{\"colorbar\":{\"outlinewidth\":0,\"ticks\":\"\"}}}],\"histogram\":[{\"marker\":{\"pattern\":{\"fillmode\":\"overlay\",\"size\":10,\"solidity\":0.2}},\"type\":\"histogram\"}],\"scattergl\":[{\"type\":\"scattergl\",\"marker\":{\"colorbar\":{\"outlinewidth\":0,\"ticks\":\"\"}}}],\"scatter3d\":[{\"type\":\"scatter3d\",\"line\":{\"colorbar\":{\"outlinewidth\":0,\"ticks\":\"\"}},\"marker\":{\"colorbar\":{\"outlinewidth\":0,\"ticks\":\"\"}}}],\"scattermapbox\":[{\"type\":\"scattermapbox\",\"marker\":{\"colorbar\":{\"outlinewidth\":0,\"ticks\":\"\"}}}],\"scatterternary\":[{\"type\":\"scatterternary\",\"marker\":{\"colorbar\":{\"outlinewidth\":0,\"ticks\":\"\"}}}],\"scattercarpet\":[{\"type\":\"scattercarpet\",\"marker\":{\"colorbar\":{\"outlinewidth\":0,\"ticks\":\"\"}}}],\"carpet\":[{\"aaxis\":{\"endlinecolor\":\"#2a3f5f\",\"gridcolor\":\"white\",\"linecolor\":\"white\",\"minorgridcolor\":\"white\",\"startlinecolor\":\"#2a3f5f\"},\"baxis\":{\"endlinecolor\":\"#2a3f5f\",\"gridcolor\":\"white\",\"linecolor\":\"white\",\"minorgridcolor\":\"white\",\"startlinecolor\":\"#2a3f5f\"},\"type\":\"carpet\"}],\"table\":[{\"cells\":{\"fill\":{\"color\":\"#EBF0F8\"},\"line\":{\"color\":\"white\"}},\"header\":{\"fill\":{\"color\":\"#C8D4E3\"},\"line\":{\"color\":\"white\"}},\"type\":\"table\"}],\"barpolar\":[{\"marker\":{\"line\":{\"color\":\"#E5ECF6\",\"width\":0.5},\"pattern\":{\"fillmode\":\"overlay\",\"size\":10,\"solidity\":0.2}},\"type\":\"barpolar\"}],\"pie\":[{\"automargin\":true,\"type\":\"pie\"}]},\"layout\":{\"autotypenumbers\":\"strict\",\"colorway\":[\"#636efa\",\"#EF553B\",\"#00cc96\",\"#ab63fa\",\"#FFA15A\",\"#19d3f3\",\"#FF6692\",\"#B6E880\",\"#FF97FF\",\"#FECB52\"],\"font\":{\"color\":\"#2a3f5f\"},\"hovermode\":\"closest\",\"hoverlabel\":{\"align\":\"left\"},\"paper_bgcolor\":\"white\",\"plot_bgcolor\":\"#E5ECF6\",\"polar\":{\"bgcolor\":\"#E5ECF6\",\"angularaxis\":{\"gridcolor\":\"white\",\"linecolor\":\"white\",\"ticks\":\"\"},\"radialaxis\":{\"gridcolor\":\"white\",\"linecolor\":\"white\",\"ticks\":\"\"}},\"ternary\":{\"bgcolor\":\"#E5ECF6\",\"aaxis\":{\"gridcolor\":\"white\",\"linecolor\":\"white\",\"ticks\":\"\"},\"baxis\":{\"gridcolor\":\"white\",\"linecolor\":\"white\",\"ticks\":\"\"},\"caxis\":{\"gridcolor\":\"white\",\"linecolor\":\"white\",\"ticks\":\"\"}},\"coloraxis\":{\"colorbar\":{\"outlinewidth\":0,\"ticks\":\"\"}},\"colorscale\":{\"sequential\":[[0.0,\"#0d0887\"],[0.1111111111111111,\"#46039f\"],[0.2222222222222222,\"#7201a8\"],[0.3333333333333333,\"#9c179e\"],[0.4444444444444444,\"#bd3786\"],[0.5555555555555556,\"#d8576b\"],[0.6666666666666666,\"#ed7953\"],[0.7777777777777778,\"#fb9f3a\"],[0.8888888888888888,\"#fdca26\"],[1.0,\"#f0f921\"]],\"sequentialminus\":[[0.0,\"#0d0887\"],[0.1111111111111111,\"#46039f\"],[0.2222222222222222,\"#7201a8\"],[0.3333333333333333,\"#9c179e\"],[0.4444444444444444,\"#bd3786\"],[0.5555555555555556,\"#d8576b\"],[0.6666666666666666,\"#ed7953\"],[0.7777777777777778,\"#fb9f3a\"],[0.8888888888888888,\"#fdca26\"],[1.0,\"#f0f921\"]],\"diverging\":[[0,\"#8e0152\"],[0.1,\"#c51b7d\"],[0.2,\"#de77ae\"],[0.3,\"#f1b6da\"],[0.4,\"#fde0ef\"],[0.5,\"#f7f7f7\"],[0.6,\"#e6f5d0\"],[0.7,\"#b8e186\"],[0.8,\"#7fbc41\"],[0.9,\"#4d9221\"],[1,\"#276419\"]]},\"xaxis\":{\"gridcolor\":\"white\",\"linecolor\":\"white\",\"ticks\":\"\",\"title\":{\"standoff\":15},\"zerolinecolor\":\"white\",\"automargin\":true,\"zerolinewidth\":2},\"yaxis\":{\"gridcolor\":\"white\",\"linecolor\":\"white\",\"ticks\":\"\",\"title\":{\"standoff\":15},\"zerolinecolor\":\"white\",\"automargin\":true,\"zerolinewidth\":2},\"scene\":{\"xaxis\":{\"backgroundcolor\":\"#E5ECF6\",\"gridcolor\":\"white\",\"linecolor\":\"white\",\"showbackground\":true,\"ticks\":\"\",\"zerolinecolor\":\"white\",\"gridwidth\":2},\"yaxis\":{\"backgroundcolor\":\"#E5ECF6\",\"gridcolor\":\"white\",\"linecolor\":\"white\",\"showbackground\":true,\"ticks\":\"\",\"zerolinecolor\":\"white\",\"gridwidth\":2},\"zaxis\":{\"backgroundcolor\":\"#E5ECF6\",\"gridcolor\":\"white\",\"linecolor\":\"white\",\"showbackground\":true,\"ticks\":\"\",\"zerolinecolor\":\"white\",\"gridwidth\":2}},\"shapedefaults\":{\"line\":{\"color\":\"#2a3f5f\"}},\"annotationdefaults\":{\"arrowcolor\":\"#2a3f5f\",\"arrowhead\":0,\"arrowwidth\":1},\"geo\":{\"bgcolor\":\"white\",\"landcolor\":\"#E5ECF6\",\"subunitcolor\":\"white\",\"showland\":true,\"showlakes\":true,\"lakecolor\":\"white\"},\"title\":{\"x\":0.05},\"mapbox\":{\"style\":\"light\"}}},\"xaxis\":{\"tickfont\":{\"size\":18},\"title\":{\"text\":\"Lag (hours)\",\"font\":{\"size\":18}},\"range\":[-24.25,24.25],\"tickmode\":\"linear\",\"dtick\":6},\"yaxis\":{\"tickfont\":{\"size\":20},\"title\":{\"text\":\"Cross-Correlation\",\"font\":{\"size\":20}},\"range\":[-0.5,0.5]},\"title\":{\"text\":\"Time-Lagged Cross-Correlation for Blowing Snow Flux\"},\"width\":800,\"height\":600,\"legend\":{\"title\":{\"text\":\"Legend\"},\"yanchor\":\"bottom\",\"y\":0.01,\"xanchor\":\"right\",\"x\":0.99}},                        {\"responsive\": true}                    ).then(function(){\n",
       "                            \n",
       "var gd = document.getElementById('3870e4cd-5077-42ee-b4b1-5957770a80ae');\n",
       "var x = new MutationObserver(function (mutations, observer) {{\n",
       "        var display = window.getComputedStyle(gd).display;\n",
       "        if (!display || display === 'none') {{\n",
       "            console.log([gd, 'removed!']);\n",
       "            Plotly.purge(gd);\n",
       "            observer.disconnect();\n",
       "        }}\n",
       "}});\n",
       "\n",
       "// Listen for the removal of the full notebook cells\n",
       "var notebookContainer = gd.closest('#notebook-container');\n",
       "if (notebookContainer) {{\n",
       "    x.observe(notebookContainer, {childList: true});\n",
       "}}\n",
       "\n",
       "// Listen for the clearing of the current output cell\n",
       "var outputEl = gd.closest('.output');\n",
       "if (outputEl) {{\n",
       "    x.observe(outputEl, {childList: true});\n",
       "}}\n",
       "\n",
       "                        })                };                });            </script>        </div>"
      ]
     },
     "metadata": {},
     "output_type": "display_data"
    }
   ],
   "source": [
    "# Calculate cross-correlation\n",
    "lags_bsf_wspd, cross_corr_bsf_wspd = lagged_cross_corr(combined_sos_sail_df, 24, 'bsf', 'spd_10m_uw', binary=False)\n",
    "lags_bsf_h2o, cross_corr_bsf_h2o = lagged_cross_corr(combined_sos_sail_df, 24, 'bsf', 'w_h2o__5m_c', binary=False)\n",
    "lags_bsf_prcp, cross_corr_bsf_prcp = lagged_cross_corr(combined_sos_sail_df, 24, 'bsf', 'precip_binary', binary=True)\n",
    "\n",
    "# Create plot\n",
    "fig = go.Figure()\n",
    "fig.add_trace(go.Scatter(x=lags_bsf_wspd, y=cross_corr_bsf_wspd, mode='lines+markers', name='BSF + WSPD'))\n",
    "fig.add_trace(go.Scatter(x=lags_bsf_h2o, y=cross_corr_bsf_h2o, mode='lines+markers', name='BSF + H2O Flux'))\n",
    "fig.add_trace(go.Scatter(x=lags_bsf_prcp, y=cross_corr_bsf_prcp, mode='lines+markers', name='BSF + PRCP'))\n",
    "\n",
    "fig.update_layout(\n",
    "    title='Time-Lagged Cross-Correlation for Blowing Snow Flux' ,\n",
    "    xaxis_title='Lag (hours)',\n",
    "    yaxis_title='Cross-Correlation',\n",
    "    xaxis=dict(range=[-24.25, 24.25],\n",
    "               tickmode='linear',\n",
    "               dtick=6,\n",
    "               tickfont=dict(size=18)),\n",
    "    yaxis=dict(range=[-0.5, 0.5], tickfont=dict(size=20)),\n",
    "    width=800,\n",
    "    height=600\n",
    ")\n",
    "# increase yaxis font label size\n",
    "fig.update_yaxes(title_font=dict(size=20))\n",
    "fig.update_xaxes(title_font=dict(size=18),\n",
    "                # show every 6th tick on the x-axis\n",
    "                )\n",
    "# update legend with title and font size\n",
    "fig.update_layout(legend_title_text='Legend', \n",
    "                legend=dict(\n",
    "                             yanchor=\"bottom\",\n",
    "                             y=0.01,\n",
    "                             xanchor=\"right\",\n",
    "                             x=0.99\n",
    "                            ))\n",
    "\n",
    "fig.show()\n"
   ]
  },
  {
   "cell_type": "markdown",
   "metadata": {},
   "source": [
    "### Figure for paper: blowing snow time-lag from precipitation"
   ]
  },
  {
   "cell_type": "code",
   "execution_count": 31,
   "metadata": {},
   "outputs": [],
   "source": [
    "# pull in the 5 minute SOS data\n",
    "sos_30min_ds = xr.open_dataset('./01_data/processed_data/sos/sos_ds_30M_storage.nc')\n",
    "# sos_5min_blowin snow\n",
    "total_bsf_30min = (sos_30min_ds['SF_avg_1m_ue']+sos_30min_ds['SF_avg_2m_ue']).sel(time=slice('2022-12-01', '2023-03-31'))\n",
    "total_bsf_30min.name = 'bsf'\n",
    "\n",
    "# pull in observed 30min precip\n",
    "w23_precip_df = pd.read_csv('./01_data/processed_data/precipitation/w23_all_precip_30min.csv', index_col=0, parse_dates=True)\n",
    "w23_precip_df = w23_precip_df.loc['2022-12-01':'2023-03-31']['SAIL_gts_pluvio']\n",
    "w23_precip_mask = w23_precip_df > 0.1\n",
    "# make the mask 1 or 0\n",
    "w23_precip_mask = w23_precip_mask.astype(int)\n",
    "# any precip mask\n",
    "w23_all_precip_mask = (w23_precip_df > 0).astype(int) \n"
   ]
  },
  {
   "cell_type": "code",
   "execution_count": 32,
   "metadata": {},
   "outputs": [
    {
     "name": "stderr",
     "output_type": "stream",
     "text": [
      "C:\\Users\\dlhogan\\AppData\\Local\\Temp\\ipykernel_23492\\1191214766.py:32: FutureWarning:\n",
      "\n",
      "The default of observed=False is deprecated and will be changed to True in a future version of pandas. Pass observed=False to retain current behavior or observed=True to adopt the future default and silence this warning.\n",
      "\n",
      "C:\\Users\\dlhogan\\AppData\\Local\\Temp\\ipykernel_23492\\1191214766.py:33: FutureWarning:\n",
      "\n",
      "The default of observed=False is deprecated and will be changed to True in a future version of pandas. Pass observed=False to retain current behavior or observed=True to adopt the future default and silence this warning.\n",
      "\n",
      "C:\\Users\\dlhogan\\AppData\\Local\\Temp\\ipykernel_23492\\1191214766.py:36: FutureWarning:\n",
      "\n",
      "The default of observed=False is deprecated and will be changed to True in a future version of pandas. Pass observed=False to retain current behavior or observed=True to adopt the future default and silence this warning.\n",
      "\n",
      "C:\\Users\\dlhogan\\AppData\\Local\\Temp\\ipykernel_23492\\1191214766.py:37: FutureWarning:\n",
      "\n",
      "The default of observed=False is deprecated and will be changed to True in a future version of pandas. Pass observed=False to retain current behavior or observed=True to adopt the future default and silence this warning.\n",
      "\n"
     ]
    }
   ],
   "source": [
    "# combine these two datasets\n",
    "precip_bsf_class_df = pd.concat([w23_precip_mask, total_bsf_30min.to_dataframe()], axis=1)\n",
    "# Identify when blowing snow occurred in each 5 mintue period\n",
    "precip_bsf_class_df['bsf_class'] = precip_bsf_class_df['bsf'].apply(lambda x: 1 if x >= 1 else 0)\n",
    "precip_bsf_class_df['bsf_class_prcp'] = precip_bsf_class_df['bsf'].apply(lambda x: 1 if x >= 1 else 0)\n",
    "\n",
    "\n",
    "# Initialize the time since last precipitation column with large values\n",
    "time_since_last_precip = np.full(len(precip_bsf_class_df), 0)\n",
    "\n",
    "# Set the time since last precipitation to 0 at the points of precipitation\n",
    "for i, value in enumerate(precip_bsf_class_df['SAIL_gts_pluvio']):\n",
    "    if value == 1:\n",
    "        time_since_last_precip[i] = 0\n",
    "    else:\n",
    "        time_since_last_precip[i] = time_since_last_precip[i-1] + 1\n",
    "bins = np.arange(1, 28, 3)\n",
    "# initialize the time before precip\n",
    "time_before_precip = np.full(len(precip_bsf_class_df), 0)\n",
    "# Set the time before precipitation to 0 at the points of precipitation\n",
    "for i, value in enumerate(precip_bsf_class_df['SAIL_gts_pluvio'][::-1]):\n",
    "    if value == 1:\n",
    "        time_before_precip[i] = 0\n",
    "    else:\n",
    "        time_before_precip[i] = time_before_precip[i-1] + 1\n",
    "time_before_precip = time_before_precip[::-1]\n",
    "\n",
    "precip_bsf_class_df['hours_since_precip'] = np.where(time_since_last_precip>=1,(time_since_last_precip * 30 / 60), 0)\n",
    "precip_bsf_class_df['hours_before_precip'] = np.where(time_before_precip>=1,(time_before_precip * 30 / 60), 0)\n",
    "precip_bsf_class_df['hours_with_precip'] = np.where((time_since_last_precip<1) & (time_before_precip<1), 1, 0)\n",
    "\n",
    "grouped_after_bsf_sum = precip_bsf_class_df.groupby(pd.cut(precip_bsf_class_df.hours_since_precip, bins=bins)).sum()\n",
    "grouped_after_bsf_count = precip_bsf_class_df.groupby(pd.cut(precip_bsf_class_df.hours_since_precip, bins=bins)).count()\n",
    "grouped_after_bsf_count['percent_of_total_time'] = grouped_after_bsf_count['SAIL_gts_pluvio'] / len(precip_bsf_class_df) * 100\n",
    "\n",
    "grouped_before_bsf_sum = precip_bsf_class_df.groupby(pd.cut(precip_bsf_class_df.hours_before_precip, bins=bins)).sum()\n",
    "grouped_before_bsf_count = precip_bsf_class_df.groupby(pd.cut(precip_bsf_class_df.hours_before_precip, bins=bins)).count()\n",
    "grouped_before_bsf_count['percent_of_total_time'] = grouped_before_bsf_count['SAIL_gts_pluvio'] / len(precip_bsf_class_df) * 100\n",
    "\n",
    "# all observations of blowing snow\n",
    "bsf_obs = precip_bsf_class_df['bsf_class'].sum()\n",
    "# calculate the co-occurene of blowing snow and precipitation\n",
    "co_occurence_precip = precip_bsf_class_df['bsf_class'].where(w23_all_precip_mask == 1, 0).sum() / w23_all_precip_mask.sum()\n",
    "co_occurence_bsf = precip_bsf_class_df['hours_with_precip'].where(precip_bsf_class_df['bsf_class_prcp'] == 1, 0).sum() / bsf_obs"
   ]
  },
  {
   "cell_type": "code",
   "execution_count": 33,
   "metadata": {},
   "outputs": [
    {
     "data": {
      "text/plain": [
       "<matplotlib.legend.Legend at 0x2b0e0a9a8f0>"
      ]
     },
     "execution_count": 33,
     "metadata": {},
     "output_type": "execute_result"
    },
    {
     "data": {
      "image/png": "[encoded data removed]",
      "text/plain": [
       "<Figure size 600x400 with 1 Axes>"
      ]
     },
     "metadata": {},
     "output_type": "display_data"
    }
   ],
   "source": [
    "fig, axs = plt.subplots(figsize=(6, 4), tight_layout=True)\n",
    "\n",
    "# change the plotstyle to ggplot\n",
    "plt.style.use('bmh')\n",
    "# Plot of fraction of total occurrences of blowing snow\n",
    "ax = axs\n",
    "bsf_percent_of_total_after = (grouped_after_bsf_sum['bsf_class']/bsf_obs)*100\n",
    "bsf_percent_of_total_before = (grouped_before_bsf_sum['bsf_class'] / bsf_obs)*100\n",
    "\n",
    "for i,v in enumerate([-1,-2,-3,-4,-5,-6,-7,-8,]):\n",
    "    if i == 0:\n",
    "        ax.bar(v, bsf_percent_of_total_before.values[i], color='orange', width=1, align='edge', label='Before snowfall', ec='black')\n",
    "    else:\n",
    "        ax.bar(v, bsf_percent_of_total_before.values[i], color='orange', width=1, align='edge', ec='black')\n",
    "\n",
    "# add a bar for the co-occurence of blowing snow and precipitation\n",
    "ax.bar(0, co_occurence_bsf*100, color='red', width=0.1, align='edge', label='During snowfall', ec='black', zorder=10)\n",
    "# add bars for the time before precipitation\n",
    "bsf_percent_of_total_after.plot.bar(ax=ax, align='edge', width=1, color='dodgerblue', label='After snowfall', ec='black')\n",
    "\n",
    "ax.set_xlabel('Proximity to precipitation event (h)')\n",
    "ax.set_ylabel('Blowing snow occurrence relative to all\\nblowing snow observations (%)')\n",
    "ax.set_title('(A)')\n",
    "# set the x ticks to be every 3 hours from -24 to 24\n",
    "ax.set_xticks(np.arange(-8, 9,1))\n",
    "ax.set_xticklabels(np.arange(-24,26,3), rotation=0)\n",
    "ax.set_ylim(0,30)\n",
    "ax.legend(loc='upper left')\n",
    "\n",
    "\n"
   ]
  },
  {
   "cell_type": "code",
   "execution_count": 63,
   "metadata": {},
   "outputs": [
    {
     "data": {
      "image/png": "[encoded data removed]",
      "text/plain": [
       "<Figure size 670x400 with 1 Axes>"
      ]
     },
     "metadata": {},
     "output_type": "display_data"
    }
   ],
   "source": [
    "fontsize_scale = 1.6  # You can change this value to scale up/down\n",
    "\n",
    "fig, axs = plt.subplots(figsize=(6.7, 4))\n",
    "\n",
    "# change the plot style\n",
    "plt.style.use('bmh')\n",
    "\n",
    "# Plot of fraction of total occurrences of blowing snow\n",
    "ax = axs\n",
    "bsf_percent_of_total_after = (grouped_after_bsf_sum['bsf_class'] / bsf_obs) * 100\n",
    "bsf_percent_of_total_before = (grouped_before_bsf_sum['bsf_class'] / bsf_obs) * 100\n",
    "\n",
    "for i, v in enumerate([-1, -2, -3, -4, -5, -6, -7, -8]):\n",
    "    ax.bar(\n",
    "        v, bsf_percent_of_total_before.values[i],\n",
    "        color='orange', width=1, align='edge',\n",
    "        label='Before snowfall' if i == 0 else \"\",\n",
    "        ec='black'\n",
    "    )\n",
    "\n",
    "# Co-occurrence bar\n",
    "ax.bar(0, co_occurence_bsf * 100, color='red', width=0.1,\n",
    "       align='edge', label='During snowfall', ec='black', zorder=10)\n",
    "\n",
    "# After precipitation bars\n",
    "bsf_percent_of_total_after.plot.bar(\n",
    "    ax=ax, align='edge', width=1, color='dodgerblue',\n",
    "    label='After snowfall', ec='black'\n",
    ")\n",
    "\n",
    "# Labels and Title\n",
    "ax.set_xlabel('Proximity to precipitation event (hr)', fontsize=9 * fontsize_scale)\n",
    "ax.set_ylabel(\"Blowing snow occurrence (%)\",#'Blowing snow occurrence relative to\\nall blowing snow observations (%)',\n",
    "              fontsize=9 * fontsize_scale)\n",
    "# ax.set_title('(A)', fontsize=12 * fontsize_scale)\n",
    "\n",
    "# Ticks\n",
    "ax.set_xticks(np.arange(-8, 9, 2))\n",
    "ax.set_xticklabels(np.arange(-24, 26, 6), rotation=0, fontsize=9 * fontsize_scale)\n",
    "ax.yaxis.set_tick_params(direction='out', length=3, width=0.5, labelsize=9 * fontsize_scale)\n",
    "ax.xaxis.set_tick_params(direction='out', length=3, width=0.5, labelsize=9 * fontsize_scale)\n",
    "\n",
    "# Set axis limits and legend\n",
    "ax.set_ylim(0, 20)\n",
    "ax.set_xlim(-8.5,8.5)\n",
    "ax.legend(loc='upper left', fontsize=9 * 1.6)\n",
    "\n",
    "# make edges of the plot black\n",
    "for spine in ax.spines.values():\n",
    "    spine.set_edgecolor('black')\n",
    "    spine.set_linewidth(0.5)\n",
    "\n",
    "# add space betwee y-label and y-axis\n",
    "ax.yaxis.set_label_coords(-0.14, 0.5)"
   ]
  },
  {
   "cell_type": "code",
   "execution_count": 114,
   "metadata": {},
   "outputs": [
    {
     "data": {
      "text/plain": [
       "11.76470588235294"
      ]
     },
     "execution_count": 114,
     "metadata": {},
     "output_type": "execute_result"
    }
   ],
   "source": [
    "bsf_percent_of_total_before.sum()"
   ]
  },
  {
   "cell_type": "code",
   "execution_count": 115,
   "metadata": {},
   "outputs": [
    {
     "data": {
      "text/plain": [
       "0.17647058823529413"
      ]
     },
     "execution_count": 115,
     "metadata": {},
     "output_type": "execute_result"
    }
   ],
   "source": [
    "co_occurence_bsf"
   ]
  },
  {
   "cell_type": "code",
   "execution_count": null,
   "metadata": {},
   "outputs": [
    {
     "data": {
      "text/html": [
       "<div>\n",
       "<style scoped>\n",
       "    .dataframe tbody tr th:only-of-type {\n",
       "        vertical-align: middle;\n",
       "    }\n",
       "\n",
       "    .dataframe tbody tr th {\n",
       "        vertical-align: top;\n",
       "    }\n",
       "\n",
       "    .dataframe thead th {\n",
       "        text-align: right;\n",
       "    }\n",
       "</style>\n",
       "<table border=\"1\" class=\"dataframe\">\n",
       "  <thead>\n",
       "    <tr style=\"text-align: right;\">\n",
       "      <th></th>\n",
       "      <th>range</th>\n",
       "      <th>backscatter_profile</th>\n",
       "      <th>bsf</th>\n",
       "      <th>bsf_class</th>\n",
       "      <th>hours_since_precip</th>\n",
       "      <th>hours_before_precip</th>\n",
       "    </tr>\n",
       "    <tr>\n",
       "      <th>hours_since_precip</th>\n",
       "      <th></th>\n",
       "      <th></th>\n",
       "      <th></th>\n",
       "      <th></th>\n",
       "      <th></th>\n",
       "      <th></th>\n",
       "    </tr>\n",
       "  </thead>\n",
       "  <tbody>\n",
       "    <tr>\n",
       "      <th>(1, 5]</th>\n",
       "      <td>208650.0</td>\n",
       "      <td>0.0</td>\n",
       "      <td>264.640015</td>\n",
       "      <td>764</td>\n",
       "      <td>11481.250000</td>\n",
       "      <td>83785.416667</td>\n",
       "    </tr>\n",
       "    <tr>\n",
       "      <th>(5, 9]</th>\n",
       "      <td>121100.0</td>\n",
       "      <td>0.0</td>\n",
       "      <td>141.350006</td>\n",
       "      <td>464</td>\n",
       "      <td>16707.666667</td>\n",
       "      <td>53829.000000</td>\n",
       "    </tr>\n",
       "    <tr>\n",
       "      <th>(9, 13]</th>\n",
       "      <td>90800.0</td>\n",
       "      <td>0.0</td>\n",
       "      <td>101.580002</td>\n",
       "      <td>316</td>\n",
       "      <td>19957.333333</td>\n",
       "      <td>47527.416667</td>\n",
       "    </tr>\n",
       "    <tr>\n",
       "      <th>(13, 17]</th>\n",
       "      <td>77300.0</td>\n",
       "      <td>0.0</td>\n",
       "      <td>33.980000</td>\n",
       "      <td>226</td>\n",
       "      <td>23139.083333</td>\n",
       "      <td>48070.916667</td>\n",
       "    </tr>\n",
       "    <tr>\n",
       "      <th>(17, 21]</th>\n",
       "      <td>70250.0</td>\n",
       "      <td>0.0</td>\n",
       "      <td>17.299999</td>\n",
       "      <td>204</td>\n",
       "      <td>26718.250000</td>\n",
       "      <td>43891.666667</td>\n",
       "    </tr>\n",
       "    <tr>\n",
       "      <th>(21, 25]</th>\n",
       "      <td>63850.0</td>\n",
       "      <td>0.0</td>\n",
       "      <td>9.070000</td>\n",
       "      <td>110</td>\n",
       "      <td>29700.583333</td>\n",
       "      <td>40180.916667</td>\n",
       "    </tr>\n",
       "    <tr>\n",
       "      <th>(25, 29]</th>\n",
       "      <td>56300.0</td>\n",
       "      <td>0.0</td>\n",
       "      <td>6.310000</td>\n",
       "      <td>32</td>\n",
       "      <td>31664.666667</td>\n",
       "      <td>36506.750000</td>\n",
       "    </tr>\n",
       "    <tr>\n",
       "      <th>(29, 33]</th>\n",
       "      <td>48800.0</td>\n",
       "      <td>0.0</td>\n",
       "      <td>2.340000</td>\n",
       "      <td>40</td>\n",
       "      <td>31748.333333</td>\n",
       "      <td>35916.083333</td>\n",
       "    </tr>\n",
       "    <tr>\n",
       "      <th>(33, 37]</th>\n",
       "      <td>42500.0</td>\n",
       "      <td>0.0</td>\n",
       "      <td>0.840000</td>\n",
       "      <td>28</td>\n",
       "      <td>31447.583333</td>\n",
       "      <td>33691.250000</td>\n",
       "    </tr>\n",
       "    <tr>\n",
       "      <th>(37, 41]</th>\n",
       "      <td>40800.0</td>\n",
       "      <td>0.0</td>\n",
       "      <td>1.780000</td>\n",
       "      <td>25</td>\n",
       "      <td>33732.000000</td>\n",
       "      <td>35570.666667</td>\n",
       "    </tr>\n",
       "    <tr>\n",
       "      <th>(41, 45]</th>\n",
       "      <td>39100.0</td>\n",
       "      <td>0.0</td>\n",
       "      <td>2.270000</td>\n",
       "      <td>44</td>\n",
       "      <td>35704.750000</td>\n",
       "      <td>30957.500000</td>\n",
       "    </tr>\n",
       "  </tbody>\n",
       "</table>\n",
       "</div>"
      ],
      "text/plain": [
       "                       range  backscatter_profile         bsf  bsf_class  \\\n",
       "hours_since_precip                                                         \n",
       "(1, 5]              208650.0                  0.0  264.640015        764   \n",
       "(5, 9]              121100.0                  0.0  141.350006        464   \n",
       "(9, 13]              90800.0                  0.0  101.580002        316   \n",
       "(13, 17]             77300.0                  0.0   33.980000        226   \n",
       "(17, 21]             70250.0                  0.0   17.299999        204   \n",
       "(21, 25]             63850.0                  0.0    9.070000        110   \n",
       "(25, 29]             56300.0                  0.0    6.310000         32   \n",
       "(29, 33]             48800.0                  0.0    2.340000         40   \n",
       "(33, 37]             42500.0                  0.0    0.840000         28   \n",
       "(37, 41]             40800.0                  0.0    1.780000         25   \n",
       "(41, 45]             39100.0                  0.0    2.270000         44   \n",
       "\n",
       "                    hours_since_precip  hours_before_precip  \n",
       "hours_since_precip                                           \n",
       "(1, 5]                    11481.250000         83785.416667  \n",
       "(5, 9]                    16707.666667         53829.000000  \n",
       "(9, 13]                   19957.333333         47527.416667  \n",
       "(13, 17]                  23139.083333         48070.916667  \n",
       "(17, 21]                  26718.250000         43891.666667  \n",
       "(21, 25]                  29700.583333         40180.916667  \n",
       "(25, 29]                  31664.666667         36506.750000  \n",
       "(29, 33]                  31748.333333         35916.083333  \n",
       "(33, 37]                  31447.583333         33691.250000  \n",
       "(37, 41]                  33732.000000         35570.666667  \n",
       "(41, 45]                  35704.750000         30957.500000  "
      ]
     },
     "execution_count": 69,
     "metadata": {},
     "output_type": "execute_result"
    }
   ],
   "source": [
    "grouped_after_bsf_sum"
   ]
  },
  {
   "cell_type": "markdown",
   "metadata": {},
   "source": [
    "### Linear Relationships between Variables"
   ]
  },
  {
   "cell_type": "markdown",
   "metadata": {},
   "source": [
    "#### Filtering days... \n",
    "\n",
    "with snow in the past 24 hours and days with no snow in the past 24 hours\n",
    "\n",
    "Is the relationship between wind speed and blowing snow flux stronger if it precipitated?"
   ]
  },
  {
   "cell_type": "markdown",
   "metadata": {},
   "source": [
    "#### Plotting Wind Direction"
   ]
  },
  {
   "cell_type": "code",
   "execution_count": null,
   "metadata": {},
   "outputs": [],
   "source": [
    "# Add blowing snow flux \n",
    "max_val = sos_1H_max_wspd_ds['w_h2o__3m_uw'].mean()+(sos_1H_max_wspd_ds['w_h2o__3m_uw'].std()*3)\n",
    "min_val = sos_1H_max_wspd_ds['w_h2o__3m_uw'].mean()-(sos_1H_max_wspd_ds['w_h2o__3m_uw'].std()*3)\n",
    "sos_1H_max_wspd_ds['bsf'] = np.log(sos_1H_max_wspd_ds['SF_avg_1m_ue']+sos_1H_max_wspd_ds['SF_avg_2m_ue']).where(sos_1H_max_wspd_ds['SF_avg_1m_ue']+sos_1H_max_wspd_ds['SF_avg_2m_ue']>0.001)\n",
    "# Filter\n",
    "filtered_ds = sos_1H_max_wspd_ds.where((sos_1H_max_wspd_ds['w_h2o__3m_uw']<max_val) &\n",
    "                                          (sos_1H_max_wspd_ds['w_h2o__3m_uw']>min_val)\n",
    "                                            #  (sos_1H_max_wspd_ds['spd_10m_ue']>=5)\n",
    "                                          )\n",
    "\n",
    "binary_23_daily_df = binary_23_df.resample('1D').sum()\n",
    "binary_23_3D_df = binary_23_df.resample('3D').sum()\n",
    "# if precip binary is > 1, set to 1\n",
    "binary_23_daily_df = binary_23_daily_df.apply(lambda x: 1 if x > 3 else 0)\n",
    "binary_23_3D_df = binary_23_3D_df.apply(lambda x: 1 if x > 3 else 0)\n",
    "binary_23_hourly_df = binary_23_daily_df.resample('1H').ffill()\n",
    "binary_23_3D_hourly_df = binary_23_3D_df.resample('1H').ffill()\n",
    "\n",
    "start_date = '2023-03-01'\n",
    "end_date = '2023-03-31'\n",
    "# add to the ds \n",
    "sos_1H_max_wspd_no_prcp = filtered_ds.sel(time=binary_23_df.iloc[:-7][binary_23_df==0].index).sel(time=slice(start_date, end_date))\n",
    "sos_1H_max_wspd_prcp = filtered_ds.sel(time=binary_23_df.iloc[:-7][binary_23_df==1].index).sel(time=slice(start_date, end_date))\n",
    "sos_1H_max_wspd_no_1D_prcp = filtered_ds.sel(time=binary_23_hourly_df.iloc[:-7][binary_23_hourly_df==0].index).sel(time=slice(start_date, end_date))\n",
    "sos_1H_max_wspd_3D_prcp = filtered_ds.sel(time=binary_23_3D_hourly_df.iloc[:-7][binary_23_3D_hourly_df==0].index).sel(time=slice(start_date, end_date))\n",
    "\n",
    "def create_linreg(ds, x, y):\n",
    "   tmp_ds = ds[[x,y]].dropna(dim='time')  \n",
    "   slope, intercept, r,_,_ = stats.linregress(tmp_ds[x],tmp_ds[y])\n",
    "   x_pred = np.array([tmp_ds[x].min(), tmp_ds[x].max()])\n",
    "   y_pred = slope*x_pred + intercept\n",
    "   return x_pred, y_pred, round(r**2,2)\n",
    "if sos_1H_max_wspd_3D_prcp.time.size == 0:\n",
    "   skip = True\n",
    "else:\n",
    "    skip = False \n",
    "    \n",
    "# create linear regression for each dataset\n",
    "x1, fit_1, r2_1 = create_linreg(sos_1H_max_wspd_no_prcp, 'spd_10m_ue', 'bsf')\n",
    "x2, fit_2, r2_2 = create_linreg(sos_1H_max_wspd_prcp, 'spd_10m_ue', 'bsf')\n",
    "x3, fit_3, r2_3 = create_linreg(sos_1H_max_wspd_no_1D_prcp, 'spd_10m_ue', 'bsf')\n",
    "if not skip:\n",
    "    x4, fit_4, r2_4 = create_linreg(sos_1H_max_wspd_3D_prcp, 'spd_10m_ue', 'bsf')\n",
    "else:\n",
    "    r2_4 = 'NaN'\n",
    "    \n",
    "if plot_plotly_figs:\n",
    "    # make a plotly plot with 2 rows and 2 columns\n",
    "    fig = make_subplots(rows=2, cols=2, shared_xaxes=True, shared_yaxes=True, vertical_spacing=0.1,\n",
    "                        subplot_titles=(f\"Periods with No Precipitation - R2={r2_1}\", \n",
    "                                        f\"Periods with Precipitation - R2={r2_2}\",\n",
    "                                        f\"Periods with No Precipitation<br>for previous 24 Hours - R2={r2_3}\", \n",
    "                                        f\"Periods with No Precipitation<br>for previous 72 Hours - R2={r2_4}\"))\n",
    "\n",
    "    # add the first plot\n",
    "    fig.add_trace(go.Scatter(x=sos_1H_max_wspd_no_prcp.spd_10m_ue,\n",
    "                            y=sos_1H_max_wspd_no_prcp.bsf,\n",
    "                            mode='markers',\n",
    "                            marker=dict(size=10,\n",
    "                                        color=sos_1H_max_wspd_no_prcp.dir_10m_ue, #set color equal to a variable\n",
    "                                        colorscale='twilight_r', # one of plotly colorscales\n",
    "                                        showscale=True),\n",
    "                            name='Blowing Snow Flux',\n",
    "                            showlegend=False,\n",
    "                            ),\n",
    "                            row=1, col=1)\n",
    "    fig.add_trace(go.Scatter(x=x1, \n",
    "                            y=fit_1, \n",
    "                            mode='lines', \n",
    "                            name='Linear Regression', \n",
    "                            showlegend=False),\n",
    "                            row=1, col=1)\n",
    "    # add hover with r2_1\n",
    "    fig.update_traces(\n",
    "        hovertemplate=\"<br>\".join([\n",
    "            f\"R2: {r2_1}\",\n",
    "        ]), col=1, row=1\n",
    "    )\n",
    "\n",
    "    # add the second plot\n",
    "    fig.add_trace(go.Scatter(x=sos_1H_max_wspd_prcp.spd_10m_ue,\n",
    "                            y=sos_1H_max_wspd_prcp.bsf,\n",
    "                            mode='markers',\n",
    "                            marker=dict(size=10,\n",
    "                                        color=sos_1H_max_wspd_prcp.dir_10m_ue, #set color equal to a variable\n",
    "                                        colorscale='twilight_r', # one of plotly colorscales\n",
    "                                        showscale=False),\n",
    "                            showlegend=False),\n",
    "                            row=1, col=2)\n",
    "    fig.add_trace(go.Scatter(x=x2, \n",
    "                            y=fit_2, \n",
    "                            mode='lines', \n",
    "                            name='Linear Regression', \n",
    "                            showlegend=False),\n",
    "                            row=1, col=2)\n",
    "    # add hover with r2_1\n",
    "    fig.update_traces(\n",
    "        hovertemplate=\"<br>\".join([\n",
    "            f\"R2: {r2_2}\",\n",
    "        ]), col=2, row=1\n",
    "    )\n",
    "\n",
    "\n",
    "    # add the third plot\n",
    "    fig.add_trace(go.Scatter(x=sos_1H_max_wspd_no_1D_prcp.spd_10m_ue,\n",
    "                            y=sos_1H_max_wspd_no_1D_prcp.bsf,\n",
    "                            mode='markers',\n",
    "                            marker=dict(size=10,\n",
    "                                        color=sos_1H_max_wspd_no_1D_prcp.dir_10m_ue, #set color equal to a variable\n",
    "                                        colorscale='twilight_r', # one of plotly colorscales\n",
    "                                        showscale=False),\n",
    "                            showlegend=False),\n",
    "                            row=2, col=1)\n",
    "    fig.add_trace(go.Scatter(x=x3, \n",
    "                            y=fit_3, \n",
    "                            mode='lines', \n",
    "                            name='Linear Regression', \n",
    "                            showlegend=False),\n",
    "                            row=2, col=1)\n",
    "    # add hover with r2_1\n",
    "    fig.update_traces(\n",
    "        hovertemplate=\"<br>\".join([\n",
    "            f\"R2: {r2_3}\",\n",
    "        ]), col=1, row=2\n",
    "    )\n",
    "                            \n",
    "    if not skip:\n",
    "        # add the fourth plot\n",
    "        fig.add_trace(go.Scatter(x=sos_1H_max_wspd_3D_prcp.spd_10m_ue,\n",
    "                                y=sos_1H_max_wspd_3D_prcp.bsf,\n",
    "                                mode='markers',\n",
    "                                marker=dict(size=10,\n",
    "                                            color=sos_1H_max_wspd_3D_prcp.dir_10m_ue, #set color equal to a variable\n",
    "                                            colorscale='twilight_r', # one of plotly colorscales\n",
    "                                            showscale=False),\n",
    "                                showlegend=False),\n",
    "                                row=2, col=2,)\n",
    "        fig.add_trace(go.Scatter(x=x4, \n",
    "                                y=fit_4, \n",
    "                                mode='lines', \n",
    "                                name='Linear Regression', \n",
    "                                showlegend=False),\n",
    "                                row=2, col=2)\n",
    "        # add hover with r2_1\n",
    "        fig.update_traces(marker_line_width=1,\n",
    "                        marker_line_color=\"black\",\n",
    "                        hovertemplate=\"<br>\".join([f\"R2: {r2_4}\",]), \n",
    "                        col=2, row=2)                                         \n",
    "\n",
    "    # format the size, axis titles, and subplot titles\n",
    "    fig.update_layout(height=800,\n",
    "                    width=800,\n",
    "                    title_text=f\"Hourly Blowing Snow Flux vs. Max Wind Speed<br>{start_date} - {end_date}\",\n",
    "                    xaxis3_title=\"Wind Speed (m/s)\",\n",
    "                    xaxis4_title=\"Wind Speed (m/s)\",\n",
    "                    yaxis_title=\"Blowing Snow Flux\",\n",
    "                    yaxis3_title=\"Blowing Snow Flux\",\n",
    "                    coloraxis_colorbar=dict(\n",
    "                    title=\"Wind Direction (deg&;)\"),\n",
    "    )\n",
    "    fig.update_traces(marker_line_width=1,\n",
    "                    marker_line_color=\"black\")\n",
    "    fig.update_xaxes(title_font_size=20)\n",
    "    fig.update_yaxes(title_font_size=20, range=[-7,1])\n"
   ]
  },
  {
   "cell_type": "markdown",
   "metadata": {},
   "source": [
    "#### Plotting 3m C temperature"
   ]
  },
  {
   "cell_type": "code",
   "execution_count": null,
   "metadata": {},
   "outputs": [],
   "source": [
    "# Add blowing snow flux \n",
    "max_val = sos_1H_max_wspd_ds['w_h2o__3m_uw'].mean()+(sos_1H_max_wspd_ds['w_h2o__3m_uw'].std()*3)\n",
    "min_val = sos_1H_max_wspd_ds['w_h2o__3m_uw'].mean()-(sos_1H_max_wspd_ds['w_h2o__3m_uw'].std()*3)\n",
    "sos_1H_max_wspd_ds['bsf'] = np.log(sos_1H_max_wspd_ds['SF_avg_1m_ue']+sos_1H_max_wspd_ds['SF_avg_2m_ue']).where(sos_1H_max_wspd_ds['SF_avg_1m_ue']+sos_1H_max_wspd_ds['SF_avg_2m_ue']>0.001)\n",
    "# Filter\n",
    "filtered_ds = sos_1H_max_wspd_ds.where((sos_1H_max_wspd_ds['w_h2o__3m_uw']<max_val) &\n",
    "                                          (sos_1H_max_wspd_ds['w_h2o__3m_uw']>min_val)\n",
    "                                            #  (sos_1H_max_wspd_ds['spd_10m_ue']>=5)\n",
    "                                          )\n",
    "\n",
    "binary_23_daily_df = binary_23_df.resample('1D').sum()\n",
    "binary_23_3D_df = binary_23_df.resample('3D').sum()\n",
    "# if precip binary is > 1, set to 1\n",
    "binary_23_daily_df = binary_23_daily_df.apply(lambda x: 1 if x > 3 else 0)\n",
    "binary_23_3D_df = binary_23_3D_df.apply(lambda x: 1 if x > 3 else 0)\n",
    "binary_23_hourly_df = binary_23_daily_df.resample('1H').ffill()\n",
    "binary_23_3D_hourly_df = binary_23_3D_df.resample('1H').ffill()\n",
    "\n",
    "start_date = '2022-12-01'\n",
    "end_date = '2022-12-31'\n",
    "# add to the ds \n",
    "sos_1H_max_wspd_no_prcp = filtered_ds.sel(time=binary_23_df.iloc[:-7][binary_23_df==0].index).sel(time=slice(start_date, end_date))\n",
    "sos_1H_max_wspd_prcp = filtered_ds.sel(time=binary_23_df.iloc[:-7][binary_23_df==1].index).sel(time=slice(start_date, end_date))\n",
    "sos_1H_max_wspd_no_1D_prcp = filtered_ds.sel(time=binary_23_hourly_df.iloc[:-7][binary_23_hourly_df==0].index).sel(time=slice(start_date, end_date))\n",
    "sos_1H_max_wspd_3D_prcp = filtered_ds.sel(time=binary_23_3D_hourly_df.iloc[:-7][binary_23_3D_hourly_df==0].index).sel(time=slice(start_date, end_date))\n",
    "\n",
    "if sos_1H_max_wspd_3D_prcp.time.size == 0:\n",
    "   skip = True\n",
    "else:\n",
    "    skip = False\n",
    "def create_linreg(ds, x, y):\n",
    "   tmp_ds = ds[[x,y]].dropna(dim='time')  \n",
    "   slope, intercept, r,_,_ = stats.linregress(tmp_ds[x],tmp_ds[y])\n",
    "   x_pred = np.array([tmp_ds[x].min(), tmp_ds[x].max()])\n",
    "   y_pred = slope*x_pred + intercept\n",
    "   return x_pred, y_pred, round(r**2,2)\n",
    "\n",
    "# create linear regression for each dataset\n",
    "x1, fit_1, r2_1 = create_linreg(sos_1H_max_wspd_no_prcp, 'spd_10m_ue', 'bsf')\n",
    "x2, fit_2, r2_2 = create_linreg(sos_1H_max_wspd_prcp, 'spd_10m_ue', 'bsf')\n",
    "x3, fit_3, r2_3 = create_linreg(sos_1H_max_wspd_no_1D_prcp, 'spd_10m_ue', 'bsf')\n",
    "if not skip:\n",
    "    x4, fit_4, r2_4 = create_linreg(sos_1H_max_wspd_3D_prcp, 'spd_10m_ue', 'bsf')\n",
    "\n",
    "if plot_plotly_figs:\n",
    "    # make a plotly plot with 2 rows and 2 columns\n",
    "    fig = make_subplots(rows=2, cols=2, shared_xaxes=True, shared_yaxes=True, vertical_spacing=0.1,\n",
    "                        subplot_titles=(f\"Periods with No Precipitation - R2={r2_1}\", \n",
    "                                        f\"Periods with Precipitation - R2={r2_2}\",\n",
    "                                        f\"Periods with No Precipitation<br>for previous 24 Hours - R2={r2_3}\", \n",
    "                                        f\"Periods with No Precipitation<br>for previous 72 Hours - R2={r2_4}\"))\n",
    "\n",
    "    # add the first plot\n",
    "    fig.add_trace(go.Scatter(x=sos_1H_max_wspd_no_prcp.spd_10m_ue,\n",
    "                            y=sos_1H_max_wspd_no_prcp.bsf,\n",
    "                            mode='markers',\n",
    "                            marker=dict(size=10,\n",
    "                                        color=sos_1H_max_wspd_no_prcp.T_3m_c, #set color equal to a variable\n",
    "                                        colorscale='viridis', # one of plotly colorscales\n",
    "                                        cmin=-12,\n",
    "                                        cmax=0,\n",
    "                                        showscale=True),\n",
    "                            name='Blowing Snow Flux',\n",
    "                            showlegend=False,\n",
    "                            ),\n",
    "                            row=1, col=1)\n",
    "    fig.add_trace(go.Scatter(x=x1, \n",
    "                            y=fit_1, \n",
    "                            mode='lines', \n",
    "                            name='Linear Regression', \n",
    "                            showlegend=False),\n",
    "                            row=1, col=1)\n",
    "    # add hover with r2_1\n",
    "    fig.update_traces(\n",
    "        hovertemplate=\"<br>\".join([\n",
    "            f\"R2: {r2_1}\",\n",
    "        ]), col=1, row=1\n",
    "    )\n",
    "\n",
    "    # add the second plot\n",
    "    fig.add_trace(go.Scatter(x=sos_1H_max_wspd_prcp.spd_10m_ue,\n",
    "                            y=sos_1H_max_wspd_prcp.bsf,\n",
    "                            mode='markers',\n",
    "                            marker=dict(size=10,\n",
    "                                        color=sos_1H_max_wspd_prcp.T_3m_c, #set color equal to a variable\n",
    "                                        colorscale='viridis', # one of plotly colorscales\n",
    "                                        cmin=-12,\n",
    "                                        cmax=0,\n",
    "                                        showscale=False),\n",
    "                            showlegend=False),\n",
    "                            row=1, col=2)\n",
    "    fig.add_trace(go.Scatter(x=x2, \n",
    "                            y=fit_2, \n",
    "                            mode='lines', \n",
    "                            name='Linear Regression', \n",
    "                            showlegend=False),\n",
    "                            row=1, col=2)\n",
    "    # add hover with r2_1\n",
    "    fig.update_traces(\n",
    "        hovertemplate=\"<br>\".join([\n",
    "            f\"R2: {r2_2}\",\n",
    "        ]), col=2, row=1\n",
    "    )\n",
    "\n",
    "\n",
    "    # add the third plot\n",
    "    fig.add_trace(go.Scatter(x=sos_1H_max_wspd_no_1D_prcp.spd_10m_ue,\n",
    "                            y=sos_1H_max_wspd_no_1D_prcp.bsf,\n",
    "                            mode='markers',\n",
    "                            marker=dict(size=10,\n",
    "                                        color=sos_1H_max_wspd_no_1D_prcp.T_3m_c, #set color equal to a variable\n",
    "                                        colorscale='viridis', # one of plotly colorscales\n",
    "                                        cmin=-12,\n",
    "                                        cmax=0,\n",
    "                                        showscale=False),\n",
    "                            showlegend=False),\n",
    "                            row=2, col=1)\n",
    "    fig.add_trace(go.Scatter(x=x3, \n",
    "                            y=fit_3, \n",
    "                            mode='lines', \n",
    "                            name='Linear Regression', \n",
    "                            showlegend=False),\n",
    "                            row=2, col=1)\n",
    "    # add hover with r2_1\n",
    "    fig.update_traces(\n",
    "        hovertemplate=\"<br>\".join([\n",
    "            f\"R2: {r2_3}\",\n",
    "        ]), col=1, row=2\n",
    "    )                         \n",
    "    if not skip:\n",
    "        # add the fourth plot\n",
    "        fig.add_trace(go.Scatter(x=sos_1H_max_wspd_3D_prcp.spd_10m_ue,\n",
    "                                y=sos_1H_max_wspd_3D_prcp.bsf,\n",
    "                                mode='markers',\n",
    "                                marker=dict(size=10,\n",
    "                                            color=sos_1H_max_wspd_3D_prcp.T_3m_c, #set color equal to a variable\n",
    "                                            colorscale='viridis', # one of plotly colorscales\n",
    "                                            cmin=-12,\n",
    "                                            cmax=0,\n",
    "                                            showscale=False),\n",
    "                                showlegend=False),\n",
    "                                row=2, col=2,)\n",
    "        fig.add_trace(go.Scatter(x=x4, \n",
    "                                y=fit_4, \n",
    "                                mode='lines', \n",
    "                                name='Linear Regression', \n",
    "                                showlegend=False),\n",
    "                                row=2, col=2)\n",
    "        # add hover with r2_1\n",
    "        fig.update_traces(marker_line_width=1,\n",
    "                        marker_line_color=\"black\",\n",
    "                        hovertemplate=\"<br>\".join([f\"R2: {r2_4}\",]), \n",
    "                        col=2, row=2)                                         \n",
    "\n",
    "    # format the size, axis titles, and subplot titles\n",
    "    fig.update_layout(height=800,\n",
    "                    width=800,\n",
    "                    title_text=f\"Hourly log(Blowing Snow Flux) vs. Max Wind Speed<br>{start_date} - {end_date}\",\n",
    "                    xaxis3_title=\"Wind Speed (m/s)\",\n",
    "                    xaxis4_title=\"Wind Speed (m/s)\",\n",
    "                    yaxis_title=\"log(Blowing Snow Flux)\",\n",
    "                    yaxis3_title=\"log(Blowing Snow Flux)\",\n",
    "                    coloraxis_colorbar=dict(\n",
    "                    title=\"Wind Direction (deg&;)\"),\n",
    "    )\n",
    "    fig.update_traces(marker_line_width=1,\n",
    "                    marker_line_color=\"black\")\n",
    "    fig.update_xaxes(title_font_size=20)\n",
    "    fig.update_yaxes(title_font_size=20, range=[-7,1])\n"
   ]
  },
  {
   "cell_type": "markdown",
   "metadata": {},
   "source": [
    "#### Heatmaps Precipitation with Wind Speed and Direction"
   ]
  },
  {
   "cell_type": "code",
   "execution_count": null,
   "metadata": {},
   "outputs": [],
   "source": [
    "# function for prepping the data\n",
    "def make_heatmap_df(ds, location, campaign, year, max_spd=False, precip_var='precip_rate'):\n",
    "    if campaign == 'sail':\n",
    "        if location =='gts':\n",
    "            if max_spd == True:\n",
    "                wspd_var = 'wspd_max'\n",
    "                wdir_var = 'wdir_max'\n",
    "            else:\n",
    "                wspd_var = 'wspd_arith_mean'\n",
    "                wdir_var = 'wdir_vec_mean'\n",
    "            title = 'Gothic'\n",
    "        elif location == 'kp':\n",
    "            wspd_var = 'wind_spd'\n",
    "            wdir_var = 'wind_dir'\n",
    "            title = 'Kettle Ponds'\n",
    "    elif campaign =='sos':\n",
    "        if max_spd == True:\n",
    "            wspd_var = 'wspd_max'\n",
    "            wdir_var = 'wdir_max'\n",
    "        else:\n",
    "            wspd_var = 'spd_10m_uw'\n",
    "            wdir_var = 'dir_10m_uw'\n",
    "        temp_var = 'T_3m_c'\n",
    "        title = 'Kettle Ponds'\n",
    "    else:\n",
    "        if max_spd == True:\n",
    "            wspd_var = 'wspd_max'\n",
    "            wdir_var = 'wdir_max'\n",
    "        else:\n",
    "            wspd_var = 'wspd_vec_mean'\n",
    "            wdir_var = 'wdir_vec_mean'\n",
    "        temp_var = 'temp'\n",
    "        if location == 'kp':\n",
    "            title = 'Kettle Ponds'\n",
    "        else: title = 'Avery Picnic'\n",
    "    precip_var = 'precip_rate'\n",
    "    df_to_use = ds.to_dataframe()\n",
    "    df_test = df_to_use[[wspd_var, wdir_var, precip_var]]\n",
    "\n",
    "    # wind speed bins\n",
    "    wspd_bins = [0, 2, 4, 6, 8, 10,]\n",
    "    # wind direction bins\n",
    "    wdir_bins = [0, 45, 90, 135, 180, 225, 270, 315, 360]\n",
    "\n",
    "    # wspd cut and sum sublimation for each bin\n",
    "    wsp_assignment = pd.cut(df_test[wspd_var], bins=wspd_bins, labels=wspd_bins[:-1])\n",
    "    wsp_assignment.name = 'wsp_assignment'\n",
    "    # wdir cut and sum sublimation for each bin\n",
    "    wdir_assignment = pd.cut(df_test[wdir_var], bins=wdir_bins, labels=wdir_bins[:-1])\n",
    "    wdir_assignment.name = 'wdir_assignment'\n",
    "\n",
    "    # combine the two assignments and the sublimation\n",
    "    df_test['wsp_assignment'] = wsp_assignment.values\n",
    "    df_test['wdir_assignment'] = wdir_assignment.values\n",
    "\n",
    "    # groupby the wspd and wdir assignments and get the sum of w_h2o__3m_uw\n",
    "    grouped = df_test.groupby(['wsp_assignment', 'wdir_assignment']).sum()[precip_var]\n",
    "    # unstack and put into a dataframe\n",
    "    grouped =(grouped.unstack())\n",
    "    grouped = 100*(grouped/(grouped.sum().sum()))\n",
    "\n",
    "    # plot grouped as a heatmap\n",
    "    fig = go.Figure()\n",
    "    fig.add_trace(go.Heatmap(z=grouped.values, \n",
    "                            x=grouped.columns, \n",
    "                            y=grouped.index,\n",
    "\n",
    "                            colorbar={'title':'% of total <br>precipitation'},\n",
    "                            colorscale='Blues',\n",
    "                            # min and max color values\n",
    "                            zmin=0,\n",
    "                            zmax=20,\n",
    "                            xgap=1,\n",
    "                            ygap=1,\n",
    "                            ))\n",
    "    # add grid\n",
    "    fig.update_layout(height=400, \n",
    "                    width=600,\n",
    "                    xaxis_title='Wind Direction',\n",
    "                    yaxis_title='Wind Speed',\n",
    "                    title=f'Wind Speed and Wind Direction with Precipitation<br> for {campaign.upper()} in {year} at {title}',\n",
    "                    )\n",
    "    # change x-axis ticks to be cardinal wind directions\n",
    "    fig.update_xaxes(tickvals=[0, 45, 90, 135, 180, 225, 270, 315], ticktext=['N', 'NE', 'E', 'SE', 'S', 'SW', 'W', 'NW'])\n",
    "    # update y-axes ticks to be wind speed bins\n",
    "    fig.update_yaxes(tickvals=[0, 2, 4, 6, 8, 10, 12, 14, 16, 18], ticktext=['0-2', '2-4', '4-6', '6-8', '8-10', '10-12', '12-14', '14-16', '16-18', '18-20'])\n",
    "    # save the figure as a png\n",
    "    pio.write_image(fig,f'./04_products/figures/sandbox/{campaign}_{location}_{year}_ppt_winds.png', scale=8)\n",
    "    return fig\n"
   ]
  },
  {
   "cell_type": "markdown",
   "metadata": {},
   "source": [
    "##### 2022 figures"
   ]
  },
  {
   "cell_type": "code",
   "execution_count": null,
   "metadata": {},
   "outputs": [],
   "source": [
    "make_heatmap_df(w22_sail_met_qc_ds_1H, \n",
    "                location='gts',\n",
    "                campaign = 'sail',\n",
    "                year='2022')\n",
    "\n",
    "# update legend title to legend_title='Percent of Winter Sublimation (%)'"
   ]
  },
  {
   "cell_type": "code",
   "execution_count": null,
   "metadata": {},
   "outputs": [],
   "source": [
    "# plotly radar plot using wind direction and percent of total precipitation\n",
    "df = w22_sail_met_qc_ds_1H[['precip_rate','wdir_vec_mean']].to_dataframe()\n",
    "# create precipitation binary\n",
    "df['precip_binary'] = df['precip_rate'].apply(lambda x: 1 if x > 0 else 0)\n",
    "# total amount of precipitation in each bin\n",
    "grouped_df_sum = df.groupby(pd.cut(df['wdir_vec_mean'], bins=np.arange(0, 361, 45))).sum()\n",
    "# total number of observations in each bin\n",
    "grouped_df_count = df.groupby(pd.cut(df['wdir_vec_mean'], bins=np.arange(0, 361, 45))).count()['wdir_vec_mean']\n",
    "\n",
    "# percent of total precipitation in each bin\n",
    "grouped_df_percent = 100*(grouped_df_sum['precip_rate'] / grouped_df_sum['precip_rate'].sum()).to_frame()\n",
    "\n",
    "# change out the index to be the cardinal wind directions\n",
    "grouped_df_percent.index = [0,45, 90, 135, 180, 225, 270, 315,]\n",
    "# add the first value again\n",
    "grouped_df_percent.loc[360] = grouped_df_percent.loc[0].values\n",
    "\n",
    "# normalized each bins precipitation by the number of observations in each bin\n",
    "grouped_df_percent_norm = 100*(grouped_df_sum['precip_binary'] / grouped_df_count)\n",
    "# change out the index to be the cardinal wind directions\n",
    "grouped_df_percent_norm.index = [0,45, 90, 135, 180, 225, 270, 315,]\n",
    "# add the first value again\n",
    "grouped_df_percent_norm.loc[360] = grouped_df_percent_norm.loc[0]\n",
    "\n",
    "fig = go.Figure()\n",
    "\n",
    "fig.add_trace(go.Scatterpolar(\n",
    "    name='Percent of precipitation',\n",
    "    r= grouped_df_percent.values.flatten(),\n",
    "    theta= grouped_df_percent.index,\n",
    "    fill='toself',\n",
    ")\n",
    ")\n",
    "\n",
    "fig.add_trace(go.Scatterpolar(\n",
    "    name='Percent of precipitation<br>normalized by observations',\n",
    "    r= grouped_df_percent_norm.values.flatten(),\n",
    "    theta= grouped_df_percent_norm.index,\n",
    "    fill='toself',\n",
    ")\n",
    ")\n",
    "fig.update_legends(\n",
    "    yanchor=\"bottom\",\n",
    "    xanchor=\"center\",\n",
    "    x=0.99,\n",
    "    y=0.95\n",
    "\n",
    ")\n",
    "fig.update_layout(\n",
    "    showlegend=True,\n",
    "    polar=dict(\n",
    "        radialaxis_tickfont_size=12,\n",
    "        radialaxis_range=[0, 75],\n",
    "        angularaxis=dict(\n",
    "            tickmode='array',\n",
    "            tickvals=[0, 45, 90, 135, 180, 225, 270, 315],\n",
    "            ticktext=['N', 'NE', 'E', 'SE', 'S', 'SW', 'W', 'NW'],\n",
    "            rotation=90,\n",
    "            direction='clockwise'\n",
    "        )),\n",
    "        width=600,\n",
    "        height=600,\n",
    "        title='SAIL 2022 Winter Precipitation by Wind Direction')\n",
    "\n"
   ]
  },
  {
   "cell_type": "code",
   "execution_count": null,
   "metadata": {},
   "outputs": [],
   "source": [
    "make_heatmap_df(w22_splash_ap_qc_ds_1H, \n",
    "                location='ap',\n",
    "                campaign = 'splash',\n",
    "                year='2022')\n",
    "\n",
    "# update legend title to legend_title='Percent of Winter Sublimation (%)'"
   ]
  },
  {
   "cell_type": "code",
   "execution_count": null,
   "metadata": {},
   "outputs": [],
   "source": [
    "# plotly radar plot using wind direction and percent of total precipitation\n",
    "df = w22_splash_ap_qc_ds_1H[['precip_rate','wdir_vec_mean']].to_dataframe()\n",
    "# create precipitation binary\n",
    "df['precip_binary'] = df['precip_rate'].apply(lambda x: 1 if x > 0 else 0)\n",
    "# total amount of precipitation in each bin\n",
    "grouped_df_sum = df.groupby(pd.cut(df['wdir_vec_mean'], bins=np.arange(0, 361, 45))).sum()\n",
    "# total number of observations in each bin\n",
    "grouped_df_count = df.groupby(pd.cut(df['wdir_vec_mean'], bins=np.arange(0, 361, 45))).count()['wdir_vec_mean']\n",
    "\n",
    "# percent of total precipitation in each bin\n",
    "grouped_df_percent = 100*(grouped_df_sum['precip_rate'] / grouped_df_sum['precip_rate'].sum()).to_frame()\n",
    "\n",
    "# change out the index to be the cardinal wind directions\n",
    "grouped_df_percent.index = [0,45, 90, 135, 180, 225, 270, 315,]\n",
    "# add the first value again\n",
    "grouped_df_percent.loc[360] = grouped_df_percent.loc[0].values\n",
    "\n",
    "# normalized each bins precipitation by the number of observations in each bin\n",
    "grouped_df_percent_norm = 100*(grouped_df_sum['precip_binary'] / grouped_df_count)\n",
    "# change out the index to be the cardinal wind directions\n",
    "grouped_df_percent_norm.index = [0,45, 90, 135, 180, 225, 270, 315,]\n",
    "# add the first value again\n",
    "grouped_df_percent_norm.loc[360] = grouped_df_percent_norm.loc[0]\n",
    "\n",
    "fig = go.Figure()\n",
    "\n",
    "fig.add_trace(go.Scatterpolar(\n",
    "    name='Percent of precipitation',\n",
    "    r= grouped_df_percent.values.flatten(),\n",
    "    theta= grouped_df_percent.index,\n",
    "    fill='toself',\n",
    ")\n",
    ")\n",
    "\n",
    "fig.add_trace(go.Scatterpolar(\n",
    "    name='Percent of precipitation<br>normalized by observations',\n",
    "    r= grouped_df_percent_norm.values.flatten(),\n",
    "    theta= grouped_df_percent_norm.index,\n",
    "    fill='toself',\n",
    ")\n",
    ")\n",
    "fig.update_legends(\n",
    "    yanchor=\"bottom\",\n",
    "    xanchor=\"center\",\n",
    "    x=0.99,\n",
    "    y=0.95\n",
    "\n",
    ")\n",
    "fig.update_layout(\n",
    "    showlegend=True,\n",
    "    polar=dict(\n",
    "        radialaxis_tickfont_size=12,\n",
    "        radialaxis_range=[0, 75],\n",
    "        angularaxis=dict(\n",
    "            tickmode='array',\n",
    "            tickvals=[0, 45, 90, 135, 180, 225, 270, 315],\n",
    "            ticktext=['N', 'NE', 'E', 'SE', 'S', 'SW', 'W', 'NW'],\n",
    "            rotation=90,\n",
    "            direction='clockwise'\n",
    "        )),\n",
    "        width=600,\n",
    "        height=600,\n",
    "        title='SPLASH - AP 2022 Winter Precipitation by Wind Direction')\n",
    "\n"
   ]
  },
  {
   "cell_type": "code",
   "execution_count": null,
   "metadata": {},
   "outputs": [],
   "source": [
    "make_heatmap_df(w22_splash_kp_qc_ds_1H, \n",
    "                location='kp',\n",
    "                campaign = 'splash',\n",
    "                year='2022')"
   ]
  },
  {
   "cell_type": "code",
   "execution_count": null,
   "metadata": {},
   "outputs": [],
   "source": [
    "# plotly radar plot using wind direction and percent of total precipitation\n",
    "df = w22_splash_kp_qc_ds_1H[['precip_rate','wdir_vec_mean']].to_dataframe()\n",
    "# create precipitation binary\n",
    "df['precip_binary'] = df['precip_rate'].apply(lambda x: 1 if x > 0 else 0)\n",
    "# total amount of precipitation in each bin\n",
    "grouped_df_sum = df.groupby(pd.cut(df['wdir_vec_mean'], bins=np.arange(0, 361, 45))).sum()\n",
    "# total number of observations in each bin\n",
    "grouped_df_count = df.groupby(pd.cut(df['wdir_vec_mean'], bins=np.arange(0, 361, 45))).count()['wdir_vec_mean']\n",
    "\n",
    "# percent of total precipitation in each bin\n",
    "grouped_df_percent = 100*(grouped_df_sum['precip_rate'] / grouped_df_sum['precip_rate'].sum()).to_frame()\n",
    "\n",
    "# change out the index to be the cardinal wind directions\n",
    "grouped_df_percent.index = [0,45, 90, 135, 180, 225, 270, 315,]\n",
    "# add the first value again\n",
    "grouped_df_percent.loc[360] = grouped_df_percent.loc[0].values\n",
    "\n",
    "# normalized each bins precipitation by the number of observations in each bin\n",
    "grouped_df_percent_norm = 100*(grouped_df_sum['precip_binary'] / grouped_df_count)\n",
    "# change out the index to be the cardinal wind directions\n",
    "grouped_df_percent_norm.index = [0,45, 90, 135, 180, 225, 270, 315,]\n",
    "# add the first value again\n",
    "grouped_df_percent_norm.loc[360] = grouped_df_percent_norm.loc[0]\n",
    "\n",
    "fig = go.Figure()\n",
    "\n",
    "fig.add_trace(go.Scatterpolar(\n",
    "    name='Percent of precipitation',\n",
    "    r= grouped_df_percent.values.flatten(),\n",
    "    theta= grouped_df_percent.index,\n",
    "    fill='toself',\n",
    ")\n",
    ")\n",
    "\n",
    "fig.add_trace(go.Scatterpolar(\n",
    "    name='Percent of precipitation<br>normalized by observations',\n",
    "    r= grouped_df_percent_norm.values.flatten(),\n",
    "    theta= grouped_df_percent_norm.index,\n",
    "    fill='toself',\n",
    ")\n",
    ")\n",
    "fig.update_legends(\n",
    "    yanchor=\"bottom\",\n",
    "    xanchor=\"center\",\n",
    "    x=0.99,\n",
    "    y=0.95\n",
    "\n",
    ")\n",
    "fig.update_layout(\n",
    "    showlegend=True,\n",
    "    polar=dict(\n",
    "        radialaxis_tickfont_size=12,\n",
    "        radialaxis_range=[0, 75],\n",
    "        angularaxis=dict(\n",
    "            tickmode='array',\n",
    "            tickvals=[0, 45, 90, 135, 180, 225, 270, 315],\n",
    "            ticktext=['N', 'NE', 'E', 'SE', 'S', 'SW', 'W', 'NW'],\n",
    "            rotation=90,\n",
    "            direction='clockwise'\n",
    "        )),\n",
    "        width=600,\n",
    "        height=600,\n",
    "        title='SPLASH - KP 2022 Winter Precipitation by Wind Direction')\n",
    "\n"
   ]
  },
  {
   "cell_type": "markdown",
   "metadata": {},
   "source": [
    "##### 2023 figures"
   ]
  },
  {
   "cell_type": "code",
   "execution_count": null,
   "metadata": {},
   "outputs": [],
   "source": [
    "make_heatmap_df(w23_splash_ap_qc_ds_1H, \n",
    "                location='ap',\n",
    "                campaign = 'splash',\n",
    "                year='2023',\n",
    "                precip_var='precip_rate_tilden')"
   ]
  },
  {
   "cell_type": "code",
   "execution_count": null,
   "metadata": {},
   "outputs": [],
   "source": [
    "# plotly radar plot using wind direction and percent of total precipitation\n",
    "df = w23_splash_ap_qc_ds_1H[['precip_rate','wdir_vec_mean']].to_dataframe()\n",
    "# create precipitation binary\n",
    "df['precip_binary'] = df['precip_rate'].apply(lambda x: 1 if x > 0 else 0)\n",
    "# total amount of precipitation in each bin\n",
    "grouped_df_sum = df.groupby(pd.cut(df['wdir_vec_mean'], bins=np.arange(0, 361, 45))).sum()\n",
    "# total number of observations in each bin\n",
    "grouped_df_count = df.groupby(pd.cut(df['wdir_vec_mean'], bins=np.arange(0, 361, 45))).count()['wdir_vec_mean']\n",
    "\n",
    "# percent of total precipitation in each bin\n",
    "grouped_df_percent = 100*(grouped_df_sum['precip_rate'] / grouped_df_sum['precip_rate'].sum()).to_frame()\n",
    "\n",
    "# change out the index to be the cardinal wind directions\n",
    "grouped_df_percent.index = [0,45, 90, 135, 180, 225, 270, 315,]\n",
    "# add the first value again\n",
    "grouped_df_percent.loc[360] = grouped_df_percent.loc[0].values\n",
    "\n",
    "# normalized each bins precipitation by the number of observations in each bin\n",
    "grouped_df_percent_norm = 100*(grouped_df_sum['precip_binary'] / grouped_df_count)\n",
    "# change out the index to be the cardinal wind directions\n",
    "grouped_df_percent_norm.index = [0,45, 90, 135, 180, 225, 270, 315,]\n",
    "# add the first value again\n",
    "grouped_df_percent_norm.loc[360] = grouped_df_percent_norm.loc[0]\n",
    "\n",
    "fig = go.Figure()\n",
    "\n",
    "fig.add_trace(go.Scatterpolar(\n",
    "    name='Percent of precipitation',\n",
    "    r= grouped_df_percent.values.flatten(),\n",
    "    theta= grouped_df_percent.index,\n",
    "    fill='toself',\n",
    ")\n",
    ")\n",
    "\n",
    "fig.add_trace(go.Scatterpolar(\n",
    "    name='Percent of precipitation<br>normalized by observations',\n",
    "    r= grouped_df_percent_norm.values.flatten(),\n",
    "    theta= grouped_df_percent_norm.index,\n",
    "    fill='toself',\n",
    ")\n",
    ")\n",
    "fig.update_legends(\n",
    "    yanchor=\"bottom\",\n",
    "    xanchor=\"center\",\n",
    "    x=0.99,\n",
    "    y=0.95\n",
    "\n",
    ")\n",
    "fig.update_layout(\n",
    "    showlegend=True,\n",
    "    polar=dict(\n",
    "        radialaxis_tickfont_size=12,\n",
    "        radialaxis_range=[0, 75],\n",
    "        angularaxis=dict(\n",
    "            tickmode='array',\n",
    "            tickvals=[0, 45, 90, 135, 180, 225, 270, 315],\n",
    "            ticktext=['N', 'NE', 'E', 'SE', 'S', 'SW', 'W', 'NW'],\n",
    "            rotation=90,\n",
    "            direction='clockwise'\n",
    "        )),\n",
    "        width=600,\n",
    "        height=600,\n",
    "        title='SPLASH - AP 2022 Winter Precipitation by Wind Direction')\n",
    "\n"
   ]
  },
  {
   "cell_type": "code",
   "execution_count": null,
   "metadata": {},
   "outputs": [],
   "source": [
    "make_heatmap_df(w23_splash_kp_qc_ds_1H, \n",
    "                location='kp',\n",
    "                campaign = 'splash',\n",
    "                year='2023',\n",
    "                precip_var='precip_rate_tilden')"
   ]
  },
  {
   "cell_type": "code",
   "execution_count": null,
   "metadata": {},
   "outputs": [],
   "source": [
    "# plotly radar plot using wind direction and percent of total precipitation\n",
    "df = w23_splash_kp_qc_ds_1H[['precip_rate','wdir_vec_mean']].to_dataframe()\n",
    "# create precipitation binary\n",
    "df['precip_binary'] = df['precip_rate'].apply(lambda x: 1 if x > 0 else 0)\n",
    "# total amount of precipitation in each bin\n",
    "grouped_df_sum = df.groupby(pd.cut(df['wdir_vec_mean'], bins=np.arange(0, 361, 45))).sum()\n",
    "# total number of observations in each bin\n",
    "grouped_df_count = df.groupby(pd.cut(df['wdir_vec_mean'], bins=np.arange(0, 361, 45))).count()['wdir_vec_mean']\n",
    "\n",
    "# percent of total precipitation in each bin\n",
    "grouped_df_percent = 100*(grouped_df_sum['precip_rate'] / grouped_df_sum['precip_rate'].sum()).to_frame()\n",
    "\n",
    "# change out the index to be the cardinal wind directions\n",
    "grouped_df_percent.index = [0,45, 90, 135, 180, 225, 270, 315,]\n",
    "# add the first value again\n",
    "grouped_df_percent.loc[360] = grouped_df_percent.loc[0].values\n",
    "\n",
    "# normalized each bins precipitation by the number of observations in each bin\n",
    "grouped_df_percent_norm = 100*(grouped_df_sum['precip_binary'] / grouped_df_count)\n",
    "# change out the index to be the cardinal wind directions\n",
    "grouped_df_percent_norm.index = [0,45, 90, 135, 180, 225, 270, 315,]\n",
    "# add the first value again\n",
    "grouped_df_percent_norm.loc[360] = grouped_df_percent_norm.loc[0]\n",
    "\n",
    "fig = go.Figure()\n",
    "\n",
    "fig.add_trace(go.Scatterpolar(\n",
    "    name='Percent of precipitation',\n",
    "    r= grouped_df_percent.values.flatten(),\n",
    "    theta= grouped_df_percent.index,\n",
    "    fill='toself',\n",
    ")\n",
    ")\n",
    "\n",
    "fig.add_trace(go.Scatterpolar(\n",
    "    name='Percent of precipitation<br>normalized by observations',\n",
    "    r= grouped_df_percent_norm.values.flatten(),\n",
    "    theta= grouped_df_percent_norm.index,\n",
    "    fill='toself',\n",
    ")\n",
    ")\n",
    "fig.update_legends(\n",
    "    yanchor=\"bottom\",\n",
    "    xanchor=\"center\",\n",
    "    x=0.99,\n",
    "    y=0.95\n",
    "\n",
    ")\n",
    "fig.update_layout(\n",
    "    showlegend=True,\n",
    "    polar=dict(\n",
    "        radialaxis_tickfont_size=12,\n",
    "        radialaxis_range=[0, 75],\n",
    "        angularaxis=dict(\n",
    "            tickmode='array',\n",
    "            tickvals=[0, 45, 90, 135, 180, 225, 270, 315],\n",
    "            ticktext=['N', 'NE', 'E', 'SE', 'S', 'SW', 'W', 'NW'],\n",
    "            rotation=90,\n",
    "            direction='clockwise'\n",
    "        )),\n",
    "        width=600,\n",
    "        height=600,\n",
    "        title='SPLASH - KP 2023 Winter Precipitation by Wind Direction')\n",
    "\n"
   ]
  },
  {
   "cell_type": "code",
   "execution_count": null,
   "metadata": {},
   "outputs": [],
   "source": [
    "make_heatmap_df(sos_1H_mean_wspd_ds, \n",
    "                location='kp',\n",
    "                campaign = 'sos',\n",
    "                year='2023',\n",
    "                precip_var = 'precip_rate')"
   ]
  },
  {
   "cell_type": "code",
   "execution_count": null,
   "metadata": {},
   "outputs": [],
   "source": [
    "# plotly radar plot using wind direction and percent of total precipitation\n",
    "df = sos_1H_mean_wspd_ds[['precip_rate','dir_10m_uw']].to_dataframe()\n",
    "# create precipitation binary\n",
    "df['precip_binary'] = df['precip_rate'].apply(lambda x: 1 if x > 0 else 0)\n",
    "# total amount of precipitation in each bin\n",
    "grouped_df_sum = df.groupby(pd.cut(df['dir_10m_uw'], bins=np.arange(0, 361, 45))).sum()\n",
    "# total number of observations in each bin\n",
    "grouped_df_count = df.groupby(pd.cut(df['dir_10m_uw'], bins=np.arange(0, 361, 45))).count()['dir_10m_uw']\n",
    "\n",
    "# percent of total precipitation in each bin\n",
    "grouped_df_percent = 100*(grouped_df_sum['precip_rate'] / grouped_df_sum['precip_rate'].sum()).to_frame()\n",
    "\n",
    "# change out the index to be the cardinal wind directions\n",
    "grouped_df_percent.index = [0,45, 90, 135, 180, 225, 270, 315,]\n",
    "# add the first value again\n",
    "grouped_df_percent.loc[360] = grouped_df_percent.loc[0].values\n",
    "\n",
    "# normalized each bins precipitation by the number of observations in each bin\n",
    "grouped_df_percent_norm = 100*(grouped_df_sum['precip_binary'] / grouped_df_count)\n",
    "# change out the index to be the cardinal wind directions\n",
    "grouped_df_percent_norm.index = [0,45, 90, 135, 180, 225, 270, 315,]\n",
    "# add the first value again\n",
    "grouped_df_percent_norm.loc[360] = grouped_df_percent_norm.loc[0]\n",
    "\n",
    "fig = go.Figure()\n",
    "\n",
    "fig.add_trace(go.Scatterpolar(\n",
    "    name='Percent of precipitation',\n",
    "    r= grouped_df_percent.values.flatten(),\n",
    "    theta= grouped_df_percent.index,\n",
    "    fill='toself',\n",
    ")\n",
    ")\n",
    "\n",
    "fig.add_trace(go.Scatterpolar(\n",
    "    name='Percent of precipitation<br>normalized by observations',\n",
    "    r= grouped_df_percent_norm.values.flatten(),\n",
    "    theta= grouped_df_percent_norm.index,\n",
    "    fill='toself',\n",
    ")\n",
    ")\n",
    "fig.update_legends(\n",
    "    yanchor=\"bottom\",\n",
    "    xanchor=\"center\",\n",
    "    x=0.99,\n",
    "    y=0.95\n",
    "\n",
    ")\n",
    "fig.update_layout(\n",
    "    showlegend=True,\n",
    "    polar=dict(\n",
    "        radialaxis_tickfont_size=12,\n",
    "        radialaxis_range=[0, 75],\n",
    "        angularaxis=dict(\n",
    "            tickmode='array',\n",
    "            tickvals=[0, 45, 90, 135, 180, 225, 270, 315],\n",
    "            ticktext=['N', 'NE', 'E', 'SE', 'S', 'SW', 'W', 'NW'],\n",
    "            rotation=90,\n",
    "            direction='clockwise'\n",
    "        )),\n",
    "        width=600,\n",
    "        height=600,\n",
    "        title='SOS 2023 Winter Precipitation by Wind Direction')\n",
    "\n"
   ]
  },
  {
   "cell_type": "code",
   "execution_count": null,
   "metadata": {},
   "outputs": [],
   "source": [
    "make_heatmap_df(w23_sail_kp_qc_ds_1H, \n",
    "                location='kp',\n",
    "                campaign = 'sail',\n",
    "                year='2023',\n",
    "                precip_var = 'precip_rate')\n"
   ]
  },
  {
   "cell_type": "code",
   "execution_count": null,
   "metadata": {},
   "outputs": [],
   "source": [
    "# plotly radar plot using wind direction and percent of total precipitation\n",
    "df = w23_sail_kp_qc_ds_1H[['precip_rate','wind_dir','sublimation']].to_dataframe()\n",
    "# create precipitation binary\n",
    "df['precip_binary'] = df['precip_rate'].apply(lambda x: 1 if x > 0 else 0)\n",
    "# total amount of precipitation in each bin\n",
    "grouped_df_sum = df.groupby(pd.cut(df['wind_dir'], bins=np.arange(0, 361, 45))).sum()\n",
    "# total number of observations in each bin\n",
    "grouped_df_count = df.groupby(pd.cut(df['wind_dir'], bins=np.arange(0, 361, 45))).count()['wind_dir']\n",
    "\n",
    "# percent of total precipitation in each bin\n",
    "grouped_df_percent = 100*(grouped_df_sum['precip_rate'] / grouped_df_sum['precip_rate'].sum()).to_frame()\n",
    "grouped_df_percent_sublimation = 100*(grouped_df_sum['sublimation'] / grouped_df_sum['sublimation'].sum()).to_frame()\n",
    "\n",
    "# change out the index to be the cardinal wind directions\n",
    "grouped_df_percent.index = [0,45, 90, 135, 180, 225, 270, 315,]\n",
    "# add the first value again\n",
    "grouped_df_percent.loc[360] = grouped_df_percent.loc[0].values\n",
    "\n",
    "# change out the index to be the cardinal wind directions\n",
    "grouped_df_percent_sublimation.index = [0,45, 90, 135, 180, 225, 270, 315,]\n",
    "# add the first value again\n",
    "grouped_df_percent_sublimation.loc[360] = grouped_df_percent_sublimation.loc[0].values\n",
    "\n",
    "\n",
    "\n",
    "fig = go.Figure()\n",
    "\n",
    "fig.add_trace(go.Scatterpolar(\n",
    "    name='Percent of precipitation',\n",
    "    r= grouped_df_percent.values.flatten(),\n",
    "    theta= grouped_df_percent.index,\n",
    "    fill='toself',\n",
    ")\n",
    ")\n",
    "\n",
    "fig.add_trace(go.Scatterpolar(\n",
    "    name='Percent of sublimation',\n",
    "    r= grouped_df_percent_sublimation.values.flatten(),\n",
    "    theta= grouped_df_percent_sublimation.index,\n",
    "    fill='toself',\n",
    ")\n",
    ")\n",
    "\n",
    "\n",
    "fig.update_legends(\n",
    "    yanchor=\"bottom\",\n",
    "    xanchor=\"center\",\n",
    "    x=0.99,\n",
    "    y=0.95\n",
    "\n",
    ")\n",
    "fig.update_layout(\n",
    "    showlegend=True,\n",
    "    polar=dict(\n",
    "        radialaxis_tickfont_size=12,\n",
    "        radialaxis_range=[0, 75],\n",
    "        angularaxis=dict(\n",
    "            tickmode='array',\n",
    "            tickvals=[0, 45, 90, 135, 180, 225, 270, 315],\n",
    "            ticktext=['N', 'NE', 'E', 'SE', 'S', 'SW', 'W', 'NW'],\n",
    "            rotation=90,\n",
    "            direction='clockwise'\n",
    "        )),\n",
    "        width=600,\n",
    "        height=600,\n",
    "        title='SAIL 2023 Winter Precipitation by Wind Direction')\n",
    "\n"
   ]
  },
  {
   "cell_type": "code",
   "execution_count": null,
   "metadata": {},
   "outputs": [],
   "source": [
    "# plotly radar plot using wind direction and percent of total precipitation\n",
    "df = w23_sail_kp_qc_ds_1H[['precip_rate','wind_dir','sublimation']].to_dataframe()\n",
    "# create precipitation binary\n",
    "df['precip_binary'] = df['precip_rate'].apply(lambda x: 1 if x > 0 else 0)\n",
    "# total amount of precipitation in each bin\n",
    "grouped_df_sum = df.groupby(pd.cut(df['wind_dir'], bins=np.arange(0, 361, 45))).sum()\n",
    "# total number of observations in each bin\n",
    "grouped_df_count = df.groupby(pd.cut(df['wind_dir'], bins=np.arange(0, 361, 45))).count()['wind_dir']\n",
    "\n",
    "\n",
    "# normalized each bins precipitation by the number of observations in each bin\n",
    "grouped_df_percent_norm = (grouped_df_sum['precip_rate'] / grouped_df_count)\n",
    "# change out the index to be the cardinal wind directions\n",
    "grouped_df_percent_norm.index = [0,45, 90, 135, 180, 225, 270, 315,]\n",
    "# add the first value again\n",
    "grouped_df_percent_norm.loc[360] = grouped_df_percent_norm.loc[0]\n",
    "# normalize to between 0 and 1\n",
    "grouped_df_percent_norm = 100*(grouped_df_percent_norm / grouped_df_percent_norm.sum())\n",
    "\n",
    "# normalized each bins precipitation by the number of observations in each bin\n",
    "grouped_df_percent_norm_sublimation = (grouped_df_sum['sublimation'] / grouped_df_count)\n",
    "# change out the index to be the cardinal wind directions\n",
    "grouped_df_percent_norm_sublimation.index = [0,45, 90, 135, 180, 225, 270, 315,]\n",
    "# add the first value again\n",
    "grouped_df_percent_norm_sublimation.loc[360] = grouped_df_percent_norm_sublimation.loc[0]\n",
    "grouped_df_percent_norm_sublimation = 100*(grouped_df_percent_norm_sublimation / grouped_df_percent_norm_sublimation.sum())\n",
    "\n",
    "fig = go.Figure()\n",
    "\n",
    "\n",
    "fig.add_trace(go.Scatterpolar(\n",
    "    name='Percent of time with precipitation<br>normalized by observations',\n",
    "    r= grouped_df_percent_norm.values.flatten(),\n",
    "    theta= grouped_df_percent_norm.index,\n",
    "    fill='toself',\n",
    ")\n",
    ")\n",
    "\n",
    "fig.add_trace(go.Scatterpolar(\n",
    "    name='Percent of time with sublimation<br>normalized by observations',\n",
    "    r= grouped_df_percent_norm_sublimation.values.flatten(),\n",
    "    theta= grouped_df_percent_norm_sublimation.index,\n",
    "    fill='toself',\n",
    ")\n",
    ")\n",
    "fig.update_legends(\n",
    "    yanchor=\"bottom\",\n",
    "    xanchor=\"center\",\n",
    "    x=0.99,\n",
    "    y=0.95\n",
    "\n",
    ")\n",
    "fig.update_layout(\n",
    "    showlegend=True,\n",
    "    polar=dict(\n",
    "        radialaxis_tickfont_size=12,\n",
    "        # radialaxis_range=[0, 75],\n",
    "        angularaxis=dict(\n",
    "            tickmode='array',\n",
    "            tickvals=[0, 45, 90, 135, 180, 225, 270, 315],\n",
    "            ticktext=['N', 'NE', 'E', 'SE', 'S', 'SW', 'W', 'NW'],\n",
    "            rotation=90,\n",
    "            direction='clockwise'\n",
    "        )),\n",
    "        width=600,\n",
    "        height=600,\n",
    "        title='SAIL 2023 Winter Precipitation by Wind Direction')\n",
    "\n"
   ]
  }
 ],
 "metadata": {
  "kernelspec": {
   "display_name": "sublime-synoptics",
   "language": "python",
   "name": "python3"
  },
  "language_info": {
   "codemirror_mode": {
    "name": "ipython",
    "version": 3
   },
   "file_extension": ".py",
   "mimetype": "text/x-python",
   "name": "python",
   "nbconvert_exporter": "python",
   "pygments_lexer": "ipython3",
   "version": "3.10.18"
  }
 },
 "nbformat": 4,
 "nbformat_minor": 2
}
