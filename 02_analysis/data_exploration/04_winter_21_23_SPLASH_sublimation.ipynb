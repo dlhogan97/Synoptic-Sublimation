{
 "cells": [
  {
   "cell_type": "markdown",
   "metadata": {},
   "source": [
    "# Winter 2022 & 2023 Wind Events and Sublimation as Measured by SPLASH at Kettle Ponds and Avery Picnic\n",
    "\n",
    "Author: Daniel Hogan\n",
    "Created: January 17, 2024\n",
    "\n",
    "This notebook will look at wind speed, direction, and sublimation for the entire period and build an hourly averaged dataset.\n",
    "I'll try to answer these three questions:\n",
    "1) What events had the highest percentile of wind speeds?\n",
    "2) What were the general storm characteristics? Were they related?\n",
    "3) How much sublimation over the season came from these events?"
   ]
  },
  {
   "cell_type": "markdown",
   "metadata": {},
   "source": [
    "### Imports"
   ]
  },
  {
   "cell_type": "code",
   "execution_count": 1,
   "metadata": {},
   "outputs": [
    {
     "name": "stdout",
     "output_type": "stream",
     "text": [
      "nctoolkit is using Climate Data Operators version 2.3.0\n"
     ]
    },
    {
     "data": {
      "text/html": [
       "        <script type=\"text/javascript\">\n",
       "        window.PlotlyConfig = {MathJaxConfig: 'local'};\n",
       "        if (window.MathJax && window.MathJax.Hub && window.MathJax.Hub.Config) {window.MathJax.Hub.Config({SVG: {font: \"STIX-Web\"}});}\n",
       "        if (typeof require !== 'undefined') {\n",
       "        require.undef(\"plotly\");\n",
       "        requirejs.config({\n",
       "            paths: {\n",
       "                'plotly': ['https://cdn.plot.ly/plotly-2.27.0.min']\n",
       "            }\n",
       "        });\n",
       "        require(['plotly'], function(Plotly) {\n",
       "            window._Plotly = Plotly;\n",
       "        });\n",
       "        }\n",
       "        </script>\n",
       "        "
      ]
     },
     "metadata": {},
     "output_type": "display_data"
    },
    {
     "data": {
      "text/html": [
       "        <script type=\"text/javascript\">\n",
       "        window.PlotlyConfig = {MathJaxConfig: 'local'};\n",
       "        if (window.MathJax && window.MathJax.Hub && window.MathJax.Hub.Config) {window.MathJax.Hub.Config({SVG: {font: \"STIX-Web\"}});}\n",
       "        if (typeof require !== 'undefined') {\n",
       "        require.undef(\"plotly\");\n",
       "        requirejs.config({\n",
       "            paths: {\n",
       "                'plotly': ['https://cdn.plot.ly/plotly-2.27.0.min']\n",
       "            }\n",
       "        });\n",
       "        require(['plotly'], function(Plotly) {\n",
       "            window._Plotly = Plotly;\n",
       "        });\n",
       "        }\n",
       "        </script>\n",
       "        "
      ]
     },
     "metadata": {},
     "output_type": "display_data"
    }
   ],
   "source": [
    "# general\n",
    "import os\n",
    "import glob\n",
    "import datetime as dt\n",
    "import json\n",
    "# data \n",
    "import xarray as xr \n",
    "from sublimpy import utils, variables, tidy, turbulence\n",
    "import numpy as np\n",
    "import pandas as pd\n",
    "from act import discovery, plotting\n",
    "# plotting\n",
    "import matplotlib.pyplot as plt\n",
    "from metpy.cbook import get_test_data\n",
    "from metpy.plots import add_metpy_logo, SkewT\n",
    "import plotly.express as px \n",
    "import plotly.graph_objects as go\n",
    "from plotly.subplots import make_subplots\n",
    "import cufflinks as cf\n",
    "from plotly.offline import download_plotlyjs, init_notebook_mode, plot, iplot\n",
    "# helper tools\n",
    "from scripts.get_sail_data import get_sail_data\n",
    "from scripts.helper_funcs import create_windrose_df, simple_sounding, mean_sounding\n",
    "import scripts.helper_funcs as hf\n",
    "from metpy import calc, units\n",
    "import time\n",
    "# make plotly work \n",
    "init_notebook_mode(connected=True)\n",
    "cf.go_offline()"
   ]
  },
  {
   "cell_type": "markdown",
   "metadata": {},
   "source": [
    "### Let's start by processing Kettle Ponds data\n",
    "We'll come up with a framework for doing this"
   ]
  },
  {
   "cell_type": "code",
   "execution_count": 2,
   "metadata": {},
   "outputs": [
    {
     "name": "stdout",
     "output_type": "stream",
     "text": [
      "['20210928', '20210929', '20210930', '20211001', '20211002', '20211003', '20211004', '20211005', '20211006', '20211007', '20211008', '20211009', '20211010', '20211011', '20211012', '20211013', '20211014', '20211015', '20211016', '20211017', '20211018', '20211019', '20211020', '20211021', '20211022', '20211023', '20211024', '20211025', '20211026', '20211027', '20211028', '20211029', '20211030', '20211031', '20211101', '20211102', '20211103', '20211104', '20211105', '20211106', '20211107', '20211108', '20211109', '20211110', '20211111', '20211112', '20211113', '20211114', '20211115', '20211116', '20211117', '20211118', '20211119', '20211120', '20211121', '20211122', '20211123', '20211124', '20211125', '20211126', '20211127', '20211128', '20211129', '20211130', '20211201', '20211202', '20211203', '20211204', '20211205', '20211206', '20211207', '20211208', '20211209', '20211210', '20211211', '20211212', '20211213', '20211214', '20211215', '20211216', '20211217', '20211218', '20211219', '20211220', '20211221', '20211222', '20211223', '20211224', '20211225', '20211226', '20211227', '20211228', '20211229', '20211230', '20211231', '20220101', '20220102', '20220103', '20220104', '20220105', '20220106', '20220107', '20220108', '20220109', '20220110', '20220111', '20220112', '20220113', '20220114', '20220115', '20220116', '20220117', '20220118', '20220119', '20220120', '20220121', '20220122', '20220123', '20220124', '20220125', '20220126', '20220127', '20220128', '20220129', '20220130', '20220131', '20220201', '20220202', '20220203', '20220204', '20220205', '20220206', '20220207', '20220208', '20220209', '20220210', '20220211', '20220212', '20220213', '20220214', '20220215', '20220216', '20220217', '20220218', '20220219', '20220220', '20220221', '20220222', '20220223', '20220224', '20220225', '20220226', '20220227', '20220228', '20220301', '20220302', '20220303', '20220304', '20220305', '20220306', '20220307', '20220308', '20220309', '20220310', '20220311', '20220312', '20220313', '20220314', '20220315', '20220316', '20220317', '20220318', '20220319', '20220320', '20220321', '20220322', '20220323', '20220324', '20220325', '20220326', '20220327', '20220328', '20220329', '20220330', '20220331', '20220401', '20220402', '20220403', '20220404', '20220405', '20220406', '20220407', '20220408', '20220409', '20220410', '20220411', '20220412', '20220413', '20220414', '20220415', '20220416', '20220417', '20220418', '20220419', '20220420', '20220421', '20220422', '20220423', '20220424', '20220425', '20220426', '20220427', '20220428', '20220429', '20220430', '20220501', '20220502', '20220503', '20220504', '20220505', '20220506', '20220507', '20220508', '20220509', '20220510', '20220511', '20220512', '20220513', '20220514', '20220515', '20220516', '20220517', '20220518', '20220519', '20220520', '20220521', '20220522', '20220523', '20220524', '20220525', '20220526', '20220527', '20220528', '20220529', '20220530', '20220531', '20220601', '20220602', '20220603', '20220604', '20220605', '20220606', '20220607', '20220608', '20220609', '20220610', '20220611', '20220612', '20220613', '20220614', '20220615', '20220616', '20220617', '20220618', '20220619', '20220620', '20220621', '20220622', '20220623', '20220624', '20220625', '20220626', '20220627', '20220628', '20220629', '20220630', '20220701', '20220702', '20220703', '20220704', '20220705', '20220706', '20220707', '20220708', '20220709', '20220710', '20220711', '20220712', '20220713', '20220714', '20220715', '20220716', '20220717', '20220718', '20220719', '20220720', '20220721', '20220722', '20220723', '20220724', '20220725', '20220726', '20220727', '20220728', '20220729', '20220730', '20220731', '20220801', '20220802', '20220803', '20220804', '20220805', '20220806', '20220807', '20220808', '20220809', '20220810', '20220811', '20220812', '20220813', '20220814', '20220815', '20220816', '20220817', '20220818', '20220819', '20220820', '20220821', '20220822', '20220823', '20220824', '20220825', '20220826', '20220827', '20220828', '20220829', '20220830', '20220831', '20220901', '20220902', '20220903', '20220904', '20220905', '20220906', '20220907', '20220908', '20220909', '20220910', '20220911', '20220912', '20220913', '20220914', '20220915', '20220916', '20220917', '20220918', '20220919', '20220920', '20220921', '20220922', '20220923', '20220924', '20220925', '20220926', '20220927', '20220928', '20220929', '20220930', '20221001', '20221002', '20221003', '20221004', '20221005', '20221006', '20221007', '20221008', '20221009', '20221010', '20221011', '20221012', '20221013', '20221014', '20221015', '20221016', '20221017', '20221018', '20221019', '20221020', '20221021', '20221022', '20221023', '20221024', '20221025', '20221026', '20221027', '20221028', '20221029', '20221030', '20221031', '20221101', '20221102', '20221103', '20221104', '20221105', '20221106', '20221107', '20221108', '20221109', '20221110', '20221111', '20221112', '20221113', '20221114', '20221115', '20221116', '20221117', '20221118', '20221119', '20221120', '20221121', '20221122', '20221123', '20221124', '20221125', '20221126', '20221127', '20221128', '20221129', '20221130', '20221201', '20221202', '20221203', '20221204', '20221205', '20221206', '20221207', '20221208', '20221209', '20221210', '20221211', '20221212', '20221213', '20221214', '20221215', '20221216', '20221217', '20221218', '20221219', '20221220', '20221221', '20221222', '20221223', '20221224', '20221225', '20221226', '20221227', '20221228', '20221229', '20221230', '20221231', '20230101', '20230102', '20230103', '20230104', '20230105', '20230106', '20230107', '20230108', '20230109', '20230110', '20230111', '20230112', '20230113', '20230114', '20230115', '20230116', '20230117', '20230118', '20230119', '20230120', '20230121', '20230122', '20230123', '20230124', '20230125', '20230126', '20230127', '20230128', '20230129', '20230130', '20230131', '20230201', '20230202', '20230203', '20230204', '20230205', '20230206', '20230207', '20230208', '20230209', '20230210', '20230211', '20230212', '20230213', '20230214', '20230215', '20230216', '20230217', '20230218', '20230219', '20230220', '20230221', '20230222', '20230223', '20230224', '20230225', '20230226', '20230227', '20230228', '20230301', '20230302', '20230303', '20230304', '20230305', '20230306', '20230307', '20230308', '20230309', '20230310', '20230311', '20230312', '20230313', '20230314', '20230315', '20230316', '20230317', '20230318', '20230319', '20230320', '20230321', '20230322', '20230323', '20230324', '20230325', '20230326', '20230327', '20230328', '20230329', '20230330', '20230331', '20230401', '20230402', '20230403', '20230404', '20230405', '20230406', '20230407', '20230408', '20230409', '20230410', '20230411', '20230412', '20230413', '20230414', '20230415', '20230416', '20230417', '20230418', '20230419', '20230420', '20230421', '20230422', '20230423', '20230424', '20230425', '20230426', '20230427', '20230428', '20230429', '20230430', '20230501', '20230502', '20230503', '20230504', '20230505', '20230506', '20230507', '20230508', '20230509', '20230510', '20230511', '20230512', '20230513', '20230514', '20230515', '20230516', '20230517', '20230518', '20230519', '20230520', '20230521', '20230522', '20230523', '20230524', '20230525', '20230526', '20230527', '20230528', '20230529', '20230530', '20230531', '20230601', '20230602', '20230603', '20230604', '20230605', '20230606', '20230607', '20230608', '20230609', '20230610', '20230611', '20230612', '20230613', '20230614', '20230615', '20230616', '20230617', '20230618', '20230619', '20230620', '20230621', '20230622', '20230623', '20230624', '20230625', '20230626', '20230627', '20230628', '20230629', '20230630', '20230701', '20230702', '20230703', '20230704', '20230705', '20230706', '20230707', '20230708', '20230709', '20230710', '20230711', '20230712', '20230713', '20230714', '20230715', '20230716', '20230717', '20230718', '20230719']\n"
     ]
    }
   ],
   "source": [
    "# set up the data directory\n",
    "DATE_FORMAT_STR = '%Y%m%d'\n",
    "start_date = '20210928' # 20211012\n",
    "# end_date = '20230509'\n",
    "end_date = '20230719' # 20230621\n",
    "PLANAR_FIT = False\n",
    "\n",
    "datelist = pd.date_range(\n",
    "    dt.datetime.strptime(start_date, DATE_FORMAT_STR),\n",
    "    dt.datetime.strptime(end_date, DATE_FORMAT_STR),\n",
    "    freq='d'\n",
    ").strftime(DATE_FORMAT_STR).tolist()\n",
    "print(datelist)"
   ]
  },
  {
   "cell_type": "code",
   "execution_count": 3,
   "metadata": {},
   "outputs": [],
   "source": [
    "def fill_missing_timestamps(ds):\n",
    "    \"\"\"\n",
    "    Modified from Eli Schwat's Sublimpy package.\n",
    "    \n",
    "    Fills in missing timestamps in an xr.Dataset for all data variables with NaN values. This is\n",
    "    particularly useful when multiple daily NetCDF files have been merged together. SPLASH NetCDF files \n",
    "    generally have data every 10 minutes. If data is missing from the beginning or end of the day,\n",
    "    there may be missing timestamps (e.g. if the power was out at the study site between 12am and 2am\n",
    "    on a day, the first timestamp in the dataset will be 02:02:30). This can be confusing when we want \n",
    "    to combine datasets from different days. This function fills in all missing timestamps between the \n",
    "    first timestamp and the last timestamp in the provided xr.Dataset. It makes sure there is one \n",
    "    timestamp every 5 minutes. \n",
    "\n",
    "    Args:\n",
    "        ds (xr.Dataset): Dataset to be filled. \n",
    "    \"\"\"\n",
    "    from dateutil.relativedelta import relativedelta\n",
    "    def date_range(start_date, end_date, increment, period):\n",
    "        result = []\n",
    "        nxt = start_date\n",
    "        delta = relativedelta(**{period:increment})\n",
    "        while nxt <= end_date:\n",
    "            result.append(nxt)\n",
    "            nxt += delta\n",
    "\n",
    "        return result\n",
    "    dt_list = date_range(pd.to_datetime(ds.time.values[0]), pd.to_datetime(ds.time.values[-1]), 10, 'minutes')\n",
    "    ds = ds.drop_duplicates(dim='time').reindex(time=dt_list)\n",
    "\n",
    "    return ds"
   ]
  },
  {
   "cell_type": "code",
   "execution_count": 4,
   "metadata": {},
   "outputs": [
    {
     "name": "stdout",
     "output_type": "stream",
     "text": [
      "Loading qc'd data file...\n"
     ]
    }
   ],
   "source": [
    "# Let's begin by downloading the SPLASH data and storing it in the /storage/ directory\n",
    "output_dir = '/storage/dlhogan/synoptic_sublimation/splash_data/ASFS-30_Level2_SPLASH2021-2023/'\n",
    "\n",
    "if not os.path.exists(\"../../01_data/raw_data/splash_ASFS_KP_all_storage.nc\"):\n",
    "    print(\"Creating  data file...\")\n",
    "    start = time.time()\n",
    "    all_file_paths = [\n",
    "    os.path.join(\n",
    "        output_dir,\n",
    "        f'sledseb.asfs30.level2.0.10min.{date}.000000.nc'\n",
    "    ) for date in datelist\n",
    "    ]\n",
    "    datasets = []\n",
    "    for i,file in enumerate(all_file_paths):\n",
    "        # check if the file exists\n",
    "        if not os.path.exists(file):\n",
    "            print(f\"File {file} does not exist\")\n",
    "            continue\n",
    "        else:\n",
    "            ds = xr.open_dataset(file).drop_dims(['freq','dfreq'])\n",
    "            if i == 0:\n",
    "                ds_attrs = ds.attrs\n",
    "            # this ensures we don't access variables that aren't in this dataset, which would throw an error\n",
    "            datasets.append(ds.to_dataframe())\n",
    "            # for every 10th file, print the time between\n",
    "            if i % 10 == 0:\n",
    "                print(f\"Time elapsed for 10 files: {time.time()-start}\")\n",
    "                start = time.time()\n",
    "    splash_df = pd.concat(datasets, axis=0)\n",
    "    splash_ds = splash_df.to_xarray()\n",
    "    splash_ds.attrs = ds_attrs\n",
    "    # ensure time index is evernly spaced by filling in missing times\n",
    "    splash_ds = fill_missing_timestamps(splash_ds)\n",
    "    for varname, da in splash_ds.data_vars.items():\n",
    "        da.attrs = ds[varname].attrs\n",
    "    splash_ds.to_netcdf(\"../../01_data/raw_data/splash_ASFS_KP_all_storage.nc\")\n",
    "else:\n",
    "    print(\"Loading qc'd data file...\")\n",
    "    splash_kp_ds = xr.open_dataset(\"../../01_data/raw_data/splash_ASFS_KP_all_storage.nc\")"
   ]
  },
  {
   "cell_type": "code",
   "execution_count": 5,
   "metadata": {},
   "outputs": [
    {
     "name": "stdout",
     "output_type": "stream",
     "text": [
      "['20211012', '20211013', '20211014', '20211015', '20211016', '20211017', '20211018', '20211019', '20211020', '20211021', '20211022', '20211023', '20211024', '20211025', '20211026', '20211027', '20211028', '20211029', '20211030', '20211031', '20211101', '20211102', '20211103', '20211104', '20211105', '20211106', '20211107', '20211108', '20211109', '20211110', '20211111', '20211112', '20211113', '20211114', '20211115', '20211116', '20211117', '20211118', '20211119', '20211120', '20211121', '20211122', '20211123', '20211124', '20211125', '20211126', '20211127', '20211128', '20211129', '20211130', '20211201', '20211202', '20211203', '20211204', '20211205', '20211206', '20211207', '20211208', '20211209', '20211210', '20211211', '20211212', '20211213', '20211214', '20211215', '20211216', '20211217', '20211218', '20211219', '20211220', '20211221', '20211222', '20211223', '20211224', '20211225', '20211226', '20211227', '20211228', '20211229', '20211230', '20211231', '20220101', '20220102', '20220103', '20220104', '20220105', '20220106', '20220107', '20220108', '20220109', '20220110', '20220111', '20220112', '20220113', '20220114', '20220115', '20220116', '20220117', '20220118', '20220119', '20220120', '20220121', '20220122', '20220123', '20220124', '20220125', '20220126', '20220127', '20220128', '20220129', '20220130', '20220131', '20220201', '20220202', '20220203', '20220204', '20220205', '20220206', '20220207', '20220208', '20220209', '20220210', '20220211', '20220212', '20220213', '20220214', '20220215', '20220216', '20220217', '20220218', '20220219', '20220220', '20220221', '20220222', '20220223', '20220224', '20220225', '20220226', '20220227', '20220228', '20220301', '20220302', '20220303', '20220304', '20220305', '20220306', '20220307', '20220308', '20220309', '20220310', '20220311', '20220312', '20220313', '20220314', '20220315', '20220316', '20220317', '20220318', '20220319', '20220320', '20220321', '20220322', '20220323', '20220324', '20220325', '20220326', '20220327', '20220328', '20220329', '20220330', '20220331', '20220401', '20220402', '20220403', '20220404', '20220405', '20220406', '20220407', '20220408', '20220409', '20220410', '20220411', '20220412', '20220413', '20220414', '20220415', '20220416', '20220417', '20220418', '20220419', '20220420', '20220421', '20220422', '20220423', '20220424', '20220425', '20220426', '20220427', '20220428', '20220429', '20220430', '20220501', '20220502', '20220503', '20220504', '20220505', '20220506', '20220507', '20220508', '20220509', '20220510', '20220511', '20220512', '20220513', '20220514', '20220515', '20220516', '20220517', '20220518', '20220519', '20220520', '20220521', '20220522', '20220523', '20220524', '20220525', '20220526', '20220527', '20220528', '20220529', '20220530', '20220531', '20220601', '20220602', '20220603', '20220604', '20220605', '20220606', '20220607', '20220608', '20220609', '20220610', '20220611', '20220612', '20220613', '20220614', '20220615', '20220616', '20220617', '20220618', '20220619', '20220620', '20220621', '20220622', '20220623', '20220624', '20220625', '20220626', '20220627', '20220628', '20220629', '20220630', '20220701', '20220702', '20220703', '20220704', '20220705', '20220706', '20220707', '20220708', '20220709', '20220710', '20220711', '20220712', '20220713', '20220714', '20220715', '20220716', '20220717', '20220718', '20220719', '20220720', '20220721', '20220722', '20220723', '20220724', '20220725', '20220726', '20220727', '20220728', '20220729', '20220730', '20220731', '20220801', '20220802', '20220803', '20220804', '20220805', '20220806', '20220807', '20220808', '20220809', '20220810', '20220811', '20220812', '20220813', '20220814', '20220815', '20220816', '20220817', '20220818', '20220819', '20220820', '20220821', '20220822', '20220823', '20220824', '20220825', '20220826', '20220827', '20220828', '20220829', '20220830', '20220831', '20220901', '20220902', '20220903', '20220904', '20220905', '20220906', '20220907', '20220908', '20220909', '20220910', '20220911', '20220912', '20220913', '20220914', '20220915', '20220916', '20220917', '20220918', '20220919', '20220920', '20220921', '20220922', '20220923', '20220924', '20220925', '20220926', '20220927', '20220928', '20220929', '20220930', '20221001', '20221002', '20221003', '20221004', '20221005', '20221006', '20221007', '20221008', '20221009', '20221010', '20221011', '20221012', '20221013', '20221014', '20221015', '20221016', '20221017', '20221018', '20221019', '20221020', '20221021', '20221022', '20221023', '20221024', '20221025', '20221026', '20221027', '20221028', '20221029', '20221030', '20221031', '20221101', '20221102', '20221103', '20221104', '20221105', '20221106', '20221107', '20221108', '20221109', '20221110', '20221111', '20221112', '20221113', '20221114', '20221115', '20221116', '20221117', '20221118', '20221119', '20221120', '20221121', '20221122', '20221123', '20221124', '20221125', '20221126', '20221127', '20221128', '20221129', '20221130', '20221201', '20221202', '20221203', '20221204', '20221205', '20221206', '20221207', '20221208', '20221209', '20221210', '20221211', '20221212', '20221213', '20221214', '20221215', '20221216', '20221217', '20221218', '20221219', '20221220', '20221221', '20221222', '20221223', '20221224', '20221225', '20221226', '20221227', '20221228', '20221229', '20221230', '20221231', '20230101', '20230102', '20230103', '20230104', '20230105', '20230106', '20230107', '20230108', '20230109', '20230110', '20230111', '20230112', '20230113', '20230114', '20230115', '20230116', '20230117', '20230118', '20230119', '20230120', '20230121', '20230122', '20230123', '20230124', '20230125', '20230126', '20230127', '20230128', '20230129', '20230130', '20230131', '20230201', '20230202', '20230203', '20230204', '20230205', '20230206', '20230207', '20230208', '20230209', '20230210', '20230211', '20230212', '20230213', '20230214', '20230215', '20230216', '20230217', '20230218', '20230219', '20230220', '20230221', '20230222', '20230223', '20230224', '20230225', '20230226', '20230227', '20230228', '20230301', '20230302', '20230303', '20230304', '20230305', '20230306', '20230307', '20230308', '20230309', '20230310', '20230311', '20230312', '20230313', '20230314', '20230315', '20230316', '20230317', '20230318', '20230319', '20230320', '20230321', '20230322', '20230323', '20230324', '20230325', '20230326', '20230327', '20230328', '20230329', '20230330', '20230331', '20230401', '20230402', '20230403', '20230404', '20230405', '20230406', '20230407', '20230408', '20230409', '20230410', '20230411', '20230412', '20230413', '20230414', '20230415', '20230416', '20230417', '20230418', '20230419', '20230420', '20230421', '20230422', '20230423', '20230424', '20230425', '20230426', '20230427', '20230428', '20230429', '20230430', '20230501', '20230502', '20230503', '20230504', '20230505', '20230506', '20230507', '20230508', '20230509', '20230510', '20230511', '20230512', '20230513', '20230514', '20230515', '20230516', '20230517', '20230518', '20230519', '20230520', '20230521', '20230522', '20230523', '20230524', '20230525', '20230526', '20230527', '20230528', '20230529', '20230530', '20230531', '20230601', '20230602', '20230603', '20230604', '20230605', '20230606', '20230607', '20230608', '20230609', '20230610', '20230611', '20230612', '20230613', '20230614', '20230615', '20230616', '20230617', '20230618', '20230619', '20230620', '20230621']\n"
     ]
    }
   ],
   "source": [
    "# set up the data directory\n",
    "DATE_FORMAT_STR = '%Y%m%d'\n",
    "start_date =  '20211012'\n",
    "# end_date = '20230509'\n",
    "end_date = '20230621'\n",
    "PLANAR_FIT = False\n",
    "\n",
    "datelist = pd.date_range(\n",
    "    dt.datetime.strptime(start_date, DATE_FORMAT_STR),\n",
    "    dt.datetime.strptime(end_date, DATE_FORMAT_STR),\n",
    "    freq='d'\n",
    ").strftime(DATE_FORMAT_STR).tolist()\n",
    "print(datelist)"
   ]
  },
  {
   "cell_type": "code",
   "execution_count": 6,
   "metadata": {},
   "outputs": [
    {
     "name": "stdout",
     "output_type": "stream",
     "text": [
      "Loading qc'd data file...\n"
     ]
    }
   ],
   "source": [
    "# Let's begin by downloading the SPLASH data and storing it in the /storage/ directory\n",
    "output_dir = '/storage/dlhogan/synoptic_sublimation/splash_data/ASFS-50_Level2_SPLASH2021-2023/'\n",
    "\n",
    "if not os.path.exists(\"../../01_data/raw_data/splash_ASFS_AP_all_storage.nc\"):\n",
    "    print(\"Creating  data file...\")\n",
    "    start = time.time()\n",
    "    all_file_paths = [\n",
    "    os.path.join(\n",
    "        output_dir,\n",
    "        f'sledseb.asfs50.level2.0.10min.{date}.000000.nc'\n",
    "    ) for date in datelist\n",
    "    ]\n",
    "    datasets = []\n",
    "    for i,file in enumerate(all_file_paths):\n",
    "        # check if the file exists\n",
    "        if not os.path.exists(file):\n",
    "            print(f\"File {file} does not exist\")\n",
    "            continue\n",
    "        else:\n",
    "            ds = xr.open_dataset(file).drop_dims(['freq','dfreq'])\n",
    "            if i == 0:\n",
    "                ds_attrs = ds.attrs\n",
    "            # this ensures we don't access variables that aren't in this dataset, which would throw an error\n",
    "            datasets.append(ds.to_dataframe())\n",
    "            # for every 10th file, print the time between\n",
    "            if i % 10 == 0:\n",
    "                print(f\"Time elapsed for 10 files: {time.time()-start}\")\n",
    "                start = time.time()\n",
    "    splash_df = pd.concat(datasets, axis=0)\n",
    "    splash_ds = splash_df.to_xarray()\n",
    "    splash_ds.attrs = ds_attrs\n",
    "    # ensure time index is evernly spaced by filling in missing times\n",
    "    splash_ds = fill_missing_timestamps(splash_ds)\n",
    "    for varname, da in splash_ds.data_vars.items():\n",
    "        da.attrs = ds[varname].attrs\n",
    "    splash_ds.to_netcdf(\"../../01_data/raw_data/splash_ASFS_AP_all_storage.nc\")\n",
    "else:\n",
    "    print(\"Loading qc'd data file...\")\n",
    "    splash_ap_ds = xr.open_dataset(\"../../01_data/raw_data/splash_ASFS_AP_all_storage.nc\")"
   ]
  },
  {
   "cell_type": "markdown",
   "metadata": {},
   "source": [
    "Looking into this code, here are the useful variables:\n",
    "- `atmos_pressure`\n",
    "- `temp`\n",
    "- `skin_temp_surface`\n",
    "- `wspd_u_mean`\n",
    "- `wspd_v_mean`\n",
    "- `wspd_w_mean`\n",
    "- `wspd_vec_mean`\n",
    "- `wspd_dir_mean`\n",
    "- `Hl`\n",
    "\n",
    "Avery Picnic has good data for 2022, and missing a bunch of data for 2023. Kettle Ponds is missing all of 2023 data."
   ]
  },
  {
   "cell_type": "code",
   "execution_count": 7,
   "metadata": {},
   "outputs": [
    {
     "data": {
      "text/plain": [
       "<matplotlib.legend.Legend at 0x7efe287abf90>"
      ]
     },
     "execution_count": 7,
     "metadata": {},
     "output_type": "execute_result"
    },
    {
     "data": {
      "image/png": "[encoded data removed]",
      "text/plain": [
       "<Figure size 640x480 with 1 Axes>"
      ]
     },
     "metadata": {},
     "output_type": "display_data"
    }
   ],
   "source": [
    "splash_ap_ds['Hl'].plot(label='Avery Picnic')\n",
    "splash_kp_ds['Hl'].plot(label='Kettle Ponds')\n",
    "plt.legend()"
   ]
  },
  {
   "cell_type": "code",
   "execution_count": 8,
   "metadata": {},
   "outputs": [],
   "source": [
    "# let's build a function to qc all the data quickly\n",
    "VARIABLES = ['atmos_pressure','temp','rh','vapor_pressure','skin_temp_surface','wspd_u_mean','wspd_v_mean','wspd_w_mean','wspd_vec_mean','wdir_vec_mean']\n",
    "def qc_splash_met(ds, variables, temp_var, rh_var, wspd_var, vapor_pressure_var):\n",
    "    # first let's add qc to all the variables as a new list\n",
    "    qc_variables = [v+'_qc' for v in variables]\n",
    "    ds_qc = ds#[variables+qc_variables]\n",
    "    # now if any qc variable is not 0, we will set the variable to nan\n",
    "    for v in variables:\n",
    "        ds_qc[v] = ds_qc[v].where(ds_qc[v+'_qc']==0, other=np.nan)\n",
    "    # now let's drop the qc variables\n",
    "    ds_qc = ds_qc.drop_vars(qc_variables)\n",
    "    # now let's set extreme values for certain variables\n",
    "    temp_max = 30\n",
    "    temp_min = -40\n",
    "    rh_min = 0\n",
    "    wspd_max = 40 # max in m/s\n",
    "    vapor_pressure_max = 7.835 # this is the saturation vapor pressure at 40C\n",
    "    # now let's filter out the extremes and fill with nan\n",
    "    ds_qc[temp_var] = ds_qc[temp_var].where((ds_qc[temp_var]<temp_max) & (ds_qc[temp_var]>temp_min), other=np.nan)\n",
    "    if rh_var == 'rh_mean':\n",
    "        ds_qc['rh_mean'] = ds_qc['rh_mean'].where(ds_qc['rh_mean']>rh_min, other=np.nan)\n",
    "    ds_qc[wspd_var] = ds_qc[wspd_var].where(ds_qc[wspd_var]<wspd_max, other=np.nan)\n",
    "    ds_qc[vapor_pressure_var] = ds_qc[vapor_pressure_var].where(ds_qc[vapor_pressure_var]<vapor_pressure_max, other=np.nan)\n",
    "    # count how many data points are nan for each variable and print that out\n",
    "    for v in variables:\n",
    "        print(f'{v} has {ds_qc[v].isnull().sum().values} nan values')\n",
    "    print('-------------------')\n",
    "    # return the qc'd dataset\n",
    "    return ds_qc\n"
   ]
  },
  {
   "cell_type": "code",
   "execution_count": 51,
   "metadata": {},
   "outputs": [
    {
     "name": "stdout",
     "output_type": "stream",
     "text": [
      "atmos_pressure has 8464 nan values\n",
      "temp has 8464 nan values\n",
      "rh has 8464 nan values\n",
      "vapor_pressure has 88992 nan values\n",
      "skin_temp_surface has 9256 nan values\n",
      "wspd_u_mean has 11175 nan values\n",
      "wspd_v_mean has 11175 nan values\n",
      "wspd_w_mean has 11175 nan values\n",
      "wspd_vec_mean has 11204 nan values\n",
      "wdir_vec_mean has 11204 nan values\n",
      "-------------------\n",
      "atmos_pressure has 2493 nan values\n",
      "temp has 2493 nan values\n",
      "rh has 2507 nan values\n",
      "vapor_pressure has 95040 nan values\n",
      "skin_temp_surface has 4498 nan values\n",
      "wspd_u_mean has 10970 nan values\n",
      "wspd_v_mean has 10970 nan values\n",
      "wspd_w_mean has 10970 nan values\n",
      "wspd_vec_mean has 10986 nan values\n",
      "wdir_vec_mean has 10986 nan values\n",
      "-------------------\n"
     ]
    }
   ],
   "source": [
    "splash_ap_qc_ds = qc_splash_met(splash_ap_ds, VARIABLES, 'temp', 'rh', 'wspd_vec_mean', 'vapor_pressure')\n",
    "splash_kp_qc_ds = qc_splash_met(splash_kp_ds, VARIABLES, 'temp', 'rh', 'wspd_vec_mean', 'vapor_pressure')"
   ]
  },
  {
   "cell_type": "code",
   "execution_count": 52,
   "metadata": {},
   "outputs": [],
   "source": [
    "# resample to hourly average\n",
    "# save the attributes\n",
    "attrs = splash_ap_qc_ds.attrs\n",
    "splash_ap_qc_ds_hourly = splash_ap_qc_ds.to_dataframe().resample('1H').mean().to_xarray()\n",
    "splash_kp_qc_ds_hourly = splash_kp_qc_ds.to_dataframe().resample('1H').mean().to_xarray()\n",
    "splash_ap_qc_ds_hourly.attrs = attrs\n",
    "splash_kp_qc_ds_hourly.attrs = attrs\n",
    "# replace the wdir_vec_mean with the wind direction mean from the u and v components\n",
    "def resampled_wind_dir(u, v):\n",
    "    dir = 270-np.rad2deg(np.arctan2(v,u))\n",
    "    # if dir is negative, add 360\n",
    "    dir[dir<0] = dir[dir<0] + 360\n",
    "    # if dir is greater than 360, subtract 360\n",
    "    dir[dir>360] = dir[dir>360] - 360\n",
    "    return dir\n",
    "splash_ap_qc_ds_hourly['wdir_vec_mean'] = resampled_wind_dir(splash_ap_qc_ds_hourly['wspd_u_mean'],splash_ap_qc_ds_hourly['wspd_v_mean'])\n",
    "splash_kp_qc_ds_hourly['wdir_vec_mean'] = resampled_wind_dir(splash_kp_qc_ds_hourly['wspd_u_mean'],splash_kp_qc_ds_hourly['wspd_v_mean'])\n",
    "\n",
    "# filter to the two water years\n",
    "w23_splash_ap_qc_ds_1H = splash_ap_qc_ds_hourly.sel(time=slice('2022-12-01','2023-03-31'))\n",
    "w22_splash_ap_qc_ds_1H = splash_ap_qc_ds_hourly.sel(time=slice('2021-12-01','2022-03-31'))\n",
    "w23_splash_kp_qc_ds_1H = splash_kp_qc_ds_hourly.sel(time=slice('2022-12-01','2023-03-31'))\n",
    "w22_splash_kp_qc_ds_1H = splash_kp_qc_ds_hourly.sel(time=slice('2021-12-01','2022-03-31'))\n"
   ]
  },
  {
   "cell_type": "markdown",
   "metadata": {},
   "source": [
    "### 2022"
   ]
  },
  {
   "cell_type": "code",
   "execution_count": 55,
   "metadata": {},
   "outputs": [
    {
     "name": "stderr",
     "output_type": "stream",
     "text": [
      "The default of observed=False is deprecated and will be changed to True in a future version of pandas. Pass observed=False to retain current behavior or observed=True to adopt the future default and silence this warning.\n",
      "The default of observed=False is deprecated and will be changed to True in a future version of pandas. Pass observed=False to retain current behavior or observed=True to adopt the future default and silence this warning.\n"
     ]
    },
    {
     "data": {
      "application/vnd.plotly.v1+json": {
       "config": {
        "plotlyServerURL": "https://plot.ly"
       },
       "data": [
        {
         "hovertemplate": "speed=0-2<br>frequency=%{r}<br>direction=%{theta}<extra></extra>",
         "legendgroup": "0-2",
         "marker": {
          "color": "#f0f921",
          "pattern": {
           "shape": ""
          }
         },
         "name": "0-2",
         "r": [
          23.34710743801653,
          1.3085399449035813,
          0.5165289256198347,
          0.4132231404958678,
          0.5509641873278237,
          0.6887052341597796,
          3.3057851239669422,
          2.8236914600550964,
          0.7920110192837465,
          0.4132231404958678,
          0.13774104683195593,
          0.03443526170798898,
          0.24104683195592286,
          0.24104683195592286,
          1.1363636363636365,
          9.676308539944904
         ],
         "showlegend": true,
         "subplot": "polar",
         "theta": [
          "N",
          "NNE",
          "NE",
          "ENE",
          "E",
          "ESE",
          "SE",
          "SSE",
          "S",
          "SSW",
          "SW",
          "WSW",
          "W",
          "WNW",
          "NW",
          "NNW"
         ],
         "type": "barpolar"
        },
        {
         "hovertemplate": "speed=2-4<br>frequency=%{r}<br>direction=%{theta}<extra></extra>",
         "legendgroup": "2-4",
         "marker": {
          "color": "#fdca26",
          "pattern": {
           "shape": ""
          }
         },
         "name": "2-4",
         "r": [
          8.746556473829202,
          1.5495867768595042,
          0.10330578512396695,
          0.13774104683195593,
          0.10330578512396695,
          0.1721763085399449,
          1.3085399449035813,
          6.887052341597796,
          0.3443526170798898,
          0.06887052341597796,
          0.03443526170798898,
          0.03443526170798898,
          0.03443526170798898,
          0.06887052341597796,
          2.5826446280991737,
          10.915977961432507
         ],
         "showlegend": true,
         "subplot": "polar",
         "theta": [
          "N",
          "NNE",
          "NE",
          "ENE",
          "E",
          "ESE",
          "SE",
          "SSE",
          "S",
          "SSW",
          "SW",
          "WSW",
          "W",
          "WNW",
          "NW",
          "NNW"
         ],
         "type": "barpolar"
        },
        {
         "hovertemplate": "speed=4-6<br>frequency=%{r}<br>direction=%{theta}<extra></extra>",
         "legendgroup": "4-6",
         "marker": {
          "color": "#fb9f3a",
          "pattern": {
           "shape": ""
          }
         },
         "name": "4-6",
         "r": [
          2.169421487603306,
          2.1349862258953167,
          0.03443526170798898,
          0,
          0,
          0,
          0.27548209366391185,
          1.721763085399449,
          0.10330578512396695,
          0,
          0,
          0,
          0.03443526170798898,
          0,
          3.4779614325068873,
          5.509641873278237
         ],
         "showlegend": true,
         "subplot": "polar",
         "theta": [
          "N",
          "NNE",
          "NE",
          "ENE",
          "E",
          "ESE",
          "SE",
          "SSE",
          "S",
          "SSW",
          "SW",
          "WSW",
          "W",
          "WNW",
          "NW",
          "NNW"
         ],
         "type": "barpolar"
        },
        {
         "hovertemplate": "speed=6-8<br>frequency=%{r}<br>direction=%{theta}<extra></extra>",
         "legendgroup": "6-8",
         "marker": {
          "color": "#ed7953",
          "pattern": {
           "shape": ""
          }
         },
         "name": "6-8",
         "r": [
          0.8953168044077136,
          0.4476584022038568,
          0,
          0,
          0,
          0,
          0,
          0.03443526170798898,
          0,
          0,
          0,
          0,
          0,
          0,
          1.1019283746556474,
          2.6515151515151514
         ],
         "showlegend": true,
         "subplot": "polar",
         "theta": [
          "N",
          "NNE",
          "NE",
          "ENE",
          "E",
          "ESE",
          "SE",
          "SSE",
          "S",
          "SSW",
          "SW",
          "WSW",
          "W",
          "WNW",
          "NW",
          "NNW"
         ],
         "type": "barpolar"
        },
        {
         "hovertemplate": "speed=8-10<br>frequency=%{r}<br>direction=%{theta}<extra></extra>",
         "legendgroup": "8-10",
         "marker": {
          "color": "#d8576b",
          "pattern": {
           "shape": ""
          }
         },
         "name": "8-10",
         "r": [
          0.06887052341597796,
          0.03443526170798898,
          0,
          0,
          0,
          0,
          0,
          0,
          0,
          0,
          0,
          0,
          0,
          0,
          0.03443526170798898,
          0.5509641873278237
         ],
         "showlegend": true,
         "subplot": "polar",
         "theta": [
          "N",
          "NNE",
          "NE",
          "ENE",
          "E",
          "ESE",
          "SE",
          "SSE",
          "S",
          "SSW",
          "SW",
          "WSW",
          "W",
          "WNW",
          "NW",
          "NNW"
         ],
         "type": "barpolar"
        },
        {
         "hovertemplate": "speed=10-12<br>frequency=%{r}<br>direction=%{theta}<extra></extra>",
         "legendgroup": "10-12",
         "marker": {
          "color": "#bd3786",
          "pattern": {
           "shape": ""
          }
         },
         "name": "10-12",
         "r": [
          0,
          0,
          0,
          0,
          0,
          0,
          0,
          0,
          0,
          0,
          0,
          0,
          0,
          0,
          0,
          0
         ],
         "showlegend": true,
         "subplot": "polar",
         "theta": [
          "N",
          "NNE",
          "NE",
          "ENE",
          "E",
          "ESE",
          "SE",
          "SSE",
          "S",
          "SSW",
          "SW",
          "WSW",
          "W",
          "WNW",
          "NW",
          "NNW"
         ],
         "type": "barpolar"
        },
        {
         "hovertemplate": "speed=12-14<br>frequency=%{r}<br>direction=%{theta}<extra></extra>",
         "legendgroup": "12-14",
         "marker": {
          "color": "#9c179e",
          "pattern": {
           "shape": ""
          }
         },
         "name": "12-14",
         "r": [
          0,
          0,
          0,
          0,
          0,
          0,
          0,
          0,
          0,
          0,
          0,
          0,
          0,
          0,
          0,
          0
         ],
         "showlegend": true,
         "subplot": "polar",
         "theta": [
          "N",
          "NNE",
          "NE",
          "ENE",
          "E",
          "ESE",
          "SE",
          "SSE",
          "S",
          "SSW",
          "SW",
          "WSW",
          "W",
          "WNW",
          "NW",
          "NNW"
         ],
         "type": "barpolar"
        },
        {
         "hovertemplate": "speed=>14+<br>frequency=%{r}<br>direction=%{theta}<extra></extra>",
         "legendgroup": ">14+",
         "marker": {
          "color": "#7201a8",
          "pattern": {
           "shape": ""
          }
         },
         "name": ">14+",
         "r": [
          0,
          0,
          0,
          0,
          0,
          0,
          0,
          0,
          0,
          0,
          0,
          0,
          0,
          0,
          0,
          0
         ],
         "showlegend": true,
         "subplot": "polar",
         "theta": [
          "N",
          "NNE",
          "NE",
          "ENE",
          "E",
          "ESE",
          "SE",
          "SSE",
          "S",
          "SSW",
          "SW",
          "WSW",
          "W",
          "WNW",
          "NW",
          "NNW"
         ],
         "type": "barpolar"
        }
       ],
       "layout": {
        "barmode": "relative",
        "barnorm": "percent",
        "font": {
         "size": 12
        },
        "height": 500,
        "legend": {
         "title": {
          "text": "speed"
         },
         "tracegroupgap": 0
        },
        "margin": {
         "t": 60
        },
        "polar": {
         "angularaxis": {
          "direction": "clockwise",
          "rotation": 90
         },
         "domain": {
          "x": [
           0,
           1
          ],
          "y": [
           0,
           1
          ]
         },
         "radialaxis": {
          "angle": 45,
          "range": [
           0,
           30
          ],
          "showgrid": true,
          "showline": false,
          "showticklabels": true,
          "tickfont": {
           "size": 14
          },
          "ticksuffix": "%"
         }
        },
        "template": {
         "data": {
          "bar": [
           {
            "error_x": {
             "color": "#f2f5fa"
            },
            "error_y": {
             "color": "#f2f5fa"
            },
            "marker": {
             "line": {
              "color": "rgb(17,17,17)",
              "width": 0.5
             },
             "pattern": {
              "fillmode": "overlay",
              "size": 10,
              "solidity": 0.2
             }
            },
            "type": "bar"
           }
          ],
          "barpolar": [
           {
            "marker": {
             "line": {
              "color": "rgb(17,17,17)",
              "width": 0.5
             },
             "pattern": {
              "fillmode": "overlay",
              "size": 10,
              "solidity": 0.2
             }
            },
            "type": "barpolar"
           }
          ],
          "carpet": [
           {
            "aaxis": {
             "endlinecolor": "#A2B1C6",
             "gridcolor": "#506784",
             "linecolor": "#506784",
             "minorgridcolor": "#506784",
             "startlinecolor": "#A2B1C6"
            },
            "baxis": {
             "endlinecolor": "#A2B1C6",
             "gridcolor": "#506784",
             "linecolor": "#506784",
             "minorgridcolor": "#506784",
             "startlinecolor": "#A2B1C6"
            },
            "type": "carpet"
           }
          ],
          "choropleth": [
           {
            "colorbar": {
             "outlinewidth": 0,
             "ticks": ""
            },
            "type": "choropleth"
           }
          ],
          "contour": [
           {
            "colorbar": {
             "outlinewidth": 0,
             "ticks": ""
            },
            "colorscale": [
             [
              0,
              "#0d0887"
             ],
             [
              0.1111111111111111,
              "#46039f"
             ],
             [
              0.2222222222222222,
              "#7201a8"
             ],
             [
              0.3333333333333333,
              "#9c179e"
             ],
             [
              0.4444444444444444,
              "#bd3786"
             ],
             [
              0.5555555555555556,
              "#d8576b"
             ],
             [
              0.6666666666666666,
              "#ed7953"
             ],
             [
              0.7777777777777778,
              "#fb9f3a"
             ],
             [
              0.8888888888888888,
              "#fdca26"
             ],
             [
              1,
              "#f0f921"
             ]
            ],
            "type": "contour"
           }
          ],
          "contourcarpet": [
           {
            "colorbar": {
             "outlinewidth": 0,
             "ticks": ""
            },
            "type": "contourcarpet"
           }
          ],
          "heatmap": [
           {
            "colorbar": {
             "outlinewidth": 0,
             "ticks": ""
            },
            "colorscale": [
             [
              0,
              "#0d0887"
             ],
             [
              0.1111111111111111,
              "#46039f"
             ],
             [
              0.2222222222222222,
              "#7201a8"
             ],
             [
              0.3333333333333333,
              "#9c179e"
             ],
             [
              0.4444444444444444,
              "#bd3786"
             ],
             [
              0.5555555555555556,
              "#d8576b"
             ],
             [
              0.6666666666666666,
              "#ed7953"
             ],
             [
              0.7777777777777778,
              "#fb9f3a"
             ],
             [
              0.8888888888888888,
              "#fdca26"
             ],
             [
              1,
              "#f0f921"
             ]
            ],
            "type": "heatmap"
           }
          ],
          "heatmapgl": [
           {
            "colorbar": {
             "outlinewidth": 0,
             "ticks": ""
            },
            "colorscale": [
             [
              0,
              "#0d0887"
             ],
             [
              0.1111111111111111,
              "#46039f"
             ],
             [
              0.2222222222222222,
              "#7201a8"
             ],
             [
              0.3333333333333333,
              "#9c179e"
             ],
             [
              0.4444444444444444,
              "#bd3786"
             ],
             [
              0.5555555555555556,
              "#d8576b"
             ],
             [
              0.6666666666666666,
              "#ed7953"
             ],
             [
              0.7777777777777778,
              "#fb9f3a"
             ],
             [
              0.8888888888888888,
              "#fdca26"
             ],
             [
              1,
              "#f0f921"
             ]
            ],
            "type": "heatmapgl"
           }
          ],
          "histogram": [
           {
            "marker": {
             "pattern": {
              "fillmode": "overlay",
              "size": 10,
              "solidity": 0.2
             }
            },
            "type": "histogram"
           }
          ],
          "histogram2d": [
           {
            "colorbar": {
             "outlinewidth": 0,
             "ticks": ""
            },
            "colorscale": [
             [
              0,
              "#0d0887"
             ],
             [
              0.1111111111111111,
              "#46039f"
             ],
             [
              0.2222222222222222,
              "#7201a8"
             ],
             [
              0.3333333333333333,
              "#9c179e"
             ],
             [
              0.4444444444444444,
              "#bd3786"
             ],
             [
              0.5555555555555556,
              "#d8576b"
             ],
             [
              0.6666666666666666,
              "#ed7953"
             ],
             [
              0.7777777777777778,
              "#fb9f3a"
             ],
             [
              0.8888888888888888,
              "#fdca26"
             ],
             [
              1,
              "#f0f921"
             ]
            ],
            "type": "histogram2d"
           }
          ],
          "histogram2dcontour": [
           {
            "colorbar": {
             "outlinewidth": 0,
             "ticks": ""
            },
            "colorscale": [
             [
              0,
              "#0d0887"
             ],
             [
              0.1111111111111111,
              "#46039f"
             ],
             [
              0.2222222222222222,
              "#7201a8"
             ],
             [
              0.3333333333333333,
              "#9c179e"
             ],
             [
              0.4444444444444444,
              "#bd3786"
             ],
             [
              0.5555555555555556,
              "#d8576b"
             ],
             [
              0.6666666666666666,
              "#ed7953"
             ],
             [
              0.7777777777777778,
              "#fb9f3a"
             ],
             [
              0.8888888888888888,
              "#fdca26"
             ],
             [
              1,
              "#f0f921"
             ]
            ],
            "type": "histogram2dcontour"
           }
          ],
          "mesh3d": [
           {
            "colorbar": {
             "outlinewidth": 0,
             "ticks": ""
            },
            "type": "mesh3d"
           }
          ],
          "parcoords": [
           {
            "line": {
             "colorbar": {
              "outlinewidth": 0,
              "ticks": ""
             }
            },
            "type": "parcoords"
           }
          ],
          "pie": [
           {
            "automargin": true,
            "type": "pie"
           }
          ],
          "scatter": [
           {
            "marker": {
             "line": {
              "color": "#283442"
             }
            },
            "type": "scatter"
           }
          ],
          "scatter3d": [
           {
            "line": {
             "colorbar": {
              "outlinewidth": 0,
              "ticks": ""
             }
            },
            "marker": {
             "colorbar": {
              "outlinewidth": 0,
              "ticks": ""
             }
            },
            "type": "scatter3d"
           }
          ],
          "scattercarpet": [
           {
            "marker": {
             "colorbar": {
              "outlinewidth": 0,
              "ticks": ""
             }
            },
            "type": "scattercarpet"
           }
          ],
          "scattergeo": [
           {
            "marker": {
             "colorbar": {
              "outlinewidth": 0,
              "ticks": ""
             }
            },
            "type": "scattergeo"
           }
          ],
          "scattergl": [
           {
            "marker": {
             "line": {
              "color": "#283442"
             }
            },
            "type": "scattergl"
           }
          ],
          "scattermapbox": [
           {
            "marker": {
             "colorbar": {
              "outlinewidth": 0,
              "ticks": ""
             }
            },
            "type": "scattermapbox"
           }
          ],
          "scatterpolar": [
           {
            "marker": {
             "colorbar": {
              "outlinewidth": 0,
              "ticks": ""
             }
            },
            "type": "scatterpolar"
           }
          ],
          "scatterpolargl": [
           {
            "marker": {
             "colorbar": {
              "outlinewidth": 0,
              "ticks": ""
             }
            },
            "type": "scatterpolargl"
           }
          ],
          "scatterternary": [
           {
            "marker": {
             "colorbar": {
              "outlinewidth": 0,
              "ticks": ""
             }
            },
            "type": "scatterternary"
           }
          ],
          "surface": [
           {
            "colorbar": {
             "outlinewidth": 0,
             "ticks": ""
            },
            "colorscale": [
             [
              0,
              "#0d0887"
             ],
             [
              0.1111111111111111,
              "#46039f"
             ],
             [
              0.2222222222222222,
              "#7201a8"
             ],
             [
              0.3333333333333333,
              "#9c179e"
             ],
             [
              0.4444444444444444,
              "#bd3786"
             ],
             [
              0.5555555555555556,
              "#d8576b"
             ],
             [
              0.6666666666666666,
              "#ed7953"
             ],
             [
              0.7777777777777778,
              "#fb9f3a"
             ],
             [
              0.8888888888888888,
              "#fdca26"
             ],
             [
              1,
              "#f0f921"
             ]
            ],
            "type": "surface"
           }
          ],
          "table": [
           {
            "cells": {
             "fill": {
              "color": "#506784"
             },
             "line": {
              "color": "rgb(17,17,17)"
             }
            },
            "header": {
             "fill": {
              "color": "#2a3f5f"
             },
             "line": {
              "color": "rgb(17,17,17)"
             }
            },
            "type": "table"
           }
          ]
         },
         "layout": {
          "annotationdefaults": {
           "arrowcolor": "#f2f5fa",
           "arrowhead": 0,
           "arrowwidth": 1
          },
          "autotypenumbers": "strict",
          "coloraxis": {
           "colorbar": {
            "outlinewidth": 0,
            "ticks": ""
           }
          },
          "colorscale": {
           "diverging": [
            [
             0,
             "#8e0152"
            ],
            [
             0.1,
             "#c51b7d"
            ],
            [
             0.2,
             "#de77ae"
            ],
            [
             0.3,
             "#f1b6da"
            ],
            [
             0.4,
             "#fde0ef"
            ],
            [
             0.5,
             "#f7f7f7"
            ],
            [
             0.6,
             "#e6f5d0"
            ],
            [
             0.7,
             "#b8e186"
            ],
            [
             0.8,
             "#7fbc41"
            ],
            [
             0.9,
             "#4d9221"
            ],
            [
             1,
             "#276419"
            ]
           ],
           "sequential": [
            [
             0,
             "#0d0887"
            ],
            [
             0.1111111111111111,
             "#46039f"
            ],
            [
             0.2222222222222222,
             "#7201a8"
            ],
            [
             0.3333333333333333,
             "#9c179e"
            ],
            [
             0.4444444444444444,
             "#bd3786"
            ],
            [
             0.5555555555555556,
             "#d8576b"
            ],
            [
             0.6666666666666666,
             "#ed7953"
            ],
            [
             0.7777777777777778,
             "#fb9f3a"
            ],
            [
             0.8888888888888888,
             "#fdca26"
            ],
            [
             1,
             "#f0f921"
            ]
           ],
           "sequentialminus": [
            [
             0,
             "#0d0887"
            ],
            [
             0.1111111111111111,
             "#46039f"
            ],
            [
             0.2222222222222222,
             "#7201a8"
            ],
            [
             0.3333333333333333,
             "#9c179e"
            ],
            [
             0.4444444444444444,
             "#bd3786"
            ],
            [
             0.5555555555555556,
             "#d8576b"
            ],
            [
             0.6666666666666666,
             "#ed7953"
            ],
            [
             0.7777777777777778,
             "#fb9f3a"
            ],
            [
             0.8888888888888888,
             "#fdca26"
            ],
            [
             1,
             "#f0f921"
            ]
           ]
          },
          "colorway": [
           "#636efa",
           "#EF553B",
           "#00cc96",
           "#ab63fa",
           "#FFA15A",
           "#19d3f3",
           "#FF6692",
           "#B6E880",
           "#FF97FF",
           "#FECB52"
          ],
          "font": {
           "color": "#f2f5fa"
          },
          "geo": {
           "bgcolor": "rgb(17,17,17)",
           "lakecolor": "rgb(17,17,17)",
           "landcolor": "rgb(17,17,17)",
           "showlakes": true,
           "showland": true,
           "subunitcolor": "#506784"
          },
          "hoverlabel": {
           "align": "left"
          },
          "hovermode": "closest",
          "mapbox": {
           "style": "dark"
          },
          "paper_bgcolor": "rgb(17,17,17)",
          "plot_bgcolor": "rgb(17,17,17)",
          "polar": {
           "angularaxis": {
            "gridcolor": "#506784",
            "linecolor": "#506784",
            "ticks": ""
           },
           "bgcolor": "rgb(17,17,17)",
           "radialaxis": {
            "gridcolor": "#506784",
            "linecolor": "#506784",
            "ticks": ""
           }
          },
          "scene": {
           "xaxis": {
            "backgroundcolor": "rgb(17,17,17)",
            "gridcolor": "#506784",
            "gridwidth": 2,
            "linecolor": "#506784",
            "showbackground": true,
            "ticks": "",
            "zerolinecolor": "#C8D4E3"
           },
           "yaxis": {
            "backgroundcolor": "rgb(17,17,17)",
            "gridcolor": "#506784",
            "gridwidth": 2,
            "linecolor": "#506784",
            "showbackground": true,
            "ticks": "",
            "zerolinecolor": "#C8D4E3"
           },
           "zaxis": {
            "backgroundcolor": "rgb(17,17,17)",
            "gridcolor": "#506784",
            "gridwidth": 2,
            "linecolor": "#506784",
            "showbackground": true,
            "ticks": "",
            "zerolinecolor": "#C8D4E3"
           }
          },
          "shapedefaults": {
           "line": {
            "color": "#f2f5fa"
           }
          },
          "sliderdefaults": {
           "bgcolor": "#C8D4E3",
           "bordercolor": "rgb(17,17,17)",
           "borderwidth": 1,
           "tickwidth": 0
          },
          "ternary": {
           "aaxis": {
            "gridcolor": "#506784",
            "linecolor": "#506784",
            "ticks": ""
           },
           "baxis": {
            "gridcolor": "#506784",
            "linecolor": "#506784",
            "ticks": ""
           },
           "bgcolor": "rgb(17,17,17)",
           "caxis": {
            "gridcolor": "#506784",
            "linecolor": "#506784",
            "ticks": ""
           }
          },
          "title": {
           "x": 0.05
          },
          "updatemenudefaults": {
           "bgcolor": "#506784",
           "borderwidth": 0
          },
          "xaxis": {
           "automargin": true,
           "gridcolor": "#283442",
           "linecolor": "#506784",
           "ticks": "",
           "title": {
            "standoff": 15
           },
           "zerolinecolor": "#283442",
           "zerolinewidth": 2
          },
          "yaxis": {
           "automargin": true,
           "gridcolor": "#283442",
           "linecolor": "#506784",
           "ticks": "",
           "title": {
            "standoff": 15
           },
           "zerolinecolor": "#283442",
           "zerolinewidth": 2
          }
         }
        },
        "title": {
         "text": "Daily Avg Wind Rose at 3.8 m on SPLASH ASFS Station, 2022"
        },
        "width": 800
       }
      },
      "text/html": [
       "<div>                            <div id=\"bd3d4ae2-1115-4e4d-8d4c-87a354099fe7\" class=\"plotly-graph-div\" style=\"height:500px; width:800px;\"></div>            <script type=\"text/javascript\">                require([\"plotly\"], function(Plotly) {                    window.PLOTLYENV=window.PLOTLYENV || {};                                    if (document.getElementById(\"bd3d4ae2-1115-4e4d-8d4c-87a354099fe7\")) {                    Plotly.newPlot(                        \"bd3d4ae2-1115-4e4d-8d4c-87a354099fe7\",                        [{\"hovertemplate\":\"speed=0-2\\u003cbr\\u003efrequency=%{r}\\u003cbr\\u003edirection=%{theta}\\u003cextra\\u003e\\u003c\\u002fextra\\u003e\",\"legendgroup\":\"0-2\",\"marker\":{\"color\":\"#f0f921\",\"pattern\":{\"shape\":\"\"}},\"name\":\"0-2\",\"r\":[23.34710743801653,1.3085399449035813,0.5165289256198347,0.4132231404958678,0.5509641873278237,0.6887052341597796,3.3057851239669422,2.8236914600550964,0.7920110192837465,0.4132231404958678,0.13774104683195593,0.03443526170798898,0.24104683195592286,0.24104683195592286,1.1363636363636365,9.676308539944904],\"showlegend\":true,\"subplot\":\"polar\",\"theta\":[\"N\",\"NNE\",\"NE\",\"ENE\",\"E\",\"ESE\",\"SE\",\"SSE\",\"S\",\"SSW\",\"SW\",\"WSW\",\"W\",\"WNW\",\"NW\",\"NNW\"],\"type\":\"barpolar\"},{\"hovertemplate\":\"speed=2-4\\u003cbr\\u003efrequency=%{r}\\u003cbr\\u003edirection=%{theta}\\u003cextra\\u003e\\u003c\\u002fextra\\u003e\",\"legendgroup\":\"2-4\",\"marker\":{\"color\":\"#fdca26\",\"pattern\":{\"shape\":\"\"}},\"name\":\"2-4\",\"r\":[8.746556473829202,1.5495867768595042,0.10330578512396695,0.13774104683195593,0.10330578512396695,0.1721763085399449,1.3085399449035813,6.887052341597796,0.3443526170798898,0.06887052341597796,0.03443526170798898,0.03443526170798898,0.03443526170798898,0.06887052341597796,2.5826446280991737,10.915977961432507],\"showlegend\":true,\"subplot\":\"polar\",\"theta\":[\"N\",\"NNE\",\"NE\",\"ENE\",\"E\",\"ESE\",\"SE\",\"SSE\",\"S\",\"SSW\",\"SW\",\"WSW\",\"W\",\"WNW\",\"NW\",\"NNW\"],\"type\":\"barpolar\"},{\"hovertemplate\":\"speed=4-6\\u003cbr\\u003efrequency=%{r}\\u003cbr\\u003edirection=%{theta}\\u003cextra\\u003e\\u003c\\u002fextra\\u003e\",\"legendgroup\":\"4-6\",\"marker\":{\"color\":\"#fb9f3a\",\"pattern\":{\"shape\":\"\"}},\"name\":\"4-6\",\"r\":[2.169421487603306,2.1349862258953167,0.03443526170798898,0.0,0.0,0.0,0.27548209366391185,1.721763085399449,0.10330578512396695,0.0,0.0,0.0,0.03443526170798898,0.0,3.4779614325068873,5.509641873278237],\"showlegend\":true,\"subplot\":\"polar\",\"theta\":[\"N\",\"NNE\",\"NE\",\"ENE\",\"E\",\"ESE\",\"SE\",\"SSE\",\"S\",\"SSW\",\"SW\",\"WSW\",\"W\",\"WNW\",\"NW\",\"NNW\"],\"type\":\"barpolar\"},{\"hovertemplate\":\"speed=6-8\\u003cbr\\u003efrequency=%{r}\\u003cbr\\u003edirection=%{theta}\\u003cextra\\u003e\\u003c\\u002fextra\\u003e\",\"legendgroup\":\"6-8\",\"marker\":{\"color\":\"#ed7953\",\"pattern\":{\"shape\":\"\"}},\"name\":\"6-8\",\"r\":[0.8953168044077136,0.4476584022038568,0.0,0.0,0.0,0.0,0.0,0.03443526170798898,0.0,0.0,0.0,0.0,0.0,0.0,1.1019283746556474,2.6515151515151514],\"showlegend\":true,\"subplot\":\"polar\",\"theta\":[\"N\",\"NNE\",\"NE\",\"ENE\",\"E\",\"ESE\",\"SE\",\"SSE\",\"S\",\"SSW\",\"SW\",\"WSW\",\"W\",\"WNW\",\"NW\",\"NNW\"],\"type\":\"barpolar\"},{\"hovertemplate\":\"speed=8-10\\u003cbr\\u003efrequency=%{r}\\u003cbr\\u003edirection=%{theta}\\u003cextra\\u003e\\u003c\\u002fextra\\u003e\",\"legendgroup\":\"8-10\",\"marker\":{\"color\":\"#d8576b\",\"pattern\":{\"shape\":\"\"}},\"name\":\"8-10\",\"r\":[0.06887052341597796,0.03443526170798898,0.0,0.0,0.0,0.0,0.0,0.0,0.0,0.0,0.0,0.0,0.0,0.0,0.03443526170798898,0.5509641873278237],\"showlegend\":true,\"subplot\":\"polar\",\"theta\":[\"N\",\"NNE\",\"NE\",\"ENE\",\"E\",\"ESE\",\"SE\",\"SSE\",\"S\",\"SSW\",\"SW\",\"WSW\",\"W\",\"WNW\",\"NW\",\"NNW\"],\"type\":\"barpolar\"},{\"hovertemplate\":\"speed=10-12\\u003cbr\\u003efrequency=%{r}\\u003cbr\\u003edirection=%{theta}\\u003cextra\\u003e\\u003c\\u002fextra\\u003e\",\"legendgroup\":\"10-12\",\"marker\":{\"color\":\"#bd3786\",\"pattern\":{\"shape\":\"\"}},\"name\":\"10-12\",\"r\":[0.0,0.0,0.0,0.0,0.0,0.0,0.0,0.0,0.0,0.0,0.0,0.0,0.0,0.0,0.0,0.0],\"showlegend\":true,\"subplot\":\"polar\",\"theta\":[\"N\",\"NNE\",\"NE\",\"ENE\",\"E\",\"ESE\",\"SE\",\"SSE\",\"S\",\"SSW\",\"SW\",\"WSW\",\"W\",\"WNW\",\"NW\",\"NNW\"],\"type\":\"barpolar\"},{\"hovertemplate\":\"speed=12-14\\u003cbr\\u003efrequency=%{r}\\u003cbr\\u003edirection=%{theta}\\u003cextra\\u003e\\u003c\\u002fextra\\u003e\",\"legendgroup\":\"12-14\",\"marker\":{\"color\":\"#9c179e\",\"pattern\":{\"shape\":\"\"}},\"name\":\"12-14\",\"r\":[0.0,0.0,0.0,0.0,0.0,0.0,0.0,0.0,0.0,0.0,0.0,0.0,0.0,0.0,0.0,0.0],\"showlegend\":true,\"subplot\":\"polar\",\"theta\":[\"N\",\"NNE\",\"NE\",\"ENE\",\"E\",\"ESE\",\"SE\",\"SSE\",\"S\",\"SSW\",\"SW\",\"WSW\",\"W\",\"WNW\",\"NW\",\"NNW\"],\"type\":\"barpolar\"},{\"hovertemplate\":\"speed=\\u003e14+\\u003cbr\\u003efrequency=%{r}\\u003cbr\\u003edirection=%{theta}\\u003cextra\\u003e\\u003c\\u002fextra\\u003e\",\"legendgroup\":\"\\u003e14+\",\"marker\":{\"color\":\"#7201a8\",\"pattern\":{\"shape\":\"\"}},\"name\":\"\\u003e14+\",\"r\":[0.0,0.0,0.0,0.0,0.0,0.0,0.0,0.0,0.0,0.0,0.0,0.0,0.0,0.0,0.0,0.0],\"showlegend\":true,\"subplot\":\"polar\",\"theta\":[\"N\",\"NNE\",\"NE\",\"ENE\",\"E\",\"ESE\",\"SE\",\"SSE\",\"S\",\"SSW\",\"SW\",\"WSW\",\"W\",\"WNW\",\"NW\",\"NNW\"],\"type\":\"barpolar\"}],                        {\"template\":{\"data\":{\"barpolar\":[{\"marker\":{\"line\":{\"color\":\"rgb(17,17,17)\",\"width\":0.5},\"pattern\":{\"fillmode\":\"overlay\",\"size\":10,\"solidity\":0.2}},\"type\":\"barpolar\"}],\"bar\":[{\"error_x\":{\"color\":\"#f2f5fa\"},\"error_y\":{\"color\":\"#f2f5fa\"},\"marker\":{\"line\":{\"color\":\"rgb(17,17,17)\",\"width\":0.5},\"pattern\":{\"fillmode\":\"overlay\",\"size\":10,\"solidity\":0.2}},\"type\":\"bar\"}],\"carpet\":[{\"aaxis\":{\"endlinecolor\":\"#A2B1C6\",\"gridcolor\":\"#506784\",\"linecolor\":\"#506784\",\"minorgridcolor\":\"#506784\",\"startlinecolor\":\"#A2B1C6\"},\"baxis\":{\"endlinecolor\":\"#A2B1C6\",\"gridcolor\":\"#506784\",\"linecolor\":\"#506784\",\"minorgridcolor\":\"#506784\",\"startlinecolor\":\"#A2B1C6\"},\"type\":\"carpet\"}],\"choropleth\":[{\"colorbar\":{\"outlinewidth\":0,\"ticks\":\"\"},\"type\":\"choropleth\"}],\"contourcarpet\":[{\"colorbar\":{\"outlinewidth\":0,\"ticks\":\"\"},\"type\":\"contourcarpet\"}],\"contour\":[{\"colorbar\":{\"outlinewidth\":0,\"ticks\":\"\"},\"colorscale\":[[0.0,\"#0d0887\"],[0.1111111111111111,\"#46039f\"],[0.2222222222222222,\"#7201a8\"],[0.3333333333333333,\"#9c179e\"],[0.4444444444444444,\"#bd3786\"],[0.5555555555555556,\"#d8576b\"],[0.6666666666666666,\"#ed7953\"],[0.7777777777777778,\"#fb9f3a\"],[0.8888888888888888,\"#fdca26\"],[1.0,\"#f0f921\"]],\"type\":\"contour\"}],\"heatmapgl\":[{\"colorbar\":{\"outlinewidth\":0,\"ticks\":\"\"},\"colorscale\":[[0.0,\"#0d0887\"],[0.1111111111111111,\"#46039f\"],[0.2222222222222222,\"#7201a8\"],[0.3333333333333333,\"#9c179e\"],[0.4444444444444444,\"#bd3786\"],[0.5555555555555556,\"#d8576b\"],[0.6666666666666666,\"#ed7953\"],[0.7777777777777778,\"#fb9f3a\"],[0.8888888888888888,\"#fdca26\"],[1.0,\"#f0f921\"]],\"type\":\"heatmapgl\"}],\"heatmap\":[{\"colorbar\":{\"outlinewidth\":0,\"ticks\":\"\"},\"colorscale\":[[0.0,\"#0d0887\"],[0.1111111111111111,\"#46039f\"],[0.2222222222222222,\"#7201a8\"],[0.3333333333333333,\"#9c179e\"],[0.4444444444444444,\"#bd3786\"],[0.5555555555555556,\"#d8576b\"],[0.6666666666666666,\"#ed7953\"],[0.7777777777777778,\"#fb9f3a\"],[0.8888888888888888,\"#fdca26\"],[1.0,\"#f0f921\"]],\"type\":\"heatmap\"}],\"histogram2dcontour\":[{\"colorbar\":{\"outlinewidth\":0,\"ticks\":\"\"},\"colorscale\":[[0.0,\"#0d0887\"],[0.1111111111111111,\"#46039f\"],[0.2222222222222222,\"#7201a8\"],[0.3333333333333333,\"#9c179e\"],[0.4444444444444444,\"#bd3786\"],[0.5555555555555556,\"#d8576b\"],[0.6666666666666666,\"#ed7953\"],[0.7777777777777778,\"#fb9f3a\"],[0.8888888888888888,\"#fdca26\"],[1.0,\"#f0f921\"]],\"type\":\"histogram2dcontour\"}],\"histogram2d\":[{\"colorbar\":{\"outlinewidth\":0,\"ticks\":\"\"},\"colorscale\":[[0.0,\"#0d0887\"],[0.1111111111111111,\"#46039f\"],[0.2222222222222222,\"#7201a8\"],[0.3333333333333333,\"#9c179e\"],[0.4444444444444444,\"#bd3786\"],[0.5555555555555556,\"#d8576b\"],[0.6666666666666666,\"#ed7953\"],[0.7777777777777778,\"#fb9f3a\"],[0.8888888888888888,\"#fdca26\"],[1.0,\"#f0f921\"]],\"type\":\"histogram2d\"}],\"histogram\":[{\"marker\":{\"pattern\":{\"fillmode\":\"overlay\",\"size\":10,\"solidity\":0.2}},\"type\":\"histogram\"}],\"mesh3d\":[{\"colorbar\":{\"outlinewidth\":0,\"ticks\":\"\"},\"type\":\"mesh3d\"}],\"parcoords\":[{\"line\":{\"colorbar\":{\"outlinewidth\":0,\"ticks\":\"\"}},\"type\":\"parcoords\"}],\"pie\":[{\"automargin\":true,\"type\":\"pie\"}],\"scatter3d\":[{\"line\":{\"colorbar\":{\"outlinewidth\":0,\"ticks\":\"\"}},\"marker\":{\"colorbar\":{\"outlinewidth\":0,\"ticks\":\"\"}},\"type\":\"scatter3d\"}],\"scattercarpet\":[{\"marker\":{\"colorbar\":{\"outlinewidth\":0,\"ticks\":\"\"}},\"type\":\"scattercarpet\"}],\"scattergeo\":[{\"marker\":{\"colorbar\":{\"outlinewidth\":0,\"ticks\":\"\"}},\"type\":\"scattergeo\"}],\"scattergl\":[{\"marker\":{\"line\":{\"color\":\"#283442\"}},\"type\":\"scattergl\"}],\"scattermapbox\":[{\"marker\":{\"colorbar\":{\"outlinewidth\":0,\"ticks\":\"\"}},\"type\":\"scattermapbox\"}],\"scatterpolargl\":[{\"marker\":{\"colorbar\":{\"outlinewidth\":0,\"ticks\":\"\"}},\"type\":\"scatterpolargl\"}],\"scatterpolar\":[{\"marker\":{\"colorbar\":{\"outlinewidth\":0,\"ticks\":\"\"}},\"type\":\"scatterpolar\"}],\"scatter\":[{\"marker\":{\"line\":{\"color\":\"#283442\"}},\"type\":\"scatter\"}],\"scatterternary\":[{\"marker\":{\"colorbar\":{\"outlinewidth\":0,\"ticks\":\"\"}},\"type\":\"scatterternary\"}],\"surface\":[{\"colorbar\":{\"outlinewidth\":0,\"ticks\":\"\"},\"colorscale\":[[0.0,\"#0d0887\"],[0.1111111111111111,\"#46039f\"],[0.2222222222222222,\"#7201a8\"],[0.3333333333333333,\"#9c179e\"],[0.4444444444444444,\"#bd3786\"],[0.5555555555555556,\"#d8576b\"],[0.6666666666666666,\"#ed7953\"],[0.7777777777777778,\"#fb9f3a\"],[0.8888888888888888,\"#fdca26\"],[1.0,\"#f0f921\"]],\"type\":\"surface\"}],\"table\":[{\"cells\":{\"fill\":{\"color\":\"#506784\"},\"line\":{\"color\":\"rgb(17,17,17)\"}},\"header\":{\"fill\":{\"color\":\"#2a3f5f\"},\"line\":{\"color\":\"rgb(17,17,17)\"}},\"type\":\"table\"}]},\"layout\":{\"annotationdefaults\":{\"arrowcolor\":\"#f2f5fa\",\"arrowhead\":0,\"arrowwidth\":1},\"autotypenumbers\":\"strict\",\"coloraxis\":{\"colorbar\":{\"outlinewidth\":0,\"ticks\":\"\"}},\"colorscale\":{\"diverging\":[[0,\"#8e0152\"],[0.1,\"#c51b7d\"],[0.2,\"#de77ae\"],[0.3,\"#f1b6da\"],[0.4,\"#fde0ef\"],[0.5,\"#f7f7f7\"],[0.6,\"#e6f5d0\"],[0.7,\"#b8e186\"],[0.8,\"#7fbc41\"],[0.9,\"#4d9221\"],[1,\"#276419\"]],\"sequential\":[[0.0,\"#0d0887\"],[0.1111111111111111,\"#46039f\"],[0.2222222222222222,\"#7201a8\"],[0.3333333333333333,\"#9c179e\"],[0.4444444444444444,\"#bd3786\"],[0.5555555555555556,\"#d8576b\"],[0.6666666666666666,\"#ed7953\"],[0.7777777777777778,\"#fb9f3a\"],[0.8888888888888888,\"#fdca26\"],[1.0,\"#f0f921\"]],\"sequentialminus\":[[0.0,\"#0d0887\"],[0.1111111111111111,\"#46039f\"],[0.2222222222222222,\"#7201a8\"],[0.3333333333333333,\"#9c179e\"],[0.4444444444444444,\"#bd3786\"],[0.5555555555555556,\"#d8576b\"],[0.6666666666666666,\"#ed7953\"],[0.7777777777777778,\"#fb9f3a\"],[0.8888888888888888,\"#fdca26\"],[1.0,\"#f0f921\"]]},\"colorway\":[\"#636efa\",\"#EF553B\",\"#00cc96\",\"#ab63fa\",\"#FFA15A\",\"#19d3f3\",\"#FF6692\",\"#B6E880\",\"#FF97FF\",\"#FECB52\"],\"font\":{\"color\":\"#f2f5fa\"},\"geo\":{\"bgcolor\":\"rgb(17,17,17)\",\"lakecolor\":\"rgb(17,17,17)\",\"landcolor\":\"rgb(17,17,17)\",\"showlakes\":true,\"showland\":true,\"subunitcolor\":\"#506784\"},\"hoverlabel\":{\"align\":\"left\"},\"hovermode\":\"closest\",\"mapbox\":{\"style\":\"dark\"},\"paper_bgcolor\":\"rgb(17,17,17)\",\"plot_bgcolor\":\"rgb(17,17,17)\",\"polar\":{\"angularaxis\":{\"gridcolor\":\"#506784\",\"linecolor\":\"#506784\",\"ticks\":\"\"},\"bgcolor\":\"rgb(17,17,17)\",\"radialaxis\":{\"gridcolor\":\"#506784\",\"linecolor\":\"#506784\",\"ticks\":\"\"}},\"scene\":{\"xaxis\":{\"backgroundcolor\":\"rgb(17,17,17)\",\"gridcolor\":\"#506784\",\"gridwidth\":2,\"linecolor\":\"#506784\",\"showbackground\":true,\"ticks\":\"\",\"zerolinecolor\":\"#C8D4E3\"},\"yaxis\":{\"backgroundcolor\":\"rgb(17,17,17)\",\"gridcolor\":\"#506784\",\"gridwidth\":2,\"linecolor\":\"#506784\",\"showbackground\":true,\"ticks\":\"\",\"zerolinecolor\":\"#C8D4E3\"},\"zaxis\":{\"backgroundcolor\":\"rgb(17,17,17)\",\"gridcolor\":\"#506784\",\"gridwidth\":2,\"linecolor\":\"#506784\",\"showbackground\":true,\"ticks\":\"\",\"zerolinecolor\":\"#C8D4E3\"}},\"shapedefaults\":{\"line\":{\"color\":\"#f2f5fa\"}},\"sliderdefaults\":{\"bgcolor\":\"#C8D4E3\",\"bordercolor\":\"rgb(17,17,17)\",\"borderwidth\":1,\"tickwidth\":0},\"ternary\":{\"aaxis\":{\"gridcolor\":\"#506784\",\"linecolor\":\"#506784\",\"ticks\":\"\"},\"baxis\":{\"gridcolor\":\"#506784\",\"linecolor\":\"#506784\",\"ticks\":\"\"},\"bgcolor\":\"rgb(17,17,17)\",\"caxis\":{\"gridcolor\":\"#506784\",\"linecolor\":\"#506784\",\"ticks\":\"\"}},\"title\":{\"x\":0.05},\"updatemenudefaults\":{\"bgcolor\":\"#506784\",\"borderwidth\":0},\"xaxis\":{\"automargin\":true,\"gridcolor\":\"#283442\",\"linecolor\":\"#506784\",\"ticks\":\"\",\"title\":{\"standoff\":15},\"zerolinecolor\":\"#283442\",\"zerolinewidth\":2},\"yaxis\":{\"automargin\":true,\"gridcolor\":\"#283442\",\"linecolor\":\"#506784\",\"ticks\":\"\",\"title\":{\"standoff\":15},\"zerolinecolor\":\"#283442\",\"zerolinewidth\":2}}},\"polar\":{\"domain\":{\"x\":[0.0,1.0],\"y\":[0.0,1.0]},\"angularaxis\":{\"direction\":\"clockwise\",\"rotation\":90},\"radialaxis\":{\"tickfont\":{\"size\":14},\"ticksuffix\":\"%\",\"showline\":false,\"showticklabels\":true,\"showgrid\":true,\"angle\":45,\"range\":[0,30]}},\"legend\":{\"title\":{\"text\":\"speed\"},\"tracegroupgap\":0},\"margin\":{\"t\":60},\"barnorm\":\"percent\",\"barmode\":\"relative\",\"height\":500,\"width\":800,\"font\":{\"size\":12},\"title\":{\"text\":\"Daily Avg Wind Rose at 3.8 m on SPLASH ASFS Station, 2022\"}},                        {\"responsive\": true}                    ).then(function(){\n",
       "                            \n",
       "var gd = document.getElementById('bd3d4ae2-1115-4e4d-8d4c-87a354099fe7');\n",
       "var x = new MutationObserver(function (mutations, observer) {{\n",
       "        var display = window.getComputedStyle(gd).display;\n",
       "        if (!display || display === 'none') {{\n",
       "            console.log([gd, 'removed!']);\n",
       "            Plotly.purge(gd);\n",
       "            observer.disconnect();\n",
       "        }}\n",
       "}});\n",
       "\n",
       "// Listen for the removal of the full notebook cells\n",
       "var notebookContainer = gd.closest('#notebook-container');\n",
       "if (notebookContainer) {{\n",
       "    x.observe(notebookContainer, {childList: true});\n",
       "}}\n",
       "\n",
       "// Listen for the clearing of the current output cell\n",
       "var outputEl = gd.closest('.output');\n",
       "if (outputEl) {{\n",
       "    x.observe(outputEl, {childList: true});\n",
       "}}\n",
       "\n",
       "                        })                };                });            </script>        </div>"
      ]
     },
     "metadata": {},
     "output_type": "display_data"
    }
   ],
   "source": [
    "df = w22_splash_ap_qc_ds_1H[['wspd_vec_mean','wdir_vec_mean']].to_dataframe()\n",
    "# create a windrose dataframe\n",
    "splash_windrose_df = create_windrose_df(df, wind_dir_var='wdir_vec_mean', wind_spd_var='wspd_vec_mean')\n",
    "\n",
    "# create a wind rose plot using bar_polar\n",
    "fig = px.bar_polar(splash_windrose_df, \n",
    "                   r=\"frequency\", \n",
    "                   theta=\"direction\", \n",
    "                   color=\"speed\", template=\"plotly_dark\",\n",
    "                   color_discrete_sequence= px.colors.sequential.Plasma_r,\n",
    "                   width= 800,\n",
    "                   height=500,\n",
    "                   barnorm='percent',\n",
    "                  )\n",
    "# update the radial axis to show percentages\n",
    "fig.update_layout(\n",
    "    title=\"Daily Avg Wind Rose at 3.8 m on SPLASH ASFS Station, 2022\",\n",
    "    font_size=12,\n",
    "    polar_radialaxis=dict(\n",
    "         ticksuffix='%',\n",
    "         tickfont_size=14,\n",
    "         showline=False,\n",
    "         showticklabels=True,\n",
    "         showgrid=True,\n",
    "         angle=45,\n",
    "         range=[0, 30]\n",
    "      ),\n",
    ")"
   ]
  },
  {
   "cell_type": "markdown",
   "metadata": {},
   "source": [
    "### 2023"
   ]
  },
  {
   "cell_type": "code",
   "execution_count": 56,
   "metadata": {},
   "outputs": [
    {
     "name": "stderr",
     "output_type": "stream",
     "text": [
      "The default of observed=False is deprecated and will be changed to True in a future version of pandas. Pass observed=False to retain current behavior or observed=True to adopt the future default and silence this warning.\n",
      "The default of observed=False is deprecated and will be changed to True in a future version of pandas. Pass observed=False to retain current behavior or observed=True to adopt the future default and silence this warning.\n"
     ]
    },
    {
     "data": {
      "application/vnd.plotly.v1+json": {
       "config": {
        "plotlyServerURL": "https://plot.ly"
       },
       "data": [
        {
         "hovertemplate": "speed=0-2<br>frequency=%{r}<br>direction=%{theta}<extra></extra>",
         "legendgroup": "0-2",
         "marker": {
          "color": "#f0f921",
          "pattern": {
           "shape": ""
          }
         },
         "name": "0-2",
         "r": [
          18.868894601542415,
          1.9537275064267352,
          0.9254498714652957,
          0.5655526992287918,
          0.5655526992287918,
          1.0282776349614395,
          4.5758354755784065,
          4.627249357326479,
          0.6169665809768637,
          0.20565552699228792,
          0,
          0.15424164524421594,
          0.15424164524421594,
          0.2570694087403599,
          1.0796915167095116,
          10.077120822622108
         ],
         "showlegend": true,
         "subplot": "polar",
         "theta": [
          "N",
          "NNE",
          "NE",
          "ENE",
          "E",
          "ESE",
          "SE",
          "SSE",
          "S",
          "SSW",
          "SW",
          "WSW",
          "W",
          "WNW",
          "NW",
          "NNW"
         ],
         "type": "barpolar"
        },
        {
         "hovertemplate": "speed=2-4<br>frequency=%{r}<br>direction=%{theta}<extra></extra>",
         "legendgroup": "2-4",
         "marker": {
          "color": "#fdca26",
          "pattern": {
           "shape": ""
          }
         },
         "name": "2-4",
         "r": [
          7.197943444730077,
          1.7480719794344473,
          0.30848329048843187,
          0.10282776349614396,
          0.15424164524421594,
          0.2570694087403599,
          4.473007712082262,
          8.688946015424165,
          1.1311053984575836,
          0,
          0,
          0,
          0,
          0.05141388174807198,
          2.930591259640103,
          6.683804627249358
         ],
         "showlegend": true,
         "subplot": "polar",
         "theta": [
          "N",
          "NNE",
          "NE",
          "ENE",
          "E",
          "ESE",
          "SE",
          "SSE",
          "S",
          "SSW",
          "SW",
          "WSW",
          "W",
          "WNW",
          "NW",
          "NNW"
         ],
         "type": "barpolar"
        },
        {
         "hovertemplate": "speed=4-6<br>frequency=%{r}<br>direction=%{theta}<extra></extra>",
         "legendgroup": "4-6",
         "marker": {
          "color": "#fb9f3a",
          "pattern": {
           "shape": ""
          }
         },
         "name": "4-6",
         "r": [
          2.982005141388175,
          2.673521850899743,
          0,
          0.05141388174807198,
          0,
          0,
          0.6683804627249358,
          1.5938303341902313,
          0.46272493573264784,
          0,
          0,
          0,
          0,
          0,
          2.3136246786632393,
          4.5758354755784065
         ],
         "showlegend": true,
         "subplot": "polar",
         "theta": [
          "N",
          "NNE",
          "NE",
          "ENE",
          "E",
          "ESE",
          "SE",
          "SSE",
          "S",
          "SSW",
          "SW",
          "WSW",
          "W",
          "WNW",
          "NW",
          "NNW"
         ],
         "type": "barpolar"
        },
        {
         "hovertemplate": "speed=6-8<br>frequency=%{r}<br>direction=%{theta}<extra></extra>",
         "legendgroup": "6-8",
         "marker": {
          "color": "#ed7953",
          "pattern": {
           "shape": ""
          }
         },
         "name": "6-8",
         "r": [
          0.5655526992287918,
          0.46272493573264784,
          0.05141388174807198,
          0,
          0,
          0,
          0.15424164524421594,
          0.10282776349614396,
          0.10282776349614396,
          0,
          0,
          0,
          0,
          0,
          1.0282776349614395,
          2.2622107969151672
         ],
         "showlegend": true,
         "subplot": "polar",
         "theta": [
          "N",
          "NNE",
          "NE",
          "ENE",
          "E",
          "ESE",
          "SE",
          "SSE",
          "S",
          "SSW",
          "SW",
          "WSW",
          "W",
          "WNW",
          "NW",
          "NNW"
         ],
         "type": "barpolar"
        },
        {
         "hovertemplate": "speed=8-10<br>frequency=%{r}<br>direction=%{theta}<extra></extra>",
         "legendgroup": "8-10",
         "marker": {
          "color": "#d8576b",
          "pattern": {
           "shape": ""
          }
         },
         "name": "8-10",
         "r": [
          0,
          0.05141388174807198,
          0,
          0,
          0,
          0,
          0,
          0,
          0,
          0,
          0,
          0,
          0,
          0,
          0,
          0.20565552699228792
         ],
         "showlegend": true,
         "subplot": "polar",
         "theta": [
          "N",
          "NNE",
          "NE",
          "ENE",
          "E",
          "ESE",
          "SE",
          "SSE",
          "S",
          "SSW",
          "SW",
          "WSW",
          "W",
          "WNW",
          "NW",
          "NNW"
         ],
         "type": "barpolar"
        },
        {
         "hovertemplate": "speed=10-12<br>frequency=%{r}<br>direction=%{theta}<extra></extra>",
         "legendgroup": "10-12",
         "marker": {
          "color": "#bd3786",
          "pattern": {
           "shape": ""
          }
         },
         "name": "10-12",
         "r": [
          0,
          0,
          0,
          0,
          0,
          0,
          0,
          0,
          0,
          0,
          0,
          0,
          0,
          0,
          0,
          0.05141388174807198
         ],
         "showlegend": true,
         "subplot": "polar",
         "theta": [
          "N",
          "NNE",
          "NE",
          "ENE",
          "E",
          "ESE",
          "SE",
          "SSE",
          "S",
          "SSW",
          "SW",
          "WSW",
          "W",
          "WNW",
          "NW",
          "NNW"
         ],
         "type": "barpolar"
        },
        {
         "hovertemplate": "speed=12-14<br>frequency=%{r}<br>direction=%{theta}<extra></extra>",
         "legendgroup": "12-14",
         "marker": {
          "color": "#9c179e",
          "pattern": {
           "shape": ""
          }
         },
         "name": "12-14",
         "r": [
          0,
          0,
          0,
          0,
          0,
          0,
          0,
          0,
          0,
          0,
          0,
          0,
          0,
          0,
          0,
          0.20565552699228792
         ],
         "showlegend": true,
         "subplot": "polar",
         "theta": [
          "N",
          "NNE",
          "NE",
          "ENE",
          "E",
          "ESE",
          "SE",
          "SSE",
          "S",
          "SSW",
          "SW",
          "WSW",
          "W",
          "WNW",
          "NW",
          "NNW"
         ],
         "type": "barpolar"
        },
        {
         "hovertemplate": "speed=>14+<br>frequency=%{r}<br>direction=%{theta}<extra></extra>",
         "legendgroup": ">14+",
         "marker": {
          "color": "#7201a8",
          "pattern": {
           "shape": ""
          }
         },
         "name": ">14+",
         "r": [
          0,
          0,
          0,
          0,
          0,
          0,
          0,
          0,
          0,
          0,
          0,
          0,
          0,
          0,
          0,
          0.05141388174807198
         ],
         "showlegend": true,
         "subplot": "polar",
         "theta": [
          "N",
          "NNE",
          "NE",
          "ENE",
          "E",
          "ESE",
          "SE",
          "SSE",
          "S",
          "SSW",
          "SW",
          "WSW",
          "W",
          "WNW",
          "NW",
          "NNW"
         ],
         "type": "barpolar"
        }
       ],
       "layout": {
        "barmode": "relative",
        "barnorm": "percent",
        "font": {
         "size": 12
        },
        "height": 500,
        "legend": {
         "title": {
          "text": "speed"
         },
         "tracegroupgap": 0
        },
        "margin": {
         "t": 60
        },
        "polar": {
         "angularaxis": {
          "direction": "clockwise",
          "rotation": 90
         },
         "domain": {
          "x": [
           0,
           1
          ],
          "y": [
           0,
           1
          ]
         },
         "radialaxis": {
          "angle": 45,
          "range": [
           0,
           30
          ],
          "showgrid": true,
          "showline": false,
          "showticklabels": true,
          "tickfont": {
           "size": 14
          },
          "ticksuffix": "%"
         }
        },
        "template": {
         "data": {
          "bar": [
           {
            "error_x": {
             "color": "#f2f5fa"
            },
            "error_y": {
             "color": "#f2f5fa"
            },
            "marker": {
             "line": {
              "color": "rgb(17,17,17)",
              "width": 0.5
             },
             "pattern": {
              "fillmode": "overlay",
              "size": 10,
              "solidity": 0.2
             }
            },
            "type": "bar"
           }
          ],
          "barpolar": [
           {
            "marker": {
             "line": {
              "color": "rgb(17,17,17)",
              "width": 0.5
             },
             "pattern": {
              "fillmode": "overlay",
              "size": 10,
              "solidity": 0.2
             }
            },
            "type": "barpolar"
           }
          ],
          "carpet": [
           {
            "aaxis": {
             "endlinecolor": "#A2B1C6",
             "gridcolor": "#506784",
             "linecolor": "#506784",
             "minorgridcolor": "#506784",
             "startlinecolor": "#A2B1C6"
            },
            "baxis": {
             "endlinecolor": "#A2B1C6",
             "gridcolor": "#506784",
             "linecolor": "#506784",
             "minorgridcolor": "#506784",
             "startlinecolor": "#A2B1C6"
            },
            "type": "carpet"
           }
          ],
          "choropleth": [
           {
            "colorbar": {
             "outlinewidth": 0,
             "ticks": ""
            },
            "type": "choropleth"
           }
          ],
          "contour": [
           {
            "colorbar": {
             "outlinewidth": 0,
             "ticks": ""
            },
            "colorscale": [
             [
              0,
              "#0d0887"
             ],
             [
              0.1111111111111111,
              "#46039f"
             ],
             [
              0.2222222222222222,
              "#7201a8"
             ],
             [
              0.3333333333333333,
              "#9c179e"
             ],
             [
              0.4444444444444444,
              "#bd3786"
             ],
             [
              0.5555555555555556,
              "#d8576b"
             ],
             [
              0.6666666666666666,
              "#ed7953"
             ],
             [
              0.7777777777777778,
              "#fb9f3a"
             ],
             [
              0.8888888888888888,
              "#fdca26"
             ],
             [
              1,
              "#f0f921"
             ]
            ],
            "type": "contour"
           }
          ],
          "contourcarpet": [
           {
            "colorbar": {
             "outlinewidth": 0,
             "ticks": ""
            },
            "type": "contourcarpet"
           }
          ],
          "heatmap": [
           {
            "colorbar": {
             "outlinewidth": 0,
             "ticks": ""
            },
            "colorscale": [
             [
              0,
              "#0d0887"
             ],
             [
              0.1111111111111111,
              "#46039f"
             ],
             [
              0.2222222222222222,
              "#7201a8"
             ],
             [
              0.3333333333333333,
              "#9c179e"
             ],
             [
              0.4444444444444444,
              "#bd3786"
             ],
             [
              0.5555555555555556,
              "#d8576b"
             ],
             [
              0.6666666666666666,
              "#ed7953"
             ],
             [
              0.7777777777777778,
              "#fb9f3a"
             ],
             [
              0.8888888888888888,
              "#fdca26"
             ],
             [
              1,
              "#f0f921"
             ]
            ],
            "type": "heatmap"
           }
          ],
          "heatmapgl": [
           {
            "colorbar": {
             "outlinewidth": 0,
             "ticks": ""
            },
            "colorscale": [
             [
              0,
              "#0d0887"
             ],
             [
              0.1111111111111111,
              "#46039f"
             ],
             [
              0.2222222222222222,
              "#7201a8"
             ],
             [
              0.3333333333333333,
              "#9c179e"
             ],
             [
              0.4444444444444444,
              "#bd3786"
             ],
             [
              0.5555555555555556,
              "#d8576b"
             ],
             [
              0.6666666666666666,
              "#ed7953"
             ],
             [
              0.7777777777777778,
              "#fb9f3a"
             ],
             [
              0.8888888888888888,
              "#fdca26"
             ],
             [
              1,
              "#f0f921"
             ]
            ],
            "type": "heatmapgl"
           }
          ],
          "histogram": [
           {
            "marker": {
             "pattern": {
              "fillmode": "overlay",
              "size": 10,
              "solidity": 0.2
             }
            },
            "type": "histogram"
           }
          ],
          "histogram2d": [
           {
            "colorbar": {
             "outlinewidth": 0,
             "ticks": ""
            },
            "colorscale": [
             [
              0,
              "#0d0887"
             ],
             [
              0.1111111111111111,
              "#46039f"
             ],
             [
              0.2222222222222222,
              "#7201a8"
             ],
             [
              0.3333333333333333,
              "#9c179e"
             ],
             [
              0.4444444444444444,
              "#bd3786"
             ],
             [
              0.5555555555555556,
              "#d8576b"
             ],
             [
              0.6666666666666666,
              "#ed7953"
             ],
             [
              0.7777777777777778,
              "#fb9f3a"
             ],
             [
              0.8888888888888888,
              "#fdca26"
             ],
             [
              1,
              "#f0f921"
             ]
            ],
            "type": "histogram2d"
           }
          ],
          "histogram2dcontour": [
           {
            "colorbar": {
             "outlinewidth": 0,
             "ticks": ""
            },
            "colorscale": [
             [
              0,
              "#0d0887"
             ],
             [
              0.1111111111111111,
              "#46039f"
             ],
             [
              0.2222222222222222,
              "#7201a8"
             ],
             [
              0.3333333333333333,
              "#9c179e"
             ],
             [
              0.4444444444444444,
              "#bd3786"
             ],
             [
              0.5555555555555556,
              "#d8576b"
             ],
             [
              0.6666666666666666,
              "#ed7953"
             ],
             [
              0.7777777777777778,
              "#fb9f3a"
             ],
             [
              0.8888888888888888,
              "#fdca26"
             ],
             [
              1,
              "#f0f921"
             ]
            ],
            "type": "histogram2dcontour"
           }
          ],
          "mesh3d": [
           {
            "colorbar": {
             "outlinewidth": 0,
             "ticks": ""
            },
            "type": "mesh3d"
           }
          ],
          "parcoords": [
           {
            "line": {
             "colorbar": {
              "outlinewidth": 0,
              "ticks": ""
             }
            },
            "type": "parcoords"
           }
          ],
          "pie": [
           {
            "automargin": true,
            "type": "pie"
           }
          ],
          "scatter": [
           {
            "marker": {
             "line": {
              "color": "#283442"
             }
            },
            "type": "scatter"
           }
          ],
          "scatter3d": [
           {
            "line": {
             "colorbar": {
              "outlinewidth": 0,
              "ticks": ""
             }
            },
            "marker": {
             "colorbar": {
              "outlinewidth": 0,
              "ticks": ""
             }
            },
            "type": "scatter3d"
           }
          ],
          "scattercarpet": [
           {
            "marker": {
             "colorbar": {
              "outlinewidth": 0,
              "ticks": ""
             }
            },
            "type": "scattercarpet"
           }
          ],
          "scattergeo": [
           {
            "marker": {
             "colorbar": {
              "outlinewidth": 0,
              "ticks": ""
             }
            },
            "type": "scattergeo"
           }
          ],
          "scattergl": [
           {
            "marker": {
             "line": {
              "color": "#283442"
             }
            },
            "type": "scattergl"
           }
          ],
          "scattermapbox": [
           {
            "marker": {
             "colorbar": {
              "outlinewidth": 0,
              "ticks": ""
             }
            },
            "type": "scattermapbox"
           }
          ],
          "scatterpolar": [
           {
            "marker": {
             "colorbar": {
              "outlinewidth": 0,
              "ticks": ""
             }
            },
            "type": "scatterpolar"
           }
          ],
          "scatterpolargl": [
           {
            "marker": {
             "colorbar": {
              "outlinewidth": 0,
              "ticks": ""
             }
            },
            "type": "scatterpolargl"
           }
          ],
          "scatterternary": [
           {
            "marker": {
             "colorbar": {
              "outlinewidth": 0,
              "ticks": ""
             }
            },
            "type": "scatterternary"
           }
          ],
          "surface": [
           {
            "colorbar": {
             "outlinewidth": 0,
             "ticks": ""
            },
            "colorscale": [
             [
              0,
              "#0d0887"
             ],
             [
              0.1111111111111111,
              "#46039f"
             ],
             [
              0.2222222222222222,
              "#7201a8"
             ],
             [
              0.3333333333333333,
              "#9c179e"
             ],
             [
              0.4444444444444444,
              "#bd3786"
             ],
             [
              0.5555555555555556,
              "#d8576b"
             ],
             [
              0.6666666666666666,
              "#ed7953"
             ],
             [
              0.7777777777777778,
              "#fb9f3a"
             ],
             [
              0.8888888888888888,
              "#fdca26"
             ],
             [
              1,
              "#f0f921"
             ]
            ],
            "type": "surface"
           }
          ],
          "table": [
           {
            "cells": {
             "fill": {
              "color": "#506784"
             },
             "line": {
              "color": "rgb(17,17,17)"
             }
            },
            "header": {
             "fill": {
              "color": "#2a3f5f"
             },
             "line": {
              "color": "rgb(17,17,17)"
             }
            },
            "type": "table"
           }
          ]
         },
         "layout": {
          "annotationdefaults": {
           "arrowcolor": "#f2f5fa",
           "arrowhead": 0,
           "arrowwidth": 1
          },
          "autotypenumbers": "strict",
          "coloraxis": {
           "colorbar": {
            "outlinewidth": 0,
            "ticks": ""
           }
          },
          "colorscale": {
           "diverging": [
            [
             0,
             "#8e0152"
            ],
            [
             0.1,
             "#c51b7d"
            ],
            [
             0.2,
             "#de77ae"
            ],
            [
             0.3,
             "#f1b6da"
            ],
            [
             0.4,
             "#fde0ef"
            ],
            [
             0.5,
             "#f7f7f7"
            ],
            [
             0.6,
             "#e6f5d0"
            ],
            [
             0.7,
             "#b8e186"
            ],
            [
             0.8,
             "#7fbc41"
            ],
            [
             0.9,
             "#4d9221"
            ],
            [
             1,
             "#276419"
            ]
           ],
           "sequential": [
            [
             0,
             "#0d0887"
            ],
            [
             0.1111111111111111,
             "#46039f"
            ],
            [
             0.2222222222222222,
             "#7201a8"
            ],
            [
             0.3333333333333333,
             "#9c179e"
            ],
            [
             0.4444444444444444,
             "#bd3786"
            ],
            [
             0.5555555555555556,
             "#d8576b"
            ],
            [
             0.6666666666666666,
             "#ed7953"
            ],
            [
             0.7777777777777778,
             "#fb9f3a"
            ],
            [
             0.8888888888888888,
             "#fdca26"
            ],
            [
             1,
             "#f0f921"
            ]
           ],
           "sequentialminus": [
            [
             0,
             "#0d0887"
            ],
            [
             0.1111111111111111,
             "#46039f"
            ],
            [
             0.2222222222222222,
             "#7201a8"
            ],
            [
             0.3333333333333333,
             "#9c179e"
            ],
            [
             0.4444444444444444,
             "#bd3786"
            ],
            [
             0.5555555555555556,
             "#d8576b"
            ],
            [
             0.6666666666666666,
             "#ed7953"
            ],
            [
             0.7777777777777778,
             "#fb9f3a"
            ],
            [
             0.8888888888888888,
             "#fdca26"
            ],
            [
             1,
             "#f0f921"
            ]
           ]
          },
          "colorway": [
           "#636efa",
           "#EF553B",
           "#00cc96",
           "#ab63fa",
           "#FFA15A",
           "#19d3f3",
           "#FF6692",
           "#B6E880",
           "#FF97FF",
           "#FECB52"
          ],
          "font": {
           "color": "#f2f5fa"
          },
          "geo": {
           "bgcolor": "rgb(17,17,17)",
           "lakecolor": "rgb(17,17,17)",
           "landcolor": "rgb(17,17,17)",
           "showlakes": true,
           "showland": true,
           "subunitcolor": "#506784"
          },
          "hoverlabel": {
           "align": "left"
          },
          "hovermode": "closest",
          "mapbox": {
           "style": "dark"
          },
          "paper_bgcolor": "rgb(17,17,17)",
          "plot_bgcolor": "rgb(17,17,17)",
          "polar": {
           "angularaxis": {
            "gridcolor": "#506784",
            "linecolor": "#506784",
            "ticks": ""
           },
           "bgcolor": "rgb(17,17,17)",
           "radialaxis": {
            "gridcolor": "#506784",
            "linecolor": "#506784",
            "ticks": ""
           }
          },
          "scene": {
           "xaxis": {
            "backgroundcolor": "rgb(17,17,17)",
            "gridcolor": "#506784",
            "gridwidth": 2,
            "linecolor": "#506784",
            "showbackground": true,
            "ticks": "",
            "zerolinecolor": "#C8D4E3"
           },
           "yaxis": {
            "backgroundcolor": "rgb(17,17,17)",
            "gridcolor": "#506784",
            "gridwidth": 2,
            "linecolor": "#506784",
            "showbackground": true,
            "ticks": "",
            "zerolinecolor": "#C8D4E3"
           },
           "zaxis": {
            "backgroundcolor": "rgb(17,17,17)",
            "gridcolor": "#506784",
            "gridwidth": 2,
            "linecolor": "#506784",
            "showbackground": true,
            "ticks": "",
            "zerolinecolor": "#C8D4E3"
           }
          },
          "shapedefaults": {
           "line": {
            "color": "#f2f5fa"
           }
          },
          "sliderdefaults": {
           "bgcolor": "#C8D4E3",
           "bordercolor": "rgb(17,17,17)",
           "borderwidth": 1,
           "tickwidth": 0
          },
          "ternary": {
           "aaxis": {
            "gridcolor": "#506784",
            "linecolor": "#506784",
            "ticks": ""
           },
           "baxis": {
            "gridcolor": "#506784",
            "linecolor": "#506784",
            "ticks": ""
           },
           "bgcolor": "rgb(17,17,17)",
           "caxis": {
            "gridcolor": "#506784",
            "linecolor": "#506784",
            "ticks": ""
           }
          },
          "title": {
           "x": 0.05
          },
          "updatemenudefaults": {
           "bgcolor": "#506784",
           "borderwidth": 0
          },
          "xaxis": {
           "automargin": true,
           "gridcolor": "#283442",
           "linecolor": "#506784",
           "ticks": "",
           "title": {
            "standoff": 15
           },
           "zerolinecolor": "#283442",
           "zerolinewidth": 2
          },
          "yaxis": {
           "automargin": true,
           "gridcolor": "#283442",
           "linecolor": "#506784",
           "ticks": "",
           "title": {
            "standoff": 15
           },
           "zerolinecolor": "#283442",
           "zerolinewidth": 2
          }
         }
        },
        "title": {
         "text": "Daily Avg Wind Rose at 3.8 m on SPLASH ASFS Station, 2023"
        },
        "width": 800
       }
      },
      "text/html": [
       "<div>                            <div id=\"c8cc99af-0877-45f6-95d7-9d401bfae8c1\" class=\"plotly-graph-div\" style=\"height:500px; width:800px;\"></div>            <script type=\"text/javascript\">                require([\"plotly\"], function(Plotly) {                    window.PLOTLYENV=window.PLOTLYENV || {};                                    if (document.getElementById(\"c8cc99af-0877-45f6-95d7-9d401bfae8c1\")) {                    Plotly.newPlot(                        \"c8cc99af-0877-45f6-95d7-9d401bfae8c1\",                        [{\"hovertemplate\":\"speed=0-2\\u003cbr\\u003efrequency=%{r}\\u003cbr\\u003edirection=%{theta}\\u003cextra\\u003e\\u003c\\u002fextra\\u003e\",\"legendgroup\":\"0-2\",\"marker\":{\"color\":\"#f0f921\",\"pattern\":{\"shape\":\"\"}},\"name\":\"0-2\",\"r\":[18.868894601542415,1.9537275064267352,0.9254498714652957,0.5655526992287918,0.5655526992287918,1.0282776349614395,4.5758354755784065,4.627249357326479,0.6169665809768637,0.20565552699228792,0.0,0.15424164524421594,0.15424164524421594,0.2570694087403599,1.0796915167095116,10.077120822622108],\"showlegend\":true,\"subplot\":\"polar\",\"theta\":[\"N\",\"NNE\",\"NE\",\"ENE\",\"E\",\"ESE\",\"SE\",\"SSE\",\"S\",\"SSW\",\"SW\",\"WSW\",\"W\",\"WNW\",\"NW\",\"NNW\"],\"type\":\"barpolar\"},{\"hovertemplate\":\"speed=2-4\\u003cbr\\u003efrequency=%{r}\\u003cbr\\u003edirection=%{theta}\\u003cextra\\u003e\\u003c\\u002fextra\\u003e\",\"legendgroup\":\"2-4\",\"marker\":{\"color\":\"#fdca26\",\"pattern\":{\"shape\":\"\"}},\"name\":\"2-4\",\"r\":[7.197943444730077,1.7480719794344473,0.30848329048843187,0.10282776349614396,0.15424164524421594,0.2570694087403599,4.473007712082262,8.688946015424165,1.1311053984575836,0.0,0.0,0.0,0.0,0.05141388174807198,2.930591259640103,6.683804627249358],\"showlegend\":true,\"subplot\":\"polar\",\"theta\":[\"N\",\"NNE\",\"NE\",\"ENE\",\"E\",\"ESE\",\"SE\",\"SSE\",\"S\",\"SSW\",\"SW\",\"WSW\",\"W\",\"WNW\",\"NW\",\"NNW\"],\"type\":\"barpolar\"},{\"hovertemplate\":\"speed=4-6\\u003cbr\\u003efrequency=%{r}\\u003cbr\\u003edirection=%{theta}\\u003cextra\\u003e\\u003c\\u002fextra\\u003e\",\"legendgroup\":\"4-6\",\"marker\":{\"color\":\"#fb9f3a\",\"pattern\":{\"shape\":\"\"}},\"name\":\"4-6\",\"r\":[2.982005141388175,2.673521850899743,0.0,0.05141388174807198,0.0,0.0,0.6683804627249358,1.5938303341902313,0.46272493573264784,0.0,0.0,0.0,0.0,0.0,2.3136246786632393,4.5758354755784065],\"showlegend\":true,\"subplot\":\"polar\",\"theta\":[\"N\",\"NNE\",\"NE\",\"ENE\",\"E\",\"ESE\",\"SE\",\"SSE\",\"S\",\"SSW\",\"SW\",\"WSW\",\"W\",\"WNW\",\"NW\",\"NNW\"],\"type\":\"barpolar\"},{\"hovertemplate\":\"speed=6-8\\u003cbr\\u003efrequency=%{r}\\u003cbr\\u003edirection=%{theta}\\u003cextra\\u003e\\u003c\\u002fextra\\u003e\",\"legendgroup\":\"6-8\",\"marker\":{\"color\":\"#ed7953\",\"pattern\":{\"shape\":\"\"}},\"name\":\"6-8\",\"r\":[0.5655526992287918,0.46272493573264784,0.05141388174807198,0.0,0.0,0.0,0.15424164524421594,0.10282776349614396,0.10282776349614396,0.0,0.0,0.0,0.0,0.0,1.0282776349614395,2.2622107969151672],\"showlegend\":true,\"subplot\":\"polar\",\"theta\":[\"N\",\"NNE\",\"NE\",\"ENE\",\"E\",\"ESE\",\"SE\",\"SSE\",\"S\",\"SSW\",\"SW\",\"WSW\",\"W\",\"WNW\",\"NW\",\"NNW\"],\"type\":\"barpolar\"},{\"hovertemplate\":\"speed=8-10\\u003cbr\\u003efrequency=%{r}\\u003cbr\\u003edirection=%{theta}\\u003cextra\\u003e\\u003c\\u002fextra\\u003e\",\"legendgroup\":\"8-10\",\"marker\":{\"color\":\"#d8576b\",\"pattern\":{\"shape\":\"\"}},\"name\":\"8-10\",\"r\":[0.0,0.05141388174807198,0.0,0.0,0.0,0.0,0.0,0.0,0.0,0.0,0.0,0.0,0.0,0.0,0.0,0.20565552699228792],\"showlegend\":true,\"subplot\":\"polar\",\"theta\":[\"N\",\"NNE\",\"NE\",\"ENE\",\"E\",\"ESE\",\"SE\",\"SSE\",\"S\",\"SSW\",\"SW\",\"WSW\",\"W\",\"WNW\",\"NW\",\"NNW\"],\"type\":\"barpolar\"},{\"hovertemplate\":\"speed=10-12\\u003cbr\\u003efrequency=%{r}\\u003cbr\\u003edirection=%{theta}\\u003cextra\\u003e\\u003c\\u002fextra\\u003e\",\"legendgroup\":\"10-12\",\"marker\":{\"color\":\"#bd3786\",\"pattern\":{\"shape\":\"\"}},\"name\":\"10-12\",\"r\":[0.0,0.0,0.0,0.0,0.0,0.0,0.0,0.0,0.0,0.0,0.0,0.0,0.0,0.0,0.0,0.05141388174807198],\"showlegend\":true,\"subplot\":\"polar\",\"theta\":[\"N\",\"NNE\",\"NE\",\"ENE\",\"E\",\"ESE\",\"SE\",\"SSE\",\"S\",\"SSW\",\"SW\",\"WSW\",\"W\",\"WNW\",\"NW\",\"NNW\"],\"type\":\"barpolar\"},{\"hovertemplate\":\"speed=12-14\\u003cbr\\u003efrequency=%{r}\\u003cbr\\u003edirection=%{theta}\\u003cextra\\u003e\\u003c\\u002fextra\\u003e\",\"legendgroup\":\"12-14\",\"marker\":{\"color\":\"#9c179e\",\"pattern\":{\"shape\":\"\"}},\"name\":\"12-14\",\"r\":[0.0,0.0,0.0,0.0,0.0,0.0,0.0,0.0,0.0,0.0,0.0,0.0,0.0,0.0,0.0,0.20565552699228792],\"showlegend\":true,\"subplot\":\"polar\",\"theta\":[\"N\",\"NNE\",\"NE\",\"ENE\",\"E\",\"ESE\",\"SE\",\"SSE\",\"S\",\"SSW\",\"SW\",\"WSW\",\"W\",\"WNW\",\"NW\",\"NNW\"],\"type\":\"barpolar\"},{\"hovertemplate\":\"speed=\\u003e14+\\u003cbr\\u003efrequency=%{r}\\u003cbr\\u003edirection=%{theta}\\u003cextra\\u003e\\u003c\\u002fextra\\u003e\",\"legendgroup\":\"\\u003e14+\",\"marker\":{\"color\":\"#7201a8\",\"pattern\":{\"shape\":\"\"}},\"name\":\"\\u003e14+\",\"r\":[0.0,0.0,0.0,0.0,0.0,0.0,0.0,0.0,0.0,0.0,0.0,0.0,0.0,0.0,0.0,0.05141388174807198],\"showlegend\":true,\"subplot\":\"polar\",\"theta\":[\"N\",\"NNE\",\"NE\",\"ENE\",\"E\",\"ESE\",\"SE\",\"SSE\",\"S\",\"SSW\",\"SW\",\"WSW\",\"W\",\"WNW\",\"NW\",\"NNW\"],\"type\":\"barpolar\"}],                        {\"template\":{\"data\":{\"barpolar\":[{\"marker\":{\"line\":{\"color\":\"rgb(17,17,17)\",\"width\":0.5},\"pattern\":{\"fillmode\":\"overlay\",\"size\":10,\"solidity\":0.2}},\"type\":\"barpolar\"}],\"bar\":[{\"error_x\":{\"color\":\"#f2f5fa\"},\"error_y\":{\"color\":\"#f2f5fa\"},\"marker\":{\"line\":{\"color\":\"rgb(17,17,17)\",\"width\":0.5},\"pattern\":{\"fillmode\":\"overlay\",\"size\":10,\"solidity\":0.2}},\"type\":\"bar\"}],\"carpet\":[{\"aaxis\":{\"endlinecolor\":\"#A2B1C6\",\"gridcolor\":\"#506784\",\"linecolor\":\"#506784\",\"minorgridcolor\":\"#506784\",\"startlinecolor\":\"#A2B1C6\"},\"baxis\":{\"endlinecolor\":\"#A2B1C6\",\"gridcolor\":\"#506784\",\"linecolor\":\"#506784\",\"minorgridcolor\":\"#506784\",\"startlinecolor\":\"#A2B1C6\"},\"type\":\"carpet\"}],\"choropleth\":[{\"colorbar\":{\"outlinewidth\":0,\"ticks\":\"\"},\"type\":\"choropleth\"}],\"contourcarpet\":[{\"colorbar\":{\"outlinewidth\":0,\"ticks\":\"\"},\"type\":\"contourcarpet\"}],\"contour\":[{\"colorbar\":{\"outlinewidth\":0,\"ticks\":\"\"},\"colorscale\":[[0.0,\"#0d0887\"],[0.1111111111111111,\"#46039f\"],[0.2222222222222222,\"#7201a8\"],[0.3333333333333333,\"#9c179e\"],[0.4444444444444444,\"#bd3786\"],[0.5555555555555556,\"#d8576b\"],[0.6666666666666666,\"#ed7953\"],[0.7777777777777778,\"#fb9f3a\"],[0.8888888888888888,\"#fdca26\"],[1.0,\"#f0f921\"]],\"type\":\"contour\"}],\"heatmapgl\":[{\"colorbar\":{\"outlinewidth\":0,\"ticks\":\"\"},\"colorscale\":[[0.0,\"#0d0887\"],[0.1111111111111111,\"#46039f\"],[0.2222222222222222,\"#7201a8\"],[0.3333333333333333,\"#9c179e\"],[0.4444444444444444,\"#bd3786\"],[0.5555555555555556,\"#d8576b\"],[0.6666666666666666,\"#ed7953\"],[0.7777777777777778,\"#fb9f3a\"],[0.8888888888888888,\"#fdca26\"],[1.0,\"#f0f921\"]],\"type\":\"heatmapgl\"}],\"heatmap\":[{\"colorbar\":{\"outlinewidth\":0,\"ticks\":\"\"},\"colorscale\":[[0.0,\"#0d0887\"],[0.1111111111111111,\"#46039f\"],[0.2222222222222222,\"#7201a8\"],[0.3333333333333333,\"#9c179e\"],[0.4444444444444444,\"#bd3786\"],[0.5555555555555556,\"#d8576b\"],[0.6666666666666666,\"#ed7953\"],[0.7777777777777778,\"#fb9f3a\"],[0.8888888888888888,\"#fdca26\"],[1.0,\"#f0f921\"]],\"type\":\"heatmap\"}],\"histogram2dcontour\":[{\"colorbar\":{\"outlinewidth\":0,\"ticks\":\"\"},\"colorscale\":[[0.0,\"#0d0887\"],[0.1111111111111111,\"#46039f\"],[0.2222222222222222,\"#7201a8\"],[0.3333333333333333,\"#9c179e\"],[0.4444444444444444,\"#bd3786\"],[0.5555555555555556,\"#d8576b\"],[0.6666666666666666,\"#ed7953\"],[0.7777777777777778,\"#fb9f3a\"],[0.8888888888888888,\"#fdca26\"],[1.0,\"#f0f921\"]],\"type\":\"histogram2dcontour\"}],\"histogram2d\":[{\"colorbar\":{\"outlinewidth\":0,\"ticks\":\"\"},\"colorscale\":[[0.0,\"#0d0887\"],[0.1111111111111111,\"#46039f\"],[0.2222222222222222,\"#7201a8\"],[0.3333333333333333,\"#9c179e\"],[0.4444444444444444,\"#bd3786\"],[0.5555555555555556,\"#d8576b\"],[0.6666666666666666,\"#ed7953\"],[0.7777777777777778,\"#fb9f3a\"],[0.8888888888888888,\"#fdca26\"],[1.0,\"#f0f921\"]],\"type\":\"histogram2d\"}],\"histogram\":[{\"marker\":{\"pattern\":{\"fillmode\":\"overlay\",\"size\":10,\"solidity\":0.2}},\"type\":\"histogram\"}],\"mesh3d\":[{\"colorbar\":{\"outlinewidth\":0,\"ticks\":\"\"},\"type\":\"mesh3d\"}],\"parcoords\":[{\"line\":{\"colorbar\":{\"outlinewidth\":0,\"ticks\":\"\"}},\"type\":\"parcoords\"}],\"pie\":[{\"automargin\":true,\"type\":\"pie\"}],\"scatter3d\":[{\"line\":{\"colorbar\":{\"outlinewidth\":0,\"ticks\":\"\"}},\"marker\":{\"colorbar\":{\"outlinewidth\":0,\"ticks\":\"\"}},\"type\":\"scatter3d\"}],\"scattercarpet\":[{\"marker\":{\"colorbar\":{\"outlinewidth\":0,\"ticks\":\"\"}},\"type\":\"scattercarpet\"}],\"scattergeo\":[{\"marker\":{\"colorbar\":{\"outlinewidth\":0,\"ticks\":\"\"}},\"type\":\"scattergeo\"}],\"scattergl\":[{\"marker\":{\"line\":{\"color\":\"#283442\"}},\"type\":\"scattergl\"}],\"scattermapbox\":[{\"marker\":{\"colorbar\":{\"outlinewidth\":0,\"ticks\":\"\"}},\"type\":\"scattermapbox\"}],\"scatterpolargl\":[{\"marker\":{\"colorbar\":{\"outlinewidth\":0,\"ticks\":\"\"}},\"type\":\"scatterpolargl\"}],\"scatterpolar\":[{\"marker\":{\"colorbar\":{\"outlinewidth\":0,\"ticks\":\"\"}},\"type\":\"scatterpolar\"}],\"scatter\":[{\"marker\":{\"line\":{\"color\":\"#283442\"}},\"type\":\"scatter\"}],\"scatterternary\":[{\"marker\":{\"colorbar\":{\"outlinewidth\":0,\"ticks\":\"\"}},\"type\":\"scatterternary\"}],\"surface\":[{\"colorbar\":{\"outlinewidth\":0,\"ticks\":\"\"},\"colorscale\":[[0.0,\"#0d0887\"],[0.1111111111111111,\"#46039f\"],[0.2222222222222222,\"#7201a8\"],[0.3333333333333333,\"#9c179e\"],[0.4444444444444444,\"#bd3786\"],[0.5555555555555556,\"#d8576b\"],[0.6666666666666666,\"#ed7953\"],[0.7777777777777778,\"#fb9f3a\"],[0.8888888888888888,\"#fdca26\"],[1.0,\"#f0f921\"]],\"type\":\"surface\"}],\"table\":[{\"cells\":{\"fill\":{\"color\":\"#506784\"},\"line\":{\"color\":\"rgb(17,17,17)\"}},\"header\":{\"fill\":{\"color\":\"#2a3f5f\"},\"line\":{\"color\":\"rgb(17,17,17)\"}},\"type\":\"table\"}]},\"layout\":{\"annotationdefaults\":{\"arrowcolor\":\"#f2f5fa\",\"arrowhead\":0,\"arrowwidth\":1},\"autotypenumbers\":\"strict\",\"coloraxis\":{\"colorbar\":{\"outlinewidth\":0,\"ticks\":\"\"}},\"colorscale\":{\"diverging\":[[0,\"#8e0152\"],[0.1,\"#c51b7d\"],[0.2,\"#de77ae\"],[0.3,\"#f1b6da\"],[0.4,\"#fde0ef\"],[0.5,\"#f7f7f7\"],[0.6,\"#e6f5d0\"],[0.7,\"#b8e186\"],[0.8,\"#7fbc41\"],[0.9,\"#4d9221\"],[1,\"#276419\"]],\"sequential\":[[0.0,\"#0d0887\"],[0.1111111111111111,\"#46039f\"],[0.2222222222222222,\"#7201a8\"],[0.3333333333333333,\"#9c179e\"],[0.4444444444444444,\"#bd3786\"],[0.5555555555555556,\"#d8576b\"],[0.6666666666666666,\"#ed7953\"],[0.7777777777777778,\"#fb9f3a\"],[0.8888888888888888,\"#fdca26\"],[1.0,\"#f0f921\"]],\"sequentialminus\":[[0.0,\"#0d0887\"],[0.1111111111111111,\"#46039f\"],[0.2222222222222222,\"#7201a8\"],[0.3333333333333333,\"#9c179e\"],[0.4444444444444444,\"#bd3786\"],[0.5555555555555556,\"#d8576b\"],[0.6666666666666666,\"#ed7953\"],[0.7777777777777778,\"#fb9f3a\"],[0.8888888888888888,\"#fdca26\"],[1.0,\"#f0f921\"]]},\"colorway\":[\"#636efa\",\"#EF553B\",\"#00cc96\",\"#ab63fa\",\"#FFA15A\",\"#19d3f3\",\"#FF6692\",\"#B6E880\",\"#FF97FF\",\"#FECB52\"],\"font\":{\"color\":\"#f2f5fa\"},\"geo\":{\"bgcolor\":\"rgb(17,17,17)\",\"lakecolor\":\"rgb(17,17,17)\",\"landcolor\":\"rgb(17,17,17)\",\"showlakes\":true,\"showland\":true,\"subunitcolor\":\"#506784\"},\"hoverlabel\":{\"align\":\"left\"},\"hovermode\":\"closest\",\"mapbox\":{\"style\":\"dark\"},\"paper_bgcolor\":\"rgb(17,17,17)\",\"plot_bgcolor\":\"rgb(17,17,17)\",\"polar\":{\"angularaxis\":{\"gridcolor\":\"#506784\",\"linecolor\":\"#506784\",\"ticks\":\"\"},\"bgcolor\":\"rgb(17,17,17)\",\"radialaxis\":{\"gridcolor\":\"#506784\",\"linecolor\":\"#506784\",\"ticks\":\"\"}},\"scene\":{\"xaxis\":{\"backgroundcolor\":\"rgb(17,17,17)\",\"gridcolor\":\"#506784\",\"gridwidth\":2,\"linecolor\":\"#506784\",\"showbackground\":true,\"ticks\":\"\",\"zerolinecolor\":\"#C8D4E3\"},\"yaxis\":{\"backgroundcolor\":\"rgb(17,17,17)\",\"gridcolor\":\"#506784\",\"gridwidth\":2,\"linecolor\":\"#506784\",\"showbackground\":true,\"ticks\":\"\",\"zerolinecolor\":\"#C8D4E3\"},\"zaxis\":{\"backgroundcolor\":\"rgb(17,17,17)\",\"gridcolor\":\"#506784\",\"gridwidth\":2,\"linecolor\":\"#506784\",\"showbackground\":true,\"ticks\":\"\",\"zerolinecolor\":\"#C8D4E3\"}},\"shapedefaults\":{\"line\":{\"color\":\"#f2f5fa\"}},\"sliderdefaults\":{\"bgcolor\":\"#C8D4E3\",\"bordercolor\":\"rgb(17,17,17)\",\"borderwidth\":1,\"tickwidth\":0},\"ternary\":{\"aaxis\":{\"gridcolor\":\"#506784\",\"linecolor\":\"#506784\",\"ticks\":\"\"},\"baxis\":{\"gridcolor\":\"#506784\",\"linecolor\":\"#506784\",\"ticks\":\"\"},\"bgcolor\":\"rgb(17,17,17)\",\"caxis\":{\"gridcolor\":\"#506784\",\"linecolor\":\"#506784\",\"ticks\":\"\"}},\"title\":{\"x\":0.05},\"updatemenudefaults\":{\"bgcolor\":\"#506784\",\"borderwidth\":0},\"xaxis\":{\"automargin\":true,\"gridcolor\":\"#283442\",\"linecolor\":\"#506784\",\"ticks\":\"\",\"title\":{\"standoff\":15},\"zerolinecolor\":\"#283442\",\"zerolinewidth\":2},\"yaxis\":{\"automargin\":true,\"gridcolor\":\"#283442\",\"linecolor\":\"#506784\",\"ticks\":\"\",\"title\":{\"standoff\":15},\"zerolinecolor\":\"#283442\",\"zerolinewidth\":2}}},\"polar\":{\"domain\":{\"x\":[0.0,1.0],\"y\":[0.0,1.0]},\"angularaxis\":{\"direction\":\"clockwise\",\"rotation\":90},\"radialaxis\":{\"tickfont\":{\"size\":14},\"ticksuffix\":\"%\",\"showline\":false,\"showticklabels\":true,\"showgrid\":true,\"angle\":45,\"range\":[0,30]}},\"legend\":{\"title\":{\"text\":\"speed\"},\"tracegroupgap\":0},\"margin\":{\"t\":60},\"barnorm\":\"percent\",\"barmode\":\"relative\",\"height\":500,\"width\":800,\"font\":{\"size\":12},\"title\":{\"text\":\"Daily Avg Wind Rose at 3.8 m on SPLASH ASFS Station, 2023\"}},                        {\"responsive\": true}                    ).then(function(){\n",
       "                            \n",
       "var gd = document.getElementById('c8cc99af-0877-45f6-95d7-9d401bfae8c1');\n",
       "var x = new MutationObserver(function (mutations, observer) {{\n",
       "        var display = window.getComputedStyle(gd).display;\n",
       "        if (!display || display === 'none') {{\n",
       "            console.log([gd, 'removed!']);\n",
       "            Plotly.purge(gd);\n",
       "            observer.disconnect();\n",
       "        }}\n",
       "}});\n",
       "\n",
       "// Listen for the removal of the full notebook cells\n",
       "var notebookContainer = gd.closest('#notebook-container');\n",
       "if (notebookContainer) {{\n",
       "    x.observe(notebookContainer, {childList: true});\n",
       "}}\n",
       "\n",
       "// Listen for the clearing of the current output cell\n",
       "var outputEl = gd.closest('.output');\n",
       "if (outputEl) {{\n",
       "    x.observe(outputEl, {childList: true});\n",
       "}}\n",
       "\n",
       "                        })                };                });            </script>        </div>"
      ]
     },
     "metadata": {},
     "output_type": "display_data"
    }
   ],
   "source": [
    "df = w23_splash_ap_qc_ds_1H[['wspd_vec_mean','wdir_vec_mean']].to_dataframe()\n",
    "# create a windrose dataframe\n",
    "splash_windrose_df = create_windrose_df(df, wind_dir_var='wdir_vec_mean', wind_spd_var='wspd_vec_mean')\n",
    "\n",
    "# create a wind rose plot using bar_polar\n",
    "fig = px.bar_polar(splash_windrose_df, \n",
    "                   r=\"frequency\", \n",
    "                   theta=\"direction\", \n",
    "                   color=\"speed\", template=\"plotly_dark\",\n",
    "                   color_discrete_sequence= px.colors.sequential.Plasma_r,\n",
    "                   width= 800,\n",
    "                   height=500,\n",
    "                   barnorm='percent',\n",
    "                  )\n",
    "# update the radial axis to show percentages\n",
    "fig.update_layout(\n",
    "    title=\"Daily Avg Wind Rose at 3.8 m on SPLASH ASFS Station, 2023\",\n",
    "    font_size=12,\n",
    "    polar_radialaxis=dict(\n",
    "         ticksuffix='%',\n",
    "         tickfont_size=14,\n",
    "         showline=False,\n",
    "         showticklabels=True,\n",
    "         showgrid=True,\n",
    "         angle=45,\n",
    "         range=[0, 30]\n",
    "      ),\n",
    ")"
   ]
  },
  {
   "cell_type": "code",
   "execution_count": 60,
   "metadata": {},
   "outputs": [
    {
     "data": {
      "image/png": "[encoded data removed]",
      "text/plain": [
       "<Figure size 800x800 with 1 Axes>"
      ]
     },
     "metadata": {},
     "output_type": "display_data"
    }
   ],
   "source": [
    "location = 'ap'\n",
    "if location=='ap':\n",
    "    ds = w23_splash_ap_qc_ds_1H\n",
    "    wspd_var = 'wspd_vec_mean'\n",
    "    wdir_var = 'wdir_vec_mean'\n",
    "    temp_var = 'temp'\n",
    "    title = 'Avery Picnic'\n",
    "elif location=='kp':\n",
    "    ds = w23_splash_kp_qc_ds_1H\n",
    "    wspd_var = 'wspd_vec_mean'\n",
    "    wdir_var = 'wdir_vec_mean'\n",
    "    temp_var = 'temp'\n",
    "    title = 'Kettle Ponds'\n",
    "df_to_use = ds.to_dataframe()\n",
    "timestep=1\n",
    "\n",
    "df_test = df_to_use[[wspd_var, wdir_var, temp_var]]\n",
    "# create a 3d histogram in matplotlib to show the relationship between wind speed, wind direction, and total sublimation\n",
    "# To generate some test data\n",
    "xAmplitudes = df_test[wspd_var]#your data here\n",
    "yAmplitudes = df_test[wdir_var]#your other data here\n",
    "\n",
    "\n",
    "fig = plt.figure(figsize=(8,8))\n",
    "ax = fig.add_subplot(111, projection='3d')\n",
    "hist, xedges, yedges = np.histogram2d(xAmplitudes, yAmplitudes, bins=[6,16], range=[[0, 10], [0, 360]])\n",
    "\n",
    "# Construct arrays for the anchor positions of the 16 bars.\n",
    "xpos, ypos = np.meshgrid(xedges[:-1] + 0.25, yedges[:-1]+6.25, indexing=\"ij\")\n",
    "xpos = xpos.ravel()\n",
    "ypos = ypos.ravel()\n",
    "zpos = 0\n",
    "\n",
    "# Construct arrays with the dimensions for the 16 bars.\n",
    "dx = 0.5*np.ones_like(zpos)\n",
    "dy = 15 * np.ones_like(zpos)\n",
    "dz = hist.ravel()\n",
    "\n",
    "ax.bar3d(xpos, ypos, zpos, dx, dy, dz, zsort='max', color='lightgrey', ec='black')\n",
    "# rotate the plot\n",
    "ax.view_init(30, 30,0)\n",
    "# replace y-axis labels with cardinal wind direction lables\n",
    "ax.set_yticks([0, 22.5, 45, 67.5, 90, 112.5, 135, 157.5, 180, 202.5, 225, 247.5, 270, 292.5, 315, 337.5])\n",
    "ax.set_yticklabels(['N', 'NNE', 'NE', 'ENE', 'E', 'ESE', 'SE', 'SSE', 'S', 'SSW', 'SW', 'WSW', 'W', 'WNW', 'NW', 'NNW'], rotation=80, fontsize=12, ha='left')\n",
    "\n",
    "ax.set_xticks([0,2,4,6,8,10,])\n",
    "ax.set_xticklabels(['0-2','2-4','4-6','6-8','8-10','10+'], rotation=0, fontsize=12, ha='center', va='bottom')\n",
    "ax.tick_params(axis='x', pad=10)\n",
    "ax.tick_params(axis='y', pad=0)\n",
    "# increase tick label size on zaxis\n",
    "ax.tick_params(axis='z', labelsize=12)\n",
    "# ax.set_zlim(0,40)\n",
    "# show z-axis on the right\n",
    "ax.zaxis.set_rotate_label(False)\n",
    "ax.zaxis.set_label_position('both')\n",
    "\n",
    "ax.set_zlabel('Count', rotation=90, fontsize=14)\n",
    "ax.set_xlabel('Wind Speed (m/s)', fontsize=14)\n",
    "ax.set_ylabel('Wind Direction', fontsize=14)\n",
    "ax.set_title(f'3-D Histogram of Wind Speed and Direction at {title}, Winter 2023', fontsize=16)\n",
    "# pad the x-axis label\n",
    "ax.xaxis.labelpad = 20\n",
    "ax.yaxis.labelpad = 20\n",
    "\n",
    "plt.show()"
   ]
  },
  {
   "cell_type": "markdown",
   "metadata": {},
   "source": [
    "### Seasonal Sublimation"
   ]
  },
  {
   "cell_type": "code",
   "execution_count": 91,
   "metadata": {},
   "outputs": [],
   "source": [
    "# latent heat of sublimation\n",
    "Ls = 2834.1e3 # J/g\n",
    "# latent heat of vaporization\n",
    "Lv = 2500.1e3 # J/g\n",
    "# density of water\n",
    "rho_w = 1 # g/cm^3\n",
    "\n",
    "# calculate the sublimation rate when the temperature is below 0C and evaporation rate when the temperature is above 0C\n",
    "splash_ap_qc_ds['e_rate']=(splash_ap_qc_ds['Hl'] *3600 * 1000/ 1000 / Ls/6)\n",
    "splash_kp_qc_ds['e_rate']=(splash_kp_qc_ds['Hl'] *3600 * 1000/ 1000 / Ls/6)\n",
    "\n",
    "w23_splash_ap_qc_ds_1H['e_rate']=(w23_splash_ap_qc_ds_1H['Hl'] *3600 * 1000/ 1000 / Ls)\n",
    "w22_splash_ap_qc_ds_1H['e_rate']=(w22_splash_ap_qc_ds_1H['Hl'] *3600 * 1000/ 1000 / Ls)\n",
    "\n",
    "w23_splash_kp_qc_ds_1H['e_rate']=(w23_splash_kp_qc_ds_1H['Hl'] *3600 * 1000/ 1000 / Ls)\n",
    "w22_splash_kp_qc_ds_1H['e_rate']=(w22_splash_kp_qc_ds_1H['Hl'] *3600 * 1000/ 1000 / Ls)"
   ]
  },
  {
   "cell_type": "code",
   "execution_count": 145,
   "metadata": {},
   "outputs": [
    {
     "data": {
      "text/html": [
       "<div><svg style=\"position: absolute; width: 0; height: 0; overflow: hidden\">\n",
       "<defs>\n",
       "<symbol id=\"icon-database\" viewBox=\"0 0 32 32\">\n",
       "<path d=\"M16 0c-8.837 0-16 2.239-16 5v4c0 2.761 7.163 5 16 5s16-2.239 16-5v-4c0-2.761-7.163-5-16-5z\"></path>\n",
       "<path d=\"M16 17c-8.837 0-16-2.239-16-5v6c0 2.761 7.163 5 16 5s16-2.239 16-5v-6c0 2.761-7.163 5-16 5z\"></path>\n",
       "<path d=\"M16 26c-8.837 0-16-2.239-16-5v6c0 2.761 7.163 5 16 5s16-2.239 16-5v-6c0 2.761-7.163 5-16 5z\"></path>\n",
       "</symbol>\n",
       "<symbol id=\"icon-file-text2\" viewBox=\"0 0 32 32\">\n",
       "<path d=\"M28.681 7.159c-0.694-0.947-1.662-2.053-2.724-3.116s-2.169-2.030-3.116-2.724c-1.612-1.182-2.393-1.319-2.841-1.319h-15.5c-1.378 0-2.5 1.121-2.5 2.5v27c0 1.378 1.122 2.5 2.5 2.5h23c1.378 0 2.5-1.122 2.5-2.5v-19.5c0-0.448-0.137-1.23-1.319-2.841zM24.543 5.457c0.959 0.959 1.712 1.825 2.268 2.543h-4.811v-4.811c0.718 0.556 1.584 1.309 2.543 2.268zM28 29.5c0 0.271-0.229 0.5-0.5 0.5h-23c-0.271 0-0.5-0.229-0.5-0.5v-27c0-0.271 0.229-0.5 0.5-0.5 0 0 15.499-0 15.5 0v7c0 0.552 0.448 1 1 1h7v19.5z\"></path>\n",
       "<path d=\"M23 26h-14c-0.552 0-1-0.448-1-1s0.448-1 1-1h14c0.552 0 1 0.448 1 1s-0.448 1-1 1z\"></path>\n",
       "<path d=\"M23 22h-14c-0.552 0-1-0.448-1-1s0.448-1 1-1h14c0.552 0 1 0.448 1 1s-0.448 1-1 1z\"></path>\n",
       "<path d=\"M23 18h-14c-0.552 0-1-0.448-1-1s0.448-1 1-1h14c0.552 0 1 0.448 1 1s-0.448 1-1 1z\"></path>\n",
       "</symbol>\n",
       "</defs>\n",
       "</svg>\n",
       "<style>/* CSS stylesheet for displaying xarray objects in jupyterlab.\n",
       " *\n",
       " */\n",
       "\n",
       ":root {\n",
       "  --xr-font-color0: var(--jp-content-font-color0, rgba(0, 0, 0, 1));\n",
       "  --xr-font-color2: var(--jp-content-font-color2, rgba(0, 0, 0, 0.54));\n",
       "  --xr-font-color3: var(--jp-content-font-color3, rgba(0, 0, 0, 0.38));\n",
       "  --xr-border-color: var(--jp-border-color2, #e0e0e0);\n",
       "  --xr-disabled-color: var(--jp-layout-color3, #bdbdbd);\n",
       "  --xr-background-color: var(--jp-layout-color0, white);\n",
       "  --xr-background-color-row-even: var(--jp-layout-color1, white);\n",
       "  --xr-background-color-row-odd: var(--jp-layout-color2, #eeeeee);\n",
       "}\n",
       "\n",
       "html[theme=dark],\n",
       "body[data-theme=dark],\n",
       "body.vscode-dark {\n",
       "  --xr-font-color0: rgba(255, 255, 255, 1);\n",
       "  --xr-font-color2: rgba(255, 255, 255, 0.54);\n",
       "  --xr-font-color3: rgba(255, 255, 255, 0.38);\n",
       "  --xr-border-color: #1F1F1F;\n",
       "  --xr-disabled-color: #515151;\n",
       "  --xr-background-color: #111111;\n",
       "  --xr-background-color-row-even: #111111;\n",
       "  --xr-background-color-row-odd: #313131;\n",
       "}\n",
       "\n",
       ".xr-wrap {\n",
       "  display: block !important;\n",
       "  min-width: 300px;\n",
       "  max-width: 700px;\n",
       "}\n",
       "\n",
       ".xr-text-repr-fallback {\n",
       "  /* fallback to plain text repr when CSS is not injected (untrusted notebook) */\n",
       "  display: none;\n",
       "}\n",
       "\n",
       ".xr-header {\n",
       "  padding-top: 6px;\n",
       "  padding-bottom: 6px;\n",
       "  margin-bottom: 4px;\n",
       "  border-bottom: solid 1px var(--xr-border-color);\n",
       "}\n",
       "\n",
       ".xr-header > div,\n",
       ".xr-header > ul {\n",
       "  display: inline;\n",
       "  margin-top: 0;\n",
       "  margin-bottom: 0;\n",
       "}\n",
       "\n",
       ".xr-obj-type,\n",
       ".xr-array-name {\n",
       "  margin-left: 2px;\n",
       "  margin-right: 10px;\n",
       "}\n",
       "\n",
       ".xr-obj-type {\n",
       "  color: var(--xr-font-color2);\n",
       "}\n",
       "\n",
       ".xr-sections {\n",
       "  padding-left: 0 !important;\n",
       "  display: grid;\n",
       "  grid-template-columns: 150px auto auto 1fr 20px 20px;\n",
       "}\n",
       "\n",
       ".xr-section-item {\n",
       "  display: contents;\n",
       "}\n",
       "\n",
       ".xr-section-item input {\n",
       "  display: none;\n",
       "}\n",
       "\n",
       ".xr-section-item input + label {\n",
       "  color: var(--xr-disabled-color);\n",
       "}\n",
       "\n",
       ".xr-section-item input:enabled + label {\n",
       "  cursor: pointer;\n",
       "  color: var(--xr-font-color2);\n",
       "}\n",
       "\n",
       ".xr-section-item input:enabled + label:hover {\n",
       "  color: var(--xr-font-color0);\n",
       "}\n",
       "\n",
       ".xr-section-summary {\n",
       "  grid-column: 1;\n",
       "  color: var(--xr-font-color2);\n",
       "  font-weight: 500;\n",
       "}\n",
       "\n",
       ".xr-section-summary > span {\n",
       "  display: inline-block;\n",
       "  padding-left: 0.5em;\n",
       "}\n",
       "\n",
       ".xr-section-summary-in:disabled + label {\n",
       "  color: var(--xr-font-color2);\n",
       "}\n",
       "\n",
       ".xr-section-summary-in + label:before {\n",
       "  display: inline-block;\n",
       "  content: '►';\n",
       "  font-size: 11px;\n",
       "  width: 15px;\n",
       "  text-align: center;\n",
       "}\n",
       "\n",
       ".xr-section-summary-in:disabled + label:before {\n",
       "  color: var(--xr-disabled-color);\n",
       "}\n",
       "\n",
       ".xr-section-summary-in:checked + label:before {\n",
       "  content: '▼';\n",
       "}\n",
       "\n",
       ".xr-section-summary-in:checked + label > span {\n",
       "  display: none;\n",
       "}\n",
       "\n",
       ".xr-section-summary,\n",
       ".xr-section-inline-details {\n",
       "  padding-top: 4px;\n",
       "  padding-bottom: 4px;\n",
       "}\n",
       "\n",
       ".xr-section-inline-details {\n",
       "  grid-column: 2 / -1;\n",
       "}\n",
       "\n",
       ".xr-section-details {\n",
       "  display: none;\n",
       "  grid-column: 1 / -1;\n",
       "  margin-bottom: 5px;\n",
       "}\n",
       "\n",
       ".xr-section-summary-in:checked ~ .xr-section-details {\n",
       "  display: contents;\n",
       "}\n",
       "\n",
       ".xr-array-wrap {\n",
       "  grid-column: 1 / -1;\n",
       "  display: grid;\n",
       "  grid-template-columns: 20px auto;\n",
       "}\n",
       "\n",
       ".xr-array-wrap > label {\n",
       "  grid-column: 1;\n",
       "  vertical-align: top;\n",
       "}\n",
       "\n",
       ".xr-preview {\n",
       "  color: var(--xr-font-color3);\n",
       "}\n",
       "\n",
       ".xr-array-preview,\n",
       ".xr-array-data {\n",
       "  padding: 0 5px !important;\n",
       "  grid-column: 2;\n",
       "}\n",
       "\n",
       ".xr-array-data,\n",
       ".xr-array-in:checked ~ .xr-array-preview {\n",
       "  display: none;\n",
       "}\n",
       "\n",
       ".xr-array-in:checked ~ .xr-array-data,\n",
       ".xr-array-preview {\n",
       "  display: inline-block;\n",
       "}\n",
       "\n",
       ".xr-dim-list {\n",
       "  display: inline-block !important;\n",
       "  list-style: none;\n",
       "  padding: 0 !important;\n",
       "  margin: 0;\n",
       "}\n",
       "\n",
       ".xr-dim-list li {\n",
       "  display: inline-block;\n",
       "  padding: 0;\n",
       "  margin: 0;\n",
       "}\n",
       "\n",
       ".xr-dim-list:before {\n",
       "  content: '(';\n",
       "}\n",
       "\n",
       ".xr-dim-list:after {\n",
       "  content: ')';\n",
       "}\n",
       "\n",
       ".xr-dim-list li:not(:last-child):after {\n",
       "  content: ',';\n",
       "  padding-right: 5px;\n",
       "}\n",
       "\n",
       ".xr-has-index {\n",
       "  font-weight: bold;\n",
       "}\n",
       "\n",
       ".xr-var-list,\n",
       ".xr-var-item {\n",
       "  display: contents;\n",
       "}\n",
       "\n",
       ".xr-var-item > div,\n",
       ".xr-var-item label,\n",
       ".xr-var-item > .xr-var-name span {\n",
       "  background-color: var(--xr-background-color-row-even);\n",
       "  margin-bottom: 0;\n",
       "}\n",
       "\n",
       ".xr-var-item > .xr-var-name:hover span {\n",
       "  padding-right: 5px;\n",
       "}\n",
       "\n",
       ".xr-var-list > li:nth-child(odd) > div,\n",
       ".xr-var-list > li:nth-child(odd) > label,\n",
       ".xr-var-list > li:nth-child(odd) > .xr-var-name span {\n",
       "  background-color: var(--xr-background-color-row-odd);\n",
       "}\n",
       "\n",
       ".xr-var-name {\n",
       "  grid-column: 1;\n",
       "}\n",
       "\n",
       ".xr-var-dims {\n",
       "  grid-column: 2;\n",
       "}\n",
       "\n",
       ".xr-var-dtype {\n",
       "  grid-column: 3;\n",
       "  text-align: right;\n",
       "  color: var(--xr-font-color2);\n",
       "}\n",
       "\n",
       ".xr-var-preview {\n",
       "  grid-column: 4;\n",
       "}\n",
       "\n",
       ".xr-index-preview {\n",
       "  grid-column: 2 / 5;\n",
       "  color: var(--xr-font-color2);\n",
       "}\n",
       "\n",
       ".xr-var-name,\n",
       ".xr-var-dims,\n",
       ".xr-var-dtype,\n",
       ".xr-preview,\n",
       ".xr-attrs dt {\n",
       "  white-space: nowrap;\n",
       "  overflow: hidden;\n",
       "  text-overflow: ellipsis;\n",
       "  padding-right: 10px;\n",
       "}\n",
       "\n",
       ".xr-var-name:hover,\n",
       ".xr-var-dims:hover,\n",
       ".xr-var-dtype:hover,\n",
       ".xr-attrs dt:hover {\n",
       "  overflow: visible;\n",
       "  width: auto;\n",
       "  z-index: 1;\n",
       "}\n",
       "\n",
       ".xr-var-attrs,\n",
       ".xr-var-data,\n",
       ".xr-index-data {\n",
       "  display: none;\n",
       "  background-color: var(--xr-background-color) !important;\n",
       "  padding-bottom: 5px !important;\n",
       "}\n",
       "\n",
       ".xr-var-attrs-in:checked ~ .xr-var-attrs,\n",
       ".xr-var-data-in:checked ~ .xr-var-data,\n",
       ".xr-index-data-in:checked ~ .xr-index-data {\n",
       "  display: block;\n",
       "}\n",
       "\n",
       ".xr-var-data > table {\n",
       "  float: right;\n",
       "}\n",
       "\n",
       ".xr-var-name span,\n",
       ".xr-var-data,\n",
       ".xr-index-name div,\n",
       ".xr-index-data,\n",
       ".xr-attrs {\n",
       "  padding-left: 25px !important;\n",
       "}\n",
       "\n",
       ".xr-attrs,\n",
       ".xr-var-attrs,\n",
       ".xr-var-data,\n",
       ".xr-index-data {\n",
       "  grid-column: 1 / -1;\n",
       "}\n",
       "\n",
       "dl.xr-attrs {\n",
       "  padding: 0;\n",
       "  margin: 0;\n",
       "  display: grid;\n",
       "  grid-template-columns: 125px auto;\n",
       "}\n",
       "\n",
       ".xr-attrs dt,\n",
       ".xr-attrs dd {\n",
       "  padding: 0;\n",
       "  margin: 0;\n",
       "  float: left;\n",
       "  padding-right: 10px;\n",
       "  width: auto;\n",
       "}\n",
       "\n",
       ".xr-attrs dt {\n",
       "  font-weight: normal;\n",
       "  grid-column: 1;\n",
       "}\n",
       "\n",
       ".xr-attrs dt:hover span {\n",
       "  display: inline-block;\n",
       "  background: var(--xr-background-color);\n",
       "  padding-right: 10px;\n",
       "}\n",
       "\n",
       ".xr-attrs dd {\n",
       "  grid-column: 2;\n",
       "  white-space: pre-wrap;\n",
       "  word-break: break-all;\n",
       "}\n",
       "\n",
       ".xr-icon-database,\n",
       ".xr-icon-file-text2,\n",
       ".xr-no-icon {\n",
       "  display: inline-block;\n",
       "  vertical-align: middle;\n",
       "  width: 1em;\n",
       "  height: 1.5em !important;\n",
       "  stroke-width: 0;\n",
       "  stroke: currentColor;\n",
       "  fill: currentColor;\n",
       "}\n",
       "</style><pre class='xr-text-repr-fallback'>&lt;xarray.DataArray &#x27;e_rate&#x27; ()&gt;\n",
       "array(16.87902463)</pre><div class='xr-wrap' style='display:none'><div class='xr-header'><div class='xr-obj-type'>xarray.DataArray</div><div class='xr-array-name'>'e_rate'</div></div><ul class='xr-sections'><li class='xr-section-item'><div class='xr-array-wrap'><input id='section-3c579535-3d04-4dda-a4be-316c62275288' class='xr-array-in' type='checkbox' checked><label for='section-3c579535-3d04-4dda-a4be-316c62275288' title='Show/hide data repr'><svg class='icon xr-icon-database'><use xlink:href='#icon-database'></use></svg></label><div class='xr-array-preview xr-preview'><span>16.88</span></div><div class='xr-array-data'><pre>array(16.87902463)</pre></div></div></li><li class='xr-section-item'><input id='section-41812a62-af12-496a-bdd2-8b5c938e399c' class='xr-section-summary-in' type='checkbox' disabled ><label for='section-41812a62-af12-496a-bdd2-8b5c938e399c' class='xr-section-summary'  title='Expand/collapse section'>Coordinates: <span>(0)</span></label><div class='xr-section-inline-details'></div><div class='xr-section-details'><ul class='xr-var-list'></ul></div></li><li class='xr-section-item'><input id='section-7bb045ff-ea5a-4465-a930-979fa8cca258' class='xr-section-summary-in' type='checkbox' disabled ><label for='section-7bb045ff-ea5a-4465-a930-979fa8cca258' class='xr-section-summary'  title='Expand/collapse section'>Indexes: <span>(0)</span></label><div class='xr-section-inline-details'></div><div class='xr-section-details'><ul class='xr-var-list'></ul></div></li><li class='xr-section-item'><input id='section-0d93770a-a5ca-4de7-b4df-ef239639c109' class='xr-section-summary-in' type='checkbox' disabled ><label for='section-0d93770a-a5ca-4de7-b4df-ef239639c109' class='xr-section-summary'  title='Expand/collapse section'>Attributes: <span>(0)</span></label><div class='xr-section-inline-details'></div><div class='xr-section-details'><dl class='xr-attrs'></dl></div></li></ul></div></div>"
      ],
      "text/plain": [
       "<xarray.DataArray 'e_rate' ()>\n",
       "array(16.87902463)"
      ]
     },
     "execution_count": 145,
     "metadata": {},
     "output_type": "execute_result"
    }
   ],
   "source": [
    "splash_kp_qc_ds.sel(time=slice('2022-04-01','2022-05-15'))['e_rate'].sum()"
   ]
  },
  {
   "cell_type": "code",
   "execution_count": 127,
   "metadata": {},
   "outputs": [
    {
     "data": {
      "application/vnd.plotly.v1+json": {
       "config": {
        "plotlyServerURL": "https://plot.ly"
       },
       "data": [
        {
         "hovertemplate": "w_h2o__3m_uw=%{x}<br>e_rate=%{y}<extra></extra>",
         "legendgroup": "",
         "marker": {
          "color": "#636efa",
          "line": {
           "color": "black",
           "width": 1
          },
          "size": 10,
          "symbol": "circle"
         },
         "mode": "markers",
         "name": "",
         "orientation": "v",
         "showlegend": false,
         "type": "scatter",
         "x": [
          0.0032140897808917296,
          0.4457476965357422,
          0.004058951900545059,
          0.008646406925297587,
          0.055839291907159354,
          0.24528188122303618,
          0.03184462273898331,
          0.13874859162897338,
          -0.027529818936636728,
          -0.045136680156512905,
          -0.03797194092838936,
          0.2312773743397429,
          0.3685666101162042,
          0.43259295416837634,
          0.08391506143200048,
          0.09437239043637079,
          0.003837893594167952,
          0.006393484097975488,
          0.011688498225078092,
          0.020346915625577826,
          0.4010025617208973,
          1.1832531097188872,
          0.22335014878171938,
          0.17374652334898377,
          0.14560261351703047,
          0.06217404222925253,
          0.04070873795207034,
          0.0033308556658568998,
          0.1341007202143639,
          -0.012044840059423866,
          0.01293795426064753,
          0.05240601533397615,
          0.03412938892637173,
          0.08381045061394615,
          0.2978361575116424,
          0.0049069606804700355,
          -0.006270080364589704,
          -0.02311161334628309,
          -0.0332415390435159,
          0.006277042681517747,
          0.13593346296993802,
          0.23000926365128005,
          0.01057021467192009,
          -0.026183754667454193,
          0.04690769941235544,
          0.032724643002916456,
          0.0236659124694815,
          0.07016859514300118,
          0.2021250005972967,
          -0.03660353638294714,
          -0.013991268955905412,
          0.06971105890627818,
          0.06383126923075692,
          0.007284194647832009,
          0.07032082614960017,
          0.09765699144254543,
          0.022843069905024996,
          0.04801768659977564,
          0.11338663273376923,
          0.07527262268640558,
          0.21706745463077465,
          0.058177211671085596,
          0.0024247749089795446,
          0.006889713440887138,
          -0.017207235968726302,
          0.18271994596509558,
          0.16837919290072317,
          0.3669880727935797,
          -0.010847374496291234,
          0.17610883955702203,
          0.3505975634316812,
          0.04155103318314986,
          -0.003951326396872897,
          0.020580869517561953,
          -0.008993589946800811,
          0.17882106389176103,
          0.22869181035213382,
          0.010401756610553998,
          0.04687093771613741,
          0.07758550971877014,
          0.49156586826302373,
          0.2954629114601408,
          0.24459390248853197,
          0.2626815098659577,
          0.2237806628350631,
          0.10277210137761753,
          0.028524659874346978,
          0.09085358386491861,
          0.25667493498098964,
          0.18215142334915937,
          0.02554971827833081,
          0.3993814149960775,
          0.06631142635937977,
          0.16955046836718632,
          0.8062541184917791,
          0.763817660025313,
          0.9365523365557357,
          0.3246318931887489,
          0.8301139384347447,
          0.042435900669538805,
          0.5987689941144753,
          -0.04950111978850881,
          0.5172456125982106,
          0.08844911866240895,
          -0.003201906230333405,
          0.537732818688477,
          0.24754012055453817,
          0.1287392119078504,
          0.139144567142489,
          0.06570018122506094,
          0.10495460010257887,
          0.25545956504397327,
          0.12144701289831691,
          0.18747770209508874,
          0.2949246683223411,
          0.04531234276773677,
          0.2711599022226205,
          0.14366848556917378,
          0.11274347595056577,
          0.3559835937160444,
          0.19394897891371887
         ],
         "xaxis": "x",
         "y": [
          0.14282751453122072,
          0.5559486377846115,
          0.006998397165453456,
          0.007920955693071635,
          0.21395499008675853,
          0.320632212804015,
          0.018497615533696044,
          0.0766142998593989,
          -0.028567580487983777,
          -0.01303496654409027,
          0.014965612829239682,
          0.13806197296747677,
          0.1945700171784315,
          0.2209655394772581,
          0.028768586109109328,
          0.07133332440203492,
          0.010150627588707084,
          0.005647460200380689,
          0.004623984210009028,
          0.01921657117905298,
          0.2296767518660515,
          0.5704378743686846,
          0.09255971830850737,
          0.15287013622000012,
          0.11723453530826707,
          0.07209059467600133,
          0.043427735478618626,
          0.018607706566700292,
          0.11390982301861408,
          0.00007871625837869712,
          0.006462587240273028,
          0.016127779598479507,
          0.02215476653426631,
          0.05105865889876603,
          0.17489048332574392,
          -0.024932285395995294,
          -0.04968224550424893,
          -0.006125715414129223,
          0.003948717989736393,
          0.0037010092561285198,
          0.13244441495752138,
          0.09234710188359291,
          0.01631245693031589,
          0.006797625203799593,
          0.06414104687825883,
          0.007569191394358606,
          0.009410685305814912,
          0.020408316542795697,
          0.12803467051956963,
          -0.024529609493253963,
          null,
          null,
          null,
          null,
          null,
          null,
          null,
          null,
          null,
          null,
          null,
          null,
          null,
          null,
          null,
          null,
          null,
          null,
          null,
          null,
          null,
          null,
          null,
          null,
          null,
          null,
          null,
          null,
          null,
          null,
          null,
          null,
          0.1533702102761737,
          0.24716204187083538,
          0.17054039678898267,
          0.12203946984577838,
          0.01136792225683158,
          0.12023550910475883,
          0.10173731232465355,
          0.3468467850458704,
          0.034048442269705784,
          0.12409921569207756,
          0.030956247038367923,
          0.0633947700833814,
          0.5708971545893294,
          0.42366874123204995,
          0.259323690417641,
          null,
          null,
          null,
          null,
          null,
          null,
          null,
          null,
          null,
          null,
          null,
          null,
          null,
          null,
          null,
          null,
          null,
          null,
          null,
          null,
          null,
          null,
          null,
          null
         ],
         "yaxis": "y"
        },
        {
         "hovertemplate": "<b>OLS trendline</b><br>e_rate = 0.502908 * w_h2o__3m_uw + 0.0271865<br>R<sup>2</sup>=0.719011<br><br>w_h2o__3m_uw=%{x}<br>e_rate=%{y} <b>(trend)</b><extra></extra>",
         "legendgroup": "",
         "marker": {
          "color": "#636efa",
          "line": {
           "color": "black",
           "width": 1
          },
          "size": 10,
          "symbol": "circle"
         },
         "mode": "lines",
         "name": "",
         "showlegend": false,
         "type": "scatter",
         "x": [
          -0.045136680156512905,
          -0.03797194092838936,
          -0.03660353638294714,
          -0.0332415390435159,
          -0.027529818936636728,
          -0.026183754667454193,
          -0.02311161334628309,
          -0.012044840059423866,
          -0.006270080364589704,
          0.0032140897808917296,
          0.0033308556658568998,
          0.003837893594167952,
          0.004058951900545059,
          0.0049069606804700355,
          0.006277042681517747,
          0.006393484097975488,
          0.008646406925297587,
          0.01057021467192009,
          0.011688498225078092,
          0.01293795426064753,
          0.020346915625577826,
          0.0236659124694815,
          0.02554971827833081,
          0.028524659874346978,
          0.03184462273898331,
          0.032724643002916456,
          0.03412938892637173,
          0.04070873795207034,
          0.04690769941235544,
          0.05240601533397615,
          0.055839291907159354,
          0.06217404222925253,
          0.06631142635937977,
          0.07016859514300118,
          0.08381045061394615,
          0.08391506143200048,
          0.09085358386491861,
          0.09437239043637079,
          0.10277210137761753,
          0.1341007202143639,
          0.13593346296993802,
          0.13874859162897338,
          0.14560261351703047,
          0.16955046836718632,
          0.17374652334898377,
          0.18215142334915937,
          0.2021250005972967,
          0.22335014878171938,
          0.2237806628350631,
          0.23000926365128005,
          0.2312773743397429,
          0.24459390248853197,
          0.24528188122303618,
          0.25667493498098964,
          0.2626815098659577,
          0.2978361575116424,
          0.3685666101162042,
          0.3993814149960775,
          0.4010025617208973,
          0.43259295416837634,
          0.4457476965357422,
          0.763817660025313,
          0.8062541184917791,
          0.9365523365557357,
          1.1832531097188872
         ],
         "xaxis": "x",
         "y": [
          0.004486883633273927,
          0.008090085037637543,
          0.008778266005972143,
          0.01046903982888461,
          0.013341506956460582,
          0.014018452831342404,
          0.015563455876170085,
          0.021129019643300852,
          0.024033189855192625,
          0.02880285056430572,
          0.02886157300866724,
          0.029116566207608056,
          0.029227738097417764,
          0.029654208109716956,
          0.030343232683129287,
          0.03040179194983082,
          0.03153480383440375,
          0.032502301262244016,
          0.03306469449679457,
          0.03369305536223719,
          0.037419077921467765,
          0.0390882264708092,
          0.04003560662239246,
          0.04153172719222269,
          0.043201361560677665,
          0.04364393038976021,
          0.04435038771123535,
          0.04765919196696322,
          0.05077669644662662,
          0.0535418409996416,
          0.055268461686896156,
          0.05845425540947341,
          0.06053497709848464,
          0.06247477637595983,
          0.06933536839835894,
          0.06938797796788038,
          0.07287741323948996,
          0.07464704760806153,
          0.07887132560284842,
          0.09462672434035434,
          0.09554842449725613,
          0.09696417393554477,
          0.10041111324572176,
          0.11245467009826847,
          0.11456489780116273,
          0.11879178541282812,
          0.12883664807972833,
          0.13951093521159474,
          0.13972744397656378,
          0.142859854311907,
          0.14349759674300935,
          0.15019457920102003,
          0.15054056889630546,
          0.15627022157361573,
          0.15929097339330203,
          0.17697051088011354,
          0.2125413890435018,
          0.22803838686618874,
          0.22885367378306934,
          0.24474072044407746,
          0.2513563396121945,
          0.41131612358212166,
          0.432657738660363,
          0.4981856954171485,
          0.622253375205107
         ],
         "yaxis": "y"
        },
        {
         "line": {
          "color": "black",
          "dash": "dash"
         },
         "mode": "lines",
         "name": "1:1 Line",
         "type": "scatter",
         "x": [
          -0.1,
          1.5
         ],
         "y": [
          -0.1,
          1.5
         ]
        }
       ],
       "layout": {
        "height": 600,
        "legend": {
         "tracegroupgap": 0
        },
        "template": {
         "data": {
          "bar": [
           {
            "error_x": {
             "color": "#2a3f5f"
            },
            "error_y": {
             "color": "#2a3f5f"
            },
            "marker": {
             "line": {
              "color": "#E5ECF6",
              "width": 0.5
             },
             "pattern": {
              "fillmode": "overlay",
              "size": 10,
              "solidity": 0.2
             }
            },
            "type": "bar"
           }
          ],
          "barpolar": [
           {
            "marker": {
             "line": {
              "color": "#E5ECF6",
              "width": 0.5
             },
             "pattern": {
              "fillmode": "overlay",
              "size": 10,
              "solidity": 0.2
             }
            },
            "type": "barpolar"
           }
          ],
          "carpet": [
           {
            "aaxis": {
             "endlinecolor": "#2a3f5f",
             "gridcolor": "white",
             "linecolor": "white",
             "minorgridcolor": "white",
             "startlinecolor": "#2a3f5f"
            },
            "baxis": {
             "endlinecolor": "#2a3f5f",
             "gridcolor": "white",
             "linecolor": "white",
             "minorgridcolor": "white",
             "startlinecolor": "#2a3f5f"
            },
            "type": "carpet"
           }
          ],
          "choropleth": [
           {
            "colorbar": {
             "outlinewidth": 0,
             "ticks": ""
            },
            "type": "choropleth"
           }
          ],
          "contour": [
           {
            "colorbar": {
             "outlinewidth": 0,
             "ticks": ""
            },
            "colorscale": [
             [
              0,
              "#0d0887"
             ],
             [
              0.1111111111111111,
              "#46039f"
             ],
             [
              0.2222222222222222,
              "#7201a8"
             ],
             [
              0.3333333333333333,
              "#9c179e"
             ],
             [
              0.4444444444444444,
              "#bd3786"
             ],
             [
              0.5555555555555556,
              "#d8576b"
             ],
             [
              0.6666666666666666,
              "#ed7953"
             ],
             [
              0.7777777777777778,
              "#fb9f3a"
             ],
             [
              0.8888888888888888,
              "#fdca26"
             ],
             [
              1,
              "#f0f921"
             ]
            ],
            "type": "contour"
           }
          ],
          "contourcarpet": [
           {
            "colorbar": {
             "outlinewidth": 0,
             "ticks": ""
            },
            "type": "contourcarpet"
           }
          ],
          "heatmap": [
           {
            "colorbar": {
             "outlinewidth": 0,
             "ticks": ""
            },
            "colorscale": [
             [
              0,
              "#0d0887"
             ],
             [
              0.1111111111111111,
              "#46039f"
             ],
             [
              0.2222222222222222,
              "#7201a8"
             ],
             [
              0.3333333333333333,
              "#9c179e"
             ],
             [
              0.4444444444444444,
              "#bd3786"
             ],
             [
              0.5555555555555556,
              "#d8576b"
             ],
             [
              0.6666666666666666,
              "#ed7953"
             ],
             [
              0.7777777777777778,
              "#fb9f3a"
             ],
             [
              0.8888888888888888,
              "#fdca26"
             ],
             [
              1,
              "#f0f921"
             ]
            ],
            "type": "heatmap"
           }
          ],
          "heatmapgl": [
           {
            "colorbar": {
             "outlinewidth": 0,
             "ticks": ""
            },
            "colorscale": [
             [
              0,
              "#0d0887"
             ],
             [
              0.1111111111111111,
              "#46039f"
             ],
             [
              0.2222222222222222,
              "#7201a8"
             ],
             [
              0.3333333333333333,
              "#9c179e"
             ],
             [
              0.4444444444444444,
              "#bd3786"
             ],
             [
              0.5555555555555556,
              "#d8576b"
             ],
             [
              0.6666666666666666,
              "#ed7953"
             ],
             [
              0.7777777777777778,
              "#fb9f3a"
             ],
             [
              0.8888888888888888,
              "#fdca26"
             ],
             [
              1,
              "#f0f921"
             ]
            ],
            "type": "heatmapgl"
           }
          ],
          "histogram": [
           {
            "marker": {
             "pattern": {
              "fillmode": "overlay",
              "size": 10,
              "solidity": 0.2
             }
            },
            "type": "histogram"
           }
          ],
          "histogram2d": [
           {
            "colorbar": {
             "outlinewidth": 0,
             "ticks": ""
            },
            "colorscale": [
             [
              0,
              "#0d0887"
             ],
             [
              0.1111111111111111,
              "#46039f"
             ],
             [
              0.2222222222222222,
              "#7201a8"
             ],
             [
              0.3333333333333333,
              "#9c179e"
             ],
             [
              0.4444444444444444,
              "#bd3786"
             ],
             [
              0.5555555555555556,
              "#d8576b"
             ],
             [
              0.6666666666666666,
              "#ed7953"
             ],
             [
              0.7777777777777778,
              "#fb9f3a"
             ],
             [
              0.8888888888888888,
              "#fdca26"
             ],
             [
              1,
              "#f0f921"
             ]
            ],
            "type": "histogram2d"
           }
          ],
          "histogram2dcontour": [
           {
            "colorbar": {
             "outlinewidth": 0,
             "ticks": ""
            },
            "colorscale": [
             [
              0,
              "#0d0887"
             ],
             [
              0.1111111111111111,
              "#46039f"
             ],
             [
              0.2222222222222222,
              "#7201a8"
             ],
             [
              0.3333333333333333,
              "#9c179e"
             ],
             [
              0.4444444444444444,
              "#bd3786"
             ],
             [
              0.5555555555555556,
              "#d8576b"
             ],
             [
              0.6666666666666666,
              "#ed7953"
             ],
             [
              0.7777777777777778,
              "#fb9f3a"
             ],
             [
              0.8888888888888888,
              "#fdca26"
             ],
             [
              1,
              "#f0f921"
             ]
            ],
            "type": "histogram2dcontour"
           }
          ],
          "mesh3d": [
           {
            "colorbar": {
             "outlinewidth": 0,
             "ticks": ""
            },
            "type": "mesh3d"
           }
          ],
          "parcoords": [
           {
            "line": {
             "colorbar": {
              "outlinewidth": 0,
              "ticks": ""
             }
            },
            "type": "parcoords"
           }
          ],
          "pie": [
           {
            "automargin": true,
            "type": "pie"
           }
          ],
          "scatter": [
           {
            "fillpattern": {
             "fillmode": "overlay",
             "size": 10,
             "solidity": 0.2
            },
            "type": "scatter"
           }
          ],
          "scatter3d": [
           {
            "line": {
             "colorbar": {
              "outlinewidth": 0,
              "ticks": ""
             }
            },
            "marker": {
             "colorbar": {
              "outlinewidth": 0,
              "ticks": ""
             }
            },
            "type": "scatter3d"
           }
          ],
          "scattercarpet": [
           {
            "marker": {
             "colorbar": {
              "outlinewidth": 0,
              "ticks": ""
             }
            },
            "type": "scattercarpet"
           }
          ],
          "scattergeo": [
           {
            "marker": {
             "colorbar": {
              "outlinewidth": 0,
              "ticks": ""
             }
            },
            "type": "scattergeo"
           }
          ],
          "scattergl": [
           {
            "marker": {
             "colorbar": {
              "outlinewidth": 0,
              "ticks": ""
             }
            },
            "type": "scattergl"
           }
          ],
          "scattermapbox": [
           {
            "marker": {
             "colorbar": {
              "outlinewidth": 0,
              "ticks": ""
             }
            },
            "type": "scattermapbox"
           }
          ],
          "scatterpolar": [
           {
            "marker": {
             "colorbar": {
              "outlinewidth": 0,
              "ticks": ""
             }
            },
            "type": "scatterpolar"
           }
          ],
          "scatterpolargl": [
           {
            "marker": {
             "colorbar": {
              "outlinewidth": 0,
              "ticks": ""
             }
            },
            "type": "scatterpolargl"
           }
          ],
          "scatterternary": [
           {
            "marker": {
             "colorbar": {
              "outlinewidth": 0,
              "ticks": ""
             }
            },
            "type": "scatterternary"
           }
          ],
          "surface": [
           {
            "colorbar": {
             "outlinewidth": 0,
             "ticks": ""
            },
            "colorscale": [
             [
              0,
              "#0d0887"
             ],
             [
              0.1111111111111111,
              "#46039f"
             ],
             [
              0.2222222222222222,
              "#7201a8"
             ],
             [
              0.3333333333333333,
              "#9c179e"
             ],
             [
              0.4444444444444444,
              "#bd3786"
             ],
             [
              0.5555555555555556,
              "#d8576b"
             ],
             [
              0.6666666666666666,
              "#ed7953"
             ],
             [
              0.7777777777777778,
              "#fb9f3a"
             ],
             [
              0.8888888888888888,
              "#fdca26"
             ],
             [
              1,
              "#f0f921"
             ]
            ],
            "type": "surface"
           }
          ],
          "table": [
           {
            "cells": {
             "fill": {
              "color": "#EBF0F8"
             },
             "line": {
              "color": "white"
             }
            },
            "header": {
             "fill": {
              "color": "#C8D4E3"
             },
             "line": {
              "color": "white"
             }
            },
            "type": "table"
           }
          ]
         },
         "layout": {
          "annotationdefaults": {
           "arrowcolor": "#2a3f5f",
           "arrowhead": 0,
           "arrowwidth": 1
          },
          "autotypenumbers": "strict",
          "coloraxis": {
           "colorbar": {
            "outlinewidth": 0,
            "ticks": ""
           }
          },
          "colorscale": {
           "diverging": [
            [
             0,
             "#8e0152"
            ],
            [
             0.1,
             "#c51b7d"
            ],
            [
             0.2,
             "#de77ae"
            ],
            [
             0.3,
             "#f1b6da"
            ],
            [
             0.4,
             "#fde0ef"
            ],
            [
             0.5,
             "#f7f7f7"
            ],
            [
             0.6,
             "#e6f5d0"
            ],
            [
             0.7,
             "#b8e186"
            ],
            [
             0.8,
             "#7fbc41"
            ],
            [
             0.9,
             "#4d9221"
            ],
            [
             1,
             "#276419"
            ]
           ],
           "sequential": [
            [
             0,
             "#0d0887"
            ],
            [
             0.1111111111111111,
             "#46039f"
            ],
            [
             0.2222222222222222,
             "#7201a8"
            ],
            [
             0.3333333333333333,
             "#9c179e"
            ],
            [
             0.4444444444444444,
             "#bd3786"
            ],
            [
             0.5555555555555556,
             "#d8576b"
            ],
            [
             0.6666666666666666,
             "#ed7953"
            ],
            [
             0.7777777777777778,
             "#fb9f3a"
            ],
            [
             0.8888888888888888,
             "#fdca26"
            ],
            [
             1,
             "#f0f921"
            ]
           ],
           "sequentialminus": [
            [
             0,
             "#0d0887"
            ],
            [
             0.1111111111111111,
             "#46039f"
            ],
            [
             0.2222222222222222,
             "#7201a8"
            ],
            [
             0.3333333333333333,
             "#9c179e"
            ],
            [
             0.4444444444444444,
             "#bd3786"
            ],
            [
             0.5555555555555556,
             "#d8576b"
            ],
            [
             0.6666666666666666,
             "#ed7953"
            ],
            [
             0.7777777777777778,
             "#fb9f3a"
            ],
            [
             0.8888888888888888,
             "#fdca26"
            ],
            [
             1,
             "#f0f921"
            ]
           ]
          },
          "colorway": [
           "#636efa",
           "#EF553B",
           "#00cc96",
           "#ab63fa",
           "#FFA15A",
           "#19d3f3",
           "#FF6692",
           "#B6E880",
           "#FF97FF",
           "#FECB52"
          ],
          "font": {
           "color": "#2a3f5f"
          },
          "geo": {
           "bgcolor": "white",
           "lakecolor": "white",
           "landcolor": "#E5ECF6",
           "showlakes": true,
           "showland": true,
           "subunitcolor": "white"
          },
          "hoverlabel": {
           "align": "left"
          },
          "hovermode": "closest",
          "mapbox": {
           "style": "light"
          },
          "paper_bgcolor": "white",
          "plot_bgcolor": "#E5ECF6",
          "polar": {
           "angularaxis": {
            "gridcolor": "white",
            "linecolor": "white",
            "ticks": ""
           },
           "bgcolor": "#E5ECF6",
           "radialaxis": {
            "gridcolor": "white",
            "linecolor": "white",
            "ticks": ""
           }
          },
          "scene": {
           "xaxis": {
            "backgroundcolor": "#E5ECF6",
            "gridcolor": "white",
            "gridwidth": 2,
            "linecolor": "white",
            "showbackground": true,
            "ticks": "",
            "zerolinecolor": "white"
           },
           "yaxis": {
            "backgroundcolor": "#E5ECF6",
            "gridcolor": "white",
            "gridwidth": 2,
            "linecolor": "white",
            "showbackground": true,
            "ticks": "",
            "zerolinecolor": "white"
           },
           "zaxis": {
            "backgroundcolor": "#E5ECF6",
            "gridcolor": "white",
            "gridwidth": 2,
            "linecolor": "white",
            "showbackground": true,
            "ticks": "",
            "zerolinecolor": "white"
           }
          },
          "shapedefaults": {
           "line": {
            "color": "#2a3f5f"
           }
          },
          "ternary": {
           "aaxis": {
            "gridcolor": "white",
            "linecolor": "white",
            "ticks": ""
           },
           "baxis": {
            "gridcolor": "white",
            "linecolor": "white",
            "ticks": ""
           },
           "bgcolor": "#E5ECF6",
           "caxis": {
            "gridcolor": "white",
            "linecolor": "white",
            "ticks": ""
           }
          },
          "title": {
           "x": 0.05
          },
          "xaxis": {
           "automargin": true,
           "gridcolor": "white",
           "linecolor": "white",
           "ticks": "",
           "title": {
            "standoff": 15
           },
           "zerolinecolor": "white",
           "zerolinewidth": 2
          },
          "yaxis": {
           "automargin": true,
           "gridcolor": "white",
           "linecolor": "white",
           "ticks": "",
           "title": {
            "standoff": 15
           },
           "zerolinecolor": "white",
           "zerolinewidth": 2
          }
         }
        },
        "title": {
         "text": "SPLASH (Avery Picnic) vs SOS Daily Sublimation on UW Tower"
        },
        "width": 800,
        "xaxis": {
         "anchor": "y",
         "domain": [
          0,
          1
         ],
         "title": {
          "text": "SOS 10m Sublimation Rate (mm/day)"
         }
        },
        "yaxis": {
         "anchor": "x",
         "domain": [
          0,
          1
         ],
         "title": {
          "text": "SPLASH Sublimation Rate (mm/day)"
         }
        }
       }
      },
      "text/html": [
       "<div>                            <div id=\"f10f2baf-0d3a-4365-8815-109e08028772\" class=\"plotly-graph-div\" style=\"height:600px; width:800px;\"></div>            <script type=\"text/javascript\">                require([\"plotly\"], function(Plotly) {                    window.PLOTLYENV=window.PLOTLYENV || {};                                    if (document.getElementById(\"f10f2baf-0d3a-4365-8815-109e08028772\")) {                    Plotly.newPlot(                        \"f10f2baf-0d3a-4365-8815-109e08028772\",                        [{\"hovertemplate\":\"w_h2o__3m_uw=%{x}\\u003cbr\\u003ee_rate=%{y}\\u003cextra\\u003e\\u003c\\u002fextra\\u003e\",\"legendgroup\":\"\",\"marker\":{\"color\":\"#636efa\",\"symbol\":\"circle\",\"line\":{\"color\":\"black\",\"width\":1},\"size\":10},\"mode\":\"markers\",\"name\":\"\",\"orientation\":\"v\",\"showlegend\":false,\"x\":[0.0032140897808917296,0.4457476965357422,0.004058951900545059,0.008646406925297587,0.055839291907159354,0.24528188122303618,0.03184462273898331,0.13874859162897338,-0.027529818936636728,-0.045136680156512905,-0.03797194092838936,0.2312773743397429,0.3685666101162042,0.43259295416837634,0.08391506143200048,0.09437239043637079,0.003837893594167952,0.006393484097975488,0.011688498225078092,0.020346915625577826,0.4010025617208973,1.1832531097188872,0.22335014878171938,0.17374652334898377,0.14560261351703047,0.06217404222925253,0.04070873795207034,0.0033308556658568998,0.1341007202143639,-0.012044840059423866,0.01293795426064753,0.05240601533397615,0.03412938892637173,0.08381045061394615,0.2978361575116424,0.0049069606804700355,-0.006270080364589704,-0.02311161334628309,-0.0332415390435159,0.006277042681517747,0.13593346296993802,0.23000926365128005,0.01057021467192009,-0.026183754667454193,0.04690769941235544,0.032724643002916456,0.0236659124694815,0.07016859514300118,0.2021250005972967,-0.03660353638294714,-0.013991268955905412,0.06971105890627818,0.06383126923075692,0.007284194647832009,0.07032082614960017,0.09765699144254543,0.022843069905024996,0.04801768659977564,0.11338663273376923,0.07527262268640558,0.21706745463077465,0.058177211671085596,0.0024247749089795446,0.006889713440887138,-0.017207235968726302,0.18271994596509558,0.16837919290072317,0.3669880727935797,-0.010847374496291234,0.17610883955702203,0.3505975634316812,0.04155103318314986,-0.003951326396872897,0.020580869517561953,-0.008993589946800811,0.17882106389176103,0.22869181035213382,0.010401756610553998,0.04687093771613741,0.07758550971877014,0.49156586826302373,0.2954629114601408,0.24459390248853197,0.2626815098659577,0.2237806628350631,0.10277210137761753,0.028524659874346978,0.09085358386491861,0.25667493498098964,0.18215142334915937,0.02554971827833081,0.3993814149960775,0.06631142635937977,0.16955046836718632,0.8062541184917791,0.763817660025313,0.9365523365557357,0.3246318931887489,0.8301139384347447,0.042435900669538805,0.5987689941144753,-0.04950111978850881,0.5172456125982106,0.08844911866240895,-0.003201906230333405,0.537732818688477,0.24754012055453817,0.1287392119078504,0.139144567142489,0.06570018122506094,0.10495460010257887,0.25545956504397327,0.12144701289831691,0.18747770209508874,0.2949246683223411,0.04531234276773677,0.2711599022226205,0.14366848556917378,0.11274347595056577,0.3559835937160444,0.19394897891371887],\"xaxis\":\"x\",\"y\":[0.14282751453122072,0.5559486377846115,0.006998397165453456,0.007920955693071635,0.21395499008675853,0.320632212804015,0.018497615533696044,0.0766142998593989,-0.028567580487983777,-0.01303496654409027,0.014965612829239682,0.13806197296747677,0.1945700171784315,0.2209655394772581,0.028768586109109328,0.07133332440203492,0.010150627588707084,0.005647460200380689,0.004623984210009028,0.01921657117905298,0.2296767518660515,0.5704378743686846,0.09255971830850737,0.15287013622000012,0.11723453530826707,0.07209059467600133,0.043427735478618626,0.018607706566700292,0.11390982301861408,7.871625837869712e-05,0.006462587240273028,0.016127779598479507,0.02215476653426631,0.05105865889876603,0.17489048332574392,-0.024932285395995294,-0.04968224550424893,-0.006125715414129223,0.003948717989736393,0.0037010092561285198,0.13244441495752138,0.09234710188359291,0.01631245693031589,0.006797625203799593,0.06414104687825883,0.007569191394358606,0.009410685305814912,0.020408316542795697,0.12803467051956963,-0.024529609493253963,null,null,null,null,null,null,null,null,null,null,null,null,null,null,null,null,null,null,null,null,null,null,null,null,null,null,null,null,null,null,null,null,0.1533702102761737,0.24716204187083538,0.17054039678898267,0.12203946984577838,0.01136792225683158,0.12023550910475883,0.10173731232465355,0.3468467850458704,0.034048442269705784,0.12409921569207756,0.030956247038367923,0.0633947700833814,0.5708971545893294,0.42366874123204995,0.259323690417641,null,null,null,null,null,null,null,null,null,null,null,null,null,null,null,null,null,null,null,null,null,null,null,null],\"yaxis\":\"y\",\"type\":\"scatter\"},{\"hovertemplate\":\"\\u003cb\\u003eOLS trendline\\u003c\\u002fb\\u003e\\u003cbr\\u003ee_rate = 0.502908 * w_h2o__3m_uw + 0.0271865\\u003cbr\\u003eR\\u003csup\\u003e2\\u003c\\u002fsup\\u003e=0.719011\\u003cbr\\u003e\\u003cbr\\u003ew_h2o__3m_uw=%{x}\\u003cbr\\u003ee_rate=%{y} \\u003cb\\u003e(trend)\\u003c\\u002fb\\u003e\\u003cextra\\u003e\\u003c\\u002fextra\\u003e\",\"legendgroup\":\"\",\"marker\":{\"color\":\"#636efa\",\"symbol\":\"circle\",\"line\":{\"color\":\"black\",\"width\":1},\"size\":10},\"mode\":\"lines\",\"name\":\"\",\"showlegend\":false,\"x\":[-0.045136680156512905,-0.03797194092838936,-0.03660353638294714,-0.0332415390435159,-0.027529818936636728,-0.026183754667454193,-0.02311161334628309,-0.012044840059423866,-0.006270080364589704,0.0032140897808917296,0.0033308556658568998,0.003837893594167952,0.004058951900545059,0.0049069606804700355,0.006277042681517747,0.006393484097975488,0.008646406925297587,0.01057021467192009,0.011688498225078092,0.01293795426064753,0.020346915625577826,0.0236659124694815,0.02554971827833081,0.028524659874346978,0.03184462273898331,0.032724643002916456,0.03412938892637173,0.04070873795207034,0.04690769941235544,0.05240601533397615,0.055839291907159354,0.06217404222925253,0.06631142635937977,0.07016859514300118,0.08381045061394615,0.08391506143200048,0.09085358386491861,0.09437239043637079,0.10277210137761753,0.1341007202143639,0.13593346296993802,0.13874859162897338,0.14560261351703047,0.16955046836718632,0.17374652334898377,0.18215142334915937,0.2021250005972967,0.22335014878171938,0.2237806628350631,0.23000926365128005,0.2312773743397429,0.24459390248853197,0.24528188122303618,0.25667493498098964,0.2626815098659577,0.2978361575116424,0.3685666101162042,0.3993814149960775,0.4010025617208973,0.43259295416837634,0.4457476965357422,0.763817660025313,0.8062541184917791,0.9365523365557357,1.1832531097188872],\"xaxis\":\"x\",\"y\":[0.004486883633273927,0.008090085037637543,0.008778266005972143,0.01046903982888461,0.013341506956460582,0.014018452831342404,0.015563455876170085,0.021129019643300852,0.024033189855192625,0.02880285056430572,0.02886157300866724,0.029116566207608056,0.029227738097417764,0.029654208109716956,0.030343232683129287,0.03040179194983082,0.03153480383440375,0.032502301262244016,0.03306469449679457,0.03369305536223719,0.037419077921467765,0.0390882264708092,0.04003560662239246,0.04153172719222269,0.043201361560677665,0.04364393038976021,0.04435038771123535,0.04765919196696322,0.05077669644662662,0.0535418409996416,0.055268461686896156,0.05845425540947341,0.06053497709848464,0.06247477637595983,0.06933536839835894,0.06938797796788038,0.07287741323948996,0.07464704760806153,0.07887132560284842,0.09462672434035434,0.09554842449725613,0.09696417393554477,0.10041111324572176,0.11245467009826847,0.11456489780116273,0.11879178541282812,0.12883664807972833,0.13951093521159474,0.13972744397656378,0.142859854311907,0.14349759674300935,0.15019457920102003,0.15054056889630546,0.15627022157361573,0.15929097339330203,0.17697051088011354,0.2125413890435018,0.22803838686618874,0.22885367378306934,0.24474072044407746,0.2513563396121945,0.41131612358212166,0.432657738660363,0.4981856954171485,0.622253375205107],\"yaxis\":\"y\",\"type\":\"scatter\"},{\"line\":{\"color\":\"black\",\"dash\":\"dash\"},\"mode\":\"lines\",\"name\":\"1:1 Line\",\"x\":[-0.1,1.5],\"y\":[-0.1,1.5],\"type\":\"scatter\"}],                        {\"template\":{\"data\":{\"histogram2dcontour\":[{\"type\":\"histogram2dcontour\",\"colorbar\":{\"outlinewidth\":0,\"ticks\":\"\"},\"colorscale\":[[0.0,\"#0d0887\"],[0.1111111111111111,\"#46039f\"],[0.2222222222222222,\"#7201a8\"],[0.3333333333333333,\"#9c179e\"],[0.4444444444444444,\"#bd3786\"],[0.5555555555555556,\"#d8576b\"],[0.6666666666666666,\"#ed7953\"],[0.7777777777777778,\"#fb9f3a\"],[0.8888888888888888,\"#fdca26\"],[1.0,\"#f0f921\"]]}],\"choropleth\":[{\"type\":\"choropleth\",\"colorbar\":{\"outlinewidth\":0,\"ticks\":\"\"}}],\"histogram2d\":[{\"type\":\"histogram2d\",\"colorbar\":{\"outlinewidth\":0,\"ticks\":\"\"},\"colorscale\":[[0.0,\"#0d0887\"],[0.1111111111111111,\"#46039f\"],[0.2222222222222222,\"#7201a8\"],[0.3333333333333333,\"#9c179e\"],[0.4444444444444444,\"#bd3786\"],[0.5555555555555556,\"#d8576b\"],[0.6666666666666666,\"#ed7953\"],[0.7777777777777778,\"#fb9f3a\"],[0.8888888888888888,\"#fdca26\"],[1.0,\"#f0f921\"]]}],\"heatmap\":[{\"type\":\"heatmap\",\"colorbar\":{\"outlinewidth\":0,\"ticks\":\"\"},\"colorscale\":[[0.0,\"#0d0887\"],[0.1111111111111111,\"#46039f\"],[0.2222222222222222,\"#7201a8\"],[0.3333333333333333,\"#9c179e\"],[0.4444444444444444,\"#bd3786\"],[0.5555555555555556,\"#d8576b\"],[0.6666666666666666,\"#ed7953\"],[0.7777777777777778,\"#fb9f3a\"],[0.8888888888888888,\"#fdca26\"],[1.0,\"#f0f921\"]]}],\"heatmapgl\":[{\"type\":\"heatmapgl\",\"colorbar\":{\"outlinewidth\":0,\"ticks\":\"\"},\"colorscale\":[[0.0,\"#0d0887\"],[0.1111111111111111,\"#46039f\"],[0.2222222222222222,\"#7201a8\"],[0.3333333333333333,\"#9c179e\"],[0.4444444444444444,\"#bd3786\"],[0.5555555555555556,\"#d8576b\"],[0.6666666666666666,\"#ed7953\"],[0.7777777777777778,\"#fb9f3a\"],[0.8888888888888888,\"#fdca26\"],[1.0,\"#f0f921\"]]}],\"contourcarpet\":[{\"type\":\"contourcarpet\",\"colorbar\":{\"outlinewidth\":0,\"ticks\":\"\"}}],\"contour\":[{\"type\":\"contour\",\"colorbar\":{\"outlinewidth\":0,\"ticks\":\"\"},\"colorscale\":[[0.0,\"#0d0887\"],[0.1111111111111111,\"#46039f\"],[0.2222222222222222,\"#7201a8\"],[0.3333333333333333,\"#9c179e\"],[0.4444444444444444,\"#bd3786\"],[0.5555555555555556,\"#d8576b\"],[0.6666666666666666,\"#ed7953\"],[0.7777777777777778,\"#fb9f3a\"],[0.8888888888888888,\"#fdca26\"],[1.0,\"#f0f921\"]]}],\"surface\":[{\"type\":\"surface\",\"colorbar\":{\"outlinewidth\":0,\"ticks\":\"\"},\"colorscale\":[[0.0,\"#0d0887\"],[0.1111111111111111,\"#46039f\"],[0.2222222222222222,\"#7201a8\"],[0.3333333333333333,\"#9c179e\"],[0.4444444444444444,\"#bd3786\"],[0.5555555555555556,\"#d8576b\"],[0.6666666666666666,\"#ed7953\"],[0.7777777777777778,\"#fb9f3a\"],[0.8888888888888888,\"#fdca26\"],[1.0,\"#f0f921\"]]}],\"mesh3d\":[{\"type\":\"mesh3d\",\"colorbar\":{\"outlinewidth\":0,\"ticks\":\"\"}}],\"scatter\":[{\"fillpattern\":{\"fillmode\":\"overlay\",\"size\":10,\"solidity\":0.2},\"type\":\"scatter\"}],\"parcoords\":[{\"type\":\"parcoords\",\"line\":{\"colorbar\":{\"outlinewidth\":0,\"ticks\":\"\"}}}],\"scatterpolargl\":[{\"type\":\"scatterpolargl\",\"marker\":{\"colorbar\":{\"outlinewidth\":0,\"ticks\":\"\"}}}],\"bar\":[{\"error_x\":{\"color\":\"#2a3f5f\"},\"error_y\":{\"color\":\"#2a3f5f\"},\"marker\":{\"line\":{\"color\":\"#E5ECF6\",\"width\":0.5},\"pattern\":{\"fillmode\":\"overlay\",\"size\":10,\"solidity\":0.2}},\"type\":\"bar\"}],\"scattergeo\":[{\"type\":\"scattergeo\",\"marker\":{\"colorbar\":{\"outlinewidth\":0,\"ticks\":\"\"}}}],\"scatterpolar\":[{\"type\":\"scatterpolar\",\"marker\":{\"colorbar\":{\"outlinewidth\":0,\"ticks\":\"\"}}}],\"histogram\":[{\"marker\":{\"pattern\":{\"fillmode\":\"overlay\",\"size\":10,\"solidity\":0.2}},\"type\":\"histogram\"}],\"scattergl\":[{\"type\":\"scattergl\",\"marker\":{\"colorbar\":{\"outlinewidth\":0,\"ticks\":\"\"}}}],\"scatter3d\":[{\"type\":\"scatter3d\",\"line\":{\"colorbar\":{\"outlinewidth\":0,\"ticks\":\"\"}},\"marker\":{\"colorbar\":{\"outlinewidth\":0,\"ticks\":\"\"}}}],\"scattermapbox\":[{\"type\":\"scattermapbox\",\"marker\":{\"colorbar\":{\"outlinewidth\":0,\"ticks\":\"\"}}}],\"scatterternary\":[{\"type\":\"scatterternary\",\"marker\":{\"colorbar\":{\"outlinewidth\":0,\"ticks\":\"\"}}}],\"scattercarpet\":[{\"type\":\"scattercarpet\",\"marker\":{\"colorbar\":{\"outlinewidth\":0,\"ticks\":\"\"}}}],\"carpet\":[{\"aaxis\":{\"endlinecolor\":\"#2a3f5f\",\"gridcolor\":\"white\",\"linecolor\":\"white\",\"minorgridcolor\":\"white\",\"startlinecolor\":\"#2a3f5f\"},\"baxis\":{\"endlinecolor\":\"#2a3f5f\",\"gridcolor\":\"white\",\"linecolor\":\"white\",\"minorgridcolor\":\"white\",\"startlinecolor\":\"#2a3f5f\"},\"type\":\"carpet\"}],\"table\":[{\"cells\":{\"fill\":{\"color\":\"#EBF0F8\"},\"line\":{\"color\":\"white\"}},\"header\":{\"fill\":{\"color\":\"#C8D4E3\"},\"line\":{\"color\":\"white\"}},\"type\":\"table\"}],\"barpolar\":[{\"marker\":{\"line\":{\"color\":\"#E5ECF6\",\"width\":0.5},\"pattern\":{\"fillmode\":\"overlay\",\"size\":10,\"solidity\":0.2}},\"type\":\"barpolar\"}],\"pie\":[{\"automargin\":true,\"type\":\"pie\"}]},\"layout\":{\"autotypenumbers\":\"strict\",\"colorway\":[\"#636efa\",\"#EF553B\",\"#00cc96\",\"#ab63fa\",\"#FFA15A\",\"#19d3f3\",\"#FF6692\",\"#B6E880\",\"#FF97FF\",\"#FECB52\"],\"font\":{\"color\":\"#2a3f5f\"},\"hovermode\":\"closest\",\"hoverlabel\":{\"align\":\"left\"},\"paper_bgcolor\":\"white\",\"plot_bgcolor\":\"#E5ECF6\",\"polar\":{\"bgcolor\":\"#E5ECF6\",\"angularaxis\":{\"gridcolor\":\"white\",\"linecolor\":\"white\",\"ticks\":\"\"},\"radialaxis\":{\"gridcolor\":\"white\",\"linecolor\":\"white\",\"ticks\":\"\"}},\"ternary\":{\"bgcolor\":\"#E5ECF6\",\"aaxis\":{\"gridcolor\":\"white\",\"linecolor\":\"white\",\"ticks\":\"\"},\"baxis\":{\"gridcolor\":\"white\",\"linecolor\":\"white\",\"ticks\":\"\"},\"caxis\":{\"gridcolor\":\"white\",\"linecolor\":\"white\",\"ticks\":\"\"}},\"coloraxis\":{\"colorbar\":{\"outlinewidth\":0,\"ticks\":\"\"}},\"colorscale\":{\"sequential\":[[0.0,\"#0d0887\"],[0.1111111111111111,\"#46039f\"],[0.2222222222222222,\"#7201a8\"],[0.3333333333333333,\"#9c179e\"],[0.4444444444444444,\"#bd3786\"],[0.5555555555555556,\"#d8576b\"],[0.6666666666666666,\"#ed7953\"],[0.7777777777777778,\"#fb9f3a\"],[0.8888888888888888,\"#fdca26\"],[1.0,\"#f0f921\"]],\"sequentialminus\":[[0.0,\"#0d0887\"],[0.1111111111111111,\"#46039f\"],[0.2222222222222222,\"#7201a8\"],[0.3333333333333333,\"#9c179e\"],[0.4444444444444444,\"#bd3786\"],[0.5555555555555556,\"#d8576b\"],[0.6666666666666666,\"#ed7953\"],[0.7777777777777778,\"#fb9f3a\"],[0.8888888888888888,\"#fdca26\"],[1.0,\"#f0f921\"]],\"diverging\":[[0,\"#8e0152\"],[0.1,\"#c51b7d\"],[0.2,\"#de77ae\"],[0.3,\"#f1b6da\"],[0.4,\"#fde0ef\"],[0.5,\"#f7f7f7\"],[0.6,\"#e6f5d0\"],[0.7,\"#b8e186\"],[0.8,\"#7fbc41\"],[0.9,\"#4d9221\"],[1,\"#276419\"]]},\"xaxis\":{\"gridcolor\":\"white\",\"linecolor\":\"white\",\"ticks\":\"\",\"title\":{\"standoff\":15},\"zerolinecolor\":\"white\",\"automargin\":true,\"zerolinewidth\":2},\"yaxis\":{\"gridcolor\":\"white\",\"linecolor\":\"white\",\"ticks\":\"\",\"title\":{\"standoff\":15},\"zerolinecolor\":\"white\",\"automargin\":true,\"zerolinewidth\":2},\"scene\":{\"xaxis\":{\"backgroundcolor\":\"#E5ECF6\",\"gridcolor\":\"white\",\"linecolor\":\"white\",\"showbackground\":true,\"ticks\":\"\",\"zerolinecolor\":\"white\",\"gridwidth\":2},\"yaxis\":{\"backgroundcolor\":\"#E5ECF6\",\"gridcolor\":\"white\",\"linecolor\":\"white\",\"showbackground\":true,\"ticks\":\"\",\"zerolinecolor\":\"white\",\"gridwidth\":2},\"zaxis\":{\"backgroundcolor\":\"#E5ECF6\",\"gridcolor\":\"white\",\"linecolor\":\"white\",\"showbackground\":true,\"ticks\":\"\",\"zerolinecolor\":\"white\",\"gridwidth\":2}},\"shapedefaults\":{\"line\":{\"color\":\"#2a3f5f\"}},\"annotationdefaults\":{\"arrowcolor\":\"#2a3f5f\",\"arrowhead\":0,\"arrowwidth\":1},\"geo\":{\"bgcolor\":\"white\",\"landcolor\":\"#E5ECF6\",\"subunitcolor\":\"white\",\"showland\":true,\"showlakes\":true,\"lakecolor\":\"white\"},\"title\":{\"x\":0.05},\"mapbox\":{\"style\":\"light\"}}},\"xaxis\":{\"anchor\":\"y\",\"domain\":[0.0,1.0],\"title\":{\"text\":\"SOS 10m Sublimation Rate (mm\\u002fday)\"}},\"yaxis\":{\"anchor\":\"x\",\"domain\":[0.0,1.0],\"title\":{\"text\":\"SPLASH Sublimation Rate (mm\\u002fday)\"}},\"legend\":{\"tracegroupgap\":0},\"title\":{\"text\":\"SPLASH (Avery Picnic) vs SOS Daily Sublimation on UW Tower\"},\"width\":800,\"height\":600},                        {\"responsive\": true}                    ).then(function(){\n",
       "                            \n",
       "var gd = document.getElementById('f10f2baf-0d3a-4365-8815-109e08028772');\n",
       "var x = new MutationObserver(function (mutations, observer) {{\n",
       "        var display = window.getComputedStyle(gd).display;\n",
       "        if (!display || display === 'none') {{\n",
       "            console.log([gd, 'removed!']);\n",
       "            Plotly.purge(gd);\n",
       "            observer.disconnect();\n",
       "        }}\n",
       "}});\n",
       "\n",
       "// Listen for the removal of the full notebook cells\n",
       "var notebookContainer = gd.closest('#notebook-container');\n",
       "if (notebookContainer) {{\n",
       "    x.observe(notebookContainer, {childList: true});\n",
       "}}\n",
       "\n",
       "// Listen for the clearing of the current output cell\n",
       "var outputEl = gd.closest('.output');\n",
       "if (outputEl) {{\n",
       "    x.observe(outputEl, {childList: true});\n",
       "}}\n",
       "\n",
       "                        })                };                });            </script>        </div>"
      ]
     },
     "metadata": {},
     "output_type": "display_data"
    }
   ],
   "source": [
    "# caclulate and plot the cumulative sum of e_rate\n",
    "ds = xr.open_dataset('../../01_data/processed_data/sos_daily_h2o_flux_cleaned.nc')\n",
    "# ecor_ds.e_rate.cumsum().plot()\n",
    "cumulative_sos_sublimation = ds.cumsum(dim='time')\n",
    "# scatter plot of e_rate vs ds['w_h2o__3m_uw']\n",
    "df1 = splash_ap_qc_ds['e_rate'].sel(time=slice('2022-12-01','2023-03-31')).to_dataframe().dropna().resample('1D').sum()\n",
    "df1 = df1[df1!=0]\n",
    "df2 = ds['w_h2o__3m_uw'].sel(time=slice('2022-12-01','2023-03-31')).to_dataframe()\n",
    "df = pd.concat([df1, df2], axis=1)\n",
    "\n",
    "fig = px.scatter(df, \n",
    "                 x='w_h2o__3m_uw', \n",
    "                 y='e_rate', \n",
    "                 title='SPLASH (Avery Picnic) vs SOS Daily Sublimation on UW Tower',\n",
    "                 trendline='ols',)\n",
    "# add black edges to markers\n",
    "fig.update_traces(marker=dict(line=dict(width=1, color='black'), size=10))\n",
    "# add 1:1 line\n",
    "fig.add_trace(go.Scatter(x=[-0.1, 1.5], y=[-0.1, 1.5], mode='lines', name='1:1 Line', line=dict(color='black', dash='dash')))\n",
    "fig.update_layout(\n",
    "    xaxis_title='SOS 10m Sublimation Rate (mm/day)',\n",
    "    yaxis_title='SPLASH Sublimation Rate (mm/day)',\n",
    "    width=800,\n",
    "    height=600,\n",
    ")"
   ]
  },
  {
   "cell_type": "markdown",
   "metadata": {},
   "source": [
    "### Make Heatmaps Sublimation with Wind Speed and Direction"
   ]
  },
  {
   "cell_type": "markdown",
   "metadata": {},
   "source": [
    "### 2022"
   ]
  },
  {
   "cell_type": "code",
   "execution_count": 137,
   "metadata": {},
   "outputs": [],
   "source": [
    "location = 'kp'\n",
    "if location=='kp':\n",
    "    ds = w22_splash_kp_qc_ds_1H\n",
    "    # replace mean_t with the temp_mean value from w22_saile_met_qc_ds_1H\n",
    "    wspd_var = 'wspd_vec_mean'\n",
    "    wdir_var = 'wdir_vec_mean'\n",
    "    temp_var = 'temp'\n",
    "    title = 'Kettle Ponds'\n",
    "elif location=='ap':\n",
    "    ds = w22_splash_ap_qc_ds_1H\n",
    "    wspd_var = 'wspd_vec_mean'\n",
    "    wdir_var = 'wdir_vec_mean'\n",
    "    temp_var = 'temp'\n",
    "    title = 'Avery Picnic'\n",
    "df_to_use = ds.to_dataframe()\n",
    "timestep=1\n",
    "\n",
    "df_test = df_to_use[[wspd_var, wdir_var, temp_var]]\n",
    "# lets add sublimation to the dataframe\n",
    "df_test['sublimation'] = ds['e_rate'].sel(time=slice('2021-12-01','2022-03-31'))"
   ]
  },
  {
   "cell_type": "code",
   "execution_count": 135,
   "metadata": {},
   "outputs": [
    {
     "name": "stderr",
     "output_type": "stream",
     "text": [
      "The default of observed=False is deprecated and will be changed to True in a future version of pandas. Pass observed=False to retain current behavior or observed=True to adopt the future default and silence this warning.\n"
     ]
    },
    {
     "data": {
      "text/plain": [
       "15.183291073472514"
      ]
     },
     "execution_count": 135,
     "metadata": {},
     "output_type": "execute_result"
    }
   ],
   "source": [
    "# wind speed bins\n",
    "wspd_bins = [0, 2, 4, 6, 8, 10,]\n",
    "# wind direction bins\n",
    "wdir_bins = [0, 45, 90, 135, 180, 225, 270, 315, 360]\n",
    "\n",
    "# wspd cut and sum sublimation for each bin\n",
    "wsp_assignment = pd.cut(df_test[wspd_var], bins=wspd_bins, labels=wspd_bins[:-1])\n",
    "wsp_assignment.name = 'wsp_assignment'\n",
    "# wdir cut and sum sublimation for each bin\n",
    "wdir_assignment = pd.cut(df_test[wdir_var], bins=wdir_bins, labels=wdir_bins[:-1])\n",
    "wdir_assignment.name = 'wdir_assignment'\n",
    "\n",
    "# combine the two assignments and the sublimation\n",
    "df_test['wsp_assignment'] = wsp_assignment.values\n",
    "df_test['wdir_assignment'] = wdir_assignment.values\n",
    "\n",
    "# groupby the wspd and wdir assignments and get the sum of w_h2o__3m_uw\n",
    "grouped = df_test.groupby(['wsp_assignment', 'wdir_assignment']).sum()[f'sublimation']\n",
    "# unstack and put into a dataframe\n",
    "grouped =(grouped.unstack())"
   ]
  },
  {
   "cell_type": "code",
   "execution_count": 120,
   "metadata": {},
   "outputs": [
    {
     "data": {
      "application/vnd.plotly.v1+json": {
       "config": {
        "plotlyServerURL": "https://plot.ly"
       },
       "data": [
        {
         "colorbar": {
          "title": {
           "text": "Sublimation<br>(mm)"
          }
         },
         "colorscale": [
          [
           0,
           "rgb(5,48,97)"
          ],
          [
           0.1,
           "rgb(33,102,172)"
          ],
          [
           0.2,
           "rgb(67,147,195)"
          ],
          [
           0.3,
           "rgb(146,197,222)"
          ],
          [
           0.4,
           "rgb(209,229,240)"
          ],
          [
           0.5,
           "rgb(247,247,247)"
          ],
          [
           0.6,
           "rgb(253,219,199)"
          ],
          [
           0.7,
           "rgb(244,165,130)"
          ],
          [
           0.8,
           "rgb(214,96,77)"
          ],
          [
           0.9,
           "rgb(178,24,43)"
          ],
          [
           1,
           "rgb(103,0,31)"
          ]
         ],
         "type": "heatmap",
         "x": [
          0,
          45,
          90,
          135,
          180,
          225,
          270,
          315
         ],
         "xgap": 1,
         "y": [
          0,
          2,
          4,
          6,
          8
         ],
         "ygap": 1,
         "z": [
          [
           0.3046541806046166,
           0.7787764639944373,
           1.0164613384301342,
           0.19368736726361488,
           0.3859840697331833,
           0.08312880493011149,
           -0.04819503588538562,
           0.137137001680994
          ],
          [
           0.2675573260483601,
           0.19670074916881397,
           0.6997222899065441,
           0.35375843632532317,
           0.02629289315285084,
           0.04826901398745371,
           0.5036662069704518,
           0.9953433370092278
          ],
          [
           0.013779641785703975,
           0.18860233158009285,
           0.1742857008996036,
           0.02400796493350999,
           0,
           0.054681620864152056,
           1.514885305283607,
           1.7379842992861512
          ],
          [
           0.03958173035829752,
           0,
           0.013509673272447722,
           0.015817191253220425,
           0,
           0.09215191227428152,
           1.1130245304048707,
           2.0460661755517258
          ],
          [
           0,
           0,
           0.0037903534129371886,
           0,
           0,
           0,
           1.1297776463791172,
           0.7636664418770754
          ]
         ],
         "zmax": 2,
         "zmin": -2
        }
       ],
       "layout": {
        "height": 400,
        "template": {
         "data": {
          "bar": [
           {
            "error_x": {
             "color": "#2a3f5f"
            },
            "error_y": {
             "color": "#2a3f5f"
            },
            "marker": {
             "line": {
              "color": "#E5ECF6",
              "width": 0.5
             },
             "pattern": {
              "fillmode": "overlay",
              "size": 10,
              "solidity": 0.2
             }
            },
            "type": "bar"
           }
          ],
          "barpolar": [
           {
            "marker": {
             "line": {
              "color": "#E5ECF6",
              "width": 0.5
             },
             "pattern": {
              "fillmode": "overlay",
              "size": 10,
              "solidity": 0.2
             }
            },
            "type": "barpolar"
           }
          ],
          "carpet": [
           {
            "aaxis": {
             "endlinecolor": "#2a3f5f",
             "gridcolor": "white",
             "linecolor": "white",
             "minorgridcolor": "white",
             "startlinecolor": "#2a3f5f"
            },
            "baxis": {
             "endlinecolor": "#2a3f5f",
             "gridcolor": "white",
             "linecolor": "white",
             "minorgridcolor": "white",
             "startlinecolor": "#2a3f5f"
            },
            "type": "carpet"
           }
          ],
          "choropleth": [
           {
            "colorbar": {
             "outlinewidth": 0,
             "ticks": ""
            },
            "type": "choropleth"
           }
          ],
          "contour": [
           {
            "colorbar": {
             "outlinewidth": 0,
             "ticks": ""
            },
            "colorscale": [
             [
              0,
              "#0d0887"
             ],
             [
              0.1111111111111111,
              "#46039f"
             ],
             [
              0.2222222222222222,
              "#7201a8"
             ],
             [
              0.3333333333333333,
              "#9c179e"
             ],
             [
              0.4444444444444444,
              "#bd3786"
             ],
             [
              0.5555555555555556,
              "#d8576b"
             ],
             [
              0.6666666666666666,
              "#ed7953"
             ],
             [
              0.7777777777777778,
              "#fb9f3a"
             ],
             [
              0.8888888888888888,
              "#fdca26"
             ],
             [
              1,
              "#f0f921"
             ]
            ],
            "type": "contour"
           }
          ],
          "contourcarpet": [
           {
            "colorbar": {
             "outlinewidth": 0,
             "ticks": ""
            },
            "type": "contourcarpet"
           }
          ],
          "heatmap": [
           {
            "colorbar": {
             "outlinewidth": 0,
             "ticks": ""
            },
            "colorscale": [
             [
              0,
              "#0d0887"
             ],
             [
              0.1111111111111111,
              "#46039f"
             ],
             [
              0.2222222222222222,
              "#7201a8"
             ],
             [
              0.3333333333333333,
              "#9c179e"
             ],
             [
              0.4444444444444444,
              "#bd3786"
             ],
             [
              0.5555555555555556,
              "#d8576b"
             ],
             [
              0.6666666666666666,
              "#ed7953"
             ],
             [
              0.7777777777777778,
              "#fb9f3a"
             ],
             [
              0.8888888888888888,
              "#fdca26"
             ],
             [
              1,
              "#f0f921"
             ]
            ],
            "type": "heatmap"
           }
          ],
          "heatmapgl": [
           {
            "colorbar": {
             "outlinewidth": 0,
             "ticks": ""
            },
            "colorscale": [
             [
              0,
              "#0d0887"
             ],
             [
              0.1111111111111111,
              "#46039f"
             ],
             [
              0.2222222222222222,
              "#7201a8"
             ],
             [
              0.3333333333333333,
              "#9c179e"
             ],
             [
              0.4444444444444444,
              "#bd3786"
             ],
             [
              0.5555555555555556,
              "#d8576b"
             ],
             [
              0.6666666666666666,
              "#ed7953"
             ],
             [
              0.7777777777777778,
              "#fb9f3a"
             ],
             [
              0.8888888888888888,
              "#fdca26"
             ],
             [
              1,
              "#f0f921"
             ]
            ],
            "type": "heatmapgl"
           }
          ],
          "histogram": [
           {
            "marker": {
             "pattern": {
              "fillmode": "overlay",
              "size": 10,
              "solidity": 0.2
             }
            },
            "type": "histogram"
           }
          ],
          "histogram2d": [
           {
            "colorbar": {
             "outlinewidth": 0,
             "ticks": ""
            },
            "colorscale": [
             [
              0,
              "#0d0887"
             ],
             [
              0.1111111111111111,
              "#46039f"
             ],
             [
              0.2222222222222222,
              "#7201a8"
             ],
             [
              0.3333333333333333,
              "#9c179e"
             ],
             [
              0.4444444444444444,
              "#bd3786"
             ],
             [
              0.5555555555555556,
              "#d8576b"
             ],
             [
              0.6666666666666666,
              "#ed7953"
             ],
             [
              0.7777777777777778,
              "#fb9f3a"
             ],
             [
              0.8888888888888888,
              "#fdca26"
             ],
             [
              1,
              "#f0f921"
             ]
            ],
            "type": "histogram2d"
           }
          ],
          "histogram2dcontour": [
           {
            "colorbar": {
             "outlinewidth": 0,
             "ticks": ""
            },
            "colorscale": [
             [
              0,
              "#0d0887"
             ],
             [
              0.1111111111111111,
              "#46039f"
             ],
             [
              0.2222222222222222,
              "#7201a8"
             ],
             [
              0.3333333333333333,
              "#9c179e"
             ],
             [
              0.4444444444444444,
              "#bd3786"
             ],
             [
              0.5555555555555556,
              "#d8576b"
             ],
             [
              0.6666666666666666,
              "#ed7953"
             ],
             [
              0.7777777777777778,
              "#fb9f3a"
             ],
             [
              0.8888888888888888,
              "#fdca26"
             ],
             [
              1,
              "#f0f921"
             ]
            ],
            "type": "histogram2dcontour"
           }
          ],
          "mesh3d": [
           {
            "colorbar": {
             "outlinewidth": 0,
             "ticks": ""
            },
            "type": "mesh3d"
           }
          ],
          "parcoords": [
           {
            "line": {
             "colorbar": {
              "outlinewidth": 0,
              "ticks": ""
             }
            },
            "type": "parcoords"
           }
          ],
          "pie": [
           {
            "automargin": true,
            "type": "pie"
           }
          ],
          "scatter": [
           {
            "fillpattern": {
             "fillmode": "overlay",
             "size": 10,
             "solidity": 0.2
            },
            "type": "scatter"
           }
          ],
          "scatter3d": [
           {
            "line": {
             "colorbar": {
              "outlinewidth": 0,
              "ticks": ""
             }
            },
            "marker": {
             "colorbar": {
              "outlinewidth": 0,
              "ticks": ""
             }
            },
            "type": "scatter3d"
           }
          ],
          "scattercarpet": [
           {
            "marker": {
             "colorbar": {
              "outlinewidth": 0,
              "ticks": ""
             }
            },
            "type": "scattercarpet"
           }
          ],
          "scattergeo": [
           {
            "marker": {
             "colorbar": {
              "outlinewidth": 0,
              "ticks": ""
             }
            },
            "type": "scattergeo"
           }
          ],
          "scattergl": [
           {
            "marker": {
             "colorbar": {
              "outlinewidth": 0,
              "ticks": ""
             }
            },
            "type": "scattergl"
           }
          ],
          "scattermapbox": [
           {
            "marker": {
             "colorbar": {
              "outlinewidth": 0,
              "ticks": ""
             }
            },
            "type": "scattermapbox"
           }
          ],
          "scatterpolar": [
           {
            "marker": {
             "colorbar": {
              "outlinewidth": 0,
              "ticks": ""
             }
            },
            "type": "scatterpolar"
           }
          ],
          "scatterpolargl": [
           {
            "marker": {
             "colorbar": {
              "outlinewidth": 0,
              "ticks": ""
             }
            },
            "type": "scatterpolargl"
           }
          ],
          "scatterternary": [
           {
            "marker": {
             "colorbar": {
              "outlinewidth": 0,
              "ticks": ""
             }
            },
            "type": "scatterternary"
           }
          ],
          "surface": [
           {
            "colorbar": {
             "outlinewidth": 0,
             "ticks": ""
            },
            "colorscale": [
             [
              0,
              "#0d0887"
             ],
             [
              0.1111111111111111,
              "#46039f"
             ],
             [
              0.2222222222222222,
              "#7201a8"
             ],
             [
              0.3333333333333333,
              "#9c179e"
             ],
             [
              0.4444444444444444,
              "#bd3786"
             ],
             [
              0.5555555555555556,
              "#d8576b"
             ],
             [
              0.6666666666666666,
              "#ed7953"
             ],
             [
              0.7777777777777778,
              "#fb9f3a"
             ],
             [
              0.8888888888888888,
              "#fdca26"
             ],
             [
              1,
              "#f0f921"
             ]
            ],
            "type": "surface"
           }
          ],
          "table": [
           {
            "cells": {
             "fill": {
              "color": "#EBF0F8"
             },
             "line": {
              "color": "white"
             }
            },
            "header": {
             "fill": {
              "color": "#C8D4E3"
             },
             "line": {
              "color": "white"
             }
            },
            "type": "table"
           }
          ]
         },
         "layout": {
          "annotationdefaults": {
           "arrowcolor": "#2a3f5f",
           "arrowhead": 0,
           "arrowwidth": 1
          },
          "autotypenumbers": "strict",
          "coloraxis": {
           "colorbar": {
            "outlinewidth": 0,
            "ticks": ""
           }
          },
          "colorscale": {
           "diverging": [
            [
             0,
             "#8e0152"
            ],
            [
             0.1,
             "#c51b7d"
            ],
            [
             0.2,
             "#de77ae"
            ],
            [
             0.3,
             "#f1b6da"
            ],
            [
             0.4,
             "#fde0ef"
            ],
            [
             0.5,
             "#f7f7f7"
            ],
            [
             0.6,
             "#e6f5d0"
            ],
            [
             0.7,
             "#b8e186"
            ],
            [
             0.8,
             "#7fbc41"
            ],
            [
             0.9,
             "#4d9221"
            ],
            [
             1,
             "#276419"
            ]
           ],
           "sequential": [
            [
             0,
             "#0d0887"
            ],
            [
             0.1111111111111111,
             "#46039f"
            ],
            [
             0.2222222222222222,
             "#7201a8"
            ],
            [
             0.3333333333333333,
             "#9c179e"
            ],
            [
             0.4444444444444444,
             "#bd3786"
            ],
            [
             0.5555555555555556,
             "#d8576b"
            ],
            [
             0.6666666666666666,
             "#ed7953"
            ],
            [
             0.7777777777777778,
             "#fb9f3a"
            ],
            [
             0.8888888888888888,
             "#fdca26"
            ],
            [
             1,
             "#f0f921"
            ]
           ],
           "sequentialminus": [
            [
             0,
             "#0d0887"
            ],
            [
             0.1111111111111111,
             "#46039f"
            ],
            [
             0.2222222222222222,
             "#7201a8"
            ],
            [
             0.3333333333333333,
             "#9c179e"
            ],
            [
             0.4444444444444444,
             "#bd3786"
            ],
            [
             0.5555555555555556,
             "#d8576b"
            ],
            [
             0.6666666666666666,
             "#ed7953"
            ],
            [
             0.7777777777777778,
             "#fb9f3a"
            ],
            [
             0.8888888888888888,
             "#fdca26"
            ],
            [
             1,
             "#f0f921"
            ]
           ]
          },
          "colorway": [
           "#636efa",
           "#EF553B",
           "#00cc96",
           "#ab63fa",
           "#FFA15A",
           "#19d3f3",
           "#FF6692",
           "#B6E880",
           "#FF97FF",
           "#FECB52"
          ],
          "font": {
           "color": "#2a3f5f"
          },
          "geo": {
           "bgcolor": "white",
           "lakecolor": "white",
           "landcolor": "#E5ECF6",
           "showlakes": true,
           "showland": true,
           "subunitcolor": "white"
          },
          "hoverlabel": {
           "align": "left"
          },
          "hovermode": "closest",
          "mapbox": {
           "style": "light"
          },
          "paper_bgcolor": "white",
          "plot_bgcolor": "#E5ECF6",
          "polar": {
           "angularaxis": {
            "gridcolor": "white",
            "linecolor": "white",
            "ticks": ""
           },
           "bgcolor": "#E5ECF6",
           "radialaxis": {
            "gridcolor": "white",
            "linecolor": "white",
            "ticks": ""
           }
          },
          "scene": {
           "xaxis": {
            "backgroundcolor": "#E5ECF6",
            "gridcolor": "white",
            "gridwidth": 2,
            "linecolor": "white",
            "showbackground": true,
            "ticks": "",
            "zerolinecolor": "white"
           },
           "yaxis": {
            "backgroundcolor": "#E5ECF6",
            "gridcolor": "white",
            "gridwidth": 2,
            "linecolor": "white",
            "showbackground": true,
            "ticks": "",
            "zerolinecolor": "white"
           },
           "zaxis": {
            "backgroundcolor": "#E5ECF6",
            "gridcolor": "white",
            "gridwidth": 2,
            "linecolor": "white",
            "showbackground": true,
            "ticks": "",
            "zerolinecolor": "white"
           }
          },
          "shapedefaults": {
           "line": {
            "color": "#2a3f5f"
           }
          },
          "ternary": {
           "aaxis": {
            "gridcolor": "white",
            "linecolor": "white",
            "ticks": ""
           },
           "baxis": {
            "gridcolor": "white",
            "linecolor": "white",
            "ticks": ""
           },
           "bgcolor": "#E5ECF6",
           "caxis": {
            "gridcolor": "white",
            "linecolor": "white",
            "ticks": ""
           }
          },
          "title": {
           "x": 0.05
          },
          "xaxis": {
           "automargin": true,
           "gridcolor": "white",
           "linecolor": "white",
           "ticks": "",
           "title": {
            "standoff": 15
           },
           "zerolinecolor": "white",
           "zerolinewidth": 2
          },
          "yaxis": {
           "automargin": true,
           "gridcolor": "white",
           "linecolor": "white",
           "ticks": "",
           "title": {
            "standoff": 15
           },
           "zerolinecolor": "white",
           "zerolinewidth": 2
          }
         }
        },
        "title": {
         "text": "Wind Speed and Wind Direction Sublimation<br>Averaging time = 1 Hour(s)"
        },
        "width": 600,
        "xaxis": {
         "ticktext": [
          "N",
          "NE",
          "E",
          "SE",
          "S",
          "SW",
          "W",
          "NW"
         ],
         "tickvals": [
          0,
          45,
          90,
          135,
          180,
          225,
          270,
          315
         ],
         "title": {
          "text": "Wind Direction"
         }
        },
        "yaxis": {
         "ticktext": [
          "0-2",
          "2-4",
          "4-6",
          "6-8",
          "8-10",
          "10-12",
          "12-14",
          "14-16",
          "16-18",
          "18-20"
         ],
         "tickvals": [
          0,
          2,
          4,
          6,
          8,
          10,
          12,
          14,
          16,
          18
         ],
         "title": {
          "text": "Wind Speed"
         }
        }
       }
      },
      "text/html": [
       "<div>                            <div id=\"1cc65660-9df6-4091-8ba3-a7c56afdbdcd\" class=\"plotly-graph-div\" style=\"height:400px; width:600px;\"></div>            <script type=\"text/javascript\">                require([\"plotly\"], function(Plotly) {                    window.PLOTLYENV=window.PLOTLYENV || {};                                    if (document.getElementById(\"1cc65660-9df6-4091-8ba3-a7c56afdbdcd\")) {                    Plotly.newPlot(                        \"1cc65660-9df6-4091-8ba3-a7c56afdbdcd\",                        [{\"colorbar\":{\"title\":{\"text\":\"Sublimation\\u003cbr\\u003e(mm)\"}},\"colorscale\":[[0.0,\"rgb(5,48,97)\"],[0.1,\"rgb(33,102,172)\"],[0.2,\"rgb(67,147,195)\"],[0.3,\"rgb(146,197,222)\"],[0.4,\"rgb(209,229,240)\"],[0.5,\"rgb(247,247,247)\"],[0.6,\"rgb(253,219,199)\"],[0.7,\"rgb(244,165,130)\"],[0.8,\"rgb(214,96,77)\"],[0.9,\"rgb(178,24,43)\"],[1.0,\"rgb(103,0,31)\"]],\"x\":[0,45,90,135,180,225,270,315],\"xgap\":1,\"y\":[0,2,4,6,8],\"ygap\":1,\"z\":[[0.3046541806046166,0.7787764639944373,1.0164613384301342,0.19368736726361488,0.3859840697331833,0.08312880493011149,-0.04819503588538562,0.137137001680994],[0.2675573260483601,0.19670074916881397,0.6997222899065441,0.35375843632532317,0.02629289315285084,0.04826901398745371,0.5036662069704518,0.9953433370092278],[0.013779641785703975,0.18860233158009285,0.1742857008996036,0.02400796493350999,0.0,0.054681620864152056,1.514885305283607,1.7379842992861512],[0.03958173035829752,0.0,0.013509673272447722,0.015817191253220425,0.0,0.09215191227428152,1.1130245304048707,2.0460661755517258],[0.0,0.0,0.0037903534129371886,0.0,0.0,0.0,1.1297776463791172,0.7636664418770754]],\"zmax\":2,\"zmin\":-2,\"type\":\"heatmap\"}],                        {\"template\":{\"data\":{\"histogram2dcontour\":[{\"type\":\"histogram2dcontour\",\"colorbar\":{\"outlinewidth\":0,\"ticks\":\"\"},\"colorscale\":[[0.0,\"#0d0887\"],[0.1111111111111111,\"#46039f\"],[0.2222222222222222,\"#7201a8\"],[0.3333333333333333,\"#9c179e\"],[0.4444444444444444,\"#bd3786\"],[0.5555555555555556,\"#d8576b\"],[0.6666666666666666,\"#ed7953\"],[0.7777777777777778,\"#fb9f3a\"],[0.8888888888888888,\"#fdca26\"],[1.0,\"#f0f921\"]]}],\"choropleth\":[{\"type\":\"choropleth\",\"colorbar\":{\"outlinewidth\":0,\"ticks\":\"\"}}],\"histogram2d\":[{\"type\":\"histogram2d\",\"colorbar\":{\"outlinewidth\":0,\"ticks\":\"\"},\"colorscale\":[[0.0,\"#0d0887\"],[0.1111111111111111,\"#46039f\"],[0.2222222222222222,\"#7201a8\"],[0.3333333333333333,\"#9c179e\"],[0.4444444444444444,\"#bd3786\"],[0.5555555555555556,\"#d8576b\"],[0.6666666666666666,\"#ed7953\"],[0.7777777777777778,\"#fb9f3a\"],[0.8888888888888888,\"#fdca26\"],[1.0,\"#f0f921\"]]}],\"heatmap\":[{\"type\":\"heatmap\",\"colorbar\":{\"outlinewidth\":0,\"ticks\":\"\"},\"colorscale\":[[0.0,\"#0d0887\"],[0.1111111111111111,\"#46039f\"],[0.2222222222222222,\"#7201a8\"],[0.3333333333333333,\"#9c179e\"],[0.4444444444444444,\"#bd3786\"],[0.5555555555555556,\"#d8576b\"],[0.6666666666666666,\"#ed7953\"],[0.7777777777777778,\"#fb9f3a\"],[0.8888888888888888,\"#fdca26\"],[1.0,\"#f0f921\"]]}],\"heatmapgl\":[{\"type\":\"heatmapgl\",\"colorbar\":{\"outlinewidth\":0,\"ticks\":\"\"},\"colorscale\":[[0.0,\"#0d0887\"],[0.1111111111111111,\"#46039f\"],[0.2222222222222222,\"#7201a8\"],[0.3333333333333333,\"#9c179e\"],[0.4444444444444444,\"#bd3786\"],[0.5555555555555556,\"#d8576b\"],[0.6666666666666666,\"#ed7953\"],[0.7777777777777778,\"#fb9f3a\"],[0.8888888888888888,\"#fdca26\"],[1.0,\"#f0f921\"]]}],\"contourcarpet\":[{\"type\":\"contourcarpet\",\"colorbar\":{\"outlinewidth\":0,\"ticks\":\"\"}}],\"contour\":[{\"type\":\"contour\",\"colorbar\":{\"outlinewidth\":0,\"ticks\":\"\"},\"colorscale\":[[0.0,\"#0d0887\"],[0.1111111111111111,\"#46039f\"],[0.2222222222222222,\"#7201a8\"],[0.3333333333333333,\"#9c179e\"],[0.4444444444444444,\"#bd3786\"],[0.5555555555555556,\"#d8576b\"],[0.6666666666666666,\"#ed7953\"],[0.7777777777777778,\"#fb9f3a\"],[0.8888888888888888,\"#fdca26\"],[1.0,\"#f0f921\"]]}],\"surface\":[{\"type\":\"surface\",\"colorbar\":{\"outlinewidth\":0,\"ticks\":\"\"},\"colorscale\":[[0.0,\"#0d0887\"],[0.1111111111111111,\"#46039f\"],[0.2222222222222222,\"#7201a8\"],[0.3333333333333333,\"#9c179e\"],[0.4444444444444444,\"#bd3786\"],[0.5555555555555556,\"#d8576b\"],[0.6666666666666666,\"#ed7953\"],[0.7777777777777778,\"#fb9f3a\"],[0.8888888888888888,\"#fdca26\"],[1.0,\"#f0f921\"]]}],\"mesh3d\":[{\"type\":\"mesh3d\",\"colorbar\":{\"outlinewidth\":0,\"ticks\":\"\"}}],\"scatter\":[{\"fillpattern\":{\"fillmode\":\"overlay\",\"size\":10,\"solidity\":0.2},\"type\":\"scatter\"}],\"parcoords\":[{\"type\":\"parcoords\",\"line\":{\"colorbar\":{\"outlinewidth\":0,\"ticks\":\"\"}}}],\"scatterpolargl\":[{\"type\":\"scatterpolargl\",\"marker\":{\"colorbar\":{\"outlinewidth\":0,\"ticks\":\"\"}}}],\"bar\":[{\"error_x\":{\"color\":\"#2a3f5f\"},\"error_y\":{\"color\":\"#2a3f5f\"},\"marker\":{\"line\":{\"color\":\"#E5ECF6\",\"width\":0.5},\"pattern\":{\"fillmode\":\"overlay\",\"size\":10,\"solidity\":0.2}},\"type\":\"bar\"}],\"scattergeo\":[{\"type\":\"scattergeo\",\"marker\":{\"colorbar\":{\"outlinewidth\":0,\"ticks\":\"\"}}}],\"scatterpolar\":[{\"type\":\"scatterpolar\",\"marker\":{\"colorbar\":{\"outlinewidth\":0,\"ticks\":\"\"}}}],\"histogram\":[{\"marker\":{\"pattern\":{\"fillmode\":\"overlay\",\"size\":10,\"solidity\":0.2}},\"type\":\"histogram\"}],\"scattergl\":[{\"type\":\"scattergl\",\"marker\":{\"colorbar\":{\"outlinewidth\":0,\"ticks\":\"\"}}}],\"scatter3d\":[{\"type\":\"scatter3d\",\"line\":{\"colorbar\":{\"outlinewidth\":0,\"ticks\":\"\"}},\"marker\":{\"colorbar\":{\"outlinewidth\":0,\"ticks\":\"\"}}}],\"scattermapbox\":[{\"type\":\"scattermapbox\",\"marker\":{\"colorbar\":{\"outlinewidth\":0,\"ticks\":\"\"}}}],\"scatterternary\":[{\"type\":\"scatterternary\",\"marker\":{\"colorbar\":{\"outlinewidth\":0,\"ticks\":\"\"}}}],\"scattercarpet\":[{\"type\":\"scattercarpet\",\"marker\":{\"colorbar\":{\"outlinewidth\":0,\"ticks\":\"\"}}}],\"carpet\":[{\"aaxis\":{\"endlinecolor\":\"#2a3f5f\",\"gridcolor\":\"white\",\"linecolor\":\"white\",\"minorgridcolor\":\"white\",\"startlinecolor\":\"#2a3f5f\"},\"baxis\":{\"endlinecolor\":\"#2a3f5f\",\"gridcolor\":\"white\",\"linecolor\":\"white\",\"minorgridcolor\":\"white\",\"startlinecolor\":\"#2a3f5f\"},\"type\":\"carpet\"}],\"table\":[{\"cells\":{\"fill\":{\"color\":\"#EBF0F8\"},\"line\":{\"color\":\"white\"}},\"header\":{\"fill\":{\"color\":\"#C8D4E3\"},\"line\":{\"color\":\"white\"}},\"type\":\"table\"}],\"barpolar\":[{\"marker\":{\"line\":{\"color\":\"#E5ECF6\",\"width\":0.5},\"pattern\":{\"fillmode\":\"overlay\",\"size\":10,\"solidity\":0.2}},\"type\":\"barpolar\"}],\"pie\":[{\"automargin\":true,\"type\":\"pie\"}]},\"layout\":{\"autotypenumbers\":\"strict\",\"colorway\":[\"#636efa\",\"#EF553B\",\"#00cc96\",\"#ab63fa\",\"#FFA15A\",\"#19d3f3\",\"#FF6692\",\"#B6E880\",\"#FF97FF\",\"#FECB52\"],\"font\":{\"color\":\"#2a3f5f\"},\"hovermode\":\"closest\",\"hoverlabel\":{\"align\":\"left\"},\"paper_bgcolor\":\"white\",\"plot_bgcolor\":\"#E5ECF6\",\"polar\":{\"bgcolor\":\"#E5ECF6\",\"angularaxis\":{\"gridcolor\":\"white\",\"linecolor\":\"white\",\"ticks\":\"\"},\"radialaxis\":{\"gridcolor\":\"white\",\"linecolor\":\"white\",\"ticks\":\"\"}},\"ternary\":{\"bgcolor\":\"#E5ECF6\",\"aaxis\":{\"gridcolor\":\"white\",\"linecolor\":\"white\",\"ticks\":\"\"},\"baxis\":{\"gridcolor\":\"white\",\"linecolor\":\"white\",\"ticks\":\"\"},\"caxis\":{\"gridcolor\":\"white\",\"linecolor\":\"white\",\"ticks\":\"\"}},\"coloraxis\":{\"colorbar\":{\"outlinewidth\":0,\"ticks\":\"\"}},\"colorscale\":{\"sequential\":[[0.0,\"#0d0887\"],[0.1111111111111111,\"#46039f\"],[0.2222222222222222,\"#7201a8\"],[0.3333333333333333,\"#9c179e\"],[0.4444444444444444,\"#bd3786\"],[0.5555555555555556,\"#d8576b\"],[0.6666666666666666,\"#ed7953\"],[0.7777777777777778,\"#fb9f3a\"],[0.8888888888888888,\"#fdca26\"],[1.0,\"#f0f921\"]],\"sequentialminus\":[[0.0,\"#0d0887\"],[0.1111111111111111,\"#46039f\"],[0.2222222222222222,\"#7201a8\"],[0.3333333333333333,\"#9c179e\"],[0.4444444444444444,\"#bd3786\"],[0.5555555555555556,\"#d8576b\"],[0.6666666666666666,\"#ed7953\"],[0.7777777777777778,\"#fb9f3a\"],[0.8888888888888888,\"#fdca26\"],[1.0,\"#f0f921\"]],\"diverging\":[[0,\"#8e0152\"],[0.1,\"#c51b7d\"],[0.2,\"#de77ae\"],[0.3,\"#f1b6da\"],[0.4,\"#fde0ef\"],[0.5,\"#f7f7f7\"],[0.6,\"#e6f5d0\"],[0.7,\"#b8e186\"],[0.8,\"#7fbc41\"],[0.9,\"#4d9221\"],[1,\"#276419\"]]},\"xaxis\":{\"gridcolor\":\"white\",\"linecolor\":\"white\",\"ticks\":\"\",\"title\":{\"standoff\":15},\"zerolinecolor\":\"white\",\"automargin\":true,\"zerolinewidth\":2},\"yaxis\":{\"gridcolor\":\"white\",\"linecolor\":\"white\",\"ticks\":\"\",\"title\":{\"standoff\":15},\"zerolinecolor\":\"white\",\"automargin\":true,\"zerolinewidth\":2},\"scene\":{\"xaxis\":{\"backgroundcolor\":\"#E5ECF6\",\"gridcolor\":\"white\",\"linecolor\":\"white\",\"showbackground\":true,\"ticks\":\"\",\"zerolinecolor\":\"white\",\"gridwidth\":2},\"yaxis\":{\"backgroundcolor\":\"#E5ECF6\",\"gridcolor\":\"white\",\"linecolor\":\"white\",\"showbackground\":true,\"ticks\":\"\",\"zerolinecolor\":\"white\",\"gridwidth\":2},\"zaxis\":{\"backgroundcolor\":\"#E5ECF6\",\"gridcolor\":\"white\",\"linecolor\":\"white\",\"showbackground\":true,\"ticks\":\"\",\"zerolinecolor\":\"white\",\"gridwidth\":2}},\"shapedefaults\":{\"line\":{\"color\":\"#2a3f5f\"}},\"annotationdefaults\":{\"arrowcolor\":\"#2a3f5f\",\"arrowhead\":0,\"arrowwidth\":1},\"geo\":{\"bgcolor\":\"white\",\"landcolor\":\"#E5ECF6\",\"subunitcolor\":\"white\",\"showland\":true,\"showlakes\":true,\"lakecolor\":\"white\"},\"title\":{\"x\":0.05},\"mapbox\":{\"style\":\"light\"}}},\"height\":400,\"width\":600,\"xaxis\":{\"title\":{\"text\":\"Wind Direction\"},\"tickvals\":[0,45,90,135,180,225,270,315],\"ticktext\":[\"N\",\"NE\",\"E\",\"SE\",\"S\",\"SW\",\"W\",\"NW\"]},\"yaxis\":{\"title\":{\"text\":\"Wind Speed\"},\"tickvals\":[0,2,4,6,8,10,12,14,16,18],\"ticktext\":[\"0-2\",\"2-4\",\"4-6\",\"6-8\",\"8-10\",\"10-12\",\"12-14\",\"14-16\",\"16-18\",\"18-20\"]},\"title\":{\"text\":\"Wind Speed and Wind Direction Sublimation\\u003cbr\\u003eAveraging time = 1 Hour(s)\"}},                        {\"responsive\": true}                    ).then(function(){\n",
       "                            \n",
       "var gd = document.getElementById('1cc65660-9df6-4091-8ba3-a7c56afdbdcd');\n",
       "var x = new MutationObserver(function (mutations, observer) {{\n",
       "        var display = window.getComputedStyle(gd).display;\n",
       "        if (!display || display === 'none') {{\n",
       "            console.log([gd, 'removed!']);\n",
       "            Plotly.purge(gd);\n",
       "            observer.disconnect();\n",
       "        }}\n",
       "}});\n",
       "\n",
       "// Listen for the removal of the full notebook cells\n",
       "var notebookContainer = gd.closest('#notebook-container');\n",
       "if (notebookContainer) {{\n",
       "    x.observe(notebookContainer, {childList: true});\n",
       "}}\n",
       "\n",
       "// Listen for the clearing of the current output cell\n",
       "var outputEl = gd.closest('.output');\n",
       "if (outputEl) {{\n",
       "    x.observe(outputEl, {childList: true});\n",
       "}}\n",
       "\n",
       "                        })                };                });            </script>        </div>"
      ]
     },
     "metadata": {},
     "output_type": "display_data"
    }
   ],
   "source": [
    "# plot grouped as a heatmap\n",
    "fig = go.Figure()\n",
    "fig.add_trace(go.Heatmap(z=grouped.values, \n",
    "                         x=grouped.columns, \n",
    "                         y=grouped.index,\n",
    "\n",
    "                        colorbar={'title':'Sublimation<br>(mm)'},\n",
    "                        colorscale='RdBu_r',\n",
    "                        # min and max color values\n",
    "                        zmin=-2,\n",
    "                        zmax=2,\n",
    "                        xgap=1,\n",
    "                        ygap=1,\n",
    "                         ))\n",
    "# add grid\n",
    "fig.update_layout(height=400, \n",
    "                  width=600,\n",
    "                  xaxis_title='Wind Direction',\n",
    "                  yaxis_title='Wind Speed',\n",
    "                  title=f'Wind Speed and Wind Direction Sublimation<br>Averaging time = {timestep} Hour(s)',\n",
    "                  )\n",
    "# change x-axis ticks to be cardinal wind directions\n",
    "fig.update_xaxes(tickvals=[0, 45, 90, 135, 180, 225, 270, 315], ticktext=['N', 'NE', 'E', 'SE', 'S', 'SW', 'W', 'NW'])\n",
    "# update y-axes ticks to be wind speed bins\n",
    "fig.update_yaxes(tickvals=[0, 2, 4, 6, 8, 10, 12, 14, 16, 18], ticktext=['0-2', '2-4', '4-6', '6-8', '8-10', '10-12', '12-14', '14-16', '16-18', '18-20'])\n",
    "# update legend title to legend_title='Percent of Winter Sublimation (%)'"
   ]
  },
  {
   "cell_type": "code",
   "execution_count": 132,
   "metadata": {},
   "outputs": [
    {
     "data": {
      "application/vnd.plotly.v1+json": {
       "config": {
        "plotlyServerURL": "https://plot.ly"
       },
       "data": [
        {
         "line": {
          "color": "blue"
         },
         "name": "SPLASH Sublimation (Avery Picnic)",
         "type": "scatter",
         "x": [
          "2021-11-30T00:00:00.000000000",
          "2021-12-01T00:00:00.000000000",
          "2021-12-02T00:00:00.000000000",
          "2021-12-03T00:00:00.000000000",
          "2021-12-04T00:00:00.000000000",
          "2021-12-05T00:00:00.000000000",
          "2021-12-06T00:00:00.000000000",
          "2021-12-07T00:00:00.000000000",
          "2021-12-08T00:00:00.000000000",
          "2021-12-09T00:00:00.000000000",
          "2021-12-10T00:00:00.000000000",
          "2021-12-11T00:00:00.000000000",
          "2021-12-12T00:00:00.000000000",
          "2021-12-13T00:00:00.000000000",
          "2021-12-14T00:00:00.000000000",
          "2021-12-15T00:00:00.000000000",
          "2021-12-16T00:00:00.000000000",
          "2021-12-17T00:00:00.000000000",
          "2021-12-18T00:00:00.000000000",
          "2021-12-19T00:00:00.000000000",
          "2021-12-20T00:00:00.000000000",
          "2021-12-21T00:00:00.000000000",
          "2021-12-22T00:00:00.000000000",
          "2021-12-23T00:00:00.000000000",
          "2021-12-24T00:00:00.000000000",
          "2021-12-25T00:00:00.000000000",
          "2021-12-26T00:00:00.000000000",
          "2021-12-27T00:00:00.000000000",
          "2021-12-28T00:00:00.000000000",
          "2021-12-29T00:00:00.000000000",
          "2021-12-30T00:00:00.000000000",
          "2021-12-31T00:00:00.000000000",
          "2022-01-01T00:00:00.000000000",
          "2022-01-02T00:00:00.000000000",
          "2022-01-03T00:00:00.000000000",
          "2022-01-04T00:00:00.000000000",
          "2022-01-05T00:00:00.000000000",
          "2022-01-06T00:00:00.000000000",
          "2022-01-07T00:00:00.000000000",
          "2022-01-08T00:00:00.000000000",
          "2022-01-09T00:00:00.000000000",
          "2022-01-10T00:00:00.000000000",
          "2022-01-11T00:00:00.000000000",
          "2022-01-12T00:00:00.000000000",
          "2022-01-13T00:00:00.000000000",
          "2022-01-14T00:00:00.000000000",
          "2022-01-15T00:00:00.000000000",
          "2022-01-16T00:00:00.000000000",
          "2022-01-17T00:00:00.000000000",
          "2022-01-18T00:00:00.000000000",
          "2022-01-19T00:00:00.000000000",
          "2022-01-20T00:00:00.000000000",
          "2022-01-21T00:00:00.000000000",
          "2022-01-22T00:00:00.000000000",
          "2022-01-23T00:00:00.000000000",
          "2022-01-24T00:00:00.000000000",
          "2022-01-25T00:00:00.000000000",
          "2022-01-26T00:00:00.000000000",
          "2022-01-27T00:00:00.000000000",
          "2022-01-28T00:00:00.000000000",
          "2022-01-29T00:00:00.000000000",
          "2022-01-30T00:00:00.000000000",
          "2022-01-31T00:00:00.000000000",
          "2022-02-01T00:00:00.000000000",
          "2022-02-02T00:00:00.000000000",
          "2022-02-03T00:00:00.000000000",
          "2022-02-04T00:00:00.000000000",
          "2022-02-05T00:00:00.000000000",
          "2022-02-06T00:00:00.000000000",
          "2022-02-07T00:00:00.000000000",
          "2022-02-08T00:00:00.000000000",
          "2022-02-09T00:00:00.000000000",
          "2022-02-10T00:00:00.000000000",
          "2022-02-11T00:00:00.000000000",
          "2022-02-12T00:00:00.000000000",
          "2022-02-13T00:00:00.000000000",
          "2022-02-14T00:00:00.000000000",
          "2022-02-15T00:00:00.000000000",
          "2022-02-16T00:00:00.000000000",
          "2022-02-17T00:00:00.000000000",
          "2022-02-18T00:00:00.000000000",
          "2022-02-19T00:00:00.000000000",
          "2022-02-20T00:00:00.000000000",
          "2022-02-21T00:00:00.000000000",
          "2022-02-22T00:00:00.000000000",
          "2022-02-23T00:00:00.000000000",
          "2022-02-24T00:00:00.000000000",
          "2022-02-25T00:00:00.000000000",
          "2022-02-26T00:00:00.000000000",
          "2022-02-27T00:00:00.000000000",
          "2022-02-28T00:00:00.000000000",
          "2022-03-01T00:00:00.000000000",
          "2022-03-02T00:00:00.000000000",
          "2022-03-03T00:00:00.000000000",
          "2022-03-04T00:00:00.000000000",
          "2022-03-05T00:00:00.000000000",
          "2022-03-06T00:00:00.000000000",
          "2022-03-07T00:00:00.000000000",
          "2022-03-08T00:00:00.000000000",
          "2022-03-09T00:00:00.000000000",
          "2022-03-10T00:00:00.000000000",
          "2022-03-11T00:00:00.000000000",
          "2022-03-12T00:00:00.000000000",
          "2022-03-13T00:00:00.000000000",
          "2022-03-14T00:00:00.000000000",
          "2022-03-15T00:00:00.000000000",
          "2022-03-16T00:00:00.000000000",
          "2022-03-17T00:00:00.000000000",
          "2022-03-18T00:00:00.000000000",
          "2022-03-19T00:00:00.000000000",
          "2022-03-20T00:00:00.000000000",
          "2022-03-21T00:00:00.000000000",
          "2022-03-22T00:00:00.000000000",
          "2022-03-23T00:00:00.000000000",
          "2022-03-24T00:00:00.000000000",
          "2022-03-25T00:00:00.000000000",
          "2022-03-26T00:00:00.000000000",
          "2022-03-27T00:00:00.000000000",
          "2022-03-28T00:00:00.000000000",
          "2022-03-29T00:00:00.000000000",
          "2022-03-30T00:00:00.000000000",
          "2022-03-31T00:00:00.000000000",
          "2022-04-01T00:00:00.000000000",
          "2022-04-02T00:00:00.000000000",
          "2022-04-03T00:00:00.000000000",
          "2022-04-04T00:00:00.000000000",
          "2022-04-05T00:00:00.000000000",
          "2022-04-06T00:00:00.000000000",
          "2022-04-07T00:00:00.000000000",
          "2022-04-08T00:00:00.000000000",
          "2022-04-09T00:00:00.000000000",
          "2022-04-10T00:00:00.000000000",
          "2022-04-11T00:00:00.000000000",
          "2022-04-12T00:00:00.000000000",
          "2022-04-13T00:00:00.000000000",
          "2022-04-14T00:00:00.000000000",
          "2022-04-15T00:00:00.000000000",
          "2022-04-16T00:00:00.000000000",
          "2022-04-17T00:00:00.000000000",
          "2022-04-18T00:00:00.000000000",
          "2022-04-19T00:00:00.000000000",
          "2022-04-20T00:00:00.000000000",
          "2022-04-21T00:00:00.000000000",
          "2022-04-22T00:00:00.000000000",
          "2022-04-23T00:00:00.000000000",
          "2022-04-24T00:00:00.000000000",
          "2022-04-25T00:00:00.000000000",
          "2022-04-26T00:00:00.000000000",
          "2022-04-27T00:00:00.000000000",
          "2022-04-28T00:00:00.000000000",
          "2022-04-29T00:00:00.000000000",
          "2022-04-30T00:00:00.000000000",
          "2022-05-01T00:00:00.000000000",
          "2022-05-02T00:00:00.000000000",
          "2022-05-03T00:00:00.000000000",
          "2022-05-04T00:00:00.000000000",
          "2022-05-05T00:00:00.000000000",
          "2022-05-06T00:00:00.000000000",
          "2022-05-07T00:00:00.000000000",
          "2022-05-08T00:00:00.000000000",
          "2022-05-09T00:00:00.000000000"
         ],
         "y": [
          0.27032987648725093,
          0.5288649293731558,
          0.6903275955576985,
          0.8953541212343675,
          1.086777393345605,
          1.3536208844290347,
          1.5918353026929342,
          1.7622385952550776,
          1.7689027694838713,
          1.8882534236469888,
          1.9151467473897232,
          1.944080975111536,
          1.9894739615848305,
          2.0309434572329907,
          2.08364067234861,
          2.378748682632822,
          2.4953522327245032,
          2.547868334249645,
          2.5370082234054494,
          2.560247839968868,
          2.5707505767755467,
          2.632023737569101,
          2.744671292345777,
          2.777882805533679,
          2.7841237114006008,
          3.2339947052300566,
          3.704380576393553,
          3.9885706918391275,
          4.289186869968969,
          4.4512973808869445,
          4.612083750001956,
          4.62086936914271,
          4.682520762976982,
          4.66144294356623,
          4.664195414059562,
          4.9449088193392505,
          5.4325309128329415,
          5.767120679085475,
          5.795794091538244,
          5.813697865786467,
          5.803393278891179,
          5.807767241655595,
          5.819190860529188,
          5.8541675079258315,
          5.849605736322918,
          6.002442455935002,
          6.135649988692411,
          6.145059636470483,
          6.133172943858019,
          6.145216931665115,
          6.17260590663351,
          6.221096858000148,
          6.2508664853021285,
          6.240237134907162,
          6.252052981993389,
          6.286761835090522,
          6.29841265385731,
          6.299819867252376,
          6.354208503325172,
          6.359761725062012,
          6.364106282480443,
          6.403724759881286,
          6.619971046724561,
          6.736974392279766,
          6.784747378827202,
          6.817636010030788,
          6.833848936428422,
          6.94075348194611,
          7.0095221149087825,
          7.000882525897778,
          7.249415135416941,
          7.788106173658053,
          7.83907943072682,
          8.428734775672718,
          8.914391851226867,
          9.133747606192568,
          9.216949674269342,
          9.32675998803818,
          9.555914908704512,
          9.682061051773038,
          9.810841933294384,
          9.947682016134813,
          10.076535728854155,
          10.418448779119926,
          10.625529340258629,
          10.747915791946768,
          10.835869778409956,
          10.867766041641078,
          10.87254302641814,
          10.905935643567615,
          10.96750255599609,
          10.996407502024349,
          10.987292132785173,
          10.9998530459622,
          11.10337180178365,
          11.187034800717944,
          11.227702670814196,
          11.299777853361514,
          11.393924959643643,
          11.501032555703526,
          11.612429886923614,
          11.831798786441594,
          11.931690346273184,
          12.091466345938878,
          12.174837964488294,
          12.21897946282507,
          12.316645209944067,
          12.597924348880412,
          12.770272049404458,
          12.865544243268038,
          13.04206969940397,
          13.341333487755778,
          13.761324556888738,
          14.287396998015485,
          14.658959460134056,
          15.033925641601822,
          15.372620287812174,
          15.557935672090805,
          15.945647916803024,
          16.243933503988842,
          16.669718699818972,
          16.929935462948116,
          17.226646254995366,
          17.457140844165774,
          17.61010127737258,
          17.87873611533793,
          18.76918744256578,
          19.33606011140728,
          19.988444949286347,
          20.256636756073355,
          20.659428060174903,
          21.530697235261123,
          21.94314801692744,
          22.623787696818148,
          22.840673200283298,
          23.24020890418891,
          23.51112330471545,
          23.84890085980347,
          24.197939108043222,
          24.576386193037862,
          25.108701181936265,
          26.316277778082878,
          26.5790211261875,
          27.186199205418028,
          27.493293598420728,
          27.6505041202117,
          27.891882472303486,
          28.16481275017192,
          28.38993898299279,
          28.703735131549152,
          29.56711944012217,
          30.029210735175212,
          30.485320110852893,
          30.725472214505338,
          30.98453408736048,
          31.36035265879122,
          31.709455057441474,
          32.14967752812163,
          32.694852595211856,
          33.80306950872685,
          35.20059686576523
         ]
        },
        {
         "line": {
          "color": "purple"
         },
         "name": "SPLASH Sublimation (Kettle Ponds)",
         "type": "scatter",
         "x": [
          "2021-11-30T00:00:00.000000000",
          "2021-12-01T00:00:00.000000000",
          "2021-12-02T00:00:00.000000000",
          "2021-12-03T00:00:00.000000000",
          "2021-12-04T00:00:00.000000000",
          "2021-12-05T00:00:00.000000000",
          "2021-12-06T00:00:00.000000000",
          "2021-12-07T00:00:00.000000000",
          "2021-12-08T00:00:00.000000000",
          "2021-12-09T00:00:00.000000000",
          "2021-12-10T00:00:00.000000000",
          "2021-12-11T00:00:00.000000000",
          "2021-12-12T00:00:00.000000000",
          "2021-12-13T00:00:00.000000000",
          "2021-12-14T00:00:00.000000000",
          "2021-12-15T00:00:00.000000000",
          "2021-12-16T00:00:00.000000000",
          "2021-12-17T00:00:00.000000000",
          "2021-12-18T00:00:00.000000000",
          "2021-12-19T00:00:00.000000000",
          "2021-12-20T00:00:00.000000000",
          "2021-12-21T00:00:00.000000000",
          "2021-12-22T00:00:00.000000000",
          "2021-12-23T00:00:00.000000000",
          "2021-12-24T00:00:00.000000000",
          "2021-12-25T00:00:00.000000000",
          "2021-12-26T00:00:00.000000000",
          "2021-12-27T00:00:00.000000000",
          "2021-12-28T00:00:00.000000000",
          "2021-12-29T00:00:00.000000000",
          "2021-12-30T00:00:00.000000000",
          "2021-12-31T00:00:00.000000000",
          "2022-01-01T00:00:00.000000000",
          "2022-01-02T00:00:00.000000000",
          "2022-01-03T00:00:00.000000000",
          "2022-01-04T00:00:00.000000000",
          "2022-01-05T00:00:00.000000000",
          "2022-01-06T00:00:00.000000000",
          "2022-01-07T00:00:00.000000000",
          "2022-01-08T00:00:00.000000000",
          "2022-01-09T00:00:00.000000000",
          "2022-01-10T00:00:00.000000000",
          "2022-01-11T00:00:00.000000000",
          "2022-01-12T00:00:00.000000000",
          "2022-01-13T00:00:00.000000000",
          "2022-01-14T00:00:00.000000000",
          "2022-01-15T00:00:00.000000000",
          "2022-01-16T00:00:00.000000000",
          "2022-01-17T00:00:00.000000000",
          "2022-01-18T00:00:00.000000000",
          "2022-01-19T00:00:00.000000000",
          "2022-01-20T00:00:00.000000000",
          "2022-01-21T00:00:00.000000000",
          "2022-01-22T00:00:00.000000000",
          "2022-01-23T00:00:00.000000000",
          "2022-01-24T00:00:00.000000000",
          "2022-01-25T00:00:00.000000000",
          "2022-01-26T00:00:00.000000000",
          "2022-01-27T00:00:00.000000000",
          "2022-01-28T00:00:00.000000000",
          "2022-01-29T00:00:00.000000000",
          "2022-01-30T00:00:00.000000000",
          "2022-01-31T00:00:00.000000000",
          "2022-02-01T00:00:00.000000000",
          "2022-02-02T00:00:00.000000000",
          "2022-02-03T00:00:00.000000000",
          "2022-02-04T00:00:00.000000000",
          "2022-02-05T00:00:00.000000000",
          "2022-02-06T00:00:00.000000000",
          "2022-02-07T00:00:00.000000000",
          "2022-02-08T00:00:00.000000000",
          "2022-02-09T00:00:00.000000000",
          "2022-02-10T00:00:00.000000000",
          "2022-02-11T00:00:00.000000000",
          "2022-02-12T00:00:00.000000000",
          "2022-02-13T00:00:00.000000000",
          "2022-02-14T00:00:00.000000000",
          "2022-02-15T00:00:00.000000000",
          "2022-02-16T00:00:00.000000000",
          "2022-02-17T00:00:00.000000000",
          "2022-02-18T00:00:00.000000000",
          "2022-02-19T00:00:00.000000000",
          "2022-02-20T00:00:00.000000000",
          "2022-02-21T00:00:00.000000000",
          "2022-02-22T00:00:00.000000000",
          "2022-02-23T00:00:00.000000000",
          "2022-02-24T00:00:00.000000000",
          "2022-02-25T00:00:00.000000000",
          "2022-02-26T00:00:00.000000000",
          "2022-02-27T00:00:00.000000000",
          "2022-02-28T00:00:00.000000000",
          "2022-03-01T00:00:00.000000000",
          "2022-03-02T00:00:00.000000000",
          "2022-03-03T00:00:00.000000000",
          "2022-03-04T00:00:00.000000000",
          "2022-03-05T00:00:00.000000000",
          "2022-03-06T00:00:00.000000000",
          "2022-03-07T00:00:00.000000000",
          "2022-03-08T00:00:00.000000000",
          "2022-03-09T00:00:00.000000000",
          "2022-03-10T00:00:00.000000000",
          "2022-03-11T00:00:00.000000000",
          "2022-03-12T00:00:00.000000000",
          "2022-03-13T00:00:00.000000000",
          "2022-03-14T00:00:00.000000000",
          "2022-03-15T00:00:00.000000000",
          "2022-03-16T00:00:00.000000000",
          "2022-03-17T00:00:00.000000000",
          "2022-03-18T00:00:00.000000000",
          "2022-03-19T00:00:00.000000000",
          "2022-03-20T00:00:00.000000000",
          "2022-03-21T00:00:00.000000000",
          "2022-03-22T00:00:00.000000000",
          "2022-03-23T00:00:00.000000000",
          "2022-03-24T00:00:00.000000000",
          "2022-03-25T00:00:00.000000000",
          "2022-03-26T00:00:00.000000000",
          "2022-03-27T00:00:00.000000000",
          "2022-03-28T00:00:00.000000000",
          "2022-03-29T00:00:00.000000000",
          "2022-03-30T00:00:00.000000000",
          "2022-03-31T00:00:00.000000000",
          "2022-04-01T00:00:00.000000000",
          "2022-04-02T00:00:00.000000000",
          "2022-04-03T00:00:00.000000000",
          "2022-04-04T00:00:00.000000000",
          "2022-04-05T00:00:00.000000000",
          "2022-04-06T00:00:00.000000000",
          "2022-04-07T00:00:00.000000000",
          "2022-04-08T00:00:00.000000000",
          "2022-04-09T00:00:00.000000000",
          "2022-04-10T00:00:00.000000000",
          "2022-04-11T00:00:00.000000000",
          "2022-04-12T00:00:00.000000000",
          "2022-04-13T00:00:00.000000000",
          "2022-04-14T00:00:00.000000000",
          "2022-04-15T00:00:00.000000000",
          "2022-04-16T00:00:00.000000000",
          "2022-04-17T00:00:00.000000000",
          "2022-04-18T00:00:00.000000000",
          "2022-04-19T00:00:00.000000000",
          "2022-04-20T00:00:00.000000000",
          "2022-04-21T00:00:00.000000000",
          "2022-04-22T00:00:00.000000000",
          "2022-04-23T00:00:00.000000000",
          "2022-04-24T00:00:00.000000000",
          "2022-04-25T00:00:00.000000000",
          "2022-04-26T00:00:00.000000000",
          "2022-04-27T00:00:00.000000000",
          "2022-04-28T00:00:00.000000000",
          "2022-04-29T00:00:00.000000000",
          "2022-04-30T00:00:00.000000000",
          "2022-05-01T00:00:00.000000000",
          "2022-05-02T00:00:00.000000000",
          "2022-05-03T00:00:00.000000000",
          "2022-05-04T00:00:00.000000000",
          "2022-05-05T00:00:00.000000000",
          "2022-05-06T00:00:00.000000000",
          "2022-05-07T00:00:00.000000000",
          "2022-05-08T00:00:00.000000000",
          "2022-05-09T00:00:00.000000000"
         ],
         "y": [
          0.31514726901336293,
          0.5212788276636393,
          0.8307241046596187,
          1.0634288860598735,
          1.2292149742159448,
          1.364806616436188,
          1.5200454716393335,
          1.6352258691992163,
          1.629147989944156,
          1.7978968365778136,
          1.9173139919397784,
          1.9106616602614475,
          1.9490577802705993,
          2.0327679922889543,
          2.09201104790096,
          2.5945550929258765,
          2.7289622676074528,
          2.753988447033384,
          2.7468416153340027,
          2.738407985585934,
          2.7333725781856524,
          2.7674990742917873,
          2.972573891000486,
          3.0808190294819067,
          3.124736666088709,
          3.8909102589592877,
          4.445530825160278,
          4.6818153954678206,
          5.018227800940229,
          5.037703779981315,
          5.089268559004925,
          5.063175442834629,
          5.1312808229140074,
          5.1312808229140074,
          5.1312808229140074,
          5.1312808229140074,
          5.1312808229140074,
          5.1312808229140074,
          5.1312808229140074,
          5.1312808229140074,
          5.1312808229140074,
          5.1312808229140074,
          5.1325764089491965,
          5.131745971133225,
          5.0809826079874725,
          5.199163357457213,
          5.416218736418774,
          5.410987806723452,
          5.466297448763849,
          5.516968286609884,
          5.573209472967601,
          5.610971552087832,
          5.633374942797701,
          5.632423499520437,
          5.600090026711705,
          5.626150215509167,
          5.6659883140807645,
          5.65165288213195,
          5.72494343579588,
          5.704012999673571,
          5.737244900272399,
          5.763909324647665,
          5.83777704355449,
          5.895288925686957,
          5.953075174252496,
          5.97040260017491,
          5.978772498876899,
          5.984826622146778,
          6.077040879251863,
          6.074508200595103,
          6.118154627980014,
          6.237002791089731,
          6.299319537640714,
          6.6636984318933825,
          6.882546756727233,
          6.967165233897118,
          7.052695829380464,
          7.235741166470849,
          7.456318428808656,
          7.473994841550722,
          7.568843797884009,
          7.657154404156412,
          7.836722041590477,
          8.226833870725567,
          8.31916012899193,
          8.442849723753946,
          8.597850926153741,
          8.657292839555742,
          8.697501025547535,
          8.71518701828566,
          8.748600046336946,
          8.782418994494536,
          8.814683334508528,
          8.872573964067117,
          9.026207343947615,
          9.121045603569234,
          9.156148052264493,
          9.265061231543756,
          9.369779966454995,
          9.43288267091536,
          9.637872050120388,
          9.728913428436986,
          9.808066231205688,
          9.926426532326005,
          10.16095118927466,
          10.252482350616786,
          10.428402441714105,
          10.847627905733944,
          10.968029451451816,
          11.05482805199649,
          11.28074635638918,
          11.846754907754036,
          12.650581178800941,
          13.289452285173033,
          13.490888886862404,
          13.546270389515328,
          13.792058913065297,
          14.051124485227799,
          14.56601393770202,
          14.830032967465241,
          15.142735059899637,
          15.345490552029812,
          15.695422545473228,
          15.967522866586643,
          16.183538441233523,
          16.42398811422036,
          17.40658196665523,
          18.27037429772343,
          18.67219166523402,
          18.799988814102473,
          19.100602585402584,
          20.123874910307457,
          20.624175568843363,
          21.25246546134817,
          21.511332009818894,
          22.02163686638,
          22.325512325592282,
          22.62056315895172,
          22.785808638680066,
          22.785808638680066,
          22.785808638680066,
          22.785808638680066,
          22.785808638680066,
          22.824434000801595,
          22.97416218263782,
          23.10552669513158,
          23.36341719560827,
          23.63144100416629,
          23.911092789161575,
          24.341035246088378,
          25.77948511917933,
          26.182626704206438,
          26.77663405110727,
          27.29842133788778,
          27.858841545517492,
          28.62781003575691,
          29.526363458944775,
          30.918447858513968,
          31.969631313249717,
          32.224515177627374,
          32.224515177627374
         ]
        }
       ],
       "layout": {
        "height": 600,
        "legend": {
         "title": {
          "text": "Site"
         }
        },
        "template": {
         "data": {
          "bar": [
           {
            "error_x": {
             "color": "#2a3f5f"
            },
            "error_y": {
             "color": "#2a3f5f"
            },
            "marker": {
             "line": {
              "color": "#E5ECF6",
              "width": 0.5
             },
             "pattern": {
              "fillmode": "overlay",
              "size": 10,
              "solidity": 0.2
             }
            },
            "type": "bar"
           }
          ],
          "barpolar": [
           {
            "marker": {
             "line": {
              "color": "#E5ECF6",
              "width": 0.5
             },
             "pattern": {
              "fillmode": "overlay",
              "size": 10,
              "solidity": 0.2
             }
            },
            "type": "barpolar"
           }
          ],
          "carpet": [
           {
            "aaxis": {
             "endlinecolor": "#2a3f5f",
             "gridcolor": "white",
             "linecolor": "white",
             "minorgridcolor": "white",
             "startlinecolor": "#2a3f5f"
            },
            "baxis": {
             "endlinecolor": "#2a3f5f",
             "gridcolor": "white",
             "linecolor": "white",
             "minorgridcolor": "white",
             "startlinecolor": "#2a3f5f"
            },
            "type": "carpet"
           }
          ],
          "choropleth": [
           {
            "colorbar": {
             "outlinewidth": 0,
             "ticks": ""
            },
            "type": "choropleth"
           }
          ],
          "contour": [
           {
            "colorbar": {
             "outlinewidth": 0,
             "ticks": ""
            },
            "colorscale": [
             [
              0,
              "#0d0887"
             ],
             [
              0.1111111111111111,
              "#46039f"
             ],
             [
              0.2222222222222222,
              "#7201a8"
             ],
             [
              0.3333333333333333,
              "#9c179e"
             ],
             [
              0.4444444444444444,
              "#bd3786"
             ],
             [
              0.5555555555555556,
              "#d8576b"
             ],
             [
              0.6666666666666666,
              "#ed7953"
             ],
             [
              0.7777777777777778,
              "#fb9f3a"
             ],
             [
              0.8888888888888888,
              "#fdca26"
             ],
             [
              1,
              "#f0f921"
             ]
            ],
            "type": "contour"
           }
          ],
          "contourcarpet": [
           {
            "colorbar": {
             "outlinewidth": 0,
             "ticks": ""
            },
            "type": "contourcarpet"
           }
          ],
          "heatmap": [
           {
            "colorbar": {
             "outlinewidth": 0,
             "ticks": ""
            },
            "colorscale": [
             [
              0,
              "#0d0887"
             ],
             [
              0.1111111111111111,
              "#46039f"
             ],
             [
              0.2222222222222222,
              "#7201a8"
             ],
             [
              0.3333333333333333,
              "#9c179e"
             ],
             [
              0.4444444444444444,
              "#bd3786"
             ],
             [
              0.5555555555555556,
              "#d8576b"
             ],
             [
              0.6666666666666666,
              "#ed7953"
             ],
             [
              0.7777777777777778,
              "#fb9f3a"
             ],
             [
              0.8888888888888888,
              "#fdca26"
             ],
             [
              1,
              "#f0f921"
             ]
            ],
            "type": "heatmap"
           }
          ],
          "heatmapgl": [
           {
            "colorbar": {
             "outlinewidth": 0,
             "ticks": ""
            },
            "colorscale": [
             [
              0,
              "#0d0887"
             ],
             [
              0.1111111111111111,
              "#46039f"
             ],
             [
              0.2222222222222222,
              "#7201a8"
             ],
             [
              0.3333333333333333,
              "#9c179e"
             ],
             [
              0.4444444444444444,
              "#bd3786"
             ],
             [
              0.5555555555555556,
              "#d8576b"
             ],
             [
              0.6666666666666666,
              "#ed7953"
             ],
             [
              0.7777777777777778,
              "#fb9f3a"
             ],
             [
              0.8888888888888888,
              "#fdca26"
             ],
             [
              1,
              "#f0f921"
             ]
            ],
            "type": "heatmapgl"
           }
          ],
          "histogram": [
           {
            "marker": {
             "pattern": {
              "fillmode": "overlay",
              "size": 10,
              "solidity": 0.2
             }
            },
            "type": "histogram"
           }
          ],
          "histogram2d": [
           {
            "colorbar": {
             "outlinewidth": 0,
             "ticks": ""
            },
            "colorscale": [
             [
              0,
              "#0d0887"
             ],
             [
              0.1111111111111111,
              "#46039f"
             ],
             [
              0.2222222222222222,
              "#7201a8"
             ],
             [
              0.3333333333333333,
              "#9c179e"
             ],
             [
              0.4444444444444444,
              "#bd3786"
             ],
             [
              0.5555555555555556,
              "#d8576b"
             ],
             [
              0.6666666666666666,
              "#ed7953"
             ],
             [
              0.7777777777777778,
              "#fb9f3a"
             ],
             [
              0.8888888888888888,
              "#fdca26"
             ],
             [
              1,
              "#f0f921"
             ]
            ],
            "type": "histogram2d"
           }
          ],
          "histogram2dcontour": [
           {
            "colorbar": {
             "outlinewidth": 0,
             "ticks": ""
            },
            "colorscale": [
             [
              0,
              "#0d0887"
             ],
             [
              0.1111111111111111,
              "#46039f"
             ],
             [
              0.2222222222222222,
              "#7201a8"
             ],
             [
              0.3333333333333333,
              "#9c179e"
             ],
             [
              0.4444444444444444,
              "#bd3786"
             ],
             [
              0.5555555555555556,
              "#d8576b"
             ],
             [
              0.6666666666666666,
              "#ed7953"
             ],
             [
              0.7777777777777778,
              "#fb9f3a"
             ],
             [
              0.8888888888888888,
              "#fdca26"
             ],
             [
              1,
              "#f0f921"
             ]
            ],
            "type": "histogram2dcontour"
           }
          ],
          "mesh3d": [
           {
            "colorbar": {
             "outlinewidth": 0,
             "ticks": ""
            },
            "type": "mesh3d"
           }
          ],
          "parcoords": [
           {
            "line": {
             "colorbar": {
              "outlinewidth": 0,
              "ticks": ""
             }
            },
            "type": "parcoords"
           }
          ],
          "pie": [
           {
            "automargin": true,
            "type": "pie"
           }
          ],
          "scatter": [
           {
            "fillpattern": {
             "fillmode": "overlay",
             "size": 10,
             "solidity": 0.2
            },
            "type": "scatter"
           }
          ],
          "scatter3d": [
           {
            "line": {
             "colorbar": {
              "outlinewidth": 0,
              "ticks": ""
             }
            },
            "marker": {
             "colorbar": {
              "outlinewidth": 0,
              "ticks": ""
             }
            },
            "type": "scatter3d"
           }
          ],
          "scattercarpet": [
           {
            "marker": {
             "colorbar": {
              "outlinewidth": 0,
              "ticks": ""
             }
            },
            "type": "scattercarpet"
           }
          ],
          "scattergeo": [
           {
            "marker": {
             "colorbar": {
              "outlinewidth": 0,
              "ticks": ""
             }
            },
            "type": "scattergeo"
           }
          ],
          "scattergl": [
           {
            "marker": {
             "colorbar": {
              "outlinewidth": 0,
              "ticks": ""
             }
            },
            "type": "scattergl"
           }
          ],
          "scattermapbox": [
           {
            "marker": {
             "colorbar": {
              "outlinewidth": 0,
              "ticks": ""
             }
            },
            "type": "scattermapbox"
           }
          ],
          "scatterpolar": [
           {
            "marker": {
             "colorbar": {
              "outlinewidth": 0,
              "ticks": ""
             }
            },
            "type": "scatterpolar"
           }
          ],
          "scatterpolargl": [
           {
            "marker": {
             "colorbar": {
              "outlinewidth": 0,
              "ticks": ""
             }
            },
            "type": "scatterpolargl"
           }
          ],
          "scatterternary": [
           {
            "marker": {
             "colorbar": {
              "outlinewidth": 0,
              "ticks": ""
             }
            },
            "type": "scatterternary"
           }
          ],
          "surface": [
           {
            "colorbar": {
             "outlinewidth": 0,
             "ticks": ""
            },
            "colorscale": [
             [
              0,
              "#0d0887"
             ],
             [
              0.1111111111111111,
              "#46039f"
             ],
             [
              0.2222222222222222,
              "#7201a8"
             ],
             [
              0.3333333333333333,
              "#9c179e"
             ],
             [
              0.4444444444444444,
              "#bd3786"
             ],
             [
              0.5555555555555556,
              "#d8576b"
             ],
             [
              0.6666666666666666,
              "#ed7953"
             ],
             [
              0.7777777777777778,
              "#fb9f3a"
             ],
             [
              0.8888888888888888,
              "#fdca26"
             ],
             [
              1,
              "#f0f921"
             ]
            ],
            "type": "surface"
           }
          ],
          "table": [
           {
            "cells": {
             "fill": {
              "color": "#EBF0F8"
             },
             "line": {
              "color": "white"
             }
            },
            "header": {
             "fill": {
              "color": "#C8D4E3"
             },
             "line": {
              "color": "white"
             }
            },
            "type": "table"
           }
          ]
         },
         "layout": {
          "annotationdefaults": {
           "arrowcolor": "#2a3f5f",
           "arrowhead": 0,
           "arrowwidth": 1
          },
          "autotypenumbers": "strict",
          "coloraxis": {
           "colorbar": {
            "outlinewidth": 0,
            "ticks": ""
           }
          },
          "colorscale": {
           "diverging": [
            [
             0,
             "#8e0152"
            ],
            [
             0.1,
             "#c51b7d"
            ],
            [
             0.2,
             "#de77ae"
            ],
            [
             0.3,
             "#f1b6da"
            ],
            [
             0.4,
             "#fde0ef"
            ],
            [
             0.5,
             "#f7f7f7"
            ],
            [
             0.6,
             "#e6f5d0"
            ],
            [
             0.7,
             "#b8e186"
            ],
            [
             0.8,
             "#7fbc41"
            ],
            [
             0.9,
             "#4d9221"
            ],
            [
             1,
             "#276419"
            ]
           ],
           "sequential": [
            [
             0,
             "#0d0887"
            ],
            [
             0.1111111111111111,
             "#46039f"
            ],
            [
             0.2222222222222222,
             "#7201a8"
            ],
            [
             0.3333333333333333,
             "#9c179e"
            ],
            [
             0.4444444444444444,
             "#bd3786"
            ],
            [
             0.5555555555555556,
             "#d8576b"
            ],
            [
             0.6666666666666666,
             "#ed7953"
            ],
            [
             0.7777777777777778,
             "#fb9f3a"
            ],
            [
             0.8888888888888888,
             "#fdca26"
            ],
            [
             1,
             "#f0f921"
            ]
           ],
           "sequentialminus": [
            [
             0,
             "#0d0887"
            ],
            [
             0.1111111111111111,
             "#46039f"
            ],
            [
             0.2222222222222222,
             "#7201a8"
            ],
            [
             0.3333333333333333,
             "#9c179e"
            ],
            [
             0.4444444444444444,
             "#bd3786"
            ],
            [
             0.5555555555555556,
             "#d8576b"
            ],
            [
             0.6666666666666666,
             "#ed7953"
            ],
            [
             0.7777777777777778,
             "#fb9f3a"
            ],
            [
             0.8888888888888888,
             "#fdca26"
            ],
            [
             1,
             "#f0f921"
            ]
           ]
          },
          "colorway": [
           "#636efa",
           "#EF553B",
           "#00cc96",
           "#ab63fa",
           "#FFA15A",
           "#19d3f3",
           "#FF6692",
           "#B6E880",
           "#FF97FF",
           "#FECB52"
          ],
          "font": {
           "color": "#2a3f5f"
          },
          "geo": {
           "bgcolor": "white",
           "lakecolor": "white",
           "landcolor": "#E5ECF6",
           "showlakes": true,
           "showland": true,
           "subunitcolor": "white"
          },
          "hoverlabel": {
           "align": "left"
          },
          "hovermode": "closest",
          "mapbox": {
           "style": "light"
          },
          "paper_bgcolor": "white",
          "plot_bgcolor": "#E5ECF6",
          "polar": {
           "angularaxis": {
            "gridcolor": "white",
            "linecolor": "white",
            "ticks": ""
           },
           "bgcolor": "#E5ECF6",
           "radialaxis": {
            "gridcolor": "white",
            "linecolor": "white",
            "ticks": ""
           }
          },
          "scene": {
           "xaxis": {
            "backgroundcolor": "#E5ECF6",
            "gridcolor": "white",
            "gridwidth": 2,
            "linecolor": "white",
            "showbackground": true,
            "ticks": "",
            "zerolinecolor": "white"
           },
           "yaxis": {
            "backgroundcolor": "#E5ECF6",
            "gridcolor": "white",
            "gridwidth": 2,
            "linecolor": "white",
            "showbackground": true,
            "ticks": "",
            "zerolinecolor": "white"
           },
           "zaxis": {
            "backgroundcolor": "#E5ECF6",
            "gridcolor": "white",
            "gridwidth": 2,
            "linecolor": "white",
            "showbackground": true,
            "ticks": "",
            "zerolinecolor": "white"
           }
          },
          "shapedefaults": {
           "line": {
            "color": "#2a3f5f"
           }
          },
          "ternary": {
           "aaxis": {
            "gridcolor": "white",
            "linecolor": "white",
            "ticks": ""
           },
           "baxis": {
            "gridcolor": "white",
            "linecolor": "white",
            "ticks": ""
           },
           "bgcolor": "#E5ECF6",
           "caxis": {
            "gridcolor": "white",
            "linecolor": "white",
            "ticks": ""
           }
          },
          "title": {
           "x": 0.05
          },
          "xaxis": {
           "automargin": true,
           "gridcolor": "white",
           "linecolor": "white",
           "ticks": "",
           "title": {
            "standoff": 15
           },
           "zerolinecolor": "white",
           "zerolinewidth": 2
          },
          "yaxis": {
           "automargin": true,
           "gridcolor": "white",
           "linecolor": "white",
           "ticks": "",
           "title": {
            "standoff": 15
           },
           "zerolinecolor": "white",
           "zerolinewidth": 2
          }
         }
        },
        "title": {
         "text": "Cumulative Sublimation for SPLASH Kettle Ponds and Avery Picnic, Winter 2022"
        },
        "width": 1000,
        "xaxis": {
         "title": {
          "text": "Date"
         }
        },
        "yaxis": {
         "title": {
          "text": "Cumulative Sublimation (mm)"
         }
        }
       }
      },
      "text/html": [
       "<div>                            <div id=\"95af7b8b-8faf-4bf0-b670-79423a9463c2\" class=\"plotly-graph-div\" style=\"height:600px; width:1000px;\"></div>            <script type=\"text/javascript\">                require([\"plotly\"], function(Plotly) {                    window.PLOTLYENV=window.PLOTLYENV || {};                                    if (document.getElementById(\"95af7b8b-8faf-4bf0-b670-79423a9463c2\")) {                    Plotly.newPlot(                        \"95af7b8b-8faf-4bf0-b670-79423a9463c2\",                        [{\"line\":{\"color\":\"blue\"},\"name\":\"SPLASH Sublimation (Avery Picnic)\",\"x\":[\"2021-11-30T00:00:00.000000000\",\"2021-12-01T00:00:00.000000000\",\"2021-12-02T00:00:00.000000000\",\"2021-12-03T00:00:00.000000000\",\"2021-12-04T00:00:00.000000000\",\"2021-12-05T00:00:00.000000000\",\"2021-12-06T00:00:00.000000000\",\"2021-12-07T00:00:00.000000000\",\"2021-12-08T00:00:00.000000000\",\"2021-12-09T00:00:00.000000000\",\"2021-12-10T00:00:00.000000000\",\"2021-12-11T00:00:00.000000000\",\"2021-12-12T00:00:00.000000000\",\"2021-12-13T00:00:00.000000000\",\"2021-12-14T00:00:00.000000000\",\"2021-12-15T00:00:00.000000000\",\"2021-12-16T00:00:00.000000000\",\"2021-12-17T00:00:00.000000000\",\"2021-12-18T00:00:00.000000000\",\"2021-12-19T00:00:00.000000000\",\"2021-12-20T00:00:00.000000000\",\"2021-12-21T00:00:00.000000000\",\"2021-12-22T00:00:00.000000000\",\"2021-12-23T00:00:00.000000000\",\"2021-12-24T00:00:00.000000000\",\"2021-12-25T00:00:00.000000000\",\"2021-12-26T00:00:00.000000000\",\"2021-12-27T00:00:00.000000000\",\"2021-12-28T00:00:00.000000000\",\"2021-12-29T00:00:00.000000000\",\"2021-12-30T00:00:00.000000000\",\"2021-12-31T00:00:00.000000000\",\"2022-01-01T00:00:00.000000000\",\"2022-01-02T00:00:00.000000000\",\"2022-01-03T00:00:00.000000000\",\"2022-01-04T00:00:00.000000000\",\"2022-01-05T00:00:00.000000000\",\"2022-01-06T00:00:00.000000000\",\"2022-01-07T00:00:00.000000000\",\"2022-01-08T00:00:00.000000000\",\"2022-01-09T00:00:00.000000000\",\"2022-01-10T00:00:00.000000000\",\"2022-01-11T00:00:00.000000000\",\"2022-01-12T00:00:00.000000000\",\"2022-01-13T00:00:00.000000000\",\"2022-01-14T00:00:00.000000000\",\"2022-01-15T00:00:00.000000000\",\"2022-01-16T00:00:00.000000000\",\"2022-01-17T00:00:00.000000000\",\"2022-01-18T00:00:00.000000000\",\"2022-01-19T00:00:00.000000000\",\"2022-01-20T00:00:00.000000000\",\"2022-01-21T00:00:00.000000000\",\"2022-01-22T00:00:00.000000000\",\"2022-01-23T00:00:00.000000000\",\"2022-01-24T00:00:00.000000000\",\"2022-01-25T00:00:00.000000000\",\"2022-01-26T00:00:00.000000000\",\"2022-01-27T00:00:00.000000000\",\"2022-01-28T00:00:00.000000000\",\"2022-01-29T00:00:00.000000000\",\"2022-01-30T00:00:00.000000000\",\"2022-01-31T00:00:00.000000000\",\"2022-02-01T00:00:00.000000000\",\"2022-02-02T00:00:00.000000000\",\"2022-02-03T00:00:00.000000000\",\"2022-02-04T00:00:00.000000000\",\"2022-02-05T00:00:00.000000000\",\"2022-02-06T00:00:00.000000000\",\"2022-02-07T00:00:00.000000000\",\"2022-02-08T00:00:00.000000000\",\"2022-02-09T00:00:00.000000000\",\"2022-02-10T00:00:00.000000000\",\"2022-02-11T00:00:00.000000000\",\"2022-02-12T00:00:00.000000000\",\"2022-02-13T00:00:00.000000000\",\"2022-02-14T00:00:00.000000000\",\"2022-02-15T00:00:00.000000000\",\"2022-02-16T00:00:00.000000000\",\"2022-02-17T00:00:00.000000000\",\"2022-02-18T00:00:00.000000000\",\"2022-02-19T00:00:00.000000000\",\"2022-02-20T00:00:00.000000000\",\"2022-02-21T00:00:00.000000000\",\"2022-02-22T00:00:00.000000000\",\"2022-02-23T00:00:00.000000000\",\"2022-02-24T00:00:00.000000000\",\"2022-02-25T00:00:00.000000000\",\"2022-02-26T00:00:00.000000000\",\"2022-02-27T00:00:00.000000000\",\"2022-02-28T00:00:00.000000000\",\"2022-03-01T00:00:00.000000000\",\"2022-03-02T00:00:00.000000000\",\"2022-03-03T00:00:00.000000000\",\"2022-03-04T00:00:00.000000000\",\"2022-03-05T00:00:00.000000000\",\"2022-03-06T00:00:00.000000000\",\"2022-03-07T00:00:00.000000000\",\"2022-03-08T00:00:00.000000000\",\"2022-03-09T00:00:00.000000000\",\"2022-03-10T00:00:00.000000000\",\"2022-03-11T00:00:00.000000000\",\"2022-03-12T00:00:00.000000000\",\"2022-03-13T00:00:00.000000000\",\"2022-03-14T00:00:00.000000000\",\"2022-03-15T00:00:00.000000000\",\"2022-03-16T00:00:00.000000000\",\"2022-03-17T00:00:00.000000000\",\"2022-03-18T00:00:00.000000000\",\"2022-03-19T00:00:00.000000000\",\"2022-03-20T00:00:00.000000000\",\"2022-03-21T00:00:00.000000000\",\"2022-03-22T00:00:00.000000000\",\"2022-03-23T00:00:00.000000000\",\"2022-03-24T00:00:00.000000000\",\"2022-03-25T00:00:00.000000000\",\"2022-03-26T00:00:00.000000000\",\"2022-03-27T00:00:00.000000000\",\"2022-03-28T00:00:00.000000000\",\"2022-03-29T00:00:00.000000000\",\"2022-03-30T00:00:00.000000000\",\"2022-03-31T00:00:00.000000000\",\"2022-04-01T00:00:00.000000000\",\"2022-04-02T00:00:00.000000000\",\"2022-04-03T00:00:00.000000000\",\"2022-04-04T00:00:00.000000000\",\"2022-04-05T00:00:00.000000000\",\"2022-04-06T00:00:00.000000000\",\"2022-04-07T00:00:00.000000000\",\"2022-04-08T00:00:00.000000000\",\"2022-04-09T00:00:00.000000000\",\"2022-04-10T00:00:00.000000000\",\"2022-04-11T00:00:00.000000000\",\"2022-04-12T00:00:00.000000000\",\"2022-04-13T00:00:00.000000000\",\"2022-04-14T00:00:00.000000000\",\"2022-04-15T00:00:00.000000000\",\"2022-04-16T00:00:00.000000000\",\"2022-04-17T00:00:00.000000000\",\"2022-04-18T00:00:00.000000000\",\"2022-04-19T00:00:00.000000000\",\"2022-04-20T00:00:00.000000000\",\"2022-04-21T00:00:00.000000000\",\"2022-04-22T00:00:00.000000000\",\"2022-04-23T00:00:00.000000000\",\"2022-04-24T00:00:00.000000000\",\"2022-04-25T00:00:00.000000000\",\"2022-04-26T00:00:00.000000000\",\"2022-04-27T00:00:00.000000000\",\"2022-04-28T00:00:00.000000000\",\"2022-04-29T00:00:00.000000000\",\"2022-04-30T00:00:00.000000000\",\"2022-05-01T00:00:00.000000000\",\"2022-05-02T00:00:00.000000000\",\"2022-05-03T00:00:00.000000000\",\"2022-05-04T00:00:00.000000000\",\"2022-05-05T00:00:00.000000000\",\"2022-05-06T00:00:00.000000000\",\"2022-05-07T00:00:00.000000000\",\"2022-05-08T00:00:00.000000000\",\"2022-05-09T00:00:00.000000000\"],\"y\":[0.27032987648725093,0.5288649293731558,0.6903275955576985,0.8953541212343675,1.086777393345605,1.3536208844290347,1.5918353026929342,1.7622385952550776,1.7689027694838713,1.8882534236469888,1.9151467473897232,1.944080975111536,1.9894739615848305,2.0309434572329907,2.08364067234861,2.378748682632822,2.4953522327245032,2.547868334249645,2.5370082234054494,2.560247839968868,2.5707505767755467,2.632023737569101,2.744671292345777,2.777882805533679,2.7841237114006008,3.2339947052300566,3.704380576393553,3.9885706918391275,4.289186869968969,4.4512973808869445,4.612083750001956,4.62086936914271,4.682520762976982,4.66144294356623,4.664195414059562,4.9449088193392505,5.4325309128329415,5.767120679085475,5.795794091538244,5.813697865786467,5.803393278891179,5.807767241655595,5.819190860529188,5.8541675079258315,5.849605736322918,6.002442455935002,6.135649988692411,6.145059636470483,6.133172943858019,6.145216931665115,6.17260590663351,6.221096858000148,6.2508664853021285,6.240237134907162,6.252052981993389,6.286761835090522,6.29841265385731,6.299819867252376,6.354208503325172,6.359761725062012,6.364106282480443,6.403724759881286,6.619971046724561,6.736974392279766,6.784747378827202,6.817636010030788,6.833848936428422,6.94075348194611,7.0095221149087825,7.000882525897778,7.249415135416941,7.788106173658053,7.83907943072682,8.428734775672718,8.914391851226867,9.133747606192568,9.216949674269342,9.32675998803818,9.555914908704512,9.682061051773038,9.810841933294384,9.947682016134813,10.076535728854155,10.418448779119926,10.625529340258629,10.747915791946768,10.835869778409956,10.867766041641078,10.87254302641814,10.905935643567615,10.96750255599609,10.996407502024349,10.987292132785173,10.9998530459622,11.10337180178365,11.187034800717944,11.227702670814196,11.299777853361514,11.393924959643643,11.501032555703526,11.612429886923614,11.831798786441594,11.931690346273184,12.091466345938878,12.174837964488294,12.21897946282507,12.316645209944067,12.597924348880412,12.770272049404458,12.865544243268038,13.04206969940397,13.341333487755778,13.761324556888738,14.287396998015485,14.658959460134056,15.033925641601822,15.372620287812174,15.557935672090805,15.945647916803024,16.243933503988842,16.669718699818972,16.929935462948116,17.226646254995366,17.457140844165774,17.61010127737258,17.87873611533793,18.76918744256578,19.33606011140728,19.988444949286347,20.256636756073355,20.659428060174903,21.530697235261123,21.94314801692744,22.623787696818148,22.840673200283298,23.24020890418891,23.51112330471545,23.84890085980347,24.197939108043222,24.576386193037862,25.108701181936265,26.316277778082878,26.5790211261875,27.186199205418028,27.493293598420728,27.6505041202117,27.891882472303486,28.16481275017192,28.38993898299279,28.703735131549152,29.56711944012217,30.029210735175212,30.485320110852893,30.725472214505338,30.98453408736048,31.36035265879122,31.709455057441474,32.14967752812163,32.694852595211856,33.80306950872685,35.20059686576523],\"type\":\"scatter\"},{\"line\":{\"color\":\"purple\"},\"name\":\"SPLASH Sublimation (Kettle Ponds)\",\"x\":[\"2021-11-30T00:00:00.000000000\",\"2021-12-01T00:00:00.000000000\",\"2021-12-02T00:00:00.000000000\",\"2021-12-03T00:00:00.000000000\",\"2021-12-04T00:00:00.000000000\",\"2021-12-05T00:00:00.000000000\",\"2021-12-06T00:00:00.000000000\",\"2021-12-07T00:00:00.000000000\",\"2021-12-08T00:00:00.000000000\",\"2021-12-09T00:00:00.000000000\",\"2021-12-10T00:00:00.000000000\",\"2021-12-11T00:00:00.000000000\",\"2021-12-12T00:00:00.000000000\",\"2021-12-13T00:00:00.000000000\",\"2021-12-14T00:00:00.000000000\",\"2021-12-15T00:00:00.000000000\",\"2021-12-16T00:00:00.000000000\",\"2021-12-17T00:00:00.000000000\",\"2021-12-18T00:00:00.000000000\",\"2021-12-19T00:00:00.000000000\",\"2021-12-20T00:00:00.000000000\",\"2021-12-21T00:00:00.000000000\",\"2021-12-22T00:00:00.000000000\",\"2021-12-23T00:00:00.000000000\",\"2021-12-24T00:00:00.000000000\",\"2021-12-25T00:00:00.000000000\",\"2021-12-26T00:00:00.000000000\",\"2021-12-27T00:00:00.000000000\",\"2021-12-28T00:00:00.000000000\",\"2021-12-29T00:00:00.000000000\",\"2021-12-30T00:00:00.000000000\",\"2021-12-31T00:00:00.000000000\",\"2022-01-01T00:00:00.000000000\",\"2022-01-02T00:00:00.000000000\",\"2022-01-03T00:00:00.000000000\",\"2022-01-04T00:00:00.000000000\",\"2022-01-05T00:00:00.000000000\",\"2022-01-06T00:00:00.000000000\",\"2022-01-07T00:00:00.000000000\",\"2022-01-08T00:00:00.000000000\",\"2022-01-09T00:00:00.000000000\",\"2022-01-10T00:00:00.000000000\",\"2022-01-11T00:00:00.000000000\",\"2022-01-12T00:00:00.000000000\",\"2022-01-13T00:00:00.000000000\",\"2022-01-14T00:00:00.000000000\",\"2022-01-15T00:00:00.000000000\",\"2022-01-16T00:00:00.000000000\",\"2022-01-17T00:00:00.000000000\",\"2022-01-18T00:00:00.000000000\",\"2022-01-19T00:00:00.000000000\",\"2022-01-20T00:00:00.000000000\",\"2022-01-21T00:00:00.000000000\",\"2022-01-22T00:00:00.000000000\",\"2022-01-23T00:00:00.000000000\",\"2022-01-24T00:00:00.000000000\",\"2022-01-25T00:00:00.000000000\",\"2022-01-26T00:00:00.000000000\",\"2022-01-27T00:00:00.000000000\",\"2022-01-28T00:00:00.000000000\",\"2022-01-29T00:00:00.000000000\",\"2022-01-30T00:00:00.000000000\",\"2022-01-31T00:00:00.000000000\",\"2022-02-01T00:00:00.000000000\",\"2022-02-02T00:00:00.000000000\",\"2022-02-03T00:00:00.000000000\",\"2022-02-04T00:00:00.000000000\",\"2022-02-05T00:00:00.000000000\",\"2022-02-06T00:00:00.000000000\",\"2022-02-07T00:00:00.000000000\",\"2022-02-08T00:00:00.000000000\",\"2022-02-09T00:00:00.000000000\",\"2022-02-10T00:00:00.000000000\",\"2022-02-11T00:00:00.000000000\",\"2022-02-12T00:00:00.000000000\",\"2022-02-13T00:00:00.000000000\",\"2022-02-14T00:00:00.000000000\",\"2022-02-15T00:00:00.000000000\",\"2022-02-16T00:00:00.000000000\",\"2022-02-17T00:00:00.000000000\",\"2022-02-18T00:00:00.000000000\",\"2022-02-19T00:00:00.000000000\",\"2022-02-20T00:00:00.000000000\",\"2022-02-21T00:00:00.000000000\",\"2022-02-22T00:00:00.000000000\",\"2022-02-23T00:00:00.000000000\",\"2022-02-24T00:00:00.000000000\",\"2022-02-25T00:00:00.000000000\",\"2022-02-26T00:00:00.000000000\",\"2022-02-27T00:00:00.000000000\",\"2022-02-28T00:00:00.000000000\",\"2022-03-01T00:00:00.000000000\",\"2022-03-02T00:00:00.000000000\",\"2022-03-03T00:00:00.000000000\",\"2022-03-04T00:00:00.000000000\",\"2022-03-05T00:00:00.000000000\",\"2022-03-06T00:00:00.000000000\",\"2022-03-07T00:00:00.000000000\",\"2022-03-08T00:00:00.000000000\",\"2022-03-09T00:00:00.000000000\",\"2022-03-10T00:00:00.000000000\",\"2022-03-11T00:00:00.000000000\",\"2022-03-12T00:00:00.000000000\",\"2022-03-13T00:00:00.000000000\",\"2022-03-14T00:00:00.000000000\",\"2022-03-15T00:00:00.000000000\",\"2022-03-16T00:00:00.000000000\",\"2022-03-17T00:00:00.000000000\",\"2022-03-18T00:00:00.000000000\",\"2022-03-19T00:00:00.000000000\",\"2022-03-20T00:00:00.000000000\",\"2022-03-21T00:00:00.000000000\",\"2022-03-22T00:00:00.000000000\",\"2022-03-23T00:00:00.000000000\",\"2022-03-24T00:00:00.000000000\",\"2022-03-25T00:00:00.000000000\",\"2022-03-26T00:00:00.000000000\",\"2022-03-27T00:00:00.000000000\",\"2022-03-28T00:00:00.000000000\",\"2022-03-29T00:00:00.000000000\",\"2022-03-30T00:00:00.000000000\",\"2022-03-31T00:00:00.000000000\",\"2022-04-01T00:00:00.000000000\",\"2022-04-02T00:00:00.000000000\",\"2022-04-03T00:00:00.000000000\",\"2022-04-04T00:00:00.000000000\",\"2022-04-05T00:00:00.000000000\",\"2022-04-06T00:00:00.000000000\",\"2022-04-07T00:00:00.000000000\",\"2022-04-08T00:00:00.000000000\",\"2022-04-09T00:00:00.000000000\",\"2022-04-10T00:00:00.000000000\",\"2022-04-11T00:00:00.000000000\",\"2022-04-12T00:00:00.000000000\",\"2022-04-13T00:00:00.000000000\",\"2022-04-14T00:00:00.000000000\",\"2022-04-15T00:00:00.000000000\",\"2022-04-16T00:00:00.000000000\",\"2022-04-17T00:00:00.000000000\",\"2022-04-18T00:00:00.000000000\",\"2022-04-19T00:00:00.000000000\",\"2022-04-20T00:00:00.000000000\",\"2022-04-21T00:00:00.000000000\",\"2022-04-22T00:00:00.000000000\",\"2022-04-23T00:00:00.000000000\",\"2022-04-24T00:00:00.000000000\",\"2022-04-25T00:00:00.000000000\",\"2022-04-26T00:00:00.000000000\",\"2022-04-27T00:00:00.000000000\",\"2022-04-28T00:00:00.000000000\",\"2022-04-29T00:00:00.000000000\",\"2022-04-30T00:00:00.000000000\",\"2022-05-01T00:00:00.000000000\",\"2022-05-02T00:00:00.000000000\",\"2022-05-03T00:00:00.000000000\",\"2022-05-04T00:00:00.000000000\",\"2022-05-05T00:00:00.000000000\",\"2022-05-06T00:00:00.000000000\",\"2022-05-07T00:00:00.000000000\",\"2022-05-08T00:00:00.000000000\",\"2022-05-09T00:00:00.000000000\"],\"y\":[0.31514726901336293,0.5212788276636393,0.8307241046596187,1.0634288860598735,1.2292149742159448,1.364806616436188,1.5200454716393335,1.6352258691992163,1.629147989944156,1.7978968365778136,1.9173139919397784,1.9106616602614475,1.9490577802705993,2.0327679922889543,2.09201104790096,2.5945550929258765,2.7289622676074528,2.753988447033384,2.7468416153340027,2.738407985585934,2.7333725781856524,2.7674990742917873,2.972573891000486,3.0808190294819067,3.124736666088709,3.8909102589592877,4.445530825160278,4.6818153954678206,5.018227800940229,5.037703779981315,5.089268559004925,5.063175442834629,5.1312808229140074,5.1312808229140074,5.1312808229140074,5.1312808229140074,5.1312808229140074,5.1312808229140074,5.1312808229140074,5.1312808229140074,5.1312808229140074,5.1312808229140074,5.1325764089491965,5.131745971133225,5.0809826079874725,5.199163357457213,5.416218736418774,5.410987806723452,5.466297448763849,5.516968286609884,5.573209472967601,5.610971552087832,5.633374942797701,5.632423499520437,5.600090026711705,5.626150215509167,5.6659883140807645,5.65165288213195,5.72494343579588,5.704012999673571,5.737244900272399,5.763909324647665,5.83777704355449,5.895288925686957,5.953075174252496,5.97040260017491,5.978772498876899,5.984826622146778,6.077040879251863,6.074508200595103,6.118154627980014,6.237002791089731,6.299319537640714,6.6636984318933825,6.882546756727233,6.967165233897118,7.052695829380464,7.235741166470849,7.456318428808656,7.473994841550722,7.568843797884009,7.657154404156412,7.836722041590477,8.226833870725567,8.31916012899193,8.442849723753946,8.597850926153741,8.657292839555742,8.697501025547535,8.71518701828566,8.748600046336946,8.782418994494536,8.814683334508528,8.872573964067117,9.026207343947615,9.121045603569234,9.156148052264493,9.265061231543756,9.369779966454995,9.43288267091536,9.637872050120388,9.728913428436986,9.808066231205688,9.926426532326005,10.16095118927466,10.252482350616786,10.428402441714105,10.847627905733944,10.968029451451816,11.05482805199649,11.28074635638918,11.846754907754036,12.650581178800941,13.289452285173033,13.490888886862404,13.546270389515328,13.792058913065297,14.051124485227799,14.56601393770202,14.830032967465241,15.142735059899637,15.345490552029812,15.695422545473228,15.967522866586643,16.183538441233523,16.42398811422036,17.40658196665523,18.27037429772343,18.67219166523402,18.799988814102473,19.100602585402584,20.123874910307457,20.624175568843363,21.25246546134817,21.511332009818894,22.02163686638,22.325512325592282,22.62056315895172,22.785808638680066,22.785808638680066,22.785808638680066,22.785808638680066,22.785808638680066,22.824434000801595,22.97416218263782,23.10552669513158,23.36341719560827,23.63144100416629,23.911092789161575,24.341035246088378,25.77948511917933,26.182626704206438,26.77663405110727,27.29842133788778,27.858841545517492,28.62781003575691,29.526363458944775,30.918447858513968,31.969631313249717,32.224515177627374,32.224515177627374],\"type\":\"scatter\"}],                        {\"template\":{\"data\":{\"histogram2dcontour\":[{\"type\":\"histogram2dcontour\",\"colorbar\":{\"outlinewidth\":0,\"ticks\":\"\"},\"colorscale\":[[0.0,\"#0d0887\"],[0.1111111111111111,\"#46039f\"],[0.2222222222222222,\"#7201a8\"],[0.3333333333333333,\"#9c179e\"],[0.4444444444444444,\"#bd3786\"],[0.5555555555555556,\"#d8576b\"],[0.6666666666666666,\"#ed7953\"],[0.7777777777777778,\"#fb9f3a\"],[0.8888888888888888,\"#fdca26\"],[1.0,\"#f0f921\"]]}],\"choropleth\":[{\"type\":\"choropleth\",\"colorbar\":{\"outlinewidth\":0,\"ticks\":\"\"}}],\"histogram2d\":[{\"type\":\"histogram2d\",\"colorbar\":{\"outlinewidth\":0,\"ticks\":\"\"},\"colorscale\":[[0.0,\"#0d0887\"],[0.1111111111111111,\"#46039f\"],[0.2222222222222222,\"#7201a8\"],[0.3333333333333333,\"#9c179e\"],[0.4444444444444444,\"#bd3786\"],[0.5555555555555556,\"#d8576b\"],[0.6666666666666666,\"#ed7953\"],[0.7777777777777778,\"#fb9f3a\"],[0.8888888888888888,\"#fdca26\"],[1.0,\"#f0f921\"]]}],\"heatmap\":[{\"type\":\"heatmap\",\"colorbar\":{\"outlinewidth\":0,\"ticks\":\"\"},\"colorscale\":[[0.0,\"#0d0887\"],[0.1111111111111111,\"#46039f\"],[0.2222222222222222,\"#7201a8\"],[0.3333333333333333,\"#9c179e\"],[0.4444444444444444,\"#bd3786\"],[0.5555555555555556,\"#d8576b\"],[0.6666666666666666,\"#ed7953\"],[0.7777777777777778,\"#fb9f3a\"],[0.8888888888888888,\"#fdca26\"],[1.0,\"#f0f921\"]]}],\"heatmapgl\":[{\"type\":\"heatmapgl\",\"colorbar\":{\"outlinewidth\":0,\"ticks\":\"\"},\"colorscale\":[[0.0,\"#0d0887\"],[0.1111111111111111,\"#46039f\"],[0.2222222222222222,\"#7201a8\"],[0.3333333333333333,\"#9c179e\"],[0.4444444444444444,\"#bd3786\"],[0.5555555555555556,\"#d8576b\"],[0.6666666666666666,\"#ed7953\"],[0.7777777777777778,\"#fb9f3a\"],[0.8888888888888888,\"#fdca26\"],[1.0,\"#f0f921\"]]}],\"contourcarpet\":[{\"type\":\"contourcarpet\",\"colorbar\":{\"outlinewidth\":0,\"ticks\":\"\"}}],\"contour\":[{\"type\":\"contour\",\"colorbar\":{\"outlinewidth\":0,\"ticks\":\"\"},\"colorscale\":[[0.0,\"#0d0887\"],[0.1111111111111111,\"#46039f\"],[0.2222222222222222,\"#7201a8\"],[0.3333333333333333,\"#9c179e\"],[0.4444444444444444,\"#bd3786\"],[0.5555555555555556,\"#d8576b\"],[0.6666666666666666,\"#ed7953\"],[0.7777777777777778,\"#fb9f3a\"],[0.8888888888888888,\"#fdca26\"],[1.0,\"#f0f921\"]]}],\"surface\":[{\"type\":\"surface\",\"colorbar\":{\"outlinewidth\":0,\"ticks\":\"\"},\"colorscale\":[[0.0,\"#0d0887\"],[0.1111111111111111,\"#46039f\"],[0.2222222222222222,\"#7201a8\"],[0.3333333333333333,\"#9c179e\"],[0.4444444444444444,\"#bd3786\"],[0.5555555555555556,\"#d8576b\"],[0.6666666666666666,\"#ed7953\"],[0.7777777777777778,\"#fb9f3a\"],[0.8888888888888888,\"#fdca26\"],[1.0,\"#f0f921\"]]}],\"mesh3d\":[{\"type\":\"mesh3d\",\"colorbar\":{\"outlinewidth\":0,\"ticks\":\"\"}}],\"scatter\":[{\"fillpattern\":{\"fillmode\":\"overlay\",\"size\":10,\"solidity\":0.2},\"type\":\"scatter\"}],\"parcoords\":[{\"type\":\"parcoords\",\"line\":{\"colorbar\":{\"outlinewidth\":0,\"ticks\":\"\"}}}],\"scatterpolargl\":[{\"type\":\"scatterpolargl\",\"marker\":{\"colorbar\":{\"outlinewidth\":0,\"ticks\":\"\"}}}],\"bar\":[{\"error_x\":{\"color\":\"#2a3f5f\"},\"error_y\":{\"color\":\"#2a3f5f\"},\"marker\":{\"line\":{\"color\":\"#E5ECF6\",\"width\":0.5},\"pattern\":{\"fillmode\":\"overlay\",\"size\":10,\"solidity\":0.2}},\"type\":\"bar\"}],\"scattergeo\":[{\"type\":\"scattergeo\",\"marker\":{\"colorbar\":{\"outlinewidth\":0,\"ticks\":\"\"}}}],\"scatterpolar\":[{\"type\":\"scatterpolar\",\"marker\":{\"colorbar\":{\"outlinewidth\":0,\"ticks\":\"\"}}}],\"histogram\":[{\"marker\":{\"pattern\":{\"fillmode\":\"overlay\",\"size\":10,\"solidity\":0.2}},\"type\":\"histogram\"}],\"scattergl\":[{\"type\":\"scattergl\",\"marker\":{\"colorbar\":{\"outlinewidth\":0,\"ticks\":\"\"}}}],\"scatter3d\":[{\"type\":\"scatter3d\",\"line\":{\"colorbar\":{\"outlinewidth\":0,\"ticks\":\"\"}},\"marker\":{\"colorbar\":{\"outlinewidth\":0,\"ticks\":\"\"}}}],\"scattermapbox\":[{\"type\":\"scattermapbox\",\"marker\":{\"colorbar\":{\"outlinewidth\":0,\"ticks\":\"\"}}}],\"scatterternary\":[{\"type\":\"scatterternary\",\"marker\":{\"colorbar\":{\"outlinewidth\":0,\"ticks\":\"\"}}}],\"scattercarpet\":[{\"type\":\"scattercarpet\",\"marker\":{\"colorbar\":{\"outlinewidth\":0,\"ticks\":\"\"}}}],\"carpet\":[{\"aaxis\":{\"endlinecolor\":\"#2a3f5f\",\"gridcolor\":\"white\",\"linecolor\":\"white\",\"minorgridcolor\":\"white\",\"startlinecolor\":\"#2a3f5f\"},\"baxis\":{\"endlinecolor\":\"#2a3f5f\",\"gridcolor\":\"white\",\"linecolor\":\"white\",\"minorgridcolor\":\"white\",\"startlinecolor\":\"#2a3f5f\"},\"type\":\"carpet\"}],\"table\":[{\"cells\":{\"fill\":{\"color\":\"#EBF0F8\"},\"line\":{\"color\":\"white\"}},\"header\":{\"fill\":{\"color\":\"#C8D4E3\"},\"line\":{\"color\":\"white\"}},\"type\":\"table\"}],\"barpolar\":[{\"marker\":{\"line\":{\"color\":\"#E5ECF6\",\"width\":0.5},\"pattern\":{\"fillmode\":\"overlay\",\"size\":10,\"solidity\":0.2}},\"type\":\"barpolar\"}],\"pie\":[{\"automargin\":true,\"type\":\"pie\"}]},\"layout\":{\"autotypenumbers\":\"strict\",\"colorway\":[\"#636efa\",\"#EF553B\",\"#00cc96\",\"#ab63fa\",\"#FFA15A\",\"#19d3f3\",\"#FF6692\",\"#B6E880\",\"#FF97FF\",\"#FECB52\"],\"font\":{\"color\":\"#2a3f5f\"},\"hovermode\":\"closest\",\"hoverlabel\":{\"align\":\"left\"},\"paper_bgcolor\":\"white\",\"plot_bgcolor\":\"#E5ECF6\",\"polar\":{\"bgcolor\":\"#E5ECF6\",\"angularaxis\":{\"gridcolor\":\"white\",\"linecolor\":\"white\",\"ticks\":\"\"},\"radialaxis\":{\"gridcolor\":\"white\",\"linecolor\":\"white\",\"ticks\":\"\"}},\"ternary\":{\"bgcolor\":\"#E5ECF6\",\"aaxis\":{\"gridcolor\":\"white\",\"linecolor\":\"white\",\"ticks\":\"\"},\"baxis\":{\"gridcolor\":\"white\",\"linecolor\":\"white\",\"ticks\":\"\"},\"caxis\":{\"gridcolor\":\"white\",\"linecolor\":\"white\",\"ticks\":\"\"}},\"coloraxis\":{\"colorbar\":{\"outlinewidth\":0,\"ticks\":\"\"}},\"colorscale\":{\"sequential\":[[0.0,\"#0d0887\"],[0.1111111111111111,\"#46039f\"],[0.2222222222222222,\"#7201a8\"],[0.3333333333333333,\"#9c179e\"],[0.4444444444444444,\"#bd3786\"],[0.5555555555555556,\"#d8576b\"],[0.6666666666666666,\"#ed7953\"],[0.7777777777777778,\"#fb9f3a\"],[0.8888888888888888,\"#fdca26\"],[1.0,\"#f0f921\"]],\"sequentialminus\":[[0.0,\"#0d0887\"],[0.1111111111111111,\"#46039f\"],[0.2222222222222222,\"#7201a8\"],[0.3333333333333333,\"#9c179e\"],[0.4444444444444444,\"#bd3786\"],[0.5555555555555556,\"#d8576b\"],[0.6666666666666666,\"#ed7953\"],[0.7777777777777778,\"#fb9f3a\"],[0.8888888888888888,\"#fdca26\"],[1.0,\"#f0f921\"]],\"diverging\":[[0,\"#8e0152\"],[0.1,\"#c51b7d\"],[0.2,\"#de77ae\"],[0.3,\"#f1b6da\"],[0.4,\"#fde0ef\"],[0.5,\"#f7f7f7\"],[0.6,\"#e6f5d0\"],[0.7,\"#b8e186\"],[0.8,\"#7fbc41\"],[0.9,\"#4d9221\"],[1,\"#276419\"]]},\"xaxis\":{\"gridcolor\":\"white\",\"linecolor\":\"white\",\"ticks\":\"\",\"title\":{\"standoff\":15},\"zerolinecolor\":\"white\",\"automargin\":true,\"zerolinewidth\":2},\"yaxis\":{\"gridcolor\":\"white\",\"linecolor\":\"white\",\"ticks\":\"\",\"title\":{\"standoff\":15},\"zerolinecolor\":\"white\",\"automargin\":true,\"zerolinewidth\":2},\"scene\":{\"xaxis\":{\"backgroundcolor\":\"#E5ECF6\",\"gridcolor\":\"white\",\"linecolor\":\"white\",\"showbackground\":true,\"ticks\":\"\",\"zerolinecolor\":\"white\",\"gridwidth\":2},\"yaxis\":{\"backgroundcolor\":\"#E5ECF6\",\"gridcolor\":\"white\",\"linecolor\":\"white\",\"showbackground\":true,\"ticks\":\"\",\"zerolinecolor\":\"white\",\"gridwidth\":2},\"zaxis\":{\"backgroundcolor\":\"#E5ECF6\",\"gridcolor\":\"white\",\"linecolor\":\"white\",\"showbackground\":true,\"ticks\":\"\",\"zerolinecolor\":\"white\",\"gridwidth\":2}},\"shapedefaults\":{\"line\":{\"color\":\"#2a3f5f\"}},\"annotationdefaults\":{\"arrowcolor\":\"#2a3f5f\",\"arrowhead\":0,\"arrowwidth\":1},\"geo\":{\"bgcolor\":\"white\",\"landcolor\":\"#E5ECF6\",\"subunitcolor\":\"white\",\"showland\":true,\"showlakes\":true,\"lakecolor\":\"white\"},\"title\":{\"x\":0.05},\"mapbox\":{\"style\":\"light\"}}},\"title\":{\"text\":\"Cumulative Sublimation for SPLASH Kettle Ponds and Avery Picnic, Winter 2022\"},\"xaxis\":{\"title\":{\"text\":\"Date\"}},\"yaxis\":{\"title\":{\"text\":\"Cumulative Sublimation (mm)\"}},\"width\":1000,\"height\":600,\"legend\":{\"title\":{\"text\":\"Site\"}}},                        {\"responsive\": true}                    ).then(function(){\n",
       "                            \n",
       "var gd = document.getElementById('95af7b8b-8faf-4bf0-b670-79423a9463c2');\n",
       "var x = new MutationObserver(function (mutations, observer) {{\n",
       "        var display = window.getComputedStyle(gd).display;\n",
       "        if (!display || display === 'none') {{\n",
       "            console.log([gd, 'removed!']);\n",
       "            Plotly.purge(gd);\n",
       "            observer.disconnect();\n",
       "        }}\n",
       "}});\n",
       "\n",
       "// Listen for the removal of the full notebook cells\n",
       "var notebookContainer = gd.closest('#notebook-container');\n",
       "if (notebookContainer) {{\n",
       "    x.observe(notebookContainer, {childList: true});\n",
       "}}\n",
       "\n",
       "// Listen for the clearing of the current output cell\n",
       "var outputEl = gd.closest('.output');\n",
       "if (outputEl) {{\n",
       "    x.observe(outputEl, {childList: true});\n",
       "}}\n",
       "\n",
       "                        })                };                });            </script>        </div>"
      ]
     },
     "metadata": {},
     "output_type": "display_data"
    }
   ],
   "source": [
    "fig = go.Figure()\n",
    "\n",
    "fig.add_trace(go.Scatter(x=splash_ap_qc_ds['e_rate'].sel(time=slice('2021-11-30','2022-05-09')).resample(time='1D').sum().cumsum().time, \n",
    "                         y= splash_ap_qc_ds['e_rate'].sel(time=slice('2021-11-30','2022-05-09')).resample(time='1D').sum().cumsum().values, \n",
    "                         name='SPLASH Sublimation (Avery Picnic)', \n",
    "                         line=dict(color='blue')))\n",
    "fig.add_trace(go.Scatter(x=splash_kp_qc_ds['e_rate'].sel(time=slice('2021-11-30','2022-05-09')).resample(time='1D').sum().cumsum().time, \n",
    "                         y= splash_kp_qc_ds['e_rate'].sel(time=slice('2021-11-30','2022-05-09')).resample(time='1D').sum().cumsum().values, \n",
    "                         name='SPLASH Sublimation (Kettle Ponds)', \n",
    "                         line=dict(color='purple')))\n",
    "\n",
    "# make a 4 color red colorramp from pink to red\n",
    "fig.update_layout(title='Cumulative Sublimation for SPLASH Kettle Ponds and Avery Picnic, Winter 2022',\n",
    "                    xaxis_title='Date',\n",
    "                    yaxis_title='Cumulative Sublimation (mm)',\n",
    "                    width=1000,\n",
    "                    height=600,\n",
    "                    legend_title='Site')"
   ]
  },
  {
   "cell_type": "code",
   "execution_count": 149,
   "metadata": {},
   "outputs": [
    {
     "data": {
      "application/vnd.plotly.v1+json": {
       "config": {
        "plotlyServerURL": "https://plot.ly"
       },
       "data": [
        {
         "hovertemplate": "ap=%{x}<br>kp=%{y}<extra></extra>",
         "legendgroup": "",
         "marker": {
          "color": "#636efa",
          "line": {
           "color": "black",
           "width": 1
          },
          "size": 10,
          "symbol": "circle"
         },
         "mode": "markers",
         "name": "",
         "orientation": "v",
         "showlegend": false,
         "type": "scatter",
         "x": [
          0.2585350528859049,
          0.16146266618454272,
          0.20502652567666904,
          0.1914232721112376,
          0.2668434910834296,
          0.2382144182638995,
          0.17040329256214357,
          0.00666417422879363,
          0.11935065416311759,
          0.026893323742734426,
          0.028934227721812717,
          0.04539298647329455,
          0.041469495648160146,
          0.05269721511561911,
          0.29510801028421196,
          0.11660355009168127,
          0.05251610152514178,
          -0.010860110844195527,
          0.023239616563418653,
          0.010502736806678438,
          0.06127316079355442,
          0.11264755477667561,
          0.033211513187902164,
          0.006240905866922024,
          0.4498709938294558,
          0.4703858711634963,
          0.2841901154455748,
          0.30061617812984104,
          0.16211051091797576,
          0.1607863691150117,
          0.008785619140754361,
          0.06165139383427204,
          -0.021077819410752516,
          0.0027524704933323376,
          0.2807134052796887,
          0.4876220934936907,
          0.3345897662525333,
          0.02867341245276915,
          0.01790377424822218,
          -0.010304586895287324,
          0.004373962764416043,
          0.011423618873592997,
          0.034976647396642996,
          -0.004561771602913757,
          0.15283671961208442,
          0.13320753275740918,
          0.009409647778072282,
          -0.01188669261246379,
          0.012043987807096312,
          0.027388974968394875,
          0.04849095136663846,
          0.029769627301979792,
          -0.01062935039496632,
          0.011815847086226496,
          0.03470885309713363,
          0.011650818766788024,
          0.0014072133950653572,
          0.05438863607279596,
          0.005553221736840405,
          0.004344557418431211,
          0.039618477400842955,
          0.21624628684327457,
          0.1170033455552052,
          0.047772986547435545,
          0.032888631203585955,
          0.01621292639763321,
          0.10690454551768845,
          0.06876863296267302,
          -0.008639589011004988,
          0.24853260951916334,
          0.5386910382411126,
          0.0509732570687667,
          0.5896553449458967,
          0.4856570755541491,
          0.2193557549657008,
          0.08320206807677523,
          0.10981031376883792,
          0.22915492066633114,
          0.12614614306852656,
          0.1287808815213452,
          0.13684008284042876,
          0.12885371271934287,
          0.3419130502657702,
          0.2070805611387026,
          0.12238645168813989,
          0.08795398646318793,
          0.031896263231122136,
          0.004776984777062504,
          0.033392617149474633,
          0.061566912428474854,
          0.028904946028259968,
          -0.009115369239175178,
          0.012560913177026789,
          0.10351875582145044,
          0.08366299893429403,
          0.04066787009625107,
          0.07207518254731772,
          0.09414710628212859,
          0.10710759605988379,
          0.1113973312200887,
          0.21936889951797878,
          0.09989155983159058,
          0.15977599966569428,
          0.08337161854941551,
          0.04414149833677566,
          0.09766574711899681,
          0.2812791389363439,
          0.17234770052404605,
          0.09527219386358089,
          0.17652545613593168,
          0.29926378835180717,
          0.4199910691329601,
          0.5260724411267463,
          0.37156246211857263,
          0.37496618146776517,
          0.33869464621035045,
          0.18531538427863056,
          0.3877122447122197,
          0.2982855871858178,
          0.42578519583013086,
          0.26021676312914516
         ],
         "xaxis": "x",
         "y": [
          0.20613155865027633,
          0.3094452769959794,
          0.23270478140025472,
          0.16578608815607132,
          0.1355916422202433,
          0.15523885520314548,
          0.11518039755988294,
          -0.006077879255060303,
          0.1687488466336575,
          0.11941715536196468,
          -0.006652331678330822,
          0.03839612000915184,
          0.08371021201835484,
          0.05924305561200574,
          0.5025440450249166,
          0.13440717468157626,
          0.02502617942593162,
          -0.007146831699381627,
          -0.00843362974806885,
          -0.005035407400281216,
          0.034126496106135044,
          0.20507481670869862,
          0.10824513848142059,
          0.043917636606802424,
          0.7661735928705787,
          0.5546205662009895,
          0.23628457030754288,
          0.33641240547240836,
          0.019475979041085043,
          0.05156477902360971,
          -0.026093116170295794,
          0.06810538007937914,
          null,
          null,
          null,
          null,
          null,
          null,
          null,
          null,
          null,
          0.0012955860351895245,
          -0.0008304378159717898,
          -0.0507633631457527,
          0.11818074946974014,
          0.21705537896156077,
          -0.0052309296953214224,
          0.055309642040396755,
          0.05067083784603497,
          0.05624118635771766,
          0.03776207912023004,
          0.02240339070986942,
          -0.000951443277264704,
          -0.03233347280873182,
          0.02606018879746251,
          0.0398380985715973,
          -0.014335431948814828,
          0.0732905536639296,
          -0.020930436122308875,
          0.03323190059882851,
          0.026664424375265887,
          0.07386771890682475,
          0.05751188213246753,
          0.05778624856553924,
          0.017327425922413577,
          0.008369898701989177,
          0.0060541232698788396,
          0.09221425710508487,
          -0.002532678656759338,
          0.043646427384911736,
          0.11884816310971652,
          0.06231674655098294,
          0.3643788942526683,
          0.21884832483385128,
          0.08461847716988466,
          0.08553059548334581,
          0.18304533709038442,
          0.22057726233780703,
          0.017676412742066275,
          0.0948489563332869,
          0.08831060627240288,
          0.17956763743406534,
          0.39011182913509096,
          0.09232625826636243,
          0.12368959476201678,
          0.15500120239979434,
          0.059441913402000474,
          0.04020818599179235,
          0.017685992738124618,
          0.0334130280512861,
          0.03381894815758965,
          0.032264340013991075,
          0.057890629558588785,
          0.1536333798804972,
          0.09483825962161922,
          0.0351024486952587,
          0.1089131792792629,
          0.10471873491123952,
          0.0631027044603638,
          0.204989379205028,
          0.09104137831659734,
          0.07915280276870204,
          0.118360301120317,
          0.23452465694865599,
          0.09153116134212586,
          0.17592009109731907,
          0.4192254640198385,
          0.12040154571787207,
          0.08679860054467282,
          0.22591830439269053,
          0.5660085513648567,
          0.8038262710469041,
          0.638871106372091,
          0.201436601689371,
          0.05538150265292417,
          0.24578852354996922,
          0.2590655721625011,
          0.5148894524742225,
          0.26401902976322006,
          0.312702092434396,
          0.2027554921301739
         ],
         "yaxis": "y"
        },
        {
         "hovertemplate": "<b>OLS trendline</b><br>kp = 0.874262 * ap + 0.0129396<br>R<sup>2</sup>=0.581206<br><br>ap=%{x}<br>kp=%{y} <b>(trend)</b><extra></extra>",
         "legendgroup": "",
         "marker": {
          "color": "#636efa",
          "line": {
           "color": "black",
           "width": 1
          },
          "size": 10,
          "symbol": "circle"
         },
         "mode": "lines",
         "name": "",
         "showlegend": false,
         "type": "scatter",
         "x": [
          -0.01188669261246379,
          -0.010860110844195527,
          -0.01062935039496632,
          -0.009115369239175178,
          -0.008639589011004988,
          -0.004561771602913757,
          0.0014072133950653572,
          0.004344557418431211,
          0.004776984777062504,
          0.005553221736840405,
          0.006240905866922024,
          0.00666417422879363,
          0.008785619140754361,
          0.009409647778072282,
          0.010502736806678438,
          0.011423618873592997,
          0.011650818766788024,
          0.011815847086226496,
          0.012043987807096312,
          0.012560913177026789,
          0.01621292639763321,
          0.023239616563418653,
          0.026893323742734426,
          0.027388974968394875,
          0.028904946028259968,
          0.028934227721812717,
          0.029769627301979792,
          0.031896263231122136,
          0.032888631203585955,
          0.033211513187902164,
          0.033392617149474633,
          0.03470885309713363,
          0.034976647396642996,
          0.039618477400842955,
          0.04066787009625107,
          0.041469495648160146,
          0.04414149833677566,
          0.04539298647329455,
          0.047772986547435545,
          0.04849095136663846,
          0.0509732570687667,
          0.05251610152514178,
          0.05269721511561911,
          0.05438863607279596,
          0.06127316079355442,
          0.061566912428474854,
          0.06165139383427204,
          0.06876863296267302,
          0.07207518254731772,
          0.08320206807677523,
          0.08337161854941551,
          0.08366299893429403,
          0.08795398646318793,
          0.09414710628212859,
          0.09527219386358089,
          0.09766574711899681,
          0.09989155983159058,
          0.10351875582145044,
          0.10690454551768845,
          0.10710759605988379,
          0.10981031376883792,
          0.1113973312200887,
          0.11264755477667561,
          0.11660355009168127,
          0.1170033455552052,
          0.11935065416311759,
          0.12238645168813989,
          0.12614614306852656,
          0.1287808815213452,
          0.12885371271934287,
          0.13320753275740918,
          0.13684008284042876,
          0.15283671961208442,
          0.15977599966569428,
          0.1607863691150117,
          0.16146266618454272,
          0.16211051091797576,
          0.17040329256214357,
          0.17234770052404605,
          0.17652545613593168,
          0.18531538427863056,
          0.1914232721112376,
          0.20502652567666904,
          0.2070805611387026,
          0.21624628684327457,
          0.2193557549657008,
          0.21936889951797878,
          0.22915492066633114,
          0.2382144182638995,
          0.24853260951916334,
          0.2585350528859049,
          0.26021676312914516,
          0.2668434910834296,
          0.2812791389363439,
          0.2841901154455748,
          0.29510801028421196,
          0.2982855871858178,
          0.29926378835180717,
          0.30061617812984104,
          0.33869464621035045,
          0.3419130502657702,
          0.37156246211857263,
          0.37496618146776517,
          0.3877122447122197,
          0.4199910691329601,
          0.42578519583013086,
          0.4498709938294558,
          0.4703858711634963,
          0.4856570755541491,
          0.5260724411267463,
          0.5386910382411126,
          0.5896553449458967
         ],
         "xaxis": "x",
         "y": [
          0.00254751775538962,
          0.003445019676032831,
          0.0036467648782110007,
          0.0049703817951881404,
          0.005386338596473574,
          0.008951421348691146,
          0.014169880964444668,
          0.01673789062918655,
          0.017115945643318496,
          0.017794580491324933,
          0.018395796923003103,
          0.01876584456993151,
          0.020620544255700694,
          0.021166109078534022,
          0.0221217558014083,
          0.022926848439217287,
          0.023125480780853788,
          0.02326975884835386,
          0.02346921372032474,
          0.023921142175205086,
          0.02711396030330976,
          0.03325713186011186,
          0.03645143095275548,
          0.036884760221548,
          0.0382101168369919,
          0.03823571672295872,
          0.038966075230074296,
          0.04082531322738826,
          0.04169290331012812,
          0.041975186913852866,
          0.04213351931208119,
          0.04328425501337496,
          0.043518377521270656,
          0.047576555323411485,
          0.04849399998174252,
          0.04919483112321965,
          0.05153086281511464,
          0.052624991934592996,
          0.05470573669716153,
          0.05533342639914783,
          0.05750361313355855,
          0.0588524641512288,
          0.05901080496764734,
          0.060489550845087975,
          0.06650843248762825,
          0.0667652485199039,
          0.06683910744308497,
          0.07306144256032783,
          0.07595223479398179,
          0.08568005330990117,
          0.08582828492626556,
          0.08608302786360349,
          0.0898344772538794,
          0.09524888953362319,
          0.09623251139060264,
          0.09832510519101799,
          0.10027104972879684,
          0.10344217108325078,
          0.10640223997322695,
          0.10657975944341527,
          0.10894264412510471,
          0.11033011393473771,
          0.11142313747943106,
          0.11488171574666688,
          0.11523124191931891,
          0.11728340575961145,
          0.11993748962668382,
          0.12322444672958943,
          0.12552789969835412,
          0.12559157328199463,
          0.12939795477744148,
          0.13257375701464894,
          0.1465590163190408,
          0.152625768494566,
          0.15350909659306836,
          0.15410035774497188,
          0.15466674408701223,
          0.161916811917138,
          0.16361673484024353,
          0.16726918981416186,
          0.1749538941740454,
          0.18029379132620837,
          0.1921866054978126,
          0.19398237163084472,
          0.20199562169841512,
          0.204714113004533,
          0.20472560479338034,
          0.21328115589275093,
          0.22120153471225418,
          0.23022234216803528,
          0.23896710309235902,
          0.24043735925696985,
          0.24623085885962026,
          0.2588514041237107,
          0.2613963616602051,
          0.27094146745687925,
          0.2737195037130594,
          0.27457470828846486,
          0.27575705192709304,
          0.30904762779136047,
          0.31186135769620554,
          0.3377827259752475,
          0.3407584700880462,
          0.35190187492547603,
          0.3801220399519691,
          0.385187627516351,
          0.4062449369609598,
          0.42418032445583087,
          0.4375313654491523,
          0.47286500310579227,
          0.48389696908846414,
          0.5284531501600928
         ],
         "yaxis": "y"
        },
        {
         "line": {
          "color": "black",
          "dash": "dash"
         },
         "mode": "lines",
         "name": "1:1 Line",
         "type": "scatter",
         "x": [
          -0.1,
          1
         ],
         "y": [
          -0.1,
          1
         ]
        }
       ],
       "layout": {
        "height": 600,
        "legend": {
         "tracegroupgap": 0
        },
        "template": {
         "data": {
          "bar": [
           {
            "error_x": {
             "color": "#2a3f5f"
            },
            "error_y": {
             "color": "#2a3f5f"
            },
            "marker": {
             "line": {
              "color": "#E5ECF6",
              "width": 0.5
             },
             "pattern": {
              "fillmode": "overlay",
              "size": 10,
              "solidity": 0.2
             }
            },
            "type": "bar"
           }
          ],
          "barpolar": [
           {
            "marker": {
             "line": {
              "color": "#E5ECF6",
              "width": 0.5
             },
             "pattern": {
              "fillmode": "overlay",
              "size": 10,
              "solidity": 0.2
             }
            },
            "type": "barpolar"
           }
          ],
          "carpet": [
           {
            "aaxis": {
             "endlinecolor": "#2a3f5f",
             "gridcolor": "white",
             "linecolor": "white",
             "minorgridcolor": "white",
             "startlinecolor": "#2a3f5f"
            },
            "baxis": {
             "endlinecolor": "#2a3f5f",
             "gridcolor": "white",
             "linecolor": "white",
             "minorgridcolor": "white",
             "startlinecolor": "#2a3f5f"
            },
            "type": "carpet"
           }
          ],
          "choropleth": [
           {
            "colorbar": {
             "outlinewidth": 0,
             "ticks": ""
            },
            "type": "choropleth"
           }
          ],
          "contour": [
           {
            "colorbar": {
             "outlinewidth": 0,
             "ticks": ""
            },
            "colorscale": [
             [
              0,
              "#0d0887"
             ],
             [
              0.1111111111111111,
              "#46039f"
             ],
             [
              0.2222222222222222,
              "#7201a8"
             ],
             [
              0.3333333333333333,
              "#9c179e"
             ],
             [
              0.4444444444444444,
              "#bd3786"
             ],
             [
              0.5555555555555556,
              "#d8576b"
             ],
             [
              0.6666666666666666,
              "#ed7953"
             ],
             [
              0.7777777777777778,
              "#fb9f3a"
             ],
             [
              0.8888888888888888,
              "#fdca26"
             ],
             [
              1,
              "#f0f921"
             ]
            ],
            "type": "contour"
           }
          ],
          "contourcarpet": [
           {
            "colorbar": {
             "outlinewidth": 0,
             "ticks": ""
            },
            "type": "contourcarpet"
           }
          ],
          "heatmap": [
           {
            "colorbar": {
             "outlinewidth": 0,
             "ticks": ""
            },
            "colorscale": [
             [
              0,
              "#0d0887"
             ],
             [
              0.1111111111111111,
              "#46039f"
             ],
             [
              0.2222222222222222,
              "#7201a8"
             ],
             [
              0.3333333333333333,
              "#9c179e"
             ],
             [
              0.4444444444444444,
              "#bd3786"
             ],
             [
              0.5555555555555556,
              "#d8576b"
             ],
             [
              0.6666666666666666,
              "#ed7953"
             ],
             [
              0.7777777777777778,
              "#fb9f3a"
             ],
             [
              0.8888888888888888,
              "#fdca26"
             ],
             [
              1,
              "#f0f921"
             ]
            ],
            "type": "heatmap"
           }
          ],
          "heatmapgl": [
           {
            "colorbar": {
             "outlinewidth": 0,
             "ticks": ""
            },
            "colorscale": [
             [
              0,
              "#0d0887"
             ],
             [
              0.1111111111111111,
              "#46039f"
             ],
             [
              0.2222222222222222,
              "#7201a8"
             ],
             [
              0.3333333333333333,
              "#9c179e"
             ],
             [
              0.4444444444444444,
              "#bd3786"
             ],
             [
              0.5555555555555556,
              "#d8576b"
             ],
             [
              0.6666666666666666,
              "#ed7953"
             ],
             [
              0.7777777777777778,
              "#fb9f3a"
             ],
             [
              0.8888888888888888,
              "#fdca26"
             ],
             [
              1,
              "#f0f921"
             ]
            ],
            "type": "heatmapgl"
           }
          ],
          "histogram": [
           {
            "marker": {
             "pattern": {
              "fillmode": "overlay",
              "size": 10,
              "solidity": 0.2
             }
            },
            "type": "histogram"
           }
          ],
          "histogram2d": [
           {
            "colorbar": {
             "outlinewidth": 0,
             "ticks": ""
            },
            "colorscale": [
             [
              0,
              "#0d0887"
             ],
             [
              0.1111111111111111,
              "#46039f"
             ],
             [
              0.2222222222222222,
              "#7201a8"
             ],
             [
              0.3333333333333333,
              "#9c179e"
             ],
             [
              0.4444444444444444,
              "#bd3786"
             ],
             [
              0.5555555555555556,
              "#d8576b"
             ],
             [
              0.6666666666666666,
              "#ed7953"
             ],
             [
              0.7777777777777778,
              "#fb9f3a"
             ],
             [
              0.8888888888888888,
              "#fdca26"
             ],
             [
              1,
              "#f0f921"
             ]
            ],
            "type": "histogram2d"
           }
          ],
          "histogram2dcontour": [
           {
            "colorbar": {
             "outlinewidth": 0,
             "ticks": ""
            },
            "colorscale": [
             [
              0,
              "#0d0887"
             ],
             [
              0.1111111111111111,
              "#46039f"
             ],
             [
              0.2222222222222222,
              "#7201a8"
             ],
             [
              0.3333333333333333,
              "#9c179e"
             ],
             [
              0.4444444444444444,
              "#bd3786"
             ],
             [
              0.5555555555555556,
              "#d8576b"
             ],
             [
              0.6666666666666666,
              "#ed7953"
             ],
             [
              0.7777777777777778,
              "#fb9f3a"
             ],
             [
              0.8888888888888888,
              "#fdca26"
             ],
             [
              1,
              "#f0f921"
             ]
            ],
            "type": "histogram2dcontour"
           }
          ],
          "mesh3d": [
           {
            "colorbar": {
             "outlinewidth": 0,
             "ticks": ""
            },
            "type": "mesh3d"
           }
          ],
          "parcoords": [
           {
            "line": {
             "colorbar": {
              "outlinewidth": 0,
              "ticks": ""
             }
            },
            "type": "parcoords"
           }
          ],
          "pie": [
           {
            "automargin": true,
            "type": "pie"
           }
          ],
          "scatter": [
           {
            "fillpattern": {
             "fillmode": "overlay",
             "size": 10,
             "solidity": 0.2
            },
            "type": "scatter"
           }
          ],
          "scatter3d": [
           {
            "line": {
             "colorbar": {
              "outlinewidth": 0,
              "ticks": ""
             }
            },
            "marker": {
             "colorbar": {
              "outlinewidth": 0,
              "ticks": ""
             }
            },
            "type": "scatter3d"
           }
          ],
          "scattercarpet": [
           {
            "marker": {
             "colorbar": {
              "outlinewidth": 0,
              "ticks": ""
             }
            },
            "type": "scattercarpet"
           }
          ],
          "scattergeo": [
           {
            "marker": {
             "colorbar": {
              "outlinewidth": 0,
              "ticks": ""
             }
            },
            "type": "scattergeo"
           }
          ],
          "scattergl": [
           {
            "marker": {
             "colorbar": {
              "outlinewidth": 0,
              "ticks": ""
             }
            },
            "type": "scattergl"
           }
          ],
          "scattermapbox": [
           {
            "marker": {
             "colorbar": {
              "outlinewidth": 0,
              "ticks": ""
             }
            },
            "type": "scattermapbox"
           }
          ],
          "scatterpolar": [
           {
            "marker": {
             "colorbar": {
              "outlinewidth": 0,
              "ticks": ""
             }
            },
            "type": "scatterpolar"
           }
          ],
          "scatterpolargl": [
           {
            "marker": {
             "colorbar": {
              "outlinewidth": 0,
              "ticks": ""
             }
            },
            "type": "scatterpolargl"
           }
          ],
          "scatterternary": [
           {
            "marker": {
             "colorbar": {
              "outlinewidth": 0,
              "ticks": ""
             }
            },
            "type": "scatterternary"
           }
          ],
          "surface": [
           {
            "colorbar": {
             "outlinewidth": 0,
             "ticks": ""
            },
            "colorscale": [
             [
              0,
              "#0d0887"
             ],
             [
              0.1111111111111111,
              "#46039f"
             ],
             [
              0.2222222222222222,
              "#7201a8"
             ],
             [
              0.3333333333333333,
              "#9c179e"
             ],
             [
              0.4444444444444444,
              "#bd3786"
             ],
             [
              0.5555555555555556,
              "#d8576b"
             ],
             [
              0.6666666666666666,
              "#ed7953"
             ],
             [
              0.7777777777777778,
              "#fb9f3a"
             ],
             [
              0.8888888888888888,
              "#fdca26"
             ],
             [
              1,
              "#f0f921"
             ]
            ],
            "type": "surface"
           }
          ],
          "table": [
           {
            "cells": {
             "fill": {
              "color": "#EBF0F8"
             },
             "line": {
              "color": "white"
             }
            },
            "header": {
             "fill": {
              "color": "#C8D4E3"
             },
             "line": {
              "color": "white"
             }
            },
            "type": "table"
           }
          ]
         },
         "layout": {
          "annotationdefaults": {
           "arrowcolor": "#2a3f5f",
           "arrowhead": 0,
           "arrowwidth": 1
          },
          "autotypenumbers": "strict",
          "coloraxis": {
           "colorbar": {
            "outlinewidth": 0,
            "ticks": ""
           }
          },
          "colorscale": {
           "diverging": [
            [
             0,
             "#8e0152"
            ],
            [
             0.1,
             "#c51b7d"
            ],
            [
             0.2,
             "#de77ae"
            ],
            [
             0.3,
             "#f1b6da"
            ],
            [
             0.4,
             "#fde0ef"
            ],
            [
             0.5,
             "#f7f7f7"
            ],
            [
             0.6,
             "#e6f5d0"
            ],
            [
             0.7,
             "#b8e186"
            ],
            [
             0.8,
             "#7fbc41"
            ],
            [
             0.9,
             "#4d9221"
            ],
            [
             1,
             "#276419"
            ]
           ],
           "sequential": [
            [
             0,
             "#0d0887"
            ],
            [
             0.1111111111111111,
             "#46039f"
            ],
            [
             0.2222222222222222,
             "#7201a8"
            ],
            [
             0.3333333333333333,
             "#9c179e"
            ],
            [
             0.4444444444444444,
             "#bd3786"
            ],
            [
             0.5555555555555556,
             "#d8576b"
            ],
            [
             0.6666666666666666,
             "#ed7953"
            ],
            [
             0.7777777777777778,
             "#fb9f3a"
            ],
            [
             0.8888888888888888,
             "#fdca26"
            ],
            [
             1,
             "#f0f921"
            ]
           ],
           "sequentialminus": [
            [
             0,
             "#0d0887"
            ],
            [
             0.1111111111111111,
             "#46039f"
            ],
            [
             0.2222222222222222,
             "#7201a8"
            ],
            [
             0.3333333333333333,
             "#9c179e"
            ],
            [
             0.4444444444444444,
             "#bd3786"
            ],
            [
             0.5555555555555556,
             "#d8576b"
            ],
            [
             0.6666666666666666,
             "#ed7953"
            ],
            [
             0.7777777777777778,
             "#fb9f3a"
            ],
            [
             0.8888888888888888,
             "#fdca26"
            ],
            [
             1,
             "#f0f921"
            ]
           ]
          },
          "colorway": [
           "#636efa",
           "#EF553B",
           "#00cc96",
           "#ab63fa",
           "#FFA15A",
           "#19d3f3",
           "#FF6692",
           "#B6E880",
           "#FF97FF",
           "#FECB52"
          ],
          "font": {
           "color": "#2a3f5f"
          },
          "geo": {
           "bgcolor": "white",
           "lakecolor": "white",
           "landcolor": "#E5ECF6",
           "showlakes": true,
           "showland": true,
           "subunitcolor": "white"
          },
          "hoverlabel": {
           "align": "left"
          },
          "hovermode": "closest",
          "mapbox": {
           "style": "light"
          },
          "paper_bgcolor": "white",
          "plot_bgcolor": "#E5ECF6",
          "polar": {
           "angularaxis": {
            "gridcolor": "white",
            "linecolor": "white",
            "ticks": ""
           },
           "bgcolor": "#E5ECF6",
           "radialaxis": {
            "gridcolor": "white",
            "linecolor": "white",
            "ticks": ""
           }
          },
          "scene": {
           "xaxis": {
            "backgroundcolor": "#E5ECF6",
            "gridcolor": "white",
            "gridwidth": 2,
            "linecolor": "white",
            "showbackground": true,
            "ticks": "",
            "zerolinecolor": "white"
           },
           "yaxis": {
            "backgroundcolor": "#E5ECF6",
            "gridcolor": "white",
            "gridwidth": 2,
            "linecolor": "white",
            "showbackground": true,
            "ticks": "",
            "zerolinecolor": "white"
           },
           "zaxis": {
            "backgroundcolor": "#E5ECF6",
            "gridcolor": "white",
            "gridwidth": 2,
            "linecolor": "white",
            "showbackground": true,
            "ticks": "",
            "zerolinecolor": "white"
           }
          },
          "shapedefaults": {
           "line": {
            "color": "#2a3f5f"
           }
          },
          "ternary": {
           "aaxis": {
            "gridcolor": "white",
            "linecolor": "white",
            "ticks": ""
           },
           "baxis": {
            "gridcolor": "white",
            "linecolor": "white",
            "ticks": ""
           },
           "bgcolor": "#E5ECF6",
           "caxis": {
            "gridcolor": "white",
            "linecolor": "white",
            "ticks": ""
           }
          },
          "title": {
           "x": 0.05
          },
          "xaxis": {
           "automargin": true,
           "gridcolor": "white",
           "linecolor": "white",
           "ticks": "",
           "title": {
            "standoff": 15
           },
           "zerolinecolor": "white",
           "zerolinewidth": 2
          },
          "yaxis": {
           "automargin": true,
           "gridcolor": "white",
           "linecolor": "white",
           "ticks": "",
           "title": {
            "standoff": 15
           },
           "zerolinecolor": "white",
           "zerolinewidth": 2
          }
         }
        },
        "title": {
         "text": "SPLASH (Avery Picnic) vs SPLASH (Kettle Ponds) Daily Sublimation, Winter 2022"
        },
        "width": 800,
        "xaxis": {
         "anchor": "y",
         "domain": [
          0,
          1
         ],
         "title": {
          "text": "Avery Picnic Sublimation Rate (mm/day)"
         }
        },
        "yaxis": {
         "anchor": "x",
         "domain": [
          0,
          1
         ],
         "title": {
          "text": "Kettle Ponds Sublimation Rate (mm/day)"
         }
        }
       }
      },
      "text/html": [
       "<div>                            <div id=\"6f118839-740d-4463-894f-53d563b3dc53\" class=\"plotly-graph-div\" style=\"height:600px; width:800px;\"></div>            <script type=\"text/javascript\">                require([\"plotly\"], function(Plotly) {                    window.PLOTLYENV=window.PLOTLYENV || {};                                    if (document.getElementById(\"6f118839-740d-4463-894f-53d563b3dc53\")) {                    Plotly.newPlot(                        \"6f118839-740d-4463-894f-53d563b3dc53\",                        [{\"hovertemplate\":\"ap=%{x}\\u003cbr\\u003ekp=%{y}\\u003cextra\\u003e\\u003c\\u002fextra\\u003e\",\"legendgroup\":\"\",\"marker\":{\"color\":\"#636efa\",\"symbol\":\"circle\",\"line\":{\"color\":\"black\",\"width\":1},\"size\":10},\"mode\":\"markers\",\"name\":\"\",\"orientation\":\"v\",\"showlegend\":false,\"x\":[0.2585350528859049,0.16146266618454272,0.20502652567666904,0.1914232721112376,0.2668434910834296,0.2382144182638995,0.17040329256214357,0.00666417422879363,0.11935065416311759,0.026893323742734426,0.028934227721812717,0.04539298647329455,0.041469495648160146,0.05269721511561911,0.29510801028421196,0.11660355009168127,0.05251610152514178,-0.010860110844195527,0.023239616563418653,0.010502736806678438,0.06127316079355442,0.11264755477667561,0.033211513187902164,0.006240905866922024,0.4498709938294558,0.4703858711634963,0.2841901154455748,0.30061617812984104,0.16211051091797576,0.1607863691150117,0.008785619140754361,0.06165139383427204,-0.021077819410752516,0.0027524704933323376,0.2807134052796887,0.4876220934936907,0.3345897662525333,0.02867341245276915,0.01790377424822218,-0.010304586895287324,0.004373962764416043,0.011423618873592997,0.034976647396642996,-0.004561771602913757,0.15283671961208442,0.13320753275740918,0.009409647778072282,-0.01188669261246379,0.012043987807096312,0.027388974968394875,0.04849095136663846,0.029769627301979792,-0.01062935039496632,0.011815847086226496,0.03470885309713363,0.011650818766788024,0.0014072133950653572,0.05438863607279596,0.005553221736840405,0.004344557418431211,0.039618477400842955,0.21624628684327457,0.1170033455552052,0.047772986547435545,0.032888631203585955,0.01621292639763321,0.10690454551768845,0.06876863296267302,-0.008639589011004988,0.24853260951916334,0.5386910382411126,0.0509732570687667,0.5896553449458967,0.4856570755541491,0.2193557549657008,0.08320206807677523,0.10981031376883792,0.22915492066633114,0.12614614306852656,0.1287808815213452,0.13684008284042876,0.12885371271934287,0.3419130502657702,0.2070805611387026,0.12238645168813989,0.08795398646318793,0.031896263231122136,0.004776984777062504,0.033392617149474633,0.061566912428474854,0.028904946028259968,-0.009115369239175178,0.012560913177026789,0.10351875582145044,0.08366299893429403,0.04066787009625107,0.07207518254731772,0.09414710628212859,0.10710759605988379,0.1113973312200887,0.21936889951797878,0.09989155983159058,0.15977599966569428,0.08337161854941551,0.04414149833677566,0.09766574711899681,0.2812791389363439,0.17234770052404605,0.09527219386358089,0.17652545613593168,0.29926378835180717,0.4199910691329601,0.5260724411267463,0.37156246211857263,0.37496618146776517,0.33869464621035045,0.18531538427863056,0.3877122447122197,0.2982855871858178,0.42578519583013086,0.26021676312914516],\"xaxis\":\"x\",\"y\":[0.20613155865027633,0.3094452769959794,0.23270478140025472,0.16578608815607132,0.1355916422202433,0.15523885520314548,0.11518039755988294,-0.006077879255060303,0.1687488466336575,0.11941715536196468,-0.006652331678330822,0.03839612000915184,0.08371021201835484,0.05924305561200574,0.5025440450249166,0.13440717468157626,0.02502617942593162,-0.007146831699381627,-0.00843362974806885,-0.005035407400281216,0.034126496106135044,0.20507481670869862,0.10824513848142059,0.043917636606802424,0.7661735928705787,0.5546205662009895,0.23628457030754288,0.33641240547240836,0.019475979041085043,0.05156477902360971,-0.026093116170295794,0.06810538007937914,null,null,null,null,null,null,null,null,null,0.0012955860351895245,-0.0008304378159717898,-0.0507633631457527,0.11818074946974014,0.21705537896156077,-0.0052309296953214224,0.055309642040396755,0.05067083784603497,0.05624118635771766,0.03776207912023004,0.02240339070986942,-0.000951443277264704,-0.03233347280873182,0.02606018879746251,0.0398380985715973,-0.014335431948814828,0.0732905536639296,-0.020930436122308875,0.03323190059882851,0.026664424375265887,0.07386771890682475,0.05751188213246753,0.05778624856553924,0.017327425922413577,0.008369898701989177,0.0060541232698788396,0.09221425710508487,-0.002532678656759338,0.043646427384911736,0.11884816310971652,0.06231674655098294,0.3643788942526683,0.21884832483385128,0.08461847716988466,0.08553059548334581,0.18304533709038442,0.22057726233780703,0.017676412742066275,0.0948489563332869,0.08831060627240288,0.17956763743406534,0.39011182913509096,0.09232625826636243,0.12368959476201678,0.15500120239979434,0.059441913402000474,0.04020818599179235,0.017685992738124618,0.0334130280512861,0.03381894815758965,0.032264340013991075,0.057890629558588785,0.1536333798804972,0.09483825962161922,0.0351024486952587,0.1089131792792629,0.10471873491123952,0.0631027044603638,0.204989379205028,0.09104137831659734,0.07915280276870204,0.118360301120317,0.23452465694865599,0.09153116134212586,0.17592009109731907,0.4192254640198385,0.12040154571787207,0.08679860054467282,0.22591830439269053,0.5660085513648567,0.8038262710469041,0.638871106372091,0.201436601689371,0.05538150265292417,0.24578852354996922,0.2590655721625011,0.5148894524742225,0.26401902976322006,0.312702092434396,0.2027554921301739],\"yaxis\":\"y\",\"type\":\"scatter\"},{\"hovertemplate\":\"\\u003cb\\u003eOLS trendline\\u003c\\u002fb\\u003e\\u003cbr\\u003ekp = 0.874262 * ap + 0.0129396\\u003cbr\\u003eR\\u003csup\\u003e2\\u003c\\u002fsup\\u003e=0.581206\\u003cbr\\u003e\\u003cbr\\u003eap=%{x}\\u003cbr\\u003ekp=%{y} \\u003cb\\u003e(trend)\\u003c\\u002fb\\u003e\\u003cextra\\u003e\\u003c\\u002fextra\\u003e\",\"legendgroup\":\"\",\"marker\":{\"color\":\"#636efa\",\"symbol\":\"circle\",\"line\":{\"color\":\"black\",\"width\":1},\"size\":10},\"mode\":\"lines\",\"name\":\"\",\"showlegend\":false,\"x\":[-0.01188669261246379,-0.010860110844195527,-0.01062935039496632,-0.009115369239175178,-0.008639589011004988,-0.004561771602913757,0.0014072133950653572,0.004344557418431211,0.004776984777062504,0.005553221736840405,0.006240905866922024,0.00666417422879363,0.008785619140754361,0.009409647778072282,0.010502736806678438,0.011423618873592997,0.011650818766788024,0.011815847086226496,0.012043987807096312,0.012560913177026789,0.01621292639763321,0.023239616563418653,0.026893323742734426,0.027388974968394875,0.028904946028259968,0.028934227721812717,0.029769627301979792,0.031896263231122136,0.032888631203585955,0.033211513187902164,0.033392617149474633,0.03470885309713363,0.034976647396642996,0.039618477400842955,0.04066787009625107,0.041469495648160146,0.04414149833677566,0.04539298647329455,0.047772986547435545,0.04849095136663846,0.0509732570687667,0.05251610152514178,0.05269721511561911,0.05438863607279596,0.06127316079355442,0.061566912428474854,0.06165139383427204,0.06876863296267302,0.07207518254731772,0.08320206807677523,0.08337161854941551,0.08366299893429403,0.08795398646318793,0.09414710628212859,0.09527219386358089,0.09766574711899681,0.09989155983159058,0.10351875582145044,0.10690454551768845,0.10710759605988379,0.10981031376883792,0.1113973312200887,0.11264755477667561,0.11660355009168127,0.1170033455552052,0.11935065416311759,0.12238645168813989,0.12614614306852656,0.1287808815213452,0.12885371271934287,0.13320753275740918,0.13684008284042876,0.15283671961208442,0.15977599966569428,0.1607863691150117,0.16146266618454272,0.16211051091797576,0.17040329256214357,0.17234770052404605,0.17652545613593168,0.18531538427863056,0.1914232721112376,0.20502652567666904,0.2070805611387026,0.21624628684327457,0.2193557549657008,0.21936889951797878,0.22915492066633114,0.2382144182638995,0.24853260951916334,0.2585350528859049,0.26021676312914516,0.2668434910834296,0.2812791389363439,0.2841901154455748,0.29510801028421196,0.2982855871858178,0.29926378835180717,0.30061617812984104,0.33869464621035045,0.3419130502657702,0.37156246211857263,0.37496618146776517,0.3877122447122197,0.4199910691329601,0.42578519583013086,0.4498709938294558,0.4703858711634963,0.4856570755541491,0.5260724411267463,0.5386910382411126,0.5896553449458967],\"xaxis\":\"x\",\"y\":[0.00254751775538962,0.003445019676032831,0.0036467648782110007,0.0049703817951881404,0.005386338596473574,0.008951421348691146,0.014169880964444668,0.01673789062918655,0.017115945643318496,0.017794580491324933,0.018395796923003103,0.01876584456993151,0.020620544255700694,0.021166109078534022,0.0221217558014083,0.022926848439217287,0.023125480780853788,0.02326975884835386,0.02346921372032474,0.023921142175205086,0.02711396030330976,0.03325713186011186,0.03645143095275548,0.036884760221548,0.0382101168369919,0.03823571672295872,0.038966075230074296,0.04082531322738826,0.04169290331012812,0.041975186913852866,0.04213351931208119,0.04328425501337496,0.043518377521270656,0.047576555323411485,0.04849399998174252,0.04919483112321965,0.05153086281511464,0.052624991934592996,0.05470573669716153,0.05533342639914783,0.05750361313355855,0.0588524641512288,0.05901080496764734,0.060489550845087975,0.06650843248762825,0.0667652485199039,0.06683910744308497,0.07306144256032783,0.07595223479398179,0.08568005330990117,0.08582828492626556,0.08608302786360349,0.0898344772538794,0.09524888953362319,0.09623251139060264,0.09832510519101799,0.10027104972879684,0.10344217108325078,0.10640223997322695,0.10657975944341527,0.10894264412510471,0.11033011393473771,0.11142313747943106,0.11488171574666688,0.11523124191931891,0.11728340575961145,0.11993748962668382,0.12322444672958943,0.12552789969835412,0.12559157328199463,0.12939795477744148,0.13257375701464894,0.1465590163190408,0.152625768494566,0.15350909659306836,0.15410035774497188,0.15466674408701223,0.161916811917138,0.16361673484024353,0.16726918981416186,0.1749538941740454,0.18029379132620837,0.1921866054978126,0.19398237163084472,0.20199562169841512,0.204714113004533,0.20472560479338034,0.21328115589275093,0.22120153471225418,0.23022234216803528,0.23896710309235902,0.24043735925696985,0.24623085885962026,0.2588514041237107,0.2613963616602051,0.27094146745687925,0.2737195037130594,0.27457470828846486,0.27575705192709304,0.30904762779136047,0.31186135769620554,0.3377827259752475,0.3407584700880462,0.35190187492547603,0.3801220399519691,0.385187627516351,0.4062449369609598,0.42418032445583087,0.4375313654491523,0.47286500310579227,0.48389696908846414,0.5284531501600928],\"yaxis\":\"y\",\"type\":\"scatter\"},{\"line\":{\"color\":\"black\",\"dash\":\"dash\"},\"mode\":\"lines\",\"name\":\"1:1 Line\",\"x\":[-0.1,1.0],\"y\":[-0.1,1.0],\"type\":\"scatter\"}],                        {\"template\":{\"data\":{\"histogram2dcontour\":[{\"type\":\"histogram2dcontour\",\"colorbar\":{\"outlinewidth\":0,\"ticks\":\"\"},\"colorscale\":[[0.0,\"#0d0887\"],[0.1111111111111111,\"#46039f\"],[0.2222222222222222,\"#7201a8\"],[0.3333333333333333,\"#9c179e\"],[0.4444444444444444,\"#bd3786\"],[0.5555555555555556,\"#d8576b\"],[0.6666666666666666,\"#ed7953\"],[0.7777777777777778,\"#fb9f3a\"],[0.8888888888888888,\"#fdca26\"],[1.0,\"#f0f921\"]]}],\"choropleth\":[{\"type\":\"choropleth\",\"colorbar\":{\"outlinewidth\":0,\"ticks\":\"\"}}],\"histogram2d\":[{\"type\":\"histogram2d\",\"colorbar\":{\"outlinewidth\":0,\"ticks\":\"\"},\"colorscale\":[[0.0,\"#0d0887\"],[0.1111111111111111,\"#46039f\"],[0.2222222222222222,\"#7201a8\"],[0.3333333333333333,\"#9c179e\"],[0.4444444444444444,\"#bd3786\"],[0.5555555555555556,\"#d8576b\"],[0.6666666666666666,\"#ed7953\"],[0.7777777777777778,\"#fb9f3a\"],[0.8888888888888888,\"#fdca26\"],[1.0,\"#f0f921\"]]}],\"heatmap\":[{\"type\":\"heatmap\",\"colorbar\":{\"outlinewidth\":0,\"ticks\":\"\"},\"colorscale\":[[0.0,\"#0d0887\"],[0.1111111111111111,\"#46039f\"],[0.2222222222222222,\"#7201a8\"],[0.3333333333333333,\"#9c179e\"],[0.4444444444444444,\"#bd3786\"],[0.5555555555555556,\"#d8576b\"],[0.6666666666666666,\"#ed7953\"],[0.7777777777777778,\"#fb9f3a\"],[0.8888888888888888,\"#fdca26\"],[1.0,\"#f0f921\"]]}],\"heatmapgl\":[{\"type\":\"heatmapgl\",\"colorbar\":{\"outlinewidth\":0,\"ticks\":\"\"},\"colorscale\":[[0.0,\"#0d0887\"],[0.1111111111111111,\"#46039f\"],[0.2222222222222222,\"#7201a8\"],[0.3333333333333333,\"#9c179e\"],[0.4444444444444444,\"#bd3786\"],[0.5555555555555556,\"#d8576b\"],[0.6666666666666666,\"#ed7953\"],[0.7777777777777778,\"#fb9f3a\"],[0.8888888888888888,\"#fdca26\"],[1.0,\"#f0f921\"]]}],\"contourcarpet\":[{\"type\":\"contourcarpet\",\"colorbar\":{\"outlinewidth\":0,\"ticks\":\"\"}}],\"contour\":[{\"type\":\"contour\",\"colorbar\":{\"outlinewidth\":0,\"ticks\":\"\"},\"colorscale\":[[0.0,\"#0d0887\"],[0.1111111111111111,\"#46039f\"],[0.2222222222222222,\"#7201a8\"],[0.3333333333333333,\"#9c179e\"],[0.4444444444444444,\"#bd3786\"],[0.5555555555555556,\"#d8576b\"],[0.6666666666666666,\"#ed7953\"],[0.7777777777777778,\"#fb9f3a\"],[0.8888888888888888,\"#fdca26\"],[1.0,\"#f0f921\"]]}],\"surface\":[{\"type\":\"surface\",\"colorbar\":{\"outlinewidth\":0,\"ticks\":\"\"},\"colorscale\":[[0.0,\"#0d0887\"],[0.1111111111111111,\"#46039f\"],[0.2222222222222222,\"#7201a8\"],[0.3333333333333333,\"#9c179e\"],[0.4444444444444444,\"#bd3786\"],[0.5555555555555556,\"#d8576b\"],[0.6666666666666666,\"#ed7953\"],[0.7777777777777778,\"#fb9f3a\"],[0.8888888888888888,\"#fdca26\"],[1.0,\"#f0f921\"]]}],\"mesh3d\":[{\"type\":\"mesh3d\",\"colorbar\":{\"outlinewidth\":0,\"ticks\":\"\"}}],\"scatter\":[{\"fillpattern\":{\"fillmode\":\"overlay\",\"size\":10,\"solidity\":0.2},\"type\":\"scatter\"}],\"parcoords\":[{\"type\":\"parcoords\",\"line\":{\"colorbar\":{\"outlinewidth\":0,\"ticks\":\"\"}}}],\"scatterpolargl\":[{\"type\":\"scatterpolargl\",\"marker\":{\"colorbar\":{\"outlinewidth\":0,\"ticks\":\"\"}}}],\"bar\":[{\"error_x\":{\"color\":\"#2a3f5f\"},\"error_y\":{\"color\":\"#2a3f5f\"},\"marker\":{\"line\":{\"color\":\"#E5ECF6\",\"width\":0.5},\"pattern\":{\"fillmode\":\"overlay\",\"size\":10,\"solidity\":0.2}},\"type\":\"bar\"}],\"scattergeo\":[{\"type\":\"scattergeo\",\"marker\":{\"colorbar\":{\"outlinewidth\":0,\"ticks\":\"\"}}}],\"scatterpolar\":[{\"type\":\"scatterpolar\",\"marker\":{\"colorbar\":{\"outlinewidth\":0,\"ticks\":\"\"}}}],\"histogram\":[{\"marker\":{\"pattern\":{\"fillmode\":\"overlay\",\"size\":10,\"solidity\":0.2}},\"type\":\"histogram\"}],\"scattergl\":[{\"type\":\"scattergl\",\"marker\":{\"colorbar\":{\"outlinewidth\":0,\"ticks\":\"\"}}}],\"scatter3d\":[{\"type\":\"scatter3d\",\"line\":{\"colorbar\":{\"outlinewidth\":0,\"ticks\":\"\"}},\"marker\":{\"colorbar\":{\"outlinewidth\":0,\"ticks\":\"\"}}}],\"scattermapbox\":[{\"type\":\"scattermapbox\",\"marker\":{\"colorbar\":{\"outlinewidth\":0,\"ticks\":\"\"}}}],\"scatterternary\":[{\"type\":\"scatterternary\",\"marker\":{\"colorbar\":{\"outlinewidth\":0,\"ticks\":\"\"}}}],\"scattercarpet\":[{\"type\":\"scattercarpet\",\"marker\":{\"colorbar\":{\"outlinewidth\":0,\"ticks\":\"\"}}}],\"carpet\":[{\"aaxis\":{\"endlinecolor\":\"#2a3f5f\",\"gridcolor\":\"white\",\"linecolor\":\"white\",\"minorgridcolor\":\"white\",\"startlinecolor\":\"#2a3f5f\"},\"baxis\":{\"endlinecolor\":\"#2a3f5f\",\"gridcolor\":\"white\",\"linecolor\":\"white\",\"minorgridcolor\":\"white\",\"startlinecolor\":\"#2a3f5f\"},\"type\":\"carpet\"}],\"table\":[{\"cells\":{\"fill\":{\"color\":\"#EBF0F8\"},\"line\":{\"color\":\"white\"}},\"header\":{\"fill\":{\"color\":\"#C8D4E3\"},\"line\":{\"color\":\"white\"}},\"type\":\"table\"}],\"barpolar\":[{\"marker\":{\"line\":{\"color\":\"#E5ECF6\",\"width\":0.5},\"pattern\":{\"fillmode\":\"overlay\",\"size\":10,\"solidity\":0.2}},\"type\":\"barpolar\"}],\"pie\":[{\"automargin\":true,\"type\":\"pie\"}]},\"layout\":{\"autotypenumbers\":\"strict\",\"colorway\":[\"#636efa\",\"#EF553B\",\"#00cc96\",\"#ab63fa\",\"#FFA15A\",\"#19d3f3\",\"#FF6692\",\"#B6E880\",\"#FF97FF\",\"#FECB52\"],\"font\":{\"color\":\"#2a3f5f\"},\"hovermode\":\"closest\",\"hoverlabel\":{\"align\":\"left\"},\"paper_bgcolor\":\"white\",\"plot_bgcolor\":\"#E5ECF6\",\"polar\":{\"bgcolor\":\"#E5ECF6\",\"angularaxis\":{\"gridcolor\":\"white\",\"linecolor\":\"white\",\"ticks\":\"\"},\"radialaxis\":{\"gridcolor\":\"white\",\"linecolor\":\"white\",\"ticks\":\"\"}},\"ternary\":{\"bgcolor\":\"#E5ECF6\",\"aaxis\":{\"gridcolor\":\"white\",\"linecolor\":\"white\",\"ticks\":\"\"},\"baxis\":{\"gridcolor\":\"white\",\"linecolor\":\"white\",\"ticks\":\"\"},\"caxis\":{\"gridcolor\":\"white\",\"linecolor\":\"white\",\"ticks\":\"\"}},\"coloraxis\":{\"colorbar\":{\"outlinewidth\":0,\"ticks\":\"\"}},\"colorscale\":{\"sequential\":[[0.0,\"#0d0887\"],[0.1111111111111111,\"#46039f\"],[0.2222222222222222,\"#7201a8\"],[0.3333333333333333,\"#9c179e\"],[0.4444444444444444,\"#bd3786\"],[0.5555555555555556,\"#d8576b\"],[0.6666666666666666,\"#ed7953\"],[0.7777777777777778,\"#fb9f3a\"],[0.8888888888888888,\"#fdca26\"],[1.0,\"#f0f921\"]],\"sequentialminus\":[[0.0,\"#0d0887\"],[0.1111111111111111,\"#46039f\"],[0.2222222222222222,\"#7201a8\"],[0.3333333333333333,\"#9c179e\"],[0.4444444444444444,\"#bd3786\"],[0.5555555555555556,\"#d8576b\"],[0.6666666666666666,\"#ed7953\"],[0.7777777777777778,\"#fb9f3a\"],[0.8888888888888888,\"#fdca26\"],[1.0,\"#f0f921\"]],\"diverging\":[[0,\"#8e0152\"],[0.1,\"#c51b7d\"],[0.2,\"#de77ae\"],[0.3,\"#f1b6da\"],[0.4,\"#fde0ef\"],[0.5,\"#f7f7f7\"],[0.6,\"#e6f5d0\"],[0.7,\"#b8e186\"],[0.8,\"#7fbc41\"],[0.9,\"#4d9221\"],[1,\"#276419\"]]},\"xaxis\":{\"gridcolor\":\"white\",\"linecolor\":\"white\",\"ticks\":\"\",\"title\":{\"standoff\":15},\"zerolinecolor\":\"white\",\"automargin\":true,\"zerolinewidth\":2},\"yaxis\":{\"gridcolor\":\"white\",\"linecolor\":\"white\",\"ticks\":\"\",\"title\":{\"standoff\":15},\"zerolinecolor\":\"white\",\"automargin\":true,\"zerolinewidth\":2},\"scene\":{\"xaxis\":{\"backgroundcolor\":\"#E5ECF6\",\"gridcolor\":\"white\",\"linecolor\":\"white\",\"showbackground\":true,\"ticks\":\"\",\"zerolinecolor\":\"white\",\"gridwidth\":2},\"yaxis\":{\"backgroundcolor\":\"#E5ECF6\",\"gridcolor\":\"white\",\"linecolor\":\"white\",\"showbackground\":true,\"ticks\":\"\",\"zerolinecolor\":\"white\",\"gridwidth\":2},\"zaxis\":{\"backgroundcolor\":\"#E5ECF6\",\"gridcolor\":\"white\",\"linecolor\":\"white\",\"showbackground\":true,\"ticks\":\"\",\"zerolinecolor\":\"white\",\"gridwidth\":2}},\"shapedefaults\":{\"line\":{\"color\":\"#2a3f5f\"}},\"annotationdefaults\":{\"arrowcolor\":\"#2a3f5f\",\"arrowhead\":0,\"arrowwidth\":1},\"geo\":{\"bgcolor\":\"white\",\"landcolor\":\"#E5ECF6\",\"subunitcolor\":\"white\",\"showland\":true,\"showlakes\":true,\"lakecolor\":\"white\"},\"title\":{\"x\":0.05},\"mapbox\":{\"style\":\"light\"}}},\"xaxis\":{\"anchor\":\"y\",\"domain\":[0.0,1.0],\"title\":{\"text\":\"Avery Picnic Sublimation Rate (mm\\u002fday)\"}},\"yaxis\":{\"anchor\":\"x\",\"domain\":[0.0,1.0],\"title\":{\"text\":\"Kettle Ponds Sublimation Rate (mm\\u002fday)\"}},\"legend\":{\"tracegroupgap\":0},\"title\":{\"text\":\"SPLASH (Avery Picnic) vs SPLASH (Kettle Ponds) Daily Sublimation, Winter 2022\"},\"width\":800,\"height\":600},                        {\"responsive\": true}                    ).then(function(){\n",
       "                            \n",
       "var gd = document.getElementById('6f118839-740d-4463-894f-53d563b3dc53');\n",
       "var x = new MutationObserver(function (mutations, observer) {{\n",
       "        var display = window.getComputedStyle(gd).display;\n",
       "        if (!display || display === 'none') {{\n",
       "            console.log([gd, 'removed!']);\n",
       "            Plotly.purge(gd);\n",
       "            observer.disconnect();\n",
       "        }}\n",
       "}});\n",
       "\n",
       "// Listen for the removal of the full notebook cells\n",
       "var notebookContainer = gd.closest('#notebook-container');\n",
       "if (notebookContainer) {{\n",
       "    x.observe(notebookContainer, {childList: true});\n",
       "}}\n",
       "\n",
       "// Listen for the clearing of the current output cell\n",
       "var outputEl = gd.closest('.output');\n",
       "if (outputEl) {{\n",
       "    x.observe(outputEl, {childList: true});\n",
       "}}\n",
       "\n",
       "                        })                };                });            </script>        </div>"
      ]
     },
     "metadata": {},
     "output_type": "display_data"
    }
   ],
   "source": [
    "\n",
    "# scatter plot of e_rate vs ds['w_h2o__3m_uw']\n",
    "df1 = splash_ap_qc_ds['e_rate'].sel(time=slice('2021-12-01','2022-03-31')).to_dataframe().dropna().resample('1D').sum()\n",
    "df1 = df1[df1!=0]\n",
    "df1 = df1.rename(columns={'e_rate':'ap'})\n",
    "df2 = splash_kp_qc_ds['e_rate'].sel(time=slice('2021-12-01','2022-03-31')).to_dataframe().dropna().resample('1D').sum()\n",
    "df2 = df2[df2!=0]\n",
    "df2 = df2.rename(columns={'e_rate':'kp'})\n",
    "df = pd.concat([df1, df2], axis=1)\n",
    "\n",
    "fig = px.scatter(df, \n",
    "                 x='ap', \n",
    "                 y='kp', \n",
    "                 title='SPLASH (Avery Picnic) vs SPLASH (Kettle Ponds) Daily Sublimation, Winter 2022',\n",
    "                 trendline='ols',)\n",
    "# add black edges to markers\n",
    "fig.update_traces(marker=dict(line=dict(width=1, color='black'), size=10))\n",
    "# add 1:1 line\n",
    "fig.add_trace(go.Scatter(x=[-0.1, 1.], y=[-0.1, 1.], mode='lines', name='1:1 Line', line=dict(color='black', dash='dash')))\n",
    "fig.update_layout(\n",
    "    xaxis_title='Avery Picnic Sublimation Rate (mm/day)',\n",
    "    yaxis_title='Kettle Ponds Sublimation Rate (mm/day)',\n",
    "    width=800,\n",
    "    height=600,\n",
    ")"
   ]
  },
  {
   "cell_type": "markdown",
   "metadata": {},
   "source": [
    "### 2023"
   ]
  },
  {
   "cell_type": "code",
   "execution_count": 154,
   "metadata": {},
   "outputs": [],
   "source": [
    "location = 'ap'\n",
    "if location=='kp':\n",
    "    ds = w23_splash_kp_qc_ds_1H\n",
    "    # replace mean_t with the temp_mean value from w22_saile_met_qc_ds_1H\n",
    "    wspd_var = 'wspd_vec_mean'\n",
    "    wdir_var = 'wdir_vec_mean'\n",
    "    temp_var = 'temp'\n",
    "    title = 'Kettle Ponds'\n",
    "elif location=='ap':\n",
    "    ds = w23_splash_ap_qc_ds_1H\n",
    "    wspd_var = 'wspd_vec_mean'\n",
    "    wdir_var = 'wdir_vec_mean'\n",
    "    temp_var = 'temp'\n",
    "    title = 'Avery Picnic'\n",
    "df_to_use = ds.to_dataframe()\n",
    "timestep=1\n",
    "\n",
    "df_test = df_to_use[[wspd_var, wdir_var, temp_var]]\n",
    "# lets add sublimation to the dataframe\n",
    "df_test['sublimation'] = ds['e_rate'].sel(time=slice('2022-12-01','2023-03-31'))"
   ]
  },
  {
   "cell_type": "code",
   "execution_count": 155,
   "metadata": {},
   "outputs": [
    {
     "name": "stderr",
     "output_type": "stream",
     "text": [
      "The default of observed=False is deprecated and will be changed to True in a future version of pandas. Pass observed=False to retain current behavior or observed=True to adopt the future default and silence this warning.\n"
     ]
    },
    {
     "data": {
      "text/plain": [
       "7.027575521347806"
      ]
     },
     "execution_count": 155,
     "metadata": {},
     "output_type": "execute_result"
    }
   ],
   "source": [
    "# wind speed bins\n",
    "wspd_bins = [0, 2, 4, 6, 8, 10,]\n",
    "# wind direction bins\n",
    "wdir_bins = [0, 45, 90, 135, 180, 225, 270, 315, 360]\n",
    "\n",
    "# wspd cut and sum sublimation for each bin\n",
    "wsp_assignment = pd.cut(df_test[wspd_var], bins=wspd_bins, labels=wspd_bins[:-1])\n",
    "wsp_assignment.name = 'wsp_assignment'\n",
    "# wdir cut and sum sublimation for each bin\n",
    "wdir_assignment = pd.cut(df_test[wdir_var], bins=wdir_bins, labels=wdir_bins[:-1])\n",
    "wdir_assignment.name = 'wdir_assignment'\n",
    "\n",
    "# combine the two assignments and the sublimation\n",
    "df_test['wsp_assignment'] = wsp_assignment.values\n",
    "df_test['wdir_assignment'] = wdir_assignment.values\n",
    "\n",
    "# groupby the wspd and wdir assignments and get the sum of w_h2o__3m_uw\n",
    "grouped = df_test.groupby(['wsp_assignment', 'wdir_assignment']).sum()[f'sublimation']\n",
    "# unstack and put into a dataframe\n",
    "grouped =(grouped.unstack())\n",
    "df_test['sublimation'].sum()"
   ]
  },
  {
   "cell_type": "markdown",
   "metadata": {},
   "source": [
    "Sublimation at Avery Picnic "
   ]
  },
  {
   "cell_type": "code",
   "execution_count": 156,
   "metadata": {},
   "outputs": [
    {
     "data": {
      "application/vnd.plotly.v1+json": {
       "config": {
        "plotlyServerURL": "https://plot.ly"
       },
       "data": [
        {
         "colorbar": {
          "title": {
           "text": "Sublimation<br>(mm)"
          }
         },
         "colorscale": [
          [
           0,
           "rgb(5,48,97)"
          ],
          [
           0.1,
           "rgb(33,102,172)"
          ],
          [
           0.2,
           "rgb(67,147,195)"
          ],
          [
           0.3,
           "rgb(146,197,222)"
          ],
          [
           0.4,
           "rgb(209,229,240)"
          ],
          [
           0.5,
           "rgb(247,247,247)"
          ],
          [
           0.6,
           "rgb(253,219,199)"
          ],
          [
           0.7,
           "rgb(244,165,130)"
          ],
          [
           0.8,
           "rgb(214,96,77)"
          ],
          [
           0.9,
           "rgb(178,24,43)"
          ],
          [
           1,
           "rgb(103,0,31)"
          ]
         ],
         "type": "heatmap",
         "x": [
          0,
          45,
          90,
          135,
          180,
          225,
          270,
          315
         ],
         "xgap": 1,
         "y": [
          0,
          2,
          4,
          6,
          8
         ],
         "ygap": 1,
         "z": [
          [
           0.1237024288304962,
           0.1110205419835078,
           0.10080436970563972,
           0.17993402023127658,
           0.00501858188112157,
           0.0006535019494450628,
           -0.005848463997856592,
           -0.10694722100748252
          ],
          [
           0.9933588048052441,
           0.0235211139596975,
           0.13041300338744163,
           0.5816712469748964,
           0.023004200918505364,
           0,
           0,
           0.33923864589039504
          ],
          [
           1.8327569046539993,
           0.013692349986455318,
           0,
           0.2715657303506051,
           0.0178318167689966,
           0,
           0,
           0.6664443837807379
          ],
          [
           0.4608566936208345,
           0.0334135686028224,
           0,
           0.0402275908035011,
           0.004980428463135587,
           0,
           0,
           0.7490107938683646
          ],
          [
           0.05853479524753255,
           0,
           0,
           0,
           0,
           0,
           0,
           0.11968388452843234
          ]
         ],
         "zmax": 2,
         "zmin": -2
        }
       ],
       "layout": {
        "height": 400,
        "template": {
         "data": {
          "bar": [
           {
            "error_x": {
             "color": "#2a3f5f"
            },
            "error_y": {
             "color": "#2a3f5f"
            },
            "marker": {
             "line": {
              "color": "#E5ECF6",
              "width": 0.5
             },
             "pattern": {
              "fillmode": "overlay",
              "size": 10,
              "solidity": 0.2
             }
            },
            "type": "bar"
           }
          ],
          "barpolar": [
           {
            "marker": {
             "line": {
              "color": "#E5ECF6",
              "width": 0.5
             },
             "pattern": {
              "fillmode": "overlay",
              "size": 10,
              "solidity": 0.2
             }
            },
            "type": "barpolar"
           }
          ],
          "carpet": [
           {
            "aaxis": {
             "endlinecolor": "#2a3f5f",
             "gridcolor": "white",
             "linecolor": "white",
             "minorgridcolor": "white",
             "startlinecolor": "#2a3f5f"
            },
            "baxis": {
             "endlinecolor": "#2a3f5f",
             "gridcolor": "white",
             "linecolor": "white",
             "minorgridcolor": "white",
             "startlinecolor": "#2a3f5f"
            },
            "type": "carpet"
           }
          ],
          "choropleth": [
           {
            "colorbar": {
             "outlinewidth": 0,
             "ticks": ""
            },
            "type": "choropleth"
           }
          ],
          "contour": [
           {
            "colorbar": {
             "outlinewidth": 0,
             "ticks": ""
            },
            "colorscale": [
             [
              0,
              "#0d0887"
             ],
             [
              0.1111111111111111,
              "#46039f"
             ],
             [
              0.2222222222222222,
              "#7201a8"
             ],
             [
              0.3333333333333333,
              "#9c179e"
             ],
             [
              0.4444444444444444,
              "#bd3786"
             ],
             [
              0.5555555555555556,
              "#d8576b"
             ],
             [
              0.6666666666666666,
              "#ed7953"
             ],
             [
              0.7777777777777778,
              "#fb9f3a"
             ],
             [
              0.8888888888888888,
              "#fdca26"
             ],
             [
              1,
              "#f0f921"
             ]
            ],
            "type": "contour"
           }
          ],
          "contourcarpet": [
           {
            "colorbar": {
             "outlinewidth": 0,
             "ticks": ""
            },
            "type": "contourcarpet"
           }
          ],
          "heatmap": [
           {
            "colorbar": {
             "outlinewidth": 0,
             "ticks": ""
            },
            "colorscale": [
             [
              0,
              "#0d0887"
             ],
             [
              0.1111111111111111,
              "#46039f"
             ],
             [
              0.2222222222222222,
              "#7201a8"
             ],
             [
              0.3333333333333333,
              "#9c179e"
             ],
             [
              0.4444444444444444,
              "#bd3786"
             ],
             [
              0.5555555555555556,
              "#d8576b"
             ],
             [
              0.6666666666666666,
              "#ed7953"
             ],
             [
              0.7777777777777778,
              "#fb9f3a"
             ],
             [
              0.8888888888888888,
              "#fdca26"
             ],
             [
              1,
              "#f0f921"
             ]
            ],
            "type": "heatmap"
           }
          ],
          "heatmapgl": [
           {
            "colorbar": {
             "outlinewidth": 0,
             "ticks": ""
            },
            "colorscale": [
             [
              0,
              "#0d0887"
             ],
             [
              0.1111111111111111,
              "#46039f"
             ],
             [
              0.2222222222222222,
              "#7201a8"
             ],
             [
              0.3333333333333333,
              "#9c179e"
             ],
             [
              0.4444444444444444,
              "#bd3786"
             ],
             [
              0.5555555555555556,
              "#d8576b"
             ],
             [
              0.6666666666666666,
              "#ed7953"
             ],
             [
              0.7777777777777778,
              "#fb9f3a"
             ],
             [
              0.8888888888888888,
              "#fdca26"
             ],
             [
              1,
              "#f0f921"
             ]
            ],
            "type": "heatmapgl"
           }
          ],
          "histogram": [
           {
            "marker": {
             "pattern": {
              "fillmode": "overlay",
              "size": 10,
              "solidity": 0.2
             }
            },
            "type": "histogram"
           }
          ],
          "histogram2d": [
           {
            "colorbar": {
             "outlinewidth": 0,
             "ticks": ""
            },
            "colorscale": [
             [
              0,
              "#0d0887"
             ],
             [
              0.1111111111111111,
              "#46039f"
             ],
             [
              0.2222222222222222,
              "#7201a8"
             ],
             [
              0.3333333333333333,
              "#9c179e"
             ],
             [
              0.4444444444444444,
              "#bd3786"
             ],
             [
              0.5555555555555556,
              "#d8576b"
             ],
             [
              0.6666666666666666,
              "#ed7953"
             ],
             [
              0.7777777777777778,
              "#fb9f3a"
             ],
             [
              0.8888888888888888,
              "#fdca26"
             ],
             [
              1,
              "#f0f921"
             ]
            ],
            "type": "histogram2d"
           }
          ],
          "histogram2dcontour": [
           {
            "colorbar": {
             "outlinewidth": 0,
             "ticks": ""
            },
            "colorscale": [
             [
              0,
              "#0d0887"
             ],
             [
              0.1111111111111111,
              "#46039f"
             ],
             [
              0.2222222222222222,
              "#7201a8"
             ],
             [
              0.3333333333333333,
              "#9c179e"
             ],
             [
              0.4444444444444444,
              "#bd3786"
             ],
             [
              0.5555555555555556,
              "#d8576b"
             ],
             [
              0.6666666666666666,
              "#ed7953"
             ],
             [
              0.7777777777777778,
              "#fb9f3a"
             ],
             [
              0.8888888888888888,
              "#fdca26"
             ],
             [
              1,
              "#f0f921"
             ]
            ],
            "type": "histogram2dcontour"
           }
          ],
          "mesh3d": [
           {
            "colorbar": {
             "outlinewidth": 0,
             "ticks": ""
            },
            "type": "mesh3d"
           }
          ],
          "parcoords": [
           {
            "line": {
             "colorbar": {
              "outlinewidth": 0,
              "ticks": ""
             }
            },
            "type": "parcoords"
           }
          ],
          "pie": [
           {
            "automargin": true,
            "type": "pie"
           }
          ],
          "scatter": [
           {
            "fillpattern": {
             "fillmode": "overlay",
             "size": 10,
             "solidity": 0.2
            },
            "type": "scatter"
           }
          ],
          "scatter3d": [
           {
            "line": {
             "colorbar": {
              "outlinewidth": 0,
              "ticks": ""
             }
            },
            "marker": {
             "colorbar": {
              "outlinewidth": 0,
              "ticks": ""
             }
            },
            "type": "scatter3d"
           }
          ],
          "scattercarpet": [
           {
            "marker": {
             "colorbar": {
              "outlinewidth": 0,
              "ticks": ""
             }
            },
            "type": "scattercarpet"
           }
          ],
          "scattergeo": [
           {
            "marker": {
             "colorbar": {
              "outlinewidth": 0,
              "ticks": ""
             }
            },
            "type": "scattergeo"
           }
          ],
          "scattergl": [
           {
            "marker": {
             "colorbar": {
              "outlinewidth": 0,
              "ticks": ""
             }
            },
            "type": "scattergl"
           }
          ],
          "scattermapbox": [
           {
            "marker": {
             "colorbar": {
              "outlinewidth": 0,
              "ticks": ""
             }
            },
            "type": "scattermapbox"
           }
          ],
          "scatterpolar": [
           {
            "marker": {
             "colorbar": {
              "outlinewidth": 0,
              "ticks": ""
             }
            },
            "type": "scatterpolar"
           }
          ],
          "scatterpolargl": [
           {
            "marker": {
             "colorbar": {
              "outlinewidth": 0,
              "ticks": ""
             }
            },
            "type": "scatterpolargl"
           }
          ],
          "scatterternary": [
           {
            "marker": {
             "colorbar": {
              "outlinewidth": 0,
              "ticks": ""
             }
            },
            "type": "scatterternary"
           }
          ],
          "surface": [
           {
            "colorbar": {
             "outlinewidth": 0,
             "ticks": ""
            },
            "colorscale": [
             [
              0,
              "#0d0887"
             ],
             [
              0.1111111111111111,
              "#46039f"
             ],
             [
              0.2222222222222222,
              "#7201a8"
             ],
             [
              0.3333333333333333,
              "#9c179e"
             ],
             [
              0.4444444444444444,
              "#bd3786"
             ],
             [
              0.5555555555555556,
              "#d8576b"
             ],
             [
              0.6666666666666666,
              "#ed7953"
             ],
             [
              0.7777777777777778,
              "#fb9f3a"
             ],
             [
              0.8888888888888888,
              "#fdca26"
             ],
             [
              1,
              "#f0f921"
             ]
            ],
            "type": "surface"
           }
          ],
          "table": [
           {
            "cells": {
             "fill": {
              "color": "#EBF0F8"
             },
             "line": {
              "color": "white"
             }
            },
            "header": {
             "fill": {
              "color": "#C8D4E3"
             },
             "line": {
              "color": "white"
             }
            },
            "type": "table"
           }
          ]
         },
         "layout": {
          "annotationdefaults": {
           "arrowcolor": "#2a3f5f",
           "arrowhead": 0,
           "arrowwidth": 1
          },
          "autotypenumbers": "strict",
          "coloraxis": {
           "colorbar": {
            "outlinewidth": 0,
            "ticks": ""
           }
          },
          "colorscale": {
           "diverging": [
            [
             0,
             "#8e0152"
            ],
            [
             0.1,
             "#c51b7d"
            ],
            [
             0.2,
             "#de77ae"
            ],
            [
             0.3,
             "#f1b6da"
            ],
            [
             0.4,
             "#fde0ef"
            ],
            [
             0.5,
             "#f7f7f7"
            ],
            [
             0.6,
             "#e6f5d0"
            ],
            [
             0.7,
             "#b8e186"
            ],
            [
             0.8,
             "#7fbc41"
            ],
            [
             0.9,
             "#4d9221"
            ],
            [
             1,
             "#276419"
            ]
           ],
           "sequential": [
            [
             0,
             "#0d0887"
            ],
            [
             0.1111111111111111,
             "#46039f"
            ],
            [
             0.2222222222222222,
             "#7201a8"
            ],
            [
             0.3333333333333333,
             "#9c179e"
            ],
            [
             0.4444444444444444,
             "#bd3786"
            ],
            [
             0.5555555555555556,
             "#d8576b"
            ],
            [
             0.6666666666666666,
             "#ed7953"
            ],
            [
             0.7777777777777778,
             "#fb9f3a"
            ],
            [
             0.8888888888888888,
             "#fdca26"
            ],
            [
             1,
             "#f0f921"
            ]
           ],
           "sequentialminus": [
            [
             0,
             "#0d0887"
            ],
            [
             0.1111111111111111,
             "#46039f"
            ],
            [
             0.2222222222222222,
             "#7201a8"
            ],
            [
             0.3333333333333333,
             "#9c179e"
            ],
            [
             0.4444444444444444,
             "#bd3786"
            ],
            [
             0.5555555555555556,
             "#d8576b"
            ],
            [
             0.6666666666666666,
             "#ed7953"
            ],
            [
             0.7777777777777778,
             "#fb9f3a"
            ],
            [
             0.8888888888888888,
             "#fdca26"
            ],
            [
             1,
             "#f0f921"
            ]
           ]
          },
          "colorway": [
           "#636efa",
           "#EF553B",
           "#00cc96",
           "#ab63fa",
           "#FFA15A",
           "#19d3f3",
           "#FF6692",
           "#B6E880",
           "#FF97FF",
           "#FECB52"
          ],
          "font": {
           "color": "#2a3f5f"
          },
          "geo": {
           "bgcolor": "white",
           "lakecolor": "white",
           "landcolor": "#E5ECF6",
           "showlakes": true,
           "showland": true,
           "subunitcolor": "white"
          },
          "hoverlabel": {
           "align": "left"
          },
          "hovermode": "closest",
          "mapbox": {
           "style": "light"
          },
          "paper_bgcolor": "white",
          "plot_bgcolor": "#E5ECF6",
          "polar": {
           "angularaxis": {
            "gridcolor": "white",
            "linecolor": "white",
            "ticks": ""
           },
           "bgcolor": "#E5ECF6",
           "radialaxis": {
            "gridcolor": "white",
            "linecolor": "white",
            "ticks": ""
           }
          },
          "scene": {
           "xaxis": {
            "backgroundcolor": "#E5ECF6",
            "gridcolor": "white",
            "gridwidth": 2,
            "linecolor": "white",
            "showbackground": true,
            "ticks": "",
            "zerolinecolor": "white"
           },
           "yaxis": {
            "backgroundcolor": "#E5ECF6",
            "gridcolor": "white",
            "gridwidth": 2,
            "linecolor": "white",
            "showbackground": true,
            "ticks": "",
            "zerolinecolor": "white"
           },
           "zaxis": {
            "backgroundcolor": "#E5ECF6",
            "gridcolor": "white",
            "gridwidth": 2,
            "linecolor": "white",
            "showbackground": true,
            "ticks": "",
            "zerolinecolor": "white"
           }
          },
          "shapedefaults": {
           "line": {
            "color": "#2a3f5f"
           }
          },
          "ternary": {
           "aaxis": {
            "gridcolor": "white",
            "linecolor": "white",
            "ticks": ""
           },
           "baxis": {
            "gridcolor": "white",
            "linecolor": "white",
            "ticks": ""
           },
           "bgcolor": "#E5ECF6",
           "caxis": {
            "gridcolor": "white",
            "linecolor": "white",
            "ticks": ""
           }
          },
          "title": {
           "x": 0.05
          },
          "xaxis": {
           "automargin": true,
           "gridcolor": "white",
           "linecolor": "white",
           "ticks": "",
           "title": {
            "standoff": 15
           },
           "zerolinecolor": "white",
           "zerolinewidth": 2
          },
          "yaxis": {
           "automargin": true,
           "gridcolor": "white",
           "linecolor": "white",
           "ticks": "",
           "title": {
            "standoff": 15
           },
           "zerolinecolor": "white",
           "zerolinewidth": 2
          }
         }
        },
        "title": {
         "text": "Wind Speed and Wind Direction Sublimation<br>Averaging time = 1 Hour(s)"
        },
        "width": 600,
        "xaxis": {
         "ticktext": [
          "N",
          "NE",
          "E",
          "SE",
          "S",
          "SW",
          "W",
          "NW"
         ],
         "tickvals": [
          0,
          45,
          90,
          135,
          180,
          225,
          270,
          315
         ],
         "title": {
          "text": "Wind Direction"
         }
        },
        "yaxis": {
         "ticktext": [
          "0-2",
          "2-4",
          "4-6",
          "6-8",
          "8-10",
          "10-12",
          "12-14",
          "14-16",
          "16-18",
          "18-20"
         ],
         "tickvals": [
          0,
          2,
          4,
          6,
          8,
          10,
          12,
          14,
          16,
          18
         ],
         "title": {
          "text": "Wind Speed"
         }
        }
       }
      },
      "text/html": [
       "<div>                            <div id=\"ddc0a32f-72ff-4daf-a693-f4713c14fce7\" class=\"plotly-graph-div\" style=\"height:400px; width:600px;\"></div>            <script type=\"text/javascript\">                require([\"plotly\"], function(Plotly) {                    window.PLOTLYENV=window.PLOTLYENV || {};                                    if (document.getElementById(\"ddc0a32f-72ff-4daf-a693-f4713c14fce7\")) {                    Plotly.newPlot(                        \"ddc0a32f-72ff-4daf-a693-f4713c14fce7\",                        [{\"colorbar\":{\"title\":{\"text\":\"Sublimation\\u003cbr\\u003e(mm)\"}},\"colorscale\":[[0.0,\"rgb(5,48,97)\"],[0.1,\"rgb(33,102,172)\"],[0.2,\"rgb(67,147,195)\"],[0.3,\"rgb(146,197,222)\"],[0.4,\"rgb(209,229,240)\"],[0.5,\"rgb(247,247,247)\"],[0.6,\"rgb(253,219,199)\"],[0.7,\"rgb(244,165,130)\"],[0.8,\"rgb(214,96,77)\"],[0.9,\"rgb(178,24,43)\"],[1.0,\"rgb(103,0,31)\"]],\"x\":[0,45,90,135,180,225,270,315],\"xgap\":1,\"y\":[0,2,4,6,8],\"ygap\":1,\"z\":[[0.1237024288304962,0.1110205419835078,0.10080436970563972,0.17993402023127658,0.00501858188112157,0.0006535019494450628,-0.005848463997856592,-0.10694722100748252],[0.9933588048052441,0.0235211139596975,0.13041300338744163,0.5816712469748964,0.023004200918505364,0.0,0.0,0.33923864589039504],[1.8327569046539993,0.013692349986455318,0.0,0.2715657303506051,0.0178318167689966,0.0,0.0,0.6664443837807379],[0.4608566936208345,0.0334135686028224,0.0,0.0402275908035011,0.004980428463135587,0.0,0.0,0.7490107938683646],[0.05853479524753255,0.0,0.0,0.0,0.0,0.0,0.0,0.11968388452843234]],\"zmax\":2,\"zmin\":-2,\"type\":\"heatmap\"}],                        {\"template\":{\"data\":{\"histogram2dcontour\":[{\"type\":\"histogram2dcontour\",\"colorbar\":{\"outlinewidth\":0,\"ticks\":\"\"},\"colorscale\":[[0.0,\"#0d0887\"],[0.1111111111111111,\"#46039f\"],[0.2222222222222222,\"#7201a8\"],[0.3333333333333333,\"#9c179e\"],[0.4444444444444444,\"#bd3786\"],[0.5555555555555556,\"#d8576b\"],[0.6666666666666666,\"#ed7953\"],[0.7777777777777778,\"#fb9f3a\"],[0.8888888888888888,\"#fdca26\"],[1.0,\"#f0f921\"]]}],\"choropleth\":[{\"type\":\"choropleth\",\"colorbar\":{\"outlinewidth\":0,\"ticks\":\"\"}}],\"histogram2d\":[{\"type\":\"histogram2d\",\"colorbar\":{\"outlinewidth\":0,\"ticks\":\"\"},\"colorscale\":[[0.0,\"#0d0887\"],[0.1111111111111111,\"#46039f\"],[0.2222222222222222,\"#7201a8\"],[0.3333333333333333,\"#9c179e\"],[0.4444444444444444,\"#bd3786\"],[0.5555555555555556,\"#d8576b\"],[0.6666666666666666,\"#ed7953\"],[0.7777777777777778,\"#fb9f3a\"],[0.8888888888888888,\"#fdca26\"],[1.0,\"#f0f921\"]]}],\"heatmap\":[{\"type\":\"heatmap\",\"colorbar\":{\"outlinewidth\":0,\"ticks\":\"\"},\"colorscale\":[[0.0,\"#0d0887\"],[0.1111111111111111,\"#46039f\"],[0.2222222222222222,\"#7201a8\"],[0.3333333333333333,\"#9c179e\"],[0.4444444444444444,\"#bd3786\"],[0.5555555555555556,\"#d8576b\"],[0.6666666666666666,\"#ed7953\"],[0.7777777777777778,\"#fb9f3a\"],[0.8888888888888888,\"#fdca26\"],[1.0,\"#f0f921\"]]}],\"heatmapgl\":[{\"type\":\"heatmapgl\",\"colorbar\":{\"outlinewidth\":0,\"ticks\":\"\"},\"colorscale\":[[0.0,\"#0d0887\"],[0.1111111111111111,\"#46039f\"],[0.2222222222222222,\"#7201a8\"],[0.3333333333333333,\"#9c179e\"],[0.4444444444444444,\"#bd3786\"],[0.5555555555555556,\"#d8576b\"],[0.6666666666666666,\"#ed7953\"],[0.7777777777777778,\"#fb9f3a\"],[0.8888888888888888,\"#fdca26\"],[1.0,\"#f0f921\"]]}],\"contourcarpet\":[{\"type\":\"contourcarpet\",\"colorbar\":{\"outlinewidth\":0,\"ticks\":\"\"}}],\"contour\":[{\"type\":\"contour\",\"colorbar\":{\"outlinewidth\":0,\"ticks\":\"\"},\"colorscale\":[[0.0,\"#0d0887\"],[0.1111111111111111,\"#46039f\"],[0.2222222222222222,\"#7201a8\"],[0.3333333333333333,\"#9c179e\"],[0.4444444444444444,\"#bd3786\"],[0.5555555555555556,\"#d8576b\"],[0.6666666666666666,\"#ed7953\"],[0.7777777777777778,\"#fb9f3a\"],[0.8888888888888888,\"#fdca26\"],[1.0,\"#f0f921\"]]}],\"surface\":[{\"type\":\"surface\",\"colorbar\":{\"outlinewidth\":0,\"ticks\":\"\"},\"colorscale\":[[0.0,\"#0d0887\"],[0.1111111111111111,\"#46039f\"],[0.2222222222222222,\"#7201a8\"],[0.3333333333333333,\"#9c179e\"],[0.4444444444444444,\"#bd3786\"],[0.5555555555555556,\"#d8576b\"],[0.6666666666666666,\"#ed7953\"],[0.7777777777777778,\"#fb9f3a\"],[0.8888888888888888,\"#fdca26\"],[1.0,\"#f0f921\"]]}],\"mesh3d\":[{\"type\":\"mesh3d\",\"colorbar\":{\"outlinewidth\":0,\"ticks\":\"\"}}],\"scatter\":[{\"fillpattern\":{\"fillmode\":\"overlay\",\"size\":10,\"solidity\":0.2},\"type\":\"scatter\"}],\"parcoords\":[{\"type\":\"parcoords\",\"line\":{\"colorbar\":{\"outlinewidth\":0,\"ticks\":\"\"}}}],\"scatterpolargl\":[{\"type\":\"scatterpolargl\",\"marker\":{\"colorbar\":{\"outlinewidth\":0,\"ticks\":\"\"}}}],\"bar\":[{\"error_x\":{\"color\":\"#2a3f5f\"},\"error_y\":{\"color\":\"#2a3f5f\"},\"marker\":{\"line\":{\"color\":\"#E5ECF6\",\"width\":0.5},\"pattern\":{\"fillmode\":\"overlay\",\"size\":10,\"solidity\":0.2}},\"type\":\"bar\"}],\"scattergeo\":[{\"type\":\"scattergeo\",\"marker\":{\"colorbar\":{\"outlinewidth\":0,\"ticks\":\"\"}}}],\"scatterpolar\":[{\"type\":\"scatterpolar\",\"marker\":{\"colorbar\":{\"outlinewidth\":0,\"ticks\":\"\"}}}],\"histogram\":[{\"marker\":{\"pattern\":{\"fillmode\":\"overlay\",\"size\":10,\"solidity\":0.2}},\"type\":\"histogram\"}],\"scattergl\":[{\"type\":\"scattergl\",\"marker\":{\"colorbar\":{\"outlinewidth\":0,\"ticks\":\"\"}}}],\"scatter3d\":[{\"type\":\"scatter3d\",\"line\":{\"colorbar\":{\"outlinewidth\":0,\"ticks\":\"\"}},\"marker\":{\"colorbar\":{\"outlinewidth\":0,\"ticks\":\"\"}}}],\"scattermapbox\":[{\"type\":\"scattermapbox\",\"marker\":{\"colorbar\":{\"outlinewidth\":0,\"ticks\":\"\"}}}],\"scatterternary\":[{\"type\":\"scatterternary\",\"marker\":{\"colorbar\":{\"outlinewidth\":0,\"ticks\":\"\"}}}],\"scattercarpet\":[{\"type\":\"scattercarpet\",\"marker\":{\"colorbar\":{\"outlinewidth\":0,\"ticks\":\"\"}}}],\"carpet\":[{\"aaxis\":{\"endlinecolor\":\"#2a3f5f\",\"gridcolor\":\"white\",\"linecolor\":\"white\",\"minorgridcolor\":\"white\",\"startlinecolor\":\"#2a3f5f\"},\"baxis\":{\"endlinecolor\":\"#2a3f5f\",\"gridcolor\":\"white\",\"linecolor\":\"white\",\"minorgridcolor\":\"white\",\"startlinecolor\":\"#2a3f5f\"},\"type\":\"carpet\"}],\"table\":[{\"cells\":{\"fill\":{\"color\":\"#EBF0F8\"},\"line\":{\"color\":\"white\"}},\"header\":{\"fill\":{\"color\":\"#C8D4E3\"},\"line\":{\"color\":\"white\"}},\"type\":\"table\"}],\"barpolar\":[{\"marker\":{\"line\":{\"color\":\"#E5ECF6\",\"width\":0.5},\"pattern\":{\"fillmode\":\"overlay\",\"size\":10,\"solidity\":0.2}},\"type\":\"barpolar\"}],\"pie\":[{\"automargin\":true,\"type\":\"pie\"}]},\"layout\":{\"autotypenumbers\":\"strict\",\"colorway\":[\"#636efa\",\"#EF553B\",\"#00cc96\",\"#ab63fa\",\"#FFA15A\",\"#19d3f3\",\"#FF6692\",\"#B6E880\",\"#FF97FF\",\"#FECB52\"],\"font\":{\"color\":\"#2a3f5f\"},\"hovermode\":\"closest\",\"hoverlabel\":{\"align\":\"left\"},\"paper_bgcolor\":\"white\",\"plot_bgcolor\":\"#E5ECF6\",\"polar\":{\"bgcolor\":\"#E5ECF6\",\"angularaxis\":{\"gridcolor\":\"white\",\"linecolor\":\"white\",\"ticks\":\"\"},\"radialaxis\":{\"gridcolor\":\"white\",\"linecolor\":\"white\",\"ticks\":\"\"}},\"ternary\":{\"bgcolor\":\"#E5ECF6\",\"aaxis\":{\"gridcolor\":\"white\",\"linecolor\":\"white\",\"ticks\":\"\"},\"baxis\":{\"gridcolor\":\"white\",\"linecolor\":\"white\",\"ticks\":\"\"},\"caxis\":{\"gridcolor\":\"white\",\"linecolor\":\"white\",\"ticks\":\"\"}},\"coloraxis\":{\"colorbar\":{\"outlinewidth\":0,\"ticks\":\"\"}},\"colorscale\":{\"sequential\":[[0.0,\"#0d0887\"],[0.1111111111111111,\"#46039f\"],[0.2222222222222222,\"#7201a8\"],[0.3333333333333333,\"#9c179e\"],[0.4444444444444444,\"#bd3786\"],[0.5555555555555556,\"#d8576b\"],[0.6666666666666666,\"#ed7953\"],[0.7777777777777778,\"#fb9f3a\"],[0.8888888888888888,\"#fdca26\"],[1.0,\"#f0f921\"]],\"sequentialminus\":[[0.0,\"#0d0887\"],[0.1111111111111111,\"#46039f\"],[0.2222222222222222,\"#7201a8\"],[0.3333333333333333,\"#9c179e\"],[0.4444444444444444,\"#bd3786\"],[0.5555555555555556,\"#d8576b\"],[0.6666666666666666,\"#ed7953\"],[0.7777777777777778,\"#fb9f3a\"],[0.8888888888888888,\"#fdca26\"],[1.0,\"#f0f921\"]],\"diverging\":[[0,\"#8e0152\"],[0.1,\"#c51b7d\"],[0.2,\"#de77ae\"],[0.3,\"#f1b6da\"],[0.4,\"#fde0ef\"],[0.5,\"#f7f7f7\"],[0.6,\"#e6f5d0\"],[0.7,\"#b8e186\"],[0.8,\"#7fbc41\"],[0.9,\"#4d9221\"],[1,\"#276419\"]]},\"xaxis\":{\"gridcolor\":\"white\",\"linecolor\":\"white\",\"ticks\":\"\",\"title\":{\"standoff\":15},\"zerolinecolor\":\"white\",\"automargin\":true,\"zerolinewidth\":2},\"yaxis\":{\"gridcolor\":\"white\",\"linecolor\":\"white\",\"ticks\":\"\",\"title\":{\"standoff\":15},\"zerolinecolor\":\"white\",\"automargin\":true,\"zerolinewidth\":2},\"scene\":{\"xaxis\":{\"backgroundcolor\":\"#E5ECF6\",\"gridcolor\":\"white\",\"linecolor\":\"white\",\"showbackground\":true,\"ticks\":\"\",\"zerolinecolor\":\"white\",\"gridwidth\":2},\"yaxis\":{\"backgroundcolor\":\"#E5ECF6\",\"gridcolor\":\"white\",\"linecolor\":\"white\",\"showbackground\":true,\"ticks\":\"\",\"zerolinecolor\":\"white\",\"gridwidth\":2},\"zaxis\":{\"backgroundcolor\":\"#E5ECF6\",\"gridcolor\":\"white\",\"linecolor\":\"white\",\"showbackground\":true,\"ticks\":\"\",\"zerolinecolor\":\"white\",\"gridwidth\":2}},\"shapedefaults\":{\"line\":{\"color\":\"#2a3f5f\"}},\"annotationdefaults\":{\"arrowcolor\":\"#2a3f5f\",\"arrowhead\":0,\"arrowwidth\":1},\"geo\":{\"bgcolor\":\"white\",\"landcolor\":\"#E5ECF6\",\"subunitcolor\":\"white\",\"showland\":true,\"showlakes\":true,\"lakecolor\":\"white\"},\"title\":{\"x\":0.05},\"mapbox\":{\"style\":\"light\"}}},\"height\":400,\"width\":600,\"xaxis\":{\"title\":{\"text\":\"Wind Direction\"},\"tickvals\":[0,45,90,135,180,225,270,315],\"ticktext\":[\"N\",\"NE\",\"E\",\"SE\",\"S\",\"SW\",\"W\",\"NW\"]},\"yaxis\":{\"title\":{\"text\":\"Wind Speed\"},\"tickvals\":[0,2,4,6,8,10,12,14,16,18],\"ticktext\":[\"0-2\",\"2-4\",\"4-6\",\"6-8\",\"8-10\",\"10-12\",\"12-14\",\"14-16\",\"16-18\",\"18-20\"]},\"title\":{\"text\":\"Wind Speed and Wind Direction Sublimation\\u003cbr\\u003eAveraging time = 1 Hour(s)\"}},                        {\"responsive\": true}                    ).then(function(){\n",
       "                            \n",
       "var gd = document.getElementById('ddc0a32f-72ff-4daf-a693-f4713c14fce7');\n",
       "var x = new MutationObserver(function (mutations, observer) {{\n",
       "        var display = window.getComputedStyle(gd).display;\n",
       "        if (!display || display === 'none') {{\n",
       "            console.log([gd, 'removed!']);\n",
       "            Plotly.purge(gd);\n",
       "            observer.disconnect();\n",
       "        }}\n",
       "}});\n",
       "\n",
       "// Listen for the removal of the full notebook cells\n",
       "var notebookContainer = gd.closest('#notebook-container');\n",
       "if (notebookContainer) {{\n",
       "    x.observe(notebookContainer, {childList: true});\n",
       "}}\n",
       "\n",
       "// Listen for the clearing of the current output cell\n",
       "var outputEl = gd.closest('.output');\n",
       "if (outputEl) {{\n",
       "    x.observe(outputEl, {childList: true});\n",
       "}}\n",
       "\n",
       "                        })                };                });            </script>        </div>"
      ]
     },
     "metadata": {},
     "output_type": "display_data"
    }
   ],
   "source": [
    "# plot grouped as a heatmap\n",
    "fig = go.Figure()\n",
    "fig.add_trace(go.Heatmap(z=grouped.values, \n",
    "                         x=grouped.columns, \n",
    "                         y=grouped.index,\n",
    "\n",
    "                        colorbar={'title':'Sublimation<br>(mm)'},\n",
    "                        colorscale='RdBu_r',\n",
    "                        # min and max color values\n",
    "                        zmin=-2,\n",
    "                        zmax=2,\n",
    "                        xgap=1,\n",
    "                        ygap=1,\n",
    "                         ))\n",
    "# add grid\n",
    "fig.update_layout(height=400, \n",
    "                  width=600,\n",
    "                  xaxis_title='Wind Direction',\n",
    "                  yaxis_title='Wind Speed',\n",
    "                  title=f'Wind Speed and Wind Direction Sublimation<br>Averaging time = {timestep} Hour(s)',\n",
    "                  )\n",
    "# change x-axis ticks to be cardinal wind directions\n",
    "fig.update_xaxes(tickvals=[0, 45, 90, 135, 180, 225, 270, 315], ticktext=['N', 'NE', 'E', 'SE', 'S', 'SW', 'W', 'NW'])\n",
    "# update y-axes ticks to be wind speed bins\n",
    "fig.update_yaxes(tickvals=[0, 2, 4, 6, 8, 10, 12, 14, 16, 18], ticktext=['0-2', '2-4', '4-6', '6-8', '8-10', '10-12', '12-14', '14-16', '16-18', '18-20'])\n",
    "# update legend title to legend_title='Percent of Winter Sublimation (%)'"
   ]
  },
  {
   "cell_type": "markdown",
   "metadata": {},
   "source": [
    "Temperature"
   ]
  },
  {
   "cell_type": "code",
   "execution_count": 159,
   "metadata": {},
   "outputs": [
    {
     "name": "stderr",
     "output_type": "stream",
     "text": [
      "The default of observed=False is deprecated and will be changed to True in a future version of pandas. Pass observed=False to retain current behavior or observed=True to adopt the future default and silence this warning.\n"
     ]
    }
   ],
   "source": [
    "# wind speed bins\n",
    "wspd_bins = [0, 2, 4, 6, 8, 10,]\n",
    "# wind direction bins\n",
    "wdir_bins = [0, 45, 90, 135, 180, 225, 270, 315, 360]\n",
    "\n",
    "# wspd cut and sum sublimation for each bin\n",
    "wsp_assignment = pd.cut(df_test[wspd_var], bins=wspd_bins, labels=wspd_bins[:-1])\n",
    "wsp_assignment.name = 'wsp_assignment'\n",
    "# wdir cut and sum sublimation for each bin\n",
    "wdir_assignment = pd.cut(df_test[wdir_var], bins=wdir_bins, labels=wdir_bins[:-1])\n",
    "wdir_assignment.name = 'wdir_assignment'\n",
    "\n",
    "# combine the two assignments and the sublimation\n",
    "df_test['wsp_assignment'] = wsp_assignment.values\n",
    "df_test['wdir_assignment'] = wdir_assignment.values\n",
    "\n",
    "# groupby the wspd and wdir assignments and get the sum of w_h2o__3m_uw\n",
    "grouped = df_test.groupby(['wsp_assignment', 'wdir_assignment']).mean()[f'temp']\n",
    "# unstack and put into a dataframe\n",
    "grouped =(grouped.unstack())"
   ]
  },
  {
   "cell_type": "code",
   "execution_count": 163,
   "metadata": {},
   "outputs": [
    {
     "data": {
      "application/vnd.plotly.v1+json": {
       "config": {
        "plotlyServerURL": "https://plot.ly"
       },
       "data": [
        {
         "colorbar": {
          "title": {
           "text": "Temperature<br>(&deg;C)"
          }
         },
         "colorscale": [
          [
           0,
           "rgb(5,48,97)"
          ],
          [
           0.1,
           "rgb(33,102,172)"
          ],
          [
           0.2,
           "rgb(67,147,195)"
          ],
          [
           0.3,
           "rgb(146,197,222)"
          ],
          [
           0.4,
           "rgb(209,229,240)"
          ],
          [
           0.5,
           "rgb(247,247,247)"
          ],
          [
           0.6,
           "rgb(253,219,199)"
          ],
          [
           0.7,
           "rgb(244,165,130)"
          ],
          [
           0.8,
           "rgb(214,96,77)"
          ],
          [
           0.9,
           "rgb(178,24,43)"
          ],
          [
           1,
           "rgb(103,0,31)"
          ]
         ],
         "type": "heatmap",
         "x": [
          0,
          45,
          90,
          135,
          180,
          225,
          270,
          315
         ],
         "xgap": 1,
         "y": [
          0,
          2,
          4,
          6,
          8
         ],
         "ygap": 1,
         "z": [
          [
           -13.703865082443086,
           -6.3961321273160925,
           -7.397006510614344,
           -6.122098586425252,
           -5.732584014583333,
           -5.6765255065555555,
           -6.370005645833333,
           -9.956813165161291
          ],
          [
           -11.435363183035829,
           -3.238606856875,
           -2.51727016120625,
           -5.4721157076733595,
           -4.112916175295454,
           null,
           -5.080634783333333,
           -10.661048441666667
          ],
          [
           -5.817910606466046,
           -4.911704416666667,
           null,
           -4.154153055367424,
           -7.499721296296296,
           null,
           null,
           -9.32448006754801
          ],
          [
           -5.9276857566666665,
           -8.557595416666667,
           null,
           -0.8289523873333333,
           -6.309902916666667,
           null,
           null,
           -9.06718129965625
          ],
          [
           -8.171451150000001,
           null,
           null,
           null,
           null,
           null,
           null,
           -8.506790324999999
          ]
         ],
         "zmax": 0,
         "zmin": -12
        }
       ],
       "layout": {
        "height": 400,
        "template": {
         "data": {
          "bar": [
           {
            "error_x": {
             "color": "#2a3f5f"
            },
            "error_y": {
             "color": "#2a3f5f"
            },
            "marker": {
             "line": {
              "color": "#E5ECF6",
              "width": 0.5
             },
             "pattern": {
              "fillmode": "overlay",
              "size": 10,
              "solidity": 0.2
             }
            },
            "type": "bar"
           }
          ],
          "barpolar": [
           {
            "marker": {
             "line": {
              "color": "#E5ECF6",
              "width": 0.5
             },
             "pattern": {
              "fillmode": "overlay",
              "size": 10,
              "solidity": 0.2
             }
            },
            "type": "barpolar"
           }
          ],
          "carpet": [
           {
            "aaxis": {
             "endlinecolor": "#2a3f5f",
             "gridcolor": "white",
             "linecolor": "white",
             "minorgridcolor": "white",
             "startlinecolor": "#2a3f5f"
            },
            "baxis": {
             "endlinecolor": "#2a3f5f",
             "gridcolor": "white",
             "linecolor": "white",
             "minorgridcolor": "white",
             "startlinecolor": "#2a3f5f"
            },
            "type": "carpet"
           }
          ],
          "choropleth": [
           {
            "colorbar": {
             "outlinewidth": 0,
             "ticks": ""
            },
            "type": "choropleth"
           }
          ],
          "contour": [
           {
            "colorbar": {
             "outlinewidth": 0,
             "ticks": ""
            },
            "colorscale": [
             [
              0,
              "#0d0887"
             ],
             [
              0.1111111111111111,
              "#46039f"
             ],
             [
              0.2222222222222222,
              "#7201a8"
             ],
             [
              0.3333333333333333,
              "#9c179e"
             ],
             [
              0.4444444444444444,
              "#bd3786"
             ],
             [
              0.5555555555555556,
              "#d8576b"
             ],
             [
              0.6666666666666666,
              "#ed7953"
             ],
             [
              0.7777777777777778,
              "#fb9f3a"
             ],
             [
              0.8888888888888888,
              "#fdca26"
             ],
             [
              1,
              "#f0f921"
             ]
            ],
            "type": "contour"
           }
          ],
          "contourcarpet": [
           {
            "colorbar": {
             "outlinewidth": 0,
             "ticks": ""
            },
            "type": "contourcarpet"
           }
          ],
          "heatmap": [
           {
            "colorbar": {
             "outlinewidth": 0,
             "ticks": ""
            },
            "colorscale": [
             [
              0,
              "#0d0887"
             ],
             [
              0.1111111111111111,
              "#46039f"
             ],
             [
              0.2222222222222222,
              "#7201a8"
             ],
             [
              0.3333333333333333,
              "#9c179e"
             ],
             [
              0.4444444444444444,
              "#bd3786"
             ],
             [
              0.5555555555555556,
              "#d8576b"
             ],
             [
              0.6666666666666666,
              "#ed7953"
             ],
             [
              0.7777777777777778,
              "#fb9f3a"
             ],
             [
              0.8888888888888888,
              "#fdca26"
             ],
             [
              1,
              "#f0f921"
             ]
            ],
            "type": "heatmap"
           }
          ],
          "heatmapgl": [
           {
            "colorbar": {
             "outlinewidth": 0,
             "ticks": ""
            },
            "colorscale": [
             [
              0,
              "#0d0887"
             ],
             [
              0.1111111111111111,
              "#46039f"
             ],
             [
              0.2222222222222222,
              "#7201a8"
             ],
             [
              0.3333333333333333,
              "#9c179e"
             ],
             [
              0.4444444444444444,
              "#bd3786"
             ],
             [
              0.5555555555555556,
              "#d8576b"
             ],
             [
              0.6666666666666666,
              "#ed7953"
             ],
             [
              0.7777777777777778,
              "#fb9f3a"
             ],
             [
              0.8888888888888888,
              "#fdca26"
             ],
             [
              1,
              "#f0f921"
             ]
            ],
            "type": "heatmapgl"
           }
          ],
          "histogram": [
           {
            "marker": {
             "pattern": {
              "fillmode": "overlay",
              "size": 10,
              "solidity": 0.2
             }
            },
            "type": "histogram"
           }
          ],
          "histogram2d": [
           {
            "colorbar": {
             "outlinewidth": 0,
             "ticks": ""
            },
            "colorscale": [
             [
              0,
              "#0d0887"
             ],
             [
              0.1111111111111111,
              "#46039f"
             ],
             [
              0.2222222222222222,
              "#7201a8"
             ],
             [
              0.3333333333333333,
              "#9c179e"
             ],
             [
              0.4444444444444444,
              "#bd3786"
             ],
             [
              0.5555555555555556,
              "#d8576b"
             ],
             [
              0.6666666666666666,
              "#ed7953"
             ],
             [
              0.7777777777777778,
              "#fb9f3a"
             ],
             [
              0.8888888888888888,
              "#fdca26"
             ],
             [
              1,
              "#f0f921"
             ]
            ],
            "type": "histogram2d"
           }
          ],
          "histogram2dcontour": [
           {
            "colorbar": {
             "outlinewidth": 0,
             "ticks": ""
            },
            "colorscale": [
             [
              0,
              "#0d0887"
             ],
             [
              0.1111111111111111,
              "#46039f"
             ],
             [
              0.2222222222222222,
              "#7201a8"
             ],
             [
              0.3333333333333333,
              "#9c179e"
             ],
             [
              0.4444444444444444,
              "#bd3786"
             ],
             [
              0.5555555555555556,
              "#d8576b"
             ],
             [
              0.6666666666666666,
              "#ed7953"
             ],
             [
              0.7777777777777778,
              "#fb9f3a"
             ],
             [
              0.8888888888888888,
              "#fdca26"
             ],
             [
              1,
              "#f0f921"
             ]
            ],
            "type": "histogram2dcontour"
           }
          ],
          "mesh3d": [
           {
            "colorbar": {
             "outlinewidth": 0,
             "ticks": ""
            },
            "type": "mesh3d"
           }
          ],
          "parcoords": [
           {
            "line": {
             "colorbar": {
              "outlinewidth": 0,
              "ticks": ""
             }
            },
            "type": "parcoords"
           }
          ],
          "pie": [
           {
            "automargin": true,
            "type": "pie"
           }
          ],
          "scatter": [
           {
            "fillpattern": {
             "fillmode": "overlay",
             "size": 10,
             "solidity": 0.2
            },
            "type": "scatter"
           }
          ],
          "scatter3d": [
           {
            "line": {
             "colorbar": {
              "outlinewidth": 0,
              "ticks": ""
             }
            },
            "marker": {
             "colorbar": {
              "outlinewidth": 0,
              "ticks": ""
             }
            },
            "type": "scatter3d"
           }
          ],
          "scattercarpet": [
           {
            "marker": {
             "colorbar": {
              "outlinewidth": 0,
              "ticks": ""
             }
            },
            "type": "scattercarpet"
           }
          ],
          "scattergeo": [
           {
            "marker": {
             "colorbar": {
              "outlinewidth": 0,
              "ticks": ""
             }
            },
            "type": "scattergeo"
           }
          ],
          "scattergl": [
           {
            "marker": {
             "colorbar": {
              "outlinewidth": 0,
              "ticks": ""
             }
            },
            "type": "scattergl"
           }
          ],
          "scattermapbox": [
           {
            "marker": {
             "colorbar": {
              "outlinewidth": 0,
              "ticks": ""
             }
            },
            "type": "scattermapbox"
           }
          ],
          "scatterpolar": [
           {
            "marker": {
             "colorbar": {
              "outlinewidth": 0,
              "ticks": ""
             }
            },
            "type": "scatterpolar"
           }
          ],
          "scatterpolargl": [
           {
            "marker": {
             "colorbar": {
              "outlinewidth": 0,
              "ticks": ""
             }
            },
            "type": "scatterpolargl"
           }
          ],
          "scatterternary": [
           {
            "marker": {
             "colorbar": {
              "outlinewidth": 0,
              "ticks": ""
             }
            },
            "type": "scatterternary"
           }
          ],
          "surface": [
           {
            "colorbar": {
             "outlinewidth": 0,
             "ticks": ""
            },
            "colorscale": [
             [
              0,
              "#0d0887"
             ],
             [
              0.1111111111111111,
              "#46039f"
             ],
             [
              0.2222222222222222,
              "#7201a8"
             ],
             [
              0.3333333333333333,
              "#9c179e"
             ],
             [
              0.4444444444444444,
              "#bd3786"
             ],
             [
              0.5555555555555556,
              "#d8576b"
             ],
             [
              0.6666666666666666,
              "#ed7953"
             ],
             [
              0.7777777777777778,
              "#fb9f3a"
             ],
             [
              0.8888888888888888,
              "#fdca26"
             ],
             [
              1,
              "#f0f921"
             ]
            ],
            "type": "surface"
           }
          ],
          "table": [
           {
            "cells": {
             "fill": {
              "color": "#EBF0F8"
             },
             "line": {
              "color": "white"
             }
            },
            "header": {
             "fill": {
              "color": "#C8D4E3"
             },
             "line": {
              "color": "white"
             }
            },
            "type": "table"
           }
          ]
         },
         "layout": {
          "annotationdefaults": {
           "arrowcolor": "#2a3f5f",
           "arrowhead": 0,
           "arrowwidth": 1
          },
          "autotypenumbers": "strict",
          "coloraxis": {
           "colorbar": {
            "outlinewidth": 0,
            "ticks": ""
           }
          },
          "colorscale": {
           "diverging": [
            [
             0,
             "#8e0152"
            ],
            [
             0.1,
             "#c51b7d"
            ],
            [
             0.2,
             "#de77ae"
            ],
            [
             0.3,
             "#f1b6da"
            ],
            [
             0.4,
             "#fde0ef"
            ],
            [
             0.5,
             "#f7f7f7"
            ],
            [
             0.6,
             "#e6f5d0"
            ],
            [
             0.7,
             "#b8e186"
            ],
            [
             0.8,
             "#7fbc41"
            ],
            [
             0.9,
             "#4d9221"
            ],
            [
             1,
             "#276419"
            ]
           ],
           "sequential": [
            [
             0,
             "#0d0887"
            ],
            [
             0.1111111111111111,
             "#46039f"
            ],
            [
             0.2222222222222222,
             "#7201a8"
            ],
            [
             0.3333333333333333,
             "#9c179e"
            ],
            [
             0.4444444444444444,
             "#bd3786"
            ],
            [
             0.5555555555555556,
             "#d8576b"
            ],
            [
             0.6666666666666666,
             "#ed7953"
            ],
            [
             0.7777777777777778,
             "#fb9f3a"
            ],
            [
             0.8888888888888888,
             "#fdca26"
            ],
            [
             1,
             "#f0f921"
            ]
           ],
           "sequentialminus": [
            [
             0,
             "#0d0887"
            ],
            [
             0.1111111111111111,
             "#46039f"
            ],
            [
             0.2222222222222222,
             "#7201a8"
            ],
            [
             0.3333333333333333,
             "#9c179e"
            ],
            [
             0.4444444444444444,
             "#bd3786"
            ],
            [
             0.5555555555555556,
             "#d8576b"
            ],
            [
             0.6666666666666666,
             "#ed7953"
            ],
            [
             0.7777777777777778,
             "#fb9f3a"
            ],
            [
             0.8888888888888888,
             "#fdca26"
            ],
            [
             1,
             "#f0f921"
            ]
           ]
          },
          "colorway": [
           "#636efa",
           "#EF553B",
           "#00cc96",
           "#ab63fa",
           "#FFA15A",
           "#19d3f3",
           "#FF6692",
           "#B6E880",
           "#FF97FF",
           "#FECB52"
          ],
          "font": {
           "color": "#2a3f5f"
          },
          "geo": {
           "bgcolor": "white",
           "lakecolor": "white",
           "landcolor": "#E5ECF6",
           "showlakes": true,
           "showland": true,
           "subunitcolor": "white"
          },
          "hoverlabel": {
           "align": "left"
          },
          "hovermode": "closest",
          "mapbox": {
           "style": "light"
          },
          "paper_bgcolor": "white",
          "plot_bgcolor": "#E5ECF6",
          "polar": {
           "angularaxis": {
            "gridcolor": "white",
            "linecolor": "white",
            "ticks": ""
           },
           "bgcolor": "#E5ECF6",
           "radialaxis": {
            "gridcolor": "white",
            "linecolor": "white",
            "ticks": ""
           }
          },
          "scene": {
           "xaxis": {
            "backgroundcolor": "#E5ECF6",
            "gridcolor": "white",
            "gridwidth": 2,
            "linecolor": "white",
            "showbackground": true,
            "ticks": "",
            "zerolinecolor": "white"
           },
           "yaxis": {
            "backgroundcolor": "#E5ECF6",
            "gridcolor": "white",
            "gridwidth": 2,
            "linecolor": "white",
            "showbackground": true,
            "ticks": "",
            "zerolinecolor": "white"
           },
           "zaxis": {
            "backgroundcolor": "#E5ECF6",
            "gridcolor": "white",
            "gridwidth": 2,
            "linecolor": "white",
            "showbackground": true,
            "ticks": "",
            "zerolinecolor": "white"
           }
          },
          "shapedefaults": {
           "line": {
            "color": "#2a3f5f"
           }
          },
          "ternary": {
           "aaxis": {
            "gridcolor": "white",
            "linecolor": "white",
            "ticks": ""
           },
           "baxis": {
            "gridcolor": "white",
            "linecolor": "white",
            "ticks": ""
           },
           "bgcolor": "#E5ECF6",
           "caxis": {
            "gridcolor": "white",
            "linecolor": "white",
            "ticks": ""
           }
          },
          "title": {
           "x": 0.05
          },
          "xaxis": {
           "automargin": true,
           "gridcolor": "white",
           "linecolor": "white",
           "ticks": "",
           "title": {
            "standoff": 15
           },
           "zerolinecolor": "white",
           "zerolinewidth": 2
          },
          "yaxis": {
           "automargin": true,
           "gridcolor": "white",
           "linecolor": "white",
           "ticks": "",
           "title": {
            "standoff": 15
           },
           "zerolinecolor": "white",
           "zerolinewidth": 2
          }
         }
        },
        "title": {
         "text": "Wind Speed and Wind Direction Sublimation<br>Averaging time = 1 Hour(s)"
        },
        "width": 600,
        "xaxis": {
         "ticktext": [
          "N",
          "NE",
          "E",
          "SE",
          "S",
          "SW",
          "W",
          "NW"
         ],
         "tickvals": [
          0,
          45,
          90,
          135,
          180,
          225,
          270,
          315
         ],
         "title": {
          "text": "Wind Direction"
         }
        },
        "yaxis": {
         "ticktext": [
          "0-2",
          "2-4",
          "4-6",
          "6-8",
          "8-10",
          "10-12",
          "12-14",
          "14-16",
          "16-18",
          "18-20"
         ],
         "tickvals": [
          0,
          2,
          4,
          6,
          8,
          10,
          12,
          14,
          16,
          18
         ],
         "title": {
          "text": "Wind Speed"
         }
        }
       }
      },
      "text/html": [
       "<div>                            <div id=\"40304014-9d45-4840-8102-2d4dce27987c\" class=\"plotly-graph-div\" style=\"height:400px; width:600px;\"></div>            <script type=\"text/javascript\">                require([\"plotly\"], function(Plotly) {                    window.PLOTLYENV=window.PLOTLYENV || {};                                    if (document.getElementById(\"40304014-9d45-4840-8102-2d4dce27987c\")) {                    Plotly.newPlot(                        \"40304014-9d45-4840-8102-2d4dce27987c\",                        [{\"colorbar\":{\"title\":{\"text\":\"Temperature\\u003cbr\\u003e(&deg;C)\"}},\"colorscale\":[[0.0,\"rgb(5,48,97)\"],[0.1,\"rgb(33,102,172)\"],[0.2,\"rgb(67,147,195)\"],[0.3,\"rgb(146,197,222)\"],[0.4,\"rgb(209,229,240)\"],[0.5,\"rgb(247,247,247)\"],[0.6,\"rgb(253,219,199)\"],[0.7,\"rgb(244,165,130)\"],[0.8,\"rgb(214,96,77)\"],[0.9,\"rgb(178,24,43)\"],[1.0,\"rgb(103,0,31)\"]],\"x\":[0,45,90,135,180,225,270,315],\"xgap\":1,\"y\":[0,2,4,6,8],\"ygap\":1,\"z\":[[-13.703865082443086,-6.3961321273160925,-7.397006510614344,-6.122098586425252,-5.732584014583333,-5.6765255065555555,-6.370005645833333,-9.956813165161291],[-11.435363183035829,-3.238606856875,-2.51727016120625,-5.4721157076733595,-4.112916175295454,null,-5.080634783333333,-10.661048441666667],[-5.817910606466046,-4.911704416666667,null,-4.154153055367424,-7.499721296296296,null,null,-9.32448006754801],[-5.9276857566666665,-8.557595416666667,null,-0.8289523873333333,-6.309902916666667,null,null,-9.06718129965625],[-8.171451150000001,null,null,null,null,null,null,-8.506790324999999]],\"zmax\":0,\"zmin\":-12,\"type\":\"heatmap\"}],                        {\"template\":{\"data\":{\"histogram2dcontour\":[{\"type\":\"histogram2dcontour\",\"colorbar\":{\"outlinewidth\":0,\"ticks\":\"\"},\"colorscale\":[[0.0,\"#0d0887\"],[0.1111111111111111,\"#46039f\"],[0.2222222222222222,\"#7201a8\"],[0.3333333333333333,\"#9c179e\"],[0.4444444444444444,\"#bd3786\"],[0.5555555555555556,\"#d8576b\"],[0.6666666666666666,\"#ed7953\"],[0.7777777777777778,\"#fb9f3a\"],[0.8888888888888888,\"#fdca26\"],[1.0,\"#f0f921\"]]}],\"choropleth\":[{\"type\":\"choropleth\",\"colorbar\":{\"outlinewidth\":0,\"ticks\":\"\"}}],\"histogram2d\":[{\"type\":\"histogram2d\",\"colorbar\":{\"outlinewidth\":0,\"ticks\":\"\"},\"colorscale\":[[0.0,\"#0d0887\"],[0.1111111111111111,\"#46039f\"],[0.2222222222222222,\"#7201a8\"],[0.3333333333333333,\"#9c179e\"],[0.4444444444444444,\"#bd3786\"],[0.5555555555555556,\"#d8576b\"],[0.6666666666666666,\"#ed7953\"],[0.7777777777777778,\"#fb9f3a\"],[0.8888888888888888,\"#fdca26\"],[1.0,\"#f0f921\"]]}],\"heatmap\":[{\"type\":\"heatmap\",\"colorbar\":{\"outlinewidth\":0,\"ticks\":\"\"},\"colorscale\":[[0.0,\"#0d0887\"],[0.1111111111111111,\"#46039f\"],[0.2222222222222222,\"#7201a8\"],[0.3333333333333333,\"#9c179e\"],[0.4444444444444444,\"#bd3786\"],[0.5555555555555556,\"#d8576b\"],[0.6666666666666666,\"#ed7953\"],[0.7777777777777778,\"#fb9f3a\"],[0.8888888888888888,\"#fdca26\"],[1.0,\"#f0f921\"]]}],\"heatmapgl\":[{\"type\":\"heatmapgl\",\"colorbar\":{\"outlinewidth\":0,\"ticks\":\"\"},\"colorscale\":[[0.0,\"#0d0887\"],[0.1111111111111111,\"#46039f\"],[0.2222222222222222,\"#7201a8\"],[0.3333333333333333,\"#9c179e\"],[0.4444444444444444,\"#bd3786\"],[0.5555555555555556,\"#d8576b\"],[0.6666666666666666,\"#ed7953\"],[0.7777777777777778,\"#fb9f3a\"],[0.8888888888888888,\"#fdca26\"],[1.0,\"#f0f921\"]]}],\"contourcarpet\":[{\"type\":\"contourcarpet\",\"colorbar\":{\"outlinewidth\":0,\"ticks\":\"\"}}],\"contour\":[{\"type\":\"contour\",\"colorbar\":{\"outlinewidth\":0,\"ticks\":\"\"},\"colorscale\":[[0.0,\"#0d0887\"],[0.1111111111111111,\"#46039f\"],[0.2222222222222222,\"#7201a8\"],[0.3333333333333333,\"#9c179e\"],[0.4444444444444444,\"#bd3786\"],[0.5555555555555556,\"#d8576b\"],[0.6666666666666666,\"#ed7953\"],[0.7777777777777778,\"#fb9f3a\"],[0.8888888888888888,\"#fdca26\"],[1.0,\"#f0f921\"]]}],\"surface\":[{\"type\":\"surface\",\"colorbar\":{\"outlinewidth\":0,\"ticks\":\"\"},\"colorscale\":[[0.0,\"#0d0887\"],[0.1111111111111111,\"#46039f\"],[0.2222222222222222,\"#7201a8\"],[0.3333333333333333,\"#9c179e\"],[0.4444444444444444,\"#bd3786\"],[0.5555555555555556,\"#d8576b\"],[0.6666666666666666,\"#ed7953\"],[0.7777777777777778,\"#fb9f3a\"],[0.8888888888888888,\"#fdca26\"],[1.0,\"#f0f921\"]]}],\"mesh3d\":[{\"type\":\"mesh3d\",\"colorbar\":{\"outlinewidth\":0,\"ticks\":\"\"}}],\"scatter\":[{\"fillpattern\":{\"fillmode\":\"overlay\",\"size\":10,\"solidity\":0.2},\"type\":\"scatter\"}],\"parcoords\":[{\"type\":\"parcoords\",\"line\":{\"colorbar\":{\"outlinewidth\":0,\"ticks\":\"\"}}}],\"scatterpolargl\":[{\"type\":\"scatterpolargl\",\"marker\":{\"colorbar\":{\"outlinewidth\":0,\"ticks\":\"\"}}}],\"bar\":[{\"error_x\":{\"color\":\"#2a3f5f\"},\"error_y\":{\"color\":\"#2a3f5f\"},\"marker\":{\"line\":{\"color\":\"#E5ECF6\",\"width\":0.5},\"pattern\":{\"fillmode\":\"overlay\",\"size\":10,\"solidity\":0.2}},\"type\":\"bar\"}],\"scattergeo\":[{\"type\":\"scattergeo\",\"marker\":{\"colorbar\":{\"outlinewidth\":0,\"ticks\":\"\"}}}],\"scatterpolar\":[{\"type\":\"scatterpolar\",\"marker\":{\"colorbar\":{\"outlinewidth\":0,\"ticks\":\"\"}}}],\"histogram\":[{\"marker\":{\"pattern\":{\"fillmode\":\"overlay\",\"size\":10,\"solidity\":0.2}},\"type\":\"histogram\"}],\"scattergl\":[{\"type\":\"scattergl\",\"marker\":{\"colorbar\":{\"outlinewidth\":0,\"ticks\":\"\"}}}],\"scatter3d\":[{\"type\":\"scatter3d\",\"line\":{\"colorbar\":{\"outlinewidth\":0,\"ticks\":\"\"}},\"marker\":{\"colorbar\":{\"outlinewidth\":0,\"ticks\":\"\"}}}],\"scattermapbox\":[{\"type\":\"scattermapbox\",\"marker\":{\"colorbar\":{\"outlinewidth\":0,\"ticks\":\"\"}}}],\"scatterternary\":[{\"type\":\"scatterternary\",\"marker\":{\"colorbar\":{\"outlinewidth\":0,\"ticks\":\"\"}}}],\"scattercarpet\":[{\"type\":\"scattercarpet\",\"marker\":{\"colorbar\":{\"outlinewidth\":0,\"ticks\":\"\"}}}],\"carpet\":[{\"aaxis\":{\"endlinecolor\":\"#2a3f5f\",\"gridcolor\":\"white\",\"linecolor\":\"white\",\"minorgridcolor\":\"white\",\"startlinecolor\":\"#2a3f5f\"},\"baxis\":{\"endlinecolor\":\"#2a3f5f\",\"gridcolor\":\"white\",\"linecolor\":\"white\",\"minorgridcolor\":\"white\",\"startlinecolor\":\"#2a3f5f\"},\"type\":\"carpet\"}],\"table\":[{\"cells\":{\"fill\":{\"color\":\"#EBF0F8\"},\"line\":{\"color\":\"white\"}},\"header\":{\"fill\":{\"color\":\"#C8D4E3\"},\"line\":{\"color\":\"white\"}},\"type\":\"table\"}],\"barpolar\":[{\"marker\":{\"line\":{\"color\":\"#E5ECF6\",\"width\":0.5},\"pattern\":{\"fillmode\":\"overlay\",\"size\":10,\"solidity\":0.2}},\"type\":\"barpolar\"}],\"pie\":[{\"automargin\":true,\"type\":\"pie\"}]},\"layout\":{\"autotypenumbers\":\"strict\",\"colorway\":[\"#636efa\",\"#EF553B\",\"#00cc96\",\"#ab63fa\",\"#FFA15A\",\"#19d3f3\",\"#FF6692\",\"#B6E880\",\"#FF97FF\",\"#FECB52\"],\"font\":{\"color\":\"#2a3f5f\"},\"hovermode\":\"closest\",\"hoverlabel\":{\"align\":\"left\"},\"paper_bgcolor\":\"white\",\"plot_bgcolor\":\"#E5ECF6\",\"polar\":{\"bgcolor\":\"#E5ECF6\",\"angularaxis\":{\"gridcolor\":\"white\",\"linecolor\":\"white\",\"ticks\":\"\"},\"radialaxis\":{\"gridcolor\":\"white\",\"linecolor\":\"white\",\"ticks\":\"\"}},\"ternary\":{\"bgcolor\":\"#E5ECF6\",\"aaxis\":{\"gridcolor\":\"white\",\"linecolor\":\"white\",\"ticks\":\"\"},\"baxis\":{\"gridcolor\":\"white\",\"linecolor\":\"white\",\"ticks\":\"\"},\"caxis\":{\"gridcolor\":\"white\",\"linecolor\":\"white\",\"ticks\":\"\"}},\"coloraxis\":{\"colorbar\":{\"outlinewidth\":0,\"ticks\":\"\"}},\"colorscale\":{\"sequential\":[[0.0,\"#0d0887\"],[0.1111111111111111,\"#46039f\"],[0.2222222222222222,\"#7201a8\"],[0.3333333333333333,\"#9c179e\"],[0.4444444444444444,\"#bd3786\"],[0.5555555555555556,\"#d8576b\"],[0.6666666666666666,\"#ed7953\"],[0.7777777777777778,\"#fb9f3a\"],[0.8888888888888888,\"#fdca26\"],[1.0,\"#f0f921\"]],\"sequentialminus\":[[0.0,\"#0d0887\"],[0.1111111111111111,\"#46039f\"],[0.2222222222222222,\"#7201a8\"],[0.3333333333333333,\"#9c179e\"],[0.4444444444444444,\"#bd3786\"],[0.5555555555555556,\"#d8576b\"],[0.6666666666666666,\"#ed7953\"],[0.7777777777777778,\"#fb9f3a\"],[0.8888888888888888,\"#fdca26\"],[1.0,\"#f0f921\"]],\"diverging\":[[0,\"#8e0152\"],[0.1,\"#c51b7d\"],[0.2,\"#de77ae\"],[0.3,\"#f1b6da\"],[0.4,\"#fde0ef\"],[0.5,\"#f7f7f7\"],[0.6,\"#e6f5d0\"],[0.7,\"#b8e186\"],[0.8,\"#7fbc41\"],[0.9,\"#4d9221\"],[1,\"#276419\"]]},\"xaxis\":{\"gridcolor\":\"white\",\"linecolor\":\"white\",\"ticks\":\"\",\"title\":{\"standoff\":15},\"zerolinecolor\":\"white\",\"automargin\":true,\"zerolinewidth\":2},\"yaxis\":{\"gridcolor\":\"white\",\"linecolor\":\"white\",\"ticks\":\"\",\"title\":{\"standoff\":15},\"zerolinecolor\":\"white\",\"automargin\":true,\"zerolinewidth\":2},\"scene\":{\"xaxis\":{\"backgroundcolor\":\"#E5ECF6\",\"gridcolor\":\"white\",\"linecolor\":\"white\",\"showbackground\":true,\"ticks\":\"\",\"zerolinecolor\":\"white\",\"gridwidth\":2},\"yaxis\":{\"backgroundcolor\":\"#E5ECF6\",\"gridcolor\":\"white\",\"linecolor\":\"white\",\"showbackground\":true,\"ticks\":\"\",\"zerolinecolor\":\"white\",\"gridwidth\":2},\"zaxis\":{\"backgroundcolor\":\"#E5ECF6\",\"gridcolor\":\"white\",\"linecolor\":\"white\",\"showbackground\":true,\"ticks\":\"\",\"zerolinecolor\":\"white\",\"gridwidth\":2}},\"shapedefaults\":{\"line\":{\"color\":\"#2a3f5f\"}},\"annotationdefaults\":{\"arrowcolor\":\"#2a3f5f\",\"arrowhead\":0,\"arrowwidth\":1},\"geo\":{\"bgcolor\":\"white\",\"landcolor\":\"#E5ECF6\",\"subunitcolor\":\"white\",\"showland\":true,\"showlakes\":true,\"lakecolor\":\"white\"},\"title\":{\"x\":0.05},\"mapbox\":{\"style\":\"light\"}}},\"height\":400,\"width\":600,\"xaxis\":{\"title\":{\"text\":\"Wind Direction\"},\"tickvals\":[0,45,90,135,180,225,270,315],\"ticktext\":[\"N\",\"NE\",\"E\",\"SE\",\"S\",\"SW\",\"W\",\"NW\"]},\"yaxis\":{\"title\":{\"text\":\"Wind Speed\"},\"tickvals\":[0,2,4,6,8,10,12,14,16,18],\"ticktext\":[\"0-2\",\"2-4\",\"4-6\",\"6-8\",\"8-10\",\"10-12\",\"12-14\",\"14-16\",\"16-18\",\"18-20\"]},\"title\":{\"text\":\"Wind Speed and Wind Direction Sublimation\\u003cbr\\u003eAveraging time = 1 Hour(s)\"}},                        {\"responsive\": true}                    ).then(function(){\n",
       "                            \n",
       "var gd = document.getElementById('40304014-9d45-4840-8102-2d4dce27987c');\n",
       "var x = new MutationObserver(function (mutations, observer) {{\n",
       "        var display = window.getComputedStyle(gd).display;\n",
       "        if (!display || display === 'none') {{\n",
       "            console.log([gd, 'removed!']);\n",
       "            Plotly.purge(gd);\n",
       "            observer.disconnect();\n",
       "        }}\n",
       "}});\n",
       "\n",
       "// Listen for the removal of the full notebook cells\n",
       "var notebookContainer = gd.closest('#notebook-container');\n",
       "if (notebookContainer) {{\n",
       "    x.observe(notebookContainer, {childList: true});\n",
       "}}\n",
       "\n",
       "// Listen for the clearing of the current output cell\n",
       "var outputEl = gd.closest('.output');\n",
       "if (outputEl) {{\n",
       "    x.observe(outputEl, {childList: true});\n",
       "}}\n",
       "\n",
       "                        })                };                });            </script>        </div>"
      ]
     },
     "metadata": {},
     "output_type": "display_data"
    }
   ],
   "source": [
    "# plot grouped as a heatmap\n",
    "fig = go.Figure()\n",
    "fig.add_trace(go.Heatmap(z=grouped.values, \n",
    "                         x=grouped.columns, \n",
    "                         y=grouped.index,\n",
    "\n",
    "                        colorbar={'title':'Temperature<br>(&deg;C)'},\n",
    "                        colorscale='RdBu_r',\n",
    "                        # min and max color values\n",
    "                        zmin=-12,\n",
    "                        zmax=0,\n",
    "                        xgap=1,\n",
    "                        ygap=1,\n",
    "                         ))\n",
    "# add grid\n",
    "fig.update_layout(height=400, \n",
    "                  width=600,\n",
    "                  xaxis_title='Wind Direction',\n",
    "                  yaxis_title='Wind Speed',\n",
    "                  title=f'Wind Speed and Wind Direction Sublimation<br>Averaging time = {timestep} Hour(s)',\n",
    "                  )\n",
    "# change x-axis ticks to be cardinal wind directions\n",
    "fig.update_xaxes(tickvals=[0, 45, 90, 135, 180, 225, 270, 315], ticktext=['N', 'NE', 'E', 'SE', 'S', 'SW', 'W', 'NW'])\n",
    "# update y-axes ticks to be wind speed bins\n",
    "fig.update_yaxes(tickvals=[0, 2, 4, 6, 8, 10, 12, 14, 16, 18], ticktext=['0-2', '2-4', '4-6', '6-8', '8-10', '10-12', '12-14', '14-16', '16-18', '18-20'])\n",
    "# update legend title to legend_title='Percent of Winter Sublimation (%)'"
   ]
  },
  {
   "cell_type": "code",
   "execution_count": 130,
   "metadata": {},
   "outputs": [
    {
     "data": {
      "application/vnd.plotly.v1+json": {
       "config": {
        "plotlyServerURL": "https://plot.ly"
       },
       "data": [
        {
         "line": {
          "color": "blue"
         },
         "name": "SPLASH ECOR Sublimation (Avery Picnic)",
         "type": "scatter",
         "x": [
          "2022-11-30T00:00:00.000000000",
          "2022-12-01T00:00:00.000000000",
          "2022-12-02T00:00:00.000000000",
          "2022-12-03T00:00:00.000000000",
          "2022-12-04T00:00:00.000000000",
          "2022-12-05T00:00:00.000000000",
          "2022-12-06T00:00:00.000000000",
          "2022-12-07T00:00:00.000000000",
          "2022-12-08T00:00:00.000000000",
          "2022-12-09T00:00:00.000000000",
          "2022-12-10T00:00:00.000000000",
          "2022-12-11T00:00:00.000000000",
          "2022-12-12T00:00:00.000000000",
          "2022-12-13T00:00:00.000000000",
          "2022-12-14T00:00:00.000000000",
          "2022-12-15T00:00:00.000000000",
          "2022-12-16T00:00:00.000000000",
          "2022-12-17T00:00:00.000000000",
          "2022-12-18T00:00:00.000000000",
          "2022-12-19T00:00:00.000000000",
          "2022-12-20T00:00:00.000000000",
          "2022-12-21T00:00:00.000000000",
          "2022-12-22T00:00:00.000000000",
          "2022-12-23T00:00:00.000000000",
          "2022-12-24T00:00:00.000000000",
          "2022-12-25T00:00:00.000000000",
          "2022-12-26T00:00:00.000000000",
          "2022-12-27T00:00:00.000000000",
          "2022-12-28T00:00:00.000000000",
          "2022-12-29T00:00:00.000000000",
          "2022-12-30T00:00:00.000000000",
          "2022-12-31T00:00:00.000000000",
          "2023-01-01T00:00:00.000000000",
          "2023-01-02T00:00:00.000000000",
          "2023-01-03T00:00:00.000000000",
          "2023-01-04T00:00:00.000000000",
          "2023-01-05T00:00:00.000000000",
          "2023-01-06T00:00:00.000000000",
          "2023-01-07T00:00:00.000000000",
          "2023-01-08T00:00:00.000000000",
          "2023-01-09T00:00:00.000000000",
          "2023-01-10T00:00:00.000000000",
          "2023-01-11T00:00:00.000000000",
          "2023-01-12T00:00:00.000000000",
          "2023-01-13T00:00:00.000000000",
          "2023-01-14T00:00:00.000000000",
          "2023-01-15T00:00:00.000000000",
          "2023-01-16T00:00:00.000000000",
          "2023-01-17T00:00:00.000000000",
          "2023-01-18T00:00:00.000000000",
          "2023-01-19T00:00:00.000000000",
          "2023-01-20T00:00:00.000000000",
          "2023-01-21T00:00:00.000000000",
          "2023-01-22T00:00:00.000000000",
          "2023-01-23T00:00:00.000000000",
          "2023-01-24T00:00:00.000000000",
          "2023-01-25T00:00:00.000000000",
          "2023-01-26T00:00:00.000000000",
          "2023-01-27T00:00:00.000000000",
          "2023-01-28T00:00:00.000000000",
          "2023-01-29T00:00:00.000000000",
          "2023-01-30T00:00:00.000000000",
          "2023-01-31T00:00:00.000000000",
          "2023-02-01T00:00:00.000000000",
          "2023-02-02T00:00:00.000000000",
          "2023-02-03T00:00:00.000000000",
          "2023-02-04T00:00:00.000000000",
          "2023-02-05T00:00:00.000000000",
          "2023-02-06T00:00:00.000000000",
          "2023-02-07T00:00:00.000000000",
          "2023-02-08T00:00:00.000000000",
          "2023-02-09T00:00:00.000000000",
          "2023-02-10T00:00:00.000000000",
          "2023-02-11T00:00:00.000000000",
          "2023-02-12T00:00:00.000000000",
          "2023-02-13T00:00:00.000000000",
          "2023-02-14T00:00:00.000000000",
          "2023-02-15T00:00:00.000000000",
          "2023-02-16T00:00:00.000000000",
          "2023-02-17T00:00:00.000000000",
          "2023-02-18T00:00:00.000000000",
          "2023-02-19T00:00:00.000000000",
          "2023-02-20T00:00:00.000000000",
          "2023-02-21T00:00:00.000000000",
          "2023-02-22T00:00:00.000000000",
          "2023-02-23T00:00:00.000000000",
          "2023-02-24T00:00:00.000000000",
          "2023-02-25T00:00:00.000000000",
          "2023-02-26T00:00:00.000000000",
          "2023-02-27T00:00:00.000000000",
          "2023-02-28T00:00:00.000000000",
          "2023-03-01T00:00:00.000000000",
          "2023-03-02T00:00:00.000000000",
          "2023-03-03T00:00:00.000000000",
          "2023-03-04T00:00:00.000000000",
          "2023-03-05T00:00:00.000000000",
          "2023-03-06T00:00:00.000000000",
          "2023-03-07T00:00:00.000000000",
          "2023-03-08T00:00:00.000000000",
          "2023-03-09T00:00:00.000000000",
          "2023-03-10T00:00:00.000000000",
          "2023-03-11T00:00:00.000000000",
          "2023-03-12T00:00:00.000000000",
          "2023-03-13T00:00:00.000000000",
          "2023-03-14T00:00:00.000000000",
          "2023-03-15T00:00:00.000000000",
          "2023-03-16T00:00:00.000000000",
          "2023-03-17T00:00:00.000000000",
          "2023-03-18T00:00:00.000000000",
          "2023-03-19T00:00:00.000000000",
          "2023-03-20T00:00:00.000000000",
          "2023-03-21T00:00:00.000000000",
          "2023-03-22T00:00:00.000000000",
          "2023-03-23T00:00:00.000000000",
          "2023-03-24T00:00:00.000000000",
          "2023-03-25T00:00:00.000000000",
          "2023-03-26T00:00:00.000000000",
          "2023-03-27T00:00:00.000000000",
          "2023-03-28T00:00:00.000000000",
          "2023-03-29T00:00:00.000000000",
          "2023-03-30T00:00:00.000000000",
          "2023-03-31T00:00:00.000000000",
          "2023-04-01T00:00:00.000000000",
          "2023-04-02T00:00:00.000000000",
          "2023-04-03T00:00:00.000000000",
          "2023-04-04T00:00:00.000000000",
          "2023-04-05T00:00:00.000000000",
          "2023-04-06T00:00:00.000000000",
          "2023-04-07T00:00:00.000000000",
          "2023-04-08T00:00:00.000000000",
          "2023-04-09T00:00:00.000000000",
          "2023-04-10T00:00:00.000000000",
          "2023-04-11T00:00:00.000000000",
          "2023-04-12T00:00:00.000000000",
          "2023-04-13T00:00:00.000000000",
          "2023-04-14T00:00:00.000000000",
          "2023-04-15T00:00:00.000000000",
          "2023-04-16T00:00:00.000000000",
          "2023-04-17T00:00:00.000000000",
          "2023-04-18T00:00:00.000000000",
          "2023-04-19T00:00:00.000000000",
          "2023-04-20T00:00:00.000000000",
          "2023-04-21T00:00:00.000000000",
          "2023-04-22T00:00:00.000000000",
          "2023-04-23T00:00:00.000000000",
          "2023-04-24T00:00:00.000000000",
          "2023-04-25T00:00:00.000000000",
          "2023-04-26T00:00:00.000000000",
          "2023-04-27T00:00:00.000000000",
          "2023-04-28T00:00:00.000000000",
          "2023-04-29T00:00:00.000000000",
          "2023-04-30T00:00:00.000000000",
          "2023-05-01T00:00:00.000000000",
          "2023-05-02T00:00:00.000000000",
          "2023-05-03T00:00:00.000000000",
          "2023-05-04T00:00:00.000000000",
          "2023-05-05T00:00:00.000000000",
          "2023-05-06T00:00:00.000000000",
          "2023-05-07T00:00:00.000000000",
          "2023-05-08T00:00:00.000000000",
          "2023-05-09T00:00:00.000000000"
         ],
         "y": [
          -0.008858027888699258,
          0.13396948664252145,
          0.6899181244271329,
          0.6969165215925863,
          0.7048374772856579,
          0.9187924673724165,
          1.2394246801764315,
          1.2579222957101275,
          1.3345365955695263,
          1.3059690150815426,
          1.2929340485374523,
          1.307899661366692,
          1.4459616343341688,
          1.6405316515126003,
          1.8614971909898583,
          1.8902657770989677,
          1.9615991015010026,
          1.9717497290897097,
          1.9773971892900903,
          1.9820211735000994,
          2.0012377446791523,
          2.230914496545204,
          2.8013523709138886,
          2.893912089222396,
          3.046782225442396,
          3.164016760750663,
          3.2361073554266646,
          3.2795350909052834,
          3.2981427974719835,
          3.4120526204905977,
          3.4121313367489763,
          3.418593923989249,
          3.4347217035877287,
          3.456876470121995,
          3.507935129020761,
          3.682825612346505,
          3.6578933269505094,
          3.6082110814462607,
          3.6020853660321315,
          3.606034084021868,
          3.6097350932779966,
          3.742179508235518,
          3.8345266101191107,
          3.8508390670494266,
          3.857636692253226,
          3.921777739131485,
          3.9293469305258437,
          3.938757615831659,
          3.9591659323744546,
          4.087200602894024,
          4.062670993400769,
          4.062670993400769,
          4.062670993400769,
          4.062670993400769,
          4.062670993400769,
          4.062670993400769,
          4.062670993400769,
          4.062670993400769,
          4.062670993400769,
          4.062670993400769,
          4.062670993400769,
          4.062670993400769,
          4.062670993400769,
          4.062670993400769,
          4.062670993400769,
          4.062670993400769,
          4.062670993400769,
          4.062670993400769,
          4.062670993400769,
          4.062670993400769,
          4.062670993400769,
          4.062670993400769,
          4.062670993400769,
          4.062670993400769,
          4.062670993400769,
          4.062670993400769,
          4.062670993400769,
          4.062670993400769,
          4.062670993400769,
          4.062670993400769,
          4.062670993400769,
          4.062670993400769,
          4.062670993400769,
          4.2160412036769435,
          4.463203245547779,
          4.6337436423367615,
          4.75578311218254,
          4.7671510344393715,
          4.88738654354413,
          4.989123855868783,
          5.3359706409146535,
          5.370019083184359,
          5.494118298876437,
          5.525074545914805,
          5.588469315998187,
          6.159366470587516,
          6.583035211819566,
          6.842358902237207,
          6.842358902237207,
          6.842358902237207,
          6.842358902237207,
          6.842358902237207,
          6.842358902237207,
          6.842358902237207,
          6.842358902237207,
          6.842358902237207,
          6.842358902237207,
          6.842358902237207,
          6.842358902237207,
          6.842358902237207,
          6.842358902237207,
          6.842358902237207,
          6.842358902237207,
          6.842358902237207,
          6.842358902237207,
          6.842358902237207,
          6.842358902237207,
          6.842358902237207,
          6.842358902237207,
          6.842358902237207,
          6.842358902237207,
          6.842358902237207,
          6.842358902237207,
          6.842358902237207,
          6.842358902237207,
          6.842358902237207,
          6.842358902237207,
          6.842358902237207,
          6.842358902237207,
          6.842358902237207,
          6.842358902237207,
          6.842358902237207,
          6.984211657753124,
          7.207981684317836,
          7.752751543786423,
          8.092109425994453,
          8.44303794415861,
          8.631430540823972,
          8.804634038169743,
          9.3913867819883,
          10.33889991811806,
          10.647621922150169,
          10.784807090672585,
          11.089131787554635,
          11.35479733778689,
          11.644595776971,
          11.774205383101934,
          12.030940107311562,
          12.372889923636205,
          12.995350877631472,
          13.330003002432475,
          13.743868857311861,
          13.877783298794501,
          14.03473900009039,
          14.072926524670892,
          14.128575206194753,
          14.53451404035294,
          14.950467157047447,
          15.199344973459194,
          15.416896570501462,
          15.67567849154763
         ]
        },
        {
         "line": {
          "color": "purple"
         },
         "name": "SPLASH ECOR Sublimation (Kettle Ponds)",
         "type": "scatter",
         "x": [
          "2022-11-30T00:00:00.000000000",
          "2022-12-01T00:00:00.000000000",
          "2022-12-02T00:00:00.000000000",
          "2022-12-03T00:00:00.000000000",
          "2022-12-04T00:00:00.000000000",
          "2022-12-05T00:00:00.000000000",
          "2022-12-06T00:00:00.000000000",
          "2022-12-07T00:00:00.000000000",
          "2022-12-08T00:00:00.000000000",
          "2022-12-09T00:00:00.000000000",
          "2022-12-10T00:00:00.000000000",
          "2022-12-11T00:00:00.000000000",
          "2022-12-12T00:00:00.000000000",
          "2022-12-13T00:00:00.000000000",
          "2022-12-14T00:00:00.000000000",
          "2022-12-15T00:00:00.000000000",
          "2022-12-16T00:00:00.000000000",
          "2022-12-17T00:00:00.000000000",
          "2022-12-18T00:00:00.000000000",
          "2022-12-19T00:00:00.000000000",
          "2022-12-20T00:00:00.000000000",
          "2022-12-21T00:00:00.000000000",
          "2022-12-22T00:00:00.000000000",
          "2022-12-23T00:00:00.000000000",
          "2022-12-24T00:00:00.000000000",
          "2022-12-25T00:00:00.000000000",
          "2022-12-26T00:00:00.000000000",
          "2022-12-27T00:00:00.000000000",
          "2022-12-28T00:00:00.000000000",
          "2022-12-29T00:00:00.000000000",
          "2022-12-30T00:00:00.000000000",
          "2022-12-31T00:00:00.000000000",
          "2023-01-01T00:00:00.000000000",
          "2023-01-02T00:00:00.000000000",
          "2023-01-03T00:00:00.000000000",
          "2023-01-04T00:00:00.000000000",
          "2023-01-05T00:00:00.000000000",
          "2023-01-06T00:00:00.000000000",
          "2023-01-07T00:00:00.000000000",
          "2023-01-08T00:00:00.000000000",
          "2023-01-09T00:00:00.000000000",
          "2023-01-10T00:00:00.000000000",
          "2023-01-11T00:00:00.000000000",
          "2023-01-12T00:00:00.000000000",
          "2023-01-13T00:00:00.000000000",
          "2023-01-14T00:00:00.000000000",
          "2023-01-15T00:00:00.000000000",
          "2023-01-16T00:00:00.000000000",
          "2023-01-17T00:00:00.000000000",
          "2023-01-18T00:00:00.000000000",
          "2023-01-19T00:00:00.000000000",
          "2023-01-20T00:00:00.000000000",
          "2023-01-21T00:00:00.000000000",
          "2023-01-22T00:00:00.000000000",
          "2023-01-23T00:00:00.000000000",
          "2023-01-24T00:00:00.000000000",
          "2023-01-25T00:00:00.000000000",
          "2023-01-26T00:00:00.000000000",
          "2023-01-27T00:00:00.000000000",
          "2023-01-28T00:00:00.000000000",
          "2023-01-29T00:00:00.000000000",
          "2023-01-30T00:00:00.000000000",
          "2023-01-31T00:00:00.000000000",
          "2023-02-01T00:00:00.000000000",
          "2023-02-02T00:00:00.000000000",
          "2023-02-03T00:00:00.000000000",
          "2023-02-04T00:00:00.000000000",
          "2023-02-05T00:00:00.000000000",
          "2023-02-06T00:00:00.000000000",
          "2023-02-07T00:00:00.000000000",
          "2023-02-08T00:00:00.000000000",
          "2023-02-09T00:00:00.000000000",
          "2023-02-10T00:00:00.000000000",
          "2023-02-11T00:00:00.000000000",
          "2023-02-12T00:00:00.000000000",
          "2023-02-13T00:00:00.000000000",
          "2023-02-14T00:00:00.000000000",
          "2023-02-15T00:00:00.000000000",
          "2023-02-16T00:00:00.000000000",
          "2023-02-17T00:00:00.000000000",
          "2023-02-18T00:00:00.000000000",
          "2023-02-19T00:00:00.000000000",
          "2023-02-20T00:00:00.000000000",
          "2023-02-21T00:00:00.000000000",
          "2023-02-22T00:00:00.000000000",
          "2023-02-23T00:00:00.000000000",
          "2023-02-24T00:00:00.000000000",
          "2023-02-25T00:00:00.000000000",
          "2023-02-26T00:00:00.000000000",
          "2023-02-27T00:00:00.000000000",
          "2023-02-28T00:00:00.000000000",
          "2023-03-01T00:00:00.000000000",
          "2023-03-02T00:00:00.000000000",
          "2023-03-03T00:00:00.000000000",
          "2023-03-04T00:00:00.000000000",
          "2023-03-05T00:00:00.000000000",
          "2023-03-06T00:00:00.000000000",
          "2023-03-07T00:00:00.000000000",
          "2023-03-08T00:00:00.000000000",
          "2023-03-09T00:00:00.000000000",
          "2023-03-10T00:00:00.000000000",
          "2023-03-11T00:00:00.000000000",
          "2023-03-12T00:00:00.000000000",
          "2023-03-13T00:00:00.000000000",
          "2023-03-14T00:00:00.000000000",
          "2023-03-15T00:00:00.000000000",
          "2023-03-16T00:00:00.000000000",
          "2023-03-17T00:00:00.000000000",
          "2023-03-18T00:00:00.000000000",
          "2023-03-19T00:00:00.000000000",
          "2023-03-20T00:00:00.000000000",
          "2023-03-21T00:00:00.000000000",
          "2023-03-22T00:00:00.000000000",
          "2023-03-23T00:00:00.000000000",
          "2023-03-24T00:00:00.000000000",
          "2023-03-25T00:00:00.000000000",
          "2023-03-26T00:00:00.000000000",
          "2023-03-27T00:00:00.000000000",
          "2023-03-28T00:00:00.000000000",
          "2023-03-29T00:00:00.000000000",
          "2023-03-30T00:00:00.000000000",
          "2023-03-31T00:00:00.000000000",
          "2023-04-01T00:00:00.000000000",
          "2023-04-02T00:00:00.000000000",
          "2023-04-03T00:00:00.000000000",
          "2023-04-04T00:00:00.000000000",
          "2023-04-05T00:00:00.000000000",
          "2023-04-06T00:00:00.000000000",
          "2023-04-07T00:00:00.000000000",
          "2023-04-08T00:00:00.000000000",
          "2023-04-09T00:00:00.000000000",
          "2023-04-10T00:00:00.000000000",
          "2023-04-11T00:00:00.000000000",
          "2023-04-12T00:00:00.000000000",
          "2023-04-13T00:00:00.000000000",
          "2023-04-14T00:00:00.000000000",
          "2023-04-15T00:00:00.000000000",
          "2023-04-16T00:00:00.000000000",
          "2023-04-17T00:00:00.000000000",
          "2023-04-18T00:00:00.000000000",
          "2023-04-19T00:00:00.000000000",
          "2023-04-20T00:00:00.000000000",
          "2023-04-21T00:00:00.000000000",
          "2023-04-22T00:00:00.000000000",
          "2023-04-23T00:00:00.000000000",
          "2023-04-24T00:00:00.000000000",
          "2023-04-25T00:00:00.000000000",
          "2023-04-26T00:00:00.000000000",
          "2023-04-27T00:00:00.000000000",
          "2023-04-28T00:00:00.000000000",
          "2023-04-29T00:00:00.000000000",
          "2023-04-30T00:00:00.000000000",
          "2023-05-01T00:00:00.000000000",
          "2023-05-02T00:00:00.000000000",
          "2023-05-03T00:00:00.000000000",
          "2023-05-04T00:00:00.000000000",
          "2023-05-05T00:00:00.000000000",
          "2023-05-06T00:00:00.000000000",
          "2023-05-07T00:00:00.000000000",
          "2023-05-08T00:00:00.000000000",
          "2023-05-09T00:00:00.000000000"
         ],
         "y": [
          0,
          0,
          0,
          0,
          0,
          0,
          0,
          0,
          0,
          0,
          0,
          0,
          0,
          0,
          0,
          0,
          0,
          0,
          0,
          0,
          0,
          0,
          0,
          0,
          0,
          0,
          0,
          0,
          0,
          0,
          0,
          0,
          0,
          0,
          0,
          0,
          0,
          0,
          0,
          0,
          0,
          0,
          0,
          0,
          0,
          0,
          0,
          0,
          0,
          0,
          0,
          0,
          0,
          0,
          0,
          0,
          0,
          0,
          0,
          0,
          0,
          0,
          0,
          0,
          0,
          0,
          0,
          0,
          0,
          0,
          0,
          0,
          0,
          0,
          0,
          0,
          0,
          0,
          0,
          0,
          0,
          0,
          0,
          0,
          0,
          0,
          0,
          0,
          0,
          0,
          0,
          0,
          0,
          0,
          0,
          0,
          0,
          0,
          0,
          0,
          0,
          0,
          0,
          0,
          0,
          0,
          0,
          0,
          0,
          0,
          0,
          0,
          0,
          0,
          0,
          0,
          0,
          0,
          0,
          0,
          0,
          0,
          0,
          0,
          0,
          0,
          0,
          0,
          0,
          0,
          0,
          0,
          0,
          0,
          0,
          0,
          0,
          0,
          0,
          0,
          0,
          0,
          0,
          0,
          0,
          0,
          0,
          0,
          0,
          0,
          0,
          0,
          0,
          0,
          0,
          0,
          0,
          0,
          0,
          0,
          0
         ]
        },
        {
         "line": {
          "color": "rgb(252,187,161)"
         },
         "name": "SOS Sublimation (10m uw)",
         "type": "scatter",
         "x": [
          "2022-11-30T00:00:00.000000000",
          "2022-12-01T00:00:00.000000000",
          "2022-12-02T00:00:00.000000000",
          "2022-12-03T00:00:00.000000000",
          "2022-12-04T00:00:00.000000000",
          "2022-12-05T00:00:00.000000000",
          "2022-12-06T00:00:00.000000000",
          "2022-12-07T00:00:00.000000000",
          "2022-12-08T00:00:00.000000000",
          "2022-12-09T00:00:00.000000000",
          "2022-12-10T00:00:00.000000000",
          "2022-12-11T00:00:00.000000000",
          "2022-12-12T00:00:00.000000000",
          "2022-12-13T00:00:00.000000000",
          "2022-12-14T00:00:00.000000000",
          "2022-12-15T00:00:00.000000000",
          "2022-12-16T00:00:00.000000000",
          "2022-12-17T00:00:00.000000000",
          "2022-12-18T00:00:00.000000000",
          "2022-12-19T00:00:00.000000000",
          "2022-12-20T00:00:00.000000000",
          "2022-12-21T00:00:00.000000000",
          "2022-12-22T00:00:00.000000000",
          "2022-12-23T00:00:00.000000000",
          "2022-12-24T00:00:00.000000000",
          "2022-12-25T00:00:00.000000000",
          "2022-12-26T00:00:00.000000000",
          "2022-12-27T00:00:00.000000000",
          "2022-12-28T00:00:00.000000000",
          "2022-12-29T00:00:00.000000000",
          "2022-12-30T00:00:00.000000000",
          "2022-12-31T00:00:00.000000000",
          "2023-01-01T00:00:00.000000000",
          "2023-01-02T00:00:00.000000000",
          "2023-01-03T00:00:00.000000000",
          "2023-01-04T00:00:00.000000000",
          "2023-01-05T00:00:00.000000000",
          "2023-01-06T00:00:00.000000000",
          "2023-01-07T00:00:00.000000000",
          "2023-01-08T00:00:00.000000000",
          "2023-01-09T00:00:00.000000000",
          "2023-01-10T00:00:00.000000000",
          "2023-01-11T00:00:00.000000000",
          "2023-01-12T00:00:00.000000000",
          "2023-01-13T00:00:00.000000000",
          "2023-01-14T00:00:00.000000000",
          "2023-01-15T00:00:00.000000000",
          "2023-01-16T00:00:00.000000000",
          "2023-01-17T00:00:00.000000000",
          "2023-01-18T00:00:00.000000000",
          "2023-01-19T00:00:00.000000000",
          "2023-01-20T00:00:00.000000000",
          "2023-01-21T00:00:00.000000000",
          "2023-01-22T00:00:00.000000000",
          "2023-01-23T00:00:00.000000000",
          "2023-01-24T00:00:00.000000000",
          "2023-01-25T00:00:00.000000000",
          "2023-01-26T00:00:00.000000000",
          "2023-01-27T00:00:00.000000000",
          "2023-01-28T00:00:00.000000000",
          "2023-01-29T00:00:00.000000000",
          "2023-01-30T00:00:00.000000000",
          "2023-01-31T00:00:00.000000000",
          "2023-02-01T00:00:00.000000000",
          "2023-02-02T00:00:00.000000000",
          "2023-02-03T00:00:00.000000000",
          "2023-02-04T00:00:00.000000000",
          "2023-02-05T00:00:00.000000000",
          "2023-02-06T00:00:00.000000000",
          "2023-02-07T00:00:00.000000000",
          "2023-02-08T00:00:00.000000000",
          "2023-02-09T00:00:00.000000000",
          "2023-02-10T00:00:00.000000000",
          "2023-02-11T00:00:00.000000000",
          "2023-02-12T00:00:00.000000000",
          "2023-02-13T00:00:00.000000000",
          "2023-02-14T00:00:00.000000000",
          "2023-02-15T00:00:00.000000000",
          "2023-02-16T00:00:00.000000000",
          "2023-02-17T00:00:00.000000000",
          "2023-02-18T00:00:00.000000000",
          "2023-02-19T00:00:00.000000000",
          "2023-02-20T00:00:00.000000000",
          "2023-02-21T00:00:00.000000000",
          "2023-02-22T00:00:00.000000000",
          "2023-02-23T00:00:00.000000000",
          "2023-02-24T00:00:00.000000000",
          "2023-02-25T00:00:00.000000000",
          "2023-02-26T00:00:00.000000000",
          "2023-02-27T00:00:00.000000000",
          "2023-02-28T00:00:00.000000000",
          "2023-03-01T00:00:00.000000000",
          "2023-03-02T00:00:00.000000000",
          "2023-03-03T00:00:00.000000000",
          "2023-03-04T00:00:00.000000000",
          "2023-03-05T00:00:00.000000000",
          "2023-03-06T00:00:00.000000000",
          "2023-03-07T00:00:00.000000000",
          "2023-03-08T00:00:00.000000000",
          "2023-03-09T00:00:00.000000000",
          "2023-03-10T00:00:00.000000000",
          "2023-03-11T00:00:00.000000000",
          "2023-03-12T00:00:00.000000000",
          "2023-03-13T00:00:00.000000000",
          "2023-03-14T00:00:00.000000000",
          "2023-03-15T00:00:00.000000000",
          "2023-03-16T00:00:00.000000000",
          "2023-03-17T00:00:00.000000000",
          "2023-03-18T00:00:00.000000000",
          "2023-03-19T00:00:00.000000000",
          "2023-03-20T00:00:00.000000000",
          "2023-03-21T00:00:00.000000000",
          "2023-03-22T00:00:00.000000000",
          "2023-03-23T00:00:00.000000000",
          "2023-03-24T00:00:00.000000000",
          "2023-03-25T00:00:00.000000000",
          "2023-03-26T00:00:00.000000000",
          "2023-03-27T00:00:00.000000000",
          "2023-03-28T00:00:00.000000000",
          "2023-03-29T00:00:00.000000000",
          "2023-03-30T00:00:00.000000000",
          "2023-03-31T00:00:00.000000000",
          "2023-04-01T00:00:00.000000000",
          "2023-04-02T00:00:00.000000000",
          "2023-04-03T00:00:00.000000000",
          "2023-04-04T00:00:00.000000000",
          "2023-04-05T00:00:00.000000000",
          "2023-04-06T00:00:00.000000000",
          "2023-04-07T00:00:00.000000000",
          "2023-04-08T00:00:00.000000000",
          "2023-04-09T00:00:00.000000000",
          "2023-04-10T00:00:00.000000000",
          "2023-04-11T00:00:00.000000000",
          "2023-04-12T00:00:00.000000000",
          "2023-04-13T00:00:00.000000000",
          "2023-04-14T00:00:00.000000000",
          "2023-04-15T00:00:00.000000000",
          "2023-04-16T00:00:00.000000000",
          "2023-04-17T00:00:00.000000000",
          "2023-04-18T00:00:00.000000000",
          "2023-04-19T00:00:00.000000000",
          "2023-04-20T00:00:00.000000000",
          "2023-04-21T00:00:00.000000000",
          "2023-04-22T00:00:00.000000000",
          "2023-04-23T00:00:00.000000000",
          "2023-04-24T00:00:00.000000000",
          "2023-04-25T00:00:00.000000000",
          "2023-04-26T00:00:00.000000000",
          "2023-04-27T00:00:00.000000000",
          "2023-04-28T00:00:00.000000000",
          "2023-04-29T00:00:00.000000000",
          "2023-04-30T00:00:00.000000000",
          "2023-05-01T00:00:00.000000000",
          "2023-05-02T00:00:00.000000000",
          "2023-05-03T00:00:00.000000000",
          "2023-05-04T00:00:00.000000000",
          "2023-05-05T00:00:00.000000000",
          "2023-05-06T00:00:00.000000000",
          "2023-05-07T00:00:00.000000000",
          "2023-05-08T00:00:00.000000000",
          "2023-05-09T00:00:00.000000000"
         ],
         "y": [
          -0.006865324333805371,
          -0.004446386655602778,
          0.5465318879899561,
          0.5780976880528068,
          0.5948896393577623,
          0.6532933983457121,
          0.9307110764406468,
          0.9229730004988381,
          1.1488435115472815,
          1.1278920112300639,
          1.1325447320648563,
          1.11056551435774,
          1.2680882164597,
          1.7679916270891858,
          2.2971095555410734,
          2.4117761878616597,
          2.533259871943648,
          2.5519025663261576,
          2.571249410115627,
          2.5930008388334618,
          2.625319657061289,
          2.999151527985561,
          4.4546582358376465,
          4.6481069274792475,
          4.804951855226006,
          5.051761025022414,
          5.115751337835308,
          5.22624100576142,
          5.256887309228519,
          5.4491141276904775,
          5.4594046585294125,
          5.47225302475231,
          5.452619499406091,
          5.515507464267253,
          5.668137163452431,
          6.044884051732353,
          6.05865745436572,
          6.050853752537645,
          6.09174944579889,
          6.09483952242534,
          6.071891530355551,
          6.1455121106447255,
          6.444348680778703,
          6.468805053207151,
          6.46406205490248,
          6.518885997938743,
          6.564068354204047,
          6.599861541397424,
          6.722260632535929,
          6.9718205183357105,
          6.963309871088821,
          6.944231694737507,
          7.157453586990693,
          7.226476664736435,
          7.253128260027176,
          7.3739313401120965,
          7.504661352762389,
          7.568046301944204,
          7.652036113311016,
          7.735985103163965,
          7.790254415450657,
          8.007430002529636,
          8.110228072521192,
          8.130351885899373,
          8.151999716711018,
          8.142749389271694,
          8.284050101602089,
          8.447541910498082,
          8.84351037834126,
          8.85407888584898,
          9.049562152727477,
          9.493783320174861,
          9.546624465621834,
          9.535831380416203,
          9.51330383334244,
          9.512819508773097,
          9.729034124183109,
          9.99410444185183,
          10.01717606591235,
          10.062411904381168,
          10.18240445235997,
          10.747199347274169,
          11.041733518961632,
          11.286478832350314,
          11.577449468689515,
          11.837995263450132,
          11.983358411844632,
          12.001173518215273,
          12.08049531401648,
          12.36276486925181,
          12.653167355527437,
          12.686603736999198,
          13.076664083606106,
          13.181937196968379,
          13.326239446941667,
          14.11569048973624,
          14.857520014669367,
          15.699158082679624,
          15.969296506945954,
          16.788643347103278,
          16.83082447009819,
          17.433740328297837,
          17.488891243487586,
          17.790115705337886,
          17.846677268007326,
          17.806581364100865,
          18.480337254937872,
          18.79524018336052,
          18.935866644970737,
          19.04862247397408,
          19.131563487678303,
          19.13579122515811,
          19.582859005362934,
          19.734969089054285,
          19.934875048149895,
          20.42304361082765,
          20.59431395753904,
          20.928631686556777,
          21.057091029884408,
          21.002848150635618,
          21.350857029830596,
          21.59435251416678,
          21.750069835205863,
          22.187311721832355,
          22.922997188153186,
          23.508747283198947,
          23.777567028282956,
          23.9130925458063,
          24.056182452059133,
          24.39568034205116,
          24.715067558031716,
          24.78782853336894,
          24.86838991393846,
          24.97554896736315,
          25.533950840148638,
          26.03316254796533,
          26.615211486323474,
          26.763496636040717,
          26.89561609364494,
          27.52733786020625,
          28.716678112643887,
          29.24440108756163,
          29.443994163885034,
          29.824592159971427,
          30.10156989915983,
          30.25434959851097,
          30.488670138116316,
          30.84937635747054,
          31.473443131103025,
          32.609348321514744,
          32.912877625554074,
          33.51930490858317,
          33.675786407652275,
          33.80381414429056,
          33.87381039972846,
          33.99038756201111,
          34.44561720086113,
          34.96561598551845,
          35.22866168390663,
          35.51042125605025,
          35.87377785029739
         ]
        },
        {
         "line": {
          "color": "rgb(199,233,192)"
         },
         "name": "SOS Sublimation (3m uw)",
         "type": "scatter",
         "x": [
          "2022-11-30T00:00:00.000000000",
          "2022-12-01T00:00:00.000000000",
          "2022-12-02T00:00:00.000000000",
          "2022-12-03T00:00:00.000000000",
          "2022-12-04T00:00:00.000000000",
          "2022-12-05T00:00:00.000000000",
          "2022-12-06T00:00:00.000000000",
          "2022-12-07T00:00:00.000000000",
          "2022-12-08T00:00:00.000000000",
          "2022-12-09T00:00:00.000000000",
          "2022-12-10T00:00:00.000000000",
          "2022-12-11T00:00:00.000000000",
          "2022-12-12T00:00:00.000000000",
          "2022-12-13T00:00:00.000000000",
          "2022-12-14T00:00:00.000000000",
          "2022-12-15T00:00:00.000000000",
          "2022-12-16T00:00:00.000000000",
          "2022-12-17T00:00:00.000000000",
          "2022-12-18T00:00:00.000000000",
          "2022-12-19T00:00:00.000000000",
          "2022-12-20T00:00:00.000000000",
          "2022-12-21T00:00:00.000000000",
          "2022-12-22T00:00:00.000000000",
          "2022-12-23T00:00:00.000000000",
          "2022-12-24T00:00:00.000000000",
          "2022-12-25T00:00:00.000000000",
          "2022-12-26T00:00:00.000000000",
          "2022-12-27T00:00:00.000000000",
          "2022-12-28T00:00:00.000000000",
          "2022-12-29T00:00:00.000000000",
          "2022-12-30T00:00:00.000000000",
          "2022-12-31T00:00:00.000000000",
          "2023-01-01T00:00:00.000000000",
          "2023-01-02T00:00:00.000000000",
          "2023-01-03T00:00:00.000000000",
          "2023-01-04T00:00:00.000000000",
          "2023-01-05T00:00:00.000000000",
          "2023-01-06T00:00:00.000000000",
          "2023-01-07T00:00:00.000000000",
          "2023-01-08T00:00:00.000000000",
          "2023-01-09T00:00:00.000000000",
          "2023-01-10T00:00:00.000000000",
          "2023-01-11T00:00:00.000000000",
          "2023-01-12T00:00:00.000000000",
          "2023-01-13T00:00:00.000000000",
          "2023-01-14T00:00:00.000000000",
          "2023-01-15T00:00:00.000000000",
          "2023-01-16T00:00:00.000000000",
          "2023-01-17T00:00:00.000000000",
          "2023-01-18T00:00:00.000000000",
          "2023-01-19T00:00:00.000000000",
          "2023-01-20T00:00:00.000000000",
          "2023-01-21T00:00:00.000000000",
          "2023-01-22T00:00:00.000000000",
          "2023-01-23T00:00:00.000000000",
          "2023-01-24T00:00:00.000000000",
          "2023-01-25T00:00:00.000000000",
          "2023-01-26T00:00:00.000000000",
          "2023-01-27T00:00:00.000000000",
          "2023-01-28T00:00:00.000000000",
          "2023-01-29T00:00:00.000000000",
          "2023-01-30T00:00:00.000000000",
          "2023-01-31T00:00:00.000000000",
          "2023-02-01T00:00:00.000000000",
          "2023-02-02T00:00:00.000000000",
          "2023-02-03T00:00:00.000000000",
          "2023-02-04T00:00:00.000000000",
          "2023-02-05T00:00:00.000000000",
          "2023-02-06T00:00:00.000000000",
          "2023-02-07T00:00:00.000000000",
          "2023-02-08T00:00:00.000000000",
          "2023-02-09T00:00:00.000000000",
          "2023-02-10T00:00:00.000000000",
          "2023-02-11T00:00:00.000000000",
          "2023-02-12T00:00:00.000000000",
          "2023-02-13T00:00:00.000000000",
          "2023-02-14T00:00:00.000000000",
          "2023-02-15T00:00:00.000000000",
          "2023-02-16T00:00:00.000000000",
          "2023-02-17T00:00:00.000000000",
          "2023-02-18T00:00:00.000000000",
          "2023-02-19T00:00:00.000000000",
          "2023-02-20T00:00:00.000000000",
          "2023-02-21T00:00:00.000000000",
          "2023-02-22T00:00:00.000000000",
          "2023-02-23T00:00:00.000000000",
          "2023-02-24T00:00:00.000000000",
          "2023-02-25T00:00:00.000000000",
          "2023-02-26T00:00:00.000000000",
          "2023-02-27T00:00:00.000000000",
          "2023-02-28T00:00:00.000000000",
          "2023-03-01T00:00:00.000000000",
          "2023-03-02T00:00:00.000000000",
          "2023-03-03T00:00:00.000000000",
          "2023-03-04T00:00:00.000000000",
          "2023-03-05T00:00:00.000000000",
          "2023-03-06T00:00:00.000000000",
          "2023-03-07T00:00:00.000000000",
          "2023-03-08T00:00:00.000000000",
          "2023-03-09T00:00:00.000000000",
          "2023-03-10T00:00:00.000000000",
          "2023-03-11T00:00:00.000000000",
          "2023-03-12T00:00:00.000000000",
          "2023-03-13T00:00:00.000000000",
          "2023-03-14T00:00:00.000000000",
          "2023-03-15T00:00:00.000000000",
          "2023-03-16T00:00:00.000000000",
          "2023-03-17T00:00:00.000000000",
          "2023-03-18T00:00:00.000000000",
          "2023-03-19T00:00:00.000000000",
          "2023-03-20T00:00:00.000000000",
          "2023-03-21T00:00:00.000000000",
          "2023-03-22T00:00:00.000000000",
          "2023-03-23T00:00:00.000000000",
          "2023-03-24T00:00:00.000000000",
          "2023-03-25T00:00:00.000000000",
          "2023-03-26T00:00:00.000000000",
          "2023-03-27T00:00:00.000000000",
          "2023-03-28T00:00:00.000000000",
          "2023-03-29T00:00:00.000000000",
          "2023-03-30T00:00:00.000000000",
          "2023-03-31T00:00:00.000000000",
          "2023-04-01T00:00:00.000000000",
          "2023-04-02T00:00:00.000000000",
          "2023-04-03T00:00:00.000000000",
          "2023-04-04T00:00:00.000000000",
          "2023-04-05T00:00:00.000000000",
          "2023-04-06T00:00:00.000000000",
          "2023-04-07T00:00:00.000000000",
          "2023-04-08T00:00:00.000000000",
          "2023-04-09T00:00:00.000000000",
          "2023-04-10T00:00:00.000000000",
          "2023-04-11T00:00:00.000000000",
          "2023-04-12T00:00:00.000000000",
          "2023-04-13T00:00:00.000000000",
          "2023-04-14T00:00:00.000000000",
          "2023-04-15T00:00:00.000000000",
          "2023-04-16T00:00:00.000000000",
          "2023-04-17T00:00:00.000000000",
          "2023-04-18T00:00:00.000000000",
          "2023-04-19T00:00:00.000000000",
          "2023-04-20T00:00:00.000000000",
          "2023-04-21T00:00:00.000000000",
          "2023-04-22T00:00:00.000000000",
          "2023-04-23T00:00:00.000000000",
          "2023-04-24T00:00:00.000000000",
          "2023-04-25T00:00:00.000000000",
          "2023-04-26T00:00:00.000000000",
          "2023-04-27T00:00:00.000000000",
          "2023-04-28T00:00:00.000000000",
          "2023-04-29T00:00:00.000000000",
          "2023-04-30T00:00:00.000000000",
          "2023-05-01T00:00:00.000000000",
          "2023-05-02T00:00:00.000000000",
          "2023-05-03T00:00:00.000000000",
          "2023-05-04T00:00:00.000000000",
          "2023-05-05T00:00:00.000000000",
          "2023-05-06T00:00:00.000000000",
          "2023-05-07T00:00:00.000000000",
          "2023-05-08T00:00:00.000000000",
          "2023-05-09T00:00:00.000000000"
         ],
         "y": [
          -0.010847689804541004,
          -0.007633600023649274,
          0.43811409651209293,
          0.442173048412638,
          0.4508194553379356,
          0.506658747245095,
          0.7519406284681311,
          0.7837852512071144,
          0.9225338428360877,
          0.895004023899451,
          0.849867343742938,
          0.8118954028145486,
          1.0431727771542916,
          1.4117393872704957,
          1.8443323414388721,
          1.9282474028708727,
          2.0226197933072436,
          2.0264576869014115,
          2.032851170999387,
          2.044539669224465,
          2.064886584850043,
          2.4658891465709405,
          3.649142256289828,
          3.8724924050715472,
          4.046238928420531,
          4.191841541937562,
          4.254015584166814,
          4.294724322118885,
          4.298055177784742,
          4.432155897999106,
          4.420111057939682,
          4.433049012200329,
          4.4854550275343055,
          4.5195844164606775,
          4.603394867074623,
          4.901231024586266,
          4.906137985266736,
          4.8998679049021465,
          4.876756291555863,
          4.843514752512347,
          4.849791795193865,
          4.985725258163804,
          5.215734521815084,
          5.226304736487004,
          5.200120981819549,
          5.247028681231905,
          5.279753324234822,
          5.303419236704303,
          5.3735878318473045,
          5.5757128324446015,
          5.539109296061654,
          5.525118027105749,
          5.594829086012027,
          5.658660355242784,
          5.665944549890616,
          5.736265376040216,
          5.833922367482762,
          5.856765437387787,
          5.9047831239875626,
          6.018169756721332,
          6.093442379407738,
          6.310509834038513,
          6.368687045709598,
          6.3711118206185775,
          6.3780015340594645,
          6.360794298090738,
          6.543514244055833,
          6.711893436956556,
          7.078881509750136,
          7.068034135253845,
          7.244142974810868,
          7.594740538242549,
          7.636291571425699,
          7.632340245028826,
          7.652921114546388,
          7.643927524599587,
          7.822748588491348,
          8.051440398843482,
          8.061842155454036,
          8.108713093170174,
          8.186298602888943,
          8.677864471151967,
          8.973327382612108,
          9.21792128510064,
          9.480602794966599,
          9.704383457801661,
          9.807155559179279,
          9.835680219053625,
          9.926533802918543,
          10.183208737899532,
          10.365360161248692,
          10.390909879527022,
          10.7902912945231,
          10.856602720882481,
          11.026153189249667,
          11.832407307741446,
          12.596224967766759,
          13.532777304322494,
          13.857409197511243,
          14.687523135945987,
          14.729959036615526,
          15.328728030730002,
          15.279226910941492,
          15.796472523539704,
          15.884921642202112,
          15.881719735971778,
          16.419452554660253,
          16.666992675214793,
          16.795731887122642,
          16.93487645426513,
          17.00057663549019,
          17.10553123559277,
          17.360990800636745,
          17.48243781353506,
          17.669915515630148,
          17.96484018395249,
          18.010152526720226,
          18.281312428942847,
          18.42498091451202,
          18.537724390462586,
          18.89370798417863,
          19.08765696309235,
          19.249690203923524,
          19.727350505628802,
          20.54164917224996,
          21.05802582519114,
          21.282889943717187,
          21.409169558325285,
          21.58302886021233,
          21.931850408948545,
          22.400835526919256,
          22.543231237785715,
          22.714918642435002,
          22.929633654760632,
          23.410416737269834,
          23.977029201458635,
          24.504738192929466,
          24.753791551107412,
          24.993928951358875,
          25.588636723293256,
          26.702515553073063,
          27.192496399061948,
          27.424780725337925,
          27.812770203334676,
          28.11490855335573,
          28.359670709743607,
          28.675112834095668,
          29.07227532047256,
          29.712957958870962,
          30.63305067379221,
          31.10680691441524,
          31.812100270007083,
          32.0427060101608,
          32.27395982953355,
          32.386019054889836,
          32.55124313588181,
          33.0775166724559,
          33.5785386907164,
          33.92411606246974,
          34.3157533005426,
          34.80706105969707
         ]
        },
        {
         "line": {
          "color": "rgb(252,146,114)"
         },
         "name": "SOS Sublimation (10m ue)",
         "type": "scatter",
         "x": [
          "2022-11-30T00:00:00.000000000",
          "2022-12-01T00:00:00.000000000",
          "2022-12-02T00:00:00.000000000",
          "2022-12-03T00:00:00.000000000",
          "2022-12-04T00:00:00.000000000",
          "2022-12-05T00:00:00.000000000",
          "2022-12-06T00:00:00.000000000",
          "2022-12-07T00:00:00.000000000",
          "2022-12-08T00:00:00.000000000",
          "2022-12-09T00:00:00.000000000",
          "2022-12-10T00:00:00.000000000",
          "2022-12-11T00:00:00.000000000",
          "2022-12-12T00:00:00.000000000",
          "2022-12-13T00:00:00.000000000",
          "2022-12-14T00:00:00.000000000",
          "2022-12-15T00:00:00.000000000",
          "2022-12-16T00:00:00.000000000",
          "2022-12-17T00:00:00.000000000",
          "2022-12-18T00:00:00.000000000",
          "2022-12-19T00:00:00.000000000",
          "2022-12-20T00:00:00.000000000",
          "2022-12-21T00:00:00.000000000",
          "2022-12-22T00:00:00.000000000",
          "2022-12-23T00:00:00.000000000",
          "2022-12-24T00:00:00.000000000",
          "2022-12-25T00:00:00.000000000",
          "2022-12-26T00:00:00.000000000",
          "2022-12-27T00:00:00.000000000",
          "2022-12-28T00:00:00.000000000",
          "2022-12-29T00:00:00.000000000",
          "2022-12-30T00:00:00.000000000",
          "2022-12-31T00:00:00.000000000",
          "2023-01-01T00:00:00.000000000",
          "2023-01-02T00:00:00.000000000",
          "2023-01-03T00:00:00.000000000",
          "2023-01-04T00:00:00.000000000",
          "2023-01-05T00:00:00.000000000",
          "2023-01-06T00:00:00.000000000",
          "2023-01-07T00:00:00.000000000",
          "2023-01-08T00:00:00.000000000",
          "2023-01-09T00:00:00.000000000",
          "2023-01-10T00:00:00.000000000",
          "2023-01-11T00:00:00.000000000",
          "2023-01-12T00:00:00.000000000",
          "2023-01-13T00:00:00.000000000",
          "2023-01-14T00:00:00.000000000",
          "2023-01-15T00:00:00.000000000",
          "2023-01-16T00:00:00.000000000",
          "2023-01-17T00:00:00.000000000",
          "2023-01-18T00:00:00.000000000",
          "2023-01-19T00:00:00.000000000",
          "2023-01-20T00:00:00.000000000",
          "2023-01-21T00:00:00.000000000",
          "2023-01-22T00:00:00.000000000",
          "2023-01-23T00:00:00.000000000",
          "2023-01-24T00:00:00.000000000",
          "2023-01-25T00:00:00.000000000",
          "2023-01-26T00:00:00.000000000",
          "2023-01-27T00:00:00.000000000",
          "2023-01-28T00:00:00.000000000",
          "2023-01-29T00:00:00.000000000",
          "2023-01-30T00:00:00.000000000",
          "2023-01-31T00:00:00.000000000",
          "2023-02-01T00:00:00.000000000",
          "2023-02-02T00:00:00.000000000",
          "2023-02-03T00:00:00.000000000",
          "2023-02-04T00:00:00.000000000",
          "2023-02-05T00:00:00.000000000",
          "2023-02-06T00:00:00.000000000",
          "2023-02-07T00:00:00.000000000",
          "2023-02-08T00:00:00.000000000",
          "2023-02-09T00:00:00.000000000",
          "2023-02-10T00:00:00.000000000",
          "2023-02-11T00:00:00.000000000",
          "2023-02-12T00:00:00.000000000",
          "2023-02-13T00:00:00.000000000",
          "2023-02-14T00:00:00.000000000",
          "2023-02-15T00:00:00.000000000",
          "2023-02-16T00:00:00.000000000",
          "2023-02-17T00:00:00.000000000",
          "2023-02-18T00:00:00.000000000",
          "2023-02-19T00:00:00.000000000",
          "2023-02-20T00:00:00.000000000",
          "2023-02-21T00:00:00.000000000",
          "2023-02-22T00:00:00.000000000",
          "2023-02-23T00:00:00.000000000",
          "2023-02-24T00:00:00.000000000",
          "2023-02-25T00:00:00.000000000",
          "2023-02-26T00:00:00.000000000",
          "2023-02-27T00:00:00.000000000",
          "2023-02-28T00:00:00.000000000",
          "2023-03-01T00:00:00.000000000",
          "2023-03-02T00:00:00.000000000",
          "2023-03-03T00:00:00.000000000",
          "2023-03-04T00:00:00.000000000",
          "2023-03-05T00:00:00.000000000",
          "2023-03-06T00:00:00.000000000",
          "2023-03-07T00:00:00.000000000",
          "2023-03-08T00:00:00.000000000",
          "2023-03-09T00:00:00.000000000",
          "2023-03-10T00:00:00.000000000",
          "2023-03-11T00:00:00.000000000",
          "2023-03-12T00:00:00.000000000",
          "2023-03-13T00:00:00.000000000",
          "2023-03-14T00:00:00.000000000",
          "2023-03-15T00:00:00.000000000",
          "2023-03-16T00:00:00.000000000",
          "2023-03-17T00:00:00.000000000",
          "2023-03-18T00:00:00.000000000",
          "2023-03-19T00:00:00.000000000",
          "2023-03-20T00:00:00.000000000",
          "2023-03-21T00:00:00.000000000",
          "2023-03-22T00:00:00.000000000",
          "2023-03-23T00:00:00.000000000",
          "2023-03-24T00:00:00.000000000",
          "2023-03-25T00:00:00.000000000",
          "2023-03-26T00:00:00.000000000",
          "2023-03-27T00:00:00.000000000",
          "2023-03-28T00:00:00.000000000",
          "2023-03-29T00:00:00.000000000",
          "2023-03-30T00:00:00.000000000",
          "2023-03-31T00:00:00.000000000",
          "2023-04-01T00:00:00.000000000",
          "2023-04-02T00:00:00.000000000",
          "2023-04-03T00:00:00.000000000",
          "2023-04-04T00:00:00.000000000",
          "2023-04-05T00:00:00.000000000",
          "2023-04-06T00:00:00.000000000",
          "2023-04-07T00:00:00.000000000",
          "2023-04-08T00:00:00.000000000",
          "2023-04-09T00:00:00.000000000",
          "2023-04-10T00:00:00.000000000",
          "2023-04-11T00:00:00.000000000",
          "2023-04-12T00:00:00.000000000",
          "2023-04-13T00:00:00.000000000",
          "2023-04-14T00:00:00.000000000",
          "2023-04-15T00:00:00.000000000",
          "2023-04-16T00:00:00.000000000",
          "2023-04-17T00:00:00.000000000",
          "2023-04-18T00:00:00.000000000",
          "2023-04-19T00:00:00.000000000",
          "2023-04-20T00:00:00.000000000",
          "2023-04-21T00:00:00.000000000",
          "2023-04-22T00:00:00.000000000",
          "2023-04-23T00:00:00.000000000",
          "2023-04-24T00:00:00.000000000",
          "2023-04-25T00:00:00.000000000",
          "2023-04-26T00:00:00.000000000",
          "2023-04-27T00:00:00.000000000",
          "2023-04-28T00:00:00.000000000",
          "2023-04-29T00:00:00.000000000",
          "2023-04-30T00:00:00.000000000",
          "2023-05-01T00:00:00.000000000",
          "2023-05-02T00:00:00.000000000",
          "2023-05-03T00:00:00.000000000",
          "2023-05-04T00:00:00.000000000",
          "2023-05-05T00:00:00.000000000",
          "2023-05-06T00:00:00.000000000",
          "2023-05-07T00:00:00.000000000",
          "2023-05-08T00:00:00.000000000",
          "2023-05-09T00:00:00.000000000"
         ],
         "y": [
          -0.018874116396132037,
          -0.06419468142580156,
          0.4650185339104712,
          0.49642255467095536,
          0.5134609438843465,
          0.6694287100479904,
          0.9504227299700517,
          0.9480881241524352,
          1.1368163476019715,
          1.1420461579840873,
          1.1132857963704834,
          1.0615723438094917,
          1.1804863285616718,
          1.609660376498542,
          2.109355133795415,
          2.22361762180129,
          2.3066849840827257,
          2.305717604139653,
          2.3153127157995868,
          2.319791278093453,
          2.340755792773237,
          2.847481479657007,
          4.179825493528632,
          4.302868332671356,
          4.435804554931059,
          4.650177723764436,
          4.740076123121303,
          4.820778604760424,
          4.858762362232621,
          4.999318358361236,
          5.0067267149181145,
          5.057620902011176,
          5.0869026476885155,
          5.1176900648441945,
          5.260939563640997,
          5.643539901009989,
          5.645676810495182,
          5.630587372776461,
          5.625638453867393,
          5.5924563969675125,
          5.5456073365841885,
          5.655299243841933,
          6.02168051990046,
          6.041635494592493,
          6.041669971455637,
          6.0854899799811015,
          6.168310731658532,
          6.21688797519562,
          6.453126332293764,
          6.67498056170584,
          6.65977480592672,
          6.644266740019909,
          6.7257196789309655,
          6.805521587790502,
          6.808382976747455,
          6.905210795422646,
          7.028065759638491,
          7.074934053631239,
          7.100455520195947,
          7.172331838693998,
          7.244220268615862,
          7.465851563743645,
          7.5063051713790365,
          7.50328299079416,
          7.5072226783259906,
          7.474619477680892,
          7.6116652918682135,
          7.797775284957676,
          8.208472818973249,
          8.234678559761269,
          8.362105155571081,
          8.789636151548851,
          8.819810811161853,
          8.804983058078808,
          8.768517872269634,
          8.778395927012278,
          8.915586801587228,
          9.149725228804257,
          9.168841892104064,
          9.16779093585102,
          9.210309584963955,
          9.716322104015761,
          10.081145879479784,
          10.280134771913819,
          10.56101335938549,
          10.739748645911424,
          10.781922865953815,
          10.77503668820601,
          10.836910075497302,
          11.07164362146912,
          11.267972363292795,
          11.2896100670204,
          11.620130692803148,
          11.674419593357765,
          11.858242786371711,
          12.613367878005214,
          13.138907649269596,
          13.930834966446083,
          14.11983200916317,
          14.922412680209764,
          14.918717296944893,
          15.452584537053113,
          15.498026072702302,
          15.71636459551696,
          15.766274569731264,
          15.767686812535246,
          16.496469049257936,
          16.780524749568055,
          16.86011233287745,
          16.95999474128488,
          16.979536826666074,
          17.210836367923175,
          17.486027549972633,
          17.6317504745697,
          17.770104757376963,
          18.078434606147106,
          18.140217430699654,
          18.2892333190611,
          18.386628755583867,
          18.341441205621642,
          18.625136839563922,
          18.864070667384418,
          19.019263944631334,
          19.428635909843965,
          20.196664867565694,
          20.66728403091271,
          20.86521242791039,
          20.98623647089859,
          21.082968296073673,
          21.399594677191537,
          21.76987361638616,
          21.825870020258588,
          21.882637213818263,
          21.910223518933254,
          22.443824172393636,
          22.940916349930784,
          23.492619745475544,
          23.61464666401804,
          23.7085769351184,
          24.234346637894568,
          25.310453056206214,
          25.76834886883137,
          25.94773380942094,
          26.2982978833284,
          26.513153868454303,
          26.642139408505606,
          26.836307669192312,
          27.120150680282304,
          27.697577137309647,
          28.76992319538228,
          29.0579797867003,
          29.62392039610549,
          29.716981228070242,
          29.76803596259974,
          29.807918272895492,
          29.846462288720282,
          30.26668710726148,
          30.754244030614526,
          31.007200366218157,
          31.23401845958602,
          31.496992798761514
         ]
        },
        {
         "line": {
          "color": "rgb(161,217,155)"
         },
         "name": "SOS Sublimation (3m ue)",
         "type": "scatter",
         "x": [
          "2022-11-30T00:00:00.000000000",
          "2022-12-01T00:00:00.000000000",
          "2022-12-02T00:00:00.000000000",
          "2022-12-03T00:00:00.000000000",
          "2022-12-04T00:00:00.000000000",
          "2022-12-05T00:00:00.000000000",
          "2022-12-06T00:00:00.000000000",
          "2022-12-07T00:00:00.000000000",
          "2022-12-08T00:00:00.000000000",
          "2022-12-09T00:00:00.000000000",
          "2022-12-10T00:00:00.000000000",
          "2022-12-11T00:00:00.000000000",
          "2022-12-12T00:00:00.000000000",
          "2022-12-13T00:00:00.000000000",
          "2022-12-14T00:00:00.000000000",
          "2022-12-15T00:00:00.000000000",
          "2022-12-16T00:00:00.000000000",
          "2022-12-17T00:00:00.000000000",
          "2022-12-18T00:00:00.000000000",
          "2022-12-19T00:00:00.000000000",
          "2022-12-20T00:00:00.000000000",
          "2022-12-21T00:00:00.000000000",
          "2022-12-22T00:00:00.000000000",
          "2022-12-23T00:00:00.000000000",
          "2022-12-24T00:00:00.000000000",
          "2022-12-25T00:00:00.000000000",
          "2022-12-26T00:00:00.000000000",
          "2022-12-27T00:00:00.000000000",
          "2022-12-28T00:00:00.000000000",
          "2022-12-29T00:00:00.000000000",
          "2022-12-30T00:00:00.000000000",
          "2022-12-31T00:00:00.000000000",
          "2023-01-01T00:00:00.000000000",
          "2023-01-02T00:00:00.000000000",
          "2023-01-03T00:00:00.000000000",
          "2023-01-04T00:00:00.000000000",
          "2023-01-05T00:00:00.000000000",
          "2023-01-06T00:00:00.000000000",
          "2023-01-07T00:00:00.000000000",
          "2023-01-08T00:00:00.000000000",
          "2023-01-09T00:00:00.000000000",
          "2023-01-10T00:00:00.000000000",
          "2023-01-11T00:00:00.000000000",
          "2023-01-12T00:00:00.000000000",
          "2023-01-13T00:00:00.000000000",
          "2023-01-14T00:00:00.000000000",
          "2023-01-15T00:00:00.000000000",
          "2023-01-16T00:00:00.000000000",
          "2023-01-17T00:00:00.000000000",
          "2023-01-18T00:00:00.000000000",
          "2023-01-19T00:00:00.000000000",
          "2023-01-20T00:00:00.000000000",
          "2023-01-21T00:00:00.000000000",
          "2023-01-22T00:00:00.000000000",
          "2023-01-23T00:00:00.000000000",
          "2023-01-24T00:00:00.000000000",
          "2023-01-25T00:00:00.000000000",
          "2023-01-26T00:00:00.000000000",
          "2023-01-27T00:00:00.000000000",
          "2023-01-28T00:00:00.000000000",
          "2023-01-29T00:00:00.000000000",
          "2023-01-30T00:00:00.000000000",
          "2023-01-31T00:00:00.000000000",
          "2023-02-01T00:00:00.000000000",
          "2023-02-02T00:00:00.000000000",
          "2023-02-03T00:00:00.000000000",
          "2023-02-04T00:00:00.000000000",
          "2023-02-05T00:00:00.000000000",
          "2023-02-06T00:00:00.000000000",
          "2023-02-07T00:00:00.000000000",
          "2023-02-08T00:00:00.000000000",
          "2023-02-09T00:00:00.000000000",
          "2023-02-10T00:00:00.000000000",
          "2023-02-11T00:00:00.000000000",
          "2023-02-12T00:00:00.000000000",
          "2023-02-13T00:00:00.000000000",
          "2023-02-14T00:00:00.000000000",
          "2023-02-15T00:00:00.000000000",
          "2023-02-16T00:00:00.000000000",
          "2023-02-17T00:00:00.000000000",
          "2023-02-18T00:00:00.000000000",
          "2023-02-19T00:00:00.000000000",
          "2023-02-20T00:00:00.000000000",
          "2023-02-21T00:00:00.000000000",
          "2023-02-22T00:00:00.000000000",
          "2023-02-23T00:00:00.000000000",
          "2023-02-24T00:00:00.000000000",
          "2023-02-25T00:00:00.000000000",
          "2023-02-26T00:00:00.000000000",
          "2023-02-27T00:00:00.000000000",
          "2023-02-28T00:00:00.000000000",
          "2023-03-01T00:00:00.000000000",
          "2023-03-02T00:00:00.000000000",
          "2023-03-03T00:00:00.000000000",
          "2023-03-04T00:00:00.000000000",
          "2023-03-05T00:00:00.000000000",
          "2023-03-06T00:00:00.000000000",
          "2023-03-07T00:00:00.000000000",
          "2023-03-08T00:00:00.000000000",
          "2023-03-09T00:00:00.000000000",
          "2023-03-10T00:00:00.000000000",
          "2023-03-11T00:00:00.000000000",
          "2023-03-12T00:00:00.000000000",
          "2023-03-13T00:00:00.000000000",
          "2023-03-14T00:00:00.000000000",
          "2023-03-15T00:00:00.000000000",
          "2023-03-16T00:00:00.000000000",
          "2023-03-17T00:00:00.000000000",
          "2023-03-18T00:00:00.000000000",
          "2023-03-19T00:00:00.000000000",
          "2023-03-20T00:00:00.000000000",
          "2023-03-21T00:00:00.000000000",
          "2023-03-22T00:00:00.000000000",
          "2023-03-23T00:00:00.000000000",
          "2023-03-24T00:00:00.000000000",
          "2023-03-25T00:00:00.000000000",
          "2023-03-26T00:00:00.000000000",
          "2023-03-27T00:00:00.000000000",
          "2023-03-28T00:00:00.000000000",
          "2023-03-29T00:00:00.000000000",
          "2023-03-30T00:00:00.000000000",
          "2023-03-31T00:00:00.000000000",
          "2023-04-01T00:00:00.000000000",
          "2023-04-02T00:00:00.000000000",
          "2023-04-03T00:00:00.000000000",
          "2023-04-04T00:00:00.000000000",
          "2023-04-05T00:00:00.000000000",
          "2023-04-06T00:00:00.000000000",
          "2023-04-07T00:00:00.000000000",
          "2023-04-08T00:00:00.000000000",
          "2023-04-09T00:00:00.000000000",
          "2023-04-10T00:00:00.000000000",
          "2023-04-11T00:00:00.000000000",
          "2023-04-12T00:00:00.000000000",
          "2023-04-13T00:00:00.000000000",
          "2023-04-14T00:00:00.000000000",
          "2023-04-15T00:00:00.000000000",
          "2023-04-16T00:00:00.000000000",
          "2023-04-17T00:00:00.000000000",
          "2023-04-18T00:00:00.000000000",
          "2023-04-19T00:00:00.000000000",
          "2023-04-20T00:00:00.000000000",
          "2023-04-21T00:00:00.000000000",
          "2023-04-22T00:00:00.000000000",
          "2023-04-23T00:00:00.000000000",
          "2023-04-24T00:00:00.000000000",
          "2023-04-25T00:00:00.000000000",
          "2023-04-26T00:00:00.000000000",
          "2023-04-27T00:00:00.000000000",
          "2023-04-28T00:00:00.000000000",
          "2023-04-29T00:00:00.000000000",
          "2023-04-30T00:00:00.000000000",
          "2023-05-01T00:00:00.000000000",
          "2023-05-02T00:00:00.000000000",
          "2023-05-03T00:00:00.000000000",
          "2023-05-04T00:00:00.000000000",
          "2023-05-05T00:00:00.000000000",
          "2023-05-06T00:00:00.000000000",
          "2023-05-07T00:00:00.000000000",
          "2023-05-08T00:00:00.000000000",
          "2023-05-09T00:00:00.000000000"
         ],
         "y": [
          -0.01002261036461872,
          -0.01717708836015802,
          0.43642727881719484,
          0.44515955138042446,
          0.4461343923117912,
          0.5564249675682595,
          0.8049016969623946,
          0.8411196491929329,
          0.9984741291341321,
          0.9871716506048016,
          0.9430399880236051,
          0.8963368871916315,
          1.0883282046988312,
          1.475033117016386,
          1.9319573287770195,
          2.0317499020610907,
          2.128889753469724,
          2.132983127769347,
          2.1400979518056613,
          2.1500420853313256,
          2.1699458766966484,
          2.4763021623532513,
          3.694011216849459,
          3.8839971522737597,
          4.03657680229959,
          4.2648922176287485,
          4.3217527175239,
          4.371573557842946,
          4.3803002731497305,
          4.506308533811185,
          4.5232691381500825,
          4.532172271900381,
          4.570306504286845,
          4.580456147624014,
          4.6711528886114735,
          4.986656354737866,
          4.977746168036803,
          4.987870861521378,
          4.97319276653439,
          4.937587890920667,
          4.936226082609971,
          5.079141131675007,
          5.284403938894847,
          5.302832462502982,
          5.278459502046706,
          5.32091318360305,
          5.341208275113993,
          5.347191196113773,
          5.582357885330004,
          5.80360479382336,
          5.760876747426666,
          5.739321202501014,
          5.862373913995897,
          5.951295480901485,
          5.961010197628332,
          6.081123734063222,
          6.18092555849782,
          6.225265256065712,
          6.30934296126358,
          6.429827586845475,
          6.508801395187877,
          6.718979955209145,
          6.765485562477693,
          6.771747149035521,
          6.782054430981687,
          6.760353820932115,
          6.938629554436104,
          7.1202601825875105,
          7.504960618073012,
          7.495698114781867,
          7.717355651321694,
          8.10316838054607,
          8.13830360756792,
          8.139675682008416,
          8.150787365003904,
          8.147912717076172,
          8.348793574088166,
          8.558964817634791,
          8.577896045620784,
          8.634270633800769,
          8.705635401058947,
          9.226242642512954,
          9.547587590674077,
          9.772120786316496,
          10.014175767193873,
          10.214684584314488,
          10.30118946077705,
          10.32863130439141,
          10.398817134806176,
          10.707228951193509,
          10.884833656025506,
          10.907531230934655,
          11.262303899271874,
          11.319705826624816,
          11.496424642346845,
          12.272376118251996,
          13.00579324822249,
          13.940387283262913,
          14.297158942813397,
          15.142974427817325,
          15.226411617356433,
          15.827427074474594,
          15.843483551754638,
          16.08246626632857,
          16.16152315268942,
          16.18450442660802,
          17.07254444275582,
          17.331551393837668,
          17.449409393190177,
          17.570489617284696,
          17.580748902035374,
          17.620631635646777,
          17.874223263016503,
          17.998132639714065,
          18.19160910159996,
          18.498840878775063,
          18.53123553995477,
          18.799598686785504,
          18.96935783591372,
          19.077975907747145,
          19.42994034142101,
          19.658402195778304,
          19.817722562588276,
          20.33478165119521,
          21.154878255079513,
          21.648453265796316,
          21.893405705691084,
          22.031788447861867,
          22.201415441998392,
          22.563298630592545,
          22.978358372959782,
          23.08791442436565,
          23.22186854386554,
          23.424651355867073,
          23.932771232471453,
          24.4742775217657,
          25.031131576698566,
          25.255661855609883,
          25.44555447218235,
          26.123334128325702,
          27.238822925180138,
          27.73850001172508,
          27.955628113590343,
          28.305591391280373,
          28.635737327864824,
          28.86537420609199,
          29.153030444808433,
          29.643703389407253,
          30.2469306319064,
          31.31158062815059,
          31.746561092833122,
          32.36316308737596,
          32.55202496768407,
          32.72841672448099,
          32.820148781869804,
          33.00114357013517,
          33.5474754253484,
          34.098004661134134,
          34.41420455855162,
          34.7395014478009,
          35.17740286005241
         ]
        },
        {
         "line": {
          "color": "rgb(251,106,74)"
         },
         "name": "SOS Sublimation (10m d)",
         "type": "scatter",
         "x": [
          "2022-11-30T00:00:00.000000000",
          "2022-12-01T00:00:00.000000000",
          "2022-12-02T00:00:00.000000000",
          "2022-12-03T00:00:00.000000000",
          "2022-12-04T00:00:00.000000000",
          "2022-12-05T00:00:00.000000000",
          "2022-12-06T00:00:00.000000000",
          "2022-12-07T00:00:00.000000000",
          "2022-12-08T00:00:00.000000000",
          "2022-12-09T00:00:00.000000000",
          "2022-12-10T00:00:00.000000000",
          "2022-12-11T00:00:00.000000000",
          "2022-12-12T00:00:00.000000000",
          "2022-12-13T00:00:00.000000000",
          "2022-12-14T00:00:00.000000000",
          "2022-12-15T00:00:00.000000000",
          "2022-12-16T00:00:00.000000000",
          "2022-12-17T00:00:00.000000000",
          "2022-12-18T00:00:00.000000000",
          "2022-12-19T00:00:00.000000000",
          "2022-12-20T00:00:00.000000000",
          "2022-12-21T00:00:00.000000000",
          "2022-12-22T00:00:00.000000000",
          "2022-12-23T00:00:00.000000000",
          "2022-12-24T00:00:00.000000000",
          "2022-12-25T00:00:00.000000000",
          "2022-12-26T00:00:00.000000000",
          "2022-12-27T00:00:00.000000000",
          "2022-12-28T00:00:00.000000000",
          "2022-12-29T00:00:00.000000000",
          "2022-12-30T00:00:00.000000000",
          "2022-12-31T00:00:00.000000000",
          "2023-01-01T00:00:00.000000000",
          "2023-01-02T00:00:00.000000000",
          "2023-01-03T00:00:00.000000000",
          "2023-01-04T00:00:00.000000000",
          "2023-01-05T00:00:00.000000000",
          "2023-01-06T00:00:00.000000000",
          "2023-01-07T00:00:00.000000000",
          "2023-01-08T00:00:00.000000000",
          "2023-01-09T00:00:00.000000000",
          "2023-01-10T00:00:00.000000000",
          "2023-01-11T00:00:00.000000000",
          "2023-01-12T00:00:00.000000000",
          "2023-01-13T00:00:00.000000000",
          "2023-01-14T00:00:00.000000000",
          "2023-01-15T00:00:00.000000000",
          "2023-01-16T00:00:00.000000000",
          "2023-01-17T00:00:00.000000000",
          "2023-01-18T00:00:00.000000000",
          "2023-01-19T00:00:00.000000000",
          "2023-01-20T00:00:00.000000000",
          "2023-01-21T00:00:00.000000000",
          "2023-01-22T00:00:00.000000000",
          "2023-01-23T00:00:00.000000000",
          "2023-01-24T00:00:00.000000000",
          "2023-01-25T00:00:00.000000000",
          "2023-01-26T00:00:00.000000000",
          "2023-01-27T00:00:00.000000000",
          "2023-01-28T00:00:00.000000000",
          "2023-01-29T00:00:00.000000000",
          "2023-01-30T00:00:00.000000000",
          "2023-01-31T00:00:00.000000000",
          "2023-02-01T00:00:00.000000000",
          "2023-02-02T00:00:00.000000000",
          "2023-02-03T00:00:00.000000000",
          "2023-02-04T00:00:00.000000000",
          "2023-02-05T00:00:00.000000000",
          "2023-02-06T00:00:00.000000000",
          "2023-02-07T00:00:00.000000000",
          "2023-02-08T00:00:00.000000000",
          "2023-02-09T00:00:00.000000000",
          "2023-02-10T00:00:00.000000000",
          "2023-02-11T00:00:00.000000000",
          "2023-02-12T00:00:00.000000000",
          "2023-02-13T00:00:00.000000000",
          "2023-02-14T00:00:00.000000000",
          "2023-02-15T00:00:00.000000000",
          "2023-02-16T00:00:00.000000000",
          "2023-02-17T00:00:00.000000000",
          "2023-02-18T00:00:00.000000000",
          "2023-02-19T00:00:00.000000000",
          "2023-02-20T00:00:00.000000000",
          "2023-02-21T00:00:00.000000000",
          "2023-02-22T00:00:00.000000000",
          "2023-02-23T00:00:00.000000000",
          "2023-02-24T00:00:00.000000000",
          "2023-02-25T00:00:00.000000000",
          "2023-02-26T00:00:00.000000000",
          "2023-02-27T00:00:00.000000000",
          "2023-02-28T00:00:00.000000000",
          "2023-03-01T00:00:00.000000000",
          "2023-03-02T00:00:00.000000000",
          "2023-03-03T00:00:00.000000000",
          "2023-03-04T00:00:00.000000000",
          "2023-03-05T00:00:00.000000000",
          "2023-03-06T00:00:00.000000000",
          "2023-03-07T00:00:00.000000000",
          "2023-03-08T00:00:00.000000000",
          "2023-03-09T00:00:00.000000000",
          "2023-03-10T00:00:00.000000000",
          "2023-03-11T00:00:00.000000000",
          "2023-03-12T00:00:00.000000000",
          "2023-03-13T00:00:00.000000000",
          "2023-03-14T00:00:00.000000000",
          "2023-03-15T00:00:00.000000000",
          "2023-03-16T00:00:00.000000000",
          "2023-03-17T00:00:00.000000000",
          "2023-03-18T00:00:00.000000000",
          "2023-03-19T00:00:00.000000000",
          "2023-03-20T00:00:00.000000000",
          "2023-03-21T00:00:00.000000000",
          "2023-03-22T00:00:00.000000000",
          "2023-03-23T00:00:00.000000000",
          "2023-03-24T00:00:00.000000000",
          "2023-03-25T00:00:00.000000000",
          "2023-03-26T00:00:00.000000000",
          "2023-03-27T00:00:00.000000000",
          "2023-03-28T00:00:00.000000000",
          "2023-03-29T00:00:00.000000000",
          "2023-03-30T00:00:00.000000000",
          "2023-03-31T00:00:00.000000000",
          "2023-04-01T00:00:00.000000000",
          "2023-04-02T00:00:00.000000000",
          "2023-04-03T00:00:00.000000000",
          "2023-04-04T00:00:00.000000000",
          "2023-04-05T00:00:00.000000000",
          "2023-04-06T00:00:00.000000000",
          "2023-04-07T00:00:00.000000000",
          "2023-04-08T00:00:00.000000000",
          "2023-04-09T00:00:00.000000000",
          "2023-04-10T00:00:00.000000000",
          "2023-04-11T00:00:00.000000000",
          "2023-04-12T00:00:00.000000000",
          "2023-04-13T00:00:00.000000000",
          "2023-04-14T00:00:00.000000000",
          "2023-04-15T00:00:00.000000000",
          "2023-04-16T00:00:00.000000000",
          "2023-04-17T00:00:00.000000000",
          "2023-04-18T00:00:00.000000000",
          "2023-04-19T00:00:00.000000000",
          "2023-04-20T00:00:00.000000000",
          "2023-04-21T00:00:00.000000000",
          "2023-04-22T00:00:00.000000000",
          "2023-04-23T00:00:00.000000000",
          "2023-04-24T00:00:00.000000000",
          "2023-04-25T00:00:00.000000000",
          "2023-04-26T00:00:00.000000000",
          "2023-04-27T00:00:00.000000000",
          "2023-04-28T00:00:00.000000000",
          "2023-04-29T00:00:00.000000000",
          "2023-04-30T00:00:00.000000000",
          "2023-05-01T00:00:00.000000000",
          "2023-05-02T00:00:00.000000000",
          "2023-05-03T00:00:00.000000000",
          "2023-05-04T00:00:00.000000000",
          "2023-05-05T00:00:00.000000000",
          "2023-05-06T00:00:00.000000000",
          "2023-05-07T00:00:00.000000000",
          "2023-05-08T00:00:00.000000000",
          "2023-05-09T00:00:00.000000000"
         ],
         "y": [
          0.006962884598727322,
          -0.022452022983123807,
          0.4729135675293959,
          0.4852400201480987,
          0.5005051562759502,
          0.5904772048847192,
          0.8492856053309524,
          0.8865943803406917,
          1.0813191746015733,
          1.089590521758943,
          1.0783933539061779,
          1.037254613072249,
          1.185932962524688,
          1.6217669714382028,
          2.067489691128296,
          2.196626476214793,
          2.3007159231379477,
          2.3123019304877523,
          2.3188124761238678,
          2.3365155502205432,
          2.3636843418118594,
          2.8349581928900838,
          4.214040008202577,
          4.39593483769024,
          4.539301448844404,
          4.781652034973991,
          4.844613378472617,
          4.9537518142090455,
          4.986364660639191,
          5.133752301192787,
          5.1039092862506825,
          5.121382521163634,
          5.090631723284148,
          5.147933876343072,
          5.285099487453659,
          5.628330345142127,
          5.627960943013018,
          5.642088244497506,
          5.65188478616794,
          5.6598582155481125,
          5.614103615425222,
          5.777060747397101,
          6.059099782891075,
          6.088396338780462,
          6.075843602648161,
          6.108530041609697,
          6.162019262519456,
          6.191479012911131,
          6.398656677921861,
          6.644968094135494,
          6.618488691424609,
          6.597732553325408,
          6.71761235661915,
          6.785437324123168,
          6.804213566994861,
          6.9231144882220805,
          7.0451928505560035,
          7.1039698913585845,
          7.140408659907744,
          7.247389899356492,
          7.321668909736715,
          7.532407018505797,
          7.615665549579677,
          7.6207165486989075,
          7.627996944797727,
          7.605367170604384,
          7.732930410692958,
          7.876889054103097,
          8.254459082431817,
          8.265540784589916,
          8.422733307455497,
          8.827932439825968,
          8.884273923884564,
          8.866042553422199,
          8.850006771975416,
          8.839740768416211,
          9.030823674019178,
          9.30973131780615,
          9.334731169073363,
          9.363036616002178,
          9.439030388496413,
          9.94392222519022,
          10.27364420090717,
          10.498775827244774,
          10.758455909311238,
          10.999937957227798,
          11.11797874221437,
          11.124059232905187,
          11.202824971680842,
          11.467259345253131,
          11.659160476115387,
          11.686168125224937,
          12.023945406357472,
          12.097849657809114,
          12.235971741175845,
          12.968238464626959,
          13.5430767797412,
          14.394949139068899,
          14.654297907530326,
          15.442335703846723,
          15.486203969895582,
          16.16656752621962,
          16.231158518989243,
          16.479195117068855,
          16.53340676032036,
          16.553591913631344,
          17.399508176856273,
          17.703051546580138,
          17.806388363731116,
          17.895616390259562,
          17.89997499159986,
          17.992098785067817,
          18.354642092027166,
          18.48626023293125,
          18.68195280163143,
          19.083754943947323,
          19.167445492658597,
          19.475043596327872,
          19.652406418267546,
          19.61274312721633,
          19.954056579141632,
          20.204703170517135,
          20.365964958014327,
          20.837094894156944,
          21.561015836270126,
          22.10995167517865,
          22.353301036587368,
          22.46120790830231,
          22.59756179699848,
          22.924097986223614,
          23.228707259291745,
          23.28194625119938,
          23.348758355869492,
          23.469426427377325,
          24.057593200988837,
          24.553622762874213,
          25.090119050738842,
          25.220318433368,
          25.33613754333443,
          25.97606011609328,
          27.050145001515187,
          27.545381877033567,
          27.742922905215824,
          28.062946173119617,
          28.318897353913044,
          28.46330912099824,
          28.63710439824869,
          29.124515367870934,
          29.67589259111903,
          30.673324949887224,
          30.978586428865793,
          31.522994704155963,
          31.649511853071264,
          31.727101699324603,
          31.767443248802888,
          31.889220675464696,
          32.31520707296301,
          32.77115426944987,
          33.039382601966686,
          33.28219957713571,
          33.5902317410829
         ]
        },
        {
         "line": {
          "color": "rgb(116,196,118)"
         },
         "name": "SOS Sublimation (3m d)",
         "type": "scatter",
         "x": [
          "2022-11-30T00:00:00.000000000",
          "2022-12-01T00:00:00.000000000",
          "2022-12-02T00:00:00.000000000",
          "2022-12-03T00:00:00.000000000",
          "2022-12-04T00:00:00.000000000",
          "2022-12-05T00:00:00.000000000",
          "2022-12-06T00:00:00.000000000",
          "2022-12-07T00:00:00.000000000",
          "2022-12-08T00:00:00.000000000",
          "2022-12-09T00:00:00.000000000",
          "2022-12-10T00:00:00.000000000",
          "2022-12-11T00:00:00.000000000",
          "2022-12-12T00:00:00.000000000",
          "2022-12-13T00:00:00.000000000",
          "2022-12-14T00:00:00.000000000",
          "2022-12-15T00:00:00.000000000",
          "2022-12-16T00:00:00.000000000",
          "2022-12-17T00:00:00.000000000",
          "2022-12-18T00:00:00.000000000",
          "2022-12-19T00:00:00.000000000",
          "2022-12-20T00:00:00.000000000",
          "2022-12-21T00:00:00.000000000",
          "2022-12-22T00:00:00.000000000",
          "2022-12-23T00:00:00.000000000",
          "2022-12-24T00:00:00.000000000",
          "2022-12-25T00:00:00.000000000",
          "2022-12-26T00:00:00.000000000",
          "2022-12-27T00:00:00.000000000",
          "2022-12-28T00:00:00.000000000",
          "2022-12-29T00:00:00.000000000",
          "2022-12-30T00:00:00.000000000",
          "2022-12-31T00:00:00.000000000",
          "2023-01-01T00:00:00.000000000",
          "2023-01-02T00:00:00.000000000",
          "2023-01-03T00:00:00.000000000",
          "2023-01-04T00:00:00.000000000",
          "2023-01-05T00:00:00.000000000",
          "2023-01-06T00:00:00.000000000",
          "2023-01-07T00:00:00.000000000",
          "2023-01-08T00:00:00.000000000",
          "2023-01-09T00:00:00.000000000",
          "2023-01-10T00:00:00.000000000",
          "2023-01-11T00:00:00.000000000",
          "2023-01-12T00:00:00.000000000",
          "2023-01-13T00:00:00.000000000",
          "2023-01-14T00:00:00.000000000",
          "2023-01-15T00:00:00.000000000",
          "2023-01-16T00:00:00.000000000",
          "2023-01-17T00:00:00.000000000",
          "2023-01-18T00:00:00.000000000",
          "2023-01-19T00:00:00.000000000",
          "2023-01-20T00:00:00.000000000",
          "2023-01-21T00:00:00.000000000",
          "2023-01-22T00:00:00.000000000",
          "2023-01-23T00:00:00.000000000",
          "2023-01-24T00:00:00.000000000",
          "2023-01-25T00:00:00.000000000",
          "2023-01-26T00:00:00.000000000",
          "2023-01-27T00:00:00.000000000",
          "2023-01-28T00:00:00.000000000",
          "2023-01-29T00:00:00.000000000",
          "2023-01-30T00:00:00.000000000",
          "2023-01-31T00:00:00.000000000",
          "2023-02-01T00:00:00.000000000",
          "2023-02-02T00:00:00.000000000",
          "2023-02-03T00:00:00.000000000",
          "2023-02-04T00:00:00.000000000",
          "2023-02-05T00:00:00.000000000",
          "2023-02-06T00:00:00.000000000",
          "2023-02-07T00:00:00.000000000",
          "2023-02-08T00:00:00.000000000",
          "2023-02-09T00:00:00.000000000",
          "2023-02-10T00:00:00.000000000",
          "2023-02-11T00:00:00.000000000",
          "2023-02-12T00:00:00.000000000",
          "2023-02-13T00:00:00.000000000",
          "2023-02-14T00:00:00.000000000",
          "2023-02-15T00:00:00.000000000",
          "2023-02-16T00:00:00.000000000",
          "2023-02-17T00:00:00.000000000",
          "2023-02-18T00:00:00.000000000",
          "2023-02-19T00:00:00.000000000",
          "2023-02-20T00:00:00.000000000",
          "2023-02-21T00:00:00.000000000",
          "2023-02-22T00:00:00.000000000",
          "2023-02-23T00:00:00.000000000",
          "2023-02-24T00:00:00.000000000",
          "2023-02-25T00:00:00.000000000",
          "2023-02-26T00:00:00.000000000",
          "2023-02-27T00:00:00.000000000",
          "2023-02-28T00:00:00.000000000",
          "2023-03-01T00:00:00.000000000",
          "2023-03-02T00:00:00.000000000",
          "2023-03-03T00:00:00.000000000",
          "2023-03-04T00:00:00.000000000",
          "2023-03-05T00:00:00.000000000",
          "2023-03-06T00:00:00.000000000",
          "2023-03-07T00:00:00.000000000",
          "2023-03-08T00:00:00.000000000",
          "2023-03-09T00:00:00.000000000",
          "2023-03-10T00:00:00.000000000",
          "2023-03-11T00:00:00.000000000",
          "2023-03-12T00:00:00.000000000",
          "2023-03-13T00:00:00.000000000",
          "2023-03-14T00:00:00.000000000",
          "2023-03-15T00:00:00.000000000",
          "2023-03-16T00:00:00.000000000",
          "2023-03-17T00:00:00.000000000",
          "2023-03-18T00:00:00.000000000",
          "2023-03-19T00:00:00.000000000",
          "2023-03-20T00:00:00.000000000",
          "2023-03-21T00:00:00.000000000",
          "2023-03-22T00:00:00.000000000",
          "2023-03-23T00:00:00.000000000",
          "2023-03-24T00:00:00.000000000",
          "2023-03-25T00:00:00.000000000",
          "2023-03-26T00:00:00.000000000",
          "2023-03-27T00:00:00.000000000",
          "2023-03-28T00:00:00.000000000",
          "2023-03-29T00:00:00.000000000",
          "2023-03-30T00:00:00.000000000",
          "2023-03-31T00:00:00.000000000",
          "2023-04-01T00:00:00.000000000",
          "2023-04-02T00:00:00.000000000",
          "2023-04-03T00:00:00.000000000",
          "2023-04-04T00:00:00.000000000",
          "2023-04-05T00:00:00.000000000",
          "2023-04-06T00:00:00.000000000",
          "2023-04-07T00:00:00.000000000",
          "2023-04-08T00:00:00.000000000",
          "2023-04-09T00:00:00.000000000",
          "2023-04-10T00:00:00.000000000",
          "2023-04-11T00:00:00.000000000",
          "2023-04-12T00:00:00.000000000",
          "2023-04-13T00:00:00.000000000",
          "2023-04-14T00:00:00.000000000",
          "2023-04-15T00:00:00.000000000",
          "2023-04-16T00:00:00.000000000",
          "2023-04-17T00:00:00.000000000",
          "2023-04-18T00:00:00.000000000",
          "2023-04-19T00:00:00.000000000",
          "2023-04-20T00:00:00.000000000",
          "2023-04-21T00:00:00.000000000",
          "2023-04-22T00:00:00.000000000",
          "2023-04-23T00:00:00.000000000",
          "2023-04-24T00:00:00.000000000",
          "2023-04-25T00:00:00.000000000",
          "2023-04-26T00:00:00.000000000",
          "2023-04-27T00:00:00.000000000",
          "2023-04-28T00:00:00.000000000",
          "2023-04-29T00:00:00.000000000",
          "2023-04-30T00:00:00.000000000",
          "2023-05-01T00:00:00.000000000",
          "2023-05-02T00:00:00.000000000",
          "2023-05-03T00:00:00.000000000",
          "2023-05-04T00:00:00.000000000",
          "2023-05-05T00:00:00.000000000",
          "2023-05-06T00:00:00.000000000",
          "2023-05-07T00:00:00.000000000",
          "2023-05-08T00:00:00.000000000",
          "2023-05-09T00:00:00.000000000"
         ],
         "y": [
          -0.0151468022275464,
          -0.031674584354455526,
          0.3777607102322679,
          0.37443888776055134,
          0.3739585828327233,
          0.4733109911708777,
          0.7342418057611124,
          0.7651556975718836,
          0.9176323677788635,
          0.8907964821481315,
          0.8354772213754658,
          0.7911623151783787,
          1.0060063097473249,
          1.398431395425421,
          1.8543265030548972,
          1.9634445170272976,
          2.0616443963215,
          2.0606397363314324,
          2.0586683492478013,
          2.071954900588099,
          2.068748345872771,
          2.343934037259961,
          3.4488694602467067,
          3.650241848905526,
          3.817915754650968,
          4.016813644693482,
          4.075367218782858,
          4.136672359106196,
          4.137650486278758,
          4.258256977379135,
          4.245958125776473,
          4.264563777054858,
          4.30022669017987,
          4.336583390519648,
          4.43471842543925,
          4.776518494389192,
          4.770077057622168,
          4.789558488242914,
          4.777847800873128,
          4.7304905358392215,
          4.730325800019109,
          4.901570179381842,
          5.10996563051953,
          5.121578561983631,
          5.094178443474763,
          5.108811007143558,
          5.162068444128302,
          5.1747833022941565,
          5.334602109215641,
          5.573756598748364,
          5.528642178393568,
          5.507936314729721,
          5.6267095261099485,
          5.70621981006315,
          5.705442458469699,
          5.808870315058105,
          5.918870710997883,
          5.941496924275107,
          6.0283441258225565,
          6.162085308880293,
          6.239766207434352,
          6.441634909407123,
          6.496658557499878,
          6.503780409977943,
          6.513498208528129,
          6.498138623796659,
          6.687520626895695,
          6.846217151217875,
          7.230355753856001,
          7.211922926145016,
          7.458540254853154,
          7.850900865036239,
          7.883971659845158,
          7.879414358881385,
          7.892794390885753,
          7.873233289619306,
          8.064019451003618,
          8.280124321836912,
          8.297454196707632,
          8.346024676924866,
          8.429324761184006,
          8.920765702230137,
          9.23263013021887,
          9.474346804032876,
          9.695723863108356,
          9.870642207173024,
          9.961908276532089,
          9.987630608134035,
          10.050437472169737,
          10.371697301324977,
          10.546357984128592,
          10.560882499486848,
          10.964722915605458,
          11.017757923118543,
          11.181604564481862,
          11.97441484886613,
          12.717987334810166,
          13.647622419425847,
          14.006965408173382,
          14.8401384908326,
          14.87993323933962,
          15.564840199786007,
          15.564679918097818,
          15.796453605428292,
          15.870693769684788,
          15.899625803274356,
          16.73071158652396,
          16.98316239076948,
          17.107871199225784,
          17.23643257108205,
          17.270089591378685,
          17.33179331327339,
          17.560637349276696,
          17.68264308956443,
          17.86778387809113,
          18.15405930407521,
          18.19257094708439,
          18.427888967686044,
          18.580511086309574,
          18.679622203268814,
          19.044339515542962,
          19.217827063566265,
          19.374763291588224,
          19.86950561581315,
          20.68791507453751,
          21.17560982150426,
          21.40610991381491,
          21.55940663940462,
          21.742741177186105,
          22.119204648410204,
          22.590425089667054,
          22.732974137565034,
          22.874243057768854,
          23.110793932247088,
          23.632888965752343,
          24.185721801239403,
          24.760086819268206,
          24.974530792968125,
          25.20116258336084,
          25.84388149305426,
          27.02578487892264,
          27.525188829772503,
          27.74087651956727,
          28.13557005640533,
          28.481437593445513,
          28.74644912983783,
          29.130987288146375,
          29.601215037429593,
          30.27020011382487,
          31.282254183377233,
          31.796801863457347,
          32.44963076565601,
          32.67160982553064,
          32.89217323252172,
          32.990224770216194,
          33.13551864126901,
          33.694448220261364,
          34.225767859538955,
          34.578595501106385,
          34.940077696893354,
          35.46074971237827
         ]
        },
        {
         "line": {
          "color": "rgb(239,59,44)"
         },
         "name": "SOS Sublimation (10m c)",
         "type": "scatter",
         "x": [
          "2022-11-30T00:00:00.000000000",
          "2022-12-01T00:00:00.000000000",
          "2022-12-02T00:00:00.000000000",
          "2022-12-03T00:00:00.000000000",
          "2022-12-04T00:00:00.000000000",
          "2022-12-05T00:00:00.000000000",
          "2022-12-06T00:00:00.000000000",
          "2022-12-07T00:00:00.000000000",
          "2022-12-08T00:00:00.000000000",
          "2022-12-09T00:00:00.000000000",
          "2022-12-10T00:00:00.000000000",
          "2022-12-11T00:00:00.000000000",
          "2022-12-12T00:00:00.000000000",
          "2022-12-13T00:00:00.000000000",
          "2022-12-14T00:00:00.000000000",
          "2022-12-15T00:00:00.000000000",
          "2022-12-16T00:00:00.000000000",
          "2022-12-17T00:00:00.000000000",
          "2022-12-18T00:00:00.000000000",
          "2022-12-19T00:00:00.000000000",
          "2022-12-20T00:00:00.000000000",
          "2022-12-21T00:00:00.000000000",
          "2022-12-22T00:00:00.000000000",
          "2022-12-23T00:00:00.000000000",
          "2022-12-24T00:00:00.000000000",
          "2022-12-25T00:00:00.000000000",
          "2022-12-26T00:00:00.000000000",
          "2022-12-27T00:00:00.000000000",
          "2022-12-28T00:00:00.000000000",
          "2022-12-29T00:00:00.000000000",
          "2022-12-30T00:00:00.000000000",
          "2022-12-31T00:00:00.000000000",
          "2023-01-01T00:00:00.000000000",
          "2023-01-02T00:00:00.000000000",
          "2023-01-03T00:00:00.000000000",
          "2023-01-04T00:00:00.000000000",
          "2023-01-05T00:00:00.000000000",
          "2023-01-06T00:00:00.000000000",
          "2023-01-07T00:00:00.000000000",
          "2023-01-08T00:00:00.000000000",
          "2023-01-09T00:00:00.000000000",
          "2023-01-10T00:00:00.000000000",
          "2023-01-11T00:00:00.000000000",
          "2023-01-12T00:00:00.000000000",
          "2023-01-13T00:00:00.000000000",
          "2023-01-14T00:00:00.000000000",
          "2023-01-15T00:00:00.000000000",
          "2023-01-16T00:00:00.000000000",
          "2023-01-17T00:00:00.000000000",
          "2023-01-18T00:00:00.000000000",
          "2023-01-19T00:00:00.000000000",
          "2023-01-20T00:00:00.000000000",
          "2023-01-21T00:00:00.000000000",
          "2023-01-22T00:00:00.000000000",
          "2023-01-23T00:00:00.000000000",
          "2023-01-24T00:00:00.000000000",
          "2023-01-25T00:00:00.000000000",
          "2023-01-26T00:00:00.000000000",
          "2023-01-27T00:00:00.000000000",
          "2023-01-28T00:00:00.000000000",
          "2023-01-29T00:00:00.000000000",
          "2023-01-30T00:00:00.000000000",
          "2023-01-31T00:00:00.000000000",
          "2023-02-01T00:00:00.000000000",
          "2023-02-02T00:00:00.000000000",
          "2023-02-03T00:00:00.000000000",
          "2023-02-04T00:00:00.000000000",
          "2023-02-05T00:00:00.000000000",
          "2023-02-06T00:00:00.000000000",
          "2023-02-07T00:00:00.000000000",
          "2023-02-08T00:00:00.000000000",
          "2023-02-09T00:00:00.000000000",
          "2023-02-10T00:00:00.000000000",
          "2023-02-11T00:00:00.000000000",
          "2023-02-12T00:00:00.000000000",
          "2023-02-13T00:00:00.000000000",
          "2023-02-14T00:00:00.000000000",
          "2023-02-15T00:00:00.000000000",
          "2023-02-16T00:00:00.000000000",
          "2023-02-17T00:00:00.000000000",
          "2023-02-18T00:00:00.000000000",
          "2023-02-19T00:00:00.000000000",
          "2023-02-20T00:00:00.000000000",
          "2023-02-21T00:00:00.000000000",
          "2023-02-22T00:00:00.000000000",
          "2023-02-23T00:00:00.000000000",
          "2023-02-24T00:00:00.000000000",
          "2023-02-25T00:00:00.000000000",
          "2023-02-26T00:00:00.000000000",
          "2023-02-27T00:00:00.000000000",
          "2023-02-28T00:00:00.000000000",
          "2023-03-01T00:00:00.000000000",
          "2023-03-02T00:00:00.000000000",
          "2023-03-03T00:00:00.000000000",
          "2023-03-04T00:00:00.000000000",
          "2023-03-05T00:00:00.000000000",
          "2023-03-06T00:00:00.000000000",
          "2023-03-07T00:00:00.000000000",
          "2023-03-08T00:00:00.000000000",
          "2023-03-09T00:00:00.000000000",
          "2023-03-10T00:00:00.000000000",
          "2023-03-11T00:00:00.000000000",
          "2023-03-12T00:00:00.000000000",
          "2023-03-13T00:00:00.000000000",
          "2023-03-14T00:00:00.000000000",
          "2023-03-15T00:00:00.000000000",
          "2023-03-16T00:00:00.000000000",
          "2023-03-17T00:00:00.000000000",
          "2023-03-18T00:00:00.000000000",
          "2023-03-19T00:00:00.000000000",
          "2023-03-20T00:00:00.000000000",
          "2023-03-21T00:00:00.000000000",
          "2023-03-22T00:00:00.000000000",
          "2023-03-23T00:00:00.000000000",
          "2023-03-24T00:00:00.000000000",
          "2023-03-25T00:00:00.000000000",
          "2023-03-26T00:00:00.000000000",
          "2023-03-27T00:00:00.000000000",
          "2023-03-28T00:00:00.000000000",
          "2023-03-29T00:00:00.000000000",
          "2023-03-30T00:00:00.000000000",
          "2023-03-31T00:00:00.000000000",
          "2023-04-01T00:00:00.000000000",
          "2023-04-02T00:00:00.000000000",
          "2023-04-03T00:00:00.000000000",
          "2023-04-04T00:00:00.000000000",
          "2023-04-05T00:00:00.000000000",
          "2023-04-06T00:00:00.000000000",
          "2023-04-07T00:00:00.000000000",
          "2023-04-08T00:00:00.000000000",
          "2023-04-09T00:00:00.000000000",
          "2023-04-10T00:00:00.000000000",
          "2023-04-11T00:00:00.000000000",
          "2023-04-12T00:00:00.000000000",
          "2023-04-13T00:00:00.000000000",
          "2023-04-14T00:00:00.000000000",
          "2023-04-15T00:00:00.000000000",
          "2023-04-16T00:00:00.000000000",
          "2023-04-17T00:00:00.000000000",
          "2023-04-18T00:00:00.000000000",
          "2023-04-19T00:00:00.000000000",
          "2023-04-20T00:00:00.000000000",
          "2023-04-21T00:00:00.000000000",
          "2023-04-22T00:00:00.000000000",
          "2023-04-23T00:00:00.000000000",
          "2023-04-24T00:00:00.000000000",
          "2023-04-25T00:00:00.000000000",
          "2023-04-26T00:00:00.000000000",
          "2023-04-27T00:00:00.000000000",
          "2023-04-28T00:00:00.000000000",
          "2023-04-29T00:00:00.000000000",
          "2023-04-30T00:00:00.000000000",
          "2023-05-01T00:00:00.000000000",
          "2023-05-02T00:00:00.000000000",
          "2023-05-03T00:00:00.000000000",
          "2023-05-04T00:00:00.000000000",
          "2023-05-05T00:00:00.000000000",
          "2023-05-06T00:00:00.000000000",
          "2023-05-07T00:00:00.000000000",
          "2023-05-08T00:00:00.000000000",
          "2023-05-09T00:00:00.000000000"
         ],
         "y": [
          0.008965160961560055,
          -0.05077149247644642,
          0.4904948440392516,
          0.5149084125147637,
          0.5177860487510472,
          0.6369268406660655,
          0.9702006413829336,
          0.9996171517000715,
          1.1979653850024339,
          1.2168138712806726,
          1.1818989663613397,
          1.1295135939464267,
          1.3058935840762043,
          1.8642579753152515,
          2.398288885728527,
          2.5076348003066635,
          2.626732288322159,
          2.638584697166271,
          2.6478888572651664,
          2.647086744533015,
          2.668204629074635,
          3.1323868603261227,
          4.799941101849663,
          5.00699777301021,
          5.175583114194473,
          5.43742914008207,
          5.507628731963444,
          5.597669947656341,
          5.634770114996317,
          5.837965812527231,
          5.864894347180056,
          5.808534145540472,
          5.806754065390073,
          5.871286074195039,
          5.998167684332024,
          6.441517862564528,
          6.4535920500615465,
          6.452609478965582,
          6.480841480867005,
          6.488844427493407,
          6.4304417748040885,
          6.60284765770495,
          6.939008400340259,
          6.989079703476482,
          6.98461053727513,
          7.026237293533523,
          7.116022320813179,
          7.139136455453445,
          7.207337364415302,
          7.4828837447801755,
          7.487648671017168,
          7.459785433480478,
          7.57126747798725,
          7.637363552548134,
          7.660979324469417,
          7.768823264992306,
          7.918367525308849,
          7.993027930335574,
          8.00977556445945,
          8.115754400997892,
          8.196314358728367,
          8.480226248714612,
          8.609994120003252,
          8.619145321136616,
          8.634852058130186,
          8.61038395782873,
          8.752237906048977,
          8.957736119720836,
          9.446011041921167,
          9.472387436780172,
          9.593739037605838,
          10.054743508332843,
          10.108214979986789,
          10.077933684108851,
          10.054033493460365,
          10.069432552518348,
          10.319754120727191,
          10.611933763093859,
          10.628584572331837,
          10.659490130487129,
          10.753627379630515,
          11.322495409287862,
          11.669039215823158,
          11.89934516862636,
          12.241176701220493,
          12.567591063782102,
          12.721961692585932,
          12.72655480886654,
          12.815142955106403,
          13.095770287175718,
          13.424117216172556,
          13.452192578974405,
          13.829199423283825,
          13.935457727324472,
          14.089969258015737,
          14.897679058177639,
          15.569663586813142,
          16.489647918333628,
          16.779768458145952,
          17.707265837323103,
          17.73944314123372,
          18.45956875783081,
          18.524487304119518,
          18.72915670626672,
          18.787748158115583,
          18.82122655796159,
          19.891349762977264,
          20.237463340769036,
          20.369856206659446,
          20.46330633137592,
          20.48173222816488,
          20.553658104469154,
          20.941823803806304,
          21.102153990336216,
          21.323396256107525,
          21.818569411386108,
          21.77837680241956,
          22.075584740722203,
          22.200630403614216,
          22.119467242429433,
          22.44891820801992,
          22.75917614077077,
          22.91419105470858,
          23.36104691103581,
          24.21529357232206,
          24.85529358288457,
          25.10945734290044,
          25.23433903800801,
          25.364034045072025,
          25.725346158131895,
          26.055122609474406,
          26.11965892620337,
          26.18305901108524,
          26.264469436009332,
          26.841917330686154,
          27.3733220686249,
          27.989972777527694,
          28.14133338186862,
          28.24641789714536,
          28.851428514884116,
          30.091256302955824,
          30.68473802347302,
          30.943730278359606,
          31.32213047788931,
          31.5754868715391,
          31.710201045147855,
          31.910476454879156,
          32.33306199708339,
          32.927522915007756,
          34.04953518850169,
          34.38358818742667,
          34.96112948049414,
          35.07209690457888,
          35.15148147907606,
          35.209246854560625,
          35.27673072125102,
          35.70139900218049,
          36.249281347694975,
          36.54148921827618,
          36.783455420193555,
          37.07241055172466
         ]
        },
        {
         "line": {
          "color": "rgb(65,171,93)"
         },
         "name": "SOS Sublimation (3m c)",
         "type": "scatter",
         "x": [
          "2022-11-30T00:00:00.000000000",
          "2022-12-01T00:00:00.000000000",
          "2022-12-02T00:00:00.000000000",
          "2022-12-03T00:00:00.000000000",
          "2022-12-04T00:00:00.000000000",
          "2022-12-05T00:00:00.000000000",
          "2022-12-06T00:00:00.000000000",
          "2022-12-07T00:00:00.000000000",
          "2022-12-08T00:00:00.000000000",
          "2022-12-09T00:00:00.000000000",
          "2022-12-10T00:00:00.000000000",
          "2022-12-11T00:00:00.000000000",
          "2022-12-12T00:00:00.000000000",
          "2022-12-13T00:00:00.000000000",
          "2022-12-14T00:00:00.000000000",
          "2022-12-15T00:00:00.000000000",
          "2022-12-16T00:00:00.000000000",
          "2022-12-17T00:00:00.000000000",
          "2022-12-18T00:00:00.000000000",
          "2022-12-19T00:00:00.000000000",
          "2022-12-20T00:00:00.000000000",
          "2022-12-21T00:00:00.000000000",
          "2022-12-22T00:00:00.000000000",
          "2022-12-23T00:00:00.000000000",
          "2022-12-24T00:00:00.000000000",
          "2022-12-25T00:00:00.000000000",
          "2022-12-26T00:00:00.000000000",
          "2022-12-27T00:00:00.000000000",
          "2022-12-28T00:00:00.000000000",
          "2022-12-29T00:00:00.000000000",
          "2022-12-30T00:00:00.000000000",
          "2022-12-31T00:00:00.000000000",
          "2023-01-01T00:00:00.000000000",
          "2023-01-02T00:00:00.000000000",
          "2023-01-03T00:00:00.000000000",
          "2023-01-04T00:00:00.000000000",
          "2023-01-05T00:00:00.000000000",
          "2023-01-06T00:00:00.000000000",
          "2023-01-07T00:00:00.000000000",
          "2023-01-08T00:00:00.000000000",
          "2023-01-09T00:00:00.000000000",
          "2023-01-10T00:00:00.000000000",
          "2023-01-11T00:00:00.000000000",
          "2023-01-12T00:00:00.000000000",
          "2023-01-13T00:00:00.000000000",
          "2023-01-14T00:00:00.000000000",
          "2023-01-15T00:00:00.000000000",
          "2023-01-16T00:00:00.000000000",
          "2023-01-17T00:00:00.000000000",
          "2023-01-18T00:00:00.000000000",
          "2023-01-19T00:00:00.000000000",
          "2023-01-20T00:00:00.000000000",
          "2023-01-21T00:00:00.000000000",
          "2023-01-22T00:00:00.000000000",
          "2023-01-23T00:00:00.000000000",
          "2023-01-24T00:00:00.000000000",
          "2023-01-25T00:00:00.000000000",
          "2023-01-26T00:00:00.000000000",
          "2023-01-27T00:00:00.000000000",
          "2023-01-28T00:00:00.000000000",
          "2023-01-29T00:00:00.000000000",
          "2023-01-30T00:00:00.000000000",
          "2023-01-31T00:00:00.000000000",
          "2023-02-01T00:00:00.000000000",
          "2023-02-02T00:00:00.000000000",
          "2023-02-03T00:00:00.000000000",
          "2023-02-04T00:00:00.000000000",
          "2023-02-05T00:00:00.000000000",
          "2023-02-06T00:00:00.000000000",
          "2023-02-07T00:00:00.000000000",
          "2023-02-08T00:00:00.000000000",
          "2023-02-09T00:00:00.000000000",
          "2023-02-10T00:00:00.000000000",
          "2023-02-11T00:00:00.000000000",
          "2023-02-12T00:00:00.000000000",
          "2023-02-13T00:00:00.000000000",
          "2023-02-14T00:00:00.000000000",
          "2023-02-15T00:00:00.000000000",
          "2023-02-16T00:00:00.000000000",
          "2023-02-17T00:00:00.000000000",
          "2023-02-18T00:00:00.000000000",
          "2023-02-19T00:00:00.000000000",
          "2023-02-20T00:00:00.000000000",
          "2023-02-21T00:00:00.000000000",
          "2023-02-22T00:00:00.000000000",
          "2023-02-23T00:00:00.000000000",
          "2023-02-24T00:00:00.000000000",
          "2023-02-25T00:00:00.000000000",
          "2023-02-26T00:00:00.000000000",
          "2023-02-27T00:00:00.000000000",
          "2023-02-28T00:00:00.000000000",
          "2023-03-01T00:00:00.000000000",
          "2023-03-02T00:00:00.000000000",
          "2023-03-03T00:00:00.000000000",
          "2023-03-04T00:00:00.000000000",
          "2023-03-05T00:00:00.000000000",
          "2023-03-06T00:00:00.000000000",
          "2023-03-07T00:00:00.000000000",
          "2023-03-08T00:00:00.000000000",
          "2023-03-09T00:00:00.000000000",
          "2023-03-10T00:00:00.000000000",
          "2023-03-11T00:00:00.000000000",
          "2023-03-12T00:00:00.000000000",
          "2023-03-13T00:00:00.000000000",
          "2023-03-14T00:00:00.000000000",
          "2023-03-15T00:00:00.000000000",
          "2023-03-16T00:00:00.000000000",
          "2023-03-17T00:00:00.000000000",
          "2023-03-18T00:00:00.000000000",
          "2023-03-19T00:00:00.000000000",
          "2023-03-20T00:00:00.000000000",
          "2023-03-21T00:00:00.000000000",
          "2023-03-22T00:00:00.000000000",
          "2023-03-23T00:00:00.000000000",
          "2023-03-24T00:00:00.000000000",
          "2023-03-25T00:00:00.000000000",
          "2023-03-26T00:00:00.000000000",
          "2023-03-27T00:00:00.000000000",
          "2023-03-28T00:00:00.000000000",
          "2023-03-29T00:00:00.000000000",
          "2023-03-30T00:00:00.000000000",
          "2023-03-31T00:00:00.000000000",
          "2023-04-01T00:00:00.000000000",
          "2023-04-02T00:00:00.000000000",
          "2023-04-03T00:00:00.000000000",
          "2023-04-04T00:00:00.000000000",
          "2023-04-05T00:00:00.000000000",
          "2023-04-06T00:00:00.000000000",
          "2023-04-07T00:00:00.000000000",
          "2023-04-08T00:00:00.000000000",
          "2023-04-09T00:00:00.000000000",
          "2023-04-10T00:00:00.000000000",
          "2023-04-11T00:00:00.000000000",
          "2023-04-12T00:00:00.000000000",
          "2023-04-13T00:00:00.000000000",
          "2023-04-14T00:00:00.000000000",
          "2023-04-15T00:00:00.000000000",
          "2023-04-16T00:00:00.000000000",
          "2023-04-17T00:00:00.000000000",
          "2023-04-18T00:00:00.000000000",
          "2023-04-19T00:00:00.000000000",
          "2023-04-20T00:00:00.000000000",
          "2023-04-21T00:00:00.000000000",
          "2023-04-22T00:00:00.000000000",
          "2023-04-23T00:00:00.000000000",
          "2023-04-24T00:00:00.000000000",
          "2023-04-25T00:00:00.000000000",
          "2023-04-26T00:00:00.000000000",
          "2023-04-27T00:00:00.000000000",
          "2023-04-28T00:00:00.000000000",
          "2023-04-29T00:00:00.000000000",
          "2023-04-30T00:00:00.000000000",
          "2023-05-01T00:00:00.000000000",
          "2023-05-02T00:00:00.000000000",
          "2023-05-03T00:00:00.000000000",
          "2023-05-04T00:00:00.000000000",
          "2023-05-05T00:00:00.000000000",
          "2023-05-06T00:00:00.000000000",
          "2023-05-07T00:00:00.000000000",
          "2023-05-08T00:00:00.000000000",
          "2023-05-09T00:00:00.000000000"
         ],
         "y": [
          -0.020311350002884865,
          -0.05366155505180359,
          0.4244288504123688,
          0.41963180899620056,
          0.43061766028404236,
          0.5307731628417969,
          0.8020356893539429,
          1.0638203620910645,
          1.187193512916565,
          1.1591275930404663,
          1.1034915447235107,
          1.0546605587005615,
          1.2493807077407837,
          1.6557729244232178,
          2.1268789768218994,
          2.2203280925750732,
          2.316620349884033,
          2.3161816596984863,
          2.3092517852783203,
          2.311250925064087,
          2.314537286758423,
          2.6810336112976074,
          4.5057597160339355,
          4.704395771026611,
          4.900898456573486,
          5.023283958435059,
          5.073972225189209,
          5.132808685302734,
          5.1536641120910645,
          5.258602619171143,
          5.291656494140625,
          5.377058982849121,
          5.398679256439209,
          5.465409755706787,
          5.5173211097717285,
          5.833736896514893,
          5.822993755340576,
          5.861790657043457,
          5.856841087341309,
          5.833163738250732,
          5.830965042114258,
          5.944256782531738,
          6.092127323150635,
          6.103356838226318,
          6.079473495483398,
          6.112143039703369,
          6.116859436035156,
          6.194988250732422,
          6.393884658813477,
          6.62763786315918,
          6.597579002380371,
          6.571125030517578,
          6.647994041442871,
          6.68807315826416,
          6.6891632080078125,
          6.7632551193237305,
          6.8680243492126465,
          6.894538879394531,
          6.766748428344727,
          6.887761116027832,
          6.966086387634277,
          7.1645731925964355,
          7.228682518005371,
          7.2295823097229,
          7.229735374450684,
          7.210000991821289,
          7.37958288192749,
          7.582009792327881,
          7.967986583709717,
          7.954000473022461,
          8.135994911193848,
          8.51856803894043,
          8.558672904968262,
          8.55838680267334,
          8.565918922424316,
          8.555397033691406,
          8.781229972839355,
          9.014276504516602,
          9.021600723266602,
          9.039100646972656,
          9.126771926879883,
          9.619229316711426,
          9.92760944366455,
          10.169265747070312,
          10.418405532836914,
          10.62421989440918,
          10.72372055053711,
          10.741887092590332,
          10.805584907531738,
          11.061027526855469,
          11.270211219787598,
          11.208555221557617,
          11.613336563110352,
          11.672143936157227,
          11.923182487487793,
          12.719975471496582,
          13.538092613220215,
          14.546028137207031,
          14.880597114562988,
          15.720793724060059,
          15.773751258850098,
          16.350765228271484,
          16.550762176513672,
          16.917695999145508,
          16.99908447265625,
          17.0513973236084,
          17.62822151184082,
          17.902976989746094,
          18.03499984741211,
          18.15251922607422,
          18.182600021362305,
          18.230342864990234,
          18.53419303894043,
          18.668134689331055,
          18.870962142944336,
          19.209291458129883,
          19.40413475036621,
          19.752832412719727,
          19.89342498779297,
          19.974733352661133,
          20.357223510742188,
          20.58416748046875,
          20.749088287353516,
          21.321590423583984,
          22.132081985473633,
          22.64571762084961,
          22.87588119506836,
          22.994661331176758,
          23.163232803344727,
          23.51491355895996,
          23.961902618408203,
          24.08254051208496,
          24.227697372436523,
          24.41289710998535,
          25.178943634033203,
          25.743148803710938,
          26.341838836669922,
          26.580413818359375,
          26.767602920532227,
          27.871694564819336,
          29.19293975830078,
          29.76518440246582,
          29.97120475769043,
          30.330041885375977,
          30.608531951904297,
          30.83525276184082,
          31.096942901611328,
          31.624696731567383,
          32.32386016845703,
          33.530086517333984,
          34.062889099121094,
          34.736541748046875,
          34.916168212890625,
          35.107704162597656,
          35.182743072509766,
          35.27486038208008,
          35.82795715332031,
          36.41616439819336,
          36.724143981933594,
          37.038490295410156,
          37.454532623291016
         ]
        }
       ],
       "layout": {
        "height": 600,
        "legend": {
         "title": {
          "text": "Site"
         }
        },
        "template": {
         "data": {
          "bar": [
           {
            "error_x": {
             "color": "#2a3f5f"
            },
            "error_y": {
             "color": "#2a3f5f"
            },
            "marker": {
             "line": {
              "color": "#E5ECF6",
              "width": 0.5
             },
             "pattern": {
              "fillmode": "overlay",
              "size": 10,
              "solidity": 0.2
             }
            },
            "type": "bar"
           }
          ],
          "barpolar": [
           {
            "marker": {
             "line": {
              "color": "#E5ECF6",
              "width": 0.5
             },
             "pattern": {
              "fillmode": "overlay",
              "size": 10,
              "solidity": 0.2
             }
            },
            "type": "barpolar"
           }
          ],
          "carpet": [
           {
            "aaxis": {
             "endlinecolor": "#2a3f5f",
             "gridcolor": "white",
             "linecolor": "white",
             "minorgridcolor": "white",
             "startlinecolor": "#2a3f5f"
            },
            "baxis": {
             "endlinecolor": "#2a3f5f",
             "gridcolor": "white",
             "linecolor": "white",
             "minorgridcolor": "white",
             "startlinecolor": "#2a3f5f"
            },
            "type": "carpet"
           }
          ],
          "choropleth": [
           {
            "colorbar": {
             "outlinewidth": 0,
             "ticks": ""
            },
            "type": "choropleth"
           }
          ],
          "contour": [
           {
            "colorbar": {
             "outlinewidth": 0,
             "ticks": ""
            },
            "colorscale": [
             [
              0,
              "#0d0887"
             ],
             [
              0.1111111111111111,
              "#46039f"
             ],
             [
              0.2222222222222222,
              "#7201a8"
             ],
             [
              0.3333333333333333,
              "#9c179e"
             ],
             [
              0.4444444444444444,
              "#bd3786"
             ],
             [
              0.5555555555555556,
              "#d8576b"
             ],
             [
              0.6666666666666666,
              "#ed7953"
             ],
             [
              0.7777777777777778,
              "#fb9f3a"
             ],
             [
              0.8888888888888888,
              "#fdca26"
             ],
             [
              1,
              "#f0f921"
             ]
            ],
            "type": "contour"
           }
          ],
          "contourcarpet": [
           {
            "colorbar": {
             "outlinewidth": 0,
             "ticks": ""
            },
            "type": "contourcarpet"
           }
          ],
          "heatmap": [
           {
            "colorbar": {
             "outlinewidth": 0,
             "ticks": ""
            },
            "colorscale": [
             [
              0,
              "#0d0887"
             ],
             [
              0.1111111111111111,
              "#46039f"
             ],
             [
              0.2222222222222222,
              "#7201a8"
             ],
             [
              0.3333333333333333,
              "#9c179e"
             ],
             [
              0.4444444444444444,
              "#bd3786"
             ],
             [
              0.5555555555555556,
              "#d8576b"
             ],
             [
              0.6666666666666666,
              "#ed7953"
             ],
             [
              0.7777777777777778,
              "#fb9f3a"
             ],
             [
              0.8888888888888888,
              "#fdca26"
             ],
             [
              1,
              "#f0f921"
             ]
            ],
            "type": "heatmap"
           }
          ],
          "heatmapgl": [
           {
            "colorbar": {
             "outlinewidth": 0,
             "ticks": ""
            },
            "colorscale": [
             [
              0,
              "#0d0887"
             ],
             [
              0.1111111111111111,
              "#46039f"
             ],
             [
              0.2222222222222222,
              "#7201a8"
             ],
             [
              0.3333333333333333,
              "#9c179e"
             ],
             [
              0.4444444444444444,
              "#bd3786"
             ],
             [
              0.5555555555555556,
              "#d8576b"
             ],
             [
              0.6666666666666666,
              "#ed7953"
             ],
             [
              0.7777777777777778,
              "#fb9f3a"
             ],
             [
              0.8888888888888888,
              "#fdca26"
             ],
             [
              1,
              "#f0f921"
             ]
            ],
            "type": "heatmapgl"
           }
          ],
          "histogram": [
           {
            "marker": {
             "pattern": {
              "fillmode": "overlay",
              "size": 10,
              "solidity": 0.2
             }
            },
            "type": "histogram"
           }
          ],
          "histogram2d": [
           {
            "colorbar": {
             "outlinewidth": 0,
             "ticks": ""
            },
            "colorscale": [
             [
              0,
              "#0d0887"
             ],
             [
              0.1111111111111111,
              "#46039f"
             ],
             [
              0.2222222222222222,
              "#7201a8"
             ],
             [
              0.3333333333333333,
              "#9c179e"
             ],
             [
              0.4444444444444444,
              "#bd3786"
             ],
             [
              0.5555555555555556,
              "#d8576b"
             ],
             [
              0.6666666666666666,
              "#ed7953"
             ],
             [
              0.7777777777777778,
              "#fb9f3a"
             ],
             [
              0.8888888888888888,
              "#fdca26"
             ],
             [
              1,
              "#f0f921"
             ]
            ],
            "type": "histogram2d"
           }
          ],
          "histogram2dcontour": [
           {
            "colorbar": {
             "outlinewidth": 0,
             "ticks": ""
            },
            "colorscale": [
             [
              0,
              "#0d0887"
             ],
             [
              0.1111111111111111,
              "#46039f"
             ],
             [
              0.2222222222222222,
              "#7201a8"
             ],
             [
              0.3333333333333333,
              "#9c179e"
             ],
             [
              0.4444444444444444,
              "#bd3786"
             ],
             [
              0.5555555555555556,
              "#d8576b"
             ],
             [
              0.6666666666666666,
              "#ed7953"
             ],
             [
              0.7777777777777778,
              "#fb9f3a"
             ],
             [
              0.8888888888888888,
              "#fdca26"
             ],
             [
              1,
              "#f0f921"
             ]
            ],
            "type": "histogram2dcontour"
           }
          ],
          "mesh3d": [
           {
            "colorbar": {
             "outlinewidth": 0,
             "ticks": ""
            },
            "type": "mesh3d"
           }
          ],
          "parcoords": [
           {
            "line": {
             "colorbar": {
              "outlinewidth": 0,
              "ticks": ""
             }
            },
            "type": "parcoords"
           }
          ],
          "pie": [
           {
            "automargin": true,
            "type": "pie"
           }
          ],
          "scatter": [
           {
            "fillpattern": {
             "fillmode": "overlay",
             "size": 10,
             "solidity": 0.2
            },
            "type": "scatter"
           }
          ],
          "scatter3d": [
           {
            "line": {
             "colorbar": {
              "outlinewidth": 0,
              "ticks": ""
             }
            },
            "marker": {
             "colorbar": {
              "outlinewidth": 0,
              "ticks": ""
             }
            },
            "type": "scatter3d"
           }
          ],
          "scattercarpet": [
           {
            "marker": {
             "colorbar": {
              "outlinewidth": 0,
              "ticks": ""
             }
            },
            "type": "scattercarpet"
           }
          ],
          "scattergeo": [
           {
            "marker": {
             "colorbar": {
              "outlinewidth": 0,
              "ticks": ""
             }
            },
            "type": "scattergeo"
           }
          ],
          "scattergl": [
           {
            "marker": {
             "colorbar": {
              "outlinewidth": 0,
              "ticks": ""
             }
            },
            "type": "scattergl"
           }
          ],
          "scattermapbox": [
           {
            "marker": {
             "colorbar": {
              "outlinewidth": 0,
              "ticks": ""
             }
            },
            "type": "scattermapbox"
           }
          ],
          "scatterpolar": [
           {
            "marker": {
             "colorbar": {
              "outlinewidth": 0,
              "ticks": ""
             }
            },
            "type": "scatterpolar"
           }
          ],
          "scatterpolargl": [
           {
            "marker": {
             "colorbar": {
              "outlinewidth": 0,
              "ticks": ""
             }
            },
            "type": "scatterpolargl"
           }
          ],
          "scatterternary": [
           {
            "marker": {
             "colorbar": {
              "outlinewidth": 0,
              "ticks": ""
             }
            },
            "type": "scatterternary"
           }
          ],
          "surface": [
           {
            "colorbar": {
             "outlinewidth": 0,
             "ticks": ""
            },
            "colorscale": [
             [
              0,
              "#0d0887"
             ],
             [
              0.1111111111111111,
              "#46039f"
             ],
             [
              0.2222222222222222,
              "#7201a8"
             ],
             [
              0.3333333333333333,
              "#9c179e"
             ],
             [
              0.4444444444444444,
              "#bd3786"
             ],
             [
              0.5555555555555556,
              "#d8576b"
             ],
             [
              0.6666666666666666,
              "#ed7953"
             ],
             [
              0.7777777777777778,
              "#fb9f3a"
             ],
             [
              0.8888888888888888,
              "#fdca26"
             ],
             [
              1,
              "#f0f921"
             ]
            ],
            "type": "surface"
           }
          ],
          "table": [
           {
            "cells": {
             "fill": {
              "color": "#EBF0F8"
             },
             "line": {
              "color": "white"
             }
            },
            "header": {
             "fill": {
              "color": "#C8D4E3"
             },
             "line": {
              "color": "white"
             }
            },
            "type": "table"
           }
          ]
         },
         "layout": {
          "annotationdefaults": {
           "arrowcolor": "#2a3f5f",
           "arrowhead": 0,
           "arrowwidth": 1
          },
          "autotypenumbers": "strict",
          "coloraxis": {
           "colorbar": {
            "outlinewidth": 0,
            "ticks": ""
           }
          },
          "colorscale": {
           "diverging": [
            [
             0,
             "#8e0152"
            ],
            [
             0.1,
             "#c51b7d"
            ],
            [
             0.2,
             "#de77ae"
            ],
            [
             0.3,
             "#f1b6da"
            ],
            [
             0.4,
             "#fde0ef"
            ],
            [
             0.5,
             "#f7f7f7"
            ],
            [
             0.6,
             "#e6f5d0"
            ],
            [
             0.7,
             "#b8e186"
            ],
            [
             0.8,
             "#7fbc41"
            ],
            [
             0.9,
             "#4d9221"
            ],
            [
             1,
             "#276419"
            ]
           ],
           "sequential": [
            [
             0,
             "#0d0887"
            ],
            [
             0.1111111111111111,
             "#46039f"
            ],
            [
             0.2222222222222222,
             "#7201a8"
            ],
            [
             0.3333333333333333,
             "#9c179e"
            ],
            [
             0.4444444444444444,
             "#bd3786"
            ],
            [
             0.5555555555555556,
             "#d8576b"
            ],
            [
             0.6666666666666666,
             "#ed7953"
            ],
            [
             0.7777777777777778,
             "#fb9f3a"
            ],
            [
             0.8888888888888888,
             "#fdca26"
            ],
            [
             1,
             "#f0f921"
            ]
           ],
           "sequentialminus": [
            [
             0,
             "#0d0887"
            ],
            [
             0.1111111111111111,
             "#46039f"
            ],
            [
             0.2222222222222222,
             "#7201a8"
            ],
            [
             0.3333333333333333,
             "#9c179e"
            ],
            [
             0.4444444444444444,
             "#bd3786"
            ],
            [
             0.5555555555555556,
             "#d8576b"
            ],
            [
             0.6666666666666666,
             "#ed7953"
            ],
            [
             0.7777777777777778,
             "#fb9f3a"
            ],
            [
             0.8888888888888888,
             "#fdca26"
            ],
            [
             1,
             "#f0f921"
            ]
           ]
          },
          "colorway": [
           "#636efa",
           "#EF553B",
           "#00cc96",
           "#ab63fa",
           "#FFA15A",
           "#19d3f3",
           "#FF6692",
           "#B6E880",
           "#FF97FF",
           "#FECB52"
          ],
          "font": {
           "color": "#2a3f5f"
          },
          "geo": {
           "bgcolor": "white",
           "lakecolor": "white",
           "landcolor": "#E5ECF6",
           "showlakes": true,
           "showland": true,
           "subunitcolor": "white"
          },
          "hoverlabel": {
           "align": "left"
          },
          "hovermode": "closest",
          "mapbox": {
           "style": "light"
          },
          "paper_bgcolor": "white",
          "plot_bgcolor": "#E5ECF6",
          "polar": {
           "angularaxis": {
            "gridcolor": "white",
            "linecolor": "white",
            "ticks": ""
           },
           "bgcolor": "#E5ECF6",
           "radialaxis": {
            "gridcolor": "white",
            "linecolor": "white",
            "ticks": ""
           }
          },
          "scene": {
           "xaxis": {
            "backgroundcolor": "#E5ECF6",
            "gridcolor": "white",
            "gridwidth": 2,
            "linecolor": "white",
            "showbackground": true,
            "ticks": "",
            "zerolinecolor": "white"
           },
           "yaxis": {
            "backgroundcolor": "#E5ECF6",
            "gridcolor": "white",
            "gridwidth": 2,
            "linecolor": "white",
            "showbackground": true,
            "ticks": "",
            "zerolinecolor": "white"
           },
           "zaxis": {
            "backgroundcolor": "#E5ECF6",
            "gridcolor": "white",
            "gridwidth": 2,
            "linecolor": "white",
            "showbackground": true,
            "ticks": "",
            "zerolinecolor": "white"
           }
          },
          "shapedefaults": {
           "line": {
            "color": "#2a3f5f"
           }
          },
          "ternary": {
           "aaxis": {
            "gridcolor": "white",
            "linecolor": "white",
            "ticks": ""
           },
           "baxis": {
            "gridcolor": "white",
            "linecolor": "white",
            "ticks": ""
           },
           "bgcolor": "#E5ECF6",
           "caxis": {
            "gridcolor": "white",
            "linecolor": "white",
            "ticks": ""
           }
          },
          "title": {
           "x": 0.05
          },
          "xaxis": {
           "automargin": true,
           "gridcolor": "white",
           "linecolor": "white",
           "ticks": "",
           "title": {
            "standoff": 15
           },
           "zerolinecolor": "white",
           "zerolinewidth": 2
          },
          "yaxis": {
           "automargin": true,
           "gridcolor": "white",
           "linecolor": "white",
           "ticks": "",
           "title": {
            "standoff": 15
           },
           "zerolinecolor": "white",
           "zerolinewidth": 2
          }
         }
        },
        "title": {
         "text": "Cumulative Sublimation at SPLASH and SOS Sites"
        },
        "width": 1000,
        "xaxis": {
         "title": {
          "text": "Date"
         }
        },
        "yaxis": {
         "title": {
          "text": "Cumulative Sublimation (mm)"
         }
        }
       }
      },
      "text/html": [
       "<div>                            <div id=\"9ce451fa-f6f4-4fb8-8b58-02a97d369f77\" class=\"plotly-graph-div\" style=\"height:600px; width:1000px;\"></div>            <script type=\"text/javascript\">                require([\"plotly\"], function(Plotly) {                    window.PLOTLYENV=window.PLOTLYENV || {};                                    if (document.getElementById(\"9ce451fa-f6f4-4fb8-8b58-02a97d369f77\")) {                    Plotly.newPlot(                        \"9ce451fa-f6f4-4fb8-8b58-02a97d369f77\",                        [{\"line\":{\"color\":\"blue\"},\"name\":\"SPLASH ECOR Sublimation (Avery Picnic)\",\"x\":[\"2022-11-30T00:00:00.000000000\",\"2022-12-01T00:00:00.000000000\",\"2022-12-02T00:00:00.000000000\",\"2022-12-03T00:00:00.000000000\",\"2022-12-04T00:00:00.000000000\",\"2022-12-05T00:00:00.000000000\",\"2022-12-06T00:00:00.000000000\",\"2022-12-07T00:00:00.000000000\",\"2022-12-08T00:00:00.000000000\",\"2022-12-09T00:00:00.000000000\",\"2022-12-10T00:00:00.000000000\",\"2022-12-11T00:00:00.000000000\",\"2022-12-12T00:00:00.000000000\",\"2022-12-13T00:00:00.000000000\",\"2022-12-14T00:00:00.000000000\",\"2022-12-15T00:00:00.000000000\",\"2022-12-16T00:00:00.000000000\",\"2022-12-17T00:00:00.000000000\",\"2022-12-18T00:00:00.000000000\",\"2022-12-19T00:00:00.000000000\",\"2022-12-20T00:00:00.000000000\",\"2022-12-21T00:00:00.000000000\",\"2022-12-22T00:00:00.000000000\",\"2022-12-23T00:00:00.000000000\",\"2022-12-24T00:00:00.000000000\",\"2022-12-25T00:00:00.000000000\",\"2022-12-26T00:00:00.000000000\",\"2022-12-27T00:00:00.000000000\",\"2022-12-28T00:00:00.000000000\",\"2022-12-29T00:00:00.000000000\",\"2022-12-30T00:00:00.000000000\",\"2022-12-31T00:00:00.000000000\",\"2023-01-01T00:00:00.000000000\",\"2023-01-02T00:00:00.000000000\",\"2023-01-03T00:00:00.000000000\",\"2023-01-04T00:00:00.000000000\",\"2023-01-05T00:00:00.000000000\",\"2023-01-06T00:00:00.000000000\",\"2023-01-07T00:00:00.000000000\",\"2023-01-08T00:00:00.000000000\",\"2023-01-09T00:00:00.000000000\",\"2023-01-10T00:00:00.000000000\",\"2023-01-11T00:00:00.000000000\",\"2023-01-12T00:00:00.000000000\",\"2023-01-13T00:00:00.000000000\",\"2023-01-14T00:00:00.000000000\",\"2023-01-15T00:00:00.000000000\",\"2023-01-16T00:00:00.000000000\",\"2023-01-17T00:00:00.000000000\",\"2023-01-18T00:00:00.000000000\",\"2023-01-19T00:00:00.000000000\",\"2023-01-20T00:00:00.000000000\",\"2023-01-21T00:00:00.000000000\",\"2023-01-22T00:00:00.000000000\",\"2023-01-23T00:00:00.000000000\",\"2023-01-24T00:00:00.000000000\",\"2023-01-25T00:00:00.000000000\",\"2023-01-26T00:00:00.000000000\",\"2023-01-27T00:00:00.000000000\",\"2023-01-28T00:00:00.000000000\",\"2023-01-29T00:00:00.000000000\",\"2023-01-30T00:00:00.000000000\",\"2023-01-31T00:00:00.000000000\",\"2023-02-01T00:00:00.000000000\",\"2023-02-02T00:00:00.000000000\",\"2023-02-03T00:00:00.000000000\",\"2023-02-04T00:00:00.000000000\",\"2023-02-05T00:00:00.000000000\",\"2023-02-06T00:00:00.000000000\",\"2023-02-07T00:00:00.000000000\",\"2023-02-08T00:00:00.000000000\",\"2023-02-09T00:00:00.000000000\",\"2023-02-10T00:00:00.000000000\",\"2023-02-11T00:00:00.000000000\",\"2023-02-12T00:00:00.000000000\",\"2023-02-13T00:00:00.000000000\",\"2023-02-14T00:00:00.000000000\",\"2023-02-15T00:00:00.000000000\",\"2023-02-16T00:00:00.000000000\",\"2023-02-17T00:00:00.000000000\",\"2023-02-18T00:00:00.000000000\",\"2023-02-19T00:00:00.000000000\",\"2023-02-20T00:00:00.000000000\",\"2023-02-21T00:00:00.000000000\",\"2023-02-22T00:00:00.000000000\",\"2023-02-23T00:00:00.000000000\",\"2023-02-24T00:00:00.000000000\",\"2023-02-25T00:00:00.000000000\",\"2023-02-26T00:00:00.000000000\",\"2023-02-27T00:00:00.000000000\",\"2023-02-28T00:00:00.000000000\",\"2023-03-01T00:00:00.000000000\",\"2023-03-02T00:00:00.000000000\",\"2023-03-03T00:00:00.000000000\",\"2023-03-04T00:00:00.000000000\",\"2023-03-05T00:00:00.000000000\",\"2023-03-06T00:00:00.000000000\",\"2023-03-07T00:00:00.000000000\",\"2023-03-08T00:00:00.000000000\",\"2023-03-09T00:00:00.000000000\",\"2023-03-10T00:00:00.000000000\",\"2023-03-11T00:00:00.000000000\",\"2023-03-12T00:00:00.000000000\",\"2023-03-13T00:00:00.000000000\",\"2023-03-14T00:00:00.000000000\",\"2023-03-15T00:00:00.000000000\",\"2023-03-16T00:00:00.000000000\",\"2023-03-17T00:00:00.000000000\",\"2023-03-18T00:00:00.000000000\",\"2023-03-19T00:00:00.000000000\",\"2023-03-20T00:00:00.000000000\",\"2023-03-21T00:00:00.000000000\",\"2023-03-22T00:00:00.000000000\",\"2023-03-23T00:00:00.000000000\",\"2023-03-24T00:00:00.000000000\",\"2023-03-25T00:00:00.000000000\",\"2023-03-26T00:00:00.000000000\",\"2023-03-27T00:00:00.000000000\",\"2023-03-28T00:00:00.000000000\",\"2023-03-29T00:00:00.000000000\",\"2023-03-30T00:00:00.000000000\",\"2023-03-31T00:00:00.000000000\",\"2023-04-01T00:00:00.000000000\",\"2023-04-02T00:00:00.000000000\",\"2023-04-03T00:00:00.000000000\",\"2023-04-04T00:00:00.000000000\",\"2023-04-05T00:00:00.000000000\",\"2023-04-06T00:00:00.000000000\",\"2023-04-07T00:00:00.000000000\",\"2023-04-08T00:00:00.000000000\",\"2023-04-09T00:00:00.000000000\",\"2023-04-10T00:00:00.000000000\",\"2023-04-11T00:00:00.000000000\",\"2023-04-12T00:00:00.000000000\",\"2023-04-13T00:00:00.000000000\",\"2023-04-14T00:00:00.000000000\",\"2023-04-15T00:00:00.000000000\",\"2023-04-16T00:00:00.000000000\",\"2023-04-17T00:00:00.000000000\",\"2023-04-18T00:00:00.000000000\",\"2023-04-19T00:00:00.000000000\",\"2023-04-20T00:00:00.000000000\",\"2023-04-21T00:00:00.000000000\",\"2023-04-22T00:00:00.000000000\",\"2023-04-23T00:00:00.000000000\",\"2023-04-24T00:00:00.000000000\",\"2023-04-25T00:00:00.000000000\",\"2023-04-26T00:00:00.000000000\",\"2023-04-27T00:00:00.000000000\",\"2023-04-28T00:00:00.000000000\",\"2023-04-29T00:00:00.000000000\",\"2023-04-30T00:00:00.000000000\",\"2023-05-01T00:00:00.000000000\",\"2023-05-02T00:00:00.000000000\",\"2023-05-03T00:00:00.000000000\",\"2023-05-04T00:00:00.000000000\",\"2023-05-05T00:00:00.000000000\",\"2023-05-06T00:00:00.000000000\",\"2023-05-07T00:00:00.000000000\",\"2023-05-08T00:00:00.000000000\",\"2023-05-09T00:00:00.000000000\"],\"y\":[-0.008858027888699258,0.13396948664252145,0.6899181244271329,0.6969165215925863,0.7048374772856579,0.9187924673724165,1.2394246801764315,1.2579222957101275,1.3345365955695263,1.3059690150815426,1.2929340485374523,1.307899661366692,1.4459616343341688,1.6405316515126003,1.8614971909898583,1.8902657770989677,1.9615991015010026,1.9717497290897097,1.9773971892900903,1.9820211735000994,2.0012377446791523,2.230914496545204,2.8013523709138886,2.893912089222396,3.046782225442396,3.164016760750663,3.2361073554266646,3.2795350909052834,3.2981427974719835,3.4120526204905977,3.4121313367489763,3.418593923989249,3.4347217035877287,3.456876470121995,3.507935129020761,3.682825612346505,3.6578933269505094,3.6082110814462607,3.6020853660321315,3.606034084021868,3.6097350932779966,3.742179508235518,3.8345266101191107,3.8508390670494266,3.857636692253226,3.921777739131485,3.9293469305258437,3.938757615831659,3.9591659323744546,4.087200602894024,4.062670993400769,4.062670993400769,4.062670993400769,4.062670993400769,4.062670993400769,4.062670993400769,4.062670993400769,4.062670993400769,4.062670993400769,4.062670993400769,4.062670993400769,4.062670993400769,4.062670993400769,4.062670993400769,4.062670993400769,4.062670993400769,4.062670993400769,4.062670993400769,4.062670993400769,4.062670993400769,4.062670993400769,4.062670993400769,4.062670993400769,4.062670993400769,4.062670993400769,4.062670993400769,4.062670993400769,4.062670993400769,4.062670993400769,4.062670993400769,4.062670993400769,4.062670993400769,4.062670993400769,4.2160412036769435,4.463203245547779,4.6337436423367615,4.75578311218254,4.7671510344393715,4.88738654354413,4.989123855868783,5.3359706409146535,5.370019083184359,5.494118298876437,5.525074545914805,5.588469315998187,6.159366470587516,6.583035211819566,6.842358902237207,6.842358902237207,6.842358902237207,6.842358902237207,6.842358902237207,6.842358902237207,6.842358902237207,6.842358902237207,6.842358902237207,6.842358902237207,6.842358902237207,6.842358902237207,6.842358902237207,6.842358902237207,6.842358902237207,6.842358902237207,6.842358902237207,6.842358902237207,6.842358902237207,6.842358902237207,6.842358902237207,6.842358902237207,6.842358902237207,6.842358902237207,6.842358902237207,6.842358902237207,6.842358902237207,6.842358902237207,6.842358902237207,6.842358902237207,6.842358902237207,6.842358902237207,6.842358902237207,6.842358902237207,6.842358902237207,6.984211657753124,7.207981684317836,7.752751543786423,8.092109425994453,8.44303794415861,8.631430540823972,8.804634038169743,9.3913867819883,10.33889991811806,10.647621922150169,10.784807090672585,11.089131787554635,11.35479733778689,11.644595776971,11.774205383101934,12.030940107311562,12.372889923636205,12.995350877631472,13.330003002432475,13.743868857311861,13.877783298794501,14.03473900009039,14.072926524670892,14.128575206194753,14.53451404035294,14.950467157047447,15.199344973459194,15.416896570501462,15.67567849154763],\"type\":\"scatter\"},{\"line\":{\"color\":\"purple\"},\"name\":\"SPLASH ECOR Sublimation (Kettle Ponds)\",\"x\":[\"2022-11-30T00:00:00.000000000\",\"2022-12-01T00:00:00.000000000\",\"2022-12-02T00:00:00.000000000\",\"2022-12-03T00:00:00.000000000\",\"2022-12-04T00:00:00.000000000\",\"2022-12-05T00:00:00.000000000\",\"2022-12-06T00:00:00.000000000\",\"2022-12-07T00:00:00.000000000\",\"2022-12-08T00:00:00.000000000\",\"2022-12-09T00:00:00.000000000\",\"2022-12-10T00:00:00.000000000\",\"2022-12-11T00:00:00.000000000\",\"2022-12-12T00:00:00.000000000\",\"2022-12-13T00:00:00.000000000\",\"2022-12-14T00:00:00.000000000\",\"2022-12-15T00:00:00.000000000\",\"2022-12-16T00:00:00.000000000\",\"2022-12-17T00:00:00.000000000\",\"2022-12-18T00:00:00.000000000\",\"2022-12-19T00:00:00.000000000\",\"2022-12-20T00:00:00.000000000\",\"2022-12-21T00:00:00.000000000\",\"2022-12-22T00:00:00.000000000\",\"2022-12-23T00:00:00.000000000\",\"2022-12-24T00:00:00.000000000\",\"2022-12-25T00:00:00.000000000\",\"2022-12-26T00:00:00.000000000\",\"2022-12-27T00:00:00.000000000\",\"2022-12-28T00:00:00.000000000\",\"2022-12-29T00:00:00.000000000\",\"2022-12-30T00:00:00.000000000\",\"2022-12-31T00:00:00.000000000\",\"2023-01-01T00:00:00.000000000\",\"2023-01-02T00:00:00.000000000\",\"2023-01-03T00:00:00.000000000\",\"2023-01-04T00:00:00.000000000\",\"2023-01-05T00:00:00.000000000\",\"2023-01-06T00:00:00.000000000\",\"2023-01-07T00:00:00.000000000\",\"2023-01-08T00:00:00.000000000\",\"2023-01-09T00:00:00.000000000\",\"2023-01-10T00:00:00.000000000\",\"2023-01-11T00:00:00.000000000\",\"2023-01-12T00:00:00.000000000\",\"2023-01-13T00:00:00.000000000\",\"2023-01-14T00:00:00.000000000\",\"2023-01-15T00:00:00.000000000\",\"2023-01-16T00:00:00.000000000\",\"2023-01-17T00:00:00.000000000\",\"2023-01-18T00:00:00.000000000\",\"2023-01-19T00:00:00.000000000\",\"2023-01-20T00:00:00.000000000\",\"2023-01-21T00:00:00.000000000\",\"2023-01-22T00:00:00.000000000\",\"2023-01-23T00:00:00.000000000\",\"2023-01-24T00:00:00.000000000\",\"2023-01-25T00:00:00.000000000\",\"2023-01-26T00:00:00.000000000\",\"2023-01-27T00:00:00.000000000\",\"2023-01-28T00:00:00.000000000\",\"2023-01-29T00:00:00.000000000\",\"2023-01-30T00:00:00.000000000\",\"2023-01-31T00:00:00.000000000\",\"2023-02-01T00:00:00.000000000\",\"2023-02-02T00:00:00.000000000\",\"2023-02-03T00:00:00.000000000\",\"2023-02-04T00:00:00.000000000\",\"2023-02-05T00:00:00.000000000\",\"2023-02-06T00:00:00.000000000\",\"2023-02-07T00:00:00.000000000\",\"2023-02-08T00:00:00.000000000\",\"2023-02-09T00:00:00.000000000\",\"2023-02-10T00:00:00.000000000\",\"2023-02-11T00:00:00.000000000\",\"2023-02-12T00:00:00.000000000\",\"2023-02-13T00:00:00.000000000\",\"2023-02-14T00:00:00.000000000\",\"2023-02-15T00:00:00.000000000\",\"2023-02-16T00:00:00.000000000\",\"2023-02-17T00:00:00.000000000\",\"2023-02-18T00:00:00.000000000\",\"2023-02-19T00:00:00.000000000\",\"2023-02-20T00:00:00.000000000\",\"2023-02-21T00:00:00.000000000\",\"2023-02-22T00:00:00.000000000\",\"2023-02-23T00:00:00.000000000\",\"2023-02-24T00:00:00.000000000\",\"2023-02-25T00:00:00.000000000\",\"2023-02-26T00:00:00.000000000\",\"2023-02-27T00:00:00.000000000\",\"2023-02-28T00:00:00.000000000\",\"2023-03-01T00:00:00.000000000\",\"2023-03-02T00:00:00.000000000\",\"2023-03-03T00:00:00.000000000\",\"2023-03-04T00:00:00.000000000\",\"2023-03-05T00:00:00.000000000\",\"2023-03-06T00:00:00.000000000\",\"2023-03-07T00:00:00.000000000\",\"2023-03-08T00:00:00.000000000\",\"2023-03-09T00:00:00.000000000\",\"2023-03-10T00:00:00.000000000\",\"2023-03-11T00:00:00.000000000\",\"2023-03-12T00:00:00.000000000\",\"2023-03-13T00:00:00.000000000\",\"2023-03-14T00:00:00.000000000\",\"2023-03-15T00:00:00.000000000\",\"2023-03-16T00:00:00.000000000\",\"2023-03-17T00:00:00.000000000\",\"2023-03-18T00:00:00.000000000\",\"2023-03-19T00:00:00.000000000\",\"2023-03-20T00:00:00.000000000\",\"2023-03-21T00:00:00.000000000\",\"2023-03-22T00:00:00.000000000\",\"2023-03-23T00:00:00.000000000\",\"2023-03-24T00:00:00.000000000\",\"2023-03-25T00:00:00.000000000\",\"2023-03-26T00:00:00.000000000\",\"2023-03-27T00:00:00.000000000\",\"2023-03-28T00:00:00.000000000\",\"2023-03-29T00:00:00.000000000\",\"2023-03-30T00:00:00.000000000\",\"2023-03-31T00:00:00.000000000\",\"2023-04-01T00:00:00.000000000\",\"2023-04-02T00:00:00.000000000\",\"2023-04-03T00:00:00.000000000\",\"2023-04-04T00:00:00.000000000\",\"2023-04-05T00:00:00.000000000\",\"2023-04-06T00:00:00.000000000\",\"2023-04-07T00:00:00.000000000\",\"2023-04-08T00:00:00.000000000\",\"2023-04-09T00:00:00.000000000\",\"2023-04-10T00:00:00.000000000\",\"2023-04-11T00:00:00.000000000\",\"2023-04-12T00:00:00.000000000\",\"2023-04-13T00:00:00.000000000\",\"2023-04-14T00:00:00.000000000\",\"2023-04-15T00:00:00.000000000\",\"2023-04-16T00:00:00.000000000\",\"2023-04-17T00:00:00.000000000\",\"2023-04-18T00:00:00.000000000\",\"2023-04-19T00:00:00.000000000\",\"2023-04-20T00:00:00.000000000\",\"2023-04-21T00:00:00.000000000\",\"2023-04-22T00:00:00.000000000\",\"2023-04-23T00:00:00.000000000\",\"2023-04-24T00:00:00.000000000\",\"2023-04-25T00:00:00.000000000\",\"2023-04-26T00:00:00.000000000\",\"2023-04-27T00:00:00.000000000\",\"2023-04-28T00:00:00.000000000\",\"2023-04-29T00:00:00.000000000\",\"2023-04-30T00:00:00.000000000\",\"2023-05-01T00:00:00.000000000\",\"2023-05-02T00:00:00.000000000\",\"2023-05-03T00:00:00.000000000\",\"2023-05-04T00:00:00.000000000\",\"2023-05-05T00:00:00.000000000\",\"2023-05-06T00:00:00.000000000\",\"2023-05-07T00:00:00.000000000\",\"2023-05-08T00:00:00.000000000\",\"2023-05-09T00:00:00.000000000\"],\"y\":[0.0,0.0,0.0,0.0,0.0,0.0,0.0,0.0,0.0,0.0,0.0,0.0,0.0,0.0,0.0,0.0,0.0,0.0,0.0,0.0,0.0,0.0,0.0,0.0,0.0,0.0,0.0,0.0,0.0,0.0,0.0,0.0,0.0,0.0,0.0,0.0,0.0,0.0,0.0,0.0,0.0,0.0,0.0,0.0,0.0,0.0,0.0,0.0,0.0,0.0,0.0,0.0,0.0,0.0,0.0,0.0,0.0,0.0,0.0,0.0,0.0,0.0,0.0,0.0,0.0,0.0,0.0,0.0,0.0,0.0,0.0,0.0,0.0,0.0,0.0,0.0,0.0,0.0,0.0,0.0,0.0,0.0,0.0,0.0,0.0,0.0,0.0,0.0,0.0,0.0,0.0,0.0,0.0,0.0,0.0,0.0,0.0,0.0,0.0,0.0,0.0,0.0,0.0,0.0,0.0,0.0,0.0,0.0,0.0,0.0,0.0,0.0,0.0,0.0,0.0,0.0,0.0,0.0,0.0,0.0,0.0,0.0,0.0,0.0,0.0,0.0,0.0,0.0,0.0,0.0,0.0,0.0,0.0,0.0,0.0,0.0,0.0,0.0,0.0,0.0,0.0,0.0,0.0,0.0,0.0,0.0,0.0,0.0,0.0,0.0,0.0,0.0,0.0,0.0,0.0,0.0,0.0,0.0,0.0,0.0,0.0],\"type\":\"scatter\"},{\"line\":{\"color\":\"rgb(252,187,161)\"},\"name\":\"SOS Sublimation (10m uw)\",\"x\":[\"2022-11-30T00:00:00.000000000\",\"2022-12-01T00:00:00.000000000\",\"2022-12-02T00:00:00.000000000\",\"2022-12-03T00:00:00.000000000\",\"2022-12-04T00:00:00.000000000\",\"2022-12-05T00:00:00.000000000\",\"2022-12-06T00:00:00.000000000\",\"2022-12-07T00:00:00.000000000\",\"2022-12-08T00:00:00.000000000\",\"2022-12-09T00:00:00.000000000\",\"2022-12-10T00:00:00.000000000\",\"2022-12-11T00:00:00.000000000\",\"2022-12-12T00:00:00.000000000\",\"2022-12-13T00:00:00.000000000\",\"2022-12-14T00:00:00.000000000\",\"2022-12-15T00:00:00.000000000\",\"2022-12-16T00:00:00.000000000\",\"2022-12-17T00:00:00.000000000\",\"2022-12-18T00:00:00.000000000\",\"2022-12-19T00:00:00.000000000\",\"2022-12-20T00:00:00.000000000\",\"2022-12-21T00:00:00.000000000\",\"2022-12-22T00:00:00.000000000\",\"2022-12-23T00:00:00.000000000\",\"2022-12-24T00:00:00.000000000\",\"2022-12-25T00:00:00.000000000\",\"2022-12-26T00:00:00.000000000\",\"2022-12-27T00:00:00.000000000\",\"2022-12-28T00:00:00.000000000\",\"2022-12-29T00:00:00.000000000\",\"2022-12-30T00:00:00.000000000\",\"2022-12-31T00:00:00.000000000\",\"2023-01-01T00:00:00.000000000\",\"2023-01-02T00:00:00.000000000\",\"2023-01-03T00:00:00.000000000\",\"2023-01-04T00:00:00.000000000\",\"2023-01-05T00:00:00.000000000\",\"2023-01-06T00:00:00.000000000\",\"2023-01-07T00:00:00.000000000\",\"2023-01-08T00:00:00.000000000\",\"2023-01-09T00:00:00.000000000\",\"2023-01-10T00:00:00.000000000\",\"2023-01-11T00:00:00.000000000\",\"2023-01-12T00:00:00.000000000\",\"2023-01-13T00:00:00.000000000\",\"2023-01-14T00:00:00.000000000\",\"2023-01-15T00:00:00.000000000\",\"2023-01-16T00:00:00.000000000\",\"2023-01-17T00:00:00.000000000\",\"2023-01-18T00:00:00.000000000\",\"2023-01-19T00:00:00.000000000\",\"2023-01-20T00:00:00.000000000\",\"2023-01-21T00:00:00.000000000\",\"2023-01-22T00:00:00.000000000\",\"2023-01-23T00:00:00.000000000\",\"2023-01-24T00:00:00.000000000\",\"2023-01-25T00:00:00.000000000\",\"2023-01-26T00:00:00.000000000\",\"2023-01-27T00:00:00.000000000\",\"2023-01-28T00:00:00.000000000\",\"2023-01-29T00:00:00.000000000\",\"2023-01-30T00:00:00.000000000\",\"2023-01-31T00:00:00.000000000\",\"2023-02-01T00:00:00.000000000\",\"2023-02-02T00:00:00.000000000\",\"2023-02-03T00:00:00.000000000\",\"2023-02-04T00:00:00.000000000\",\"2023-02-05T00:00:00.000000000\",\"2023-02-06T00:00:00.000000000\",\"2023-02-07T00:00:00.000000000\",\"2023-02-08T00:00:00.000000000\",\"2023-02-09T00:00:00.000000000\",\"2023-02-10T00:00:00.000000000\",\"2023-02-11T00:00:00.000000000\",\"2023-02-12T00:00:00.000000000\",\"2023-02-13T00:00:00.000000000\",\"2023-02-14T00:00:00.000000000\",\"2023-02-15T00:00:00.000000000\",\"2023-02-16T00:00:00.000000000\",\"2023-02-17T00:00:00.000000000\",\"2023-02-18T00:00:00.000000000\",\"2023-02-19T00:00:00.000000000\",\"2023-02-20T00:00:00.000000000\",\"2023-02-21T00:00:00.000000000\",\"2023-02-22T00:00:00.000000000\",\"2023-02-23T00:00:00.000000000\",\"2023-02-24T00:00:00.000000000\",\"2023-02-25T00:00:00.000000000\",\"2023-02-26T00:00:00.000000000\",\"2023-02-27T00:00:00.000000000\",\"2023-02-28T00:00:00.000000000\",\"2023-03-01T00:00:00.000000000\",\"2023-03-02T00:00:00.000000000\",\"2023-03-03T00:00:00.000000000\",\"2023-03-04T00:00:00.000000000\",\"2023-03-05T00:00:00.000000000\",\"2023-03-06T00:00:00.000000000\",\"2023-03-07T00:00:00.000000000\",\"2023-03-08T00:00:00.000000000\",\"2023-03-09T00:00:00.000000000\",\"2023-03-10T00:00:00.000000000\",\"2023-03-11T00:00:00.000000000\",\"2023-03-12T00:00:00.000000000\",\"2023-03-13T00:00:00.000000000\",\"2023-03-14T00:00:00.000000000\",\"2023-03-15T00:00:00.000000000\",\"2023-03-16T00:00:00.000000000\",\"2023-03-17T00:00:00.000000000\",\"2023-03-18T00:00:00.000000000\",\"2023-03-19T00:00:00.000000000\",\"2023-03-20T00:00:00.000000000\",\"2023-03-21T00:00:00.000000000\",\"2023-03-22T00:00:00.000000000\",\"2023-03-23T00:00:00.000000000\",\"2023-03-24T00:00:00.000000000\",\"2023-03-25T00:00:00.000000000\",\"2023-03-26T00:00:00.000000000\",\"2023-03-27T00:00:00.000000000\",\"2023-03-28T00:00:00.000000000\",\"2023-03-29T00:00:00.000000000\",\"2023-03-30T00:00:00.000000000\",\"2023-03-31T00:00:00.000000000\",\"2023-04-01T00:00:00.000000000\",\"2023-04-02T00:00:00.000000000\",\"2023-04-03T00:00:00.000000000\",\"2023-04-04T00:00:00.000000000\",\"2023-04-05T00:00:00.000000000\",\"2023-04-06T00:00:00.000000000\",\"2023-04-07T00:00:00.000000000\",\"2023-04-08T00:00:00.000000000\",\"2023-04-09T00:00:00.000000000\",\"2023-04-10T00:00:00.000000000\",\"2023-04-11T00:00:00.000000000\",\"2023-04-12T00:00:00.000000000\",\"2023-04-13T00:00:00.000000000\",\"2023-04-14T00:00:00.000000000\",\"2023-04-15T00:00:00.000000000\",\"2023-04-16T00:00:00.000000000\",\"2023-04-17T00:00:00.000000000\",\"2023-04-18T00:00:00.000000000\",\"2023-04-19T00:00:00.000000000\",\"2023-04-20T00:00:00.000000000\",\"2023-04-21T00:00:00.000000000\",\"2023-04-22T00:00:00.000000000\",\"2023-04-23T00:00:00.000000000\",\"2023-04-24T00:00:00.000000000\",\"2023-04-25T00:00:00.000000000\",\"2023-04-26T00:00:00.000000000\",\"2023-04-27T00:00:00.000000000\",\"2023-04-28T00:00:00.000000000\",\"2023-04-29T00:00:00.000000000\",\"2023-04-30T00:00:00.000000000\",\"2023-05-01T00:00:00.000000000\",\"2023-05-02T00:00:00.000000000\",\"2023-05-03T00:00:00.000000000\",\"2023-05-04T00:00:00.000000000\",\"2023-05-05T00:00:00.000000000\",\"2023-05-06T00:00:00.000000000\",\"2023-05-07T00:00:00.000000000\",\"2023-05-08T00:00:00.000000000\",\"2023-05-09T00:00:00.000000000\"],\"y\":[-0.006865324333805371,-0.004446386655602778,0.5465318879899561,0.5780976880528068,0.5948896393577623,0.6532933983457121,0.9307110764406468,0.9229730004988381,1.1488435115472815,1.1278920112300639,1.1325447320648563,1.11056551435774,1.2680882164597,1.7679916270891858,2.2971095555410734,2.4117761878616597,2.533259871943648,2.5519025663261576,2.571249410115627,2.5930008388334618,2.625319657061289,2.999151527985561,4.4546582358376465,4.6481069274792475,4.804951855226006,5.051761025022414,5.115751337835308,5.22624100576142,5.256887309228519,5.4491141276904775,5.4594046585294125,5.47225302475231,5.452619499406091,5.515507464267253,5.668137163452431,6.044884051732353,6.05865745436572,6.050853752537645,6.09174944579889,6.09483952242534,6.071891530355551,6.1455121106447255,6.444348680778703,6.468805053207151,6.46406205490248,6.518885997938743,6.564068354204047,6.599861541397424,6.722260632535929,6.9718205183357105,6.963309871088821,6.944231694737507,7.157453586990693,7.226476664736435,7.253128260027176,7.3739313401120965,7.504661352762389,7.568046301944204,7.652036113311016,7.735985103163965,7.790254415450657,8.007430002529636,8.110228072521192,8.130351885899373,8.151999716711018,8.142749389271694,8.284050101602089,8.447541910498082,8.84351037834126,8.85407888584898,9.049562152727477,9.493783320174861,9.546624465621834,9.535831380416203,9.51330383334244,9.512819508773097,9.729034124183109,9.99410444185183,10.01717606591235,10.062411904381168,10.18240445235997,10.747199347274169,11.041733518961632,11.286478832350314,11.577449468689515,11.837995263450132,11.983358411844632,12.001173518215273,12.08049531401648,12.36276486925181,12.653167355527437,12.686603736999198,13.076664083606106,13.181937196968379,13.326239446941667,14.11569048973624,14.857520014669367,15.699158082679624,15.969296506945954,16.788643347103278,16.83082447009819,17.433740328297837,17.488891243487586,17.790115705337886,17.846677268007326,17.806581364100865,18.480337254937872,18.79524018336052,18.935866644970737,19.04862247397408,19.131563487678303,19.13579122515811,19.582859005362934,19.734969089054285,19.934875048149895,20.42304361082765,20.59431395753904,20.928631686556777,21.057091029884408,21.002848150635618,21.350857029830596,21.59435251416678,21.750069835205863,22.187311721832355,22.922997188153186,23.508747283198947,23.777567028282956,23.9130925458063,24.056182452059133,24.39568034205116,24.715067558031716,24.78782853336894,24.86838991393846,24.97554896736315,25.533950840148638,26.03316254796533,26.615211486323474,26.763496636040717,26.89561609364494,27.52733786020625,28.716678112643887,29.24440108756163,29.443994163885034,29.824592159971427,30.10156989915983,30.25434959851097,30.488670138116316,30.84937635747054,31.473443131103025,32.609348321514744,32.912877625554074,33.51930490858317,33.675786407652275,33.80381414429056,33.87381039972846,33.99038756201111,34.44561720086113,34.96561598551845,35.22866168390663,35.51042125605025,35.87377785029739],\"type\":\"scatter\"},{\"line\":{\"color\":\"rgb(199,233,192)\"},\"name\":\"SOS Sublimation (3m uw)\",\"x\":[\"2022-11-30T00:00:00.000000000\",\"2022-12-01T00:00:00.000000000\",\"2022-12-02T00:00:00.000000000\",\"2022-12-03T00:00:00.000000000\",\"2022-12-04T00:00:00.000000000\",\"2022-12-05T00:00:00.000000000\",\"2022-12-06T00:00:00.000000000\",\"2022-12-07T00:00:00.000000000\",\"2022-12-08T00:00:00.000000000\",\"2022-12-09T00:00:00.000000000\",\"2022-12-10T00:00:00.000000000\",\"2022-12-11T00:00:00.000000000\",\"2022-12-12T00:00:00.000000000\",\"2022-12-13T00:00:00.000000000\",\"2022-12-14T00:00:00.000000000\",\"2022-12-15T00:00:00.000000000\",\"2022-12-16T00:00:00.000000000\",\"2022-12-17T00:00:00.000000000\",\"2022-12-18T00:00:00.000000000\",\"2022-12-19T00:00:00.000000000\",\"2022-12-20T00:00:00.000000000\",\"2022-12-21T00:00:00.000000000\",\"2022-12-22T00:00:00.000000000\",\"2022-12-23T00:00:00.000000000\",\"2022-12-24T00:00:00.000000000\",\"2022-12-25T00:00:00.000000000\",\"2022-12-26T00:00:00.000000000\",\"2022-12-27T00:00:00.000000000\",\"2022-12-28T00:00:00.000000000\",\"2022-12-29T00:00:00.000000000\",\"2022-12-30T00:00:00.000000000\",\"2022-12-31T00:00:00.000000000\",\"2023-01-01T00:00:00.000000000\",\"2023-01-02T00:00:00.000000000\",\"2023-01-03T00:00:00.000000000\",\"2023-01-04T00:00:00.000000000\",\"2023-01-05T00:00:00.000000000\",\"2023-01-06T00:00:00.000000000\",\"2023-01-07T00:00:00.000000000\",\"2023-01-08T00:00:00.000000000\",\"2023-01-09T00:00:00.000000000\",\"2023-01-10T00:00:00.000000000\",\"2023-01-11T00:00:00.000000000\",\"2023-01-12T00:00:00.000000000\",\"2023-01-13T00:00:00.000000000\",\"2023-01-14T00:00:00.000000000\",\"2023-01-15T00:00:00.000000000\",\"2023-01-16T00:00:00.000000000\",\"2023-01-17T00:00:00.000000000\",\"2023-01-18T00:00:00.000000000\",\"2023-01-19T00:00:00.000000000\",\"2023-01-20T00:00:00.000000000\",\"2023-01-21T00:00:00.000000000\",\"2023-01-22T00:00:00.000000000\",\"2023-01-23T00:00:00.000000000\",\"2023-01-24T00:00:00.000000000\",\"2023-01-25T00:00:00.000000000\",\"2023-01-26T00:00:00.000000000\",\"2023-01-27T00:00:00.000000000\",\"2023-01-28T00:00:00.000000000\",\"2023-01-29T00:00:00.000000000\",\"2023-01-30T00:00:00.000000000\",\"2023-01-31T00:00:00.000000000\",\"2023-02-01T00:00:00.000000000\",\"2023-02-02T00:00:00.000000000\",\"2023-02-03T00:00:00.000000000\",\"2023-02-04T00:00:00.000000000\",\"2023-02-05T00:00:00.000000000\",\"2023-02-06T00:00:00.000000000\",\"2023-02-07T00:00:00.000000000\",\"2023-02-08T00:00:00.000000000\",\"2023-02-09T00:00:00.000000000\",\"2023-02-10T00:00:00.000000000\",\"2023-02-11T00:00:00.000000000\",\"2023-02-12T00:00:00.000000000\",\"2023-02-13T00:00:00.000000000\",\"2023-02-14T00:00:00.000000000\",\"2023-02-15T00:00:00.000000000\",\"2023-02-16T00:00:00.000000000\",\"2023-02-17T00:00:00.000000000\",\"2023-02-18T00:00:00.000000000\",\"2023-02-19T00:00:00.000000000\",\"2023-02-20T00:00:00.000000000\",\"2023-02-21T00:00:00.000000000\",\"2023-02-22T00:00:00.000000000\",\"2023-02-23T00:00:00.000000000\",\"2023-02-24T00:00:00.000000000\",\"2023-02-25T00:00:00.000000000\",\"2023-02-26T00:00:00.000000000\",\"2023-02-27T00:00:00.000000000\",\"2023-02-28T00:00:00.000000000\",\"2023-03-01T00:00:00.000000000\",\"2023-03-02T00:00:00.000000000\",\"2023-03-03T00:00:00.000000000\",\"2023-03-04T00:00:00.000000000\",\"2023-03-05T00:00:00.000000000\",\"2023-03-06T00:00:00.000000000\",\"2023-03-07T00:00:00.000000000\",\"2023-03-08T00:00:00.000000000\",\"2023-03-09T00:00:00.000000000\",\"2023-03-10T00:00:00.000000000\",\"2023-03-11T00:00:00.000000000\",\"2023-03-12T00:00:00.000000000\",\"2023-03-13T00:00:00.000000000\",\"2023-03-14T00:00:00.000000000\",\"2023-03-15T00:00:00.000000000\",\"2023-03-16T00:00:00.000000000\",\"2023-03-17T00:00:00.000000000\",\"2023-03-18T00:00:00.000000000\",\"2023-03-19T00:00:00.000000000\",\"2023-03-20T00:00:00.000000000\",\"2023-03-21T00:00:00.000000000\",\"2023-03-22T00:00:00.000000000\",\"2023-03-23T00:00:00.000000000\",\"2023-03-24T00:00:00.000000000\",\"2023-03-25T00:00:00.000000000\",\"2023-03-26T00:00:00.000000000\",\"2023-03-27T00:00:00.000000000\",\"2023-03-28T00:00:00.000000000\",\"2023-03-29T00:00:00.000000000\",\"2023-03-30T00:00:00.000000000\",\"2023-03-31T00:00:00.000000000\",\"2023-04-01T00:00:00.000000000\",\"2023-04-02T00:00:00.000000000\",\"2023-04-03T00:00:00.000000000\",\"2023-04-04T00:00:00.000000000\",\"2023-04-05T00:00:00.000000000\",\"2023-04-06T00:00:00.000000000\",\"2023-04-07T00:00:00.000000000\",\"2023-04-08T00:00:00.000000000\",\"2023-04-09T00:00:00.000000000\",\"2023-04-10T00:00:00.000000000\",\"2023-04-11T00:00:00.000000000\",\"2023-04-12T00:00:00.000000000\",\"2023-04-13T00:00:00.000000000\",\"2023-04-14T00:00:00.000000000\",\"2023-04-15T00:00:00.000000000\",\"2023-04-16T00:00:00.000000000\",\"2023-04-17T00:00:00.000000000\",\"2023-04-18T00:00:00.000000000\",\"2023-04-19T00:00:00.000000000\",\"2023-04-20T00:00:00.000000000\",\"2023-04-21T00:00:00.000000000\",\"2023-04-22T00:00:00.000000000\",\"2023-04-23T00:00:00.000000000\",\"2023-04-24T00:00:00.000000000\",\"2023-04-25T00:00:00.000000000\",\"2023-04-26T00:00:00.000000000\",\"2023-04-27T00:00:00.000000000\",\"2023-04-28T00:00:00.000000000\",\"2023-04-29T00:00:00.000000000\",\"2023-04-30T00:00:00.000000000\",\"2023-05-01T00:00:00.000000000\",\"2023-05-02T00:00:00.000000000\",\"2023-05-03T00:00:00.000000000\",\"2023-05-04T00:00:00.000000000\",\"2023-05-05T00:00:00.000000000\",\"2023-05-06T00:00:00.000000000\",\"2023-05-07T00:00:00.000000000\",\"2023-05-08T00:00:00.000000000\",\"2023-05-09T00:00:00.000000000\"],\"y\":[-0.010847689804541004,-0.007633600023649274,0.43811409651209293,0.442173048412638,0.4508194553379356,0.506658747245095,0.7519406284681311,0.7837852512071144,0.9225338428360877,0.895004023899451,0.849867343742938,0.8118954028145486,1.0431727771542916,1.4117393872704957,1.8443323414388721,1.9282474028708727,2.0226197933072436,2.0264576869014115,2.032851170999387,2.044539669224465,2.064886584850043,2.4658891465709405,3.649142256289828,3.8724924050715472,4.046238928420531,4.191841541937562,4.254015584166814,4.294724322118885,4.298055177784742,4.432155897999106,4.420111057939682,4.433049012200329,4.4854550275343055,4.5195844164606775,4.603394867074623,4.901231024586266,4.906137985266736,4.8998679049021465,4.876756291555863,4.843514752512347,4.849791795193865,4.985725258163804,5.215734521815084,5.226304736487004,5.200120981819549,5.247028681231905,5.279753324234822,5.303419236704303,5.3735878318473045,5.5757128324446015,5.539109296061654,5.525118027105749,5.594829086012027,5.658660355242784,5.665944549890616,5.736265376040216,5.833922367482762,5.856765437387787,5.9047831239875626,6.018169756721332,6.093442379407738,6.310509834038513,6.368687045709598,6.3711118206185775,6.3780015340594645,6.360794298090738,6.543514244055833,6.711893436956556,7.078881509750136,7.068034135253845,7.244142974810868,7.594740538242549,7.636291571425699,7.632340245028826,7.652921114546388,7.643927524599587,7.822748588491348,8.051440398843482,8.061842155454036,8.108713093170174,8.186298602888943,8.677864471151967,8.973327382612108,9.21792128510064,9.480602794966599,9.704383457801661,9.807155559179279,9.835680219053625,9.926533802918543,10.183208737899532,10.365360161248692,10.390909879527022,10.7902912945231,10.856602720882481,11.026153189249667,11.832407307741446,12.596224967766759,13.532777304322494,13.857409197511243,14.687523135945987,14.729959036615526,15.328728030730002,15.279226910941492,15.796472523539704,15.884921642202112,15.881719735971778,16.419452554660253,16.666992675214793,16.795731887122642,16.93487645426513,17.00057663549019,17.10553123559277,17.360990800636745,17.48243781353506,17.669915515630148,17.96484018395249,18.010152526720226,18.281312428942847,18.42498091451202,18.537724390462586,18.89370798417863,19.08765696309235,19.249690203923524,19.727350505628802,20.54164917224996,21.05802582519114,21.282889943717187,21.409169558325285,21.58302886021233,21.931850408948545,22.400835526919256,22.543231237785715,22.714918642435002,22.929633654760632,23.410416737269834,23.977029201458635,24.504738192929466,24.753791551107412,24.993928951358875,25.588636723293256,26.702515553073063,27.192496399061948,27.424780725337925,27.812770203334676,28.11490855335573,28.359670709743607,28.675112834095668,29.07227532047256,29.712957958870962,30.63305067379221,31.10680691441524,31.812100270007083,32.0427060101608,32.27395982953355,32.386019054889836,32.55124313588181,33.0775166724559,33.5785386907164,33.92411606246974,34.3157533005426,34.80706105969707],\"type\":\"scatter\"},{\"line\":{\"color\":\"rgb(252,146,114)\"},\"name\":\"SOS Sublimation (10m ue)\",\"x\":[\"2022-11-30T00:00:00.000000000\",\"2022-12-01T00:00:00.000000000\",\"2022-12-02T00:00:00.000000000\",\"2022-12-03T00:00:00.000000000\",\"2022-12-04T00:00:00.000000000\",\"2022-12-05T00:00:00.000000000\",\"2022-12-06T00:00:00.000000000\",\"2022-12-07T00:00:00.000000000\",\"2022-12-08T00:00:00.000000000\",\"2022-12-09T00:00:00.000000000\",\"2022-12-10T00:00:00.000000000\",\"2022-12-11T00:00:00.000000000\",\"2022-12-12T00:00:00.000000000\",\"2022-12-13T00:00:00.000000000\",\"2022-12-14T00:00:00.000000000\",\"2022-12-15T00:00:00.000000000\",\"2022-12-16T00:00:00.000000000\",\"2022-12-17T00:00:00.000000000\",\"2022-12-18T00:00:00.000000000\",\"2022-12-19T00:00:00.000000000\",\"2022-12-20T00:00:00.000000000\",\"2022-12-21T00:00:00.000000000\",\"2022-12-22T00:00:00.000000000\",\"2022-12-23T00:00:00.000000000\",\"2022-12-24T00:00:00.000000000\",\"2022-12-25T00:00:00.000000000\",\"2022-12-26T00:00:00.000000000\",\"2022-12-27T00:00:00.000000000\",\"2022-12-28T00:00:00.000000000\",\"2022-12-29T00:00:00.000000000\",\"2022-12-30T00:00:00.000000000\",\"2022-12-31T00:00:00.000000000\",\"2023-01-01T00:00:00.000000000\",\"2023-01-02T00:00:00.000000000\",\"2023-01-03T00:00:00.000000000\",\"2023-01-04T00:00:00.000000000\",\"2023-01-05T00:00:00.000000000\",\"2023-01-06T00:00:00.000000000\",\"2023-01-07T00:00:00.000000000\",\"2023-01-08T00:00:00.000000000\",\"2023-01-09T00:00:00.000000000\",\"2023-01-10T00:00:00.000000000\",\"2023-01-11T00:00:00.000000000\",\"2023-01-12T00:00:00.000000000\",\"2023-01-13T00:00:00.000000000\",\"2023-01-14T00:00:00.000000000\",\"2023-01-15T00:00:00.000000000\",\"2023-01-16T00:00:00.000000000\",\"2023-01-17T00:00:00.000000000\",\"2023-01-18T00:00:00.000000000\",\"2023-01-19T00:00:00.000000000\",\"2023-01-20T00:00:00.000000000\",\"2023-01-21T00:00:00.000000000\",\"2023-01-22T00:00:00.000000000\",\"2023-01-23T00:00:00.000000000\",\"2023-01-24T00:00:00.000000000\",\"2023-01-25T00:00:00.000000000\",\"2023-01-26T00:00:00.000000000\",\"2023-01-27T00:00:00.000000000\",\"2023-01-28T00:00:00.000000000\",\"2023-01-29T00:00:00.000000000\",\"2023-01-30T00:00:00.000000000\",\"2023-01-31T00:00:00.000000000\",\"2023-02-01T00:00:00.000000000\",\"2023-02-02T00:00:00.000000000\",\"2023-02-03T00:00:00.000000000\",\"2023-02-04T00:00:00.000000000\",\"2023-02-05T00:00:00.000000000\",\"2023-02-06T00:00:00.000000000\",\"2023-02-07T00:00:00.000000000\",\"2023-02-08T00:00:00.000000000\",\"2023-02-09T00:00:00.000000000\",\"2023-02-10T00:00:00.000000000\",\"2023-02-11T00:00:00.000000000\",\"2023-02-12T00:00:00.000000000\",\"2023-02-13T00:00:00.000000000\",\"2023-02-14T00:00:00.000000000\",\"2023-02-15T00:00:00.000000000\",\"2023-02-16T00:00:00.000000000\",\"2023-02-17T00:00:00.000000000\",\"2023-02-18T00:00:00.000000000\",\"2023-02-19T00:00:00.000000000\",\"2023-02-20T00:00:00.000000000\",\"2023-02-21T00:00:00.000000000\",\"2023-02-22T00:00:00.000000000\",\"2023-02-23T00:00:00.000000000\",\"2023-02-24T00:00:00.000000000\",\"2023-02-25T00:00:00.000000000\",\"2023-02-26T00:00:00.000000000\",\"2023-02-27T00:00:00.000000000\",\"2023-02-28T00:00:00.000000000\",\"2023-03-01T00:00:00.000000000\",\"2023-03-02T00:00:00.000000000\",\"2023-03-03T00:00:00.000000000\",\"2023-03-04T00:00:00.000000000\",\"2023-03-05T00:00:00.000000000\",\"2023-03-06T00:00:00.000000000\",\"2023-03-07T00:00:00.000000000\",\"2023-03-08T00:00:00.000000000\",\"2023-03-09T00:00:00.000000000\",\"2023-03-10T00:00:00.000000000\",\"2023-03-11T00:00:00.000000000\",\"2023-03-12T00:00:00.000000000\",\"2023-03-13T00:00:00.000000000\",\"2023-03-14T00:00:00.000000000\",\"2023-03-15T00:00:00.000000000\",\"2023-03-16T00:00:00.000000000\",\"2023-03-17T00:00:00.000000000\",\"2023-03-18T00:00:00.000000000\",\"2023-03-19T00:00:00.000000000\",\"2023-03-20T00:00:00.000000000\",\"2023-03-21T00:00:00.000000000\",\"2023-03-22T00:00:00.000000000\",\"2023-03-23T00:00:00.000000000\",\"2023-03-24T00:00:00.000000000\",\"2023-03-25T00:00:00.000000000\",\"2023-03-26T00:00:00.000000000\",\"2023-03-27T00:00:00.000000000\",\"2023-03-28T00:00:00.000000000\",\"2023-03-29T00:00:00.000000000\",\"2023-03-30T00:00:00.000000000\",\"2023-03-31T00:00:00.000000000\",\"2023-04-01T00:00:00.000000000\",\"2023-04-02T00:00:00.000000000\",\"2023-04-03T00:00:00.000000000\",\"2023-04-04T00:00:00.000000000\",\"2023-04-05T00:00:00.000000000\",\"2023-04-06T00:00:00.000000000\",\"2023-04-07T00:00:00.000000000\",\"2023-04-08T00:00:00.000000000\",\"2023-04-09T00:00:00.000000000\",\"2023-04-10T00:00:00.000000000\",\"2023-04-11T00:00:00.000000000\",\"2023-04-12T00:00:00.000000000\",\"2023-04-13T00:00:00.000000000\",\"2023-04-14T00:00:00.000000000\",\"2023-04-15T00:00:00.000000000\",\"2023-04-16T00:00:00.000000000\",\"2023-04-17T00:00:00.000000000\",\"2023-04-18T00:00:00.000000000\",\"2023-04-19T00:00:00.000000000\",\"2023-04-20T00:00:00.000000000\",\"2023-04-21T00:00:00.000000000\",\"2023-04-22T00:00:00.000000000\",\"2023-04-23T00:00:00.000000000\",\"2023-04-24T00:00:00.000000000\",\"2023-04-25T00:00:00.000000000\",\"2023-04-26T00:00:00.000000000\",\"2023-04-27T00:00:00.000000000\",\"2023-04-28T00:00:00.000000000\",\"2023-04-29T00:00:00.000000000\",\"2023-04-30T00:00:00.000000000\",\"2023-05-01T00:00:00.000000000\",\"2023-05-02T00:00:00.000000000\",\"2023-05-03T00:00:00.000000000\",\"2023-05-04T00:00:00.000000000\",\"2023-05-05T00:00:00.000000000\",\"2023-05-06T00:00:00.000000000\",\"2023-05-07T00:00:00.000000000\",\"2023-05-08T00:00:00.000000000\",\"2023-05-09T00:00:00.000000000\"],\"y\":[-0.018874116396132037,-0.06419468142580156,0.4650185339104712,0.49642255467095536,0.5134609438843465,0.6694287100479904,0.9504227299700517,0.9480881241524352,1.1368163476019715,1.1420461579840873,1.1132857963704834,1.0615723438094917,1.1804863285616718,1.609660376498542,2.109355133795415,2.22361762180129,2.3066849840827257,2.305717604139653,2.3153127157995868,2.319791278093453,2.340755792773237,2.847481479657007,4.179825493528632,4.302868332671356,4.435804554931059,4.650177723764436,4.740076123121303,4.820778604760424,4.858762362232621,4.999318358361236,5.0067267149181145,5.057620902011176,5.0869026476885155,5.1176900648441945,5.260939563640997,5.643539901009989,5.645676810495182,5.630587372776461,5.625638453867393,5.5924563969675125,5.5456073365841885,5.655299243841933,6.02168051990046,6.041635494592493,6.041669971455637,6.0854899799811015,6.168310731658532,6.21688797519562,6.453126332293764,6.67498056170584,6.65977480592672,6.644266740019909,6.7257196789309655,6.805521587790502,6.808382976747455,6.905210795422646,7.028065759638491,7.074934053631239,7.100455520195947,7.172331838693998,7.244220268615862,7.465851563743645,7.5063051713790365,7.50328299079416,7.5072226783259906,7.474619477680892,7.6116652918682135,7.797775284957676,8.208472818973249,8.234678559761269,8.362105155571081,8.789636151548851,8.819810811161853,8.804983058078808,8.768517872269634,8.778395927012278,8.915586801587228,9.149725228804257,9.168841892104064,9.16779093585102,9.210309584963955,9.716322104015761,10.081145879479784,10.280134771913819,10.56101335938549,10.739748645911424,10.781922865953815,10.77503668820601,10.836910075497302,11.07164362146912,11.267972363292795,11.2896100670204,11.620130692803148,11.674419593357765,11.858242786371711,12.613367878005214,13.138907649269596,13.930834966446083,14.11983200916317,14.922412680209764,14.918717296944893,15.452584537053113,15.498026072702302,15.71636459551696,15.766274569731264,15.767686812535246,16.496469049257936,16.780524749568055,16.86011233287745,16.95999474128488,16.979536826666074,17.210836367923175,17.486027549972633,17.6317504745697,17.770104757376963,18.078434606147106,18.140217430699654,18.2892333190611,18.386628755583867,18.341441205621642,18.625136839563922,18.864070667384418,19.019263944631334,19.428635909843965,20.196664867565694,20.66728403091271,20.86521242791039,20.98623647089859,21.082968296073673,21.399594677191537,21.76987361638616,21.825870020258588,21.882637213818263,21.910223518933254,22.443824172393636,22.940916349930784,23.492619745475544,23.61464666401804,23.7085769351184,24.234346637894568,25.310453056206214,25.76834886883137,25.94773380942094,26.2982978833284,26.513153868454303,26.642139408505606,26.836307669192312,27.120150680282304,27.697577137309647,28.76992319538228,29.0579797867003,29.62392039610549,29.716981228070242,29.76803596259974,29.807918272895492,29.846462288720282,30.26668710726148,30.754244030614526,31.007200366218157,31.23401845958602,31.496992798761514],\"type\":\"scatter\"},{\"line\":{\"color\":\"rgb(161,217,155)\"},\"name\":\"SOS Sublimation (3m ue)\",\"x\":[\"2022-11-30T00:00:00.000000000\",\"2022-12-01T00:00:00.000000000\",\"2022-12-02T00:00:00.000000000\",\"2022-12-03T00:00:00.000000000\",\"2022-12-04T00:00:00.000000000\",\"2022-12-05T00:00:00.000000000\",\"2022-12-06T00:00:00.000000000\",\"2022-12-07T00:00:00.000000000\",\"2022-12-08T00:00:00.000000000\",\"2022-12-09T00:00:00.000000000\",\"2022-12-10T00:00:00.000000000\",\"2022-12-11T00:00:00.000000000\",\"2022-12-12T00:00:00.000000000\",\"2022-12-13T00:00:00.000000000\",\"2022-12-14T00:00:00.000000000\",\"2022-12-15T00:00:00.000000000\",\"2022-12-16T00:00:00.000000000\",\"2022-12-17T00:00:00.000000000\",\"2022-12-18T00:00:00.000000000\",\"2022-12-19T00:00:00.000000000\",\"2022-12-20T00:00:00.000000000\",\"2022-12-21T00:00:00.000000000\",\"2022-12-22T00:00:00.000000000\",\"2022-12-23T00:00:00.000000000\",\"2022-12-24T00:00:00.000000000\",\"2022-12-25T00:00:00.000000000\",\"2022-12-26T00:00:00.000000000\",\"2022-12-27T00:00:00.000000000\",\"2022-12-28T00:00:00.000000000\",\"2022-12-29T00:00:00.000000000\",\"2022-12-30T00:00:00.000000000\",\"2022-12-31T00:00:00.000000000\",\"2023-01-01T00:00:00.000000000\",\"2023-01-02T00:00:00.000000000\",\"2023-01-03T00:00:00.000000000\",\"2023-01-04T00:00:00.000000000\",\"2023-01-05T00:00:00.000000000\",\"2023-01-06T00:00:00.000000000\",\"2023-01-07T00:00:00.000000000\",\"2023-01-08T00:00:00.000000000\",\"2023-01-09T00:00:00.000000000\",\"2023-01-10T00:00:00.000000000\",\"2023-01-11T00:00:00.000000000\",\"2023-01-12T00:00:00.000000000\",\"2023-01-13T00:00:00.000000000\",\"2023-01-14T00:00:00.000000000\",\"2023-01-15T00:00:00.000000000\",\"2023-01-16T00:00:00.000000000\",\"2023-01-17T00:00:00.000000000\",\"2023-01-18T00:00:00.000000000\",\"2023-01-19T00:00:00.000000000\",\"2023-01-20T00:00:00.000000000\",\"2023-01-21T00:00:00.000000000\",\"2023-01-22T00:00:00.000000000\",\"2023-01-23T00:00:00.000000000\",\"2023-01-24T00:00:00.000000000\",\"2023-01-25T00:00:00.000000000\",\"2023-01-26T00:00:00.000000000\",\"2023-01-27T00:00:00.000000000\",\"2023-01-28T00:00:00.000000000\",\"2023-01-29T00:00:00.000000000\",\"2023-01-30T00:00:00.000000000\",\"2023-01-31T00:00:00.000000000\",\"2023-02-01T00:00:00.000000000\",\"2023-02-02T00:00:00.000000000\",\"2023-02-03T00:00:00.000000000\",\"2023-02-04T00:00:00.000000000\",\"2023-02-05T00:00:00.000000000\",\"2023-02-06T00:00:00.000000000\",\"2023-02-07T00:00:00.000000000\",\"2023-02-08T00:00:00.000000000\",\"2023-02-09T00:00:00.000000000\",\"2023-02-10T00:00:00.000000000\",\"2023-02-11T00:00:00.000000000\",\"2023-02-12T00:00:00.000000000\",\"2023-02-13T00:00:00.000000000\",\"2023-02-14T00:00:00.000000000\",\"2023-02-15T00:00:00.000000000\",\"2023-02-16T00:00:00.000000000\",\"2023-02-17T00:00:00.000000000\",\"2023-02-18T00:00:00.000000000\",\"2023-02-19T00:00:00.000000000\",\"2023-02-20T00:00:00.000000000\",\"2023-02-21T00:00:00.000000000\",\"2023-02-22T00:00:00.000000000\",\"2023-02-23T00:00:00.000000000\",\"2023-02-24T00:00:00.000000000\",\"2023-02-25T00:00:00.000000000\",\"2023-02-26T00:00:00.000000000\",\"2023-02-27T00:00:00.000000000\",\"2023-02-28T00:00:00.000000000\",\"2023-03-01T00:00:00.000000000\",\"2023-03-02T00:00:00.000000000\",\"2023-03-03T00:00:00.000000000\",\"2023-03-04T00:00:00.000000000\",\"2023-03-05T00:00:00.000000000\",\"2023-03-06T00:00:00.000000000\",\"2023-03-07T00:00:00.000000000\",\"2023-03-08T00:00:00.000000000\",\"2023-03-09T00:00:00.000000000\",\"2023-03-10T00:00:00.000000000\",\"2023-03-11T00:00:00.000000000\",\"2023-03-12T00:00:00.000000000\",\"2023-03-13T00:00:00.000000000\",\"2023-03-14T00:00:00.000000000\",\"2023-03-15T00:00:00.000000000\",\"2023-03-16T00:00:00.000000000\",\"2023-03-17T00:00:00.000000000\",\"2023-03-18T00:00:00.000000000\",\"2023-03-19T00:00:00.000000000\",\"2023-03-20T00:00:00.000000000\",\"2023-03-21T00:00:00.000000000\",\"2023-03-22T00:00:00.000000000\",\"2023-03-23T00:00:00.000000000\",\"2023-03-24T00:00:00.000000000\",\"2023-03-25T00:00:00.000000000\",\"2023-03-26T00:00:00.000000000\",\"2023-03-27T00:00:00.000000000\",\"2023-03-28T00:00:00.000000000\",\"2023-03-29T00:00:00.000000000\",\"2023-03-30T00:00:00.000000000\",\"2023-03-31T00:00:00.000000000\",\"2023-04-01T00:00:00.000000000\",\"2023-04-02T00:00:00.000000000\",\"2023-04-03T00:00:00.000000000\",\"2023-04-04T00:00:00.000000000\",\"2023-04-05T00:00:00.000000000\",\"2023-04-06T00:00:00.000000000\",\"2023-04-07T00:00:00.000000000\",\"2023-04-08T00:00:00.000000000\",\"2023-04-09T00:00:00.000000000\",\"2023-04-10T00:00:00.000000000\",\"2023-04-11T00:00:00.000000000\",\"2023-04-12T00:00:00.000000000\",\"2023-04-13T00:00:00.000000000\",\"2023-04-14T00:00:00.000000000\",\"2023-04-15T00:00:00.000000000\",\"2023-04-16T00:00:00.000000000\",\"2023-04-17T00:00:00.000000000\",\"2023-04-18T00:00:00.000000000\",\"2023-04-19T00:00:00.000000000\",\"2023-04-20T00:00:00.000000000\",\"2023-04-21T00:00:00.000000000\",\"2023-04-22T00:00:00.000000000\",\"2023-04-23T00:00:00.000000000\",\"2023-04-24T00:00:00.000000000\",\"2023-04-25T00:00:00.000000000\",\"2023-04-26T00:00:00.000000000\",\"2023-04-27T00:00:00.000000000\",\"2023-04-28T00:00:00.000000000\",\"2023-04-29T00:00:00.000000000\",\"2023-04-30T00:00:00.000000000\",\"2023-05-01T00:00:00.000000000\",\"2023-05-02T00:00:00.000000000\",\"2023-05-03T00:00:00.000000000\",\"2023-05-04T00:00:00.000000000\",\"2023-05-05T00:00:00.000000000\",\"2023-05-06T00:00:00.000000000\",\"2023-05-07T00:00:00.000000000\",\"2023-05-08T00:00:00.000000000\",\"2023-05-09T00:00:00.000000000\"],\"y\":[-0.01002261036461872,-0.01717708836015802,0.43642727881719484,0.44515955138042446,0.4461343923117912,0.5564249675682595,0.8049016969623946,0.8411196491929329,0.9984741291341321,0.9871716506048016,0.9430399880236051,0.8963368871916315,1.0883282046988312,1.475033117016386,1.9319573287770195,2.0317499020610907,2.128889753469724,2.132983127769347,2.1400979518056613,2.1500420853313256,2.1699458766966484,2.4763021623532513,3.694011216849459,3.8839971522737597,4.03657680229959,4.2648922176287485,4.3217527175239,4.371573557842946,4.3803002731497305,4.506308533811185,4.5232691381500825,4.532172271900381,4.570306504286845,4.580456147624014,4.6711528886114735,4.986656354737866,4.977746168036803,4.987870861521378,4.97319276653439,4.937587890920667,4.936226082609971,5.079141131675007,5.284403938894847,5.302832462502982,5.278459502046706,5.32091318360305,5.341208275113993,5.347191196113773,5.582357885330004,5.80360479382336,5.760876747426666,5.739321202501014,5.862373913995897,5.951295480901485,5.961010197628332,6.081123734063222,6.18092555849782,6.225265256065712,6.30934296126358,6.429827586845475,6.508801395187877,6.718979955209145,6.765485562477693,6.771747149035521,6.782054430981687,6.760353820932115,6.938629554436104,7.1202601825875105,7.504960618073012,7.495698114781867,7.717355651321694,8.10316838054607,8.13830360756792,8.139675682008416,8.150787365003904,8.147912717076172,8.348793574088166,8.558964817634791,8.577896045620784,8.634270633800769,8.705635401058947,9.226242642512954,9.547587590674077,9.772120786316496,10.014175767193873,10.214684584314488,10.30118946077705,10.32863130439141,10.398817134806176,10.707228951193509,10.884833656025506,10.907531230934655,11.262303899271874,11.319705826624816,11.496424642346845,12.272376118251996,13.00579324822249,13.940387283262913,14.297158942813397,15.142974427817325,15.226411617356433,15.827427074474594,15.843483551754638,16.08246626632857,16.16152315268942,16.18450442660802,17.07254444275582,17.331551393837668,17.449409393190177,17.570489617284696,17.580748902035374,17.620631635646777,17.874223263016503,17.998132639714065,18.19160910159996,18.498840878775063,18.53123553995477,18.799598686785504,18.96935783591372,19.077975907747145,19.42994034142101,19.658402195778304,19.817722562588276,20.33478165119521,21.154878255079513,21.648453265796316,21.893405705691084,22.031788447861867,22.201415441998392,22.563298630592545,22.978358372959782,23.08791442436565,23.22186854386554,23.424651355867073,23.932771232471453,24.4742775217657,25.031131576698566,25.255661855609883,25.44555447218235,26.123334128325702,27.238822925180138,27.73850001172508,27.955628113590343,28.305591391280373,28.635737327864824,28.86537420609199,29.153030444808433,29.643703389407253,30.2469306319064,31.31158062815059,31.746561092833122,32.36316308737596,32.55202496768407,32.72841672448099,32.820148781869804,33.00114357013517,33.5474754253484,34.098004661134134,34.41420455855162,34.7395014478009,35.17740286005241],\"type\":\"scatter\"},{\"line\":{\"color\":\"rgb(251,106,74)\"},\"name\":\"SOS Sublimation (10m d)\",\"x\":[\"2022-11-30T00:00:00.000000000\",\"2022-12-01T00:00:00.000000000\",\"2022-12-02T00:00:00.000000000\",\"2022-12-03T00:00:00.000000000\",\"2022-12-04T00:00:00.000000000\",\"2022-12-05T00:00:00.000000000\",\"2022-12-06T00:00:00.000000000\",\"2022-12-07T00:00:00.000000000\",\"2022-12-08T00:00:00.000000000\",\"2022-12-09T00:00:00.000000000\",\"2022-12-10T00:00:00.000000000\",\"2022-12-11T00:00:00.000000000\",\"2022-12-12T00:00:00.000000000\",\"2022-12-13T00:00:00.000000000\",\"2022-12-14T00:00:00.000000000\",\"2022-12-15T00:00:00.000000000\",\"2022-12-16T00:00:00.000000000\",\"2022-12-17T00:00:00.000000000\",\"2022-12-18T00:00:00.000000000\",\"2022-12-19T00:00:00.000000000\",\"2022-12-20T00:00:00.000000000\",\"2022-12-21T00:00:00.000000000\",\"2022-12-22T00:00:00.000000000\",\"2022-12-23T00:00:00.000000000\",\"2022-12-24T00:00:00.000000000\",\"2022-12-25T00:00:00.000000000\",\"2022-12-26T00:00:00.000000000\",\"2022-12-27T00:00:00.000000000\",\"2022-12-28T00:00:00.000000000\",\"2022-12-29T00:00:00.000000000\",\"2022-12-30T00:00:00.000000000\",\"2022-12-31T00:00:00.000000000\",\"2023-01-01T00:00:00.000000000\",\"2023-01-02T00:00:00.000000000\",\"2023-01-03T00:00:00.000000000\",\"2023-01-04T00:00:00.000000000\",\"2023-01-05T00:00:00.000000000\",\"2023-01-06T00:00:00.000000000\",\"2023-01-07T00:00:00.000000000\",\"2023-01-08T00:00:00.000000000\",\"2023-01-09T00:00:00.000000000\",\"2023-01-10T00:00:00.000000000\",\"2023-01-11T00:00:00.000000000\",\"2023-01-12T00:00:00.000000000\",\"2023-01-13T00:00:00.000000000\",\"2023-01-14T00:00:00.000000000\",\"2023-01-15T00:00:00.000000000\",\"2023-01-16T00:00:00.000000000\",\"2023-01-17T00:00:00.000000000\",\"2023-01-18T00:00:00.000000000\",\"2023-01-19T00:00:00.000000000\",\"2023-01-20T00:00:00.000000000\",\"2023-01-21T00:00:00.000000000\",\"2023-01-22T00:00:00.000000000\",\"2023-01-23T00:00:00.000000000\",\"2023-01-24T00:00:00.000000000\",\"2023-01-25T00:00:00.000000000\",\"2023-01-26T00:00:00.000000000\",\"2023-01-27T00:00:00.000000000\",\"2023-01-28T00:00:00.000000000\",\"2023-01-29T00:00:00.000000000\",\"2023-01-30T00:00:00.000000000\",\"2023-01-31T00:00:00.000000000\",\"2023-02-01T00:00:00.000000000\",\"2023-02-02T00:00:00.000000000\",\"2023-02-03T00:00:00.000000000\",\"2023-02-04T00:00:00.000000000\",\"2023-02-05T00:00:00.000000000\",\"2023-02-06T00:00:00.000000000\",\"2023-02-07T00:00:00.000000000\",\"2023-02-08T00:00:00.000000000\",\"2023-02-09T00:00:00.000000000\",\"2023-02-10T00:00:00.000000000\",\"2023-02-11T00:00:00.000000000\",\"2023-02-12T00:00:00.000000000\",\"2023-02-13T00:00:00.000000000\",\"2023-02-14T00:00:00.000000000\",\"2023-02-15T00:00:00.000000000\",\"2023-02-16T00:00:00.000000000\",\"2023-02-17T00:00:00.000000000\",\"2023-02-18T00:00:00.000000000\",\"2023-02-19T00:00:00.000000000\",\"2023-02-20T00:00:00.000000000\",\"2023-02-21T00:00:00.000000000\",\"2023-02-22T00:00:00.000000000\",\"2023-02-23T00:00:00.000000000\",\"2023-02-24T00:00:00.000000000\",\"2023-02-25T00:00:00.000000000\",\"2023-02-26T00:00:00.000000000\",\"2023-02-27T00:00:00.000000000\",\"2023-02-28T00:00:00.000000000\",\"2023-03-01T00:00:00.000000000\",\"2023-03-02T00:00:00.000000000\",\"2023-03-03T00:00:00.000000000\",\"2023-03-04T00:00:00.000000000\",\"2023-03-05T00:00:00.000000000\",\"2023-03-06T00:00:00.000000000\",\"2023-03-07T00:00:00.000000000\",\"2023-03-08T00:00:00.000000000\",\"2023-03-09T00:00:00.000000000\",\"2023-03-10T00:00:00.000000000\",\"2023-03-11T00:00:00.000000000\",\"2023-03-12T00:00:00.000000000\",\"2023-03-13T00:00:00.000000000\",\"2023-03-14T00:00:00.000000000\",\"2023-03-15T00:00:00.000000000\",\"2023-03-16T00:00:00.000000000\",\"2023-03-17T00:00:00.000000000\",\"2023-03-18T00:00:00.000000000\",\"2023-03-19T00:00:00.000000000\",\"2023-03-20T00:00:00.000000000\",\"2023-03-21T00:00:00.000000000\",\"2023-03-22T00:00:00.000000000\",\"2023-03-23T00:00:00.000000000\",\"2023-03-24T00:00:00.000000000\",\"2023-03-25T00:00:00.000000000\",\"2023-03-26T00:00:00.000000000\",\"2023-03-27T00:00:00.000000000\",\"2023-03-28T00:00:00.000000000\",\"2023-03-29T00:00:00.000000000\",\"2023-03-30T00:00:00.000000000\",\"2023-03-31T00:00:00.000000000\",\"2023-04-01T00:00:00.000000000\",\"2023-04-02T00:00:00.000000000\",\"2023-04-03T00:00:00.000000000\",\"2023-04-04T00:00:00.000000000\",\"2023-04-05T00:00:00.000000000\",\"2023-04-06T00:00:00.000000000\",\"2023-04-07T00:00:00.000000000\",\"2023-04-08T00:00:00.000000000\",\"2023-04-09T00:00:00.000000000\",\"2023-04-10T00:00:00.000000000\",\"2023-04-11T00:00:00.000000000\",\"2023-04-12T00:00:00.000000000\",\"2023-04-13T00:00:00.000000000\",\"2023-04-14T00:00:00.000000000\",\"2023-04-15T00:00:00.000000000\",\"2023-04-16T00:00:00.000000000\",\"2023-04-17T00:00:00.000000000\",\"2023-04-18T00:00:00.000000000\",\"2023-04-19T00:00:00.000000000\",\"2023-04-20T00:00:00.000000000\",\"2023-04-21T00:00:00.000000000\",\"2023-04-22T00:00:00.000000000\",\"2023-04-23T00:00:00.000000000\",\"2023-04-24T00:00:00.000000000\",\"2023-04-25T00:00:00.000000000\",\"2023-04-26T00:00:00.000000000\",\"2023-04-27T00:00:00.000000000\",\"2023-04-28T00:00:00.000000000\",\"2023-04-29T00:00:00.000000000\",\"2023-04-30T00:00:00.000000000\",\"2023-05-01T00:00:00.000000000\",\"2023-05-02T00:00:00.000000000\",\"2023-05-03T00:00:00.000000000\",\"2023-05-04T00:00:00.000000000\",\"2023-05-05T00:00:00.000000000\",\"2023-05-06T00:00:00.000000000\",\"2023-05-07T00:00:00.000000000\",\"2023-05-08T00:00:00.000000000\",\"2023-05-09T00:00:00.000000000\"],\"y\":[0.006962884598727322,-0.022452022983123807,0.4729135675293959,0.4852400201480987,0.5005051562759502,0.5904772048847192,0.8492856053309524,0.8865943803406917,1.0813191746015733,1.089590521758943,1.0783933539061779,1.037254613072249,1.185932962524688,1.6217669714382028,2.067489691128296,2.196626476214793,2.3007159231379477,2.3123019304877523,2.3188124761238678,2.3365155502205432,2.3636843418118594,2.8349581928900838,4.214040008202577,4.39593483769024,4.539301448844404,4.781652034973991,4.844613378472617,4.9537518142090455,4.986364660639191,5.133752301192787,5.1039092862506825,5.121382521163634,5.090631723284148,5.147933876343072,5.285099487453659,5.628330345142127,5.627960943013018,5.642088244497506,5.65188478616794,5.6598582155481125,5.614103615425222,5.777060747397101,6.059099782891075,6.088396338780462,6.075843602648161,6.108530041609697,6.162019262519456,6.191479012911131,6.398656677921861,6.644968094135494,6.618488691424609,6.597732553325408,6.71761235661915,6.785437324123168,6.804213566994861,6.9231144882220805,7.0451928505560035,7.1039698913585845,7.140408659907744,7.247389899356492,7.321668909736715,7.532407018505797,7.615665549579677,7.6207165486989075,7.627996944797727,7.605367170604384,7.732930410692958,7.876889054103097,8.254459082431817,8.265540784589916,8.422733307455497,8.827932439825968,8.884273923884564,8.866042553422199,8.850006771975416,8.839740768416211,9.030823674019178,9.30973131780615,9.334731169073363,9.363036616002178,9.439030388496413,9.94392222519022,10.27364420090717,10.498775827244774,10.758455909311238,10.999937957227798,11.11797874221437,11.124059232905187,11.202824971680842,11.467259345253131,11.659160476115387,11.686168125224937,12.023945406357472,12.097849657809114,12.235971741175845,12.968238464626959,13.5430767797412,14.394949139068899,14.654297907530326,15.442335703846723,15.486203969895582,16.16656752621962,16.231158518989243,16.479195117068855,16.53340676032036,16.553591913631344,17.399508176856273,17.703051546580138,17.806388363731116,17.895616390259562,17.89997499159986,17.992098785067817,18.354642092027166,18.48626023293125,18.68195280163143,19.083754943947323,19.167445492658597,19.475043596327872,19.652406418267546,19.61274312721633,19.954056579141632,20.204703170517135,20.365964958014327,20.837094894156944,21.561015836270126,22.10995167517865,22.353301036587368,22.46120790830231,22.59756179699848,22.924097986223614,23.228707259291745,23.28194625119938,23.348758355869492,23.469426427377325,24.057593200988837,24.553622762874213,25.090119050738842,25.220318433368,25.33613754333443,25.97606011609328,27.050145001515187,27.545381877033567,27.742922905215824,28.062946173119617,28.318897353913044,28.46330912099824,28.63710439824869,29.124515367870934,29.67589259111903,30.673324949887224,30.978586428865793,31.522994704155963,31.649511853071264,31.727101699324603,31.767443248802888,31.889220675464696,32.31520707296301,32.77115426944987,33.039382601966686,33.28219957713571,33.5902317410829],\"type\":\"scatter\"},{\"line\":{\"color\":\"rgb(116,196,118)\"},\"name\":\"SOS Sublimation (3m d)\",\"x\":[\"2022-11-30T00:00:00.000000000\",\"2022-12-01T00:00:00.000000000\",\"2022-12-02T00:00:00.000000000\",\"2022-12-03T00:00:00.000000000\",\"2022-12-04T00:00:00.000000000\",\"2022-12-05T00:00:00.000000000\",\"2022-12-06T00:00:00.000000000\",\"2022-12-07T00:00:00.000000000\",\"2022-12-08T00:00:00.000000000\",\"2022-12-09T00:00:00.000000000\",\"2022-12-10T00:00:00.000000000\",\"2022-12-11T00:00:00.000000000\",\"2022-12-12T00:00:00.000000000\",\"2022-12-13T00:00:00.000000000\",\"2022-12-14T00:00:00.000000000\",\"2022-12-15T00:00:00.000000000\",\"2022-12-16T00:00:00.000000000\",\"2022-12-17T00:00:00.000000000\",\"2022-12-18T00:00:00.000000000\",\"2022-12-19T00:00:00.000000000\",\"2022-12-20T00:00:00.000000000\",\"2022-12-21T00:00:00.000000000\",\"2022-12-22T00:00:00.000000000\",\"2022-12-23T00:00:00.000000000\",\"2022-12-24T00:00:00.000000000\",\"2022-12-25T00:00:00.000000000\",\"2022-12-26T00:00:00.000000000\",\"2022-12-27T00:00:00.000000000\",\"2022-12-28T00:00:00.000000000\",\"2022-12-29T00:00:00.000000000\",\"2022-12-30T00:00:00.000000000\",\"2022-12-31T00:00:00.000000000\",\"2023-01-01T00:00:00.000000000\",\"2023-01-02T00:00:00.000000000\",\"2023-01-03T00:00:00.000000000\",\"2023-01-04T00:00:00.000000000\",\"2023-01-05T00:00:00.000000000\",\"2023-01-06T00:00:00.000000000\",\"2023-01-07T00:00:00.000000000\",\"2023-01-08T00:00:00.000000000\",\"2023-01-09T00:00:00.000000000\",\"2023-01-10T00:00:00.000000000\",\"2023-01-11T00:00:00.000000000\",\"2023-01-12T00:00:00.000000000\",\"2023-01-13T00:00:00.000000000\",\"2023-01-14T00:00:00.000000000\",\"2023-01-15T00:00:00.000000000\",\"2023-01-16T00:00:00.000000000\",\"2023-01-17T00:00:00.000000000\",\"2023-01-18T00:00:00.000000000\",\"2023-01-19T00:00:00.000000000\",\"2023-01-20T00:00:00.000000000\",\"2023-01-21T00:00:00.000000000\",\"2023-01-22T00:00:00.000000000\",\"2023-01-23T00:00:00.000000000\",\"2023-01-24T00:00:00.000000000\",\"2023-01-25T00:00:00.000000000\",\"2023-01-26T00:00:00.000000000\",\"2023-01-27T00:00:00.000000000\",\"2023-01-28T00:00:00.000000000\",\"2023-01-29T00:00:00.000000000\",\"2023-01-30T00:00:00.000000000\",\"2023-01-31T00:00:00.000000000\",\"2023-02-01T00:00:00.000000000\",\"2023-02-02T00:00:00.000000000\",\"2023-02-03T00:00:00.000000000\",\"2023-02-04T00:00:00.000000000\",\"2023-02-05T00:00:00.000000000\",\"2023-02-06T00:00:00.000000000\",\"2023-02-07T00:00:00.000000000\",\"2023-02-08T00:00:00.000000000\",\"2023-02-09T00:00:00.000000000\",\"2023-02-10T00:00:00.000000000\",\"2023-02-11T00:00:00.000000000\",\"2023-02-12T00:00:00.000000000\",\"2023-02-13T00:00:00.000000000\",\"2023-02-14T00:00:00.000000000\",\"2023-02-15T00:00:00.000000000\",\"2023-02-16T00:00:00.000000000\",\"2023-02-17T00:00:00.000000000\",\"2023-02-18T00:00:00.000000000\",\"2023-02-19T00:00:00.000000000\",\"2023-02-20T00:00:00.000000000\",\"2023-02-21T00:00:00.000000000\",\"2023-02-22T00:00:00.000000000\",\"2023-02-23T00:00:00.000000000\",\"2023-02-24T00:00:00.000000000\",\"2023-02-25T00:00:00.000000000\",\"2023-02-26T00:00:00.000000000\",\"2023-02-27T00:00:00.000000000\",\"2023-02-28T00:00:00.000000000\",\"2023-03-01T00:00:00.000000000\",\"2023-03-02T00:00:00.000000000\",\"2023-03-03T00:00:00.000000000\",\"2023-03-04T00:00:00.000000000\",\"2023-03-05T00:00:00.000000000\",\"2023-03-06T00:00:00.000000000\",\"2023-03-07T00:00:00.000000000\",\"2023-03-08T00:00:00.000000000\",\"2023-03-09T00:00:00.000000000\",\"2023-03-10T00:00:00.000000000\",\"2023-03-11T00:00:00.000000000\",\"2023-03-12T00:00:00.000000000\",\"2023-03-13T00:00:00.000000000\",\"2023-03-14T00:00:00.000000000\",\"2023-03-15T00:00:00.000000000\",\"2023-03-16T00:00:00.000000000\",\"2023-03-17T00:00:00.000000000\",\"2023-03-18T00:00:00.000000000\",\"2023-03-19T00:00:00.000000000\",\"2023-03-20T00:00:00.000000000\",\"2023-03-21T00:00:00.000000000\",\"2023-03-22T00:00:00.000000000\",\"2023-03-23T00:00:00.000000000\",\"2023-03-24T00:00:00.000000000\",\"2023-03-25T00:00:00.000000000\",\"2023-03-26T00:00:00.000000000\",\"2023-03-27T00:00:00.000000000\",\"2023-03-28T00:00:00.000000000\",\"2023-03-29T00:00:00.000000000\",\"2023-03-30T00:00:00.000000000\",\"2023-03-31T00:00:00.000000000\",\"2023-04-01T00:00:00.000000000\",\"2023-04-02T00:00:00.000000000\",\"2023-04-03T00:00:00.000000000\",\"2023-04-04T00:00:00.000000000\",\"2023-04-05T00:00:00.000000000\",\"2023-04-06T00:00:00.000000000\",\"2023-04-07T00:00:00.000000000\",\"2023-04-08T00:00:00.000000000\",\"2023-04-09T00:00:00.000000000\",\"2023-04-10T00:00:00.000000000\",\"2023-04-11T00:00:00.000000000\",\"2023-04-12T00:00:00.000000000\",\"2023-04-13T00:00:00.000000000\",\"2023-04-14T00:00:00.000000000\",\"2023-04-15T00:00:00.000000000\",\"2023-04-16T00:00:00.000000000\",\"2023-04-17T00:00:00.000000000\",\"2023-04-18T00:00:00.000000000\",\"2023-04-19T00:00:00.000000000\",\"2023-04-20T00:00:00.000000000\",\"2023-04-21T00:00:00.000000000\",\"2023-04-22T00:00:00.000000000\",\"2023-04-23T00:00:00.000000000\",\"2023-04-24T00:00:00.000000000\",\"2023-04-25T00:00:00.000000000\",\"2023-04-26T00:00:00.000000000\",\"2023-04-27T00:00:00.000000000\",\"2023-04-28T00:00:00.000000000\",\"2023-04-29T00:00:00.000000000\",\"2023-04-30T00:00:00.000000000\",\"2023-05-01T00:00:00.000000000\",\"2023-05-02T00:00:00.000000000\",\"2023-05-03T00:00:00.000000000\",\"2023-05-04T00:00:00.000000000\",\"2023-05-05T00:00:00.000000000\",\"2023-05-06T00:00:00.000000000\",\"2023-05-07T00:00:00.000000000\",\"2023-05-08T00:00:00.000000000\",\"2023-05-09T00:00:00.000000000\"],\"y\":[-0.0151468022275464,-0.031674584354455526,0.3777607102322679,0.37443888776055134,0.3739585828327233,0.4733109911708777,0.7342418057611124,0.7651556975718836,0.9176323677788635,0.8907964821481315,0.8354772213754658,0.7911623151783787,1.0060063097473249,1.398431395425421,1.8543265030548972,1.9634445170272976,2.0616443963215,2.0606397363314324,2.0586683492478013,2.071954900588099,2.068748345872771,2.343934037259961,3.4488694602467067,3.650241848905526,3.817915754650968,4.016813644693482,4.075367218782858,4.136672359106196,4.137650486278758,4.258256977379135,4.245958125776473,4.264563777054858,4.30022669017987,4.336583390519648,4.43471842543925,4.776518494389192,4.770077057622168,4.789558488242914,4.777847800873128,4.7304905358392215,4.730325800019109,4.901570179381842,5.10996563051953,5.121578561983631,5.094178443474763,5.108811007143558,5.162068444128302,5.1747833022941565,5.334602109215641,5.573756598748364,5.528642178393568,5.507936314729721,5.6267095261099485,5.70621981006315,5.705442458469699,5.808870315058105,5.918870710997883,5.941496924275107,6.0283441258225565,6.162085308880293,6.239766207434352,6.441634909407123,6.496658557499878,6.503780409977943,6.513498208528129,6.498138623796659,6.687520626895695,6.846217151217875,7.230355753856001,7.211922926145016,7.458540254853154,7.850900865036239,7.883971659845158,7.879414358881385,7.892794390885753,7.873233289619306,8.064019451003618,8.280124321836912,8.297454196707632,8.346024676924866,8.429324761184006,8.920765702230137,9.23263013021887,9.474346804032876,9.695723863108356,9.870642207173024,9.961908276532089,9.987630608134035,10.050437472169737,10.371697301324977,10.546357984128592,10.560882499486848,10.964722915605458,11.017757923118543,11.181604564481862,11.97441484886613,12.717987334810166,13.647622419425847,14.006965408173382,14.8401384908326,14.87993323933962,15.564840199786007,15.564679918097818,15.796453605428292,15.870693769684788,15.899625803274356,16.73071158652396,16.98316239076948,17.107871199225784,17.23643257108205,17.270089591378685,17.33179331327339,17.560637349276696,17.68264308956443,17.86778387809113,18.15405930407521,18.19257094708439,18.427888967686044,18.580511086309574,18.679622203268814,19.044339515542962,19.217827063566265,19.374763291588224,19.86950561581315,20.68791507453751,21.17560982150426,21.40610991381491,21.55940663940462,21.742741177186105,22.119204648410204,22.590425089667054,22.732974137565034,22.874243057768854,23.110793932247088,23.632888965752343,24.185721801239403,24.760086819268206,24.974530792968125,25.20116258336084,25.84388149305426,27.02578487892264,27.525188829772503,27.74087651956727,28.13557005640533,28.481437593445513,28.74644912983783,29.130987288146375,29.601215037429593,30.27020011382487,31.282254183377233,31.796801863457347,32.44963076565601,32.67160982553064,32.89217323252172,32.990224770216194,33.13551864126901,33.694448220261364,34.225767859538955,34.578595501106385,34.940077696893354,35.46074971237827],\"type\":\"scatter\"},{\"line\":{\"color\":\"rgb(239,59,44)\"},\"name\":\"SOS Sublimation (10m c)\",\"x\":[\"2022-11-30T00:00:00.000000000\",\"2022-12-01T00:00:00.000000000\",\"2022-12-02T00:00:00.000000000\",\"2022-12-03T00:00:00.000000000\",\"2022-12-04T00:00:00.000000000\",\"2022-12-05T00:00:00.000000000\",\"2022-12-06T00:00:00.000000000\",\"2022-12-07T00:00:00.000000000\",\"2022-12-08T00:00:00.000000000\",\"2022-12-09T00:00:00.000000000\",\"2022-12-10T00:00:00.000000000\",\"2022-12-11T00:00:00.000000000\",\"2022-12-12T00:00:00.000000000\",\"2022-12-13T00:00:00.000000000\",\"2022-12-14T00:00:00.000000000\",\"2022-12-15T00:00:00.000000000\",\"2022-12-16T00:00:00.000000000\",\"2022-12-17T00:00:00.000000000\",\"2022-12-18T00:00:00.000000000\",\"2022-12-19T00:00:00.000000000\",\"2022-12-20T00:00:00.000000000\",\"2022-12-21T00:00:00.000000000\",\"2022-12-22T00:00:00.000000000\",\"2022-12-23T00:00:00.000000000\",\"2022-12-24T00:00:00.000000000\",\"2022-12-25T00:00:00.000000000\",\"2022-12-26T00:00:00.000000000\",\"2022-12-27T00:00:00.000000000\",\"2022-12-28T00:00:00.000000000\",\"2022-12-29T00:00:00.000000000\",\"2022-12-30T00:00:00.000000000\",\"2022-12-31T00:00:00.000000000\",\"2023-01-01T00:00:00.000000000\",\"2023-01-02T00:00:00.000000000\",\"2023-01-03T00:00:00.000000000\",\"2023-01-04T00:00:00.000000000\",\"2023-01-05T00:00:00.000000000\",\"2023-01-06T00:00:00.000000000\",\"2023-01-07T00:00:00.000000000\",\"2023-01-08T00:00:00.000000000\",\"2023-01-09T00:00:00.000000000\",\"2023-01-10T00:00:00.000000000\",\"2023-01-11T00:00:00.000000000\",\"2023-01-12T00:00:00.000000000\",\"2023-01-13T00:00:00.000000000\",\"2023-01-14T00:00:00.000000000\",\"2023-01-15T00:00:00.000000000\",\"2023-01-16T00:00:00.000000000\",\"2023-01-17T00:00:00.000000000\",\"2023-01-18T00:00:00.000000000\",\"2023-01-19T00:00:00.000000000\",\"2023-01-20T00:00:00.000000000\",\"2023-01-21T00:00:00.000000000\",\"2023-01-22T00:00:00.000000000\",\"2023-01-23T00:00:00.000000000\",\"2023-01-24T00:00:00.000000000\",\"2023-01-25T00:00:00.000000000\",\"2023-01-26T00:00:00.000000000\",\"2023-01-27T00:00:00.000000000\",\"2023-01-28T00:00:00.000000000\",\"2023-01-29T00:00:00.000000000\",\"2023-01-30T00:00:00.000000000\",\"2023-01-31T00:00:00.000000000\",\"2023-02-01T00:00:00.000000000\",\"2023-02-02T00:00:00.000000000\",\"2023-02-03T00:00:00.000000000\",\"2023-02-04T00:00:00.000000000\",\"2023-02-05T00:00:00.000000000\",\"2023-02-06T00:00:00.000000000\",\"2023-02-07T00:00:00.000000000\",\"2023-02-08T00:00:00.000000000\",\"2023-02-09T00:00:00.000000000\",\"2023-02-10T00:00:00.000000000\",\"2023-02-11T00:00:00.000000000\",\"2023-02-12T00:00:00.000000000\",\"2023-02-13T00:00:00.000000000\",\"2023-02-14T00:00:00.000000000\",\"2023-02-15T00:00:00.000000000\",\"2023-02-16T00:00:00.000000000\",\"2023-02-17T00:00:00.000000000\",\"2023-02-18T00:00:00.000000000\",\"2023-02-19T00:00:00.000000000\",\"2023-02-20T00:00:00.000000000\",\"2023-02-21T00:00:00.000000000\",\"2023-02-22T00:00:00.000000000\",\"2023-02-23T00:00:00.000000000\",\"2023-02-24T00:00:00.000000000\",\"2023-02-25T00:00:00.000000000\",\"2023-02-26T00:00:00.000000000\",\"2023-02-27T00:00:00.000000000\",\"2023-02-28T00:00:00.000000000\",\"2023-03-01T00:00:00.000000000\",\"2023-03-02T00:00:00.000000000\",\"2023-03-03T00:00:00.000000000\",\"2023-03-04T00:00:00.000000000\",\"2023-03-05T00:00:00.000000000\",\"2023-03-06T00:00:00.000000000\",\"2023-03-07T00:00:00.000000000\",\"2023-03-08T00:00:00.000000000\",\"2023-03-09T00:00:00.000000000\",\"2023-03-10T00:00:00.000000000\",\"2023-03-11T00:00:00.000000000\",\"2023-03-12T00:00:00.000000000\",\"2023-03-13T00:00:00.000000000\",\"2023-03-14T00:00:00.000000000\",\"2023-03-15T00:00:00.000000000\",\"2023-03-16T00:00:00.000000000\",\"2023-03-17T00:00:00.000000000\",\"2023-03-18T00:00:00.000000000\",\"2023-03-19T00:00:00.000000000\",\"2023-03-20T00:00:00.000000000\",\"2023-03-21T00:00:00.000000000\",\"2023-03-22T00:00:00.000000000\",\"2023-03-23T00:00:00.000000000\",\"2023-03-24T00:00:00.000000000\",\"2023-03-25T00:00:00.000000000\",\"2023-03-26T00:00:00.000000000\",\"2023-03-27T00:00:00.000000000\",\"2023-03-28T00:00:00.000000000\",\"2023-03-29T00:00:00.000000000\",\"2023-03-30T00:00:00.000000000\",\"2023-03-31T00:00:00.000000000\",\"2023-04-01T00:00:00.000000000\",\"2023-04-02T00:00:00.000000000\",\"2023-04-03T00:00:00.000000000\",\"2023-04-04T00:00:00.000000000\",\"2023-04-05T00:00:00.000000000\",\"2023-04-06T00:00:00.000000000\",\"2023-04-07T00:00:00.000000000\",\"2023-04-08T00:00:00.000000000\",\"2023-04-09T00:00:00.000000000\",\"2023-04-10T00:00:00.000000000\",\"2023-04-11T00:00:00.000000000\",\"2023-04-12T00:00:00.000000000\",\"2023-04-13T00:00:00.000000000\",\"2023-04-14T00:00:00.000000000\",\"2023-04-15T00:00:00.000000000\",\"2023-04-16T00:00:00.000000000\",\"2023-04-17T00:00:00.000000000\",\"2023-04-18T00:00:00.000000000\",\"2023-04-19T00:00:00.000000000\",\"2023-04-20T00:00:00.000000000\",\"2023-04-21T00:00:00.000000000\",\"2023-04-22T00:00:00.000000000\",\"2023-04-23T00:00:00.000000000\",\"2023-04-24T00:00:00.000000000\",\"2023-04-25T00:00:00.000000000\",\"2023-04-26T00:00:00.000000000\",\"2023-04-27T00:00:00.000000000\",\"2023-04-28T00:00:00.000000000\",\"2023-04-29T00:00:00.000000000\",\"2023-04-30T00:00:00.000000000\",\"2023-05-01T00:00:00.000000000\",\"2023-05-02T00:00:00.000000000\",\"2023-05-03T00:00:00.000000000\",\"2023-05-04T00:00:00.000000000\",\"2023-05-05T00:00:00.000000000\",\"2023-05-06T00:00:00.000000000\",\"2023-05-07T00:00:00.000000000\",\"2023-05-08T00:00:00.000000000\",\"2023-05-09T00:00:00.000000000\"],\"y\":[0.008965160961560055,-0.05077149247644642,0.4904948440392516,0.5149084125147637,0.5177860487510472,0.6369268406660655,0.9702006413829336,0.9996171517000715,1.1979653850024339,1.2168138712806726,1.1818989663613397,1.1295135939464267,1.3058935840762043,1.8642579753152515,2.398288885728527,2.5076348003066635,2.626732288322159,2.638584697166271,2.6478888572651664,2.647086744533015,2.668204629074635,3.1323868603261227,4.799941101849663,5.00699777301021,5.175583114194473,5.43742914008207,5.507628731963444,5.597669947656341,5.634770114996317,5.837965812527231,5.864894347180056,5.808534145540472,5.806754065390073,5.871286074195039,5.998167684332024,6.441517862564528,6.4535920500615465,6.452609478965582,6.480841480867005,6.488844427493407,6.4304417748040885,6.60284765770495,6.939008400340259,6.989079703476482,6.98461053727513,7.026237293533523,7.116022320813179,7.139136455453445,7.207337364415302,7.4828837447801755,7.487648671017168,7.459785433480478,7.57126747798725,7.637363552548134,7.660979324469417,7.768823264992306,7.918367525308849,7.993027930335574,8.00977556445945,8.115754400997892,8.196314358728367,8.480226248714612,8.609994120003252,8.619145321136616,8.634852058130186,8.61038395782873,8.752237906048977,8.957736119720836,9.446011041921167,9.472387436780172,9.593739037605838,10.054743508332843,10.108214979986789,10.077933684108851,10.054033493460365,10.069432552518348,10.319754120727191,10.611933763093859,10.628584572331837,10.659490130487129,10.753627379630515,11.322495409287862,11.669039215823158,11.89934516862636,12.241176701220493,12.567591063782102,12.721961692585932,12.72655480886654,12.815142955106403,13.095770287175718,13.424117216172556,13.452192578974405,13.829199423283825,13.935457727324472,14.089969258015737,14.897679058177639,15.569663586813142,16.489647918333628,16.779768458145952,17.707265837323103,17.73944314123372,18.45956875783081,18.524487304119518,18.72915670626672,18.787748158115583,18.82122655796159,19.891349762977264,20.237463340769036,20.369856206659446,20.46330633137592,20.48173222816488,20.553658104469154,20.941823803806304,21.102153990336216,21.323396256107525,21.818569411386108,21.77837680241956,22.075584740722203,22.200630403614216,22.119467242429433,22.44891820801992,22.75917614077077,22.91419105470858,23.36104691103581,24.21529357232206,24.85529358288457,25.10945734290044,25.23433903800801,25.364034045072025,25.725346158131895,26.055122609474406,26.11965892620337,26.18305901108524,26.264469436009332,26.841917330686154,27.3733220686249,27.989972777527694,28.14133338186862,28.24641789714536,28.851428514884116,30.091256302955824,30.68473802347302,30.943730278359606,31.32213047788931,31.5754868715391,31.710201045147855,31.910476454879156,32.33306199708339,32.927522915007756,34.04953518850169,34.38358818742667,34.96112948049414,35.07209690457888,35.15148147907606,35.209246854560625,35.27673072125102,35.70139900218049,36.249281347694975,36.54148921827618,36.783455420193555,37.07241055172466],\"type\":\"scatter\"},{\"line\":{\"color\":\"rgb(65,171,93)\"},\"name\":\"SOS Sublimation (3m c)\",\"x\":[\"2022-11-30T00:00:00.000000000\",\"2022-12-01T00:00:00.000000000\",\"2022-12-02T00:00:00.000000000\",\"2022-12-03T00:00:00.000000000\",\"2022-12-04T00:00:00.000000000\",\"2022-12-05T00:00:00.000000000\",\"2022-12-06T00:00:00.000000000\",\"2022-12-07T00:00:00.000000000\",\"2022-12-08T00:00:00.000000000\",\"2022-12-09T00:00:00.000000000\",\"2022-12-10T00:00:00.000000000\",\"2022-12-11T00:00:00.000000000\",\"2022-12-12T00:00:00.000000000\",\"2022-12-13T00:00:00.000000000\",\"2022-12-14T00:00:00.000000000\",\"2022-12-15T00:00:00.000000000\",\"2022-12-16T00:00:00.000000000\",\"2022-12-17T00:00:00.000000000\",\"2022-12-18T00:00:00.000000000\",\"2022-12-19T00:00:00.000000000\",\"2022-12-20T00:00:00.000000000\",\"2022-12-21T00:00:00.000000000\",\"2022-12-22T00:00:00.000000000\",\"2022-12-23T00:00:00.000000000\",\"2022-12-24T00:00:00.000000000\",\"2022-12-25T00:00:00.000000000\",\"2022-12-26T00:00:00.000000000\",\"2022-12-27T00:00:00.000000000\",\"2022-12-28T00:00:00.000000000\",\"2022-12-29T00:00:00.000000000\",\"2022-12-30T00:00:00.000000000\",\"2022-12-31T00:00:00.000000000\",\"2023-01-01T00:00:00.000000000\",\"2023-01-02T00:00:00.000000000\",\"2023-01-03T00:00:00.000000000\",\"2023-01-04T00:00:00.000000000\",\"2023-01-05T00:00:00.000000000\",\"2023-01-06T00:00:00.000000000\",\"2023-01-07T00:00:00.000000000\",\"2023-01-08T00:00:00.000000000\",\"2023-01-09T00:00:00.000000000\",\"2023-01-10T00:00:00.000000000\",\"2023-01-11T00:00:00.000000000\",\"2023-01-12T00:00:00.000000000\",\"2023-01-13T00:00:00.000000000\",\"2023-01-14T00:00:00.000000000\",\"2023-01-15T00:00:00.000000000\",\"2023-01-16T00:00:00.000000000\",\"2023-01-17T00:00:00.000000000\",\"2023-01-18T00:00:00.000000000\",\"2023-01-19T00:00:00.000000000\",\"2023-01-20T00:00:00.000000000\",\"2023-01-21T00:00:00.000000000\",\"2023-01-22T00:00:00.000000000\",\"2023-01-23T00:00:00.000000000\",\"2023-01-24T00:00:00.000000000\",\"2023-01-25T00:00:00.000000000\",\"2023-01-26T00:00:00.000000000\",\"2023-01-27T00:00:00.000000000\",\"2023-01-28T00:00:00.000000000\",\"2023-01-29T00:00:00.000000000\",\"2023-01-30T00:00:00.000000000\",\"2023-01-31T00:00:00.000000000\",\"2023-02-01T00:00:00.000000000\",\"2023-02-02T00:00:00.000000000\",\"2023-02-03T00:00:00.000000000\",\"2023-02-04T00:00:00.000000000\",\"2023-02-05T00:00:00.000000000\",\"2023-02-06T00:00:00.000000000\",\"2023-02-07T00:00:00.000000000\",\"2023-02-08T00:00:00.000000000\",\"2023-02-09T00:00:00.000000000\",\"2023-02-10T00:00:00.000000000\",\"2023-02-11T00:00:00.000000000\",\"2023-02-12T00:00:00.000000000\",\"2023-02-13T00:00:00.000000000\",\"2023-02-14T00:00:00.000000000\",\"2023-02-15T00:00:00.000000000\",\"2023-02-16T00:00:00.000000000\",\"2023-02-17T00:00:00.000000000\",\"2023-02-18T00:00:00.000000000\",\"2023-02-19T00:00:00.000000000\",\"2023-02-20T00:00:00.000000000\",\"2023-02-21T00:00:00.000000000\",\"2023-02-22T00:00:00.000000000\",\"2023-02-23T00:00:00.000000000\",\"2023-02-24T00:00:00.000000000\",\"2023-02-25T00:00:00.000000000\",\"2023-02-26T00:00:00.000000000\",\"2023-02-27T00:00:00.000000000\",\"2023-02-28T00:00:00.000000000\",\"2023-03-01T00:00:00.000000000\",\"2023-03-02T00:00:00.000000000\",\"2023-03-03T00:00:00.000000000\",\"2023-03-04T00:00:00.000000000\",\"2023-03-05T00:00:00.000000000\",\"2023-03-06T00:00:00.000000000\",\"2023-03-07T00:00:00.000000000\",\"2023-03-08T00:00:00.000000000\",\"2023-03-09T00:00:00.000000000\",\"2023-03-10T00:00:00.000000000\",\"2023-03-11T00:00:00.000000000\",\"2023-03-12T00:00:00.000000000\",\"2023-03-13T00:00:00.000000000\",\"2023-03-14T00:00:00.000000000\",\"2023-03-15T00:00:00.000000000\",\"2023-03-16T00:00:00.000000000\",\"2023-03-17T00:00:00.000000000\",\"2023-03-18T00:00:00.000000000\",\"2023-03-19T00:00:00.000000000\",\"2023-03-20T00:00:00.000000000\",\"2023-03-21T00:00:00.000000000\",\"2023-03-22T00:00:00.000000000\",\"2023-03-23T00:00:00.000000000\",\"2023-03-24T00:00:00.000000000\",\"2023-03-25T00:00:00.000000000\",\"2023-03-26T00:00:00.000000000\",\"2023-03-27T00:00:00.000000000\",\"2023-03-28T00:00:00.000000000\",\"2023-03-29T00:00:00.000000000\",\"2023-03-30T00:00:00.000000000\",\"2023-03-31T00:00:00.000000000\",\"2023-04-01T00:00:00.000000000\",\"2023-04-02T00:00:00.000000000\",\"2023-04-03T00:00:00.000000000\",\"2023-04-04T00:00:00.000000000\",\"2023-04-05T00:00:00.000000000\",\"2023-04-06T00:00:00.000000000\",\"2023-04-07T00:00:00.000000000\",\"2023-04-08T00:00:00.000000000\",\"2023-04-09T00:00:00.000000000\",\"2023-04-10T00:00:00.000000000\",\"2023-04-11T00:00:00.000000000\",\"2023-04-12T00:00:00.000000000\",\"2023-04-13T00:00:00.000000000\",\"2023-04-14T00:00:00.000000000\",\"2023-04-15T00:00:00.000000000\",\"2023-04-16T00:00:00.000000000\",\"2023-04-17T00:00:00.000000000\",\"2023-04-18T00:00:00.000000000\",\"2023-04-19T00:00:00.000000000\",\"2023-04-20T00:00:00.000000000\",\"2023-04-21T00:00:00.000000000\",\"2023-04-22T00:00:00.000000000\",\"2023-04-23T00:00:00.000000000\",\"2023-04-24T00:00:00.000000000\",\"2023-04-25T00:00:00.000000000\",\"2023-04-26T00:00:00.000000000\",\"2023-04-27T00:00:00.000000000\",\"2023-04-28T00:00:00.000000000\",\"2023-04-29T00:00:00.000000000\",\"2023-04-30T00:00:00.000000000\",\"2023-05-01T00:00:00.000000000\",\"2023-05-02T00:00:00.000000000\",\"2023-05-03T00:00:00.000000000\",\"2023-05-04T00:00:00.000000000\",\"2023-05-05T00:00:00.000000000\",\"2023-05-06T00:00:00.000000000\",\"2023-05-07T00:00:00.000000000\",\"2023-05-08T00:00:00.000000000\",\"2023-05-09T00:00:00.000000000\"],\"y\":[-0.020311350002884865,-0.05366155505180359,0.4244288504123688,0.41963180899620056,0.43061766028404236,0.5307731628417969,0.8020356893539429,1.0638203620910645,1.187193512916565,1.1591275930404663,1.1034915447235107,1.0546605587005615,1.2493807077407837,1.6557729244232178,2.1268789768218994,2.2203280925750732,2.316620349884033,2.3161816596984863,2.3092517852783203,2.311250925064087,2.314537286758423,2.6810336112976074,4.5057597160339355,4.704395771026611,4.900898456573486,5.023283958435059,5.073972225189209,5.132808685302734,5.1536641120910645,5.258602619171143,5.291656494140625,5.377058982849121,5.398679256439209,5.465409755706787,5.5173211097717285,5.833736896514893,5.822993755340576,5.861790657043457,5.856841087341309,5.833163738250732,5.830965042114258,5.944256782531738,6.092127323150635,6.103356838226318,6.079473495483398,6.112143039703369,6.116859436035156,6.194988250732422,6.393884658813477,6.62763786315918,6.597579002380371,6.571125030517578,6.647994041442871,6.68807315826416,6.6891632080078125,6.7632551193237305,6.8680243492126465,6.894538879394531,6.766748428344727,6.887761116027832,6.966086387634277,7.1645731925964355,7.228682518005371,7.2295823097229,7.229735374450684,7.210000991821289,7.37958288192749,7.582009792327881,7.967986583709717,7.954000473022461,8.135994911193848,8.51856803894043,8.558672904968262,8.55838680267334,8.565918922424316,8.555397033691406,8.781229972839355,9.014276504516602,9.021600723266602,9.039100646972656,9.126771926879883,9.619229316711426,9.92760944366455,10.169265747070312,10.418405532836914,10.62421989440918,10.72372055053711,10.741887092590332,10.805584907531738,11.061027526855469,11.270211219787598,11.208555221557617,11.613336563110352,11.672143936157227,11.923182487487793,12.719975471496582,13.538092613220215,14.546028137207031,14.880597114562988,15.720793724060059,15.773751258850098,16.350765228271484,16.550762176513672,16.917695999145508,16.99908447265625,17.0513973236084,17.62822151184082,17.902976989746094,18.03499984741211,18.15251922607422,18.182600021362305,18.230342864990234,18.53419303894043,18.668134689331055,18.870962142944336,19.209291458129883,19.40413475036621,19.752832412719727,19.89342498779297,19.974733352661133,20.357223510742188,20.58416748046875,20.749088287353516,21.321590423583984,22.132081985473633,22.64571762084961,22.87588119506836,22.994661331176758,23.163232803344727,23.51491355895996,23.961902618408203,24.08254051208496,24.227697372436523,24.41289710998535,25.178943634033203,25.743148803710938,26.341838836669922,26.580413818359375,26.767602920532227,27.871694564819336,29.19293975830078,29.76518440246582,29.97120475769043,30.330041885375977,30.608531951904297,30.83525276184082,31.096942901611328,31.624696731567383,32.32386016845703,33.530086517333984,34.062889099121094,34.736541748046875,34.916168212890625,35.107704162597656,35.182743072509766,35.27486038208008,35.82795715332031,36.41616439819336,36.724143981933594,37.038490295410156,37.454532623291016],\"type\":\"scatter\"}],                        {\"template\":{\"data\":{\"histogram2dcontour\":[{\"type\":\"histogram2dcontour\",\"colorbar\":{\"outlinewidth\":0,\"ticks\":\"\"},\"colorscale\":[[0.0,\"#0d0887\"],[0.1111111111111111,\"#46039f\"],[0.2222222222222222,\"#7201a8\"],[0.3333333333333333,\"#9c179e\"],[0.4444444444444444,\"#bd3786\"],[0.5555555555555556,\"#d8576b\"],[0.6666666666666666,\"#ed7953\"],[0.7777777777777778,\"#fb9f3a\"],[0.8888888888888888,\"#fdca26\"],[1.0,\"#f0f921\"]]}],\"choropleth\":[{\"type\":\"choropleth\",\"colorbar\":{\"outlinewidth\":0,\"ticks\":\"\"}}],\"histogram2d\":[{\"type\":\"histogram2d\",\"colorbar\":{\"outlinewidth\":0,\"ticks\":\"\"},\"colorscale\":[[0.0,\"#0d0887\"],[0.1111111111111111,\"#46039f\"],[0.2222222222222222,\"#7201a8\"],[0.3333333333333333,\"#9c179e\"],[0.4444444444444444,\"#bd3786\"],[0.5555555555555556,\"#d8576b\"],[0.6666666666666666,\"#ed7953\"],[0.7777777777777778,\"#fb9f3a\"],[0.8888888888888888,\"#fdca26\"],[1.0,\"#f0f921\"]]}],\"heatmap\":[{\"type\":\"heatmap\",\"colorbar\":{\"outlinewidth\":0,\"ticks\":\"\"},\"colorscale\":[[0.0,\"#0d0887\"],[0.1111111111111111,\"#46039f\"],[0.2222222222222222,\"#7201a8\"],[0.3333333333333333,\"#9c179e\"],[0.4444444444444444,\"#bd3786\"],[0.5555555555555556,\"#d8576b\"],[0.6666666666666666,\"#ed7953\"],[0.7777777777777778,\"#fb9f3a\"],[0.8888888888888888,\"#fdca26\"],[1.0,\"#f0f921\"]]}],\"heatmapgl\":[{\"type\":\"heatmapgl\",\"colorbar\":{\"outlinewidth\":0,\"ticks\":\"\"},\"colorscale\":[[0.0,\"#0d0887\"],[0.1111111111111111,\"#46039f\"],[0.2222222222222222,\"#7201a8\"],[0.3333333333333333,\"#9c179e\"],[0.4444444444444444,\"#bd3786\"],[0.5555555555555556,\"#d8576b\"],[0.6666666666666666,\"#ed7953\"],[0.7777777777777778,\"#fb9f3a\"],[0.8888888888888888,\"#fdca26\"],[1.0,\"#f0f921\"]]}],\"contourcarpet\":[{\"type\":\"contourcarpet\",\"colorbar\":{\"outlinewidth\":0,\"ticks\":\"\"}}],\"contour\":[{\"type\":\"contour\",\"colorbar\":{\"outlinewidth\":0,\"ticks\":\"\"},\"colorscale\":[[0.0,\"#0d0887\"],[0.1111111111111111,\"#46039f\"],[0.2222222222222222,\"#7201a8\"],[0.3333333333333333,\"#9c179e\"],[0.4444444444444444,\"#bd3786\"],[0.5555555555555556,\"#d8576b\"],[0.6666666666666666,\"#ed7953\"],[0.7777777777777778,\"#fb9f3a\"],[0.8888888888888888,\"#fdca26\"],[1.0,\"#f0f921\"]]}],\"surface\":[{\"type\":\"surface\",\"colorbar\":{\"outlinewidth\":0,\"ticks\":\"\"},\"colorscale\":[[0.0,\"#0d0887\"],[0.1111111111111111,\"#46039f\"],[0.2222222222222222,\"#7201a8\"],[0.3333333333333333,\"#9c179e\"],[0.4444444444444444,\"#bd3786\"],[0.5555555555555556,\"#d8576b\"],[0.6666666666666666,\"#ed7953\"],[0.7777777777777778,\"#fb9f3a\"],[0.8888888888888888,\"#fdca26\"],[1.0,\"#f0f921\"]]}],\"mesh3d\":[{\"type\":\"mesh3d\",\"colorbar\":{\"outlinewidth\":0,\"ticks\":\"\"}}],\"scatter\":[{\"fillpattern\":{\"fillmode\":\"overlay\",\"size\":10,\"solidity\":0.2},\"type\":\"scatter\"}],\"parcoords\":[{\"type\":\"parcoords\",\"line\":{\"colorbar\":{\"outlinewidth\":0,\"ticks\":\"\"}}}],\"scatterpolargl\":[{\"type\":\"scatterpolargl\",\"marker\":{\"colorbar\":{\"outlinewidth\":0,\"ticks\":\"\"}}}],\"bar\":[{\"error_x\":{\"color\":\"#2a3f5f\"},\"error_y\":{\"color\":\"#2a3f5f\"},\"marker\":{\"line\":{\"color\":\"#E5ECF6\",\"width\":0.5},\"pattern\":{\"fillmode\":\"overlay\",\"size\":10,\"solidity\":0.2}},\"type\":\"bar\"}],\"scattergeo\":[{\"type\":\"scattergeo\",\"marker\":{\"colorbar\":{\"outlinewidth\":0,\"ticks\":\"\"}}}],\"scatterpolar\":[{\"type\":\"scatterpolar\",\"marker\":{\"colorbar\":{\"outlinewidth\":0,\"ticks\":\"\"}}}],\"histogram\":[{\"marker\":{\"pattern\":{\"fillmode\":\"overlay\",\"size\":10,\"solidity\":0.2}},\"type\":\"histogram\"}],\"scattergl\":[{\"type\":\"scattergl\",\"marker\":{\"colorbar\":{\"outlinewidth\":0,\"ticks\":\"\"}}}],\"scatter3d\":[{\"type\":\"scatter3d\",\"line\":{\"colorbar\":{\"outlinewidth\":0,\"ticks\":\"\"}},\"marker\":{\"colorbar\":{\"outlinewidth\":0,\"ticks\":\"\"}}}],\"scattermapbox\":[{\"type\":\"scattermapbox\",\"marker\":{\"colorbar\":{\"outlinewidth\":0,\"ticks\":\"\"}}}],\"scatterternary\":[{\"type\":\"scatterternary\",\"marker\":{\"colorbar\":{\"outlinewidth\":0,\"ticks\":\"\"}}}],\"scattercarpet\":[{\"type\":\"scattercarpet\",\"marker\":{\"colorbar\":{\"outlinewidth\":0,\"ticks\":\"\"}}}],\"carpet\":[{\"aaxis\":{\"endlinecolor\":\"#2a3f5f\",\"gridcolor\":\"white\",\"linecolor\":\"white\",\"minorgridcolor\":\"white\",\"startlinecolor\":\"#2a3f5f\"},\"baxis\":{\"endlinecolor\":\"#2a3f5f\",\"gridcolor\":\"white\",\"linecolor\":\"white\",\"minorgridcolor\":\"white\",\"startlinecolor\":\"#2a3f5f\"},\"type\":\"carpet\"}],\"table\":[{\"cells\":{\"fill\":{\"color\":\"#EBF0F8\"},\"line\":{\"color\":\"white\"}},\"header\":{\"fill\":{\"color\":\"#C8D4E3\"},\"line\":{\"color\":\"white\"}},\"type\":\"table\"}],\"barpolar\":[{\"marker\":{\"line\":{\"color\":\"#E5ECF6\",\"width\":0.5},\"pattern\":{\"fillmode\":\"overlay\",\"size\":10,\"solidity\":0.2}},\"type\":\"barpolar\"}],\"pie\":[{\"automargin\":true,\"type\":\"pie\"}]},\"layout\":{\"autotypenumbers\":\"strict\",\"colorway\":[\"#636efa\",\"#EF553B\",\"#00cc96\",\"#ab63fa\",\"#FFA15A\",\"#19d3f3\",\"#FF6692\",\"#B6E880\",\"#FF97FF\",\"#FECB52\"],\"font\":{\"color\":\"#2a3f5f\"},\"hovermode\":\"closest\",\"hoverlabel\":{\"align\":\"left\"},\"paper_bgcolor\":\"white\",\"plot_bgcolor\":\"#E5ECF6\",\"polar\":{\"bgcolor\":\"#E5ECF6\",\"angularaxis\":{\"gridcolor\":\"white\",\"linecolor\":\"white\",\"ticks\":\"\"},\"radialaxis\":{\"gridcolor\":\"white\",\"linecolor\":\"white\",\"ticks\":\"\"}},\"ternary\":{\"bgcolor\":\"#E5ECF6\",\"aaxis\":{\"gridcolor\":\"white\",\"linecolor\":\"white\",\"ticks\":\"\"},\"baxis\":{\"gridcolor\":\"white\",\"linecolor\":\"white\",\"ticks\":\"\"},\"caxis\":{\"gridcolor\":\"white\",\"linecolor\":\"white\",\"ticks\":\"\"}},\"coloraxis\":{\"colorbar\":{\"outlinewidth\":0,\"ticks\":\"\"}},\"colorscale\":{\"sequential\":[[0.0,\"#0d0887\"],[0.1111111111111111,\"#46039f\"],[0.2222222222222222,\"#7201a8\"],[0.3333333333333333,\"#9c179e\"],[0.4444444444444444,\"#bd3786\"],[0.5555555555555556,\"#d8576b\"],[0.6666666666666666,\"#ed7953\"],[0.7777777777777778,\"#fb9f3a\"],[0.8888888888888888,\"#fdca26\"],[1.0,\"#f0f921\"]],\"sequentialminus\":[[0.0,\"#0d0887\"],[0.1111111111111111,\"#46039f\"],[0.2222222222222222,\"#7201a8\"],[0.3333333333333333,\"#9c179e\"],[0.4444444444444444,\"#bd3786\"],[0.5555555555555556,\"#d8576b\"],[0.6666666666666666,\"#ed7953\"],[0.7777777777777778,\"#fb9f3a\"],[0.8888888888888888,\"#fdca26\"],[1.0,\"#f0f921\"]],\"diverging\":[[0,\"#8e0152\"],[0.1,\"#c51b7d\"],[0.2,\"#de77ae\"],[0.3,\"#f1b6da\"],[0.4,\"#fde0ef\"],[0.5,\"#f7f7f7\"],[0.6,\"#e6f5d0\"],[0.7,\"#b8e186\"],[0.8,\"#7fbc41\"],[0.9,\"#4d9221\"],[1,\"#276419\"]]},\"xaxis\":{\"gridcolor\":\"white\",\"linecolor\":\"white\",\"ticks\":\"\",\"title\":{\"standoff\":15},\"zerolinecolor\":\"white\",\"automargin\":true,\"zerolinewidth\":2},\"yaxis\":{\"gridcolor\":\"white\",\"linecolor\":\"white\",\"ticks\":\"\",\"title\":{\"standoff\":15},\"zerolinecolor\":\"white\",\"automargin\":true,\"zerolinewidth\":2},\"scene\":{\"xaxis\":{\"backgroundcolor\":\"#E5ECF6\",\"gridcolor\":\"white\",\"linecolor\":\"white\",\"showbackground\":true,\"ticks\":\"\",\"zerolinecolor\":\"white\",\"gridwidth\":2},\"yaxis\":{\"backgroundcolor\":\"#E5ECF6\",\"gridcolor\":\"white\",\"linecolor\":\"white\",\"showbackground\":true,\"ticks\":\"\",\"zerolinecolor\":\"white\",\"gridwidth\":2},\"zaxis\":{\"backgroundcolor\":\"#E5ECF6\",\"gridcolor\":\"white\",\"linecolor\":\"white\",\"showbackground\":true,\"ticks\":\"\",\"zerolinecolor\":\"white\",\"gridwidth\":2}},\"shapedefaults\":{\"line\":{\"color\":\"#2a3f5f\"}},\"annotationdefaults\":{\"arrowcolor\":\"#2a3f5f\",\"arrowhead\":0,\"arrowwidth\":1},\"geo\":{\"bgcolor\":\"white\",\"landcolor\":\"#E5ECF6\",\"subunitcolor\":\"white\",\"showland\":true,\"showlakes\":true,\"lakecolor\":\"white\"},\"title\":{\"x\":0.05},\"mapbox\":{\"style\":\"light\"}}},\"title\":{\"text\":\"Cumulative Sublimation at SPLASH and SOS Sites\"},\"xaxis\":{\"title\":{\"text\":\"Date\"}},\"yaxis\":{\"title\":{\"text\":\"Cumulative Sublimation (mm)\"}},\"width\":1000,\"height\":600,\"legend\":{\"title\":{\"text\":\"Site\"}}},                        {\"responsive\": true}                    ).then(function(){\n",
       "                            \n",
       "var gd = document.getElementById('9ce451fa-f6f4-4fb8-8b58-02a97d369f77');\n",
       "var x = new MutationObserver(function (mutations, observer) {{\n",
       "        var display = window.getComputedStyle(gd).display;\n",
       "        if (!display || display === 'none') {{\n",
       "            console.log([gd, 'removed!']);\n",
       "            Plotly.purge(gd);\n",
       "            observer.disconnect();\n",
       "        }}\n",
       "}});\n",
       "\n",
       "// Listen for the removal of the full notebook cells\n",
       "var notebookContainer = gd.closest('#notebook-container');\n",
       "if (notebookContainer) {{\n",
       "    x.observe(notebookContainer, {childList: true});\n",
       "}}\n",
       "\n",
       "// Listen for the clearing of the current output cell\n",
       "var outputEl = gd.closest('.output');\n",
       "if (outputEl) {{\n",
       "    x.observe(outputEl, {childList: true});\n",
       "}}\n",
       "\n",
       "                        })                };                });            </script>        </div>"
      ]
     },
     "metadata": {},
     "output_type": "display_data"
    }
   ],
   "source": [
    "fig = go.Figure()\n",
    "\n",
    "fig.add_trace(go.Scatter(x=splash_ap_qc_ds['e_rate'].sel(time=slice('2022-11-30','2023-05-09')).resample(time='1D').sum().cumsum().time, \n",
    "                         y= splash_ap_qc_ds['e_rate'].sel(time=slice('2022-11-30','2023-05-09')).resample(time='1D').sum().cumsum().values, \n",
    "                         name='SPLASH ECOR Sublimation (Avery Picnic)', \n",
    "                         line=dict(color='blue')))\n",
    "fig.add_trace(go.Scatter(x=splash_kp_qc_ds['e_rate'].sel(time=slice('2022-11-30','2023-05-09')).resample(time='1D').sum().cumsum().time, \n",
    "                         y= splash_kp_qc_ds['e_rate'].sel(time=slice('2022-11-30','2023-05-09')).resample(time='1D').sum().cumsum().values, \n",
    "                         name='SPLASH ECOR Sublimation (Kettle Ponds)', \n",
    "                         line=dict(color='purple')))\n",
    "\n",
    "# make a 4 color red colorramp from pink to red\n",
    "color_ramp_1 = px.colors.sequential.Reds[2:6]                      \n",
    "color_ramp_2 = px.colors.sequential.Greens[2:6]\n",
    "for i, loc in enumerate(['uw','ue','d','c']):\n",
    "    fig.add_trace(go.Scatter(x=ds.time,\n",
    "                                y=cumulative_sos_sublimation[f'w_h2o__10m_{loc}'].values,\n",
    "                                name=f'SOS Sublimation (10m {loc})',\n",
    "                                line=dict(color=color_ramp_1[i])))\n",
    "    fig.add_trace(go.Scatter(x=ds.time,\n",
    "                                y=cumulative_sos_sublimation[f'w_h2o__3m_{loc}'].values,\n",
    "                                name=f'SOS Sublimation (3m {loc})',\n",
    "                                line=dict(color=color_ramp_2[i])))\n",
    "fig.update_layout(title='Cumulative Sublimation at SPLASH and SOS Sites',\n",
    "                    xaxis_title='Date',\n",
    "                    yaxis_title='Cumulative Sublimation (mm)',\n",
    "                    width=1000,\n",
    "                    height=600,\n",
    "                    legend_title='Site')"
   ]
  },
  {
   "cell_type": "code",
   "execution_count": null,
   "metadata": {},
   "outputs": [],
   "source": []
  }
 ],
 "metadata": {
  "kernelspec": {
   "display_name": "sublime_synoptics",
   "language": "python",
   "name": "python3"
  },
  "language_info": {
   "codemirror_mode": {
    "name": "ipython",
    "version": 3
   },
   "file_extension": ".py",
   "mimetype": "text/x-python",
   "name": "python",
   "nbconvert_exporter": "python",
   "pygments_lexer": "ipython3",
   "version": "3.11.6"
  }
 },
 "nbformat": 4,
 "nbformat_minor": 2
}
