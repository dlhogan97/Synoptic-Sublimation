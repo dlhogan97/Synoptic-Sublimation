{
 "cells": [
  {
   "cell_type": "markdown",
   "metadata": {},
   "source": [
    "# Linking observations of blowing snow to sublimation at Kettle Ponds\n",
    "\n",
    "Author: Daniel Hogan\n",
    "Created: April 29, 2024\n",
    "\n",
    "This notebook will start to address three main questions (with sub-focuses discussed below):\n",
    "1) How do observations of blowing snow relate to wind speeds at Kettle Ponds? Is there a stronger relationship between at different heights?\n",
    "2) How does wind speed and blowing snow flux relate to sublimation over the winter period?\n",
    "3) How sensitive are blowing snow sublimation estimates to the time step used to calculate them? \n",
    "\n",
    "Additionally, I want to go into plotting wind speed, temperature sublimation rate, humidity, and blowing snow. "
   ]
  },
  {
   "cell_type": "markdown",
   "metadata": {},
   "source": [
    "### Imports\n"
   ]
  },
  {
   "cell_type": "code",
   "execution_count": 1,
   "metadata": {},
   "outputs": [
    {
     "name": "stdout",
     "output_type": "stream",
     "text": [
      "nctoolkit is using Climate Data Operators version 2.3.0\n"
     ]
    },
    {
     "data": {
      "text/html": [
       "        <script type=\"text/javascript\">\n",
       "        window.PlotlyConfig = {MathJaxConfig: 'local'};\n",
       "        if (window.MathJax && window.MathJax.Hub && window.MathJax.Hub.Config) {window.MathJax.Hub.Config({SVG: {font: \"STIX-Web\"}});}\n",
       "        if (typeof require !== 'undefined') {\n",
       "        require.undef(\"plotly\");\n",
       "        requirejs.config({\n",
       "            paths: {\n",
       "                'plotly': ['https://cdn.plot.ly/plotly-2.27.0.min']\n",
       "            }\n",
       "        });\n",
       "        require(['plotly'], function(Plotly) {\n",
       "            window._Plotly = Plotly;\n",
       "        });\n",
       "        }\n",
       "        </script>\n",
       "        "
      ]
     },
     "metadata": {},
     "output_type": "display_data"
    },
    {
     "data": {
      "text/html": [
       "        <script type=\"text/javascript\">\n",
       "        window.PlotlyConfig = {MathJaxConfig: 'local'};\n",
       "        if (window.MathJax && window.MathJax.Hub && window.MathJax.Hub.Config) {window.MathJax.Hub.Config({SVG: {font: \"STIX-Web\"}});}\n",
       "        if (typeof require !== 'undefined') {\n",
       "        require.undef(\"plotly\");\n",
       "        requirejs.config({\n",
       "            paths: {\n",
       "                'plotly': ['https://cdn.plot.ly/plotly-2.27.0.min']\n",
       "            }\n",
       "        });\n",
       "        require(['plotly'], function(Plotly) {\n",
       "            window._Plotly = Plotly;\n",
       "        });\n",
       "        }\n",
       "        </script>\n",
       "        "
      ]
     },
     "metadata": {},
     "output_type": "display_data"
    }
   ],
   "source": [
    "# general\n",
    "import os\n",
    "import glob\n",
    "import datetime as dt\n",
    "import json\n",
    "import time\n",
    "# data \n",
    "import xarray as xr \n",
    "from sublimpy import utils, variables, tidy, turbulence\n",
    "import numpy as np\n",
    "import pandas as pd\n",
    "from act import discovery, plotting\n",
    "# plotting\n",
    "import matplotlib.pyplot as plt\n",
    "from metpy.cbook import get_test_data\n",
    "from metpy.plots import add_metpy_logo, SkewT\n",
    "import plotly.express as px \n",
    "import plotly.graph_objects as go\n",
    "from plotly.subplots import make_subplots\n",
    "import cufflinks as cf\n",
    "from plotly.offline import download_plotlyjs, init_notebook_mode, plot, iplot\n",
    "import plotly.io as pio\n",
    "# helper tools\n",
    "from scripts.get_sail_data import get_sail_data\n",
    "from scripts.helper_funcs import create_windrose_df, mean_sounding, simple_sounding\n",
    "import scripts.helper_funcs as hf\n",
    "from metpy import calc, units\n",
    "# make plotly work \n",
    "init_notebook_mode(connected=True)\n",
    "cf.go_offline()"
   ]
  },
  {
   "cell_type": "markdown",
   "metadata": {},
   "source": [
    "# Pull in SOS data"
   ]
  },
  {
   "cell_type": "code",
   "execution_count": 11,
   "metadata": {},
   "outputs": [],
   "source": [
    "sos_ds_5min = xr.open_dataset('../../01_data/processed_data/sos_ds_5min_storage.nc')\n",
    "sos_ds_1H = xr.open_dataset('../../01_data/processed_data/sos_ds_1H_storage.nc')\n",
    "sos_ds_3H = xr.open_dataset('../../01_data/processed_data/sos_ds_3H_storage.nc')\n",
    "sos_ds_6H = xr.open_dataset('../../01_data/processed_data/sos_ds_6H_storage.nc')\n",
    "sos_ds_12H = xr.open_dataset('../../01_data/processed_data/sos_ds_12H_storage.nc')\n",
    "sos_ds_1D = xr.open_dataset('../../01_data/processed_data/sos_ds_1day_storage.nc')"
   ]
  },
  {
   "cell_type": "code",
   "execution_count": 12,
   "metadata": {},
   "outputs": [],
   "source": [
    "# filter all to dates between December 1 and April 1\n",
    "sos_ds_5min = sos_ds_5min.sel(time=slice('2022-12-01', '2023-03-31'))\n",
    "sos_ds_1H = sos_ds_1H.sel(time=slice('2022-12-01', '2023-03-31'))\n",
    "sos_ds_3H = sos_ds_3H.sel(time=slice('2022-12-01', '2023-03-31'))\n",
    "sos_ds_6H = sos_ds_6H.sel(time=slice('2022-12-01', '2023-03-31'))\n",
    "sos_ds_12H = sos_ds_12H.sel(time=slice('2022-12-01', '2023-03-31'))\n",
    "sos_ds_1D = sos_ds_1D.sel(time=slice('2022-12-01', '2023-03-31'))"
   ]
  },
  {
   "cell_type": "code",
   "execution_count": 199,
   "metadata": {},
   "outputs": [],
   "source": [
    "sos_5min_h2o_flux_ds = sos_ds_5min[[variable for variable in hf.TURBULENCE_VARIABLES if 'w_h2o' in variable]+[variable for variable in hf.COUNT_VARIABLES]+hf.SNOW_FLUX+hf.WIND_VARIABLES+hf.TEMPERATURE_VARIABLES]\n",
    "sos_1H_h2o_flux_ds = sos_ds_1H[[variable for variable in hf.TURBULENCE_VARIABLES if 'w_h2o' in variable]+[variable for variable in hf.COUNT_VARIABLES]+hf.SNOW_FLUX+hf.WIND_VARIABLES+hf.TEMPERATURE_VARIABLES]\n",
    "sos_3H_h2o_flux_ds = sos_ds_3H[[variable for variable in hf.TURBULENCE_VARIABLES if 'w_h2o' in variable]+[variable for variable in hf.COUNT_VARIABLES]+hf.SNOW_FLUX+hf.WIND_VARIABLES+hf.TEMPERATURE_VARIABLES]\n",
    "sos_6H_h2o_flux_ds = sos_ds_6H[[variable for variable in hf.TURBULENCE_VARIABLES if 'w_h2o' in variable]+[variable for variable in hf.COUNT_VARIABLES]+hf.SNOW_FLUX+hf.WIND_VARIABLES+hf.TEMPERATURE_VARIABLES]\n",
    "sos_12H_h2o_flux_ds = sos_ds_12H[[variable for variable in hf.TURBULENCE_VARIABLES if 'w_h2o' in variable]+[variable for variable in hf.COUNT_VARIABLES]+hf.SNOW_FLUX+hf.WIND_VARIABLES+hf.TEMPERATURE_VARIABLES]\n",
    "sos_1D_h2o_flux_ds = sos_ds_1D[[variable for variable in hf.TURBULENCE_VARIABLES if 'w_h2o' in variable]+[variable for variable in hf.COUNT_VARIABLES]+hf.SNOW_FLUX+hf.WIND_VARIABLES+hf.TEMPERATURE_VARIABLES]\n",
    "\n",
    "# adjust wdir\n",
    "def adjust_wdir(ds):\n",
    "    new_df = ds.to_dataframe()\n",
    "    new_ds = hf.adjust_wdir(new_df).to_xarray()\n",
    "    ## Copy attributes from the original dataset\n",
    "    new_ds.attrs = ds.attrs\n",
    "    for var in new_ds:\n",
    "        new_ds[var].attrs = ds[var].attrs\n",
    "    return new_ds\n",
    "\n",
    "sos_5min_h2o_flux_ds = adjust_wdir(sos_5min_h2o_flux_ds)\n",
    "sos_1H_h2o_flux_ds = adjust_wdir(sos_1H_h2o_flux_ds)\n",
    "sos_3H_h2o_flux_ds = adjust_wdir(sos_3H_h2o_flux_ds)\n",
    "sos_6H_h2o_flux_ds = adjust_wdir(sos_6H_h2o_flux_ds)\n",
    "sos_12H_h2o_flux_ds = adjust_wdir(sos_12H_h2o_flux_ds)\n"
   ]
  },
  {
   "cell_type": "code",
   "execution_count": 200,
   "metadata": {},
   "outputs": [],
   "source": [
    "def replace_avg_wind_with_max_wind(ds, ds_og, resample_time):\n",
    "    ## Copy attributes from the original dataset\n",
    "    new_ds = ds.copy()\n",
    "    new_ds[[variable for variable in hf.WIND_VARIABLES if 'spd' in variable]] = ds_og[[variable for variable in hf.WIND_VARIABLES if 'spd' in variable]].to_dataframe().resample(resample_time).max().to_xarray()\n",
    "\n",
    "    ## Copy attributes from the original dataset\n",
    "    new_ds.attrs = ds.attrs\n",
    "    for var in new_ds:\n",
    "        new_ds[var].attrs = ds[var].attrs\n",
    "    return new_ds\n",
    "\n",
    "sos_1H_max_wspd_ds = adjust_wdir(replace_avg_wind_with_max_wind(sos_1H_h2o_flux_ds, sos_ds_5min, '1H'))\n",
    "sos_3H_max_wspd_ds = adjust_wdir(replace_avg_wind_with_max_wind(sos_3H_h2o_flux_ds, sos_ds_5min, '3H'))\n",
    "sos_6H_max_wspd_ds = adjust_wdir(replace_avg_wind_with_max_wind(sos_6H_h2o_flux_ds, sos_ds_5min, '6H'))\n",
    "sos_12H_max_wspd_ds = adjust_wdir(replace_avg_wind_with_max_wind(sos_12H_h2o_flux_ds, sos_ds_5min, '12H'))\n",
    "sos_1D_max_wspd_ds = adjust_wdir(replace_avg_wind_with_max_wind(sos_1D_h2o_flux_ds, sos_ds_5min, '1D'))\n",
    "\n"
   ]
  },
  {
   "cell_type": "code",
   "execution_count": 201,
   "metadata": {},
   "outputs": [],
   "source": [
    "# calculate the 1 hour sublimation rate\n",
    "rho_w = 1000\n",
    "g2kg = 1/1000\n",
    "# seconds in timestep\n",
    "s_in_hour = 3600\n",
    "s_in_3hours = 3 * s_in_hour\n",
    "s_in_12hours = 12 * s_in_hour\n",
    "s_in_day = 24 * s_in_hour"
   ]
  },
  {
   "cell_type": "code",
   "execution_count": 202,
   "metadata": {},
   "outputs": [],
   "source": [
    "ds = sos_1D_h2o_flux_ds\n",
    "bs_threshold = 0.001\n",
    "wspd_threshold = 5\n",
    "\n",
    "bsf_timestep = (ds['SF_avg_1m_ue'] + ds['SF_avg_2m_ue'])/24\n",
    "bsf_timestep.name = 'BSF_timestep'\n",
    "# create a blowing snow mask, set value to 1 when greater than 0.001 and 0 otherwise\n",
    "bsf_mask_timestep = bsf_timestep.where(bsf_timestep > bs_threshold, 0)\n",
    "bsf_mask_timestep.name = 'BSF_mask_timestep'\n",
    "####### Blowing Snow from Wind Speed and Blowing Snow Threshold ########\n",
    "wsp_timestep = ds[[variable for variable in hf.WIND_VARIABLES if 'spd' in variable]]\n",
    "# filter to times when the wind speed is greater than the threshold\n",
    "wsp_mask_timestep = wsp_timestep.where(wsp_timestep > wspd_threshold, 0)\n",
    "# filter to times with blowing snow\n",
    "wsp_bs_mask_timestep = wsp_mask_timestep.where(bsf_mask_timestep > 0, 0)\n",
    "# windy + blowing snow sublimation\n",
    "# total_bs_wsp_sublimation = sublimation_timestep.loc[wsp_bs_mask_timestep[wsp_bs_mask_timestep>0].time.values].sum(axis=0)\n",
    "# # get hours of windy + blowing snow\n",
    "# total_bs_wsp_hours = sublimation_timestep.loc[wsp_bs_mask_timestep[wsp_bs_mask_timestep>0].time.values].shape[0]\n",
    "# # non-windy, non-blowing snow sublimation\n",
    "# total_nbs_wsp_sublimation = sublimation_timestep.loc[wsp_bs_mask_timestep[wsp_bs_mask_timestep==0].time.values].sum(axis=0)\n",
    "# # get hours of non-windy, non-blowing snow\n",
    "# total_nbs_wsp_hours = sublimation_timestep.loc[wsp_bs_mask_timestep[wsp_bs_mask_timestep==0].time.values].shape[0]\n"
   ]
  },
  {
   "cell_type": "code",
   "execution_count": 203,
   "metadata": {},
   "outputs": [],
   "source": [
    "# build a function to do this:\n",
    "def delineate_bs_conditions(ds, wspd_threshold=4, bs_threshold=0.001, timestep=1, height=3):\n",
    "    bsf_timestep = (ds['SF_avg_1m_ue'] + ds['SF_avg_2m_ue'])/timestep\n",
    "    bsf_timestep.name = 'BSF_timestep'\n",
    "    # create a blowing snow mask, set value to 1 when greater than 0.001 and 0 otherwise\n",
    "    bsf_mask_timestep = bsf_timestep.where(bsf_timestep > bs_threshold, 0)\n",
    "    bsf_mask_timestep.name = 'BSF_mask_timestep'\n",
    "\n",
    "    # calculate the sublimation rate for 1 hour\n",
    "    sublimation_timestep = (ds[[variable for variable in hf.TURBULENCE_VARIABLES if 'w_h2o' in variable]] * 1/rho_w * 1000 * g2kg * s_in_hour*timestep).to_dataframe()\n",
    "    # get the total number of hours in the dataset\n",
    "    total_hours = sublimation_timestep.shape[0]\n",
    "    # get the sum total over winter\n",
    "    total_sublimation = sublimation_timestep.sum(axis=0)\n",
    "\n",
    "    ######## Explicit Blowing Snow Conditions from Observations ########\n",
    "    # get the sum total over winter for blowing snow\n",
    "    total_bs_sublimation = sublimation_timestep.loc[bsf_mask_timestep[bsf_mask_timestep>0].time.values].sum(axis=0)\n",
    "    # get the total number of hours in the dataset for blowing snow\n",
    "    total_bs_hours = sublimation_timestep.loc[bsf_mask_timestep[bsf_mask_timestep>0].time.values].shape[0]\n",
    "    # get the sum total over winter for non-blowing snow\n",
    "    total_nbs_sublimation = sublimation_timestep.loc[bsf_mask_timestep[bsf_mask_timestep==0].time.values].sum(axis=0)\n",
    "    # get the total number of hours in the dataset for non-blowing snow\n",
    "    total_nbs_hours = sublimation_timestep.loc[bsf_mask_timestep[bsf_mask_timestep==0].time.values].shape[0]\n",
    "\n",
    "\n",
    "    ####### Blowing Snow from Wind Speed and Blowing Snow Threshold ########\n",
    "    wsp_timestep = ds[[variable for variable in hf.WIND_VARIABLES if 'spd' in variable]]\n",
    "    # filter to times when the wind speed is greater than the threshold\n",
    "    wsp_mask_timestep = bsf_mask_timestep.where(wsp_timestep > wspd_threshold, 0)\n",
    "    # filter to times with blowing snow\n",
    "    wsp_bs_mask_timestep = wsp_mask_timestep[[variable for variable in wsp_mask_timestep if '10m' in variable]].to_dataframe().mean(axis=1)\n",
    "    # windy + blowing snow sublimation\n",
    "    total_bs_wsp_sublimation = sublimation_timestep.loc[wsp_bs_mask_timestep[wsp_bs_mask_timestep>0].index].sum(axis=0)\n",
    "    # get hours of windy + blowing snow\n",
    "    total_bs_wsp_hours = sublimation_timestep.loc[wsp_bs_mask_timestep[wsp_bs_mask_timestep>0].index].shape[0]\n",
    "    # non-windy, non-blowing snow sublimation\n",
    "    total_nbs_wsp_sublimation = sublimation_timestep.loc[wsp_bs_mask_timestep[wsp_bs_mask_timestep==0].index].sum(axis=0)\n",
    "    # get hours of non-windy, non-blowing snow\n",
    "    total_nbs_wsp_hours = sublimation_timestep.loc[wsp_bs_mask_timestep[wsp_bs_mask_timestep==0].index].shape[0]\n",
    "\n",
    "    data_dict = {'blowing_snow_obs':[total_bs_sublimation, total_nbs_sublimation, total_bs_hours, total_nbs_hours],\n",
    "     'blowing_snow_and_wsp_obs':[total_bs_wsp_sublimation,total_nbs_wsp_sublimation,total_bs_wsp_hours,total_nbs_wsp_hours],}\n",
    "\n",
    "    # build a stacked bar chart showing the total sublimation for blowing and non-blowing snow conditions\n",
    "    sublimation_timestep_stacked = pd.DataFrame(\n",
    "        {'total_bs_sublimation': (data_dict['blowing_snow_and_wsp_obs'][0]/total_sublimation)*100, \n",
    "        'total_nbs_sublimation': (data_dict['blowing_snow_and_wsp_obs'][1]/total_sublimation)*100},\n",
    "        # 'total_sublimation': total_sublimation},\n",
    "        )\n",
    "    # get the mean at 10 meters\n",
    "    sublimation_timestep_stacked = sublimation_timestep_stacked[sublimation_timestep_stacked.index.str.contains(f'{height}m_')].mean().to_frame().T\n",
    "    # rename index values to 'value'\n",
    "    sublimation_timestep_stacked.index = [f'value_{timestep}H']\n",
    "\n",
    "    # Total sublimation time stacked\n",
    "    bs_time_timestep_stacked = pd.DataFrame(\n",
    "        {'total_bs_sublimation': (data_dict['blowing_snow_and_wsp_obs'][2]/total_hours)*100, \n",
    "        'total_nbs_sublimation': (data_dict['blowing_snow_and_wsp_obs'][3]/total_hours)*100}, index=[f'time_{timestep}H'])\n",
    "    # merge the two dataframes\n",
    "    blowing_snow_timestep = pd.concat([sublimation_timestep_stacked, bs_time_timestep_stacked], axis=0)\n",
    "    return blowing_snow_timestep"
   ]
  },
  {
   "cell_type": "code",
   "execution_count": 204,
   "metadata": {},
   "outputs": [],
   "source": [
    "df = pd.concat([delineate_bs_conditions(sos_1H_max_wspd_ds, bs_threshold=0.001,timestep=1,wspd_threshold=5,height=3),\n",
    "           delineate_bs_conditions(sos_3H_max_wspd_ds, bs_threshold=0.001,timestep=3,wspd_threshold=5,height=3),\n",
    "            delineate_bs_conditions(sos_6H_max_wspd_ds, bs_threshold=0.001,timestep=6,wspd_threshold=5,height=3),\n",
    "             delineate_bs_conditions(sos_12H_max_wspd_ds, bs_threshold=0.001,timestep=12,wspd_threshold=5,height=3),\n",
    "              delineate_bs_conditions(sos_1D_max_wspd_ds, bs_threshold=0.001,timestep=24,wspd_threshold=5,height=3)])"
   ]
  },
  {
   "cell_type": "code",
   "execution_count": 205,
   "metadata": {},
   "outputs": [
    {
     "data": {
      "text/html": [
       "<div>\n",
       "<style scoped>\n",
       "    .dataframe tbody tr th:only-of-type {\n",
       "        vertical-align: middle;\n",
       "    }\n",
       "\n",
       "    .dataframe tbody tr th {\n",
       "        vertical-align: top;\n",
       "    }\n",
       "\n",
       "    .dataframe thead tr th {\n",
       "        text-align: left;\n",
       "    }\n",
       "</style>\n",
       "<table border=\"1\" class=\"dataframe\">\n",
       "  <thead>\n",
       "    <tr>\n",
       "      <th></th>\n",
       "      <th colspan=\"2\" halign=\"left\">Sublimation</th>\n",
       "      <th colspan=\"2\" halign=\"left\">Hours</th>\n",
       "    </tr>\n",
       "    <tr>\n",
       "      <th></th>\n",
       "      <th>Blowing Snow</th>\n",
       "      <th>Non-Blowing Snow</th>\n",
       "      <th>Blowing Snow</th>\n",
       "      <th>Non-Blowing Snow</th>\n",
       "    </tr>\n",
       "  </thead>\n",
       "  <tbody>\n",
       "    <tr>\n",
       "      <th>1H</th>\n",
       "      <td>76.057888</td>\n",
       "      <td>23.942112</td>\n",
       "      <td>22.279614</td>\n",
       "      <td>77.720386</td>\n",
       "    </tr>\n",
       "    <tr>\n",
       "      <th>3H</th>\n",
       "      <td>79.042641</td>\n",
       "      <td>20.957359</td>\n",
       "      <td>25.516529</td>\n",
       "      <td>74.483471</td>\n",
       "    </tr>\n",
       "    <tr>\n",
       "      <th>6H</th>\n",
       "      <td>76.674061</td>\n",
       "      <td>23.325939</td>\n",
       "      <td>25.413223</td>\n",
       "      <td>74.586777</td>\n",
       "    </tr>\n",
       "    <tr>\n",
       "      <th>12H</th>\n",
       "      <td>69.594445</td>\n",
       "      <td>30.405555</td>\n",
       "      <td>25.619835</td>\n",
       "      <td>74.380165</td>\n",
       "    </tr>\n",
       "    <tr>\n",
       "      <th>24H</th>\n",
       "      <td>62.578463</td>\n",
       "      <td>37.421537</td>\n",
       "      <td>23.140496</td>\n",
       "      <td>76.859504</td>\n",
       "    </tr>\n",
       "  </tbody>\n",
       "</table>\n",
       "</div>"
      ],
      "text/plain": [
       "     Sublimation                         Hours                 \n",
       "    Blowing Snow Non-Blowing Snow Blowing Snow Non-Blowing Snow\n",
       "1H     76.057888        23.942112    22.279614        77.720386\n",
       "3H     79.042641        20.957359    25.516529        74.483471\n",
       "6H     76.674061        23.325939    25.413223        74.586777\n",
       "12H    69.594445        30.405555    25.619835        74.380165\n",
       "24H    62.578463        37.421537    23.140496        76.859504"
      ]
     },
     "execution_count": 205,
     "metadata": {},
     "output_type": "execute_result"
    }
   ],
   "source": [
    "idx = pd.Series([index.split('_')[1] for index in df.index]).unique()\n",
    "df_new = pd.concat(\n",
    "    [\n",
    "        pd.DataFrame(\n",
    "            df[df.index.str.contains('value')].values,\n",
    "            index=idx,\n",
    "            columns=[\"Blowing Snow\", \"Non-Blowing Snow\"]\n",
    "        ),\n",
    "        pd.DataFrame(\n",
    "            df[df.index.str.contains('time')].values,\n",
    "            index=idx,\n",
    "            columns=[\"Blowing Snow\", \"Non-Blowing Snow\"]\n",
    "        ),\n",
    "    ],\n",
    "    axis=1,\n",
    "    keys=[\"Sublimation\", \"Hours\"]\n",
    ")\n",
    "df_new"
   ]
  },
  {
   "cell_type": "code",
   "execution_count": 206,
   "metadata": {},
   "outputs": [
    {
     "data": {
      "application/vnd.plotly.v1+json": {
       "config": {
        "plotlyServerURL": "https://plot.ly"
       },
       "data": [
        {
         "hovertemplate": "%{y}<extra></extra>",
         "legendgroup": "Sublimation",
         "legendgrouptitle": {
          "text": "Sublimation"
         },
         "marker": {
          "color": "#F28F1D",
          "line": {
           "color": "#333",
           "width": 2
          }
         },
         "name": "Blowing Snow",
         "offset": -0.25,
         "offsetgroup": "0",
         "type": "bar",
         "width": 0.25,
         "x": [
          "1H",
          "3H",
          "6H",
          "12H",
          "24H"
         ],
         "y": [
          76.05788820735637,
          79.04264091715557,
          76.67406136864007,
          69.59444501578703,
          62.578462676574354
         ],
         "yaxis": "y"
        },
        {
         "hovertemplate": "%{y}<extra></extra>",
         "legendgroup": "Sublimation",
         "legendgrouptitle": {
          "text": "Sublimation"
         },
         "marker": {
          "color": "#FADD75",
          "line": {
           "color": "#333",
           "width": 2
          }
         },
         "name": "Non-Blowing Snow",
         "offset": -0.25,
         "offsetgroup": "0",
         "type": "bar",
         "width": 0.25,
         "x": [
          "1H",
          "3H",
          "6H",
          "12H",
          "24H"
         ],
         "y": [
          23.942111792643622,
          20.95735908284444,
          23.325938631359936,
          30.40555498421298,
          37.42153732342565
         ],
         "yaxis": "y"
        },
        {
         "hovertemplate": "%{y}<extra></extra>",
         "legendgroup": "Hours",
         "legendgrouptitle": {
          "text": "Hours"
         },
         "marker": {
          "color": "#2B6045",
          "line": {
           "color": "#333",
           "width": 2
          }
         },
         "name": "Blowing Snow",
         "offset": 0,
         "offsetgroup": "1",
         "type": "bar",
         "width": 0.25,
         "x": [
          "1H",
          "3H",
          "6H",
          "12H",
          "24H"
         ],
         "y": [
          22.27961432506887,
          25.516528925619834,
          25.413223140495866,
          25.6198347107438,
          23.140495867768596
         ],
         "yaxis": "y2"
        },
        {
         "hovertemplate": "%{y}<extra></extra>",
         "legendgroup": "Hours",
         "legendgrouptitle": {
          "text": "Hours"
         },
         "marker": {
          "color": "#9ED4B9",
          "line": {
           "color": "#333",
           "width": 2
          }
         },
         "name": "Non-Blowing Snow",
         "offset": 0,
         "offsetgroup": "1",
         "type": "bar",
         "width": 0.25,
         "x": [
          "1H",
          "3H",
          "6H",
          "12H",
          "24H"
         ],
         "y": [
          77.72038567493112,
          74.48347107438018,
          74.58677685950413,
          74.3801652892562,
          76.85950413223141
         ],
         "yaxis": "y2"
        }
       ],
       "layout": {
        "barmode": "relative",
        "font": {
         "size": 24
        },
        "height": 600,
        "hovermode": "x",
        "legend": {
         "orientation": "h",
         "x": 0,
         "y": 1.3
        },
        "margin": {
         "b": 0,
         "l": 0,
         "r": 10,
         "t": 10
        },
        "template": {
         "data": {
          "bar": [
           {
            "error_x": {
             "color": "#2a3f5f"
            },
            "error_y": {
             "color": "#2a3f5f"
            },
            "marker": {
             "line": {
              "color": "#E5ECF6",
              "width": 0.5
             },
             "pattern": {
              "fillmode": "overlay",
              "size": 10,
              "solidity": 0.2
             }
            },
            "type": "bar"
           }
          ],
          "barpolar": [
           {
            "marker": {
             "line": {
              "color": "#E5ECF6",
              "width": 0.5
             },
             "pattern": {
              "fillmode": "overlay",
              "size": 10,
              "solidity": 0.2
             }
            },
            "type": "barpolar"
           }
          ],
          "carpet": [
           {
            "aaxis": {
             "endlinecolor": "#2a3f5f",
             "gridcolor": "white",
             "linecolor": "white",
             "minorgridcolor": "white",
             "startlinecolor": "#2a3f5f"
            },
            "baxis": {
             "endlinecolor": "#2a3f5f",
             "gridcolor": "white",
             "linecolor": "white",
             "minorgridcolor": "white",
             "startlinecolor": "#2a3f5f"
            },
            "type": "carpet"
           }
          ],
          "choropleth": [
           {
            "colorbar": {
             "outlinewidth": 0,
             "ticks": ""
            },
            "type": "choropleth"
           }
          ],
          "contour": [
           {
            "colorbar": {
             "outlinewidth": 0,
             "ticks": ""
            },
            "colorscale": [
             [
              0,
              "#0d0887"
             ],
             [
              0.1111111111111111,
              "#46039f"
             ],
             [
              0.2222222222222222,
              "#7201a8"
             ],
             [
              0.3333333333333333,
              "#9c179e"
             ],
             [
              0.4444444444444444,
              "#bd3786"
             ],
             [
              0.5555555555555556,
              "#d8576b"
             ],
             [
              0.6666666666666666,
              "#ed7953"
             ],
             [
              0.7777777777777778,
              "#fb9f3a"
             ],
             [
              0.8888888888888888,
              "#fdca26"
             ],
             [
              1,
              "#f0f921"
             ]
            ],
            "type": "contour"
           }
          ],
          "contourcarpet": [
           {
            "colorbar": {
             "outlinewidth": 0,
             "ticks": ""
            },
            "type": "contourcarpet"
           }
          ],
          "heatmap": [
           {
            "colorbar": {
             "outlinewidth": 0,
             "ticks": ""
            },
            "colorscale": [
             [
              0,
              "#0d0887"
             ],
             [
              0.1111111111111111,
              "#46039f"
             ],
             [
              0.2222222222222222,
              "#7201a8"
             ],
             [
              0.3333333333333333,
              "#9c179e"
             ],
             [
              0.4444444444444444,
              "#bd3786"
             ],
             [
              0.5555555555555556,
              "#d8576b"
             ],
             [
              0.6666666666666666,
              "#ed7953"
             ],
             [
              0.7777777777777778,
              "#fb9f3a"
             ],
             [
              0.8888888888888888,
              "#fdca26"
             ],
             [
              1,
              "#f0f921"
             ]
            ],
            "type": "heatmap"
           }
          ],
          "heatmapgl": [
           {
            "colorbar": {
             "outlinewidth": 0,
             "ticks": ""
            },
            "colorscale": [
             [
              0,
              "#0d0887"
             ],
             [
              0.1111111111111111,
              "#46039f"
             ],
             [
              0.2222222222222222,
              "#7201a8"
             ],
             [
              0.3333333333333333,
              "#9c179e"
             ],
             [
              0.4444444444444444,
              "#bd3786"
             ],
             [
              0.5555555555555556,
              "#d8576b"
             ],
             [
              0.6666666666666666,
              "#ed7953"
             ],
             [
              0.7777777777777778,
              "#fb9f3a"
             ],
             [
              0.8888888888888888,
              "#fdca26"
             ],
             [
              1,
              "#f0f921"
             ]
            ],
            "type": "heatmapgl"
           }
          ],
          "histogram": [
           {
            "marker": {
             "pattern": {
              "fillmode": "overlay",
              "size": 10,
              "solidity": 0.2
             }
            },
            "type": "histogram"
           }
          ],
          "histogram2d": [
           {
            "colorbar": {
             "outlinewidth": 0,
             "ticks": ""
            },
            "colorscale": [
             [
              0,
              "#0d0887"
             ],
             [
              0.1111111111111111,
              "#46039f"
             ],
             [
              0.2222222222222222,
              "#7201a8"
             ],
             [
              0.3333333333333333,
              "#9c179e"
             ],
             [
              0.4444444444444444,
              "#bd3786"
             ],
             [
              0.5555555555555556,
              "#d8576b"
             ],
             [
              0.6666666666666666,
              "#ed7953"
             ],
             [
              0.7777777777777778,
              "#fb9f3a"
             ],
             [
              0.8888888888888888,
              "#fdca26"
             ],
             [
              1,
              "#f0f921"
             ]
            ],
            "type": "histogram2d"
           }
          ],
          "histogram2dcontour": [
           {
            "colorbar": {
             "outlinewidth": 0,
             "ticks": ""
            },
            "colorscale": [
             [
              0,
              "#0d0887"
             ],
             [
              0.1111111111111111,
              "#46039f"
             ],
             [
              0.2222222222222222,
              "#7201a8"
             ],
             [
              0.3333333333333333,
              "#9c179e"
             ],
             [
              0.4444444444444444,
              "#bd3786"
             ],
             [
              0.5555555555555556,
              "#d8576b"
             ],
             [
              0.6666666666666666,
              "#ed7953"
             ],
             [
              0.7777777777777778,
              "#fb9f3a"
             ],
             [
              0.8888888888888888,
              "#fdca26"
             ],
             [
              1,
              "#f0f921"
             ]
            ],
            "type": "histogram2dcontour"
           }
          ],
          "mesh3d": [
           {
            "colorbar": {
             "outlinewidth": 0,
             "ticks": ""
            },
            "type": "mesh3d"
           }
          ],
          "parcoords": [
           {
            "line": {
             "colorbar": {
              "outlinewidth": 0,
              "ticks": ""
             }
            },
            "type": "parcoords"
           }
          ],
          "pie": [
           {
            "automargin": true,
            "type": "pie"
           }
          ],
          "scatter": [
           {
            "fillpattern": {
             "fillmode": "overlay",
             "size": 10,
             "solidity": 0.2
            },
            "type": "scatter"
           }
          ],
          "scatter3d": [
           {
            "line": {
             "colorbar": {
              "outlinewidth": 0,
              "ticks": ""
             }
            },
            "marker": {
             "colorbar": {
              "outlinewidth": 0,
              "ticks": ""
             }
            },
            "type": "scatter3d"
           }
          ],
          "scattercarpet": [
           {
            "marker": {
             "colorbar": {
              "outlinewidth": 0,
              "ticks": ""
             }
            },
            "type": "scattercarpet"
           }
          ],
          "scattergeo": [
           {
            "marker": {
             "colorbar": {
              "outlinewidth": 0,
              "ticks": ""
             }
            },
            "type": "scattergeo"
           }
          ],
          "scattergl": [
           {
            "marker": {
             "colorbar": {
              "outlinewidth": 0,
              "ticks": ""
             }
            },
            "type": "scattergl"
           }
          ],
          "scattermapbox": [
           {
            "marker": {
             "colorbar": {
              "outlinewidth": 0,
              "ticks": ""
             }
            },
            "type": "scattermapbox"
           }
          ],
          "scatterpolar": [
           {
            "marker": {
             "colorbar": {
              "outlinewidth": 0,
              "ticks": ""
             }
            },
            "type": "scatterpolar"
           }
          ],
          "scatterpolargl": [
           {
            "marker": {
             "colorbar": {
              "outlinewidth": 0,
              "ticks": ""
             }
            },
            "type": "scatterpolargl"
           }
          ],
          "scatterternary": [
           {
            "marker": {
             "colorbar": {
              "outlinewidth": 0,
              "ticks": ""
             }
            },
            "type": "scatterternary"
           }
          ],
          "surface": [
           {
            "colorbar": {
             "outlinewidth": 0,
             "ticks": ""
            },
            "colorscale": [
             [
              0,
              "#0d0887"
             ],
             [
              0.1111111111111111,
              "#46039f"
             ],
             [
              0.2222222222222222,
              "#7201a8"
             ],
             [
              0.3333333333333333,
              "#9c179e"
             ],
             [
              0.4444444444444444,
              "#bd3786"
             ],
             [
              0.5555555555555556,
              "#d8576b"
             ],
             [
              0.6666666666666666,
              "#ed7953"
             ],
             [
              0.7777777777777778,
              "#fb9f3a"
             ],
             [
              0.8888888888888888,
              "#fdca26"
             ],
             [
              1,
              "#f0f921"
             ]
            ],
            "type": "surface"
           }
          ],
          "table": [
           {
            "cells": {
             "fill": {
              "color": "#EBF0F8"
             },
             "line": {
              "color": "white"
             }
            },
            "header": {
             "fill": {
              "color": "#C8D4E3"
             },
             "line": {
              "color": "white"
             }
            },
            "type": "table"
           }
          ]
         },
         "layout": {
          "annotationdefaults": {
           "arrowcolor": "#2a3f5f",
           "arrowhead": 0,
           "arrowwidth": 1
          },
          "autotypenumbers": "strict",
          "coloraxis": {
           "colorbar": {
            "outlinewidth": 0,
            "ticks": ""
           }
          },
          "colorscale": {
           "diverging": [
            [
             0,
             "#8e0152"
            ],
            [
             0.1,
             "#c51b7d"
            ],
            [
             0.2,
             "#de77ae"
            ],
            [
             0.3,
             "#f1b6da"
            ],
            [
             0.4,
             "#fde0ef"
            ],
            [
             0.5,
             "#f7f7f7"
            ],
            [
             0.6,
             "#e6f5d0"
            ],
            [
             0.7,
             "#b8e186"
            ],
            [
             0.8,
             "#7fbc41"
            ],
            [
             0.9,
             "#4d9221"
            ],
            [
             1,
             "#276419"
            ]
           ],
           "sequential": [
            [
             0,
             "#0d0887"
            ],
            [
             0.1111111111111111,
             "#46039f"
            ],
            [
             0.2222222222222222,
             "#7201a8"
            ],
            [
             0.3333333333333333,
             "#9c179e"
            ],
            [
             0.4444444444444444,
             "#bd3786"
            ],
            [
             0.5555555555555556,
             "#d8576b"
            ],
            [
             0.6666666666666666,
             "#ed7953"
            ],
            [
             0.7777777777777778,
             "#fb9f3a"
            ],
            [
             0.8888888888888888,
             "#fdca26"
            ],
            [
             1,
             "#f0f921"
            ]
           ],
           "sequentialminus": [
            [
             0,
             "#0d0887"
            ],
            [
             0.1111111111111111,
             "#46039f"
            ],
            [
             0.2222222222222222,
             "#7201a8"
            ],
            [
             0.3333333333333333,
             "#9c179e"
            ],
            [
             0.4444444444444444,
             "#bd3786"
            ],
            [
             0.5555555555555556,
             "#d8576b"
            ],
            [
             0.6666666666666666,
             "#ed7953"
            ],
            [
             0.7777777777777778,
             "#fb9f3a"
            ],
            [
             0.8888888888888888,
             "#fdca26"
            ],
            [
             1,
             "#f0f921"
            ]
           ]
          },
          "colorway": [
           "#636efa",
           "#EF553B",
           "#00cc96",
           "#ab63fa",
           "#FFA15A",
           "#19d3f3",
           "#FF6692",
           "#B6E880",
           "#FF97FF",
           "#FECB52"
          ],
          "font": {
           "color": "#2a3f5f"
          },
          "geo": {
           "bgcolor": "white",
           "lakecolor": "white",
           "landcolor": "#E5ECF6",
           "showlakes": true,
           "showland": true,
           "subunitcolor": "white"
          },
          "hoverlabel": {
           "align": "left"
          },
          "hovermode": "closest",
          "mapbox": {
           "style": "light"
          },
          "paper_bgcolor": "white",
          "plot_bgcolor": "#E5ECF6",
          "polar": {
           "angularaxis": {
            "gridcolor": "white",
            "linecolor": "white",
            "ticks": ""
           },
           "bgcolor": "#E5ECF6",
           "radialaxis": {
            "gridcolor": "white",
            "linecolor": "white",
            "ticks": ""
           }
          },
          "scene": {
           "xaxis": {
            "backgroundcolor": "#E5ECF6",
            "gridcolor": "white",
            "gridwidth": 2,
            "linecolor": "white",
            "showbackground": true,
            "ticks": "",
            "zerolinecolor": "white"
           },
           "yaxis": {
            "backgroundcolor": "#E5ECF6",
            "gridcolor": "white",
            "gridwidth": 2,
            "linecolor": "white",
            "showbackground": true,
            "ticks": "",
            "zerolinecolor": "white"
           },
           "zaxis": {
            "backgroundcolor": "#E5ECF6",
            "gridcolor": "white",
            "gridwidth": 2,
            "linecolor": "white",
            "showbackground": true,
            "ticks": "",
            "zerolinecolor": "white"
           }
          },
          "shapedefaults": {
           "line": {
            "color": "#2a3f5f"
           }
          },
          "ternary": {
           "aaxis": {
            "gridcolor": "white",
            "linecolor": "white",
            "ticks": ""
           },
           "baxis": {
            "gridcolor": "white",
            "linecolor": "white",
            "ticks": ""
           },
           "bgcolor": "#E5ECF6",
           "caxis": {
            "gridcolor": "white",
            "linecolor": "white",
            "ticks": ""
           }
          },
          "title": {
           "x": 0.05
          },
          "xaxis": {
           "automargin": true,
           "gridcolor": "white",
           "linecolor": "white",
           "ticks": "",
           "title": {
            "standoff": 15
           },
           "zerolinecolor": "white",
           "zerolinewidth": 2
          },
          "yaxis": {
           "automargin": true,
           "gridcolor": "white",
           "linecolor": "white",
           "ticks": "",
           "title": {
            "standoff": 15
           },
           "zerolinecolor": "white",
           "zerolinewidth": 2
          }
         }
        },
        "width": 1000,
        "xaxis": {
         "title": {
          "text": "Averaging Period (Hours)"
         }
        },
        "yaxis": {
         "range": [
          0,
          110
         ],
         "showgrid": true,
         "showticklabels": true,
         "title": {
          "text": "Percentage of Total (%)"
         }
        },
        "yaxis2": {
         "anchor": "x",
         "matches": "y",
         "overlaying": "y",
         "visible": false
        }
       }
      },
      "text/html": [
       "<div>                            <div id=\"ca3f4df4-95c2-49f6-a0c8-ebc64b6f6ae0\" class=\"plotly-graph-div\" style=\"height:600px; width:1000px;\"></div>            <script type=\"text/javascript\">                require([\"plotly\"], function(Plotly) {                    window.PLOTLYENV=window.PLOTLYENV || {};                                    if (document.getElementById(\"ca3f4df4-95c2-49f6-a0c8-ebc64b6f6ae0\")) {                    Plotly.newPlot(                        \"ca3f4df4-95c2-49f6-a0c8-ebc64b6f6ae0\",                        [{\"hovertemplate\":\"%{y}\\u003cextra\\u003e\\u003c\\u002fextra\\u003e\",\"legendgroup\":\"Sublimation\",\"legendgrouptitle\":{\"text\":\"Sublimation\"},\"marker\":{\"color\":\"#F28F1D\",\"line\":{\"color\":\"#333\",\"width\":2}},\"name\":\"Blowing Snow\",\"offset\":-0.25,\"offsetgroup\":\"0\",\"width\":0.25,\"x\":[\"1H\",\"3H\",\"6H\",\"12H\",\"24H\"],\"y\":[76.05788820735637,79.04264091715557,76.67406136864007,69.59444501578703,62.578462676574354],\"yaxis\":\"y\",\"type\":\"bar\"},{\"hovertemplate\":\"%{y}\\u003cextra\\u003e\\u003c\\u002fextra\\u003e\",\"legendgroup\":\"Sublimation\",\"legendgrouptitle\":{\"text\":\"Sublimation\"},\"marker\":{\"color\":\"#FADD75\",\"line\":{\"color\":\"#333\",\"width\":2}},\"name\":\"Non-Blowing Snow\",\"offset\":-0.25,\"offsetgroup\":\"0\",\"width\":0.25,\"x\":[\"1H\",\"3H\",\"6H\",\"12H\",\"24H\"],\"y\":[23.942111792643622,20.95735908284444,23.325938631359936,30.40555498421298,37.42153732342565],\"yaxis\":\"y\",\"type\":\"bar\"},{\"hovertemplate\":\"%{y}\\u003cextra\\u003e\\u003c\\u002fextra\\u003e\",\"legendgroup\":\"Hours\",\"legendgrouptitle\":{\"text\":\"Hours\"},\"marker\":{\"color\":\"#2B6045\",\"line\":{\"color\":\"#333\",\"width\":2}},\"name\":\"Blowing Snow\",\"offset\":0.0,\"offsetgroup\":\"1\",\"width\":0.25,\"x\":[\"1H\",\"3H\",\"6H\",\"12H\",\"24H\"],\"y\":[22.27961432506887,25.516528925619834,25.413223140495866,25.6198347107438,23.140495867768596],\"yaxis\":\"y2\",\"type\":\"bar\"},{\"hovertemplate\":\"%{y}\\u003cextra\\u003e\\u003c\\u002fextra\\u003e\",\"legendgroup\":\"Hours\",\"legendgrouptitle\":{\"text\":\"Hours\"},\"marker\":{\"color\":\"#9ED4B9\",\"line\":{\"color\":\"#333\",\"width\":2}},\"name\":\"Non-Blowing Snow\",\"offset\":0.0,\"offsetgroup\":\"1\",\"width\":0.25,\"x\":[\"1H\",\"3H\",\"6H\",\"12H\",\"24H\"],\"y\":[77.72038567493112,74.48347107438018,74.58677685950413,74.3801652892562,76.85950413223141],\"yaxis\":\"y2\",\"type\":\"bar\"}],                        {\"barmode\":\"relative\",\"font\":{\"size\":24},\"height\":600,\"hovermode\":\"x\",\"legend\":{\"orientation\":\"h\",\"x\":0,\"y\":1.3},\"margin\":{\"b\":0,\"l\":0,\"r\":10,\"t\":10},\"width\":1000,\"xaxis\":{\"title\":{\"text\":\"Averaging Period (Hours)\"}},\"yaxis\":{\"range\":[0,110],\"showgrid\":true,\"showticklabels\":true,\"title\":{\"text\":\"Percentage of Total (%)\"}},\"yaxis2\":{\"anchor\":\"x\",\"matches\":\"y\",\"overlaying\":\"y\",\"visible\":false},\"template\":{\"data\":{\"histogram2dcontour\":[{\"type\":\"histogram2dcontour\",\"colorbar\":{\"outlinewidth\":0,\"ticks\":\"\"},\"colorscale\":[[0.0,\"#0d0887\"],[0.1111111111111111,\"#46039f\"],[0.2222222222222222,\"#7201a8\"],[0.3333333333333333,\"#9c179e\"],[0.4444444444444444,\"#bd3786\"],[0.5555555555555556,\"#d8576b\"],[0.6666666666666666,\"#ed7953\"],[0.7777777777777778,\"#fb9f3a\"],[0.8888888888888888,\"#fdca26\"],[1.0,\"#f0f921\"]]}],\"choropleth\":[{\"type\":\"choropleth\",\"colorbar\":{\"outlinewidth\":0,\"ticks\":\"\"}}],\"histogram2d\":[{\"type\":\"histogram2d\",\"colorbar\":{\"outlinewidth\":0,\"ticks\":\"\"},\"colorscale\":[[0.0,\"#0d0887\"],[0.1111111111111111,\"#46039f\"],[0.2222222222222222,\"#7201a8\"],[0.3333333333333333,\"#9c179e\"],[0.4444444444444444,\"#bd3786\"],[0.5555555555555556,\"#d8576b\"],[0.6666666666666666,\"#ed7953\"],[0.7777777777777778,\"#fb9f3a\"],[0.8888888888888888,\"#fdca26\"],[1.0,\"#f0f921\"]]}],\"heatmap\":[{\"type\":\"heatmap\",\"colorbar\":{\"outlinewidth\":0,\"ticks\":\"\"},\"colorscale\":[[0.0,\"#0d0887\"],[0.1111111111111111,\"#46039f\"],[0.2222222222222222,\"#7201a8\"],[0.3333333333333333,\"#9c179e\"],[0.4444444444444444,\"#bd3786\"],[0.5555555555555556,\"#d8576b\"],[0.6666666666666666,\"#ed7953\"],[0.7777777777777778,\"#fb9f3a\"],[0.8888888888888888,\"#fdca26\"],[1.0,\"#f0f921\"]]}],\"heatmapgl\":[{\"type\":\"heatmapgl\",\"colorbar\":{\"outlinewidth\":0,\"ticks\":\"\"},\"colorscale\":[[0.0,\"#0d0887\"],[0.1111111111111111,\"#46039f\"],[0.2222222222222222,\"#7201a8\"],[0.3333333333333333,\"#9c179e\"],[0.4444444444444444,\"#bd3786\"],[0.5555555555555556,\"#d8576b\"],[0.6666666666666666,\"#ed7953\"],[0.7777777777777778,\"#fb9f3a\"],[0.8888888888888888,\"#fdca26\"],[1.0,\"#f0f921\"]]}],\"contourcarpet\":[{\"type\":\"contourcarpet\",\"colorbar\":{\"outlinewidth\":0,\"ticks\":\"\"}}],\"contour\":[{\"type\":\"contour\",\"colorbar\":{\"outlinewidth\":0,\"ticks\":\"\"},\"colorscale\":[[0.0,\"#0d0887\"],[0.1111111111111111,\"#46039f\"],[0.2222222222222222,\"#7201a8\"],[0.3333333333333333,\"#9c179e\"],[0.4444444444444444,\"#bd3786\"],[0.5555555555555556,\"#d8576b\"],[0.6666666666666666,\"#ed7953\"],[0.7777777777777778,\"#fb9f3a\"],[0.8888888888888888,\"#fdca26\"],[1.0,\"#f0f921\"]]}],\"surface\":[{\"type\":\"surface\",\"colorbar\":{\"outlinewidth\":0,\"ticks\":\"\"},\"colorscale\":[[0.0,\"#0d0887\"],[0.1111111111111111,\"#46039f\"],[0.2222222222222222,\"#7201a8\"],[0.3333333333333333,\"#9c179e\"],[0.4444444444444444,\"#bd3786\"],[0.5555555555555556,\"#d8576b\"],[0.6666666666666666,\"#ed7953\"],[0.7777777777777778,\"#fb9f3a\"],[0.8888888888888888,\"#fdca26\"],[1.0,\"#f0f921\"]]}],\"mesh3d\":[{\"type\":\"mesh3d\",\"colorbar\":{\"outlinewidth\":0,\"ticks\":\"\"}}],\"scatter\":[{\"fillpattern\":{\"fillmode\":\"overlay\",\"size\":10,\"solidity\":0.2},\"type\":\"scatter\"}],\"parcoords\":[{\"type\":\"parcoords\",\"line\":{\"colorbar\":{\"outlinewidth\":0,\"ticks\":\"\"}}}],\"scatterpolargl\":[{\"type\":\"scatterpolargl\",\"marker\":{\"colorbar\":{\"outlinewidth\":0,\"ticks\":\"\"}}}],\"bar\":[{\"error_x\":{\"color\":\"#2a3f5f\"},\"error_y\":{\"color\":\"#2a3f5f\"},\"marker\":{\"line\":{\"color\":\"#E5ECF6\",\"width\":0.5},\"pattern\":{\"fillmode\":\"overlay\",\"size\":10,\"solidity\":0.2}},\"type\":\"bar\"}],\"scattergeo\":[{\"type\":\"scattergeo\",\"marker\":{\"colorbar\":{\"outlinewidth\":0,\"ticks\":\"\"}}}],\"scatterpolar\":[{\"type\":\"scatterpolar\",\"marker\":{\"colorbar\":{\"outlinewidth\":0,\"ticks\":\"\"}}}],\"histogram\":[{\"marker\":{\"pattern\":{\"fillmode\":\"overlay\",\"size\":10,\"solidity\":0.2}},\"type\":\"histogram\"}],\"scattergl\":[{\"type\":\"scattergl\",\"marker\":{\"colorbar\":{\"outlinewidth\":0,\"ticks\":\"\"}}}],\"scatter3d\":[{\"type\":\"scatter3d\",\"line\":{\"colorbar\":{\"outlinewidth\":0,\"ticks\":\"\"}},\"marker\":{\"colorbar\":{\"outlinewidth\":0,\"ticks\":\"\"}}}],\"scattermapbox\":[{\"type\":\"scattermapbox\",\"marker\":{\"colorbar\":{\"outlinewidth\":0,\"ticks\":\"\"}}}],\"scatterternary\":[{\"type\":\"scatterternary\",\"marker\":{\"colorbar\":{\"outlinewidth\":0,\"ticks\":\"\"}}}],\"scattercarpet\":[{\"type\":\"scattercarpet\",\"marker\":{\"colorbar\":{\"outlinewidth\":0,\"ticks\":\"\"}}}],\"carpet\":[{\"aaxis\":{\"endlinecolor\":\"#2a3f5f\",\"gridcolor\":\"white\",\"linecolor\":\"white\",\"minorgridcolor\":\"white\",\"startlinecolor\":\"#2a3f5f\"},\"baxis\":{\"endlinecolor\":\"#2a3f5f\",\"gridcolor\":\"white\",\"linecolor\":\"white\",\"minorgridcolor\":\"white\",\"startlinecolor\":\"#2a3f5f\"},\"type\":\"carpet\"}],\"table\":[{\"cells\":{\"fill\":{\"color\":\"#EBF0F8\"},\"line\":{\"color\":\"white\"}},\"header\":{\"fill\":{\"color\":\"#C8D4E3\"},\"line\":{\"color\":\"white\"}},\"type\":\"table\"}],\"barpolar\":[{\"marker\":{\"line\":{\"color\":\"#E5ECF6\",\"width\":0.5},\"pattern\":{\"fillmode\":\"overlay\",\"size\":10,\"solidity\":0.2}},\"type\":\"barpolar\"}],\"pie\":[{\"automargin\":true,\"type\":\"pie\"}]},\"layout\":{\"autotypenumbers\":\"strict\",\"colorway\":[\"#636efa\",\"#EF553B\",\"#00cc96\",\"#ab63fa\",\"#FFA15A\",\"#19d3f3\",\"#FF6692\",\"#B6E880\",\"#FF97FF\",\"#FECB52\"],\"font\":{\"color\":\"#2a3f5f\"},\"hovermode\":\"closest\",\"hoverlabel\":{\"align\":\"left\"},\"paper_bgcolor\":\"white\",\"plot_bgcolor\":\"#E5ECF6\",\"polar\":{\"bgcolor\":\"#E5ECF6\",\"angularaxis\":{\"gridcolor\":\"white\",\"linecolor\":\"white\",\"ticks\":\"\"},\"radialaxis\":{\"gridcolor\":\"white\",\"linecolor\":\"white\",\"ticks\":\"\"}},\"ternary\":{\"bgcolor\":\"#E5ECF6\",\"aaxis\":{\"gridcolor\":\"white\",\"linecolor\":\"white\",\"ticks\":\"\"},\"baxis\":{\"gridcolor\":\"white\",\"linecolor\":\"white\",\"ticks\":\"\"},\"caxis\":{\"gridcolor\":\"white\",\"linecolor\":\"white\",\"ticks\":\"\"}},\"coloraxis\":{\"colorbar\":{\"outlinewidth\":0,\"ticks\":\"\"}},\"colorscale\":{\"sequential\":[[0.0,\"#0d0887\"],[0.1111111111111111,\"#46039f\"],[0.2222222222222222,\"#7201a8\"],[0.3333333333333333,\"#9c179e\"],[0.4444444444444444,\"#bd3786\"],[0.5555555555555556,\"#d8576b\"],[0.6666666666666666,\"#ed7953\"],[0.7777777777777778,\"#fb9f3a\"],[0.8888888888888888,\"#fdca26\"],[1.0,\"#f0f921\"]],\"sequentialminus\":[[0.0,\"#0d0887\"],[0.1111111111111111,\"#46039f\"],[0.2222222222222222,\"#7201a8\"],[0.3333333333333333,\"#9c179e\"],[0.4444444444444444,\"#bd3786\"],[0.5555555555555556,\"#d8576b\"],[0.6666666666666666,\"#ed7953\"],[0.7777777777777778,\"#fb9f3a\"],[0.8888888888888888,\"#fdca26\"],[1.0,\"#f0f921\"]],\"diverging\":[[0,\"#8e0152\"],[0.1,\"#c51b7d\"],[0.2,\"#de77ae\"],[0.3,\"#f1b6da\"],[0.4,\"#fde0ef\"],[0.5,\"#f7f7f7\"],[0.6,\"#e6f5d0\"],[0.7,\"#b8e186\"],[0.8,\"#7fbc41\"],[0.9,\"#4d9221\"],[1,\"#276419\"]]},\"xaxis\":{\"gridcolor\":\"white\",\"linecolor\":\"white\",\"ticks\":\"\",\"title\":{\"standoff\":15},\"zerolinecolor\":\"white\",\"automargin\":true,\"zerolinewidth\":2},\"yaxis\":{\"gridcolor\":\"white\",\"linecolor\":\"white\",\"ticks\":\"\",\"title\":{\"standoff\":15},\"zerolinecolor\":\"white\",\"automargin\":true,\"zerolinewidth\":2},\"scene\":{\"xaxis\":{\"backgroundcolor\":\"#E5ECF6\",\"gridcolor\":\"white\",\"linecolor\":\"white\",\"showbackground\":true,\"ticks\":\"\",\"zerolinecolor\":\"white\",\"gridwidth\":2},\"yaxis\":{\"backgroundcolor\":\"#E5ECF6\",\"gridcolor\":\"white\",\"linecolor\":\"white\",\"showbackground\":true,\"ticks\":\"\",\"zerolinecolor\":\"white\",\"gridwidth\":2},\"zaxis\":{\"backgroundcolor\":\"#E5ECF6\",\"gridcolor\":\"white\",\"linecolor\":\"white\",\"showbackground\":true,\"ticks\":\"\",\"zerolinecolor\":\"white\",\"gridwidth\":2}},\"shapedefaults\":{\"line\":{\"color\":\"#2a3f5f\"}},\"annotationdefaults\":{\"arrowcolor\":\"#2a3f5f\",\"arrowhead\":0,\"arrowwidth\":1},\"geo\":{\"bgcolor\":\"white\",\"landcolor\":\"#E5ECF6\",\"subunitcolor\":\"white\",\"showland\":true,\"showlakes\":true,\"lakecolor\":\"white\"},\"title\":{\"x\":0.05},\"mapbox\":{\"style\":\"light\"}}}},                        {\"responsive\": true}                    ).then(function(){\n",
       "                            \n",
       "var gd = document.getElementById('ca3f4df4-95c2-49f6-a0c8-ebc64b6f6ae0');\n",
       "var x = new MutationObserver(function (mutations, observer) {{\n",
       "        var display = window.getComputedStyle(gd).display;\n",
       "        if (!display || display === 'none') {{\n",
       "            console.log([gd, 'removed!']);\n",
       "            Plotly.purge(gd);\n",
       "            observer.disconnect();\n",
       "        }}\n",
       "}});\n",
       "\n",
       "// Listen for the removal of the full notebook cells\n",
       "var notebookContainer = gd.closest('#notebook-container');\n",
       "if (notebookContainer) {{\n",
       "    x.observe(notebookContainer, {childList: true});\n",
       "}}\n",
       "\n",
       "// Listen for the clearing of the current output cell\n",
       "var outputEl = gd.closest('.output');\n",
       "if (outputEl) {{\n",
       "    x.observe(outputEl, {childList: true});\n",
       "}}\n",
       "\n",
       "                        })                };                });            </script>        </div>"
      ]
     },
     "metadata": {},
     "output_type": "display_data"
    }
   ],
   "source": [
    "# Create a figure with the right layout\n",
    "fig = go.Figure(\n",
    "    layout=go.Layout(\n",
    "        height=600,\n",
    "        width=1000,\n",
    "        barmode=\"relative\",\n",
    "        yaxis_showticklabels=True,\n",
    "        yaxis_showgrid=True,\n",
    "        yaxis_range=[0, 110],\n",
    "        yaxis_title=\"Percentage of Total (%)\",\n",
    "        xaxis_title=\"Averaging Period (Hours)\",\n",
    "       # Secondary y-axis overlayed on the primary one and not visible\n",
    "        yaxis2=go.layout.YAxis(\n",
    "            visible=False,\n",
    "            matches=\"y\",\n",
    "            overlaying=\"y\",\n",
    "            anchor=\"x\",\n",
    "        ),\n",
    "        font=dict(size=24),\n",
    "        legend_x=0,\n",
    "        legend_y=1.3,\n",
    "        legend_orientation=\"h\",\n",
    "        hovermode=\"x\",\n",
    "        margin=dict(b=0,t=10,l=0,r=10)\n",
    "    )\n",
    ")\n",
    "\n",
    "# Define some colors for the product, revenue pairs\n",
    "colors = {\n",
    "    \"Sublimation\": {\n",
    "        \"Blowing Snow\": \"#F28F1D\",\n",
    "        \"Non-Blowing Snow\": \"#FADD75\",\n",
    "    },\n",
    "    \"Hours\": {\n",
    "        \"Blowing Snow\": \"#2B6045\",\n",
    "        \"Non-Blowing Snow\": \"#9ED4B9\",\n",
    "    }\n",
    "}\n",
    "\n",
    "# Add the traces\n",
    "for i, t in enumerate(colors):\n",
    "    for j, col in enumerate(df_new[t].columns):\n",
    "        if (df_new[t][col] == 0).all():\n",
    "            continue\n",
    "        fig.add_bar(\n",
    "            x=df_new.index,\n",
    "            y=df_new[t][col],\n",
    "            # Set the right yaxis depending on the selected product (from enumerate)\n",
    "            yaxis=f\"y{i + 1}\",\n",
    "            # Offset the bar trace, offset needs to match the width\n",
    "            # The values here are in milliseconds, 1billion ms is ~1/3 month\n",
    "            offsetgroup=str(i),\n",
    "            offset=(i - 1) * 0.25,\n",
    "            width=0.25,\n",
    "            legendgroup=t,\n",
    "            legendgrouptitle_text=t,\n",
    "            name=col,\n",
    "            marker_color=colors[t][col],\n",
    "            marker_line=dict(width=2, color=\"#333\"),\n",
    "            hovertemplate=\"%{y}<extra></extra>\"\n",
    "        )\n",
    "\n",
    "fig.show()\n",
    "fig.write_image(\"../../04_products/figures/sandbox/blowing_snow_sublimation.png\")"
   ]
  },
  {
   "cell_type": "code",
   "execution_count": 207,
   "metadata": {},
   "outputs": [
    {
     "data": {
      "application/vnd.plotly.v1+json": {
       "config": {
        "plotlyServerURL": "https://plot.ly"
       },
       "data": [
        {
         "hovertemplate": "x=%{x}<br>y=%{y}<extra></extra>",
         "legendgroup": "",
         "marker": {
          "color": "#636efa",
          "symbol": "circle"
         },
         "mode": "markers",
         "name": "",
         "showlegend": false,
         "type": "scattergl",
         "x": [
          0.0002138092407714537,
          -0.001335949234655704,
          -0.0005356243106540114,
          -0.0015953670811820614,
          -0.0020130575141052987,
          -0.0013345921235519143,
          -0.0015682911051710657,
          -0.0013572568128324344,
          -0.0012486873751349492,
          -0.0025927732314580468,
          0.00009599015700859082,
          -0.0007451822673705949,
          -0.0007493035729210576,
          0.0008571153554685733,
          -0.0007765829365424057,
          -0.00013818517529529117,
          -0.0004434282088682136,
          -0.00007303308988563725,
          0.0022766901644904677,
          -0.00045862163324154534,
          0.00006513928491615022,
          -0.00021969763175396298,
          -0.001252398143459267,
          -0.004929371792192525,
          0.002860641862209294,
          0.0063049643882967105,
          0.0006829278959895706,
          0.006207126811066388,
          -0.0013970810803605668,
          0.02610526526641621,
          0.01141015109328692,
          0.006522159954219113,
          0.0006534484537073365,
          -0.00003986107629019853,
          0.00018783334960343137,
          0.004016661477769572,
          0.0006388628801268226,
          0.005024613580410964,
          0.004292481623808207,
          0.0022368730490474747,
          0.020718492544448158,
          0.014132982130731145,
          0.006395943733425705,
          0.00838360060116885,
          0.004663850169319209,
          0.016484688129392258,
          0.008401962080069741,
          0.01199316624337459,
          0.0038836685352710842,
          0.002093036138299219,
          0.00040892017796068797,
          -0.002872914437451364,
          -0.0011217012903360982,
          -0.0005293897617492209,
          -0.0019153270555136714,
          -0.0003153581002498171,
          -0.000765273920690427,
          -0.00043898505927823794,
          -0.00042798360307511746,
          -0.00009605773859533429,
          -0.0002651551637250574,
          -0.0003198979507609348,
          0.00011599998679182738,
          0.00015650777287461938,
          0.0005342833893742238,
          -0.0023321891484522593,
          null,
          null,
          null,
          0.00721684755538633,
          0.00042010632982202186,
          0.000039136677542986505,
          -0.00014900747996194133,
          -0.00012475198013817135,
          -0.00017877914271953455,
          -0.00006748195503942372,
          0.00034768902812883085,
          0.00004124766031488058,
          -0.00003051744506639767,
          0.000023448337296529814,
          -0.00030210206787018024,
          0.00009330203509231791,
          -0.00016816684729903386,
          -0.009656136123845097,
          -0.005628054572236842,
          0.00015748065114134374,
          0.0012200503072840665,
          0.001014499009793706,
          0.0004040271138725515,
          0.0005548626851163974,
          0.000512569896244092,
          0.0012936142763556452,
          0.0006957035309953785,
          -0.00011631441852067576,
          -0.0007009269936486054,
          -0.00005927386950510538,
          -0.0006750637389458768,
          -0.00033930141293343763,
          -0.00007794574263778747,
          -0.00034294992107753927,
          0.000015561377373057156,
          -0.0058912883075029985,
          -0.0006061347451466262,
          -0.0007580049365224634,
          -0.00037144825147489985,
          0.00023329054588494547,
          0.0009980454802328668,
          -0.0004265987078326816,
          -0.0005285478026901061,
          -0.00019812008965658032,
          0.004411852572939114,
          0.009428728403991712,
          -0.006638214398749814,
          -0.0000930581250718418,
          0.0020258465861843836,
          0.0024412482636648747,
          0.00613576785786929,
          0.005271608014550977,
          0.0030162178602056097,
          0.002605775089605602,
          0.0037414542867198163,
          0.00047248156870852154,
          0.003570340025434226,
          0.003795794566601767,
          0.005791028093104458,
          0.004909026143255654,
          0.004547446747420024,
          0.0003134980390034625,
          0.007121879236356911,
          0.009704160415443162,
          -0.006536915152120543,
          -0.00009714169731920436,
          0.002638700869548859,
          -0.00018727714200474782,
          -0.00045648723378318573,
          0.001736637412852654,
          0.001168764649034107,
          0.0018572854261643956,
          0.001619705402030533,
          0.001775789968414541,
          0.011960488576086045,
          0.006986014168311461,
          0.002879587165886162,
          0.0021530002182426587,
          -0.0015104501132267144,
          0.0261805014801304,
          null,
          null,
          null,
          null,
          null,
          null,
          null,
          null,
          null,
          null,
          null,
          null,
          null,
          null,
          null,
          null,
          null,
          null,
          -0.0017588114030281238,
          0.00009967742170285347,
          0.0009900047329169928,
          -0.0009782366246173543,
          0.00002788825497804237,
          0.00010133078989977597,
          -0.0005839598234231858,
          -0.000381409630588473,
          -0.0004358412901768931,
          0.000006833435584495048,
          0.00029556617358631604,
          -0.0014833480788685911,
          0.0013865877317481203,
          0.0025880343480793044,
          0.0024074518664794695,
          0.006625051789350737,
          0.010597908723694063,
          0.0036834092028604887,
          0.0045709993531895254,
          0.0056060732196409405,
          0.0037245696400229206,
          0.003899455040794919,
          0.004419022681229734,
          0.0021297965002418096,
          0.002848896413530995,
          0.0014100902108561755,
          -0.0004755721274332086,
          -0.0010098120068814977,
          -0.0015780657794392805,
          -0.0010279082588331434,
          -0.00024438264733876204,
          0.00042183735569088776,
          -0.0010628095814391404,
          0.0003256015985917196,
          0.0013144364825183885,
          0.0000461714246095344,
          -0.0000010995571765662349,
          0.0008214033978369978,
          -0.0003732494074873815,
          -0.00006673531576151248,
          -0.00047424154566517995,
          0.0005087146419189281,
          -0.0009157800233132,
          -0.000017475941227473868,
          -0.00007206698190890398,
          0.00009110780515679106,
          0.0005216698045309442,
          0.0007534769601315664,
          0.0005210804843158476,
          -0.000060397735838385244,
          -0.0013641427307745507,
          0.0012229766460431363,
          0.001306363881115248,
          -0.0035479116821382686,
          -0.0013262728788472349,
          -0.0025387915962795655,
          -0.0003768727400288441,
          -0.00013839485917128275,
          0.000245222072567549,
          -0.0009073678244264846,
          -0.00022021387617243704,
          -0.00029637918762167453,
          -0.0002732193917449853,
          -0.0001007172537133734,
          0.0011628153404904251,
          0.00029545075934855197,
          -0.00044643843479066567,
          -0.0006474611517537573,
          0.00003919321610623694,
          -0.00004049847156285661,
          0.00032544006094110186,
          0.0005989928177948887,
          -0.0010944331347224607,
          -0.0003508974207306892,
          -0.0004940674616638815,
          -0.002044075794888891,
          0.0002487064686101069,
          -0.0016879450859637012,
          -0.0014567110763105545,
          -0.001330479173589083,
          -0.0012043351651244236,
          -0.0006992311138345475,
          -0.0013838061441755964,
          -0.00029098822073652525,
          -0.0006611856385821541,
          -0.0009185899227625166,
          -0.000778221096824596,
          -0.0006166540895708988,
          -0.0003103539081337134,
          -0.0003951086604922008,
          0.00042828423770895074,
          -0.00014487373950089477,
          0.0003175179758478919,
          -0.00024210559088189143,
          -0.0009035449009314744,
          -0.00063738246980094,
          -0.0008948907273034941,
          -0.000003917392448354179,
          -0.00022699258016069257,
          -0.0014544052844864125,
          -0.0025584288650822157,
          -0.0037650947038135527,
          0.00004329977277666916,
          -0.000057080088024484554,
          -0.0008364593670617294,
          -0.0002911172810939888,
          -0.000633165268752317,
          -0.00033092345839769166,
          0.00047745355963376215,
          0.0012329377786407156,
          0.0007251187478792831,
          0.0023247442998845028,
          0.0023929552847903254,
          0.002566935857880516,
          0.0026049899679500086,
          0.003387894552545054,
          0.0037524087637379397,
          0.003172024323696121,
          0.009556147004814525,
          0.007510997043433387,
          0.0037091616493611923,
          0.014943637021190156,
          0.007839564357805917,
          0.0014631041786022508,
          0.006451545784126253,
          0.01114657176590901,
          0.006823730261065961,
          0.01071271622973629,
          0.004952290286410407,
          0.0037121851630502953,
          0.0021920418979751444,
          0.001621784718243667,
          0.0015472252903209333,
          0.0022088711543229445,
          0.0012071923769620269,
          0.0005428985693202507,
          0.0018700151137222912,
          0.0006728004550266842,
          0.0003919673491073663,
          0.0008413458033460774,
          0.004050417762248543,
          0.00491284705184411,
          0.00970628930270341,
          0.009317130905395904,
          0.00761363244190251,
          0.00956235786870567,
          0.006658540631001131,
          0.006258968026851164,
          0.005238619347404466,
          0.005826870615436519,
          0.005756598647105093,
          0.0038411238435745454,
          0.0034758350295792106,
          0.00605251183269849,
          0.005881951127479287,
          0.006034525109138655,
          0.0047003792693642715,
          0.004712482360685527,
          0.004541255508020953,
          0.004956266834312842,
          0.004277721178544733,
          0.0036765841649797626,
          0.003810293007398338,
          0.004830296782077748,
          0.008207465885620963,
          0.011262213248267969,
          0.010780528042747761,
          0.010729244213810801,
          0.008338704232605451,
          0.005163441899076325,
          0.0016603425577343955,
          -0.0003958295754150215,
          -0.0007214717870335507,
          -0.0007055798147506329,
          -0.00014052792732144326,
          -0.000814195948991344,
          -0.0004668058693207064,
          -0.0004776136623452949,
          -0.0003403997502867545,
          -0.0003716504389702866,
          -0.00034076976376197325,
          -0.00040322585794486804,
          -0.0003597355691427259,
          -0.0007341149891115263,
          -0.0005391532442434108,
          0.00005824077797219468,
          -0.00025712515380899373,
          -0.0005789511021016365,
          -0.0002986904016351907,
          -0.0006002255284780489,
          0.005979799378602588,
          0.007046777509022689,
          0.008408114975132122,
          0.006478039259033688,
          0.0029457907770825617,
          0.0036127762880132364,
          0.0019006897443235929,
          0.001300461552472612,
          0.0018968423271914503,
          0.003971549052728167,
          0.0030378939685861348,
          0.0011306738294799765,
          0.000237295661167522,
          -0.00020090301725220888,
          0.000697096228404033,
          0.00009508039403115232,
          -0.0005020523272444635,
          -0.0004461361814323238,
          -0.0003112297897708647,
          -0.0002967943366145795,
          -0.00036228673021969013,
          0.0006050758260048254,
          -0.000025134584306212363,
          0.0008001531679286229,
          0.0014970898892709232,
          0.0034370772524524463,
          0.00501371160239867,
          0.0024120449204442854,
          0.0001603349911402721,
          -0.00013879289825524666,
          -0.000332949940133484,
          -0.00038527814032975755,
          -0.0004466135140527641,
          -0.0010214992573468855,
          -0.00045074376228369795,
          -0.00046079231465216003,
          0.0000599109208424195,
          0.0004744147012033899,
          0.000100817086361598,
          0.000014751846049106121,
          0.0004219154826330396,
          -0.00008551809991470816,
          0.0005715135328415132,
          -0.00017017180837875998,
          -0.00021338042977465943,
          -0.0006233483105558477,
          -0.0005059215958449492,
          0.00012090279701304323,
          0.0006310632262310403,
          0.00001659479968177044,
          0.0026984238899648476,
          0.00021169717030480612,
          0.00009297673660550385,
          -0.0006555098477873701,
          -0.00017911433582540326,
          0.00001589993844675064,
          -0.0000027557279133200163,
          -0.00005778623453048942,
          -0.0004488677625921096,
          -0.0005927237468345559,
          -0.00009313429235330989,
          -0.0005629392943890393,
          0.000005431311991561244,
          0.00016793455061127338,
          -0.00007776478446430701,
          -0.0000012951656939985678,
          -0.0012060688489725635,
          0.00027582099194568485,
          -0.0005517990058992138,
          -0.00008067963723431756,
          -0.0003142653266751024,
          -0.00014047834357433509,
          0.0004671357353199417,
          0.0008420806295018255,
          0.000884459224935713,
          0.00006348874056537508,
          -0.0003094308705916156,
          -0.000009975880270785692,
          -0.00035940602024907287,
          -0.00033587616477880056,
          -0.0008772718983471144,
          -0.001119718210324385,
          -0.0006445535145268647,
          -0.0006001379316431729,
          -0.00048093658962026706,
          -0.0007070543316067095,
          -0.000632727302240078,
          -0.0004469876953964516,
          -0.0004894222376380028,
          -0.0004906882191259392,
          -0.0005666278757116873,
          -0.00027536556416209515,
          -0.0010158302762673516,
          -0.00020145719615961497,
          -0.0000016943264015503202,
          0.0007511931854734164,
          0.001342427029381662,
          0.002977819357060282,
          0.0033162476286268117,
          -0.00014797215235799223,
          -0.0005569355915498644,
          -0.00010926193243321336,
          -0.0002483030942623081,
          -0.0007315150733373001,
          -0.0008281848825504277,
          -0.0006499451799246714,
          -0.0003548007905129491,
          -0.0008267696518659828,
          -0.0006127056284697084,
          -0.0005448195041607776,
          0.0001312030732911751,
          -0.00009614616931013023,
          -0.00003339753016520092,
          0.0000010300270787411137,
          -0.000719724383112047,
          -0.00023944642954158019,
          -0.00047721709850929994,
          -0.00010047034471227789,
          0.00018746026691710688,
          0.00048594256206187713,
          0.0012262706646346544,
          0.0014569879700300579,
          0.0027197443478270446,
          0.0013415681594888765,
          0.00017478108773201842,
          0.0012465101774492074,
          0.000145577360954538,
          -0.0003334598434720053,
          0.0007126317641118901,
          -0.013937698168145829,
          0.00014915516335634038,
          null,
          null,
          null,
          null,
          null,
          null,
          null,
          null,
          null,
          0.0008534316504740999,
          0.001384563220192092,
          0.002911494234271096,
          0.007001123603495547,
          0.007885244280644223,
          0.011574855085728558,
          0.006410992293220147,
          0.012485746261887726,
          0.012886318718749137,
          0.00854570950536035,
          0.012701956153553032,
          0.022065013078538698,
          0.019352012350685607,
          0.023618179742104298,
          0.021890832774141458,
          0.030237470343281198,
          0.025570339885874996,
          0.02675550601265464,
          0.024941854934455582,
          0.024562394771966936,
          0.036562007022486076,
          0.03806579238620995,
          0.04051284939512654,
          0.028068352671848963,
          0.02789505280073475,
          0.02039602453277685,
          0.015088727248692516,
          0.01674311835108629,
          0.012364861278492494,
          0.014837935012048813,
          0.015295233471040292,
          0.012441267268675758,
          0.006444180252994078,
          0.008695100075375044,
          0.006309478116794252,
          0.008497891976592441,
          0.002772737248022553,
          0.003934697814251428,
          0.004175100839506068,
          0.00425019446179579,
          0.0074283796293628974,
          0.005540379333475521,
          0.002848733846313187,
          0.00065413618103226,
          0.00013207616400083035,
          -0.0008913581925464355,
          -0.0002625240046499541,
          0.00007444821335569896,
          -0.00040318260515921633,
          -0.0004688444229713363,
          0.0004903226069331692,
          0.0028885814412044682,
          0.002319676444820116,
          0.004750201141190796,
          0.0031264802178888732,
          0.0012884757473010412,
          -0.00011912937533666706,
          -0.00013797482565061983,
          -0.00008675748165900589,
          0.00025901481659228523,
          0.00020806879703864477,
          -0.00005154864726778646,
          0.00006893330494664104,
          -0.00041171297831965603,
          -0.0002413554521237815,
          0.0006952907363004061,
          -0.0005353532161684882,
          -0.00005594982988184685,
          0.0031262804543463266,
          null,
          null,
          null,
          null,
          null,
          null,
          0.000158309691940417,
          0.0073001132060615676,
          0.008654843420771975,
          0.008152194603018772,
          0.006740351594579086,
          0.004456907286522004,
          0.0012342309696104364,
          0.0009564582087856861,
          -0.0013303649295816414,
          -0.0016392904947840209,
          0.0006451665625648827,
          -0.0002749521349472892,
          -0.0001544393322805912,
          -0.00021870088417743488,
          -0.0006354373355173699,
          1.9495286570497816e-7,
          0.0000484191751202942,
          -0.0003488459123006868,
          -0.0004513609958907393,
          0.0004705405312499522,
          -0.0004198824441503865,
          -0.00010912024541889428,
          -0.00017866205409368136,
          0.0008547116316866728,
          -0.002425291797650016,
          0.00367621452691147,
          0.010141622867891442,
          0.013471637436876127,
          0.008820135794774989,
          0.008116980599286047,
          0.002010938704366874,
          0.0005944769270413985,
          0.00034222253481194786,
          -0.00019588456540257926,
          -0.000027251735949723743,
          0.0025988985569534717,
          0.0007043888186848216,
          0.0018348536829530249,
          0.001726137642341058,
          -0.0004865052064081041,
          -0.0007992110045144732,
          0.00045478033156598485,
          0.002353944545898254,
          -0.0007475019107682571,
          -0.0008543087111476666,
          -0.001204418741948406,
          0.001528079466635763,
          0.00010093790035251016,
          -0.00005610757552506219,
          0.001989507104091272,
          0.001180783035544191,
          0.0031243316258791273,
          0.0001173581819181712,
          -0.00003389150169929786,
          -0.00012139684329978695,
          0.0007915306217157886,
          -0.00022845017629909495,
          -0.00004127285485762411,
          0.0000946259496471917,
          -0.0002692130711968374,
          -0.00007305245758399206,
          -0.00011382494228347195,
          -0.0008810160766917624,
          0.00026491054690364405,
          -0.0005989360523462467,
          0.0006901377124477956,
          -0.00021455703367223578,
          0.00014472308067246982,
          0.0003778742385165401,
          -0.00033094221459843004,
          0.000022512378876478507,
          -0.00006883844060191074,
          -0.0000757129319559624,
          0.000363792302358161,
          0.0011265306824478002,
          0.005373849505456718,
          0.007639317283805031,
          0.0023204802667308733,
          0.0015404771542225756,
          0.009313950581549057,
          null,
          null,
          -0.00036460829857295346,
          -0.0010004335523458724,
          -0.0010312702080668146,
          -0.00002745729565371835,
          -0.0002917375637684072,
          -0.00041317185641610854,
          -0.00019517345245469164,
          -0.00030302777852971377,
          -0.0003863680007529062,
          -0.00014298285858879885,
          -0.0002892369828065462,
          0.00009683121763703981,
          0.000044741870342769694,
          0.0003622185135689904,
          0.0009161862974761507,
          0.0020764709704605977,
          0.002217621242052086,
          0.0006230994670571484,
          0.000005539802469988614,
          0.000017418840206969918,
          0.001339912378027306,
          -0.0004413866628709684,
          -0.0014543371608439805,
          -0.0025177318507745503,
          0.000989019516614089,
          0.0005363942701028064,
          0.0031069806744697575,
          null,
          0.0040298427126863635,
          0.0013095081632172878,
          0.000019007838029279356,
          0.0003865788052009739,
          -0.00012278679662585616,
          -0.0003015281961111782,
          -0.0002609442268225841,
          0.0003614137703588458,
          0.0022831533867960635,
          0.0026834202397492887,
          0.0029075235527970134,
          0.005304950654011268,
          0.0052237937237660965,
          0.004492339813867752,
          0.005589569209430323,
          0.003051702744507955,
          0.0011145030804087241,
          -0.0010601760234578705,
          -0.0006540289789889152,
          -0.00010997539860547849,
          -0.000323321117839526,
          -0.0007395352424717401,
          0.00026187507861013745,
          -0.0002665455759298923,
          0.000493643250940444,
          -0.0001323060180595803,
          0.0004331777349827117,
          -0.0006505738062185049,
          0.00016514581888789782,
          0.006445816112115921,
          -0.004938637945292455,
          null,
          null,
          null,
          null,
          0.00037019325045559376,
          -0.001971075211745048,
          0.00035560148613456,
          0.00002661036828167777,
          -0.0000746609964747772,
          -0.00002518433923230992,
          0.03549113866382017,
          null,
          null,
          null,
          null,
          null,
          null,
          null,
          null,
          null,
          0.000025812890482868056,
          0.00007212498682828902,
          -0.0005080866919079177,
          -0.00006408254607966762,
          0.0004887037643488395,
          0.00026291361315274476,
          0.00042429072383705704,
          -0.0009330940006625071,
          -0.0003565937116783626,
          0.000417589110716419,
          0.00001950323260441547,
          0.00975806574513409,
          null,
          0.0044452051549102025,
          null,
          null,
          null,
          null,
          -0.0008625265818172911,
          0.0008591467234597971,
          0.0002634421010346555,
          0.001286186493847652,
          -0.00008603276683850913,
          0.00012267934322411633,
          0.0011923762619719114,
          0.0015402201053602224,
          -0.00005878341045543502,
          -0.00096065239517726,
          -0.001993458545257454,
          -0.0003764458017359376,
          0.0030567842533611653,
          0.0006343662436449904,
          0.0020702471614547427,
          null,
          null,
          null,
          null,
          null,
          -0.0002751386367533873,
          -0.0007191995708006153,
          0.003955035604956395,
          0.012988734592593369,
          null,
          null,
          null,
          null,
          null,
          null,
          null,
          -0.008006312767641077,
          -0.00187029761593808,
          -0.00033993456368482567,
          -0.0001252466916387765,
          0.00025323339755716715,
          0.0025181046287493618,
          0.0025668567267066057,
          0.0014981127446533904,
          0.002522793543465617,
          0.0001319419118214326,
          0.000021559156849390235,
          -0.00019681535445946474,
          -0.0013375324765515142,
          -0.00040104355801674416,
          -0.0002942464728003316,
          0.00032389246964944357,
          0.0027447038520133707,
          -0.09733950032540908,
          null,
          null,
          null,
          null,
          null,
          null,
          null,
          null,
          null,
          null,
          null,
          null,
          null,
          null,
          null,
          0.005332096680812013,
          0.0032029647917285083,
          0.001455358818554707,
          0.000049426279521942035,
          0.0028266796658067694,
          0.0009380987347379736,
          0.0016065028930364192,
          0.0031119812780436486,
          0.003853088119761594,
          0.0025789820035129196,
          0.002355742019026434,
          0.002433983669650826,
          0.0021342857879604635,
          0.0030228212725518233,
          0.003362333346202581,
          0.0034805966796486038,
          0.0023770479320358957,
          0.0030634610348092804,
          0.0017692480533743442,
          0.0014557620239809,
          0.0054051953037408396,
          0.007529898941994715,
          0.0122051877785378,
          0.01007540764097925,
          0.009203650190175671,
          0.004936190732598433,
          0.0020063203330966672,
          -0.00012507334743232928,
          -0.000690165569507073,
          -0.0018232233203260891,
          -0.0017335657972539463,
          -0.0007507280974279086,
          0.0004898782167007086,
          -0.0005244268408475215,
          -0.00004608094276292718,
          -0.00024280785852276963,
          0.00037945728666323106,
          0.0005158057881136102,
          -0.0000403672755958772,
          -0.00030480602060794365,
          0.000018742239623985128,
          0.00017909127194975366,
          -0.00010505614885013455,
          -0.0005258305024327115,
          -0.00021042280977528333,
          0.0003257230725735019,
          0.0016719678892750754,
          0.001154337248110572,
          0.0012763166988717005,
          0.0002945927926576702,
          0.00007722726512800898,
          -0.000009255362864262623,
          -0.0000694900862564865,
          -0.0003712867016518982,
          -0.00011291052682022538,
          -0.00040727035950105343,
          -0.00035216690825615876,
          -0.00028155236255145155,
          -0.00024325399128599656,
          -0.0003397535024281702,
          -0.0004978605148377481,
          -0.0003785195583658474,
          null,
          null,
          null,
          null,
          null,
          null,
          0.0013581550710881768,
          0.0006872231163903564,
          0.002290903791341614,
          0.004173068967120969,
          null,
          null,
          0.004425186995705294,
          -0.003290081635528845,
          0.0014521254467870365,
          -0.00002773259589774861,
          -0.0010524740103872894,
          0.00005806057300124668,
          null,
          null,
          null,
          null,
          null,
          null,
          null,
          null,
          null,
          null,
          null,
          null,
          null,
          null,
          0.00009692782896624733,
          -0.0003767471154618972,
          -0.0001976270651522019,
          -0.0005268321579121604,
          -0.00047119203964029674,
          -0.00021412874319655818,
          -0.0005489755507037467,
          -0.001285870378959924,
          -0.0012623151230656635,
          -0.0008868710437488249,
          -0.00045019758364232484,
          -0.0003478846050136838,
          -0.0006103929217191589,
          -0.0004395086543326583,
          0.00011371859603576725,
          -0.00025564575217518204,
          0.00015619728313673656,
          -0.000003806701242422064,
          -0.0007780787950082413,
          -0.0006426571394537953,
          -0.0003343392892531929,
          0.00006567510664171983,
          -0.00036359714342045456,
          -0.0001552153959772564,
          0.0005609214981039138,
          0.000965077796862958,
          0.00047319476047954015,
          0.0003886490617250136,
          -0.00036000456283325974,
          -0.0006499408574794545,
          -0.0011306508137533602,
          -0.0006031898925965666,
          -0.003170665977403786,
          -0.0012699231602293845,
          0.00012905780307193027,
          -0.0008363242298621287,
          -0.0007191546345648439,
          -0.00018783748842723415,
          -0.0003765846707247285,
          -0.0002879763164594304,
          -0.0001344009435438262,
          -0.0003026579618487339,
          -0.0002663849812047179,
          -0.0006679211517146809,
          -0.000741499344163898,
          0.00010364574183288318,
          0.00023194074991798354,
          0.0004277788982850108,
          0.0011482866647610163,
          0.0015628973202425431,
          0.0016527767039035508,
          0.0004868845987387911,
          0.00011891916480640322,
          -0.0005270569745701864,
          -0.000020342261331206257,
          -0.0021323088176461932,
          -0.00042758555890282796,
          -0.00041409424433365774,
          0.0019187687190815369,
          -0.00005928185392889071,
          -0.00014970346359424426,
          -0.000007926693082457859,
          0.008753977195751933,
          null,
          null,
          null,
          null,
          0.0005593134874300673,
          null,
          null,
          0.0010689305347979308,
          -0.0031748460288199,
          0.00453315834442157,
          0.006381265558520251,
          0.008396688298262227,
          0.002801158920339805,
          0.005328055797084532,
          0.00010358532972847695,
          -0.0016648802891690434,
          0.000813884986244337,
          0.006136442672463709,
          0.0009949581071266728,
          -0.008167146025673193,
          0.00005212469067138355,
          0.001227546487198302,
          null,
          null,
          null,
          null,
          -0.0014796747923578137,
          -0.0017626291863825638,
          -0.001127543322556157,
          -0.00016969758169782696,
          0.0006752599827984547,
          0.000824881173339044,
          0.0058553962271932734,
          0.005192885676475554,
          0.010540067270979177,
          0.011351364286788214,
          0.004555011066549805,
          0.0026353348916193405,
          0.002136405351194526,
          0.001377145783145295,
          0.00199266105257815,
          0.0020341617390514655,
          0.0008396581458845892,
          0.0015779999599432465,
          -0.0005362888185904968,
          -0.0017367574224111948,
          -0.0010759173385252868,
          0.001256470886112717,
          -0.00012206653553311232,
          -0.00019314633177853167,
          0.0005657485313226294,
          0.00023436693241249938,
          -0.00043957809013919075,
          0.0001347257182640802,
          0.0003591957495412664,
          0.00015203579588648174,
          -0.00018354777474469293,
          -0.00009089211624761328,
          0.0008394504684629614,
          0.0007877128656071063,
          -0.00020689653603620222,
          -0.0002899738749041099,
          -0.00035522548790526895,
          -0.0006157778158299224,
          -0.0005336002764243137,
          -0.0013736224006161563,
          -0.0007904634829853929,
          0.00007495165882267759,
          0.00004181347794392654,
          0.0007870705490028579,
          -0.0001729294250960578,
          0.0009841602620890063,
          0.0011728011040753224,
          0.00019244639553628318,
          -0.00020876331128663259,
          0.0008693912271324272,
          -0.0005703793866869353,
          -0.00004376686302758406,
          -0.000106998850894751,
          -0.00013320485990764123,
          -0.0011379360610924826,
          0.0005165692796779017,
          -0.000582200372452392,
          0.0018227613051864655,
          -0.0010053882793291322,
          -0.00024180347241387068,
          -0.002811204206027984,
          -0.0021645270964394878,
          -0.0009136849627922796,
          -0.0027151094445715274,
          -0.0001221395287589952,
          -0.00012211292161110401,
          -0.0001139592903633968,
          0.00008035194410441031,
          0.000338609706012862,
          0.0004905884876529806,
          -0.00039993870906071885,
          -0.00019925849675159375,
          0.00023518542581789197,
          0.000016379022886229763,
          -0.00014512759018834036,
          -0.0001638947948619943,
          0.00037835702227084766,
          0.000004070839240514004,
          0.00037182010997188156,
          0.004546972402299804,
          0.0030757595880569824,
          0.0016559417222531767,
          0.0018985886807456644,
          0.007829394199576671,
          0.002504109554809328,
          0.0005724507551395086,
          0.0008551773460158014,
          -0.0003774273983410126,
          -0.0002858585922967826,
          -0.0009774930830423285,
          -0.0006229127344947009,
          -0.00032836154306102594,
          -0.00015680586443996697,
          -0.0002607778818044283,
          0.0008923725171766034,
          null,
          null,
          null,
          null,
          null,
          null,
          null,
          null,
          null,
          null,
          0.0006943310056160001,
          0.0003527014304746494,
          0.0007285845806800743,
          -0.0008764512259733931,
          -0.00014293011038309447,
          -0.000002666266281928925,
          -0.001259519689528173,
          null,
          null,
          -0.0006762494749038925,
          -0.009251991319944844,
          -0.00009667132955114982,
          0.0025061073844329443,
          0.005090713942850112,
          null,
          null,
          null,
          null,
          null,
          null,
          null,
          null,
          null,
          0.0005510790889881392,
          0.000544814825456548,
          0.0002382506176419122,
          0.0004454620065025214,
          0.00010659729996910505,
          -0.005990821317528764,
          null,
          null,
          null,
          null,
          null,
          null,
          null,
          null,
          null,
          null,
          null,
          null,
          null,
          null,
          null,
          null,
          null,
          null,
          null,
          null,
          0.01379514012593741,
          0.0024449253240457942,
          0.001969890911725017,
          0.0003504110647185093,
          -0.0011997291272193601,
          0.0021902060749236334,
          0.002565724471449555,
          0.0005955182791730369,
          0.0015003283111996186,
          0.0006239044393434342,
          -0.000446571364319828,
          -0.0005844758535830229,
          -0.00023785823221267322,
          -0.000500279451147178,
          0.00014980622436174505,
          -0.00022784747608114043,
          -0.003996776758276847,
          0.0009035043081217775,
          0.0028786620890725867,
          0.0054822012483274896,
          0.007762503184476396,
          0.010834203257187383,
          0.00913857589756617,
          0.00958895756247971,
          0.007957288666402697,
          0.00602988310499579,
          0.0018772398897084486,
          -0.00008225117536881429,
          -0.0013659733042340819,
          -0.0013564985017700953,
          -0.0009684307661958578,
          -0.0013847579485651482,
          -0.0011173604885988848,
          -0.0007213527211500925,
          -0.000277631116616087,
          -0.00018026059342446214,
          -0.0002434349282142527,
          0.00002843114770298763,
          0.00020876771189026755,
          -0.00013521767970203769,
          -0.0006389284983085251,
          0.001330747422943368,
          0.0005050777181365498,
          -0.000053963470964794695,
          -0.00009964242382309949,
          -0.00002841770752443594,
          0.001377977388969498,
          0.0006203901723187872,
          0.0006131043377101512,
          -0.000743177216830186,
          -0.00178523925748021,
          -0.0009028001173866755,
          -0.0009944032462533628,
          -0.0012520747564587333,
          -0.0015532712205065988,
          -0.0008593233406181495,
          -0.0005492509559067819,
          -0.0007244449898053951,
          -0.0009441509709602822,
          -0.0004266939841259072,
          -0.0014570429228666108,
          -0.0009503523714057887,
          -0.001341991297054355,
          -0.00008960968310588353,
          -0.0009939180883338965,
          -0.0002707012362077599,
          -0.0001660794901171183,
          -0.00009719523028313935,
          0.0006307490559874414,
          0.0004718559921502597,
          0.00017240282921547612,
          0.00038361859546161736,
          0.00002530686416789621,
          -0.000030900125649865884,
          0.0002075104495216822,
          -0.00013411729892694527,
          -0.00005831279003606048,
          -0.00034647938135910945,
          -0.0007834936923930926,
          -0.0017983605169623225,
          -0.0005894133742672877,
          -0.0016420738901577608,
          -0.0012205088193132,
          -0.0007587013361545457,
          0.00029201036352737887,
          -0.00010911594271413409,
          -0.0022830647629685785,
          -0.001385109295382686,
          -0.001468409482329451,
          -0.002161289668272115,
          -0.006842108512065792,
          -0.0006932026998919881,
          0.00010731601352503145,
          0.004049176569762069,
          0.007119254282442037,
          0.005720862936304706,
          0.007434136135985779,
          0.006766690885505175,
          0.004332450858965352,
          0.001408587007669354,
          0.0016486487213687867,
          0.002519359449422609,
          0.0023543714139182964,
          0.0016645389050609083,
          -0.00018436075117422536,
          -0.0008035153346239712,
          0.00011573720095034955,
          0.0007686247149559927,
          -0.000557099913605974,
          0.0011768408253528158,
          0.0001934763996878086,
          0.0009182008752752022,
          0.0002531603661886095,
          0.00021528912359487047,
          -0.00022335941341526146,
          0.001042995718125027,
          0.00021440484689690554,
          0.0006607829308219091,
          0.0017275041468742813,
          0.0012999943737218196,
          0.0006341352098713964,
          0.00008377784938357578,
          -0.00011162488828869027,
          0.00008055336897427965,
          -0.0004867719856395964,
          -0.0004372005805649941,
          -0.0007807343560988726,
          -0.0006834874277019901,
          -0.0006239548825435464,
          -0.00023318054071689437,
          -0.0001976556372380832,
          -0.0004502967022566775,
          -0.00017998144609994784,
          0.00009107457017254461,
          -0.0005010936998604762,
          -0.001241608091558858,
          -0.00011679700765535907,
          -0.0003906113455594013,
          -0.0010142206605348036,
          -0.000004762513787387804,
          0.00012617494794425136,
          0.0009980425292415163,
          0.0021572190318680136,
          0.0028330388192894726,
          0.0029363433964204877,
          0.00038936661239041825,
          -0.0007408845374005726,
          -0.00022389009942802574,
          -0.0020623458170542595,
          -0.000808188829186797,
          -0.0009447017668399067,
          -0.0008038618199457637,
          -0.0011892789926481514,
          0.00041094122540612926,
          0.00004424925406117802,
          0.0006777619102750088,
          0.0002691572751195477,
          0.000061011070605510725,
          -0.0003512113105300753,
          0.00026649988920566126,
          0.00005453179303908408,
          -0.0004879449710462787,
          -0.00016644714223771652,
          -0.0000663318175787948,
          0.0027064206624638487,
          0.0045834393871976645,
          0.004817168423607724,
          0.00470660117315728,
          0.004857187345538428,
          0.004607792688948585,
          0.0015168597796701988,
          -0.0000607970123223181,
          -0.0009384994150423154,
          -0.0013978600492866727,
          -0.0009528366767911009,
          -0.00038160456466821823,
          -0.0003911924572667456,
          -0.0003907521733839646,
          -0.0005458523487825613,
          0.00030135390696954187,
          -0.000044408398260821144,
          0.0002508579947247593,
          0.0004576257441095931,
          0.0004790368528223938,
          0.0007301024866596482,
          0.000034538260888912985,
          0.00033298144693520194,
          0.002275801997126551,
          0.0026141185339299726,
          0.0047342614952461575,
          0.007075370040436012,
          0.005636511119785777,
          0.0054683560298711435,
          0.0028393520823753148,
          0.0014142469839676756,
          -0.0011139090033666457,
          -0.00010605739567504146,
          0.0005651664402438845,
          -0.00039386417903288645,
          -0.0006592625878822419,
          -0.00045332049876378733,
          -0.0022690694244573636,
          -0.0006943504279474932,
          -0.0003252693196105945,
          -0.000014426458138710671,
          -0.000027196373240358923,
          -0.00002526263155841653,
          0.00016818118561179492,
          -0.00036885928603977783,
          -0.0003310095986716662,
          0.0001025609633054838,
          -0.00007211200822072016,
          -0.0000014725499290066044,
          0.0007519014725202071,
          0.0011814072209053172,
          0.003986189009583068,
          0.005413970868263599,
          0.0027303965362635756,
          0.00013686145352921446,
          0.00020405618500676445,
          0.00006631124659424881,
          -0.0003143407805637922,
          0.000013748470378358718,
          0.00026664372751906973,
          -0.00023889114923708252,
          0.0003663198934950422,
          -0.008025812147819264,
          0.008636944639581558,
          -0.0030738277033042585,
          0.0031852051577318102,
          -0.024728884462561468,
          -0.004388156952902339,
          0.0009841909092388103,
          null,
          null,
          -0.011753535195116644,
          -0.0016202826791769098,
          0.000140528223184333,
          0.00008906064046657926,
          0.00016426634954314068,
          0.0008312376339866638,
          0.0062737211501462135,
          0.006096011986135961,
          -0.0001053689381331508,
          -0.00006424794454888217,
          -0.00039671915405155994,
          0.0021863244023119046,
          0.004375418333858139,
          0.002494194120917682,
          0.0031391297548494113,
          0.0017757822092900402,
          0.0012407648224993886,
          -0.00011035103420671717,
          0.0007443265516408198,
          -0.0005536782890480652,
          -0.0009307607079795943,
          -0.00010330324889571037,
          0.00016092385004373667,
          null,
          null,
          null,
          null,
          0.002262711666707183,
          0.004710824838685568,
          0.0021088678619367585,
          0.0031290041650467635,
          0.0016700910737249917,
          0.004126560119918448,
          0.0010325007157321597,
          0.0007805183016851031,
          -0.00011185265170121639,
          0.00013262779322698037,
          -0.00014576208726424164,
          -0.00003319750955317613,
          -0.00028058596503018497,
          -0.000366793447387043,
          -0.0005117312688642066,
          0.00019854484721815342,
          -0.00011111192829894867,
          -0.00016441473997986893,
          -0.0003742245292820516,
          0.00011341430019632878,
          -0.000035610169661915315,
          -0.0023054636328634364,
          0.00023002130429616862,
          0.0013336512676755466,
          0.0009414115497659026,
          0.0011913446231535114,
          0.004038045564626381,
          0.0064726522173062205,
          0.004769298102531079,
          0.001152272918809493,
          0.0030610050815609025,
          0.0014859381643762418,
          0.0033976286272858723,
          0.007389169006726999,
          0.0028037860282176356,
          0.0020723174074177564,
          -0.00011912686444127962,
          -0.0014509434129349116,
          0.007449250562716413,
          0.003293124270049772,
          0.003803667173992449,
          0.0015820938584928043,
          0.0001911343970755451,
          -0.00033355141567940373,
          0.0005674119079803249,
          0.00003834379062647025,
          0.0017321397287293448,
          0.00455174972783625,
          0.007496725879304538,
          0.0027259564656443303,
          0.0016970876801738963,
          0.004003558856042458,
          0.00106036136706638,
          null,
          null,
          -0.0019362838061237064,
          0.0014352114385588616,
          0.0029953484325603665,
          0.00007213903348180645,
          0.0005181659205095012,
          0.0028945832251388763,
          0.002596167333098977,
          0.0021361446459353672,
          0.0006302129572254185,
          0.0007444744292470656,
          -0.0006415304878226231,
          -0.0008071602811776171,
          -0.0005359405070019339,
          -0.000010343064485279427,
          -0.00031397994323602036,
          0.00023985482125365998,
          0.0005656185579814513,
          0.0008529194793241626,
          0.00043867980626326793,
          0.0015507884911156993,
          -0.0006821839401607768,
          -0.00027543354422229945,
          -0.0012128515862749444,
          -0.00034243562423124513,
          -0.0005659878726280709,
          -0.00027978001206315287,
          -0.0006518555265235689,
          -0.00023790577461824114,
          -0.00022189172652486988,
          -0.0001053641096208438,
          0.000046700381867185656,
          0.00013178820530039027,
          -0.0004623438970104612,
          -0.00012406362012898006,
          0.00010157089723270354,
          0.0005577396114022411,
          0.0000065018263164517975,
          -0.00034985956912139357,
          -0.00016366878303545728,
          0.00013962275188679919,
          0.001714505695233015,
          0.0016763004412399703,
          0.0018464584985230141,
          0.001620831506007706,
          0.00023100155839343196,
          -0.00026358380515922875,
          0.000493253022942973,
          -0.0006114440977821921,
          -0.0022211876910736266,
          -0.0006407502121836828,
          -0.0005602400973639815,
          -0.0002381716816679015,
          0.00021301689211049302,
          0.000929886721461548,
          0.0010043505807097522,
          0.0007156169419455021,
          -0.0009312150970929916,
          -0.0005404760261432291,
          null,
          null,
          null,
          null,
          0.002168035758612538,
          -0.00037540055740553115,
          0.0011568069123487242,
          0.0022528025240700807,
          0.002593233889540395,
          0.0019711348759774666,
          0.00026615136075654666,
          -0.00018572610314018367,
          -0.0005096472940215128,
          -0.0006587659601006782,
          0.00005399517982750254,
          -0.000993818057671722,
          -0.0017136716604074175,
          -0.000680597402347802,
          -0.0007218898349963254,
          -0.0008276911294018419,
          -0.0011593943541120897,
          -0.0007627238935193764,
          -0.0003457759058218083,
          -0.0005082089167566372,
          -0.00045419893268168997,
          -0.0005996245782849303,
          -0.0006654869671282385,
          -0.0007174546028873383,
          0.000219868000503394,
          0.00009813761181853842,
          0.0020796934176705705,
          0.002763601708246706,
          -0.00019490827893303003,
          -0.0016064321650222583,
          -0.0014408256390079834,
          0.0001345346512210549,
          -0.0021243287242166745,
          -0.00010866988751197671,
          0.0003763741571975272,
          -0.000871345627642621,
          -0.001230204662065481,
          -0.0017017223293998747,
          -0.001771220099745877,
          -0.0007463500827782354,
          -0.0006403707929002363,
          -0.0006241580939807534,
          -0.0009631399967702237,
          0.0001111627718302071,
          -0.0003542427973473039,
          -0.00019350069266879134,
          -0.0004646216696942117,
          -0.00021743512834139327,
          0.00020521516665154995,
          0.001530413109367362,
          0.003006527018608077,
          0.015379054037274562,
          0.01696055208145826,
          0.012217165542698286,
          0.00751970151860743,
          0.0019173641567095362,
          0.00038589186606656067,
          -0.0004371190704907466,
          -0.0008111852096767021,
          -0.0007401114699644813,
          -0.0003916999270371004,
          -0.0004495489601693669,
          -0.0004293218348697288,
          -0.0002265708057570398,
          -0.0007974995585188337,
          0.00013871517564822966,
          -0.0008160934350520677,
          -0.0003793639274012634,
          -0.0002825247256238797,
          -0.0002536135361776489,
          -0.00022742224635723812,
          -0.000026026130305554715,
          0.00003705105341926052,
          0.00012011230823342697,
          0.004145870821172496,
          0.0033351030951094753,
          0.008088176375824534,
          0.019651719570815213,
          0.01836702028182123,
          0.011868386405020637,
          0.009906928854105795,
          0.012854121460650939,
          0.005701085218765754,
          0.0069738710475925215,
          0.007677836137947874,
          0.005681849772856573,
          0.004988928720147397,
          -0.0004899351538371439,
          -0.00017370635892967334,
          0.0030663702693472933,
          0.002687079026088668,
          0.0010596664526955936,
          0.001421974501493787,
          0.0031613825014353836,
          0.0026324345120058226,
          0.0032998668040455925,
          0.006075799981999808,
          0.005882233567933305,
          0.00749568767442059,
          0.009181535330480266,
          0.006196876008371217,
          0.006329485938522332,
          0.0018904873610408983,
          -0.0006331247496768264,
          -0.0007263743811082649,
          -0.0010236928198731725,
          -0.0010085941862014482,
          -0.002204278204222497,
          -0.0017328333824900462,
          -0.0009773992129393227,
          -0.0008252897278392031,
          -0.0008561971926550368,
          -0.0006097254731091007,
          -0.0006020038839935869,
          -0.000719600436548026,
          -0.0002374102291750422,
          -0.00037908061033720044,
          -0.00004943682243302959,
          0.00013994925569665168,
          0.000014882738968818778,
          0.00003985500104707225,
          0.00046238983210386856,
          0.001230032386991672,
          0.0020073177097650824,
          0.00235076033594566,
          0.0015272560085749383,
          0.00019967575298511031,
          -0.00008104691761874963,
          -0.00014211125556151671,
          -0.000051201515708217734,
          -0.00020837437858863515,
          0.0004979147313868282,
          0.0004198156538445588,
          0.0009595098371034299,
          0.0005758596652440211,
          0.0005168917620656088,
          0.0013830023423745273,
          0.0017503216005295323,
          0.00016662569747268475,
          -0.00025489721411690175,
          0.00005659675508715503,
          0.00004195808588984204,
          -0.0005737193847826414,
          0.005040244815539354,
          0.007795989075660455,
          0.0025987593987769255,
          0.0008768630585365145,
          0.012483116514133023,
          0.00852155322153949,
          0.00784753364922445,
          0.003607155319159597,
          0.003477796600141879,
          0.0028522437548540816,
          0.0046532371592397466,
          0.008062013652597164,
          0.00048105084195448206,
          0.001056294622537892,
          0.006227043886636821,
          0.002607000238943634,
          0.0009213690725344559,
          -0.0000669851903659785,
          -0.00008960918322032177,
          0.00043483271893407505,
          0.0003282118271196559,
          0.0019735539661296115,
          0.003790435461477254,
          0.004578896440805014,
          0.0040863830491021,
          0.006649940841183382,
          0.008921386086961764,
          0.010132985187935456,
          0.009359934798721287,
          0.009466502193343253,
          0.00968486992435361,
          0.0066647476077845436,
          0.0005775306647714112,
          -0.0001437614312832132,
          -0.0003435681829655479,
          -0.0006102651764670567,
          -0.0005830340344586855,
          -0.0002213867890899935,
          0.00009368949198496068,
          0.0004544540606226362,
          -0.000016322023952062593,
          0.000322943459591744,
          0.000031123526775269326,
          -0.0002974605269618156,
          0.000002369453057511975,
          0.0003281263240314898,
          -0.00026176920009824897,
          -0.000318730863176242,
          0.000018739984936486792,
          0.0001880451474521994,
          0.0012018482064167161,
          0.00320434397233645,
          0.00428716350137728,
          0.005021369430449556,
          0.0027123424151991316,
          -0.0010568737833302538,
          -0.00023212982985319763,
          0.001755826202726037,
          0.000054108439374861775,
          -0.0011958031379659673,
          -0.002187319267233848,
          -0.0005145944471025565,
          -0.00007935646029485349,
          -0.00010948967717775912,
          -0.0002703153001589603,
          0.0005807084290075544,
          0.00023961810773137117,
          -0.0000045357280227991195,
          0.00014176096618889744,
          0.00014336048959580697,
          -0.00023899303059869703,
          -0.00012093963243230144,
          -0.00023501716087892532,
          -0.000040675326843894397,
          0.0006497269053321534,
          0.00211456494606092,
          0.00036579485667663037,
          0.001405050967506859,
          0.0006226934881655589,
          0.000011000516256624848,
          0.0005038982220999036,
          0.00035581594508235156,
          -0.00015835493681729852,
          -0.0018827852261659311,
          -0.002890928651204488,
          -0.0003894088152998198,
          0.00009997125611447069,
          -0.00020080078093324613,
          -0.0003688704276534334,
          -0.0001490879533558101,
          -0.0001223055415826308,
          -0.0009715909871219879,
          -0.0011385259664079897,
          -0.0009304857394675367,
          -0.0007321787135004722,
          -0.0002441582229672293,
          -0.00017612186968651768,
          0.0004434655636786182,
          0.0030324484434286108,
          0.002222192895436039,
          0.0004309733249172609,
          0.0011474920020565493,
          0.0012871805148180968,
          0.0018857962452282586,
          -0.00024398538194958172,
          -0.00019673680816367778,
          0.00005583357132760494,
          -0.0005099549154831753,
          -0.0006466711337154152,
          -0.000906697261183826,
          -0.00002428091877209465,
          -0.000988970818710893,
          -0.0011096515798636256,
          -0.00018618950938057918,
          -0.0007734396759448252,
          0.00001451309047996311,
          -0.0006855023462711708,
          -0.0005068184239261546,
          0.0001729370156727146,
          -0.00045260677920990963,
          -0.0004333755570679436,
          0.0007626200941836334,
          0.001284158311913518,
          0.0017466755864654886,
          0.0006117725432813401,
          0.00590049199196035,
          -0.00008251471908277824,
          -0.0005553123288114178,
          0.002471278583815659,
          null,
          null,
          null,
          null,
          null,
          null,
          null,
          null,
          null,
          null,
          null,
          0.010292893286248272,
          0.001474846508559221,
          0.0031344934424390007,
          -0.0004044492266016206,
          0.005173227246522236,
          0.003192084498217517,
          0.0051748869079430715,
          0.0038921920683646274,
          0.002664138483648378,
          0.0048582625338053406,
          0.0032635829220417616,
          0.0007284949132279478,
          0.00014689663830991218,
          -0.00023183148034059894,
          0.0030697676168950742,
          null,
          null,
          null,
          null,
          null,
          null,
          null,
          null,
          null,
          0.005337865054771539,
          0.0008931461359272426,
          0.0011814888739820617,
          0.0034390370756752636,
          0.0014206004324803512,
          0.0038209554245796085,
          0.003516538577535755,
          0.0017623132278761916,
          0.003350681746711111,
          0.004411759036303101,
          0.0044012494036470215,
          0.0012569357264103301,
          -0.000379709735998348,
          0.00023327110904168905,
          0.0004218659126809486,
          0.00018517913148959585,
          0.00042185712288755894,
          -0.00022208389677613738,
          -0.0005657178009414263,
          -0.0006328566723420668,
          -0.00020656451268585667,
          -0.00028733603182921436,
          -0.0005880458971435475,
          -0.0003534332719523376,
          -0.00014473948712160657,
          0.00037935983823289576,
          -0.0025893082784808922,
          0.0021460402851413026,
          0.0009897663102928314,
          -0.00013848555949808657,
          -0.0003231336326000962,
          0.0009155065627475499,
          0.0014057084650979448,
          0.0017394070826052613,
          0.0012076786664276043,
          0.0004758232812463632,
          -0.003624267567550632,
          -0.0003057031524373137,
          -0.00015960283567739708,
          -0.0000898403797980514,
          -0.00019071120594402538,
          0.000250645215673047,
          0.0002578493283314186,
          -0.0004344931405696334,
          0.000032971282571540514,
          0.00006306192903426933,
          -0.00027036274594275864,
          -0.0005707369377792783,
          0.00012511160860740125,
          -0.00015948929296922057,
          0.000419262069989261,
          0.00042311350262420194,
          0.0000681833276618242,
          0.00008584974038022223,
          0.0010872174426958098,
          0.0009277651257789555,
          0.00290885092955347,
          0.0021317978836956353,
          0.0021130080511800996,
          0.00029213059159487924,
          -0.0003151151938944382,
          0.0003654698686984658,
          -0.00012404302157145546,
          -0.00015052497426834913,
          0.00013570960444238625,
          -0.0005002192629328661,
          -0.0006928921063522238,
          -0.0009641883292905717,
          -0.0008596759809574965,
          -0.00018024980110295692,
          -0.0004979539522375434,
          0.00020881351188848166,
          -0.0002916674835263442,
          0.0004127447964978135,
          -0.0004947328486319229,
          -0.00028069305322987476,
          -0.00016349328105737406,
          -0.00010785927610716152,
          0.0005924366062834236,
          0.0013430167482672865,
          0.004251315159784792,
          0.009238794797066636,
          0.008954608760763903,
          0.0061072668811981146,
          0.003828378801844697,
          0.0016371937294475565,
          0.0006280406636262961,
          0.00107772807323059,
          0.0002680967969859935,
          0.0003908108485239682,
          -0.00009901468588472719,
          -0.001011293429535775,
          0.009950733348858135,
          0.007375999395194139,
          0.008162025955205838,
          0.0070254688732455245,
          0.00942347545723976,
          0.007335346935660271,
          0.006228650241439478,
          0.007548583429019351,
          0.006604651576877566,
          0.002490571576731309,
          0.00595607516844588,
          0.005088152505611752,
          0.0037195282727727416,
          0.009476018230830932,
          0.020524245293942377,
          0.012981626813605717,
          0.01083491441459768,
          0.0036838480092270393,
          0.002877881410540498,
          0.0024336440998456626,
          -0.000758021161092793,
          0.0006028633881438594,
          -0.0005507808507023209,
          0.0012528061406665474,
          0.00014576637371988,
          0.003975444546695274,
          0.00475290257711454,
          0.0032726446511420876,
          0.005360955058943517,
          0.005490932439144755,
          0.0034641543981604635,
          0.0027283193622243546,
          0.007533159244024444,
          0.005323117738640016,
          0.00019631480795435832,
          0.002043683104537201,
          null,
          null,
          0.0074639103195874605,
          0.006465074073107542,
          0.005908884643796141,
          0.0029119911836809204,
          0.001217016821534066,
          0.000006003025724312522,
          -0.00015007120574692806,
          -0.0012464156860427025,
          0.0009701792092201936,
          0.00175089327051402,
          -0.00021313360222584288,
          -0.00018711485504199765,
          -0.0006573151163515346,
          -0.0006898855390908357,
          -0.00021232148242589233,
          -0.00022092044492912077,
          -0.0004828389215513554,
          -0.0003126306283149907,
          -0.0007030543462066205,
          0.004167091865132986,
          0.008096475592834738,
          0.008650837742791852,
          0.012842958813831407,
          0.01672593873905252,
          0.0068910779172289445,
          0.004888797900486204,
          0.0015108180824085077,
          0.006702751315514455,
          0.003676457045043654,
          0.0024738891194807273,
          0.002684665379400524,
          0.00024403243949692544,
          -0.0002182837802750092,
          0.00019902931756273293,
          -0.0006743161003202047,
          -0.00012023365798915359,
          -0.0008109222971752483,
          -0.0006570621012199282,
          0.00037656756115339064,
          0.0007152956105408569,
          0.00018522491626763815,
          0.001484814848275463,
          0.0022036364816813148,
          0.002055326210859368,
          0.0031336981559775268,
          -0.00045350821084690074,
          0.007943192649307984,
          0.009804504974586806,
          0.01565111433748593,
          0.014071699567333923,
          0.006460192356254956,
          0.001225773519934921,
          0.0014898968607766593,
          0.004179532943548262,
          0.0047031551765302215,
          0.0013562370283758535,
          0.002317985903211195,
          0.0041117523995362806,
          0.0015214003137404113,
          -0.0001825748750337768,
          0.00259189176178469,
          0.001546609761084658,
          0.004026577375520264,
          0.005499145505489703,
          0.003023222317014053,
          0.0025138659563452848,
          0.0008570685746030655,
          0.001907478643027427,
          0.0011250486073666674,
          0.001284089170196026,
          0.0020093624575012944,
          0.002018306905650351,
          0.0023749833347797775,
          0.001337058861810507,
          0.0008915109315677655,
          0.003064202169648908,
          0.0023323933209206185,
          -0.0009839779596430773,
          -0.0007550786986192139,
          -0.00024960464914317027,
          -0.00030605402155240574,
          -0.0007645507007257232,
          -0.0017496204325340194,
          -0.00039093832890459146,
          -0.00030669334156992645,
          -0.00007626571883041083,
          0.00009921405890385426,
          0.00031906800724357254,
          0.0010518725577372337,
          0.0021622817697435487,
          0.005302955569605833,
          0.002349076401837163,
          0.0027677727958651402,
          0.003698077331640724,
          0.0005609653709309648,
          0.0051238373246373925,
          0.0033626721569532947,
          0.0007382621276044413,
          0.0005098413822635078,
          0.00010498818652947446,
          -0.0005516709789562904,
          -0.0004593943993208213,
          -0.0005795697983453051,
          -0.00046652216668261837,
          -0.00032160249625887323,
          -0.000554224201082457,
          0.00063371603209027,
          -0.00021680276520896422,
          -0.00021560979981691264,
          -0.000017976828874388673,
          -0.000713167142771514,
          -0.0018434523946542214,
          -0.0013651329862598301,
          -0.0006664582828343271,
          -0.0000795563715444798,
          0.0005351383870963273,
          0.0005054009869619822,
          0.0017531998767784246,
          0.004366085891960993,
          0.003003374009550676,
          0.0013128797472346937,
          0.00028910986951480484,
          0.00010207845725910755,
          -0.0014663416854919925,
          -0.002737530725551631,
          -0.0023944164866489042,
          -0.0000933761819854361,
          -0.001379034140899904,
          -0.0012323957871972907,
          -0.0014537292623373332,
          0.00012162966553989473,
          -0.0022603851031712807,
          -0.0020351698313832616,
          -0.0021083579233251246,
          -0.0010710602435453076,
          -0.0017251431194707694,
          -0.0006019030836973346,
          -0.00022920985231067448,
          0.0012881290845946948,
          0.003996571634125701,
          0.008295089522143764,
          0.008249785828600878,
          0.005157423736690703,
          0.0001922797058213615,
          0.0003207780832627308,
          0.002924964753361397,
          0.006317356414380509,
          0.00659198353555486,
          0.007426485173408317,
          0.00837057657884641,
          0.005092141236238726,
          0.004532948353403811,
          0.004149099880789629,
          0.003807968147159592,
          -0.0005125163527360914,
          -0.0006433105855697795,
          -0.00009801057018342602,
          -0.00038280183826761623,
          -0.00008584775922384737,
          0.0006434518684380235,
          -0.0010866497811197935,
          0.0000515335469832099,
          -0.0001892282974821219,
          -0.00006325460044820375,
          0.0023812296742500294,
          0.010653585127511257,
          0.009371426848322994,
          0.006840369285341671,
          0.004964732676980114,
          0.003481913886843874,
          0.000045343302658868226,
          -0.0005196310728122393,
          -0.00040815125962910754,
          -0.0006523782537328771,
          -0.0007737741936573173,
          -0.0005194487164984392,
          -0.002200384069974838,
          -0.0007981598762075159,
          0.0038260963896921893,
          -0.0017255687907097722,
          0.004730499798938581,
          0.006058615436060677,
          0.007571423679259816,
          0.004042483471375036,
          0.004428236160188318,
          0.010278630476214605,
          0.005785928255486773,
          0.004224765291789528,
          0.002750684441437952,
          -0.0008934533748262575,
          0.0021957764315659505,
          0.004881773016749712,
          0.003012556560482455,
          0.004900228028252405,
          0.00026539821084270443,
          0.0016456561551257843,
          0.004491140505794453,
          0.0001576559584499683,
          -0.0006501109501944793,
          -0.0010317996722405656,
          -0.0007014830895206714,
          -0.0007756307662379266,
          -0.00046483078866583257,
          -0.00036373965113862335,
          0.00009898815045857566,
          0.0002612216820718771,
          0.00021329306953710245,
          0.00009468483777475001,
          -0.000005195073322244049,
          0.00023475365037262108,
          -0.08138173374478205,
          null,
          null,
          null,
          null,
          0.001531029092401619,
          0.0007475928174009994,
          0.00014428687148261218,
          0.00019706290940398486,
          0.0001859668112516033,
          -0.0002419282217592058,
          -0.0005465265283161541,
          0.001091343604598431,
          null,
          null,
          null,
          null,
          null,
          null,
          null,
          null,
          null,
          null,
          null,
          null,
          null,
          null,
          0.008245159484272709,
          0.012122708791074662,
          0.007372228251982605,
          0.007748564557798449,
          0.0061460732563957485,
          0.007189500357119034,
          0.00011588121746323662,
          -0.0007373860290713144,
          -0.0006250269640896491,
          0.0000033681141739308473,
          -0.0010347593460235532,
          -0.0001848537141369757,
          -0.0004967331552014898,
          -0.00021162142002534908,
          -0.0019473117011721032,
          0.00011754633902870577,
          0.0005007427735448612,
          -0.000043298415269917186,
          -0.00021044751665281504,
          0.0004709141738908282,
          -0.00014783285716970151,
          0.00028853873478832705,
          0.0005263825658694543,
          0.0025352291017076336,
          0.004304061136960987,
          0.0009052830908871101,
          0.002964269320460275,
          0.003649132060762856,
          0.0009078604728346797,
          0.0023734596332956777,
          0.0038831063291079743,
          0.004463361384683791,
          0.0034204196779461273,
          -0.00034919395612210795,
          0.012583349062063634,
          null,
          null,
          null,
          null,
          null,
          null,
          null,
          null,
          null,
          null,
          null,
          null,
          null,
          null,
          0.002007791375029673,
          0.00275910152844795,
          0.001002435400445497,
          0.0005617206996768849,
          0.0016258882961723347,
          0.007068884545416567,
          0.0007656952590290693,
          0.0018694188013039792,
          0.007644904770122215,
          0.012383680942638382,
          0.020598125539208922,
          0.02087042759101286,
          0.00495280855650727,
          0.00860351010167193,
          0.007688282467479643,
          0.004265014879217842,
          0.002904322291436119,
          0.0009282027501852728,
          0.0022714630573838056,
          0.00674813452154923,
          0.014595945732352782,
          0.017934206809819386,
          0.01755540157783273,
          0.015039671930734189,
          0.009638220238500732,
          0.00968839054482689,
          0.006124226089369637,
          0.007135970982201593,
          0.007133068703932429,
          0.01347821703262871,
          0.010169055739778436,
          0.003228833365566193,
          0.006970384202995164,
          0.010064293527288482,
          0.007784937550346607,
          0.007163616359851313,
          0.004953808717363629,
          -0.0001233154057000939,
          0.0018272659355351223,
          0.000021760491677014215,
          0.0037507980587268026,
          -0.0021851126743810123,
          0.0039822354181654595,
          0.0026391460573336224,
          0.003609518949088169,
          0.005047099517759711,
          0.017849925723568617,
          0.026255232737150035,
          0.025728365369176026,
          0.03077105696728842,
          0.0219653946479244,
          0.018489440147594273,
          0.010466377732235205,
          0.013810097291567422,
          0.01073599134150447,
          0.01136988562843566,
          0.014040471713474997,
          0.002804811300987038,
          0.002004870048925022,
          0.005514989032682712,
          0.009896878166818612,
          0.011759405548032316,
          0.011397929901897266,
          0.011243484258580828,
          0.010636566678823536,
          0.01052890046688364,
          0.004941218753123602,
          0.007590708956377293,
          0.008717624281869816,
          0.016011055260108854,
          0.018464011024127598,
          0.03177909790648729,
          0.02974354339789907,
          0.030143113920980603,
          0.019750275200041134,
          0.009135618148151593,
          0.005449962235823058,
          0.00016396302183174782,
          0.0005885681519289462,
          0.00010533851120975114,
          -0.0009119730486880275,
          -0.000590152415260873,
          -0.00032316046228686446,
          -0.0010135323987907618,
          -0.0011063204030434069,
          -0.00018703983521676604,
          -0.0004073260332448682,
          -0.00017772382181983383,
          -0.00044154334600222597,
          -0.00020881299744957005,
          -0.0007001716813963537,
          -0.0005916272516144008,
          -0.00027030250311829967,
          0.0005688198006120748,
          0.004923031205266604,
          0.00713720621821423,
          0.014327836205667034,
          0.018266034529914252,
          0.019899420718138015,
          0.02504042151980871,
          0.01681624318347093,
          0.011097289537135069,
          0.012885860497663751,
          0.01513432884201175,
          0.011288975544230941,
          0.01778367120339297,
          0.018041328873983454,
          0.014907082748172075,
          0.01206123099700996,
          0.00764010261171677,
          0.006899542467656436,
          0.006776171752961522,
          0.004238030895474296,
          0.002302569979657645,
          0.0015940676725815853,
          0.0038584116551289883,
          0.008604472842257453,
          0.00828924353399232,
          0.010390952281320486,
          0.01077181616993986,
          0.012674906411671374,
          0.0185153257562337,
          0.013973963661745968,
          0.009850219803849826,
          0.004074521949432992,
          -0.0010742731143693618,
          0.00023591529906447604,
          -0.0001618967736622505,
          -0.00007280194095926618,
          -0.000010144379043749638,
          -0.0007055855048000068,
          -0.0003966607295400092,
          -0.00024880389547870564,
          0.00003911005933569366,
          0.0006195224088590594,
          0.0007158378053719145,
          0.006833126316612444,
          0.0021405470805461553,
          -0.0015333361981622814,
          null,
          null,
          null,
          null,
          null,
          -0.003071488324624262,
          null,
          null,
          null,
          null,
          null,
          null,
          null,
          null,
          null,
          null,
          -0.0051401410191418695,
          0.0011960898422103128,
          null,
          null,
          null,
          null,
          null,
          null,
          null,
          null,
          null,
          null,
          null,
          0.011006914772651373,
          0.005902175681204436,
          0.003451618350402974,
          0.007866898224288363,
          0.0005373711030290593,
          0.0002667076645556715,
          -0.002173959782352094,
          -0.0002556770010831381,
          0.0006940140117409374,
          0.006423736568120019,
          null,
          null,
          null,
          null,
          null,
          -0.0005520005543434197,
          null,
          null,
          null,
          null,
          null,
          null,
          0.00040024655792287407,
          0.0018434439647307954,
          0.0019313720811177217,
          0.0034462215626410104,
          0.0013642127488366178,
          0.0015084508269021715,
          0.0018617187213933982,
          -0.0007151203279984059,
          -0.00024707674171844593,
          -0.0009370416185750692,
          -0.00018772796761994852,
          -0.0005413511313710206,
          null,
          null,
          null,
          null,
          null,
          null,
          null,
          null,
          null,
          null,
          null,
          0.000248976962271304,
          0.001479745675142946,
          0.003532552076233585,
          0.008720193238634263,
          0.011666852442473896,
          0.011776221635688498,
          0.010036134559904042,
          0.008979437994584276,
          0.0027374791696437306,
          0.0010626187107579052,
          -0.0001642762299170486,
          -0.00041381581216745275,
          -0.0008955724240951556,
          -0.0007955727771845958,
          -0.00007343976358450272,
          -0.0003935311865959062,
          -0.00006549637987538284,
          -0.00059360348477,
          -0.0001280242846632973,
          -0.0008122440285711872,
          0.00006308798139661141,
          -0.0001037890011142469,
          0.00003683232528202841,
          -0.0002606974354689336,
          0.0009050773412730244,
          0.003173233671044705,
          0.003794359418554746,
          0.0049443007841303505,
          0.0038574172564144566,
          0.004572341954921729,
          0.004204344621712153,
          0.00036294448850162877,
          0.00027676881181667046,
          0.00004999764621575276,
          0.0003878651543029769,
          -0.00024367124205129306,
          0.0005392040633367401,
          0.0008481428066614196,
          0.00040186497815793663,
          -0.0004193885432653595,
          -0.00020864123106381204,
          -0.00031659116540557353,
          -0.00013058696001887367,
          -0.00005297692173063771,
          -0.0021359249178933837,
          null,
          null,
          null,
          0.00025790072055344865,
          -0.00011927346594751975,
          0.00906887378249302,
          -0.012020429645804465,
          0.0025911055617784534,
          0.0012137019510637045,
          0.0008799132850248886,
          0.002918032213011422,
          0.00008157381240200823,
          null,
          null,
          null,
          null,
          null,
          null,
          null,
          0.009053830641802207,
          0.003696764702257365,
          0.0012115481453207622,
          0.00024350902447167755,
          0.001055070559881216,
          0.0017682464160529987,
          0.002137293283023922,
          0.005145167677471342,
          0.00927634283079233,
          0.012422287026810051,
          0.013989469562744716,
          0.01625005077690861,
          0.015454918086357822,
          0.013446356012877914,
          0.010181814849919604,
          0.004265089582395992,
          0.00495195772324071,
          0.0017720285607683434,
          -0.001029622005481838,
          -0.0018088300501430746,
          -0.0011717014301192846,
          -0.0013633489963428905,
          -0.00042860973428027194,
          -0.0000017426811635239126,
          -0.0004709222081081682,
          -0.0005921831092692287,
          -0.0002806640437411391,
          0.0007193122049152893,
          -0.00022533928601031674,
          0.00006211540826939199,
          -0.0001608660335349274,
          0.0004207903147535781,
          0.0011836761713400132,
          0.004909357127309888,
          0.012931736083121193,
          0.01632969343480341,
          0.01533743238224142,
          0.014954066685971178,
          0.01146377411552437,
          0.004591573579527934,
          0.0007379581948375319,
          -0.00005587920295132068,
          -0.0006838483012548587,
          -0.0015835288461403252,
          -0.0008065156020623451,
          -0.00130507491174588,
          -0.0009725519355312309,
          -0.0007382061953909655,
          -0.0004239734257076586,
          -0.0004002473696400888,
          -0.0012055466301735956,
          -0.0014910715297336737,
          -0.0007685944773406172,
          -0.00038897356806365246,
          -0.00026555659403963185,
          0.00006656420128825502,
          0.0009040538152717851,
          0.0038044737368847746,
          0.012003214816659162,
          0.0070034751629884555,
          0.014507136297053101,
          0.003610650348737447,
          0.008728684027144773,
          0.002303824966796793,
          -0.0008747656479316142,
          0.000039168255771215854,
          -0.0005710068253102704,
          -0.0005709488374366078,
          -0.0007888162409819752,
          -0.0008393897029325796,
          -0.001233321019812354,
          -0.0010969066575200609,
          -0.0003519475429512777,
          -0.0008302391806604206,
          -0.0009075263653339043,
          -0.000626051456888395,
          -0.00048738705018200627,
          -0.0006996316643029929,
          -0.00018049103535666862,
          0.00006537659348381051,
          0.00270205171279958,
          0.0037380036343681077,
          0.009558652175446663,
          0.011061186677108498,
          0.0071152960937564584,
          0.005400637248573167,
          0.0038847932782965066,
          0.0018976258722050166,
          -0.00003884516081598122,
          0.00020890464587945082,
          -0.0007085967678601007,
          -0.0001829388723552476,
          -0.00013341305456777454,
          -0.0003125651540282579,
          -0.0001418145995716706,
          -0.00013442829516425656,
          -0.00019262281464212452,
          -0.00005672452205749204,
          0.0003438124819372147,
          0.00030265786735947636,
          0.003396360906621136,
          null,
          null,
          null,
          0.0006719115592967242,
          0.0010127352477648302,
          0.002008307892803412,
          0.002331608749902297,
          0.003107275311828219,
          0.0008389259754311394,
          0.00036462844730738436,
          0.00020404572169457208,
          -0.0002114451626371583,
          0.0001966998883208889,
          -0.0001724494147220916,
          -0.00038118465918272415,
          0.00013007009157680466,
          0.00018091929436092613,
          0.00004784938901399374,
          -0.0029408463968433954,
          0.006302815468758301,
          -0.0008755254607185209,
          0.0010323341679941839,
          -0.0019082494370173588,
          -0.0007117523265785207,
          -0.0005843233424628509,
          -0.00026032759438739464,
          -0.00040541605392382246,
          0.00029934509757274016,
          0.0011810489240940843,
          0.0021746925769863504,
          0.0016345670580601972,
          0.0014407089631198744,
          0.001295479944019906,
          0.00045813175366244313,
          0.00006742790942867137,
          -0.00008812734324672826,
          -0.000728212122641736,
          null,
          null,
          null,
          null,
          -0.0035989705804257213,
          0.010314895068910104,
          0.01108690754559186,
          -0.0030040654681704228,
          0.000059908654444967846,
          0.0008700099189758864,
          -0.00045542663398586303,
          0.00000911192463585661,
          0.0002147212992795744,
          0.003261910436729437,
          0.0018560944742323782,
          -0.0004118923684962583,
          -0.0009320578811120583,
          0.011505258616620523,
          0.006739089094942585,
          0.005022368706733005,
          0.008145701504404537,
          0.007947971252633579,
          0.004077144679285993,
          0.0017271693618331127,
          0.0016832207896915925,
          0.0017305801307259117,
          0.0009935136761664437,
          0.002924281686940736,
          0.0006407250329458257,
          0.0008491744397144767,
          0.0006628657813701182,
          0.0016062417787683358,
          0.00044870747098870595,
          0.0002113779377021078,
          -0.00016903598418712383,
          -0.0006261942382758991,
          -0.00003722091509139602,
          0.0002083253137657136,
          -0.00019918929056039758,
          0.0028191688458066508,
          0.0046610128726645855,
          0.006068464186311547,
          0.0032487590071654062,
          0.0039423192704335554,
          0.003680450157458547,
          0.0018331984715513156,
          -0.00022715550523836692,
          -0.0003632280885147027,
          0.0012995416778505626,
          -0.0006596532763979632,
          -0.00025728197542089146,
          -0.00048257295054002225,
          -0.0003406434521888097,
          -0.0007502766920811273,
          -0.00010812831059538045,
          -0.0005083884279705325,
          -0.00004253394880896887,
          -0.00013621085540470486,
          -0.00014431387725672568,
          0.00024069459121574786,
          -0.00021478552497539855,
          -0.00007335513926203831,
          0.002173613715505853,
          0.00424036371970023,
          0.01035789431190369,
          0.010863851198931702,
          0.010879868918703888,
          0.011419542074373602,
          0.008820618396525492,
          0.0007569796910914892,
          -0.0009279611357089954,
          -0.000027894555693839997,
          0.010648971200020507,
          0.000611970110549552,
          0.006608578150561447,
          0.008947881047175697,
          0.0014679564532601788,
          0.0019553254879435544,
          0.0013862182207784457,
          0.0013248899840808265,
          0.0028054356196257,
          0.002000296790335594,
          0.0014617612822173422,
          -0.00043427431882609585,
          0.0006446216697935797,
          0.003897082611615584,
          0.008163579421260097,
          0.009504501510803384,
          0.007326031806835921,
          0.00977459822912033,
          0.010464495202490466,
          0.0066708251757177095,
          0.0031070920484891004,
          0.0023045533257124683,
          0.0031310339039336554,
          0.0016991677868056767,
          0.00004156447632880985,
          -0.00005400641017485903,
          -0.00031921426916269296,
          -0.0019663741705797837,
          -0.0009061123092770646,
          null,
          null,
          null,
          null,
          null,
          null,
          null,
          null,
          null,
          null,
          null,
          0.005133708715192142,
          null,
          null,
          null,
          0.0033402803731388264,
          0.002781029954715149,
          0.003043961420174046,
          0.005296149245873799,
          0.00016317441497137875,
          -0.0007296476020261823,
          -0.0014943267471574373,
          0.0029046401289167054,
          0.007043800617596375,
          0.0038881515704581975,
          0.02273389667107967,
          -0.0004529886270784912,
          0.002402791469743093,
          0.0023584805602144196,
          -0.000011305406159879683,
          0.0016132688896411812,
          0.0025400054804739156,
          0.004799994115366246,
          0.007965232322677682,
          0.006219742712754259,
          0.006276110495362117,
          0.00954471024673056,
          0.007928178148573127,
          0.006389503838172791,
          0.005055989297889911,
          0.005864716436714362,
          0.0016683732484016702,
          -0.00014447272024200805,
          -0.0003911780432665282,
          -0.00032911535261111527,
          -0.00026850751309304144,
          -0.0005284786191347792,
          0.00013044926976056755,
          -0.00022816244454344076,
          -0.0003540704051673097,
          -0.0003775386117599311,
          -0.00006522544542919562,
          -0.0006165598537664074,
          -0.00040620059940617813,
          -0.00022297856599743726,
          -0.00015386230928784734,
          0.00009701362350034073,
          0.0015613397200004734,
          0.00432252358527189,
          0.005028013189257446,
          0.007719790176790376,
          0.008133777868713091,
          0.008861140169192854,
          0.006492989433533342,
          0.004069376416130883,
          0.00030904187206230206,
          0.0010753310135894392,
          -0.000696831417594258,
          -0.0003280987177848669,
          -0.000657166247599446,
          -0.001774361259213427,
          -0.0008878752916381162,
          -0.0013071255300038942,
          -0.0008188370504675175,
          -0.000979195900449606,
          -0.0011948041826613488,
          -0.0004220247195447051,
          -0.0004933970398687624,
          -0.00018377395547404963,
          -0.0010251445281678827,
          0.00023171850354981177,
          0.0019516744789325937,
          0.007170950225601658,
          0.008355818469036831,
          0.00705027919898487,
          0.004338282556656395,
          0.0024526096294791673,
          0.00020821335508348741,
          0.0004202298351723143,
          0.00007464972532838501,
          0.00006021260712706436,
          -0.00015336707270582894,
          -0.0010593170717688354,
          -0.0016013443723033784,
          -0.001889983473878594,
          -0.0015591934890558032,
          -0.00017954580559297398,
          -0.0002728392115942907,
          -0.0003718341182875494,
          -0.0009151236133284613,
          -0.00050248048724022,
          0.00005299384003176755,
          0.000038774426315651284,
          0.0011395889936830876,
          0.008912821824605288,
          0.0233407734079331,
          0.02768441353443585,
          0.01838087729867984,
          0.010401609207150829,
          0.008225889467970954,
          0.004005070323936856,
          0.0018332146999391272,
          0.001907532897921154,
          0.003828477706241025,
          0.001190287823354435,
          0.004051028181836988,
          0.00048008210946449796,
          0.0005416061784007855,
          0.006292570898528634,
          0.00279731192128925,
          0.000817956796568509,
          -0.00012763409104760842,
          0.00498679285931776,
          0.00542938182688206,
          0.0039635109323062495,
          0.004301899481520065,
          0.01215552231600172,
          0.0011491048265671968,
          0.0040874942151285475,
          0.0038170788434802247,
          0.003965316050281345,
          0.0027533024029414294,
          0.0040992270464086135,
          0.002226452307224451,
          0.0032750033452373373,
          0.003822680407916418,
          0.003932642356970696
         ],
         "xaxis": "x",
         "y": [
          0,
          0,
          0,
          0,
          0,
          0,
          0,
          0,
          0,
          0,
          0,
          0,
          0,
          0,
          0,
          0,
          0,
          0,
          0,
          0,
          0,
          0,
          0,
          0,
          0,
          0,
          0,
          0,
          0,
          0,
          0,
          0,
          0.0016666665906086564,
          0.014999999664723873,
          0.0016666665906086564,
          0.0008333332953043282,
          0.010833333246409893,
          0.04416666552424431,
          0.08416666835546494,
          0.07833333313465118,
          0.06666666269302368,
          0.32363635301589966,
          0.08583333343267441,
          0.2849999964237213,
          0.22583334147930145,
          0.2149999886751175,
          0.032499998807907104,
          0.010833333246409893,
          0.017500000074505806,
          0,
          0.0024999999441206455,
          0,
          0,
          0,
          0,
          0,
          0,
          0,
          0,
          0,
          0,
          0,
          0,
          0,
          0,
          0,
          0,
          0,
          0,
          0,
          0,
          0,
          0,
          0,
          0,
          0,
          0,
          0,
          0,
          0,
          0,
          0,
          0,
          0,
          0,
          0,
          0,
          0,
          0,
          0,
          0,
          0,
          0,
          0,
          0,
          0,
          0,
          0,
          0.0008333332953043282,
          0,
          0,
          0,
          0,
          0.003333333181217313,
          0.00416666641831398,
          0.01666666753590107,
          0,
          0.0016666665906086564,
          0.028333334252238274,
          0.004166666883975267,
          0.021666666492819786,
          0.014999999664723873,
          0.0016666665906086564,
          0,
          0.007500000298023224,
          0.0024999999441206455,
          0.014999999664723873,
          0.007499999832361937,
          0,
          0.006666666362434626,
          0.0016666665906086564,
          0,
          0.00416666641831398,
          0.005000000353902578,
          0,
          0.004999999888241291,
          0.0008333332953043282,
          0.0016666665906086564,
          0.0008333332953043282,
          0.06333333253860474,
          0.034166667610406876,
          0,
          0,
          0.0008333332953043282,
          0,
          0.013333332724869251,
          0.00416666641831398,
          0,
          0,
          0,
          0.005833333358168602,
          0.005833332892507315,
          0.0024999999441206455,
          0,
          0,
          0,
          0,
          0,
          0,
          0,
          0,
          0,
          0,
          0,
          0,
          0,
          0,
          0,
          0,
          0,
          0,
          0,
          0,
          0,
          0,
          0,
          0,
          0,
          0,
          0,
          0,
          0,
          0,
          0,
          0,
          0.06833332777023315,
          0.03999999910593033,
          0.007499999832361937,
          0,
          0,
          0,
          0.005833333358168602,
          0.00416666641831398,
          0.01249999925494194,
          0,
          0,
          0.0008333332953043282,
          0.0008333332953043282,
          0.0016666665906086564,
          0.010833333246409893,
          0.007499999832361937,
          0,
          0,
          0,
          0,
          0,
          0,
          0,
          0,
          0,
          0,
          0,
          0,
          0,
          0,
          0,
          0,
          0,
          0,
          0,
          0,
          0,
          0,
          0,
          0,
          0,
          0,
          0,
          0,
          0,
          0,
          0,
          0,
          0,
          0,
          0,
          0,
          0,
          0,
          0,
          0,
          0,
          0,
          0,
          0,
          0,
          0,
          0,
          0,
          0,
          0,
          0,
          0,
          0,
          0,
          0,
          0,
          0,
          0,
          0,
          0,
          0,
          0,
          0,
          0,
          0,
          0,
          0,
          0,
          0,
          0,
          0,
          0,
          0,
          0,
          0,
          0,
          0,
          0,
          0,
          0,
          0,
          0,
          0,
          0,
          0,
          0,
          0,
          0,
          0,
          0,
          0,
          0.04416666552424431,
          0.003333333181217313,
          0.015833333134651184,
          0.032499998807907104,
          0.00833333283662796,
          0.0008333332953043282,
          0.05000000074505806,
          0.06416666507720947,
          0.07333333045244217,
          0.11916666477918625,
          0.05249999836087227,
          0.017500000074505806,
          0,
          0,
          0,
          0,
          0,
          0,
          0.0024999999441206455,
          0,
          0,
          0,
          0.0016666665906086564,
          0.0008333332953043282,
          0.03583333268761635,
          0.11999999731779099,
          0.06916666775941849,
          0.7283332943916321,
          0.8358333110809326,
          1.8416666984558105,
          0.6558333039283752,
          1.1425000429153442,
          0.32333335280418396,
          0.1991666704416275,
          0.1691666692495346,
          0.3608333170413971,
          0.5891667008399963,
          0.6891667246818542,
          0.4974999725818634,
          0.2841666638851166,
          0.3033333122730255,
          0.5849999785423279,
          0.5408332943916321,
          0.3883333206176758,
          0.43166664242744446,
          0.18833333253860474,
          0.40666666626930237,
          0.6150000095367432,
          0.2449999898672104,
          0.10083333402872086,
          0.07750000059604645,
          0.019999999552965164,
          0.005833333358168602,
          0,
          0,
          0,
          0,
          0,
          0,
          0,
          0,
          0,
          0,
          0,
          0,
          0,
          0,
          0,
          0,
          0,
          0,
          0,
          0.00833333283662796,
          0.006666666362434626,
          0.04333333298563957,
          0.125,
          0.010833333246409893,
          0.006666666362434626,
          0,
          0,
          0.0008333332953043282,
          0.030000001192092896,
          0.012500000186264515,
          0.0008333332953043282,
          0.003333333181217313,
          0,
          0,
          0.0024999999441206455,
          0,
          0,
          0,
          0,
          0,
          0,
          0,
          0,
          0,
          0,
          0,
          0,
          0,
          0,
          0,
          0,
          0,
          0,
          0,
          0,
          0,
          0,
          0,
          0,
          0,
          0,
          0,
          0,
          0,
          0,
          0,
          0,
          0,
          0,
          0,
          0,
          0,
          0,
          0,
          0,
          0,
          0,
          0,
          0,
          0,
          0,
          0,
          0,
          0,
          0,
          0,
          0,
          0,
          0,
          0,
          0,
          0,
          0,
          0,
          0,
          0,
          0,
          0,
          0,
          0,
          0,
          0,
          0,
          0,
          0,
          0,
          0,
          0,
          0,
          0,
          0,
          0,
          0,
          0,
          0,
          0,
          0,
          0,
          0,
          0,
          0,
          0,
          0,
          0,
          0,
          0,
          0,
          0,
          0,
          0,
          0,
          0,
          0,
          0,
          0,
          0,
          0,
          0,
          0,
          0,
          0,
          0,
          0,
          0,
          0,
          0,
          0,
          0,
          0,
          0,
          0,
          0,
          0,
          0,
          0,
          0,
          0,
          0,
          0,
          0,
          0.0008333332953043282,
          0.012500000186264515,
          0.053333330899477005,
          0.017500000074505806,
          0.0416666679084301,
          0.01249999925494194,
          0.03916666656732559,
          0.12166666984558105,
          0.06083333492279053,
          0.053333330899477005,
          1.1991666555404663,
          0.34416666626930237,
          1.1799999475479126,
          4.331666469573975,
          9.464166641235352,
          15.798333168029785,
          6.143333435058594,
          7.919090747833252,
          13.172500610351562,
          42.9849967956543,
          38.52499771118164,
          47.81999969482422,
          26.902002334594727,
          22.193635940551758,
          5.999090671539307,
          4.582499980926514,
          4.0883331298828125,
          1.0554544925689697,
          1.5163636207580566,
          2.991666555404663,
          1.5700000524520874,
          0.9433333277702332,
          1.7799999713897705,
          0.5416666865348816,
          0.2591666579246521,
          0,
          0,
          0,
          0,
          0,
          0,
          0,
          0,
          0,
          0,
          0,
          0,
          0,
          0,
          0,
          0,
          0,
          0,
          0,
          0,
          0,
          0,
          0,
          0,
          0,
          0,
          0,
          0,
          0,
          0,
          0,
          0,
          0,
          0,
          0,
          0,
          0,
          0,
          0,
          0,
          0,
          0,
          0,
          0,
          0,
          0,
          0,
          0,
          0,
          0,
          0,
          0,
          0,
          0,
          0,
          0,
          0,
          0,
          0,
          0,
          0,
          0,
          0,
          0,
          0,
          0,
          0.0016666665906086564,
          0,
          0.004999999888241291,
          0,
          0,
          0,
          0,
          0,
          0,
          0,
          0,
          0,
          0,
          0,
          0.0008333332953043282,
          0.00416666641831398,
          0,
          0,
          0,
          0,
          0,
          0,
          0,
          0,
          0,
          0,
          0,
          0,
          0,
          0,
          0,
          0,
          0,
          0,
          0,
          0,
          0,
          0,
          0,
          0,
          0,
          0,
          0,
          0,
          0,
          0,
          0,
          0,
          0,
          0,
          0,
          0,
          0,
          0.0024999999441206455,
          0.023333333432674408,
          0.0008333332953043282,
          0.00416666641831398,
          0.010833333246409893,
          0.009999999776482582,
          0.01666666567325592,
          0.014166667126119137,
          0.0024999999441206455,
          0,
          0,
          0.005833333358168602,
          0.00833333283662796,
          0.0008333332953043282,
          0,
          0,
          0,
          0,
          0,
          0,
          0,
          0.0016666665906086564,
          0.0008333332953043282,
          0,
          0.0008333332953043282,
          0.07000000029802322,
          0,
          0,
          0,
          0.00416666641831398,
          0.003333333181217313,
          0.0016666665906086564,
          0.0008333332953043282,
          0.003333333181217313,
          0.0008333332953043282,
          0,
          0,
          0,
          0.0008333332953043282,
          0.0008333332953043282,
          0.0008333332953043282,
          0.003333333181217313,
          0.010833333246409893,
          0.0016666665906086564,
          0.009166666306555271,
          0.006666666362434626,
          0,
          0,
          0,
          0,
          0,
          0,
          0,
          0,
          0,
          0,
          0,
          0,
          0,
          0,
          0,
          0,
          0,
          0,
          0,
          0,
          0,
          0,
          0,
          0,
          0,
          0,
          0,
          0,
          0,
          0,
          0,
          0,
          0,
          0,
          0.00416666641831398,
          0.00416666641831398,
          0.02749999798834324,
          0.006666666362434626,
          0.006666666362434626,
          0.0008333332953043282,
          0.0008333332953043282,
          0,
          0,
          0,
          0,
          0,
          0,
          0.0008333332953043282,
          0,
          0,
          0,
          0.008333333767950535,
          0.044999998062849045,
          0.12916666269302368,
          0.03999999910593033,
          0.18166667222976685,
          0.014999999664723873,
          0.03333333507180214,
          0.03166666626930237,
          0.007499999832361937,
          0.007499999832361937,
          0,
          0,
          0,
          0,
          0,
          0.0008333332953043282,
          0,
          0,
          0,
          0,
          0,
          0,
          0,
          0,
          0,
          0,
          0,
          0,
          0,
          0,
          0,
          0,
          0.11833333224058151,
          0,
          0,
          0,
          0,
          0,
          0.003333333181217313,
          0,
          0,
          0,
          0,
          0,
          0,
          0,
          0,
          0,
          0,
          0,
          0,
          0,
          0,
          0,
          0,
          0,
          0,
          0,
          0,
          0,
          0,
          0,
          0,
          0,
          0,
          0,
          0.0008333332953043282,
          0,
          0,
          0,
          0.009999999776482582,
          0,
          0,
          0.025833332911133766,
          0.06333333253860474,
          0.004999999888241291,
          0.004999999422580004,
          0.0008333332953043282,
          0.0008333332953043282,
          0,
          0.02083333395421505,
          0.026666665449738503,
          0.003333333181217313,
          0.011666666716337204,
          0.003333333181217313,
          0.009166666306555271,
          0.05000000074505806,
          0.16166667640209198,
          0.12250000238418579,
          0.15416665375232697,
          0.04916666820645332,
          0.00833333283662796,
          0,
          0.003333333181217313,
          0,
          0,
          0,
          0,
          0,
          0,
          0,
          0,
          0,
          0,
          0,
          0,
          0,
          0,
          0,
          0,
          0,
          0,
          0,
          0,
          0,
          0,
          0,
          0,
          0,
          0,
          0,
          0,
          0,
          0,
          0,
          0,
          0,
          0,
          0,
          0,
          0,
          0,
          0,
          0,
          0,
          0,
          0,
          0,
          0,
          0,
          0,
          0.007499999832361937,
          0,
          0,
          0,
          0,
          0,
          0,
          0,
          0,
          0,
          0,
          0,
          0,
          0,
          0,
          0,
          0,
          0,
          0,
          0,
          0,
          0,
          0,
          0,
          0,
          0,
          0,
          0,
          0,
          0,
          0,
          0,
          0,
          0,
          0,
          0,
          0,
          0,
          0,
          0,
          0,
          0,
          0,
          0,
          0,
          0,
          0,
          0,
          0,
          0,
          0,
          0,
          0,
          0,
          0,
          0,
          0,
          0,
          0,
          0,
          0,
          0,
          0,
          0,
          0,
          0,
          0,
          0,
          0,
          0,
          0,
          0,
          0,
          0,
          0,
          0,
          0,
          0,
          0,
          0,
          0,
          0,
          0,
          0,
          0,
          0,
          0,
          0,
          0,
          0.00416666641831398,
          0.003333333181217313,
          0.042500000447034836,
          0.21583335101604462,
          0.304999977350235,
          0.05583333596587181,
          0,
          0,
          0,
          0,
          0,
          0,
          0,
          0,
          0,
          0,
          0,
          0.019999999552965164,
          0.0008333332953043282,
          0.0016666665906086564,
          0.0016666665906086564,
          0,
          0,
          0,
          0,
          0.09749999642372131,
          0.21166665852069855,
          0.30416667461395264,
          0.3816666603088379,
          0.05833333358168602,
          0.014166667126119137,
          0.0016666665906086564,
          0.0024999999441206455,
          0.0016666665906086564,
          0.009999999776482582,
          0.0008333332953043282,
          0.0016666665906086564,
          0,
          0,
          0,
          0,
          0,
          0,
          0,
          0,
          0,
          0,
          0,
          0,
          0,
          0,
          0,
          0,
          0,
          0,
          0,
          0,
          0,
          0,
          0,
          0,
          0,
          0,
          0,
          0,
          0,
          0,
          0,
          0,
          0,
          0,
          0,
          0,
          0,
          0,
          0,
          0,
          0,
          0,
          0,
          0,
          0,
          0,
          0,
          0,
          0,
          0,
          0,
          0,
          0,
          0,
          0,
          0,
          0,
          0,
          0,
          0,
          0,
          0,
          0,
          0,
          0,
          0,
          0,
          0.0008333332953043282,
          0.0008333332953043282,
          0,
          0,
          0,
          0,
          0,
          0,
          0,
          0,
          0,
          0,
          0,
          0,
          0,
          0,
          0,
          0,
          0,
          0,
          0.005833333358168602,
          0,
          0,
          0,
          0,
          0,
          0,
          0,
          0,
          0,
          0,
          0,
          0,
          0,
          0,
          0,
          0,
          0,
          0,
          0,
          0,
          0,
          0,
          0,
          0,
          0,
          0,
          0,
          0,
          0,
          0,
          0,
          0,
          0,
          0,
          0,
          0,
          0,
          0,
          0,
          0,
          0,
          0,
          0,
          0,
          0,
          0,
          0,
          0,
          0,
          0.0008333332953043282,
          0,
          0,
          0,
          0,
          0,
          0,
          0.0008333332953043282,
          0,
          0,
          0,
          0,
          0,
          0,
          0,
          0.0008333332953043282,
          0.02083333395421505,
          0.05416666343808174,
          0.08749999850988388,
          0.10166666656732559,
          0.09583333134651184,
          0.11083333939313889,
          0.13750000298023224,
          0.13083332777023315,
          0.12583333253860474,
          0.03333333134651184,
          0.0016666665906086564,
          0.004999999888241291,
          0.004999999888241291,
          0,
          0,
          0.0008333332953043282,
          0,
          0,
          0,
          0,
          0,
          0,
          0,
          0,
          0,
          0,
          0,
          0,
          0,
          0,
          0,
          0,
          0,
          0,
          0,
          0,
          0,
          0,
          0,
          0,
          0,
          0,
          0,
          0,
          0,
          0,
          0,
          0,
          0,
          0,
          0,
          0,
          0,
          0,
          0,
          0,
          0,
          0,
          0,
          0,
          0,
          0,
          0,
          0,
          0.0008333332953043282,
          0,
          0,
          0,
          0,
          0,
          0,
          0,
          0,
          0,
          0,
          0,
          0.0016666665906086564,
          0.004999999888241291,
          0.0016666665906086564,
          0.01916666515171528,
          0.04416666552424431,
          0.06583333760499954,
          0.0833333358168602,
          0.12416666746139526,
          0.11666666716337204,
          0.08833333104848862,
          0.24166667461395264,
          0.03999999910593033,
          0,
          0,
          0,
          0,
          0,
          0,
          0,
          0,
          0,
          0,
          0,
          0,
          0,
          0,
          0,
          0,
          0,
          0,
          0,
          0,
          0,
          0,
          0,
          0,
          0,
          0,
          0,
          0,
          0,
          0,
          0,
          0,
          0,
          0,
          0,
          0,
          0,
          0,
          0,
          0,
          0,
          0,
          0,
          0,
          0,
          0,
          0,
          0,
          0,
          0,
          0,
          0,
          0,
          0,
          0,
          0,
          0,
          0,
          0,
          0.0008333332953043282,
          0.049166664481163025,
          0.024166665971279144,
          0.0008333332953043282,
          0.007500000298023224,
          0.16833333671092987,
          0.1483333259820938,
          0.16333334147930145,
          0.003333333181217313,
          0.06000000238418579,
          0.05583333596587181,
          0.03833333030343056,
          0.014166667126119137,
          0,
          0.0008333332953043282,
          0.004999999888241291,
          0,
          0,
          0,
          0,
          0.003333333181217313,
          0.0008333332953043282,
          0,
          0.003333333181217313,
          0,
          0,
          0.00416666641831398,
          0.0016666665906086564,
          0.00416666641831398,
          0.0016666665906086564,
          0,
          0,
          0,
          0,
          0,
          0,
          0,
          0,
          0,
          0,
          0,
          0,
          0,
          0,
          0,
          0,
          0,
          0,
          0,
          0,
          0,
          0.010833333246409893,
          0.01249999925494194,
          0.029999999329447746,
          0.02749999798834324,
          0.0008333332953043282,
          0,
          0,
          0,
          0,
          0,
          0,
          0,
          0,
          0,
          0,
          0,
          0,
          0,
          0,
          0,
          0,
          0,
          0,
          0.0016666665906086564,
          0,
          0,
          0.027500001713633537,
          0.014166667126119137,
          0,
          0,
          0,
          0.0008333332953043282,
          0.0024999999441206455,
          0.013333332724869251,
          0.00416666641831398,
          0,
          0,
          0,
          0,
          0,
          0,
          0,
          0,
          0,
          0,
          0,
          0,
          0.0016666665906086564,
          0.0024999999441206455,
          0,
          0.0008333332953043282,
          0,
          0.0024999999441206455,
          0.0008333332953043282,
          0,
          0,
          0,
          0,
          0,
          0,
          0,
          0,
          0,
          0,
          0,
          0,
          0,
          0,
          0,
          0,
          0,
          0,
          0,
          0.00416666641831398,
          0.003333333181217313,
          0.003333333181217313,
          0.0008333332953043282,
          0.00833333283662796,
          0,
          0.0008333332953043282,
          0.03583333268761635,
          0.02250000089406967,
          0,
          0,
          0,
          0.00416666641831398,
          0.0016666665906086564,
          0.00416666641831398,
          0,
          0,
          0,
          0,
          0,
          0,
          0,
          0.015833333134651184,
          0.0024999999441206455,
          0.0016666665906086564,
          0.0024999999441206455,
          0,
          0,
          0.0008333332953043282,
          0.0008333332953043282,
          0,
          0.00416666641831398,
          0,
          0.0024999999441206455,
          0.026666665449738503,
          0.036666665226221085,
          0.032499998807907104,
          0,
          0,
          0,
          0,
          0,
          0,
          0,
          0,
          0,
          0,
          0,
          0,
          0,
          0,
          0,
          0,
          0,
          0,
          0,
          0,
          0,
          0,
          0,
          0,
          0,
          0,
          0,
          0,
          0,
          0,
          0,
          0,
          0,
          0,
          0,
          0,
          0,
          0,
          0,
          0,
          0,
          0,
          0,
          0,
          0,
          0,
          0,
          0,
          0,
          0,
          0,
          0,
          0,
          0,
          0,
          0,
          0,
          0,
          0,
          0,
          0,
          0,
          0,
          0,
          0,
          0,
          0,
          0,
          0,
          0,
          0,
          0,
          0,
          0,
          0,
          0,
          0,
          0,
          0,
          0,
          0,
          0,
          0,
          0,
          0,
          0,
          0,
          0,
          0,
          0,
          0,
          0,
          0,
          0,
          0,
          0,
          0,
          0,
          0,
          0,
          0,
          0,
          0,
          0,
          0,
          0,
          0,
          0,
          0.024166667833924294,
          0.02083333395421505,
          0.0008333332953043282,
          0,
          0,
          0,
          0,
          0,
          0,
          0,
          0,
          0,
          0,
          0,
          0,
          0,
          0,
          0,
          0,
          0,
          0,
          0,
          0,
          0.18583333492279053,
          0.3291666507720947,
          0.34333333373069763,
          0.12583333253860474,
          0.39499998092651367,
          0.10249999910593033,
          0.04500000178813934,
          0.06416666507720947,
          0.059166669845581055,
          0.04333333298563957,
          0,
          0,
          0.0008333332953043282,
          0.03166666626930237,
          0.0008333332953043282,
          0.014166667126119137,
          0.014166667126119137,
          0.05249999836087227,
          0.03583333268761635,
          0.1274999976158142,
          0.03916666656732559,
          0.02916666679084301,
          0.036666665226221085,
          0.02083333395421505,
          0.015833333134651184,
          0.0024999999441206455,
          0,
          0,
          0,
          0,
          0.010833333246409893,
          0,
          0,
          0,
          0,
          0,
          0.06333333253860474,
          0.0133333345875144,
          0,
          0,
          0,
          0,
          0,
          0,
          0,
          0,
          0,
          0,
          0,
          0,
          0,
          0,
          0,
          0,
          0,
          0,
          0,
          0,
          0,
          0,
          0,
          0,
          0,
          0,
          0,
          0,
          0,
          0,
          0,
          0,
          0.04333333298563957,
          0.015833333134651184,
          0.23499999940395355,
          0.018333332613110542,
          0.014999999664723873,
          0.0008333332953043282,
          0.0024999999441206455,
          0.02749999798834324,
          0.17666666209697723,
          0.03916666656732559,
          0.2108333259820938,
          0.011666666716337204,
          0.008333333767950535,
          0.0016666665906086564,
          0.0008333332953043282,
          0.0008333332953043282,
          0,
          0.009999999776482582,
          0.08166667073965073,
          0.057500001043081284,
          0.036666665226221085,
          0.07000000029802322,
          0.17499999701976776,
          0.0833333358168602,
          0.04416666552424431,
          0.030833333730697632,
          0.09916666895151138,
          0.03333333507180214,
          0.004999999422580004,
          0,
          0,
          0,
          0,
          0,
          0,
          0,
          0,
          0,
          0,
          0,
          0,
          0,
          0,
          0,
          0,
          0,
          0,
          0,
          0,
          0,
          0,
          0,
          0,
          0,
          0,
          0,
          0,
          0,
          0,
          0,
          0,
          0,
          0,
          0,
          0,
          0,
          0,
          0,
          0,
          0,
          0,
          0,
          0,
          0,
          0,
          0,
          0,
          0,
          0,
          0,
          0,
          0,
          0,
          0,
          0,
          0,
          0,
          0,
          0,
          0,
          0,
          0,
          0,
          0,
          0,
          0,
          0,
          0,
          0,
          0,
          0,
          0,
          0,
          0,
          0,
          0,
          0,
          0,
          0,
          0,
          0,
          0,
          0,
          0,
          0,
          0,
          0,
          0,
          0,
          0,
          0,
          0.024166667833924294,
          0,
          0,
          0,
          0,
          0,
          0,
          0,
          0,
          0,
          0,
          0,
          0,
          0,
          0.01666666567325592,
          0.015833333134651184,
          0.005833333358168602,
          0.026666665449738503,
          0,
          0.003333333181217313,
          0.012500000186264515,
          0.0016666665906086564,
          0.006666666362434626,
          0.005833333358168602,
          0.004999999888241291,
          0.0008333332953043282,
          0,
          0,
          0,
          0,
          0,
          0,
          0,
          0,
          0,
          0,
          0,
          0.0024999999441206455,
          0.005833333358168602,
          0.024166665971279144,
          0.00833333283662796,
          0.00833333283662796,
          0.024166665971279144,
          0.0024999999441206455,
          0.025833332911133766,
          0.04083333536982536,
          0.02083333395421505,
          0,
          0.02916666679084301,
          0.003333333181217313,
          0,
          0,
          0,
          0,
          0,
          0,
          0,
          0,
          0,
          0,
          0,
          0,
          0,
          0,
          0,
          0,
          0,
          0,
          0,
          0,
          0,
          0,
          0,
          0,
          0,
          0,
          0,
          0,
          0,
          0,
          0,
          0,
          0,
          0,
          0,
          0,
          0,
          0,
          0,
          0,
          0,
          0,
          0,
          0,
          0,
          0,
          0,
          0,
          0,
          0,
          0,
          0,
          0,
          0,
          0,
          0,
          0,
          0,
          0,
          0,
          0,
          0,
          0,
          0,
          0,
          0,
          0,
          0,
          0,
          0,
          0,
          0.006666666362434626,
          0.008333333767950535,
          0.036666665226221085,
          0.0016666665906086564,
          0,
          0,
          0,
          0,
          0,
          0,
          0.15833333134651184,
          0.22416667640209198,
          0.14749999344348907,
          0.1133333370089531,
          0.40833333134651184,
          0.33500000834465027,
          0.25333333015441895,
          0.19750000536441803,
          0.10083333402872086,
          0.024166665971279144,
          0.015000000596046448,
          0.005833333358168602,
          0.0016666665906086564,
          0.02083333395421505,
          0.11083333939313889,
          0.07000000029802322,
          0.1875,
          0.07999999821186066,
          0.10083333402872086,
          0.04000000283122063,
          0.003333333181217313,
          0.03916666656732559,
          0,
          0.02916666679084301,
          0.00833333283662796,
          0.036666665226221085,
          0.35749998688697815,
          0.04583333432674408,
          0.12583333253860474,
          0.0950000062584877,
          0.04583333432674408,
          0.009999999776482582,
          0.015833334997296333,
          0.030833333730697632,
          0.0008333332953043282,
          0,
          0,
          0.018333332613110542,
          0.009166666306555271,
          0.006666666362434626,
          0,
          0.0008333332953043282,
          0,
          0,
          0,
          0,
          0.0008333332953043282,
          0.0016666665906086564,
          0,
          0,
          0.0008333332953043282,
          0,
          0,
          0,
          0,
          0,
          0,
          0.01666666753590107,
          0.004999999888241291,
          0,
          0.00833333283662796,
          0.025833332911133766,
          0.00416666641831398,
          0.003333333181217313,
          0,
          0.02083333395421505,
          0.0008333332953043282,
          0.0016666665906086564,
          0,
          0,
          0,
          0,
          0,
          0,
          0,
          0,
          0,
          0,
          0,
          0,
          0.005833333358168602,
          0.01916666515171528,
          0.2541666626930237,
          0.18583333492279053,
          0.026666665449738503,
          0.10083333402872086,
          0.3474999964237213,
          0.2408333271741867,
          0.1966666579246521,
          0.10499999672174454,
          0.03583333268761635,
          0.005833333358168602,
          0.030000001192092896,
          0.049166664481163025,
          0.007499999832361937,
          0.03166666626930237,
          0.005833333358168602,
          0.0016666665906086564,
          0.003333333181217313,
          0.006666666362434626,
          0.02749999798834324,
          0.05166666582226753,
          0.02500000037252903,
          0.005833333358168602,
          0,
          0,
          0,
          0,
          0,
          0,
          0,
          0,
          0,
          0.0024999999441206455,
          0.00416666641831398,
          0,
          0,
          0,
          0,
          0,
          0,
          0,
          0,
          0,
          0,
          0,
          0,
          0.014999999664723873,
          0.04333333298563957,
          0.00416666641831398,
          0.0008333332953043282,
          0.004999999888241291,
          0,
          0,
          0,
          0,
          0,
          0,
          0,
          0,
          0,
          0,
          0,
          0,
          0,
          0,
          0,
          0,
          0,
          0,
          0,
          0,
          0,
          0,
          0,
          0,
          0,
          0,
          0,
          0,
          0,
          0,
          0,
          0,
          0,
          0,
          0,
          0,
          0,
          0,
          0,
          0,
          0,
          0,
          0,
          0,
          0,
          0,
          0.02250000089406967,
          0.05416666343808174,
          0.0008333332953043282,
          0,
          0,
          0.0008333332953043282,
          0.01916666515171528,
          0.0416666679084301,
          0.03166666626930237,
          0.1600000113248825,
          0.13833333551883698,
          0.03999999910593033,
          0.030833333730697632,
          0.02749999798834324,
          0.0016666665906086564,
          0,
          0,
          0,
          0,
          0,
          0,
          0,
          0,
          0,
          0,
          0.011666666716337204,
          0.021666666492819786,
          0.0024999999441206455,
          0,
          0,
          0,
          0,
          0,
          0,
          0.0024999999441206455,
          0,
          0,
          0,
          0.0016666665906086564,
          0.0016666665906086564,
          0.0016666665906086564,
          0.0024999999441206455,
          0.007499999832361937,
          0.010833333246409893,
          0.014999999664723873,
          0.03749999776482582,
          0.004999999888241291,
          0.0016666665906086564,
          0.004999999888241291,
          0,
          0.0008333332953043282,
          0.003333333181217313,
          0.0016666665906086564,
          0,
          0,
          0,
          0,
          0.0008333332953043282,
          0,
          0,
          0,
          0,
          0,
          0,
          0,
          0,
          0,
          0,
          0,
          0,
          0,
          0,
          0,
          0,
          0,
          0,
          0,
          0,
          0,
          0,
          0,
          0,
          0,
          0,
          0,
          0,
          0,
          0,
          0,
          0,
          0,
          0,
          0,
          0,
          0,
          0,
          0,
          0,
          0,
          0,
          0,
          0,
          0,
          0,
          0,
          0,
          0,
          0,
          0,
          0,
          0,
          0,
          0,
          0,
          0,
          0,
          0,
          0,
          0,
          0,
          0,
          0,
          0,
          0.0008333332953043282,
          0,
          0,
          0,
          0.005833333358168602,
          0.00416666641831398,
          0.0016666665906086564,
          0,
          0,
          0,
          0,
          0,
          0,
          0,
          0,
          0,
          0,
          0,
          0,
          0,
          0,
          0,
          0,
          0,
          0,
          0,
          0,
          0,
          0.0008333332953043282,
          0,
          0,
          0.003333333181217313,
          0.004999999888241291,
          0.08249999582767487,
          0.09000000357627869,
          0.02749999798834324,
          0.057500001043081284,
          0.009999999776482582,
          0.003333333181217313,
          0,
          0,
          0,
          0.0008333332953043282,
          0.06333333253860474,
          0.046666666865348816,
          0.04833333194255829,
          0.011666666716337204,
          0.032499998807907104,
          0.013333332724869251,
          0.012500000186264515,
          0.0008333332953043282,
          0.015833333134651184,
          0.05499999597668648,
          0.07083333283662796,
          0.005833332892507315,
          0.039166662842035294,
          0.05666666850447655,
          0.01916666515171528,
          0.050833333283662796,
          0.009166666306555271,
          0.00416666641831398,
          0.009999999776482582,
          0.0024999999441206455,
          0.05166666582226753,
          0.022499999031424522,
          0.022499999031424522,
          0.00416666641831398,
          0.0024999999441206455,
          0.0024999999441206455,
          0.08083333820104599,
          0.2616666555404663,
          0.13833333551883698,
          0.10750000923871994,
          0.03583333268761635,
          0.14499999582767487,
          0.026666665449738503,
          0.017500000074505806,
          0.00833333283662796,
          0.05166666582226753,
          0.03166666626930237,
          0,
          0,
          0.02083333395421505,
          0.01916666515171528,
          0.018333332613110542,
          0.049166664481163025,
          0.05583333596587181,
          0.02083333395421505,
          0.14499999582767487,
          0.003333333181217313,
          0.006666666362434626,
          0.014999999664723873,
          0.021666666492819786,
          0.022499999031424522,
          0.09999999403953552,
          0.2266666740179062,
          0.14000000059604645,
          0.006666666362434626,
          0.003333333181217313,
          0.003333333181217313,
          0,
          0,
          0,
          0,
          0,
          0,
          0,
          0,
          0,
          0,
          0,
          0,
          0,
          0,
          0,
          0,
          0,
          0,
          0,
          0.00416666641831398,
          0.11083332449197769,
          0.29249998927116394,
          0.21166665852069855,
          0.14749999344348907,
          0.029999999329447746,
          0.0416666679084301,
          0.18333333730697632,
          0.09583333134651184,
          0.2291666716337204,
          0.6583333611488342,
          0.11250000447034836,
          0.19166666269302368,
          0.31166666746139526,
          0.1133333370089531,
          0.3333333134651184,
          0.050833333283662796,
          0.006666666362434626,
          0.18666666746139526,
          0.2691666781902313,
          0.46000000834465027,
          0.1041666641831398,
          0.008333333767950535,
          0.007499999832361937,
          0,
          0.005833332892507315,
          0.0008333332953043282,
          0,
          0,
          0,
          0,
          0,
          0,
          0,
          0,
          0,
          0,
          0,
          0,
          0,
          0.28166666626930237,
          0,
          0,
          0,
          0,
          0,
          0,
          0,
          0,
          0,
          0,
          0,
          0,
          0,
          0,
          0,
          0,
          0,
          0,
          0,
          0,
          null,
          0,
          null,
          null,
          null,
          null,
          null,
          null,
          null,
          null,
          0,
          0,
          0,
          0,
          0,
          0,
          0,
          0,
          0,
          0,
          0,
          0,
          0,
          0,
          0,
          0,
          0,
          0,
          0,
          0,
          0,
          0,
          0,
          0,
          0,
          0,
          0,
          0,
          0,
          0,
          0,
          0,
          0,
          0,
          0,
          0,
          0,
          0,
          0,
          0,
          0,
          0,
          0,
          0,
          0,
          0,
          0,
          0,
          0,
          0,
          0,
          0,
          0,
          0,
          0,
          0,
          0,
          0,
          0,
          0,
          0,
          0,
          0,
          0,
          0,
          0,
          0,
          0,
          0,
          0,
          0,
          0,
          0,
          0,
          0,
          0,
          0,
          0,
          0,
          0,
          0,
          0,
          0,
          0,
          0,
          0,
          0,
          0,
          0,
          0,
          0,
          0,
          0,
          0,
          0,
          0,
          0,
          0,
          0,
          0,
          0,
          0,
          0,
          0,
          0,
          0,
          0,
          0,
          0,
          0,
          0,
          0,
          0,
          0,
          0,
          0,
          0,
          0,
          0,
          0,
          0,
          0,
          0,
          0,
          0,
          0,
          0,
          0,
          0,
          0,
          0,
          0,
          0,
          0,
          0,
          0,
          0,
          0,
          0,
          0,
          0,
          0,
          0,
          0,
          0,
          0,
          0,
          0,
          0,
          0,
          0,
          0,
          0,
          0,
          0,
          0,
          0,
          0,
          0,
          0,
          0,
          0,
          0,
          0,
          0,
          0,
          0,
          0,
          0,
          0,
          0,
          0,
          0,
          0,
          0,
          0,
          0,
          0,
          0,
          0,
          0,
          0,
          0,
          0,
          0,
          0,
          0,
          0,
          0,
          0,
          0,
          0,
          0,
          0,
          0,
          0,
          0,
          0,
          0,
          0,
          0,
          0,
          0,
          0,
          0,
          0,
          0,
          0,
          0,
          0,
          0,
          0,
          0,
          0,
          0,
          0,
          0,
          0,
          0,
          0,
          0,
          0,
          0,
          0,
          0,
          0,
          0,
          0,
          0,
          0,
          0,
          0,
          0,
          0,
          0,
          0,
          0,
          0,
          0,
          0,
          0,
          0,
          0,
          0,
          0,
          0,
          0,
          0,
          0,
          0,
          0,
          0,
          0,
          0,
          0,
          0,
          0,
          0,
          0,
          0,
          0,
          0,
          0,
          0,
          0,
          0,
          0,
          0,
          0,
          0,
          0,
          0,
          0,
          0,
          0,
          0,
          0,
          0,
          0,
          0,
          0,
          0,
          0,
          0,
          0,
          0,
          0,
          0,
          0,
          0,
          0,
          0,
          0,
          0,
          0,
          0,
          0,
          0,
          0,
          0,
          0,
          0,
          0,
          0,
          0,
          0,
          0,
          0,
          0,
          0,
          0,
          0,
          0,
          0,
          0,
          0,
          0,
          0,
          0,
          0,
          0,
          0,
          0,
          0,
          0,
          0,
          0,
          0,
          0,
          0,
          0,
          0,
          0,
          0,
          0,
          0,
          0,
          0,
          0,
          0,
          0,
          0,
          0,
          0,
          0,
          0,
          0,
          0,
          0,
          0,
          0,
          0,
          0,
          0,
          0,
          0,
          0,
          0,
          0,
          0,
          0,
          0,
          0,
          0,
          0,
          0,
          0,
          0,
          0,
          0,
          0,
          0,
          0,
          0,
          0,
          0,
          0,
          0,
          0,
          0,
          0,
          0,
          0,
          0,
          0,
          0,
          0,
          0,
          0,
          0,
          0,
          0,
          0,
          0,
          0,
          0,
          0,
          0,
          0,
          0,
          0,
          0,
          0,
          0,
          0,
          0,
          0,
          0,
          0,
          0,
          0,
          0,
          0,
          0,
          0,
          0,
          0,
          0,
          0,
          0,
          0,
          0,
          0,
          0,
          0,
          0,
          0,
          0,
          0,
          0,
          0,
          0,
          0,
          0,
          0,
          0,
          0,
          0,
          0,
          0,
          0,
          0,
          0,
          0,
          0,
          0,
          0,
          0,
          0,
          0,
          0,
          0,
          0,
          0,
          0,
          0,
          0,
          0,
          0,
          0,
          0,
          0,
          0,
          0,
          0,
          0,
          0,
          0,
          0,
          0,
          0,
          0,
          0,
          0,
          0,
          0,
          0,
          0,
          0,
          0,
          0,
          0,
          0,
          0,
          0,
          0
         ],
         "yaxis": "y"
        }
       ],
       "layout": {
        "height": 800,
        "legend": {
         "tracegroupgap": 0
        },
        "template": {
         "data": {
          "bar": [
           {
            "error_x": {
             "color": "#2a3f5f"
            },
            "error_y": {
             "color": "#2a3f5f"
            },
            "marker": {
             "line": {
              "color": "#E5ECF6",
              "width": 0.5
             },
             "pattern": {
              "fillmode": "overlay",
              "size": 10,
              "solidity": 0.2
             }
            },
            "type": "bar"
           }
          ],
          "barpolar": [
           {
            "marker": {
             "line": {
              "color": "#E5ECF6",
              "width": 0.5
             },
             "pattern": {
              "fillmode": "overlay",
              "size": 10,
              "solidity": 0.2
             }
            },
            "type": "barpolar"
           }
          ],
          "carpet": [
           {
            "aaxis": {
             "endlinecolor": "#2a3f5f",
             "gridcolor": "white",
             "linecolor": "white",
             "minorgridcolor": "white",
             "startlinecolor": "#2a3f5f"
            },
            "baxis": {
             "endlinecolor": "#2a3f5f",
             "gridcolor": "white",
             "linecolor": "white",
             "minorgridcolor": "white",
             "startlinecolor": "#2a3f5f"
            },
            "type": "carpet"
           }
          ],
          "choropleth": [
           {
            "colorbar": {
             "outlinewidth": 0,
             "ticks": ""
            },
            "type": "choropleth"
           }
          ],
          "contour": [
           {
            "colorbar": {
             "outlinewidth": 0,
             "ticks": ""
            },
            "colorscale": [
             [
              0,
              "#0d0887"
             ],
             [
              0.1111111111111111,
              "#46039f"
             ],
             [
              0.2222222222222222,
              "#7201a8"
             ],
             [
              0.3333333333333333,
              "#9c179e"
             ],
             [
              0.4444444444444444,
              "#bd3786"
             ],
             [
              0.5555555555555556,
              "#d8576b"
             ],
             [
              0.6666666666666666,
              "#ed7953"
             ],
             [
              0.7777777777777778,
              "#fb9f3a"
             ],
             [
              0.8888888888888888,
              "#fdca26"
             ],
             [
              1,
              "#f0f921"
             ]
            ],
            "type": "contour"
           }
          ],
          "contourcarpet": [
           {
            "colorbar": {
             "outlinewidth": 0,
             "ticks": ""
            },
            "type": "contourcarpet"
           }
          ],
          "heatmap": [
           {
            "colorbar": {
             "outlinewidth": 0,
             "ticks": ""
            },
            "colorscale": [
             [
              0,
              "#0d0887"
             ],
             [
              0.1111111111111111,
              "#46039f"
             ],
             [
              0.2222222222222222,
              "#7201a8"
             ],
             [
              0.3333333333333333,
              "#9c179e"
             ],
             [
              0.4444444444444444,
              "#bd3786"
             ],
             [
              0.5555555555555556,
              "#d8576b"
             ],
             [
              0.6666666666666666,
              "#ed7953"
             ],
             [
              0.7777777777777778,
              "#fb9f3a"
             ],
             [
              0.8888888888888888,
              "#fdca26"
             ],
             [
              1,
              "#f0f921"
             ]
            ],
            "type": "heatmap"
           }
          ],
          "heatmapgl": [
           {
            "colorbar": {
             "outlinewidth": 0,
             "ticks": ""
            },
            "colorscale": [
             [
              0,
              "#0d0887"
             ],
             [
              0.1111111111111111,
              "#46039f"
             ],
             [
              0.2222222222222222,
              "#7201a8"
             ],
             [
              0.3333333333333333,
              "#9c179e"
             ],
             [
              0.4444444444444444,
              "#bd3786"
             ],
             [
              0.5555555555555556,
              "#d8576b"
             ],
             [
              0.6666666666666666,
              "#ed7953"
             ],
             [
              0.7777777777777778,
              "#fb9f3a"
             ],
             [
              0.8888888888888888,
              "#fdca26"
             ],
             [
              1,
              "#f0f921"
             ]
            ],
            "type": "heatmapgl"
           }
          ],
          "histogram": [
           {
            "marker": {
             "pattern": {
              "fillmode": "overlay",
              "size": 10,
              "solidity": 0.2
             }
            },
            "type": "histogram"
           }
          ],
          "histogram2d": [
           {
            "colorbar": {
             "outlinewidth": 0,
             "ticks": ""
            },
            "colorscale": [
             [
              0,
              "#0d0887"
             ],
             [
              0.1111111111111111,
              "#46039f"
             ],
             [
              0.2222222222222222,
              "#7201a8"
             ],
             [
              0.3333333333333333,
              "#9c179e"
             ],
             [
              0.4444444444444444,
              "#bd3786"
             ],
             [
              0.5555555555555556,
              "#d8576b"
             ],
             [
              0.6666666666666666,
              "#ed7953"
             ],
             [
              0.7777777777777778,
              "#fb9f3a"
             ],
             [
              0.8888888888888888,
              "#fdca26"
             ],
             [
              1,
              "#f0f921"
             ]
            ],
            "type": "histogram2d"
           }
          ],
          "histogram2dcontour": [
           {
            "colorbar": {
             "outlinewidth": 0,
             "ticks": ""
            },
            "colorscale": [
             [
              0,
              "#0d0887"
             ],
             [
              0.1111111111111111,
              "#46039f"
             ],
             [
              0.2222222222222222,
              "#7201a8"
             ],
             [
              0.3333333333333333,
              "#9c179e"
             ],
             [
              0.4444444444444444,
              "#bd3786"
             ],
             [
              0.5555555555555556,
              "#d8576b"
             ],
             [
              0.6666666666666666,
              "#ed7953"
             ],
             [
              0.7777777777777778,
              "#fb9f3a"
             ],
             [
              0.8888888888888888,
              "#fdca26"
             ],
             [
              1,
              "#f0f921"
             ]
            ],
            "type": "histogram2dcontour"
           }
          ],
          "mesh3d": [
           {
            "colorbar": {
             "outlinewidth": 0,
             "ticks": ""
            },
            "type": "mesh3d"
           }
          ],
          "parcoords": [
           {
            "line": {
             "colorbar": {
              "outlinewidth": 0,
              "ticks": ""
             }
            },
            "type": "parcoords"
           }
          ],
          "pie": [
           {
            "automargin": true,
            "type": "pie"
           }
          ],
          "scatter": [
           {
            "fillpattern": {
             "fillmode": "overlay",
             "size": 10,
             "solidity": 0.2
            },
            "type": "scatter"
           }
          ],
          "scatter3d": [
           {
            "line": {
             "colorbar": {
              "outlinewidth": 0,
              "ticks": ""
             }
            },
            "marker": {
             "colorbar": {
              "outlinewidth": 0,
              "ticks": ""
             }
            },
            "type": "scatter3d"
           }
          ],
          "scattercarpet": [
           {
            "marker": {
             "colorbar": {
              "outlinewidth": 0,
              "ticks": ""
             }
            },
            "type": "scattercarpet"
           }
          ],
          "scattergeo": [
           {
            "marker": {
             "colorbar": {
              "outlinewidth": 0,
              "ticks": ""
             }
            },
            "type": "scattergeo"
           }
          ],
          "scattergl": [
           {
            "marker": {
             "colorbar": {
              "outlinewidth": 0,
              "ticks": ""
             }
            },
            "type": "scattergl"
           }
          ],
          "scattermapbox": [
           {
            "marker": {
             "colorbar": {
              "outlinewidth": 0,
              "ticks": ""
             }
            },
            "type": "scattermapbox"
           }
          ],
          "scatterpolar": [
           {
            "marker": {
             "colorbar": {
              "outlinewidth": 0,
              "ticks": ""
             }
            },
            "type": "scatterpolar"
           }
          ],
          "scatterpolargl": [
           {
            "marker": {
             "colorbar": {
              "outlinewidth": 0,
              "ticks": ""
             }
            },
            "type": "scatterpolargl"
           }
          ],
          "scatterternary": [
           {
            "marker": {
             "colorbar": {
              "outlinewidth": 0,
              "ticks": ""
             }
            },
            "type": "scatterternary"
           }
          ],
          "surface": [
           {
            "colorbar": {
             "outlinewidth": 0,
             "ticks": ""
            },
            "colorscale": [
             [
              0,
              "#0d0887"
             ],
             [
              0.1111111111111111,
              "#46039f"
             ],
             [
              0.2222222222222222,
              "#7201a8"
             ],
             [
              0.3333333333333333,
              "#9c179e"
             ],
             [
              0.4444444444444444,
              "#bd3786"
             ],
             [
              0.5555555555555556,
              "#d8576b"
             ],
             [
              0.6666666666666666,
              "#ed7953"
             ],
             [
              0.7777777777777778,
              "#fb9f3a"
             ],
             [
              0.8888888888888888,
              "#fdca26"
             ],
             [
              1,
              "#f0f921"
             ]
            ],
            "type": "surface"
           }
          ],
          "table": [
           {
            "cells": {
             "fill": {
              "color": "#EBF0F8"
             },
             "line": {
              "color": "white"
             }
            },
            "header": {
             "fill": {
              "color": "#C8D4E3"
             },
             "line": {
              "color": "white"
             }
            },
            "type": "table"
           }
          ]
         },
         "layout": {
          "annotationdefaults": {
           "arrowcolor": "#2a3f5f",
           "arrowhead": 0,
           "arrowwidth": 1
          },
          "autotypenumbers": "strict",
          "coloraxis": {
           "colorbar": {
            "outlinewidth": 0,
            "ticks": ""
           }
          },
          "colorscale": {
           "diverging": [
            [
             0,
             "#8e0152"
            ],
            [
             0.1,
             "#c51b7d"
            ],
            [
             0.2,
             "#de77ae"
            ],
            [
             0.3,
             "#f1b6da"
            ],
            [
             0.4,
             "#fde0ef"
            ],
            [
             0.5,
             "#f7f7f7"
            ],
            [
             0.6,
             "#e6f5d0"
            ],
            [
             0.7,
             "#b8e186"
            ],
            [
             0.8,
             "#7fbc41"
            ],
            [
             0.9,
             "#4d9221"
            ],
            [
             1,
             "#276419"
            ]
           ],
           "sequential": [
            [
             0,
             "#0d0887"
            ],
            [
             0.1111111111111111,
             "#46039f"
            ],
            [
             0.2222222222222222,
             "#7201a8"
            ],
            [
             0.3333333333333333,
             "#9c179e"
            ],
            [
             0.4444444444444444,
             "#bd3786"
            ],
            [
             0.5555555555555556,
             "#d8576b"
            ],
            [
             0.6666666666666666,
             "#ed7953"
            ],
            [
             0.7777777777777778,
             "#fb9f3a"
            ],
            [
             0.8888888888888888,
             "#fdca26"
            ],
            [
             1,
             "#f0f921"
            ]
           ],
           "sequentialminus": [
            [
             0,
             "#0d0887"
            ],
            [
             0.1111111111111111,
             "#46039f"
            ],
            [
             0.2222222222222222,
             "#7201a8"
            ],
            [
             0.3333333333333333,
             "#9c179e"
            ],
            [
             0.4444444444444444,
             "#bd3786"
            ],
            [
             0.5555555555555556,
             "#d8576b"
            ],
            [
             0.6666666666666666,
             "#ed7953"
            ],
            [
             0.7777777777777778,
             "#fb9f3a"
            ],
            [
             0.8888888888888888,
             "#fdca26"
            ],
            [
             1,
             "#f0f921"
            ]
           ]
          },
          "colorway": [
           "#636efa",
           "#EF553B",
           "#00cc96",
           "#ab63fa",
           "#FFA15A",
           "#19d3f3",
           "#FF6692",
           "#B6E880",
           "#FF97FF",
           "#FECB52"
          ],
          "font": {
           "color": "#2a3f5f"
          },
          "geo": {
           "bgcolor": "white",
           "lakecolor": "white",
           "landcolor": "#E5ECF6",
           "showlakes": true,
           "showland": true,
           "subunitcolor": "white"
          },
          "hoverlabel": {
           "align": "left"
          },
          "hovermode": "closest",
          "mapbox": {
           "style": "light"
          },
          "paper_bgcolor": "white",
          "plot_bgcolor": "#E5ECF6",
          "polar": {
           "angularaxis": {
            "gridcolor": "white",
            "linecolor": "white",
            "ticks": ""
           },
           "bgcolor": "#E5ECF6",
           "radialaxis": {
            "gridcolor": "white",
            "linecolor": "white",
            "ticks": ""
           }
          },
          "scene": {
           "xaxis": {
            "backgroundcolor": "#E5ECF6",
            "gridcolor": "white",
            "gridwidth": 2,
            "linecolor": "white",
            "showbackground": true,
            "ticks": "",
            "zerolinecolor": "white"
           },
           "yaxis": {
            "backgroundcolor": "#E5ECF6",
            "gridcolor": "white",
            "gridwidth": 2,
            "linecolor": "white",
            "showbackground": true,
            "ticks": "",
            "zerolinecolor": "white"
           },
           "zaxis": {
            "backgroundcolor": "#E5ECF6",
            "gridcolor": "white",
            "gridwidth": 2,
            "linecolor": "white",
            "showbackground": true,
            "ticks": "",
            "zerolinecolor": "white"
           }
          },
          "shapedefaults": {
           "line": {
            "color": "#2a3f5f"
           }
          },
          "ternary": {
           "aaxis": {
            "gridcolor": "white",
            "linecolor": "white",
            "ticks": ""
           },
           "baxis": {
            "gridcolor": "white",
            "linecolor": "white",
            "ticks": ""
           },
           "bgcolor": "#E5ECF6",
           "caxis": {
            "gridcolor": "white",
            "linecolor": "white",
            "ticks": ""
           }
          },
          "title": {
           "x": 0.05
          },
          "xaxis": {
           "automargin": true,
           "gridcolor": "white",
           "linecolor": "white",
           "ticks": "",
           "title": {
            "standoff": 15
           },
           "zerolinecolor": "white",
           "zerolinewidth": 2
          },
          "yaxis": {
           "automargin": true,
           "gridcolor": "white",
           "linecolor": "white",
           "ticks": "",
           "title": {
            "standoff": 15
           },
           "zerolinecolor": "white",
           "zerolinewidth": 2
          }
         }
        },
        "title": {
         "text": "BSF 1H"
        },
        "width": 800,
        "xaxis": {
         "anchor": "y",
         "domain": [
          0,
          1
         ],
         "title": {
          "text": "x"
         }
        },
        "yaxis": {
         "anchor": "x",
         "domain": [
          0,
          1
         ],
         "title": {
          "text": "y"
         },
         "type": "log"
        }
       }
      },
      "text/html": [
       "<div>                            <div id=\"e9abc962-a090-44d5-9a6e-f64a6ecc0a44\" class=\"plotly-graph-div\" style=\"height:800px; width:800px;\"></div>            <script type=\"text/javascript\">                require([\"plotly\"], function(Plotly) {                    window.PLOTLYENV=window.PLOTLYENV || {};                                    if (document.getElementById(\"e9abc962-a090-44d5-9a6e-f64a6ecc0a44\")) {                    Plotly.newPlot(                        \"e9abc962-a090-44d5-9a6e-f64a6ecc0a44\",                        [{\"hovertemplate\":\"x=%{x}\\u003cbr\\u003ey=%{y}\\u003cextra\\u003e\\u003c\\u002fextra\\u003e\",\"legendgroup\":\"\",\"marker\":{\"color\":\"#636efa\",\"symbol\":\"circle\"},\"mode\":\"markers\",\"name\":\"\",\"showlegend\":false,\"x\":[0.0002138092407714537,-0.001335949234655704,-0.0005356243106540114,-0.0015953670811820614,-0.0020130575141052987,-0.0013345921235519143,-0.0015682911051710657,-0.0013572568128324344,-0.0012486873751349492,-0.0025927732314580468,9.599015700859082e-05,-0.0007451822673705949,-0.0007493035729210576,0.0008571153554685733,-0.0007765829365424057,-0.00013818517529529117,-0.0004434282088682136,-7.303308988563725e-05,0.0022766901644904677,-0.00045862163324154534,6.513928491615022e-05,-0.00021969763175396298,-0.001252398143459267,-0.004929371792192525,0.002860641862209294,0.0063049643882967105,0.0006829278959895706,0.006207126811066388,-0.0013970810803605668,0.02610526526641621,0.01141015109328692,0.006522159954219113,0.0006534484537073365,-3.986107629019853e-05,0.00018783334960343137,0.004016661477769572,0.0006388628801268226,0.005024613580410964,0.004292481623808207,0.0022368730490474747,0.020718492544448158,0.014132982130731145,0.006395943733425705,0.00838360060116885,0.004663850169319209,0.016484688129392258,0.008401962080069741,0.01199316624337459,0.0038836685352710842,0.002093036138299219,0.00040892017796068797,-0.002872914437451364,-0.0011217012903360982,-0.0005293897617492209,-0.0019153270555136714,-0.0003153581002498171,-0.000765273920690427,-0.00043898505927823794,-0.00042798360307511746,-9.605773859533429e-05,-0.0002651551637250574,-0.0003198979507609348,0.00011599998679182738,0.00015650777287461938,0.0005342833893742238,-0.0023321891484522593,null,null,null,0.00721684755538633,0.00042010632982202186,3.9136677542986505e-05,-0.00014900747996194133,-0.00012475198013817135,-0.00017877914271953455,-6.748195503942372e-05,0.00034768902812883085,4.124766031488058e-05,-3.051744506639767e-05,2.3448337296529814e-05,-0.00030210206787018024,9.330203509231791e-05,-0.00016816684729903386,-0.009656136123845097,-0.005628054572236842,0.00015748065114134374,0.0012200503072840665,0.001014499009793706,0.0004040271138725515,0.0005548626851163974,0.000512569896244092,0.0012936142763556452,0.0006957035309953785,-0.00011631441852067576,-0.0007009269936486054,-5.927386950510538e-05,-0.0006750637389458768,-0.00033930141293343763,-7.794574263778747e-05,-0.00034294992107753927,1.5561377373057156e-05,-0.0058912883075029985,-0.0006061347451466262,-0.0007580049365224634,-0.00037144825147489985,0.00023329054588494547,0.0009980454802328668,-0.0004265987078326816,-0.0005285478026901061,-0.00019812008965658032,0.004411852572939114,0.009428728403991712,-0.006638214398749814,-9.30581250718418e-05,0.0020258465861843836,0.0024412482636648747,0.00613576785786929,0.005271608014550977,0.0030162178602056097,0.002605775089605602,0.0037414542867198163,0.00047248156870852154,0.003570340025434226,0.003795794566601767,0.005791028093104458,0.004909026143255654,0.004547446747420024,0.0003134980390034625,0.007121879236356911,0.009704160415443162,-0.006536915152120543,-9.714169731920436e-05,0.002638700869548859,-0.00018727714200474782,-0.00045648723378318573,0.001736637412852654,0.001168764649034107,0.0018572854261643956,0.001619705402030533,0.001775789968414541,0.011960488576086045,0.006986014168311461,0.002879587165886162,0.0021530002182426587,-0.0015104501132267144,0.0261805014801304,null,null,null,null,null,null,null,null,null,null,null,null,null,null,null,null,null,null,-0.0017588114030281238,9.967742170285347e-05,0.0009900047329169928,-0.0009782366246173543,2.788825497804237e-05,0.00010133078989977597,-0.0005839598234231858,-0.000381409630588473,-0.0004358412901768931,6.833435584495048e-06,0.00029556617358631604,-0.0014833480788685911,0.0013865877317481203,0.0025880343480793044,0.0024074518664794695,0.006625051789350737,0.010597908723694063,0.0036834092028604887,0.0045709993531895254,0.0056060732196409405,0.0037245696400229206,0.003899455040794919,0.004419022681229734,0.0021297965002418096,0.002848896413530995,0.0014100902108561755,-0.0004755721274332086,-0.0010098120068814977,-0.0015780657794392805,-0.0010279082588331434,-0.00024438264733876204,0.00042183735569088776,-0.0010628095814391404,0.0003256015985917196,0.0013144364825183885,4.61714246095344e-05,-1.0995571765662349e-06,0.0008214033978369978,-0.0003732494074873815,-6.673531576151248e-05,-0.00047424154566517995,0.0005087146419189281,-0.0009157800233132,-1.7475941227473868e-05,-7.206698190890398e-05,9.110780515679106e-05,0.0005216698045309442,0.0007534769601315664,0.0005210804843158476,-6.0397735838385244e-05,-0.0013641427307745507,0.0012229766460431363,0.001306363881115248,-0.0035479116821382686,-0.0013262728788472349,-0.0025387915962795655,-0.0003768727400288441,-0.00013839485917128275,0.000245222072567549,-0.0009073678244264846,-0.00022021387617243704,-0.00029637918762167453,-0.0002732193917449853,-0.0001007172537133734,0.0011628153404904251,0.00029545075934855197,-0.00044643843479066567,-0.0006474611517537573,3.919321610623694e-05,-4.049847156285661e-05,0.00032544006094110186,0.0005989928177948887,-0.0010944331347224607,-0.0003508974207306892,-0.0004940674616638815,-0.002044075794888891,0.0002487064686101069,-0.0016879450859637012,-0.0014567110763105545,-0.001330479173589083,-0.0012043351651244236,-0.0006992311138345475,-0.0013838061441755964,-0.00029098822073652525,-0.0006611856385821541,-0.0009185899227625166,-0.000778221096824596,-0.0006166540895708988,-0.0003103539081337134,-0.0003951086604922008,0.00042828423770895074,-0.00014487373950089477,0.0003175179758478919,-0.00024210559088189143,-0.0009035449009314744,-0.00063738246980094,-0.0008948907273034941,-3.917392448354179e-06,-0.00022699258016069257,-0.0014544052844864125,-0.0025584288650822157,-0.0037650947038135527,4.329977277666916e-05,-5.7080088024484554e-05,-0.0008364593670617294,-0.0002911172810939888,-0.000633165268752317,-0.00033092345839769166,0.00047745355963376215,0.0012329377786407156,0.0007251187478792831,0.0023247442998845028,0.0023929552847903254,0.002566935857880516,0.0026049899679500086,0.003387894552545054,0.0037524087637379397,0.003172024323696121,0.009556147004814525,0.007510997043433387,0.0037091616493611923,0.014943637021190156,0.007839564357805917,0.0014631041786022508,0.006451545784126253,0.01114657176590901,0.006823730261065961,0.01071271622973629,0.004952290286410407,0.0037121851630502953,0.0021920418979751444,0.001621784718243667,0.0015472252903209333,0.0022088711543229445,0.0012071923769620269,0.0005428985693202507,0.0018700151137222912,0.0006728004550266842,0.0003919673491073663,0.0008413458033460774,0.004050417762248543,0.00491284705184411,0.00970628930270341,0.009317130905395904,0.00761363244190251,0.00956235786870567,0.006658540631001131,0.006258968026851164,0.005238619347404466,0.005826870615436519,0.005756598647105093,0.0038411238435745454,0.0034758350295792106,0.00605251183269849,0.005881951127479287,0.006034525109138655,0.0047003792693642715,0.004712482360685527,0.004541255508020953,0.004956266834312842,0.004277721178544733,0.0036765841649797626,0.003810293007398338,0.004830296782077748,0.008207465885620963,0.011262213248267969,0.010780528042747761,0.010729244213810801,0.008338704232605451,0.005163441899076325,0.0016603425577343955,-0.0003958295754150215,-0.0007214717870335507,-0.0007055798147506329,-0.00014052792732144326,-0.000814195948991344,-0.0004668058693207064,-0.0004776136623452949,-0.0003403997502867545,-0.0003716504389702866,-0.00034076976376197325,-0.00040322585794486804,-0.0003597355691427259,-0.0007341149891115263,-0.0005391532442434108,5.824077797219468e-05,-0.00025712515380899373,-0.0005789511021016365,-0.0002986904016351907,-0.0006002255284780489,0.005979799378602588,0.007046777509022689,0.008408114975132122,0.006478039259033688,0.0029457907770825617,0.0036127762880132364,0.0019006897443235929,0.001300461552472612,0.0018968423271914503,0.003971549052728167,0.0030378939685861348,0.0011306738294799765,0.000237295661167522,-0.00020090301725220888,0.000697096228404033,9.508039403115232e-05,-0.0005020523272444635,-0.0004461361814323238,-0.0003112297897708647,-0.0002967943366145795,-0.00036228673021969013,0.0006050758260048254,-2.5134584306212363e-05,0.0008001531679286229,0.0014970898892709232,0.0034370772524524463,0.00501371160239867,0.0024120449204442854,0.0001603349911402721,-0.00013879289825524666,-0.000332949940133484,-0.00038527814032975755,-0.0004466135140527641,-0.0010214992573468855,-0.00045074376228369795,-0.00046079231465216003,5.99109208424195e-05,0.0004744147012033899,0.000100817086361598,1.4751846049106121e-05,0.0004219154826330396,-8.551809991470816e-05,0.0005715135328415132,-0.00017017180837875998,-0.00021338042977465943,-0.0006233483105558477,-0.0005059215958449492,0.00012090279701304323,0.0006310632262310403,1.659479968177044e-05,0.0026984238899648476,0.00021169717030480612,9.297673660550385e-05,-0.0006555098477873701,-0.00017911433582540326,1.589993844675064e-05,-2.7557279133200163e-06,-5.778623453048942e-05,-0.0004488677625921096,-0.0005927237468345559,-9.313429235330989e-05,-0.0005629392943890393,5.431311991561244e-06,0.00016793455061127338,-7.776478446430701e-05,-1.2951656939985678e-06,-0.0012060688489725635,0.00027582099194568485,-0.0005517990058992138,-8.067963723431756e-05,-0.0003142653266751024,-0.00014047834357433509,0.0004671357353199417,0.0008420806295018255,0.000884459224935713,6.348874056537508e-05,-0.0003094308705916156,-9.975880270785692e-06,-0.00035940602024907287,-0.00033587616477880056,-0.0008772718983471144,-0.001119718210324385,-0.0006445535145268647,-0.0006001379316431729,-0.00048093658962026706,-0.0007070543316067095,-0.000632727302240078,-0.0004469876953964516,-0.0004894222376380028,-0.0004906882191259392,-0.0005666278757116873,-0.00027536556416209515,-0.0010158302762673516,-0.00020145719615961497,-1.6943264015503202e-06,0.0007511931854734164,0.001342427029381662,0.002977819357060282,0.0033162476286268117,-0.00014797215235799223,-0.0005569355915498644,-0.00010926193243321336,-0.0002483030942623081,-0.0007315150733373001,-0.0008281848825504277,-0.0006499451799246714,-0.0003548007905129491,-0.0008267696518659828,-0.0006127056284697084,-0.0005448195041607776,0.0001312030732911751,-9.614616931013023e-05,-3.339753016520092e-05,1.0300270787411137e-06,-0.000719724383112047,-0.00023944642954158019,-0.00047721709850929994,-0.00010047034471227789,0.00018746026691710688,0.00048594256206187713,0.0012262706646346544,0.0014569879700300579,0.0027197443478270446,0.0013415681594888765,0.00017478108773201842,0.0012465101774492074,0.000145577360954538,-0.0003334598434720053,0.0007126317641118901,-0.013937698168145829,0.00014915516335634038,null,null,null,null,null,null,null,null,null,0.0008534316504740999,0.001384563220192092,0.002911494234271096,0.007001123603495547,0.007885244280644223,0.011574855085728558,0.006410992293220147,0.012485746261887726,0.012886318718749137,0.00854570950536035,0.012701956153553032,0.022065013078538698,0.019352012350685607,0.023618179742104298,0.021890832774141458,0.030237470343281198,0.025570339885874996,0.02675550601265464,0.024941854934455582,0.024562394771966936,0.036562007022486076,0.03806579238620995,0.04051284939512654,0.028068352671848963,0.02789505280073475,0.02039602453277685,0.015088727248692516,0.01674311835108629,0.012364861278492494,0.014837935012048813,0.015295233471040292,0.012441267268675758,0.006444180252994078,0.008695100075375044,0.006309478116794252,0.008497891976592441,0.002772737248022553,0.003934697814251428,0.004175100839506068,0.00425019446179579,0.0074283796293628974,0.005540379333475521,0.002848733846313187,0.00065413618103226,0.00013207616400083035,-0.0008913581925464355,-0.0002625240046499541,7.444821335569896e-05,-0.00040318260515921633,-0.0004688444229713363,0.0004903226069331692,0.0028885814412044682,0.002319676444820116,0.004750201141190796,0.0031264802178888732,0.0012884757473010412,-0.00011912937533666706,-0.00013797482565061983,-8.675748165900589e-05,0.00025901481659228523,0.00020806879703864477,-5.154864726778646e-05,6.893330494664104e-05,-0.00041171297831965603,-0.0002413554521237815,0.0006952907363004061,-0.0005353532161684882,-5.594982988184685e-05,0.0031262804543463266,null,null,null,null,null,null,0.000158309691940417,0.0073001132060615676,0.008654843420771975,0.008152194603018772,0.006740351594579086,0.004456907286522004,0.0012342309696104364,0.0009564582087856861,-0.0013303649295816414,-0.0016392904947840209,0.0006451665625648827,-0.0002749521349472892,-0.0001544393322805912,-0.00021870088417743488,-0.0006354373355173699,1.9495286570497816e-07,4.84191751202942e-05,-0.0003488459123006868,-0.0004513609958907393,0.0004705405312499522,-0.0004198824441503865,-0.00010912024541889428,-0.00017866205409368136,0.0008547116316866728,-0.002425291797650016,0.00367621452691147,0.010141622867891442,0.013471637436876127,0.008820135794774989,0.008116980599286047,0.002010938704366874,0.0005944769270413985,0.00034222253481194786,-0.00019588456540257926,-2.7251735949723743e-05,0.0025988985569534717,0.0007043888186848216,0.0018348536829530249,0.001726137642341058,-0.0004865052064081041,-0.0007992110045144732,0.00045478033156598485,0.002353944545898254,-0.0007475019107682571,-0.0008543087111476666,-0.001204418741948406,0.001528079466635763,0.00010093790035251016,-5.610757552506219e-05,0.001989507104091272,0.001180783035544191,0.0031243316258791273,0.0001173581819181712,-3.389150169929786e-05,-0.00012139684329978695,0.0007915306217157886,-0.00022845017629909495,-4.127285485762411e-05,9.46259496471917e-05,-0.0002692130711968374,-7.305245758399206e-05,-0.00011382494228347195,-0.0008810160766917624,0.00026491054690364405,-0.0005989360523462467,0.0006901377124477956,-0.00021455703367223578,0.00014472308067246982,0.0003778742385165401,-0.00033094221459843004,2.2512378876478507e-05,-6.883844060191074e-05,-7.57129319559624e-05,0.000363792302358161,0.0011265306824478002,0.005373849505456718,0.007639317283805031,0.0023204802667308733,0.0015404771542225756,0.009313950581549057,null,null,-0.00036460829857295346,-0.0010004335523458724,-0.0010312702080668146,-2.745729565371835e-05,-0.0002917375637684072,-0.00041317185641610854,-0.00019517345245469164,-0.00030302777852971377,-0.0003863680007529062,-0.00014298285858879885,-0.0002892369828065462,9.683121763703981e-05,4.4741870342769694e-05,0.0003622185135689904,0.0009161862974761507,0.0020764709704605977,0.002217621242052086,0.0006230994670571484,5.539802469988614e-06,1.7418840206969918e-05,0.001339912378027306,-0.0004413866628709684,-0.0014543371608439805,-0.0025177318507745503,0.000989019516614089,0.0005363942701028064,0.0031069806744697575,null,0.0040298427126863635,0.0013095081632172878,1.9007838029279356e-05,0.0003865788052009739,-0.00012278679662585616,-0.0003015281961111782,-0.0002609442268225841,0.0003614137703588458,0.0022831533867960635,0.0026834202397492887,0.0029075235527970134,0.005304950654011268,0.0052237937237660965,0.004492339813867752,0.005589569209430323,0.003051702744507955,0.0011145030804087241,-0.0010601760234578705,-0.0006540289789889152,-0.00010997539860547849,-0.000323321117839526,-0.0007395352424717401,0.00026187507861013745,-0.0002665455759298923,0.000493643250940444,-0.0001323060180595803,0.0004331777349827117,-0.0006505738062185049,0.00016514581888789782,0.006445816112115921,-0.004938637945292455,null,null,null,null,0.00037019325045559376,-0.001971075211745048,0.00035560148613456,2.661036828167777e-05,-7.46609964747772e-05,-2.518433923230992e-05,0.03549113866382017,null,null,null,null,null,null,null,null,null,2.5812890482868056e-05,7.212498682828902e-05,-0.0005080866919079177,-6.408254607966762e-05,0.0004887037643488395,0.00026291361315274476,0.00042429072383705704,-0.0009330940006625071,-0.0003565937116783626,0.000417589110716419,1.950323260441547e-05,0.00975806574513409,null,0.0044452051549102025,null,null,null,null,-0.0008625265818172911,0.0008591467234597971,0.0002634421010346555,0.001286186493847652,-8.603276683850913e-05,0.00012267934322411633,0.0011923762619719114,0.0015402201053602224,-5.878341045543502e-05,-0.00096065239517726,-0.001993458545257454,-0.0003764458017359376,0.0030567842533611653,0.0006343662436449904,0.0020702471614547427,null,null,null,null,null,-0.0002751386367533873,-0.0007191995708006153,0.003955035604956395,0.012988734592593369,null,null,null,null,null,null,null,-0.008006312767641077,-0.00187029761593808,-0.00033993456368482567,-0.0001252466916387765,0.00025323339755716715,0.0025181046287493618,0.0025668567267066057,0.0014981127446533904,0.002522793543465617,0.0001319419118214326,2.1559156849390235e-05,-0.00019681535445946474,-0.0013375324765515142,-0.00040104355801674416,-0.0002942464728003316,0.00032389246964944357,0.0027447038520133707,-0.09733950032540908,null,null,null,null,null,null,null,null,null,null,null,null,null,null,null,0.005332096680812013,0.0032029647917285083,0.001455358818554707,4.9426279521942035e-05,0.0028266796658067694,0.0009380987347379736,0.0016065028930364192,0.0031119812780436486,0.003853088119761594,0.0025789820035129196,0.002355742019026434,0.002433983669650826,0.0021342857879604635,0.0030228212725518233,0.003362333346202581,0.0034805966796486038,0.0023770479320358957,0.0030634610348092804,0.0017692480533743442,0.0014557620239809,0.0054051953037408396,0.007529898941994715,0.0122051877785378,0.01007540764097925,0.009203650190175671,0.004936190732598433,0.0020063203330966672,-0.00012507334743232928,-0.000690165569507073,-0.0018232233203260891,-0.0017335657972539463,-0.0007507280974279086,0.0004898782167007086,-0.0005244268408475215,-4.608094276292718e-05,-0.00024280785852276963,0.00037945728666323106,0.0005158057881136102,-4.03672755958772e-05,-0.00030480602060794365,1.8742239623985128e-05,0.00017909127194975366,-0.00010505614885013455,-0.0005258305024327115,-0.00021042280977528333,0.0003257230725735019,0.0016719678892750754,0.001154337248110572,0.0012763166988717005,0.0002945927926576702,7.722726512800898e-05,-9.255362864262623e-06,-6.94900862564865e-05,-0.0003712867016518982,-0.00011291052682022538,-0.00040727035950105343,-0.00035216690825615876,-0.00028155236255145155,-0.00024325399128599656,-0.0003397535024281702,-0.0004978605148377481,-0.0003785195583658474,null,null,null,null,null,null,0.0013581550710881768,0.0006872231163903564,0.002290903791341614,0.004173068967120969,null,null,0.004425186995705294,-0.003290081635528845,0.0014521254467870365,-2.773259589774861e-05,-0.0010524740103872894,5.806057300124668e-05,null,null,null,null,null,null,null,null,null,null,null,null,null,null,9.692782896624733e-05,-0.0003767471154618972,-0.0001976270651522019,-0.0005268321579121604,-0.00047119203964029674,-0.00021412874319655818,-0.0005489755507037467,-0.001285870378959924,-0.0012623151230656635,-0.0008868710437488249,-0.00045019758364232484,-0.0003478846050136838,-0.0006103929217191589,-0.0004395086543326583,0.00011371859603576725,-0.00025564575217518204,0.00015619728313673656,-3.806701242422064e-06,-0.0007780787950082413,-0.0006426571394537953,-0.0003343392892531929,6.567510664171983e-05,-0.00036359714342045456,-0.0001552153959772564,0.0005609214981039138,0.000965077796862958,0.00047319476047954015,0.0003886490617250136,-0.00036000456283325974,-0.0006499408574794545,-0.0011306508137533602,-0.0006031898925965666,-0.003170665977403786,-0.0012699231602293845,0.00012905780307193027,-0.0008363242298621287,-0.0007191546345648439,-0.00018783748842723415,-0.0003765846707247285,-0.0002879763164594304,-0.0001344009435438262,-0.0003026579618487339,-0.0002663849812047179,-0.0006679211517146809,-0.000741499344163898,0.00010364574183288318,0.00023194074991798354,0.0004277788982850108,0.0011482866647610163,0.0015628973202425431,0.0016527767039035508,0.0004868845987387911,0.00011891916480640322,-0.0005270569745701864,-2.0342261331206257e-05,-0.0021323088176461932,-0.00042758555890282796,-0.00041409424433365774,0.0019187687190815369,-5.928185392889071e-05,-0.00014970346359424426,-7.926693082457859e-06,0.008753977195751933,null,null,null,null,0.0005593134874300673,null,null,0.0010689305347979308,-0.0031748460288199,0.00453315834442157,0.006381265558520251,0.008396688298262227,0.002801158920339805,0.005328055797084532,0.00010358532972847695,-0.0016648802891690434,0.000813884986244337,0.006136442672463709,0.0009949581071266728,-0.008167146025673193,5.212469067138355e-05,0.001227546487198302,null,null,null,null,-0.0014796747923578137,-0.0017626291863825638,-0.001127543322556157,-0.00016969758169782696,0.0006752599827984547,0.000824881173339044,0.0058553962271932734,0.005192885676475554,0.010540067270979177,0.011351364286788214,0.004555011066549805,0.0026353348916193405,0.002136405351194526,0.001377145783145295,0.00199266105257815,0.0020341617390514655,0.0008396581458845892,0.0015779999599432465,-0.0005362888185904968,-0.0017367574224111948,-0.0010759173385252868,0.001256470886112717,-0.00012206653553311232,-0.00019314633177853167,0.0005657485313226294,0.00023436693241249938,-0.00043957809013919075,0.0001347257182640802,0.0003591957495412664,0.00015203579588648174,-0.00018354777474469293,-9.089211624761328e-05,0.0008394504684629614,0.0007877128656071063,-0.00020689653603620222,-0.0002899738749041099,-0.00035522548790526895,-0.0006157778158299224,-0.0005336002764243137,-0.0013736224006161563,-0.0007904634829853929,7.495165882267759e-05,4.181347794392654e-05,0.0007870705490028579,-0.0001729294250960578,0.0009841602620890063,0.0011728011040753224,0.00019244639553628318,-0.00020876331128663259,0.0008693912271324272,-0.0005703793866869353,-4.376686302758406e-05,-0.000106998850894751,-0.00013320485990764123,-0.0011379360610924826,0.0005165692796779017,-0.000582200372452392,0.0018227613051864655,-0.0010053882793291322,-0.00024180347241387068,-0.002811204206027984,-0.0021645270964394878,-0.0009136849627922796,-0.0027151094445715274,-0.0001221395287589952,-0.00012211292161110401,-0.0001139592903633968,8.035194410441031e-05,0.000338609706012862,0.0004905884876529806,-0.00039993870906071885,-0.00019925849675159375,0.00023518542581789197,1.6379022886229763e-05,-0.00014512759018834036,-0.0001638947948619943,0.00037835702227084766,4.070839240514004e-06,0.00037182010997188156,0.004546972402299804,0.0030757595880569824,0.0016559417222531767,0.0018985886807456644,0.007829394199576671,0.002504109554809328,0.0005724507551395086,0.0008551773460158014,-0.0003774273983410126,-0.0002858585922967826,-0.0009774930830423285,-0.0006229127344947009,-0.00032836154306102594,-0.00015680586443996697,-0.0002607778818044283,0.0008923725171766034,null,null,null,null,null,null,null,null,null,null,0.0006943310056160001,0.0003527014304746494,0.0007285845806800743,-0.0008764512259733931,-0.00014293011038309447,-2.666266281928925e-06,-0.001259519689528173,null,null,-0.0006762494749038925,-0.009251991319944844,-9.667132955114982e-05,0.0025061073844329443,0.005090713942850112,null,null,null,null,null,null,null,null,null,0.0005510790889881392,0.000544814825456548,0.0002382506176419122,0.0004454620065025214,0.00010659729996910505,-0.005990821317528764,null,null,null,null,null,null,null,null,null,null,null,null,null,null,null,null,null,null,null,null,0.01379514012593741,0.0024449253240457942,0.001969890911725017,0.0003504110647185093,-0.0011997291272193601,0.0021902060749236334,0.002565724471449555,0.0005955182791730369,0.0015003283111996186,0.0006239044393434342,-0.000446571364319828,-0.0005844758535830229,-0.00023785823221267322,-0.000500279451147178,0.00014980622436174505,-0.00022784747608114043,-0.003996776758276847,0.0009035043081217775,0.0028786620890725867,0.0054822012483274896,0.007762503184476396,0.010834203257187383,0.00913857589756617,0.00958895756247971,0.007957288666402697,0.00602988310499579,0.0018772398897084486,-8.225117536881429e-05,-0.0013659733042340819,-0.0013564985017700953,-0.0009684307661958578,-0.0013847579485651482,-0.0011173604885988848,-0.0007213527211500925,-0.000277631116616087,-0.00018026059342446214,-0.0002434349282142527,2.843114770298763e-05,0.00020876771189026755,-0.00013521767970203769,-0.0006389284983085251,0.001330747422943368,0.0005050777181365498,-5.3963470964794695e-05,-9.964242382309949e-05,-2.841770752443594e-05,0.001377977388969498,0.0006203901723187872,0.0006131043377101512,-0.000743177216830186,-0.00178523925748021,-0.0009028001173866755,-0.0009944032462533628,-0.0012520747564587333,-0.0015532712205065988,-0.0008593233406181495,-0.0005492509559067819,-0.0007244449898053951,-0.0009441509709602822,-0.0004266939841259072,-0.0014570429228666108,-0.0009503523714057887,-0.001341991297054355,-8.960968310588353e-05,-0.0009939180883338965,-0.0002707012362077599,-0.0001660794901171183,-9.719523028313935e-05,0.0006307490559874414,0.0004718559921502597,0.00017240282921547612,0.00038361859546161736,2.530686416789621e-05,-3.0900125649865884e-05,0.0002075104495216822,-0.00013411729892694527,-5.831279003606048e-05,-0.00034647938135910945,-0.0007834936923930926,-0.0017983605169623225,-0.0005894133742672877,-0.0016420738901577608,-0.0012205088193132,-0.0007587013361545457,0.00029201036352737887,-0.00010911594271413409,-0.0022830647629685785,-0.001385109295382686,-0.001468409482329451,-0.002161289668272115,-0.006842108512065792,-0.0006932026998919881,0.00010731601352503145,0.004049176569762069,0.007119254282442037,0.005720862936304706,0.007434136135985779,0.006766690885505175,0.004332450858965352,0.001408587007669354,0.0016486487213687867,0.002519359449422609,0.0023543714139182964,0.0016645389050609083,-0.00018436075117422536,-0.0008035153346239712,0.00011573720095034955,0.0007686247149559927,-0.000557099913605974,0.0011768408253528158,0.0001934763996878086,0.0009182008752752022,0.0002531603661886095,0.00021528912359487047,-0.00022335941341526146,0.001042995718125027,0.00021440484689690554,0.0006607829308219091,0.0017275041468742813,0.0012999943737218196,0.0006341352098713964,8.377784938357578e-05,-0.00011162488828869027,8.055336897427965e-05,-0.0004867719856395964,-0.0004372005805649941,-0.0007807343560988726,-0.0006834874277019901,-0.0006239548825435464,-0.00023318054071689437,-0.0001976556372380832,-0.0004502967022566775,-0.00017998144609994784,9.107457017254461e-05,-0.0005010936998604762,-0.001241608091558858,-0.00011679700765535907,-0.0003906113455594013,-0.0010142206605348036,-4.762513787387804e-06,0.00012617494794425136,0.0009980425292415163,0.0021572190318680136,0.0028330388192894726,0.0029363433964204877,0.00038936661239041825,-0.0007408845374005726,-0.00022389009942802574,-0.0020623458170542595,-0.000808188829186797,-0.0009447017668399067,-0.0008038618199457637,-0.0011892789926481514,0.00041094122540612926,4.424925406117802e-05,0.0006777619102750088,0.0002691572751195477,6.1011070605510725e-05,-0.0003512113105300753,0.00026649988920566126,5.453179303908408e-05,-0.0004879449710462787,-0.00016644714223771652,-6.63318175787948e-05,0.0027064206624638487,0.0045834393871976645,0.004817168423607724,0.00470660117315728,0.004857187345538428,0.004607792688948585,0.0015168597796701988,-6.07970123223181e-05,-0.0009384994150423154,-0.0013978600492866727,-0.0009528366767911009,-0.00038160456466821823,-0.0003911924572667456,-0.0003907521733839646,-0.0005458523487825613,0.00030135390696954187,-4.4408398260821144e-05,0.0002508579947247593,0.0004576257441095931,0.0004790368528223938,0.0007301024866596482,3.4538260888912985e-05,0.00033298144693520194,0.002275801997126551,0.0026141185339299726,0.0047342614952461575,0.007075370040436012,0.005636511119785777,0.0054683560298711435,0.0028393520823753148,0.0014142469839676756,-0.0011139090033666457,-0.00010605739567504146,0.0005651664402438845,-0.00039386417903288645,-0.0006592625878822419,-0.00045332049876378733,-0.0022690694244573636,-0.0006943504279474932,-0.0003252693196105945,-1.4426458138710671e-05,-2.7196373240358923e-05,-2.526263155841653e-05,0.00016818118561179492,-0.00036885928603977783,-0.0003310095986716662,0.0001025609633054838,-7.211200822072016e-05,-1.4725499290066044e-06,0.0007519014725202071,0.0011814072209053172,0.003986189009583068,0.005413970868263599,0.0027303965362635756,0.00013686145352921446,0.00020405618500676445,6.631124659424881e-05,-0.0003143407805637922,1.3748470378358718e-05,0.00026664372751906973,-0.00023889114923708252,0.0003663198934950422,-0.008025812147819264,0.008636944639581558,-0.0030738277033042585,0.0031852051577318102,-0.024728884462561468,-0.004388156952902339,0.0009841909092388103,null,null,-0.011753535195116644,-0.0016202826791769098,0.000140528223184333,8.906064046657926e-05,0.00016426634954314068,0.0008312376339866638,0.0062737211501462135,0.006096011986135961,-0.0001053689381331508,-6.424794454888217e-05,-0.00039671915405155994,0.0021863244023119046,0.004375418333858139,0.002494194120917682,0.0031391297548494113,0.0017757822092900402,0.0012407648224993886,-0.00011035103420671717,0.0007443265516408198,-0.0005536782890480652,-0.0009307607079795943,-0.00010330324889571037,0.00016092385004373667,null,null,null,null,0.002262711666707183,0.004710824838685568,0.0021088678619367585,0.0031290041650467635,0.0016700910737249917,0.004126560119918448,0.0010325007157321597,0.0007805183016851031,-0.00011185265170121639,0.00013262779322698037,-0.00014576208726424164,-3.319750955317613e-05,-0.00028058596503018497,-0.000366793447387043,-0.0005117312688642066,0.00019854484721815342,-0.00011111192829894867,-0.00016441473997986893,-0.0003742245292820516,0.00011341430019632878,-3.5610169661915315e-05,-0.0023054636328634364,0.00023002130429616862,0.0013336512676755466,0.0009414115497659026,0.0011913446231535114,0.004038045564626381,0.0064726522173062205,0.004769298102531079,0.001152272918809493,0.0030610050815609025,0.0014859381643762418,0.0033976286272858723,0.007389169006726999,0.0028037860282176356,0.0020723174074177564,-0.00011912686444127962,-0.0014509434129349116,0.007449250562716413,0.003293124270049772,0.003803667173992449,0.0015820938584928043,0.0001911343970755451,-0.00033355141567940373,0.0005674119079803249,3.834379062647025e-05,0.0017321397287293448,0.00455174972783625,0.007496725879304538,0.0027259564656443303,0.0016970876801738963,0.004003558856042458,0.00106036136706638,null,null,-0.0019362838061237064,0.0014352114385588616,0.0029953484325603665,7.213903348180645e-05,0.0005181659205095012,0.0028945832251388763,0.002596167333098977,0.0021361446459353672,0.0006302129572254185,0.0007444744292470656,-0.0006415304878226231,-0.0008071602811776171,-0.0005359405070019339,-1.0343064485279427e-05,-0.00031397994323602036,0.00023985482125365998,0.0005656185579814513,0.0008529194793241626,0.00043867980626326793,0.0015507884911156993,-0.0006821839401607768,-0.00027543354422229945,-0.0012128515862749444,-0.00034243562423124513,-0.0005659878726280709,-0.00027978001206315287,-0.0006518555265235689,-0.00023790577461824114,-0.00022189172652486988,-0.0001053641096208438,4.6700381867185656e-05,0.00013178820530039027,-0.0004623438970104612,-0.00012406362012898006,0.00010157089723270354,0.0005577396114022411,6.5018263164517975e-06,-0.00034985956912139357,-0.00016366878303545728,0.00013962275188679919,0.001714505695233015,0.0016763004412399703,0.0018464584985230141,0.001620831506007706,0.00023100155839343196,-0.00026358380515922875,0.000493253022942973,-0.0006114440977821921,-0.0022211876910736266,-0.0006407502121836828,-0.0005602400973639815,-0.0002381716816679015,0.00021301689211049302,0.000929886721461548,0.0010043505807097522,0.0007156169419455021,-0.0009312150970929916,-0.0005404760261432291,null,null,null,null,0.002168035758612538,-0.00037540055740553115,0.0011568069123487242,0.0022528025240700807,0.002593233889540395,0.0019711348759774666,0.00026615136075654666,-0.00018572610314018367,-0.0005096472940215128,-0.0006587659601006782,5.399517982750254e-05,-0.000993818057671722,-0.0017136716604074175,-0.000680597402347802,-0.0007218898349963254,-0.0008276911294018419,-0.0011593943541120897,-0.0007627238935193764,-0.0003457759058218083,-0.0005082089167566372,-0.00045419893268168997,-0.0005996245782849303,-0.0006654869671282385,-0.0007174546028873383,0.000219868000503394,9.813761181853842e-05,0.0020796934176705705,0.002763601708246706,-0.00019490827893303003,-0.0016064321650222583,-0.0014408256390079834,0.0001345346512210549,-0.0021243287242166745,-0.00010866988751197671,0.0003763741571975272,-0.000871345627642621,-0.001230204662065481,-0.0017017223293998747,-0.001771220099745877,-0.0007463500827782354,-0.0006403707929002363,-0.0006241580939807534,-0.0009631399967702237,0.0001111627718302071,-0.0003542427973473039,-0.00019350069266879134,-0.0004646216696942117,-0.00021743512834139327,0.00020521516665154995,0.001530413109367362,0.003006527018608077,0.015379054037274562,0.01696055208145826,0.012217165542698286,0.00751970151860743,0.0019173641567095362,0.00038589186606656067,-0.0004371190704907466,-0.0008111852096767021,-0.0007401114699644813,-0.0003916999270371004,-0.0004495489601693669,-0.0004293218348697288,-0.0002265708057570398,-0.0007974995585188337,0.00013871517564822966,-0.0008160934350520677,-0.0003793639274012634,-0.0002825247256238797,-0.0002536135361776489,-0.00022742224635723812,-2.6026130305554715e-05,3.705105341926052e-05,0.00012011230823342697,0.004145870821172496,0.0033351030951094753,0.008088176375824534,0.019651719570815213,0.01836702028182123,0.011868386405020637,0.009906928854105795,0.012854121460650939,0.005701085218765754,0.0069738710475925215,0.007677836137947874,0.005681849772856573,0.004988928720147397,-0.0004899351538371439,-0.00017370635892967334,0.0030663702693472933,0.002687079026088668,0.0010596664526955936,0.001421974501493787,0.0031613825014353836,0.0026324345120058226,0.0032998668040455925,0.006075799981999808,0.005882233567933305,0.00749568767442059,0.009181535330480266,0.006196876008371217,0.006329485938522332,0.0018904873610408983,-0.0006331247496768264,-0.0007263743811082649,-0.0010236928198731725,-0.0010085941862014482,-0.002204278204222497,-0.0017328333824900462,-0.0009773992129393227,-0.0008252897278392031,-0.0008561971926550368,-0.0006097254731091007,-0.0006020038839935869,-0.000719600436548026,-0.0002374102291750422,-0.00037908061033720044,-4.943682243302959e-05,0.00013994925569665168,1.4882738968818778e-05,3.985500104707225e-05,0.00046238983210386856,0.001230032386991672,0.0020073177097650824,0.00235076033594566,0.0015272560085749383,0.00019967575298511031,-8.104691761874963e-05,-0.00014211125556151671,-5.1201515708217734e-05,-0.00020837437858863515,0.0004979147313868282,0.0004198156538445588,0.0009595098371034299,0.0005758596652440211,0.0005168917620656088,0.0013830023423745273,0.0017503216005295323,0.00016662569747268475,-0.00025489721411690175,5.659675508715503e-05,4.195808588984204e-05,-0.0005737193847826414,0.005040244815539354,0.007795989075660455,0.0025987593987769255,0.0008768630585365145,0.012483116514133023,0.00852155322153949,0.00784753364922445,0.003607155319159597,0.003477796600141879,0.0028522437548540816,0.0046532371592397466,0.008062013652597164,0.00048105084195448206,0.001056294622537892,0.006227043886636821,0.002607000238943634,0.0009213690725344559,-6.69851903659785e-05,-8.960918322032177e-05,0.00043483271893407505,0.0003282118271196559,0.0019735539661296115,0.003790435461477254,0.004578896440805014,0.0040863830491021,0.006649940841183382,0.008921386086961764,0.010132985187935456,0.009359934798721287,0.009466502193343253,0.00968486992435361,0.0066647476077845436,0.0005775306647714112,-0.0001437614312832132,-0.0003435681829655479,-0.0006102651764670567,-0.0005830340344586855,-0.0002213867890899935,9.368949198496068e-05,0.0004544540606226362,-1.6322023952062593e-05,0.000322943459591744,3.1123526775269326e-05,-0.0002974605269618156,2.369453057511975e-06,0.0003281263240314898,-0.00026176920009824897,-0.000318730863176242,1.8739984936486792e-05,0.0001880451474521994,0.0012018482064167161,0.00320434397233645,0.00428716350137728,0.005021369430449556,0.0027123424151991316,-0.0010568737833302538,-0.00023212982985319763,0.001755826202726037,5.4108439374861775e-05,-0.0011958031379659673,-0.002187319267233848,-0.0005145944471025565,-7.935646029485349e-05,-0.00010948967717775912,-0.0002703153001589603,0.0005807084290075544,0.00023961810773137117,-4.5357280227991195e-06,0.00014176096618889744,0.00014336048959580697,-0.00023899303059869703,-0.00012093963243230144,-0.00023501716087892532,-4.0675326843894397e-05,0.0006497269053321534,0.00211456494606092,0.00036579485667663037,0.001405050967506859,0.0006226934881655589,1.1000516256624848e-05,0.0005038982220999036,0.00035581594508235156,-0.00015835493681729852,-0.0018827852261659311,-0.002890928651204488,-0.0003894088152998198,9.997125611447069e-05,-0.00020080078093324613,-0.0003688704276534334,-0.0001490879533558101,-0.0001223055415826308,-0.0009715909871219879,-0.0011385259664079897,-0.0009304857394675367,-0.0007321787135004722,-0.0002441582229672293,-0.00017612186968651768,0.0004434655636786182,0.0030324484434286108,0.002222192895436039,0.0004309733249172609,0.0011474920020565493,0.0012871805148180968,0.0018857962452282586,-0.00024398538194958172,-0.00019673680816367778,5.583357132760494e-05,-0.0005099549154831753,-0.0006466711337154152,-0.000906697261183826,-2.428091877209465e-05,-0.000988970818710893,-0.0011096515798636256,-0.00018618950938057918,-0.0007734396759448252,1.451309047996311e-05,-0.0006855023462711708,-0.0005068184239261546,0.0001729370156727146,-0.00045260677920990963,-0.0004333755570679436,0.0007626200941836334,0.001284158311913518,0.0017466755864654886,0.0006117725432813401,0.00590049199196035,-8.251471908277824e-05,-0.0005553123288114178,0.002471278583815659,null,null,null,null,null,null,null,null,null,null,null,0.010292893286248272,0.001474846508559221,0.0031344934424390007,-0.0004044492266016206,0.005173227246522236,0.003192084498217517,0.0051748869079430715,0.0038921920683646274,0.002664138483648378,0.0048582625338053406,0.0032635829220417616,0.0007284949132279478,0.00014689663830991218,-0.00023183148034059894,0.0030697676168950742,null,null,null,null,null,null,null,null,null,0.005337865054771539,0.0008931461359272426,0.0011814888739820617,0.0034390370756752636,0.0014206004324803512,0.0038209554245796085,0.003516538577535755,0.0017623132278761916,0.003350681746711111,0.004411759036303101,0.0044012494036470215,0.0012569357264103301,-0.000379709735998348,0.00023327110904168905,0.0004218659126809486,0.00018517913148959585,0.00042185712288755894,-0.00022208389677613738,-0.0005657178009414263,-0.0006328566723420668,-0.00020656451268585667,-0.00028733603182921436,-0.0005880458971435475,-0.0003534332719523376,-0.00014473948712160657,0.00037935983823289576,-0.0025893082784808922,0.0021460402851413026,0.0009897663102928314,-0.00013848555949808657,-0.0003231336326000962,0.0009155065627475499,0.0014057084650979448,0.0017394070826052613,0.0012076786664276043,0.0004758232812463632,-0.003624267567550632,-0.0003057031524373137,-0.00015960283567739708,-8.98403797980514e-05,-0.00019071120594402538,0.000250645215673047,0.0002578493283314186,-0.0004344931405696334,3.2971282571540514e-05,6.306192903426933e-05,-0.00027036274594275864,-0.0005707369377792783,0.00012511160860740125,-0.00015948929296922057,0.000419262069989261,0.00042311350262420194,6.81833276618242e-05,8.584974038022223e-05,0.0010872174426958098,0.0009277651257789555,0.00290885092955347,0.0021317978836956353,0.0021130080511800996,0.00029213059159487924,-0.0003151151938944382,0.0003654698686984658,-0.00012404302157145546,-0.00015052497426834913,0.00013570960444238625,-0.0005002192629328661,-0.0006928921063522238,-0.0009641883292905717,-0.0008596759809574965,-0.00018024980110295692,-0.0004979539522375434,0.00020881351188848166,-0.0002916674835263442,0.0004127447964978135,-0.0004947328486319229,-0.00028069305322987476,-0.00016349328105737406,-0.00010785927610716152,0.0005924366062834236,0.0013430167482672865,0.004251315159784792,0.009238794797066636,0.008954608760763903,0.0061072668811981146,0.003828378801844697,0.0016371937294475565,0.0006280406636262961,0.00107772807323059,0.0002680967969859935,0.0003908108485239682,-9.901468588472719e-05,-0.001011293429535775,0.009950733348858135,0.007375999395194139,0.008162025955205838,0.0070254688732455245,0.00942347545723976,0.007335346935660271,0.006228650241439478,0.007548583429019351,0.006604651576877566,0.002490571576731309,0.00595607516844588,0.005088152505611752,0.0037195282727727416,0.009476018230830932,0.020524245293942377,0.012981626813605717,0.01083491441459768,0.0036838480092270393,0.002877881410540498,0.0024336440998456626,-0.000758021161092793,0.0006028633881438594,-0.0005507808507023209,0.0012528061406665474,0.00014576637371988,0.003975444546695274,0.00475290257711454,0.0032726446511420876,0.005360955058943517,0.005490932439144755,0.0034641543981604635,0.0027283193622243546,0.007533159244024444,0.005323117738640016,0.00019631480795435832,0.002043683104537201,null,null,0.0074639103195874605,0.006465074073107542,0.005908884643796141,0.0029119911836809204,0.001217016821534066,6.003025724312522e-06,-0.00015007120574692806,-0.0012464156860427025,0.0009701792092201936,0.00175089327051402,-0.00021313360222584288,-0.00018711485504199765,-0.0006573151163515346,-0.0006898855390908357,-0.00021232148242589233,-0.00022092044492912077,-0.0004828389215513554,-0.0003126306283149907,-0.0007030543462066205,0.004167091865132986,0.008096475592834738,0.008650837742791852,0.012842958813831407,0.01672593873905252,0.0068910779172289445,0.004888797900486204,0.0015108180824085077,0.006702751315514455,0.003676457045043654,0.0024738891194807273,0.002684665379400524,0.00024403243949692544,-0.0002182837802750092,0.00019902931756273293,-0.0006743161003202047,-0.00012023365798915359,-0.0008109222971752483,-0.0006570621012199282,0.00037656756115339064,0.0007152956105408569,0.00018522491626763815,0.001484814848275463,0.0022036364816813148,0.002055326210859368,0.0031336981559775268,-0.00045350821084690074,0.007943192649307984,0.009804504974586806,0.01565111433748593,0.014071699567333923,0.006460192356254956,0.001225773519934921,0.0014898968607766593,0.004179532943548262,0.0047031551765302215,0.0013562370283758535,0.002317985903211195,0.0041117523995362806,0.0015214003137404113,-0.0001825748750337768,0.00259189176178469,0.001546609761084658,0.004026577375520264,0.005499145505489703,0.003023222317014053,0.0025138659563452848,0.0008570685746030655,0.001907478643027427,0.0011250486073666674,0.001284089170196026,0.0020093624575012944,0.002018306905650351,0.0023749833347797775,0.001337058861810507,0.0008915109315677655,0.003064202169648908,0.0023323933209206185,-0.0009839779596430773,-0.0007550786986192139,-0.00024960464914317027,-0.00030605402155240574,-0.0007645507007257232,-0.0017496204325340194,-0.00039093832890459146,-0.00030669334156992645,-7.626571883041083e-05,9.921405890385426e-05,0.00031906800724357254,0.0010518725577372337,0.0021622817697435487,0.005302955569605833,0.002349076401837163,0.0027677727958651402,0.003698077331640724,0.0005609653709309648,0.0051238373246373925,0.0033626721569532947,0.0007382621276044413,0.0005098413822635078,0.00010498818652947446,-0.0005516709789562904,-0.0004593943993208213,-0.0005795697983453051,-0.00046652216668261837,-0.00032160249625887323,-0.000554224201082457,0.00063371603209027,-0.00021680276520896422,-0.00021560979981691264,-1.7976828874388673e-05,-0.000713167142771514,-0.0018434523946542214,-0.0013651329862598301,-0.0006664582828343271,-7.95563715444798e-05,0.0005351383870963273,0.0005054009869619822,0.0017531998767784246,0.004366085891960993,0.003003374009550676,0.0013128797472346937,0.00028910986951480484,0.00010207845725910755,-0.0014663416854919925,-0.002737530725551631,-0.0023944164866489042,-9.33761819854361e-05,-0.001379034140899904,-0.0012323957871972907,-0.0014537292623373332,0.00012162966553989473,-0.0022603851031712807,-0.0020351698313832616,-0.0021083579233251246,-0.0010710602435453076,-0.0017251431194707694,-0.0006019030836973346,-0.00022920985231067448,0.0012881290845946948,0.003996571634125701,0.008295089522143764,0.008249785828600878,0.005157423736690703,0.0001922797058213615,0.0003207780832627308,0.002924964753361397,0.006317356414380509,0.00659198353555486,0.007426485173408317,0.00837057657884641,0.005092141236238726,0.004532948353403811,0.004149099880789629,0.003807968147159592,-0.0005125163527360914,-0.0006433105855697795,-9.801057018342602e-05,-0.00038280183826761623,-8.584775922384737e-05,0.0006434518684380235,-0.0010866497811197935,5.15335469832099e-05,-0.0001892282974821219,-6.325460044820375e-05,0.0023812296742500294,0.010653585127511257,0.009371426848322994,0.006840369285341671,0.004964732676980114,0.003481913886843874,4.5343302658868226e-05,-0.0005196310728122393,-0.00040815125962910754,-0.0006523782537328771,-0.0007737741936573173,-0.0005194487164984392,-0.002200384069974838,-0.0007981598762075159,0.0038260963896921893,-0.0017255687907097722,0.004730499798938581,0.006058615436060677,0.007571423679259816,0.004042483471375036,0.004428236160188318,0.010278630476214605,0.005785928255486773,0.004224765291789528,0.002750684441437952,-0.0008934533748262575,0.0021957764315659505,0.004881773016749712,0.003012556560482455,0.004900228028252405,0.00026539821084270443,0.0016456561551257843,0.004491140505794453,0.0001576559584499683,-0.0006501109501944793,-0.0010317996722405656,-0.0007014830895206714,-0.0007756307662379266,-0.00046483078866583257,-0.00036373965113862335,9.898815045857566e-05,0.0002612216820718771,0.00021329306953710245,9.468483777475001e-05,-5.195073322244049e-06,0.00023475365037262108,-0.08138173374478205,null,null,null,null,0.001531029092401619,0.0007475928174009994,0.00014428687148261218,0.00019706290940398486,0.0001859668112516033,-0.0002419282217592058,-0.0005465265283161541,0.001091343604598431,null,null,null,null,null,null,null,null,null,null,null,null,null,null,0.008245159484272709,0.012122708791074662,0.007372228251982605,0.007748564557798449,0.0061460732563957485,0.007189500357119034,0.00011588121746323662,-0.0007373860290713144,-0.0006250269640896491,3.3681141739308473e-06,-0.0010347593460235532,-0.0001848537141369757,-0.0004967331552014898,-0.00021162142002534908,-0.0019473117011721032,0.00011754633902870577,0.0005007427735448612,-4.3298415269917186e-05,-0.00021044751665281504,0.0004709141738908282,-0.00014783285716970151,0.00028853873478832705,0.0005263825658694543,0.0025352291017076336,0.004304061136960987,0.0009052830908871101,0.002964269320460275,0.003649132060762856,0.0009078604728346797,0.0023734596332956777,0.0038831063291079743,0.004463361384683791,0.0034204196779461273,-0.00034919395612210795,0.012583349062063634,null,null,null,null,null,null,null,null,null,null,null,null,null,null,0.002007791375029673,0.00275910152844795,0.001002435400445497,0.0005617206996768849,0.0016258882961723347,0.007068884545416567,0.0007656952590290693,0.0018694188013039792,0.007644904770122215,0.012383680942638382,0.020598125539208922,0.02087042759101286,0.00495280855650727,0.00860351010167193,0.007688282467479643,0.004265014879217842,0.002904322291436119,0.0009282027501852728,0.0022714630573838056,0.00674813452154923,0.014595945732352782,0.017934206809819386,0.01755540157783273,0.015039671930734189,0.009638220238500732,0.00968839054482689,0.006124226089369637,0.007135970982201593,0.007133068703932429,0.01347821703262871,0.010169055739778436,0.003228833365566193,0.006970384202995164,0.010064293527288482,0.007784937550346607,0.007163616359851313,0.004953808717363629,-0.0001233154057000939,0.0018272659355351223,2.1760491677014215e-05,0.0037507980587268026,-0.0021851126743810123,0.0039822354181654595,0.0026391460573336224,0.003609518949088169,0.005047099517759711,0.017849925723568617,0.026255232737150035,0.025728365369176026,0.03077105696728842,0.0219653946479244,0.018489440147594273,0.010466377732235205,0.013810097291567422,0.01073599134150447,0.01136988562843566,0.014040471713474997,0.002804811300987038,0.002004870048925022,0.005514989032682712,0.009896878166818612,0.011759405548032316,0.011397929901897266,0.011243484258580828,0.010636566678823536,0.01052890046688364,0.004941218753123602,0.007590708956377293,0.008717624281869816,0.016011055260108854,0.018464011024127598,0.03177909790648729,0.02974354339789907,0.030143113920980603,0.019750275200041134,0.009135618148151593,0.005449962235823058,0.00016396302183174782,0.0005885681519289462,0.00010533851120975114,-0.0009119730486880275,-0.000590152415260873,-0.00032316046228686446,-0.0010135323987907618,-0.0011063204030434069,-0.00018703983521676604,-0.0004073260332448682,-0.00017772382181983383,-0.00044154334600222597,-0.00020881299744957005,-0.0007001716813963537,-0.0005916272516144008,-0.00027030250311829967,0.0005688198006120748,0.004923031205266604,0.00713720621821423,0.014327836205667034,0.018266034529914252,0.019899420718138015,0.02504042151980871,0.01681624318347093,0.011097289537135069,0.012885860497663751,0.01513432884201175,0.011288975544230941,0.01778367120339297,0.018041328873983454,0.014907082748172075,0.01206123099700996,0.00764010261171677,0.006899542467656436,0.006776171752961522,0.004238030895474296,0.002302569979657645,0.0015940676725815853,0.0038584116551289883,0.008604472842257453,0.00828924353399232,0.010390952281320486,0.01077181616993986,0.012674906411671374,0.0185153257562337,0.013973963661745968,0.009850219803849826,0.004074521949432992,-0.0010742731143693618,0.00023591529906447604,-0.0001618967736622505,-7.280194095926618e-05,-1.0144379043749638e-05,-0.0007055855048000068,-0.0003966607295400092,-0.00024880389547870564,3.911005933569366e-05,0.0006195224088590594,0.0007158378053719145,0.006833126316612444,0.0021405470805461553,-0.0015333361981622814,null,null,null,null,null,-0.003071488324624262,null,null,null,null,null,null,null,null,null,null,-0.0051401410191418695,0.0011960898422103128,null,null,null,null,null,null,null,null,null,null,null,0.011006914772651373,0.005902175681204436,0.003451618350402974,0.007866898224288363,0.0005373711030290593,0.0002667076645556715,-0.002173959782352094,-0.0002556770010831381,0.0006940140117409374,0.006423736568120019,null,null,null,null,null,-0.0005520005543434197,null,null,null,null,null,null,0.00040024655792287407,0.0018434439647307954,0.0019313720811177217,0.0034462215626410104,0.0013642127488366178,0.0015084508269021715,0.0018617187213933982,-0.0007151203279984059,-0.00024707674171844593,-0.0009370416185750692,-0.00018772796761994852,-0.0005413511313710206,null,null,null,null,null,null,null,null,null,null,null,0.000248976962271304,0.001479745675142946,0.003532552076233585,0.008720193238634263,0.011666852442473896,0.011776221635688498,0.010036134559904042,0.008979437994584276,0.0027374791696437306,0.0010626187107579052,-0.0001642762299170486,-0.00041381581216745275,-0.0008955724240951556,-0.0007955727771845958,-7.343976358450272e-05,-0.0003935311865959062,-6.549637987538284e-05,-0.00059360348477,-0.0001280242846632973,-0.0008122440285711872,6.308798139661141e-05,-0.0001037890011142469,3.683232528202841e-05,-0.0002606974354689336,0.0009050773412730244,0.003173233671044705,0.003794359418554746,0.0049443007841303505,0.0038574172564144566,0.004572341954921729,0.004204344621712153,0.00036294448850162877,0.00027676881181667046,4.999764621575276e-05,0.0003878651543029769,-0.00024367124205129306,0.0005392040633367401,0.0008481428066614196,0.00040186497815793663,-0.0004193885432653595,-0.00020864123106381204,-0.00031659116540557353,-0.00013058696001887367,-5.297692173063771e-05,-0.0021359249178933837,null,null,null,0.00025790072055344865,-0.00011927346594751975,0.00906887378249302,-0.012020429645804465,0.0025911055617784534,0.0012137019510637045,0.0008799132850248886,0.002918032213011422,8.157381240200823e-05,null,null,null,null,null,null,null,0.009053830641802207,0.003696764702257365,0.0012115481453207622,0.00024350902447167755,0.001055070559881216,0.0017682464160529987,0.002137293283023922,0.005145167677471342,0.00927634283079233,0.012422287026810051,0.013989469562744716,0.01625005077690861,0.015454918086357822,0.013446356012877914,0.010181814849919604,0.004265089582395992,0.00495195772324071,0.0017720285607683434,-0.001029622005481838,-0.0018088300501430746,-0.0011717014301192846,-0.0013633489963428905,-0.00042860973428027194,-1.7426811635239126e-06,-0.0004709222081081682,-0.0005921831092692287,-0.0002806640437411391,0.0007193122049152893,-0.00022533928601031674,6.211540826939199e-05,-0.0001608660335349274,0.0004207903147535781,0.0011836761713400132,0.004909357127309888,0.012931736083121193,0.01632969343480341,0.01533743238224142,0.014954066685971178,0.01146377411552437,0.004591573579527934,0.0007379581948375319,-5.587920295132068e-05,-0.0006838483012548587,-0.0015835288461403252,-0.0008065156020623451,-0.00130507491174588,-0.0009725519355312309,-0.0007382061953909655,-0.0004239734257076586,-0.0004002473696400888,-0.0012055466301735956,-0.0014910715297336737,-0.0007685944773406172,-0.00038897356806365246,-0.00026555659403963185,6.656420128825502e-05,0.0009040538152717851,0.0038044737368847746,0.012003214816659162,0.0070034751629884555,0.014507136297053101,0.003610650348737447,0.008728684027144773,0.002303824966796793,-0.0008747656479316142,3.9168255771215854e-05,-0.0005710068253102704,-0.0005709488374366078,-0.0007888162409819752,-0.0008393897029325796,-0.001233321019812354,-0.0010969066575200609,-0.0003519475429512777,-0.0008302391806604206,-0.0009075263653339043,-0.000626051456888395,-0.00048738705018200627,-0.0006996316643029929,-0.00018049103535666862,6.537659348381051e-05,0.00270205171279958,0.0037380036343681077,0.009558652175446663,0.011061186677108498,0.0071152960937564584,0.005400637248573167,0.0038847932782965066,0.0018976258722050166,-3.884516081598122e-05,0.00020890464587945082,-0.0007085967678601007,-0.0001829388723552476,-0.00013341305456777454,-0.0003125651540282579,-0.0001418145995716706,-0.00013442829516425656,-0.00019262281464212452,-5.672452205749204e-05,0.0003438124819372147,0.00030265786735947636,0.003396360906621136,null,null,null,0.0006719115592967242,0.0010127352477648302,0.002008307892803412,0.002331608749902297,0.003107275311828219,0.0008389259754311394,0.00036462844730738436,0.00020404572169457208,-0.0002114451626371583,0.0001966998883208889,-0.0001724494147220916,-0.00038118465918272415,0.00013007009157680466,0.00018091929436092613,4.784938901399374e-05,-0.0029408463968433954,0.006302815468758301,-0.0008755254607185209,0.0010323341679941839,-0.0019082494370173588,-0.0007117523265785207,-0.0005843233424628509,-0.00026032759438739464,-0.00040541605392382246,0.00029934509757274016,0.0011810489240940843,0.0021746925769863504,0.0016345670580601972,0.0014407089631198744,0.001295479944019906,0.00045813175366244313,6.742790942867137e-05,-8.812734324672826e-05,-0.000728212122641736,null,null,null,null,-0.0035989705804257213,0.010314895068910104,0.01108690754559186,-0.0030040654681704228,5.9908654444967846e-05,0.0008700099189758864,-0.00045542663398586303,9.11192463585661e-06,0.0002147212992795744,0.003261910436729437,0.0018560944742323782,-0.0004118923684962583,-0.0009320578811120583,0.011505258616620523,0.006739089094942585,0.005022368706733005,0.008145701504404537,0.007947971252633579,0.004077144679285993,0.0017271693618331127,0.0016832207896915925,0.0017305801307259117,0.0009935136761664437,0.002924281686940736,0.0006407250329458257,0.0008491744397144767,0.0006628657813701182,0.0016062417787683358,0.00044870747098870595,0.0002113779377021078,-0.00016903598418712383,-0.0006261942382758991,-3.722091509139602e-05,0.0002083253137657136,-0.00019918929056039758,0.0028191688458066508,0.0046610128726645855,0.006068464186311547,0.0032487590071654062,0.0039423192704335554,0.003680450157458547,0.0018331984715513156,-0.00022715550523836692,-0.0003632280885147027,0.0012995416778505626,-0.0006596532763979632,-0.00025728197542089146,-0.00048257295054002225,-0.0003406434521888097,-0.0007502766920811273,-0.00010812831059538045,-0.0005083884279705325,-4.253394880896887e-05,-0.00013621085540470486,-0.00014431387725672568,0.00024069459121574786,-0.00021478552497539855,-7.335513926203831e-05,0.002173613715505853,0.00424036371970023,0.01035789431190369,0.010863851198931702,0.010879868918703888,0.011419542074373602,0.008820618396525492,0.0007569796910914892,-0.0009279611357089954,-2.7894555693839997e-05,0.010648971200020507,0.000611970110549552,0.006608578150561447,0.008947881047175697,0.0014679564532601788,0.0019553254879435544,0.0013862182207784457,0.0013248899840808265,0.0028054356196257,0.002000296790335594,0.0014617612822173422,-0.00043427431882609585,0.0006446216697935797,0.003897082611615584,0.008163579421260097,0.009504501510803384,0.007326031806835921,0.00977459822912033,0.010464495202490466,0.0066708251757177095,0.0031070920484891004,0.0023045533257124683,0.0031310339039336554,0.0016991677868056767,4.156447632880985e-05,-5.400641017485903e-05,-0.00031921426916269296,-0.0019663741705797837,-0.0009061123092770646,null,null,null,null,null,null,null,null,null,null,null,0.005133708715192142,null,null,null,0.0033402803731388264,0.002781029954715149,0.003043961420174046,0.005296149245873799,0.00016317441497137875,-0.0007296476020261823,-0.0014943267471574373,0.0029046401289167054,0.007043800617596375,0.0038881515704581975,0.02273389667107967,-0.0004529886270784912,0.002402791469743093,0.0023584805602144196,-1.1305406159879683e-05,0.0016132688896411812,0.0025400054804739156,0.004799994115366246,0.007965232322677682,0.006219742712754259,0.006276110495362117,0.00954471024673056,0.007928178148573127,0.006389503838172791,0.005055989297889911,0.005864716436714362,0.0016683732484016702,-0.00014447272024200805,-0.0003911780432665282,-0.00032911535261111527,-0.00026850751309304144,-0.0005284786191347792,0.00013044926976056755,-0.00022816244454344076,-0.0003540704051673097,-0.0003775386117599311,-6.522544542919562e-05,-0.0006165598537664074,-0.00040620059940617813,-0.00022297856599743726,-0.00015386230928784734,9.701362350034073e-05,0.0015613397200004734,0.00432252358527189,0.005028013189257446,0.007719790176790376,0.008133777868713091,0.008861140169192854,0.006492989433533342,0.004069376416130883,0.00030904187206230206,0.0010753310135894392,-0.000696831417594258,-0.0003280987177848669,-0.000657166247599446,-0.001774361259213427,-0.0008878752916381162,-0.0013071255300038942,-0.0008188370504675175,-0.000979195900449606,-0.0011948041826613488,-0.0004220247195447051,-0.0004933970398687624,-0.00018377395547404963,-0.0010251445281678827,0.00023171850354981177,0.0019516744789325937,0.007170950225601658,0.008355818469036831,0.00705027919898487,0.004338282556656395,0.0024526096294791673,0.00020821335508348741,0.0004202298351723143,7.464972532838501e-05,6.021260712706436e-05,-0.00015336707270582894,-0.0010593170717688354,-0.0016013443723033784,-0.001889983473878594,-0.0015591934890558032,-0.00017954580559297398,-0.0002728392115942907,-0.0003718341182875494,-0.0009151236133284613,-0.00050248048724022,5.299384003176755e-05,3.8774426315651284e-05,0.0011395889936830876,0.008912821824605288,0.0233407734079331,0.02768441353443585,0.01838087729867984,0.010401609207150829,0.008225889467970954,0.004005070323936856,0.0018332146999391272,0.001907532897921154,0.003828477706241025,0.001190287823354435,0.004051028181836988,0.00048008210946449796,0.0005416061784007855,0.006292570898528634,0.00279731192128925,0.000817956796568509,-0.00012763409104760842,0.00498679285931776,0.00542938182688206,0.0039635109323062495,0.004301899481520065,0.01215552231600172,0.0011491048265671968,0.0040874942151285475,0.0038170788434802247,0.003965316050281345,0.0027533024029414294,0.0040992270464086135,0.002226452307224451,0.0032750033452373373,0.003822680407916418,0.003932642356970696],\"xaxis\":\"x\",\"y\":[0.0,0.0,0.0,0.0,0.0,0.0,0.0,0.0,0.0,0.0,0.0,0.0,0.0,0.0,0.0,0.0,0.0,0.0,0.0,0.0,0.0,0.0,0.0,0.0,0.0,0.0,0.0,0.0,0.0,0.0,0.0,0.0,0.0016666665906086564,0.014999999664723873,0.0016666665906086564,0.0008333332953043282,0.010833333246409893,0.04416666552424431,0.08416666835546494,0.07833333313465118,0.06666666269302368,0.32363635301589966,0.08583333343267441,0.2849999964237213,0.22583334147930145,0.2149999886751175,0.032499998807907104,0.010833333246409893,0.017500000074505806,0.0,0.0024999999441206455,0.0,0.0,0.0,0.0,0.0,0.0,0.0,0.0,0.0,0.0,0.0,0.0,0.0,0.0,0.0,0.0,0.0,0.0,0.0,0.0,0.0,0.0,0.0,0.0,0.0,0.0,0.0,0.0,0.0,0.0,0.0,0.0,0.0,0.0,0.0,0.0,0.0,0.0,0.0,0.0,0.0,0.0,0.0,0.0,0.0,0.0,0.0,0.0008333332953043282,0.0,0.0,0.0,0.0,0.003333333181217313,0.00416666641831398,0.01666666753590107,0.0,0.0016666665906086564,0.028333334252238274,0.004166666883975267,0.021666666492819786,0.014999999664723873,0.0016666665906086564,0.0,0.007500000298023224,0.0024999999441206455,0.014999999664723873,0.007499999832361937,0.0,0.006666666362434626,0.0016666665906086564,0.0,0.00416666641831398,0.005000000353902578,0.0,0.004999999888241291,0.0008333332953043282,0.0016666665906086564,0.0008333332953043282,0.06333333253860474,0.034166667610406876,0.0,0.0,0.0008333332953043282,0.0,0.013333332724869251,0.00416666641831398,0.0,0.0,0.0,0.005833333358168602,0.005833332892507315,0.0024999999441206455,0.0,0.0,0.0,0.0,0.0,0.0,0.0,0.0,0.0,0.0,0.0,0.0,0.0,0.0,0.0,0.0,0.0,0.0,0.0,0.0,0.0,0.0,0.0,0.0,0.0,0.0,0.0,0.0,0.0,0.0,0.0,0.0,0.06833332777023315,0.03999999910593033,0.007499999832361937,0.0,0.0,0.0,0.005833333358168602,0.00416666641831398,0.01249999925494194,0.0,0.0,0.0008333332953043282,0.0008333332953043282,0.0016666665906086564,0.010833333246409893,0.007499999832361937,0.0,0.0,0.0,0.0,0.0,0.0,0.0,0.0,0.0,0.0,0.0,0.0,0.0,0.0,0.0,0.0,0.0,0.0,0.0,0.0,0.0,0.0,0.0,0.0,0.0,0.0,0.0,0.0,0.0,0.0,0.0,0.0,0.0,0.0,0.0,0.0,0.0,0.0,0.0,0.0,0.0,0.0,0.0,0.0,0.0,0.0,0.0,0.0,0.0,0.0,0.0,0.0,0.0,0.0,0.0,0.0,0.0,0.0,0.0,0.0,0.0,0.0,0.0,0.0,0.0,0.0,0.0,0.0,0.0,0.0,0.0,0.0,0.0,0.0,0.0,0.0,0.0,0.0,0.0,0.0,0.0,0.0,0.0,0.0,0.0,0.0,0.0,0.0,0.0,0.0,0.0,0.04416666552424431,0.003333333181217313,0.015833333134651184,0.032499998807907104,0.00833333283662796,0.0008333332953043282,0.05000000074505806,0.06416666507720947,0.07333333045244217,0.11916666477918625,0.05249999836087227,0.017500000074505806,0.0,0.0,0.0,0.0,0.0,0.0,0.0024999999441206455,0.0,0.0,0.0,0.0016666665906086564,0.0008333332953043282,0.03583333268761635,0.11999999731779099,0.06916666775941849,0.7283332943916321,0.8358333110809326,1.8416666984558105,0.6558333039283752,1.1425000429153442,0.32333335280418396,0.1991666704416275,0.1691666692495346,0.3608333170413971,0.5891667008399963,0.6891667246818542,0.4974999725818634,0.2841666638851166,0.3033333122730255,0.5849999785423279,0.5408332943916321,0.3883333206176758,0.43166664242744446,0.18833333253860474,0.40666666626930237,0.6150000095367432,0.2449999898672104,0.10083333402872086,0.07750000059604645,0.019999999552965164,0.005833333358168602,0.0,0.0,0.0,0.0,0.0,0.0,0.0,0.0,0.0,0.0,0.0,0.0,0.0,0.0,0.0,0.0,0.0,0.0,0.0,0.00833333283662796,0.006666666362434626,0.04333333298563957,0.125,0.010833333246409893,0.006666666362434626,0.0,0.0,0.0008333332953043282,0.030000001192092896,0.012500000186264515,0.0008333332953043282,0.003333333181217313,0.0,0.0,0.0024999999441206455,0.0,0.0,0.0,0.0,0.0,0.0,0.0,0.0,0.0,0.0,0.0,0.0,0.0,0.0,0.0,0.0,0.0,0.0,0.0,0.0,0.0,0.0,0.0,0.0,0.0,0.0,0.0,0.0,0.0,0.0,0.0,0.0,0.0,0.0,0.0,0.0,0.0,0.0,0.0,0.0,0.0,0.0,0.0,0.0,0.0,0.0,0.0,0.0,0.0,0.0,0.0,0.0,0.0,0.0,0.0,0.0,0.0,0.0,0.0,0.0,0.0,0.0,0.0,0.0,0.0,0.0,0.0,0.0,0.0,0.0,0.0,0.0,0.0,0.0,0.0,0.0,0.0,0.0,0.0,0.0,0.0,0.0,0.0,0.0,0.0,0.0,0.0,0.0,0.0,0.0,0.0,0.0,0.0,0.0,0.0,0.0,0.0,0.0,0.0,0.0,0.0,0.0,0.0,0.0,0.0,0.0,0.0,0.0,0.0,0.0,0.0,0.0,0.0,0.0,0.0,0.0,0.0,0.0,0.0,0.0,0.0,0.0,0.0,0.0,0.0,0.0008333332953043282,0.012500000186264515,0.053333330899477005,0.017500000074505806,0.0416666679084301,0.01249999925494194,0.03916666656732559,0.12166666984558105,0.06083333492279053,0.053333330899477005,1.1991666555404663,0.34416666626930237,1.1799999475479126,4.331666469573975,9.464166641235352,15.798333168029785,6.143333435058594,7.919090747833252,13.172500610351562,42.9849967956543,38.52499771118164,47.81999969482422,26.902002334594727,22.193635940551758,5.999090671539307,4.582499980926514,4.0883331298828125,1.0554544925689697,1.5163636207580566,2.991666555404663,1.5700000524520874,0.9433333277702332,1.7799999713897705,0.5416666865348816,0.2591666579246521,0.0,0.0,0.0,0.0,0.0,0.0,0.0,0.0,0.0,0.0,0.0,0.0,0.0,0.0,0.0,0.0,0.0,0.0,0.0,0.0,0.0,0.0,0.0,0.0,0.0,0.0,0.0,0.0,0.0,0.0,0.0,0.0,0.0,0.0,0.0,0.0,0.0,0.0,0.0,0.0,0.0,0.0,0.0,0.0,0.0,0.0,0.0,0.0,0.0,0.0,0.0,0.0,0.0,0.0,0.0,0.0,0.0,0.0,0.0,0.0,0.0,0.0,0.0,0.0,0.0,0.0,0.0016666665906086564,0.0,0.004999999888241291,0.0,0.0,0.0,0.0,0.0,0.0,0.0,0.0,0.0,0.0,0.0,0.0008333332953043282,0.00416666641831398,0.0,0.0,0.0,0.0,0.0,0.0,0.0,0.0,0.0,0.0,0.0,0.0,0.0,0.0,0.0,0.0,0.0,0.0,0.0,0.0,0.0,0.0,0.0,0.0,0.0,0.0,0.0,0.0,0.0,0.0,0.0,0.0,0.0,0.0,0.0,0.0,0.0,0.0024999999441206455,0.023333333432674408,0.0008333332953043282,0.00416666641831398,0.010833333246409893,0.009999999776482582,0.01666666567325592,0.014166667126119137,0.0024999999441206455,0.0,0.0,0.005833333358168602,0.00833333283662796,0.0008333332953043282,0.0,0.0,0.0,0.0,0.0,0.0,0.0,0.0016666665906086564,0.0008333332953043282,0.0,0.0008333332953043282,0.07000000029802322,0.0,0.0,0.0,0.00416666641831398,0.003333333181217313,0.0016666665906086564,0.0008333332953043282,0.003333333181217313,0.0008333332953043282,0.0,0.0,0.0,0.0008333332953043282,0.0008333332953043282,0.0008333332953043282,0.003333333181217313,0.010833333246409893,0.0016666665906086564,0.009166666306555271,0.006666666362434626,0.0,0.0,0.0,0.0,0.0,0.0,0.0,0.0,0.0,0.0,0.0,0.0,0.0,0.0,0.0,0.0,0.0,0.0,0.0,0.0,0.0,0.0,0.0,0.0,0.0,0.0,0.0,0.0,0.0,0.0,0.0,0.0,0.0,0.0,0.00416666641831398,0.00416666641831398,0.02749999798834324,0.006666666362434626,0.006666666362434626,0.0008333332953043282,0.0008333332953043282,0.0,0.0,0.0,0.0,0.0,0.0,0.0008333332953043282,0.0,0.0,0.0,0.008333333767950535,0.044999998062849045,0.12916666269302368,0.03999999910593033,0.18166667222976685,0.014999999664723873,0.03333333507180214,0.03166666626930237,0.007499999832361937,0.007499999832361937,0.0,0.0,0.0,0.0,0.0,0.0008333332953043282,0.0,0.0,0.0,0.0,0.0,0.0,0.0,0.0,0.0,0.0,0.0,0.0,0.0,0.0,0.0,0.0,0.11833333224058151,0.0,0.0,0.0,0.0,0.0,0.003333333181217313,0.0,0.0,0.0,0.0,0.0,0.0,0.0,0.0,0.0,0.0,0.0,0.0,0.0,0.0,0.0,0.0,0.0,0.0,0.0,0.0,0.0,0.0,0.0,0.0,0.0,0.0,0.0,0.0008333332953043282,0.0,0.0,0.0,0.009999999776482582,0.0,0.0,0.025833332911133766,0.06333333253860474,0.004999999888241291,0.004999999422580004,0.0008333332953043282,0.0008333332953043282,0.0,0.02083333395421505,0.026666665449738503,0.003333333181217313,0.011666666716337204,0.003333333181217313,0.009166666306555271,0.05000000074505806,0.16166667640209198,0.12250000238418579,0.15416665375232697,0.04916666820645332,0.00833333283662796,0.0,0.003333333181217313,0.0,0.0,0.0,0.0,0.0,0.0,0.0,0.0,0.0,0.0,0.0,0.0,0.0,0.0,0.0,0.0,0.0,0.0,0.0,0.0,0.0,0.0,0.0,0.0,0.0,0.0,0.0,0.0,0.0,0.0,0.0,0.0,0.0,0.0,0.0,0.0,0.0,0.0,0.0,0.0,0.0,0.0,0.0,0.0,0.0,0.0,0.0,0.007499999832361937,0.0,0.0,0.0,0.0,0.0,0.0,0.0,0.0,0.0,0.0,0.0,0.0,0.0,0.0,0.0,0.0,0.0,0.0,0.0,0.0,0.0,0.0,0.0,0.0,0.0,0.0,0.0,0.0,0.0,0.0,0.0,0.0,0.0,0.0,0.0,0.0,0.0,0.0,0.0,0.0,0.0,0.0,0.0,0.0,0.0,0.0,0.0,0.0,0.0,0.0,0.0,0.0,0.0,0.0,0.0,0.0,0.0,0.0,0.0,0.0,0.0,0.0,0.0,0.0,0.0,0.0,0.0,0.0,0.0,0.0,0.0,0.0,0.0,0.0,0.0,0.0,0.0,0.0,0.0,0.0,0.0,0.0,0.0,0.0,0.0,0.0,0.0,0.0,0.00416666641831398,0.003333333181217313,0.042500000447034836,0.21583335101604462,0.304999977350235,0.05583333596587181,0.0,0.0,0.0,0.0,0.0,0.0,0.0,0.0,0.0,0.0,0.0,0.019999999552965164,0.0008333332953043282,0.0016666665906086564,0.0016666665906086564,0.0,0.0,0.0,0.0,0.09749999642372131,0.21166665852069855,0.30416667461395264,0.3816666603088379,0.05833333358168602,0.014166667126119137,0.0016666665906086564,0.0024999999441206455,0.0016666665906086564,0.009999999776482582,0.0008333332953043282,0.0016666665906086564,0.0,0.0,0.0,0.0,0.0,0.0,0.0,0.0,0.0,0.0,0.0,0.0,0.0,0.0,0.0,0.0,0.0,0.0,0.0,0.0,0.0,0.0,0.0,0.0,0.0,0.0,0.0,0.0,0.0,0.0,0.0,0.0,0.0,0.0,0.0,0.0,0.0,0.0,0.0,0.0,0.0,0.0,0.0,0.0,0.0,0.0,0.0,0.0,0.0,0.0,0.0,0.0,0.0,0.0,0.0,0.0,0.0,0.0,0.0,0.0,0.0,0.0,0.0,0.0,0.0,0.0,0.0,0.0008333332953043282,0.0008333332953043282,0.0,0.0,0.0,0.0,0.0,0.0,0.0,0.0,0.0,0.0,0.0,0.0,0.0,0.0,0.0,0.0,0.0,0.0,0.005833333358168602,0.0,0.0,0.0,0.0,0.0,0.0,0.0,0.0,0.0,0.0,0.0,0.0,0.0,0.0,0.0,0.0,0.0,0.0,0.0,0.0,0.0,0.0,0.0,0.0,0.0,0.0,0.0,0.0,0.0,0.0,0.0,0.0,0.0,0.0,0.0,0.0,0.0,0.0,0.0,0.0,0.0,0.0,0.0,0.0,0.0,0.0,0.0,0.0,0.0,0.0008333332953043282,0.0,0.0,0.0,0.0,0.0,0.0,0.0008333332953043282,0.0,0.0,0.0,0.0,0.0,0.0,0.0,0.0008333332953043282,0.02083333395421505,0.05416666343808174,0.08749999850988388,0.10166666656732559,0.09583333134651184,0.11083333939313889,0.13750000298023224,0.13083332777023315,0.12583333253860474,0.03333333134651184,0.0016666665906086564,0.004999999888241291,0.004999999888241291,0.0,0.0,0.0008333332953043282,0.0,0.0,0.0,0.0,0.0,0.0,0.0,0.0,0.0,0.0,0.0,0.0,0.0,0.0,0.0,0.0,0.0,0.0,0.0,0.0,0.0,0.0,0.0,0.0,0.0,0.0,0.0,0.0,0.0,0.0,0.0,0.0,0.0,0.0,0.0,0.0,0.0,0.0,0.0,0.0,0.0,0.0,0.0,0.0,0.0,0.0,0.0,0.0,0.0008333332953043282,0.0,0.0,0.0,0.0,0.0,0.0,0.0,0.0,0.0,0.0,0.0,0.0016666665906086564,0.004999999888241291,0.0016666665906086564,0.01916666515171528,0.04416666552424431,0.06583333760499954,0.0833333358168602,0.12416666746139526,0.11666666716337204,0.08833333104848862,0.24166667461395264,0.03999999910593033,0.0,0.0,0.0,0.0,0.0,0.0,0.0,0.0,0.0,0.0,0.0,0.0,0.0,0.0,0.0,0.0,0.0,0.0,0.0,0.0,0.0,0.0,0.0,0.0,0.0,0.0,0.0,0.0,0.0,0.0,0.0,0.0,0.0,0.0,0.0,0.0,0.0,0.0,0.0,0.0,0.0,0.0,0.0,0.0,0.0,0.0,0.0,0.0,0.0,0.0,0.0,0.0,0.0,0.0,0.0,0.0,0.0,0.0,0.0,0.0008333332953043282,0.049166664481163025,0.024166665971279144,0.0008333332953043282,0.007500000298023224,0.16833333671092987,0.1483333259820938,0.16333334147930145,0.003333333181217313,0.06000000238418579,0.05583333596587181,0.03833333030343056,0.014166667126119137,0.0,0.0008333332953043282,0.004999999888241291,0.0,0.0,0.0,0.0,0.003333333181217313,0.0008333332953043282,0.0,0.003333333181217313,0.0,0.0,0.00416666641831398,0.0016666665906086564,0.00416666641831398,0.0016666665906086564,0.0,0.0,0.0,0.0,0.0,0.0,0.0,0.0,0.0,0.0,0.0,0.0,0.0,0.0,0.0,0.0,0.0,0.0,0.0,0.0,0.0,0.010833333246409893,0.01249999925494194,0.029999999329447746,0.02749999798834324,0.0008333332953043282,0.0,0.0,0.0,0.0,0.0,0.0,0.0,0.0,0.0,0.0,0.0,0.0,0.0,0.0,0.0,0.0,0.0,0.0,0.0016666665906086564,0.0,0.0,0.027500001713633537,0.014166667126119137,0.0,0.0,0.0,0.0008333332953043282,0.0024999999441206455,0.013333332724869251,0.00416666641831398,0.0,0.0,0.0,0.0,0.0,0.0,0.0,0.0,0.0,0.0,0.0,0.0,0.0016666665906086564,0.0024999999441206455,0.0,0.0008333332953043282,0.0,0.0024999999441206455,0.0008333332953043282,0.0,0.0,0.0,0.0,0.0,0.0,0.0,0.0,0.0,0.0,0.0,0.0,0.0,0.0,0.0,0.0,0.0,0.0,0.0,0.00416666641831398,0.003333333181217313,0.003333333181217313,0.0008333332953043282,0.00833333283662796,0.0,0.0008333332953043282,0.03583333268761635,0.02250000089406967,0.0,0.0,0.0,0.00416666641831398,0.0016666665906086564,0.00416666641831398,0.0,0.0,0.0,0.0,0.0,0.0,0.0,0.015833333134651184,0.0024999999441206455,0.0016666665906086564,0.0024999999441206455,0.0,0.0,0.0008333332953043282,0.0008333332953043282,0.0,0.00416666641831398,0.0,0.0024999999441206455,0.026666665449738503,0.036666665226221085,0.032499998807907104,0.0,0.0,0.0,0.0,0.0,0.0,0.0,0.0,0.0,0.0,0.0,0.0,0.0,0.0,0.0,0.0,0.0,0.0,0.0,0.0,0.0,0.0,0.0,0.0,0.0,0.0,0.0,0.0,0.0,0.0,0.0,0.0,0.0,0.0,0.0,0.0,0.0,0.0,0.0,0.0,0.0,0.0,0.0,0.0,0.0,0.0,0.0,0.0,0.0,0.0,0.0,0.0,0.0,0.0,0.0,0.0,0.0,0.0,0.0,0.0,0.0,0.0,0.0,0.0,0.0,0.0,0.0,0.0,0.0,0.0,0.0,0.0,0.0,0.0,0.0,0.0,0.0,0.0,0.0,0.0,0.0,0.0,0.0,0.0,0.0,0.0,0.0,0.0,0.0,0.0,0.0,0.0,0.0,0.0,0.0,0.0,0.0,0.0,0.0,0.0,0.0,0.0,0.0,0.0,0.0,0.0,0.0,0.0,0.024166667833924294,0.02083333395421505,0.0008333332953043282,0.0,0.0,0.0,0.0,0.0,0.0,0.0,0.0,0.0,0.0,0.0,0.0,0.0,0.0,0.0,0.0,0.0,0.0,0.0,0.0,0.18583333492279053,0.3291666507720947,0.34333333373069763,0.12583333253860474,0.39499998092651367,0.10249999910593033,0.04500000178813934,0.06416666507720947,0.059166669845581055,0.04333333298563957,0.0,0.0,0.0008333332953043282,0.03166666626930237,0.0008333332953043282,0.014166667126119137,0.014166667126119137,0.05249999836087227,0.03583333268761635,0.1274999976158142,0.03916666656732559,0.02916666679084301,0.036666665226221085,0.02083333395421505,0.015833333134651184,0.0024999999441206455,0.0,0.0,0.0,0.0,0.010833333246409893,0.0,0.0,0.0,0.0,0.0,0.06333333253860474,0.0133333345875144,0.0,0.0,0.0,0.0,0.0,0.0,0.0,0.0,0.0,0.0,0.0,0.0,0.0,0.0,0.0,0.0,0.0,0.0,0.0,0.0,0.0,0.0,0.0,0.0,0.0,0.0,0.0,0.0,0.0,0.0,0.0,0.0,0.04333333298563957,0.015833333134651184,0.23499999940395355,0.018333332613110542,0.014999999664723873,0.0008333332953043282,0.0024999999441206455,0.02749999798834324,0.17666666209697723,0.03916666656732559,0.2108333259820938,0.011666666716337204,0.008333333767950535,0.0016666665906086564,0.0008333332953043282,0.0008333332953043282,0.0,0.009999999776482582,0.08166667073965073,0.057500001043081284,0.036666665226221085,0.07000000029802322,0.17499999701976776,0.0833333358168602,0.04416666552424431,0.030833333730697632,0.09916666895151138,0.03333333507180214,0.004999999422580004,0.0,0.0,0.0,0.0,0.0,0.0,0.0,0.0,0.0,0.0,0.0,0.0,0.0,0.0,0.0,0.0,0.0,0.0,0.0,0.0,0.0,0.0,0.0,0.0,0.0,0.0,0.0,0.0,0.0,0.0,0.0,0.0,0.0,0.0,0.0,0.0,0.0,0.0,0.0,0.0,0.0,0.0,0.0,0.0,0.0,0.0,0.0,0.0,0.0,0.0,0.0,0.0,0.0,0.0,0.0,0.0,0.0,0.0,0.0,0.0,0.0,0.0,0.0,0.0,0.0,0.0,0.0,0.0,0.0,0.0,0.0,0.0,0.0,0.0,0.0,0.0,0.0,0.0,0.0,0.0,0.0,0.0,0.0,0.0,0.0,0.0,0.0,0.0,0.0,0.0,0.0,0.0,0.024166667833924294,0.0,0.0,0.0,0.0,0.0,0.0,0.0,0.0,0.0,0.0,0.0,0.0,0.0,0.01666666567325592,0.015833333134651184,0.005833333358168602,0.026666665449738503,0.0,0.003333333181217313,0.012500000186264515,0.0016666665906086564,0.006666666362434626,0.005833333358168602,0.004999999888241291,0.0008333332953043282,0.0,0.0,0.0,0.0,0.0,0.0,0.0,0.0,0.0,0.0,0.0,0.0024999999441206455,0.005833333358168602,0.024166665971279144,0.00833333283662796,0.00833333283662796,0.024166665971279144,0.0024999999441206455,0.025833332911133766,0.04083333536982536,0.02083333395421505,0.0,0.02916666679084301,0.003333333181217313,0.0,0.0,0.0,0.0,0.0,0.0,0.0,0.0,0.0,0.0,0.0,0.0,0.0,0.0,0.0,0.0,0.0,0.0,0.0,0.0,0.0,0.0,0.0,0.0,0.0,0.0,0.0,0.0,0.0,0.0,0.0,0.0,0.0,0.0,0.0,0.0,0.0,0.0,0.0,0.0,0.0,0.0,0.0,0.0,0.0,0.0,0.0,0.0,0.0,0.0,0.0,0.0,0.0,0.0,0.0,0.0,0.0,0.0,0.0,0.0,0.0,0.0,0.0,0.0,0.0,0.0,0.0,0.0,0.0,0.0,0.0,0.006666666362434626,0.008333333767950535,0.036666665226221085,0.0016666665906086564,0.0,0.0,0.0,0.0,0.0,0.0,0.15833333134651184,0.22416667640209198,0.14749999344348907,0.1133333370089531,0.40833333134651184,0.33500000834465027,0.25333333015441895,0.19750000536441803,0.10083333402872086,0.024166665971279144,0.015000000596046448,0.005833333358168602,0.0016666665906086564,0.02083333395421505,0.11083333939313889,0.07000000029802322,0.1875,0.07999999821186066,0.10083333402872086,0.04000000283122063,0.003333333181217313,0.03916666656732559,0.0,0.02916666679084301,0.00833333283662796,0.036666665226221085,0.35749998688697815,0.04583333432674408,0.12583333253860474,0.0950000062584877,0.04583333432674408,0.009999999776482582,0.015833334997296333,0.030833333730697632,0.0008333332953043282,0.0,0.0,0.018333332613110542,0.009166666306555271,0.006666666362434626,0.0,0.0008333332953043282,0.0,0.0,0.0,0.0,0.0008333332953043282,0.0016666665906086564,0.0,0.0,0.0008333332953043282,0.0,0.0,0.0,0.0,0.0,0.0,0.01666666753590107,0.004999999888241291,0.0,0.00833333283662796,0.025833332911133766,0.00416666641831398,0.003333333181217313,0.0,0.02083333395421505,0.0008333332953043282,0.0016666665906086564,0.0,0.0,0.0,0.0,0.0,0.0,0.0,0.0,0.0,0.0,0.0,0.0,0.005833333358168602,0.01916666515171528,0.2541666626930237,0.18583333492279053,0.026666665449738503,0.10083333402872086,0.3474999964237213,0.2408333271741867,0.1966666579246521,0.10499999672174454,0.03583333268761635,0.005833333358168602,0.030000001192092896,0.049166664481163025,0.007499999832361937,0.03166666626930237,0.005833333358168602,0.0016666665906086564,0.003333333181217313,0.006666666362434626,0.02749999798834324,0.05166666582226753,0.02500000037252903,0.005833333358168602,0.0,0.0,0.0,0.0,0.0,0.0,0.0,0.0,0.0,0.0024999999441206455,0.00416666641831398,0.0,0.0,0.0,0.0,0.0,0.0,0.0,0.0,0.0,0.0,0.0,0.0,0.014999999664723873,0.04333333298563957,0.00416666641831398,0.0008333332953043282,0.004999999888241291,0.0,0.0,0.0,0.0,0.0,0.0,0.0,0.0,0.0,0.0,0.0,0.0,0.0,0.0,0.0,0.0,0.0,0.0,0.0,0.0,0.0,0.0,0.0,0.0,0.0,0.0,0.0,0.0,0.0,0.0,0.0,0.0,0.0,0.0,0.0,0.0,0.0,0.0,0.0,0.0,0.0,0.0,0.0,0.0,0.0,0.0,0.02250000089406967,0.05416666343808174,0.0008333332953043282,0.0,0.0,0.0008333332953043282,0.01916666515171528,0.0416666679084301,0.03166666626930237,0.1600000113248825,0.13833333551883698,0.03999999910593033,0.030833333730697632,0.02749999798834324,0.0016666665906086564,0.0,0.0,0.0,0.0,0.0,0.0,0.0,0.0,0.0,0.0,0.011666666716337204,0.021666666492819786,0.0024999999441206455,0.0,0.0,0.0,0.0,0.0,0.0,0.0024999999441206455,0.0,0.0,0.0,0.0016666665906086564,0.0016666665906086564,0.0016666665906086564,0.0024999999441206455,0.007499999832361937,0.010833333246409893,0.014999999664723873,0.03749999776482582,0.004999999888241291,0.0016666665906086564,0.004999999888241291,0.0,0.0008333332953043282,0.003333333181217313,0.0016666665906086564,0.0,0.0,0.0,0.0,0.0008333332953043282,0.0,0.0,0.0,0.0,0.0,0.0,0.0,0.0,0.0,0.0,0.0,0.0,0.0,0.0,0.0,0.0,0.0,0.0,0.0,0.0,0.0,0.0,0.0,0.0,0.0,0.0,0.0,0.0,0.0,0.0,0.0,0.0,0.0,0.0,0.0,0.0,0.0,0.0,0.0,0.0,0.0,0.0,0.0,0.0,0.0,0.0,0.0,0.0,0.0,0.0,0.0,0.0,0.0,0.0,0.0,0.0,0.0,0.0,0.0,0.0,0.0,0.0,0.0,0.0,0.0,0.0008333332953043282,0.0,0.0,0.0,0.005833333358168602,0.00416666641831398,0.0016666665906086564,0.0,0.0,0.0,0.0,0.0,0.0,0.0,0.0,0.0,0.0,0.0,0.0,0.0,0.0,0.0,0.0,0.0,0.0,0.0,0.0,0.0,0.0008333332953043282,0.0,0.0,0.003333333181217313,0.004999999888241291,0.08249999582767487,0.09000000357627869,0.02749999798834324,0.057500001043081284,0.009999999776482582,0.003333333181217313,0.0,0.0,0.0,0.0008333332953043282,0.06333333253860474,0.046666666865348816,0.04833333194255829,0.011666666716337204,0.032499998807907104,0.013333332724869251,0.012500000186264515,0.0008333332953043282,0.015833333134651184,0.05499999597668648,0.07083333283662796,0.005833332892507315,0.039166662842035294,0.05666666850447655,0.01916666515171528,0.050833333283662796,0.009166666306555271,0.00416666641831398,0.009999999776482582,0.0024999999441206455,0.05166666582226753,0.022499999031424522,0.022499999031424522,0.00416666641831398,0.0024999999441206455,0.0024999999441206455,0.08083333820104599,0.2616666555404663,0.13833333551883698,0.10750000923871994,0.03583333268761635,0.14499999582767487,0.026666665449738503,0.017500000074505806,0.00833333283662796,0.05166666582226753,0.03166666626930237,0.0,0.0,0.02083333395421505,0.01916666515171528,0.018333332613110542,0.049166664481163025,0.05583333596587181,0.02083333395421505,0.14499999582767487,0.003333333181217313,0.006666666362434626,0.014999999664723873,0.021666666492819786,0.022499999031424522,0.09999999403953552,0.2266666740179062,0.14000000059604645,0.006666666362434626,0.003333333181217313,0.003333333181217313,0.0,0.0,0.0,0.0,0.0,0.0,0.0,0.0,0.0,0.0,0.0,0.0,0.0,0.0,0.0,0.0,0.0,0.0,0.0,0.00416666641831398,0.11083332449197769,0.29249998927116394,0.21166665852069855,0.14749999344348907,0.029999999329447746,0.0416666679084301,0.18333333730697632,0.09583333134651184,0.2291666716337204,0.6583333611488342,0.11250000447034836,0.19166666269302368,0.31166666746139526,0.1133333370089531,0.3333333134651184,0.050833333283662796,0.006666666362434626,0.18666666746139526,0.2691666781902313,0.46000000834465027,0.1041666641831398,0.008333333767950535,0.007499999832361937,0.0,0.005833332892507315,0.0008333332953043282,0.0,0.0,0.0,0.0,0.0,0.0,0.0,0.0,0.0,0.0,0.0,0.0,0.0,0.28166666626930237,0.0,0.0,0.0,0.0,0.0,0.0,0.0,0.0,0.0,0.0,0.0,0.0,0.0,0.0,0.0,0.0,0.0,0.0,0.0,0.0,null,0.0,null,null,null,null,null,null,null,null,0.0,0.0,0.0,0.0,0.0,0.0,0.0,0.0,0.0,0.0,0.0,0.0,0.0,0.0,0.0,0.0,0.0,0.0,0.0,0.0,0.0,0.0,0.0,0.0,0.0,0.0,0.0,0.0,0.0,0.0,0.0,0.0,0.0,0.0,0.0,0.0,0.0,0.0,0.0,0.0,0.0,0.0,0.0,0.0,0.0,0.0,0.0,0.0,0.0,0.0,0.0,0.0,0.0,0.0,0.0,0.0,0.0,0.0,0.0,0.0,0.0,0.0,0.0,0.0,0.0,0.0,0.0,0.0,0.0,0.0,0.0,0.0,0.0,0.0,0.0,0.0,0.0,0.0,0.0,0.0,0.0,0.0,0.0,0.0,0.0,0.0,0.0,0.0,0.0,0.0,0.0,0.0,0.0,0.0,0.0,0.0,0.0,0.0,0.0,0.0,0.0,0.0,0.0,0.0,0.0,0.0,0.0,0.0,0.0,0.0,0.0,0.0,0.0,0.0,0.0,0.0,0.0,0.0,0.0,0.0,0.0,0.0,0.0,0.0,0.0,0.0,0.0,0.0,0.0,0.0,0.0,0.0,0.0,0.0,0.0,0.0,0.0,0.0,0.0,0.0,0.0,0.0,0.0,0.0,0.0,0.0,0.0,0.0,0.0,0.0,0.0,0.0,0.0,0.0,0.0,0.0,0.0,0.0,0.0,0.0,0.0,0.0,0.0,0.0,0.0,0.0,0.0,0.0,0.0,0.0,0.0,0.0,0.0,0.0,0.0,0.0,0.0,0.0,0.0,0.0,0.0,0.0,0.0,0.0,0.0,0.0,0.0,0.0,0.0,0.0,0.0,0.0,0.0,0.0,0.0,0.0,0.0,0.0,0.0,0.0,0.0,0.0,0.0,0.0,0.0,0.0,0.0,0.0,0.0,0.0,0.0,0.0,0.0,0.0,0.0,0.0,0.0,0.0,0.0,0.0,0.0,0.0,0.0,0.0,0.0,0.0,0.0,0.0,0.0,0.0,0.0,0.0,0.0,0.0,0.0,0.0,0.0,0.0,0.0,0.0,0.0,0.0,0.0,0.0,0.0,0.0,0.0,0.0,0.0,0.0,0.0,0.0,0.0,0.0,0.0,0.0,0.0,0.0,0.0,0.0,0.0,0.0,0.0,0.0,0.0,0.0,0.0,0.0,0.0,0.0,0.0,0.0,0.0,0.0,0.0,0.0,0.0,0.0,0.0,0.0,0.0,0.0,0.0,0.0,0.0,0.0,0.0,0.0,0.0,0.0,0.0,0.0,0.0,0.0,0.0,0.0,0.0,0.0,0.0,0.0,0.0,0.0,0.0,0.0,0.0,0.0,0.0,0.0,0.0,0.0,0.0,0.0,0.0,0.0,0.0,0.0,0.0,0.0,0.0,0.0,0.0,0.0,0.0,0.0,0.0,0.0,0.0,0.0,0.0,0.0,0.0,0.0,0.0,0.0,0.0,0.0,0.0,0.0,0.0,0.0,0.0,0.0,0.0,0.0,0.0,0.0,0.0,0.0,0.0,0.0,0.0,0.0,0.0,0.0,0.0,0.0,0.0,0.0,0.0,0.0,0.0,0.0,0.0,0.0,0.0,0.0,0.0,0.0,0.0,0.0,0.0,0.0,0.0,0.0,0.0,0.0,0.0,0.0,0.0,0.0,0.0,0.0,0.0,0.0,0.0,0.0,0.0,0.0,0.0,0.0,0.0,0.0,0.0,0.0,0.0,0.0,0.0,0.0,0.0,0.0,0.0,0.0,0.0,0.0,0.0,0.0,0.0,0.0,0.0,0.0,0.0,0.0,0.0,0.0,0.0,0.0,0.0,0.0,0.0,0.0,0.0,0.0,0.0,0.0,0.0,0.0,0.0,0.0,0.0,0.0,0.0,0.0,0.0,0.0,0.0,0.0,0.0,0.0,0.0,0.0,0.0,0.0,0.0,0.0,0.0,0.0,0.0,0.0,0.0,0.0,0.0,0.0,0.0,0.0,0.0,0.0,0.0,0.0,0.0,0.0,0.0,0.0,0.0,0.0,0.0,0.0,0.0,0.0,0.0,0.0,0.0,0.0,0.0,0.0,0.0,0.0,0.0,0.0,0.0,0.0,0.0,0.0,0.0,0.0,0.0,0.0],\"yaxis\":\"y\",\"type\":\"scattergl\"}],                        {\"template\":{\"data\":{\"histogram2dcontour\":[{\"type\":\"histogram2dcontour\",\"colorbar\":{\"outlinewidth\":0,\"ticks\":\"\"},\"colorscale\":[[0.0,\"#0d0887\"],[0.1111111111111111,\"#46039f\"],[0.2222222222222222,\"#7201a8\"],[0.3333333333333333,\"#9c179e\"],[0.4444444444444444,\"#bd3786\"],[0.5555555555555556,\"#d8576b\"],[0.6666666666666666,\"#ed7953\"],[0.7777777777777778,\"#fb9f3a\"],[0.8888888888888888,\"#fdca26\"],[1.0,\"#f0f921\"]]}],\"choropleth\":[{\"type\":\"choropleth\",\"colorbar\":{\"outlinewidth\":0,\"ticks\":\"\"}}],\"histogram2d\":[{\"type\":\"histogram2d\",\"colorbar\":{\"outlinewidth\":0,\"ticks\":\"\"},\"colorscale\":[[0.0,\"#0d0887\"],[0.1111111111111111,\"#46039f\"],[0.2222222222222222,\"#7201a8\"],[0.3333333333333333,\"#9c179e\"],[0.4444444444444444,\"#bd3786\"],[0.5555555555555556,\"#d8576b\"],[0.6666666666666666,\"#ed7953\"],[0.7777777777777778,\"#fb9f3a\"],[0.8888888888888888,\"#fdca26\"],[1.0,\"#f0f921\"]]}],\"heatmap\":[{\"type\":\"heatmap\",\"colorbar\":{\"outlinewidth\":0,\"ticks\":\"\"},\"colorscale\":[[0.0,\"#0d0887\"],[0.1111111111111111,\"#46039f\"],[0.2222222222222222,\"#7201a8\"],[0.3333333333333333,\"#9c179e\"],[0.4444444444444444,\"#bd3786\"],[0.5555555555555556,\"#d8576b\"],[0.6666666666666666,\"#ed7953\"],[0.7777777777777778,\"#fb9f3a\"],[0.8888888888888888,\"#fdca26\"],[1.0,\"#f0f921\"]]}],\"heatmapgl\":[{\"type\":\"heatmapgl\",\"colorbar\":{\"outlinewidth\":0,\"ticks\":\"\"},\"colorscale\":[[0.0,\"#0d0887\"],[0.1111111111111111,\"#46039f\"],[0.2222222222222222,\"#7201a8\"],[0.3333333333333333,\"#9c179e\"],[0.4444444444444444,\"#bd3786\"],[0.5555555555555556,\"#d8576b\"],[0.6666666666666666,\"#ed7953\"],[0.7777777777777778,\"#fb9f3a\"],[0.8888888888888888,\"#fdca26\"],[1.0,\"#f0f921\"]]}],\"contourcarpet\":[{\"type\":\"contourcarpet\",\"colorbar\":{\"outlinewidth\":0,\"ticks\":\"\"}}],\"contour\":[{\"type\":\"contour\",\"colorbar\":{\"outlinewidth\":0,\"ticks\":\"\"},\"colorscale\":[[0.0,\"#0d0887\"],[0.1111111111111111,\"#46039f\"],[0.2222222222222222,\"#7201a8\"],[0.3333333333333333,\"#9c179e\"],[0.4444444444444444,\"#bd3786\"],[0.5555555555555556,\"#d8576b\"],[0.6666666666666666,\"#ed7953\"],[0.7777777777777778,\"#fb9f3a\"],[0.8888888888888888,\"#fdca26\"],[1.0,\"#f0f921\"]]}],\"surface\":[{\"type\":\"surface\",\"colorbar\":{\"outlinewidth\":0,\"ticks\":\"\"},\"colorscale\":[[0.0,\"#0d0887\"],[0.1111111111111111,\"#46039f\"],[0.2222222222222222,\"#7201a8\"],[0.3333333333333333,\"#9c179e\"],[0.4444444444444444,\"#bd3786\"],[0.5555555555555556,\"#d8576b\"],[0.6666666666666666,\"#ed7953\"],[0.7777777777777778,\"#fb9f3a\"],[0.8888888888888888,\"#fdca26\"],[1.0,\"#f0f921\"]]}],\"mesh3d\":[{\"type\":\"mesh3d\",\"colorbar\":{\"outlinewidth\":0,\"ticks\":\"\"}}],\"scatter\":[{\"fillpattern\":{\"fillmode\":\"overlay\",\"size\":10,\"solidity\":0.2},\"type\":\"scatter\"}],\"parcoords\":[{\"type\":\"parcoords\",\"line\":{\"colorbar\":{\"outlinewidth\":0,\"ticks\":\"\"}}}],\"scatterpolargl\":[{\"type\":\"scatterpolargl\",\"marker\":{\"colorbar\":{\"outlinewidth\":0,\"ticks\":\"\"}}}],\"bar\":[{\"error_x\":{\"color\":\"#2a3f5f\"},\"error_y\":{\"color\":\"#2a3f5f\"},\"marker\":{\"line\":{\"color\":\"#E5ECF6\",\"width\":0.5},\"pattern\":{\"fillmode\":\"overlay\",\"size\":10,\"solidity\":0.2}},\"type\":\"bar\"}],\"scattergeo\":[{\"type\":\"scattergeo\",\"marker\":{\"colorbar\":{\"outlinewidth\":0,\"ticks\":\"\"}}}],\"scatterpolar\":[{\"type\":\"scatterpolar\",\"marker\":{\"colorbar\":{\"outlinewidth\":0,\"ticks\":\"\"}}}],\"histogram\":[{\"marker\":{\"pattern\":{\"fillmode\":\"overlay\",\"size\":10,\"solidity\":0.2}},\"type\":\"histogram\"}],\"scattergl\":[{\"type\":\"scattergl\",\"marker\":{\"colorbar\":{\"outlinewidth\":0,\"ticks\":\"\"}}}],\"scatter3d\":[{\"type\":\"scatter3d\",\"line\":{\"colorbar\":{\"outlinewidth\":0,\"ticks\":\"\"}},\"marker\":{\"colorbar\":{\"outlinewidth\":0,\"ticks\":\"\"}}}],\"scattermapbox\":[{\"type\":\"scattermapbox\",\"marker\":{\"colorbar\":{\"outlinewidth\":0,\"ticks\":\"\"}}}],\"scatterternary\":[{\"type\":\"scatterternary\",\"marker\":{\"colorbar\":{\"outlinewidth\":0,\"ticks\":\"\"}}}],\"scattercarpet\":[{\"type\":\"scattercarpet\",\"marker\":{\"colorbar\":{\"outlinewidth\":0,\"ticks\":\"\"}}}],\"carpet\":[{\"aaxis\":{\"endlinecolor\":\"#2a3f5f\",\"gridcolor\":\"white\",\"linecolor\":\"white\",\"minorgridcolor\":\"white\",\"startlinecolor\":\"#2a3f5f\"},\"baxis\":{\"endlinecolor\":\"#2a3f5f\",\"gridcolor\":\"white\",\"linecolor\":\"white\",\"minorgridcolor\":\"white\",\"startlinecolor\":\"#2a3f5f\"},\"type\":\"carpet\"}],\"table\":[{\"cells\":{\"fill\":{\"color\":\"#EBF0F8\"},\"line\":{\"color\":\"white\"}},\"header\":{\"fill\":{\"color\":\"#C8D4E3\"},\"line\":{\"color\":\"white\"}},\"type\":\"table\"}],\"barpolar\":[{\"marker\":{\"line\":{\"color\":\"#E5ECF6\",\"width\":0.5},\"pattern\":{\"fillmode\":\"overlay\",\"size\":10,\"solidity\":0.2}},\"type\":\"barpolar\"}],\"pie\":[{\"automargin\":true,\"type\":\"pie\"}]},\"layout\":{\"autotypenumbers\":\"strict\",\"colorway\":[\"#636efa\",\"#EF553B\",\"#00cc96\",\"#ab63fa\",\"#FFA15A\",\"#19d3f3\",\"#FF6692\",\"#B6E880\",\"#FF97FF\",\"#FECB52\"],\"font\":{\"color\":\"#2a3f5f\"},\"hovermode\":\"closest\",\"hoverlabel\":{\"align\":\"left\"},\"paper_bgcolor\":\"white\",\"plot_bgcolor\":\"#E5ECF6\",\"polar\":{\"bgcolor\":\"#E5ECF6\",\"angularaxis\":{\"gridcolor\":\"white\",\"linecolor\":\"white\",\"ticks\":\"\"},\"radialaxis\":{\"gridcolor\":\"white\",\"linecolor\":\"white\",\"ticks\":\"\"}},\"ternary\":{\"bgcolor\":\"#E5ECF6\",\"aaxis\":{\"gridcolor\":\"white\",\"linecolor\":\"white\",\"ticks\":\"\"},\"baxis\":{\"gridcolor\":\"white\",\"linecolor\":\"white\",\"ticks\":\"\"},\"caxis\":{\"gridcolor\":\"white\",\"linecolor\":\"white\",\"ticks\":\"\"}},\"coloraxis\":{\"colorbar\":{\"outlinewidth\":0,\"ticks\":\"\"}},\"colorscale\":{\"sequential\":[[0.0,\"#0d0887\"],[0.1111111111111111,\"#46039f\"],[0.2222222222222222,\"#7201a8\"],[0.3333333333333333,\"#9c179e\"],[0.4444444444444444,\"#bd3786\"],[0.5555555555555556,\"#d8576b\"],[0.6666666666666666,\"#ed7953\"],[0.7777777777777778,\"#fb9f3a\"],[0.8888888888888888,\"#fdca26\"],[1.0,\"#f0f921\"]],\"sequentialminus\":[[0.0,\"#0d0887\"],[0.1111111111111111,\"#46039f\"],[0.2222222222222222,\"#7201a8\"],[0.3333333333333333,\"#9c179e\"],[0.4444444444444444,\"#bd3786\"],[0.5555555555555556,\"#d8576b\"],[0.6666666666666666,\"#ed7953\"],[0.7777777777777778,\"#fb9f3a\"],[0.8888888888888888,\"#fdca26\"],[1.0,\"#f0f921\"]],\"diverging\":[[0,\"#8e0152\"],[0.1,\"#c51b7d\"],[0.2,\"#de77ae\"],[0.3,\"#f1b6da\"],[0.4,\"#fde0ef\"],[0.5,\"#f7f7f7\"],[0.6,\"#e6f5d0\"],[0.7,\"#b8e186\"],[0.8,\"#7fbc41\"],[0.9,\"#4d9221\"],[1,\"#276419\"]]},\"xaxis\":{\"gridcolor\":\"white\",\"linecolor\":\"white\",\"ticks\":\"\",\"title\":{\"standoff\":15},\"zerolinecolor\":\"white\",\"automargin\":true,\"zerolinewidth\":2},\"yaxis\":{\"gridcolor\":\"white\",\"linecolor\":\"white\",\"ticks\":\"\",\"title\":{\"standoff\":15},\"zerolinecolor\":\"white\",\"automargin\":true,\"zerolinewidth\":2},\"scene\":{\"xaxis\":{\"backgroundcolor\":\"#E5ECF6\",\"gridcolor\":\"white\",\"linecolor\":\"white\",\"showbackground\":true,\"ticks\":\"\",\"zerolinecolor\":\"white\",\"gridwidth\":2},\"yaxis\":{\"backgroundcolor\":\"#E5ECF6\",\"gridcolor\":\"white\",\"linecolor\":\"white\",\"showbackground\":true,\"ticks\":\"\",\"zerolinecolor\":\"white\",\"gridwidth\":2},\"zaxis\":{\"backgroundcolor\":\"#E5ECF6\",\"gridcolor\":\"white\",\"linecolor\":\"white\",\"showbackground\":true,\"ticks\":\"\",\"zerolinecolor\":\"white\",\"gridwidth\":2}},\"shapedefaults\":{\"line\":{\"color\":\"#2a3f5f\"}},\"annotationdefaults\":{\"arrowcolor\":\"#2a3f5f\",\"arrowhead\":0,\"arrowwidth\":1},\"geo\":{\"bgcolor\":\"white\",\"landcolor\":\"#E5ECF6\",\"subunitcolor\":\"white\",\"showland\":true,\"showlakes\":true,\"lakecolor\":\"white\"},\"title\":{\"x\":0.05},\"mapbox\":{\"style\":\"light\"}}},\"xaxis\":{\"anchor\":\"y\",\"domain\":[0.0,1.0],\"title\":{\"text\":\"x\"}},\"yaxis\":{\"anchor\":\"x\",\"domain\":[0.0,1.0],\"title\":{\"text\":\"y\"},\"type\":\"log\"},\"legend\":{\"tracegroupgap\":0},\"title\":{\"text\":\"BSF 1H\"},\"height\":800,\"width\":800},                        {\"responsive\": true}                    ).then(function(){\n",
       "                            \n",
       "var gd = document.getElementById('e9abc962-a090-44d5-9a6e-f64a6ecc0a44');\n",
       "var x = new MutationObserver(function (mutations, observer) {{\n",
       "        var display = window.getComputedStyle(gd).display;\n",
       "        if (!display || display === 'none') {{\n",
       "            console.log([gd, 'removed!']);\n",
       "            Plotly.purge(gd);\n",
       "            observer.disconnect();\n",
       "        }}\n",
       "}});\n",
       "\n",
       "// Listen for the removal of the full notebook cells\n",
       "var notebookContainer = gd.closest('#notebook-container');\n",
       "if (notebookContainer) {{\n",
       "    x.observe(notebookContainer, {childList: true});\n",
       "}}\n",
       "\n",
       "// Listen for the clearing of the current output cell\n",
       "var outputEl = gd.closest('.output');\n",
       "if (outputEl) {{\n",
       "    x.observe(outputEl, {childList: true});\n",
       "}}\n",
       "\n",
       "                        })                };                });            </script>        </div>"
      ]
     },
     "metadata": {},
     "output_type": "display_data"
    }
   ],
   "source": [
    "fig = px.scatter(sos_1H_h2o_flux_ds, x=sos_1H_h2o_flux_ds['w_h2o__3m_c'], y=sos_1H_h2o_flux_ds['SF_avg_1m_ue'], title='BSF 1H')\n",
    "# make the y-axis log\n",
    "fig.update_yaxes(type=\"log\")\n",
    "fig.update_layout(height=800, width=800)"
   ]
  },
  {
   "cell_type": "markdown",
   "metadata": {},
   "source": [
    "We can see here there is a sensitivity between blowing snow flux and sublimation. Now let's see if we can deduce a relationship with windspeed as well."
   ]
  },
  {
   "cell_type": "code",
   "execution_count": 215,
   "metadata": {},
   "outputs": [],
   "source": [
    "ds = sos_1H_h2o_flux_ds\n",
    "sublimation_1H = (ds[[variable for variable in hf.TURBULENCE_VARIABLES if 'w_h2o' in variable]] * 1/rho_w * 1000 * g2kg * s_in_hour).to_dataframe()\n",
    "# get the mean at the 3 meter height\n",
    "sublimation_1H = sublimation_1H[[var for var in sublimation_1H if 'w_h2o__3m' in var]].mean(axis=1).to_frame()\n",
    "sublimation_1H.columns = ['sublimation_1H']\n",
    "# wind speed\n",
    "wind_speed_1H = sos_1H_h2o_flux_ds['spd_10m_ue']\n",
    "wind_speed_1H.name = 'wind_speed_1H'\n",
    "# wind direction\n",
    "wind_direction_1H = sos_1H_h2o_flux_ds['dir_10m_ue']\n",
    "wind_direction_1H.name = 'wind_direction_1H'\n",
    "# temperature at 3m on c\n",
    "temperature_1H = sos_1H_h2o_flux_ds['T_3m_c']\n",
    "temperature_1H.name = 'temperature_1H'\n",
    "# blowing snow flux\n",
    "bsf_timestep = (ds['SF_avg_1m_ue'] + ds['SF_avg_2m_ue'])\n",
    "\n",
    "# add to the sublimation rate\n",
    "sublimation_1H['wind_speed_1H'] = wind_speed_1H.values\n",
    "sublimation_1H['wind_direction_1H'] = wind_direction_1H.values\n",
    "sublimation_1H['temperature_1H'] = temperature_1H.values\n",
    "sublimation_1H['bsf'] = bsf_timestep.values"
   ]
  },
  {
   "cell_type": "code",
   "execution_count": 216,
   "metadata": {},
   "outputs": [],
   "source": [
    "ds = sos_3H_h2o_flux_ds\n",
    "sublimation_3H = (ds[[variable for variable in hf.TURBULENCE_VARIABLES if 'w_h2o' in variable]] * 1/rho_w * 1000 * g2kg * s_in_3hours).to_dataframe()\n",
    "# get the mean at the 3 meter height\n",
    "sublimation_3H = sublimation_3H[[var for var in sublimation_3H if 'w_h2o__3m' in var]].mean(axis=1).to_frame()\n",
    "sublimation_3H.columns = ['sublimation_3H']\n",
    "# wind speed\n",
    "wind_speed_3H= sos_3H_h2o_flux_ds['spd_10m_ue']\n",
    "wind_speed_3H.name = 'wind_speed_3H'\n",
    "# wind direction\n",
    "wind_direction_3H= sos_3H_h2o_flux_ds['dir_10m_ue']\n",
    "wind_direction_3H.name = 'wind_direction_3H'\n",
    "# temperature at 3m on c\n",
    "temperature_3H = sos_3H_h2o_flux_ds['T_3m_c']\n",
    "temperature_3H.name = 'temperature_3H'\n",
    "# blowing snow flux\n",
    "bsf_timestep = (ds['SF_avg_1m_ue'] + ds['SF_avg_2m_ue'])\n",
    "\n",
    "# add to the sublimation rate\n",
    "sublimation_3H['wind_speed_3H'] = wind_speed_3H.values\n",
    "sublimation_3H['wind_direction_3H'] = wind_direction_3H.values\n",
    "sublimation_3H['temperature_3H'] = temperature_3H.values\n",
    "sublimation_3H['bsf'] = bsf_timestep.values\n"
   ]
  },
  {
   "cell_type": "code",
   "execution_count": 217,
   "metadata": {},
   "outputs": [],
   "source": [
    "ds = sos_6H_h2o_flux_ds\n",
    "sublimation_6H = (ds[[variable for variable in hf.TURBULENCE_VARIABLES if 'w_h2o' in variable]] * 1/rho_w * 1000 * g2kg * s_in_3hours*2).to_dataframe()\n",
    "# get the mean at the 3 meter height\n",
    "sublimation_6H = sublimation_6H[[var for var in sublimation_6H if 'w_h2o__3m' in var]].mean(axis=1).to_frame()\n",
    "sublimation_6H.columns = ['sublimation_6H']\n",
    "# wind speed\n",
    "wind_speed_6H= sos_6H_h2o_flux_ds['spd_10m_ue']\n",
    "wind_speed_6H.name = 'wind_speed_6H'\n",
    "# wind direction\n",
    "wind_direction_6H= sos_6H_h2o_flux_ds['dir_10m_ue']\n",
    "wind_direction_6H.name = 'wind_direction_6H'\n",
    "# temperature at 3m on c\n",
    "temperature_6H = sos_6H_h2o_flux_ds['T_3m_c']\n",
    "temperature_6H.name = 'temperature_6H'\n",
    "# blowing snow flux\n",
    "bsf_timestep = (ds['SF_avg_1m_ue'] + ds['SF_avg_2m_ue'])\n",
    "\n",
    "# add to the sublimation rate\n",
    "sublimation_6H['wind_speed_6H'] = wind_speed_6H.values\n",
    "sublimation_6H['wind_direction_6H'] = wind_direction_6H.values\n",
    "sublimation_6H['temperature_6H'] = temperature_6H.values\n",
    "sublimation_6H['bsf'] = bsf_timestep.values\n"
   ]
  },
  {
   "cell_type": "code",
   "execution_count": 218,
   "metadata": {},
   "outputs": [],
   "source": [
    "ds = sos_12H_h2o_flux_ds\n",
    "sublimation_12H = (ds[[variable for variable in hf.TURBULENCE_VARIABLES if 'w_h2o' in variable]] * 1/rho_w * 1000 * g2kg * s_in_12hours).to_dataframe()\n",
    "# get the mean at the 3 meter height\n",
    "sublimation_12H = sublimation_12H[[var for var in sublimation_12H if 'w_h2o__3m' in var]].mean(axis=1).to_frame()\n",
    "sublimation_12H.columns = ['sublimation_12H']\n",
    "# wind speed\n",
    "wind_speed_12H= sos_12H_h2o_flux_ds['spd_10m_ue']\n",
    "wind_speed_12H.name = 'wind_speed_12H'\n",
    "# wind direction\n",
    "wind_direction_12H= sos_12H_h2o_flux_ds['dir_10m_ue']\n",
    "wind_direction_12H.name = 'wind_direction_12H'\n",
    "# temperature at 3m on c\n",
    "temperature_12H = sos_12H_h2o_flux_ds['T_3m_c']\n",
    "temperature_12H.name = 'temperature_12H'\n",
    "# blowing snow flux\n",
    "bsf_timestep = (ds['SF_avg_1m_ue'] + ds['SF_avg_2m_ue'])\n",
    "\n",
    "# add to the sublimation rate\n",
    "sublimation_12H['wind_speed_12H'] = wind_speed_12H.values\n",
    "sublimation_12H['wind_direction_12H'] = wind_direction_12H.values\n",
    "sublimation_12H['temperature_12H'] = temperature_12H.values\n",
    "sublimation_12H['bsf'] = bsf_timestep.values\n"
   ]
  },
  {
   "cell_type": "code",
   "execution_count": 219,
   "metadata": {},
   "outputs": [],
   "source": [
    "ds = sos_1D_h2o_flux_ds\n",
    "sublimation_1D = (ds[[variable for variable in hf.TURBULENCE_VARIABLES if 'w_h2o' in variable]] * 1/rho_w * 1000 * g2kg * s_in_day).to_dataframe()\n",
    "# get the mean at the 3 meter height\n",
    "sublimation_1D = sublimation_1D[[var for var in sublimation_1D if 'w_h2o__3m' in var]].mean(axis=1).to_frame()\n",
    "sublimation_1D.columns = ['sublimation_24H']\n",
    "# wind speed\n",
    "wind_speed_1D= sos_1D_h2o_flux_ds['spd_10m_ue']\n",
    "wind_speed_1D.name = 'wind_speed_24H'\n",
    "# wind direction\n",
    "wind_direction_1D= sos_1D_h2o_flux_ds['dir_10m_ue']\n",
    "wind_direction_1D.name = 'wind_direction_24H'\n",
    "# temperature at 3m on c\n",
    "temperature_1D = sos_1D_h2o_flux_ds['T_3m_c']\n",
    "temperature_1D.name = 'temperature_23H'\n",
    "# blowing snow flux\n",
    "bsf_timestep = (ds['SF_avg_1m_ue'] + ds['SF_avg_2m_ue'])\n",
    "\n",
    "# add to the sublimation rate\n",
    "sublimation_1D['wind_speed_24H'] = wind_speed_1D.values\n",
    "sublimation_1D['wind_direction_24H'] = wind_direction_1D.values\n",
    "sublimation_1D['temperature_24H'] = temperature_1D.values\n",
    "sublimation_1D['bsf'] = bsf_timestep.values\n"
   ]
  },
  {
   "cell_type": "code",
   "execution_count": 283,
   "metadata": {},
   "outputs": [
    {
     "data": {
      "image/png": "[encoded data removed]",
      "text/plain": [
       "<Figure size 800x800 with 1 Axes>"
      ]
     },
     "metadata": {},
     "output_type": "display_data"
    }
   ],
   "source": [
    "df_to_use = sublimation_1H\n",
    "timestep=1\n",
    "\n",
    "df_test = df_to_use[[f'sublimation_{timestep}H', f'wind_speed_{timestep}H', f'wind_direction_{timestep}H', f'temperature_{timestep}H']]\n",
    "# create a 3d histogram in matplotlib to show the relationship between wind speed, wind direction, and total sublimation\n",
    "# To generate some test data\n",
    "xAmplitudes = df_test[f'wind_speed_{timestep}H']#your data here\n",
    "yAmplitudes = df_test[f'wind_direction_{timestep}H']#your other data here\n",
    "\n",
    "\n",
    "fig = plt.figure(figsize=(8,8))\n",
    "ax = fig.add_subplot(111, projection='3d')\n",
    "hist, xedges, yedges = np.histogram2d(xAmplitudes, yAmplitudes, bins=[10,16], range=[[0, 20], [0, 360]])\n",
    "\n",
    "# Construct arrays for the anchor positions of the 16 bars.\n",
    "xpos, ypos = np.meshgrid(xedges[:-1] + 0.25, yedges[:-1]+6.25, indexing=\"ij\")\n",
    "xpos = xpos.ravel()\n",
    "ypos = ypos.ravel()\n",
    "zpos = 0\n",
    "\n",
    "# Construct arrays with the dimensions for the 16 bars.\n",
    "dx = 1*np.ones_like(zpos)\n",
    "dy = 15 * np.ones_like(zpos)\n",
    "dz = hist.ravel()\n",
    "\n",
    "ax.bar3d(xpos, ypos, zpos, dx, dy, dz, zsort='max', color='lightgrey', ec='black')\n",
    "# rotate the plot\n",
    "ax.view_init(30, 30,0)\n",
    "# replace y-axis labels with cardinal wind direction lables\n",
    "ax.set_yticks([0, 22.5, 45, 67.5, 90, 112.5, 135, 157.5, 180, 202.5, 225, 247.5, 270, 292.5, 315, 337.5])\n",
    "ax.set_yticklabels(['N', 'NNE', 'NE', 'ENE', 'E', 'ESE', 'SE', 'SSE', 'S', 'SSW', 'SW', 'WSW', 'W', 'WNW', 'NW', 'NNW'], rotation=80, fontsize=12, ha='left')\n",
    "\n",
    "ax.set_xticks([0,2.5,5,7.5,10,12.5,15,17.5])\n",
    "ax.set_xticklabels(['0-2.5', '2.5-5', '5-7.5', '7.5-10', '10-12.5', '12.5-15', '15-17.5', '17.5-20'], rotation=0, fontsize=12, ha='center', va='bottom')\n",
    "ax.tick_params(axis='x', pad=10)\n",
    "ax.tick_params(axis='y', pad=0)\n",
    "# increase tick label size on zaxis\n",
    "ax.tick_params(axis='z', labelsize=12)\n",
    "# ax.set_zlim(0,40)\n",
    "# show z-axis on the right\n",
    "ax.zaxis.set_rotate_label(False)\n",
    "ax.zaxis.set_label_position('both')\n",
    "\n",
    "ax.set_zlabel('Count', rotation=90, fontsize=14)\n",
    "ax.set_xlabel('Wind Speed (m/s)', fontsize=14)\n",
    "ax.set_ylabel('Wind Direction', fontsize=14)\n",
    "# pad the x-axis label\n",
    "ax.xaxis.labelpad = 20\n",
    "ax.yaxis.labelpad = 20\n",
    "\n",
    "plt.show()"
   ]
  },
  {
   "cell_type": "code",
   "execution_count": 302,
   "metadata": {},
   "outputs": [
    {
     "name": "stderr",
     "output_type": "stream",
     "text": [
      "The default of observed=False is deprecated and will be changed to True in a future version of pandas. Pass observed=False to retain current behavior or observed=True to adopt the future default and silence this warning.\n"
     ]
    }
   ],
   "source": [
    "# wind speed bins\n",
    "wspd_bins = [0, 2, 4, 6, 8, 10,]\n",
    "# wind direction bins\n",
    "wdir_bins = [0, 45, 90, 135, 180, 225, 270, 315, 360]\n",
    "\n",
    "# wspd cut and sum sublimation for each bin\n",
    "wsp_assignment = pd.cut(df_test[f'wind_speed_{timestep}H'], bins=wspd_bins, labels=wspd_bins[:-1])\n",
    "wsp_assignment.name = 'wsp_assignment'\n",
    "# wdir cut and sum sublimation for each bin\n",
    "wdir_assignment = pd.cut(df_test[f'wind_direction_{timestep}H'], bins=wdir_bins, labels=wdir_bins[:-1])\n",
    "wdir_assignment.name = 'wdir_assignment'\n",
    "\n",
    "# combine the two assignments and the sublimation\n",
    "df_test['wsp_assignment'] = wsp_assignment.values\n",
    "df_test['wdir_assignment'] = wdir_assignment.values\n",
    "\n",
    "# groupby the wspd and wdir assignments and get the sum of w_h2o__3m_uw\n",
    "grouped = df_test.groupby(['wsp_assignment', 'wdir_assignment']).sum()[f'sublimation_{timestep}H']\n",
    "# unstack and put into a dataframe\n",
    "grouped =(grouped.unstack())"
   ]
  },
  {
   "cell_type": "code",
   "execution_count": 304,
   "metadata": {},
   "outputs": [
    {
     "data": {
      "application/vnd.plotly.v1+json": {
       "config": {
        "plotlyServerURL": "https://plot.ly"
       },
       "data": [
        {
         "colorbar": {
          "title": {
           "text": "Sublimation<br>(mm)"
          }
         },
         "colorscale": [
          [
           0,
           "rgb(5,48,97)"
          ],
          [
           0.1,
           "rgb(33,102,172)"
          ],
          [
           0.2,
           "rgb(67,147,195)"
          ],
          [
           0.3,
           "rgb(146,197,222)"
          ],
          [
           0.4,
           "rgb(209,229,240)"
          ],
          [
           0.5,
           "rgb(247,247,247)"
          ],
          [
           0.6,
           "rgb(253,219,199)"
          ],
          [
           0.7,
           "rgb(244,165,130)"
          ],
          [
           0.8,
           "rgb(214,96,77)"
          ],
          [
           0.9,
           "rgb(178,24,43)"
          ],
          [
           1,
           "rgb(103,0,31)"
          ]
         ],
         "type": "heatmap",
         "x": [
          0,
          45,
          90,
          135,
          180,
          225,
          270,
          315
         ],
         "xgap": 1,
         "y": [
          0,
          2,
          4,
          6,
          8
         ],
         "ygap": 1,
         "z": [
          [
           0.04939928947606416,
           0.1717921886709972,
           0.7523798606259308,
           0.04742854864221129,
           0.021450377516365023,
           0.00108340140145246,
           -0.03337789741219154,
           -0.21107976137650222
          ],
          [
           0.4434667127086038,
           0.32284654838718324,
           1.590987651997566,
           0.32106215063070975,
           -0.00999154751061961,
           0.07933462532364276,
           0.42877355277729645,
           0.9146732211783771
          ],
          [
           0.6839008176791584,
           0.6291178776738364,
           1.228299190473082,
           0.538545701506986,
           0,
           0.06562811801653567,
           1.1947984236200082,
           2.568606654085599
          ],
          [
           0.08034125409501533,
           0.053542512062524306,
           0,
           0.23067786930407952,
           0,
           0,
           0.38931023228625816,
           2.665839904703662
          ],
          [
           0,
           0,
           0,
           0.10127311889753353,
           0,
           0,
           0.37561741534336074,
           1.6207669051512763
          ]
         ],
         "zmax": 2,
         "zmin": -2
        }
       ],
       "layout": {
        "height": 400,
        "template": {
         "data": {
          "bar": [
           {
            "error_x": {
             "color": "#2a3f5f"
            },
            "error_y": {
             "color": "#2a3f5f"
            },
            "marker": {
             "line": {
              "color": "#E5ECF6",
              "width": 0.5
             },
             "pattern": {
              "fillmode": "overlay",
              "size": 10,
              "solidity": 0.2
             }
            },
            "type": "bar"
           }
          ],
          "barpolar": [
           {
            "marker": {
             "line": {
              "color": "#E5ECF6",
              "width": 0.5
             },
             "pattern": {
              "fillmode": "overlay",
              "size": 10,
              "solidity": 0.2
             }
            },
            "type": "barpolar"
           }
          ],
          "carpet": [
           {
            "aaxis": {
             "endlinecolor": "#2a3f5f",
             "gridcolor": "white",
             "linecolor": "white",
             "minorgridcolor": "white",
             "startlinecolor": "#2a3f5f"
            },
            "baxis": {
             "endlinecolor": "#2a3f5f",
             "gridcolor": "white",
             "linecolor": "white",
             "minorgridcolor": "white",
             "startlinecolor": "#2a3f5f"
            },
            "type": "carpet"
           }
          ],
          "choropleth": [
           {
            "colorbar": {
             "outlinewidth": 0,
             "ticks": ""
            },
            "type": "choropleth"
           }
          ],
          "contour": [
           {
            "colorbar": {
             "outlinewidth": 0,
             "ticks": ""
            },
            "colorscale": [
             [
              0,
              "#0d0887"
             ],
             [
              0.1111111111111111,
              "#46039f"
             ],
             [
              0.2222222222222222,
              "#7201a8"
             ],
             [
              0.3333333333333333,
              "#9c179e"
             ],
             [
              0.4444444444444444,
              "#bd3786"
             ],
             [
              0.5555555555555556,
              "#d8576b"
             ],
             [
              0.6666666666666666,
              "#ed7953"
             ],
             [
              0.7777777777777778,
              "#fb9f3a"
             ],
             [
              0.8888888888888888,
              "#fdca26"
             ],
             [
              1,
              "#f0f921"
             ]
            ],
            "type": "contour"
           }
          ],
          "contourcarpet": [
           {
            "colorbar": {
             "outlinewidth": 0,
             "ticks": ""
            },
            "type": "contourcarpet"
           }
          ],
          "heatmap": [
           {
            "colorbar": {
             "outlinewidth": 0,
             "ticks": ""
            },
            "colorscale": [
             [
              0,
              "#0d0887"
             ],
             [
              0.1111111111111111,
              "#46039f"
             ],
             [
              0.2222222222222222,
              "#7201a8"
             ],
             [
              0.3333333333333333,
              "#9c179e"
             ],
             [
              0.4444444444444444,
              "#bd3786"
             ],
             [
              0.5555555555555556,
              "#d8576b"
             ],
             [
              0.6666666666666666,
              "#ed7953"
             ],
             [
              0.7777777777777778,
              "#fb9f3a"
             ],
             [
              0.8888888888888888,
              "#fdca26"
             ],
             [
              1,
              "#f0f921"
             ]
            ],
            "type": "heatmap"
           }
          ],
          "heatmapgl": [
           {
            "colorbar": {
             "outlinewidth": 0,
             "ticks": ""
            },
            "colorscale": [
             [
              0,
              "#0d0887"
             ],
             [
              0.1111111111111111,
              "#46039f"
             ],
             [
              0.2222222222222222,
              "#7201a8"
             ],
             [
              0.3333333333333333,
              "#9c179e"
             ],
             [
              0.4444444444444444,
              "#bd3786"
             ],
             [
              0.5555555555555556,
              "#d8576b"
             ],
             [
              0.6666666666666666,
              "#ed7953"
             ],
             [
              0.7777777777777778,
              "#fb9f3a"
             ],
             [
              0.8888888888888888,
              "#fdca26"
             ],
             [
              1,
              "#f0f921"
             ]
            ],
            "type": "heatmapgl"
           }
          ],
          "histogram": [
           {
            "marker": {
             "pattern": {
              "fillmode": "overlay",
              "size": 10,
              "solidity": 0.2
             }
            },
            "type": "histogram"
           }
          ],
          "histogram2d": [
           {
            "colorbar": {
             "outlinewidth": 0,
             "ticks": ""
            },
            "colorscale": [
             [
              0,
              "#0d0887"
             ],
             [
              0.1111111111111111,
              "#46039f"
             ],
             [
              0.2222222222222222,
              "#7201a8"
             ],
             [
              0.3333333333333333,
              "#9c179e"
             ],
             [
              0.4444444444444444,
              "#bd3786"
             ],
             [
              0.5555555555555556,
              "#d8576b"
             ],
             [
              0.6666666666666666,
              "#ed7953"
             ],
             [
              0.7777777777777778,
              "#fb9f3a"
             ],
             [
              0.8888888888888888,
              "#fdca26"
             ],
             [
              1,
              "#f0f921"
             ]
            ],
            "type": "histogram2d"
           }
          ],
          "histogram2dcontour": [
           {
            "colorbar": {
             "outlinewidth": 0,
             "ticks": ""
            },
            "colorscale": [
             [
              0,
              "#0d0887"
             ],
             [
              0.1111111111111111,
              "#46039f"
             ],
             [
              0.2222222222222222,
              "#7201a8"
             ],
             [
              0.3333333333333333,
              "#9c179e"
             ],
             [
              0.4444444444444444,
              "#bd3786"
             ],
             [
              0.5555555555555556,
              "#d8576b"
             ],
             [
              0.6666666666666666,
              "#ed7953"
             ],
             [
              0.7777777777777778,
              "#fb9f3a"
             ],
             [
              0.8888888888888888,
              "#fdca26"
             ],
             [
              1,
              "#f0f921"
             ]
            ],
            "type": "histogram2dcontour"
           }
          ],
          "mesh3d": [
           {
            "colorbar": {
             "outlinewidth": 0,
             "ticks": ""
            },
            "type": "mesh3d"
           }
          ],
          "parcoords": [
           {
            "line": {
             "colorbar": {
              "outlinewidth": 0,
              "ticks": ""
             }
            },
            "type": "parcoords"
           }
          ],
          "pie": [
           {
            "automargin": true,
            "type": "pie"
           }
          ],
          "scatter": [
           {
            "fillpattern": {
             "fillmode": "overlay",
             "size": 10,
             "solidity": 0.2
            },
            "type": "scatter"
           }
          ],
          "scatter3d": [
           {
            "line": {
             "colorbar": {
              "outlinewidth": 0,
              "ticks": ""
             }
            },
            "marker": {
             "colorbar": {
              "outlinewidth": 0,
              "ticks": ""
             }
            },
            "type": "scatter3d"
           }
          ],
          "scattercarpet": [
           {
            "marker": {
             "colorbar": {
              "outlinewidth": 0,
              "ticks": ""
             }
            },
            "type": "scattercarpet"
           }
          ],
          "scattergeo": [
           {
            "marker": {
             "colorbar": {
              "outlinewidth": 0,
              "ticks": ""
             }
            },
            "type": "scattergeo"
           }
          ],
          "scattergl": [
           {
            "marker": {
             "colorbar": {
              "outlinewidth": 0,
              "ticks": ""
             }
            },
            "type": "scattergl"
           }
          ],
          "scattermapbox": [
           {
            "marker": {
             "colorbar": {
              "outlinewidth": 0,
              "ticks": ""
             }
            },
            "type": "scattermapbox"
           }
          ],
          "scatterpolar": [
           {
            "marker": {
             "colorbar": {
              "outlinewidth": 0,
              "ticks": ""
             }
            },
            "type": "scatterpolar"
           }
          ],
          "scatterpolargl": [
           {
            "marker": {
             "colorbar": {
              "outlinewidth": 0,
              "ticks": ""
             }
            },
            "type": "scatterpolargl"
           }
          ],
          "scatterternary": [
           {
            "marker": {
             "colorbar": {
              "outlinewidth": 0,
              "ticks": ""
             }
            },
            "type": "scatterternary"
           }
          ],
          "surface": [
           {
            "colorbar": {
             "outlinewidth": 0,
             "ticks": ""
            },
            "colorscale": [
             [
              0,
              "#0d0887"
             ],
             [
              0.1111111111111111,
              "#46039f"
             ],
             [
              0.2222222222222222,
              "#7201a8"
             ],
             [
              0.3333333333333333,
              "#9c179e"
             ],
             [
              0.4444444444444444,
              "#bd3786"
             ],
             [
              0.5555555555555556,
              "#d8576b"
             ],
             [
              0.6666666666666666,
              "#ed7953"
             ],
             [
              0.7777777777777778,
              "#fb9f3a"
             ],
             [
              0.8888888888888888,
              "#fdca26"
             ],
             [
              1,
              "#f0f921"
             ]
            ],
            "type": "surface"
           }
          ],
          "table": [
           {
            "cells": {
             "fill": {
              "color": "#EBF0F8"
             },
             "line": {
              "color": "white"
             }
            },
            "header": {
             "fill": {
              "color": "#C8D4E3"
             },
             "line": {
              "color": "white"
             }
            },
            "type": "table"
           }
          ]
         },
         "layout": {
          "annotationdefaults": {
           "arrowcolor": "#2a3f5f",
           "arrowhead": 0,
           "arrowwidth": 1
          },
          "autotypenumbers": "strict",
          "coloraxis": {
           "colorbar": {
            "outlinewidth": 0,
            "ticks": ""
           }
          },
          "colorscale": {
           "diverging": [
            [
             0,
             "#8e0152"
            ],
            [
             0.1,
             "#c51b7d"
            ],
            [
             0.2,
             "#de77ae"
            ],
            [
             0.3,
             "#f1b6da"
            ],
            [
             0.4,
             "#fde0ef"
            ],
            [
             0.5,
             "#f7f7f7"
            ],
            [
             0.6,
             "#e6f5d0"
            ],
            [
             0.7,
             "#b8e186"
            ],
            [
             0.8,
             "#7fbc41"
            ],
            [
             0.9,
             "#4d9221"
            ],
            [
             1,
             "#276419"
            ]
           ],
           "sequential": [
            [
             0,
             "#0d0887"
            ],
            [
             0.1111111111111111,
             "#46039f"
            ],
            [
             0.2222222222222222,
             "#7201a8"
            ],
            [
             0.3333333333333333,
             "#9c179e"
            ],
            [
             0.4444444444444444,
             "#bd3786"
            ],
            [
             0.5555555555555556,
             "#d8576b"
            ],
            [
             0.6666666666666666,
             "#ed7953"
            ],
            [
             0.7777777777777778,
             "#fb9f3a"
            ],
            [
             0.8888888888888888,
             "#fdca26"
            ],
            [
             1,
             "#f0f921"
            ]
           ],
           "sequentialminus": [
            [
             0,
             "#0d0887"
            ],
            [
             0.1111111111111111,
             "#46039f"
            ],
            [
             0.2222222222222222,
             "#7201a8"
            ],
            [
             0.3333333333333333,
             "#9c179e"
            ],
            [
             0.4444444444444444,
             "#bd3786"
            ],
            [
             0.5555555555555556,
             "#d8576b"
            ],
            [
             0.6666666666666666,
             "#ed7953"
            ],
            [
             0.7777777777777778,
             "#fb9f3a"
            ],
            [
             0.8888888888888888,
             "#fdca26"
            ],
            [
             1,
             "#f0f921"
            ]
           ]
          },
          "colorway": [
           "#636efa",
           "#EF553B",
           "#00cc96",
           "#ab63fa",
           "#FFA15A",
           "#19d3f3",
           "#FF6692",
           "#B6E880",
           "#FF97FF",
           "#FECB52"
          ],
          "font": {
           "color": "#2a3f5f"
          },
          "geo": {
           "bgcolor": "white",
           "lakecolor": "white",
           "landcolor": "#E5ECF6",
           "showlakes": true,
           "showland": true,
           "subunitcolor": "white"
          },
          "hoverlabel": {
           "align": "left"
          },
          "hovermode": "closest",
          "mapbox": {
           "style": "light"
          },
          "paper_bgcolor": "white",
          "plot_bgcolor": "#E5ECF6",
          "polar": {
           "angularaxis": {
            "gridcolor": "white",
            "linecolor": "white",
            "ticks": ""
           },
           "bgcolor": "#E5ECF6",
           "radialaxis": {
            "gridcolor": "white",
            "linecolor": "white",
            "ticks": ""
           }
          },
          "scene": {
           "xaxis": {
            "backgroundcolor": "#E5ECF6",
            "gridcolor": "white",
            "gridwidth": 2,
            "linecolor": "white",
            "showbackground": true,
            "ticks": "",
            "zerolinecolor": "white"
           },
           "yaxis": {
            "backgroundcolor": "#E5ECF6",
            "gridcolor": "white",
            "gridwidth": 2,
            "linecolor": "white",
            "showbackground": true,
            "ticks": "",
            "zerolinecolor": "white"
           },
           "zaxis": {
            "backgroundcolor": "#E5ECF6",
            "gridcolor": "white",
            "gridwidth": 2,
            "linecolor": "white",
            "showbackground": true,
            "ticks": "",
            "zerolinecolor": "white"
           }
          },
          "shapedefaults": {
           "line": {
            "color": "#2a3f5f"
           }
          },
          "ternary": {
           "aaxis": {
            "gridcolor": "white",
            "linecolor": "white",
            "ticks": ""
           },
           "baxis": {
            "gridcolor": "white",
            "linecolor": "white",
            "ticks": ""
           },
           "bgcolor": "#E5ECF6",
           "caxis": {
            "gridcolor": "white",
            "linecolor": "white",
            "ticks": ""
           }
          },
          "title": {
           "x": 0.05
          },
          "xaxis": {
           "automargin": true,
           "gridcolor": "white",
           "linecolor": "white",
           "ticks": "",
           "title": {
            "standoff": 15
           },
           "zerolinecolor": "white",
           "zerolinewidth": 2
          },
          "yaxis": {
           "automargin": true,
           "gridcolor": "white",
           "linecolor": "white",
           "ticks": "",
           "title": {
            "standoff": 15
           },
           "zerolinecolor": "white",
           "zerolinewidth": 2
          }
         }
        },
        "title": {
         "text": "Wind Speed and Wind Direction Sublimation<br>Averaging time = 1 Hour(s)"
        },
        "width": 600,
        "xaxis": {
         "ticktext": [
          "N",
          "NE",
          "E",
          "SE",
          "S",
          "SW",
          "W",
          "NW"
         ],
         "tickvals": [
          0,
          45,
          90,
          135,
          180,
          225,
          270,
          315
         ],
         "title": {
          "text": "Wind Direction"
         }
        },
        "yaxis": {
         "ticktext": [
          "0-2",
          "2-4",
          "4-6",
          "6-8",
          "8-10",
          "10-12",
          "12-14",
          "14-16",
          "16-18",
          "18-20"
         ],
         "tickvals": [
          0,
          2,
          4,
          6,
          8,
          10,
          12,
          14,
          16,
          18
         ],
         "title": {
          "text": "Wind Speed"
         }
        }
       }
      },
      "text/html": [
       "<div>                            <div id=\"a9021483-84c6-40ed-94ea-bf4522f65ba5\" class=\"plotly-graph-div\" style=\"height:400px; width:600px;\"></div>            <script type=\"text/javascript\">                require([\"plotly\"], function(Plotly) {                    window.PLOTLYENV=window.PLOTLYENV || {};                                    if (document.getElementById(\"a9021483-84c6-40ed-94ea-bf4522f65ba5\")) {                    Plotly.newPlot(                        \"a9021483-84c6-40ed-94ea-bf4522f65ba5\",                        [{\"colorbar\":{\"title\":{\"text\":\"Sublimation\\u003cbr\\u003e(mm)\"}},\"colorscale\":[[0.0,\"rgb(5,48,97)\"],[0.1,\"rgb(33,102,172)\"],[0.2,\"rgb(67,147,195)\"],[0.3,\"rgb(146,197,222)\"],[0.4,\"rgb(209,229,240)\"],[0.5,\"rgb(247,247,247)\"],[0.6,\"rgb(253,219,199)\"],[0.7,\"rgb(244,165,130)\"],[0.8,\"rgb(214,96,77)\"],[0.9,\"rgb(178,24,43)\"],[1.0,\"rgb(103,0,31)\"]],\"x\":[0,45,90,135,180,225,270,315],\"xgap\":1,\"y\":[0,2,4,6,8],\"ygap\":1,\"z\":[[0.04939928947606416,0.1717921886709972,0.7523798606259308,0.04742854864221129,0.021450377516365023,0.00108340140145246,-0.03337789741219154,-0.21107976137650222],[0.4434667127086038,0.32284654838718324,1.590987651997566,0.32106215063070975,-0.00999154751061961,0.07933462532364276,0.42877355277729645,0.9146732211783771],[0.6839008176791584,0.6291178776738364,1.228299190473082,0.538545701506986,0.0,0.06562811801653567,1.1947984236200082,2.568606654085599],[0.08034125409501533,0.053542512062524306,0.0,0.23067786930407952,0.0,0.0,0.38931023228625816,2.665839904703662],[0.0,0.0,0.0,0.10127311889753353,0.0,0.0,0.37561741534336074,1.6207669051512763]],\"zmax\":2,\"zmin\":-2,\"type\":\"heatmap\"}],                        {\"template\":{\"data\":{\"histogram2dcontour\":[{\"type\":\"histogram2dcontour\",\"colorbar\":{\"outlinewidth\":0,\"ticks\":\"\"},\"colorscale\":[[0.0,\"#0d0887\"],[0.1111111111111111,\"#46039f\"],[0.2222222222222222,\"#7201a8\"],[0.3333333333333333,\"#9c179e\"],[0.4444444444444444,\"#bd3786\"],[0.5555555555555556,\"#d8576b\"],[0.6666666666666666,\"#ed7953\"],[0.7777777777777778,\"#fb9f3a\"],[0.8888888888888888,\"#fdca26\"],[1.0,\"#f0f921\"]]}],\"choropleth\":[{\"type\":\"choropleth\",\"colorbar\":{\"outlinewidth\":0,\"ticks\":\"\"}}],\"histogram2d\":[{\"type\":\"histogram2d\",\"colorbar\":{\"outlinewidth\":0,\"ticks\":\"\"},\"colorscale\":[[0.0,\"#0d0887\"],[0.1111111111111111,\"#46039f\"],[0.2222222222222222,\"#7201a8\"],[0.3333333333333333,\"#9c179e\"],[0.4444444444444444,\"#bd3786\"],[0.5555555555555556,\"#d8576b\"],[0.6666666666666666,\"#ed7953\"],[0.7777777777777778,\"#fb9f3a\"],[0.8888888888888888,\"#fdca26\"],[1.0,\"#f0f921\"]]}],\"heatmap\":[{\"type\":\"heatmap\",\"colorbar\":{\"outlinewidth\":0,\"ticks\":\"\"},\"colorscale\":[[0.0,\"#0d0887\"],[0.1111111111111111,\"#46039f\"],[0.2222222222222222,\"#7201a8\"],[0.3333333333333333,\"#9c179e\"],[0.4444444444444444,\"#bd3786\"],[0.5555555555555556,\"#d8576b\"],[0.6666666666666666,\"#ed7953\"],[0.7777777777777778,\"#fb9f3a\"],[0.8888888888888888,\"#fdca26\"],[1.0,\"#f0f921\"]]}],\"heatmapgl\":[{\"type\":\"heatmapgl\",\"colorbar\":{\"outlinewidth\":0,\"ticks\":\"\"},\"colorscale\":[[0.0,\"#0d0887\"],[0.1111111111111111,\"#46039f\"],[0.2222222222222222,\"#7201a8\"],[0.3333333333333333,\"#9c179e\"],[0.4444444444444444,\"#bd3786\"],[0.5555555555555556,\"#d8576b\"],[0.6666666666666666,\"#ed7953\"],[0.7777777777777778,\"#fb9f3a\"],[0.8888888888888888,\"#fdca26\"],[1.0,\"#f0f921\"]]}],\"contourcarpet\":[{\"type\":\"contourcarpet\",\"colorbar\":{\"outlinewidth\":0,\"ticks\":\"\"}}],\"contour\":[{\"type\":\"contour\",\"colorbar\":{\"outlinewidth\":0,\"ticks\":\"\"},\"colorscale\":[[0.0,\"#0d0887\"],[0.1111111111111111,\"#46039f\"],[0.2222222222222222,\"#7201a8\"],[0.3333333333333333,\"#9c179e\"],[0.4444444444444444,\"#bd3786\"],[0.5555555555555556,\"#d8576b\"],[0.6666666666666666,\"#ed7953\"],[0.7777777777777778,\"#fb9f3a\"],[0.8888888888888888,\"#fdca26\"],[1.0,\"#f0f921\"]]}],\"surface\":[{\"type\":\"surface\",\"colorbar\":{\"outlinewidth\":0,\"ticks\":\"\"},\"colorscale\":[[0.0,\"#0d0887\"],[0.1111111111111111,\"#46039f\"],[0.2222222222222222,\"#7201a8\"],[0.3333333333333333,\"#9c179e\"],[0.4444444444444444,\"#bd3786\"],[0.5555555555555556,\"#d8576b\"],[0.6666666666666666,\"#ed7953\"],[0.7777777777777778,\"#fb9f3a\"],[0.8888888888888888,\"#fdca26\"],[1.0,\"#f0f921\"]]}],\"mesh3d\":[{\"type\":\"mesh3d\",\"colorbar\":{\"outlinewidth\":0,\"ticks\":\"\"}}],\"scatter\":[{\"fillpattern\":{\"fillmode\":\"overlay\",\"size\":10,\"solidity\":0.2},\"type\":\"scatter\"}],\"parcoords\":[{\"type\":\"parcoords\",\"line\":{\"colorbar\":{\"outlinewidth\":0,\"ticks\":\"\"}}}],\"scatterpolargl\":[{\"type\":\"scatterpolargl\",\"marker\":{\"colorbar\":{\"outlinewidth\":0,\"ticks\":\"\"}}}],\"bar\":[{\"error_x\":{\"color\":\"#2a3f5f\"},\"error_y\":{\"color\":\"#2a3f5f\"},\"marker\":{\"line\":{\"color\":\"#E5ECF6\",\"width\":0.5},\"pattern\":{\"fillmode\":\"overlay\",\"size\":10,\"solidity\":0.2}},\"type\":\"bar\"}],\"scattergeo\":[{\"type\":\"scattergeo\",\"marker\":{\"colorbar\":{\"outlinewidth\":0,\"ticks\":\"\"}}}],\"scatterpolar\":[{\"type\":\"scatterpolar\",\"marker\":{\"colorbar\":{\"outlinewidth\":0,\"ticks\":\"\"}}}],\"histogram\":[{\"marker\":{\"pattern\":{\"fillmode\":\"overlay\",\"size\":10,\"solidity\":0.2}},\"type\":\"histogram\"}],\"scattergl\":[{\"type\":\"scattergl\",\"marker\":{\"colorbar\":{\"outlinewidth\":0,\"ticks\":\"\"}}}],\"scatter3d\":[{\"type\":\"scatter3d\",\"line\":{\"colorbar\":{\"outlinewidth\":0,\"ticks\":\"\"}},\"marker\":{\"colorbar\":{\"outlinewidth\":0,\"ticks\":\"\"}}}],\"scattermapbox\":[{\"type\":\"scattermapbox\",\"marker\":{\"colorbar\":{\"outlinewidth\":0,\"ticks\":\"\"}}}],\"scatterternary\":[{\"type\":\"scatterternary\",\"marker\":{\"colorbar\":{\"outlinewidth\":0,\"ticks\":\"\"}}}],\"scattercarpet\":[{\"type\":\"scattercarpet\",\"marker\":{\"colorbar\":{\"outlinewidth\":0,\"ticks\":\"\"}}}],\"carpet\":[{\"aaxis\":{\"endlinecolor\":\"#2a3f5f\",\"gridcolor\":\"white\",\"linecolor\":\"white\",\"minorgridcolor\":\"white\",\"startlinecolor\":\"#2a3f5f\"},\"baxis\":{\"endlinecolor\":\"#2a3f5f\",\"gridcolor\":\"white\",\"linecolor\":\"white\",\"minorgridcolor\":\"white\",\"startlinecolor\":\"#2a3f5f\"},\"type\":\"carpet\"}],\"table\":[{\"cells\":{\"fill\":{\"color\":\"#EBF0F8\"},\"line\":{\"color\":\"white\"}},\"header\":{\"fill\":{\"color\":\"#C8D4E3\"},\"line\":{\"color\":\"white\"}},\"type\":\"table\"}],\"barpolar\":[{\"marker\":{\"line\":{\"color\":\"#E5ECF6\",\"width\":0.5},\"pattern\":{\"fillmode\":\"overlay\",\"size\":10,\"solidity\":0.2}},\"type\":\"barpolar\"}],\"pie\":[{\"automargin\":true,\"type\":\"pie\"}]},\"layout\":{\"autotypenumbers\":\"strict\",\"colorway\":[\"#636efa\",\"#EF553B\",\"#00cc96\",\"#ab63fa\",\"#FFA15A\",\"#19d3f3\",\"#FF6692\",\"#B6E880\",\"#FF97FF\",\"#FECB52\"],\"font\":{\"color\":\"#2a3f5f\"},\"hovermode\":\"closest\",\"hoverlabel\":{\"align\":\"left\"},\"paper_bgcolor\":\"white\",\"plot_bgcolor\":\"#E5ECF6\",\"polar\":{\"bgcolor\":\"#E5ECF6\",\"angularaxis\":{\"gridcolor\":\"white\",\"linecolor\":\"white\",\"ticks\":\"\"},\"radialaxis\":{\"gridcolor\":\"white\",\"linecolor\":\"white\",\"ticks\":\"\"}},\"ternary\":{\"bgcolor\":\"#E5ECF6\",\"aaxis\":{\"gridcolor\":\"white\",\"linecolor\":\"white\",\"ticks\":\"\"},\"baxis\":{\"gridcolor\":\"white\",\"linecolor\":\"white\",\"ticks\":\"\"},\"caxis\":{\"gridcolor\":\"white\",\"linecolor\":\"white\",\"ticks\":\"\"}},\"coloraxis\":{\"colorbar\":{\"outlinewidth\":0,\"ticks\":\"\"}},\"colorscale\":{\"sequential\":[[0.0,\"#0d0887\"],[0.1111111111111111,\"#46039f\"],[0.2222222222222222,\"#7201a8\"],[0.3333333333333333,\"#9c179e\"],[0.4444444444444444,\"#bd3786\"],[0.5555555555555556,\"#d8576b\"],[0.6666666666666666,\"#ed7953\"],[0.7777777777777778,\"#fb9f3a\"],[0.8888888888888888,\"#fdca26\"],[1.0,\"#f0f921\"]],\"sequentialminus\":[[0.0,\"#0d0887\"],[0.1111111111111111,\"#46039f\"],[0.2222222222222222,\"#7201a8\"],[0.3333333333333333,\"#9c179e\"],[0.4444444444444444,\"#bd3786\"],[0.5555555555555556,\"#d8576b\"],[0.6666666666666666,\"#ed7953\"],[0.7777777777777778,\"#fb9f3a\"],[0.8888888888888888,\"#fdca26\"],[1.0,\"#f0f921\"]],\"diverging\":[[0,\"#8e0152\"],[0.1,\"#c51b7d\"],[0.2,\"#de77ae\"],[0.3,\"#f1b6da\"],[0.4,\"#fde0ef\"],[0.5,\"#f7f7f7\"],[0.6,\"#e6f5d0\"],[0.7,\"#b8e186\"],[0.8,\"#7fbc41\"],[0.9,\"#4d9221\"],[1,\"#276419\"]]},\"xaxis\":{\"gridcolor\":\"white\",\"linecolor\":\"white\",\"ticks\":\"\",\"title\":{\"standoff\":15},\"zerolinecolor\":\"white\",\"automargin\":true,\"zerolinewidth\":2},\"yaxis\":{\"gridcolor\":\"white\",\"linecolor\":\"white\",\"ticks\":\"\",\"title\":{\"standoff\":15},\"zerolinecolor\":\"white\",\"automargin\":true,\"zerolinewidth\":2},\"scene\":{\"xaxis\":{\"backgroundcolor\":\"#E5ECF6\",\"gridcolor\":\"white\",\"linecolor\":\"white\",\"showbackground\":true,\"ticks\":\"\",\"zerolinecolor\":\"white\",\"gridwidth\":2},\"yaxis\":{\"backgroundcolor\":\"#E5ECF6\",\"gridcolor\":\"white\",\"linecolor\":\"white\",\"showbackground\":true,\"ticks\":\"\",\"zerolinecolor\":\"white\",\"gridwidth\":2},\"zaxis\":{\"backgroundcolor\":\"#E5ECF6\",\"gridcolor\":\"white\",\"linecolor\":\"white\",\"showbackground\":true,\"ticks\":\"\",\"zerolinecolor\":\"white\",\"gridwidth\":2}},\"shapedefaults\":{\"line\":{\"color\":\"#2a3f5f\"}},\"annotationdefaults\":{\"arrowcolor\":\"#2a3f5f\",\"arrowhead\":0,\"arrowwidth\":1},\"geo\":{\"bgcolor\":\"white\",\"landcolor\":\"#E5ECF6\",\"subunitcolor\":\"white\",\"showland\":true,\"showlakes\":true,\"lakecolor\":\"white\"},\"title\":{\"x\":0.05},\"mapbox\":{\"style\":\"light\"}}},\"height\":400,\"width\":600,\"xaxis\":{\"title\":{\"text\":\"Wind Direction\"},\"tickvals\":[0,45,90,135,180,225,270,315],\"ticktext\":[\"N\",\"NE\",\"E\",\"SE\",\"S\",\"SW\",\"W\",\"NW\"]},\"yaxis\":{\"title\":{\"text\":\"Wind Speed\"},\"tickvals\":[0,2,4,6,8,10,12,14,16,18],\"ticktext\":[\"0-2\",\"2-4\",\"4-6\",\"6-8\",\"8-10\",\"10-12\",\"12-14\",\"14-16\",\"16-18\",\"18-20\"]},\"title\":{\"text\":\"Wind Speed and Wind Direction Sublimation\\u003cbr\\u003eAveraging time = 1 Hour(s)\"}},                        {\"responsive\": true}                    ).then(function(){\n",
       "                            \n",
       "var gd = document.getElementById('a9021483-84c6-40ed-94ea-bf4522f65ba5');\n",
       "var x = new MutationObserver(function (mutations, observer) {{\n",
       "        var display = window.getComputedStyle(gd).display;\n",
       "        if (!display || display === 'none') {{\n",
       "            console.log([gd, 'removed!']);\n",
       "            Plotly.purge(gd);\n",
       "            observer.disconnect();\n",
       "        }}\n",
       "}});\n",
       "\n",
       "// Listen for the removal of the full notebook cells\n",
       "var notebookContainer = gd.closest('#notebook-container');\n",
       "if (notebookContainer) {{\n",
       "    x.observe(notebookContainer, {childList: true});\n",
       "}}\n",
       "\n",
       "// Listen for the clearing of the current output cell\n",
       "var outputEl = gd.closest('.output');\n",
       "if (outputEl) {{\n",
       "    x.observe(outputEl, {childList: true});\n",
       "}}\n",
       "\n",
       "                        })                };                });            </script>        </div>"
      ]
     },
     "metadata": {},
     "output_type": "display_data"
    }
   ],
   "source": [
    "# plot grouped as a heatmap\n",
    "fig = go.Figure()\n",
    "fig.add_trace(go.Heatmap(z=grouped.values, \n",
    "                         x=grouped.columns, \n",
    "                         y=grouped.index,\n",
    "\n",
    "                        colorbar={'title':'Sublimation<br>(mm)'},\n",
    "                        colorscale='RdBu_r',\n",
    "                        # min and max color values\n",
    "                        zmin=-2,\n",
    "                        zmax=2,\n",
    "                        xgap=1,\n",
    "                        ygap=1,\n",
    "                         ))\n",
    "# add grid\n",
    "fig.update_layout(height=400, \n",
    "                  width=600,\n",
    "                  xaxis_title='Wind Direction',\n",
    "                  yaxis_title='Wind Speed',\n",
    "                  title=f'Wind Speed and Wind Direction Sublimation<br>Averaging time = {timestep} Hour(s)',\n",
    "                  )\n",
    "# change x-axis ticks to be cardinal wind directions\n",
    "fig.update_xaxes(tickvals=[0, 45, 90, 135, 180, 225, 270, 315], ticktext=['N', 'NE', 'E', 'SE', 'S', 'SW', 'W', 'NW'])\n",
    "# update y-axes ticks to be wind speed bins\n",
    "fig.update_yaxes(tickvals=[0, 2, 4, 6, 8, 10, 12, 14, 16, 18], ticktext=['0-2', '2-4', '4-6', '6-8', '8-10', '10-12', '12-14', '14-16', '16-18', '18-20'])\n",
    "# update legend title to legend_title='Percent of Winter Sublimation (%)'"
   ]
  },
  {
   "cell_type": "code",
   "execution_count": 276,
   "metadata": {},
   "outputs": [
    {
     "name": "stderr",
     "output_type": "stream",
     "text": [
      "The default of observed=False is deprecated and will be changed to True in a future version of pandas. Pass observed=False to retain current behavior or observed=True to adopt the future default and silence this warning.\n"
     ]
    }
   ],
   "source": [
    "# wind speed bins\n",
    "wspd_bins = [0, 2, 4, 6, 8, 10,]\n",
    "# wind direction bins\n",
    "wdir_bins = [0, 45, 90, 135, 180, 225, 270, 315, 360]\n",
    "\n",
    "# wspd cut and sum sublimation for each bin\n",
    "wsp_assignment = pd.cut(df_test[f'wind_speed_{timestep}H'], bins=wspd_bins, labels=wspd_bins[:-1])\n",
    "wsp_assignment.name = 'wsp_assignment'\n",
    "# wdir cut and sum sublimation for each bin\n",
    "wdir_assignment = pd.cut(df_test[f'wind_direction_{timestep}H'], bins=wdir_bins, labels=wdir_bins[:-1])\n",
    "wdir_assignment.name = 'wdir_assignment'\n",
    "\n",
    "# combine the two assignments and the sublimation\n",
    "df_test['wsp_assignment'] = wsp_assignment.values\n",
    "df_test['wdir_assignment'] = wdir_assignment.values\n",
    "\n",
    "# groupby the wspd and wdir assignments and get the sum of w_h2o__3m_uw\n",
    "grouped_temperature = df_test.groupby(['wsp_assignment', 'wdir_assignment']).mean()[f'temperature_{timestep}H']\n",
    "# unstack and put into a dataframe\n",
    "grouped_temperature = grouped_temperature.unstack()"
   ]
  },
  {
   "cell_type": "code",
   "execution_count": 277,
   "metadata": {},
   "outputs": [
    {
     "data": {
      "application/vnd.plotly.v1+json": {
       "config": {
        "plotlyServerURL": "https://plot.ly"
       },
       "data": [
        {
         "colorbar": {
          "title": {
           "text": "Temperature<br>(&deg;C)"
          }
         },
         "colorscale": [
          [
           0,
           "rgb(150,0,90)"
          ],
          [
           0.125,
           "rgb(0,0,200)"
          ],
          [
           0.25,
           "rgb(0,25,255)"
          ],
          [
           0.375,
           "rgb(0,152,255)"
          ],
          [
           0.5,
           "rgb(44,255,150)"
          ],
          [
           0.625,
           "rgb(151,255,0)"
          ],
          [
           0.75,
           "rgb(255,234,0)"
          ],
          [
           0.875,
           "rgb(255,111,0)"
          ],
          [
           1,
           "rgb(255,0,0)"
          ]
         ],
         "type": "heatmap",
         "x": [
          0,
          45,
          90,
          135,
          180,
          225,
          270,
          315
         ],
         "xgap": 1,
         "y": [
          0,
          2,
          4,
          6,
          8
         ],
         "ygap": 1,
         "z": [
          [
           null,
           null,
           -4.541133880615234,
           -5.51701545715332,
           -10.091242790222168,
           -8.054483413696289,
           -11.298023223876953,
           -11.496830940246582
          ],
          [
           null,
           null,
           -3.8418145179748535,
           -5.0953898429870605,
           null,
           -6.1749796867370605,
           -10.349275588989258,
           null
          ],
          [
           null,
           null,
           -3.445956230163574,
           -6.097545146942139,
           null,
           null,
           -8.50039005279541,
           -8.001200675964355
          ],
          [
           null,
           null,
           null,
           null,
           null,
           null,
           -9.632428169250488,
           -8.065890312194824
          ],
          [
           null,
           null,
           null,
           null,
           null,
           null,
           -10.704063415527344,
           null
          ]
         ],
         "zmax": 0,
         "zmin": -10
        }
       ],
       "layout": {
        "height": 400,
        "template": {
         "data": {
          "bar": [
           {
            "error_x": {
             "color": "#2a3f5f"
            },
            "error_y": {
             "color": "#2a3f5f"
            },
            "marker": {
             "line": {
              "color": "#E5ECF6",
              "width": 0.5
             },
             "pattern": {
              "fillmode": "overlay",
              "size": 10,
              "solidity": 0.2
             }
            },
            "type": "bar"
           }
          ],
          "barpolar": [
           {
            "marker": {
             "line": {
              "color": "#E5ECF6",
              "width": 0.5
             },
             "pattern": {
              "fillmode": "overlay",
              "size": 10,
              "solidity": 0.2
             }
            },
            "type": "barpolar"
           }
          ],
          "carpet": [
           {
            "aaxis": {
             "endlinecolor": "#2a3f5f",
             "gridcolor": "white",
             "linecolor": "white",
             "minorgridcolor": "white",
             "startlinecolor": "#2a3f5f"
            },
            "baxis": {
             "endlinecolor": "#2a3f5f",
             "gridcolor": "white",
             "linecolor": "white",
             "minorgridcolor": "white",
             "startlinecolor": "#2a3f5f"
            },
            "type": "carpet"
           }
          ],
          "choropleth": [
           {
            "colorbar": {
             "outlinewidth": 0,
             "ticks": ""
            },
            "type": "choropleth"
           }
          ],
          "contour": [
           {
            "colorbar": {
             "outlinewidth": 0,
             "ticks": ""
            },
            "colorscale": [
             [
              0,
              "#0d0887"
             ],
             [
              0.1111111111111111,
              "#46039f"
             ],
             [
              0.2222222222222222,
              "#7201a8"
             ],
             [
              0.3333333333333333,
              "#9c179e"
             ],
             [
              0.4444444444444444,
              "#bd3786"
             ],
             [
              0.5555555555555556,
              "#d8576b"
             ],
             [
              0.6666666666666666,
              "#ed7953"
             ],
             [
              0.7777777777777778,
              "#fb9f3a"
             ],
             [
              0.8888888888888888,
              "#fdca26"
             ],
             [
              1,
              "#f0f921"
             ]
            ],
            "type": "contour"
           }
          ],
          "contourcarpet": [
           {
            "colorbar": {
             "outlinewidth": 0,
             "ticks": ""
            },
            "type": "contourcarpet"
           }
          ],
          "heatmap": [
           {
            "colorbar": {
             "outlinewidth": 0,
             "ticks": ""
            },
            "colorscale": [
             [
              0,
              "#0d0887"
             ],
             [
              0.1111111111111111,
              "#46039f"
             ],
             [
              0.2222222222222222,
              "#7201a8"
             ],
             [
              0.3333333333333333,
              "#9c179e"
             ],
             [
              0.4444444444444444,
              "#bd3786"
             ],
             [
              0.5555555555555556,
              "#d8576b"
             ],
             [
              0.6666666666666666,
              "#ed7953"
             ],
             [
              0.7777777777777778,
              "#fb9f3a"
             ],
             [
              0.8888888888888888,
              "#fdca26"
             ],
             [
              1,
              "#f0f921"
             ]
            ],
            "type": "heatmap"
           }
          ],
          "heatmapgl": [
           {
            "colorbar": {
             "outlinewidth": 0,
             "ticks": ""
            },
            "colorscale": [
             [
              0,
              "#0d0887"
             ],
             [
              0.1111111111111111,
              "#46039f"
             ],
             [
              0.2222222222222222,
              "#7201a8"
             ],
             [
              0.3333333333333333,
              "#9c179e"
             ],
             [
              0.4444444444444444,
              "#bd3786"
             ],
             [
              0.5555555555555556,
              "#d8576b"
             ],
             [
              0.6666666666666666,
              "#ed7953"
             ],
             [
              0.7777777777777778,
              "#fb9f3a"
             ],
             [
              0.8888888888888888,
              "#fdca26"
             ],
             [
              1,
              "#f0f921"
             ]
            ],
            "type": "heatmapgl"
           }
          ],
          "histogram": [
           {
            "marker": {
             "pattern": {
              "fillmode": "overlay",
              "size": 10,
              "solidity": 0.2
             }
            },
            "type": "histogram"
           }
          ],
          "histogram2d": [
           {
            "colorbar": {
             "outlinewidth": 0,
             "ticks": ""
            },
            "colorscale": [
             [
              0,
              "#0d0887"
             ],
             [
              0.1111111111111111,
              "#46039f"
             ],
             [
              0.2222222222222222,
              "#7201a8"
             ],
             [
              0.3333333333333333,
              "#9c179e"
             ],
             [
              0.4444444444444444,
              "#bd3786"
             ],
             [
              0.5555555555555556,
              "#d8576b"
             ],
             [
              0.6666666666666666,
              "#ed7953"
             ],
             [
              0.7777777777777778,
              "#fb9f3a"
             ],
             [
              0.8888888888888888,
              "#fdca26"
             ],
             [
              1,
              "#f0f921"
             ]
            ],
            "type": "histogram2d"
           }
          ],
          "histogram2dcontour": [
           {
            "colorbar": {
             "outlinewidth": 0,
             "ticks": ""
            },
            "colorscale": [
             [
              0,
              "#0d0887"
             ],
             [
              0.1111111111111111,
              "#46039f"
             ],
             [
              0.2222222222222222,
              "#7201a8"
             ],
             [
              0.3333333333333333,
              "#9c179e"
             ],
             [
              0.4444444444444444,
              "#bd3786"
             ],
             [
              0.5555555555555556,
              "#d8576b"
             ],
             [
              0.6666666666666666,
              "#ed7953"
             ],
             [
              0.7777777777777778,
              "#fb9f3a"
             ],
             [
              0.8888888888888888,
              "#fdca26"
             ],
             [
              1,
              "#f0f921"
             ]
            ],
            "type": "histogram2dcontour"
           }
          ],
          "mesh3d": [
           {
            "colorbar": {
             "outlinewidth": 0,
             "ticks": ""
            },
            "type": "mesh3d"
           }
          ],
          "parcoords": [
           {
            "line": {
             "colorbar": {
              "outlinewidth": 0,
              "ticks": ""
             }
            },
            "type": "parcoords"
           }
          ],
          "pie": [
           {
            "automargin": true,
            "type": "pie"
           }
          ],
          "scatter": [
           {
            "fillpattern": {
             "fillmode": "overlay",
             "size": 10,
             "solidity": 0.2
            },
            "type": "scatter"
           }
          ],
          "scatter3d": [
           {
            "line": {
             "colorbar": {
              "outlinewidth": 0,
              "ticks": ""
             }
            },
            "marker": {
             "colorbar": {
              "outlinewidth": 0,
              "ticks": ""
             }
            },
            "type": "scatter3d"
           }
          ],
          "scattercarpet": [
           {
            "marker": {
             "colorbar": {
              "outlinewidth": 0,
              "ticks": ""
             }
            },
            "type": "scattercarpet"
           }
          ],
          "scattergeo": [
           {
            "marker": {
             "colorbar": {
              "outlinewidth": 0,
              "ticks": ""
             }
            },
            "type": "scattergeo"
           }
          ],
          "scattergl": [
           {
            "marker": {
             "colorbar": {
              "outlinewidth": 0,
              "ticks": ""
             }
            },
            "type": "scattergl"
           }
          ],
          "scattermapbox": [
           {
            "marker": {
             "colorbar": {
              "outlinewidth": 0,
              "ticks": ""
             }
            },
            "type": "scattermapbox"
           }
          ],
          "scatterpolar": [
           {
            "marker": {
             "colorbar": {
              "outlinewidth": 0,
              "ticks": ""
             }
            },
            "type": "scatterpolar"
           }
          ],
          "scatterpolargl": [
           {
            "marker": {
             "colorbar": {
              "outlinewidth": 0,
              "ticks": ""
             }
            },
            "type": "scatterpolargl"
           }
          ],
          "scatterternary": [
           {
            "marker": {
             "colorbar": {
              "outlinewidth": 0,
              "ticks": ""
             }
            },
            "type": "scatterternary"
           }
          ],
          "surface": [
           {
            "colorbar": {
             "outlinewidth": 0,
             "ticks": ""
            },
            "colorscale": [
             [
              0,
              "#0d0887"
             ],
             [
              0.1111111111111111,
              "#46039f"
             ],
             [
              0.2222222222222222,
              "#7201a8"
             ],
             [
              0.3333333333333333,
              "#9c179e"
             ],
             [
              0.4444444444444444,
              "#bd3786"
             ],
             [
              0.5555555555555556,
              "#d8576b"
             ],
             [
              0.6666666666666666,
              "#ed7953"
             ],
             [
              0.7777777777777778,
              "#fb9f3a"
             ],
             [
              0.8888888888888888,
              "#fdca26"
             ],
             [
              1,
              "#f0f921"
             ]
            ],
            "type": "surface"
           }
          ],
          "table": [
           {
            "cells": {
             "fill": {
              "color": "#EBF0F8"
             },
             "line": {
              "color": "white"
             }
            },
            "header": {
             "fill": {
              "color": "#C8D4E3"
             },
             "line": {
              "color": "white"
             }
            },
            "type": "table"
           }
          ]
         },
         "layout": {
          "annotationdefaults": {
           "arrowcolor": "#2a3f5f",
           "arrowhead": 0,
           "arrowwidth": 1
          },
          "autotypenumbers": "strict",
          "coloraxis": {
           "colorbar": {
            "outlinewidth": 0,
            "ticks": ""
           }
          },
          "colorscale": {
           "diverging": [
            [
             0,
             "#8e0152"
            ],
            [
             0.1,
             "#c51b7d"
            ],
            [
             0.2,
             "#de77ae"
            ],
            [
             0.3,
             "#f1b6da"
            ],
            [
             0.4,
             "#fde0ef"
            ],
            [
             0.5,
             "#f7f7f7"
            ],
            [
             0.6,
             "#e6f5d0"
            ],
            [
             0.7,
             "#b8e186"
            ],
            [
             0.8,
             "#7fbc41"
            ],
            [
             0.9,
             "#4d9221"
            ],
            [
             1,
             "#276419"
            ]
           ],
           "sequential": [
            [
             0,
             "#0d0887"
            ],
            [
             0.1111111111111111,
             "#46039f"
            ],
            [
             0.2222222222222222,
             "#7201a8"
            ],
            [
             0.3333333333333333,
             "#9c179e"
            ],
            [
             0.4444444444444444,
             "#bd3786"
            ],
            [
             0.5555555555555556,
             "#d8576b"
            ],
            [
             0.6666666666666666,
             "#ed7953"
            ],
            [
             0.7777777777777778,
             "#fb9f3a"
            ],
            [
             0.8888888888888888,
             "#fdca26"
            ],
            [
             1,
             "#f0f921"
            ]
           ],
           "sequentialminus": [
            [
             0,
             "#0d0887"
            ],
            [
             0.1111111111111111,
             "#46039f"
            ],
            [
             0.2222222222222222,
             "#7201a8"
            ],
            [
             0.3333333333333333,
             "#9c179e"
            ],
            [
             0.4444444444444444,
             "#bd3786"
            ],
            [
             0.5555555555555556,
             "#d8576b"
            ],
            [
             0.6666666666666666,
             "#ed7953"
            ],
            [
             0.7777777777777778,
             "#fb9f3a"
            ],
            [
             0.8888888888888888,
             "#fdca26"
            ],
            [
             1,
             "#f0f921"
            ]
           ]
          },
          "colorway": [
           "#636efa",
           "#EF553B",
           "#00cc96",
           "#ab63fa",
           "#FFA15A",
           "#19d3f3",
           "#FF6692",
           "#B6E880",
           "#FF97FF",
           "#FECB52"
          ],
          "font": {
           "color": "#2a3f5f"
          },
          "geo": {
           "bgcolor": "white",
           "lakecolor": "white",
           "landcolor": "#E5ECF6",
           "showlakes": true,
           "showland": true,
           "subunitcolor": "white"
          },
          "hoverlabel": {
           "align": "left"
          },
          "hovermode": "closest",
          "mapbox": {
           "style": "light"
          },
          "paper_bgcolor": "white",
          "plot_bgcolor": "#E5ECF6",
          "polar": {
           "angularaxis": {
            "gridcolor": "white",
            "linecolor": "white",
            "ticks": ""
           },
           "bgcolor": "#E5ECF6",
           "radialaxis": {
            "gridcolor": "white",
            "linecolor": "white",
            "ticks": ""
           }
          },
          "scene": {
           "xaxis": {
            "backgroundcolor": "#E5ECF6",
            "gridcolor": "white",
            "gridwidth": 2,
            "linecolor": "white",
            "showbackground": true,
            "ticks": "",
            "zerolinecolor": "white"
           },
           "yaxis": {
            "backgroundcolor": "#E5ECF6",
            "gridcolor": "white",
            "gridwidth": 2,
            "linecolor": "white",
            "showbackground": true,
            "ticks": "",
            "zerolinecolor": "white"
           },
           "zaxis": {
            "backgroundcolor": "#E5ECF6",
            "gridcolor": "white",
            "gridwidth": 2,
            "linecolor": "white",
            "showbackground": true,
            "ticks": "",
            "zerolinecolor": "white"
           }
          },
          "shapedefaults": {
           "line": {
            "color": "#2a3f5f"
           }
          },
          "ternary": {
           "aaxis": {
            "gridcolor": "white",
            "linecolor": "white",
            "ticks": ""
           },
           "baxis": {
            "gridcolor": "white",
            "linecolor": "white",
            "ticks": ""
           },
           "bgcolor": "#E5ECF6",
           "caxis": {
            "gridcolor": "white",
            "linecolor": "white",
            "ticks": ""
           }
          },
          "title": {
           "x": 0.05
          },
          "xaxis": {
           "automargin": true,
           "gridcolor": "white",
           "linecolor": "white",
           "ticks": "",
           "title": {
            "standoff": 15
           },
           "zerolinecolor": "white",
           "zerolinewidth": 2
          },
          "yaxis": {
           "automargin": true,
           "gridcolor": "white",
           "linecolor": "white",
           "ticks": "",
           "title": {
            "standoff": 15
           },
           "zerolinecolor": "white",
           "zerolinewidth": 2
          }
         }
        },
        "title": {
         "text": "Wind Speed and Wind Direction Temperature<br>Averaging time = 24 Hour(s)"
        },
        "width": 600,
        "xaxis": {
         "ticktext": [
          "N",
          "NE",
          "E",
          "SE",
          "S",
          "SW",
          "W",
          "NW"
         ],
         "tickvals": [
          0,
          45,
          90,
          135,
          180,
          225,
          270,
          315
         ],
         "title": {
          "text": "Wind Direction"
         }
        },
        "yaxis": {
         "ticktext": [
          "0-2",
          "2-4",
          "4-6",
          "6-8",
          "8-10",
          "10-12",
          "12-14",
          "14-16",
          "16-18",
          "18-20"
         ],
         "tickvals": [
          0,
          2,
          4,
          6,
          8,
          10,
          12,
          14,
          16,
          18
         ],
         "title": {
          "text": "Wind Speed"
         }
        }
       }
      },
      "text/html": [
       "<div>                            <div id=\"1093b147-10a3-4e0b-a730-7c5fc833d11b\" class=\"plotly-graph-div\" style=\"height:400px; width:600px;\"></div>            <script type=\"text/javascript\">                require([\"plotly\"], function(Plotly) {                    window.PLOTLYENV=window.PLOTLYENV || {};                                    if (document.getElementById(\"1093b147-10a3-4e0b-a730-7c5fc833d11b\")) {                    Plotly.newPlot(                        \"1093b147-10a3-4e0b-a730-7c5fc833d11b\",                        [{\"colorbar\":{\"title\":{\"text\":\"Temperature\\u003cbr\\u003e(&deg;C)\"}},\"colorscale\":[[0.0,\"rgb(150,0,90)\"],[0.125,\"rgb(0,0,200)\"],[0.25,\"rgb(0,25,255)\"],[0.375,\"rgb(0,152,255)\"],[0.5,\"rgb(44,255,150)\"],[0.625,\"rgb(151,255,0)\"],[0.75,\"rgb(255,234,0)\"],[0.875,\"rgb(255,111,0)\"],[1.0,\"rgb(255,0,0)\"]],\"x\":[0,45,90,135,180,225,270,315],\"xgap\":1,\"y\":[0,2,4,6,8],\"ygap\":1,\"z\":[[null,null,-4.541133880615234,-5.51701545715332,-10.091242790222168,-8.054483413696289,-11.298023223876953,-11.496830940246582],[null,null,-3.8418145179748535,-5.0953898429870605,null,-6.1749796867370605,-10.349275588989258,null],[null,null,-3.445956230163574,-6.097545146942139,null,null,-8.50039005279541,-8.001200675964355],[null,null,null,null,null,null,-9.632428169250488,-8.065890312194824],[null,null,null,null,null,null,-10.704063415527344,null]],\"zmax\":0,\"zmin\":-10,\"type\":\"heatmap\"}],                        {\"template\":{\"data\":{\"histogram2dcontour\":[{\"type\":\"histogram2dcontour\",\"colorbar\":{\"outlinewidth\":0,\"ticks\":\"\"},\"colorscale\":[[0.0,\"#0d0887\"],[0.1111111111111111,\"#46039f\"],[0.2222222222222222,\"#7201a8\"],[0.3333333333333333,\"#9c179e\"],[0.4444444444444444,\"#bd3786\"],[0.5555555555555556,\"#d8576b\"],[0.6666666666666666,\"#ed7953\"],[0.7777777777777778,\"#fb9f3a\"],[0.8888888888888888,\"#fdca26\"],[1.0,\"#f0f921\"]]}],\"choropleth\":[{\"type\":\"choropleth\",\"colorbar\":{\"outlinewidth\":0,\"ticks\":\"\"}}],\"histogram2d\":[{\"type\":\"histogram2d\",\"colorbar\":{\"outlinewidth\":0,\"ticks\":\"\"},\"colorscale\":[[0.0,\"#0d0887\"],[0.1111111111111111,\"#46039f\"],[0.2222222222222222,\"#7201a8\"],[0.3333333333333333,\"#9c179e\"],[0.4444444444444444,\"#bd3786\"],[0.5555555555555556,\"#d8576b\"],[0.6666666666666666,\"#ed7953\"],[0.7777777777777778,\"#fb9f3a\"],[0.8888888888888888,\"#fdca26\"],[1.0,\"#f0f921\"]]}],\"heatmap\":[{\"type\":\"heatmap\",\"colorbar\":{\"outlinewidth\":0,\"ticks\":\"\"},\"colorscale\":[[0.0,\"#0d0887\"],[0.1111111111111111,\"#46039f\"],[0.2222222222222222,\"#7201a8\"],[0.3333333333333333,\"#9c179e\"],[0.4444444444444444,\"#bd3786\"],[0.5555555555555556,\"#d8576b\"],[0.6666666666666666,\"#ed7953\"],[0.7777777777777778,\"#fb9f3a\"],[0.8888888888888888,\"#fdca26\"],[1.0,\"#f0f921\"]]}],\"heatmapgl\":[{\"type\":\"heatmapgl\",\"colorbar\":{\"outlinewidth\":0,\"ticks\":\"\"},\"colorscale\":[[0.0,\"#0d0887\"],[0.1111111111111111,\"#46039f\"],[0.2222222222222222,\"#7201a8\"],[0.3333333333333333,\"#9c179e\"],[0.4444444444444444,\"#bd3786\"],[0.5555555555555556,\"#d8576b\"],[0.6666666666666666,\"#ed7953\"],[0.7777777777777778,\"#fb9f3a\"],[0.8888888888888888,\"#fdca26\"],[1.0,\"#f0f921\"]]}],\"contourcarpet\":[{\"type\":\"contourcarpet\",\"colorbar\":{\"outlinewidth\":0,\"ticks\":\"\"}}],\"contour\":[{\"type\":\"contour\",\"colorbar\":{\"outlinewidth\":0,\"ticks\":\"\"},\"colorscale\":[[0.0,\"#0d0887\"],[0.1111111111111111,\"#46039f\"],[0.2222222222222222,\"#7201a8\"],[0.3333333333333333,\"#9c179e\"],[0.4444444444444444,\"#bd3786\"],[0.5555555555555556,\"#d8576b\"],[0.6666666666666666,\"#ed7953\"],[0.7777777777777778,\"#fb9f3a\"],[0.8888888888888888,\"#fdca26\"],[1.0,\"#f0f921\"]]}],\"surface\":[{\"type\":\"surface\",\"colorbar\":{\"outlinewidth\":0,\"ticks\":\"\"},\"colorscale\":[[0.0,\"#0d0887\"],[0.1111111111111111,\"#46039f\"],[0.2222222222222222,\"#7201a8\"],[0.3333333333333333,\"#9c179e\"],[0.4444444444444444,\"#bd3786\"],[0.5555555555555556,\"#d8576b\"],[0.6666666666666666,\"#ed7953\"],[0.7777777777777778,\"#fb9f3a\"],[0.8888888888888888,\"#fdca26\"],[1.0,\"#f0f921\"]]}],\"mesh3d\":[{\"type\":\"mesh3d\",\"colorbar\":{\"outlinewidth\":0,\"ticks\":\"\"}}],\"scatter\":[{\"fillpattern\":{\"fillmode\":\"overlay\",\"size\":10,\"solidity\":0.2},\"type\":\"scatter\"}],\"parcoords\":[{\"type\":\"parcoords\",\"line\":{\"colorbar\":{\"outlinewidth\":0,\"ticks\":\"\"}}}],\"scatterpolargl\":[{\"type\":\"scatterpolargl\",\"marker\":{\"colorbar\":{\"outlinewidth\":0,\"ticks\":\"\"}}}],\"bar\":[{\"error_x\":{\"color\":\"#2a3f5f\"},\"error_y\":{\"color\":\"#2a3f5f\"},\"marker\":{\"line\":{\"color\":\"#E5ECF6\",\"width\":0.5},\"pattern\":{\"fillmode\":\"overlay\",\"size\":10,\"solidity\":0.2}},\"type\":\"bar\"}],\"scattergeo\":[{\"type\":\"scattergeo\",\"marker\":{\"colorbar\":{\"outlinewidth\":0,\"ticks\":\"\"}}}],\"scatterpolar\":[{\"type\":\"scatterpolar\",\"marker\":{\"colorbar\":{\"outlinewidth\":0,\"ticks\":\"\"}}}],\"histogram\":[{\"marker\":{\"pattern\":{\"fillmode\":\"overlay\",\"size\":10,\"solidity\":0.2}},\"type\":\"histogram\"}],\"scattergl\":[{\"type\":\"scattergl\",\"marker\":{\"colorbar\":{\"outlinewidth\":0,\"ticks\":\"\"}}}],\"scatter3d\":[{\"type\":\"scatter3d\",\"line\":{\"colorbar\":{\"outlinewidth\":0,\"ticks\":\"\"}},\"marker\":{\"colorbar\":{\"outlinewidth\":0,\"ticks\":\"\"}}}],\"scattermapbox\":[{\"type\":\"scattermapbox\",\"marker\":{\"colorbar\":{\"outlinewidth\":0,\"ticks\":\"\"}}}],\"scatterternary\":[{\"type\":\"scatterternary\",\"marker\":{\"colorbar\":{\"outlinewidth\":0,\"ticks\":\"\"}}}],\"scattercarpet\":[{\"type\":\"scattercarpet\",\"marker\":{\"colorbar\":{\"outlinewidth\":0,\"ticks\":\"\"}}}],\"carpet\":[{\"aaxis\":{\"endlinecolor\":\"#2a3f5f\",\"gridcolor\":\"white\",\"linecolor\":\"white\",\"minorgridcolor\":\"white\",\"startlinecolor\":\"#2a3f5f\"},\"baxis\":{\"endlinecolor\":\"#2a3f5f\",\"gridcolor\":\"white\",\"linecolor\":\"white\",\"minorgridcolor\":\"white\",\"startlinecolor\":\"#2a3f5f\"},\"type\":\"carpet\"}],\"table\":[{\"cells\":{\"fill\":{\"color\":\"#EBF0F8\"},\"line\":{\"color\":\"white\"}},\"header\":{\"fill\":{\"color\":\"#C8D4E3\"},\"line\":{\"color\":\"white\"}},\"type\":\"table\"}],\"barpolar\":[{\"marker\":{\"line\":{\"color\":\"#E5ECF6\",\"width\":0.5},\"pattern\":{\"fillmode\":\"overlay\",\"size\":10,\"solidity\":0.2}},\"type\":\"barpolar\"}],\"pie\":[{\"automargin\":true,\"type\":\"pie\"}]},\"layout\":{\"autotypenumbers\":\"strict\",\"colorway\":[\"#636efa\",\"#EF553B\",\"#00cc96\",\"#ab63fa\",\"#FFA15A\",\"#19d3f3\",\"#FF6692\",\"#B6E880\",\"#FF97FF\",\"#FECB52\"],\"font\":{\"color\":\"#2a3f5f\"},\"hovermode\":\"closest\",\"hoverlabel\":{\"align\":\"left\"},\"paper_bgcolor\":\"white\",\"plot_bgcolor\":\"#E5ECF6\",\"polar\":{\"bgcolor\":\"#E5ECF6\",\"angularaxis\":{\"gridcolor\":\"white\",\"linecolor\":\"white\",\"ticks\":\"\"},\"radialaxis\":{\"gridcolor\":\"white\",\"linecolor\":\"white\",\"ticks\":\"\"}},\"ternary\":{\"bgcolor\":\"#E5ECF6\",\"aaxis\":{\"gridcolor\":\"white\",\"linecolor\":\"white\",\"ticks\":\"\"},\"baxis\":{\"gridcolor\":\"white\",\"linecolor\":\"white\",\"ticks\":\"\"},\"caxis\":{\"gridcolor\":\"white\",\"linecolor\":\"white\",\"ticks\":\"\"}},\"coloraxis\":{\"colorbar\":{\"outlinewidth\":0,\"ticks\":\"\"}},\"colorscale\":{\"sequential\":[[0.0,\"#0d0887\"],[0.1111111111111111,\"#46039f\"],[0.2222222222222222,\"#7201a8\"],[0.3333333333333333,\"#9c179e\"],[0.4444444444444444,\"#bd3786\"],[0.5555555555555556,\"#d8576b\"],[0.6666666666666666,\"#ed7953\"],[0.7777777777777778,\"#fb9f3a\"],[0.8888888888888888,\"#fdca26\"],[1.0,\"#f0f921\"]],\"sequentialminus\":[[0.0,\"#0d0887\"],[0.1111111111111111,\"#46039f\"],[0.2222222222222222,\"#7201a8\"],[0.3333333333333333,\"#9c179e\"],[0.4444444444444444,\"#bd3786\"],[0.5555555555555556,\"#d8576b\"],[0.6666666666666666,\"#ed7953\"],[0.7777777777777778,\"#fb9f3a\"],[0.8888888888888888,\"#fdca26\"],[1.0,\"#f0f921\"]],\"diverging\":[[0,\"#8e0152\"],[0.1,\"#c51b7d\"],[0.2,\"#de77ae\"],[0.3,\"#f1b6da\"],[0.4,\"#fde0ef\"],[0.5,\"#f7f7f7\"],[0.6,\"#e6f5d0\"],[0.7,\"#b8e186\"],[0.8,\"#7fbc41\"],[0.9,\"#4d9221\"],[1,\"#276419\"]]},\"xaxis\":{\"gridcolor\":\"white\",\"linecolor\":\"white\",\"ticks\":\"\",\"title\":{\"standoff\":15},\"zerolinecolor\":\"white\",\"automargin\":true,\"zerolinewidth\":2},\"yaxis\":{\"gridcolor\":\"white\",\"linecolor\":\"white\",\"ticks\":\"\",\"title\":{\"standoff\":15},\"zerolinecolor\":\"white\",\"automargin\":true,\"zerolinewidth\":2},\"scene\":{\"xaxis\":{\"backgroundcolor\":\"#E5ECF6\",\"gridcolor\":\"white\",\"linecolor\":\"white\",\"showbackground\":true,\"ticks\":\"\",\"zerolinecolor\":\"white\",\"gridwidth\":2},\"yaxis\":{\"backgroundcolor\":\"#E5ECF6\",\"gridcolor\":\"white\",\"linecolor\":\"white\",\"showbackground\":true,\"ticks\":\"\",\"zerolinecolor\":\"white\",\"gridwidth\":2},\"zaxis\":{\"backgroundcolor\":\"#E5ECF6\",\"gridcolor\":\"white\",\"linecolor\":\"white\",\"showbackground\":true,\"ticks\":\"\",\"zerolinecolor\":\"white\",\"gridwidth\":2}},\"shapedefaults\":{\"line\":{\"color\":\"#2a3f5f\"}},\"annotationdefaults\":{\"arrowcolor\":\"#2a3f5f\",\"arrowhead\":0,\"arrowwidth\":1},\"geo\":{\"bgcolor\":\"white\",\"landcolor\":\"#E5ECF6\",\"subunitcolor\":\"white\",\"showland\":true,\"showlakes\":true,\"lakecolor\":\"white\"},\"title\":{\"x\":0.05},\"mapbox\":{\"style\":\"light\"}}},\"height\":400,\"width\":600,\"xaxis\":{\"title\":{\"text\":\"Wind Direction\"},\"tickvals\":[0,45,90,135,180,225,270,315],\"ticktext\":[\"N\",\"NE\",\"E\",\"SE\",\"S\",\"SW\",\"W\",\"NW\"]},\"yaxis\":{\"title\":{\"text\":\"Wind Speed\"},\"tickvals\":[0,2,4,6,8,10,12,14,16,18],\"ticktext\":[\"0-2\",\"2-4\",\"4-6\",\"6-8\",\"8-10\",\"10-12\",\"12-14\",\"14-16\",\"16-18\",\"18-20\"]},\"title\":{\"text\":\"Wind Speed and Wind Direction Temperature\\u003cbr\\u003eAveraging time = 24 Hour(s)\"}},                        {\"responsive\": true}                    ).then(function(){\n",
       "                            \n",
       "var gd = document.getElementById('1093b147-10a3-4e0b-a730-7c5fc833d11b');\n",
       "var x = new MutationObserver(function (mutations, observer) {{\n",
       "        var display = window.getComputedStyle(gd).display;\n",
       "        if (!display || display === 'none') {{\n",
       "            console.log([gd, 'removed!']);\n",
       "            Plotly.purge(gd);\n",
       "            observer.disconnect();\n",
       "        }}\n",
       "}});\n",
       "\n",
       "// Listen for the removal of the full notebook cells\n",
       "var notebookContainer = gd.closest('#notebook-container');\n",
       "if (notebookContainer) {{\n",
       "    x.observe(notebookContainer, {childList: true});\n",
       "}}\n",
       "\n",
       "// Listen for the clearing of the current output cell\n",
       "var outputEl = gd.closest('.output');\n",
       "if (outputEl) {{\n",
       "    x.observe(outputEl, {childList: true});\n",
       "}}\n",
       "\n",
       "                        })                };                });            </script>        </div>"
      ]
     },
     "metadata": {},
     "output_type": "display_data"
    }
   ],
   "source": [
    "# plot grouped_temperature as a heatmap\n",
    "fig = go.Figure()\n",
    "fig.add_trace(go.Heatmap(z=grouped_temperature.values, \n",
    "                         x=grouped_temperature.columns, \n",
    "                         y=grouped_temperature.index,\n",
    "\n",
    "                        colorbar={'title':'Temperature<br>(&deg;C)'},\n",
    "                        colorscale='rainbow',\n",
    "                        # min and max color values\n",
    "                        zmin=-10,\n",
    "                        zmax=0,\n",
    "                        xgap=1,\n",
    "                        ygap=1,\n",
    "                         ))\n",
    "# add grid\n",
    "fig.update_layout(height=400, \n",
    "                  width=600,\n",
    "                  xaxis_title='Wind Direction',\n",
    "                  yaxis_title='Wind Speed',\n",
    "                  title=f'Wind Speed and Wind Direction Temperature<br>Averaging time = {timestep} Hour(s)',\n",
    "                  )\n",
    "# change x-axis ticks to be cardinal wind directions\n",
    "fig.update_xaxes(tickvals=[0, 45, 90, 135, 180, 225, 270, 315], ticktext=['N', 'NE', 'E', 'SE', 'S', 'SW', 'W', 'NW'])\n",
    "# update y-axes ticks to be wind speed bins\n",
    "fig.update_yaxes(tickvals=[0, 2, 4, 6, 8, 10, 12, 14, 16, 18], ticktext=['0-2', '2-4', '4-6', '6-8', '8-10', '10-12', '12-14', '14-16', '16-18', '18-20'])\n",
    "# update legend title to legend_title='Percent of Winter Sublimation (%)'"
   ]
  },
  {
   "cell_type": "code",
   "execution_count": 278,
   "metadata": {},
   "outputs": [
    {
     "data": {
      "application/vnd.plotly.v1+json": {
       "config": {
        "plotlyServerURL": "https://plot.ly"
       },
       "data": [
        {
         "hovertemplate": "wind_speed_24H=%{x}<br>sublimation_24H=%{y}<br>bsf=%{marker.size}<br>temperature_24H=%{marker.color}<extra></extra>",
         "legendgroup": "",
         "marker": {
          "color": [
           -7.822053909301758,
           -2.0121281147003174,
           -8.154813766479492,
           -4.134293079376221,
           -1.2148035764694214,
           -2.7336862087249756,
           -4.880940914154053,
           -5.867099761962891,
           -14.859301567077637,
           -12.095601081848145,
           -8.910537719726562,
           -3.9117133617401123,
           -10.417407035827637,
           -10.704063415527344,
           -14.819293975830078,
           -15.496574401855469,
           -19.603620529174805,
           -16.392974853515625,
           -14.248824119567871,
           -14.122355461120605,
           -7.19908332824707,
           -8.327905654907227,
           -8.597932815551758,
           -6.238816738128662,
           -5.333929538726807,
           -1.7688881158828735,
           -4.578860759735107,
           -2.3799383640289307,
           -8.170025825500488,
           -13.58194351196289,
           -6.899738311767578,
           -2.340263605117798,
           -4.379934787750244,
           -8.924662590026855,
           -9.632428169250488,
           -12.36350154876709,
           -7.676899433135986,
           -7.953807353973389,
           -12.410536766052246,
           -8.195054054260254,
           -3.4800472259521484,
           -4.758645534515381,
           -10.223525047302246,
           -9.501086235046387,
           -5.510311126708984,
           -4.245338439941406,
           -7.1604228019714355,
           -6.486165523529053,
           -8.882984161376953,
           -13.894087791442871,
           -11.496830940246582,
           -12.875656127929688,
           -13.808650016784668,
           -9.433696746826172,
           -12.51721477508545,
           -12.272191047668457,
           -16.887252807617188,
           -12.646942138671875,
           -7.300337314605713,
           -8.877944946289062,
           -6.53181791305542,
           -11.391227722167969,
           -16.772214889526367,
           -12.697746276855469,
           -11.989212036132812,
           -8.848896980285645,
           -6.760959625244141,
           -5.086739540100098,
           -12.893848419189453,
           -12.297404289245605,
           -10.726622581481934,
           -15.576740264892578,
           -8.18055248260498,
           -4.670515060424805,
           -8.274588584899902,
           -6.534837245941162,
           -9.906011581420898,
           -17.477956771850586,
           -16.51130485534668,
           -11.322612762451172,
           -5.486371994018555,
           -3.24782395362854,
           -2.543515920639038,
           -4.553917407989502,
           -12.534743309020996,
           -10.311088562011719,
           -7.439148426055908,
           -6.143039226531982,
           -9.242833137512207,
           -8.62971019744873,
           -11.915265083312988,
           -9.46113109588623,
           -9.803692817687988,
           -9.771674156188965,
           -3.445956230163574,
           -1.7359436750411987,
           0.31657227873802185,
           -5.2977423667907715,
           -3.715468406677246,
           -7.071741104125977,
           -2.784407377243042,
           -4.6922993659973145,
           -4.405218601226807,
           -5.362046718597412,
           -1.9218446016311646,
           -3.053640127182007,
           -9.57952880859375,
           -13.070919036865234,
           -13.1095552444458,
           -7.701026916503906,
           -6.092914581298828,
           -2.6697375774383545,
           -6.588594913482666,
           -8.194783210754395,
           -11.92807674407959,
           -15.301544189453125,
           -12.386788368225098,
           -15.133838653564453,
           -3.924091100692749,
           -1.9250688552856445,
           -7.604275226593018
          ],
          "coloraxis": "coloraxis",
          "line": {
           "color": "DarkSlateGrey",
           "width": 1
          },
          "size": [
           0,
           0.14497791230678558,
           0.0008680555038154125,
           0,
           0.01267361082136631,
           0.009513888508081436,
           0.00006944443885004148,
           0.01111111044883728,
           0,
           0,
           0,
           0.004444444552063942,
           0.17253471910953522,
           0.37170135974884033,
           0.008645833469927311,
           0.0020833334419876337,
           0,
           0,
           0,
           0,
           0.016388889402151108,
           11.70949649810791,
           0.03340277820825577,
           0,
           0.0002777777554001659,
           0.0003124999930150807,
           0,
           0.008819444105029106,
           0.007916666567325592,
           0,
           0.005243055056780577,
           0.06170138716697693,
           0.005243055522441864,
           0.00003472221942502074,
           0.03152777999639511,
           0,
           0.0020486111752688885,
           0.00006944443885004148,
           0,
           0,
           0.034583333879709244,
           0.05524305999279022,
           0.0009374999208375812,
           0,
           0,
           0.0038888887502253056,
           0.00013888887770008296,
           0.0005902777193114161,
           0.03829861059784889,
           0.0005208333022892475,
           0,
           0.0057638888247311115,
           0.028923610225319862,
           0,
           0.016631944105029106,
           0.015138889662921429,
           0.003368055447936058,
           0.003993055783212185,
           0.001979166641831398,
           0.0005902777775190771,
           0.0047222222201526165,
           0.006215277593582869,
           0,
           0,
           0,
           0.001875000074505806,
           0.035798609256744385,
           0.06093750149011612,
           0.0036458333488553762,
           0.013645834289491177,
           0.0710763931274414,
           0,
           0,
           0,
           0.0010763888712972403,
           0.007777777500450611,
           0.01493055559694767,
           0,
           0,
           0.0021527777425944805,
           0.10229166597127914,
           0.046041667461395264,
           0.0028124998789280653,
           0.11170139908790588,
           0.03295138478279114,
           0.00951388943940401,
           0,
           0.005694444291293621,
           0.02152777835726738,
           0.013680554926395416,
           0.00031249996391125023,
           0,
           0.0004861110937781632,
           0.0013888889225199819,
           0.026006942614912987,
           0.051499366760253906,
           0.04121527820825577,
           0.03194444254040718,
           0.1422569453716278,
           0.011944443918764591,
           0.0949999988079071,
           0.0003819444391410798,
           0,
           0,
           0.00020833332382608205,
           0.02408396452665329,
           0.005138888955116272,
           0,
           0,
           0.00010416666191304103,
           0.009851641021668911,
           0.15005050599575043,
           0.0010448232060298324,
           0.00020833332382608205,
           0.03572601079940796,
           0.00003787878813454881,
           0.016360478475689888,
           0.0004166666476521641,
           0,
           0.3447822034358978,
           0.019826387986540794
          ],
          "sizemode": "area",
          "sizeref": 0.001170949649810791,
          "symbol": "circle"
         },
         "mode": "markers",
         "name": "",
         "orientation": "v",
         "showlegend": false,
         "type": "scatter",
         "x": [
          1.6115328073501587,
          4.196055889129639,
          2.014892101287842,
          1.269307255744934,
          2.83235239982605,
          3.331104278564453,
          1.4563994407653809,
          3.30776047706604,
          2.2808754444122314,
          1.7281655073165894,
          1.7941349744796753,
          3.564185380935669,
          6.40674352645874,
          8.938316345214844,
          3.528409242630005,
          5.34154748916626,
          1.7491403818130493,
          1.5163670778274536,
          1.69708251953125,
          2.085554361343384,
          4.071174621582031,
          10.55510139465332,
          2.6780364513397217,
          2.227057933807373,
          3.8228368759155273,
          4.924121856689453,
          2.1132442951202393,
          2.5965816974639893,
          3.7670068740844727,
          1.7683124542236328,
          1.2360754013061523,
          3.238063097000122,
          2.5012996196746826,
          2.276252269744873,
          6.533725738525391,
          1.6600241661071777,
          1.7985855340957642,
          1.6331868171691895,
          2.028032064437866,
          1.3410978317260742,
          1.8558391332626343,
          4.433912754058838,
          2.5083529949188232,
          1.2978538274765015,
          1.6828680038452148,
          2.513477087020874,
          1.8012137413024902,
          3.0662434101104736,
          5.160364627838135,
          2.7935383319854736,
          1.9490796327590942,
          3.2058236598968506,
          3.053302526473999,
          2.051689624786377,
          3.106163263320923,
          5.538827419281006,
          3.172006845474243,
          2.0574686527252197,
          3.005157709121704,
          2.2183663845062256,
          3.8704593181610107,
          3.125086784362793,
          1.632248878479004,
          1.4803811311721802,
          1.6916638612747192,
          2.515707015991211,
          2.521897077560425,
          5.2738518714904785,
          2.2451255321502686,
          2.190812349319458,
          6.091938495635986,
          2.063037872314453,
          1.045385479927063,
          1.3723303079605103,
          2.5698938369750977,
          4.475410461425781,
          4.861123085021973,
          1.8016952276229858,
          1.3333460092544556,
          2.0404319763183594,
          4.406426429748535,
          3.5566139221191406,
          2.6097757816314697,
          4.710748672485352,
          4.453888893127441,
          3.405057668685913,
          1.8388973474502563,
          3.1189353466033936,
          3.905787229537964,
          4.065243721008301,
          2.1471962928771973,
          3.315570592880249,
          2.7034196853637695,
          2.5319161415100098,
          4.334949016571045,
          3.7649781703948975,
          3.685445547103882,
          2.6614034175872803,
          4.422940254211426,
          2.7435338497161865,
          4.240698337554932,
          1.7836661338806152,
          2.2096073627471924,
          2.190690755844116,
          1.3379559516906738,
          6.574717044830322,
          4.411692142486572,
          2.934990644454956,
          2.625417709350586,
          2.2083516120910645,
          2.647662401199341,
          4.082574367523193,
          2.6830530166625977,
          2.5065507888793945,
          4.906754016876221,
          1.4897165298461914,
          4.453707695007324,
          2.3278486728668213,
          1.7811436653137207,
          3.650418996810913,
          4.77284049987793
         ],
         "xaxis": "x",
         "y": [
          -0.02611646391476539,
          0.4930220465150692,
          -0.013511441921870555,
          -0.005839605631373021,
          0.07478617061998527,
          0.23906450859653214,
          0.0745881597050468,
          0.17510956009685508,
          -0.007002457371324504,
          -0.03864358897816263,
          -0.0543483232328963,
          0.21268632011364605,
          0.3929300803495802,
          0.4638231666275171,
          0.09703564015896979,
          0.09683835398671861,
          0.007205435888374918,
          0.011058819661203317,
          0.007801063284344205,
          0.018407987401621303,
          0.32030344980234154,
          1.298183300398249,
          0.2127252360393478,
          0.16847295762905903,
          0.18502083048912185,
          0.05741591762752743,
          0.08322401346809552,
          -0.04789851737894937,
          0.12799481209651642,
          -0.026070494326814013,
          0.07886306065010726,
          0.11106012705664405,
          0.05905298576812342,
          -0.14581823371352196,
          0.3261990914046424,
          -0.005995768021245962,
          0.033357581319024374,
          -0.035333614733960836,
          -0.031928637377750944,
          -0.01226035592840045,
          0.16639839329596656,
          0.12134232324952147,
          0.03296184866573458,
          -0.024973585515696808,
          0.04046277422549449,
          -0.012290843595781187,
          0.012339178112582179,
          0.25783676789850324,
          0.22613480079748421,
          -0.03896043963000346,
          -0.03055106270516776,
          0.09618984391833474,
          0.06444309642228492,
          0.0062087426276937205,
          0.08360930905132219,
          0.10330877707514273,
          0.03308965587230597,
          0.0322711480104467,
          0.1162277485519378,
          0.07989628330853268,
          0.20470787998627843,
          0.04548012701385594,
          0.004725498858646669,
          0.02251023472725027,
          -0.025323012332847276,
          0.1806717623552272,
          0.2003102564733962,
          0.39630802118977476,
          -0.01873800319253739,
          0.2107062460151541,
          0.3795656159712406,
          0.04589745604319396,
          0.003959379395143995,
          0.008710248357620506,
          0.006343295091517531,
          0.11389089659742985,
          0.21393530654605986,
          0.0033747651701978615,
          0.04380204009093278,
          0.08988872448950541,
          0.5254256781697817,
          0.2985847992268421,
          0.2401279393466596,
          0.2817315382081199,
          0.1969562038591748,
          0.08396560046709865,
          0.026677393019076175,
          0.0841882115177905,
          0.29809020846154116,
          0.17368619733914337,
          -0.06331098553319994,
          0.3942663818843263,
          0.05731314434833414,
          0.20796858769062654,
          0.8066991048244446,
          0.8573461498215482,
          1.1194338276076117,
          0.39049418305851835,
          0.8965665706103205,
          0.03571666513964375,
          0.43111957834480485,
          0.03243398803318637,
          0.34244822822464854,
          0.07245110051443798,
          -0.03333717001614515,
          0.6898253180405007,
          0.2686394649276859,
          0.14194893675944018,
          0.1313395774406642,
          -0.0001614785301758924,
          0.0798246895370139,
          0.24048707445227052,
          0.12068171220967555,
          0.20091392543507192,
          0.33031215373831896,
          0.08091512280214884,
          0.2485232036691006,
          0.16110533907065827,
          0.10836632108893338,
          0.35979837415384425,
          0.22677026744345652
         ],
         "yaxis": "y"
        }
       ],
       "layout": {
        "coloraxis": {
         "colorbar": {
          "title": {
           "text": "Temperature (&deg;C)"
          }
         },
         "colorscale": [
          [
           0,
           "rgb(5,48,97)"
          ],
          [
           0.1,
           "rgb(33,102,172)"
          ],
          [
           0.2,
           "rgb(67,147,195)"
          ],
          [
           0.3,
           "rgb(146,197,222)"
          ],
          [
           0.4,
           "rgb(209,229,240)"
          ],
          [
           0.5,
           "rgb(247,247,247)"
          ],
          [
           0.6,
           "rgb(253,219,199)"
          ],
          [
           0.7,
           "rgb(244,165,130)"
          ],
          [
           0.8,
           "rgb(214,96,77)"
          ],
          [
           0.9,
           "rgb(178,24,43)"
          ],
          [
           1,
           "rgb(103,0,31)"
          ]
         ]
        },
        "height": 500,
        "legend": {
         "itemsizing": "constant",
         "tracegroupgap": 0
        },
        "template": {
         "data": {
          "bar": [
           {
            "error_x": {
             "color": "#2a3f5f"
            },
            "error_y": {
             "color": "#2a3f5f"
            },
            "marker": {
             "line": {
              "color": "#E5ECF6",
              "width": 0.5
             },
             "pattern": {
              "fillmode": "overlay",
              "size": 10,
              "solidity": 0.2
             }
            },
            "type": "bar"
           }
          ],
          "barpolar": [
           {
            "marker": {
             "line": {
              "color": "#E5ECF6",
              "width": 0.5
             },
             "pattern": {
              "fillmode": "overlay",
              "size": 10,
              "solidity": 0.2
             }
            },
            "type": "barpolar"
           }
          ],
          "carpet": [
           {
            "aaxis": {
             "endlinecolor": "#2a3f5f",
             "gridcolor": "white",
             "linecolor": "white",
             "minorgridcolor": "white",
             "startlinecolor": "#2a3f5f"
            },
            "baxis": {
             "endlinecolor": "#2a3f5f",
             "gridcolor": "white",
             "linecolor": "white",
             "minorgridcolor": "white",
             "startlinecolor": "#2a3f5f"
            },
            "type": "carpet"
           }
          ],
          "choropleth": [
           {
            "colorbar": {
             "outlinewidth": 0,
             "ticks": ""
            },
            "type": "choropleth"
           }
          ],
          "contour": [
           {
            "colorbar": {
             "outlinewidth": 0,
             "ticks": ""
            },
            "colorscale": [
             [
              0,
              "#0d0887"
             ],
             [
              0.1111111111111111,
              "#46039f"
             ],
             [
              0.2222222222222222,
              "#7201a8"
             ],
             [
              0.3333333333333333,
              "#9c179e"
             ],
             [
              0.4444444444444444,
              "#bd3786"
             ],
             [
              0.5555555555555556,
              "#d8576b"
             ],
             [
              0.6666666666666666,
              "#ed7953"
             ],
             [
              0.7777777777777778,
              "#fb9f3a"
             ],
             [
              0.8888888888888888,
              "#fdca26"
             ],
             [
              1,
              "#f0f921"
             ]
            ],
            "type": "contour"
           }
          ],
          "contourcarpet": [
           {
            "colorbar": {
             "outlinewidth": 0,
             "ticks": ""
            },
            "type": "contourcarpet"
           }
          ],
          "heatmap": [
           {
            "colorbar": {
             "outlinewidth": 0,
             "ticks": ""
            },
            "colorscale": [
             [
              0,
              "#0d0887"
             ],
             [
              0.1111111111111111,
              "#46039f"
             ],
             [
              0.2222222222222222,
              "#7201a8"
             ],
             [
              0.3333333333333333,
              "#9c179e"
             ],
             [
              0.4444444444444444,
              "#bd3786"
             ],
             [
              0.5555555555555556,
              "#d8576b"
             ],
             [
              0.6666666666666666,
              "#ed7953"
             ],
             [
              0.7777777777777778,
              "#fb9f3a"
             ],
             [
              0.8888888888888888,
              "#fdca26"
             ],
             [
              1,
              "#f0f921"
             ]
            ],
            "type": "heatmap"
           }
          ],
          "heatmapgl": [
           {
            "colorbar": {
             "outlinewidth": 0,
             "ticks": ""
            },
            "colorscale": [
             [
              0,
              "#0d0887"
             ],
             [
              0.1111111111111111,
              "#46039f"
             ],
             [
              0.2222222222222222,
              "#7201a8"
             ],
             [
              0.3333333333333333,
              "#9c179e"
             ],
             [
              0.4444444444444444,
              "#bd3786"
             ],
             [
              0.5555555555555556,
              "#d8576b"
             ],
             [
              0.6666666666666666,
              "#ed7953"
             ],
             [
              0.7777777777777778,
              "#fb9f3a"
             ],
             [
              0.8888888888888888,
              "#fdca26"
             ],
             [
              1,
              "#f0f921"
             ]
            ],
            "type": "heatmapgl"
           }
          ],
          "histogram": [
           {
            "marker": {
             "pattern": {
              "fillmode": "overlay",
              "size": 10,
              "solidity": 0.2
             }
            },
            "type": "histogram"
           }
          ],
          "histogram2d": [
           {
            "colorbar": {
             "outlinewidth": 0,
             "ticks": ""
            },
            "colorscale": [
             [
              0,
              "#0d0887"
             ],
             [
              0.1111111111111111,
              "#46039f"
             ],
             [
              0.2222222222222222,
              "#7201a8"
             ],
             [
              0.3333333333333333,
              "#9c179e"
             ],
             [
              0.4444444444444444,
              "#bd3786"
             ],
             [
              0.5555555555555556,
              "#d8576b"
             ],
             [
              0.6666666666666666,
              "#ed7953"
             ],
             [
              0.7777777777777778,
              "#fb9f3a"
             ],
             [
              0.8888888888888888,
              "#fdca26"
             ],
             [
              1,
              "#f0f921"
             ]
            ],
            "type": "histogram2d"
           }
          ],
          "histogram2dcontour": [
           {
            "colorbar": {
             "outlinewidth": 0,
             "ticks": ""
            },
            "colorscale": [
             [
              0,
              "#0d0887"
             ],
             [
              0.1111111111111111,
              "#46039f"
             ],
             [
              0.2222222222222222,
              "#7201a8"
             ],
             [
              0.3333333333333333,
              "#9c179e"
             ],
             [
              0.4444444444444444,
              "#bd3786"
             ],
             [
              0.5555555555555556,
              "#d8576b"
             ],
             [
              0.6666666666666666,
              "#ed7953"
             ],
             [
              0.7777777777777778,
              "#fb9f3a"
             ],
             [
              0.8888888888888888,
              "#fdca26"
             ],
             [
              1,
              "#f0f921"
             ]
            ],
            "type": "histogram2dcontour"
           }
          ],
          "mesh3d": [
           {
            "colorbar": {
             "outlinewidth": 0,
             "ticks": ""
            },
            "type": "mesh3d"
           }
          ],
          "parcoords": [
           {
            "line": {
             "colorbar": {
              "outlinewidth": 0,
              "ticks": ""
             }
            },
            "type": "parcoords"
           }
          ],
          "pie": [
           {
            "automargin": true,
            "type": "pie"
           }
          ],
          "scatter": [
           {
            "fillpattern": {
             "fillmode": "overlay",
             "size": 10,
             "solidity": 0.2
            },
            "type": "scatter"
           }
          ],
          "scatter3d": [
           {
            "line": {
             "colorbar": {
              "outlinewidth": 0,
              "ticks": ""
             }
            },
            "marker": {
             "colorbar": {
              "outlinewidth": 0,
              "ticks": ""
             }
            },
            "type": "scatter3d"
           }
          ],
          "scattercarpet": [
           {
            "marker": {
             "colorbar": {
              "outlinewidth": 0,
              "ticks": ""
             }
            },
            "type": "scattercarpet"
           }
          ],
          "scattergeo": [
           {
            "marker": {
             "colorbar": {
              "outlinewidth": 0,
              "ticks": ""
             }
            },
            "type": "scattergeo"
           }
          ],
          "scattergl": [
           {
            "marker": {
             "colorbar": {
              "outlinewidth": 0,
              "ticks": ""
             }
            },
            "type": "scattergl"
           }
          ],
          "scattermapbox": [
           {
            "marker": {
             "colorbar": {
              "outlinewidth": 0,
              "ticks": ""
             }
            },
            "type": "scattermapbox"
           }
          ],
          "scatterpolar": [
           {
            "marker": {
             "colorbar": {
              "outlinewidth": 0,
              "ticks": ""
             }
            },
            "type": "scatterpolar"
           }
          ],
          "scatterpolargl": [
           {
            "marker": {
             "colorbar": {
              "outlinewidth": 0,
              "ticks": ""
             }
            },
            "type": "scatterpolargl"
           }
          ],
          "scatterternary": [
           {
            "marker": {
             "colorbar": {
              "outlinewidth": 0,
              "ticks": ""
             }
            },
            "type": "scatterternary"
           }
          ],
          "surface": [
           {
            "colorbar": {
             "outlinewidth": 0,
             "ticks": ""
            },
            "colorscale": [
             [
              0,
              "#0d0887"
             ],
             [
              0.1111111111111111,
              "#46039f"
             ],
             [
              0.2222222222222222,
              "#7201a8"
             ],
             [
              0.3333333333333333,
              "#9c179e"
             ],
             [
              0.4444444444444444,
              "#bd3786"
             ],
             [
              0.5555555555555556,
              "#d8576b"
             ],
             [
              0.6666666666666666,
              "#ed7953"
             ],
             [
              0.7777777777777778,
              "#fb9f3a"
             ],
             [
              0.8888888888888888,
              "#fdca26"
             ],
             [
              1,
              "#f0f921"
             ]
            ],
            "type": "surface"
           }
          ],
          "table": [
           {
            "cells": {
             "fill": {
              "color": "#EBF0F8"
             },
             "line": {
              "color": "white"
             }
            },
            "header": {
             "fill": {
              "color": "#C8D4E3"
             },
             "line": {
              "color": "white"
             }
            },
            "type": "table"
           }
          ]
         },
         "layout": {
          "annotationdefaults": {
           "arrowcolor": "#2a3f5f",
           "arrowhead": 0,
           "arrowwidth": 1
          },
          "autotypenumbers": "strict",
          "coloraxis": {
           "colorbar": {
            "outlinewidth": 0,
            "ticks": ""
           }
          },
          "colorscale": {
           "diverging": [
            [
             0,
             "#8e0152"
            ],
            [
             0.1,
             "#c51b7d"
            ],
            [
             0.2,
             "#de77ae"
            ],
            [
             0.3,
             "#f1b6da"
            ],
            [
             0.4,
             "#fde0ef"
            ],
            [
             0.5,
             "#f7f7f7"
            ],
            [
             0.6,
             "#e6f5d0"
            ],
            [
             0.7,
             "#b8e186"
            ],
            [
             0.8,
             "#7fbc41"
            ],
            [
             0.9,
             "#4d9221"
            ],
            [
             1,
             "#276419"
            ]
           ],
           "sequential": [
            [
             0,
             "#0d0887"
            ],
            [
             0.1111111111111111,
             "#46039f"
            ],
            [
             0.2222222222222222,
             "#7201a8"
            ],
            [
             0.3333333333333333,
             "#9c179e"
            ],
            [
             0.4444444444444444,
             "#bd3786"
            ],
            [
             0.5555555555555556,
             "#d8576b"
            ],
            [
             0.6666666666666666,
             "#ed7953"
            ],
            [
             0.7777777777777778,
             "#fb9f3a"
            ],
            [
             0.8888888888888888,
             "#fdca26"
            ],
            [
             1,
             "#f0f921"
            ]
           ],
           "sequentialminus": [
            [
             0,
             "#0d0887"
            ],
            [
             0.1111111111111111,
             "#46039f"
            ],
            [
             0.2222222222222222,
             "#7201a8"
            ],
            [
             0.3333333333333333,
             "#9c179e"
            ],
            [
             0.4444444444444444,
             "#bd3786"
            ],
            [
             0.5555555555555556,
             "#d8576b"
            ],
            [
             0.6666666666666666,
             "#ed7953"
            ],
            [
             0.7777777777777778,
             "#fb9f3a"
            ],
            [
             0.8888888888888888,
             "#fdca26"
            ],
            [
             1,
             "#f0f921"
            ]
           ]
          },
          "colorway": [
           "#636efa",
           "#EF553B",
           "#00cc96",
           "#ab63fa",
           "#FFA15A",
           "#19d3f3",
           "#FF6692",
           "#B6E880",
           "#FF97FF",
           "#FECB52"
          ],
          "font": {
           "color": "#2a3f5f"
          },
          "geo": {
           "bgcolor": "white",
           "lakecolor": "white",
           "landcolor": "#E5ECF6",
           "showlakes": true,
           "showland": true,
           "subunitcolor": "white"
          },
          "hoverlabel": {
           "align": "left"
          },
          "hovermode": "closest",
          "mapbox": {
           "style": "light"
          },
          "paper_bgcolor": "white",
          "plot_bgcolor": "#E5ECF6",
          "polar": {
           "angularaxis": {
            "gridcolor": "white",
            "linecolor": "white",
            "ticks": ""
           },
           "bgcolor": "#E5ECF6",
           "radialaxis": {
            "gridcolor": "white",
            "linecolor": "white",
            "ticks": ""
           }
          },
          "scene": {
           "xaxis": {
            "backgroundcolor": "#E5ECF6",
            "gridcolor": "white",
            "gridwidth": 2,
            "linecolor": "white",
            "showbackground": true,
            "ticks": "",
            "zerolinecolor": "white"
           },
           "yaxis": {
            "backgroundcolor": "#E5ECF6",
            "gridcolor": "white",
            "gridwidth": 2,
            "linecolor": "white",
            "showbackground": true,
            "ticks": "",
            "zerolinecolor": "white"
           },
           "zaxis": {
            "backgroundcolor": "#E5ECF6",
            "gridcolor": "white",
            "gridwidth": 2,
            "linecolor": "white",
            "showbackground": true,
            "ticks": "",
            "zerolinecolor": "white"
           }
          },
          "shapedefaults": {
           "line": {
            "color": "#2a3f5f"
           }
          },
          "ternary": {
           "aaxis": {
            "gridcolor": "white",
            "linecolor": "white",
            "ticks": ""
           },
           "baxis": {
            "gridcolor": "white",
            "linecolor": "white",
            "ticks": ""
           },
           "bgcolor": "#E5ECF6",
           "caxis": {
            "gridcolor": "white",
            "linecolor": "white",
            "ticks": ""
           }
          },
          "title": {
           "x": 0.05
          },
          "xaxis": {
           "automargin": true,
           "gridcolor": "white",
           "linecolor": "white",
           "ticks": "",
           "title": {
            "standoff": 15
           },
           "zerolinecolor": "white",
           "zerolinewidth": 2
          },
          "yaxis": {
           "automargin": true,
           "gridcolor": "white",
           "linecolor": "white",
           "ticks": "",
           "title": {
            "standoff": 15
           },
           "zerolinecolor": "white",
           "zerolinewidth": 2
          }
         }
        },
        "title": {
         "text": "Wind Speed and Sublimation Rate <br> sized by BSF and averaged over 24H"
        },
        "width": 800,
        "xaxis": {
         "anchor": "y",
         "domain": [
          0,
          1
         ],
         "title": {
          "text": "Wind Speed (m/s)"
         }
        },
        "yaxis": {
         "anchor": "x",
         "domain": [
          0,
          1
         ],
         "title": {
          "text": "Sublimation Rate (mm/hr)"
         }
        }
       }
      },
      "text/html": [
       "<div>                            <div id=\"b123f912-48a8-4ae2-bfbc-fa60530fbb54\" class=\"plotly-graph-div\" style=\"height:500px; width:800px;\"></div>            <script type=\"text/javascript\">                require([\"plotly\"], function(Plotly) {                    window.PLOTLYENV=window.PLOTLYENV || {};                                    if (document.getElementById(\"b123f912-48a8-4ae2-bfbc-fa60530fbb54\")) {                    Plotly.newPlot(                        \"b123f912-48a8-4ae2-bfbc-fa60530fbb54\",                        [{\"hovertemplate\":\"wind_speed_24H=%{x}\\u003cbr\\u003esublimation_24H=%{y}\\u003cbr\\u003ebsf=%{marker.size}\\u003cbr\\u003etemperature_24H=%{marker.color}\\u003cextra\\u003e\\u003c\\u002fextra\\u003e\",\"legendgroup\":\"\",\"marker\":{\"color\":[-7.822053909301758,-2.0121281147003174,-8.154813766479492,-4.134293079376221,-1.2148035764694214,-2.7336862087249756,-4.880940914154053,-5.867099761962891,-14.859301567077637,-12.095601081848145,-8.910537719726562,-3.9117133617401123,-10.417407035827637,-10.704063415527344,-14.819293975830078,-15.496574401855469,-19.603620529174805,-16.392974853515625,-14.248824119567871,-14.122355461120605,-7.19908332824707,-8.327905654907227,-8.597932815551758,-6.238816738128662,-5.333929538726807,-1.7688881158828735,-4.578860759735107,-2.3799383640289307,-8.170025825500488,-13.58194351196289,-6.899738311767578,-2.340263605117798,-4.379934787750244,-8.924662590026855,-9.632428169250488,-12.36350154876709,-7.676899433135986,-7.953807353973389,-12.410536766052246,-8.195054054260254,-3.4800472259521484,-4.758645534515381,-10.223525047302246,-9.501086235046387,-5.510311126708984,-4.245338439941406,-7.1604228019714355,-6.486165523529053,-8.882984161376953,-13.894087791442871,-11.496830940246582,-12.875656127929688,-13.808650016784668,-9.433696746826172,-12.51721477508545,-12.272191047668457,-16.887252807617188,-12.646942138671875,-7.300337314605713,-8.877944946289062,-6.53181791305542,-11.391227722167969,-16.772214889526367,-12.697746276855469,-11.989212036132812,-8.848896980285645,-6.760959625244141,-5.086739540100098,-12.893848419189453,-12.297404289245605,-10.726622581481934,-15.576740264892578,-8.18055248260498,-4.670515060424805,-8.274588584899902,-6.534837245941162,-9.906011581420898,-17.477956771850586,-16.51130485534668,-11.322612762451172,-5.486371994018555,-3.24782395362854,-2.543515920639038,-4.553917407989502,-12.534743309020996,-10.311088562011719,-7.439148426055908,-6.143039226531982,-9.242833137512207,-8.62971019744873,-11.915265083312988,-9.46113109588623,-9.803692817687988,-9.771674156188965,-3.445956230163574,-1.7359436750411987,0.31657227873802185,-5.2977423667907715,-3.715468406677246,-7.071741104125977,-2.784407377243042,-4.6922993659973145,-4.405218601226807,-5.362046718597412,-1.9218446016311646,-3.053640127182007,-9.57952880859375,-13.070919036865234,-13.1095552444458,-7.701026916503906,-6.092914581298828,-2.6697375774383545,-6.588594913482666,-8.194783210754395,-11.92807674407959,-15.301544189453125,-12.386788368225098,-15.133838653564453,-3.924091100692749,-1.9250688552856445,-7.604275226593018],\"coloraxis\":\"coloraxis\",\"size\":[0.0,0.14497791230678558,0.0008680555038154125,0.0,0.01267361082136631,0.009513888508081436,6.944443885004148e-05,0.01111111044883728,0.0,0.0,0.0,0.004444444552063942,0.17253471910953522,0.37170135974884033,0.008645833469927311,0.0020833334419876337,0.0,0.0,0.0,0.0,0.016388889402151108,11.70949649810791,0.03340277820825577,0.0,0.0002777777554001659,0.0003124999930150807,0.0,0.008819444105029106,0.007916666567325592,0.0,0.005243055056780577,0.06170138716697693,0.005243055522441864,3.472221942502074e-05,0.03152777999639511,0.0,0.0020486111752688885,6.944443885004148e-05,0.0,0.0,0.034583333879709244,0.05524305999279022,0.0009374999208375812,0.0,0.0,0.0038888887502253056,0.00013888887770008296,0.0005902777193114161,0.03829861059784889,0.0005208333022892475,0.0,0.0057638888247311115,0.028923610225319862,0.0,0.016631944105029106,0.015138889662921429,0.003368055447936058,0.003993055783212185,0.001979166641831398,0.0005902777775190771,0.0047222222201526165,0.006215277593582869,0.0,0.0,0.0,0.001875000074505806,0.035798609256744385,0.06093750149011612,0.0036458333488553762,0.013645834289491177,0.0710763931274414,0.0,0.0,0.0,0.0010763888712972403,0.007777777500450611,0.01493055559694767,0.0,0.0,0.0021527777425944805,0.10229166597127914,0.046041667461395264,0.0028124998789280653,0.11170139908790588,0.03295138478279114,0.00951388943940401,0.0,0.005694444291293621,0.02152777835726738,0.013680554926395416,0.00031249996391125023,0.0,0.0004861110937781632,0.0013888889225199819,0.026006942614912987,0.051499366760253906,0.04121527820825577,0.03194444254040718,0.1422569453716278,0.011944443918764591,0.0949999988079071,0.0003819444391410798,0.0,0.0,0.00020833332382608205,0.02408396452665329,0.005138888955116272,0.0,0.0,0.00010416666191304103,0.009851641021668911,0.15005050599575043,0.0010448232060298324,0.00020833332382608205,0.03572601079940796,3.787878813454881e-05,0.016360478475689888,0.0004166666476521641,0.0,0.3447822034358978,0.019826387986540794],\"sizemode\":\"area\",\"sizeref\":0.001170949649810791,\"symbol\":\"circle\",\"line\":{\"color\":\"DarkSlateGrey\",\"width\":1}},\"mode\":\"markers\",\"name\":\"\",\"orientation\":\"v\",\"showlegend\":false,\"x\":[1.6115328073501587,4.196055889129639,2.014892101287842,1.269307255744934,2.83235239982605,3.331104278564453,1.4563994407653809,3.30776047706604,2.2808754444122314,1.7281655073165894,1.7941349744796753,3.564185380935669,6.40674352645874,8.938316345214844,3.528409242630005,5.34154748916626,1.7491403818130493,1.5163670778274536,1.69708251953125,2.085554361343384,4.071174621582031,10.55510139465332,2.6780364513397217,2.227057933807373,3.8228368759155273,4.924121856689453,2.1132442951202393,2.5965816974639893,3.7670068740844727,1.7683124542236328,1.2360754013061523,3.238063097000122,2.5012996196746826,2.276252269744873,6.533725738525391,1.6600241661071777,1.7985855340957642,1.6331868171691895,2.028032064437866,1.3410978317260742,1.8558391332626343,4.433912754058838,2.5083529949188232,1.2978538274765015,1.6828680038452148,2.513477087020874,1.8012137413024902,3.0662434101104736,5.160364627838135,2.7935383319854736,1.9490796327590942,3.2058236598968506,3.053302526473999,2.051689624786377,3.106163263320923,5.538827419281006,3.172006845474243,2.0574686527252197,3.005157709121704,2.2183663845062256,3.8704593181610107,3.125086784362793,1.632248878479004,1.4803811311721802,1.6916638612747192,2.515707015991211,2.521897077560425,5.2738518714904785,2.2451255321502686,2.190812349319458,6.091938495635986,2.063037872314453,1.045385479927063,1.3723303079605103,2.5698938369750977,4.475410461425781,4.861123085021973,1.8016952276229858,1.3333460092544556,2.0404319763183594,4.406426429748535,3.5566139221191406,2.6097757816314697,4.710748672485352,4.453888893127441,3.405057668685913,1.8388973474502563,3.1189353466033936,3.905787229537964,4.065243721008301,2.1471962928771973,3.315570592880249,2.7034196853637695,2.5319161415100098,4.334949016571045,3.7649781703948975,3.685445547103882,2.6614034175872803,4.422940254211426,2.7435338497161865,4.240698337554932,1.7836661338806152,2.2096073627471924,2.190690755844116,1.3379559516906738,6.574717044830322,4.411692142486572,2.934990644454956,2.625417709350586,2.2083516120910645,2.647662401199341,4.082574367523193,2.6830530166625977,2.5065507888793945,4.906754016876221,1.4897165298461914,4.453707695007324,2.3278486728668213,1.7811436653137207,3.650418996810913,4.77284049987793],\"xaxis\":\"x\",\"y\":[-0.02611646391476539,0.4930220465150692,-0.013511441921870555,-0.005839605631373021,0.07478617061998527,0.23906450859653214,0.0745881597050468,0.17510956009685508,-0.007002457371324504,-0.03864358897816263,-0.0543483232328963,0.21268632011364605,0.3929300803495802,0.4638231666275171,0.09703564015896979,0.09683835398671861,0.007205435888374918,0.011058819661203317,0.007801063284344205,0.018407987401621303,0.32030344980234154,1.298183300398249,0.2127252360393478,0.16847295762905903,0.18502083048912185,0.05741591762752743,0.08322401346809552,-0.04789851737894937,0.12799481209651642,-0.026070494326814013,0.07886306065010726,0.11106012705664405,0.05905298576812342,-0.14581823371352196,0.3261990914046424,-0.005995768021245962,0.033357581319024374,-0.035333614733960836,-0.031928637377750944,-0.01226035592840045,0.16639839329596656,0.12134232324952147,0.03296184866573458,-0.024973585515696808,0.04046277422549449,-0.012290843595781187,0.012339178112582179,0.25783676789850324,0.22613480079748421,-0.03896043963000346,-0.03055106270516776,0.09618984391833474,0.06444309642228492,0.0062087426276937205,0.08360930905132219,0.10330877707514273,0.03308965587230597,0.0322711480104467,0.1162277485519378,0.07989628330853268,0.20470787998627843,0.04548012701385594,0.004725498858646669,0.02251023472725027,-0.025323012332847276,0.1806717623552272,0.2003102564733962,0.39630802118977476,-0.01873800319253739,0.2107062460151541,0.3795656159712406,0.04589745604319396,0.003959379395143995,0.008710248357620506,0.006343295091517531,0.11389089659742985,0.21393530654605986,0.0033747651701978615,0.04380204009093278,0.08988872448950541,0.5254256781697817,0.2985847992268421,0.2401279393466596,0.2817315382081199,0.1969562038591748,0.08396560046709865,0.026677393019076175,0.0841882115177905,0.29809020846154116,0.17368619733914337,-0.06331098553319994,0.3942663818843263,0.05731314434833414,0.20796858769062654,0.8066991048244446,0.8573461498215482,1.1194338276076117,0.39049418305851835,0.8965665706103205,0.03571666513964375,0.43111957834480485,0.03243398803318637,0.34244822822464854,0.07245110051443798,-0.03333717001614515,0.6898253180405007,0.2686394649276859,0.14194893675944018,0.1313395774406642,-0.0001614785301758924,0.0798246895370139,0.24048707445227052,0.12068171220967555,0.20091392543507192,0.33031215373831896,0.08091512280214884,0.2485232036691006,0.16110533907065827,0.10836632108893338,0.35979837415384425,0.22677026744345652],\"yaxis\":\"y\",\"type\":\"scatter\"}],                        {\"template\":{\"data\":{\"histogram2dcontour\":[{\"type\":\"histogram2dcontour\",\"colorbar\":{\"outlinewidth\":0,\"ticks\":\"\"},\"colorscale\":[[0.0,\"#0d0887\"],[0.1111111111111111,\"#46039f\"],[0.2222222222222222,\"#7201a8\"],[0.3333333333333333,\"#9c179e\"],[0.4444444444444444,\"#bd3786\"],[0.5555555555555556,\"#d8576b\"],[0.6666666666666666,\"#ed7953\"],[0.7777777777777778,\"#fb9f3a\"],[0.8888888888888888,\"#fdca26\"],[1.0,\"#f0f921\"]]}],\"choropleth\":[{\"type\":\"choropleth\",\"colorbar\":{\"outlinewidth\":0,\"ticks\":\"\"}}],\"histogram2d\":[{\"type\":\"histogram2d\",\"colorbar\":{\"outlinewidth\":0,\"ticks\":\"\"},\"colorscale\":[[0.0,\"#0d0887\"],[0.1111111111111111,\"#46039f\"],[0.2222222222222222,\"#7201a8\"],[0.3333333333333333,\"#9c179e\"],[0.4444444444444444,\"#bd3786\"],[0.5555555555555556,\"#d8576b\"],[0.6666666666666666,\"#ed7953\"],[0.7777777777777778,\"#fb9f3a\"],[0.8888888888888888,\"#fdca26\"],[1.0,\"#f0f921\"]]}],\"heatmap\":[{\"type\":\"heatmap\",\"colorbar\":{\"outlinewidth\":0,\"ticks\":\"\"},\"colorscale\":[[0.0,\"#0d0887\"],[0.1111111111111111,\"#46039f\"],[0.2222222222222222,\"#7201a8\"],[0.3333333333333333,\"#9c179e\"],[0.4444444444444444,\"#bd3786\"],[0.5555555555555556,\"#d8576b\"],[0.6666666666666666,\"#ed7953\"],[0.7777777777777778,\"#fb9f3a\"],[0.8888888888888888,\"#fdca26\"],[1.0,\"#f0f921\"]]}],\"heatmapgl\":[{\"type\":\"heatmapgl\",\"colorbar\":{\"outlinewidth\":0,\"ticks\":\"\"},\"colorscale\":[[0.0,\"#0d0887\"],[0.1111111111111111,\"#46039f\"],[0.2222222222222222,\"#7201a8\"],[0.3333333333333333,\"#9c179e\"],[0.4444444444444444,\"#bd3786\"],[0.5555555555555556,\"#d8576b\"],[0.6666666666666666,\"#ed7953\"],[0.7777777777777778,\"#fb9f3a\"],[0.8888888888888888,\"#fdca26\"],[1.0,\"#f0f921\"]]}],\"contourcarpet\":[{\"type\":\"contourcarpet\",\"colorbar\":{\"outlinewidth\":0,\"ticks\":\"\"}}],\"contour\":[{\"type\":\"contour\",\"colorbar\":{\"outlinewidth\":0,\"ticks\":\"\"},\"colorscale\":[[0.0,\"#0d0887\"],[0.1111111111111111,\"#46039f\"],[0.2222222222222222,\"#7201a8\"],[0.3333333333333333,\"#9c179e\"],[0.4444444444444444,\"#bd3786\"],[0.5555555555555556,\"#d8576b\"],[0.6666666666666666,\"#ed7953\"],[0.7777777777777778,\"#fb9f3a\"],[0.8888888888888888,\"#fdca26\"],[1.0,\"#f0f921\"]]}],\"surface\":[{\"type\":\"surface\",\"colorbar\":{\"outlinewidth\":0,\"ticks\":\"\"},\"colorscale\":[[0.0,\"#0d0887\"],[0.1111111111111111,\"#46039f\"],[0.2222222222222222,\"#7201a8\"],[0.3333333333333333,\"#9c179e\"],[0.4444444444444444,\"#bd3786\"],[0.5555555555555556,\"#d8576b\"],[0.6666666666666666,\"#ed7953\"],[0.7777777777777778,\"#fb9f3a\"],[0.8888888888888888,\"#fdca26\"],[1.0,\"#f0f921\"]]}],\"mesh3d\":[{\"type\":\"mesh3d\",\"colorbar\":{\"outlinewidth\":0,\"ticks\":\"\"}}],\"scatter\":[{\"fillpattern\":{\"fillmode\":\"overlay\",\"size\":10,\"solidity\":0.2},\"type\":\"scatter\"}],\"parcoords\":[{\"type\":\"parcoords\",\"line\":{\"colorbar\":{\"outlinewidth\":0,\"ticks\":\"\"}}}],\"scatterpolargl\":[{\"type\":\"scatterpolargl\",\"marker\":{\"colorbar\":{\"outlinewidth\":0,\"ticks\":\"\"}}}],\"bar\":[{\"error_x\":{\"color\":\"#2a3f5f\"},\"error_y\":{\"color\":\"#2a3f5f\"},\"marker\":{\"line\":{\"color\":\"#E5ECF6\",\"width\":0.5},\"pattern\":{\"fillmode\":\"overlay\",\"size\":10,\"solidity\":0.2}},\"type\":\"bar\"}],\"scattergeo\":[{\"type\":\"scattergeo\",\"marker\":{\"colorbar\":{\"outlinewidth\":0,\"ticks\":\"\"}}}],\"scatterpolar\":[{\"type\":\"scatterpolar\",\"marker\":{\"colorbar\":{\"outlinewidth\":0,\"ticks\":\"\"}}}],\"histogram\":[{\"marker\":{\"pattern\":{\"fillmode\":\"overlay\",\"size\":10,\"solidity\":0.2}},\"type\":\"histogram\"}],\"scattergl\":[{\"type\":\"scattergl\",\"marker\":{\"colorbar\":{\"outlinewidth\":0,\"ticks\":\"\"}}}],\"scatter3d\":[{\"type\":\"scatter3d\",\"line\":{\"colorbar\":{\"outlinewidth\":0,\"ticks\":\"\"}},\"marker\":{\"colorbar\":{\"outlinewidth\":0,\"ticks\":\"\"}}}],\"scattermapbox\":[{\"type\":\"scattermapbox\",\"marker\":{\"colorbar\":{\"outlinewidth\":0,\"ticks\":\"\"}}}],\"scatterternary\":[{\"type\":\"scatterternary\",\"marker\":{\"colorbar\":{\"outlinewidth\":0,\"ticks\":\"\"}}}],\"scattercarpet\":[{\"type\":\"scattercarpet\",\"marker\":{\"colorbar\":{\"outlinewidth\":0,\"ticks\":\"\"}}}],\"carpet\":[{\"aaxis\":{\"endlinecolor\":\"#2a3f5f\",\"gridcolor\":\"white\",\"linecolor\":\"white\",\"minorgridcolor\":\"white\",\"startlinecolor\":\"#2a3f5f\"},\"baxis\":{\"endlinecolor\":\"#2a3f5f\",\"gridcolor\":\"white\",\"linecolor\":\"white\",\"minorgridcolor\":\"white\",\"startlinecolor\":\"#2a3f5f\"},\"type\":\"carpet\"}],\"table\":[{\"cells\":{\"fill\":{\"color\":\"#EBF0F8\"},\"line\":{\"color\":\"white\"}},\"header\":{\"fill\":{\"color\":\"#C8D4E3\"},\"line\":{\"color\":\"white\"}},\"type\":\"table\"}],\"barpolar\":[{\"marker\":{\"line\":{\"color\":\"#E5ECF6\",\"width\":0.5},\"pattern\":{\"fillmode\":\"overlay\",\"size\":10,\"solidity\":0.2}},\"type\":\"barpolar\"}],\"pie\":[{\"automargin\":true,\"type\":\"pie\"}]},\"layout\":{\"autotypenumbers\":\"strict\",\"colorway\":[\"#636efa\",\"#EF553B\",\"#00cc96\",\"#ab63fa\",\"#FFA15A\",\"#19d3f3\",\"#FF6692\",\"#B6E880\",\"#FF97FF\",\"#FECB52\"],\"font\":{\"color\":\"#2a3f5f\"},\"hovermode\":\"closest\",\"hoverlabel\":{\"align\":\"left\"},\"paper_bgcolor\":\"white\",\"plot_bgcolor\":\"#E5ECF6\",\"polar\":{\"bgcolor\":\"#E5ECF6\",\"angularaxis\":{\"gridcolor\":\"white\",\"linecolor\":\"white\",\"ticks\":\"\"},\"radialaxis\":{\"gridcolor\":\"white\",\"linecolor\":\"white\",\"ticks\":\"\"}},\"ternary\":{\"bgcolor\":\"#E5ECF6\",\"aaxis\":{\"gridcolor\":\"white\",\"linecolor\":\"white\",\"ticks\":\"\"},\"baxis\":{\"gridcolor\":\"white\",\"linecolor\":\"white\",\"ticks\":\"\"},\"caxis\":{\"gridcolor\":\"white\",\"linecolor\":\"white\",\"ticks\":\"\"}},\"coloraxis\":{\"colorbar\":{\"outlinewidth\":0,\"ticks\":\"\"}},\"colorscale\":{\"sequential\":[[0.0,\"#0d0887\"],[0.1111111111111111,\"#46039f\"],[0.2222222222222222,\"#7201a8\"],[0.3333333333333333,\"#9c179e\"],[0.4444444444444444,\"#bd3786\"],[0.5555555555555556,\"#d8576b\"],[0.6666666666666666,\"#ed7953\"],[0.7777777777777778,\"#fb9f3a\"],[0.8888888888888888,\"#fdca26\"],[1.0,\"#f0f921\"]],\"sequentialminus\":[[0.0,\"#0d0887\"],[0.1111111111111111,\"#46039f\"],[0.2222222222222222,\"#7201a8\"],[0.3333333333333333,\"#9c179e\"],[0.4444444444444444,\"#bd3786\"],[0.5555555555555556,\"#d8576b\"],[0.6666666666666666,\"#ed7953\"],[0.7777777777777778,\"#fb9f3a\"],[0.8888888888888888,\"#fdca26\"],[1.0,\"#f0f921\"]],\"diverging\":[[0,\"#8e0152\"],[0.1,\"#c51b7d\"],[0.2,\"#de77ae\"],[0.3,\"#f1b6da\"],[0.4,\"#fde0ef\"],[0.5,\"#f7f7f7\"],[0.6,\"#e6f5d0\"],[0.7,\"#b8e186\"],[0.8,\"#7fbc41\"],[0.9,\"#4d9221\"],[1,\"#276419\"]]},\"xaxis\":{\"gridcolor\":\"white\",\"linecolor\":\"white\",\"ticks\":\"\",\"title\":{\"standoff\":15},\"zerolinecolor\":\"white\",\"automargin\":true,\"zerolinewidth\":2},\"yaxis\":{\"gridcolor\":\"white\",\"linecolor\":\"white\",\"ticks\":\"\",\"title\":{\"standoff\":15},\"zerolinecolor\":\"white\",\"automargin\":true,\"zerolinewidth\":2},\"scene\":{\"xaxis\":{\"backgroundcolor\":\"#E5ECF6\",\"gridcolor\":\"white\",\"linecolor\":\"white\",\"showbackground\":true,\"ticks\":\"\",\"zerolinecolor\":\"white\",\"gridwidth\":2},\"yaxis\":{\"backgroundcolor\":\"#E5ECF6\",\"gridcolor\":\"white\",\"linecolor\":\"white\",\"showbackground\":true,\"ticks\":\"\",\"zerolinecolor\":\"white\",\"gridwidth\":2},\"zaxis\":{\"backgroundcolor\":\"#E5ECF6\",\"gridcolor\":\"white\",\"linecolor\":\"white\",\"showbackground\":true,\"ticks\":\"\",\"zerolinecolor\":\"white\",\"gridwidth\":2}},\"shapedefaults\":{\"line\":{\"color\":\"#2a3f5f\"}},\"annotationdefaults\":{\"arrowcolor\":\"#2a3f5f\",\"arrowhead\":0,\"arrowwidth\":1},\"geo\":{\"bgcolor\":\"white\",\"landcolor\":\"#E5ECF6\",\"subunitcolor\":\"white\",\"showland\":true,\"showlakes\":true,\"lakecolor\":\"white\"},\"title\":{\"x\":0.05},\"mapbox\":{\"style\":\"light\"}}},\"xaxis\":{\"anchor\":\"y\",\"domain\":[0.0,1.0],\"title\":{\"text\":\"Wind Speed (m\\u002fs)\"}},\"yaxis\":{\"anchor\":\"x\",\"domain\":[0.0,1.0],\"title\":{\"text\":\"Sublimation Rate (mm\\u002fhr)\"}},\"coloraxis\":{\"colorbar\":{\"title\":{\"text\":\"Temperature (&deg;C)\"}},\"colorscale\":[[0.0,\"rgb(5,48,97)\"],[0.1,\"rgb(33,102,172)\"],[0.2,\"rgb(67,147,195)\"],[0.3,\"rgb(146,197,222)\"],[0.4,\"rgb(209,229,240)\"],[0.5,\"rgb(247,247,247)\"],[0.6,\"rgb(253,219,199)\"],[0.7,\"rgb(244,165,130)\"],[0.8,\"rgb(214,96,77)\"],[0.9,\"rgb(178,24,43)\"],[1.0,\"rgb(103,0,31)\"]]},\"legend\":{\"tracegroupgap\":0,\"itemsizing\":\"constant\"},\"title\":{\"text\":\"Wind Speed and Sublimation Rate \\u003cbr\\u003e sized by BSF and averaged over 24H\"},\"height\":500,\"width\":800},                        {\"responsive\": true}                    ).then(function(){\n",
       "                            \n",
       "var gd = document.getElementById('b123f912-48a8-4ae2-bfbc-fa60530fbb54');\n",
       "var x = new MutationObserver(function (mutations, observer) {{\n",
       "        var display = window.getComputedStyle(gd).display;\n",
       "        if (!display || display === 'none') {{\n",
       "            console.log([gd, 'removed!']);\n",
       "            Plotly.purge(gd);\n",
       "            observer.disconnect();\n",
       "        }}\n",
       "}});\n",
       "\n",
       "// Listen for the removal of the full notebook cells\n",
       "var notebookContainer = gd.closest('#notebook-container');\n",
       "if (notebookContainer) {{\n",
       "    x.observe(notebookContainer, {childList: true});\n",
       "}}\n",
       "\n",
       "// Listen for the clearing of the current output cell\n",
       "var outputEl = gd.closest('.output');\n",
       "if (outputEl) {{\n",
       "    x.observe(outputEl, {childList: true});\n",
       "}}\n",
       "\n",
       "                        })                };                });            </script>        </div>"
      ]
     },
     "metadata": {},
     "output_type": "display_data"
    }
   ],
   "source": [
    "\n",
    "# create a scatter plot with the wind speed on the x-axis and the sublimation rate on the y-axis and the markers sized by the blowing snow flux (log scale)\n",
    "fig = px.scatter(sublimation_1D.dropna(), \n",
    "                 x=f'wind_speed_{timestep}H', \n",
    "                 y=f'sublimation_{timestep}H', \n",
    "                 size='bsf', \n",
    "                 # color by wind direction\n",
    "                 color=f'temperature_{timestep}H',\n",
    "                 color_continuous_scale='RdBu_r',\n",
    "                 # make edge color black\n",
    "                 # provide size scale\n",
    "                    size_max=100,\n",
    "                 title=f'Wind Speed and Sublimation Rate <br> sized by BSF and averaged over {timestep}H')\n",
    "fig.update_traces(marker=dict(\n",
    "                              line=dict(width=1,\n",
    "                                        color='DarkSlateGrey')),\n",
    "                  selector=dict(mode='markers'))\n",
    "# update colorbar title\n",
    "fig.update_layout(height=500, width=800,\n",
    "                  xaxis_title='Wind Speed (m/s)',\n",
    "                  yaxis_title='Sublimation Rate (mm/hr)',\n",
    "                  coloraxis_colorbar_title_text ='Temperature (&deg;C)')\n",
    "# size the legend in a log scale\n",
    "fig.update_layout(legend=dict(itemsizing='constant',))\n"
   ]
  },
  {
   "cell_type": "code",
   "execution_count": 279,
   "metadata": {},
   "outputs": [
    {
     "data": {
      "application/vnd.plotly.v1+json": {
       "config": {
        "plotlyServerURL": "https://plot.ly"
       },
       "data": [
        {
         "hovertemplate": "wind_speed_24H=%{x}<br>sublimation_24H=%{y}<br>bsf=%{marker.size}<br>wind_direction_24H=%{marker.color}<extra></extra>",
         "legendgroup": "",
         "marker": {
          "color": [
           295.7237548828125,
           145.14385986328125,
           304.56695556640625,
           141.8095703125,
           146.82656860351562,
           142.8594207763672,
           191.99490356445312,
           264.68902587890625,
           307.58892822265625,
           309.0984191894531,
           310.5157165527344,
           140.98915100097656,
           320.0002136230469,
           311.52825927734375,
           299.4171447753906,
           319.888427734375,
           308.78570556640625,
           307.033935546875,
           309.8083801269531,
           314.1258544921875,
           322.1768798828125,
           333.1836242675781,
           246.21490478515625,
           155.26266479492188,
           302.34710693359375,
           316.52606201171875,
           306.01312255859375,
           129.45108032226562,
           313.1524963378906,
           264.52215576171875,
           138.76144409179688,
           141.90740966796875,
           148.41415405273438,
           284.5689392089844,
           311.68780517578125,
           277.05322265625,
           240.74612426757812,
           243.82186889648438,
           309.20831298828125,
           265.4219055175781,
           260.1153564453125,
           166.2585906982422,
           310.90423583984375,
           307.64898681640625,
           308.61676025390625,
           144.26364135742188,
           131.36293029785156,
           141.6505126953125,
           321.42828369140625,
           310.74176025390625,
           316.50030517578125,
           288.36083984375,
           304.1109619140625,
           306.096435546875,
           308.94659423828125,
           330.01123046875,
           311.6104736328125,
           289.54718017578125,
           279.81842041015625,
           134.32106018066406,
           129.07223510742188,
           292.2178039550781,
           309.55108642578125,
           298.683837890625,
           311.02392578125,
           310.51727294921875,
           308.933837890625,
           301.31964111328125,
           295.4557800292969,
           299.1024169921875,
           327.80731201171875,
           308.4186706542969,
           307.9962463378906,
           283.86077880859375,
           311.3599853515625,
           294.74188232421875,
           163.9324951171875,
           273.3499755859375,
           287.7956848144531,
           308.9461669921875,
           308.5978088378906,
           298.7796630859375,
           234.2565155029297,
           139.64303588867188,
           137.93081665039062,
           148.93446350097656,
           235.6619873046875,
           309.40911865234375,
           302.15496826171875,
           166.53118896484375,
           304.3917236328125,
           247.03622436523438,
           305.5039367675781,
           147.49954223632812,
           127.38044738769531,
           125.095703125,
           129.93450927734375,
           312.68963623046875,
           173.59170532226562,
           304.5281982421875,
           321.11236572265625,
           305.5370788574219,
           231.64450073242188,
           292.4203796386719,
           128.67306518554688,
           329.9368896484375,
           310.652099609375,
           309.86553955078125,
           306.10003662109375,
           304.42791748046875,
           147.4336395263672,
           137.1531219482422,
           135.72998046875,
           308.29901123046875,
           314.0188903808594,
           193.63824462890625,
           314.34759521484375,
           306.3309631347656,
           299.535400390625,
           171.44198608398438,
           324.0895690917969
          ],
          "coloraxis": "coloraxis",
          "line": {
           "color": "DarkSlateGrey",
           "width": 1
          },
          "size": [
           0,
           0.14497791230678558,
           0.0008680555038154125,
           0,
           0.01267361082136631,
           0.009513888508081436,
           0.00006944443885004148,
           0.01111111044883728,
           0,
           0,
           0,
           0.004444444552063942,
           0.17253471910953522,
           0.37170135974884033,
           0.008645833469927311,
           0.0020833334419876337,
           0,
           0,
           0,
           0,
           0.016388889402151108,
           11.70949649810791,
           0.03340277820825577,
           0,
           0.0002777777554001659,
           0.0003124999930150807,
           0,
           0.008819444105029106,
           0.007916666567325592,
           0,
           0.005243055056780577,
           0.06170138716697693,
           0.005243055522441864,
           0.00003472221942502074,
           0.03152777999639511,
           0,
           0.0020486111752688885,
           0.00006944443885004148,
           0,
           0,
           0.034583333879709244,
           0.05524305999279022,
           0.0009374999208375812,
           0,
           0,
           0.0038888887502253056,
           0.00013888887770008296,
           0.0005902777193114161,
           0.03829861059784889,
           0.0005208333022892475,
           0,
           0.0057638888247311115,
           0.028923610225319862,
           0,
           0.016631944105029106,
           0.015138889662921429,
           0.003368055447936058,
           0.003993055783212185,
           0.001979166641831398,
           0.0005902777775190771,
           0.0047222222201526165,
           0.006215277593582869,
           0,
           0,
           0,
           0.001875000074505806,
           0.035798609256744385,
           0.06093750149011612,
           0.0036458333488553762,
           0.013645834289491177,
           0.0710763931274414,
           0,
           0,
           0,
           0.0010763888712972403,
           0.007777777500450611,
           0.01493055559694767,
           0,
           0,
           0.0021527777425944805,
           0.10229166597127914,
           0.046041667461395264,
           0.0028124998789280653,
           0.11170139908790588,
           0.03295138478279114,
           0.00951388943940401,
           0,
           0.005694444291293621,
           0.02152777835726738,
           0.013680554926395416,
           0.00031249996391125023,
           0,
           0.0004861110937781632,
           0.0013888889225199819,
           0.026006942614912987,
           0.051499366760253906,
           0.04121527820825577,
           0.03194444254040718,
           0.1422569453716278,
           0.011944443918764591,
           0.0949999988079071,
           0.0003819444391410798,
           0,
           0,
           0.00020833332382608205,
           0.02408396452665329,
           0.005138888955116272,
           0,
           0,
           0.00010416666191304103,
           0.009851641021668911,
           0.15005050599575043,
           0.0010448232060298324,
           0.00020833332382608205,
           0.03572601079940796,
           0.00003787878813454881,
           0.016360478475689888,
           0.0004166666476521641,
           0,
           0.3447822034358978,
           0.019826387986540794
          ],
          "sizemode": "area",
          "sizeref": 0.001170949649810791,
          "symbol": "circle"
         },
         "mode": "markers",
         "name": "",
         "orientation": "v",
         "showlegend": false,
         "type": "scatter",
         "x": [
          1.6115328073501587,
          4.196055889129639,
          2.014892101287842,
          1.269307255744934,
          2.83235239982605,
          3.331104278564453,
          1.4563994407653809,
          3.30776047706604,
          2.2808754444122314,
          1.7281655073165894,
          1.7941349744796753,
          3.564185380935669,
          6.40674352645874,
          8.938316345214844,
          3.528409242630005,
          5.34154748916626,
          1.7491403818130493,
          1.5163670778274536,
          1.69708251953125,
          2.085554361343384,
          4.071174621582031,
          10.55510139465332,
          2.6780364513397217,
          2.227057933807373,
          3.8228368759155273,
          4.924121856689453,
          2.1132442951202393,
          2.5965816974639893,
          3.7670068740844727,
          1.7683124542236328,
          1.2360754013061523,
          3.238063097000122,
          2.5012996196746826,
          2.276252269744873,
          6.533725738525391,
          1.6600241661071777,
          1.7985855340957642,
          1.6331868171691895,
          2.028032064437866,
          1.3410978317260742,
          1.8558391332626343,
          4.433912754058838,
          2.5083529949188232,
          1.2978538274765015,
          1.6828680038452148,
          2.513477087020874,
          1.8012137413024902,
          3.0662434101104736,
          5.160364627838135,
          2.7935383319854736,
          1.9490796327590942,
          3.2058236598968506,
          3.053302526473999,
          2.051689624786377,
          3.106163263320923,
          5.538827419281006,
          3.172006845474243,
          2.0574686527252197,
          3.005157709121704,
          2.2183663845062256,
          3.8704593181610107,
          3.125086784362793,
          1.632248878479004,
          1.4803811311721802,
          1.6916638612747192,
          2.515707015991211,
          2.521897077560425,
          5.2738518714904785,
          2.2451255321502686,
          2.190812349319458,
          6.091938495635986,
          2.063037872314453,
          1.045385479927063,
          1.3723303079605103,
          2.5698938369750977,
          4.475410461425781,
          4.861123085021973,
          1.8016952276229858,
          1.3333460092544556,
          2.0404319763183594,
          4.406426429748535,
          3.5566139221191406,
          2.6097757816314697,
          4.710748672485352,
          4.453888893127441,
          3.405057668685913,
          1.8388973474502563,
          3.1189353466033936,
          3.905787229537964,
          4.065243721008301,
          2.1471962928771973,
          3.315570592880249,
          2.7034196853637695,
          2.5319161415100098,
          4.334949016571045,
          3.7649781703948975,
          3.685445547103882,
          2.6614034175872803,
          4.422940254211426,
          2.7435338497161865,
          4.240698337554932,
          1.7836661338806152,
          2.2096073627471924,
          2.190690755844116,
          1.3379559516906738,
          6.574717044830322,
          4.411692142486572,
          2.934990644454956,
          2.625417709350586,
          2.2083516120910645,
          2.647662401199341,
          4.082574367523193,
          2.6830530166625977,
          2.5065507888793945,
          4.906754016876221,
          1.4897165298461914,
          4.453707695007324,
          2.3278486728668213,
          1.7811436653137207,
          3.650418996810913,
          4.77284049987793
         ],
         "xaxis": "x",
         "y": [
          -0.02611646391476539,
          0.4930220465150692,
          -0.013511441921870555,
          -0.005839605631373021,
          0.07478617061998527,
          0.23906450859653214,
          0.0745881597050468,
          0.17510956009685508,
          -0.007002457371324504,
          -0.03864358897816263,
          -0.0543483232328963,
          0.21268632011364605,
          0.3929300803495802,
          0.4638231666275171,
          0.09703564015896979,
          0.09683835398671861,
          0.007205435888374918,
          0.011058819661203317,
          0.007801063284344205,
          0.018407987401621303,
          0.32030344980234154,
          1.298183300398249,
          0.2127252360393478,
          0.16847295762905903,
          0.18502083048912185,
          0.05741591762752743,
          0.08322401346809552,
          -0.04789851737894937,
          0.12799481209651642,
          -0.026070494326814013,
          0.07886306065010726,
          0.11106012705664405,
          0.05905298576812342,
          -0.14581823371352196,
          0.3261990914046424,
          -0.005995768021245962,
          0.033357581319024374,
          -0.035333614733960836,
          -0.031928637377750944,
          -0.01226035592840045,
          0.16639839329596656,
          0.12134232324952147,
          0.03296184866573458,
          -0.024973585515696808,
          0.04046277422549449,
          -0.012290843595781187,
          0.012339178112582179,
          0.25783676789850324,
          0.22613480079748421,
          -0.03896043963000346,
          -0.03055106270516776,
          0.09618984391833474,
          0.06444309642228492,
          0.0062087426276937205,
          0.08360930905132219,
          0.10330877707514273,
          0.03308965587230597,
          0.0322711480104467,
          0.1162277485519378,
          0.07989628330853268,
          0.20470787998627843,
          0.04548012701385594,
          0.004725498858646669,
          0.02251023472725027,
          -0.025323012332847276,
          0.1806717623552272,
          0.2003102564733962,
          0.39630802118977476,
          -0.01873800319253739,
          0.2107062460151541,
          0.3795656159712406,
          0.04589745604319396,
          0.003959379395143995,
          0.008710248357620506,
          0.006343295091517531,
          0.11389089659742985,
          0.21393530654605986,
          0.0033747651701978615,
          0.04380204009093278,
          0.08988872448950541,
          0.5254256781697817,
          0.2985847992268421,
          0.2401279393466596,
          0.2817315382081199,
          0.1969562038591748,
          0.08396560046709865,
          0.026677393019076175,
          0.0841882115177905,
          0.29809020846154116,
          0.17368619733914337,
          -0.06331098553319994,
          0.3942663818843263,
          0.05731314434833414,
          0.20796858769062654,
          0.8066991048244446,
          0.8573461498215482,
          1.1194338276076117,
          0.39049418305851835,
          0.8965665706103205,
          0.03571666513964375,
          0.43111957834480485,
          0.03243398803318637,
          0.34244822822464854,
          0.07245110051443798,
          -0.03333717001614515,
          0.6898253180405007,
          0.2686394649276859,
          0.14194893675944018,
          0.1313395774406642,
          -0.0001614785301758924,
          0.0798246895370139,
          0.24048707445227052,
          0.12068171220967555,
          0.20091392543507192,
          0.33031215373831896,
          0.08091512280214884,
          0.2485232036691006,
          0.16110533907065827,
          0.10836632108893338,
          0.35979837415384425,
          0.22677026744345652
         ],
         "yaxis": "y"
        }
       ],
       "layout": {
        "coloraxis": {
         "colorbar": {
          "title": {
           "text": "Wind Direction (&deg;)"
          }
         },
         "colorscale": [
          [
           0,
           "#e2d9e2"
          ],
          [
           0.1111111111111111,
           "#9ebbc9"
          ],
          [
           0.2222222222222222,
           "#6785be"
          ],
          [
           0.3333333333333333,
           "#5e43a5"
          ],
          [
           0.4444444444444444,
           "#421257"
          ],
          [
           0.5555555555555556,
           "#471340"
          ],
          [
           0.6666666666666666,
           "#8e2c50"
          ],
          [
           0.7777777777777778,
           "#ba6657"
          ],
          [
           0.8888888888888888,
           "#ceac94"
          ],
          [
           1,
           "#e2d9e2"
          ]
         ]
        },
        "height": 500,
        "legend": {
         "itemsizing": "constant",
         "tracegroupgap": 0
        },
        "template": {
         "data": {
          "bar": [
           {
            "error_x": {
             "color": "#2a3f5f"
            },
            "error_y": {
             "color": "#2a3f5f"
            },
            "marker": {
             "line": {
              "color": "#E5ECF6",
              "width": 0.5
             },
             "pattern": {
              "fillmode": "overlay",
              "size": 10,
              "solidity": 0.2
             }
            },
            "type": "bar"
           }
          ],
          "barpolar": [
           {
            "marker": {
             "line": {
              "color": "#E5ECF6",
              "width": 0.5
             },
             "pattern": {
              "fillmode": "overlay",
              "size": 10,
              "solidity": 0.2
             }
            },
            "type": "barpolar"
           }
          ],
          "carpet": [
           {
            "aaxis": {
             "endlinecolor": "#2a3f5f",
             "gridcolor": "white",
             "linecolor": "white",
             "minorgridcolor": "white",
             "startlinecolor": "#2a3f5f"
            },
            "baxis": {
             "endlinecolor": "#2a3f5f",
             "gridcolor": "white",
             "linecolor": "white",
             "minorgridcolor": "white",
             "startlinecolor": "#2a3f5f"
            },
            "type": "carpet"
           }
          ],
          "choropleth": [
           {
            "colorbar": {
             "outlinewidth": 0,
             "ticks": ""
            },
            "type": "choropleth"
           }
          ],
          "contour": [
           {
            "colorbar": {
             "outlinewidth": 0,
             "ticks": ""
            },
            "colorscale": [
             [
              0,
              "#0d0887"
             ],
             [
              0.1111111111111111,
              "#46039f"
             ],
             [
              0.2222222222222222,
              "#7201a8"
             ],
             [
              0.3333333333333333,
              "#9c179e"
             ],
             [
              0.4444444444444444,
              "#bd3786"
             ],
             [
              0.5555555555555556,
              "#d8576b"
             ],
             [
              0.6666666666666666,
              "#ed7953"
             ],
             [
              0.7777777777777778,
              "#fb9f3a"
             ],
             [
              0.8888888888888888,
              "#fdca26"
             ],
             [
              1,
              "#f0f921"
             ]
            ],
            "type": "contour"
           }
          ],
          "contourcarpet": [
           {
            "colorbar": {
             "outlinewidth": 0,
             "ticks": ""
            },
            "type": "contourcarpet"
           }
          ],
          "heatmap": [
           {
            "colorbar": {
             "outlinewidth": 0,
             "ticks": ""
            },
            "colorscale": [
             [
              0,
              "#0d0887"
             ],
             [
              0.1111111111111111,
              "#46039f"
             ],
             [
              0.2222222222222222,
              "#7201a8"
             ],
             [
              0.3333333333333333,
              "#9c179e"
             ],
             [
              0.4444444444444444,
              "#bd3786"
             ],
             [
              0.5555555555555556,
              "#d8576b"
             ],
             [
              0.6666666666666666,
              "#ed7953"
             ],
             [
              0.7777777777777778,
              "#fb9f3a"
             ],
             [
              0.8888888888888888,
              "#fdca26"
             ],
             [
              1,
              "#f0f921"
             ]
            ],
            "type": "heatmap"
           }
          ],
          "heatmapgl": [
           {
            "colorbar": {
             "outlinewidth": 0,
             "ticks": ""
            },
            "colorscale": [
             [
              0,
              "#0d0887"
             ],
             [
              0.1111111111111111,
              "#46039f"
             ],
             [
              0.2222222222222222,
              "#7201a8"
             ],
             [
              0.3333333333333333,
              "#9c179e"
             ],
             [
              0.4444444444444444,
              "#bd3786"
             ],
             [
              0.5555555555555556,
              "#d8576b"
             ],
             [
              0.6666666666666666,
              "#ed7953"
             ],
             [
              0.7777777777777778,
              "#fb9f3a"
             ],
             [
              0.8888888888888888,
              "#fdca26"
             ],
             [
              1,
              "#f0f921"
             ]
            ],
            "type": "heatmapgl"
           }
          ],
          "histogram": [
           {
            "marker": {
             "pattern": {
              "fillmode": "overlay",
              "size": 10,
              "solidity": 0.2
             }
            },
            "type": "histogram"
           }
          ],
          "histogram2d": [
           {
            "colorbar": {
             "outlinewidth": 0,
             "ticks": ""
            },
            "colorscale": [
             [
              0,
              "#0d0887"
             ],
             [
              0.1111111111111111,
              "#46039f"
             ],
             [
              0.2222222222222222,
              "#7201a8"
             ],
             [
              0.3333333333333333,
              "#9c179e"
             ],
             [
              0.4444444444444444,
              "#bd3786"
             ],
             [
              0.5555555555555556,
              "#d8576b"
             ],
             [
              0.6666666666666666,
              "#ed7953"
             ],
             [
              0.7777777777777778,
              "#fb9f3a"
             ],
             [
              0.8888888888888888,
              "#fdca26"
             ],
             [
              1,
              "#f0f921"
             ]
            ],
            "type": "histogram2d"
           }
          ],
          "histogram2dcontour": [
           {
            "colorbar": {
             "outlinewidth": 0,
             "ticks": ""
            },
            "colorscale": [
             [
              0,
              "#0d0887"
             ],
             [
              0.1111111111111111,
              "#46039f"
             ],
             [
              0.2222222222222222,
              "#7201a8"
             ],
             [
              0.3333333333333333,
              "#9c179e"
             ],
             [
              0.4444444444444444,
              "#bd3786"
             ],
             [
              0.5555555555555556,
              "#d8576b"
             ],
             [
              0.6666666666666666,
              "#ed7953"
             ],
             [
              0.7777777777777778,
              "#fb9f3a"
             ],
             [
              0.8888888888888888,
              "#fdca26"
             ],
             [
              1,
              "#f0f921"
             ]
            ],
            "type": "histogram2dcontour"
           }
          ],
          "mesh3d": [
           {
            "colorbar": {
             "outlinewidth": 0,
             "ticks": ""
            },
            "type": "mesh3d"
           }
          ],
          "parcoords": [
           {
            "line": {
             "colorbar": {
              "outlinewidth": 0,
              "ticks": ""
             }
            },
            "type": "parcoords"
           }
          ],
          "pie": [
           {
            "automargin": true,
            "type": "pie"
           }
          ],
          "scatter": [
           {
            "fillpattern": {
             "fillmode": "overlay",
             "size": 10,
             "solidity": 0.2
            },
            "type": "scatter"
           }
          ],
          "scatter3d": [
           {
            "line": {
             "colorbar": {
              "outlinewidth": 0,
              "ticks": ""
             }
            },
            "marker": {
             "colorbar": {
              "outlinewidth": 0,
              "ticks": ""
             }
            },
            "type": "scatter3d"
           }
          ],
          "scattercarpet": [
           {
            "marker": {
             "colorbar": {
              "outlinewidth": 0,
              "ticks": ""
             }
            },
            "type": "scattercarpet"
           }
          ],
          "scattergeo": [
           {
            "marker": {
             "colorbar": {
              "outlinewidth": 0,
              "ticks": ""
             }
            },
            "type": "scattergeo"
           }
          ],
          "scattergl": [
           {
            "marker": {
             "colorbar": {
              "outlinewidth": 0,
              "ticks": ""
             }
            },
            "type": "scattergl"
           }
          ],
          "scattermapbox": [
           {
            "marker": {
             "colorbar": {
              "outlinewidth": 0,
              "ticks": ""
             }
            },
            "type": "scattermapbox"
           }
          ],
          "scatterpolar": [
           {
            "marker": {
             "colorbar": {
              "outlinewidth": 0,
              "ticks": ""
             }
            },
            "type": "scatterpolar"
           }
          ],
          "scatterpolargl": [
           {
            "marker": {
             "colorbar": {
              "outlinewidth": 0,
              "ticks": ""
             }
            },
            "type": "scatterpolargl"
           }
          ],
          "scatterternary": [
           {
            "marker": {
             "colorbar": {
              "outlinewidth": 0,
              "ticks": ""
             }
            },
            "type": "scatterternary"
           }
          ],
          "surface": [
           {
            "colorbar": {
             "outlinewidth": 0,
             "ticks": ""
            },
            "colorscale": [
             [
              0,
              "#0d0887"
             ],
             [
              0.1111111111111111,
              "#46039f"
             ],
             [
              0.2222222222222222,
              "#7201a8"
             ],
             [
              0.3333333333333333,
              "#9c179e"
             ],
             [
              0.4444444444444444,
              "#bd3786"
             ],
             [
              0.5555555555555556,
              "#d8576b"
             ],
             [
              0.6666666666666666,
              "#ed7953"
             ],
             [
              0.7777777777777778,
              "#fb9f3a"
             ],
             [
              0.8888888888888888,
              "#fdca26"
             ],
             [
              1,
              "#f0f921"
             ]
            ],
            "type": "surface"
           }
          ],
          "table": [
           {
            "cells": {
             "fill": {
              "color": "#EBF0F8"
             },
             "line": {
              "color": "white"
             }
            },
            "header": {
             "fill": {
              "color": "#C8D4E3"
             },
             "line": {
              "color": "white"
             }
            },
            "type": "table"
           }
          ]
         },
         "layout": {
          "annotationdefaults": {
           "arrowcolor": "#2a3f5f",
           "arrowhead": 0,
           "arrowwidth": 1
          },
          "autotypenumbers": "strict",
          "coloraxis": {
           "colorbar": {
            "outlinewidth": 0,
            "ticks": ""
           }
          },
          "colorscale": {
           "diverging": [
            [
             0,
             "#8e0152"
            ],
            [
             0.1,
             "#c51b7d"
            ],
            [
             0.2,
             "#de77ae"
            ],
            [
             0.3,
             "#f1b6da"
            ],
            [
             0.4,
             "#fde0ef"
            ],
            [
             0.5,
             "#f7f7f7"
            ],
            [
             0.6,
             "#e6f5d0"
            ],
            [
             0.7,
             "#b8e186"
            ],
            [
             0.8,
             "#7fbc41"
            ],
            [
             0.9,
             "#4d9221"
            ],
            [
             1,
             "#276419"
            ]
           ],
           "sequential": [
            [
             0,
             "#0d0887"
            ],
            [
             0.1111111111111111,
             "#46039f"
            ],
            [
             0.2222222222222222,
             "#7201a8"
            ],
            [
             0.3333333333333333,
             "#9c179e"
            ],
            [
             0.4444444444444444,
             "#bd3786"
            ],
            [
             0.5555555555555556,
             "#d8576b"
            ],
            [
             0.6666666666666666,
             "#ed7953"
            ],
            [
             0.7777777777777778,
             "#fb9f3a"
            ],
            [
             0.8888888888888888,
             "#fdca26"
            ],
            [
             1,
             "#f0f921"
            ]
           ],
           "sequentialminus": [
            [
             0,
             "#0d0887"
            ],
            [
             0.1111111111111111,
             "#46039f"
            ],
            [
             0.2222222222222222,
             "#7201a8"
            ],
            [
             0.3333333333333333,
             "#9c179e"
            ],
            [
             0.4444444444444444,
             "#bd3786"
            ],
            [
             0.5555555555555556,
             "#d8576b"
            ],
            [
             0.6666666666666666,
             "#ed7953"
            ],
            [
             0.7777777777777778,
             "#fb9f3a"
            ],
            [
             0.8888888888888888,
             "#fdca26"
            ],
            [
             1,
             "#f0f921"
            ]
           ]
          },
          "colorway": [
           "#636efa",
           "#EF553B",
           "#00cc96",
           "#ab63fa",
           "#FFA15A",
           "#19d3f3",
           "#FF6692",
           "#B6E880",
           "#FF97FF",
           "#FECB52"
          ],
          "font": {
           "color": "#2a3f5f"
          },
          "geo": {
           "bgcolor": "white",
           "lakecolor": "white",
           "landcolor": "#E5ECF6",
           "showlakes": true,
           "showland": true,
           "subunitcolor": "white"
          },
          "hoverlabel": {
           "align": "left"
          },
          "hovermode": "closest",
          "mapbox": {
           "style": "light"
          },
          "paper_bgcolor": "white",
          "plot_bgcolor": "#E5ECF6",
          "polar": {
           "angularaxis": {
            "gridcolor": "white",
            "linecolor": "white",
            "ticks": ""
           },
           "bgcolor": "#E5ECF6",
           "radialaxis": {
            "gridcolor": "white",
            "linecolor": "white",
            "ticks": ""
           }
          },
          "scene": {
           "xaxis": {
            "backgroundcolor": "#E5ECF6",
            "gridcolor": "white",
            "gridwidth": 2,
            "linecolor": "white",
            "showbackground": true,
            "ticks": "",
            "zerolinecolor": "white"
           },
           "yaxis": {
            "backgroundcolor": "#E5ECF6",
            "gridcolor": "white",
            "gridwidth": 2,
            "linecolor": "white",
            "showbackground": true,
            "ticks": "",
            "zerolinecolor": "white"
           },
           "zaxis": {
            "backgroundcolor": "#E5ECF6",
            "gridcolor": "white",
            "gridwidth": 2,
            "linecolor": "white",
            "showbackground": true,
            "ticks": "",
            "zerolinecolor": "white"
           }
          },
          "shapedefaults": {
           "line": {
            "color": "#2a3f5f"
           }
          },
          "ternary": {
           "aaxis": {
            "gridcolor": "white",
            "linecolor": "white",
            "ticks": ""
           },
           "baxis": {
            "gridcolor": "white",
            "linecolor": "white",
            "ticks": ""
           },
           "bgcolor": "#E5ECF6",
           "caxis": {
            "gridcolor": "white",
            "linecolor": "white",
            "ticks": ""
           }
          },
          "title": {
           "x": 0.05
          },
          "xaxis": {
           "automargin": true,
           "gridcolor": "white",
           "linecolor": "white",
           "ticks": "",
           "title": {
            "standoff": 15
           },
           "zerolinecolor": "white",
           "zerolinewidth": 2
          },
          "yaxis": {
           "automargin": true,
           "gridcolor": "white",
           "linecolor": "white",
           "ticks": "",
           "title": {
            "standoff": 15
           },
           "zerolinecolor": "white",
           "zerolinewidth": 2
          }
         }
        },
        "title": {
         "text": "Wind Speed and Sublimation Rate <br> sized by BSF and averaged over 24H"
        },
        "width": 800,
        "xaxis": {
         "anchor": "y",
         "domain": [
          0,
          1
         ],
         "title": {
          "text": "Wind Speed (m/s)"
         }
        },
        "yaxis": {
         "anchor": "x",
         "domain": [
          0,
          1
         ],
         "title": {
          "text": "Sublimation Rate (mm/hr)"
         }
        }
       }
      },
      "text/html": [
       "<div>                            <div id=\"1ce4c100-1788-4b34-8542-888d7c284ce6\" class=\"plotly-graph-div\" style=\"height:500px; width:800px;\"></div>            <script type=\"text/javascript\">                require([\"plotly\"], function(Plotly) {                    window.PLOTLYENV=window.PLOTLYENV || {};                                    if (document.getElementById(\"1ce4c100-1788-4b34-8542-888d7c284ce6\")) {                    Plotly.newPlot(                        \"1ce4c100-1788-4b34-8542-888d7c284ce6\",                        [{\"hovertemplate\":\"wind_speed_24H=%{x}\\u003cbr\\u003esublimation_24H=%{y}\\u003cbr\\u003ebsf=%{marker.size}\\u003cbr\\u003ewind_direction_24H=%{marker.color}\\u003cextra\\u003e\\u003c\\u002fextra\\u003e\",\"legendgroup\":\"\",\"marker\":{\"color\":[295.7237548828125,145.14385986328125,304.56695556640625,141.8095703125,146.82656860351562,142.8594207763672,191.99490356445312,264.68902587890625,307.58892822265625,309.0984191894531,310.5157165527344,140.98915100097656,320.0002136230469,311.52825927734375,299.4171447753906,319.888427734375,308.78570556640625,307.033935546875,309.8083801269531,314.1258544921875,322.1768798828125,333.1836242675781,246.21490478515625,155.26266479492188,302.34710693359375,316.52606201171875,306.01312255859375,129.45108032226562,313.1524963378906,264.52215576171875,138.76144409179688,141.90740966796875,148.41415405273438,284.5689392089844,311.68780517578125,277.05322265625,240.74612426757812,243.82186889648438,309.20831298828125,265.4219055175781,260.1153564453125,166.2585906982422,310.90423583984375,307.64898681640625,308.61676025390625,144.26364135742188,131.36293029785156,141.6505126953125,321.42828369140625,310.74176025390625,316.50030517578125,288.36083984375,304.1109619140625,306.096435546875,308.94659423828125,330.01123046875,311.6104736328125,289.54718017578125,279.81842041015625,134.32106018066406,129.07223510742188,292.2178039550781,309.55108642578125,298.683837890625,311.02392578125,310.51727294921875,308.933837890625,301.31964111328125,295.4557800292969,299.1024169921875,327.80731201171875,308.4186706542969,307.9962463378906,283.86077880859375,311.3599853515625,294.74188232421875,163.9324951171875,273.3499755859375,287.7956848144531,308.9461669921875,308.5978088378906,298.7796630859375,234.2565155029297,139.64303588867188,137.93081665039062,148.93446350097656,235.6619873046875,309.40911865234375,302.15496826171875,166.53118896484375,304.3917236328125,247.03622436523438,305.5039367675781,147.49954223632812,127.38044738769531,125.095703125,129.93450927734375,312.68963623046875,173.59170532226562,304.5281982421875,321.11236572265625,305.5370788574219,231.64450073242188,292.4203796386719,128.67306518554688,329.9368896484375,310.652099609375,309.86553955078125,306.10003662109375,304.42791748046875,147.4336395263672,137.1531219482422,135.72998046875,308.29901123046875,314.0188903808594,193.63824462890625,314.34759521484375,306.3309631347656,299.535400390625,171.44198608398438,324.0895690917969],\"coloraxis\":\"coloraxis\",\"size\":[0.0,0.14497791230678558,0.0008680555038154125,0.0,0.01267361082136631,0.009513888508081436,6.944443885004148e-05,0.01111111044883728,0.0,0.0,0.0,0.004444444552063942,0.17253471910953522,0.37170135974884033,0.008645833469927311,0.0020833334419876337,0.0,0.0,0.0,0.0,0.016388889402151108,11.70949649810791,0.03340277820825577,0.0,0.0002777777554001659,0.0003124999930150807,0.0,0.008819444105029106,0.007916666567325592,0.0,0.005243055056780577,0.06170138716697693,0.005243055522441864,3.472221942502074e-05,0.03152777999639511,0.0,0.0020486111752688885,6.944443885004148e-05,0.0,0.0,0.034583333879709244,0.05524305999279022,0.0009374999208375812,0.0,0.0,0.0038888887502253056,0.00013888887770008296,0.0005902777193114161,0.03829861059784889,0.0005208333022892475,0.0,0.0057638888247311115,0.028923610225319862,0.0,0.016631944105029106,0.015138889662921429,0.003368055447936058,0.003993055783212185,0.001979166641831398,0.0005902777775190771,0.0047222222201526165,0.006215277593582869,0.0,0.0,0.0,0.001875000074505806,0.035798609256744385,0.06093750149011612,0.0036458333488553762,0.013645834289491177,0.0710763931274414,0.0,0.0,0.0,0.0010763888712972403,0.007777777500450611,0.01493055559694767,0.0,0.0,0.0021527777425944805,0.10229166597127914,0.046041667461395264,0.0028124998789280653,0.11170139908790588,0.03295138478279114,0.00951388943940401,0.0,0.005694444291293621,0.02152777835726738,0.013680554926395416,0.00031249996391125023,0.0,0.0004861110937781632,0.0013888889225199819,0.026006942614912987,0.051499366760253906,0.04121527820825577,0.03194444254040718,0.1422569453716278,0.011944443918764591,0.0949999988079071,0.0003819444391410798,0.0,0.0,0.00020833332382608205,0.02408396452665329,0.005138888955116272,0.0,0.0,0.00010416666191304103,0.009851641021668911,0.15005050599575043,0.0010448232060298324,0.00020833332382608205,0.03572601079940796,3.787878813454881e-05,0.016360478475689888,0.0004166666476521641,0.0,0.3447822034358978,0.019826387986540794],\"sizemode\":\"area\",\"sizeref\":0.001170949649810791,\"symbol\":\"circle\",\"line\":{\"color\":\"DarkSlateGrey\",\"width\":1}},\"mode\":\"markers\",\"name\":\"\",\"orientation\":\"v\",\"showlegend\":false,\"x\":[1.6115328073501587,4.196055889129639,2.014892101287842,1.269307255744934,2.83235239982605,3.331104278564453,1.4563994407653809,3.30776047706604,2.2808754444122314,1.7281655073165894,1.7941349744796753,3.564185380935669,6.40674352645874,8.938316345214844,3.528409242630005,5.34154748916626,1.7491403818130493,1.5163670778274536,1.69708251953125,2.085554361343384,4.071174621582031,10.55510139465332,2.6780364513397217,2.227057933807373,3.8228368759155273,4.924121856689453,2.1132442951202393,2.5965816974639893,3.7670068740844727,1.7683124542236328,1.2360754013061523,3.238063097000122,2.5012996196746826,2.276252269744873,6.533725738525391,1.6600241661071777,1.7985855340957642,1.6331868171691895,2.028032064437866,1.3410978317260742,1.8558391332626343,4.433912754058838,2.5083529949188232,1.2978538274765015,1.6828680038452148,2.513477087020874,1.8012137413024902,3.0662434101104736,5.160364627838135,2.7935383319854736,1.9490796327590942,3.2058236598968506,3.053302526473999,2.051689624786377,3.106163263320923,5.538827419281006,3.172006845474243,2.0574686527252197,3.005157709121704,2.2183663845062256,3.8704593181610107,3.125086784362793,1.632248878479004,1.4803811311721802,1.6916638612747192,2.515707015991211,2.521897077560425,5.2738518714904785,2.2451255321502686,2.190812349319458,6.091938495635986,2.063037872314453,1.045385479927063,1.3723303079605103,2.5698938369750977,4.475410461425781,4.861123085021973,1.8016952276229858,1.3333460092544556,2.0404319763183594,4.406426429748535,3.5566139221191406,2.6097757816314697,4.710748672485352,4.453888893127441,3.405057668685913,1.8388973474502563,3.1189353466033936,3.905787229537964,4.065243721008301,2.1471962928771973,3.315570592880249,2.7034196853637695,2.5319161415100098,4.334949016571045,3.7649781703948975,3.685445547103882,2.6614034175872803,4.422940254211426,2.7435338497161865,4.240698337554932,1.7836661338806152,2.2096073627471924,2.190690755844116,1.3379559516906738,6.574717044830322,4.411692142486572,2.934990644454956,2.625417709350586,2.2083516120910645,2.647662401199341,4.082574367523193,2.6830530166625977,2.5065507888793945,4.906754016876221,1.4897165298461914,4.453707695007324,2.3278486728668213,1.7811436653137207,3.650418996810913,4.77284049987793],\"xaxis\":\"x\",\"y\":[-0.02611646391476539,0.4930220465150692,-0.013511441921870555,-0.005839605631373021,0.07478617061998527,0.23906450859653214,0.0745881597050468,0.17510956009685508,-0.007002457371324504,-0.03864358897816263,-0.0543483232328963,0.21268632011364605,0.3929300803495802,0.4638231666275171,0.09703564015896979,0.09683835398671861,0.007205435888374918,0.011058819661203317,0.007801063284344205,0.018407987401621303,0.32030344980234154,1.298183300398249,0.2127252360393478,0.16847295762905903,0.18502083048912185,0.05741591762752743,0.08322401346809552,-0.04789851737894937,0.12799481209651642,-0.026070494326814013,0.07886306065010726,0.11106012705664405,0.05905298576812342,-0.14581823371352196,0.3261990914046424,-0.005995768021245962,0.033357581319024374,-0.035333614733960836,-0.031928637377750944,-0.01226035592840045,0.16639839329596656,0.12134232324952147,0.03296184866573458,-0.024973585515696808,0.04046277422549449,-0.012290843595781187,0.012339178112582179,0.25783676789850324,0.22613480079748421,-0.03896043963000346,-0.03055106270516776,0.09618984391833474,0.06444309642228492,0.0062087426276937205,0.08360930905132219,0.10330877707514273,0.03308965587230597,0.0322711480104467,0.1162277485519378,0.07989628330853268,0.20470787998627843,0.04548012701385594,0.004725498858646669,0.02251023472725027,-0.025323012332847276,0.1806717623552272,0.2003102564733962,0.39630802118977476,-0.01873800319253739,0.2107062460151541,0.3795656159712406,0.04589745604319396,0.003959379395143995,0.008710248357620506,0.006343295091517531,0.11389089659742985,0.21393530654605986,0.0033747651701978615,0.04380204009093278,0.08988872448950541,0.5254256781697817,0.2985847992268421,0.2401279393466596,0.2817315382081199,0.1969562038591748,0.08396560046709865,0.026677393019076175,0.0841882115177905,0.29809020846154116,0.17368619733914337,-0.06331098553319994,0.3942663818843263,0.05731314434833414,0.20796858769062654,0.8066991048244446,0.8573461498215482,1.1194338276076117,0.39049418305851835,0.8965665706103205,0.03571666513964375,0.43111957834480485,0.03243398803318637,0.34244822822464854,0.07245110051443798,-0.03333717001614515,0.6898253180405007,0.2686394649276859,0.14194893675944018,0.1313395774406642,-0.0001614785301758924,0.0798246895370139,0.24048707445227052,0.12068171220967555,0.20091392543507192,0.33031215373831896,0.08091512280214884,0.2485232036691006,0.16110533907065827,0.10836632108893338,0.35979837415384425,0.22677026744345652],\"yaxis\":\"y\",\"type\":\"scatter\"}],                        {\"template\":{\"data\":{\"histogram2dcontour\":[{\"type\":\"histogram2dcontour\",\"colorbar\":{\"outlinewidth\":0,\"ticks\":\"\"},\"colorscale\":[[0.0,\"#0d0887\"],[0.1111111111111111,\"#46039f\"],[0.2222222222222222,\"#7201a8\"],[0.3333333333333333,\"#9c179e\"],[0.4444444444444444,\"#bd3786\"],[0.5555555555555556,\"#d8576b\"],[0.6666666666666666,\"#ed7953\"],[0.7777777777777778,\"#fb9f3a\"],[0.8888888888888888,\"#fdca26\"],[1.0,\"#f0f921\"]]}],\"choropleth\":[{\"type\":\"choropleth\",\"colorbar\":{\"outlinewidth\":0,\"ticks\":\"\"}}],\"histogram2d\":[{\"type\":\"histogram2d\",\"colorbar\":{\"outlinewidth\":0,\"ticks\":\"\"},\"colorscale\":[[0.0,\"#0d0887\"],[0.1111111111111111,\"#46039f\"],[0.2222222222222222,\"#7201a8\"],[0.3333333333333333,\"#9c179e\"],[0.4444444444444444,\"#bd3786\"],[0.5555555555555556,\"#d8576b\"],[0.6666666666666666,\"#ed7953\"],[0.7777777777777778,\"#fb9f3a\"],[0.8888888888888888,\"#fdca26\"],[1.0,\"#f0f921\"]]}],\"heatmap\":[{\"type\":\"heatmap\",\"colorbar\":{\"outlinewidth\":0,\"ticks\":\"\"},\"colorscale\":[[0.0,\"#0d0887\"],[0.1111111111111111,\"#46039f\"],[0.2222222222222222,\"#7201a8\"],[0.3333333333333333,\"#9c179e\"],[0.4444444444444444,\"#bd3786\"],[0.5555555555555556,\"#d8576b\"],[0.6666666666666666,\"#ed7953\"],[0.7777777777777778,\"#fb9f3a\"],[0.8888888888888888,\"#fdca26\"],[1.0,\"#f0f921\"]]}],\"heatmapgl\":[{\"type\":\"heatmapgl\",\"colorbar\":{\"outlinewidth\":0,\"ticks\":\"\"},\"colorscale\":[[0.0,\"#0d0887\"],[0.1111111111111111,\"#46039f\"],[0.2222222222222222,\"#7201a8\"],[0.3333333333333333,\"#9c179e\"],[0.4444444444444444,\"#bd3786\"],[0.5555555555555556,\"#d8576b\"],[0.6666666666666666,\"#ed7953\"],[0.7777777777777778,\"#fb9f3a\"],[0.8888888888888888,\"#fdca26\"],[1.0,\"#f0f921\"]]}],\"contourcarpet\":[{\"type\":\"contourcarpet\",\"colorbar\":{\"outlinewidth\":0,\"ticks\":\"\"}}],\"contour\":[{\"type\":\"contour\",\"colorbar\":{\"outlinewidth\":0,\"ticks\":\"\"},\"colorscale\":[[0.0,\"#0d0887\"],[0.1111111111111111,\"#46039f\"],[0.2222222222222222,\"#7201a8\"],[0.3333333333333333,\"#9c179e\"],[0.4444444444444444,\"#bd3786\"],[0.5555555555555556,\"#d8576b\"],[0.6666666666666666,\"#ed7953\"],[0.7777777777777778,\"#fb9f3a\"],[0.8888888888888888,\"#fdca26\"],[1.0,\"#f0f921\"]]}],\"surface\":[{\"type\":\"surface\",\"colorbar\":{\"outlinewidth\":0,\"ticks\":\"\"},\"colorscale\":[[0.0,\"#0d0887\"],[0.1111111111111111,\"#46039f\"],[0.2222222222222222,\"#7201a8\"],[0.3333333333333333,\"#9c179e\"],[0.4444444444444444,\"#bd3786\"],[0.5555555555555556,\"#d8576b\"],[0.6666666666666666,\"#ed7953\"],[0.7777777777777778,\"#fb9f3a\"],[0.8888888888888888,\"#fdca26\"],[1.0,\"#f0f921\"]]}],\"mesh3d\":[{\"type\":\"mesh3d\",\"colorbar\":{\"outlinewidth\":0,\"ticks\":\"\"}}],\"scatter\":[{\"fillpattern\":{\"fillmode\":\"overlay\",\"size\":10,\"solidity\":0.2},\"type\":\"scatter\"}],\"parcoords\":[{\"type\":\"parcoords\",\"line\":{\"colorbar\":{\"outlinewidth\":0,\"ticks\":\"\"}}}],\"scatterpolargl\":[{\"type\":\"scatterpolargl\",\"marker\":{\"colorbar\":{\"outlinewidth\":0,\"ticks\":\"\"}}}],\"bar\":[{\"error_x\":{\"color\":\"#2a3f5f\"},\"error_y\":{\"color\":\"#2a3f5f\"},\"marker\":{\"line\":{\"color\":\"#E5ECF6\",\"width\":0.5},\"pattern\":{\"fillmode\":\"overlay\",\"size\":10,\"solidity\":0.2}},\"type\":\"bar\"}],\"scattergeo\":[{\"type\":\"scattergeo\",\"marker\":{\"colorbar\":{\"outlinewidth\":0,\"ticks\":\"\"}}}],\"scatterpolar\":[{\"type\":\"scatterpolar\",\"marker\":{\"colorbar\":{\"outlinewidth\":0,\"ticks\":\"\"}}}],\"histogram\":[{\"marker\":{\"pattern\":{\"fillmode\":\"overlay\",\"size\":10,\"solidity\":0.2}},\"type\":\"histogram\"}],\"scattergl\":[{\"type\":\"scattergl\",\"marker\":{\"colorbar\":{\"outlinewidth\":0,\"ticks\":\"\"}}}],\"scatter3d\":[{\"type\":\"scatter3d\",\"line\":{\"colorbar\":{\"outlinewidth\":0,\"ticks\":\"\"}},\"marker\":{\"colorbar\":{\"outlinewidth\":0,\"ticks\":\"\"}}}],\"scattermapbox\":[{\"type\":\"scattermapbox\",\"marker\":{\"colorbar\":{\"outlinewidth\":0,\"ticks\":\"\"}}}],\"scatterternary\":[{\"type\":\"scatterternary\",\"marker\":{\"colorbar\":{\"outlinewidth\":0,\"ticks\":\"\"}}}],\"scattercarpet\":[{\"type\":\"scattercarpet\",\"marker\":{\"colorbar\":{\"outlinewidth\":0,\"ticks\":\"\"}}}],\"carpet\":[{\"aaxis\":{\"endlinecolor\":\"#2a3f5f\",\"gridcolor\":\"white\",\"linecolor\":\"white\",\"minorgridcolor\":\"white\",\"startlinecolor\":\"#2a3f5f\"},\"baxis\":{\"endlinecolor\":\"#2a3f5f\",\"gridcolor\":\"white\",\"linecolor\":\"white\",\"minorgridcolor\":\"white\",\"startlinecolor\":\"#2a3f5f\"},\"type\":\"carpet\"}],\"table\":[{\"cells\":{\"fill\":{\"color\":\"#EBF0F8\"},\"line\":{\"color\":\"white\"}},\"header\":{\"fill\":{\"color\":\"#C8D4E3\"},\"line\":{\"color\":\"white\"}},\"type\":\"table\"}],\"barpolar\":[{\"marker\":{\"line\":{\"color\":\"#E5ECF6\",\"width\":0.5},\"pattern\":{\"fillmode\":\"overlay\",\"size\":10,\"solidity\":0.2}},\"type\":\"barpolar\"}],\"pie\":[{\"automargin\":true,\"type\":\"pie\"}]},\"layout\":{\"autotypenumbers\":\"strict\",\"colorway\":[\"#636efa\",\"#EF553B\",\"#00cc96\",\"#ab63fa\",\"#FFA15A\",\"#19d3f3\",\"#FF6692\",\"#B6E880\",\"#FF97FF\",\"#FECB52\"],\"font\":{\"color\":\"#2a3f5f\"},\"hovermode\":\"closest\",\"hoverlabel\":{\"align\":\"left\"},\"paper_bgcolor\":\"white\",\"plot_bgcolor\":\"#E5ECF6\",\"polar\":{\"bgcolor\":\"#E5ECF6\",\"angularaxis\":{\"gridcolor\":\"white\",\"linecolor\":\"white\",\"ticks\":\"\"},\"radialaxis\":{\"gridcolor\":\"white\",\"linecolor\":\"white\",\"ticks\":\"\"}},\"ternary\":{\"bgcolor\":\"#E5ECF6\",\"aaxis\":{\"gridcolor\":\"white\",\"linecolor\":\"white\",\"ticks\":\"\"},\"baxis\":{\"gridcolor\":\"white\",\"linecolor\":\"white\",\"ticks\":\"\"},\"caxis\":{\"gridcolor\":\"white\",\"linecolor\":\"white\",\"ticks\":\"\"}},\"coloraxis\":{\"colorbar\":{\"outlinewidth\":0,\"ticks\":\"\"}},\"colorscale\":{\"sequential\":[[0.0,\"#0d0887\"],[0.1111111111111111,\"#46039f\"],[0.2222222222222222,\"#7201a8\"],[0.3333333333333333,\"#9c179e\"],[0.4444444444444444,\"#bd3786\"],[0.5555555555555556,\"#d8576b\"],[0.6666666666666666,\"#ed7953\"],[0.7777777777777778,\"#fb9f3a\"],[0.8888888888888888,\"#fdca26\"],[1.0,\"#f0f921\"]],\"sequentialminus\":[[0.0,\"#0d0887\"],[0.1111111111111111,\"#46039f\"],[0.2222222222222222,\"#7201a8\"],[0.3333333333333333,\"#9c179e\"],[0.4444444444444444,\"#bd3786\"],[0.5555555555555556,\"#d8576b\"],[0.6666666666666666,\"#ed7953\"],[0.7777777777777778,\"#fb9f3a\"],[0.8888888888888888,\"#fdca26\"],[1.0,\"#f0f921\"]],\"diverging\":[[0,\"#8e0152\"],[0.1,\"#c51b7d\"],[0.2,\"#de77ae\"],[0.3,\"#f1b6da\"],[0.4,\"#fde0ef\"],[0.5,\"#f7f7f7\"],[0.6,\"#e6f5d0\"],[0.7,\"#b8e186\"],[0.8,\"#7fbc41\"],[0.9,\"#4d9221\"],[1,\"#276419\"]]},\"xaxis\":{\"gridcolor\":\"white\",\"linecolor\":\"white\",\"ticks\":\"\",\"title\":{\"standoff\":15},\"zerolinecolor\":\"white\",\"automargin\":true,\"zerolinewidth\":2},\"yaxis\":{\"gridcolor\":\"white\",\"linecolor\":\"white\",\"ticks\":\"\",\"title\":{\"standoff\":15},\"zerolinecolor\":\"white\",\"automargin\":true,\"zerolinewidth\":2},\"scene\":{\"xaxis\":{\"backgroundcolor\":\"#E5ECF6\",\"gridcolor\":\"white\",\"linecolor\":\"white\",\"showbackground\":true,\"ticks\":\"\",\"zerolinecolor\":\"white\",\"gridwidth\":2},\"yaxis\":{\"backgroundcolor\":\"#E5ECF6\",\"gridcolor\":\"white\",\"linecolor\":\"white\",\"showbackground\":true,\"ticks\":\"\",\"zerolinecolor\":\"white\",\"gridwidth\":2},\"zaxis\":{\"backgroundcolor\":\"#E5ECF6\",\"gridcolor\":\"white\",\"linecolor\":\"white\",\"showbackground\":true,\"ticks\":\"\",\"zerolinecolor\":\"white\",\"gridwidth\":2}},\"shapedefaults\":{\"line\":{\"color\":\"#2a3f5f\"}},\"annotationdefaults\":{\"arrowcolor\":\"#2a3f5f\",\"arrowhead\":0,\"arrowwidth\":1},\"geo\":{\"bgcolor\":\"white\",\"landcolor\":\"#E5ECF6\",\"subunitcolor\":\"white\",\"showland\":true,\"showlakes\":true,\"lakecolor\":\"white\"},\"title\":{\"x\":0.05},\"mapbox\":{\"style\":\"light\"}}},\"xaxis\":{\"anchor\":\"y\",\"domain\":[0.0,1.0],\"title\":{\"text\":\"Wind Speed (m\\u002fs)\"}},\"yaxis\":{\"anchor\":\"x\",\"domain\":[0.0,1.0],\"title\":{\"text\":\"Sublimation Rate (mm\\u002fhr)\"}},\"coloraxis\":{\"colorbar\":{\"title\":{\"text\":\"Wind Direction (&deg;)\"}},\"colorscale\":[[0.0,\"#e2d9e2\"],[0.1111111111111111,\"#9ebbc9\"],[0.2222222222222222,\"#6785be\"],[0.3333333333333333,\"#5e43a5\"],[0.4444444444444444,\"#421257\"],[0.5555555555555556,\"#471340\"],[0.6666666666666666,\"#8e2c50\"],[0.7777777777777778,\"#ba6657\"],[0.8888888888888888,\"#ceac94\"],[1.0,\"#e2d9e2\"]]},\"legend\":{\"tracegroupgap\":0,\"itemsizing\":\"constant\"},\"title\":{\"text\":\"Wind Speed and Sublimation Rate \\u003cbr\\u003e sized by BSF and averaged over 24H\"},\"height\":500,\"width\":800},                        {\"responsive\": true}                    ).then(function(){\n",
       "                            \n",
       "var gd = document.getElementById('1ce4c100-1788-4b34-8542-888d7c284ce6');\n",
       "var x = new MutationObserver(function (mutations, observer) {{\n",
       "        var display = window.getComputedStyle(gd).display;\n",
       "        if (!display || display === 'none') {{\n",
       "            console.log([gd, 'removed!']);\n",
       "            Plotly.purge(gd);\n",
       "            observer.disconnect();\n",
       "        }}\n",
       "}});\n",
       "\n",
       "// Listen for the removal of the full notebook cells\n",
       "var notebookContainer = gd.closest('#notebook-container');\n",
       "if (notebookContainer) {{\n",
       "    x.observe(notebookContainer, {childList: true});\n",
       "}}\n",
       "\n",
       "// Listen for the clearing of the current output cell\n",
       "var outputEl = gd.closest('.output');\n",
       "if (outputEl) {{\n",
       "    x.observe(outputEl, {childList: true});\n",
       "}}\n",
       "\n",
       "                        })                };                });            </script>        </div>"
      ]
     },
     "metadata": {},
     "output_type": "display_data"
    }
   ],
   "source": [
    "# create a scatter plot with the wind speed on the x-axis and the sublimation rate on the y-axis and the markers sized by the blowing snow flux (log scale)\n",
    "fig = px.scatter(sublimation_1D.dropna(), \n",
    "                 x=f'wind_speed_{timestep}H', \n",
    "                 y=f'sublimation_{timestep}H', \n",
    "                 size='bsf', \n",
    "                 # color by wind direction\n",
    "                 color=f'wind_direction_{timestep}H',\n",
    "                 color_continuous_scale='twilight',\n",
    "                 # provide size scale\n",
    "                    size_max=100,\n",
    "                 title=f'Wind Speed and Sublimation Rate <br> sized by BSF and averaged over {timestep}H')\n",
    "\n",
    "fig.update_traces(marker=dict(\n",
    "                              line=dict(width=1,\n",
    "                                        color='DarkSlateGrey')),\n",
    "                  selector=dict(mode='markers'))\n",
    "fig.update_layout(height=500, width=800,\n",
    "                  xaxis_title='Wind Speed (m/s)',\n",
    "                  yaxis_title='Sublimation Rate (mm/hr)',\n",
    "                  coloraxis_colorbar_title_text='Wind Direction (&deg;)')\n",
    "# size the legend in a log scale\n",
    "fig.update_layout(legend=dict(itemsizing='constant',))\n"
   ]
  },
  {
   "cell_type": "code",
   "execution_count": null,
   "metadata": {},
   "outputs": [],
   "source": []
  }
 ],
 "metadata": {
  "kernelspec": {
   "display_name": "sublime_synoptics",
   "language": "python",
   "name": "python3"
  },
  "language_info": {
   "codemirror_mode": {
    "name": "ipython",
    "version": 3
   },
   "file_extension": ".py",
   "mimetype": "text/x-python",
   "name": "python",
   "nbconvert_exporter": "python",
   "pygments_lexer": "ipython3",
   "version": "3.11.6"
  }
 },
 "nbformat": 4,
 "nbformat_minor": 2
}
