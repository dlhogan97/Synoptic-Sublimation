{
 "cells": [
  {
   "cell_type": "markdown",
   "metadata": {},
   "source": [
    "# Energy Balance Comparison\n",
    "### Author: Daniel Hogan\n",
    "### Creation Date: July 29, 2024\n",
    "\n",
    "This notebook will compare the net energy balance and accumulated total energy exchanges during winters 2022 and 2023 using data from SAIL, SPLASH, and SOS."
   ]
  },
  {
   "cell_type": "markdown",
   "metadata": {},
   "source": [
    "### Imports"
   ]
  },
  {
   "cell_type": "code",
   "execution_count": 26,
   "metadata": {},
   "outputs": [
    {
     "data": {
      "text/html": [
       "        <script type=\"text/javascript\">\n",
       "        window.PlotlyConfig = {MathJaxConfig: 'local'};\n",
       "        if (window.MathJax && window.MathJax.Hub && window.MathJax.Hub.Config) {window.MathJax.Hub.Config({SVG: {font: \"STIX-Web\"}});}\n",
       "        if (typeof require !== 'undefined') {\n",
       "        require.undef(\"plotly\");\n",
       "        requirejs.config({\n",
       "            paths: {\n",
       "                'plotly': ['https://cdn.plot.ly/plotly-2.27.0.min']\n",
       "            }\n",
       "        });\n",
       "        require(['plotly'], function(Plotly) {\n",
       "            window._Plotly = Plotly;\n",
       "        });\n",
       "        }\n",
       "        </script>\n",
       "        "
      ]
     },
     "metadata": {},
     "output_type": "display_data"
    },
    {
     "data": {
      "text/html": [
       "        <script type=\"text/javascript\">\n",
       "        window.PlotlyConfig = {MathJaxConfig: 'local'};\n",
       "        if (window.MathJax && window.MathJax.Hub && window.MathJax.Hub.Config) {window.MathJax.Hub.Config({SVG: {font: \"STIX-Web\"}});}\n",
       "        if (typeof require !== 'undefined') {\n",
       "        require.undef(\"plotly\");\n",
       "        requirejs.config({\n",
       "            paths: {\n",
       "                'plotly': ['https://cdn.plot.ly/plotly-2.27.0.min']\n",
       "            }\n",
       "        });\n",
       "        require(['plotly'], function(Plotly) {\n",
       "            window._Plotly = Plotly;\n",
       "        });\n",
       "        }\n",
       "        </script>\n",
       "        "
      ]
     },
     "metadata": {},
     "output_type": "display_data"
    }
   ],
   "source": [
    "# general\n",
    "import os\n",
    "import glob\n",
    "import datetime as dt\n",
    "import json\n",
    "# data \n",
    "import xarray as xr \n",
    "from sublimpy import utils, variables, tidy, turbulence\n",
    "import numpy as np\n",
    "import pandas as pd\n",
    "from act import discovery, plotting\n",
    "# plotting\n",
    "import matplotlib.pyplot as plt\n",
    "import plotly.express as px \n",
    "import plotly.graph_objects as go\n",
    "from plotly.subplots import make_subplots\n",
    "import cufflinks as cf\n",
    "from plotly.offline import download_plotlyjs, init_notebook_mode, plot, iplot\n",
    "# helper tools\n",
    "from scripts.get_sail_data import get_sail_data\n",
    "from scripts.helper_funcs import create_windrose_df, simple_sounding, mean_sounding\n",
    "import scripts.helper_funcs as hf\n",
    "from metpy import calc, units\n",
    "# make plotly work \n",
    "init_notebook_mode(connected=True)\n",
    "cf.go_offline()\n",
    "# stats\n",
    "import scipy.stats as stats\n",
    "import seaborn as sns\n"
   ]
  },
  {
   "cell_type": "markdown",
   "metadata": {},
   "source": [
    "### Data"
   ]
  },
  {
   "cell_type": "code",
   "execution_count": 19,
   "metadata": {},
   "outputs": [],
   "source": [
    "##### 2022 data ####\n",
    "winter_22 = slice('2021-12-01', '2022-03-31')\n",
    "# SAIL data\n",
    "# w22_sail_gts_met = xr.open_dataset('../../01_data/processed_data/sail_processed/sail_ds_1H_met_2022.nc').sel(time=winter_22)\n",
    "w22_sail_kp_ecor = xr.open_dataset('/storage/dlhogan/synoptic_sublimation/sail_data/winter_21_22/eddy_covariance_kettle_ponds_20211001_20220930.nc').sel(time=winter_22)\n",
    "w22_sail_gts_sebs = xr.open_dataset('/storage/dlhogan/synoptic_sublimation/sail_data/winter_21_22/sebs_20211001_20220930.nc').sel(time=winter_22)\n",
    "# SPLASH data\n",
    "w22_splash_kp_asfs = xr.open_dataset('../../01_data/processed_data/splash/w22_splash_kp_qc_1H.nc').sel(time=winter_22)\n",
    "w22_splash_ap_asfs = xr.open_dataset('../../01_data/processed_data/splash/w22_splash_ap_qc_1H.nc').sel(time=winter_22)\n",
    "w22_splash_kp_radsys = xr.open_dataset('/storage/dlhogan/synoptic_sublimation/splash_data/radsys_ckp_dataset.nc').sel(time=winter_22)\n",
    "\n",
    "##### 2023 data ####\n",
    "winter_23 = slice('2022-12-01', '2023-03-31')\n",
    "# SAIL data\n",
    "# w23_sail_gts_met = xr.open_dataset('../../01_data/processed_data/sail_processed/sail_ds_1H_met_2023.nc').sel(time=winter_23)\n",
    "w23_sail_kp_ecor = xr.open_dataset('/storage/dlhogan/synoptic_sublimation/sail_data/winter_22_23/eddy_covariance_kettle_ponds_20221001_20230930.nc').sel(time=winter_23)\n",
    "w23_sail_gts_sebs = xr.open_dataset('/storage/dlhogan/synoptic_sublimation/sail_data/winter_22_23/sebs_20221001_20230930.nc').sel(time=winter_23)\n",
    "# SPLASH data\n",
    "w23_splash_ap_asfs = xr.open_dataset('../../01_data/processed_data/splash/w23_splash_ap_qc_1H.nc').sel(time=winter_23)\n",
    "w23_splash_kp_radsys = xr.open_dataset('/storage/dlhogan/synoptic_sublimation/splash_data/radsys_ckp_dataset.nc').sel(time=winter_23)\n",
    "# SOS data\n",
    "w23_sos_kp_all = xr.open_dataset('../../01_data/processed_data/sos_ds_1H_storage.nc').sel(time=winter_23)\n"
   ]
  },
  {
   "cell_type": "code",
   "execution_count": 81,
   "metadata": {},
   "outputs": [],
   "source": [
    "# drop bad data for soil heat flux from SAIL\n",
    "ds_for_soil = w22_sail_gts_sebs.where((w22_sail_gts_sebs['qc_surface_soil_heat_flux_1']==0) & (w22_sail_gts_sebs['qc_surface_soil_heat_flux_2']==0) & (w22_sail_gts_sebs['qc_surface_soil_heat_flux_3']==0))\n",
    "w22_sail_gts_sebs['surface_soil_heat_flux_avg'] = (ds_for_soil.surface_soil_heat_flux_1 + ds_for_soil.surface_soil_heat_flux_2 + ds_for_soil.surface_soil_heat_flux_3)/3\n",
    "\n",
    "ds_for_soil = w23_sail_gts_sebs.where((w23_sail_gts_sebs['qc_surface_soil_heat_flux_1']==0) & (w23_sail_gts_sebs['qc_surface_soil_heat_flux_2']==0) & (w23_sail_gts_sebs['qc_surface_soil_heat_flux_3']==0))\n",
    "w23_sail_gts_sebs['surface_soil_heat_flux_avg'] = (ds_for_soil.surface_soil_heat_flux_1 + ds_for_soil.surface_soil_heat_flux_2 + ds_for_soil.surface_soil_heat_flux_3)/3"
   ]
  },
  {
   "cell_type": "code",
   "execution_count": 72,
   "metadata": {},
   "outputs": [],
   "source": [
    "# calculate longwave radiation for SOS data\n",
    "SIGMA = 5.67e-8\n",
    "w23_sos_kp_all = w23_sos_kp_all.assign(R_lw_up = ((w23_sos_kp_all.Rpile_out_9m_d + (w23_sos_kp_all.Tcase_out_9m_d+273.15)**4*SIGMA)))\n",
    "w23_sos_kp_all = w23_sos_kp_all.assign(R_lw_down = ((w23_sos_kp_all.Rpile_in_9m_d + (w23_sos_kp_all.Tcase_in_9m_d+273.15)**4*SIGMA)))\n",
    "\n",
    "# calculate latent heat flux\n",
    "Ls = 2.83e3 # J/kg\n",
    "rho = 1000 # kg/m3\n",
    "latent_heat_vars = [var for var in hf.TURBULENCE_VARIABLES if 'w_h2o__' in var]\n",
    "for var in latent_heat_vars:\n",
    "    new_var = var.replace('w_h2o__', 'LE_')\n",
    "    w23_sos_kp_all = w23_sos_kp_all.assign({new_var: (w23_sos_kp_all[var]*Ls*rho/1000)})\n",
    "\n",
    "# calculate sensible heat flux\n",
    "gas_constant_dry_air = 287.058 # J/kg/K\n",
    "density_of_air = (w23_sos_kp_all.P_10m_c*100)/(gas_constant_dry_air*(w23_sos_kp_all.T_10m_c+273.15))\n",
    "heat_capacity_air = 1005 # J/kg/K\n",
    "sensible_heat_vars = [var for var in hf.TURBULENCE_VARIABLES if 'w_tc_' in var]\n",
    "for var in sensible_heat_vars:\n",
    "    new_var = var.replace('w_tc__', 'H_')\n",
    "    w23_sos_kp_all = w23_sos_kp_all.assign({new_var: (w23_sos_kp_all[var]*heat_capacity_air*density_of_air)})"
   ]
  },
  {
   "cell_type": "markdown",
   "metadata": {},
   "source": [
    "For each dataset, let's build a dictionary of energy balance variables"
   ]
  },
  {
   "cell_type": "code",
   "execution_count": 86,
   "metadata": {},
   "outputs": [
    {
     "data": {
      "text/plain": [
       "{'SAIL': {'H': 'sensible_heat_flux',\n",
       "  'LE': 'latent_heat_flux',\n",
       "  'R_sw_down': 'down_short_hemisp',\n",
       "  'R_sw_up': 'up_short_hemisp',\n",
       "  'R_lw_down': 'down_long',\n",
       "  'R_lw_up': 'up_long',\n",
       "  'G': 'surface_soil_heat_flux_avg',\n",
       "  'R_net': 'surface_energy_balance'},\n",
       " 'SPLASH': {'H': 'Hs',\n",
       "  'LE': 'Hl',\n",
       "  'R_sw_down': 'down_short_hemisp',\n",
       "  'R_sw_up': 'up_short_hemisp',\n",
       "  'R_lw_down': 'down_long_hemisp',\n",
       "  'R_lw_up': 'up_long_hemisp',\n",
       "  'G': ['subsurface_heat_flux_A', 'subsurface_heat_flux_B'],\n",
       "  'R_net': None},\n",
       " 'SOS': {'H': 'H_3m_c',\n",
       "  'LE': 'LE_3m_c',\n",
       "  'R_sw_down': 'Rsw_in_9m_d',\n",
       "  'R_sw_up': 'Rsw_out_9m_d',\n",
       "  'R_lw_down': 'R_lw_down',\n",
       "  'R_lw_up': 'R_lw_up',\n",
       "  'G': None,\n",
       "  'R_net': None}}"
      ]
     },
     "execution_count": 86,
     "metadata": {},
     "output_type": "execute_result"
    }
   ],
   "source": [
    "energy_balance_variables = dict(\n",
    "    SAIL= {'H':'sensible_heat_flux',\n",
    "             'LE':'latent_heat_flux',\n",
    "             'R_sw_down':'down_short_hemisp',\n",
    "             'R_sw_up':'up_short_hemisp',\n",
    "             'R_lw_down':'down_long',\n",
    "             'R_lw_up':'up_long',\n",
    "             'G':'surface_soil_heat_flux_avg',\n",
    "             'R_net':'surface_energy_balance',},\n",
    "    SPLASH= {'H':'Hs',\n",
    "                'LE':'Hl',\n",
    "                'R_sw_down':'down_short_hemisp',\n",
    "                'R_sw_up':'up_short_hemisp',\n",
    "                'R_lw_down':'down_long_hemisp',\n",
    "                'R_lw_up':'up_long_hemisp',\n",
    "                'G':['subsurface_heat_flux_A','subsurface_heat_flux_B'],\n",
    "                'R_net':None,},\n",
    "    SOS= {'H':'H_3m_c',\n",
    "            'LE':'LE_3m_c',\n",
    "            'R_sw_down':'Rsw_in_9m_d',\n",
    "            'R_sw_up':'Rsw_out_9m_d',\n",
    "            'R_lw_down':'R_lw_down',\n",
    "            'R_lw_up':'R_lw_up',\n",
    "            'G':None,\n",
    "            'R_net':None,})"
   ]
  }
 ],
 "metadata": {
  "kernelspec": {
   "display_name": "sublime_synoptics",
   "language": "python",
   "name": "python3"
  },
  "language_info": {
   "codemirror_mode": {
    "name": "ipython",
    "version": 3
   },
   "file_extension": ".py",
   "mimetype": "text/x-python",
   "name": "python",
   "nbconvert_exporter": "python",
   "pygments_lexer": "ipython3",
   "version": "3.11.6"
  }
 },
 "nbformat": 4,
 "nbformat_minor": 2
}
