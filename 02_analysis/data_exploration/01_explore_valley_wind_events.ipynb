{
 "cells": [
  {
   "cell_type": "markdown",
   "metadata": {},
   "source": [
    "# Explore Valley Wind Events\n",
    "\n",
    "Author: Daniel Hogan\n",
    "\n",
    "Created: January 4, 2024\n",
    "\n",
    "**Description:** This notebook seeks to establish when high wind events occurred within the East River valley in Colorado during the SAIL and SOS field campaigns. We will begin by looking at a specific event during the final days of 2022 and then gather some information about the atmospheric characteristics by looking at vertical wind profiles, radiosondes, and reanalysis data. We will then move on to a few other case studies from the analysis period to compare some of these different wind events and how valley orientation plays a role by starting to look at a few different wind observations around the region. "
   ]
  },
  {
   "cell_type": "markdown",
   "metadata": {},
   "source": [
    "### Imports"
   ]
  },
  {
   "cell_type": "code",
   "execution_count": 1,
   "metadata": {},
   "outputs": [
    {
     "name": "stdout",
     "output_type": "stream",
     "text": [
      "nctoolkit is using Climate Data Operators version 2.3.0\n"
     ]
    }
   ],
   "source": [
    "import xarray as xr \n",
    "from sublimpy import utils, variables\n",
    "import numpy as np\n",
    "import matplotlib.pyplot as plt\n",
    "import plotly.express as px \n",
    "from act import discovery, plotting\n",
    "import json\n",
    "from scripts.get_sail_data import get_sail_data"
   ]
  },
  {
   "cell_type": "markdown",
   "metadata": {},
   "source": [
    "# December 21 - December 27, 2022\n",
    "## SOS Data Download"
   ]
  },
  {
   "cell_type": "code",
   "execution_count": 3,
   "metadata": {},
   "outputs": [
    {
     "name": "stdout",
     "output_type": "stream",
     "text": [
      "Caching...skipping download for 20221221\n",
      "Caching...skipping download for 20221222\n",
      "Caching...skipping download for 20221223\n",
      "Caching...skipping download for 20221224\n",
      "Caching...skipping download for 20221225\n",
      "Caching...skipping download for 20221226\n",
      "Caching...skipping download for 20221227\n"
     ]
    }
   ],
   "source": [
    "sos_5min_data = utils.download_sos_data(\n",
    "                                        start_date='20221221',\n",
    "                                        end_date='20221227',\n",
    "                                        variable_names=variables.DEFAULT_VARIABLES,\n",
    "                                        local_download_dir=\"../../01_data/raw_data/sosnoqc/\",\n",
    "                                        cache=True\n",
    "                                    )                                  "
   ]
  },
  {
   "cell_type": "markdown",
   "metadata": {},
   "source": [
    "## SAIL Data Download\n",
    "\n",
    "Data was downloaded from the [ARM User Facility](https://www.arm.gov/research/campaigns/amf2021sail).\n",
    "Variables downloaded include:\n",
    "\n",
    "*Measured*\n",
    "\n",
    "- Balloon-borne sounding system (BBSS): Vaisala-processed winds, pressure, temp, &RH (sondewnpn) released twice per day released from Gothic\n",
    "- Surface meteorology at 10 m (met) located in Gothic\n",
    "- Quality Controlled Eddy Correlation Flux Measurement - 30 min averaged (30qcecor) located at Kettle Ponds\n",
    "- 915-MHz Radar Wind Profiler/RASS (RWP915): wind consensus data (915rwpwindcon) located in Gothic\n",
    "- Doppler lidar wind value-added product (dlprofwind4news) located in Gothic\n",
    "- Laser disdrometer (ld). One located in Gothic (M1) and the other located at Kettle Ponds (S2)\n",
    "\n",
    "*Modeled*\n",
    "\n",
    "- ECMWF: near-surface and surface variables (extra), entire coverage, 1-hr avg (ecmwfsfce)\n",
    "- ECMWF: model multilevel surface fields at 4 levels, entire coverage (ecmwfsfcml)\n",
    "- ECMWF: model met. and cloud variables at altitude, entire coverage, 1-hr avg (ecmwfvar)"
   ]
  },
  {
   "cell_type": "code",
   "execution_count": 4,
   "metadata": {},
   "outputs": [],
   "source": [
    "# Function to load ARM credentials\n",
    "def load_arm_credentials(credential_path):\n",
    "    with open(credential_path, 'r') as f:\n",
    "        credentials = json.load(f)\n",
    "    return credentials\n",
    "# Location of ARM credentials\n",
    "credential_path = '/home/dlhogan/.act_config.json'\n",
    "credentials = load_arm_credentials(credential_path)\n",
    "# api token and username for ARM\n",
    "api_username = credentials.get('username')\n",
    "api_token = credentials.get('token')"
   ]
  },
  {
   "cell_type": "code",
   "execution_count": 19,
   "metadata": {},
   "outputs": [],
   "source": [
    "# dictionary to store datastream names\n",
    "sail_datastream_dict = {\n",
    "    \"radiosonde\":\"gucsondewnpnM1.b1\",\n",
    "    \"met\":\"gucmetM1.b1\",\n",
    "    \"eddy_covariance_kettle_ponds\":\"guc30qcecorS3.s1\",\n",
    "    \"wind_profiler\":\"guc915rwpwindconM1.a1\",\n",
    "    \"doppler_lidar\":\"gucdlprofwind4newsM1.c1\",\n",
    "    \"laser_disdrometer_gothic\":\"gucldM1.b1\",\n",
    "    \"laser_disdrometer_mt_cb\":\"gucldS2.b1\",\n",
    "    \"ceilometer_10m_backscatter\":\"gucceil10mM1.b1\",\n",
    "}"
   ]
  },
  {
   "cell_type": "code",
   "execution_count": 23,
   "metadata": {},
   "outputs": [
    {
     "name": "stdout",
     "output_type": "stream",
     "text": [
      "Radiosonde data donwloaded. Data files include:\n",
      "gucsondewnpnM1.b1.20221222.113600.cdf\n",
      "gucsondewnpnM1.b1.20221223.112600.cdf\n",
      "gucsondewnpnM1.b1.20221222.232700.cdf\n",
      "gucsondewnpnM1.b1.20221223.233300.cdf\n",
      "gucsondewnpnM1.b1.20221224.113000.cdf\n",
      "gucsondewnpnM1.b1.20221224.232900.cdf\n",
      "gucsondewnpnM1.b1.20221225.112600.cdf\n",
      "gucsondewnpnM1.b1.20221225.232900.cdf\n",
      "gucsondewnpnM1.b1.20221226.112800.cdf\n",
      "gucsondewnpnM1.b1.20221226.232500.cdf\n",
      "-------------------\n",
      "met_20221221_20221227.nc already exists\n",
      "-------------------\n",
      "eddy_covariance_kettle_ponds_20221221_20221227.nc already exists\n",
      "-------------------\n",
      "wind_profiler_20221221_20221227.nc already exists\n",
      "-------------------\n",
      "doppler_lidar_20221221_20221227.nc already exists\n",
      "-------------------\n",
      "laser_disdrometer_gothic_20221221_20221227.nc already exists\n",
      "-------------------\n",
      "laser_disdrometer_mt_cb_20221221_20221227.nc already exists\n",
      "-------------------\n",
      "ceilometer_10m_backscatter_20221221_20221227.nc already exists\n",
      "-------------------\n"
     ]
    }
   ],
   "source": [
    "# Set the location of the data folder where this data will be stored\n",
    "event = 'dec2022'\n",
    "sail_event_data_folder = f'/home/dlhogan/GitHub/Synoptic-Sublimation/01_data/raw_data/sail_{event}/'\n",
    "# Set the start and end dates that we want to pull\n",
    "startdate = '20221221'\n",
    "enddate = '20221227'\n",
    "# create empty data dictionary\n",
    "sail_data_loc_dict = {}\n",
    "# Iterate through the dictionary and pull the data for each datastream\n",
    "for k,v in sail_datastream_dict.items():\n",
    "    if (k =='radiosonde') & (len(os.listdir(os.path.join(sail_event_data_folder,\"radiosonde\"))) > 0):\n",
    "        print(\"Radiosonde data donwloaded. Data files include:\")\n",
    "        # list file names in the radiosonde folder\n",
    "        for file in os.listdir(os.path.join(sail_event_data_folder,\"radiosonde\")):\n",
    "            print(file)\n",
    "        print('-------------------')\n",
    "    # Check if the file already exists\n",
    "    elif (os.path.exists(f'{sail_event_data_folder}{k}_{startdate}_{enddate}.nc')): \n",
    "        print(f'{k}_{startdate}_{enddate}.nc already exists')\n",
    "        print('-------------------')\n",
    "        # add the filename to the dictionary which can be used if we want to load the data\n",
    "        sail_data_loc_dict[k] = os.path.join(sail_event_data_folder,f'{k}_{startdate}_{enddate}.nc')\n",
    "        continue\n",
    "    else:\n",
    "        # explicitly download radiosonde data because they are a lot easier to process and think about when in individual files\n",
    "        if k == 'radiosonde':\n",
    "            discovery.download_data(\n",
    "                api_username,\n",
    "                api_token,\n",
    "                v,\n",
    "                startdate=startdate,\n",
    "                enddate=enddate,\n",
    "                output=sail_event_data_folder+'radiosonde/'\n",
    "            )\n",
    "        else:\n",
    "            ds = get_sail_data(api_username,\n",
    "                        api_token,\n",
    "                        v,\n",
    "                        startdate=startdate,\n",
    "                        enddate=enddate)\n",
    "            ds.to_netcdf(f'{sail_event_data_folder}{k}_{startdate}_{enddate}.nc')\n",
    "            sail_data_loc_dict[k] = os.path.join(sail_event_data_folder,f'{k}_{startdate}_{enddate}.nc')"
   ]
  },
  {
   "cell_type": "code",
   "execution_count": 25,
   "metadata": {},
   "outputs": [],
   "source": [
    "# Load the met data from the sail dictionary into an xarray dataset\n",
    "met_ds = xr.open_dataset(sail_data_loc_dict['met'])\n",
    "sos_ds = xr.open_mfdataset(\"../../01_data/raw_data/sosnoqc/*.nc\")\n",
    "ecor_ds = xr.open_dataset(sail_data_loc_dict['eddy_covariance_kettle_ponds'])"
   ]
  },
  {
   "cell_type": "code",
   "execution_count": null,
   "metadata": {},
   "outputs": [],
   "source": []
  }
 ],
 "metadata": {
  "kernelspec": {
   "display_name": "sublime_synoptics",
   "language": "python",
   "name": "python3"
  },
  "language_info": {
   "codemirror_mode": {
    "name": "ipython",
    "version": 3
   },
   "file_extension": ".py",
   "mimetype": "text/x-python",
   "name": "python",
   "nbconvert_exporter": "python",
   "pygments_lexer": "ipython3",
   "version": "3.11.6"
  }
 },
 "nbformat": 4,
 "nbformat_minor": 2
}
