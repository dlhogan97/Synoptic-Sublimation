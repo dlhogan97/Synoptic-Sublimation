{
 "cells": [
  {
   "cell_type": "code",
   "execution_count": null,
   "metadata": {},
   "outputs": [],
   "source": []
  },
  {
   "cell_type": "code",
   "execution_count": 1,
   "metadata": {},
   "outputs": [
    {
     "name": "stdout",
     "output_type": "stream",
     "text": [
      "nctoolkit is using Climate Data Operators version 2.3.0\n"
     ]
    },
    {
     "data": {
      "text/html": [
       "        <script type=\"text/javascript\">\n",
       "        window.PlotlyConfig = {MathJaxConfig: 'local'};\n",
       "        if (window.MathJax && window.MathJax.Hub && window.MathJax.Hub.Config) {window.MathJax.Hub.Config({SVG: {font: \"STIX-Web\"}});}\n",
       "        if (typeof require !== 'undefined') {\n",
       "        require.undef(\"plotly\");\n",
       "        requirejs.config({\n",
       "            paths: {\n",
       "                'plotly': ['https://cdn.plot.ly/plotly-2.27.0.min']\n",
       "            }\n",
       "        });\n",
       "        require(['plotly'], function(Plotly) {\n",
       "            window._Plotly = Plotly;\n",
       "        });\n",
       "        }\n",
       "        </script>\n",
       "        "
      ]
     },
     "metadata": {},
     "output_type": "display_data"
    },
    {
     "data": {
      "text/html": [
       "        <script type=\"text/javascript\">\n",
       "        window.PlotlyConfig = {MathJaxConfig: 'local'};\n",
       "        if (window.MathJax && window.MathJax.Hub && window.MathJax.Hub.Config) {window.MathJax.Hub.Config({SVG: {font: \"STIX-Web\"}});}\n",
       "        if (typeof require !== 'undefined') {\n",
       "        require.undef(\"plotly\");\n",
       "        requirejs.config({\n",
       "            paths: {\n",
       "                'plotly': ['https://cdn.plot.ly/plotly-2.27.0.min']\n",
       "            }\n",
       "        });\n",
       "        require(['plotly'], function(Plotly) {\n",
       "            window._Plotly = Plotly;\n",
       "        });\n",
       "        }\n",
       "        </script>\n",
       "        "
      ]
     },
     "metadata": {},
     "output_type": "display_data"
    }
   ],
   "source": [
    "# general\n",
    "import os\n",
    "import glob\n",
    "import datetime as dt\n",
    "import json\n",
    "import time\n",
    "# data \n",
    "import xarray as xr \n",
    "from sublimpy import utils, variables, tidy, turbulence\n",
    "import numpy as np\n",
    "import pandas as pd\n",
    "from act import discovery, plotting\n",
    "from scipy import stats as stats \n",
    "import statsmodels.api as sm\n",
    "\n",
    "# plotting\n",
    "import matplotlib.pyplot as plt\n",
    "from metpy.cbook import get_test_data\n",
    "from metpy.plots import add_metpy_logo, SkewT\n",
    "import plotly.express as px \n",
    "import plotly.graph_objects as go\n",
    "from plotly.subplots import make_subplots\n",
    "import cufflinks as cf\n",
    "from plotly.offline import download_plotlyjs, init_notebook_mode, plot, iplot\n",
    "import plotly.io as pio\n",
    "import seaborn as sns\n",
    "from matplotlib.colors import LinearSegmentedColormap\n",
    "# helper tools\n",
    "from scripts.get_sail_data import get_sail_data\n",
    "from scripts.helper_funcs import create_windrose_df, mean_sounding, simple_sounding\n",
    "import scripts.helper_funcs as hf\n",
    "from metpy import calc, units\n",
    "# make plotly work \n",
    "init_notebook_mode(connected=True)\n",
    "cf.go_offline()"
   ]
  },
  {
   "cell_type": "markdown",
   "metadata": {},
   "source": [
    "### Open our SOS data"
   ]
  },
  {
   "cell_type": "code",
   "execution_count": 486,
   "metadata": {},
   "outputs": [],
   "source": [
    "sos_30min = xr.open_dataset('../../01_data/processed_data/sos_ds_30M_storage.nc')\n",
    "# calculate longwave radiation for SOS data\n",
    "SIGMA = 5.67e-8\n",
    "sos_30min = sos_30min.assign(R_lw_up = ((sos_30min.Rpile_out_9m_d + (sos_30min.Tcase_out_9m_d+273.15)**4*SIGMA)))\n",
    "sos_30min = sos_30min.assign(R_lw_down = ((sos_30min.Rpile_in_9m_d + (sos_30min.Tcase_in_9m_d+273.15)**4*SIGMA)))"
   ]
  },
  {
   "cell_type": "code",
   "execution_count": 490,
   "metadata": {},
   "outputs": [],
   "source": [
    "sos_30min_RH = sos_30min[[var for var in hf.TEMPERATURE_VARIABLES if 'RH' in var]]\n",
    "sos_30min_T = sos_30min[[var for var in hf.TEMPERATURE_VARIABLES if 'T' in var]]\n",
    "sos_30min_winds = sos_30min[[var for var in hf.WIND_VARIABLES if 'spd' in var or 'dir' in var]]\n",
    "sos_30min_swe = sos_30min[['SWE_p1_c', 'SWE_p2_c', 'SWE_p3_c', 'SWE_p4_c']].to_array(dim='snow').mean('snow') # estimate of bulk density\n",
    "sos_30min_snow_depth_est = (sos_30min_swe)/250 # convert from mm of depth to meters of snow by converting to meters and multiplying by 250 kg/m^3\n",
    "# sublimation rate\n",
    "sos_30min_ec_h2o = sos_30min[[var for var in hf.TURBULENCE_VARIABLES if 'w_h2o__3m' in var]].to_array(dim='3m').mean('3m')\n",
    "sos_30min_ec_temp = sos_30min[[var for var in hf.TURBULENCE_VARIABLES if 'w_tc__3m' in var]].to_array(dim='3m').mean('3m')\n",
    "# blowing snow flux\n",
    "sos_30min_bsf = sos_30min[[var for var in hf.SNOW_FLUX]].to_array(dim='total').sum('total')\n",
    "# radiation\n",
    "sos_30min_rad = sos_30min[[var for var in hf.RADIAION_VARIABLES if 'R' in var]+['R_lw_up', 'R_lw_down']]\n",
    "# calculate net radiation\n",
    "sos_30min_rad['rnet'] = (sos_30min_rad['Rsw_in_9m_d'] - sos_30min_rad['Rsw_out_9m_d']) + (sos_30min_rad['R_lw_down'] - sos_30min_rad['R_lw_up'])\n",
    "\n",
    "# calculate mixing ratio and air density\n",
    "sos_30min_mixingratio = calc.mixing_ratio_from_relative_humidity((sos_30min['P_10m_c'].values)*units.units('hPa'), sos_30min['T_10m_c'], sos_30min['RH_10m_c'])\n",
    "sos_30min_airdensity = calc.density((sos_30min['P_10m_c'].values)*units.units('hPa'), sos_30min['T_10m_c'], sos_30min_mixingratio)"
   ]
  },
  {
   "cell_type": "code",
   "execution_count": 366,
   "metadata": {},
   "outputs": [],
   "source": [
    "# correct the RH values to make them with respect to ice\n",
    "def saturation_vapor_pressure_wrt_ice(T, method='Huang'):\n",
    "    # from Huang et al. 2018\n",
    "    if method == 'Huang':\n",
    "        Ps = np.exp(43.494 - (6545.8 / (T + 278.0)))/((T + 868)**2)\n",
    "    elif method == 'Magnus':\n",
    "        # From (Alduchov and Eskridge 1996).\n",
    "        Ps = 611.21 * np.exp((22.587*T)/(T + 273.86))\n",
    "    return Ps\n",
    "def saturation_vapor_pressure_wrt_water(T, method='Huang'):\n",
    "    if method == 'Huang':\n",
    "        # from Huang et al. 2018\n",
    "        Ps = np.exp(34.494 - (4924.99 / (T + 237.1)))/((T+105)**1.57)\n",
    "    if method == 'Magnus':\n",
    "    # From (Alduchov and Eskridge 1996).\n",
    "        Ps = 610.94 * np.exp((17.625*T)/(T + 243.04))\n",
    "    return Ps\n",
    "\n",
    "cold_temp_array = np.arange(-20, 0, 1)\n",
    "warm_temp_array = np.arange(-20, 0, 1)\n",
    "sat_vap_pres_ice_huang = saturation_vapor_pressure_wrt_ice(cold_temp_array)\n",
    "sat_vap_pres_ice_magnus= saturation_vapor_pressure_wrt_ice(cold_temp_array, method='Magnus')\n",
    "sat_vap_pres_water_huang = saturation_vapor_pressure_wrt_water(warm_temp_array)\n",
    "sat_vap_pres_water_magnus = saturation_vapor_pressure_wrt_water(warm_temp_array, method='Magnus')"
   ]
  },
  {
   "cell_type": "code",
   "execution_count": 367,
   "metadata": {},
   "outputs": [
    {
     "data": {
      "text/plain": [
       "<matplotlib.legend.Legend at 0x7f815c0eb810>"
      ]
     },
     "execution_count": 367,
     "metadata": {},
     "output_type": "execute_result"
    },
    {
     "data": {
      "image/png": "[encoded data removed]",
      "text/plain": [
       "<Figure size 640x480 with 1 Axes>"
      ]
     },
     "metadata": {},
     "output_type": "display_data"
    }
   ],
   "source": [
    "# Testing to compare\n",
    "plt.plot(cold_temp_array, sat_vap_pres_ice_huang, label='Huang - ice')\n",
    "plt.plot(cold_temp_array, sat_vap_pres_ice_magnus, label='Magnus - ice')\n",
    "plt.plot(warm_temp_array, sat_vap_pres_water_huang, label='Huang - water')\n",
    "plt.plot(warm_temp_array, sat_vap_pres_water_magnus, label='Magnus - water')\n",
    "plt.legend()"
   ]
  },
  {
   "cell_type": "code",
   "execution_count": 368,
   "metadata": {},
   "outputs": [],
   "source": [
    "sos_30min_RH_ice = sos_30min_RH.copy()\n",
    "# covert to RH with respect to ice by multiplying with the ratio of the saturation vapor pressure of water and ice\n",
    "for var in sos_30min_RH_ice:\n",
    "    if 'RH' in var:\n",
    "        T_var = var.replace('RH', 'T')\n",
    "        # create a mask where T is below 0\n",
    "        mask = sos_30min_T[T_var] > 0\n",
    "        # use the mask to calculate RH with respect to ice\n",
    "        sos_30min_RH_ice[var] = sos_30min_RH_ice[var].where(mask, sos_30min_RH_ice[var] * saturation_vapor_pressure_wrt_water(sos_30min_T[T_var].values)/saturation_vapor_pressure_wrt_ice(sos_30min_T[T_var].values))"
   ]
  },
  {
   "cell_type": "code",
   "execution_count": 498,
   "metadata": {},
   "outputs": [],
   "source": [
    "long_events = [['2022-12-06 18:00:00', '2022-12-07 06:00:00'],\n",
    "                ['2022-12-12 12:00:00', '2022-12-14 21:00:00'],\n",
    "                ['2022-12-21 12:00:00', '2022-12-23 09:00:00'],\n",
    "                ['2023-02-05 18:00:00', '2023-02-06 06:00:00'],\n",
    "                ['2023-02-08 15:00:00', '2023-02-10 00:00:00'],\n",
    "                ['2023-02-19 06:00:00', '2023-02-20 03:00:00'],\n",
    "                ['2023-02-21 15:00:00', '2023-02-22 03:00:00'],\n",
    "                ['2023-02-22 18:00:00', '2023-02-23 06:00:00'],\n",
    "                ['2023-02-26 15:00:00', '2023-02-27 06:00:00'],\n",
    "                ['2023-03-03 18:00:00', '2023-03-04 09:00:00'],\n",
    "                ['2023-03-05 00:00:00', '2023-03-08 00:00:00'],\n",
    "                ['2023-03-09 09:00:00', '2023-03-10 00:00:00']]"
   ]
  },
  {
   "cell_type": "code",
   "execution_count": 590,
   "metadata": {},
   "outputs": [],
   "source": [
    "# now lets select a large sublimation event to visualize\n",
    "start, end = long_events[-5]\n",
    "# get data for plots\n",
    "sos_30min_RH_ice_sel = sos_30min_RH_ice.sel(time=slice(start, end))\n",
    "sos_30min_T_sel = sos_30min_T.sel(time=slice(start, end))\n",
    "sos_30min_winds_sel = sos_30min_winds.sel(time=slice(start, end))\n",
    "sos_30min_snow_depth_sel = sos_30min_snow_depth_est.sel(time=slice(start, end))\n",
    "sos_30min_bsf_sel = sos_30min_bsf.sel(time=slice(start, end))\n",
    "\n",
    "# net radiation\n",
    "sos_30min_rnet_sel = sos_30min_rad.sel(time=slice(start, end))['rnet']\n",
    "### Calculate turbulent heat fluxes\n",
    "# Constant values\n",
    "rho_w = 1000 * units.units('kg/m^3') # density of water kg/m^3\n",
    "g2kg = (1/1000 * units.units('kg/g')) # convert from g to kg\n",
    "mm_per_meter = 1000 * units.units('mm/m') # convert from m to mm\n",
    "s_in_hour = 3600 * units.units('seconds/hour') # seconds in an hour\n",
    "latent_heat_sublimation = 2.835e6 * units.units('J/kg') # latent heat of sublimation J/kg\n",
    "# heat_capacity_air units J/kg/C\n",
    "heat_capacity_air = (1005)*units.units('J/kg/C') # J/kg/C\n",
    "\n",
    "sos_30min_sublimation_sel = (sos_30min_ec_h2o.sel(time=slice(start, end))*units.units('g/m^3 * m/s')) * 1/rho_w * g2kg * mm_per_meter * s_in_hour # convert from g/m^2/s to mm/hr\n",
    "sos_30min_latent_heat_sel = sos_30min_sublimation_sel * latent_heat_sublimation / mm_per_meter * rho_w / s_in_hour # convert to W/m^2\n",
    "sos_30min_sensible_heat_sel = heat_capacity_air*(sos_30min_ec_temp*units.units('deg * m/s')*sos_30min_airdensity).sel(time=slice(start, end)) # convert to W/m^2 from degC * m/s"
   ]
  },
  {
   "cell_type": "code",
   "execution_count": 591,
   "metadata": {},
   "outputs": [],
   "source": [
    "# prepare data for wind barbs\n",
    "def create_wind_barbs(wind_data, level):\n",
    "    spd = wind_data[[var for var in hf.WIND_VARIABLES if f'spd_{level}m' in var]].to_pandas()\n",
    "    dir = wind_data[[var for var in hf.WIND_VARIABLES if f'dir_{level}m' in var]].to_pandas()\n",
    "    md = 270 - dir.values\n",
    "    md[md < 0] += 360\n",
    "    u = (spd * np.cos(np.deg2rad(md))).mean(axis=1).values\n",
    "    v = (spd * np.sin(np.deg2rad(md))).mean(axis=1).values\n",
    "    time = wind_data.time.values\n",
    "    level = np.ones_like(u) * level\n",
    "    return u,v,time,level"
   ]
  },
  {
   "cell_type": "code",
   "execution_count": 592,
   "metadata": {},
   "outputs": [],
   "source": [
    "# Define the colors: brown, white, and pink\n",
    "colors = ['goldenrod', 'white', 'magenta']\n",
    "\n",
    "# Create the colormap\n",
    "cmap = LinearSegmentedColormap.from_list('brown_white_pink', colors)"
   ]
  },
  {
   "cell_type": "code",
   "execution_count": 593,
   "metadata": {},
   "outputs": [
    {
     "data": {
      "text/plain": [
       "(2.0, 11.0)"
      ]
     },
     "execution_count": 593,
     "metadata": {},
     "output_type": "execute_result"
    },
    {
     "data": {
      "image/png": "[encoded data removed]",
      "text/plain": [
       "<Figure size 1000x1000 with 6 Axes>"
      ]
     },
     "metadata": {},
     "output_type": "display_data"
    }
   ],
   "source": [
    "# now try this with matplotlib\n",
    "fig, axs = plt.subplots(ncols=1, nrows=2, figsize=(10,10))\n",
    "x = sos_30min_RH_ice_sel.time.values\n",
    "y = np.arange(2,12,1)\n",
    "z_rh = sos_30min_RH_ice_sel.to_pandas().T.iloc[0:10]\n",
    "z_t = sos_30min_T_sel.to_pandas().T.iloc[0:10]\n",
    "# linear interpolate missing values\n",
    "z_rh = z_rh.interpolate(method='linear', limit=2)\n",
    "# z_t = z_t.interpolate(method='linear')\n",
    "\n",
    "# Plot the contours of RH\n",
    "ax = axs[0]\n",
    "# ax.contour(x, y, z_rh, colors='k', levels=np.arange(40,101,10))\n",
    "c_rh = ax.contourf(x, y, z_rh, cmap=cmap, levels=np.arange(10,101,10), extend='both')\n",
    "ax2 = ax.twinx()\n",
    "ax2.plot(sos_30min_sublimation_sel.time, sos_30min_sublimation_sel, color='cyan', linestyle='-', label='Sublimation @ 3m [mm/hr]')\n",
    "ax2.set_ylabel('Sublimation [mm/hr]')\n",
    "# add wind barbs at 10m every 9 measurements\n",
    "barb_increments = dict(half=2.5, full=5, flag=26)\n",
    "interval = 3\n",
    "barb_data = [[create_wind_barbs(sos_30min_winds_sel, 3)],\n",
    "             [create_wind_barbs(sos_30min_winds_sel, 5)],\n",
    "             [create_wind_barbs(sos_30min_winds_sel, 10)]]\n",
    "            #  [create_wind_barbs(sos_30min_winds_sel, 15)],\n",
    "            #  [create_wind_barbs(sos_30min_winds_sel, 20)]]\n",
    "for i in barb_data:\n",
    "    u,v,time,level = i[0]\n",
    "    ax.barbs(time[::interval], level[::interval], u[::interval], v[::interval], length=7, barb_increments=barb_increments, pivot='middle')\n",
    "\n",
    "fig.colorbar(c_rh, ax=ax, label='RH with respect to ice [%]', orientation='horizontal')\n",
    "ax.set_title(f'Conditions During Sublimation Event: {start}H - {end}H')\n",
    "ax.set_xlabel('Time (UTC)')\n",
    "ax.set_ylabel('Height [m]')\n",
    "ax.set_ylim(2,11)\n",
    "\n",
    "\n",
    "# Second plot contours of temperature\n",
    "ax= axs[1]\n",
    "\n",
    "c_t = ax.contourf(x, y, z_t, cmap='RdBu_r', levels=np.arange(-12,0,1), extend='both')\n",
    "for i in barb_data:\n",
    "    u,v,time,level = i[0]\n",
    "    ax.barbs(time[::interval], level[::interval], u[::interval], v[::interval], length=7, barb_increments=barb_increments, pivot='middle')\n",
    "ax2 = ax.twinx()\n",
    "# also think of adding the sublimation rate\n",
    "ax2.plot(sos_30min_bsf_sel.time.values, sos_30min_bsf_sel.values, color='yellow', linestyle='-', label='Blowing snow flux [g/m2/s]')\n",
    "ax2.set_ylabel('Blowing snow flux [g/m2/s]')\n",
    "if sos_30min_bsf_sel.max() < 1:\n",
    "    ax2.set_ylim(0,1)\n",
    "else:\n",
    "    ax2.set_yscale('log')\n",
    "    ax2.set_ylim(0.5, 100)\n",
    "# create third y-axis for blowing snow flux\n",
    "fig.colorbar(c_t, ax=ax, label='Temperature [C]', orientation='horizontal')\n",
    "ax.set_xlabel('Time (UTC)')\n",
    "ax.set_ylabel('Height [m]')\n",
    "ax.set_ylim(2,11)\n"
   ]
  },
  {
   "cell_type": "code",
   "execution_count": 594,
   "metadata": {},
   "outputs": [
    {
     "data": {
      "application/vnd.plotly.v1+json": {
       "config": {
        "plotlyServerURL": "https://plot.ly"
       },
       "data": [
        {
         "mode": "lines",
         "name": "Net Radiation [W/m2]",
         "type": "scatter",
         "x": [
          "2023-02-22T18:00:00.000000000",
          "2023-02-22T18:30:00.000000000",
          "2023-02-22T19:00:00.000000000",
          "2023-02-22T19:30:00.000000000",
          "2023-02-22T20:00:00.000000000",
          "2023-02-22T20:30:00.000000000",
          "2023-02-22T21:00:00.000000000",
          "2023-02-22T21:30:00.000000000",
          "2023-02-22T22:00:00.000000000",
          "2023-02-22T22:30:00.000000000",
          "2023-02-22T23:00:00.000000000",
          "2023-02-22T23:30:00.000000000",
          "2023-02-23T00:00:00.000000000",
          "2023-02-23T00:30:00.000000000",
          "2023-02-23T01:00:00.000000000",
          "2023-02-23T01:30:00.000000000",
          "2023-02-23T02:00:00.000000000",
          "2023-02-23T02:30:00.000000000",
          "2023-02-23T03:00:00.000000000",
          "2023-02-23T03:30:00.000000000",
          "2023-02-23T04:00:00.000000000",
          "2023-02-23T04:30:00.000000000",
          "2023-02-23T05:00:00.000000000",
          "2023-02-23T05:30:00.000000000",
          "2023-02-23T06:00:00.000000000"
         ],
         "y": [
          1.2084121704101562,
          5.379302978515625,
          9.41375732421875,
          14.163330078125,
          12.2972412109375,
          7.6089935302734375,
          8.784988403320312,
          -9.908447265625,
          1.611358642578125,
          -2.1068267822265625,
          -3.1313629150390625,
          -2.640430450439453,
          -5.092876434326172,
          -4.688852310180664,
          -2.682237148284912,
          -4.098871231079102,
          -4.044143199920654,
          -3.97186541557312,
          -9.297309875488281,
          -11.837894439697266,
          -3.471359968185425,
          -5.293972015380859,
          -6.164009094238281,
          -5.166489124298096,
          -13.431915283203125
         ]
        },
        {
         "mode": "lines",
         "name": "Latent Heat Flux [W/m2]",
         "type": "scatter",
         "x": [
          "2023-02-22T18:00:00.000000000",
          "2023-02-22T18:30:00.000000000",
          "2023-02-22T19:00:00.000000000",
          "2023-02-22T19:30:00.000000000",
          "2023-02-22T20:00:00.000000000",
          "2023-02-22T20:30:00.000000000",
          "2023-02-22T21:00:00.000000000",
          "2023-02-22T21:30:00.000000000",
          "2023-02-22T22:00:00.000000000",
          "2023-02-22T22:30:00.000000000",
          "2023-02-22T23:00:00.000000000",
          "2023-02-22T23:30:00.000000000",
          "2023-02-23T00:00:00.000000000",
          "2023-02-23T00:30:00.000000000",
          "2023-02-23T01:00:00.000000000",
          "2023-02-23T01:30:00.000000000",
          "2023-02-23T02:00:00.000000000",
          "2023-02-23T02:30:00.000000000",
          "2023-02-23T03:00:00.000000000",
          "2023-02-23T03:30:00.000000000",
          "2023-02-23T04:00:00.000000000",
          "2023-02-23T04:30:00.000000000",
          "2023-02-23T05:00:00.000000000",
          "2023-02-23T05:30:00.000000000",
          "2023-02-23T06:00:00.000000000"
         ],
         "y": [
          -9.129388868632606,
          8.42609681472138,
          13.017003501177623,
          18.721028670330877,
          35.585595508173995,
          19.00001620939439,
          36.17768019207054,
          44.96261373755293,
          40.70898157624494,
          30.235314371521714,
          25.9299060323481,
          13.597804214317565,
          13.358272719384571,
          -2.757903855117561,
          6.878163661645968,
          4.486690711984228,
          9.26361833279701,
          14.650536818681477,
          2.8666703814479817,
          17.34294023585925,
          7.50279511555571,
          4.132342219913735,
          11.112433314608463,
          6.956088110555993,
          20.730741329820475
         ]
        },
        {
         "mode": "lines",
         "name": "Sensible Heat Flux [W/m2]",
         "type": "scatter",
         "x": [
          "2023-02-22T18:00:00.000000000",
          "2023-02-22T18:30:00.000000000",
          "2023-02-22T19:00:00.000000000",
          "2023-02-22T19:30:00.000000000",
          "2023-02-22T20:00:00.000000000",
          "2023-02-22T20:30:00.000000000",
          "2023-02-22T21:00:00.000000000",
          "2023-02-22T21:30:00.000000000",
          "2023-02-22T22:00:00.000000000",
          "2023-02-22T22:30:00.000000000",
          "2023-02-22T23:00:00.000000000",
          "2023-02-22T23:30:00.000000000",
          "2023-02-23T00:00:00.000000000",
          "2023-02-23T00:30:00.000000000",
          "2023-02-23T01:00:00.000000000",
          "2023-02-23T01:30:00.000000000",
          "2023-02-23T02:00:00.000000000",
          "2023-02-23T02:30:00.000000000",
          "2023-02-23T03:00:00.000000000",
          "2023-02-23T03:30:00.000000000",
          "2023-02-23T04:00:00.000000000",
          "2023-02-23T04:30:00.000000000",
          "2023-02-23T05:00:00.000000000",
          "2023-02-23T05:30:00.000000000",
          "2023-02-23T06:00:00.000000000"
         ],
         "y": [
          -13.340127159071974,
          -8.793325030495096,
          -9.92225507993921,
          -15.033122647342609,
          -22.001122668999898,
          -13.374669673980417,
          -24.638750108430038,
          -41.97714302439735,
          -38.20137700739434,
          -27.642560580647128,
          -22.548331979589527,
          -13.801303912772065,
          -11.133396150979165,
          -11.588939477602809,
          -7.1027654063827175,
          -11.334633116163982,
          -8.00899607336943,
          -11.017566880162843,
          -7.658567708965734,
          -22.47179425154419,
          -6.994783882025901,
          -6.893328395424236,
          -13.584865200827991,
          -6.630139938159542,
          -22.295491452100688
         ]
        },
        {
         "mode": "markers",
         "showlegend": false,
         "type": "scatter",
         "x": [
          -9.129388868632606,
          8.42609681472138,
          13.017003501177623,
          18.721028670330877,
          35.585595508173995,
          19.00001620939439,
          36.17768019207054,
          44.96261373755293,
          40.70898157624494,
          30.235314371521714,
          25.9299060323481,
          13.597804214317565,
          13.358272719384571,
          -2.757903855117561,
          6.878163661645968,
          4.486690711984228,
          9.26361833279701,
          14.650536818681477,
          2.8666703814479817,
          17.34294023585925,
          7.50279511555571,
          4.132342219913735,
          11.112433314608463,
          6.956088110555993,
          20.730741329820475
         ],
         "xaxis": "x2",
         "y": [
          -13.340127159071974,
          -8.793325030495096,
          -9.92225507993921,
          -15.033122647342609,
          -22.001122668999898,
          -13.374669673980417,
          -24.638750108430038,
          -41.97714302439735,
          -38.20137700739434,
          -27.642560580647128,
          -22.548331979589527,
          -13.801303912772065,
          -11.133396150979165,
          -11.588939477602809,
          -7.1027654063827175,
          -11.334633116163982,
          -8.00899607336943,
          -11.017566880162843,
          -7.658567708965734,
          -22.47179425154419,
          -6.994783882025901,
          -6.893328395424236,
          -13.584865200827991,
          -6.630139938159542,
          -22.295491452100688
         ],
         "yaxis": "y2"
        },
        {
         "mode": "lines",
         "showlegend": false,
         "type": "scatter",
         "x": [
          -100,
          100
         ],
         "xaxis": "x2",
         "y": [
          100,
          -100
         ],
         "yaxis": "y2"
        },
        {
         "mode": "markers",
         "showlegend": false,
         "type": "scatter",
         "x": [
          -9.129388868632606,
          8.42609681472138,
          13.017003501177623,
          18.721028670330877,
          35.585595508173995,
          19.00001620939439,
          36.17768019207054,
          44.96261373755293,
          40.70898157624494,
          30.235314371521714,
          25.9299060323481,
          13.597804214317565,
          13.358272719384571,
          -2.757903855117561,
          6.878163661645968,
          4.486690711984228,
          9.26361833279701,
          14.650536818681477,
          2.8666703814479817,
          17.34294023585925,
          7.50279511555571,
          4.132342219913735,
          11.112433314608463,
          6.956088110555993,
          20.730741329820475
         ],
         "xaxis": "x3",
         "y": [
          1.2084121704101562,
          5.379302978515625,
          9.41375732421875,
          14.163330078125,
          12.2972412109375,
          7.6089935302734375,
          8.784988403320312,
          -9.908447265625,
          1.611358642578125,
          -2.1068267822265625,
          -3.1313629150390625,
          -2.640430450439453,
          -5.092876434326172,
          -4.688852310180664,
          -2.682237148284912,
          -4.098871231079102,
          -4.044143199920654,
          -3.97186541557312,
          -9.297309875488281,
          -11.837894439697266,
          -3.471359968185425,
          -5.293972015380859,
          -6.164009094238281,
          -5.166489124298096,
          -13.431915283203125
         ],
         "yaxis": "y3"
        },
        {
         "mode": "lines",
         "showlegend": false,
         "type": "scatter",
         "x": [
          -100,
          100
         ],
         "xaxis": "x3",
         "y": [
          -100,
          100
         ],
         "yaxis": "y3"
        },
        {
         "mode": "markers",
         "showlegend": false,
         "type": "scatter",
         "x": [
          -13.340127159071974,
          -8.793325030495096,
          -9.92225507993921,
          -15.033122647342609,
          -22.001122668999898,
          -13.374669673980417,
          -24.638750108430038,
          -41.97714302439735,
          -38.20137700739434,
          -27.642560580647128,
          -22.548331979589527,
          -13.801303912772065,
          -11.133396150979165,
          -11.588939477602809,
          -7.1027654063827175,
          -11.334633116163982,
          -8.00899607336943,
          -11.017566880162843,
          -7.658567708965734,
          -22.47179425154419,
          -6.994783882025901,
          -6.893328395424236,
          -13.584865200827991,
          -6.630139938159542,
          -22.295491452100688
         ],
         "xaxis": "x4",
         "y": [
          1.2084121704101562,
          5.379302978515625,
          9.41375732421875,
          14.163330078125,
          12.2972412109375,
          7.6089935302734375,
          8.784988403320312,
          -9.908447265625,
          1.611358642578125,
          -2.1068267822265625,
          -3.1313629150390625,
          -2.640430450439453,
          -5.092876434326172,
          -4.688852310180664,
          -2.682237148284912,
          -4.098871231079102,
          -4.044143199920654,
          -3.97186541557312,
          -9.297309875488281,
          -11.837894439697266,
          -3.471359968185425,
          -5.293972015380859,
          -6.164009094238281,
          -5.166489124298096,
          -13.431915283203125
         ],
         "yaxis": "y4"
        },
        {
         "mode": "lines",
         "showlegend": false,
         "type": "scatter",
         "x": [
          -100,
          100
         ],
         "xaxis": "x4",
         "y": [
          -100,
          100
         ],
         "yaxis": "y4"
        }
       ],
       "layout": {
        "height": 800,
        "legend": {
         "orientation": "h",
         "x": 0.5,
         "xanchor": "center",
         "y": 1.02,
         "yanchor": "bottom"
        },
        "margin": {
         "b": 20,
         "l": 20,
         "r": 20,
         "t": 50
        },
        "template": {
         "data": {
          "bar": [
           {
            "error_x": {
             "color": "#2a3f5f"
            },
            "error_y": {
             "color": "#2a3f5f"
            },
            "marker": {
             "line": {
              "color": "#E5ECF6",
              "width": 0.5
             },
             "pattern": {
              "fillmode": "overlay",
              "size": 10,
              "solidity": 0.2
             }
            },
            "type": "bar"
           }
          ],
          "barpolar": [
           {
            "marker": {
             "line": {
              "color": "#E5ECF6",
              "width": 0.5
             },
             "pattern": {
              "fillmode": "overlay",
              "size": 10,
              "solidity": 0.2
             }
            },
            "type": "barpolar"
           }
          ],
          "carpet": [
           {
            "aaxis": {
             "endlinecolor": "#2a3f5f",
             "gridcolor": "white",
             "linecolor": "white",
             "minorgridcolor": "white",
             "startlinecolor": "#2a3f5f"
            },
            "baxis": {
             "endlinecolor": "#2a3f5f",
             "gridcolor": "white",
             "linecolor": "white",
             "minorgridcolor": "white",
             "startlinecolor": "#2a3f5f"
            },
            "type": "carpet"
           }
          ],
          "choropleth": [
           {
            "colorbar": {
             "outlinewidth": 0,
             "ticks": ""
            },
            "type": "choropleth"
           }
          ],
          "contour": [
           {
            "colorbar": {
             "outlinewidth": 0,
             "ticks": ""
            },
            "colorscale": [
             [
              0,
              "#0d0887"
             ],
             [
              0.1111111111111111,
              "#46039f"
             ],
             [
              0.2222222222222222,
              "#7201a8"
             ],
             [
              0.3333333333333333,
              "#9c179e"
             ],
             [
              0.4444444444444444,
              "#bd3786"
             ],
             [
              0.5555555555555556,
              "#d8576b"
             ],
             [
              0.6666666666666666,
              "#ed7953"
             ],
             [
              0.7777777777777778,
              "#fb9f3a"
             ],
             [
              0.8888888888888888,
              "#fdca26"
             ],
             [
              1,
              "#f0f921"
             ]
            ],
            "type": "contour"
           }
          ],
          "contourcarpet": [
           {
            "colorbar": {
             "outlinewidth": 0,
             "ticks": ""
            },
            "type": "contourcarpet"
           }
          ],
          "heatmap": [
           {
            "colorbar": {
             "outlinewidth": 0,
             "ticks": ""
            },
            "colorscale": [
             [
              0,
              "#0d0887"
             ],
             [
              0.1111111111111111,
              "#46039f"
             ],
             [
              0.2222222222222222,
              "#7201a8"
             ],
             [
              0.3333333333333333,
              "#9c179e"
             ],
             [
              0.4444444444444444,
              "#bd3786"
             ],
             [
              0.5555555555555556,
              "#d8576b"
             ],
             [
              0.6666666666666666,
              "#ed7953"
             ],
             [
              0.7777777777777778,
              "#fb9f3a"
             ],
             [
              0.8888888888888888,
              "#fdca26"
             ],
             [
              1,
              "#f0f921"
             ]
            ],
            "type": "heatmap"
           }
          ],
          "heatmapgl": [
           {
            "colorbar": {
             "outlinewidth": 0,
             "ticks": ""
            },
            "colorscale": [
             [
              0,
              "#0d0887"
             ],
             [
              0.1111111111111111,
              "#46039f"
             ],
             [
              0.2222222222222222,
              "#7201a8"
             ],
             [
              0.3333333333333333,
              "#9c179e"
             ],
             [
              0.4444444444444444,
              "#bd3786"
             ],
             [
              0.5555555555555556,
              "#d8576b"
             ],
             [
              0.6666666666666666,
              "#ed7953"
             ],
             [
              0.7777777777777778,
              "#fb9f3a"
             ],
             [
              0.8888888888888888,
              "#fdca26"
             ],
             [
              1,
              "#f0f921"
             ]
            ],
            "type": "heatmapgl"
           }
          ],
          "histogram": [
           {
            "marker": {
             "pattern": {
              "fillmode": "overlay",
              "size": 10,
              "solidity": 0.2
             }
            },
            "type": "histogram"
           }
          ],
          "histogram2d": [
           {
            "colorbar": {
             "outlinewidth": 0,
             "ticks": ""
            },
            "colorscale": [
             [
              0,
              "#0d0887"
             ],
             [
              0.1111111111111111,
              "#46039f"
             ],
             [
              0.2222222222222222,
              "#7201a8"
             ],
             [
              0.3333333333333333,
              "#9c179e"
             ],
             [
              0.4444444444444444,
              "#bd3786"
             ],
             [
              0.5555555555555556,
              "#d8576b"
             ],
             [
              0.6666666666666666,
              "#ed7953"
             ],
             [
              0.7777777777777778,
              "#fb9f3a"
             ],
             [
              0.8888888888888888,
              "#fdca26"
             ],
             [
              1,
              "#f0f921"
             ]
            ],
            "type": "histogram2d"
           }
          ],
          "histogram2dcontour": [
           {
            "colorbar": {
             "outlinewidth": 0,
             "ticks": ""
            },
            "colorscale": [
             [
              0,
              "#0d0887"
             ],
             [
              0.1111111111111111,
              "#46039f"
             ],
             [
              0.2222222222222222,
              "#7201a8"
             ],
             [
              0.3333333333333333,
              "#9c179e"
             ],
             [
              0.4444444444444444,
              "#bd3786"
             ],
             [
              0.5555555555555556,
              "#d8576b"
             ],
             [
              0.6666666666666666,
              "#ed7953"
             ],
             [
              0.7777777777777778,
              "#fb9f3a"
             ],
             [
              0.8888888888888888,
              "#fdca26"
             ],
             [
              1,
              "#f0f921"
             ]
            ],
            "type": "histogram2dcontour"
           }
          ],
          "mesh3d": [
           {
            "colorbar": {
             "outlinewidth": 0,
             "ticks": ""
            },
            "type": "mesh3d"
           }
          ],
          "parcoords": [
           {
            "line": {
             "colorbar": {
              "outlinewidth": 0,
              "ticks": ""
             }
            },
            "type": "parcoords"
           }
          ],
          "pie": [
           {
            "automargin": true,
            "type": "pie"
           }
          ],
          "scatter": [
           {
            "fillpattern": {
             "fillmode": "overlay",
             "size": 10,
             "solidity": 0.2
            },
            "type": "scatter"
           }
          ],
          "scatter3d": [
           {
            "line": {
             "colorbar": {
              "outlinewidth": 0,
              "ticks": ""
             }
            },
            "marker": {
             "colorbar": {
              "outlinewidth": 0,
              "ticks": ""
             }
            },
            "type": "scatter3d"
           }
          ],
          "scattercarpet": [
           {
            "marker": {
             "colorbar": {
              "outlinewidth": 0,
              "ticks": ""
             }
            },
            "type": "scattercarpet"
           }
          ],
          "scattergeo": [
           {
            "marker": {
             "colorbar": {
              "outlinewidth": 0,
              "ticks": ""
             }
            },
            "type": "scattergeo"
           }
          ],
          "scattergl": [
           {
            "marker": {
             "colorbar": {
              "outlinewidth": 0,
              "ticks": ""
             }
            },
            "type": "scattergl"
           }
          ],
          "scattermapbox": [
           {
            "marker": {
             "colorbar": {
              "outlinewidth": 0,
              "ticks": ""
             }
            },
            "type": "scattermapbox"
           }
          ],
          "scatterpolar": [
           {
            "marker": {
             "colorbar": {
              "outlinewidth": 0,
              "ticks": ""
             }
            },
            "type": "scatterpolar"
           }
          ],
          "scatterpolargl": [
           {
            "marker": {
             "colorbar": {
              "outlinewidth": 0,
              "ticks": ""
             }
            },
            "type": "scatterpolargl"
           }
          ],
          "scatterternary": [
           {
            "marker": {
             "colorbar": {
              "outlinewidth": 0,
              "ticks": ""
             }
            },
            "type": "scatterternary"
           }
          ],
          "surface": [
           {
            "colorbar": {
             "outlinewidth": 0,
             "ticks": ""
            },
            "colorscale": [
             [
              0,
              "#0d0887"
             ],
             [
              0.1111111111111111,
              "#46039f"
             ],
             [
              0.2222222222222222,
              "#7201a8"
             ],
             [
              0.3333333333333333,
              "#9c179e"
             ],
             [
              0.4444444444444444,
              "#bd3786"
             ],
             [
              0.5555555555555556,
              "#d8576b"
             ],
             [
              0.6666666666666666,
              "#ed7953"
             ],
             [
              0.7777777777777778,
              "#fb9f3a"
             ],
             [
              0.8888888888888888,
              "#fdca26"
             ],
             [
              1,
              "#f0f921"
             ]
            ],
            "type": "surface"
           }
          ],
          "table": [
           {
            "cells": {
             "fill": {
              "color": "#EBF0F8"
             },
             "line": {
              "color": "white"
             }
            },
            "header": {
             "fill": {
              "color": "#C8D4E3"
             },
             "line": {
              "color": "white"
             }
            },
            "type": "table"
           }
          ]
         },
         "layout": {
          "annotationdefaults": {
           "arrowcolor": "#2a3f5f",
           "arrowhead": 0,
           "arrowwidth": 1
          },
          "autotypenumbers": "strict",
          "coloraxis": {
           "colorbar": {
            "outlinewidth": 0,
            "ticks": ""
           }
          },
          "colorscale": {
           "diverging": [
            [
             0,
             "#8e0152"
            ],
            [
             0.1,
             "#c51b7d"
            ],
            [
             0.2,
             "#de77ae"
            ],
            [
             0.3,
             "#f1b6da"
            ],
            [
             0.4,
             "#fde0ef"
            ],
            [
             0.5,
             "#f7f7f7"
            ],
            [
             0.6,
             "#e6f5d0"
            ],
            [
             0.7,
             "#b8e186"
            ],
            [
             0.8,
             "#7fbc41"
            ],
            [
             0.9,
             "#4d9221"
            ],
            [
             1,
             "#276419"
            ]
           ],
           "sequential": [
            [
             0,
             "#0d0887"
            ],
            [
             0.1111111111111111,
             "#46039f"
            ],
            [
             0.2222222222222222,
             "#7201a8"
            ],
            [
             0.3333333333333333,
             "#9c179e"
            ],
            [
             0.4444444444444444,
             "#bd3786"
            ],
            [
             0.5555555555555556,
             "#d8576b"
            ],
            [
             0.6666666666666666,
             "#ed7953"
            ],
            [
             0.7777777777777778,
             "#fb9f3a"
            ],
            [
             0.8888888888888888,
             "#fdca26"
            ],
            [
             1,
             "#f0f921"
            ]
           ],
           "sequentialminus": [
            [
             0,
             "#0d0887"
            ],
            [
             0.1111111111111111,
             "#46039f"
            ],
            [
             0.2222222222222222,
             "#7201a8"
            ],
            [
             0.3333333333333333,
             "#9c179e"
            ],
            [
             0.4444444444444444,
             "#bd3786"
            ],
            [
             0.5555555555555556,
             "#d8576b"
            ],
            [
             0.6666666666666666,
             "#ed7953"
            ],
            [
             0.7777777777777778,
             "#fb9f3a"
            ],
            [
             0.8888888888888888,
             "#fdca26"
            ],
            [
             1,
             "#f0f921"
            ]
           ]
          },
          "colorway": [
           "#636efa",
           "#EF553B",
           "#00cc96",
           "#ab63fa",
           "#FFA15A",
           "#19d3f3",
           "#FF6692",
           "#B6E880",
           "#FF97FF",
           "#FECB52"
          ],
          "font": {
           "color": "#2a3f5f"
          },
          "geo": {
           "bgcolor": "white",
           "lakecolor": "white",
           "landcolor": "#E5ECF6",
           "showlakes": true,
           "showland": true,
           "subunitcolor": "white"
          },
          "hoverlabel": {
           "align": "left"
          },
          "hovermode": "closest",
          "mapbox": {
           "style": "light"
          },
          "paper_bgcolor": "white",
          "plot_bgcolor": "#E5ECF6",
          "polar": {
           "angularaxis": {
            "gridcolor": "white",
            "linecolor": "white",
            "ticks": ""
           },
           "bgcolor": "#E5ECF6",
           "radialaxis": {
            "gridcolor": "white",
            "linecolor": "white",
            "ticks": ""
           }
          },
          "scene": {
           "xaxis": {
            "backgroundcolor": "#E5ECF6",
            "gridcolor": "white",
            "gridwidth": 2,
            "linecolor": "white",
            "showbackground": true,
            "ticks": "",
            "zerolinecolor": "white"
           },
           "yaxis": {
            "backgroundcolor": "#E5ECF6",
            "gridcolor": "white",
            "gridwidth": 2,
            "linecolor": "white",
            "showbackground": true,
            "ticks": "",
            "zerolinecolor": "white"
           },
           "zaxis": {
            "backgroundcolor": "#E5ECF6",
            "gridcolor": "white",
            "gridwidth": 2,
            "linecolor": "white",
            "showbackground": true,
            "ticks": "",
            "zerolinecolor": "white"
           }
          },
          "shapedefaults": {
           "line": {
            "color": "#2a3f5f"
           }
          },
          "ternary": {
           "aaxis": {
            "gridcolor": "white",
            "linecolor": "white",
            "ticks": ""
           },
           "baxis": {
            "gridcolor": "white",
            "linecolor": "white",
            "ticks": ""
           },
           "bgcolor": "#E5ECF6",
           "caxis": {
            "gridcolor": "white",
            "linecolor": "white",
            "ticks": ""
           }
          },
          "title": {
           "x": 0.05
          },
          "xaxis": {
           "automargin": true,
           "gridcolor": "white",
           "linecolor": "white",
           "ticks": "",
           "title": {
            "standoff": 15
           },
           "zerolinecolor": "white",
           "zerolinewidth": 2
          },
          "yaxis": {
           "automargin": true,
           "gridcolor": "white",
           "linecolor": "white",
           "ticks": "",
           "title": {
            "standoff": 15
           },
           "zerolinecolor": "white",
           "zerolinewidth": 2
          }
         }
        },
        "width": 1000,
        "xaxis": {
         "anchor": "y",
         "domain": [
          0,
          1
         ],
         "title": {
          "text": "Time (UTC)"
         }
        },
        "xaxis2": {
         "anchor": "y2",
         "domain": [
          0,
          0.2888888888888889
         ],
         "title": {
          "text": "Latent Heat Flux [W/m2]"
         }
        },
        "xaxis3": {
         "anchor": "y3",
         "domain": [
          0.35555555555555557,
          0.6444444444444445
         ],
         "title": {
          "text": "Latent Heat Flux [W/m2]"
         }
        },
        "xaxis4": {
         "anchor": "y4",
         "domain": [
          0.7111111111111111,
          1
         ],
         "title": {
          "text": "Sensible Heat Flux [W/m2]"
         }
        },
        "yaxis": {
         "anchor": "x",
         "domain": [
          0.5363636363636364,
          1
         ],
         "title": {
          "standoff": 0,
          "text": "Energy Flux [W/m2]"
         }
        },
        "yaxis2": {
         "anchor": "x2",
         "domain": [
          0,
          0.38636363636363635
         ],
         "title": {
          "standoff": 0,
          "text": "Sensible Heat Flux [W/m2]"
         }
        },
        "yaxis3": {
         "anchor": "x3",
         "domain": [
          0,
          0.38636363636363635
         ],
         "title": {
          "standoff": 0,
          "text": "Net Radiation [W/m2]"
         }
        },
        "yaxis4": {
         "anchor": "x4",
         "domain": [
          0,
          0.38636363636363635
         ],
         "title": {
          "standoff": 0,
          "text": "Net Radiation [W/m2]"
         }
        }
       }
      },
      "text/html": [
       "<div>                            <div id=\"5b3e0a73-990b-4355-8593-2eb75f536f4f\" class=\"plotly-graph-div\" style=\"height:800px; width:1000px;\"></div>            <script type=\"text/javascript\">                require([\"plotly\"], function(Plotly) {                    window.PLOTLYENV=window.PLOTLYENV || {};                                    if (document.getElementById(\"5b3e0a73-990b-4355-8593-2eb75f536f4f\")) {                    Plotly.newPlot(                        \"5b3e0a73-990b-4355-8593-2eb75f536f4f\",                        [{\"mode\":\"lines\",\"name\":\"Net Radiation [W\\u002fm2]\",\"x\":[\"2023-02-22T18:00:00.000000000\",\"2023-02-22T18:30:00.000000000\",\"2023-02-22T19:00:00.000000000\",\"2023-02-22T19:30:00.000000000\",\"2023-02-22T20:00:00.000000000\",\"2023-02-22T20:30:00.000000000\",\"2023-02-22T21:00:00.000000000\",\"2023-02-22T21:30:00.000000000\",\"2023-02-22T22:00:00.000000000\",\"2023-02-22T22:30:00.000000000\",\"2023-02-22T23:00:00.000000000\",\"2023-02-22T23:30:00.000000000\",\"2023-02-23T00:00:00.000000000\",\"2023-02-23T00:30:00.000000000\",\"2023-02-23T01:00:00.000000000\",\"2023-02-23T01:30:00.000000000\",\"2023-02-23T02:00:00.000000000\",\"2023-02-23T02:30:00.000000000\",\"2023-02-23T03:00:00.000000000\",\"2023-02-23T03:30:00.000000000\",\"2023-02-23T04:00:00.000000000\",\"2023-02-23T04:30:00.000000000\",\"2023-02-23T05:00:00.000000000\",\"2023-02-23T05:30:00.000000000\",\"2023-02-23T06:00:00.000000000\"],\"y\":[1.2084121704101562,5.379302978515625,9.41375732421875,14.163330078125,12.2972412109375,7.6089935302734375,8.784988403320312,-9.908447265625,1.611358642578125,-2.1068267822265625,-3.1313629150390625,-2.640430450439453,-5.092876434326172,-4.688852310180664,-2.682237148284912,-4.098871231079102,-4.044143199920654,-3.97186541557312,-9.297309875488281,-11.837894439697266,-3.471359968185425,-5.293972015380859,-6.164009094238281,-5.166489124298096,-13.431915283203125],\"type\":\"scatter\"},{\"mode\":\"lines\",\"name\":\"Latent Heat Flux [W\\u002fm2]\",\"x\":[\"2023-02-22T18:00:00.000000000\",\"2023-02-22T18:30:00.000000000\",\"2023-02-22T19:00:00.000000000\",\"2023-02-22T19:30:00.000000000\",\"2023-02-22T20:00:00.000000000\",\"2023-02-22T20:30:00.000000000\",\"2023-02-22T21:00:00.000000000\",\"2023-02-22T21:30:00.000000000\",\"2023-02-22T22:00:00.000000000\",\"2023-02-22T22:30:00.000000000\",\"2023-02-22T23:00:00.000000000\",\"2023-02-22T23:30:00.000000000\",\"2023-02-23T00:00:00.000000000\",\"2023-02-23T00:30:00.000000000\",\"2023-02-23T01:00:00.000000000\",\"2023-02-23T01:30:00.000000000\",\"2023-02-23T02:00:00.000000000\",\"2023-02-23T02:30:00.000000000\",\"2023-02-23T03:00:00.000000000\",\"2023-02-23T03:30:00.000000000\",\"2023-02-23T04:00:00.000000000\",\"2023-02-23T04:30:00.000000000\",\"2023-02-23T05:00:00.000000000\",\"2023-02-23T05:30:00.000000000\",\"2023-02-23T06:00:00.000000000\"],\"y\":[-9.129388868632606,8.42609681472138,13.017003501177623,18.721028670330877,35.585595508173995,19.00001620939439,36.17768019207054,44.96261373755293,40.70898157624494,30.235314371521714,25.9299060323481,13.597804214317565,13.358272719384571,-2.757903855117561,6.878163661645968,4.486690711984228,9.26361833279701,14.650536818681477,2.8666703814479817,17.34294023585925,7.50279511555571,4.132342219913735,11.112433314608463,6.956088110555993,20.730741329820475],\"type\":\"scatter\"},{\"mode\":\"lines\",\"name\":\"Sensible Heat Flux [W\\u002fm2]\",\"x\":[\"2023-02-22T18:00:00.000000000\",\"2023-02-22T18:30:00.000000000\",\"2023-02-22T19:00:00.000000000\",\"2023-02-22T19:30:00.000000000\",\"2023-02-22T20:00:00.000000000\",\"2023-02-22T20:30:00.000000000\",\"2023-02-22T21:00:00.000000000\",\"2023-02-22T21:30:00.000000000\",\"2023-02-22T22:00:00.000000000\",\"2023-02-22T22:30:00.000000000\",\"2023-02-22T23:00:00.000000000\",\"2023-02-22T23:30:00.000000000\",\"2023-02-23T00:00:00.000000000\",\"2023-02-23T00:30:00.000000000\",\"2023-02-23T01:00:00.000000000\",\"2023-02-23T01:30:00.000000000\",\"2023-02-23T02:00:00.000000000\",\"2023-02-23T02:30:00.000000000\",\"2023-02-23T03:00:00.000000000\",\"2023-02-23T03:30:00.000000000\",\"2023-02-23T04:00:00.000000000\",\"2023-02-23T04:30:00.000000000\",\"2023-02-23T05:00:00.000000000\",\"2023-02-23T05:30:00.000000000\",\"2023-02-23T06:00:00.000000000\"],\"y\":[-13.340127159071974,-8.793325030495096,-9.92225507993921,-15.033122647342609,-22.001122668999898,-13.374669673980417,-24.638750108430038,-41.97714302439735,-38.20137700739434,-27.642560580647128,-22.548331979589527,-13.801303912772065,-11.133396150979165,-11.588939477602809,-7.1027654063827175,-11.334633116163982,-8.00899607336943,-11.017566880162843,-7.658567708965734,-22.47179425154419,-6.994783882025901,-6.893328395424236,-13.584865200827991,-6.630139938159542,-22.295491452100688],\"type\":\"scatter\"},{\"mode\":\"markers\",\"showlegend\":false,\"x\":[-9.129388868632606,8.42609681472138,13.017003501177623,18.721028670330877,35.585595508173995,19.00001620939439,36.17768019207054,44.96261373755293,40.70898157624494,30.235314371521714,25.9299060323481,13.597804214317565,13.358272719384571,-2.757903855117561,6.878163661645968,4.486690711984228,9.26361833279701,14.650536818681477,2.8666703814479817,17.34294023585925,7.50279511555571,4.132342219913735,11.112433314608463,6.956088110555993,20.730741329820475],\"y\":[-13.340127159071974,-8.793325030495096,-9.92225507993921,-15.033122647342609,-22.001122668999898,-13.374669673980417,-24.638750108430038,-41.97714302439735,-38.20137700739434,-27.642560580647128,-22.548331979589527,-13.801303912772065,-11.133396150979165,-11.588939477602809,-7.1027654063827175,-11.334633116163982,-8.00899607336943,-11.017566880162843,-7.658567708965734,-22.47179425154419,-6.994783882025901,-6.893328395424236,-13.584865200827991,-6.630139938159542,-22.295491452100688],\"type\":\"scatter\",\"xaxis\":\"x2\",\"yaxis\":\"y2\"},{\"mode\":\"lines\",\"showlegend\":false,\"x\":[-100,100],\"y\":[100,-100],\"type\":\"scatter\",\"xaxis\":\"x2\",\"yaxis\":\"y2\"},{\"mode\":\"markers\",\"showlegend\":false,\"x\":[-9.129388868632606,8.42609681472138,13.017003501177623,18.721028670330877,35.585595508173995,19.00001620939439,36.17768019207054,44.96261373755293,40.70898157624494,30.235314371521714,25.9299060323481,13.597804214317565,13.358272719384571,-2.757903855117561,6.878163661645968,4.486690711984228,9.26361833279701,14.650536818681477,2.8666703814479817,17.34294023585925,7.50279511555571,4.132342219913735,11.112433314608463,6.956088110555993,20.730741329820475],\"y\":[1.2084121704101562,5.379302978515625,9.41375732421875,14.163330078125,12.2972412109375,7.6089935302734375,8.784988403320312,-9.908447265625,1.611358642578125,-2.1068267822265625,-3.1313629150390625,-2.640430450439453,-5.092876434326172,-4.688852310180664,-2.682237148284912,-4.098871231079102,-4.044143199920654,-3.97186541557312,-9.297309875488281,-11.837894439697266,-3.471359968185425,-5.293972015380859,-6.164009094238281,-5.166489124298096,-13.431915283203125],\"type\":\"scatter\",\"xaxis\":\"x3\",\"yaxis\":\"y3\"},{\"mode\":\"lines\",\"showlegend\":false,\"x\":[-100,100],\"y\":[-100,100],\"type\":\"scatter\",\"xaxis\":\"x3\",\"yaxis\":\"y3\"},{\"mode\":\"markers\",\"showlegend\":false,\"x\":[-13.340127159071974,-8.793325030495096,-9.92225507993921,-15.033122647342609,-22.001122668999898,-13.374669673980417,-24.638750108430038,-41.97714302439735,-38.20137700739434,-27.642560580647128,-22.548331979589527,-13.801303912772065,-11.133396150979165,-11.588939477602809,-7.1027654063827175,-11.334633116163982,-8.00899607336943,-11.017566880162843,-7.658567708965734,-22.47179425154419,-6.994783882025901,-6.893328395424236,-13.584865200827991,-6.630139938159542,-22.295491452100688],\"y\":[1.2084121704101562,5.379302978515625,9.41375732421875,14.163330078125,12.2972412109375,7.6089935302734375,8.784988403320312,-9.908447265625,1.611358642578125,-2.1068267822265625,-3.1313629150390625,-2.640430450439453,-5.092876434326172,-4.688852310180664,-2.682237148284912,-4.098871231079102,-4.044143199920654,-3.97186541557312,-9.297309875488281,-11.837894439697266,-3.471359968185425,-5.293972015380859,-6.164009094238281,-5.166489124298096,-13.431915283203125],\"type\":\"scatter\",\"xaxis\":\"x4\",\"yaxis\":\"y4\"},{\"mode\":\"lines\",\"showlegend\":false,\"x\":[-100,100],\"y\":[-100,100],\"type\":\"scatter\",\"xaxis\":\"x4\",\"yaxis\":\"y4\"}],                        {\"template\":{\"data\":{\"histogram2dcontour\":[{\"type\":\"histogram2dcontour\",\"colorbar\":{\"outlinewidth\":0,\"ticks\":\"\"},\"colorscale\":[[0.0,\"#0d0887\"],[0.1111111111111111,\"#46039f\"],[0.2222222222222222,\"#7201a8\"],[0.3333333333333333,\"#9c179e\"],[0.4444444444444444,\"#bd3786\"],[0.5555555555555556,\"#d8576b\"],[0.6666666666666666,\"#ed7953\"],[0.7777777777777778,\"#fb9f3a\"],[0.8888888888888888,\"#fdca26\"],[1.0,\"#f0f921\"]]}],\"choropleth\":[{\"type\":\"choropleth\",\"colorbar\":{\"outlinewidth\":0,\"ticks\":\"\"}}],\"histogram2d\":[{\"type\":\"histogram2d\",\"colorbar\":{\"outlinewidth\":0,\"ticks\":\"\"},\"colorscale\":[[0.0,\"#0d0887\"],[0.1111111111111111,\"#46039f\"],[0.2222222222222222,\"#7201a8\"],[0.3333333333333333,\"#9c179e\"],[0.4444444444444444,\"#bd3786\"],[0.5555555555555556,\"#d8576b\"],[0.6666666666666666,\"#ed7953\"],[0.7777777777777778,\"#fb9f3a\"],[0.8888888888888888,\"#fdca26\"],[1.0,\"#f0f921\"]]}],\"heatmap\":[{\"type\":\"heatmap\",\"colorbar\":{\"outlinewidth\":0,\"ticks\":\"\"},\"colorscale\":[[0.0,\"#0d0887\"],[0.1111111111111111,\"#46039f\"],[0.2222222222222222,\"#7201a8\"],[0.3333333333333333,\"#9c179e\"],[0.4444444444444444,\"#bd3786\"],[0.5555555555555556,\"#d8576b\"],[0.6666666666666666,\"#ed7953\"],[0.7777777777777778,\"#fb9f3a\"],[0.8888888888888888,\"#fdca26\"],[1.0,\"#f0f921\"]]}],\"heatmapgl\":[{\"type\":\"heatmapgl\",\"colorbar\":{\"outlinewidth\":0,\"ticks\":\"\"},\"colorscale\":[[0.0,\"#0d0887\"],[0.1111111111111111,\"#46039f\"],[0.2222222222222222,\"#7201a8\"],[0.3333333333333333,\"#9c179e\"],[0.4444444444444444,\"#bd3786\"],[0.5555555555555556,\"#d8576b\"],[0.6666666666666666,\"#ed7953\"],[0.7777777777777778,\"#fb9f3a\"],[0.8888888888888888,\"#fdca26\"],[1.0,\"#f0f921\"]]}],\"contourcarpet\":[{\"type\":\"contourcarpet\",\"colorbar\":{\"outlinewidth\":0,\"ticks\":\"\"}}],\"contour\":[{\"type\":\"contour\",\"colorbar\":{\"outlinewidth\":0,\"ticks\":\"\"},\"colorscale\":[[0.0,\"#0d0887\"],[0.1111111111111111,\"#46039f\"],[0.2222222222222222,\"#7201a8\"],[0.3333333333333333,\"#9c179e\"],[0.4444444444444444,\"#bd3786\"],[0.5555555555555556,\"#d8576b\"],[0.6666666666666666,\"#ed7953\"],[0.7777777777777778,\"#fb9f3a\"],[0.8888888888888888,\"#fdca26\"],[1.0,\"#f0f921\"]]}],\"surface\":[{\"type\":\"surface\",\"colorbar\":{\"outlinewidth\":0,\"ticks\":\"\"},\"colorscale\":[[0.0,\"#0d0887\"],[0.1111111111111111,\"#46039f\"],[0.2222222222222222,\"#7201a8\"],[0.3333333333333333,\"#9c179e\"],[0.4444444444444444,\"#bd3786\"],[0.5555555555555556,\"#d8576b\"],[0.6666666666666666,\"#ed7953\"],[0.7777777777777778,\"#fb9f3a\"],[0.8888888888888888,\"#fdca26\"],[1.0,\"#f0f921\"]]}],\"mesh3d\":[{\"type\":\"mesh3d\",\"colorbar\":{\"outlinewidth\":0,\"ticks\":\"\"}}],\"scatter\":[{\"fillpattern\":{\"fillmode\":\"overlay\",\"size\":10,\"solidity\":0.2},\"type\":\"scatter\"}],\"parcoords\":[{\"type\":\"parcoords\",\"line\":{\"colorbar\":{\"outlinewidth\":0,\"ticks\":\"\"}}}],\"scatterpolargl\":[{\"type\":\"scatterpolargl\",\"marker\":{\"colorbar\":{\"outlinewidth\":0,\"ticks\":\"\"}}}],\"bar\":[{\"error_x\":{\"color\":\"#2a3f5f\"},\"error_y\":{\"color\":\"#2a3f5f\"},\"marker\":{\"line\":{\"color\":\"#E5ECF6\",\"width\":0.5},\"pattern\":{\"fillmode\":\"overlay\",\"size\":10,\"solidity\":0.2}},\"type\":\"bar\"}],\"scattergeo\":[{\"type\":\"scattergeo\",\"marker\":{\"colorbar\":{\"outlinewidth\":0,\"ticks\":\"\"}}}],\"scatterpolar\":[{\"type\":\"scatterpolar\",\"marker\":{\"colorbar\":{\"outlinewidth\":0,\"ticks\":\"\"}}}],\"histogram\":[{\"marker\":{\"pattern\":{\"fillmode\":\"overlay\",\"size\":10,\"solidity\":0.2}},\"type\":\"histogram\"}],\"scattergl\":[{\"type\":\"scattergl\",\"marker\":{\"colorbar\":{\"outlinewidth\":0,\"ticks\":\"\"}}}],\"scatter3d\":[{\"type\":\"scatter3d\",\"line\":{\"colorbar\":{\"outlinewidth\":0,\"ticks\":\"\"}},\"marker\":{\"colorbar\":{\"outlinewidth\":0,\"ticks\":\"\"}}}],\"scattermapbox\":[{\"type\":\"scattermapbox\",\"marker\":{\"colorbar\":{\"outlinewidth\":0,\"ticks\":\"\"}}}],\"scatterternary\":[{\"type\":\"scatterternary\",\"marker\":{\"colorbar\":{\"outlinewidth\":0,\"ticks\":\"\"}}}],\"scattercarpet\":[{\"type\":\"scattercarpet\",\"marker\":{\"colorbar\":{\"outlinewidth\":0,\"ticks\":\"\"}}}],\"carpet\":[{\"aaxis\":{\"endlinecolor\":\"#2a3f5f\",\"gridcolor\":\"white\",\"linecolor\":\"white\",\"minorgridcolor\":\"white\",\"startlinecolor\":\"#2a3f5f\"},\"baxis\":{\"endlinecolor\":\"#2a3f5f\",\"gridcolor\":\"white\",\"linecolor\":\"white\",\"minorgridcolor\":\"white\",\"startlinecolor\":\"#2a3f5f\"},\"type\":\"carpet\"}],\"table\":[{\"cells\":{\"fill\":{\"color\":\"#EBF0F8\"},\"line\":{\"color\":\"white\"}},\"header\":{\"fill\":{\"color\":\"#C8D4E3\"},\"line\":{\"color\":\"white\"}},\"type\":\"table\"}],\"barpolar\":[{\"marker\":{\"line\":{\"color\":\"#E5ECF6\",\"width\":0.5},\"pattern\":{\"fillmode\":\"overlay\",\"size\":10,\"solidity\":0.2}},\"type\":\"barpolar\"}],\"pie\":[{\"automargin\":true,\"type\":\"pie\"}]},\"layout\":{\"autotypenumbers\":\"strict\",\"colorway\":[\"#636efa\",\"#EF553B\",\"#00cc96\",\"#ab63fa\",\"#FFA15A\",\"#19d3f3\",\"#FF6692\",\"#B6E880\",\"#FF97FF\",\"#FECB52\"],\"font\":{\"color\":\"#2a3f5f\"},\"hovermode\":\"closest\",\"hoverlabel\":{\"align\":\"left\"},\"paper_bgcolor\":\"white\",\"plot_bgcolor\":\"#E5ECF6\",\"polar\":{\"bgcolor\":\"#E5ECF6\",\"angularaxis\":{\"gridcolor\":\"white\",\"linecolor\":\"white\",\"ticks\":\"\"},\"radialaxis\":{\"gridcolor\":\"white\",\"linecolor\":\"white\",\"ticks\":\"\"}},\"ternary\":{\"bgcolor\":\"#E5ECF6\",\"aaxis\":{\"gridcolor\":\"white\",\"linecolor\":\"white\",\"ticks\":\"\"},\"baxis\":{\"gridcolor\":\"white\",\"linecolor\":\"white\",\"ticks\":\"\"},\"caxis\":{\"gridcolor\":\"white\",\"linecolor\":\"white\",\"ticks\":\"\"}},\"coloraxis\":{\"colorbar\":{\"outlinewidth\":0,\"ticks\":\"\"}},\"colorscale\":{\"sequential\":[[0.0,\"#0d0887\"],[0.1111111111111111,\"#46039f\"],[0.2222222222222222,\"#7201a8\"],[0.3333333333333333,\"#9c179e\"],[0.4444444444444444,\"#bd3786\"],[0.5555555555555556,\"#d8576b\"],[0.6666666666666666,\"#ed7953\"],[0.7777777777777778,\"#fb9f3a\"],[0.8888888888888888,\"#fdca26\"],[1.0,\"#f0f921\"]],\"sequentialminus\":[[0.0,\"#0d0887\"],[0.1111111111111111,\"#46039f\"],[0.2222222222222222,\"#7201a8\"],[0.3333333333333333,\"#9c179e\"],[0.4444444444444444,\"#bd3786\"],[0.5555555555555556,\"#d8576b\"],[0.6666666666666666,\"#ed7953\"],[0.7777777777777778,\"#fb9f3a\"],[0.8888888888888888,\"#fdca26\"],[1.0,\"#f0f921\"]],\"diverging\":[[0,\"#8e0152\"],[0.1,\"#c51b7d\"],[0.2,\"#de77ae\"],[0.3,\"#f1b6da\"],[0.4,\"#fde0ef\"],[0.5,\"#f7f7f7\"],[0.6,\"#e6f5d0\"],[0.7,\"#b8e186\"],[0.8,\"#7fbc41\"],[0.9,\"#4d9221\"],[1,\"#276419\"]]},\"xaxis\":{\"gridcolor\":\"white\",\"linecolor\":\"white\",\"ticks\":\"\",\"title\":{\"standoff\":15},\"zerolinecolor\":\"white\",\"automargin\":true,\"zerolinewidth\":2},\"yaxis\":{\"gridcolor\":\"white\",\"linecolor\":\"white\",\"ticks\":\"\",\"title\":{\"standoff\":15},\"zerolinecolor\":\"white\",\"automargin\":true,\"zerolinewidth\":2},\"scene\":{\"xaxis\":{\"backgroundcolor\":\"#E5ECF6\",\"gridcolor\":\"white\",\"linecolor\":\"white\",\"showbackground\":true,\"ticks\":\"\",\"zerolinecolor\":\"white\",\"gridwidth\":2},\"yaxis\":{\"backgroundcolor\":\"#E5ECF6\",\"gridcolor\":\"white\",\"linecolor\":\"white\",\"showbackground\":true,\"ticks\":\"\",\"zerolinecolor\":\"white\",\"gridwidth\":2},\"zaxis\":{\"backgroundcolor\":\"#E5ECF6\",\"gridcolor\":\"white\",\"linecolor\":\"white\",\"showbackground\":true,\"ticks\":\"\",\"zerolinecolor\":\"white\",\"gridwidth\":2}},\"shapedefaults\":{\"line\":{\"color\":\"#2a3f5f\"}},\"annotationdefaults\":{\"arrowcolor\":\"#2a3f5f\",\"arrowhead\":0,\"arrowwidth\":1},\"geo\":{\"bgcolor\":\"white\",\"landcolor\":\"#E5ECF6\",\"subunitcolor\":\"white\",\"showland\":true,\"showlakes\":true,\"lakecolor\":\"white\"},\"title\":{\"x\":0.05},\"mapbox\":{\"style\":\"light\"}}},\"xaxis\":{\"anchor\":\"y\",\"domain\":[0.0,1.0],\"title\":{\"text\":\"Time (UTC)\"}},\"yaxis\":{\"anchor\":\"x\",\"domain\":[0.5363636363636364,1.0],\"title\":{\"text\":\"Energy Flux [W\\u002fm2]\",\"standoff\":0}},\"xaxis2\":{\"anchor\":\"y2\",\"domain\":[0.0,0.2888888888888889],\"title\":{\"text\":\"Latent Heat Flux [W\\u002fm2]\"}},\"yaxis2\":{\"anchor\":\"x2\",\"domain\":[0.0,0.38636363636363635],\"title\":{\"text\":\"Sensible Heat Flux [W\\u002fm2]\",\"standoff\":0}},\"xaxis3\":{\"anchor\":\"y3\",\"domain\":[0.35555555555555557,0.6444444444444445],\"title\":{\"text\":\"Latent Heat Flux [W\\u002fm2]\"}},\"yaxis3\":{\"anchor\":\"x3\",\"domain\":[0.0,0.38636363636363635],\"title\":{\"text\":\"Net Radiation [W\\u002fm2]\",\"standoff\":0}},\"xaxis4\":{\"anchor\":\"y4\",\"domain\":[0.7111111111111111,1.0],\"title\":{\"text\":\"Sensible Heat Flux [W\\u002fm2]\"}},\"yaxis4\":{\"anchor\":\"x4\",\"domain\":[0.0,0.38636363636363635],\"title\":{\"text\":\"Net Radiation [W\\u002fm2]\",\"standoff\":0}},\"width\":1000,\"height\":800,\"margin\":{\"l\":20,\"r\":20,\"t\":50,\"b\":20},\"legend\":{\"orientation\":\"h\",\"yanchor\":\"bottom\",\"y\":1.02,\"xanchor\":\"center\",\"x\":0.5}},                        {\"responsive\": true}                    ).then(function(){\n",
       "                            \n",
       "var gd = document.getElementById('5b3e0a73-990b-4355-8593-2eb75f536f4f');\n",
       "var x = new MutationObserver(function (mutations, observer) {{\n",
       "        var display = window.getComputedStyle(gd).display;\n",
       "        if (!display || display === 'none') {{\n",
       "            console.log([gd, 'removed!']);\n",
       "            Plotly.purge(gd);\n",
       "            observer.disconnect();\n",
       "        }}\n",
       "}});\n",
       "\n",
       "// Listen for the removal of the full notebook cells\n",
       "var notebookContainer = gd.closest('#notebook-container');\n",
       "if (notebookContainer) {{\n",
       "    x.observe(notebookContainer, {childList: true});\n",
       "}}\n",
       "\n",
       "// Listen for the clearing of the current output cell\n",
       "var outputEl = gd.closest('.output');\n",
       "if (outputEl) {{\n",
       "    x.observe(outputEl, {childList: true});\n",
       "}}\n",
       "\n",
       "                        })                };                });            </script>        </div>"
      ]
     },
     "metadata": {},
     "output_type": "display_data"
    }
   ],
   "source": [
    "# now we will plot the net radiation and sensible/latent heat fluxes for these periods\n",
    "# Create the subplots layout\n",
    "fig = make_subplots(\n",
    "    rows=2, cols=3,\n",
    "    row_heights=[0.6, 0.5],  # The first row (top) is 60% of the height\n",
    "    column_widths=[0.33, 0.33, 0.33],  # The two subplots in the bottom row are equal width\n",
    "    specs=[[{\"colspan\": 3}, None, None],  # First subplot spans both columns\n",
    "           [{}, {}, {}]]  # Second and third subplots occupy the second row\n",
    ")\n",
    "fig.add_trace(go.Scatter(x=sos_30min_rnet_sel.time.values, y=sos_30min_rnet_sel.values, mode='lines', name='Net Radiation [W/m2]'))\n",
    "fig.add_trace(go.Scatter(x=sos_30min_latent_heat_sel.time.values, y=sos_30min_latent_heat_sel.values, mode='lines', name='Latent Heat Flux [W/m2]'))\n",
    "fig.add_trace(go.Scatter(x=sos_30min_sensible_heat_sel.time.values, y=sos_30min_sensible_heat_sel.values, mode='lines', name='Sensible Heat Flux [W/m2]'))\n",
    "\n",
    "# and lower left,\n",
    "fig.add_trace(go.Scatter(x=sos_30min_latent_heat_sel.values, y=sos_30min_sensible_heat_sel.values, mode='markers', showlegend=False), row=2, col=1)\n",
    "# add 1-1 line\n",
    "fig.add_trace(go.Scatter(x=[-100, 100], y=[100, -100], mode='lines', showlegend=False), row=2, col=1)\n",
    "# and lower center\n",
    "fig.add_trace(go.Scatter(x=sos_30min_latent_heat_sel.values, y=sos_30min_rnet_sel.values, mode='markers', showlegend=False), row=2, col=2)\n",
    "fig.add_trace(go.Scatter(x=[-100, 100], y=[-100, 100], mode='lines', showlegend=False), row=2, col=2)\n",
    "\n",
    "# and lower right\n",
    "fig.add_trace(go.Scatter(x=sos_30min_sensible_heat_sel.values, y=sos_30min_rnet_sel.values, mode='markers', showlegend=False), row=2, col=3)\n",
    "fig.add_trace(go.Scatter(x=[-100, 100], y=[-100, 100], mode='lines', showlegend=False), row=2, col=3)\n",
    "\n",
    "fig.update_layout(xaxis_title='Time (UTC)', yaxis_title='Energy Flux [W/m2]', width=1000, height=800)\n",
    "fig.update_yaxes(title_text='Sensible Heat Flux [W/m2]', row=2, col=1)\n",
    "fig.update_xaxes(title_text='Latent Heat Flux [W/m2]', row=2, col=1)\n",
    "fig.update_yaxes(title_text='Net Radiation [W/m2]', row=2, col=2)\n",
    "fig.update_xaxes(title_text='Latent Heat Flux [W/m2]', row=2, col=2)\n",
    "fig.update_yaxes(title_text='Net Radiation [W/m2]', row=2, col=3)\n",
    "fig.update_xaxes(title_text='Sensible Heat Flux [W/m2]', row=2, col=3)\n",
    "# create a tight layout\n",
    "fig.update_layout(margin=dict(l=20, r=20, t=50, b=20))\n",
    "# move y axis labels to the right for all\n",
    "fig.update_yaxes(title_standoff=0)\n",
    "# move the legend to the top center\n",
    "fig.update_layout(legend=dict(\n",
    "    orientation=\"h\",\n",
    "    yanchor=\"bottom\",\n",
    "    y=1.02,\n",
    "    xanchor=\"center\",\n",
    "    x=0.5\n",
    "))\n",
    "\n"
   ]
  },
  {
   "cell_type": "code",
   "execution_count": null,
   "metadata": {},
   "outputs": [],
   "source": []
  },
  {
   "cell_type": "code",
   "execution_count": null,
   "metadata": {},
   "outputs": [],
   "source": []
  }
 ],
 "metadata": {
  "kernelspec": {
   "display_name": "sublime_synoptics",
   "language": "python",
   "name": "python3"
  },
  "language_info": {
   "codemirror_mode": {
    "name": "ipython",
    "version": 3
   },
   "file_extension": ".py",
   "mimetype": "text/x-python",
   "name": "python",
   "nbconvert_exporter": "python",
   "pygments_lexer": "ipython3",
   "version": "3.11.6"
  }
 },
 "nbformat": 4,
 "nbformat_minor": 2
}
