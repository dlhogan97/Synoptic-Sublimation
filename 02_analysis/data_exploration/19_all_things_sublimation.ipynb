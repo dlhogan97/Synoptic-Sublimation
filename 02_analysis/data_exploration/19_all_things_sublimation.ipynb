{
 "cells": [
  {
   "cell_type": "markdown",
   "metadata": {},
   "source": [
    "# ALl things sublimation\n",
    "### Author: Daniel Hogan\n",
    "### 9/23/2024\n",
    "\n",
    "This notebook will try to work through building relationships and a relatively continuous time series between different sublimation observations at differente locaitons and times throughout the East River Valley during the sublimation of snow campaign alongside SAIL and SPLASH"
   ]
  },
  {
   "cell_type": "code",
   "execution_count": 1,
   "metadata": {},
   "outputs": [
    {
     "name": "stdout",
     "output_type": "stream",
     "text": [
      "nctoolkit is using Climate Data Operators version 2.3.0\n"
     ]
    },
    {
     "data": {
      "text/html": [
       "        <script type=\"text/javascript\">\n",
       "        window.PlotlyConfig = {MathJaxConfig: 'local'};\n",
       "        if (window.MathJax && window.MathJax.Hub && window.MathJax.Hub.Config) {window.MathJax.Hub.Config({SVG: {font: \"STIX-Web\"}});}\n",
       "        if (typeof require !== 'undefined') {\n",
       "        require.undef(\"plotly\");\n",
       "        requirejs.config({\n",
       "            paths: {\n",
       "                'plotly': ['https://cdn.plot.ly/plotly-2.27.0.min']\n",
       "            }\n",
       "        });\n",
       "        require(['plotly'], function(Plotly) {\n",
       "            window._Plotly = Plotly;\n",
       "        });\n",
       "        }\n",
       "        </script>\n",
       "        "
      ]
     },
     "metadata": {},
     "output_type": "display_data"
    },
    {
     "data": {
      "text/html": [
       "        <script type=\"text/javascript\">\n",
       "        window.PlotlyConfig = {MathJaxConfig: 'local'};\n",
       "        if (window.MathJax && window.MathJax.Hub && window.MathJax.Hub.Config) {window.MathJax.Hub.Config({SVG: {font: \"STIX-Web\"}});}\n",
       "        if (typeof require !== 'undefined') {\n",
       "        require.undef(\"plotly\");\n",
       "        requirejs.config({\n",
       "            paths: {\n",
       "                'plotly': ['https://cdn.plot.ly/plotly-2.27.0.min']\n",
       "            }\n",
       "        });\n",
       "        require(['plotly'], function(Plotly) {\n",
       "            window._Plotly = Plotly;\n",
       "        });\n",
       "        }\n",
       "        </script>\n",
       "        "
      ]
     },
     "metadata": {},
     "output_type": "display_data"
    }
   ],
   "source": [
    "# general\n",
    "import os\n",
    "import glob\n",
    "import datetime as dt\n",
    "import json\n",
    "import time\n",
    "# data \n",
    "import xarray as xr \n",
    "from sublimpy import utils, variables, tidy, turbulence\n",
    "import numpy as np\n",
    "import pandas as pd\n",
    "from act import discovery, plotting\n",
    "# plotting\n",
    "import matplotlib.pyplot as plt\n",
    "from metpy.cbook import get_test_data\n",
    "from metpy.plots import add_metpy_logo, SkewT\n",
    "import plotly.express as px \n",
    "import plotly.graph_objects as go\n",
    "from plotly.subplots import make_subplots\n",
    "import cufflinks as cf\n",
    "from plotly.offline import download_plotlyjs, init_notebook_mode, plot, iplot\n",
    "import plotly.io as pio\n",
    "# helper tools\n",
    "from scripts.get_sail_data import get_sail_data\n",
    "from scripts.helper_funcs import create_windrose_df, mean_sounding, simple_sounding\n",
    "import scripts.helper_funcs as hf\n",
    "from metpy import calc, units\n",
    "# make plotly work \n",
    "init_notebook_mode(connected=True)\n",
    "cf.go_offline()"
   ]
  },
  {
   "cell_type": "markdown",
   "metadata": {},
   "source": [
    "### Open our SOS data"
   ]
  },
  {
   "cell_type": "code",
   "execution_count": 93,
   "metadata": {},
   "outputs": [],
   "source": [
    "sos_1hr = xr.open_dataset('../../01_data/processed_data/sos_ds_1H_storage.nc')\n",
    "sos_5min = xr.open_dataset('../../01_data/processed_data/sos_ds_5min_storage.nc')\n"
   ]
  },
  {
   "cell_type": "markdown",
   "metadata": {},
   "source": [
    "### Open SAIL data "
   ]
  },
  {
   "cell_type": "code",
   "execution_count": 85,
   "metadata": {},
   "outputs": [
    {
     "name": "stdout",
     "output_type": "stream",
     "text": [
      "wy_22_sail_kp_qc\n",
      "2021-10-14T21:00:00.000000000 2022-09-30T23:30:00.000000000\n",
      "wy_23_sail_kp_qc\n",
      "2022-10-01T00:00:00.000000000 2023-06-16T14:30:00.000000000\n"
     ]
    }
   ],
   "source": [
    "# water year 2022\n",
    "wy_22_sail_kp_qc = xr.open_dataset('/storage/dlhogan/synoptic_sublimation/sail_data/winter_21_22/eddy_covariance_kettle_ponds_20211001_20220930.nc')\n",
    "wy_22_sail_kp_no_qc = xr.open_dataset('/storage/dlhogan/synoptic_sublimation/sail_data/winter_21_22/eddy_covariance_kettle_ponds_noqc_20211001_20220930.nc')\n",
    "\n",
    "# water year 2023\n",
    "wy_23_sail_kp_qc = xr.open_dataset('/storage/dlhogan/synoptic_sublimation/sail_data/winter_22_23/eddy_covariance_kettle_ponds_20221001_20230930.nc')\n",
    "wy_23_sail_kp_no_qc = xr.open_dataset('/storage/dlhogan/synoptic_sublimation/sail_data/winter_22_23/eddy_covariance_kettle_ponds_noqc_20221001_20230930.nc')\n",
    "\n",
    "# print the start and end times of each dataset\n",
    "print('wy_22_sail_kp_qc')\n",
    "print(wy_22_sail_kp_qc.time.min().values, wy_22_sail_kp_qc.time.max().values)\n",
    "print('wy_23_sail_kp_qc')\n",
    "print(wy_23_sail_kp_qc.time.min().values, wy_23_sail_kp_qc.time.max().values)"
   ]
  },
  {
   "cell_type": "markdown",
   "metadata": {},
   "source": [
    "### Open SPLASH data "
   ]
  },
  {
   "cell_type": "code",
   "execution_count": 86,
   "metadata": {},
   "outputs": [
    {
     "name": "stdout",
     "output_type": "stream",
     "text": [
      "splash_ap\n",
      "2021-10-12T00:00:00.000000000 2023-06-21T23:50:00.000000000\n",
      "splash_kp\n",
      "2021-09-28T00:00:00.000000000 2023-07-19T23:50:00.000000000\n"
     ]
    }
   ],
   "source": [
    "splash_ap = xr.open_dataset('../../01_data/raw_data/splash_ASFS_AP_all_storage.nc')\n",
    "splash_kp = xr.open_dataset('../../01_data/raw_data/splash_ASFS_KP_all_storage.nc')\n",
    "\n",
    "# print the start and end times of each dataset\n",
    "print('splash_ap')\n",
    "print(splash_ap.time.min().values, splash_ap.time.max().values)\n",
    "print('splash_kp')\n",
    "print(splash_kp.time.min().values, splash_kp.time.max().values)"
   ]
  },
  {
   "cell_type": "markdown",
   "metadata": {},
   "source": [
    "### Limit to winter time for each water year"
   ]
  },
  {
   "cell_type": "code",
   "execution_count": 94,
   "metadata": {},
   "outputs": [],
   "source": [
    "# time period of interest\n",
    "start_22 = '2021-12-01'\n",
    "end_22 = '2022-04-01'\n",
    "start_23 = '2022-12-01'\n",
    "end_23 = '2023-04-01'\n",
    "\n",
    "# filter the data\n",
    "# Winter 2022\n",
    "w22_sail_kp_qc = wy_22_sail_kp_qc.sel(time=slice(start_22, end_22))\n",
    "w22_sail_kp_no_qc = wy_22_sail_kp_no_qc.sel(time=slice(start_22, end_22))\n",
    "w22_splash_ap = splash_ap.sel(time=slice(start_22, end_22))\n",
    "w22_splash_kp = splash_kp.sel(time=slice(start_22, end_22))\n",
    "\n",
    "# Winter 2023\n",
    "w23_sail_kp_qc = wy_23_sail_kp_qc.sel(time=slice(start_23, end_23))\n",
    "w23_sail_kp_no_qc = wy_23_sail_kp_no_qc.sel(time=slice(start_23, end_23))\n",
    "w23_splash_ap = splash_ap.sel(time=slice(start_23, end_23))\n",
    "w23_splash_kp = splash_kp.sel(time=slice(start_23, end_23))\n",
    "w23_sos_1hr = sos_1hr.sel(time=slice(start_23, end_23))\n",
    "w23_sos_5min = sos_5min.sel(time=slice(start_23, end_23))"
   ]
  },
  {
   "cell_type": "markdown",
   "metadata": {},
   "source": [
    "### Let's check a few things\n",
    "- consistent values\n",
    "- consistent time-steps\n",
    "- consistent units"
   ]
  },
  {
   "cell_type": "code",
   "execution_count": 119,
   "metadata": {},
   "outputs": [],
   "source": [
    "# create an empty dataframe to store the results\n",
    "results = pd.DataFrame(columns=['dataset', 'variable', 'mean', 'std', 'min', 'max', 'Valid %'])\n"
   ]
  },
  {
   "cell_type": "code",
   "execution_count": 120,
   "metadata": {},
   "outputs": [
    {
     "name": "stdout",
     "output_type": "stream",
     "text": [
      "SAIL KP QC Data - 2022\n",
      "W/m^2\n",
      "Sensor Height: 3 m AGL\n",
      "30.0 minutes\n",
      "Max: 135.380615234375\n",
      "Min: -103.9486312866211\n",
      "Mean: 5.323911666870117\n",
      "Percent of data that is not NAN: 55.0%\n"
     ]
    }
   ],
   "source": [
    "print(\"SAIL KP QC Data - 2022\")\n",
    "# we'll start with checking the SAIL data\n",
    "print(w22_sail_kp_qc['latent_heat_flux'].units)\n",
    "print(f\"Sensor Height: {w22_sail_kp_no_qc.attrs['sensor_height']}\")\n",
    "print(f\"{w22_sail_kp_qc['time'].diff('time').median().values / np.timedelta64(1, 's') / 60} minutes\")\n",
    "# print the max, min, and mean values of the latent heat flux\n",
    "print(f\"Max: {w22_sail_kp_qc['latent_heat_flux'].max().values}\")\n",
    "print(f\"Min: {w22_sail_kp_qc['latent_heat_flux'].min().values}\")\n",
    "print(f\"Mean: {w22_sail_kp_qc['latent_heat_flux'].mean().values}\")\n",
    "# print the percent of data that is not NAN\n",
    "print(f\"Percent of data that is not NAN: {(w22_sail_kp_qc['latent_heat_flux'].count().values / w22_sail_kp_qc['latent_heat_flux'].size * 100).round(0)}%\")\n",
    "# add the results to the dataframe\n",
    "results.loc[0] = ['SAIL KP QC Data - 2022', 'latent_heat_flux', \n",
    "                   w22_sail_kp_qc['latent_heat_flux'].mean().values, \n",
    "                   w22_sail_kp_qc['latent_heat_flux'].std().values, \n",
    "                   w22_sail_kp_qc['latent_heat_flux'].min().values, \n",
    "                   w22_sail_kp_qc['latent_heat_flux'].max().values, \n",
    "                   (w22_sail_kp_qc['latent_heat_flux'].count().values / w22_sail_kp_qc['latent_heat_flux'].size * 100).round(0)]\n"
   ]
  },
  {
   "cell_type": "code",
   "execution_count": 121,
   "metadata": {},
   "outputs": [
    {
     "name": "stdout",
     "output_type": "stream",
     "text": [
      "SAIL KP Raw Data - 2022\n",
      "W/m^2\n",
      "Sensor Height: 3 m AGL\n",
      "30.0 minutes\n",
      "Max: 244.0\n",
      "Min: -149.1999969482422\n",
      "Mean: 5.021153450012207\n",
      "Percent of data that is not NAN: 58.0%\n"
     ]
    }
   ],
   "source": [
    "print(\"SAIL KP Raw Data - 2022\")\n",
    "# we'll start with checking the SAIL data\n",
    "print(w22_sail_kp_no_qc['lv_e'].units)\n",
    "print(f\"Sensor Height: {w22_sail_kp_no_qc.attrs['sensor_height']}\")\n",
    "print(f\"{w22_sail_kp_no_qc['time'].diff('time').median().values / np.timedelta64(1, 's') / 60} minutes\")\n",
    "# print the max, min, and mean values of the latent heat flux\n",
    "print(f\"Max: {w22_sail_kp_no_qc['lv_e'].max().values}\")\n",
    "print(f\"Min: {w22_sail_kp_no_qc['lv_e'].min().values}\")\n",
    "print(f\"Mean: {w22_sail_kp_no_qc['lv_e'].mean().values}\")\n",
    "# print the percent of data that is not NAN\n",
    "print(f\"Percent of data that is not NAN: {(w22_sail_kp_no_qc['lv_e'].count().values / w22_sail_kp_no_qc['lv_e'].size * 100).round(0)}%\")\n",
    "# add the results to the dataframe\n",
    "results.loc[1] = ['SAIL KP Raw Data - 2022', 'lv_e', \n",
    "                   w22_sail_kp_no_qc['lv_e'].mean().values, \n",
    "                   w22_sail_kp_no_qc['lv_e'].std().values, \n",
    "                   w22_sail_kp_no_qc['lv_e'].min().values, \n",
    "                   w22_sail_kp_no_qc['lv_e'].max().values, \n",
    "                   (w22_sail_kp_no_qc['lv_e'].count().values / w22_sail_kp_no_qc['lv_e'].size * 100).round(0)]"
   ]
  },
  {
   "cell_type": "code",
   "execution_count": 122,
   "metadata": {},
   "outputs": [
    {
     "name": "stdout",
     "output_type": "stream",
     "text": [
      "SAIL KP QC Data - 2023\n",
      "W/m^2\n",
      "Sensor Height: 3 m AGL\n",
      "30.0 minutes\n",
      "Max: 506.8079833984375\n",
      "Min: -151.21078491210938\n",
      "Mean: 10.031121253967285\n",
      "Percent of data that is not NAN: 77.0%\n"
     ]
    }
   ],
   "source": [
    "print(\"SAIL KP QC Data - 2023\")\n",
    "# we'll start with checking the SAIL data\n",
    "print(w23_sail_kp_qc['latent_heat_flux'].units)\n",
    "print(f\"Sensor Height: {w23_sail_kp_no_qc.attrs['sensor_height']}\")\n",
    "print(f\"{w23_sail_kp_qc['time'].diff('time').median().values / np.timedelta64(1, 's') / 60} minutes\")\n",
    "# print the max, min, and mean values of the latent heat flux\n",
    "print(f\"Max: {w23_sail_kp_qc['latent_heat_flux'].max().values}\")\n",
    "print(f\"Min: {w23_sail_kp_qc['latent_heat_flux'].min().values}\")\n",
    "print(f\"Mean: {w23_sail_kp_qc['latent_heat_flux'].mean().values}\")\n",
    "# print the percent of data that is not NAN\n",
    "print(f\"Percent of data that is not NAN: {(w23_sail_kp_qc['latent_heat_flux'].count().values / w23_sail_kp_qc['latent_heat_flux'].size * 100).round(0)}%\")\n",
    "# add the results to the dataframe\n",
    "results.loc[2] = ['SAIL KP QC Data - 2023', 'latent_heat_flux', \n",
    "                   w23_sail_kp_qc['latent_heat_flux'].mean().values, \n",
    "                   w23_sail_kp_qc['latent_heat_flux'].std().values, \n",
    "                   w23_sail_kp_qc['latent_heat_flux'].min().values, \n",
    "                   w23_sail_kp_qc['latent_heat_flux'].max().values, \n",
    "                   (w23_sail_kp_qc['latent_heat_flux'].count().values / w23_sail_kp_qc['latent_heat_flux'].size * 100).round(0)]"
   ]
  },
  {
   "cell_type": "code",
   "execution_count": 123,
   "metadata": {},
   "outputs": [
    {
     "name": "stdout",
     "output_type": "stream",
     "text": [
      "SAIL KP Raw Data - 2023\n",
      "W/m^2\n",
      "Sensor Height: 3 m AGL\n",
      "30.0 minutes\n",
      "Max: 532.0999755859375\n",
      "Min: -270.1000061035156\n",
      "Mean: 7.726357936859131\n",
      "Percent of data that is not NAN: 85.0%\n"
     ]
    }
   ],
   "source": [
    "print(\"SAIL KP Raw Data - 2023\")\n",
    "# we'll start with checking the SAIL data\n",
    "print(w23_sail_kp_no_qc['lv_e'].units)\n",
    "print(f\"Sensor Height: {w23_sail_kp_no_qc.attrs['sensor_height']}\")\n",
    "print(f\"{w23_sail_kp_no_qc['time'].diff('time').median().values / np.timedelta64(1, 's') / 60} minutes\")\n",
    "# print the max, min, and mean values of the latent heat flux\n",
    "print(f\"Max: {w23_sail_kp_no_qc['lv_e'].max().values}\")\n",
    "print(f\"Min: {w23_sail_kp_no_qc['lv_e'].min().values}\")\n",
    "print(f\"Mean: {w23_sail_kp_no_qc['lv_e'].mean().values}\")\n",
    "# print the percent of data that is not NAN\n",
    "print(f\"Percent of data that is not NAN: {(w23_sail_kp_no_qc['lv_e'].count().values / w23_sail_kp_no_qc['lv_e'].size * 100).round(0)}%\")\n",
    "# add the results to the dataframe\n",
    "results.loc[3] = ['SAIL KP Raw Data - 2023', 'lv_e', \n",
    "                   w23_sail_kp_no_qc['lv_e'].mean().values, \n",
    "                   w23_sail_kp_no_qc['lv_e'].std().values, \n",
    "                   w23_sail_kp_no_qc['lv_e'].min().values, \n",
    "                   w23_sail_kp_no_qc['lv_e'].max().values, \n",
    "                   (w23_sail_kp_no_qc['lv_e'].count().values / w23_sail_kp_no_qc['lv_e'].size * 100).round(0)]"
   ]
  },
  {
   "cell_type": "code",
   "execution_count": null,
   "metadata": {},
   "outputs": [],
   "source": []
  },
  {
   "cell_type": "code",
   "execution_count": 124,
   "metadata": {},
   "outputs": [
    {
     "name": "stdout",
     "output_type": "stream",
     "text": [
      "SPLASH AP Data - 2022\n",
      "W/m2\n",
      "4.62 m\n",
      "10.0 minutes\n",
      "Max: 124.64649414432603\n",
      "Min: -108.92249619810212\n",
      "Mean: 6.026119961920328\n",
      "Percent of data that is not NAN: 76.0%\n"
     ]
    }
   ],
   "source": [
    "print(\"SPLASH AP Data - 2022\")\n",
    "# we'll start with checking the SAIL data\n",
    "print(w22_splash_ap['Hl'].units)\n",
    "print(w23_splash_ap['Hl'].height)\n",
    "print(f\"{w22_splash_ap['time'].diff('time').median().values / np.timedelta64(1, 's') / 60} minutes\")\n",
    "# print the max, min, and mean values of the latent heat flux\n",
    "print(f\"Max: {w22_splash_ap['Hl'].max().values}\")\n",
    "print(f\"Min: {w22_splash_ap['Hl'].min().values}\")\n",
    "print(f\"Mean: {w22_splash_ap['Hl'].mean().values}\")\n",
    "# print the percent of data that is not NAN\n",
    "print(f\"Percent of data that is not NAN: {(w22_splash_ap['Hl'].count().values / w22_splash_ap['Hl'].size * 100).round(0)}%\")\n",
    "# add the results to the dataframe\n",
    "results.loc[4] = ['SPLASH AP Data - 2022', 'Hl', \n",
    "                   w22_splash_ap['Hl'].mean().values, \n",
    "                   w22_splash_ap['Hl'].std().values, \n",
    "                   w22_splash_ap['Hl'].min().values, \n",
    "                   w22_splash_ap['Hl'].max().values, \n",
    "                   (w22_splash_ap['Hl'].count().values / w22_splash_ap['Hl'].size * 100).round(0)]"
   ]
  },
  {
   "cell_type": "code",
   "execution_count": 125,
   "metadata": {},
   "outputs": [
    {
     "name": "stdout",
     "output_type": "stream",
     "text": [
      "SPLASH KP Data - 2022\n",
      "W/m2\n",
      "4.62 m\n",
      "10.0 minutes\n",
      "Max: 259.28858793118894\n",
      "Min: -194.92358117023784\n",
      "Mean: 4.91600556694804\n",
      "Percent of data that is not NAN: 84.0%\n"
     ]
    }
   ],
   "source": [
    "print(\"SPLASH KP Data - 2022\")\n",
    "# we'll start with checking the SAIL data\n",
    "print(w22_splash_kp['Hl'].units)\n",
    "print(w22_splash_kp['Hl'].height)\n",
    "print(f\"{w22_splash_kp['time'].diff('time').median().values / np.timedelta64(1, 's') / 60} minutes\")\n",
    "# print the max, min, and mean values of the latent heat flux\n",
    "print(f\"Max: {w22_splash_kp['Hl'].max().values}\")\n",
    "print(f\"Min: {w22_splash_kp['Hl'].min().values}\")\n",
    "print(f\"Mean: {w22_splash_kp['Hl'].mean().values}\")\n",
    "# print the percent of data that is not NAN\n",
    "print(f\"Percent of data that is not NAN: {(w22_splash_kp['Hl'].count().values / w22_splash_kp['Hl'].size * 100).round(0)}%\")\n",
    "# add the results to the dataframe\n",
    "results.loc[5] = ['SPLASH KP Data - 2022', 'Hl', \n",
    "                   w22_splash_kp['Hl'].mean().values, \n",
    "                   w22_splash_kp['Hl'].std().values, \n",
    "                   w22_splash_kp['Hl'].min().values, \n",
    "                   w22_splash_kp['Hl'].max().values, \n",
    "                   (w22_splash_kp['Hl'].count().values / w22_splash_kp['Hl'].size * 100).round(0)]"
   ]
  },
  {
   "cell_type": "code",
   "execution_count": 126,
   "metadata": {},
   "outputs": [
    {
     "name": "stdout",
     "output_type": "stream",
     "text": [
      "SPLASH AP Data - 2023\n",
      "W/m2\n",
      "4.62 m\n",
      "10.0 minutes\n",
      "Max: 154.4309717713504\n",
      "Min: -74.94708843206352\n",
      "Mean: 5.640879060388656\n",
      "Percent of data that is not NAN: 33.0%\n"
     ]
    }
   ],
   "source": [
    "print(\"SPLASH AP Data - 2023\")\n",
    "# we'll start with checking the SAIL data\n",
    "print(w23_splash_ap['Hl'].units)\n",
    "print(w23_splash_ap['Hl'].height)\n",
    "print(f\"{w23_splash_ap['time'].diff('time').median().values / np.timedelta64(1, 's') / 60} minutes\")\n",
    "# print the max, min, and mean values of the latent heat flux\n",
    "print(f\"Max: {w23_splash_ap['Hl'].max().values}\")\n",
    "print(f\"Min: {w23_splash_ap['Hl'].min().values}\")\n",
    "print(f\"Mean: {w23_splash_ap['Hl'].mean().values}\")\n",
    "# print the percent of data that is not NAN\n",
    "print(f\"Percent of data that is not NAN: {(w23_splash_ap['Hl'].count().values / w23_splash_ap['Hl'].size * 100).round(0)}%\")\n",
    "# add the results to the dataframe\n",
    "results.loc[6] = ['SPLASH AP Data - 2023', 'Hl', \n",
    "                   w23_splash_ap['Hl'].mean().values, \n",
    "                   w23_splash_ap['Hl'].std().values, \n",
    "                   w23_splash_ap['Hl'].min().values, \n",
    "                   w23_splash_ap['Hl'].max().values, \n",
    "                   (w23_splash_ap['Hl'].count().values / w23_splash_ap['Hl'].size * 100).round(0)]"
   ]
  },
  {
   "cell_type": "code",
   "execution_count": 127,
   "metadata": {},
   "outputs": [
    {
     "name": "stdout",
     "output_type": "stream",
     "text": [
      "SPLASH KP Data - 2023\n",
      "W/m2\n",
      "4.62 m\n",
      "10.0 minutes\n",
      "Max: nan\n",
      "Min: nan\n",
      "Mean: nan\n",
      "Percent of data that is not NAN: 0.0%\n"
     ]
    },
    {
     "name": "stderr",
     "output_type": "stream",
     "text": [
      "Degrees of freedom <= 0 for slice.\n"
     ]
    }
   ],
   "source": [
    "print(\"SPLASH KP Data - 2023\")\n",
    "# we'll start with checking the SAIL data\n",
    "print(w23_splash_kp['Hl'].units)\n",
    "print(w23_splash_kp['Hl'].height)\n",
    "print(f\"{w23_splash_kp['time'].diff('time').median().values / np.timedelta64(1, 's') / 60} minutes\")\n",
    "# print the max, min, and mean values of the latent heat flux\n",
    "print(f\"Max: {w23_splash_kp['Hl'].max().values}\")\n",
    "print(f\"Min: {w23_splash_kp['Hl'].min().values}\")\n",
    "print(f\"Mean: {w23_splash_kp['Hl'].mean().values}\")\n",
    "# print the percent of data that is not NAN\n",
    "print(f\"Percent of data that is not NAN: {(w23_splash_kp['Hl'].count().values / w23_splash_kp['Hl'].size * 100).round(0)}%\")\n",
    "# add the results to the dataframe\n",
    "results.loc[7] = ['SPLASH KP Data - 2023', 'Hl', \n",
    "                   w23_splash_kp['Hl'].mean().values, \n",
    "                   w23_splash_kp['Hl'].std().values, \n",
    "                   w23_splash_kp['Hl'].min().values, \n",
    "                   w23_splash_kp['Hl'].max().values, \n",
    "                   (w23_splash_kp['Hl'].count().values / w23_splash_kp['Hl'].size * 100).round(0)]"
   ]
  },
  {
   "cell_type": "code",
   "execution_count": 163,
   "metadata": {},
   "outputs": [
    {
     "name": "stdout",
     "output_type": "stream",
     "text": [
      "SOS Data - 2023\n",
      "m/s g/m^3\n",
      "5.0 minutes\n",
      "Max: 0.12049627304077148\n",
      "Min: -0.09110678732395172\n",
      "Mean: 0.0018694115760923313\n",
      "Percent of data that is not NAN: 93.0%\n"
     ]
    }
   ],
   "source": [
    "print(\"SOS Data - 2023\")\n",
    "# we'll start with checking the SAIL data\n",
    "w23_sos_5min_3m = w23_sos_5min[[var for var in hf.TURBULENCE_VARIABLES if 'w_h2o__3m' in var]].to_dataframe().mean(axis=1)\n",
    "w23_sos_5min_5m = w23_sos_5min[[var for var in hf.TURBULENCE_VARIABLES if 'w_h2o__5m' in var]].to_dataframe().mean(axis=1)\n",
    "w23_sos_5min_10m = w23_sos_5min[[var for var in hf.TURBULENCE_VARIABLES if 'w_h2o__10m' in var]].to_dataframe().mean(axis=1)\n",
    "\n",
    "print(w23_sos_5min['w_h2o__3m_c'].units)\n",
    "print(f\"{w23_sos_5min['time'].diff('time').median().values / np.timedelta64(1, 's') / 60} minutes\")\n",
    "# print the max, min, and mean values of the latent heat flux\n",
    "print(f\"Max: {w23_sos_5min_3m.max()}\")\n",
    "print(f\"Min: {w23_sos_5min_3m.min()}\")\n",
    "print(f\"Mean: {w23_sos_5min_3m.mean()}\")\n",
    "# print the percent of data that is not NAN\n",
    "print(f\"Percent of data that is not NAN: {(w23_sos_5min_3m.count() / w23_sos_5min_3m.size * 100).round(0)}%\")\n",
    "# add the results to the dataframe\n",
    "results.loc[8] = ['SOS Data - 2023', 'w_h2o__3m', \n",
    "                   w23_sos_5min_3m.mean()*(2509+333), \n",
    "                   w23_sos_5min_3m.std()*(2509+333), \n",
    "                   w23_sos_5min_3m.min()*(2509+333), \n",
    "                   w23_sos_5min_3m.max()*(2509+333), \n",
    "                   (w23_sos_5min_3m.count() / w23_sos_5min_3m.size * 100).round(0)]"
   ]
  },
  {
   "cell_type": "code",
   "execution_count": 164,
   "metadata": {},
   "outputs": [
    {
     "name": "stdout",
     "output_type": "stream",
     "text": [
      "m/s g/m^3\n",
      "5.0 minutes\n",
      "Max: 0.10055775940418243\n",
      "Min: -0.07827582955360413\n",
      "Mean: 0.001961611747019509\n",
      "Percent of data that is not NAN: 96.0%\n"
     ]
    }
   ],
   "source": [
    "print(w23_sos_5min['w_h2o__5m_c'].units)\n",
    "print(f\"{w23_sos_5min['time'].diff('time').median().values / np.timedelta64(1, 's') / 60} minutes\")\n",
    "# print the max, min, and mean values of the latent heat flux\n",
    "print(f\"Max: {w23_sos_5min_5m.max()}\")\n",
    "print(f\"Min: {w23_sos_5min_5m.min()}\")\n",
    "print(f\"Mean: {w23_sos_5min_5m.mean()}\")\n",
    "# print the percent of data that is not NAN\n",
    "print(f\"Percent of data that is not NAN: {(w23_sos_5min_5m.count() / w23_sos_5min_5m.size * 100).round(0)}%\")\n",
    "# add the results to the dataframe\n",
    "results.loc[9] = ['SOS Data - 2023', 'w_h2o__5m', \n",
    "                   w23_sos_5min_5m.mean()*(2509+333), \n",
    "                   w23_sos_5min_5m.std()*(2509+333), \n",
    "                   w23_sos_5min_5m.min()*(2509+333), \n",
    "                   w23_sos_5min_5m.max()*(2509+333), \n",
    "                   (w23_sos_5min_5m.count() / w23_sos_5min_5m.size * 100).round(0)]"
   ]
  },
  {
   "cell_type": "code",
   "execution_count": 165,
   "metadata": {},
   "outputs": [
    {
     "name": "stdout",
     "output_type": "stream",
     "text": [
      "m/s g/m^3\n",
      "5.0 minutes\n",
      "Max: 0.13156071305274963\n",
      "Min: -0.10629261285066605\n",
      "Mean: 0.001976939450693535\n",
      "Percent of data that is not NAN: 94.0%\n"
     ]
    }
   ],
   "source": [
    "print(w23_sos_5min['w_h2o__10m_c'].units)\n",
    "print(f\"{w23_sos_5min['time'].diff('time').median().values / np.timedelta64(1, 's') / 60} minutes\")\n",
    "# print the max, min, and mean values of the latent heat flux\n",
    "print(f\"Max: {w23_sos_5min_10m.max()}\")\n",
    "print(f\"Min: {w23_sos_5min_10m.min()}\")\n",
    "print(f\"Mean: {w23_sos_5min_10m.mean()}\")\n",
    "# print the percent of data that is not NAN\n",
    "print(f\"Percent of data that is not NAN: {(w23_sos_5min_10m.count() / w23_sos_5min_10m.size * 100).round(0)}%\")\n",
    "# add the results to the dataframe\n",
    "results.loc[10] = ['SOS Data - 2023', 'w_h2o__10m', \n",
    "                   w23_sos_5min_10m.mean()*2835, \n",
    "                   w23_sos_5min_10m.std()*2835, \n",
    "                   w23_sos_5min_10m.min()*2835, \n",
    "                   w23_sos_5min_10m.max()*2835, \n",
    "                   (w23_sos_5min_10m.count() / w23_sos_5min_10m.size * 100).round(0)]"
   ]
  },
  {
   "cell_type": "code",
   "execution_count": 166,
   "metadata": {},
   "outputs": [
    {
     "data": {
      "text/html": [
       "<div>\n",
       "<style scoped>\n",
       "    .dataframe tbody tr th:only-of-type {\n",
       "        vertical-align: middle;\n",
       "    }\n",
       "\n",
       "    .dataframe tbody tr th {\n",
       "        vertical-align: top;\n",
       "    }\n",
       "\n",
       "    .dataframe thead th {\n",
       "        text-align: right;\n",
       "    }\n",
       "</style>\n",
       "<table border=\"1\" class=\"dataframe\">\n",
       "  <thead>\n",
       "    <tr style=\"text-align: right;\">\n",
       "      <th></th>\n",
       "      <th>dataset</th>\n",
       "      <th>variable</th>\n",
       "      <th>mean</th>\n",
       "      <th>std</th>\n",
       "      <th>min</th>\n",
       "      <th>max</th>\n",
       "      <th>Valid %</th>\n",
       "    </tr>\n",
       "  </thead>\n",
       "  <tbody>\n",
       "    <tr>\n",
       "      <th>0</th>\n",
       "      <td>SAIL KP QC Data - 2022</td>\n",
       "      <td>latent_heat_flux</td>\n",
       "      <td>5.3239117</td>\n",
       "      <td>17.774063</td>\n",
       "      <td>-103.94863</td>\n",
       "      <td>135.38062</td>\n",
       "      <td>55.0</td>\n",
       "    </tr>\n",
       "    <tr>\n",
       "      <th>1</th>\n",
       "      <td>SAIL KP Raw Data - 2022</td>\n",
       "      <td>lv_e</td>\n",
       "      <td>5.0211535</td>\n",
       "      <td>17.462376</td>\n",
       "      <td>-149.2</td>\n",
       "      <td>244.0</td>\n",
       "      <td>58.0</td>\n",
       "    </tr>\n",
       "    <tr>\n",
       "      <th>2</th>\n",
       "      <td>SAIL KP QC Data - 2023</td>\n",
       "      <td>latent_heat_flux</td>\n",
       "      <td>10.031121</td>\n",
       "      <td>26.791023</td>\n",
       "      <td>-151.21078</td>\n",
       "      <td>506.80798</td>\n",
       "      <td>77.0</td>\n",
       "    </tr>\n",
       "    <tr>\n",
       "      <th>3</th>\n",
       "      <td>SAIL KP Raw Data - 2023</td>\n",
       "      <td>lv_e</td>\n",
       "      <td>7.726358</td>\n",
       "      <td>24.784393</td>\n",
       "      <td>-270.1</td>\n",
       "      <td>532.1</td>\n",
       "      <td>85.0</td>\n",
       "    </tr>\n",
       "    <tr>\n",
       "      <th>4</th>\n",
       "      <td>SPLASH AP Data - 2022</td>\n",
       "      <td>Hl</td>\n",
       "      <td>6.026119961920328</td>\n",
       "      <td>12.376787453863747</td>\n",
       "      <td>-108.92249619810212</td>\n",
       "      <td>124.64649414432603</td>\n",
       "      <td>76.0</td>\n",
       "    </tr>\n",
       "    <tr>\n",
       "      <th>5</th>\n",
       "      <td>SPLASH KP Data - 2022</td>\n",
       "      <td>Hl</td>\n",
       "      <td>4.91600556694804</td>\n",
       "      <td>16.693744031344185</td>\n",
       "      <td>-194.92358117023784</td>\n",
       "      <td>259.28858793118894</td>\n",
       "      <td>84.0</td>\n",
       "    </tr>\n",
       "    <tr>\n",
       "      <th>6</th>\n",
       "      <td>SPLASH AP Data - 2023</td>\n",
       "      <td>Hl</td>\n",
       "      <td>5.640879060388656</td>\n",
       "      <td>11.730572338579414</td>\n",
       "      <td>-74.94708843206352</td>\n",
       "      <td>154.4309717713504</td>\n",
       "      <td>33.0</td>\n",
       "    </tr>\n",
       "    <tr>\n",
       "      <th>7</th>\n",
       "      <td>SPLASH KP Data - 2023</td>\n",
       "      <td>Hl</td>\n",
       "      <td>nan</td>\n",
       "      <td>nan</td>\n",
       "      <td>nan</td>\n",
       "      <td>nan</td>\n",
       "      <td>0.0</td>\n",
       "    </tr>\n",
       "    <tr>\n",
       "      <th>9</th>\n",
       "      <td>SOS Data - 2023</td>\n",
       "      <td>w_h2o__5m</td>\n",
       "      <td>5.574901</td>\n",
       "      <td>16.276926</td>\n",
       "      <td>-222.459908</td>\n",
       "      <td>285.785152</td>\n",
       "      <td>96.0</td>\n",
       "    </tr>\n",
       "    <tr>\n",
       "      <th>10</th>\n",
       "      <td>SOS Data - 2023</td>\n",
       "      <td>w_h2o__10m</td>\n",
       "      <td>5.604623</td>\n",
       "      <td>18.422123</td>\n",
       "      <td>-301.339557</td>\n",
       "      <td>372.974622</td>\n",
       "      <td>94.0</td>\n",
       "    </tr>\n",
       "    <tr>\n",
       "      <th>8</th>\n",
       "      <td>SOS Data - 2023</td>\n",
       "      <td>w_h2o__3m</td>\n",
       "      <td>5.312868</td>\n",
       "      <td>15.448008</td>\n",
       "      <td>-258.92549</td>\n",
       "      <td>342.450408</td>\n",
       "      <td>93.0</td>\n",
       "    </tr>\n",
       "  </tbody>\n",
       "</table>\n",
       "</div>"
      ],
      "text/plain": [
       "                    dataset          variable               mean  \\\n",
       "0    SAIL KP QC Data - 2022  latent_heat_flux          5.3239117   \n",
       "1   SAIL KP Raw Data - 2022              lv_e          5.0211535   \n",
       "2    SAIL KP QC Data - 2023  latent_heat_flux          10.031121   \n",
       "3   SAIL KP Raw Data - 2023              lv_e           7.726358   \n",
       "4     SPLASH AP Data - 2022                Hl  6.026119961920328   \n",
       "5     SPLASH KP Data - 2022                Hl   4.91600556694804   \n",
       "6     SPLASH AP Data - 2023                Hl  5.640879060388656   \n",
       "7     SPLASH KP Data - 2023                Hl                nan   \n",
       "9           SOS Data - 2023         w_h2o__5m           5.574901   \n",
       "10          SOS Data - 2023        w_h2o__10m           5.604623   \n",
       "8           SOS Data - 2023         w_h2o__3m           5.312868   \n",
       "\n",
       "                   std                  min                 max  Valid %  \n",
       "0            17.774063           -103.94863           135.38062     55.0  \n",
       "1            17.462376               -149.2               244.0     58.0  \n",
       "2            26.791023           -151.21078           506.80798     77.0  \n",
       "3            24.784393               -270.1               532.1     85.0  \n",
       "4   12.376787453863747  -108.92249619810212  124.64649414432603     76.0  \n",
       "5   16.693744031344185  -194.92358117023784  259.28858793118894     84.0  \n",
       "6   11.730572338579414   -74.94708843206352   154.4309717713504     33.0  \n",
       "7                  nan                  nan                 nan      0.0  \n",
       "9            16.276926          -222.459908          285.785152     96.0  \n",
       "10           18.422123          -301.339557          372.974622     94.0  \n",
       "8            15.448008           -258.92549          342.450408     93.0  "
      ]
     },
     "execution_count": 166,
     "metadata": {},
     "output_type": "execute_result"
    }
   ],
   "source": [
    "results"
   ]
  },
  {
   "cell_type": "code",
   "execution_count": null,
   "metadata": {},
   "outputs": [],
   "source": []
  },
  {
   "cell_type": "markdown",
   "metadata": {},
   "source": [
    "### Relationships between datasets\n",
    "- need to establish relationships for datasets of the same time length\n",
    "- get everything to hourly mean?\n",
    "- get everything to half hourly means?\n",
    "- need to calculate SOS 30-minute product. "
   ]
  }
 ],
 "metadata": {
  "kernelspec": {
   "display_name": "sublime_synoptics",
   "language": "python",
   "name": "python3"
  },
  "language_info": {
   "codemirror_mode": {
    "name": "ipython",
    "version": 3
   },
   "file_extension": ".py",
   "mimetype": "text/x-python",
   "name": "python",
   "nbconvert_exporter": "python",
   "pygments_lexer": "ipython3",
   "version": "3.11.6"
  }
 },
 "nbformat": 4,
 "nbformat_minor": 2
}
