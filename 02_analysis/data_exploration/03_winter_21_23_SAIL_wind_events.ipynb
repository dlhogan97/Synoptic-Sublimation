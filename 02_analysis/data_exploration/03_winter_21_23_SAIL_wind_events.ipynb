{
 "cells": [
  {
   "cell_type": "markdown",
   "metadata": {},
   "source": [
    "# Winter 2022 & 2023 Wind Events as Measured by SAIL\n",
    "\n",
    "Author: Daniel Hogan\n",
    "Created: January 17, 2024\n",
    "\n",
    "This notebook will start to address three main questions (with sub-focuses discussed below):\n",
    "1) What events had the highest percentile of wind speeds?\n",
    "2) What were the general storm characteristics? Were they related?\n",
    "3) How much sublimation over the season came from these events?"
   ]
  },
  {
   "cell_type": "markdown",
   "metadata": {},
   "source": [
    "### Imports\n"
   ]
  },
  {
   "cell_type": "code",
   "execution_count": 1,
   "metadata": {},
   "outputs": [
    {
     "name": "stdout",
     "output_type": "stream",
     "text": [
      "nctoolkit is using Climate Data Operators version 2.3.0\n"
     ]
    },
    {
     "data": {
      "text/html": [
       "        <script type=\"text/javascript\">\n",
       "        window.PlotlyConfig = {MathJaxConfig: 'local'};\n",
       "        if (window.MathJax && window.MathJax.Hub && window.MathJax.Hub.Config) {window.MathJax.Hub.Config({SVG: {font: \"STIX-Web\"}});}\n",
       "        if (typeof require !== 'undefined') {\n",
       "        require.undef(\"plotly\");\n",
       "        requirejs.config({\n",
       "            paths: {\n",
       "                'plotly': ['https://cdn.plot.ly/plotly-2.27.0.min']\n",
       "            }\n",
       "        });\n",
       "        require(['plotly'], function(Plotly) {\n",
       "            window._Plotly = Plotly;\n",
       "        });\n",
       "        }\n",
       "        </script>\n",
       "        "
      ]
     },
     "metadata": {},
     "output_type": "display_data"
    },
    {
     "data": {
      "text/html": [
       "        <script type=\"text/javascript\">\n",
       "        window.PlotlyConfig = {MathJaxConfig: 'local'};\n",
       "        if (window.MathJax && window.MathJax.Hub && window.MathJax.Hub.Config) {window.MathJax.Hub.Config({SVG: {font: \"STIX-Web\"}});}\n",
       "        if (typeof require !== 'undefined') {\n",
       "        require.undef(\"plotly\");\n",
       "        requirejs.config({\n",
       "            paths: {\n",
       "                'plotly': ['https://cdn.plot.ly/plotly-2.27.0.min']\n",
       "            }\n",
       "        });\n",
       "        require(['plotly'], function(Plotly) {\n",
       "            window._Plotly = Plotly;\n",
       "        });\n",
       "        }\n",
       "        </script>\n",
       "        "
      ]
     },
     "metadata": {},
     "output_type": "display_data"
    }
   ],
   "source": [
    "# general\n",
    "import os\n",
    "import glob\n",
    "import datetime as dt\n",
    "import json\n",
    "# data \n",
    "import xarray as xr \n",
    "from sublimpy import utils, variables, tidy, turbulence\n",
    "import numpy as np\n",
    "import pandas as pd\n",
    "from act import discovery, plotting\n",
    "# plotting\n",
    "import matplotlib.pyplot as plt\n",
    "from metpy.cbook import get_test_data\n",
    "from metpy.plots import add_metpy_logo, SkewT\n",
    "import plotly.express as px \n",
    "import plotly.graph_objects as go\n",
    "from plotly.subplots import make_subplots\n",
    "import cufflinks as cf\n",
    "from plotly.offline import download_plotlyjs, init_notebook_mode, plot, iplot\n",
    "# helper tools\n",
    "from scripts.get_sail_data import get_sail_data\n",
    "from scripts.helper_funcs import create_windrose_df, simple_sounding, mean_sounding\n",
    "import scripts.helper_funcs as hf\n",
    "from metpy import calc, units\n",
    "# make plotly work \n",
    "init_notebook_mode(connected=True)\n",
    "cf.go_offline()"
   ]
  },
  {
   "cell_type": "markdown",
   "metadata": {},
   "source": [
    "## 1. What events had the highest percentile of wind speeds?\n",
    "We will begin to address this by looking at daily average wind speeds during the SAIL campaign. I'll define winter in this case as spanning the same periods as the SOS campaign for the 2023 winter (November 29 - May 7) and the period when at least 6\" of snow were on the ground per billy barr's measurement. This is going to include a storm that brought his site up from 1\" to 6\" because I want to include that storm and see how it influenced the season (not much I imagine). So the 2022 winter spans December 6 to May 1. The end is loosly defined as when snow melt rates really start to pick up. In 2022, between April 23-May 1 we lost 41 cm of snow. A similar thing happed in 2023 between April 29 and May 7. Could be more direct with this definition, but we'll start with that. Thus, with a shorter winter, we expect less sublimation to occur in the 2022 winter.\n",
    "To \n",
    "classify the top 90th percentile of windy days during the main snow season for 2022 and 2023. This may need to be broken down further to capture wind events, but we'll start with this. We'll begin by comparing the days for 3-20 m wind speeds and compare tower-to-tower to make sure we have consistency at our location.\n",
    "\n",
    "1) We'll first make some box plots of daily average wind speeds at Gothic from SAIL, billy data, and 10m UW tower wind speed.\n",
    "2) We'll make a timeseries plot for each height bin and mark out the highest percentile of wind speeds for the year\n",
    "3) We'll then filter to the days with the highest 5% of wind speeds over each winter and see how they compare to each other.\n"
   ]
  },
  {
   "cell_type": "markdown",
   "metadata": {},
   "source": [
    "### Setup to download SAIL data"
   ]
  },
  {
   "cell_type": "code",
   "execution_count": 2,
   "metadata": {},
   "outputs": [],
   "source": [
    "# Function to load ARM credentials\n",
    "def load_arm_credentials(credential_path):\n",
    "    with open(credential_path, 'r') as f:\n",
    "        credentials = json.load(f)\n",
    "    return credentials\n",
    "# Location of ARM credentials\n",
    "credential_path = '/home/dlhogan/.act_config.json'\n",
    "credentials = load_arm_credentials(credential_path)\n",
    "# api token and username for ARM\n",
    "api_username = credentials.get('username')\n",
    "api_token = credentials.get('token')\n",
    "\n",
    "sail_datastream_dict = {\n",
    "    # \"radiosonde\":\"gucsondewnpnM1.b1\",\n",
    "    \"met\":\"gucmetM1.b1\",\n",
    "    \"eddy_covariance_kettle_ponds\":\"guc30qcecorS3.s1\",\n",
    "    # \"wind_profiler\":\"guc915rwpwindconM1.a1\",\n",
    "    # \"doppler_lidar\":\"gucdlprofwind4newsM1.c1\",\n",
    "    \"laser_disdrometer_gothic\":\"gucldM1.b1\",\n",
    "    # \"laser_disdrometer_mt_cb\":\"gucldS2.b1\",\n",
    "}"
   ]
  },
  {
   "cell_type": "code",
   "execution_count": 3,
   "metadata": {},
   "outputs": [],
   "source": [
    "winter_22 = ('20211206','20220501')\n",
    "winter_23 = ('20221129','20230507')"
   ]
  },
  {
   "cell_type": "code",
   "execution_count": 4,
   "metadata": {},
   "outputs": [],
   "source": [
    "# Set the location of the data folder where this data will be stored\n",
    "winter_22_folder = 'winter_21_22'\n",
    "winter_23_folder = 'winter_22_23'\n",
    " # change to location of data folder on your machine\n",
    "storage_directory = f'/storage/dlhogan/synoptic_sublimation/'\n",
    "# create a sail_data folder if it does not exist\n",
    "if not os.path.exists(os.path.join(storage_directory,'sail_data')):\n",
    "    os.makedirs(os.path.join(storage_directory,'sail_data'))\n",
    "# create a folder for the event if it does not exist\n",
    "if not os.path.exists(os.path.join(storage_directory,'sail_data',winter_22_folder)):\n",
    "    os.makedirs(os.path.join(storage_directory,'sail_data',winter_22_folder))\n",
    "if not os.path.exists(os.path.join(storage_directory,'sail_data',winter_22_folder,'radiosonde')):\n",
    "    os.makedirs(os.path.join(storage_directory,'sail_data',winter_22_folder,'radiosonde'))\n",
    "# create a folder for the event if it does not exist\n",
    "if not os.path.exists(os.path.join(storage_directory,'sail_data',winter_23_folder)):\n",
    "    os.makedirs(os.path.join(storage_directory,'sail_data',winter_23_folder))\n",
    "    # make a radiosonde folder if it does not exist\n",
    "if not os.path.exists(os.path.join(storage_directory,'sail_data',winter_23_folder,'radiosonde')):\n",
    "    os.makedirs(os.path.join(storage_directory,'sail_data',winter_23_folder,'radiosonde'))"
   ]
  },
  {
   "cell_type": "markdown",
   "metadata": {},
   "source": [
    "### Download winter 2022 data from SAIL\n",
    "For now we will just get met, ecor, and laser disdrometer data"
   ]
  },
  {
   "cell_type": "code",
   "execution_count": 9,
   "metadata": {},
   "outputs": [
    {
     "name": "stdout",
     "output_type": "stream",
     "text": [
      "met_20211206_20220501.nc already exists\n",
      "-------------------\n",
      "eddy_covariance_kettle_ponds_20211206_20220501.nc already exists\n",
      "-------------------\n",
      "laser_disdrometer_gothic_20211206_20220501.nc already exists\n",
      "-------------------\n"
     ]
    }
   ],
   "source": [
    "# load in the winter 22 data\n",
    "sail_winter_22_folder = os.path.join(storage_directory,'sail_data',winter_22_folder)\n",
    "# create empty data dictionary\n",
    "w22_data_loc_dict = {}\n",
    "# Iterate through the dictionary and pull the data for each datastream\n",
    "for k,v in sail_datastream_dict.items():\n",
    "    if (k =='radiosonde') & (len(os.listdir(os.path.join(sail_winter_22_folder,\"radiosonde\"))) > 0):\n",
    "        print(\"Radiosonde data donwloaded. Data files include:\")\n",
    "        # list file names in the radiosonde folder\n",
    "        for file in os.listdir(os.path.join(sail_winter_22_folder,\"radiosonde\")):\n",
    "            print(file)\n",
    "        print('-------------------')\n",
    "    # Check if the file already exists\n",
    "    elif (os.path.exists(f'{sail_winter_22_folder}/{k}_{winter_22[0]}_{winter_22[1]}.nc')): \n",
    "        print(f'{k}_{winter_22[0]}_{winter_22[1]}.nc already exists')\n",
    "        print('-------------------')\n",
    "        # add the filename to the dictionary which can be used if we want to load the data\n",
    "        w22_data_loc_dict[k] = os.path.join(sail_winter_22_folder,f'{k}_{winter_22[0]}_{winter_22[1]}.nc')\n",
    "        continue\n",
    "    else:\n",
    "        # explicitly download radiosonde data because they are a lot easier to process and think about when in individual files\n",
    "        if k == 'radiosonde':\n",
    "            discovery.download_data(\n",
    "                api_username,\n",
    "                api_token,\n",
    "                v,\n",
    "                startdate=winter_22[0],\n",
    "                enddate=winter_22[1],\n",
    "                output=sail_winter_22_folder+'radiosonde/'\n",
    "            )\n",
    "        else:\n",
    "            ds = get_sail_data(api_username,\n",
    "                        api_token,\n",
    "                        v,\n",
    "                        startdate=winter_22[0],\n",
    "                        enddate=winter_22[1])\n",
    "            ds.to_netcdf(f'{sail_winter_22_folder}/{k}_{winter_22[0]}_{winter_22[1]}.nc')\n",
    "            w22_data_loc_dict[k] = os.path.join(sail_winter_22_folder,f'{k}_{winter_22[0]}_{winter_22[1]}.nc')"
   ]
  },
  {
   "cell_type": "markdown",
   "metadata": {},
   "source": [
    "### Download winter 2023 data from SAIL\n",
    "For now we will just get met, ecor, and laser disdrometer data"
   ]
  },
  {
   "cell_type": "code",
   "execution_count": 12,
   "metadata": {},
   "outputs": [
    {
     "name": "stdout",
     "output_type": "stream",
     "text": [
      "met_20221129_20230507.nc already exists\n",
      "-------------------\n",
      "eddy_covariance_kettle_ponds_20221129_20230507.nc already exists\n",
      "-------------------\n",
      "laser_disdrometer_gothic_20221129_20230507.nc already exists\n",
      "-------------------\n"
     ]
    }
   ],
   "source": [
    "# load in the winter 23 data\n",
    "sail_winter_23_folder = os.path.join(storage_directory,'sail_data',winter_23_folder)\n",
    "# create empty data dictionary\n",
    "w23_data_loc_dict = {}\n",
    "# Iterate through the dictionary and pull the data for each datastream\n",
    "for k,v in sail_datastream_dict.items():\n",
    "    if (k =='radiosonde') & (len(os.listdir(os.path.join(sail_winter_23_folder,\"radiosonde\"))) > 0):\n",
    "        print(\"Radiosonde data donwloaded. Data files include:\")\n",
    "        # list file names in the radiosonde folder\n",
    "        for file in os.listdir(os.path.join(sail_winter_23_folder,\"radiosonde\")):\n",
    "            print(file)\n",
    "        print('-------------------')\n",
    "    # Check if the file already exists\n",
    "    elif (os.path.exists(f'{sail_winter_23_folder}/{k}_{winter_23[0]}_{winter_23[1]}.nc')): \n",
    "        print(f'{k}_{winter_23[0]}_{winter_23[1]}.nc already exists')\n",
    "        print('-------------------')\n",
    "        # add the filename to the dictionary which can be used if we want to load the data\n",
    "        w23_data_loc_dict[k] = os.path.join(sail_winter_23_folder,f'{k}_{winter_23[0]}_{winter_23[1]}.nc')\n",
    "        continue\n",
    "    else:\n",
    "        # explicitly download radiosonde data because they are a lot easier to process and think about when in individual files\n",
    "        if k == 'radiosonde':\n",
    "            discovery.download_data(\n",
    "                api_username,\n",
    "                api_token,\n",
    "                v,\n",
    "                startdate=winter_23[0],\n",
    "                enddate=winter_23[1],\n",
    "                output=sail_winter_23_folder+'radiosonde/'\n",
    "            )\n",
    "        else:\n",
    "            ds = get_sail_data(api_username,\n",
    "                        api_token,\n",
    "                        v,\n",
    "                        startdate=winter_23[0],\n",
    "                        enddate=winter_23[1])\n",
    "            ds.to_netcdf(f'{sail_winter_23_folder}/{k}_{winter_23[0]}_{winter_23[1]}.nc')\n",
    "            w23_data_loc_dict[k] = os.path.join(sail_winter_23_folder,f'{k}_{winter_23[0]}_{winter_23[1]}.nc')"
   ]
  },
  {
   "cell_type": "code",
   "execution_count": 13,
   "metadata": {},
   "outputs": [],
   "source": [
    "# load in SAIL winter data for winters 2022 and 2023\n",
    "w22_sail_met = xr.open_dataset(w22_data_loc_dict['met'])\n",
    "w23_sail_met = xr.open_dataset(w23_data_loc_dict['met'])"
   ]
  },
  {
   "cell_type": "code",
   "execution_count": 33,
   "metadata": {},
   "outputs": [],
   "source": [
    "# let's build a function to qc all the data quickly\n",
    "VARIABLES = ['atmos_pressure','temp_mean', 'rh_mean','vapor_pressure_mean','wspd_arith_mean','wdir_vec_mean']\n",
    "def qc_sail_met(ds, variables):\n",
    "    # first let's add qc to all the variables as a new list\n",
    "    qc_variables = ['qc_'+v for v in variables]\n",
    "    ds_qc = ds[variables+qc_variables]\n",
    "    # now if any qc variable is not 0, we will set the variable to nan\n",
    "    for v in variables:\n",
    "        ds_qc[v] = ds_qc[v].where(ds_qc['qc_'+v]==0, other=np.nan)\n",
    "    # now let's drop the qc variables\n",
    "    ds_qc = ds_qc.drop_vars(qc_variables)\n",
    "    # now let's set extreme values for certain variables\n",
    "    temp_max = 30\n",
    "    temp_min = -40\n",
    "    rh_min = 0\n",
    "    wspd_max = 40 # max in m/s\n",
    "    vapor_pressure_max = 7.835 # this is the saturation vapor pressure at 40C\n",
    "    # now let's filter out the extremes and fill with nan\n",
    "    ds_qc['temp_mean'] = ds_qc['temp_mean'].where((ds_qc['temp_mean']<temp_max) & (ds_qc['temp_mean']>temp_min), other=np.nan)\n",
    "    ds_qc['rh_mean'] = ds_qc['rh_mean'].where(ds_qc['rh_mean']>rh_min, other=np.nan)\n",
    "    ds_qc['wspd_arith_mean'] = ds_qc['wspd_arith_mean'].where(ds_qc['wspd_arith_mean']<wspd_max, other=np.nan)\n",
    "    ds_qc['vapor_pressure_mean'] = ds_qc['vapor_pressure_mean'].where(ds_qc['vapor_pressure_mean']<vapor_pressure_max, other=np.nan)\n",
    "    # count how many data points are nan for each variable and print that out\n",
    "    for v in variables:\n",
    "        print(f'{v} has {ds_qc[v].isnull().sum().values} nan values')\n",
    "    print('-------------------')\n",
    "    # return the qc'd dataset\n",
    "    return ds_qc\n"
   ]
  },
  {
   "cell_type": "code",
   "execution_count": 34,
   "metadata": {},
   "outputs": [
    {
     "name": "stdout",
     "output_type": "stream",
     "text": [
      "atmos_pressure has 0 nan values\n",
      "temp_mean has 0 nan values\n",
      "rh_mean has 0 nan values\n",
      "vapor_pressure_mean has 0 nan values\n",
      "wspd_arith_mean has 8 nan values\n",
      "wdir_vec_mean has 0 nan values\n",
      "-------------------\n",
      "atmos_pressure has 0 nan values\n",
      "temp_mean has 0 nan values\n",
      "rh_mean has 0 nan values\n",
      "vapor_pressure_mean has 0 nan values\n",
      "wspd_arith_mean has 0 nan values\n",
      "wdir_vec_mean has 0 nan values\n",
      "-------------------\n"
     ]
    }
   ],
   "source": [
    "w22_sail_met_qc_ds = qc_sail_met(w22_sail_met, VARIABLES)\n",
    "w23_sail_met_qc_ds = qc_sail_met(w23_sail_met, VARIABLES)"
   ]
  },
  {
   "cell_type": "code",
   "execution_count": 57,
   "metadata": {},
   "outputs": [],
   "source": [
    "# make the index the day of water year\n",
    "dowy = lambda x: x.dayofyear - 274 if x.dayofyear >= 274 else x.dayofyear + 91\n",
    "# get the max wind speed for each day\n",
    "w22_max_wspd = w22_sail_met_qc_ds['wspd_arith_mean'].groupby('time.date').max().to_dataframe().reset_index()\n",
    "w23_max_wspd = w23_sail_met_qc_ds['wspd_arith_mean'].groupby('time.date').max().to_dataframe().reset_index()\n",
    "# get the average wind speed for each day\n",
    "w22_mean_wspd = w22_sail_met_qc_ds['wspd_arith_mean'].groupby('time.date').mean().to_dataframe().reset_index()\n",
    "w23_mean_wspd = w23_sail_met_qc_ds['wspd_arith_mean'].groupby('time.date').mean().to_dataframe().reset_index()\n",
    "\n",
    "# add dowy as index\n",
    "w22_mean_wspd.index = pd.to_datetime(w22_mean_wspd['date']).apply(dowy)\n",
    "w23_mean_wspd.index = pd.to_datetime(w23_mean_wspd['date']).apply(dowy)\n",
    "# convert date column to datetime\n",
    "w22_mean_wspd['date'] = pd.to_datetime(w22_mean_wspd['date'])\n",
    "w23_mean_wspd['date'] = pd.to_datetime(w23_mean_wspd['date'])\n",
    "# rename the index dowy\n",
    "w22_mean_wspd.index.name = 'dowy'\n",
    "w23_mean_wspd.index.name = 'dowy'\n",
    "\n",
    "# add dowy as index\n",
    "w22_max_wspd.index = pd.to_datetime(w22_max_wspd['date']).apply(dowy)\n",
    "w23_max_wspd.index = pd.to_datetime(w23_max_wspd['date']).apply(dowy)\n",
    "# convert date column to datetime\n",
    "w22_max_wspd['date'] = pd.to_datetime(w22_max_wspd['date'])\n",
    "w23_max_wspd['date'] = pd.to_datetime(w23_max_wspd['date'])\n",
    "# rename the index dowy\n",
    "w22_max_wspd.index.name = 'dowy'\n",
    "w23_max_wspd.index.name = 'dowy'"
   ]
  },
  {
   "cell_type": "code",
   "execution_count": 68,
   "metadata": {},
   "outputs": [
    {
     "data": {
      "application/vnd.plotly.v1+json": {
       "config": {
        "plotlyServerURL": "https://plot.ly"
       },
       "data": [
        {
         "hovertemplate": "Day of Water Year: %{x}<br>Wind Speed: %{y:.2f} m/s",
         "marker": {
          "color": "blue"
         },
         "name": "2021-2022",
         "type": "scatter",
         "x": [
          66,
          67,
          68,
          69,
          70,
          71,
          72,
          73,
          74,
          75,
          76,
          77,
          78,
          79,
          80,
          81,
          82,
          83,
          84,
          85,
          86,
          87,
          88,
          89,
          90,
          91,
          92,
          93,
          94,
          95,
          96,
          97,
          98,
          99,
          100,
          101,
          102,
          103,
          104,
          105,
          106,
          107,
          108,
          109,
          110,
          111,
          112,
          113,
          114,
          115,
          116,
          117,
          118,
          119,
          120,
          121,
          122,
          123,
          124,
          125,
          126,
          127,
          128,
          129,
          130,
          131,
          132,
          133,
          134,
          135,
          136,
          137,
          138,
          139,
          140,
          141,
          142,
          143,
          144,
          145,
          146,
          147,
          148,
          149,
          150,
          151,
          152,
          153,
          154,
          155,
          156,
          157,
          158,
          159,
          160,
          161,
          162,
          163,
          164,
          165,
          166,
          167,
          168,
          169,
          170,
          171,
          172,
          173,
          174,
          175,
          176,
          177,
          178,
          179,
          180,
          181,
          182,
          183,
          184,
          185,
          186,
          187,
          188,
          189,
          190,
          191,
          192,
          193,
          194,
          195,
          196,
          197,
          198,
          199,
          200,
          201,
          202,
          203,
          204,
          205,
          206,
          207,
          208,
          209,
          210,
          211,
          212
         ],
         "xaxis": "x",
         "y": [
          2.733745813369751,
          2.018946409225464,
          1.4631381034851074,
          2.874823570251465,
          4.117358207702637,
          1.913217544555664,
          1.3101311922073364,
          1.3173389434814453,
          1.2472500801086426,
          3.9112322330474854,
          2.288583993911743,
          2.4958646297454834,
          1.415576457977295,
          0.941542387008667,
          1.0678993463516235,
          1.8733770847320557,
          2.013011932373047,
          1.4712673425674438,
          3.2937211990356445,
          3.707397699356079,
          3.696390390396118,
          2.779942274093628,
          4.506227970123291,
          2.1704492568969727,
          2.5833520889282227,
          2.0356545448303223,
          3.2726755142211914,
          1.8021098375320435,
          1.1192235946655273,
          3.35949444770813,
          6.801045894622803,
          5.280323028564453,
          2.221445083618164,
          2.467771053314209,
          1.368706226348877,
          1.022468090057373,
          1.0129319429397583,
          1.0229653120040894,
          1.0725382566452026,
          3.247565269470215,
          2.709902763366699,
          0.998718798160553,
          0.9686465859413147,
          1.1242250204086304,
          1.5224778652191162,
          1.8385145664215088,
          0.8956625461578369,
          1.0676673650741577,
          1.250673532485962,
          2.1236116886138916,
          1.0369436740875244,
          1.4749243259429932,
          1.800897240638733,
          1.2184284925460815,
          0.921692430973053,
          1.1749736070632935,
          1.9604027271270752,
          1.6950514316558838,
          2.4998176097869873,
          1.9994235038757324,
          1.3913249969482422,
          1.6265833377838135,
          2.9473822116851807,
          1.1572221517562866,
          2.4139564037323,
          4.4090728759765625,
          2.147963285446167,
          5.154786586761475,
          3.7590880393981934,
          2.2007436752319336,
          1.4323089122772217,
          1.6435465812683105,
          2.1344237327575684,
          3.4331326484680176,
          3.214329719543457,
          1.7361445426940918,
          2.080493211746216,
          3.0355186462402344,
          2.4926979541778564,
          2.6170382499694824,
          2.9217069149017334,
          1.2375195026397705,
          1.5907938480377197,
          1.1131980419158936,
          1.131770133972168,
          1.0985007286071777,
          1.0858540534973145,
          1.1909070014953613,
          1.5530303716659546,
          1.905258297920227,
          2.050429344177246,
          2.227341651916504,
          2.4285848140716553,
          1.7988312244415283,
          3.16738224029541,
          3.9758615493774414,
          2.385382652282715,
          1.6780985593795776,
          2.549691677093506,
          1.6497846841812134,
          1.8641499280929565,
          3.663458824157715,
          2.663665294647217,
          1.4742597341537476,
          1.639256238937378,
          3.5776784420013428,
          4.980388641357422,
          4.038214206695557,
          3.112673044204712,
          2.26608943939209,
          2.1394402980804443,
          1.7345716953277588,
          2.331381320953369,
          3.0286152362823486,
          4.898231506347656,
          2.8956034183502197,
          3.019118309020996,
          2.1164042949676514,
          2.3856985569000244,
          1.9793866872787476,
          4.991142272949219,
          5.678573131561279,
          4.57778263092041,
          2.8557941913604736,
          1.9731340408325195,
          4.724891185760498,
          2.118929147720337,
          5.657805919647217,
          3.1989126205444336,
          3.670767307281494,
          1.5936930179595947,
          2.0660464763641357,
          3.221978187561035,
          2.452343702316284,
          2.5357234477996826,
          4.431447505950928,
          1.8055979013442993,
          2.9224092960357666,
          3.6654751300811768,
          1.823865294456482,
          1.5757173299789429,
          1.7112700939178467,
          1.9297034740447998,
          2.0667998790740967,
          4.1419806480407715,
          2.657654047012329,
          1.9535847902297974
         ],
         "yaxis": "y"
        },
        {
         "hovertemplate": "Day of Water Year: %{x}<br>Wind Speed: %{y:.2f} m/s",
         "marker": {
          "color": "red"
         },
         "name": "2022-2023",
         "type": "scatter",
         "x": [
          59,
          60,
          61,
          62,
          63,
          64,
          65,
          66,
          67,
          68,
          69,
          70,
          71,
          72,
          73,
          74,
          75,
          76,
          77,
          78,
          79,
          80,
          81,
          82,
          83,
          84,
          85,
          86,
          87,
          88,
          89,
          90,
          91,
          92,
          93,
          94,
          95,
          96,
          97,
          98,
          99,
          100,
          101,
          102,
          103,
          104,
          105,
          106,
          107,
          108,
          109,
          110,
          111,
          112,
          113,
          114,
          115,
          116,
          117,
          118,
          119,
          120,
          121,
          122,
          123,
          124,
          125,
          126,
          127,
          128,
          129,
          130,
          131,
          132,
          133,
          134,
          135,
          136,
          137,
          138,
          139,
          140,
          141,
          142,
          143,
          144,
          145,
          146,
          147,
          148,
          149,
          150,
          151,
          152,
          153,
          154,
          155,
          156,
          157,
          158,
          159,
          160,
          161,
          162,
          163,
          164,
          165,
          166,
          167,
          168,
          169,
          170,
          171,
          172,
          173,
          174,
          175,
          176,
          177,
          178,
          179,
          180,
          181,
          182,
          183,
          184,
          185,
          186,
          187,
          188,
          189,
          190,
          191,
          192,
          193,
          194,
          195,
          196,
          197,
          198,
          199,
          200,
          201,
          202,
          203,
          204,
          205,
          206,
          207,
          208,
          209,
          210,
          211,
          212,
          213,
          214,
          215,
          216,
          217,
          218
         ],
         "xaxis": "x",
         "y": [
          3.8534741401672363,
          1.295133352279663,
          1.6193236112594604,
          3.7914202213287354,
          1.594514012336731,
          1.1931006908416748,
          2.5826826095581055,
          3.187075138092041,
          0.9023756980895996,
          3.4457805156707764,
          1.2932860851287842,
          1.3350576162338257,
          1.3502458333969116,
          1.69612717628479,
          4.490854740142822,
          6.240338325500488,
          3.076547622680664,
          3.6152758598327637,
          1.2455909252166748,
          1.0516972541809082,
          1.4888381958007812,
          1.315911054611206,
          2.867152214050293,
          7.455778121948242,
          1.6991283893585205,
          1.7847082614898682,
          3.0278429985046387,
          3.009474277496338,
          1.6256083250045776,
          1.410360336303711,
          2.5840208530426025,
          1.1811749935150146,
          0.9708382487297058,
          1.4513875246047974,
          1.4984756708145142,
          1.5296763181686401,
          4.361491680145264,
          1.281982660293579,
          1.2135354280471802,
          1.165791630744934,
          1.3496195077896118,
          1.1925361156463623,
          1.541759729385376,
          2.8279130458831787,
          1.771272897720337,
          0.8826631903648376,
          1.447595238685608,
          1.4937514066696167,
          1.0975278615951538,
          0.9508041143417358,
          3.594773054122925,
          1.9467895030975342,
          1.0947812795639038,
          2.2683777809143066,
          1.985539436340332,
          1.229827880859375,
          1.9228458404541016,
          3.2970895767211914,
          2.353353500366211,
          1.8225153684616089,
          2.9252007007598877,
          1.7398104667663574,
          3.2719218730926514,
          2.3280513286590576,
          1.0999083518981934,
          1.2175707817077637,
          1.2877395153045654,
          1.9858089685440063,
          1.8921716213226318,
          4.088433265686035,
          1.5641118288040161,
          1.891019344329834,
          4.07409143447876,
          1.3824026584625244,
          0.9256561994552612,
          1.199898600578308,
          1.247321605682373,
          2.6008055210113525,
          1.4433437585830688,
          1.5966596603393555,
          0.9827555418014526,
          1.8044952154159546,
          4.58154821395874,
          4.562978267669678,
          2.5869410037994385,
          3.445075750350952,
          3.406397819519043,
          2.8984501361846924,
          1.438350796699524,
          2.0197644233703613,
          2.6566569805145264,
          2.9384493827819824,
          1.6062132120132446,
          1.969996452331543,
          2.037820339202881,
          1.574186086654663,
          3.5394890308380127,
          3.2765252590179443,
          3.6265156269073486,
          2.0811703205108643,
          4.282574653625488,
          1.2622506618499756,
          2.4653375148773193,
          1.3751486539840698,
          1.8271104097366333,
          1.497382640838623,
          0.9759228825569153,
          3.3445217609405518,
          2.4860143661499023,
          1.685137391090393,
          1.5880118608474731,
          1.2692139148712158,
          2.03741455078125,
          3.678367853164673,
          2.0638582706451416,
          2.01935076713562,
          3.667457342147827,
          1.314858317375183,
          3.0281944274902344,
          1.5364166498184204,
          1.548732042312622,
          2.136045217514038,
          4.435161590576172,
          2.173971652984619,
          3.056023597717285,
          3.8999409675598145,
          3.7649223804473877,
          2.7274041175842285,
          1.4638200998306274,
          1.4710381031036377,
          1.7078368663787842,
          2.211552858352661,
          1.162543773651123,
          1.5594035387039185,
          2.02787709236145,
          2.817394495010376,
          2.795315980911255,
          3.8486416339874268,
          1.9592610597610474,
          1.5186694860458374,
          2.780935287475586,
          3.905433177947998,
          3.6244585514068604,
          2.3137924671173096,
          3.2054481506347656,
          2.019209146499634,
          1.6028306484222412,
          2.0548999309539795,
          2.294151544570923,
          2.7227556705474854,
          4.285274982452393,
          1.946435570716858,
          2.4984610080718994,
          1.5116106271743774,
          1.773141622543335,
          1.5640519857406616,
          1.8670986890792847,
          2.2592785358428955,
          2.1818456649780273,
          2.0080854892730713
         ],
         "yaxis": "y"
        },
        {
         "hovertemplate": "Day of Water Year: %{x}<br>Wind Speed: %{y:.2f} m/s",
         "marker": {
          "color": "blue"
         },
         "name": "2021-2022",
         "showlegend": false,
         "type": "scatter",
         "x": [
          66,
          67,
          68,
          69,
          70,
          71,
          72,
          73,
          74,
          75,
          76,
          77,
          78,
          79,
          80,
          81,
          82,
          83,
          84,
          85,
          86,
          87,
          88,
          89,
          90,
          91,
          92,
          93,
          94,
          95,
          96,
          97,
          98,
          99,
          100,
          101,
          102,
          103,
          104,
          105,
          106,
          107,
          108,
          109,
          110,
          111,
          112,
          113,
          114,
          115,
          116,
          117,
          118,
          119,
          120,
          121,
          122,
          123,
          124,
          125,
          126,
          127,
          128,
          129,
          130,
          131,
          132,
          133,
          134,
          135,
          136,
          137,
          138,
          139,
          140,
          141,
          142,
          143,
          144,
          145,
          146,
          147,
          148,
          149,
          150,
          151,
          152,
          153,
          154,
          155,
          156,
          157,
          158,
          159,
          160,
          161,
          162,
          163,
          164,
          165,
          166,
          167,
          168,
          169,
          170,
          171,
          172,
          173,
          174,
          175,
          176,
          177,
          178,
          179,
          180,
          181,
          182,
          183,
          184,
          185,
          186,
          187,
          188,
          189,
          190,
          191,
          192,
          193,
          194,
          195,
          196,
          197,
          198,
          199,
          200,
          201,
          202,
          203,
          204,
          205,
          206,
          207,
          208,
          209,
          210,
          211,
          212
         ],
         "xaxis": "x2",
         "y": [
          11.329999923706055,
          7.479000091552734,
          4.586999893188477,
          9.609999656677246,
          9.75,
          6.989999771118164,
          3.878000020980835,
          3.8919999599456787,
          3.9800000190734863,
          36.63999938964844,
          10.8100004196167,
          8.9399995803833,
          5.410999774932861,
          2.5969998836517334,
          3.375999927520752,
          7.057000160217285,
          10.050000190734863,
          9.279999732971191,
          11.260000228881836,
          28.280000686645508,
          17,
          10.710000038146973,
          13.109999656677246,
          7.736999988555908,
          9.220000267028809,
          10.380000114440918,
          8.630000114440918,
          8.109999656677246,
          2.9519999027252197,
          10.350000381469727,
          13.84000015258789,
          12.479999542236328,
          8.9399995803833,
          10.449999809265137,
          5.116000175476074,
          3.36299991607666,
          3.135999917984009,
          3.4719998836517334,
          3.1050000190734863,
          9.670000076293945,
          10.1899995803833,
          3.2799999713897705,
          2.632999897003174,
          3.2119998931884766,
          5.71999979019165,
          8.300000190734863,
          3.5929999351501465,
          3.072999954223633,
          4.656000137329102,
          7.250999927520752,
          4.340000152587891,
          5.848999977111816,
          7.611000061035156,
          4.368000030517578,
          2.9210000038146973,
          4.138000011444092,
          10.5600004196167,
          7.716000080108643,
          5.742000102996826,
          7.241000175476074,
          7.158999919891357,
          7.079999923706055,
          8.40999984741211,
          3.739000082015991,
          10.09000015258789,
          10.329999923706055,
          10.079999923706055,
          11.300000190734863,
          11.65999984741211,
          7.9019999504089355,
          6.236999988555908,
          8.699999809265137,
          9.649999618530273,
          8.550000190734863,
          9.069999694824219,
          7.710000038146973,
          7.663000106811523,
          10.3100004196167,
          13.09000015258789,
          8.680000305175781,
          7.633999824523926,
          5.785999774932861,
          3.8910000324249268,
          3.8380000591278076,
          3.4830000400543213,
          3.759999990463257,
          2.989000082015991,
          3.0810000896453857,
          7.572999954223633,
          7.572999954223633,
          7.144999980926514,
          7.3470001220703125,
          6.986999988555908,
          9,
          11.15999984741211,
          10.270000457763672,
          8.520000457763672,
          7.947000026702881,
          6.816999912261963,
          6.072999954223633,
          6.89900016784668,
          7.8979997634887695,
          7.616000175476074,
          4.0970001220703125,
          7.616000175476074,
          8.510000228881836,
          10.800000190734863,
          11.210000038146973,
          9.229999542236328,
          9.420000076293945,
          8.880000114440918,
          6.666999816894531,
          7.710000038146973,
          10.65999984741211,
          10.619999885559082,
          7.735000133514404,
          8.170000076293945,
          7.915999889373779,
          8.75,
          8.9399995803833,
          12.739999771118164,
          11.210000038146973,
          10.880000114440918,
          8.1899995803833,
          10.479999542236328,
          12.020000457763672,
          12.09000015258789,
          17.540000915527344,
          10.40999984741211,
          11.210000038146973,
          8.390000343322754,
          11.180000305175781,
          14.779999732971191,
          9.640000343322754,
          10.029999732971191,
          14.130000114440918,
          7.60699987411499,
          16.31999969482422,
          9.699999809265137,
          8.449999809265137,
          5.414000034332275,
          7.264999866485596,
          7.019999980926514,
          8.619999885559082,
          11.270000457763672,
          8.09000015258789,
          8.880000114440918
         ],
         "yaxis": "y2"
        },
        {
         "hovertemplate": "Day of Water Year: %{x}<br>Wind Speed: %{y:.2f} m/s",
         "marker": {
          "color": "red"
         },
         "name": "2022-2023",
         "showlegend": false,
         "type": "scatter",
         "x": [
          59,
          60,
          61,
          62,
          63,
          64,
          65,
          66,
          67,
          68,
          69,
          70,
          71,
          72,
          73,
          74,
          75,
          76,
          77,
          78,
          79,
          80,
          81,
          82,
          83,
          84,
          85,
          86,
          87,
          88,
          89,
          90,
          91,
          92,
          93,
          94,
          95,
          96,
          97,
          98,
          99,
          100,
          101,
          102,
          103,
          104,
          105,
          106,
          107,
          108,
          109,
          110,
          111,
          112,
          113,
          114,
          115,
          116,
          117,
          118,
          119,
          120,
          121,
          122,
          123,
          124,
          125,
          126,
          127,
          128,
          129,
          130,
          131,
          132,
          133,
          134,
          135,
          136,
          137,
          138,
          139,
          140,
          141,
          142,
          143,
          144,
          145,
          146,
          147,
          148,
          149,
          150,
          151,
          152,
          153,
          154,
          155,
          156,
          157,
          158,
          159,
          160,
          161,
          162,
          163,
          164,
          165,
          166,
          167,
          168,
          169,
          170,
          171,
          172,
          173,
          174,
          175,
          176,
          177,
          178,
          179,
          180,
          181,
          182,
          183,
          184,
          185,
          186,
          187,
          188,
          189,
          190,
          191,
          192,
          193,
          194,
          195,
          196,
          197,
          198,
          199,
          200,
          201,
          202,
          203,
          204,
          205,
          206,
          207,
          208,
          209,
          210,
          211,
          212,
          213,
          214,
          215,
          216,
          217,
          218
         ],
         "xaxis": "x2",
         "y": [
          9.869999885559082,
          6.183000087738037,
          5.326000213623047,
          15.630000114440918,
          10.539999961853027,
          4.309999942779541,
          8.960000038146973,
          11.010000228881836,
          5.860000133514404,
          9.989999771118164,
          3.5959999561309814,
          6.738999843597412,
          3.5910000801086426,
          6.948999881744385,
          10.100000381469727,
          9.75,
          7.892000198364258,
          8.039999961853027,
          5.071000099182129,
          3.319999933242798,
          6.177000045776367,
          3.690000057220459,
          10.5600004196167,
          19.360000610351562,
          8.039999961853027,
          8.029999732971191,
          12.3100004196167,
          8.65999984741211,
          8.319999694824219,
          5.638999938964844,
          8.479999542236328,
          5.51800012588501,
          5.020999908447266,
          6.908999919891357,
          5.255000114440918,
          8.039999961853027,
          9.350000381469727,
          4.3420000076293945,
          6.515999794006348,
          5.669000148773193,
          4.4029998779296875,
          4.848999977111816,
          8.449999809265137,
          9.470000267028809,
          6.303999900817871,
          2.4519999027252197,
          6.6570000648498535,
          8.949999809265137,
          5.025000095367432,
          5.359000205993652,
          8.510000228881836,
          5.986000061035156,
          3.2890000343322754,
          8.029999732971191,
          7.9019999504089355,
          3.2839999198913574,
          6.9029998779296875,
          7.36899995803833,
          9.6899995803833,
          10.34000015258789,
          9.460000038146973,
          10.979999542236328,
          10.850000381469727,
          8.039999961853027,
          3.684000015258789,
          7.466000080108643,
          5.875,
          7.4120001792907715,
          11.880000114440918,
          11.4399995803833,
          7.781000137329102,
          8.479999542236328,
          9.710000038146973,
          4.519000053405762,
          2.5450000762939453,
          3.513000011444092,
          5.51200008392334,
          10.970000267028809,
          5.36899995803833,
          6.955999851226807,
          3.6649999618530273,
          8.510000228881836,
          13.880000114440918,
          11.699999809265137,
          8.760000228881836,
          14.569999694824219,
          9.9399995803833,
          10.819999694824219,
          6.480999946594238,
          9.479999542236328,
          9.1899995803833,
          10.289999961853027,
          10.229999542236328,
          7.320000171661377,
          8.34000015258789,
          6.816999912261963,
          11.029999732971191,
          11.15999984741211,
          10.5,
          9.75,
          13.680000305175781,
          6.9029998779296875,
          8.1899995803833,
          4.734000205993652,
          6.959000110626221,
          5.741000175476074,
          3.252000093460083,
          7.769999980926514,
          7.182000160217285,
          5.730000019073486,
          4.442999839782715,
          4.197999954223633,
          11.229999542236328,
          12.930000305175781,
          8.34000015258789,
          8.180000305175781,
          9.25,
          7.941999912261963,
          8.180000305175781,
          5.072999954223633,
          3.8450000286102295,
          10.6899995803833,
          9.800000190734863,
          8.449999809265137,
          13.079999923706055,
          10.329999923706055,
          11.729999542236328,
          8.670000076293945,
          5.316999912261963,
          7.229000091552734,
          9.579999923706055,
          8.729999542236328,
          3.6110000610351562,
          6.117000102996826,
          11.609999656677246,
          9.720000267028809,
          8.890000343322754,
          8.949999809265137,
          7.218999862670898,
          6.479000091552734,
          11.069999694824219,
          13.229999542236328,
          10.34000015258789,
          7.283999919891357,
          10.779999732971191,
          6.559999942779541,
          6.9629998207092285,
          8.979999542236328,
          6.658999919891357,
          8.109999656677246,
          11.369999885559082,
          6.810999870300293,
          8.520000457763672,
          6.8420000076293945,
          6.197999954223633,
          5.215000152587891,
          5.756999969482422,
          8.890000343322754,
          7.052000045776367,
          6.982999801635742
         ],
         "yaxis": "y2"
        }
       ],
       "layout": {
        "annotations": [
         {
          "font": {
           "size": 16
          },
          "showarrow": false,
          "text": "Mean Daily Wind Speed",
          "x": 0.5,
          "xanchor": "center",
          "xref": "paper",
          "y": 1,
          "yanchor": "bottom",
          "yref": "paper"
         },
         {
          "font": {
           "size": 16
          },
          "showarrow": false,
          "text": "Max Daily Wind Speed",
          "x": 0.5,
          "xanchor": "center",
          "xref": "paper",
          "y": 0.45,
          "yanchor": "bottom",
          "yref": "paper"
         }
        ],
        "height": 600,
        "legend": {
         "title": {
          "text": "Winter"
         }
        },
        "template": {
         "data": {
          "bar": [
           {
            "error_x": {
             "color": "#2a3f5f"
            },
            "error_y": {
             "color": "#2a3f5f"
            },
            "marker": {
             "line": {
              "color": "#E5ECF6",
              "width": 0.5
             },
             "pattern": {
              "fillmode": "overlay",
              "size": 10,
              "solidity": 0.2
             }
            },
            "type": "bar"
           }
          ],
          "barpolar": [
           {
            "marker": {
             "line": {
              "color": "#E5ECF6",
              "width": 0.5
             },
             "pattern": {
              "fillmode": "overlay",
              "size": 10,
              "solidity": 0.2
             }
            },
            "type": "barpolar"
           }
          ],
          "carpet": [
           {
            "aaxis": {
             "endlinecolor": "#2a3f5f",
             "gridcolor": "white",
             "linecolor": "white",
             "minorgridcolor": "white",
             "startlinecolor": "#2a3f5f"
            },
            "baxis": {
             "endlinecolor": "#2a3f5f",
             "gridcolor": "white",
             "linecolor": "white",
             "minorgridcolor": "white",
             "startlinecolor": "#2a3f5f"
            },
            "type": "carpet"
           }
          ],
          "choropleth": [
           {
            "colorbar": {
             "outlinewidth": 0,
             "ticks": ""
            },
            "type": "choropleth"
           }
          ],
          "contour": [
           {
            "colorbar": {
             "outlinewidth": 0,
             "ticks": ""
            },
            "colorscale": [
             [
              0,
              "#0d0887"
             ],
             [
              0.1111111111111111,
              "#46039f"
             ],
             [
              0.2222222222222222,
              "#7201a8"
             ],
             [
              0.3333333333333333,
              "#9c179e"
             ],
             [
              0.4444444444444444,
              "#bd3786"
             ],
             [
              0.5555555555555556,
              "#d8576b"
             ],
             [
              0.6666666666666666,
              "#ed7953"
             ],
             [
              0.7777777777777778,
              "#fb9f3a"
             ],
             [
              0.8888888888888888,
              "#fdca26"
             ],
             [
              1,
              "#f0f921"
             ]
            ],
            "type": "contour"
           }
          ],
          "contourcarpet": [
           {
            "colorbar": {
             "outlinewidth": 0,
             "ticks": ""
            },
            "type": "contourcarpet"
           }
          ],
          "heatmap": [
           {
            "colorbar": {
             "outlinewidth": 0,
             "ticks": ""
            },
            "colorscale": [
             [
              0,
              "#0d0887"
             ],
             [
              0.1111111111111111,
              "#46039f"
             ],
             [
              0.2222222222222222,
              "#7201a8"
             ],
             [
              0.3333333333333333,
              "#9c179e"
             ],
             [
              0.4444444444444444,
              "#bd3786"
             ],
             [
              0.5555555555555556,
              "#d8576b"
             ],
             [
              0.6666666666666666,
              "#ed7953"
             ],
             [
              0.7777777777777778,
              "#fb9f3a"
             ],
             [
              0.8888888888888888,
              "#fdca26"
             ],
             [
              1,
              "#f0f921"
             ]
            ],
            "type": "heatmap"
           }
          ],
          "heatmapgl": [
           {
            "colorbar": {
             "outlinewidth": 0,
             "ticks": ""
            },
            "colorscale": [
             [
              0,
              "#0d0887"
             ],
             [
              0.1111111111111111,
              "#46039f"
             ],
             [
              0.2222222222222222,
              "#7201a8"
             ],
             [
              0.3333333333333333,
              "#9c179e"
             ],
             [
              0.4444444444444444,
              "#bd3786"
             ],
             [
              0.5555555555555556,
              "#d8576b"
             ],
             [
              0.6666666666666666,
              "#ed7953"
             ],
             [
              0.7777777777777778,
              "#fb9f3a"
             ],
             [
              0.8888888888888888,
              "#fdca26"
             ],
             [
              1,
              "#f0f921"
             ]
            ],
            "type": "heatmapgl"
           }
          ],
          "histogram": [
           {
            "marker": {
             "pattern": {
              "fillmode": "overlay",
              "size": 10,
              "solidity": 0.2
             }
            },
            "type": "histogram"
           }
          ],
          "histogram2d": [
           {
            "colorbar": {
             "outlinewidth": 0,
             "ticks": ""
            },
            "colorscale": [
             [
              0,
              "#0d0887"
             ],
             [
              0.1111111111111111,
              "#46039f"
             ],
             [
              0.2222222222222222,
              "#7201a8"
             ],
             [
              0.3333333333333333,
              "#9c179e"
             ],
             [
              0.4444444444444444,
              "#bd3786"
             ],
             [
              0.5555555555555556,
              "#d8576b"
             ],
             [
              0.6666666666666666,
              "#ed7953"
             ],
             [
              0.7777777777777778,
              "#fb9f3a"
             ],
             [
              0.8888888888888888,
              "#fdca26"
             ],
             [
              1,
              "#f0f921"
             ]
            ],
            "type": "histogram2d"
           }
          ],
          "histogram2dcontour": [
           {
            "colorbar": {
             "outlinewidth": 0,
             "ticks": ""
            },
            "colorscale": [
             [
              0,
              "#0d0887"
             ],
             [
              0.1111111111111111,
              "#46039f"
             ],
             [
              0.2222222222222222,
              "#7201a8"
             ],
             [
              0.3333333333333333,
              "#9c179e"
             ],
             [
              0.4444444444444444,
              "#bd3786"
             ],
             [
              0.5555555555555556,
              "#d8576b"
             ],
             [
              0.6666666666666666,
              "#ed7953"
             ],
             [
              0.7777777777777778,
              "#fb9f3a"
             ],
             [
              0.8888888888888888,
              "#fdca26"
             ],
             [
              1,
              "#f0f921"
             ]
            ],
            "type": "histogram2dcontour"
           }
          ],
          "mesh3d": [
           {
            "colorbar": {
             "outlinewidth": 0,
             "ticks": ""
            },
            "type": "mesh3d"
           }
          ],
          "parcoords": [
           {
            "line": {
             "colorbar": {
              "outlinewidth": 0,
              "ticks": ""
             }
            },
            "type": "parcoords"
           }
          ],
          "pie": [
           {
            "automargin": true,
            "type": "pie"
           }
          ],
          "scatter": [
           {
            "fillpattern": {
             "fillmode": "overlay",
             "size": 10,
             "solidity": 0.2
            },
            "type": "scatter"
           }
          ],
          "scatter3d": [
           {
            "line": {
             "colorbar": {
              "outlinewidth": 0,
              "ticks": ""
             }
            },
            "marker": {
             "colorbar": {
              "outlinewidth": 0,
              "ticks": ""
             }
            },
            "type": "scatter3d"
           }
          ],
          "scattercarpet": [
           {
            "marker": {
             "colorbar": {
              "outlinewidth": 0,
              "ticks": ""
             }
            },
            "type": "scattercarpet"
           }
          ],
          "scattergeo": [
           {
            "marker": {
             "colorbar": {
              "outlinewidth": 0,
              "ticks": ""
             }
            },
            "type": "scattergeo"
           }
          ],
          "scattergl": [
           {
            "marker": {
             "colorbar": {
              "outlinewidth": 0,
              "ticks": ""
             }
            },
            "type": "scattergl"
           }
          ],
          "scattermapbox": [
           {
            "marker": {
             "colorbar": {
              "outlinewidth": 0,
              "ticks": ""
             }
            },
            "type": "scattermapbox"
           }
          ],
          "scatterpolar": [
           {
            "marker": {
             "colorbar": {
              "outlinewidth": 0,
              "ticks": ""
             }
            },
            "type": "scatterpolar"
           }
          ],
          "scatterpolargl": [
           {
            "marker": {
             "colorbar": {
              "outlinewidth": 0,
              "ticks": ""
             }
            },
            "type": "scatterpolargl"
           }
          ],
          "scatterternary": [
           {
            "marker": {
             "colorbar": {
              "outlinewidth": 0,
              "ticks": ""
             }
            },
            "type": "scatterternary"
           }
          ],
          "surface": [
           {
            "colorbar": {
             "outlinewidth": 0,
             "ticks": ""
            },
            "colorscale": [
             [
              0,
              "#0d0887"
             ],
             [
              0.1111111111111111,
              "#46039f"
             ],
             [
              0.2222222222222222,
              "#7201a8"
             ],
             [
              0.3333333333333333,
              "#9c179e"
             ],
             [
              0.4444444444444444,
              "#bd3786"
             ],
             [
              0.5555555555555556,
              "#d8576b"
             ],
             [
              0.6666666666666666,
              "#ed7953"
             ],
             [
              0.7777777777777778,
              "#fb9f3a"
             ],
             [
              0.8888888888888888,
              "#fdca26"
             ],
             [
              1,
              "#f0f921"
             ]
            ],
            "type": "surface"
           }
          ],
          "table": [
           {
            "cells": {
             "fill": {
              "color": "#EBF0F8"
             },
             "line": {
              "color": "white"
             }
            },
            "header": {
             "fill": {
              "color": "#C8D4E3"
             },
             "line": {
              "color": "white"
             }
            },
            "type": "table"
           }
          ]
         },
         "layout": {
          "annotationdefaults": {
           "arrowcolor": "#2a3f5f",
           "arrowhead": 0,
           "arrowwidth": 1
          },
          "autotypenumbers": "strict",
          "coloraxis": {
           "colorbar": {
            "outlinewidth": 0,
            "ticks": ""
           }
          },
          "colorscale": {
           "diverging": [
            [
             0,
             "#8e0152"
            ],
            [
             0.1,
             "#c51b7d"
            ],
            [
             0.2,
             "#de77ae"
            ],
            [
             0.3,
             "#f1b6da"
            ],
            [
             0.4,
             "#fde0ef"
            ],
            [
             0.5,
             "#f7f7f7"
            ],
            [
             0.6,
             "#e6f5d0"
            ],
            [
             0.7,
             "#b8e186"
            ],
            [
             0.8,
             "#7fbc41"
            ],
            [
             0.9,
             "#4d9221"
            ],
            [
             1,
             "#276419"
            ]
           ],
           "sequential": [
            [
             0,
             "#0d0887"
            ],
            [
             0.1111111111111111,
             "#46039f"
            ],
            [
             0.2222222222222222,
             "#7201a8"
            ],
            [
             0.3333333333333333,
             "#9c179e"
            ],
            [
             0.4444444444444444,
             "#bd3786"
            ],
            [
             0.5555555555555556,
             "#d8576b"
            ],
            [
             0.6666666666666666,
             "#ed7953"
            ],
            [
             0.7777777777777778,
             "#fb9f3a"
            ],
            [
             0.8888888888888888,
             "#fdca26"
            ],
            [
             1,
             "#f0f921"
            ]
           ],
           "sequentialminus": [
            [
             0,
             "#0d0887"
            ],
            [
             0.1111111111111111,
             "#46039f"
            ],
            [
             0.2222222222222222,
             "#7201a8"
            ],
            [
             0.3333333333333333,
             "#9c179e"
            ],
            [
             0.4444444444444444,
             "#bd3786"
            ],
            [
             0.5555555555555556,
             "#d8576b"
            ],
            [
             0.6666666666666666,
             "#ed7953"
            ],
            [
             0.7777777777777778,
             "#fb9f3a"
            ],
            [
             0.8888888888888888,
             "#fdca26"
            ],
            [
             1,
             "#f0f921"
            ]
           ]
          },
          "colorway": [
           "#636efa",
           "#EF553B",
           "#00cc96",
           "#ab63fa",
           "#FFA15A",
           "#19d3f3",
           "#FF6692",
           "#B6E880",
           "#FF97FF",
           "#FECB52"
          ],
          "font": {
           "color": "#2a3f5f"
          },
          "geo": {
           "bgcolor": "white",
           "lakecolor": "white",
           "landcolor": "#E5ECF6",
           "showlakes": true,
           "showland": true,
           "subunitcolor": "white"
          },
          "hoverlabel": {
           "align": "left"
          },
          "hovermode": "closest",
          "mapbox": {
           "style": "light"
          },
          "paper_bgcolor": "white",
          "plot_bgcolor": "#E5ECF6",
          "polar": {
           "angularaxis": {
            "gridcolor": "white",
            "linecolor": "white",
            "ticks": ""
           },
           "bgcolor": "#E5ECF6",
           "radialaxis": {
            "gridcolor": "white",
            "linecolor": "white",
            "ticks": ""
           }
          },
          "scene": {
           "xaxis": {
            "backgroundcolor": "#E5ECF6",
            "gridcolor": "white",
            "gridwidth": 2,
            "linecolor": "white",
            "showbackground": true,
            "ticks": "",
            "zerolinecolor": "white"
           },
           "yaxis": {
            "backgroundcolor": "#E5ECF6",
            "gridcolor": "white",
            "gridwidth": 2,
            "linecolor": "white",
            "showbackground": true,
            "ticks": "",
            "zerolinecolor": "white"
           },
           "zaxis": {
            "backgroundcolor": "#E5ECF6",
            "gridcolor": "white",
            "gridwidth": 2,
            "linecolor": "white",
            "showbackground": true,
            "ticks": "",
            "zerolinecolor": "white"
           }
          },
          "shapedefaults": {
           "line": {
            "color": "#2a3f5f"
           }
          },
          "ternary": {
           "aaxis": {
            "gridcolor": "white",
            "linecolor": "white",
            "ticks": ""
           },
           "baxis": {
            "gridcolor": "white",
            "linecolor": "white",
            "ticks": ""
           },
           "bgcolor": "#E5ECF6",
           "caxis": {
            "gridcolor": "white",
            "linecolor": "white",
            "ticks": ""
           }
          },
          "title": {
           "x": 0.05
          },
          "xaxis": {
           "automargin": true,
           "gridcolor": "white",
           "linecolor": "white",
           "ticks": "",
           "title": {
            "standoff": 15
           },
           "zerolinecolor": "white",
           "zerolinewidth": 2
          },
          "yaxis": {
           "automargin": true,
           "gridcolor": "white",
           "linecolor": "white",
           "ticks": "",
           "title": {
            "standoff": 15
           },
           "zerolinecolor": "white",
           "zerolinewidth": 2
          }
         }
        },
        "title": {
         "text": "Mean and Max (1-minute) Daily Wind Speed from SAIL MET Station in Gothic, CO"
        },
        "width": 1000,
        "xaxis": {
         "anchor": "y",
         "domain": [
          0,
          1
         ],
         "matches": "x2",
         "showticklabels": false,
         "ticktext": [
          "Nov",
          "Dec",
          "Jan",
          "Feb",
          "Mar",
          "Apr",
          "May"
         ],
         "tickvals": [
          31,
          61,
          92,
          122,
          153,
          183,
          214
         ]
        },
        "xaxis2": {
         "anchor": "y2",
         "domain": [
          0,
          1
         ],
         "ticktext": [
          "Nov",
          "Dec",
          "Jan",
          "Feb",
          "Mar",
          "Apr",
          "May"
         ],
         "tickvals": [
          31,
          61,
          92,
          122,
          153,
          183,
          214
         ],
         "title": {
          "text": "Day of Water Year"
         }
        },
        "yaxis": {
         "anchor": "x",
         "domain": [
          0.55,
          1
         ],
         "range": [
          0,
          10
         ],
         "title": {
          "text": "Wind Speed (m/s)"
         }
        },
        "yaxis2": {
         "anchor": "x2",
         "domain": [
          0,
          0.45
         ],
         "range": [
          0,
          40
         ],
         "title": {
          "text": "Wind Speed (m/s)"
         }
        }
       }
      },
      "text/html": [
       "<div>                            <div id=\"98c89e16-3db8-4323-89e8-dad4bc956aa5\" class=\"plotly-graph-div\" style=\"height:600px; width:1000px;\"></div>            <script type=\"text/javascript\">                require([\"plotly\"], function(Plotly) {                    window.PLOTLYENV=window.PLOTLYENV || {};                                    if (document.getElementById(\"98c89e16-3db8-4323-89e8-dad4bc956aa5\")) {                    Plotly.newPlot(                        \"98c89e16-3db8-4323-89e8-dad4bc956aa5\",                        [{\"marker\":{\"color\":\"blue\"},\"name\":\"2021-2022\",\"x\":[66,67,68,69,70,71,72,73,74,75,76,77,78,79,80,81,82,83,84,85,86,87,88,89,90,91,92,93,94,95,96,97,98,99,100,101,102,103,104,105,106,107,108,109,110,111,112,113,114,115,116,117,118,119,120,121,122,123,124,125,126,127,128,129,130,131,132,133,134,135,136,137,138,139,140,141,142,143,144,145,146,147,148,149,150,151,152,153,154,155,156,157,158,159,160,161,162,163,164,165,166,167,168,169,170,171,172,173,174,175,176,177,178,179,180,181,182,183,184,185,186,187,188,189,190,191,192,193,194,195,196,197,198,199,200,201,202,203,204,205,206,207,208,209,210,211,212],\"y\":[2.733745813369751,2.018946409225464,1.4631381034851074,2.874823570251465,4.117358207702637,1.913217544555664,1.3101311922073364,1.3173389434814453,1.2472500801086426,3.9112322330474854,2.288583993911743,2.4958646297454834,1.415576457977295,0.941542387008667,1.0678993463516235,1.8733770847320557,2.013011932373047,1.4712673425674438,3.2937211990356445,3.707397699356079,3.696390390396118,2.779942274093628,4.506227970123291,2.1704492568969727,2.5833520889282227,2.0356545448303223,3.2726755142211914,1.8021098375320435,1.1192235946655273,3.35949444770813,6.801045894622803,5.280323028564453,2.221445083618164,2.467771053314209,1.368706226348877,1.022468090057373,1.0129319429397583,1.0229653120040894,1.0725382566452026,3.247565269470215,2.709902763366699,0.998718798160553,0.9686465859413147,1.1242250204086304,1.5224778652191162,1.8385145664215088,0.8956625461578369,1.0676673650741577,1.250673532485962,2.1236116886138916,1.0369436740875244,1.4749243259429932,1.800897240638733,1.2184284925460815,0.921692430973053,1.1749736070632935,1.9604027271270752,1.6950514316558838,2.4998176097869873,1.9994235038757324,1.3913249969482422,1.6265833377838135,2.9473822116851807,1.1572221517562866,2.4139564037323,4.4090728759765625,2.147963285446167,5.154786586761475,3.7590880393981934,2.2007436752319336,1.4323089122772217,1.6435465812683105,2.1344237327575684,3.4331326484680176,3.214329719543457,1.7361445426940918,2.080493211746216,3.0355186462402344,2.4926979541778564,2.6170382499694824,2.9217069149017334,1.2375195026397705,1.5907938480377197,1.1131980419158936,1.131770133972168,1.0985007286071777,1.0858540534973145,1.1909070014953613,1.5530303716659546,1.905258297920227,2.050429344177246,2.227341651916504,2.4285848140716553,1.7988312244415283,3.16738224029541,3.9758615493774414,2.385382652282715,1.6780985593795776,2.549691677093506,1.6497846841812134,1.8641499280929565,3.663458824157715,2.663665294647217,1.4742597341537476,1.639256238937378,3.5776784420013428,4.980388641357422,4.038214206695557,3.112673044204712,2.26608943939209,2.1394402980804443,1.7345716953277588,2.331381320953369,3.0286152362823486,4.898231506347656,2.8956034183502197,3.019118309020996,2.1164042949676514,2.3856985569000244,1.9793866872787476,4.991142272949219,5.678573131561279,4.57778263092041,2.8557941913604736,1.9731340408325195,4.724891185760498,2.118929147720337,5.657805919647217,3.1989126205444336,3.670767307281494,1.5936930179595947,2.0660464763641357,3.221978187561035,2.452343702316284,2.5357234477996826,4.431447505950928,1.8055979013442993,2.9224092960357666,3.6654751300811768,1.823865294456482,1.5757173299789429,1.7112700939178467,1.9297034740447998,2.0667998790740967,4.1419806480407715,2.657654047012329,1.9535847902297974],\"type\":\"scatter\",\"xaxis\":\"x\",\"yaxis\":\"y\",\"hovertemplate\":\"Day of Water Year: %{x}\\u003cbr\\u003eWind Speed: %{y:.2f} m\\u002fs\"},{\"marker\":{\"color\":\"red\"},\"name\":\"2022-2023\",\"x\":[59,60,61,62,63,64,65,66,67,68,69,70,71,72,73,74,75,76,77,78,79,80,81,82,83,84,85,86,87,88,89,90,91,92,93,94,95,96,97,98,99,100,101,102,103,104,105,106,107,108,109,110,111,112,113,114,115,116,117,118,119,120,121,122,123,124,125,126,127,128,129,130,131,132,133,134,135,136,137,138,139,140,141,142,143,144,145,146,147,148,149,150,151,152,153,154,155,156,157,158,159,160,161,162,163,164,165,166,167,168,169,170,171,172,173,174,175,176,177,178,179,180,181,182,183,184,185,186,187,188,189,190,191,192,193,194,195,196,197,198,199,200,201,202,203,204,205,206,207,208,209,210,211,212,213,214,215,216,217,218],\"y\":[3.8534741401672363,1.295133352279663,1.6193236112594604,3.7914202213287354,1.594514012336731,1.1931006908416748,2.5826826095581055,3.187075138092041,0.9023756980895996,3.4457805156707764,1.2932860851287842,1.3350576162338257,1.3502458333969116,1.69612717628479,4.490854740142822,6.240338325500488,3.076547622680664,3.6152758598327637,1.2455909252166748,1.0516972541809082,1.4888381958007812,1.315911054611206,2.867152214050293,7.455778121948242,1.6991283893585205,1.7847082614898682,3.0278429985046387,3.009474277496338,1.6256083250045776,1.410360336303711,2.5840208530426025,1.1811749935150146,0.9708382487297058,1.4513875246047974,1.4984756708145142,1.5296763181686401,4.361491680145264,1.281982660293579,1.2135354280471802,1.165791630744934,1.3496195077896118,1.1925361156463623,1.541759729385376,2.8279130458831787,1.771272897720337,0.8826631903648376,1.447595238685608,1.4937514066696167,1.0975278615951538,0.9508041143417358,3.594773054122925,1.9467895030975342,1.0947812795639038,2.2683777809143066,1.985539436340332,1.229827880859375,1.9228458404541016,3.2970895767211914,2.353353500366211,1.8225153684616089,2.9252007007598877,1.7398104667663574,3.2719218730926514,2.3280513286590576,1.0999083518981934,1.2175707817077637,1.2877395153045654,1.9858089685440063,1.8921716213226318,4.088433265686035,1.5641118288040161,1.891019344329834,4.07409143447876,1.3824026584625244,0.9256561994552612,1.199898600578308,1.247321605682373,2.6008055210113525,1.4433437585830688,1.5966596603393555,0.9827555418014526,1.8044952154159546,4.58154821395874,4.562978267669678,2.5869410037994385,3.445075750350952,3.406397819519043,2.8984501361846924,1.438350796699524,2.0197644233703613,2.6566569805145264,2.9384493827819824,1.6062132120132446,1.969996452331543,2.037820339202881,1.574186086654663,3.5394890308380127,3.2765252590179443,3.6265156269073486,2.0811703205108643,4.282574653625488,1.2622506618499756,2.4653375148773193,1.3751486539840698,1.8271104097366333,1.497382640838623,0.9759228825569153,3.3445217609405518,2.4860143661499023,1.685137391090393,1.5880118608474731,1.2692139148712158,2.03741455078125,3.678367853164673,2.0638582706451416,2.01935076713562,3.667457342147827,1.314858317375183,3.0281944274902344,1.5364166498184204,1.548732042312622,2.136045217514038,4.435161590576172,2.173971652984619,3.056023597717285,3.8999409675598145,3.7649223804473877,2.7274041175842285,1.4638200998306274,1.4710381031036377,1.7078368663787842,2.211552858352661,1.162543773651123,1.5594035387039185,2.02787709236145,2.817394495010376,2.795315980911255,3.8486416339874268,1.9592610597610474,1.5186694860458374,2.780935287475586,3.905433177947998,3.6244585514068604,2.3137924671173096,3.2054481506347656,2.019209146499634,1.6028306484222412,2.0548999309539795,2.294151544570923,2.7227556705474854,4.285274982452393,1.946435570716858,2.4984610080718994,1.5116106271743774,1.773141622543335,1.5640519857406616,1.8670986890792847,2.2592785358428955,2.1818456649780273,2.0080854892730713],\"type\":\"scatter\",\"xaxis\":\"x\",\"yaxis\":\"y\",\"hovertemplate\":\"Day of Water Year: %{x}\\u003cbr\\u003eWind Speed: %{y:.2f} m\\u002fs\"},{\"marker\":{\"color\":\"blue\"},\"name\":\"2021-2022\",\"showlegend\":false,\"x\":[66,67,68,69,70,71,72,73,74,75,76,77,78,79,80,81,82,83,84,85,86,87,88,89,90,91,92,93,94,95,96,97,98,99,100,101,102,103,104,105,106,107,108,109,110,111,112,113,114,115,116,117,118,119,120,121,122,123,124,125,126,127,128,129,130,131,132,133,134,135,136,137,138,139,140,141,142,143,144,145,146,147,148,149,150,151,152,153,154,155,156,157,158,159,160,161,162,163,164,165,166,167,168,169,170,171,172,173,174,175,176,177,178,179,180,181,182,183,184,185,186,187,188,189,190,191,192,193,194,195,196,197,198,199,200,201,202,203,204,205,206,207,208,209,210,211,212],\"y\":[11.329999923706055,7.479000091552734,4.586999893188477,9.609999656677246,9.75,6.989999771118164,3.878000020980835,3.8919999599456787,3.9800000190734863,36.63999938964844,10.8100004196167,8.9399995803833,5.410999774932861,2.5969998836517334,3.375999927520752,7.057000160217285,10.050000190734863,9.279999732971191,11.260000228881836,28.280000686645508,17.0,10.710000038146973,13.109999656677246,7.736999988555908,9.220000267028809,10.380000114440918,8.630000114440918,8.109999656677246,2.9519999027252197,10.350000381469727,13.84000015258789,12.479999542236328,8.9399995803833,10.449999809265137,5.116000175476074,3.36299991607666,3.135999917984009,3.4719998836517334,3.1050000190734863,9.670000076293945,10.1899995803833,3.2799999713897705,2.632999897003174,3.2119998931884766,5.71999979019165,8.300000190734863,3.5929999351501465,3.072999954223633,4.656000137329102,7.250999927520752,4.340000152587891,5.848999977111816,7.611000061035156,4.368000030517578,2.9210000038146973,4.138000011444092,10.5600004196167,7.716000080108643,5.742000102996826,7.241000175476074,7.158999919891357,7.079999923706055,8.40999984741211,3.739000082015991,10.09000015258789,10.329999923706055,10.079999923706055,11.300000190734863,11.65999984741211,7.9019999504089355,6.236999988555908,8.699999809265137,9.649999618530273,8.550000190734863,9.069999694824219,7.710000038146973,7.663000106811523,10.3100004196167,13.09000015258789,8.680000305175781,7.633999824523926,5.785999774932861,3.8910000324249268,3.8380000591278076,3.4830000400543213,3.759999990463257,2.989000082015991,3.0810000896453857,7.572999954223633,7.572999954223633,7.144999980926514,7.3470001220703125,6.986999988555908,9.0,11.15999984741211,10.270000457763672,8.520000457763672,7.947000026702881,6.816999912261963,6.072999954223633,6.89900016784668,7.8979997634887695,7.616000175476074,4.0970001220703125,7.616000175476074,8.510000228881836,10.800000190734863,11.210000038146973,9.229999542236328,9.420000076293945,8.880000114440918,6.666999816894531,7.710000038146973,10.65999984741211,10.619999885559082,7.735000133514404,8.170000076293945,7.915999889373779,8.75,8.9399995803833,12.739999771118164,11.210000038146973,10.880000114440918,8.1899995803833,10.479999542236328,12.020000457763672,12.09000015258789,17.540000915527344,10.40999984741211,11.210000038146973,8.390000343322754,11.180000305175781,14.779999732971191,9.640000343322754,10.029999732971191,14.130000114440918,7.60699987411499,16.31999969482422,9.699999809265137,8.449999809265137,5.414000034332275,7.264999866485596,7.019999980926514,8.619999885559082,11.270000457763672,8.09000015258789,8.880000114440918],\"type\":\"scatter\",\"xaxis\":\"x2\",\"yaxis\":\"y2\",\"hovertemplate\":\"Day of Water Year: %{x}\\u003cbr\\u003eWind Speed: %{y:.2f} m\\u002fs\"},{\"marker\":{\"color\":\"red\"},\"name\":\"2022-2023\",\"showlegend\":false,\"x\":[59,60,61,62,63,64,65,66,67,68,69,70,71,72,73,74,75,76,77,78,79,80,81,82,83,84,85,86,87,88,89,90,91,92,93,94,95,96,97,98,99,100,101,102,103,104,105,106,107,108,109,110,111,112,113,114,115,116,117,118,119,120,121,122,123,124,125,126,127,128,129,130,131,132,133,134,135,136,137,138,139,140,141,142,143,144,145,146,147,148,149,150,151,152,153,154,155,156,157,158,159,160,161,162,163,164,165,166,167,168,169,170,171,172,173,174,175,176,177,178,179,180,181,182,183,184,185,186,187,188,189,190,191,192,193,194,195,196,197,198,199,200,201,202,203,204,205,206,207,208,209,210,211,212,213,214,215,216,217,218],\"y\":[9.869999885559082,6.183000087738037,5.326000213623047,15.630000114440918,10.539999961853027,4.309999942779541,8.960000038146973,11.010000228881836,5.860000133514404,9.989999771118164,3.5959999561309814,6.738999843597412,3.5910000801086426,6.948999881744385,10.100000381469727,9.75,7.892000198364258,8.039999961853027,5.071000099182129,3.319999933242798,6.177000045776367,3.690000057220459,10.5600004196167,19.360000610351562,8.039999961853027,8.029999732971191,12.3100004196167,8.65999984741211,8.319999694824219,5.638999938964844,8.479999542236328,5.51800012588501,5.020999908447266,6.908999919891357,5.255000114440918,8.039999961853027,9.350000381469727,4.3420000076293945,6.515999794006348,5.669000148773193,4.4029998779296875,4.848999977111816,8.449999809265137,9.470000267028809,6.303999900817871,2.4519999027252197,6.6570000648498535,8.949999809265137,5.025000095367432,5.359000205993652,8.510000228881836,5.986000061035156,3.2890000343322754,8.029999732971191,7.9019999504089355,3.2839999198913574,6.9029998779296875,7.36899995803833,9.6899995803833,10.34000015258789,9.460000038146973,10.979999542236328,10.850000381469727,8.039999961853027,3.684000015258789,7.466000080108643,5.875,7.4120001792907715,11.880000114440918,11.4399995803833,7.781000137329102,8.479999542236328,9.710000038146973,4.519000053405762,2.5450000762939453,3.513000011444092,5.51200008392334,10.970000267028809,5.36899995803833,6.955999851226807,3.6649999618530273,8.510000228881836,13.880000114440918,11.699999809265137,8.760000228881836,14.569999694824219,9.9399995803833,10.819999694824219,6.480999946594238,9.479999542236328,9.1899995803833,10.289999961853027,10.229999542236328,7.320000171661377,8.34000015258789,6.816999912261963,11.029999732971191,11.15999984741211,10.5,9.75,13.680000305175781,6.9029998779296875,8.1899995803833,4.734000205993652,6.959000110626221,5.741000175476074,3.252000093460083,7.769999980926514,7.182000160217285,5.730000019073486,4.442999839782715,4.197999954223633,11.229999542236328,12.930000305175781,8.34000015258789,8.180000305175781,9.25,7.941999912261963,8.180000305175781,5.072999954223633,3.8450000286102295,10.6899995803833,9.800000190734863,8.449999809265137,13.079999923706055,10.329999923706055,11.729999542236328,8.670000076293945,5.316999912261963,7.229000091552734,9.579999923706055,8.729999542236328,3.6110000610351562,6.117000102996826,11.609999656677246,9.720000267028809,8.890000343322754,8.949999809265137,7.218999862670898,6.479000091552734,11.069999694824219,13.229999542236328,10.34000015258789,7.283999919891357,10.779999732971191,6.559999942779541,6.9629998207092285,8.979999542236328,6.658999919891357,8.109999656677246,11.369999885559082,6.810999870300293,8.520000457763672,6.8420000076293945,6.197999954223633,5.215000152587891,5.756999969482422,8.890000343322754,7.052000045776367,6.982999801635742],\"type\":\"scatter\",\"xaxis\":\"x2\",\"yaxis\":\"y2\",\"hovertemplate\":\"Day of Water Year: %{x}\\u003cbr\\u003eWind Speed: %{y:.2f} m\\u002fs\"}],                        {\"template\":{\"data\":{\"histogram2dcontour\":[{\"type\":\"histogram2dcontour\",\"colorbar\":{\"outlinewidth\":0,\"ticks\":\"\"},\"colorscale\":[[0.0,\"#0d0887\"],[0.1111111111111111,\"#46039f\"],[0.2222222222222222,\"#7201a8\"],[0.3333333333333333,\"#9c179e\"],[0.4444444444444444,\"#bd3786\"],[0.5555555555555556,\"#d8576b\"],[0.6666666666666666,\"#ed7953\"],[0.7777777777777778,\"#fb9f3a\"],[0.8888888888888888,\"#fdca26\"],[1.0,\"#f0f921\"]]}],\"choropleth\":[{\"type\":\"choropleth\",\"colorbar\":{\"outlinewidth\":0,\"ticks\":\"\"}}],\"histogram2d\":[{\"type\":\"histogram2d\",\"colorbar\":{\"outlinewidth\":0,\"ticks\":\"\"},\"colorscale\":[[0.0,\"#0d0887\"],[0.1111111111111111,\"#46039f\"],[0.2222222222222222,\"#7201a8\"],[0.3333333333333333,\"#9c179e\"],[0.4444444444444444,\"#bd3786\"],[0.5555555555555556,\"#d8576b\"],[0.6666666666666666,\"#ed7953\"],[0.7777777777777778,\"#fb9f3a\"],[0.8888888888888888,\"#fdca26\"],[1.0,\"#f0f921\"]]}],\"heatmap\":[{\"type\":\"heatmap\",\"colorbar\":{\"outlinewidth\":0,\"ticks\":\"\"},\"colorscale\":[[0.0,\"#0d0887\"],[0.1111111111111111,\"#46039f\"],[0.2222222222222222,\"#7201a8\"],[0.3333333333333333,\"#9c179e\"],[0.4444444444444444,\"#bd3786\"],[0.5555555555555556,\"#d8576b\"],[0.6666666666666666,\"#ed7953\"],[0.7777777777777778,\"#fb9f3a\"],[0.8888888888888888,\"#fdca26\"],[1.0,\"#f0f921\"]]}],\"heatmapgl\":[{\"type\":\"heatmapgl\",\"colorbar\":{\"outlinewidth\":0,\"ticks\":\"\"},\"colorscale\":[[0.0,\"#0d0887\"],[0.1111111111111111,\"#46039f\"],[0.2222222222222222,\"#7201a8\"],[0.3333333333333333,\"#9c179e\"],[0.4444444444444444,\"#bd3786\"],[0.5555555555555556,\"#d8576b\"],[0.6666666666666666,\"#ed7953\"],[0.7777777777777778,\"#fb9f3a\"],[0.8888888888888888,\"#fdca26\"],[1.0,\"#f0f921\"]]}],\"contourcarpet\":[{\"type\":\"contourcarpet\",\"colorbar\":{\"outlinewidth\":0,\"ticks\":\"\"}}],\"contour\":[{\"type\":\"contour\",\"colorbar\":{\"outlinewidth\":0,\"ticks\":\"\"},\"colorscale\":[[0.0,\"#0d0887\"],[0.1111111111111111,\"#46039f\"],[0.2222222222222222,\"#7201a8\"],[0.3333333333333333,\"#9c179e\"],[0.4444444444444444,\"#bd3786\"],[0.5555555555555556,\"#d8576b\"],[0.6666666666666666,\"#ed7953\"],[0.7777777777777778,\"#fb9f3a\"],[0.8888888888888888,\"#fdca26\"],[1.0,\"#f0f921\"]]}],\"surface\":[{\"type\":\"surface\",\"colorbar\":{\"outlinewidth\":0,\"ticks\":\"\"},\"colorscale\":[[0.0,\"#0d0887\"],[0.1111111111111111,\"#46039f\"],[0.2222222222222222,\"#7201a8\"],[0.3333333333333333,\"#9c179e\"],[0.4444444444444444,\"#bd3786\"],[0.5555555555555556,\"#d8576b\"],[0.6666666666666666,\"#ed7953\"],[0.7777777777777778,\"#fb9f3a\"],[0.8888888888888888,\"#fdca26\"],[1.0,\"#f0f921\"]]}],\"mesh3d\":[{\"type\":\"mesh3d\",\"colorbar\":{\"outlinewidth\":0,\"ticks\":\"\"}}],\"scatter\":[{\"fillpattern\":{\"fillmode\":\"overlay\",\"size\":10,\"solidity\":0.2},\"type\":\"scatter\"}],\"parcoords\":[{\"type\":\"parcoords\",\"line\":{\"colorbar\":{\"outlinewidth\":0,\"ticks\":\"\"}}}],\"scatterpolargl\":[{\"type\":\"scatterpolargl\",\"marker\":{\"colorbar\":{\"outlinewidth\":0,\"ticks\":\"\"}}}],\"bar\":[{\"error_x\":{\"color\":\"#2a3f5f\"},\"error_y\":{\"color\":\"#2a3f5f\"},\"marker\":{\"line\":{\"color\":\"#E5ECF6\",\"width\":0.5},\"pattern\":{\"fillmode\":\"overlay\",\"size\":10,\"solidity\":0.2}},\"type\":\"bar\"}],\"scattergeo\":[{\"type\":\"scattergeo\",\"marker\":{\"colorbar\":{\"outlinewidth\":0,\"ticks\":\"\"}}}],\"scatterpolar\":[{\"type\":\"scatterpolar\",\"marker\":{\"colorbar\":{\"outlinewidth\":0,\"ticks\":\"\"}}}],\"histogram\":[{\"marker\":{\"pattern\":{\"fillmode\":\"overlay\",\"size\":10,\"solidity\":0.2}},\"type\":\"histogram\"}],\"scattergl\":[{\"type\":\"scattergl\",\"marker\":{\"colorbar\":{\"outlinewidth\":0,\"ticks\":\"\"}}}],\"scatter3d\":[{\"type\":\"scatter3d\",\"line\":{\"colorbar\":{\"outlinewidth\":0,\"ticks\":\"\"}},\"marker\":{\"colorbar\":{\"outlinewidth\":0,\"ticks\":\"\"}}}],\"scattermapbox\":[{\"type\":\"scattermapbox\",\"marker\":{\"colorbar\":{\"outlinewidth\":0,\"ticks\":\"\"}}}],\"scatterternary\":[{\"type\":\"scatterternary\",\"marker\":{\"colorbar\":{\"outlinewidth\":0,\"ticks\":\"\"}}}],\"scattercarpet\":[{\"type\":\"scattercarpet\",\"marker\":{\"colorbar\":{\"outlinewidth\":0,\"ticks\":\"\"}}}],\"carpet\":[{\"aaxis\":{\"endlinecolor\":\"#2a3f5f\",\"gridcolor\":\"white\",\"linecolor\":\"white\",\"minorgridcolor\":\"white\",\"startlinecolor\":\"#2a3f5f\"},\"baxis\":{\"endlinecolor\":\"#2a3f5f\",\"gridcolor\":\"white\",\"linecolor\":\"white\",\"minorgridcolor\":\"white\",\"startlinecolor\":\"#2a3f5f\"},\"type\":\"carpet\"}],\"table\":[{\"cells\":{\"fill\":{\"color\":\"#EBF0F8\"},\"line\":{\"color\":\"white\"}},\"header\":{\"fill\":{\"color\":\"#C8D4E3\"},\"line\":{\"color\":\"white\"}},\"type\":\"table\"}],\"barpolar\":[{\"marker\":{\"line\":{\"color\":\"#E5ECF6\",\"width\":0.5},\"pattern\":{\"fillmode\":\"overlay\",\"size\":10,\"solidity\":0.2}},\"type\":\"barpolar\"}],\"pie\":[{\"automargin\":true,\"type\":\"pie\"}]},\"layout\":{\"autotypenumbers\":\"strict\",\"colorway\":[\"#636efa\",\"#EF553B\",\"#00cc96\",\"#ab63fa\",\"#FFA15A\",\"#19d3f3\",\"#FF6692\",\"#B6E880\",\"#FF97FF\",\"#FECB52\"],\"font\":{\"color\":\"#2a3f5f\"},\"hovermode\":\"closest\",\"hoverlabel\":{\"align\":\"left\"},\"paper_bgcolor\":\"white\",\"plot_bgcolor\":\"#E5ECF6\",\"polar\":{\"bgcolor\":\"#E5ECF6\",\"angularaxis\":{\"gridcolor\":\"white\",\"linecolor\":\"white\",\"ticks\":\"\"},\"radialaxis\":{\"gridcolor\":\"white\",\"linecolor\":\"white\",\"ticks\":\"\"}},\"ternary\":{\"bgcolor\":\"#E5ECF6\",\"aaxis\":{\"gridcolor\":\"white\",\"linecolor\":\"white\",\"ticks\":\"\"},\"baxis\":{\"gridcolor\":\"white\",\"linecolor\":\"white\",\"ticks\":\"\"},\"caxis\":{\"gridcolor\":\"white\",\"linecolor\":\"white\",\"ticks\":\"\"}},\"coloraxis\":{\"colorbar\":{\"outlinewidth\":0,\"ticks\":\"\"}},\"colorscale\":{\"sequential\":[[0.0,\"#0d0887\"],[0.1111111111111111,\"#46039f\"],[0.2222222222222222,\"#7201a8\"],[0.3333333333333333,\"#9c179e\"],[0.4444444444444444,\"#bd3786\"],[0.5555555555555556,\"#d8576b\"],[0.6666666666666666,\"#ed7953\"],[0.7777777777777778,\"#fb9f3a\"],[0.8888888888888888,\"#fdca26\"],[1.0,\"#f0f921\"]],\"sequentialminus\":[[0.0,\"#0d0887\"],[0.1111111111111111,\"#46039f\"],[0.2222222222222222,\"#7201a8\"],[0.3333333333333333,\"#9c179e\"],[0.4444444444444444,\"#bd3786\"],[0.5555555555555556,\"#d8576b\"],[0.6666666666666666,\"#ed7953\"],[0.7777777777777778,\"#fb9f3a\"],[0.8888888888888888,\"#fdca26\"],[1.0,\"#f0f921\"]],\"diverging\":[[0,\"#8e0152\"],[0.1,\"#c51b7d\"],[0.2,\"#de77ae\"],[0.3,\"#f1b6da\"],[0.4,\"#fde0ef\"],[0.5,\"#f7f7f7\"],[0.6,\"#e6f5d0\"],[0.7,\"#b8e186\"],[0.8,\"#7fbc41\"],[0.9,\"#4d9221\"],[1,\"#276419\"]]},\"xaxis\":{\"gridcolor\":\"white\",\"linecolor\":\"white\",\"ticks\":\"\",\"title\":{\"standoff\":15},\"zerolinecolor\":\"white\",\"automargin\":true,\"zerolinewidth\":2},\"yaxis\":{\"gridcolor\":\"white\",\"linecolor\":\"white\",\"ticks\":\"\",\"title\":{\"standoff\":15},\"zerolinecolor\":\"white\",\"automargin\":true,\"zerolinewidth\":2},\"scene\":{\"xaxis\":{\"backgroundcolor\":\"#E5ECF6\",\"gridcolor\":\"white\",\"linecolor\":\"white\",\"showbackground\":true,\"ticks\":\"\",\"zerolinecolor\":\"white\",\"gridwidth\":2},\"yaxis\":{\"backgroundcolor\":\"#E5ECF6\",\"gridcolor\":\"white\",\"linecolor\":\"white\",\"showbackground\":true,\"ticks\":\"\",\"zerolinecolor\":\"white\",\"gridwidth\":2},\"zaxis\":{\"backgroundcolor\":\"#E5ECF6\",\"gridcolor\":\"white\",\"linecolor\":\"white\",\"showbackground\":true,\"ticks\":\"\",\"zerolinecolor\":\"white\",\"gridwidth\":2}},\"shapedefaults\":{\"line\":{\"color\":\"#2a3f5f\"}},\"annotationdefaults\":{\"arrowcolor\":\"#2a3f5f\",\"arrowhead\":0,\"arrowwidth\":1},\"geo\":{\"bgcolor\":\"white\",\"landcolor\":\"#E5ECF6\",\"subunitcolor\":\"white\",\"showland\":true,\"showlakes\":true,\"lakecolor\":\"white\"},\"title\":{\"x\":0.05},\"mapbox\":{\"style\":\"light\"}}},\"xaxis\":{\"anchor\":\"y\",\"domain\":[0.0,1.0],\"matches\":\"x2\",\"showticklabels\":false,\"ticktext\":[\"Nov\",\"Dec\",\"Jan\",\"Feb\",\"Mar\",\"Apr\",\"May\"],\"tickvals\":[31,61,92,122,153,183,214]},\"yaxis\":{\"anchor\":\"x\",\"domain\":[0.55,1.0],\"title\":{\"text\":\"Wind Speed (m\\u002fs)\"},\"range\":[0,10]},\"xaxis2\":{\"anchor\":\"y2\",\"domain\":[0.0,1.0],\"title\":{\"text\":\"Day of Water Year\"},\"ticktext\":[\"Nov\",\"Dec\",\"Jan\",\"Feb\",\"Mar\",\"Apr\",\"May\"],\"tickvals\":[31,61,92,122,153,183,214]},\"yaxis2\":{\"anchor\":\"x2\",\"domain\":[0.0,0.45],\"title\":{\"text\":\"Wind Speed (m\\u002fs)\"},\"range\":[0,40]},\"annotations\":[{\"font\":{\"size\":16},\"showarrow\":false,\"text\":\"Mean Daily Wind Speed\",\"x\":0.5,\"xanchor\":\"center\",\"xref\":\"paper\",\"y\":1.0,\"yanchor\":\"bottom\",\"yref\":\"paper\"},{\"font\":{\"size\":16},\"showarrow\":false,\"text\":\"Max Daily Wind Speed\",\"x\":0.5,\"xanchor\":\"center\",\"xref\":\"paper\",\"y\":0.45,\"yanchor\":\"bottom\",\"yref\":\"paper\"}],\"title\":{\"text\":\"Mean and Max (1-minute) Daily Wind Speed from SAIL MET Station in Gothic, CO\"},\"legend\":{\"title\":{\"text\":\"Winter\"}},\"width\":1000,\"height\":600},                        {\"responsive\": true}                    ).then(function(){\n",
       "                            \n",
       "var gd = document.getElementById('98c89e16-3db8-4323-89e8-dad4bc956aa5');\n",
       "var x = new MutationObserver(function (mutations, observer) {{\n",
       "        var display = window.getComputedStyle(gd).display;\n",
       "        if (!display || display === 'none') {{\n",
       "            console.log([gd, 'removed!']);\n",
       "            Plotly.purge(gd);\n",
       "            observer.disconnect();\n",
       "        }}\n",
       "}});\n",
       "\n",
       "// Listen for the removal of the full notebook cells\n",
       "var notebookContainer = gd.closest('#notebook-container');\n",
       "if (notebookContainer) {{\n",
       "    x.observe(notebookContainer, {childList: true});\n",
       "}}\n",
       "\n",
       "// Listen for the clearing of the current output cell\n",
       "var outputEl = gd.closest('.output');\n",
       "if (outputEl) {{\n",
       "    x.observe(outputEl, {childList: true});\n",
       "}}\n",
       "\n",
       "                        })                };                });            </script>        </div>"
      ]
     },
     "metadata": {},
     "output_type": "display_data"
    }
   ],
   "source": [
    "# plot the max wind speed for each day \n",
    "\n",
    "fig = make_subplots(rows=2, cols=1, shared_xaxes=True, vertical_spacing=0.1, subplot_titles=('Mean Daily Wind Speed','Max Daily Wind Speed'))\n",
    "fig.add_trace(go.Scatter(x=w22_mean_wspd.index, \n",
    "                         y=w22_mean_wspd['wspd_arith_mean'], \n",
    "                         name='2021-2022',\n",
    "                         marker_color='blue'),\n",
    "                         row=1, col=1)\n",
    "fig.add_trace(go.Scatter(x=w23_mean_wspd.index,\n",
    "                            y=w23_mean_wspd['wspd_arith_mean'],\n",
    "                            name='2022-2023',\n",
    "                            marker_color='red'),\n",
    "                            row=1, col=1)\n",
    "fig.add_trace(go.Scatter(x=w22_max_wspd.index, \n",
    "                         y=w22_max_wspd['wspd_arith_mean'], \n",
    "                         name='2021-2022',\n",
    "                         marker_color='blue',\n",
    "                         showlegend=False,),\n",
    "                         row=2, col=1)\n",
    "fig.add_trace(go.Scatter(x=w23_max_wspd.index,\n",
    "                            y=w23_max_wspd['wspd_arith_mean'],\n",
    "                            name='2022-2023',\n",
    "                            marker_color='red',\n",
    "                            showlegend=False,),\n",
    "                            row=2, col=1)\n",
    "fig.update_layout(\n",
    "    title = 'Mean and Max (1-minute) Daily Wind Speed from SAIL MET Station in Gothic, CO',\n",
    "    xaxis2_title='Day of Water Year',\n",
    "    yaxis1_title='Wind Speed (m/s)',\n",
    "    yaxis2_title='Wind Speed (m/s)',\n",
    "    legend_title='Winter',\n",
    "    # update the ylims\n",
    "    yaxis1_range=[0, 10],\n",
    "    yaxis2_range=[0, 40],\n",
    "    width=1000,\n",
    "    height=600,\n",
    ")\n",
    "# update the xaxis to show months\n",
    "fig.update_xaxes(\n",
    "    ticktext=['Nov','Dec','Jan','Feb','Mar','Apr','May'],\n",
    "    tickvals=[31,61,92,122,153,183,214],\n",
    ")\n",
    "# format the hover text\n",
    "fig.update_traces(hovertemplate='Day of Water Year: %{x}<br>Wind Speed: %{y:.2f} m/s')\n",
    "\n"
   ]
  },
  {
   "cell_type": "code",
   "execution_count": 73,
   "metadata": {},
   "outputs": [
    {
     "name": "stdout",
     "output_type": "stream",
     "text": [
      "Winter 2021-2022 mean daily wind speed: 2.41 m/s\n",
      "Winter 2022-2023 mean daily wind speed: 2.25 m/s\n",
      "Winter 2021-2022 standard deviation of daily wind speed: 1.18 m/s\n",
      "Winter 2022-2023 standard deviation of daily wind speed: 1.09 m/s\n",
      "Winter 2021-2022 95th percentile of daily wind speed: 4.85 m/s\n",
      "Winter 2022-2023 95th percentile of daily wind speed: 4.28 m/s\n"
     ]
    }
   ],
   "source": [
    "# print the mean wind speed for each winter\n",
    "print(f'Winter 2021-2022 mean daily wind speed: {w22_mean_wspd[\"wspd_arith_mean\"].mean():.2f} m/s')\n",
    "print(f'Winter 2022-2023 mean daily wind speed: {w23_mean_wspd[\"wspd_arith_mean\"].mean():.2f} m/s')\n",
    "# print the standard deviation of the wind speed for each winter\n",
    "print(f'Winter 2021-2022 standard deviation of daily wind speed: {w22_mean_wspd[\"wspd_arith_mean\"].std():.2f} m/s')\n",
    "print(f'Winter 2022-2023 standard deviation of daily wind speed: {w23_mean_wspd[\"wspd_arith_mean\"].std():.2f} m/s')\n",
    "# print the 95th percentile of the wind speed for each winter\n",
    "print(f'Winter 2021-2022 95th percentile of daily wind speed: {w22_mean_wspd[\"wspd_arith_mean\"].quantile(0.95):.2f} m/s')\n",
    "print(f'Winter 2022-2023 95th percentile of daily wind speed: {w23_mean_wspd[\"wspd_arith_mean\"].quantile(0.95):.2f} m/s')"
   ]
  },
  {
   "cell_type": "markdown",
   "metadata": {},
   "source": [
    "## 2. What were the general storm characteristics? Were they related?\n",
    "Again we'll characterize these events for each winter for the SAIL met tower only and compare across the winters, can advance this to other locations in the future. We'll plot:\n",
    "- specific humidity\n",
    "- temperature (line plot)\n",
    "- wind speed (line plot and box plot)\n",
    "- wind direction (box plots and wind rose)\n",
    "- pressure\n",
    "- precipitation rate (from laser disdrometer)\n",
    "\n",
    "For the top windy days each winter:\n",
    "- We'll grab the radiosondes and make those plots"
   ]
  },
  {
   "cell_type": "markdown",
   "metadata": {},
   "source": [
    "## 3. How much sublimation over the season came from these events?\n",
    "We will address this question by calculating hourly sublimation totals from SOS and SAIL over the winter period (dates may need to be adjusted to what Eli calculated with). Then for each of the days we calculated from above, we'll get the total sublimation from those specific days. \n",
    "1) First, make a timeseries plot of cumulative sublimation over the year. Add horizontal boxes that mark the days of each wind event\n",
    "2) Filter the hourly sublimation totals to just the days we want to include and sum the total. \n",
    "3) How well the days with the most sublimation correspond with these windy days."
   ]
  }
 ],
 "metadata": {
  "kernelspec": {
   "display_name": "sublime_synoptics",
   "language": "python",
   "name": "python3"
  },
  "language_info": {
   "codemirror_mode": {
    "name": "ipython",
    "version": 3
   },
   "file_extension": ".py",
   "mimetype": "text/x-python",
   "name": "python",
   "nbconvert_exporter": "python",
   "pygments_lexer": "ipython3",
   "version": "3.11.6"
  }
 },
 "nbformat": 4,
 "nbformat_minor": 2
}
