{
 "cells": [
  {
   "cell_type": "markdown",
   "metadata": {},
   "source": [
    "# Winter 2022 & 2023 Wind Events as Measured by SAIL\n",
    "\n",
    "Author: Daniel Hogan\n",
    "Created: January 17, 2024\n",
    "\n",
    "This notebook will start to address three main questions (with sub-focuses discussed below):\n",
    "1) What events had the highest percentile of wind speeds?\n",
    "2) What were the general storm characteristics? Were they related?\n",
    "3) How much sublimation over the season came from these events?"
   ]
  },
  {
   "cell_type": "markdown",
   "metadata": {},
   "source": [
    "### Imports\n"
   ]
  },
  {
   "cell_type": "code",
   "execution_count": 1,
   "metadata": {},
   "outputs": [
    {
     "name": "stdout",
     "output_type": "stream",
     "text": [
      "nctoolkit is using Climate Data Operators version 2.3.0\n"
     ]
    },
    {
     "data": {
      "text/html": [
       "        <script type=\"text/javascript\">\n",
       "        window.PlotlyConfig = {MathJaxConfig: 'local'};\n",
       "        if (window.MathJax && window.MathJax.Hub && window.MathJax.Hub.Config) {window.MathJax.Hub.Config({SVG: {font: \"STIX-Web\"}});}\n",
       "        if (typeof require !== 'undefined') {\n",
       "        require.undef(\"plotly\");\n",
       "        requirejs.config({\n",
       "            paths: {\n",
       "                'plotly': ['https://cdn.plot.ly/plotly-2.27.0.min']\n",
       "            }\n",
       "        });\n",
       "        require(['plotly'], function(Plotly) {\n",
       "            window._Plotly = Plotly;\n",
       "        });\n",
       "        }\n",
       "        </script>\n",
       "        "
      ]
     },
     "metadata": {},
     "output_type": "display_data"
    },
    {
     "data": {
      "text/html": [
       "        <script type=\"text/javascript\">\n",
       "        window.PlotlyConfig = {MathJaxConfig: 'local'};\n",
       "        if (window.MathJax && window.MathJax.Hub && window.MathJax.Hub.Config) {window.MathJax.Hub.Config({SVG: {font: \"STIX-Web\"}});}\n",
       "        if (typeof require !== 'undefined') {\n",
       "        require.undef(\"plotly\");\n",
       "        requirejs.config({\n",
       "            paths: {\n",
       "                'plotly': ['https://cdn.plot.ly/plotly-2.27.0.min']\n",
       "            }\n",
       "        });\n",
       "        require(['plotly'], function(Plotly) {\n",
       "            window._Plotly = Plotly;\n",
       "        });\n",
       "        }\n",
       "        </script>\n",
       "        "
      ]
     },
     "metadata": {},
     "output_type": "display_data"
    }
   ],
   "source": [
    "# general\n",
    "import os\n",
    "import glob\n",
    "import datetime as dt\n",
    "import json\n",
    "# data \n",
    "import xarray as xr \n",
    "from sublimpy import utils, variables, tidy, turbulence\n",
    "import numpy as np\n",
    "import pandas as pd\n",
    "from act import discovery, plotting\n",
    "# plotting\n",
    "import matplotlib.pyplot as plt\n",
    "from metpy.cbook import get_test_data\n",
    "from metpy.plots import add_metpy_logo, SkewT\n",
    "import plotly.express as px \n",
    "import plotly.graph_objects as go\n",
    "from plotly.subplots import make_subplots\n",
    "import cufflinks as cf\n",
    "from plotly.offline import download_plotlyjs, init_notebook_mode, plot, iplot\n",
    "# helper tools\n",
    "from scripts.get_sail_data import get_sail_data\n",
    "from scripts.helper_funcs import create_windrose_df, simple_sounding, mean_sounding\n",
    "import scripts.helper_funcs as hf\n",
    "from metpy import calc, units\n",
    "# make plotly work \n",
    "init_notebook_mode(connected=True)\n",
    "cf.go_offline()"
   ]
  },
  {
   "cell_type": "markdown",
   "metadata": {},
   "source": [
    "## 1. What events had the highest percentile of wind speeds?\n",
    "We will begin to address this by looking at daily average wind speeds during the SAIL campaign. I'll define winter in this case as spanning the same periods as the SOS campaign for the 2023 winter (November 29 - May 7) and the period when at least 6\" of snow were on the ground per billy barr's measurement. This is going to include a storm that brought his site up from 1\" to 6\" because I want to include that storm and see how it influenced the season (not much I imagine). So the 2022 winter spans December 6 to May 1. The end is loosly defined as when snow melt rates really start to pick up. In 2022, between April 23-May 1 we lost 41 cm of snow. A similar thing happed in 2023 between April 29 and May 7. Could be more direct with this definition, but we'll start with that. Thus, with a shorter winter, we expect less sublimation to occur in the 2022 winter.\n",
    "To \n",
    "classify the top 90th percentile of windy days during the main snow season for 2022 and 2023. This may need to be broken down further to capture wind events, but we'll start with this. We'll begin by comparing the days for 3-20 m wind speeds and compare tower-to-tower to make sure we have consistency at our location.\n",
    "\n",
    "1) We'll first make some box plots of daily average wind speeds at Gothic from SAIL, billy data, and 10m UW tower wind speed.\n",
    "2) We'll make a timeseries plot for each height bin and mark out the highest percentile of wind speeds for the year\n",
    "3) We'll then filter to the days with the highest 5% of wind speeds over each winter and see how they compare to each other.\n"
   ]
  },
  {
   "cell_type": "markdown",
   "metadata": {},
   "source": [
    "### Setup to download SAIL data"
   ]
  },
  {
   "cell_type": "code",
   "execution_count": 2,
   "metadata": {},
   "outputs": [],
   "source": [
    "# Function to load ARM credentials\n",
    "def load_arm_credentials(credential_path):\n",
    "    with open(credential_path, 'r') as f:\n",
    "        credentials = json.load(f)\n",
    "    return credentials\n",
    "# Location of ARM credentials\n",
    "credential_path = '/home/dlhogan/.act_config.json'\n",
    "credentials = load_arm_credentials(credential_path)\n",
    "# api token and username for ARM\n",
    "api_username = credentials.get('username')\n",
    "api_token = credentials.get('token')\n",
    "\n",
    "sail_datastream_dict = {\n",
    "    \"radiosonde\":\"gucsondewnpnM1.b1\",\n",
    "    \"met\":\"gucmetM1.b1\",\n",
    "    \"eddy_covariance_kettle_ponds\":\"guc30qcecorS3.s1\",\n",
    "    # \"eddy_covariance_kettle_ponds_noqc\":\"guc30ecorS3.b1\",\n",
    "    # \"wind_profiler\":\"guc915rwpwindconM1.a1\",\n",
    "    # \"doppler_lidar\":\"gucdlprofwind4newsM1.c1\",\n",
    "    \"laser_disdrometer_gothic\":\"gucldM1.b1\",\n",
    "    # \"sebs\":\"gucsebsS3.b1\"\n",
    "    # \"laser_disdrometer_mt_cb\":\"gucldS2.b1\",\n",
    "}"
   ]
  },
  {
   "cell_type": "code",
   "execution_count": 3,
   "metadata": {},
   "outputs": [],
   "source": [
    "winter_22 = ('20211001','20220930')\n",
    "winter_23 = ('20221001','20230930')"
   ]
  },
  {
   "cell_type": "code",
   "execution_count": 4,
   "metadata": {},
   "outputs": [],
   "source": [
    "# Set the location of the data folder where this data will be stored\n",
    "winter_22_folder = 'winter_21_22'\n",
    "winter_23_folder = 'winter_22_23'\n",
    " # change to location of data folder on your machine\n",
    "storage_directory = f'/storage/dlhogan/synoptic_sublimation/'\n",
    "# create a sail_data folder if it does not exist\n",
    "if not os.path.exists(os.path.join(storage_directory,'sail_data')):\n",
    "    os.makedirs(os.path.join(storage_directory,'sail_data'))\n",
    "# create a folder for the event if it does not exist\n",
    "if not os.path.exists(os.path.join(storage_directory,'sail_data',winter_22_folder)):\n",
    "    os.makedirs(os.path.join(storage_directory,'sail_data',winter_22_folder))\n",
    "if not os.path.exists(os.path.join(storage_directory,'sail_data',winter_22_folder,'radiosonde')):\n",
    "    os.makedirs(os.path.join(storage_directory,'sail_data',winter_22_folder,'radiosonde'))\n",
    "# create a folder for the event if it does not exist\n",
    "if not os.path.exists(os.path.join(storage_directory,'sail_data',winter_23_folder)):\n",
    "    os.makedirs(os.path.join(storage_directory,'sail_data',winter_23_folder))\n",
    "    # make a radiosonde folder if it does not exist\n",
    "if not os.path.exists(os.path.join(storage_directory,'sail_data',winter_23_folder,'radiosonde')):\n",
    "    os.makedirs(os.path.join(storage_directory,'sail_data',winter_23_folder,'radiosonde'))"
   ]
  },
  {
   "cell_type": "markdown",
   "metadata": {},
   "source": [
    "### Download winter 2022 data from SAIL\n",
    "For now we will just get met, ecor, and laser disdrometer data"
   ]
  },
  {
   "cell_type": "code",
   "execution_count": 5,
   "metadata": {},
   "outputs": [
    {
     "name": "stdout",
     "output_type": "stream",
     "text": [
      "Radiosonde data donwloaded. Data files include:\n",
      "gucsondewnpnM1.b1.20211001.113000.cdf\n",
      "gucsondewnpnM1.b1.20211001.232900.cdf\n",
      "gucsondewnpnM1.b1.20211002.113300.cdf\n",
      "gucsondewnpnM1.b1.20211002.231800.cdf\n",
      "gucsondewnpnM1.b1.20211003.112400.cdf\n",
      "gucsondewnpnM1.b1.20211003.232900.cdf\n",
      "gucsondewnpnM1.b1.20211004.112900.cdf\n",
      "gucsondewnpnM1.b1.20211004.232200.cdf\n",
      "gucsondewnpnM1.b1.20211005.113000.cdf\n",
      "gucsondewnpnM1.b1.20211005.232600.cdf\n",
      "gucsondewnpnM1.b1.20211006.113000.cdf\n",
      "gucsondewnpnM1.b1.20211006.233000.cdf\n",
      "gucsondewnpnM1.b1.20211007.112900.cdf\n",
      "gucsondewnpnM1.b1.20211007.232900.cdf\n",
      "gucsondewnpnM1.b1.20211008.113400.cdf\n",
      "gucsondewnpnM1.b1.20211008.120200.cdf\n",
      "gucsondewnpnM1.b1.20211008.232800.cdf\n",
      "gucsondewnpnM1.b1.20211009.112800.cdf\n",
      "gucsondewnpnM1.b1.20211009.114900.cdf\n",
      "gucsondewnpnM1.b1.20211009.232800.cdf\n",
      "gucsondewnpnM1.b1.20211010.113000.cdf\n",
      "gucsondewnpnM1.b1.20211010.231500.cdf\n",
      "gucsondewnpnM1.b1.20211011.112900.cdf\n",
      "gucsondewnpnM1.b1.20211011.231300.cdf\n",
      "gucsondewnpnM1.b1.20211012.113500.cdf\n",
      "gucsondewnpnM1.b1.20211012.233000.cdf\n",
      "gucsondewnpnM1.b1.20211013.113000.cdf\n",
      "gucsondewnpnM1.b1.20211013.231800.cdf\n",
      "gucsondewnpnM1.b1.20211014.113100.cdf\n",
      "gucsondewnpnM1.b1.20211014.231900.cdf\n",
      "gucsondewnpnM1.b1.20211015.113300.cdf\n",
      "gucsondewnpnM1.b1.20211015.232900.cdf\n",
      "gucsondewnpnM1.b1.20211016.113600.cdf\n",
      "gucsondewnpnM1.b1.20211016.233000.cdf\n",
      "gucsondewnpnM1.b1.20211017.113700.cdf\n",
      "gucsondewnpnM1.b1.20211017.233000.cdf\n",
      "gucsondewnpnM1.b1.20211018.112900.cdf\n",
      "gucsondewnpnM1.b1.20211018.233000.cdf\n",
      "gucsondewnpnM1.b1.20211019.113700.cdf\n",
      "gucsondewnpnM1.b1.20211019.232900.cdf\n",
      "gucsondewnpnM1.b1.20211020.112900.cdf\n",
      "gucsondewnpnM1.b1.20211020.233000.cdf\n",
      "gucsondewnpnM1.b1.20211021.112800.cdf\n",
      "gucsondewnpnM1.b1.20211021.232900.cdf\n",
      "gucsondewnpnM1.b1.20211022.112900.cdf\n",
      "gucsondewnpnM1.b1.20211022.231100.cdf\n",
      "gucsondewnpnM1.b1.20211023.112300.cdf\n",
      "gucsondewnpnM1.b1.20211023.232800.cdf\n",
      "gucsondewnpnM1.b1.20211024.112300.cdf\n",
      "gucsondewnpnM1.b1.20211024.233100.cdf\n",
      "gucsondewnpnM1.b1.20211025.112900.cdf\n",
      "gucsondewnpnM1.b1.20211025.231800.cdf\n",
      "gucsondewnpnM1.b1.20211026.112900.cdf\n",
      "gucsondewnpnM1.b1.20211026.232000.cdf\n",
      "gucsondewnpnM1.b1.20211027.113200.cdf\n",
      "gucsondewnpnM1.b1.20211027.232600.cdf\n",
      "gucsondewnpnM1.b1.20211028.113000.cdf\n",
      "gucsondewnpnM1.b1.20211028.232400.cdf\n",
      "gucsondewnpnM1.b1.20211029.113000.cdf\n",
      "gucsondewnpnM1.b1.20211029.233700.cdf\n",
      "gucsondewnpnM1.b1.20211030.113100.cdf\n",
      "gucsondewnpnM1.b1.20211030.232700.cdf\n",
      "gucsondewnpnM1.b1.20211031.113200.cdf\n",
      "gucsondewnpnM1.b1.20211031.232100.cdf\n",
      "gucsondewnpnM1.b1.20211101.112800.cdf\n",
      "gucsondewnpnM1.b1.20211101.232000.cdf\n",
      "gucsondewnpnM1.b1.20211102.112400.cdf\n",
      "gucsondewnpnM1.b1.20211102.233400.cdf\n",
      "gucsondewnpnM1.b1.20211103.112900.cdf\n",
      "gucsondewnpnM1.b1.20211103.232600.cdf\n",
      "gucsondewnpnM1.b1.20211104.112800.cdf\n",
      "gucsondewnpnM1.b1.20211104.232800.cdf\n",
      "gucsondewnpnM1.b1.20211105.112200.cdf\n",
      "gucsondewnpnM1.b1.20211105.233000.cdf\n",
      "gucsondewnpnM1.b1.20211106.113200.cdf\n",
      "gucsondewnpnM1.b1.20211106.232900.cdf\n",
      "gucsondewnpnM1.b1.20211107.112900.cdf\n",
      "gucsondewnpnM1.b1.20211107.232500.cdf\n",
      "gucsondewnpnM1.b1.20211108.113000.cdf\n",
      "gucsondewnpnM1.b1.20211108.232500.cdf\n",
      "gucsondewnpnM1.b1.20211109.112700.cdf\n",
      "gucsondewnpnM1.b1.20211109.232900.cdf\n",
      "gucsondewnpnM1.b1.20211110.111900.cdf\n",
      "gucsondewnpnM1.b1.20211110.232800.cdf\n",
      "gucsondewnpnM1.b1.20211111.113200.cdf\n",
      "gucsondewnpnM1.b1.20211111.232800.cdf\n",
      "gucsondewnpnM1.b1.20211112.112900.cdf\n",
      "gucsondewnpnM1.b1.20211112.232900.cdf\n",
      "gucsondewnpnM1.b1.20211113.113000.cdf\n",
      "gucsondewnpnM1.b1.20211113.232800.cdf\n",
      "gucsondewnpnM1.b1.20211114.112900.cdf\n",
      "gucsondewnpnM1.b1.20211114.233000.cdf\n",
      "gucsondewnpnM1.b1.20211115.112900.cdf\n",
      "gucsondewnpnM1.b1.20211115.233400.cdf\n",
      "gucsondewnpnM1.b1.20211116.113000.cdf\n",
      "gucsondewnpnM1.b1.20211116.232900.cdf\n",
      "gucsondewnpnM1.b1.20211117.113000.cdf\n",
      "gucsondewnpnM1.b1.20211117.233200.cdf\n",
      "gucsondewnpnM1.b1.20211118.112800.cdf\n",
      "gucsondewnpnM1.b1.20211118.233300.cdf\n",
      "gucsondewnpnM1.b1.20211119.112900.cdf\n",
      "gucsondewnpnM1.b1.20211119.233000.cdf\n",
      "gucsondewnpnM1.b1.20211120.111600.cdf\n",
      "gucsondewnpnM1.b1.20211120.233000.cdf\n",
      "gucsondewnpnM1.b1.20211121.122500.cdf\n",
      "gucsondewnpnM1.b1.20211121.234500.cdf\n",
      "gucsondewnpnM1.b1.20211122.113000.cdf\n",
      "gucsondewnpnM1.b1.20211122.232700.cdf\n",
      "gucsondewnpnM1.b1.20211123.112000.cdf\n",
      "gucsondewnpnM1.b1.20211123.232900.cdf\n",
      "gucsondewnpnM1.b1.20211124.112900.cdf\n",
      "gucsondewnpnM1.b1.20211124.232800.cdf\n",
      "gucsondewnpnM1.b1.20211125.113900.cdf\n",
      "gucsondewnpnM1.b1.20211125.233600.cdf\n",
      "gucsondewnpnM1.b1.20211126.232700.cdf\n",
      "gucsondewnpnM1.b1.20211127.112800.cdf\n",
      "gucsondewnpnM1.b1.20211127.232000.cdf\n",
      "gucsondewnpnM1.b1.20211128.113300.cdf\n",
      "gucsondewnpnM1.b1.20211128.232800.cdf\n",
      "gucsondewnpnM1.b1.20211129.112900.cdf\n",
      "gucsondewnpnM1.b1.20211129.233000.cdf\n",
      "gucsondewnpnM1.b1.20211130.112300.cdf\n",
      "gucsondewnpnM1.b1.20211130.232700.cdf\n",
      "gucsondewnpnM1.b1.20211201.112500.cdf\n",
      "gucsondewnpnM1.b1.20211201.232600.cdf\n",
      "gucsondewnpnM1.b1.20211202.113800.cdf\n",
      "gucsondewnpnM1.b1.20211202.230500.cdf\n",
      "gucsondewnpnM1.b1.20211203.113200.cdf\n",
      "gucsondewnpnM1.b1.20211203.232900.cdf\n",
      "gucsondewnpnM1.b1.20211204.112900.cdf\n",
      "gucsondewnpnM1.b1.20211204.233000.cdf\n",
      "gucsondewnpnM1.b1.20211205.113000.cdf\n",
      "gucsondewnpnM1.b1.20211205.232800.cdf\n",
      "gucsondewnpnM1.b1.20211206.113000.cdf\n",
      "gucsondewnpnM1.b1.20211206.232900.cdf\n",
      "gucsondewnpnM1.b1.20211207.113200.cdf\n",
      "gucsondewnpnM1.b1.20211207.233200.cdf\n",
      "gucsondewnpnM1.b1.20211208.113200.cdf\n",
      "gucsondewnpnM1.b1.20211208.233000.cdf\n",
      "gucsondewnpnM1.b1.20211209.113100.cdf\n",
      "gucsondewnpnM1.b1.20211209.232200.cdf\n",
      "gucsondewnpnM1.b1.20211210.113100.cdf\n",
      "gucsondewnpnM1.b1.20211210.232800.cdf\n",
      "gucsondewnpnM1.b1.20211211.113300.cdf\n",
      "gucsondewnpnM1.b1.20211211.231900.cdf\n",
      "gucsondewnpnM1.b1.20211212.113000.cdf\n",
      "gucsondewnpnM1.b1.20211212.232900.cdf\n",
      "gucsondewnpnM1.b1.20211213.112800.cdf\n",
      "gucsondewnpnM1.b1.20211213.233000.cdf\n",
      "gucsondewnpnM1.b1.20211214.115200.cdf\n",
      "gucsondewnpnM1.b1.20211214.233000.cdf\n",
      "gucsondewnpnM1.b1.20211215.112800.cdf\n",
      "gucsondewnpnM1.b1.20211215.233000.cdf\n",
      "gucsondewnpnM1.b1.20211215.235200.cdf\n",
      "gucsondewnpnM1.b1.20211216.233100.cdf\n",
      "gucsondewnpnM1.b1.20211217.111500.cdf\n",
      "gucsondewnpnM1.b1.20211217.234200.cdf\n",
      "gucsondewnpnM1.b1.20211218.111800.cdf\n",
      "gucsondewnpnM1.b1.20211218.233400.cdf\n",
      "gucsondewnpnM1.b1.20211219.112900.cdf\n",
      "gucsondewnpnM1.b1.20211219.231400.cdf\n",
      "gucsondewnpnM1.b1.20211220.112600.cdf\n",
      "gucsondewnpnM1.b1.20211220.232100.cdf\n",
      "gucsondewnpnM1.b1.20211221.113600.cdf\n",
      "gucsondewnpnM1.b1.20211221.233100.cdf\n",
      "gucsondewnpnM1.b1.20211222.113000.cdf\n",
      "gucsondewnpnM1.b1.20211222.233000.cdf\n",
      "gucsondewnpnM1.b1.20211223.111900.cdf\n",
      "gucsondewnpnM1.b1.20211223.233100.cdf\n",
      "gucsondewnpnM1.b1.20211225.231800.cdf\n",
      "gucsondewnpnM1.b1.20211226.112100.cdf\n",
      "gucsondewnpnM1.b1.20211226.120400.cdf\n",
      "gucsondewnpnM1.b1.20211227.111200.cdf\n",
      "gucsondewnpnM1.b1.20211227.233100.cdf\n",
      "gucsondewnpnM1.b1.20211228.112600.cdf\n",
      "gucsondewnpnM1.b1.20211228.115900.cdf\n",
      "gucsondewnpnM1.b1.20211228.232600.cdf\n",
      "gucsondewnpnM1.b1.20211229.112600.cdf\n",
      "gucsondewnpnM1.b1.20211229.232500.cdf\n",
      "gucsondewnpnM1.b1.20211230.111900.cdf\n",
      "gucsondewnpnM1.b1.20211230.232800.cdf\n",
      "gucsondewnpnM1.b1.20211231.231900.cdf\n",
      "gucsondewnpnM1.b1.20220101.112100.cdf\n",
      "gucsondewnpnM1.b1.20220101.232500.cdf\n",
      "gucsondewnpnM1.b1.20220102.113500.cdf\n",
      "gucsondewnpnM1.b1.20220102.234300.cdf\n",
      "gucsondewnpnM1.b1.20220103.111900.cdf\n",
      "gucsondewnpnM1.b1.20220103.233400.cdf\n",
      "gucsondewnpnM1.b1.20220104.112500.cdf\n",
      "gucsondewnpnM1.b1.20220104.232400.cdf\n",
      "gucsondewnpnM1.b1.20220105.113400.cdf\n",
      "gucsondewnpnM1.b1.20220105.234000.cdf\n",
      "gucsondewnpnM1.b1.20220106.113300.cdf\n",
      "gucsondewnpnM1.b1.20220106.233000.cdf\n",
      "gucsondewnpnM1.b1.20220107.113000.cdf\n",
      "gucsondewnpnM1.b1.20220107.232000.cdf\n",
      "gucsondewnpnM1.b1.20220108.112600.cdf\n",
      "gucsondewnpnM1.b1.20220108.233200.cdf\n",
      "gucsondewnpnM1.b1.20220109.113000.cdf\n",
      "gucsondewnpnM1.b1.20220109.232700.cdf\n",
      "gucsondewnpnM1.b1.20220110.113400.cdf\n",
      "gucsondewnpnM1.b1.20220110.232700.cdf\n",
      "gucsondewnpnM1.b1.20220111.113000.cdf\n",
      "gucsondewnpnM1.b1.20220111.233000.cdf\n",
      "gucsondewnpnM1.b1.20220112.112500.cdf\n",
      "gucsondewnpnM1.b1.20220112.232600.cdf\n",
      "gucsondewnpnM1.b1.20220113.112900.cdf\n",
      "gucsondewnpnM1.b1.20220113.232600.cdf\n",
      "gucsondewnpnM1.b1.20220114.112600.cdf\n",
      "gucsondewnpnM1.b1.20220114.232900.cdf\n",
      "gucsondewnpnM1.b1.20220115.112500.cdf\n",
      "gucsondewnpnM1.b1.20220115.232600.cdf\n",
      "gucsondewnpnM1.b1.20220116.112900.cdf\n",
      "gucsondewnpnM1.b1.20220116.232700.cdf\n",
      "gucsondewnpnM1.b1.20220117.113000.cdf\n",
      "gucsondewnpnM1.b1.20220117.232600.cdf\n",
      "gucsondewnpnM1.b1.20220118.111200.cdf\n",
      "gucsondewnpnM1.b1.20220118.232500.cdf\n",
      "gucsondewnpnM1.b1.20220119.112600.cdf\n",
      "gucsondewnpnM1.b1.20220119.232500.cdf\n",
      "gucsondewnpnM1.b1.20220120.112800.cdf\n",
      "gucsondewnpnM1.b1.20220120.233000.cdf\n",
      "gucsondewnpnM1.b1.20220121.112700.cdf\n",
      "gucsondewnpnM1.b1.20220121.233000.cdf\n",
      "gucsondewnpnM1.b1.20220122.113000.cdf\n",
      "gucsondewnpnM1.b1.20220122.233200.cdf\n",
      "gucsondewnpnM1.b1.20220123.112600.cdf\n",
      "gucsondewnpnM1.b1.20220123.233300.cdf\n",
      "gucsondewnpnM1.b1.20220124.112200.cdf\n",
      "gucsondewnpnM1.b1.20220124.232500.cdf\n",
      "gucsondewnpnM1.b1.20220125.112700.cdf\n",
      "gucsondewnpnM1.b1.20220125.232900.cdf\n",
      "gucsondewnpnM1.b1.20220126.112500.cdf\n",
      "gucsondewnpnM1.b1.20220126.232600.cdf\n",
      "gucsondewnpnM1.b1.20220127.112900.cdf\n",
      "gucsondewnpnM1.b1.20220127.232600.cdf\n",
      "gucsondewnpnM1.b1.20220128.113000.cdf\n",
      "gucsondewnpnM1.b1.20220128.232800.cdf\n",
      "gucsondewnpnM1.b1.20220129.113100.cdf\n",
      "gucsondewnpnM1.b1.20220129.232900.cdf\n",
      "gucsondewnpnM1.b1.20220130.112800.cdf\n",
      "gucsondewnpnM1.b1.20220130.233000.cdf\n",
      "gucsondewnpnM1.b1.20220131.112400.cdf\n",
      "gucsondewnpnM1.b1.20220131.232700.cdf\n",
      "gucsondewnpnM1.b1.20220201.112500.cdf\n",
      "gucsondewnpnM1.b1.20220201.232600.cdf\n",
      "gucsondewnpnM1.b1.20220202.112300.cdf\n",
      "gucsondewnpnM1.b1.20220202.234900.cdf\n",
      "gucsondewnpnM1.b1.20220203.112800.cdf\n",
      "gucsondewnpnM1.b1.20220203.233100.cdf\n",
      "gucsondewnpnM1.b1.20220204.112900.cdf\n",
      "gucsondewnpnM1.b1.20220204.232100.cdf\n",
      "gucsondewnpnM1.b1.20220205.112900.cdf\n",
      "gucsondewnpnM1.b1.20220205.232600.cdf\n",
      "gucsondewnpnM1.b1.20220206.113000.cdf\n",
      "gucsondewnpnM1.b1.20220206.232600.cdf\n",
      "gucsondewnpnM1.b1.20220207.112300.cdf\n",
      "gucsondewnpnM1.b1.20220207.232400.cdf\n",
      "gucsondewnpnM1.b1.20220208.112400.cdf\n",
      "gucsondewnpnM1.b1.20220208.232500.cdf\n",
      "gucsondewnpnM1.b1.20220209.112400.cdf\n",
      "gucsondewnpnM1.b1.20220209.232600.cdf\n",
      "gucsondewnpnM1.b1.20220210.112900.cdf\n",
      "gucsondewnpnM1.b1.20220210.233100.cdf\n",
      "gucsondewnpnM1.b1.20220211.112200.cdf\n",
      "gucsondewnpnM1.b1.20220211.232900.cdf\n",
      "gucsondewnpnM1.b1.20220212.114500.cdf\n",
      "gucsondewnpnM1.b1.20220212.233300.cdf\n",
      "gucsondewnpnM1.b1.20220213.112900.cdf\n",
      "gucsondewnpnM1.b1.20220213.232900.cdf\n",
      "gucsondewnpnM1.b1.20220214.113200.cdf\n",
      "gucsondewnpnM1.b1.20220214.233100.cdf\n",
      "gucsondewnpnM1.b1.20220215.111700.cdf\n",
      "gucsondewnpnM1.b1.20220215.232800.cdf\n",
      "gucsondewnpnM1.b1.20220216.112200.cdf\n",
      "gucsondewnpnM1.b1.20220216.232800.cdf\n",
      "gucsondewnpnM1.b1.20220217.113000.cdf\n",
      "gucsondewnpnM1.b1.20220217.233000.cdf\n",
      "gucsondewnpnM1.b1.20220218.112800.cdf\n",
      "gucsondewnpnM1.b1.20220218.232500.cdf\n",
      "gucsondewnpnM1.b1.20220219.112600.cdf\n",
      "gucsondewnpnM1.b1.20220219.232700.cdf\n",
      "gucsondewnpnM1.b1.20220220.232300.cdf\n",
      "gucsondewnpnM1.b1.20220221.112600.cdf\n",
      "gucsondewnpnM1.b1.20220221.232400.cdf\n",
      "gucsondewnpnM1.b1.20220222.112900.cdf\n",
      "gucsondewnpnM1.b1.20220222.232400.cdf\n",
      "gucsondewnpnM1.b1.20220223.112900.cdf\n",
      "gucsondewnpnM1.b1.20220223.232700.cdf\n",
      "gucsondewnpnM1.b1.20220224.112500.cdf\n",
      "gucsondewnpnM1.b1.20220224.233500.cdf\n",
      "gucsondewnpnM1.b1.20220225.112900.cdf\n",
      "gucsondewnpnM1.b1.20220225.233300.cdf\n",
      "gucsondewnpnM1.b1.20220226.112900.cdf\n",
      "gucsondewnpnM1.b1.20220226.232300.cdf\n",
      "gucsondewnpnM1.b1.20220227.112000.cdf\n",
      "gucsondewnpnM1.b1.20220227.232700.cdf\n",
      "gucsondewnpnM1.b1.20220228.112700.cdf\n",
      "gucsondewnpnM1.b1.20220228.232100.cdf\n",
      "gucsondewnpnM1.b1.20220301.112500.cdf\n",
      "gucsondewnpnM1.b1.20220301.232100.cdf\n",
      "gucsondewnpnM1.b1.20220302.112500.cdf\n",
      "gucsondewnpnM1.b1.20220302.234000.cdf\n",
      "gucsondewnpnM1.b1.20220303.111700.cdf\n",
      "gucsondewnpnM1.b1.20220303.233800.cdf\n",
      "gucsondewnpnM1.b1.20220304.104900.cdf\n",
      "gucsondewnpnM1.b1.20220304.232200.cdf\n",
      "gucsondewnpnM1.b1.20220305.113000.cdf\n",
      "gucsondewnpnM1.b1.20220305.232700.cdf\n",
      "gucsondewnpnM1.b1.20220306.112900.cdf\n",
      "gucsondewnpnM1.b1.20220306.233000.cdf\n",
      "gucsondewnpnM1.b1.20220307.114400.cdf\n",
      "gucsondewnpnM1.b1.20220307.232900.cdf\n",
      "gucsondewnpnM1.b1.20220308.112400.cdf\n",
      "gucsondewnpnM1.b1.20220308.232800.cdf\n",
      "gucsondewnpnM1.b1.20220309.112600.cdf\n",
      "gucsondewnpnM1.b1.20220309.233600.cdf\n",
      "gucsondewnpnM1.b1.20220310.112600.cdf\n",
      "gucsondewnpnM1.b1.20220310.232500.cdf\n",
      "gucsondewnpnM1.b1.20220311.112700.cdf\n",
      "gucsondewnpnM1.b1.20220311.232800.cdf\n",
      "gucsondewnpnM1.b1.20220312.112900.cdf\n",
      "gucsondewnpnM1.b1.20220312.232800.cdf\n",
      "gucsondewnpnM1.b1.20220313.113000.cdf\n",
      "gucsondewnpnM1.b1.20220313.233000.cdf\n",
      "gucsondewnpnM1.b1.20220314.113200.cdf\n",
      "gucsondewnpnM1.b1.20220314.115700.cdf\n",
      "gucsondewnpnM1.b1.20220314.233000.cdf\n",
      "gucsondewnpnM1.b1.20220315.113200.cdf\n",
      "gucsondewnpnM1.b1.20220315.232900.cdf\n",
      "gucsondewnpnM1.b1.20220316.113100.cdf\n",
      "gucsondewnpnM1.b1.20220316.233100.cdf\n",
      "gucsondewnpnM1.b1.20220317.113200.cdf\n",
      "gucsondewnpnM1.b1.20220317.233000.cdf\n",
      "gucsondewnpnM1.b1.20220318.112700.cdf\n",
      "gucsondewnpnM1.b1.20220318.234100.cdf\n",
      "gucsondewnpnM1.b1.20220319.113400.cdf\n",
      "gucsondewnpnM1.b1.20220319.233100.cdf\n",
      "gucsondewnpnM1.b1.20220320.112900.cdf\n",
      "gucsondewnpnM1.b1.20220321.000200.cdf\n",
      "gucsondewnpnM1.b1.20220321.113900.cdf\n",
      "gucsondewnpnM1.b1.20220321.233000.cdf\n",
      "gucsondewnpnM1.b1.20220322.112800.cdf\n",
      "gucsondewnpnM1.b1.20220322.232800.cdf\n",
      "gucsondewnpnM1.b1.20220323.134000.cdf\n",
      "gucsondewnpnM1.b1.20220323.211800.cdf\n",
      "gucsondewnpnM1.b1.20220323.232900.cdf\n",
      "gucsondewnpnM1.b1.20220324.113300.cdf\n",
      "gucsondewnpnM1.b1.20220324.232800.cdf\n",
      "gucsondewnpnM1.b1.20220325.113000.cdf\n",
      "gucsondewnpnM1.b1.20220325.233000.cdf\n",
      "gucsondewnpnM1.b1.20220326.112900.cdf\n",
      "gucsondewnpnM1.b1.20220326.232500.cdf\n",
      "gucsondewnpnM1.b1.20220327.112900.cdf\n",
      "gucsondewnpnM1.b1.20220327.232400.cdf\n",
      "gucsondewnpnM1.b1.20220328.113100.cdf\n",
      "gucsondewnpnM1.b1.20220328.233100.cdf\n",
      "gucsondewnpnM1.b1.20220329.113200.cdf\n",
      "gucsondewnpnM1.b1.20220329.232900.cdf\n",
      "gucsondewnpnM1.b1.20220330.112900.cdf\n",
      "gucsondewnpnM1.b1.20220330.233300.cdf\n",
      "gucsondewnpnM1.b1.20220331.112900.cdf\n",
      "gucsondewnpnM1.b1.20220331.232500.cdf\n",
      "gucsondewnpnM1.b1.20220401.113000.cdf\n",
      "gucsondewnpnM1.b1.20220401.232600.cdf\n",
      "gucsondewnpnM1.b1.20220402.113700.cdf\n",
      "gucsondewnpnM1.b1.20220402.231900.cdf\n",
      "gucsondewnpnM1.b1.20220403.111700.cdf\n",
      "gucsondewnpnM1.b1.20220403.232500.cdf\n",
      "gucsondewnpnM1.b1.20220404.113100.cdf\n",
      "gucsondewnpnM1.b1.20220404.233200.cdf\n",
      "gucsondewnpnM1.b1.20220405.113200.cdf\n",
      "gucsondewnpnM1.b1.20220405.234600.cdf\n",
      "gucsondewnpnM1.b1.20220406.112700.cdf\n",
      "gucsondewnpnM1.b1.20220406.233300.cdf\n",
      "gucsondewnpnM1.b1.20220407.112800.cdf\n",
      "gucsondewnpnM1.b1.20220407.232600.cdf\n",
      "gucsondewnpnM1.b1.20220408.112700.cdf\n",
      "gucsondewnpnM1.b1.20220408.232900.cdf\n",
      "gucsondewnpnM1.b1.20220409.111600.cdf\n",
      "gucsondewnpnM1.b1.20220409.232400.cdf\n",
      "gucsondewnpnM1.b1.20220410.112300.cdf\n",
      "gucsondewnpnM1.b1.20220410.232800.cdf\n",
      "gucsondewnpnM1.b1.20220411.112400.cdf\n",
      "gucsondewnpnM1.b1.20220411.232400.cdf\n",
      "gucsondewnpnM1.b1.20220412.113200.cdf\n",
      "gucsondewnpnM1.b1.20220412.233000.cdf\n",
      "gucsondewnpnM1.b1.20220413.113100.cdf\n",
      "gucsondewnpnM1.b1.20220413.232800.cdf\n",
      "gucsondewnpnM1.b1.20220414.112800.cdf\n",
      "gucsondewnpnM1.b1.20220414.232600.cdf\n",
      "gucsondewnpnM1.b1.20220415.113700.cdf\n",
      "gucsondewnpnM1.b1.20220415.233000.cdf\n",
      "gucsondewnpnM1.b1.20220416.111900.cdf\n",
      "gucsondewnpnM1.b1.20220416.232300.cdf\n",
      "gucsondewnpnM1.b1.20220417.112700.cdf\n",
      "gucsondewnpnM1.b1.20220417.232200.cdf\n",
      "gucsondewnpnM1.b1.20220418.112900.cdf\n",
      "gucsondewnpnM1.b1.20220418.232400.cdf\n",
      "gucsondewnpnM1.b1.20220419.112900.cdf\n",
      "gucsondewnpnM1.b1.20220419.233200.cdf\n",
      "gucsondewnpnM1.b1.20220420.113500.cdf\n",
      "gucsondewnpnM1.b1.20220420.232900.cdf\n",
      "gucsondewnpnM1.b1.20220421.112700.cdf\n",
      "gucsondewnpnM1.b1.20220421.233300.cdf\n",
      "gucsondewnpnM1.b1.20220422.112400.cdf\n",
      "gucsondewnpnM1.b1.20220422.232900.cdf\n",
      "gucsondewnpnM1.b1.20220423.111700.cdf\n",
      "gucsondewnpnM1.b1.20220423.232700.cdf\n",
      "gucsondewnpnM1.b1.20220424.000000.cdf\n",
      "gucsondewnpnM1.b1.20220424.111400.cdf\n",
      "gucsondewnpnM1.b1.20220424.233200.cdf\n",
      "gucsondewnpnM1.b1.20220425.113100.cdf\n",
      "gucsondewnpnM1.b1.20220425.232900.cdf\n",
      "gucsondewnpnM1.b1.20220426.113000.cdf\n",
      "gucsondewnpnM1.b1.20220426.232900.cdf\n",
      "gucsondewnpnM1.b1.20220427.113200.cdf\n",
      "gucsondewnpnM1.b1.20220427.232500.cdf\n",
      "gucsondewnpnM1.b1.20220428.111900.cdf\n",
      "gucsondewnpnM1.b1.20220428.232100.cdf\n",
      "gucsondewnpnM1.b1.20220429.112200.cdf\n",
      "gucsondewnpnM1.b1.20220429.232600.cdf\n",
      "gucsondewnpnM1.b1.20220430.112700.cdf\n",
      "gucsondewnpnM1.b1.20220430.232800.cdf\n",
      "gucsondewnpnM1.b1.20220501.112600.cdf\n",
      "gucsondewnpnM1.b1.20220501.232500.cdf\n",
      "gucsondewnpnM1.b1.20220502.113900.cdf\n",
      "gucsondewnpnM1.b1.20220502.233900.cdf\n",
      "gucsondewnpnM1.b1.20220503.112500.cdf\n",
      "gucsondewnpnM1.b1.20220503.232300.cdf\n",
      "gucsondewnpnM1.b1.20220504.112800.cdf\n",
      "gucsondewnpnM1.b1.20220504.232700.cdf\n",
      "gucsondewnpnM1.b1.20220505.112500.cdf\n",
      "gucsondewnpnM1.b1.20220505.232400.cdf\n",
      "gucsondewnpnM1.b1.20220506.111800.cdf\n",
      "gucsondewnpnM1.b1.20220506.232300.cdf\n",
      "gucsondewnpnM1.b1.20220507.112200.cdf\n",
      "gucsondewnpnM1.b1.20220507.232600.cdf\n",
      "gucsondewnpnM1.b1.20220508.112700.cdf\n",
      "gucsondewnpnM1.b1.20220508.233000.cdf\n",
      "gucsondewnpnM1.b1.20220509.112900.cdf\n",
      "gucsondewnpnM1.b1.20220509.232000.cdf\n",
      "gucsondewnpnM1.b1.20220510.112100.cdf\n",
      "gucsondewnpnM1.b1.20220510.233000.cdf\n",
      "gucsondewnpnM1.b1.20220511.113000.cdf\n",
      "gucsondewnpnM1.b1.20220511.233600.cdf\n",
      "gucsondewnpnM1.b1.20220512.112400.cdf\n",
      "gucsondewnpnM1.b1.20220512.233200.cdf\n",
      "gucsondewnpnM1.b1.20220513.113100.cdf\n",
      "gucsondewnpnM1.b1.20220513.232500.cdf\n",
      "gucsondewnpnM1.b1.20220514.112200.cdf\n",
      "gucsondewnpnM1.b1.20220514.231800.cdf\n",
      "gucsondewnpnM1.b1.20220515.113100.cdf\n",
      "gucsondewnpnM1.b1.20220515.232400.cdf\n",
      "gucsondewnpnM1.b1.20220516.112500.cdf\n",
      "gucsondewnpnM1.b1.20220516.232800.cdf\n",
      "gucsondewnpnM1.b1.20220517.112900.cdf\n",
      "gucsondewnpnM1.b1.20220517.232800.cdf\n",
      "gucsondewnpnM1.b1.20220518.112800.cdf\n",
      "gucsondewnpnM1.b1.20220518.233600.cdf\n",
      "gucsondewnpnM1.b1.20220519.112000.cdf\n",
      "gucsondewnpnM1.b1.20220519.232600.cdf\n",
      "gucsondewnpnM1.b1.20220520.113400.cdf\n",
      "gucsondewnpnM1.b1.20220520.233000.cdf\n",
      "gucsondewnpnM1.b1.20220521.112500.cdf\n",
      "gucsondewnpnM1.b1.20220521.232900.cdf\n",
      "gucsondewnpnM1.b1.20220522.112500.cdf\n",
      "gucsondewnpnM1.b1.20220522.232600.cdf\n",
      "gucsondewnpnM1.b1.20220523.113000.cdf\n",
      "gucsondewnpnM1.b1.20220523.233100.cdf\n",
      "gucsondewnpnM1.b1.20220524.113000.cdf\n",
      "gucsondewnpnM1.b1.20220524.232600.cdf\n",
      "gucsondewnpnM1.b1.20220525.112800.cdf\n",
      "gucsondewnpnM1.b1.20220526.113100.cdf\n",
      "gucsondewnpnM1.b1.20220526.232500.cdf\n",
      "gucsondewnpnM1.b1.20220527.113200.cdf\n",
      "gucsondewnpnM1.b1.20220527.232900.cdf\n",
      "gucsondewnpnM1.b1.20220528.112100.cdf\n",
      "gucsondewnpnM1.b1.20220528.233200.cdf\n",
      "gucsondewnpnM1.b1.20220529.112100.cdf\n",
      "gucsondewnpnM1.b1.20220529.232900.cdf\n",
      "gucsondewnpnM1.b1.20220530.112700.cdf\n",
      "gucsondewnpnM1.b1.20220530.232700.cdf\n",
      "gucsondewnpnM1.b1.20220531.113000.cdf\n",
      "gucsondewnpnM1.b1.20220531.232900.cdf\n",
      "gucsondewnpnM1.b1.20220601.112700.cdf\n",
      "gucsondewnpnM1.b1.20220601.233800.cdf\n",
      "gucsondewnpnM1.b1.20220602.112000.cdf\n",
      "gucsondewnpnM1.b1.20220602.232800.cdf\n",
      "gucsondewnpnM1.b1.20220603.112700.cdf\n",
      "gucsondewnpnM1.b1.20220603.232000.cdf\n",
      "gucsondewnpnM1.b1.20220604.112400.cdf\n",
      "gucsondewnpnM1.b1.20220604.232300.cdf\n",
      "gucsondewnpnM1.b1.20220605.112500.cdf\n",
      "gucsondewnpnM1.b1.20220605.232700.cdf\n",
      "gucsondewnpnM1.b1.20220606.112700.cdf\n",
      "gucsondewnpnM1.b1.20220606.232400.cdf\n",
      "gucsondewnpnM1.b1.20220607.113100.cdf\n",
      "gucsondewnpnM1.b1.20220607.232400.cdf\n",
      "gucsondewnpnM1.b1.20220608.113100.cdf\n",
      "gucsondewnpnM1.b1.20220608.232500.cdf\n",
      "gucsondewnpnM1.b1.20220609.112700.cdf\n",
      "gucsondewnpnM1.b1.20220609.233100.cdf\n",
      "gucsondewnpnM1.b1.20220610.112900.cdf\n",
      "gucsondewnpnM1.b1.20220610.232400.cdf\n",
      "gucsondewnpnM1.b1.20220611.112600.cdf\n",
      "gucsondewnpnM1.b1.20220611.232700.cdf\n",
      "gucsondewnpnM1.b1.20220612.112600.cdf\n",
      "gucsondewnpnM1.b1.20220612.232400.cdf\n",
      "gucsondewnpnM1.b1.20220613.112000.cdf\n",
      "gucsondewnpnM1.b1.20220613.232500.cdf\n",
      "gucsondewnpnM1.b1.20220614.112300.cdf\n",
      "gucsondewnpnM1.b1.20220614.232600.cdf\n",
      "gucsondewnpnM1.b1.20220615.112300.cdf\n",
      "gucsondewnpnM1.b1.20220615.232500.cdf\n",
      "gucsondewnpnM1.b1.20220616.112700.cdf\n",
      "gucsondewnpnM1.b1.20220616.233700.cdf\n",
      "gucsondewnpnM1.b1.20220617.112600.cdf\n",
      "gucsondewnpnM1.b1.20220617.232600.cdf\n",
      "gucsondewnpnM1.b1.20220618.112400.cdf\n",
      "gucsondewnpnM1.b1.20220618.232900.cdf\n",
      "gucsondewnpnM1.b1.20220619.112400.cdf\n",
      "gucsondewnpnM1.b1.20220619.232700.cdf\n",
      "gucsondewnpnM1.b1.20220620.112800.cdf\n",
      "gucsondewnpnM1.b1.20220620.232300.cdf\n",
      "gucsondewnpnM1.b1.20220621.113000.cdf\n",
      "gucsondewnpnM1.b1.20220621.231500.cdf\n",
      "gucsondewnpnM1.b1.20220622.112100.cdf\n",
      "gucsondewnpnM1.b1.20220622.232000.cdf\n",
      "gucsondewnpnM1.b1.20220623.112100.cdf\n",
      "gucsondewnpnM1.b1.20220623.232500.cdf\n",
      "gucsondewnpnM1.b1.20220624.113200.cdf\n",
      "gucsondewnpnM1.b1.20220624.233500.cdf\n",
      "gucsondewnpnM1.b1.20220625.113200.cdf\n",
      "gucsondewnpnM1.b1.20220625.232200.cdf\n",
      "gucsondewnpnM1.b1.20220626.112700.cdf\n",
      "gucsondewnpnM1.b1.20220626.230900.cdf\n",
      "gucsondewnpnM1.b1.20220627.111800.cdf\n",
      "gucsondewnpnM1.b1.20220627.232700.cdf\n",
      "gucsondewnpnM1.b1.20220628.111800.cdf\n",
      "gucsondewnpnM1.b1.20220628.232100.cdf\n",
      "gucsondewnpnM1.b1.20220629.112500.cdf\n",
      "gucsondewnpnM1.b1.20220629.232900.cdf\n",
      "gucsondewnpnM1.b1.20220630.111700.cdf\n",
      "gucsondewnpnM1.b1.20220630.232700.cdf\n",
      "gucsondewnpnM1.b1.20220701.112200.cdf\n",
      "gucsondewnpnM1.b1.20220701.233100.cdf\n",
      "gucsondewnpnM1.b1.20220702.112500.cdf\n",
      "gucsondewnpnM1.b1.20220702.232900.cdf\n",
      "gucsondewnpnM1.b1.20220703.113000.cdf\n",
      "gucsondewnpnM1.b1.20220703.233300.cdf\n",
      "gucsondewnpnM1.b1.20220704.111900.cdf\n",
      "gucsondewnpnM1.b1.20220704.232300.cdf\n",
      "gucsondewnpnM1.b1.20220705.111100.cdf\n",
      "gucsondewnpnM1.b1.20220705.232300.cdf\n",
      "gucsondewnpnM1.b1.20220706.112200.cdf\n",
      "gucsondewnpnM1.b1.20220706.234600.cdf\n",
      "gucsondewnpnM1.b1.20220707.112400.cdf\n",
      "gucsondewnpnM1.b1.20220707.233100.cdf\n",
      "gucsondewnpnM1.b1.20220708.112000.cdf\n",
      "gucsondewnpnM1.b1.20220708.233300.cdf\n",
      "gucsondewnpnM1.b1.20220709.111800.cdf\n",
      "gucsondewnpnM1.b1.20220709.232400.cdf\n",
      "gucsondewnpnM1.b1.20220710.113000.cdf\n",
      "gucsondewnpnM1.b1.20220710.234700.cdf\n",
      "gucsondewnpnM1.b1.20220711.112000.cdf\n",
      "gucsondewnpnM1.b1.20220711.234500.cdf\n",
      "gucsondewnpnM1.b1.20220712.112300.cdf\n",
      "gucsondewnpnM1.b1.20220712.231800.cdf\n",
      "gucsondewnpnM1.b1.20220713.111700.cdf\n",
      "gucsondewnpnM1.b1.20220713.232200.cdf\n",
      "gucsondewnpnM1.b1.20220714.112000.cdf\n",
      "gucsondewnpnM1.b1.20220715.002800.cdf\n",
      "gucsondewnpnM1.b1.20220715.111700.cdf\n",
      "gucsondewnpnM1.b1.20220715.232000.cdf\n",
      "gucsondewnpnM1.b1.20220716.111900.cdf\n",
      "gucsondewnpnM1.b1.20220716.232100.cdf\n",
      "gucsondewnpnM1.b1.20220717.113100.cdf\n",
      "gucsondewnpnM1.b1.20220717.231300.cdf\n",
      "gucsondewnpnM1.b1.20220718.112100.cdf\n",
      "gucsondewnpnM1.b1.20220718.231900.cdf\n",
      "gucsondewnpnM1.b1.20220719.111400.cdf\n",
      "gucsondewnpnM1.b1.20220719.233000.cdf\n",
      "gucsondewnpnM1.b1.20220720.111700.cdf\n",
      "gucsondewnpnM1.b1.20220720.231600.cdf\n",
      "gucsondewnpnM1.b1.20220721.111700.cdf\n",
      "gucsondewnpnM1.b1.20220721.233400.cdf\n",
      "gucsondewnpnM1.b1.20220722.111800.cdf\n",
      "gucsondewnpnM1.b1.20220722.231600.cdf\n",
      "gucsondewnpnM1.b1.20220723.112100.cdf\n",
      "gucsondewnpnM1.b1.20220723.233100.cdf\n",
      "gucsondewnpnM1.b1.20220724.113300.cdf\n",
      "gucsondewnpnM1.b1.20220724.232200.cdf\n",
      "gucsondewnpnM1.b1.20220725.112300.cdf\n",
      "gucsondewnpnM1.b1.20220725.231400.cdf\n",
      "gucsondewnpnM1.b1.20220726.111400.cdf\n",
      "gucsondewnpnM1.b1.20220726.232800.cdf\n",
      "gucsondewnpnM1.b1.20220727.111500.cdf\n",
      "gucsondewnpnM1.b1.20220727.233100.cdf\n",
      "gucsondewnpnM1.b1.20220728.111300.cdf\n",
      "gucsondewnpnM1.b1.20220728.231400.cdf\n",
      "gucsondewnpnM1.b1.20220729.111700.cdf\n",
      "gucsondewnpnM1.b1.20220730.000900.cdf\n",
      "gucsondewnpnM1.b1.20220730.111200.cdf\n",
      "gucsondewnpnM1.b1.20220730.233100.cdf\n",
      "gucsondewnpnM1.b1.20220731.114500.cdf\n",
      "gucsondewnpnM1.b1.20220731.232500.cdf\n",
      "gucsondewnpnM1.b1.20220801.114400.cdf\n",
      "gucsondewnpnM1.b1.20220802.120000.cdf\n",
      "gucsondewnpnM1.b1.20220802.234500.cdf\n",
      "gucsondewnpnM1.b1.20220803.115500.cdf\n",
      "gucsondewnpnM1.b1.20220803.233100.cdf\n",
      "gucsondewnpnM1.b1.20220804.113300.cdf\n",
      "gucsondewnpnM1.b1.20220804.232700.cdf\n",
      "gucsondewnpnM1.b1.20220805.113800.cdf\n",
      "gucsondewnpnM1.b1.20220805.232600.cdf\n",
      "gucsondewnpnM1.b1.20220806.113000.cdf\n",
      "gucsondewnpnM1.b1.20220806.232500.cdf\n",
      "gucsondewnpnM1.b1.20220807.113100.cdf\n",
      "gucsondewnpnM1.b1.20220807.231700.cdf\n",
      "gucsondewnpnM1.b1.20220808.112900.cdf\n",
      "gucsondewnpnM1.b1.20220808.231200.cdf\n",
      "gucsondewnpnM1.b1.20220809.112200.cdf\n",
      "gucsondewnpnM1.b1.20220809.231600.cdf\n",
      "gucsondewnpnM1.b1.20220810.113200.cdf\n",
      "gucsondewnpnM1.b1.20220810.231200.cdf\n",
      "gucsondewnpnM1.b1.20220811.113100.cdf\n",
      "gucsondewnpnM1.b1.20220811.231400.cdf\n",
      "gucsondewnpnM1.b1.20220812.111800.cdf\n",
      "gucsondewnpnM1.b1.20220812.232900.cdf\n",
      "gucsondewnpnM1.b1.20220812.235700.cdf\n",
      "gucsondewnpnM1.b1.20220813.113400.cdf\n",
      "gucsondewnpnM1.b1.20220813.232600.cdf\n",
      "gucsondewnpnM1.b1.20220814.113000.cdf\n",
      "gucsondewnpnM1.b1.20220814.234000.cdf\n",
      "gucsondewnpnM1.b1.20220815.112900.cdf\n",
      "gucsondewnpnM1.b1.20220815.232700.cdf\n",
      "gucsondewnpnM1.b1.20220816.114000.cdf\n",
      "gucsondewnpnM1.b1.20220816.233100.cdf\n",
      "gucsondewnpnM1.b1.20220817.113900.cdf\n",
      "gucsondewnpnM1.b1.20220817.233000.cdf\n",
      "gucsondewnpnM1.b1.20220818.112300.cdf\n",
      "gucsondewnpnM1.b1.20220818.232800.cdf\n",
      "gucsondewnpnM1.b1.20220819.111500.cdf\n",
      "gucsondewnpnM1.b1.20220819.232800.cdf\n",
      "gucsondewnpnM1.b1.20220820.112900.cdf\n",
      "gucsondewnpnM1.b1.20220820.232300.cdf\n",
      "gucsondewnpnM1.b1.20220821.112300.cdf\n",
      "gucsondewnpnM1.b1.20220821.232200.cdf\n",
      "gucsondewnpnM1.b1.20220822.113000.cdf\n",
      "gucsondewnpnM1.b1.20220822.232700.cdf\n",
      "gucsondewnpnM1.b1.20220823.113700.cdf\n",
      "gucsondewnpnM1.b1.20220823.232800.cdf\n",
      "gucsondewnpnM1.b1.20220824.113300.cdf\n",
      "gucsondewnpnM1.b1.20220824.232900.cdf\n",
      "gucsondewnpnM1.b1.20220825.113000.cdf\n",
      "gucsondewnpnM1.b1.20220825.232900.cdf\n",
      "gucsondewnpnM1.b1.20220826.113300.cdf\n",
      "gucsondewnpnM1.b1.20220826.232500.cdf\n",
      "gucsondewnpnM1.b1.20220827.112800.cdf\n",
      "gucsondewnpnM1.b1.20220827.232500.cdf\n",
      "gucsondewnpnM1.b1.20220828.114200.cdf\n",
      "gucsondewnpnM1.b1.20220828.232800.cdf\n",
      "gucsondewnpnM1.b1.20220829.113100.cdf\n",
      "gucsondewnpnM1.b1.20220829.233000.cdf\n",
      "gucsondewnpnM1.b1.20220830.113000.cdf\n",
      "gucsondewnpnM1.b1.20220830.232900.cdf\n",
      "gucsondewnpnM1.b1.20220831.112700.cdf\n",
      "gucsondewnpnM1.b1.20220831.233000.cdf\n",
      "gucsondewnpnM1.b1.20220901.113600.cdf\n",
      "gucsondewnpnM1.b1.20220901.232900.cdf\n",
      "gucsondewnpnM1.b1.20220902.112700.cdf\n",
      "gucsondewnpnM1.b1.20220902.232900.cdf\n",
      "gucsondewnpnM1.b1.20220903.114500.cdf\n",
      "gucsondewnpnM1.b1.20220903.233100.cdf\n",
      "gucsondewnpnM1.b1.20220904.112700.cdf\n",
      "gucsondewnpnM1.b1.20220904.233200.cdf\n",
      "gucsondewnpnM1.b1.20220905.113000.cdf\n",
      "gucsondewnpnM1.b1.20220905.232700.cdf\n",
      "gucsondewnpnM1.b1.20220906.113100.cdf\n",
      "gucsondewnpnM1.b1.20220906.232900.cdf\n",
      "gucsondewnpnM1.b1.20220907.112500.cdf\n",
      "gucsondewnpnM1.b1.20220907.233000.cdf\n",
      "gucsondewnpnM1.b1.20220908.113000.cdf\n",
      "gucsondewnpnM1.b1.20220908.232900.cdf\n",
      "gucsondewnpnM1.b1.20220909.112700.cdf\n",
      "gucsondewnpnM1.b1.20220909.232200.cdf\n",
      "gucsondewnpnM1.b1.20220910.113600.cdf\n",
      "gucsondewnpnM1.b1.20220910.232600.cdf\n",
      "gucsondewnpnM1.b1.20220911.113100.cdf\n",
      "gucsondewnpnM1.b1.20220911.233900.cdf\n",
      "gucsondewnpnM1.b1.20220912.113000.cdf\n",
      "gucsondewnpnM1.b1.20220912.233000.cdf\n",
      "gucsondewnpnM1.b1.20220913.113100.cdf\n",
      "gucsondewnpnM1.b1.20220913.232900.cdf\n",
      "gucsondewnpnM1.b1.20220914.112800.cdf\n",
      "gucsondewnpnM1.b1.20220914.232900.cdf\n",
      "gucsondewnpnM1.b1.20220915.112800.cdf\n",
      "gucsondewnpnM1.b1.20220915.115100.cdf\n",
      "gucsondewnpnM1.b1.20220915.232800.cdf\n",
      "gucsondewnpnM1.b1.20220916.123900.cdf\n",
      "gucsondewnpnM1.b1.20220916.232700.cdf\n",
      "gucsondewnpnM1.b1.20220917.121800.cdf\n",
      "gucsondewnpnM1.b1.20220917.232500.cdf\n",
      "gucsondewnpnM1.b1.20220918.111800.cdf\n",
      "gucsondewnpnM1.b1.20220918.232900.cdf\n",
      "gucsondewnpnM1.b1.20220919.113000.cdf\n",
      "gucsondewnpnM1.b1.20220919.233000.cdf\n",
      "gucsondewnpnM1.b1.20220920.113000.cdf\n",
      "gucsondewnpnM1.b1.20220920.233000.cdf\n",
      "gucsondewnpnM1.b1.20220921.112900.cdf\n",
      "gucsondewnpnM1.b1.20220921.232900.cdf\n",
      "gucsondewnpnM1.b1.20220922.112900.cdf\n",
      "gucsondewnpnM1.b1.20220922.232900.cdf\n",
      "gucsondewnpnM1.b1.20220923.120400.cdf\n",
      "gucsondewnpnM1.b1.20220923.232900.cdf\n",
      "gucsondewnpnM1.b1.20220924.112800.cdf\n",
      "gucsondewnpnM1.b1.20220924.232800.cdf\n",
      "gucsondewnpnM1.b1.20220925.113400.cdf\n",
      "gucsondewnpnM1.b1.20220925.232700.cdf\n",
      "gucsondewnpnM1.b1.20220926.113200.cdf\n",
      "gucsondewnpnM1.b1.20220926.232800.cdf\n",
      "gucsondewnpnM1.b1.20220927.113400.cdf\n",
      "gucsondewnpnM1.b1.20220927.233000.cdf\n",
      "gucsondewnpnM1.b1.20220928.112800.cdf\n",
      "gucsondewnpnM1.b1.20220928.232900.cdf\n",
      "gucsondewnpnM1.b1.20220929.113000.cdf\n",
      "gucsondewnpnM1.b1.20220929.232800.cdf\n",
      "-------------------\n",
      "met_20211001_20220930.nc already exists\n",
      "-------------------\n",
      "eddy_covariance_kettle_ponds_20211001_20220930.nc already exists\n",
      "-------------------\n",
      "laser_disdrometer_gothic_20211001_20220930.nc already exists\n",
      "-------------------\n"
     ]
    }
   ],
   "source": [
    "# load in the winter 22 data\n",
    "sail_winter_22_folder = os.path.join(storage_directory,'sail_data',winter_22_folder)\n",
    "# create empty data dictionary\n",
    "w22_data_loc_dict = {}\n",
    "# Iterate through the dictionary and pull the data for each datastream\n",
    "for k,v in sail_datastream_dict.items():\n",
    "    if (k =='radiosonde') & (len(os.listdir(os.path.join(sail_winter_22_folder,\"radiosonde\"))) > 0):\n",
    "        print(\"Radiosonde data donwloaded. Data files include:\")\n",
    "        # list file names in the radiosonde folder\n",
    "        for file in os.listdir(os.path.join(sail_winter_22_folder,\"radiosonde\")):\n",
    "            print(file)\n",
    "        print('-------------------')\n",
    "    # Check if the file already exists\n",
    "    elif (os.path.exists(f'{sail_winter_22_folder}/{k}_{winter_22[0]}_{winter_22[1]}.nc')): \n",
    "        print(f'{k}_{winter_22[0]}_{winter_22[1]}.nc already exists')\n",
    "        print('-------------------')\n",
    "        # add the filename to the dictionary which can be used if we want to load the data\n",
    "        w22_data_loc_dict[k] = os.path.join(sail_winter_22_folder,f'{k}_{winter_22[0]}_{winter_22[1]}.nc')\n",
    "        continue\n",
    "    else:\n",
    "        # explicitly download radiosonde data because they are a lot easier to process and think about when in individual files\n",
    "        if k == 'radiosonde':\n",
    "            discovery.download_data(\n",
    "                api_username,\n",
    "                api_token,\n",
    "                v,\n",
    "                startdate=winter_22[0],\n",
    "                enddate=winter_22[1],\n",
    "                output=sail_winter_22_folder+'/radiosonde/'\n",
    "            )\n",
    "        else:\n",
    "            ds = get_sail_data(api_username,\n",
    "                        api_token,\n",
    "                        v,\n",
    "                        startdate=winter_22[0],\n",
    "                        enddate=winter_22[1])\n",
    "            ds.to_netcdf(f'{sail_winter_22_folder}/{k}_{winter_22[0]}_{winter_22[1]}.nc')\n",
    "            w22_data_loc_dict[k] = os.path.join(sail_winter_22_folder,f'{k}_{winter_22[0]}_{winter_22[1]}.nc')"
   ]
  },
  {
   "cell_type": "markdown",
   "metadata": {},
   "source": [
    "### Download winter 2023 data from SAIL\n",
    "For now we will just get met, ecor, and laser disdrometer data"
   ]
  },
  {
   "cell_type": "code",
   "execution_count": 6,
   "metadata": {},
   "outputs": [
    {
     "name": "stdout",
     "output_type": "stream",
     "text": [
      "Radiosonde data donwloaded. Data files include:\n",
      "gucsondewnpnM1.b1.20221001.112700.cdf\n",
      "gucsondewnpnM1.b1.20221001.234000.cdf\n",
      "gucsondewnpnM1.b1.20221002.112700.cdf\n",
      "gucsondewnpnM1.b1.20221002.233900.cdf\n",
      "gucsondewnpnM1.b1.20221003.113000.cdf\n",
      "gucsondewnpnM1.b1.20221003.232800.cdf\n",
      "gucsondewnpnM1.b1.20221004.113300.cdf\n",
      "gucsondewnpnM1.b1.20221004.232900.cdf\n",
      "gucsondewnpnM1.b1.20221005.113000.cdf\n",
      "gucsondewnpnM1.b1.20221005.232900.cdf\n",
      "gucsondewnpnM1.b1.20221006.113100.cdf\n",
      "gucsondewnpnM1.b1.20221006.232900.cdf\n",
      "gucsondewnpnM1.b1.20221007.113900.cdf\n",
      "gucsondewnpnM1.b1.20221007.232900.cdf\n",
      "gucsondewnpnM1.b1.20221008.113500.cdf\n",
      "gucsondewnpnM1.b1.20221008.232100.cdf\n",
      "gucsondewnpnM1.b1.20221009.113500.cdf\n",
      "gucsondewnpnM1.b1.20221009.232700.cdf\n",
      "gucsondewnpnM1.b1.20221010.112900.cdf\n",
      "gucsondewnpnM1.b1.20221010.233000.cdf\n",
      "gucsondewnpnM1.b1.20221011.113000.cdf\n",
      "gucsondewnpnM1.b1.20221011.233000.cdf\n",
      "gucsondewnpnM1.b1.20221012.113100.cdf\n",
      "gucsondewnpnM1.b1.20221012.233100.cdf\n",
      "gucsondewnpnM1.b1.20221013.113100.cdf\n",
      "gucsondewnpnM1.b1.20221013.233000.cdf\n",
      "gucsondewnpnM1.b1.20221014.113800.cdf\n",
      "gucsondewnpnM1.b1.20221014.232800.cdf\n",
      "gucsondewnpnM1.b1.20221015.113700.cdf\n",
      "gucsondewnpnM1.b1.20221015.232800.cdf\n",
      "gucsondewnpnM1.b1.20221016.135600.cdf\n",
      "gucsondewnpnM1.b1.20221016.233500.cdf\n",
      "gucsondewnpnM1.b1.20221017.112800.cdf\n",
      "gucsondewnpnM1.b1.20221017.232600.cdf\n",
      "gucsondewnpnM1.b1.20221018.112900.cdf\n",
      "gucsondewnpnM1.b1.20221018.232900.cdf\n",
      "gucsondewnpnM1.b1.20221019.112900.cdf\n",
      "gucsondewnpnM1.b1.20221019.233000.cdf\n",
      "gucsondewnpnM1.b1.20221020.113100.cdf\n",
      "gucsondewnpnM1.b1.20221020.232800.cdf\n",
      "gucsondewnpnM1.b1.20221021.112200.cdf\n",
      "gucsondewnpnM1.b1.20221021.233100.cdf\n",
      "gucsondewnpnM1.b1.20221022.113500.cdf\n",
      "gucsondewnpnM1.b1.20221022.232600.cdf\n",
      "gucsondewnpnM1.b1.20221023.113500.cdf\n",
      "gucsondewnpnM1.b1.20221023.232700.cdf\n",
      "gucsondewnpnM1.b1.20221024.112700.cdf\n",
      "gucsondewnpnM1.b1.20221024.232500.cdf\n",
      "gucsondewnpnM1.b1.20221025.113600.cdf\n",
      "gucsondewnpnM1.b1.20221025.233000.cdf\n",
      "gucsondewnpnM1.b1.20221026.113400.cdf\n",
      "gucsondewnpnM1.b1.20221026.233100.cdf\n",
      "gucsondewnpnM1.b1.20221027.114500.cdf\n",
      "gucsondewnpnM1.b1.20221027.232500.cdf\n",
      "gucsondewnpnM1.b1.20221028.113000.cdf\n",
      "gucsondewnpnM1.b1.20221028.232900.cdf\n",
      "gucsondewnpnM1.b1.20221029.114000.cdf\n",
      "gucsondewnpnM1.b1.20221029.233000.cdf\n",
      "gucsondewnpnM1.b1.20221030.112600.cdf\n",
      "gucsondewnpnM1.b1.20221030.232500.cdf\n",
      "gucsondewnpnM1.b1.20221031.113000.cdf\n",
      "gucsondewnpnM1.b1.20221031.232600.cdf\n",
      "gucsondewnpnM1.b1.20221101.113100.cdf\n",
      "gucsondewnpnM1.b1.20221101.232900.cdf\n",
      "gucsondewnpnM1.b1.20221102.113300.cdf\n",
      "gucsondewnpnM1.b1.20221102.234600.cdf\n",
      "gucsondewnpnM1.b1.20221103.113100.cdf\n",
      "gucsondewnpnM1.b1.20221103.233000.cdf\n",
      "gucsondewnpnM1.b1.20221104.112900.cdf\n",
      "gucsondewnpnM1.b1.20221104.232800.cdf\n",
      "gucsondewnpnM1.b1.20221105.112900.cdf\n",
      "gucsondewnpnM1.b1.20221105.232700.cdf\n",
      "gucsondewnpnM1.b1.20221106.112600.cdf\n",
      "gucsondewnpnM1.b1.20221106.232500.cdf\n",
      "gucsondewnpnM1.b1.20221107.112500.cdf\n",
      "gucsondewnpnM1.b1.20221107.232600.cdf\n",
      "gucsondewnpnM1.b1.20221108.114100.cdf\n",
      "gucsondewnpnM1.b1.20221108.233000.cdf\n",
      "gucsondewnpnM1.b1.20221109.113000.cdf\n",
      "gucsondewnpnM1.b1.20221109.232900.cdf\n",
      "gucsondewnpnM1.b1.20221110.113300.cdf\n",
      "gucsondewnpnM1.b1.20221110.233800.cdf\n",
      "gucsondewnpnM1.b1.20221111.113000.cdf\n",
      "gucsondewnpnM1.b1.20221111.232700.cdf\n",
      "gucsondewnpnM1.b1.20221112.113100.cdf\n",
      "gucsondewnpnM1.b1.20221112.232700.cdf\n",
      "gucsondewnpnM1.b1.20221113.113100.cdf\n",
      "gucsondewnpnM1.b1.20221113.232600.cdf\n",
      "gucsondewnpnM1.b1.20221114.112600.cdf\n",
      "gucsondewnpnM1.b1.20221114.232500.cdf\n",
      "gucsondewnpnM1.b1.20221115.113400.cdf\n",
      "gucsondewnpnM1.b1.20221115.233300.cdf\n",
      "gucsondewnpnM1.b1.20221116.113100.cdf\n",
      "gucsondewnpnM1.b1.20221116.233000.cdf\n",
      "gucsondewnpnM1.b1.20221117.113300.cdf\n",
      "gucsondewnpnM1.b1.20221117.233200.cdf\n",
      "gucsondewnpnM1.b1.20221118.113300.cdf\n",
      "gucsondewnpnM1.b1.20221118.232600.cdf\n",
      "gucsondewnpnM1.b1.20221119.113100.cdf\n",
      "gucsondewnpnM1.b1.20221119.232600.cdf\n",
      "gucsondewnpnM1.b1.20221120.112600.cdf\n",
      "gucsondewnpnM1.b1.20221120.232500.cdf\n",
      "gucsondewnpnM1.b1.20221121.112500.cdf\n",
      "gucsondewnpnM1.b1.20221121.232700.cdf\n",
      "gucsondewnpnM1.b1.20221122.113100.cdf\n",
      "gucsondewnpnM1.b1.20221122.232900.cdf\n",
      "gucsondewnpnM1.b1.20221123.113000.cdf\n",
      "gucsondewnpnM1.b1.20221123.232800.cdf\n",
      "gucsondewnpnM1.b1.20221124.113000.cdf\n",
      "gucsondewnpnM1.b1.20221124.232500.cdf\n",
      "gucsondewnpnM1.b1.20221125.113300.cdf\n",
      "gucsondewnpnM1.b1.20221125.232800.cdf\n",
      "gucsondewnpnM1.b1.20221126.113300.cdf\n",
      "gucsondewnpnM1.b1.20221126.232900.cdf\n",
      "gucsondewnpnM1.b1.20221127.112600.cdf\n",
      "gucsondewnpnM1.b1.20221127.232500.cdf\n",
      "gucsondewnpnM1.b1.20221128.112500.cdf\n",
      "gucsondewnpnM1.b1.20221128.232500.cdf\n",
      "gucsondewnpnM1.b1.20221129.123400.cdf\n",
      "gucsondewnpnM1.b1.20221130.112900.cdf\n",
      "gucsondewnpnM1.b1.20221130.232900.cdf\n",
      "gucsondewnpnM1.b1.20221201.113100.cdf\n",
      "gucsondewnpnM1.b1.20221201.232600.cdf\n",
      "gucsondewnpnM1.b1.20221202.113600.cdf\n",
      "gucsondewnpnM1.b1.20221202.235900.cdf\n",
      "gucsondewnpnM1.b1.20221203.113200.cdf\n",
      "gucsondewnpnM1.b1.20221203.232900.cdf\n",
      "gucsondewnpnM1.b1.20221204.112700.cdf\n",
      "gucsondewnpnM1.b1.20221204.232500.cdf\n",
      "gucsondewnpnM1.b1.20221205.113000.cdf\n",
      "gucsondewnpnM1.b1.20221205.232500.cdf\n",
      "gucsondewnpnM1.b1.20221206.113400.cdf\n",
      "gucsondewnpnM1.b1.20221206.233000.cdf\n",
      "gucsondewnpnM1.b1.20221207.113300.cdf\n",
      "gucsondewnpnM1.b1.20221207.233000.cdf\n",
      "gucsondewnpnM1.b1.20221208.112900.cdf\n",
      "gucsondewnpnM1.b1.20221208.232700.cdf\n",
      "gucsondewnpnM1.b1.20221209.113200.cdf\n",
      "gucsondewnpnM1.b1.20221209.232600.cdf\n",
      "gucsondewnpnM1.b1.20221210.113300.cdf\n",
      "gucsondewnpnM1.b1.20221210.231700.cdf\n",
      "gucsondewnpnM1.b1.20221211.112600.cdf\n",
      "gucsondewnpnM1.b1.20221211.232500.cdf\n",
      "gucsondewnpnM1.b1.20221212.112700.cdf\n",
      "gucsondewnpnM1.b1.20221212.232900.cdf\n",
      "gucsondewnpnM1.b1.20221213.113100.cdf\n",
      "gucsondewnpnM1.b1.20221213.232600.cdf\n",
      "gucsondewnpnM1.b1.20221214.113100.cdf\n",
      "gucsondewnpnM1.b1.20221214.233500.cdf\n",
      "gucsondewnpnM1.b1.20221215.113400.cdf\n",
      "gucsondewnpnM1.b1.20221215.233000.cdf\n",
      "gucsondewnpnM1.b1.20221216.113300.cdf\n",
      "gucsondewnpnM1.b1.20221216.232900.cdf\n",
      "gucsondewnpnM1.b1.20221217.113300.cdf\n",
      "gucsondewnpnM1.b1.20221217.233300.cdf\n",
      "gucsondewnpnM1.b1.20221218.112500.cdf\n",
      "gucsondewnpnM1.b1.20221218.232800.cdf\n",
      "gucsondewnpnM1.b1.20221219.112500.cdf\n",
      "gucsondewnpnM1.b1.20221219.232400.cdf\n",
      "gucsondewnpnM1.b1.20221220.111900.cdf\n",
      "gucsondewnpnM1.b1.20221220.230300.cdf\n",
      "gucsondewnpnM1.b1.20221222.113600.cdf\n",
      "gucsondewnpnM1.b1.20221222.232700.cdf\n",
      "gucsondewnpnM1.b1.20221223.112600.cdf\n",
      "gucsondewnpnM1.b1.20221223.233300.cdf\n",
      "gucsondewnpnM1.b1.20221224.113000.cdf\n",
      "gucsondewnpnM1.b1.20221224.232900.cdf\n",
      "gucsondewnpnM1.b1.20221225.112600.cdf\n",
      "gucsondewnpnM1.b1.20221225.232900.cdf\n",
      "gucsondewnpnM1.b1.20221226.112800.cdf\n",
      "gucsondewnpnM1.b1.20221226.232500.cdf\n",
      "gucsondewnpnM1.b1.20221227.112700.cdf\n",
      "gucsondewnpnM1.b1.20221227.232600.cdf\n",
      "gucsondewnpnM1.b1.20221228.113700.cdf\n",
      "gucsondewnpnM1.b1.20221228.233300.cdf\n",
      "gucsondewnpnM1.b1.20221229.113500.cdf\n",
      "gucsondewnpnM1.b1.20221229.232700.cdf\n",
      "gucsondewnpnM1.b1.20221230.113900.cdf\n",
      "gucsondewnpnM1.b1.20221230.232700.cdf\n",
      "gucsondewnpnM1.b1.20221231.112800.cdf\n",
      "gucsondewnpnM1.b1.20221231.234000.cdf\n",
      "gucsondewnpnM1.b1.20230101.113000.cdf\n",
      "gucsondewnpnM1.b1.20230101.232600.cdf\n",
      "gucsondewnpnM1.b1.20230102.112600.cdf\n",
      "gucsondewnpnM1.b1.20230102.234400.cdf\n",
      "gucsondewnpnM1.b1.20230103.113100.cdf\n",
      "gucsondewnpnM1.b1.20230103.232800.cdf\n",
      "gucsondewnpnM1.b1.20230104.113800.cdf\n",
      "gucsondewnpnM1.b1.20230104.232200.cdf\n",
      "gucsondewnpnM1.b1.20230105.112500.cdf\n",
      "gucsondewnpnM1.b1.20230105.232900.cdf\n",
      "gucsondewnpnM1.b1.20230106.113300.cdf\n",
      "gucsondewnpnM1.b1.20230106.233000.cdf\n",
      "gucsondewnpnM1.b1.20230107.113700.cdf\n",
      "gucsondewnpnM1.b1.20230107.232700.cdf\n",
      "gucsondewnpnM1.b1.20230108.113700.cdf\n",
      "gucsondewnpnM1.b1.20230108.233000.cdf\n",
      "gucsondewnpnM1.b1.20230109.140200.cdf\n",
      "gucsondewnpnM1.b1.20230109.232900.cdf\n",
      "gucsondewnpnM1.b1.20230110.113200.cdf\n",
      "gucsondewnpnM1.b1.20230110.232500.cdf\n",
      "gucsondewnpnM1.b1.20230111.113300.cdf\n",
      "gucsondewnpnM1.b1.20230111.120100.cdf\n",
      "gucsondewnpnM1.b1.20230111.233000.cdf\n",
      "gucsondewnpnM1.b1.20230112.112600.cdf\n",
      "gucsondewnpnM1.b1.20230112.232400.cdf\n",
      "gucsondewnpnM1.b1.20230113.112500.cdf\n",
      "gucsondewnpnM1.b1.20230113.232600.cdf\n",
      "gucsondewnpnM1.b1.20230114.113200.cdf\n",
      "gucsondewnpnM1.b1.20230114.232500.cdf\n",
      "gucsondewnpnM1.b1.20230115.112700.cdf\n",
      "gucsondewnpnM1.b1.20230115.233600.cdf\n",
      "gucsondewnpnM1.b1.20230116.113500.cdf\n",
      "gucsondewnpnM1.b1.20230116.233000.cdf\n",
      "gucsondewnpnM1.b1.20230117.113100.cdf\n",
      "gucsondewnpnM1.b1.20230117.233000.cdf\n",
      "gucsondewnpnM1.b1.20230118.113600.cdf\n",
      "gucsondewnpnM1.b1.20230118.233800.cdf\n",
      "gucsondewnpnM1.b1.20230119.113500.cdf\n",
      "gucsondewnpnM1.b1.20230119.232800.cdf\n",
      "gucsondewnpnM1.b1.20230120.113000.cdf\n",
      "gucsondewnpnM1.b1.20230120.232700.cdf\n",
      "gucsondewnpnM1.b1.20230121.112700.cdf\n",
      "gucsondewnpnM1.b1.20230121.232800.cdf\n",
      "gucsondewnpnM1.b1.20230122.113000.cdf\n",
      "gucsondewnpnM1.b1.20230122.233900.cdf\n",
      "gucsondewnpnM1.b1.20230123.112500.cdf\n",
      "gucsondewnpnM1.b1.20230123.232600.cdf\n",
      "gucsondewnpnM1.b1.20230124.113300.cdf\n",
      "gucsondewnpnM1.b1.20230124.232800.cdf\n",
      "gucsondewnpnM1.b1.20230125.113000.cdf\n",
      "gucsondewnpnM1.b1.20230125.232800.cdf\n",
      "gucsondewnpnM1.b1.20230126.113200.cdf\n",
      "gucsondewnpnM1.b1.20230126.232700.cdf\n",
      "gucsondewnpnM1.b1.20230127.113200.cdf\n",
      "gucsondewnpnM1.b1.20230127.233600.cdf\n",
      "gucsondewnpnM1.b1.20230128.112900.cdf\n",
      "gucsondewnpnM1.b1.20230128.232900.cdf\n",
      "gucsondewnpnM1.b1.20230129.112900.cdf\n",
      "gucsondewnpnM1.b1.20230129.232800.cdf\n",
      "gucsondewnpnM1.b1.20230130.112800.cdf\n",
      "gucsondewnpnM1.b1.20230130.232700.cdf\n",
      "gucsondewnpnM1.b1.20230131.113300.cdf\n",
      "gucsondewnpnM1.b1.20230131.232700.cdf\n",
      "gucsondewnpnM1.b1.20230201.113400.cdf\n",
      "gucsondewnpnM1.b1.20230201.233100.cdf\n",
      "gucsondewnpnM1.b1.20230202.113100.cdf\n",
      "gucsondewnpnM1.b1.20230202.233400.cdf\n",
      "gucsondewnpnM1.b1.20230203.113000.cdf\n",
      "gucsondewnpnM1.b1.20230203.232900.cdf\n",
      "gucsondewnpnM1.b1.20230204.113000.cdf\n",
      "gucsondewnpnM1.b1.20230204.233000.cdf\n",
      "gucsondewnpnM1.b1.20230205.112800.cdf\n",
      "gucsondewnpnM1.b1.20230205.233200.cdf\n",
      "gucsondewnpnM1.b1.20230206.113800.cdf\n",
      "gucsondewnpnM1.b1.20230206.233000.cdf\n",
      "gucsondewnpnM1.b1.20230207.113000.cdf\n",
      "gucsondewnpnM1.b1.20230207.232700.cdf\n",
      "gucsondewnpnM1.b1.20230208.112700.cdf\n",
      "gucsondewnpnM1.b1.20230208.233000.cdf\n",
      "gucsondewnpnM1.b1.20230209.232900.cdf\n",
      "gucsondewnpnM1.b1.20230210.113000.cdf\n",
      "gucsondewnpnM1.b1.20230210.233000.cdf\n",
      "gucsondewnpnM1.b1.20230211.113000.cdf\n",
      "gucsondewnpnM1.b1.20230211.232900.cdf\n",
      "gucsondewnpnM1.b1.20230212.113000.cdf\n",
      "gucsondewnpnM1.b1.20230212.232900.cdf\n",
      "gucsondewnpnM1.b1.20230213.113900.cdf\n",
      "gucsondewnpnM1.b1.20230213.233000.cdf\n",
      "gucsondewnpnM1.b1.20230214.113000.cdf\n",
      "gucsondewnpnM1.b1.20230214.233000.cdf\n",
      "gucsondewnpnM1.b1.20230215.113200.cdf\n",
      "gucsondewnpnM1.b1.20230215.233000.cdf\n",
      "gucsondewnpnM1.b1.20230216.113000.cdf\n",
      "gucsondewnpnM1.b1.20230216.233200.cdf\n",
      "gucsondewnpnM1.b1.20230217.113100.cdf\n",
      "gucsondewnpnM1.b1.20230217.233100.cdf\n",
      "gucsondewnpnM1.b1.20230218.113100.cdf\n",
      "gucsondewnpnM1.b1.20230218.232800.cdf\n",
      "gucsondewnpnM1.b1.20230219.113400.cdf\n",
      "gucsondewnpnM1.b1.20230219.232900.cdf\n",
      "gucsondewnpnM1.b1.20230220.113600.cdf\n",
      "gucsondewnpnM1.b1.20230220.233000.cdf\n",
      "gucsondewnpnM1.b1.20230221.113000.cdf\n",
      "gucsondewnpnM1.b1.20230221.233000.cdf\n",
      "gucsondewnpnM1.b1.20230222.113000.cdf\n",
      "gucsondewnpnM1.b1.20230222.232900.cdf\n",
      "gucsondewnpnM1.b1.20230223.113100.cdf\n",
      "gucsondewnpnM1.b1.20230223.233000.cdf\n",
      "gucsondewnpnM1.b1.20230224.113200.cdf\n",
      "gucsondewnpnM1.b1.20230224.233100.cdf\n",
      "gucsondewnpnM1.b1.20230225.112700.cdf\n",
      "gucsondewnpnM1.b1.20230225.232900.cdf\n",
      "gucsondewnpnM1.b1.20230226.112900.cdf\n",
      "gucsondewnpnM1.b1.20230226.232600.cdf\n",
      "gucsondewnpnM1.b1.20230227.113000.cdf\n",
      "gucsondewnpnM1.b1.20230227.233000.cdf\n",
      "gucsondewnpnM1.b1.20230228.113200.cdf\n",
      "gucsondewnpnM1.b1.20230228.233000.cdf\n",
      "gucsondewnpnM1.b1.20230301.113200.cdf\n",
      "gucsondewnpnM1.b1.20230301.233000.cdf\n",
      "gucsondewnpnM1.b1.20230302.113500.cdf\n",
      "gucsondewnpnM1.b1.20230302.234100.cdf\n",
      "gucsondewnpnM1.b1.20230303.113100.cdf\n",
      "gucsondewnpnM1.b1.20230303.232900.cdf\n",
      "gucsondewnpnM1.b1.20230304.120200.cdf\n",
      "gucsondewnpnM1.b1.20230304.232900.cdf\n",
      "gucsondewnpnM1.b1.20230305.112900.cdf\n",
      "gucsondewnpnM1.b1.20230305.233000.cdf\n",
      "gucsondewnpnM1.b1.20230306.113000.cdf\n",
      "gucsondewnpnM1.b1.20230306.232800.cdf\n",
      "gucsondewnpnM1.b1.20230307.112400.cdf\n",
      "gucsondewnpnM1.b1.20230307.233000.cdf\n",
      "gucsondewnpnM1.b1.20230308.113100.cdf\n",
      "gucsondewnpnM1.b1.20230308.233000.cdf\n",
      "gucsondewnpnM1.b1.20230309.113600.cdf\n",
      "gucsondewnpnM1.b1.20230309.233000.cdf\n",
      "gucsondewnpnM1.b1.20230310.113000.cdf\n",
      "gucsondewnpnM1.b1.20230310.233000.cdf\n",
      "gucsondewnpnM1.b1.20230311.233000.cdf\n",
      "gucsondewnpnM1.b1.20230312.113300.cdf\n",
      "gucsondewnpnM1.b1.20230312.233000.cdf\n",
      "gucsondewnpnM1.b1.20230313.112900.cdf\n",
      "gucsondewnpnM1.b1.20230313.233000.cdf\n",
      "gucsondewnpnM1.b1.20230314.113600.cdf\n",
      "gucsondewnpnM1.b1.20230314.232100.cdf\n",
      "gucsondewnpnM1.b1.20230315.113200.cdf\n",
      "gucsondewnpnM1.b1.20230315.233200.cdf\n",
      "gucsondewnpnM1.b1.20230316.113100.cdf\n",
      "gucsondewnpnM1.b1.20230316.232900.cdf\n",
      "gucsondewnpnM1.b1.20230317.113500.cdf\n",
      "gucsondewnpnM1.b1.20230317.233000.cdf\n",
      "gucsondewnpnM1.b1.20230318.113600.cdf\n",
      "gucsondewnpnM1.b1.20230318.232800.cdf\n",
      "gucsondewnpnM1.b1.20230319.113100.cdf\n",
      "gucsondewnpnM1.b1.20230319.233000.cdf\n",
      "gucsondewnpnM1.b1.20230320.113200.cdf\n",
      "gucsondewnpnM1.b1.20230320.232800.cdf\n",
      "gucsondewnpnM1.b1.20230321.113400.cdf\n",
      "gucsondewnpnM1.b1.20230321.232900.cdf\n",
      "gucsondewnpnM1.b1.20230322.113400.cdf\n",
      "gucsondewnpnM1.b1.20230322.233400.cdf\n",
      "gucsondewnpnM1.b1.20230323.113300.cdf\n",
      "gucsondewnpnM1.b1.20230323.232900.cdf\n",
      "gucsondewnpnM1.b1.20230324.113300.cdf\n",
      "gucsondewnpnM1.b1.20230324.233000.cdf\n",
      "gucsondewnpnM1.b1.20230325.113700.cdf\n",
      "gucsondewnpnM1.b1.20230325.232900.cdf\n",
      "gucsondewnpnM1.b1.20230326.112800.cdf\n",
      "gucsondewnpnM1.b1.20230326.232900.cdf\n",
      "gucsondewnpnM1.b1.20230327.112800.cdf\n",
      "gucsondewnpnM1.b1.20230327.232800.cdf\n",
      "gucsondewnpnM1.b1.20230328.113000.cdf\n",
      "gucsondewnpnM1.b1.20230328.232900.cdf\n",
      "gucsondewnpnM1.b1.20230329.112900.cdf\n",
      "gucsondewnpnM1.b1.20230329.233000.cdf\n",
      "gucsondewnpnM1.b1.20230330.113100.cdf\n",
      "gucsondewnpnM1.b1.20230330.233100.cdf\n",
      "gucsondewnpnM1.b1.20230330.235300.cdf\n",
      "gucsondewnpnM1.b1.20230331.113500.cdf\n",
      "gucsondewnpnM1.b1.20230331.233300.cdf\n",
      "gucsondewnpnM1.b1.20230401.113500.cdf\n",
      "gucsondewnpnM1.b1.20230401.232900.cdf\n",
      "gucsondewnpnM1.b1.20230402.113200.cdf\n",
      "gucsondewnpnM1.b1.20230402.233300.cdf\n",
      "gucsondewnpnM1.b1.20230403.113100.cdf\n",
      "gucsondewnpnM1.b1.20230403.233000.cdf\n",
      "gucsondewnpnM1.b1.20230404.113300.cdf\n",
      "gucsondewnpnM1.b1.20230404.120100.cdf\n",
      "gucsondewnpnM1.b1.20230404.232800.cdf\n",
      "gucsondewnpnM1.b1.20230405.113400.cdf\n",
      "gucsondewnpnM1.b1.20230405.233100.cdf\n",
      "gucsondewnpnM1.b1.20230406.113100.cdf\n",
      "gucsondewnpnM1.b1.20230406.232800.cdf\n",
      "gucsondewnpnM1.b1.20230407.113400.cdf\n",
      "gucsondewnpnM1.b1.20230407.233000.cdf\n",
      "gucsondewnpnM1.b1.20230408.113700.cdf\n",
      "gucsondewnpnM1.b1.20230408.232500.cdf\n",
      "gucsondewnpnM1.b1.20230409.113200.cdf\n",
      "gucsondewnpnM1.b1.20230409.232800.cdf\n",
      "gucsondewnpnM1.b1.20230410.113100.cdf\n",
      "gucsondewnpnM1.b1.20230410.232700.cdf\n",
      "gucsondewnpnM1.b1.20230411.113200.cdf\n",
      "gucsondewnpnM1.b1.20230411.233000.cdf\n",
      "gucsondewnpnM1.b1.20230412.113500.cdf\n",
      "gucsondewnpnM1.b1.20230412.232800.cdf\n",
      "gucsondewnpnM1.b1.20230413.112900.cdf\n",
      "gucsondewnpnM1.b1.20230413.233100.cdf\n",
      "gucsondewnpnM1.b1.20230414.113500.cdf\n",
      "gucsondewnpnM1.b1.20230414.233000.cdf\n",
      "gucsondewnpnM1.b1.20230415.113000.cdf\n",
      "gucsondewnpnM1.b1.20230415.232800.cdf\n",
      "gucsondewnpnM1.b1.20230416.112700.cdf\n",
      "gucsondewnpnM1.b1.20230416.233400.cdf\n",
      "gucsondewnpnM1.b1.20230417.113000.cdf\n",
      "gucsondewnpnM1.b1.20230417.233000.cdf\n",
      "gucsondewnpnM1.b1.20230418.113100.cdf\n",
      "gucsondewnpnM1.b1.20230418.232900.cdf\n",
      "gucsondewnpnM1.b1.20230419.113000.cdf\n",
      "gucsondewnpnM1.b1.20230419.233100.cdf\n",
      "gucsondewnpnM1.b1.20230420.112800.cdf\n",
      "gucsondewnpnM1.b1.20230420.232800.cdf\n",
      "gucsondewnpnM1.b1.20230421.113100.cdf\n",
      "gucsondewnpnM1.b1.20230421.234100.cdf\n",
      "gucsondewnpnM1.b1.20230422.113600.cdf\n",
      "gucsondewnpnM1.b1.20230422.232900.cdf\n",
      "gucsondewnpnM1.b1.20230423.113200.cdf\n",
      "gucsondewnpnM1.b1.20230423.232900.cdf\n",
      "gucsondewnpnM1.b1.20230424.113000.cdf\n",
      "gucsondewnpnM1.b1.20230424.233000.cdf\n",
      "gucsondewnpnM1.b1.20230425.113200.cdf\n",
      "gucsondewnpnM1.b1.20230425.232900.cdf\n",
      "gucsondewnpnM1.b1.20230426.113400.cdf\n",
      "gucsondewnpnM1.b1.20230426.232800.cdf\n",
      "gucsondewnpnM1.b1.20230427.113100.cdf\n",
      "gucsondewnpnM1.b1.20230427.232900.cdf\n",
      "gucsondewnpnM1.b1.20230428.113100.cdf\n",
      "gucsondewnpnM1.b1.20230428.233000.cdf\n",
      "gucsondewnpnM1.b1.20230429.112900.cdf\n",
      "gucsondewnpnM1.b1.20230429.232900.cdf\n",
      "gucsondewnpnM1.b1.20230430.113100.cdf\n",
      "gucsondewnpnM1.b1.20230430.233000.cdf\n",
      "gucsondewnpnM1.b1.20230501.112800.cdf\n",
      "gucsondewnpnM1.b1.20230501.232800.cdf\n",
      "gucsondewnpnM1.b1.20230502.113200.cdf\n",
      "gucsondewnpnM1.b1.20230502.232900.cdf\n",
      "gucsondewnpnM1.b1.20230503.233000.cdf\n",
      "gucsondewnpnM1.b1.20230503.234600.cdf\n",
      "gucsondewnpnM1.b1.20230504.001900.cdf\n",
      "gucsondewnpnM1.b1.20230504.113000.cdf\n",
      "gucsondewnpnM1.b1.20230504.233000.cdf\n",
      "gucsondewnpnM1.b1.20230505.113000.cdf\n",
      "gucsondewnpnM1.b1.20230505.233000.cdf\n",
      "gucsondewnpnM1.b1.20230506.112700.cdf\n",
      "gucsondewnpnM1.b1.20230506.232900.cdf\n",
      "gucsondewnpnM1.b1.20230507.112900.cdf\n",
      "gucsondewnpnM1.b1.20230507.232800.cdf\n",
      "gucsondewnpnM1.b1.20230508.113000.cdf\n",
      "gucsondewnpnM1.b1.20230508.232800.cdf\n",
      "gucsondewnpnM1.b1.20230509.113000.cdf\n",
      "gucsondewnpnM1.b1.20230509.232700.cdf\n",
      "gucsondewnpnM1.b1.20230510.112900.cdf\n",
      "gucsondewnpnM1.b1.20230510.232800.cdf\n",
      "gucsondewnpnM1.b1.20230511.113100.cdf\n",
      "gucsondewnpnM1.b1.20230511.233000.cdf\n",
      "gucsondewnpnM1.b1.20230512.113000.cdf\n",
      "gucsondewnpnM1.b1.20230512.233000.cdf\n",
      "gucsondewnpnM1.b1.20230513.113000.cdf\n",
      "gucsondewnpnM1.b1.20230513.232900.cdf\n",
      "gucsondewnpnM1.b1.20230514.113100.cdf\n",
      "gucsondewnpnM1.b1.20230514.233100.cdf\n",
      "gucsondewnpnM1.b1.20230515.112900.cdf\n",
      "gucsondewnpnM1.b1.20230515.232800.cdf\n",
      "gucsondewnpnM1.b1.20230516.112900.cdf\n",
      "gucsondewnpnM1.b1.20230516.232900.cdf\n",
      "gucsondewnpnM1.b1.20230517.113100.cdf\n",
      "gucsondewnpnM1.b1.20230517.233000.cdf\n",
      "gucsondewnpnM1.b1.20230518.113000.cdf\n",
      "gucsondewnpnM1.b1.20230518.232900.cdf\n",
      "gucsondewnpnM1.b1.20230519.112900.cdf\n",
      "gucsondewnpnM1.b1.20230519.232800.cdf\n",
      "gucsondewnpnM1.b1.20230520.113000.cdf\n",
      "gucsondewnpnM1.b1.20230520.232900.cdf\n",
      "gucsondewnpnM1.b1.20230521.113000.cdf\n",
      "gucsondewnpnM1.b1.20230521.232900.cdf\n",
      "gucsondewnpnM1.b1.20230522.113000.cdf\n",
      "gucsondewnpnM1.b1.20230522.233000.cdf\n",
      "gucsondewnpnM1.b1.20230523.000100.cdf\n",
      "gucsondewnpnM1.b1.20230523.112800.cdf\n",
      "gucsondewnpnM1.b1.20230523.232900.cdf\n",
      "gucsondewnpnM1.b1.20230524.113000.cdf\n",
      "gucsondewnpnM1.b1.20230524.232900.cdf\n",
      "gucsondewnpnM1.b1.20230525.112900.cdf\n",
      "gucsondewnpnM1.b1.20230525.233000.cdf\n",
      "gucsondewnpnM1.b1.20230526.113000.cdf\n",
      "gucsondewnpnM1.b1.20230526.233000.cdf\n",
      "gucsondewnpnM1.b1.20230527.233000.cdf\n",
      "gucsondewnpnM1.b1.20230528.112900.cdf\n",
      "gucsondewnpnM1.b1.20230528.232800.cdf\n",
      "gucsondewnpnM1.b1.20230529.112700.cdf\n",
      "gucsondewnpnM1.b1.20230529.233000.cdf\n",
      "gucsondewnpnM1.b1.20230530.112900.cdf\n",
      "gucsondewnpnM1.b1.20230530.233000.cdf\n",
      "gucsondewnpnM1.b1.20230531.113000.cdf\n",
      "gucsondewnpnM1.b1.20230531.233000.cdf\n",
      "gucsondewnpnM1.b1.20230601.113100.cdf\n",
      "gucsondewnpnM1.b1.20230601.233000.cdf\n",
      "gucsondewnpnM1.b1.20230602.113000.cdf\n",
      "gucsondewnpnM1.b1.20230602.234200.cdf\n",
      "gucsondewnpnM1.b1.20230603.112400.cdf\n",
      "gucsondewnpnM1.b1.20230603.232600.cdf\n",
      "gucsondewnpnM1.b1.20230604.112500.cdf\n",
      "gucsondewnpnM1.b1.20230605.113000.cdf\n",
      "gucsondewnpnM1.b1.20230605.233000.cdf\n",
      "gucsondewnpnM1.b1.20230606.113000.cdf\n",
      "gucsondewnpnM1.b1.20230606.233000.cdf\n",
      "gucsondewnpnM1.b1.20230607.113000.cdf\n",
      "gucsondewnpnM1.b1.20230607.233100.cdf\n",
      "gucsondewnpnM1.b1.20230608.113000.cdf\n",
      "gucsondewnpnM1.b1.20230608.232900.cdf\n",
      "gucsondewnpnM1.b1.20230609.113000.cdf\n",
      "gucsondewnpnM1.b1.20230609.234000.cdf\n",
      "gucsondewnpnM1.b1.20230610.112600.cdf\n",
      "gucsondewnpnM1.b1.20230610.233000.cdf\n",
      "gucsondewnpnM1.b1.20230611.112800.cdf\n",
      "gucsondewnpnM1.b1.20230611.232900.cdf\n",
      "gucsondewnpnM1.b1.20230612.113000.cdf\n",
      "gucsondewnpnM1.b1.20230612.232900.cdf\n",
      "gucsondewnpnM1.b1.20230613.113000.cdf\n",
      "gucsondewnpnM1.b1.20230613.233000.cdf\n",
      "gucsondewnpnM1.b1.20230614.113000.cdf\n",
      "gucsondewnpnM1.b1.20230614.233000.cdf\n",
      "gucsondewnpnM1.b1.20230615.113000.cdf\n",
      "gucsondewnpnM1.b1.20230615.233000.cdf\n",
      "-------------------\n",
      "met_20221001_20230930.nc already exists\n",
      "-------------------\n",
      "eddy_covariance_kettle_ponds_20221001_20230930.nc already exists\n",
      "-------------------\n",
      "laser_disdrometer_gothic_20221001_20230930.nc already exists\n",
      "-------------------\n"
     ]
    }
   ],
   "source": [
    "# load in the winter 23 data\n",
    "sail_winter_23_folder = os.path.join(storage_directory,'sail_data',winter_23_folder)\n",
    "# create empty data dictionary\n",
    "w23_data_loc_dict = {}\n",
    "# Iterate through the dictionary and pull the data for each datastream\n",
    "for k,v in sail_datastream_dict.items():\n",
    "    if (k =='radiosonde') & (len(os.listdir(os.path.join(sail_winter_23_folder,\"radiosonde\"))) > 0):\n",
    "        print(\"Radiosonde data donwloaded. Data files include:\")\n",
    "        # list file names in the radiosonde folder\n",
    "        for file in os.listdir(os.path.join(sail_winter_23_folder,\"radiosonde\")):\n",
    "            print(file)\n",
    "        print('-------------------')\n",
    "    # Check if the file already exists\n",
    "    elif (os.path.exists(f'{sail_winter_23_folder}/{k}_{winter_23[0]}_{winter_23[1]}.nc')): \n",
    "        print(f'{k}_{winter_23[0]}_{winter_23[1]}.nc already exists')\n",
    "        print('-------------------')\n",
    "        # add the filename to the dictionary which can be used if we want to load the data\n",
    "        w23_data_loc_dict[k] = os.path.join(sail_winter_23_folder,f'{k}_{winter_23[0]}_{winter_23[1]}.nc')\n",
    "        continue\n",
    "    else:\n",
    "        # explicitly download radiosonde data because they are a lot easier to process and think about when in individual files\n",
    "        if k == 'radiosonde':\n",
    "            discovery.download_data(\n",
    "                api_username,\n",
    "                api_token,\n",
    "                v,\n",
    "                startdate=winter_23[0],\n",
    "                enddate=winter_23[1],\n",
    "                output=sail_winter_23_folder+'/radiosonde/'\n",
    "            )\n",
    "        else:\n",
    "            ds = get_sail_data(api_username,\n",
    "                        api_token,\n",
    "                        v,\n",
    "                        startdate=winter_23[0],\n",
    "                        enddate=winter_23[1])\n",
    "            ds.to_netcdf(f'{sail_winter_23_folder}/{k}_{winter_23[0]}_{winter_23[1]}.nc')\n",
    "            w23_data_loc_dict[k] = os.path.join(sail_winter_23_folder,f'{k}_{winter_23[0]}_{winter_23[1]}.nc')"
   ]
  },
  {
   "cell_type": "code",
   "execution_count": 11,
   "metadata": {},
   "outputs": [],
   "source": [
    "# load in SAIL winter data for winters 2022 and 2023\n",
    "w22_sail_met = xr.open_dataset(w22_data_loc_dict['met'])\n",
    "w23_sail_met = xr.open_dataset(w23_data_loc_dict['met'])"
   ]
  },
  {
   "cell_type": "code",
   "execution_count": 22,
   "metadata": {},
   "outputs": [],
   "source": [
    "# convert to local time\n",
    "w22_sail_met_local = w22_sail_met.assign_coords(time=pd.to_datetime(w22_sail_met.time, utc=True).tz_convert('America/Denver').tz_localize(None).sort_values())\n",
    "w23_sail_met_local = w23_sail_met.assign_coords(time=pd.to_datetime(w23_sail_met.time, utc=True).tz_convert('America/Denver').tz_localize(None).sort_values())"
   ]
  },
  {
   "cell_type": "code",
   "execution_count": 12,
   "metadata": {},
   "outputs": [],
   "source": [
    "# let's build a function to qc all the data quickly\n",
    "VARIABLES = ['atmos_pressure','temp_mean', 'rh_mean','vapor_pressure_mean','wspd_arith_mean','wdir_vec_mean']\n",
    "def qc_sail_met(ds, variables):\n",
    "    # first let's add qc to all the variables as a new list\n",
    "    qc_variables = ['qc_'+v for v in variables]\n",
    "    ds_qc = ds[variables+qc_variables]\n",
    "    # now if any qc variable is not 0, we will set the variable to nan\n",
    "    for v in variables:\n",
    "        ds_qc[v] = ds_qc[v].where(ds_qc['qc_'+v]==0, other=np.nan)\n",
    "    # now let's drop the qc variables\n",
    "    ds_qc = ds_qc.drop_vars(qc_variables)\n",
    "    # now let's set extreme values for certain variables\n",
    "    temp_max = 30\n",
    "    temp_min = -40\n",
    "    rh_min = 0\n",
    "    wspd_max = 40 # max in m/s\n",
    "    vapor_pressure_max = 7.835 # this is the saturation vapor pressure at 40C\n",
    "    # now let's filter out the extremes and fill with nan\n",
    "    ds_qc['temp_mean'] = ds_qc['temp_mean'].where((ds_qc['temp_mean']<temp_max) & (ds_qc['temp_mean']>temp_min), other=np.nan)\n",
    "    ds_qc['rh_mean'] = ds_qc['rh_mean'].where(ds_qc['rh_mean']>rh_min, other=np.nan)\n",
    "    ds_qc['wspd_arith_mean'] = ds_qc['wspd_arith_mean'].where(ds_qc['wspd_arith_mean']<wspd_max, other=np.nan)\n",
    "    ds_qc['vapor_pressure_mean'] = ds_qc['vapor_pressure_mean'].where(ds_qc['vapor_pressure_mean']<vapor_pressure_max, other=np.nan)\n",
    "    # count how many data points are nan for each variable and print that out\n",
    "    for v in variables:\n",
    "        print(f'{v} has {ds_qc[v].isnull().sum().values} nan values')\n",
    "    print('-------------------')\n",
    "    # return the qc'd dataset\n",
    "    return ds_qc\n"
   ]
  },
  {
   "cell_type": "code",
   "execution_count": 23,
   "metadata": {},
   "outputs": [
    {
     "name": "stdout",
     "output_type": "stream",
     "text": [
      "atmos_pressure has 0 nan values\n",
      "temp_mean has 1 nan values\n",
      "rh_mean has 1 nan values\n",
      "vapor_pressure_mean has 0 nan values\n",
      "wspd_arith_mean has 10 nan values\n",
      "wdir_vec_mean has 0 nan values\n",
      "-------------------\n",
      "atmos_pressure has 0 nan values\n",
      "temp_mean has 1 nan values\n",
      "rh_mean has 0 nan values\n",
      "vapor_pressure_mean has 0 nan values\n",
      "wspd_arith_mean has 7 nan values\n",
      "wdir_vec_mean has 0 nan values\n",
      "-------------------\n"
     ]
    }
   ],
   "source": [
    "w22_sail_met_qc_ds = qc_sail_met(w22_sail_met_local, VARIABLES)\n",
    "w23_sail_met_qc_ds = qc_sail_met(w23_sail_met_local, VARIABLES)"
   ]
  },
  {
   "cell_type": "code",
   "execution_count": 24,
   "metadata": {},
   "outputs": [],
   "source": [
    "# make the index the day of water year\n",
    "dowy = lambda x: x.dayofyear - 274 if x.dayofyear >= 274 else x.dayofyear + 91\n",
    "# get the max wind speed for each day\n",
    "w22_max_wspd = w22_sail_met_qc_ds['wspd_arith_mean'].groupby('time.date').max().to_dataframe().reset_index()\n",
    "w23_max_wspd = w23_sail_met_qc_ds['wspd_arith_mean'].groupby('time.date').max().to_dataframe().reset_index()\n",
    "# get the average wind speed for each day\n",
    "w22_mean_wspd = w22_sail_met_qc_ds['wspd_arith_mean'].groupby('time.date').mean().to_dataframe().reset_index()\n",
    "w23_mean_wspd = w23_sail_met_qc_ds['wspd_arith_mean'].groupby('time.date').mean().to_dataframe().reset_index()\n",
    "\n",
    "# add dowy as index\n",
    "w22_mean_wspd.index = pd.to_datetime(w22_mean_wspd['date']).apply(dowy)\n",
    "w23_mean_wspd.index = pd.to_datetime(w23_mean_wspd['date']).apply(dowy)\n",
    "# convert date column to datetime\n",
    "w22_mean_wspd['date'] = pd.to_datetime(w22_mean_wspd['date'])\n",
    "w23_mean_wspd['date'] = pd.to_datetime(w23_mean_wspd['date'])\n",
    "# rename the index dowy\n",
    "w22_mean_wspd.index.name = 'dowy'\n",
    "w23_mean_wspd.index.name = 'dowy'\n",
    "\n",
    "# add dowy as index\n",
    "w22_max_wspd.index = pd.to_datetime(w22_max_wspd['date']).apply(dowy)\n",
    "w23_max_wspd.index = pd.to_datetime(w23_max_wspd['date']).apply(dowy)\n",
    "# convert date column to datetime\n",
    "w22_max_wspd['date'] = pd.to_datetime(w22_max_wspd['date'])\n",
    "w23_max_wspd['date'] = pd.to_datetime(w23_max_wspd['date'])\n",
    "# rename the index dowy\n",
    "w22_max_wspd.index.name = 'dowy'\n",
    "w23_max_wspd.index.name = 'dowy'\n",
    "\n",
    "# loc 0 to 364\n",
    "w22_mean_wspd = w22_mean_wspd.loc[0:]\n",
    "w23_mean_wspd = w23_mean_wspd.loc[0:]\n",
    "w22_max_wspd = w22_max_wspd.loc[0:]\n",
    "w23_max_wspd = w23_max_wspd.loc[0:]"
   ]
  },
  {
   "cell_type": "code",
   "execution_count": 25,
   "metadata": {},
   "outputs": [
    {
     "data": {
      "application/vnd.plotly.v1+json": {
       "config": {
        "plotlyServerURL": "https://plot.ly"
       },
       "data": [
        {
         "hovertemplate": "Day of Water Year: %{x}<br>Wind Speed: %{y:.2f} m/s",
         "marker": {
          "color": "blue"
         },
         "name": "2021-2022",
         "type": "scatter",
         "x": [
          0,
          1,
          2,
          3,
          4,
          5,
          6,
          7,
          8,
          9,
          10,
          11,
          12,
          13,
          14,
          15,
          16,
          17,
          18,
          19,
          20,
          21,
          22,
          23,
          24,
          25,
          26,
          27,
          28,
          29,
          30,
          31,
          32,
          33,
          34,
          35,
          36,
          37,
          38,
          39,
          40,
          41,
          42,
          43,
          44,
          45,
          46,
          47,
          48,
          49,
          50,
          51,
          52,
          53,
          54,
          55,
          56,
          57,
          58,
          59,
          60,
          61,
          62,
          63,
          64,
          65,
          66,
          67,
          68,
          69,
          70,
          71,
          72,
          73,
          74,
          75,
          76,
          77,
          78,
          79,
          80,
          81,
          82,
          83,
          84,
          85,
          86,
          87,
          88,
          89,
          90,
          91,
          92,
          93,
          94,
          95,
          96,
          97,
          98,
          99,
          100,
          101,
          102,
          103,
          104,
          105,
          106,
          107,
          108,
          109,
          110,
          111,
          112,
          113,
          114,
          115,
          116,
          117,
          118,
          119,
          120,
          121,
          122,
          123,
          124,
          125,
          126,
          127,
          128,
          129,
          130,
          131,
          132,
          133,
          134,
          135,
          136,
          137,
          138,
          139,
          140,
          141,
          142,
          143,
          144,
          145,
          146,
          147,
          148,
          149,
          150,
          151,
          152,
          153,
          154,
          155,
          156,
          157,
          158,
          159,
          160,
          161,
          162,
          163,
          164,
          165,
          166,
          167,
          168,
          169,
          170,
          171,
          172,
          173,
          174,
          175,
          176,
          177,
          178,
          179,
          180,
          181,
          182,
          183,
          184,
          185,
          186,
          187,
          188,
          189,
          190,
          191,
          192,
          193,
          194,
          195,
          196,
          197,
          198,
          199,
          200,
          201,
          202,
          203,
          204,
          205,
          206,
          207,
          208,
          209,
          210,
          211,
          212,
          213,
          214,
          215,
          216,
          217,
          218,
          219,
          220,
          221,
          222,
          223,
          224,
          225,
          226,
          227,
          228,
          229,
          230,
          231,
          232,
          233,
          234,
          235,
          236,
          237,
          238,
          239,
          240,
          241,
          242,
          243,
          244,
          245,
          246,
          247,
          248,
          249,
          250,
          251,
          252,
          253,
          254,
          255,
          256,
          257,
          258,
          259,
          260,
          261,
          262,
          263,
          264,
          265,
          266,
          267,
          268,
          269,
          270,
          271,
          272,
          273,
          274,
          275,
          276,
          277,
          278,
          279,
          280,
          281,
          282,
          283,
          284,
          285,
          286,
          287,
          288,
          289,
          290,
          291,
          292,
          293,
          294,
          295,
          296,
          297,
          298,
          299,
          300,
          301,
          302,
          303,
          304,
          305,
          306,
          307,
          308,
          309,
          310,
          311,
          312,
          313,
          314,
          315,
          316,
          317,
          318,
          319,
          320,
          321,
          322,
          323,
          324,
          325,
          326,
          327,
          328,
          329,
          330,
          331,
          332,
          333,
          334,
          335,
          336,
          337,
          338,
          339,
          340,
          341,
          342,
          343,
          344,
          345,
          346,
          347,
          348,
          349,
          350,
          351,
          352,
          353,
          354,
          355,
          356,
          357,
          358,
          359,
          360,
          361,
          362,
          363,
          364
         ],
         "xaxis": "x",
         "y": [
          1.6792312860488892,
          1.5276923179626465,
          1.6022883653640747,
          1.6118452548980713,
          1.4703611135482788,
          1.983858346939087,
          1.8229514360427856,
          1.8222784996032715,
          3.90323543548584,
          2.5230095386505127,
          1.767007827758789,
          2.6060445308685303,
          2.557213306427002,
          2.1382644176483154,
          2.8055763244628906,
          1.2446619272232056,
          1.6385715007781982,
          2.0942978858947754,
          2.8255791664123535,
          1.891611099243164,
          1.5507397651672363,
          1.5775014162063599,
          1.7908360958099365,
          2.3311076164245605,
          1.812363862991333,
          3.7910001277923584,
          6.561688423156738,
          3.5828263759613037,
          1.5845979452133179,
          1.8157098293304443,
          1.610747218132019,
          1.7736791372299194,
          1.0675368309020996,
          1.2595527172088623,
          1.7043790817260742,
          1.675563931465149,
          1.7378708124160767,
          1.9994399547576904,
          1.9725854396820068,
          1.9177286624908447,
          2.865516424179077,
          3.573690414428711,
          4.2889933586120605,
          2.39096736907959,
          3.0995638370513916,
          1.8088160753250122,
          4.145880222320557,
          3.5920193195343018,
          1.4229373931884766,
          2.4283223152160645,
          2.0964138507843018,
          2.0590007305145264,
          1.3598756790161133,
          1.3678034543991089,
          2.75059175491333,
          1.5390374660491943,
          1.5294972658157349,
          1.920580506324768,
          1.825953483581543,
          1.3600201606750488,
          2.2012548446655273,
          1.3480249643325806,
          1.431904911994934,
          1.3041714429855347,
          1.5655442476272583,
          3.327209711074829,
          2.6717333793640137,
          2.0123679637908936,
          1.7706804275512695,
          2.8376123905181885,
          4.295698642730713,
          1.283470869064331,
          1.3213375806808472,
          1.318829894065857,
          1.1770951747894287,
          4.89362907409668,
          1.8605186939239502,
          2.216085433959961,
          1.082248568534851,
          1.0109694004058838,
          1.163043737411499,
          1.7681305408477783,
          2.218615770339966,
          1.8417229652404785,
          3.321179151535034,
          3.097937822341919,
          4.569461822509766,
          2.784109115600586,
          3.7648723125457764,
          2.3019118309020996,
          2.3492932319641113,
          2.284860134124756,
          3.727505922317505,
          1.0265833139419556,
          1.2478867769241333,
          4.625351428985596,
          6.9227294921875,
          4.354140281677246,
          1.755654215812683,
          2.61438250541687,
          1.1512861251831055,
          0.9645777940750122,
          0.9805548787117004,
          1.113344430923462,
          1.0026923418045044,
          4.133436679840088,
          1.8416646718978882,
          1.0046160221099854,
          0.9852784872055054,
          1.1673166751861572,
          1.718615174293518,
          1.566799283027649,
          0.8934944868087769,
          1.2055270671844482,
          1.7435539960861206,
          1.5638235807418823,
          1.218747854232788,
          1.4088146686553955,
          1.7833341360092163,
          1.061174988746643,
          0.925728440284729,
          1.2220784425735474,
          2.2765300273895264,
          1.410736083984375,
          2.837367296218872,
          1.9160348176956177,
          1.0076333284378052,
          2.036588191986084,
          2.6454317569732666,
          1.0992931127548218,
          3.660778760910034,
          3.6677746772766113,
          2.7585854530334473,
          5.21424674987793,
          3.193256378173828,
          1.640929102897644,
          1.4879645109176636,
          1.9119049310684204,
          2.2067832946777344,
          3.799034357070923,
          2.633906841278076,
          1.9363229274749756,
          2.189452886581421,
          3.0600335597991943,
          1.921968698501587,
          2.7206172943115234,
          2.814708948135376,
          1.341993808746338,
          1.5565860271453857,
          1.088818073272705,
          1.164592981338501,
          1.0721771717071533,
          1.1253020763397217,
          1.1582062244415283,
          1.7738819122314453,
          1.7479292154312134,
          2.393751382827759,
          2.0738089084625244,
          2.253901243209839,
          2.422266721725464,
          3.0772061347961426,
          4.302873611450195,
          1.508115291595459,
          1.9278419017791748,
          2.434175729751587,
          1.5782707929611206,
          2.0237998962402344,
          3.916518211364746,
          2.413923501968384,
          1.1727583408355713,
          2.040757656097412,
          3.9395341873168945,
          4.427483558654785,
          4.405581474304199,
          2.66786527633667,
          2.2747368812561035,
          2.2337443828582764,
          1.749030590057373,
          2.7780768871307373,
          3.024866819381714,
          4.95574951171875,
          2.341221332550049,
          3.0986437797546387,
          2.186018705368042,
          2.197819232940674,
          2.63720965385437,
          5.29987907409668,
          5.232301235198975,
          4.517159461975098,
          2.305734634399414,
          2.7220964431762695,
          4.1188578605651855,
          3.427978515625,
          4.7079668045043945,
          3.5774152278900146,
          2.8561275005340576,
          1.6717935800552368,
          2.6143875122070312,
          3.277033567428589,
          1.8257895708084106,
          3.2768049240112305,
          3.7221882343292236,
          1.7259790897369385,
          3.269266128540039,
          3.655919313430786,
          1.5005090236663818,
          1.4253687858581543,
          2.0052764415740967,
          1.8162256479263306,
          2.3333401679992676,
          4.356146812438965,
          2.1215264797210693,
          2.2364249229431152,
          2.6558165550231934,
          2.585113763809204,
          3.101560354232788,
          2.494364023208618,
          2.7155282497406006,
          3.0793681144714355,
          4.874391555786133,
          5.206829071044922,
          3.053192138671875,
          3.7425427436828613,
          4.395204067230225,
          2.8641374111175537,
          2.63358736038208,
          1.9139889478683472,
          1.8725091218948364,
          2.408179998397827,
          2.835127830505371,
          4.754924297332764,
          4.743444919586182,
          2.588883399963379,
          2.3098251819610596,
          3.290496587753296,
          3.4220805168151855,
          3.8450889587402344,
          2.3244965076446533,
          2.538078546524048,
          3.2067675590515137,
          3.053537368774414,
          2.2136449813842773,
          2.654402256011963,
          2.75647234916687,
          2.1870436668395996,
          2.130911350250244,
          2.4219796657562256,
          2.3089797496795654,
          2.891528367996216,
          2.9937617778778076,
          2.5488057136535645,
          2.8793509006500244,
          2.3679797649383545,
          2.750427007675171,
          2.664341449737549,
          3.721334934234619,
          3.351942300796509,
          2.6470539569854736,
          1.8771806955337524,
          1.9321666955947876,
          1.7982819080352783,
          1.656374216079712,
          2.2094147205352783,
          1.9817686080932617,
          1.6004409790039062,
          1.7413084506988525,
          2.258540391921997,
          1.9016276597976685,
          1.527284026145935,
          2.123793840408325,
          2.184148073196411,
          2.3115861415863037,
          1.6674736738204956,
          2.3104360103607178,
          1.8527909517288208,
          1.4990909099578857,
          1.7547117471694946,
          2.075591802597046,
          1.6912403106689453,
          1.8744977712631226,
          1.5684757232666016,
          1.7754591703414917,
          2.0922298431396484,
          1.9253250360488892,
          2.059206962585449,
          1.7097722291946411,
          1.9635237455368042,
          1.3377916812896729,
          2.0905630588531494,
          1.537293791770935,
          2.6246089935302734,
          2.086214542388916,
          2.134692430496216,
          1.751408338546753,
          2.1005005836486816,
          2.3233752250671387,
          1.488094449043274,
          1.2957847118377686,
          1.6443417072296143,
          1.5653326511383057,
          1.2811534404754639,
          1.244036078453064,
          1.8482389450073242,
          1.5353590250015259,
          1.695676326751709,
          2.061828374862671,
          2.051406145095825,
          1.6999351978302002,
          1.9933769702911377,
          1.836647868156433,
          2.1934008598327637,
          1.7885661125183105,
          1.5649430751800537,
          1.5907902717590332,
          2.290360927581787,
          1.5209381580352783,
          1.6058229207992554,
          2.197969675064087,
          1.5577819347381592,
          1.1874181032180786,
          1.1696715354919434,
          1.5154285430908203,
          1.66799795627594,
          1.367497205734253,
          2.07763671875,
          1.9942270517349243,
          2.0265750885009766,
          1.831289529800415,
          1.6030415296554565,
          1.3131604194641113,
          1.9529832601547241,
          2.420577049255371,
          1.4618173837661743,
          1.6791917085647583,
          2.128645896911621,
          1.8807597160339355,
          2.0845894813537598,
          2.0382978916168213,
          2.238572120666504,
          2.4223952293395996,
          2.1467158794403076,
          1.9771791696548462,
          2.075517416000366,
          2.214080572128296,
          2.9173240661621094,
          2.220954179763794,
          1.9798965454101562,
          1.761995792388916,
          1.4335687160491943,
          1.9042860269546509,
          2.1562883853912354,
          1.696077823638916,
          2.2078027725219727,
          2.048130512237549,
          1.8223179578781128,
          1.0619937181472778,
          1.346700668334961,
          2.935508966445923,
          1.9513360261917114,
          1.9135223627090454,
          1.9019687175750732,
          2.000683307647705,
          1.6002782583236694,
          1.9706965684890747,
          2.264066457748413
         ],
         "yaxis": "y"
        },
        {
         "hovertemplate": "Day of Water Year: %{x}<br>Wind Speed: %{y:.2f} m/s",
         "marker": {
          "color": "red"
         },
         "name": "2022-2023",
         "type": "scatter",
         "x": [
          0,
          1,
          2,
          3,
          4,
          5,
          6,
          7,
          8,
          9,
          10,
          11,
          12,
          13,
          14,
          15,
          16,
          17,
          18,
          19,
          20,
          21,
          22,
          23,
          24,
          25,
          26,
          27,
          28,
          29,
          30,
          31,
          32,
          33,
          34,
          35,
          36,
          37,
          38,
          39,
          40,
          41,
          42,
          43,
          44,
          45,
          46,
          47,
          48,
          49,
          50,
          51,
          52,
          53,
          54,
          55,
          56,
          57,
          58,
          59,
          60,
          61,
          62,
          63,
          64,
          65,
          66,
          67,
          68,
          69,
          70,
          71,
          72,
          73,
          74,
          75,
          76,
          77,
          78,
          79,
          80,
          81,
          82,
          83,
          84,
          85,
          86,
          87,
          88,
          89,
          90,
          91,
          92,
          93,
          94,
          95,
          96,
          97,
          98,
          99,
          100,
          101,
          102,
          103,
          104,
          105,
          106,
          107,
          108,
          109,
          110,
          111,
          112,
          113,
          114,
          115,
          116,
          117,
          118,
          119,
          120,
          121,
          122,
          123,
          124,
          125,
          126,
          127,
          128,
          129,
          130,
          131,
          132,
          133,
          134,
          135,
          136,
          137,
          138,
          139,
          140,
          141,
          142,
          143,
          144,
          145,
          146,
          147,
          148,
          149,
          150,
          151,
          152,
          153,
          154,
          155,
          156,
          157,
          158,
          159,
          160,
          161,
          162,
          163,
          164,
          165,
          166,
          167,
          168,
          169,
          170,
          171,
          172,
          173,
          174,
          175,
          176,
          177,
          178,
          179,
          180,
          181,
          182,
          183,
          184,
          185,
          186,
          187,
          188,
          189,
          190,
          191,
          192,
          193,
          194,
          195,
          196,
          197,
          198,
          199,
          200,
          201,
          202,
          203,
          204,
          205,
          206,
          207,
          208,
          209,
          210,
          211,
          212,
          213,
          214,
          215,
          216,
          217,
          218,
          219,
          220,
          221,
          222,
          223,
          224,
          225,
          226,
          227,
          228,
          229,
          230,
          231,
          232,
          233,
          234,
          235,
          236,
          237,
          238,
          239,
          240,
          241,
          242,
          243,
          244,
          245,
          246,
          247,
          248,
          249,
          250,
          251,
          252,
          253,
          254,
          255,
          256,
          257,
          258
         ],
         "xaxis": "x",
         "y": [
          1.268781304359436,
          1.2014284133911133,
          1.5425639152526855,
          1.8220492601394653,
          1.2994160652160645,
          1.570670247077942,
          1.9522764682769775,
          1.8525151014328003,
          1.582116723060608,
          2.0787353515625,
          3.0922956466674805,
          2.579427719116211,
          2.4796485900878906,
          2.086909770965576,
          1.8127670288085938,
          1.4633708000183105,
          1.756064534187317,
          2.06195068359375,
          1.7132700681686401,
          1.9452317953109741,
          2.9211223125457764,
          3.025054931640625,
          3.581219434738159,
          4.038815021514893,
          1.5646638870239258,
          1.7089903354644775,
          2.4701645374298096,
          1.1202853918075562,
          1.6329214572906494,
          1.5379716157913208,
          1.5143465995788574,
          1.4387319087982178,
          1.8398054838180542,
          2.0463812351226807,
          3.6996853351593018,
          4.838348865509033,
          2.5306215286254883,
          1.7075083255767822,
          2.40809965133667,
          3.6777374744415283,
          2.1016249656677246,
          1.8280792236328125,
          1.1458930969238281,
          1.6569159030914307,
          2.627324342727661,
          2.227555751800537,
          2.132824420928955,
          2.4006872177124023,
          2.590169906616211,
          1.574807047843933,
          1.5267977714538574,
          1.1163604259490967,
          1.1358007192611694,
          2.8562405109405518,
          2.749415159225464,
          1.1263848543167114,
          1.9721394777297974,
          2.506855010986328,
          2.1255791187286377,
          3.684687614440918,
          1.265427827835083,
          1.7177610397338867,
          4.06234884262085,
          1.0031986236572266,
          1.4613513946533203,
          2.70654296875,
          2.7353200912475586,
          0.934757649898529,
          3.5745229721069336,
          1.3842798471450806,
          1.302430510520935,
          1.1670118570327759,
          2.756364583969116,
          4.892905235290527,
          5.34549617767334,
          3.4148569107055664,
          2.9019277095794678,
          1.0464590787887573,
          1.1943548917770386,
          1.5375367403030396,
          1.060736060142517,
          4.655139446258545,
          6.312535285949707,
          1.015970230102539,
          2.4205174446105957,
          3.336778402328491,
          2.232551336288452,
          1.6118979454040527,
          1.5834652185440063,
          2.500929117202759,
          0.9305659532546997,
          1.2184256315231323,
          1.289257526397705,
          1.4730256795883179,
          2.4189813137054443,
          3.6675400733947754,
          1.1963284015655518,
          1.2881895303726196,
          1.2017041444778442,
          1.3281075954437256,
          1.0092660188674927,
          1.7113112211227417,
          3.3284800052642822,
          1.1565992832183838,
          0.916472852230072,
          1.6163228750228882,
          1.34123957157135,
          0.9556617736816406,
          1.4813846349716187,
          3.867210626602173,
          1.3108553886413574,
          1.0991159677505493,
          3.0808889865875244,
          1.1057173013687134,
          1.2884562015533447,
          2.411755323410034,
          3.0317888259887695,
          2.09440279006958,
          2.393299102783203,
          2.6983656883239746,
          1.9368833303451538,
          3.077634572982788,
          2.000467300415039,
          1.219538927078247,
          1.2885138988494873,
          1.192015290260315,
          1.990299940109253,
          2.5440423488616943,
          3.546013832092285,
          1.302026391029358,
          2.9178690910339355,
          3.348066568374634,
          1.033523678779602,
          1.0112409591674805,
          1.1589909791946411,
          1.230858325958252,
          2.549917697906494,
          1.8389703035354614,
          1.2859222888946533,
          0.983412504196167,
          1.9170215129852295,
          5.506052494049072,
          3.8863422870635986,
          2.7810146808624268,
          3.658426284790039,
          3.195241689682007,
          2.3333139419555664,
          1.510757565498352,
          2.7873518466949463,
          1.943021535873413,
          3.355052947998047,
          0.977679967880249,
          2.4746901988983154,
          2.0361602306365967,
          2.065749406814575,
          3.3579068183898926,
          3.308126449584961,
          2.965012550354004,
          3.1012020111083984,
          3.2568230628967285,
          1.1100399494171143,
          2.444385290145874,
          1.3809623718261719,
          2.0049068927764893,
          1.3117501735687256,
          1.0408674478530884,
          3.66569185256958,
          2.237333059310913,
          1.6671339273452759,
          1.6739610433578491,
          1.167417287826538,
          1.9251410961151123,
          4.084692478179932,
          2.0436625480651855,
          2.030198574066162,
          3.4108083248138428,
          1.162604808807373,
          3.2991325855255127,
          1.3833376169204712,
          1.3855985403060913,
          2.703143358230591,
          4.519865036010742,
          1.5023993253707886,
          3.5423102378845215,
          4.1073713302612305,
          3.4251701831817627,
          2.4588632583618164,
          1.2947951555252075,
          1.5617069005966187,
          1.647196650505066,
          2.1856486797332764,
          1.192236065864563,
          1.7482681274414062,
          1.924414038658142,
          3.1123874187469482,
          2.585059642791748,
          3.8616042137145996,
          1.7719389200210571,
          1.6327310800552368,
          3.2384819984436035,
          3.9909987449645996,
          3.4264180660247803,
          2.466547727584839,
          2.934490919113159,
          1.7218644618988037,
          1.7197277545928955,
          2.2487311363220215,
          2.123896598815918,
          3.1401822566986084,
          4.0660719871521,
          1.6374715566635132,
          2.4792394638061523,
          1.4864470958709717,
          1.9820687770843506,
          1.378649353981018,
          1.8936277627944946,
          2.3309249877929688,
          2.1993062496185303,
          1.8852680921554565,
          2.0096139907836914,
          1.7073251008987427,
          2.112699270248413,
          3.4650418758392334,
          3.3256514072418213,
          1.218800663948059,
          1.6527645587921143,
          2.399915933609009,
          2.1291654109954834,
          2.186539649963379,
          2.9195165634155273,
          1.7088541984558105,
          2.1558868885040283,
          1.9863749742507935,
          2.264371395111084,
          1.7798020839691162,
          1.5664374828338623,
          2.066990375518799,
          2.203402042388916,
          2.3326847553253174,
          2.0647284984588623,
          2.267918825149536,
          2.1878411769866943,
          2.0889909267425537,
          2.5125272274017334,
          1.4600144624710083,
          2.5647144317626953,
          2.61433744430542,
          2.3055901527404785,
          1.8716305494308472,
          2.40576171875,
          2.3152639865875244,
          1.9899075031280518,
          2.037386894226074,
          1.8422430753707886,
          2.9658265113830566,
          2.823896646499634,
          2.1080145835876465,
          2.3403480052948,
          0.8980482816696167
         ],
         "yaxis": "y"
        },
        {
         "hovertemplate": "Day of Water Year: %{x}<br>Wind Speed: %{y:.2f} m/s",
         "marker": {
          "color": "blue"
         },
         "name": "2021-2022",
         "showlegend": false,
         "type": "scatter",
         "x": [
          0,
          1,
          2,
          3,
          4,
          5,
          6,
          7,
          8,
          9,
          10,
          11,
          12,
          13,
          14,
          15,
          16,
          17,
          18,
          19,
          20,
          21,
          22,
          23,
          24,
          25,
          26,
          27,
          28,
          29,
          30,
          31,
          32,
          33,
          34,
          35,
          36,
          37,
          38,
          39,
          40,
          41,
          42,
          43,
          44,
          45,
          46,
          47,
          48,
          49,
          50,
          51,
          52,
          53,
          54,
          55,
          56,
          57,
          58,
          59,
          60,
          61,
          62,
          63,
          64,
          65,
          66,
          67,
          68,
          69,
          70,
          71,
          72,
          73,
          74,
          75,
          76,
          77,
          78,
          79,
          80,
          81,
          82,
          83,
          84,
          85,
          86,
          87,
          88,
          89,
          90,
          91,
          92,
          93,
          94,
          95,
          96,
          97,
          98,
          99,
          100,
          101,
          102,
          103,
          104,
          105,
          106,
          107,
          108,
          109,
          110,
          111,
          112,
          113,
          114,
          115,
          116,
          117,
          118,
          119,
          120,
          121,
          122,
          123,
          124,
          125,
          126,
          127,
          128,
          129,
          130,
          131,
          132,
          133,
          134,
          135,
          136,
          137,
          138,
          139,
          140,
          141,
          142,
          143,
          144,
          145,
          146,
          147,
          148,
          149,
          150,
          151,
          152,
          153,
          154,
          155,
          156,
          157,
          158,
          159,
          160,
          161,
          162,
          163,
          164,
          165,
          166,
          167,
          168,
          169,
          170,
          171,
          172,
          173,
          174,
          175,
          176,
          177,
          178,
          179,
          180,
          181,
          182,
          183,
          184,
          185,
          186,
          187,
          188,
          189,
          190,
          191,
          192,
          193,
          194,
          195,
          196,
          197,
          198,
          199,
          200,
          201,
          202,
          203,
          204,
          205,
          206,
          207,
          208,
          209,
          210,
          211,
          212,
          213,
          214,
          215,
          216,
          217,
          218,
          219,
          220,
          221,
          222,
          223,
          224,
          225,
          226,
          227,
          228,
          229,
          230,
          231,
          232,
          233,
          234,
          235,
          236,
          237,
          238,
          239,
          240,
          241,
          242,
          243,
          244,
          245,
          246,
          247,
          248,
          249,
          250,
          251,
          252,
          253,
          254,
          255,
          256,
          257,
          258,
          259,
          260,
          261,
          262,
          263,
          264,
          265,
          266,
          267,
          268,
          269,
          270,
          271,
          272,
          273,
          274,
          275,
          276,
          277,
          278,
          279,
          280,
          281,
          282,
          283,
          284,
          285,
          286,
          287,
          288,
          289,
          290,
          291,
          292,
          293,
          294,
          295,
          296,
          297,
          298,
          299,
          300,
          301,
          302,
          303,
          304,
          305,
          306,
          307,
          308,
          309,
          310,
          311,
          312,
          313,
          314,
          315,
          316,
          317,
          318,
          319,
          320,
          321,
          322,
          323,
          324,
          325,
          326,
          327,
          328,
          329,
          330,
          331,
          332,
          333,
          334,
          335,
          336,
          337,
          338,
          339,
          340,
          341,
          342,
          343,
          344,
          345,
          346,
          347,
          348,
          349,
          350,
          351,
          352,
          353,
          354,
          355,
          356,
          357,
          358,
          359,
          360,
          361,
          362,
          363,
          364
         ],
         "xaxis": "x2",
         "y": [
          5.864999771118164,
          8.869999885559082,
          6.3379998207092285,
          5.546999931335449,
          5.5920000076293945,
          9.880000114440918,
          7.021999835968018,
          8.710000038146973,
          12.100000381469727,
          8.789999961853027,
          8.170000076293945,
          9.270000457763672,
          9.039999961853027,
          8.539999961853027,
          7.285999774932861,
          4.644999980926514,
          4.992000102996826,
          7.724999904632568,
          11.050000190734863,
          9.140000343322754,
          6.611999988555908,
          6.394999980926514,
          7.079999923706055,
          9.15999984741211,
          5.8520002365112305,
          9.859999656677246,
          13.9399995803833,
          8.649999618530273,
          7.4720001220703125,
          7.0329999923706055,
          9.5,
          8.5600004196167,
          5.7829999923706055,
          4.48799991607666,
          7.216000080108643,
          6.697000026702881,
          6.947999954223633,
          10.020000457763672,
          7.4679999351501465,
          7.811999797821045,
          8.170000076293945,
          9.949999809265137,
          10.800000190734863,
          9.229999542236328,
          9.350000381469727,
          7.0269999504089355,
          12.279999732971191,
          9.989999771118164,
          5.071000099182129,
          9.5600004196167,
          6.573999881744385,
          5.718999862670898,
          3.928999900817871,
          6.638999938964844,
          7.329999923706055,
          5.703999996185303,
          5.563000202178955,
          6.296999931335449,
          7.886000156402588,
          6.0370001792907715,
          7.085000038146973,
          4.105000019073486,
          5.629000186920166,
          4.336999893188477,
          7.366000175476074,
          11.970000267028809,
          11.329999923706055,
          6.835000038146973,
          9.609999656677246,
          9.369999885559082,
          9.75,
          4.025000095367432,
          3.878000020980835,
          3.9800000190734863,
          3.625,
          36.63999938964844,
          8.9399995803833,
          5.85099983215332,
          3.194999933242798,
          2.614000082015991,
          3.9779999256134033,
          7.057000160217285,
          10.050000190734863,
          10.380000114440918,
          11.260000228881836,
          28.280000686645508,
          17,
          13.109999656677246,
          12.470000267028809,
          7.736999988555908,
          9.220000267028809,
          10.380000114440918,
          8.630000114440918,
          3.3369998931884766,
          3.5380001068115234,
          11.800000190734863,
          13.84000015258789,
          11.25,
          7.453000068664551,
          10.449999809265137,
          3.4040000438690186,
          2.8510000705718994,
          3.135999917984009,
          3.4719998836517334,
          2.9830000400543213,
          9.960000038146973,
          10.1899995803833,
          2.4679999351501465,
          2.632999897003174,
          3.2780001163482666,
          5.71999979019165,
          8.300000190734863,
          2.9040000438690186,
          4.249000072479248,
          7.250999927520752,
          7.007999897003174,
          5.848999977111816,
          5.302999973297119,
          7.611000061035156,
          2.9210000038146973,
          2.8010001182556152,
          4.934999942779541,
          10.5600004196167,
          4.874000072479248,
          5.806000232696533,
          7.241000175476074,
          3.694999933242798,
          7.392000198364258,
          8.40999984741211,
          2.8299999237060547,
          10.09000015258789,
          10.329999923706055,
          10.079999923706055,
          11.65999984741211,
          10.5,
          7.9019999504089355,
          6.236999988555908,
          9,
          9.649999618530273,
          8.550000190734863,
          9.069999694824219,
          7.710000038146973,
          8.789999961853027,
          13.09000015258789,
          9.140000343322754,
          8.680000305175781,
          7.633999824523926,
          5.785999774932861,
          3.8910000324249268,
          3.1710000038146973,
          3.759999990463257,
          2.989000082015991,
          3.0810000896453857,
          2.940999984741211,
          7.572999954223633,
          6.7729997634887695,
          7.144999980926514,
          7.3470001220703125,
          6.986999988555908,
          11.15999984741211,
          7.741000175476074,
          10.270000457763672,
          4.99399995803833,
          7.947000026702881,
          5.75,
          6.072999954223633,
          6.89900016784668,
          7.8979997634887695,
          7.616000175476074,
          3.2179999351501465,
          7.616000175476074,
          8.880000114440918,
          10.800000190734863,
          11.210000038146973,
          9.229999542236328,
          9.420000076293945,
          8.880000114440918,
          6.666999816894531,
          10.65999984741211,
          9.5600004196167,
          10.619999885559082,
          7.120999813079834,
          8.170000076293945,
          7.915999889373779,
          8.75,
          10.670000076293945,
          12.739999771118164,
          11.210000038146973,
          10.880000114440918,
          8.1899995803833,
          11.380000114440918,
          12.020000457763672,
          17.540000915527344,
          16.239999771118164,
          11.210000038146973,
          10.5600004196167,
          8.390000343322754,
          14.779999732971191,
          10.729999542236328,
          6.835999965667725,
          14.130000114440918,
          11.699999809265137,
          7.60699987411499,
          16.31999969482422,
          9.699999809265137,
          6.050000190734863,
          5.414000034332275,
          7.264999866485596,
          6.76800012588501,
          8.619999885559082,
          11.270000457763672,
          6.408999919891357,
          9.270000457763672,
          7.4029998779296875,
          13.850000381469727,
          9.09000015258789,
          8.9399995803833,
          9.359999656677246,
          13.699999809265137,
          16.770000457763672,
          17.959999084472656,
          10.90999984741211,
          12.6899995803833,
          14.569999694824219,
          10.710000038146973,
          9.520000457763672,
          6.743000030517578,
          8.279999732971191,
          8.239999771118164,
          9.40999984741211,
          13.859999656677246,
          13.100000381469727,
          8.210000038146973,
          10.25,
          9.25,
          10.819999694824219,
          10.25,
          8.170000076293945,
          9.890000343322754,
          12.15999984741211,
          9.890000343322754,
          8.220000267028809,
          8.979999542236328,
          8.529999732971191,
          7.96999979019165,
          9.460000038146973,
          8.84000015258789,
          9.029999732971191,
          10.3100004196167,
          10.649999618530273,
          8.8100004196167,
          10.470000267028809,
          7.913000106811523,
          11.800000190734863,
          9.3100004196167,
          16.56999969482422,
          10.3100004196167,
          7.64900016784668,
          7.781000137329102,
          8.260000228881836,
          7.61899995803833,
          11.109999656677246,
          8.5,
          9.369999885559082,
          7.763999938964844,
          8.220000267028809,
          9.520000457763672,
          9.199999809265137,
          10.800000190734863,
          8.319999694824219,
          8.619999885559082,
          8.699999809265137,
          9.529999732971191,
          10.140000343322754,
          9.279999732971191,
          5.583000183105469,
          6.678999900817871,
          7.718999862670898,
          10.420000076293945,
          7.331999778747559,
          5.423999786376953,
          7.420000076293945,
          10.609999656677246,
          7.520999908447266,
          9.09000015258789,
          7.359000205993652,
          8.3100004196167,
          6.867000102996826,
          7.210999965667725,
          6.236000061035156,
          10.850000381469727,
          7.265999794006348,
          10.789999961853027,
          8.430000305175781,
          9.489999771118164,
          10.25,
          7.959000110626221,
          5.495999813079834,
          8.3100004196167,
          6.0320000648498535,
          3.743000030517578,
          7.480000019073486,
          6.874000072479248,
          6.552999973297119,
          6.984000205993652,
          11.359999656677246,
          6.114999771118164,
          8.130000114440918,
          8.850000381469727,
          6.864999771118164,
          8.520000457763672,
          7.623000144958496,
          8.149999618530273,
          5.714000225067139,
          9.09000015258789,
          5.179999828338623,
          6.571000099182129,
          10.079999923706055,
          5.486999988555908,
          4.816999912261963,
          4.11299991607666,
          5.65500020980835,
          7.5920000076293945,
          5.182000160217285,
          9.770000457763672,
          8.350000381469727,
          7.480000019073486,
          6.900000095367432,
          8.069999694824219,
          8.109999656677246,
          8.850000381469727,
          9.180000305175781,
          5.418000221252441,
          5.892000198364258,
          7.598999977111816,
          7.441999912261963,
          7.980000019073486,
          8.369999885559082,
          7.234000205993652,
          8.59000015258789,
          7.435999870300293,
          7.440000057220459,
          9.9399995803833,
          8.649999618530273,
          11.180000305175781,
          7.895999908447266,
          7.105999946594238,
          6.914999961853027,
          7.480999946594238,
          7.521999835968018,
          6.77400016784668,
          8.100000381469727,
          8.300000190734863,
          8.59000015258789,
          6.573999881744385,
          2.927000045776367,
          7.1570000648498535,
          9.800000190734863,
          7.629000186920166,
          8.430000305175781,
          6.578000068664551,
          8.170000076293945,
          6.65500020980835,
          7.677000045776367,
          10.420000076293945
         ],
         "yaxis": "y2"
        },
        {
         "hovertemplate": "Day of Water Year: %{x}<br>Wind Speed: %{y:.2f} m/s",
         "marker": {
          "color": "red"
         },
         "name": "2022-2023",
         "showlegend": false,
         "type": "scatter",
         "x": [
          0,
          1,
          2,
          3,
          4,
          5,
          6,
          7,
          8,
          9,
          10,
          11,
          12,
          13,
          14,
          15,
          16,
          17,
          18,
          19,
          20,
          21,
          22,
          23,
          24,
          25,
          26,
          27,
          28,
          29,
          30,
          31,
          32,
          33,
          34,
          35,
          36,
          37,
          38,
          39,
          40,
          41,
          42,
          43,
          44,
          45,
          46,
          47,
          48,
          49,
          50,
          51,
          52,
          53,
          54,
          55,
          56,
          57,
          58,
          59,
          60,
          61,
          62,
          63,
          64,
          65,
          66,
          67,
          68,
          69,
          70,
          71,
          72,
          73,
          74,
          75,
          76,
          77,
          78,
          79,
          80,
          81,
          82,
          83,
          84,
          85,
          86,
          87,
          88,
          89,
          90,
          91,
          92,
          93,
          94,
          95,
          96,
          97,
          98,
          99,
          100,
          101,
          102,
          103,
          104,
          105,
          106,
          107,
          108,
          109,
          110,
          111,
          112,
          113,
          114,
          115,
          116,
          117,
          118,
          119,
          120,
          121,
          122,
          123,
          124,
          125,
          126,
          127,
          128,
          129,
          130,
          131,
          132,
          133,
          134,
          135,
          136,
          137,
          138,
          139,
          140,
          141,
          142,
          143,
          144,
          145,
          146,
          147,
          148,
          149,
          150,
          151,
          152,
          153,
          154,
          155,
          156,
          157,
          158,
          159,
          160,
          161,
          162,
          163,
          164,
          165,
          166,
          167,
          168,
          169,
          170,
          171,
          172,
          173,
          174,
          175,
          176,
          177,
          178,
          179,
          180,
          181,
          182,
          183,
          184,
          185,
          186,
          187,
          188,
          189,
          190,
          191,
          192,
          193,
          194,
          195,
          196,
          197,
          198,
          199,
          200,
          201,
          202,
          203,
          204,
          205,
          206,
          207,
          208,
          209,
          210,
          211,
          212,
          213,
          214,
          215,
          216,
          217,
          218,
          219,
          220,
          221,
          222,
          223,
          224,
          225,
          226,
          227,
          228,
          229,
          230,
          231,
          232,
          233,
          234,
          235,
          236,
          237,
          238,
          239,
          240,
          241,
          242,
          243,
          244,
          245,
          246,
          247,
          248,
          249,
          250,
          251,
          252,
          253,
          254,
          255,
          256,
          257,
          258
         ],
         "xaxis": "x2",
         "y": [
          11.779999732971191,
          4.413000106811523,
          6.98799991607666,
          6.890999794006348,
          4.323999881744385,
          5.684000015258789,
          8.09000015258789,
          6.998000144958496,
          6.833000183105469,
          9.109999656677246,
          10.899999618530273,
          11.239999771118164,
          8.569999694824219,
          7.63100004196167,
          6.708000183105469,
          4.10099983215332,
          5.836999893188477,
          6.604000091552734,
          7.426000118255615,
          7.203000068664551,
          9.350000381469727,
          9.5600004196167,
          10.65999984741211,
          9.25,
          7.9730000495910645,
          7.454999923706055,
          9.40999984741211,
          3.01200008392334,
          5.008999824523926,
          5.947000026702881,
          6.474999904632568,
          5.814000129699707,
          7.795000076293945,
          10.630000114440918,
          8.9399995803833,
          12.630000114440918,
          11.460000038146973,
          6.283999919891357,
          10.670000076293945,
          18.299999237060547,
          8.670000076293945,
          5.2270002365112305,
          2.742000102996826,
          4.923999786376953,
          7.953999996185303,
          6.5929999351501465,
          7.440000057220459,
          9.600000381469727,
          7.876999855041504,
          4.880000114440918,
          5.089000225067139,
          2.9210000038146973,
          2.9730000495910645,
          8.819999694824219,
          9.399999618530273,
          3.308000087738037,
          7.97599983215332,
          7.714000225067139,
          8.59000015258789,
          9.869999885559082,
          4.290999889373779,
          8.640000343322754,
          15.630000114440918,
          3.4700000286102295,
          6.6570000648498535,
          8.960000038146973,
          11.010000228881836,
          3.309999942779541,
          9.989999771118164,
          6.738999843597412,
          3.5910000801086426,
          3.4830000400543213,
          10.100000381469727,
          9.100000381469727,
          9.75,
          8.039999961853027,
          7.178999900817871,
          3.0450000762939453,
          3.4210000038146973,
          6.177000045776367,
          3.0169999599456787,
          13.670000076293945,
          19.360000610351562,
          4.672999858856201,
          8.029999732971191,
          12.3100004196167,
          7.486999988555908,
          8.319999694824219,
          8.479999542236328,
          8.149999618530273,
          5.51800012588501,
          5.394999980926514,
          6.908999919891357,
          5.255000114440918,
          8.039999961853027,
          9.350000381469727,
          3.5339999198913574,
          6.515999794006348,
          3.496000051498413,
          4.848999977111816,
          3.2690000534057617,
          8.449999809265137,
          9.470000267028809,
          5.020999908447266,
          3.1449999809265137,
          6.6570000648498535,
          8.949999809265137,
          5.025000095367432,
          6.954999923706055,
          8.510000228881836,
          4.125999927520752,
          4.75600004196167,
          8.029999732971191,
          3.631999969482422,
          3.678999900817871,
          6.9029998779296875,
          7.36899995803833,
          9.6899995803833,
          10.34000015258789,
          9.220000267028809,
          10.979999542236328,
          10.850000381469727,
          8.039999961853027,
          7.466000080108643,
          5.875,
          4.769000053405762,
          7.4120001792907715,
          11.880000114440918,
          8.550000190734863,
          7.781000137329102,
          9.710000038146973,
          8.59000015258789,
          2.871000051498413,
          3.4590001106262207,
          3.513000011444092,
          5.51200008392334,
          10.970000267028809,
          6.955999851226807,
          5.381999969482422,
          2.9140000343322754,
          8.510000228881836,
          13.880000114440918,
          11.699999809265137,
          8.760000228881836,
          14.569999694824219,
          9.569999694824219,
          10.819999694824219,
          6.480999946594238,
          9.479999542236328,
          7.02400016784668,
          10.289999961853027,
          3.869999885559082,
          7.320000171661377,
          8.34000015258789,
          11.029999732971191,
          10.970000267028809,
          11.15999984741211,
          10.5,
          13.680000305175781,
          10.470000267028809,
          6.9029998779296875,
          8.1899995803833,
          4.734000205993652,
          6.959000110626221,
          3.7920000553131104,
          4.499000072479248,
          7.769999980926514,
          7.182000160217285,
          5.730000019073486,
          4.442999839782715,
          4.285999774932861,
          11.229999542236328,
          12.930000305175781,
          8.34000015258789,
          9.15999984741211,
          9.25,
          4.215000152587891,
          8.180000305175781,
          4.375,
          3.8450000286102295,
          10.6899995803833,
          9.800000190734863,
          6.889999866485596,
          13.079999923706055,
          10.739999771118164,
          11.729999542236328,
          8.670000076293945,
          2.937000036239624,
          7.229000091552734,
          9.579999923706055,
          8.729999542236328,
          2.9579999446868896,
          6.117000102996826,
          11.609999656677246,
          9.720000267028809,
          8.890000343322754,
          8.949999809265137,
          7.218999862670898,
          6.479000091552734,
          13.229999542236328,
          11.239999771118164,
          7.5229997634887695,
          10.779999732971191,
          7.922999858856201,
          6.559999942779541,
          6.9629998207092285,
          8.979999542236328,
          6.486000061035156,
          9.34000015258789,
          11.369999885559082,
          6.432000160217285,
          8.520000457763672,
          6.8420000076293945,
          6.197999954223633,
          4.64900016784668,
          5.756999969482422,
          8.890000343322754,
          7.052000045776367,
          6.982999801635742,
          9.569999694824219,
          6.791999816894531,
          10.289999961853027,
          9.369999885559082,
          7.480000019073486,
          4.698999881744385,
          6.6579999923706055,
          9.670000076293945,
          7.0269999504089355,
          8.619999885559082,
          7.64900016784668,
          7.964000225067139,
          10.069999694824219,
          8.510000228881836,
          9.180000305175781,
          6.425000190734863,
          14.350000381469727,
          7.932000160217285,
          8.449999809265137,
          9.859999656677246,
          6.980000019073486,
          8.630000114440918,
          8.770000457763672,
          8.800000190734863,
          10.140000343322754,
          5.736999988555908,
          8.229999542236328,
          9.970000267028809,
          8.600000381469727,
          8.470000267028809,
          14.130000114440918,
          10.770000457763672,
          8.59000015258789,
          8.069999694824219,
          7.739999771118164,
          10.59000015258789,
          10.260000228881836,
          8.210000038146973,
          8.489999771118164,
          2.934000015258789
         ],
         "yaxis": "y2"
        }
       ],
       "layout": {
        "annotations": [
         {
          "font": {
           "size": 16
          },
          "showarrow": false,
          "text": "Mean Daily Wind Speed",
          "x": 0.5,
          "xanchor": "center",
          "xref": "paper",
          "y": 1,
          "yanchor": "bottom",
          "yref": "paper"
         },
         {
          "font": {
           "size": 16
          },
          "showarrow": false,
          "text": "Max Daily Wind Speed",
          "x": 0.5,
          "xanchor": "center",
          "xref": "paper",
          "y": 0.45,
          "yanchor": "bottom",
          "yref": "paper"
         }
        ],
        "height": 600,
        "legend": {
         "title": {
          "text": "Winter"
         }
        },
        "template": {
         "data": {
          "bar": [
           {
            "error_x": {
             "color": "#2a3f5f"
            },
            "error_y": {
             "color": "#2a3f5f"
            },
            "marker": {
             "line": {
              "color": "#E5ECF6",
              "width": 0.5
             },
             "pattern": {
              "fillmode": "overlay",
              "size": 10,
              "solidity": 0.2
             }
            },
            "type": "bar"
           }
          ],
          "barpolar": [
           {
            "marker": {
             "line": {
              "color": "#E5ECF6",
              "width": 0.5
             },
             "pattern": {
              "fillmode": "overlay",
              "size": 10,
              "solidity": 0.2
             }
            },
            "type": "barpolar"
           }
          ],
          "carpet": [
           {
            "aaxis": {
             "endlinecolor": "#2a3f5f",
             "gridcolor": "white",
             "linecolor": "white",
             "minorgridcolor": "white",
             "startlinecolor": "#2a3f5f"
            },
            "baxis": {
             "endlinecolor": "#2a3f5f",
             "gridcolor": "white",
             "linecolor": "white",
             "minorgridcolor": "white",
             "startlinecolor": "#2a3f5f"
            },
            "type": "carpet"
           }
          ],
          "choropleth": [
           {
            "colorbar": {
             "outlinewidth": 0,
             "ticks": ""
            },
            "type": "choropleth"
           }
          ],
          "contour": [
           {
            "colorbar": {
             "outlinewidth": 0,
             "ticks": ""
            },
            "colorscale": [
             [
              0,
              "#0d0887"
             ],
             [
              0.1111111111111111,
              "#46039f"
             ],
             [
              0.2222222222222222,
              "#7201a8"
             ],
             [
              0.3333333333333333,
              "#9c179e"
             ],
             [
              0.4444444444444444,
              "#bd3786"
             ],
             [
              0.5555555555555556,
              "#d8576b"
             ],
             [
              0.6666666666666666,
              "#ed7953"
             ],
             [
              0.7777777777777778,
              "#fb9f3a"
             ],
             [
              0.8888888888888888,
              "#fdca26"
             ],
             [
              1,
              "#f0f921"
             ]
            ],
            "type": "contour"
           }
          ],
          "contourcarpet": [
           {
            "colorbar": {
             "outlinewidth": 0,
             "ticks": ""
            },
            "type": "contourcarpet"
           }
          ],
          "heatmap": [
           {
            "colorbar": {
             "outlinewidth": 0,
             "ticks": ""
            },
            "colorscale": [
             [
              0,
              "#0d0887"
             ],
             [
              0.1111111111111111,
              "#46039f"
             ],
             [
              0.2222222222222222,
              "#7201a8"
             ],
             [
              0.3333333333333333,
              "#9c179e"
             ],
             [
              0.4444444444444444,
              "#bd3786"
             ],
             [
              0.5555555555555556,
              "#d8576b"
             ],
             [
              0.6666666666666666,
              "#ed7953"
             ],
             [
              0.7777777777777778,
              "#fb9f3a"
             ],
             [
              0.8888888888888888,
              "#fdca26"
             ],
             [
              1,
              "#f0f921"
             ]
            ],
            "type": "heatmap"
           }
          ],
          "heatmapgl": [
           {
            "colorbar": {
             "outlinewidth": 0,
             "ticks": ""
            },
            "colorscale": [
             [
              0,
              "#0d0887"
             ],
             [
              0.1111111111111111,
              "#46039f"
             ],
             [
              0.2222222222222222,
              "#7201a8"
             ],
             [
              0.3333333333333333,
              "#9c179e"
             ],
             [
              0.4444444444444444,
              "#bd3786"
             ],
             [
              0.5555555555555556,
              "#d8576b"
             ],
             [
              0.6666666666666666,
              "#ed7953"
             ],
             [
              0.7777777777777778,
              "#fb9f3a"
             ],
             [
              0.8888888888888888,
              "#fdca26"
             ],
             [
              1,
              "#f0f921"
             ]
            ],
            "type": "heatmapgl"
           }
          ],
          "histogram": [
           {
            "marker": {
             "pattern": {
              "fillmode": "overlay",
              "size": 10,
              "solidity": 0.2
             }
            },
            "type": "histogram"
           }
          ],
          "histogram2d": [
           {
            "colorbar": {
             "outlinewidth": 0,
             "ticks": ""
            },
            "colorscale": [
             [
              0,
              "#0d0887"
             ],
             [
              0.1111111111111111,
              "#46039f"
             ],
             [
              0.2222222222222222,
              "#7201a8"
             ],
             [
              0.3333333333333333,
              "#9c179e"
             ],
             [
              0.4444444444444444,
              "#bd3786"
             ],
             [
              0.5555555555555556,
              "#d8576b"
             ],
             [
              0.6666666666666666,
              "#ed7953"
             ],
             [
              0.7777777777777778,
              "#fb9f3a"
             ],
             [
              0.8888888888888888,
              "#fdca26"
             ],
             [
              1,
              "#f0f921"
             ]
            ],
            "type": "histogram2d"
           }
          ],
          "histogram2dcontour": [
           {
            "colorbar": {
             "outlinewidth": 0,
             "ticks": ""
            },
            "colorscale": [
             [
              0,
              "#0d0887"
             ],
             [
              0.1111111111111111,
              "#46039f"
             ],
             [
              0.2222222222222222,
              "#7201a8"
             ],
             [
              0.3333333333333333,
              "#9c179e"
             ],
             [
              0.4444444444444444,
              "#bd3786"
             ],
             [
              0.5555555555555556,
              "#d8576b"
             ],
             [
              0.6666666666666666,
              "#ed7953"
             ],
             [
              0.7777777777777778,
              "#fb9f3a"
             ],
             [
              0.8888888888888888,
              "#fdca26"
             ],
             [
              1,
              "#f0f921"
             ]
            ],
            "type": "histogram2dcontour"
           }
          ],
          "mesh3d": [
           {
            "colorbar": {
             "outlinewidth": 0,
             "ticks": ""
            },
            "type": "mesh3d"
           }
          ],
          "parcoords": [
           {
            "line": {
             "colorbar": {
              "outlinewidth": 0,
              "ticks": ""
             }
            },
            "type": "parcoords"
           }
          ],
          "pie": [
           {
            "automargin": true,
            "type": "pie"
           }
          ],
          "scatter": [
           {
            "fillpattern": {
             "fillmode": "overlay",
             "size": 10,
             "solidity": 0.2
            },
            "type": "scatter"
           }
          ],
          "scatter3d": [
           {
            "line": {
             "colorbar": {
              "outlinewidth": 0,
              "ticks": ""
             }
            },
            "marker": {
             "colorbar": {
              "outlinewidth": 0,
              "ticks": ""
             }
            },
            "type": "scatter3d"
           }
          ],
          "scattercarpet": [
           {
            "marker": {
             "colorbar": {
              "outlinewidth": 0,
              "ticks": ""
             }
            },
            "type": "scattercarpet"
           }
          ],
          "scattergeo": [
           {
            "marker": {
             "colorbar": {
              "outlinewidth": 0,
              "ticks": ""
             }
            },
            "type": "scattergeo"
           }
          ],
          "scattergl": [
           {
            "marker": {
             "colorbar": {
              "outlinewidth": 0,
              "ticks": ""
             }
            },
            "type": "scattergl"
           }
          ],
          "scattermapbox": [
           {
            "marker": {
             "colorbar": {
              "outlinewidth": 0,
              "ticks": ""
             }
            },
            "type": "scattermapbox"
           }
          ],
          "scatterpolar": [
           {
            "marker": {
             "colorbar": {
              "outlinewidth": 0,
              "ticks": ""
             }
            },
            "type": "scatterpolar"
           }
          ],
          "scatterpolargl": [
           {
            "marker": {
             "colorbar": {
              "outlinewidth": 0,
              "ticks": ""
             }
            },
            "type": "scatterpolargl"
           }
          ],
          "scatterternary": [
           {
            "marker": {
             "colorbar": {
              "outlinewidth": 0,
              "ticks": ""
             }
            },
            "type": "scatterternary"
           }
          ],
          "surface": [
           {
            "colorbar": {
             "outlinewidth": 0,
             "ticks": ""
            },
            "colorscale": [
             [
              0,
              "#0d0887"
             ],
             [
              0.1111111111111111,
              "#46039f"
             ],
             [
              0.2222222222222222,
              "#7201a8"
             ],
             [
              0.3333333333333333,
              "#9c179e"
             ],
             [
              0.4444444444444444,
              "#bd3786"
             ],
             [
              0.5555555555555556,
              "#d8576b"
             ],
             [
              0.6666666666666666,
              "#ed7953"
             ],
             [
              0.7777777777777778,
              "#fb9f3a"
             ],
             [
              0.8888888888888888,
              "#fdca26"
             ],
             [
              1,
              "#f0f921"
             ]
            ],
            "type": "surface"
           }
          ],
          "table": [
           {
            "cells": {
             "fill": {
              "color": "#EBF0F8"
             },
             "line": {
              "color": "white"
             }
            },
            "header": {
             "fill": {
              "color": "#C8D4E3"
             },
             "line": {
              "color": "white"
             }
            },
            "type": "table"
           }
          ]
         },
         "layout": {
          "annotationdefaults": {
           "arrowcolor": "#2a3f5f",
           "arrowhead": 0,
           "arrowwidth": 1
          },
          "autotypenumbers": "strict",
          "coloraxis": {
           "colorbar": {
            "outlinewidth": 0,
            "ticks": ""
           }
          },
          "colorscale": {
           "diverging": [
            [
             0,
             "#8e0152"
            ],
            [
             0.1,
             "#c51b7d"
            ],
            [
             0.2,
             "#de77ae"
            ],
            [
             0.3,
             "#f1b6da"
            ],
            [
             0.4,
             "#fde0ef"
            ],
            [
             0.5,
             "#f7f7f7"
            ],
            [
             0.6,
             "#e6f5d0"
            ],
            [
             0.7,
             "#b8e186"
            ],
            [
             0.8,
             "#7fbc41"
            ],
            [
             0.9,
             "#4d9221"
            ],
            [
             1,
             "#276419"
            ]
           ],
           "sequential": [
            [
             0,
             "#0d0887"
            ],
            [
             0.1111111111111111,
             "#46039f"
            ],
            [
             0.2222222222222222,
             "#7201a8"
            ],
            [
             0.3333333333333333,
             "#9c179e"
            ],
            [
             0.4444444444444444,
             "#bd3786"
            ],
            [
             0.5555555555555556,
             "#d8576b"
            ],
            [
             0.6666666666666666,
             "#ed7953"
            ],
            [
             0.7777777777777778,
             "#fb9f3a"
            ],
            [
             0.8888888888888888,
             "#fdca26"
            ],
            [
             1,
             "#f0f921"
            ]
           ],
           "sequentialminus": [
            [
             0,
             "#0d0887"
            ],
            [
             0.1111111111111111,
             "#46039f"
            ],
            [
             0.2222222222222222,
             "#7201a8"
            ],
            [
             0.3333333333333333,
             "#9c179e"
            ],
            [
             0.4444444444444444,
             "#bd3786"
            ],
            [
             0.5555555555555556,
             "#d8576b"
            ],
            [
             0.6666666666666666,
             "#ed7953"
            ],
            [
             0.7777777777777778,
             "#fb9f3a"
            ],
            [
             0.8888888888888888,
             "#fdca26"
            ],
            [
             1,
             "#f0f921"
            ]
           ]
          },
          "colorway": [
           "#636efa",
           "#EF553B",
           "#00cc96",
           "#ab63fa",
           "#FFA15A",
           "#19d3f3",
           "#FF6692",
           "#B6E880",
           "#FF97FF",
           "#FECB52"
          ],
          "font": {
           "color": "#2a3f5f"
          },
          "geo": {
           "bgcolor": "white",
           "lakecolor": "white",
           "landcolor": "#E5ECF6",
           "showlakes": true,
           "showland": true,
           "subunitcolor": "white"
          },
          "hoverlabel": {
           "align": "left"
          },
          "hovermode": "closest",
          "mapbox": {
           "style": "light"
          },
          "paper_bgcolor": "white",
          "plot_bgcolor": "#E5ECF6",
          "polar": {
           "angularaxis": {
            "gridcolor": "white",
            "linecolor": "white",
            "ticks": ""
           },
           "bgcolor": "#E5ECF6",
           "radialaxis": {
            "gridcolor": "white",
            "linecolor": "white",
            "ticks": ""
           }
          },
          "scene": {
           "xaxis": {
            "backgroundcolor": "#E5ECF6",
            "gridcolor": "white",
            "gridwidth": 2,
            "linecolor": "white",
            "showbackground": true,
            "ticks": "",
            "zerolinecolor": "white"
           },
           "yaxis": {
            "backgroundcolor": "#E5ECF6",
            "gridcolor": "white",
            "gridwidth": 2,
            "linecolor": "white",
            "showbackground": true,
            "ticks": "",
            "zerolinecolor": "white"
           },
           "zaxis": {
            "backgroundcolor": "#E5ECF6",
            "gridcolor": "white",
            "gridwidth": 2,
            "linecolor": "white",
            "showbackground": true,
            "ticks": "",
            "zerolinecolor": "white"
           }
          },
          "shapedefaults": {
           "line": {
            "color": "#2a3f5f"
           }
          },
          "ternary": {
           "aaxis": {
            "gridcolor": "white",
            "linecolor": "white",
            "ticks": ""
           },
           "baxis": {
            "gridcolor": "white",
            "linecolor": "white",
            "ticks": ""
           },
           "bgcolor": "#E5ECF6",
           "caxis": {
            "gridcolor": "white",
            "linecolor": "white",
            "ticks": ""
           }
          },
          "title": {
           "x": 0.05
          },
          "xaxis": {
           "automargin": true,
           "gridcolor": "white",
           "linecolor": "white",
           "ticks": "",
           "title": {
            "standoff": 15
           },
           "zerolinecolor": "white",
           "zerolinewidth": 2
          },
          "yaxis": {
           "automargin": true,
           "gridcolor": "white",
           "linecolor": "white",
           "ticks": "",
           "title": {
            "standoff": 15
           },
           "zerolinecolor": "white",
           "zerolinewidth": 2
          }
         }
        },
        "title": {
         "text": "Mean and Max (1-minute) Daily Wind Speed from SAIL MET Station in Gothic, CO"
        },
        "width": 1000,
        "xaxis": {
         "anchor": "y",
         "domain": [
          0,
          1
         ],
         "matches": "x2",
         "range": [
          0,
          215
         ],
         "showticklabels": false,
         "ticktext": [
          "Nov",
          "Dec",
          "Jan",
          "Feb",
          "Mar",
          "Apr",
          "May"
         ],
         "tickvals": [
          31,
          61,
          92,
          122,
          153,
          183,
          214
         ]
        },
        "xaxis2": {
         "anchor": "y2",
         "domain": [
          0,
          1
         ],
         "range": [
          0,
          215
         ],
         "ticktext": [
          "Nov",
          "Dec",
          "Jan",
          "Feb",
          "Mar",
          "Apr",
          "May"
         ],
         "tickvals": [
          31,
          61,
          92,
          122,
          153,
          183,
          214
         ],
         "title": {
          "text": "Day of Water Year"
         }
        },
        "yaxis": {
         "anchor": "x",
         "domain": [
          0.55,
          1
         ],
         "range": [
          0,
          10
         ],
         "title": {
          "text": "Wind Speed (m/s)"
         }
        },
        "yaxis2": {
         "anchor": "x2",
         "domain": [
          0,
          0.45
         ],
         "range": [
          0,
          40
         ],
         "title": {
          "text": "Wind Speed (m/s)"
         }
        }
       }
      },
      "text/html": [
       "<div>                            <div id=\"9189ea92-52b8-40e9-a122-1b1f199b53da\" class=\"plotly-graph-div\" style=\"height:600px; width:1000px;\"></div>            <script type=\"text/javascript\">                require([\"plotly\"], function(Plotly) {                    window.PLOTLYENV=window.PLOTLYENV || {};                                    if (document.getElementById(\"9189ea92-52b8-40e9-a122-1b1f199b53da\")) {                    Plotly.newPlot(                        \"9189ea92-52b8-40e9-a122-1b1f199b53da\",                        [{\"marker\":{\"color\":\"blue\"},\"name\":\"2021-2022\",\"x\":[0,1,2,3,4,5,6,7,8,9,10,11,12,13,14,15,16,17,18,19,20,21,22,23,24,25,26,27,28,29,30,31,32,33,34,35,36,37,38,39,40,41,42,43,44,45,46,47,48,49,50,51,52,53,54,55,56,57,58,59,60,61,62,63,64,65,66,67,68,69,70,71,72,73,74,75,76,77,78,79,80,81,82,83,84,85,86,87,88,89,90,91,92,93,94,95,96,97,98,99,100,101,102,103,104,105,106,107,108,109,110,111,112,113,114,115,116,117,118,119,120,121,122,123,124,125,126,127,128,129,130,131,132,133,134,135,136,137,138,139,140,141,142,143,144,145,146,147,148,149,150,151,152,153,154,155,156,157,158,159,160,161,162,163,164,165,166,167,168,169,170,171,172,173,174,175,176,177,178,179,180,181,182,183,184,185,186,187,188,189,190,191,192,193,194,195,196,197,198,199,200,201,202,203,204,205,206,207,208,209,210,211,212,213,214,215,216,217,218,219,220,221,222,223,224,225,226,227,228,229,230,231,232,233,234,235,236,237,238,239,240,241,242,243,244,245,246,247,248,249,250,251,252,253,254,255,256,257,258,259,260,261,262,263,264,265,266,267,268,269,270,271,272,273,274,275,276,277,278,279,280,281,282,283,284,285,286,287,288,289,290,291,292,293,294,295,296,297,298,299,300,301,302,303,304,305,306,307,308,309,310,311,312,313,314,315,316,317,318,319,320,321,322,323,324,325,326,327,328,329,330,331,332,333,334,335,336,337,338,339,340,341,342,343,344,345,346,347,348,349,350,351,352,353,354,355,356,357,358,359,360,361,362,363,364],\"y\":[1.6792312860488892,1.5276923179626465,1.6022883653640747,1.6118452548980713,1.4703611135482788,1.983858346939087,1.8229514360427856,1.8222784996032715,3.90323543548584,2.5230095386505127,1.767007827758789,2.6060445308685303,2.557213306427002,2.1382644176483154,2.8055763244628906,1.2446619272232056,1.6385715007781982,2.0942978858947754,2.8255791664123535,1.891611099243164,1.5507397651672363,1.5775014162063599,1.7908360958099365,2.3311076164245605,1.812363862991333,3.7910001277923584,6.561688423156738,3.5828263759613037,1.5845979452133179,1.8157098293304443,1.610747218132019,1.7736791372299194,1.0675368309020996,1.2595527172088623,1.7043790817260742,1.675563931465149,1.7378708124160767,1.9994399547576904,1.9725854396820068,1.9177286624908447,2.865516424179077,3.573690414428711,4.2889933586120605,2.39096736907959,3.0995638370513916,1.8088160753250122,4.145880222320557,3.5920193195343018,1.4229373931884766,2.4283223152160645,2.0964138507843018,2.0590007305145264,1.3598756790161133,1.3678034543991089,2.75059175491333,1.5390374660491943,1.5294972658157349,1.920580506324768,1.825953483581543,1.3600201606750488,2.2012548446655273,1.3480249643325806,1.431904911994934,1.3041714429855347,1.5655442476272583,3.327209711074829,2.6717333793640137,2.0123679637908936,1.7706804275512695,2.8376123905181885,4.295698642730713,1.283470869064331,1.3213375806808472,1.318829894065857,1.1770951747894287,4.89362907409668,1.8605186939239502,2.216085433959961,1.082248568534851,1.0109694004058838,1.163043737411499,1.7681305408477783,2.218615770339966,1.8417229652404785,3.321179151535034,3.097937822341919,4.569461822509766,2.784109115600586,3.7648723125457764,2.3019118309020996,2.3492932319641113,2.284860134124756,3.727505922317505,1.0265833139419556,1.2478867769241333,4.625351428985596,6.9227294921875,4.354140281677246,1.755654215812683,2.61438250541687,1.1512861251831055,0.9645777940750122,0.9805548787117004,1.113344430923462,1.0026923418045044,4.133436679840088,1.8416646718978882,1.0046160221099854,0.9852784872055054,1.1673166751861572,1.718615174293518,1.566799283027649,0.8934944868087769,1.2055270671844482,1.7435539960861206,1.5638235807418823,1.218747854232788,1.4088146686553955,1.7833341360092163,1.061174988746643,0.925728440284729,1.2220784425735474,2.2765300273895264,1.410736083984375,2.837367296218872,1.9160348176956177,1.0076333284378052,2.036588191986084,2.6454317569732666,1.0992931127548218,3.660778760910034,3.6677746772766113,2.7585854530334473,5.21424674987793,3.193256378173828,1.640929102897644,1.4879645109176636,1.9119049310684204,2.2067832946777344,3.799034357070923,2.633906841278076,1.9363229274749756,2.189452886581421,3.0600335597991943,1.921968698501587,2.7206172943115234,2.814708948135376,1.341993808746338,1.5565860271453857,1.088818073272705,1.164592981338501,1.0721771717071533,1.1253020763397217,1.1582062244415283,1.7738819122314453,1.7479292154312134,2.393751382827759,2.0738089084625244,2.253901243209839,2.422266721725464,3.0772061347961426,4.302873611450195,1.508115291595459,1.9278419017791748,2.434175729751587,1.5782707929611206,2.0237998962402344,3.916518211364746,2.413923501968384,1.1727583408355713,2.040757656097412,3.9395341873168945,4.427483558654785,4.405581474304199,2.66786527633667,2.2747368812561035,2.2337443828582764,1.749030590057373,2.7780768871307373,3.024866819381714,4.95574951171875,2.341221332550049,3.0986437797546387,2.186018705368042,2.197819232940674,2.63720965385437,5.29987907409668,5.232301235198975,4.517159461975098,2.305734634399414,2.7220964431762695,4.1188578605651855,3.427978515625,4.7079668045043945,3.5774152278900146,2.8561275005340576,1.6717935800552368,2.6143875122070312,3.277033567428589,1.8257895708084106,3.2768049240112305,3.7221882343292236,1.7259790897369385,3.269266128540039,3.655919313430786,1.5005090236663818,1.4253687858581543,2.0052764415740967,1.8162256479263306,2.3333401679992676,4.356146812438965,2.1215264797210693,2.2364249229431152,2.6558165550231934,2.585113763809204,3.101560354232788,2.494364023208618,2.7155282497406006,3.0793681144714355,4.874391555786133,5.206829071044922,3.053192138671875,3.7425427436828613,4.395204067230225,2.8641374111175537,2.63358736038208,1.9139889478683472,1.8725091218948364,2.408179998397827,2.835127830505371,4.754924297332764,4.743444919586182,2.588883399963379,2.3098251819610596,3.290496587753296,3.4220805168151855,3.8450889587402344,2.3244965076446533,2.538078546524048,3.2067675590515137,3.053537368774414,2.2136449813842773,2.654402256011963,2.75647234916687,2.1870436668395996,2.130911350250244,2.4219796657562256,2.3089797496795654,2.891528367996216,2.9937617778778076,2.5488057136535645,2.8793509006500244,2.3679797649383545,2.750427007675171,2.664341449737549,3.721334934234619,3.351942300796509,2.6470539569854736,1.8771806955337524,1.9321666955947876,1.7982819080352783,1.656374216079712,2.2094147205352783,1.9817686080932617,1.6004409790039062,1.7413084506988525,2.258540391921997,1.9016276597976685,1.527284026145935,2.123793840408325,2.184148073196411,2.3115861415863037,1.6674736738204956,2.3104360103607178,1.8527909517288208,1.4990909099578857,1.7547117471694946,2.075591802597046,1.6912403106689453,1.8744977712631226,1.5684757232666016,1.7754591703414917,2.0922298431396484,1.9253250360488892,2.059206962585449,1.7097722291946411,1.9635237455368042,1.3377916812896729,2.0905630588531494,1.537293791770935,2.6246089935302734,2.086214542388916,2.134692430496216,1.751408338546753,2.1005005836486816,2.3233752250671387,1.488094449043274,1.2957847118377686,1.6443417072296143,1.5653326511383057,1.2811534404754639,1.244036078453064,1.8482389450073242,1.5353590250015259,1.695676326751709,2.061828374862671,2.051406145095825,1.6999351978302002,1.9933769702911377,1.836647868156433,2.1934008598327637,1.7885661125183105,1.5649430751800537,1.5907902717590332,2.290360927581787,1.5209381580352783,1.6058229207992554,2.197969675064087,1.5577819347381592,1.1874181032180786,1.1696715354919434,1.5154285430908203,1.66799795627594,1.367497205734253,2.07763671875,1.9942270517349243,2.0265750885009766,1.831289529800415,1.6030415296554565,1.3131604194641113,1.9529832601547241,2.420577049255371,1.4618173837661743,1.6791917085647583,2.128645896911621,1.8807597160339355,2.0845894813537598,2.0382978916168213,2.238572120666504,2.4223952293395996,2.1467158794403076,1.9771791696548462,2.075517416000366,2.214080572128296,2.9173240661621094,2.220954179763794,1.9798965454101562,1.761995792388916,1.4335687160491943,1.9042860269546509,2.1562883853912354,1.696077823638916,2.2078027725219727,2.048130512237549,1.8223179578781128,1.0619937181472778,1.346700668334961,2.935508966445923,1.9513360261917114,1.9135223627090454,1.9019687175750732,2.000683307647705,1.6002782583236694,1.9706965684890747,2.264066457748413],\"type\":\"scatter\",\"xaxis\":\"x\",\"yaxis\":\"y\",\"hovertemplate\":\"Day of Water Year: %{x}\\u003cbr\\u003eWind Speed: %{y:.2f} m\\u002fs\"},{\"marker\":{\"color\":\"red\"},\"name\":\"2022-2023\",\"x\":[0,1,2,3,4,5,6,7,8,9,10,11,12,13,14,15,16,17,18,19,20,21,22,23,24,25,26,27,28,29,30,31,32,33,34,35,36,37,38,39,40,41,42,43,44,45,46,47,48,49,50,51,52,53,54,55,56,57,58,59,60,61,62,63,64,65,66,67,68,69,70,71,72,73,74,75,76,77,78,79,80,81,82,83,84,85,86,87,88,89,90,91,92,93,94,95,96,97,98,99,100,101,102,103,104,105,106,107,108,109,110,111,112,113,114,115,116,117,118,119,120,121,122,123,124,125,126,127,128,129,130,131,132,133,134,135,136,137,138,139,140,141,142,143,144,145,146,147,148,149,150,151,152,153,154,155,156,157,158,159,160,161,162,163,164,165,166,167,168,169,170,171,172,173,174,175,176,177,178,179,180,181,182,183,184,185,186,187,188,189,190,191,192,193,194,195,196,197,198,199,200,201,202,203,204,205,206,207,208,209,210,211,212,213,214,215,216,217,218,219,220,221,222,223,224,225,226,227,228,229,230,231,232,233,234,235,236,237,238,239,240,241,242,243,244,245,246,247,248,249,250,251,252,253,254,255,256,257,258],\"y\":[1.268781304359436,1.2014284133911133,1.5425639152526855,1.8220492601394653,1.2994160652160645,1.570670247077942,1.9522764682769775,1.8525151014328003,1.582116723060608,2.0787353515625,3.0922956466674805,2.579427719116211,2.4796485900878906,2.086909770965576,1.8127670288085938,1.4633708000183105,1.756064534187317,2.06195068359375,1.7132700681686401,1.9452317953109741,2.9211223125457764,3.025054931640625,3.581219434738159,4.038815021514893,1.5646638870239258,1.7089903354644775,2.4701645374298096,1.1202853918075562,1.6329214572906494,1.5379716157913208,1.5143465995788574,1.4387319087982178,1.8398054838180542,2.0463812351226807,3.6996853351593018,4.838348865509033,2.5306215286254883,1.7075083255767822,2.40809965133667,3.6777374744415283,2.1016249656677246,1.8280792236328125,1.1458930969238281,1.6569159030914307,2.627324342727661,2.227555751800537,2.132824420928955,2.4006872177124023,2.590169906616211,1.574807047843933,1.5267977714538574,1.1163604259490967,1.1358007192611694,2.8562405109405518,2.749415159225464,1.1263848543167114,1.9721394777297974,2.506855010986328,2.1255791187286377,3.684687614440918,1.265427827835083,1.7177610397338867,4.06234884262085,1.0031986236572266,1.4613513946533203,2.70654296875,2.7353200912475586,0.934757649898529,3.5745229721069336,1.3842798471450806,1.302430510520935,1.1670118570327759,2.756364583969116,4.892905235290527,5.34549617767334,3.4148569107055664,2.9019277095794678,1.0464590787887573,1.1943548917770386,1.5375367403030396,1.060736060142517,4.655139446258545,6.312535285949707,1.015970230102539,2.4205174446105957,3.336778402328491,2.232551336288452,1.6118979454040527,1.5834652185440063,2.500929117202759,0.9305659532546997,1.2184256315231323,1.289257526397705,1.4730256795883179,2.4189813137054443,3.6675400733947754,1.1963284015655518,1.2881895303726196,1.2017041444778442,1.3281075954437256,1.0092660188674927,1.7113112211227417,3.3284800052642822,1.1565992832183838,0.916472852230072,1.6163228750228882,1.34123957157135,0.9556617736816406,1.4813846349716187,3.867210626602173,1.3108553886413574,1.0991159677505493,3.0808889865875244,1.1057173013687134,1.2884562015533447,2.411755323410034,3.0317888259887695,2.09440279006958,2.393299102783203,2.6983656883239746,1.9368833303451538,3.077634572982788,2.000467300415039,1.219538927078247,1.2885138988494873,1.192015290260315,1.990299940109253,2.5440423488616943,3.546013832092285,1.302026391029358,2.9178690910339355,3.348066568374634,1.033523678779602,1.0112409591674805,1.1589909791946411,1.230858325958252,2.549917697906494,1.8389703035354614,1.2859222888946533,0.983412504196167,1.9170215129852295,5.506052494049072,3.8863422870635986,2.7810146808624268,3.658426284790039,3.195241689682007,2.3333139419555664,1.510757565498352,2.7873518466949463,1.943021535873413,3.355052947998047,0.977679967880249,2.4746901988983154,2.0361602306365967,2.065749406814575,3.3579068183898926,3.308126449584961,2.965012550354004,3.1012020111083984,3.2568230628967285,1.1100399494171143,2.444385290145874,1.3809623718261719,2.0049068927764893,1.3117501735687256,1.0408674478530884,3.66569185256958,2.237333059310913,1.6671339273452759,1.6739610433578491,1.167417287826538,1.9251410961151123,4.084692478179932,2.0436625480651855,2.030198574066162,3.4108083248138428,1.162604808807373,3.2991325855255127,1.3833376169204712,1.3855985403060913,2.703143358230591,4.519865036010742,1.5023993253707886,3.5423102378845215,4.1073713302612305,3.4251701831817627,2.4588632583618164,1.2947951555252075,1.5617069005966187,1.647196650505066,2.1856486797332764,1.192236065864563,1.7482681274414062,1.924414038658142,3.1123874187469482,2.585059642791748,3.8616042137145996,1.7719389200210571,1.6327310800552368,3.2384819984436035,3.9909987449645996,3.4264180660247803,2.466547727584839,2.934490919113159,1.7218644618988037,1.7197277545928955,2.2487311363220215,2.123896598815918,3.1401822566986084,4.0660719871521,1.6374715566635132,2.4792394638061523,1.4864470958709717,1.9820687770843506,1.378649353981018,1.8936277627944946,2.3309249877929688,2.1993062496185303,1.8852680921554565,2.0096139907836914,1.7073251008987427,2.112699270248413,3.4650418758392334,3.3256514072418213,1.218800663948059,1.6527645587921143,2.399915933609009,2.1291654109954834,2.186539649963379,2.9195165634155273,1.7088541984558105,2.1558868885040283,1.9863749742507935,2.264371395111084,1.7798020839691162,1.5664374828338623,2.066990375518799,2.203402042388916,2.3326847553253174,2.0647284984588623,2.267918825149536,2.1878411769866943,2.0889909267425537,2.5125272274017334,1.4600144624710083,2.5647144317626953,2.61433744430542,2.3055901527404785,1.8716305494308472,2.40576171875,2.3152639865875244,1.9899075031280518,2.037386894226074,1.8422430753707886,2.9658265113830566,2.823896646499634,2.1080145835876465,2.3403480052948,0.8980482816696167],\"type\":\"scatter\",\"xaxis\":\"x\",\"yaxis\":\"y\",\"hovertemplate\":\"Day of Water Year: %{x}\\u003cbr\\u003eWind Speed: %{y:.2f} m\\u002fs\"},{\"marker\":{\"color\":\"blue\"},\"name\":\"2021-2022\",\"showlegend\":false,\"x\":[0,1,2,3,4,5,6,7,8,9,10,11,12,13,14,15,16,17,18,19,20,21,22,23,24,25,26,27,28,29,30,31,32,33,34,35,36,37,38,39,40,41,42,43,44,45,46,47,48,49,50,51,52,53,54,55,56,57,58,59,60,61,62,63,64,65,66,67,68,69,70,71,72,73,74,75,76,77,78,79,80,81,82,83,84,85,86,87,88,89,90,91,92,93,94,95,96,97,98,99,100,101,102,103,104,105,106,107,108,109,110,111,112,113,114,115,116,117,118,119,120,121,122,123,124,125,126,127,128,129,130,131,132,133,134,135,136,137,138,139,140,141,142,143,144,145,146,147,148,149,150,151,152,153,154,155,156,157,158,159,160,161,162,163,164,165,166,167,168,169,170,171,172,173,174,175,176,177,178,179,180,181,182,183,184,185,186,187,188,189,190,191,192,193,194,195,196,197,198,199,200,201,202,203,204,205,206,207,208,209,210,211,212,213,214,215,216,217,218,219,220,221,222,223,224,225,226,227,228,229,230,231,232,233,234,235,236,237,238,239,240,241,242,243,244,245,246,247,248,249,250,251,252,253,254,255,256,257,258,259,260,261,262,263,264,265,266,267,268,269,270,271,272,273,274,275,276,277,278,279,280,281,282,283,284,285,286,287,288,289,290,291,292,293,294,295,296,297,298,299,300,301,302,303,304,305,306,307,308,309,310,311,312,313,314,315,316,317,318,319,320,321,322,323,324,325,326,327,328,329,330,331,332,333,334,335,336,337,338,339,340,341,342,343,344,345,346,347,348,349,350,351,352,353,354,355,356,357,358,359,360,361,362,363,364],\"y\":[5.864999771118164,8.869999885559082,6.3379998207092285,5.546999931335449,5.5920000076293945,9.880000114440918,7.021999835968018,8.710000038146973,12.100000381469727,8.789999961853027,8.170000076293945,9.270000457763672,9.039999961853027,8.539999961853027,7.285999774932861,4.644999980926514,4.992000102996826,7.724999904632568,11.050000190734863,9.140000343322754,6.611999988555908,6.394999980926514,7.079999923706055,9.15999984741211,5.8520002365112305,9.859999656677246,13.9399995803833,8.649999618530273,7.4720001220703125,7.0329999923706055,9.5,8.5600004196167,5.7829999923706055,4.48799991607666,7.216000080108643,6.697000026702881,6.947999954223633,10.020000457763672,7.4679999351501465,7.811999797821045,8.170000076293945,9.949999809265137,10.800000190734863,9.229999542236328,9.350000381469727,7.0269999504089355,12.279999732971191,9.989999771118164,5.071000099182129,9.5600004196167,6.573999881744385,5.718999862670898,3.928999900817871,6.638999938964844,7.329999923706055,5.703999996185303,5.563000202178955,6.296999931335449,7.886000156402588,6.0370001792907715,7.085000038146973,4.105000019073486,5.629000186920166,4.336999893188477,7.366000175476074,11.970000267028809,11.329999923706055,6.835000038146973,9.609999656677246,9.369999885559082,9.75,4.025000095367432,3.878000020980835,3.9800000190734863,3.625,36.63999938964844,8.9399995803833,5.85099983215332,3.194999933242798,2.614000082015991,3.9779999256134033,7.057000160217285,10.050000190734863,10.380000114440918,11.260000228881836,28.280000686645508,17.0,13.109999656677246,12.470000267028809,7.736999988555908,9.220000267028809,10.380000114440918,8.630000114440918,3.3369998931884766,3.5380001068115234,11.800000190734863,13.84000015258789,11.25,7.453000068664551,10.449999809265137,3.4040000438690186,2.8510000705718994,3.135999917984009,3.4719998836517334,2.9830000400543213,9.960000038146973,10.1899995803833,2.4679999351501465,2.632999897003174,3.2780001163482666,5.71999979019165,8.300000190734863,2.9040000438690186,4.249000072479248,7.250999927520752,7.007999897003174,5.848999977111816,5.302999973297119,7.611000061035156,2.9210000038146973,2.8010001182556152,4.934999942779541,10.5600004196167,4.874000072479248,5.806000232696533,7.241000175476074,3.694999933242798,7.392000198364258,8.40999984741211,2.8299999237060547,10.09000015258789,10.329999923706055,10.079999923706055,11.65999984741211,10.5,7.9019999504089355,6.236999988555908,9.0,9.649999618530273,8.550000190734863,9.069999694824219,7.710000038146973,8.789999961853027,13.09000015258789,9.140000343322754,8.680000305175781,7.633999824523926,5.785999774932861,3.8910000324249268,3.1710000038146973,3.759999990463257,2.989000082015991,3.0810000896453857,2.940999984741211,7.572999954223633,6.7729997634887695,7.144999980926514,7.3470001220703125,6.986999988555908,11.15999984741211,7.741000175476074,10.270000457763672,4.99399995803833,7.947000026702881,5.75,6.072999954223633,6.89900016784668,7.8979997634887695,7.616000175476074,3.2179999351501465,7.616000175476074,8.880000114440918,10.800000190734863,11.210000038146973,9.229999542236328,9.420000076293945,8.880000114440918,6.666999816894531,10.65999984741211,9.5600004196167,10.619999885559082,7.120999813079834,8.170000076293945,7.915999889373779,8.75,10.670000076293945,12.739999771118164,11.210000038146973,10.880000114440918,8.1899995803833,11.380000114440918,12.020000457763672,17.540000915527344,16.239999771118164,11.210000038146973,10.5600004196167,8.390000343322754,14.779999732971191,10.729999542236328,6.835999965667725,14.130000114440918,11.699999809265137,7.60699987411499,16.31999969482422,9.699999809265137,6.050000190734863,5.414000034332275,7.264999866485596,6.76800012588501,8.619999885559082,11.270000457763672,6.408999919891357,9.270000457763672,7.4029998779296875,13.850000381469727,9.09000015258789,8.9399995803833,9.359999656677246,13.699999809265137,16.770000457763672,17.959999084472656,10.90999984741211,12.6899995803833,14.569999694824219,10.710000038146973,9.520000457763672,6.743000030517578,8.279999732971191,8.239999771118164,9.40999984741211,13.859999656677246,13.100000381469727,8.210000038146973,10.25,9.25,10.819999694824219,10.25,8.170000076293945,9.890000343322754,12.15999984741211,9.890000343322754,8.220000267028809,8.979999542236328,8.529999732971191,7.96999979019165,9.460000038146973,8.84000015258789,9.029999732971191,10.3100004196167,10.649999618530273,8.8100004196167,10.470000267028809,7.913000106811523,11.800000190734863,9.3100004196167,16.56999969482422,10.3100004196167,7.64900016784668,7.781000137329102,8.260000228881836,7.61899995803833,11.109999656677246,8.5,9.369999885559082,7.763999938964844,8.220000267028809,9.520000457763672,9.199999809265137,10.800000190734863,8.319999694824219,8.619999885559082,8.699999809265137,9.529999732971191,10.140000343322754,9.279999732971191,5.583000183105469,6.678999900817871,7.718999862670898,10.420000076293945,7.331999778747559,5.423999786376953,7.420000076293945,10.609999656677246,7.520999908447266,9.09000015258789,7.359000205993652,8.3100004196167,6.867000102996826,7.210999965667725,6.236000061035156,10.850000381469727,7.265999794006348,10.789999961853027,8.430000305175781,9.489999771118164,10.25,7.959000110626221,5.495999813079834,8.3100004196167,6.0320000648498535,3.743000030517578,7.480000019073486,6.874000072479248,6.552999973297119,6.984000205993652,11.359999656677246,6.114999771118164,8.130000114440918,8.850000381469727,6.864999771118164,8.520000457763672,7.623000144958496,8.149999618530273,5.714000225067139,9.09000015258789,5.179999828338623,6.571000099182129,10.079999923706055,5.486999988555908,4.816999912261963,4.11299991607666,5.65500020980835,7.5920000076293945,5.182000160217285,9.770000457763672,8.350000381469727,7.480000019073486,6.900000095367432,8.069999694824219,8.109999656677246,8.850000381469727,9.180000305175781,5.418000221252441,5.892000198364258,7.598999977111816,7.441999912261963,7.980000019073486,8.369999885559082,7.234000205993652,8.59000015258789,7.435999870300293,7.440000057220459,9.9399995803833,8.649999618530273,11.180000305175781,7.895999908447266,7.105999946594238,6.914999961853027,7.480999946594238,7.521999835968018,6.77400016784668,8.100000381469727,8.300000190734863,8.59000015258789,6.573999881744385,2.927000045776367,7.1570000648498535,9.800000190734863,7.629000186920166,8.430000305175781,6.578000068664551,8.170000076293945,6.65500020980835,7.677000045776367,10.420000076293945],\"type\":\"scatter\",\"xaxis\":\"x2\",\"yaxis\":\"y2\",\"hovertemplate\":\"Day of Water Year: %{x}\\u003cbr\\u003eWind Speed: %{y:.2f} m\\u002fs\"},{\"marker\":{\"color\":\"red\"},\"name\":\"2022-2023\",\"showlegend\":false,\"x\":[0,1,2,3,4,5,6,7,8,9,10,11,12,13,14,15,16,17,18,19,20,21,22,23,24,25,26,27,28,29,30,31,32,33,34,35,36,37,38,39,40,41,42,43,44,45,46,47,48,49,50,51,52,53,54,55,56,57,58,59,60,61,62,63,64,65,66,67,68,69,70,71,72,73,74,75,76,77,78,79,80,81,82,83,84,85,86,87,88,89,90,91,92,93,94,95,96,97,98,99,100,101,102,103,104,105,106,107,108,109,110,111,112,113,114,115,116,117,118,119,120,121,122,123,124,125,126,127,128,129,130,131,132,133,134,135,136,137,138,139,140,141,142,143,144,145,146,147,148,149,150,151,152,153,154,155,156,157,158,159,160,161,162,163,164,165,166,167,168,169,170,171,172,173,174,175,176,177,178,179,180,181,182,183,184,185,186,187,188,189,190,191,192,193,194,195,196,197,198,199,200,201,202,203,204,205,206,207,208,209,210,211,212,213,214,215,216,217,218,219,220,221,222,223,224,225,226,227,228,229,230,231,232,233,234,235,236,237,238,239,240,241,242,243,244,245,246,247,248,249,250,251,252,253,254,255,256,257,258],\"y\":[11.779999732971191,4.413000106811523,6.98799991607666,6.890999794006348,4.323999881744385,5.684000015258789,8.09000015258789,6.998000144958496,6.833000183105469,9.109999656677246,10.899999618530273,11.239999771118164,8.569999694824219,7.63100004196167,6.708000183105469,4.10099983215332,5.836999893188477,6.604000091552734,7.426000118255615,7.203000068664551,9.350000381469727,9.5600004196167,10.65999984741211,9.25,7.9730000495910645,7.454999923706055,9.40999984741211,3.01200008392334,5.008999824523926,5.947000026702881,6.474999904632568,5.814000129699707,7.795000076293945,10.630000114440918,8.9399995803833,12.630000114440918,11.460000038146973,6.283999919891357,10.670000076293945,18.299999237060547,8.670000076293945,5.2270002365112305,2.742000102996826,4.923999786376953,7.953999996185303,6.5929999351501465,7.440000057220459,9.600000381469727,7.876999855041504,4.880000114440918,5.089000225067139,2.9210000038146973,2.9730000495910645,8.819999694824219,9.399999618530273,3.308000087738037,7.97599983215332,7.714000225067139,8.59000015258789,9.869999885559082,4.290999889373779,8.640000343322754,15.630000114440918,3.4700000286102295,6.6570000648498535,8.960000038146973,11.010000228881836,3.309999942779541,9.989999771118164,6.738999843597412,3.5910000801086426,3.4830000400543213,10.100000381469727,9.100000381469727,9.75,8.039999961853027,7.178999900817871,3.0450000762939453,3.4210000038146973,6.177000045776367,3.0169999599456787,13.670000076293945,19.360000610351562,4.672999858856201,8.029999732971191,12.3100004196167,7.486999988555908,8.319999694824219,8.479999542236328,8.149999618530273,5.51800012588501,5.394999980926514,6.908999919891357,5.255000114440918,8.039999961853027,9.350000381469727,3.5339999198913574,6.515999794006348,3.496000051498413,4.848999977111816,3.2690000534057617,8.449999809265137,9.470000267028809,5.020999908447266,3.1449999809265137,6.6570000648498535,8.949999809265137,5.025000095367432,6.954999923706055,8.510000228881836,4.125999927520752,4.75600004196167,8.029999732971191,3.631999969482422,3.678999900817871,6.9029998779296875,7.36899995803833,9.6899995803833,10.34000015258789,9.220000267028809,10.979999542236328,10.850000381469727,8.039999961853027,7.466000080108643,5.875,4.769000053405762,7.4120001792907715,11.880000114440918,8.550000190734863,7.781000137329102,9.710000038146973,8.59000015258789,2.871000051498413,3.4590001106262207,3.513000011444092,5.51200008392334,10.970000267028809,6.955999851226807,5.381999969482422,2.9140000343322754,8.510000228881836,13.880000114440918,11.699999809265137,8.760000228881836,14.569999694824219,9.569999694824219,10.819999694824219,6.480999946594238,9.479999542236328,7.02400016784668,10.289999961853027,3.869999885559082,7.320000171661377,8.34000015258789,11.029999732971191,10.970000267028809,11.15999984741211,10.5,13.680000305175781,10.470000267028809,6.9029998779296875,8.1899995803833,4.734000205993652,6.959000110626221,3.7920000553131104,4.499000072479248,7.769999980926514,7.182000160217285,5.730000019073486,4.442999839782715,4.285999774932861,11.229999542236328,12.930000305175781,8.34000015258789,9.15999984741211,9.25,4.215000152587891,8.180000305175781,4.375,3.8450000286102295,10.6899995803833,9.800000190734863,6.889999866485596,13.079999923706055,10.739999771118164,11.729999542236328,8.670000076293945,2.937000036239624,7.229000091552734,9.579999923706055,8.729999542236328,2.9579999446868896,6.117000102996826,11.609999656677246,9.720000267028809,8.890000343322754,8.949999809265137,7.218999862670898,6.479000091552734,13.229999542236328,11.239999771118164,7.5229997634887695,10.779999732971191,7.922999858856201,6.559999942779541,6.9629998207092285,8.979999542236328,6.486000061035156,9.34000015258789,11.369999885559082,6.432000160217285,8.520000457763672,6.8420000076293945,6.197999954223633,4.64900016784668,5.756999969482422,8.890000343322754,7.052000045776367,6.982999801635742,9.569999694824219,6.791999816894531,10.289999961853027,9.369999885559082,7.480000019073486,4.698999881744385,6.6579999923706055,9.670000076293945,7.0269999504089355,8.619999885559082,7.64900016784668,7.964000225067139,10.069999694824219,8.510000228881836,9.180000305175781,6.425000190734863,14.350000381469727,7.932000160217285,8.449999809265137,9.859999656677246,6.980000019073486,8.630000114440918,8.770000457763672,8.800000190734863,10.140000343322754,5.736999988555908,8.229999542236328,9.970000267028809,8.600000381469727,8.470000267028809,14.130000114440918,10.770000457763672,8.59000015258789,8.069999694824219,7.739999771118164,10.59000015258789,10.260000228881836,8.210000038146973,8.489999771118164,2.934000015258789],\"type\":\"scatter\",\"xaxis\":\"x2\",\"yaxis\":\"y2\",\"hovertemplate\":\"Day of Water Year: %{x}\\u003cbr\\u003eWind Speed: %{y:.2f} m\\u002fs\"}],                        {\"template\":{\"data\":{\"histogram2dcontour\":[{\"type\":\"histogram2dcontour\",\"colorbar\":{\"outlinewidth\":0,\"ticks\":\"\"},\"colorscale\":[[0.0,\"#0d0887\"],[0.1111111111111111,\"#46039f\"],[0.2222222222222222,\"#7201a8\"],[0.3333333333333333,\"#9c179e\"],[0.4444444444444444,\"#bd3786\"],[0.5555555555555556,\"#d8576b\"],[0.6666666666666666,\"#ed7953\"],[0.7777777777777778,\"#fb9f3a\"],[0.8888888888888888,\"#fdca26\"],[1.0,\"#f0f921\"]]}],\"choropleth\":[{\"type\":\"choropleth\",\"colorbar\":{\"outlinewidth\":0,\"ticks\":\"\"}}],\"histogram2d\":[{\"type\":\"histogram2d\",\"colorbar\":{\"outlinewidth\":0,\"ticks\":\"\"},\"colorscale\":[[0.0,\"#0d0887\"],[0.1111111111111111,\"#46039f\"],[0.2222222222222222,\"#7201a8\"],[0.3333333333333333,\"#9c179e\"],[0.4444444444444444,\"#bd3786\"],[0.5555555555555556,\"#d8576b\"],[0.6666666666666666,\"#ed7953\"],[0.7777777777777778,\"#fb9f3a\"],[0.8888888888888888,\"#fdca26\"],[1.0,\"#f0f921\"]]}],\"heatmap\":[{\"type\":\"heatmap\",\"colorbar\":{\"outlinewidth\":0,\"ticks\":\"\"},\"colorscale\":[[0.0,\"#0d0887\"],[0.1111111111111111,\"#46039f\"],[0.2222222222222222,\"#7201a8\"],[0.3333333333333333,\"#9c179e\"],[0.4444444444444444,\"#bd3786\"],[0.5555555555555556,\"#d8576b\"],[0.6666666666666666,\"#ed7953\"],[0.7777777777777778,\"#fb9f3a\"],[0.8888888888888888,\"#fdca26\"],[1.0,\"#f0f921\"]]}],\"heatmapgl\":[{\"type\":\"heatmapgl\",\"colorbar\":{\"outlinewidth\":0,\"ticks\":\"\"},\"colorscale\":[[0.0,\"#0d0887\"],[0.1111111111111111,\"#46039f\"],[0.2222222222222222,\"#7201a8\"],[0.3333333333333333,\"#9c179e\"],[0.4444444444444444,\"#bd3786\"],[0.5555555555555556,\"#d8576b\"],[0.6666666666666666,\"#ed7953\"],[0.7777777777777778,\"#fb9f3a\"],[0.8888888888888888,\"#fdca26\"],[1.0,\"#f0f921\"]]}],\"contourcarpet\":[{\"type\":\"contourcarpet\",\"colorbar\":{\"outlinewidth\":0,\"ticks\":\"\"}}],\"contour\":[{\"type\":\"contour\",\"colorbar\":{\"outlinewidth\":0,\"ticks\":\"\"},\"colorscale\":[[0.0,\"#0d0887\"],[0.1111111111111111,\"#46039f\"],[0.2222222222222222,\"#7201a8\"],[0.3333333333333333,\"#9c179e\"],[0.4444444444444444,\"#bd3786\"],[0.5555555555555556,\"#d8576b\"],[0.6666666666666666,\"#ed7953\"],[0.7777777777777778,\"#fb9f3a\"],[0.8888888888888888,\"#fdca26\"],[1.0,\"#f0f921\"]]}],\"surface\":[{\"type\":\"surface\",\"colorbar\":{\"outlinewidth\":0,\"ticks\":\"\"},\"colorscale\":[[0.0,\"#0d0887\"],[0.1111111111111111,\"#46039f\"],[0.2222222222222222,\"#7201a8\"],[0.3333333333333333,\"#9c179e\"],[0.4444444444444444,\"#bd3786\"],[0.5555555555555556,\"#d8576b\"],[0.6666666666666666,\"#ed7953\"],[0.7777777777777778,\"#fb9f3a\"],[0.8888888888888888,\"#fdca26\"],[1.0,\"#f0f921\"]]}],\"mesh3d\":[{\"type\":\"mesh3d\",\"colorbar\":{\"outlinewidth\":0,\"ticks\":\"\"}}],\"scatter\":[{\"fillpattern\":{\"fillmode\":\"overlay\",\"size\":10,\"solidity\":0.2},\"type\":\"scatter\"}],\"parcoords\":[{\"type\":\"parcoords\",\"line\":{\"colorbar\":{\"outlinewidth\":0,\"ticks\":\"\"}}}],\"scatterpolargl\":[{\"type\":\"scatterpolargl\",\"marker\":{\"colorbar\":{\"outlinewidth\":0,\"ticks\":\"\"}}}],\"bar\":[{\"error_x\":{\"color\":\"#2a3f5f\"},\"error_y\":{\"color\":\"#2a3f5f\"},\"marker\":{\"line\":{\"color\":\"#E5ECF6\",\"width\":0.5},\"pattern\":{\"fillmode\":\"overlay\",\"size\":10,\"solidity\":0.2}},\"type\":\"bar\"}],\"scattergeo\":[{\"type\":\"scattergeo\",\"marker\":{\"colorbar\":{\"outlinewidth\":0,\"ticks\":\"\"}}}],\"scatterpolar\":[{\"type\":\"scatterpolar\",\"marker\":{\"colorbar\":{\"outlinewidth\":0,\"ticks\":\"\"}}}],\"histogram\":[{\"marker\":{\"pattern\":{\"fillmode\":\"overlay\",\"size\":10,\"solidity\":0.2}},\"type\":\"histogram\"}],\"scattergl\":[{\"type\":\"scattergl\",\"marker\":{\"colorbar\":{\"outlinewidth\":0,\"ticks\":\"\"}}}],\"scatter3d\":[{\"type\":\"scatter3d\",\"line\":{\"colorbar\":{\"outlinewidth\":0,\"ticks\":\"\"}},\"marker\":{\"colorbar\":{\"outlinewidth\":0,\"ticks\":\"\"}}}],\"scattermapbox\":[{\"type\":\"scattermapbox\",\"marker\":{\"colorbar\":{\"outlinewidth\":0,\"ticks\":\"\"}}}],\"scatterternary\":[{\"type\":\"scatterternary\",\"marker\":{\"colorbar\":{\"outlinewidth\":0,\"ticks\":\"\"}}}],\"scattercarpet\":[{\"type\":\"scattercarpet\",\"marker\":{\"colorbar\":{\"outlinewidth\":0,\"ticks\":\"\"}}}],\"carpet\":[{\"aaxis\":{\"endlinecolor\":\"#2a3f5f\",\"gridcolor\":\"white\",\"linecolor\":\"white\",\"minorgridcolor\":\"white\",\"startlinecolor\":\"#2a3f5f\"},\"baxis\":{\"endlinecolor\":\"#2a3f5f\",\"gridcolor\":\"white\",\"linecolor\":\"white\",\"minorgridcolor\":\"white\",\"startlinecolor\":\"#2a3f5f\"},\"type\":\"carpet\"}],\"table\":[{\"cells\":{\"fill\":{\"color\":\"#EBF0F8\"},\"line\":{\"color\":\"white\"}},\"header\":{\"fill\":{\"color\":\"#C8D4E3\"},\"line\":{\"color\":\"white\"}},\"type\":\"table\"}],\"barpolar\":[{\"marker\":{\"line\":{\"color\":\"#E5ECF6\",\"width\":0.5},\"pattern\":{\"fillmode\":\"overlay\",\"size\":10,\"solidity\":0.2}},\"type\":\"barpolar\"}],\"pie\":[{\"automargin\":true,\"type\":\"pie\"}]},\"layout\":{\"autotypenumbers\":\"strict\",\"colorway\":[\"#636efa\",\"#EF553B\",\"#00cc96\",\"#ab63fa\",\"#FFA15A\",\"#19d3f3\",\"#FF6692\",\"#B6E880\",\"#FF97FF\",\"#FECB52\"],\"font\":{\"color\":\"#2a3f5f\"},\"hovermode\":\"closest\",\"hoverlabel\":{\"align\":\"left\"},\"paper_bgcolor\":\"white\",\"plot_bgcolor\":\"#E5ECF6\",\"polar\":{\"bgcolor\":\"#E5ECF6\",\"angularaxis\":{\"gridcolor\":\"white\",\"linecolor\":\"white\",\"ticks\":\"\"},\"radialaxis\":{\"gridcolor\":\"white\",\"linecolor\":\"white\",\"ticks\":\"\"}},\"ternary\":{\"bgcolor\":\"#E5ECF6\",\"aaxis\":{\"gridcolor\":\"white\",\"linecolor\":\"white\",\"ticks\":\"\"},\"baxis\":{\"gridcolor\":\"white\",\"linecolor\":\"white\",\"ticks\":\"\"},\"caxis\":{\"gridcolor\":\"white\",\"linecolor\":\"white\",\"ticks\":\"\"}},\"coloraxis\":{\"colorbar\":{\"outlinewidth\":0,\"ticks\":\"\"}},\"colorscale\":{\"sequential\":[[0.0,\"#0d0887\"],[0.1111111111111111,\"#46039f\"],[0.2222222222222222,\"#7201a8\"],[0.3333333333333333,\"#9c179e\"],[0.4444444444444444,\"#bd3786\"],[0.5555555555555556,\"#d8576b\"],[0.6666666666666666,\"#ed7953\"],[0.7777777777777778,\"#fb9f3a\"],[0.8888888888888888,\"#fdca26\"],[1.0,\"#f0f921\"]],\"sequentialminus\":[[0.0,\"#0d0887\"],[0.1111111111111111,\"#46039f\"],[0.2222222222222222,\"#7201a8\"],[0.3333333333333333,\"#9c179e\"],[0.4444444444444444,\"#bd3786\"],[0.5555555555555556,\"#d8576b\"],[0.6666666666666666,\"#ed7953\"],[0.7777777777777778,\"#fb9f3a\"],[0.8888888888888888,\"#fdca26\"],[1.0,\"#f0f921\"]],\"diverging\":[[0,\"#8e0152\"],[0.1,\"#c51b7d\"],[0.2,\"#de77ae\"],[0.3,\"#f1b6da\"],[0.4,\"#fde0ef\"],[0.5,\"#f7f7f7\"],[0.6,\"#e6f5d0\"],[0.7,\"#b8e186\"],[0.8,\"#7fbc41\"],[0.9,\"#4d9221\"],[1,\"#276419\"]]},\"xaxis\":{\"gridcolor\":\"white\",\"linecolor\":\"white\",\"ticks\":\"\",\"title\":{\"standoff\":15},\"zerolinecolor\":\"white\",\"automargin\":true,\"zerolinewidth\":2},\"yaxis\":{\"gridcolor\":\"white\",\"linecolor\":\"white\",\"ticks\":\"\",\"title\":{\"standoff\":15},\"zerolinecolor\":\"white\",\"automargin\":true,\"zerolinewidth\":2},\"scene\":{\"xaxis\":{\"backgroundcolor\":\"#E5ECF6\",\"gridcolor\":\"white\",\"linecolor\":\"white\",\"showbackground\":true,\"ticks\":\"\",\"zerolinecolor\":\"white\",\"gridwidth\":2},\"yaxis\":{\"backgroundcolor\":\"#E5ECF6\",\"gridcolor\":\"white\",\"linecolor\":\"white\",\"showbackground\":true,\"ticks\":\"\",\"zerolinecolor\":\"white\",\"gridwidth\":2},\"zaxis\":{\"backgroundcolor\":\"#E5ECF6\",\"gridcolor\":\"white\",\"linecolor\":\"white\",\"showbackground\":true,\"ticks\":\"\",\"zerolinecolor\":\"white\",\"gridwidth\":2}},\"shapedefaults\":{\"line\":{\"color\":\"#2a3f5f\"}},\"annotationdefaults\":{\"arrowcolor\":\"#2a3f5f\",\"arrowhead\":0,\"arrowwidth\":1},\"geo\":{\"bgcolor\":\"white\",\"landcolor\":\"#E5ECF6\",\"subunitcolor\":\"white\",\"showland\":true,\"showlakes\":true,\"lakecolor\":\"white\"},\"title\":{\"x\":0.05},\"mapbox\":{\"style\":\"light\"}}},\"xaxis\":{\"anchor\":\"y\",\"domain\":[0.0,1.0],\"matches\":\"x2\",\"showticklabels\":false,\"ticktext\":[\"Nov\",\"Dec\",\"Jan\",\"Feb\",\"Mar\",\"Apr\",\"May\"],\"tickvals\":[31,61,92,122,153,183,214],\"range\":[0,215]},\"yaxis\":{\"anchor\":\"x\",\"domain\":[0.55,1.0],\"title\":{\"text\":\"Wind Speed (m\\u002fs)\"},\"range\":[0,10]},\"xaxis2\":{\"anchor\":\"y2\",\"domain\":[0.0,1.0],\"title\":{\"text\":\"Day of Water Year\"},\"ticktext\":[\"Nov\",\"Dec\",\"Jan\",\"Feb\",\"Mar\",\"Apr\",\"May\"],\"tickvals\":[31,61,92,122,153,183,214],\"range\":[0,215]},\"yaxis2\":{\"anchor\":\"x2\",\"domain\":[0.0,0.45],\"title\":{\"text\":\"Wind Speed (m\\u002fs)\"},\"range\":[0,40]},\"annotations\":[{\"font\":{\"size\":16},\"showarrow\":false,\"text\":\"Mean Daily Wind Speed\",\"x\":0.5,\"xanchor\":\"center\",\"xref\":\"paper\",\"y\":1.0,\"yanchor\":\"bottom\",\"yref\":\"paper\"},{\"font\":{\"size\":16},\"showarrow\":false,\"text\":\"Max Daily Wind Speed\",\"x\":0.5,\"xanchor\":\"center\",\"xref\":\"paper\",\"y\":0.45,\"yanchor\":\"bottom\",\"yref\":\"paper\"}],\"title\":{\"text\":\"Mean and Max (1-minute) Daily Wind Speed from SAIL MET Station in Gothic, CO\"},\"legend\":{\"title\":{\"text\":\"Winter\"}},\"width\":1000,\"height\":600},                        {\"responsive\": true}                    ).then(function(){\n",
       "                            \n",
       "var gd = document.getElementById('9189ea92-52b8-40e9-a122-1b1f199b53da');\n",
       "var x = new MutationObserver(function (mutations, observer) {{\n",
       "        var display = window.getComputedStyle(gd).display;\n",
       "        if (!display || display === 'none') {{\n",
       "            console.log([gd, 'removed!']);\n",
       "            Plotly.purge(gd);\n",
       "            observer.disconnect();\n",
       "        }}\n",
       "}});\n",
       "\n",
       "// Listen for the removal of the full notebook cells\n",
       "var notebookContainer = gd.closest('#notebook-container');\n",
       "if (notebookContainer) {{\n",
       "    x.observe(notebookContainer, {childList: true});\n",
       "}}\n",
       "\n",
       "// Listen for the clearing of the current output cell\n",
       "var outputEl = gd.closest('.output');\n",
       "if (outputEl) {{\n",
       "    x.observe(outputEl, {childList: true});\n",
       "}}\n",
       "\n",
       "                        })                };                });            </script>        </div>"
      ]
     },
     "metadata": {},
     "output_type": "display_data"
    }
   ],
   "source": [
    "# plot the max wind speed for each day \n",
    "\n",
    "fig = make_subplots(rows=2, cols=1, shared_xaxes=True, vertical_spacing=0.1, subplot_titles=('Mean Daily Wind Speed','Max Daily Wind Speed'))\n",
    "fig.add_trace(go.Scatter(x=w22_mean_wspd.index, \n",
    "                         y=w22_mean_wspd['wspd_arith_mean'], \n",
    "                         name='2021-2022',\n",
    "                         marker_color='blue'),\n",
    "                         row=1, col=1)\n",
    "fig.add_trace(go.Scatter(x=w23_mean_wspd.index,\n",
    "                            y=w23_mean_wspd['wspd_arith_mean'],\n",
    "                            name='2022-2023',\n",
    "                            marker_color='red'),\n",
    "                            row=1, col=1)\n",
    "fig.add_trace(go.Scatter(x=w22_max_wspd.index, \n",
    "                         y=w22_max_wspd['wspd_arith_mean'], \n",
    "                         name='2021-2022',\n",
    "                         marker_color='blue',\n",
    "                         showlegend=False,),\n",
    "                         row=2, col=1)\n",
    "fig.add_trace(go.Scatter(x=w23_max_wspd.index,\n",
    "                            y=w23_max_wspd['wspd_arith_mean'],\n",
    "                            name='2022-2023',\n",
    "                            marker_color='red',\n",
    "                            showlegend=False,),\n",
    "                            row=2, col=1)\n",
    "fig.update_layout(\n",
    "    title = 'Mean and Max (1-minute) Daily Wind Speed from SAIL MET Station in Gothic, CO',\n",
    "    xaxis2_title='Day of Water Year',\n",
    "    yaxis1_title='Wind Speed (m/s)',\n",
    "    yaxis2_title='Wind Speed (m/s)',\n",
    "    legend_title='Winter',\n",
    "    # update the ylims\n",
    "    yaxis1_range=[0, 10],\n",
    "    yaxis2_range=[0, 40],\n",
    "    width=1000,\n",
    "    height=600,\n",
    ")\n",
    "# update the xaxis to show months\n",
    "fig.update_xaxes(\n",
    "    ticktext=['Nov','Dec','Jan','Feb','Mar','Apr','May'],\n",
    "    tickvals=[31,61,92,122,153,183,214],\n",
    "    # set xlim to end at 215\n",
    "    range=[0,215],\n",
    ")\n",
    "# format the hover text\n",
    "fig.update_traces(hovertemplate='Day of Water Year: %{x}<br>Wind Speed: %{y:.2f} m/s')\n",
    "\n"
   ]
  },
  {
   "cell_type": "code",
   "execution_count": 26,
   "metadata": {},
   "outputs": [
    {
     "name": "stdout",
     "output_type": "stream",
     "text": [
      "Winter 2021-2022 mean daily wind speed: 2.28 m/s\n",
      "Winter 2022-2023 mean daily wind speed: 2.20 m/s\n",
      "Winter 2021-2022 standard deviation of daily wind speed: 0.97 m/s\n",
      "Winter 2022-2023 standard deviation of daily wind speed: 0.94 m/s\n",
      "Winter 2021-2022 95th percentile of daily wind speed: 4.36 m/s\n",
      "Winter 2022-2023 95th percentile of daily wind speed: 3.90 m/s\n"
     ]
    }
   ],
   "source": [
    "# print the mean wind speed for each winter\n",
    "print(f'Winter 2021-2022 mean daily wind speed: {w22_mean_wspd[\"wspd_arith_mean\"].mean():.2f} m/s')\n",
    "print(f'Winter 2022-2023 mean daily wind speed: {w23_mean_wspd[\"wspd_arith_mean\"].mean():.2f} m/s')\n",
    "# print the standard deviation of the wind speed for each winter\n",
    "print(f'Winter 2021-2022 standard deviation of daily wind speed: {w22_mean_wspd[\"wspd_arith_mean\"].std():.2f} m/s')\n",
    "print(f'Winter 2022-2023 standard deviation of daily wind speed: {w23_mean_wspd[\"wspd_arith_mean\"].std():.2f} m/s')\n",
    "# print the 95th percentile of the wind speed for each winter\n",
    "print(f'Winter 2021-2022 95th percentile of daily wind speed: {w22_mean_wspd[\"wspd_arith_mean\"].quantile(0.95):.2f} m/s')\n",
    "print(f'Winter 2022-2023 95th percentile of daily wind speed: {w23_mean_wspd[\"wspd_arith_mean\"].quantile(0.95):.2f} m/s')"
   ]
  },
  {
   "cell_type": "markdown",
   "metadata": {},
   "source": [
    "## 2. What were the general storm characteristics? Were they related?\n",
    "Again we'll characterize these events for each winter for the SAIL met tower only and compare across the winters, can advance this to other locations in the future. We'll plot:\n",
    "- specific humidity\n",
    "- temperature (line plot)\n",
    "- wind speed (line plot and box plot)\n",
    "- wind direction (box plots and wind rose)\n",
    "- pressure\n",
    "- precipitation rate (from laser disdrometer)\n",
    "\n",
    "For the top windy days each winter:\n",
    "- We'll grab the radiosondes and make those plots"
   ]
  },
  {
   "cell_type": "code",
   "execution_count": 27,
   "metadata": {},
   "outputs": [
    {
     "name": "stdout",
     "output_type": "stream",
     "text": [
      "Winter 2021-2022 number of windy days: 9\n",
      "Winter 2022-2023 number of windy days: 9\n"
     ]
    }
   ],
   "source": [
    "# filter to only days between december 1 and may 15 of each year\n",
    "w22_mean_wspd = w22_mean_wspd[(w22_mean_wspd['date'] > '2021-11-29') & (w22_mean_wspd['date'] < '2022-05-15')]\n",
    "w23_mean_wspd = w23_mean_wspd[(w23_mean_wspd['date'] > '2022-11-29') & (w23_mean_wspd['date'] < '2023-05-15')]\n",
    "\n",
    "# Let's grab the 95th percentile of windy days for each winter\n",
    "w22_windy_days = w22_mean_wspd[w22_mean_wspd['wspd_arith_mean'] > w22_mean_wspd[\"wspd_arith_mean\"].quantile(0.95)]\n",
    "w23_windy_days = w23_mean_wspd[w23_mean_wspd['wspd_arith_mean'] > w23_mean_wspd[\"wspd_arith_mean\"].quantile(0.95)]\n",
    "# print the number of windy days for each winter\n",
    "print(f'Winter 2021-2022 number of windy days: {len(w22_windy_days)}')\n",
    "print(f'Winter 2022-2023 number of windy days: {len(w23_windy_days)}')\n"
   ]
  },
  {
   "cell_type": "code",
   "execution_count": 65,
   "metadata": {},
   "outputs": [
    {
     "data": {
      "text/plain": [
       "array([datetime.date(2021, 12, 15), datetime.date(2022, 1, 5),\n",
       "       datetime.date(2022, 2, 11), datetime.date(2022, 3, 30),\n",
       "       datetime.date(2022, 4, 5), datetime.date(2022, 4, 6),\n",
       "       datetime.date(2022, 4, 12), datetime.date(2022, 5, 8),\n",
       "       datetime.date(2022, 5, 9)], dtype=object)"
      ]
     },
     "execution_count": 65,
     "metadata": {},
     "output_type": "execute_result"
    }
   ],
   "source": []
  },
  {
   "cell_type": "code",
   "execution_count": 38,
   "metadata": {},
   "outputs": [],
   "source": [
    "# calculate u and v components of wind normalized by wind speed\n",
    "w22_sail_met_qc_ds['u'] = -np.sin(np.deg2rad(w22_sail_met_qc_ds['wdir_vec_mean']))\n",
    "w22_sail_met_qc_ds['v'] = -np.cos(np.deg2rad(w22_sail_met_qc_ds['wdir_vec_mean']))\n",
    "\n",
    "w23_sail_met_qc_ds['u'] = -np.sin(np.deg2rad(w23_sail_met_qc_ds['wdir_vec_mean']))\n",
    "w23_sail_met_qc_ds['v'] = -np.cos(np.deg2rad(w23_sail_met_qc_ds['wdir_vec_mean']))\n",
    "\n",
    "# resampled wind direction function\n",
    "def resampled_wind_dir(u, v):\n",
    "    dir = 270-np.rad2deg(np.arctan2(v,u))\n",
    "    # if dir is negative, add 360\n",
    "    dir[dir<0] = dir[dir<0] + 360\n",
    "    # if dir is greater than 360, subtract 360\n",
    "    dir[dir>360] = dir[dir>360] - 360\n",
    "    return dir\n",
    "\n",
    "# resample the windy days to 30 minutes\n",
    "w22_sail_met_qc_ds_30min = w22_sail_met_qc_ds.resample(time='30min').mean()\n",
    "w23_sail_met_qc_ds_30min = w23_sail_met_qc_ds.resample(time='30min').mean()\n",
    "# calculate the resampled wind direction by taking the 30 minute median\n",
    "w22_sail_met_qc_ds_30min['wdir_vec_median'] = w23_sail_met_qc_ds['wdir_vec_mean'].resample(time='30min').median()\n",
    "\n",
    "# calculate the resampled wind direction\n",
    "w22_sail_met_qc_ds_30min['wdir_vec_mean'] = resampled_wind_dir(w22_sail_met_qc_ds_30min['u'], w22_sail_met_qc_ds_30min['v'])\n",
    "w23_sail_met_qc_ds_30min['wdir_vec_mean'] = resampled_wind_dir(w23_sail_met_qc_ds_30min['u'], w23_sail_met_qc_ds_30min['v'])"
   ]
  },
  {
   "cell_type": "code",
   "execution_count": 76,
   "metadata": {},
   "outputs": [
    {
     "data": {
      "text/html": [
       "<div><svg style=\"position: absolute; width: 0; height: 0; overflow: hidden\">\n",
       "<defs>\n",
       "<symbol id=\"icon-database\" viewBox=\"0 0 32 32\">\n",
       "<path d=\"M16 0c-8.837 0-16 2.239-16 5v4c0 2.761 7.163 5 16 5s16-2.239 16-5v-4c0-2.761-7.163-5-16-5z\"></path>\n",
       "<path d=\"M16 17c-8.837 0-16-2.239-16-5v6c0 2.761 7.163 5 16 5s16-2.239 16-5v-6c0 2.761-7.163 5-16 5z\"></path>\n",
       "<path d=\"M16 26c-8.837 0-16-2.239-16-5v6c0 2.761 7.163 5 16 5s16-2.239 16-5v-6c0 2.761-7.163 5-16 5z\"></path>\n",
       "</symbol>\n",
       "<symbol id=\"icon-file-text2\" viewBox=\"0 0 32 32\">\n",
       "<path d=\"M28.681 7.159c-0.694-0.947-1.662-2.053-2.724-3.116s-2.169-2.030-3.116-2.724c-1.612-1.182-2.393-1.319-2.841-1.319h-15.5c-1.378 0-2.5 1.121-2.5 2.5v27c0 1.378 1.122 2.5 2.5 2.5h23c1.378 0 2.5-1.122 2.5-2.5v-19.5c0-0.448-0.137-1.23-1.319-2.841zM24.543 5.457c0.959 0.959 1.712 1.825 2.268 2.543h-4.811v-4.811c0.718 0.556 1.584 1.309 2.543 2.268zM28 29.5c0 0.271-0.229 0.5-0.5 0.5h-23c-0.271 0-0.5-0.229-0.5-0.5v-27c0-0.271 0.229-0.5 0.5-0.5 0 0 15.499-0 15.5 0v7c0 0.552 0.448 1 1 1h7v19.5z\"></path>\n",
       "<path d=\"M23 26h-14c-0.552 0-1-0.448-1-1s0.448-1 1-1h14c0.552 0 1 0.448 1 1s-0.448 1-1 1z\"></path>\n",
       "<path d=\"M23 22h-14c-0.552 0-1-0.448-1-1s0.448-1 1-1h14c0.552 0 1 0.448 1 1s-0.448 1-1 1z\"></path>\n",
       "<path d=\"M23 18h-14c-0.552 0-1-0.448-1-1s0.448-1 1-1h14c0.552 0 1 0.448 1 1s-0.448 1-1 1z\"></path>\n",
       "</symbol>\n",
       "</defs>\n",
       "</svg>\n",
       "<style>/* CSS stylesheet for displaying xarray objects in jupyterlab.\n",
       " *\n",
       " */\n",
       "\n",
       ":root {\n",
       "  --xr-font-color0: var(--jp-content-font-color0, rgba(0, 0, 0, 1));\n",
       "  --xr-font-color2: var(--jp-content-font-color2, rgba(0, 0, 0, 0.54));\n",
       "  --xr-font-color3: var(--jp-content-font-color3, rgba(0, 0, 0, 0.38));\n",
       "  --xr-border-color: var(--jp-border-color2, #e0e0e0);\n",
       "  --xr-disabled-color: var(--jp-layout-color3, #bdbdbd);\n",
       "  --xr-background-color: var(--jp-layout-color0, white);\n",
       "  --xr-background-color-row-even: var(--jp-layout-color1, white);\n",
       "  --xr-background-color-row-odd: var(--jp-layout-color2, #eeeeee);\n",
       "}\n",
       "\n",
       "html[theme=dark],\n",
       "body[data-theme=dark],\n",
       "body.vscode-dark {\n",
       "  --xr-font-color0: rgba(255, 255, 255, 1);\n",
       "  --xr-font-color2: rgba(255, 255, 255, 0.54);\n",
       "  --xr-font-color3: rgba(255, 255, 255, 0.38);\n",
       "  --xr-border-color: #1F1F1F;\n",
       "  --xr-disabled-color: #515151;\n",
       "  --xr-background-color: #111111;\n",
       "  --xr-background-color-row-even: #111111;\n",
       "  --xr-background-color-row-odd: #313131;\n",
       "}\n",
       "\n",
       ".xr-wrap {\n",
       "  display: block !important;\n",
       "  min-width: 300px;\n",
       "  max-width: 700px;\n",
       "}\n",
       "\n",
       ".xr-text-repr-fallback {\n",
       "  /* fallback to plain text repr when CSS is not injected (untrusted notebook) */\n",
       "  display: none;\n",
       "}\n",
       "\n",
       ".xr-header {\n",
       "  padding-top: 6px;\n",
       "  padding-bottom: 6px;\n",
       "  margin-bottom: 4px;\n",
       "  border-bottom: solid 1px var(--xr-border-color);\n",
       "}\n",
       "\n",
       ".xr-header > div,\n",
       ".xr-header > ul {\n",
       "  display: inline;\n",
       "  margin-top: 0;\n",
       "  margin-bottom: 0;\n",
       "}\n",
       "\n",
       ".xr-obj-type,\n",
       ".xr-array-name {\n",
       "  margin-left: 2px;\n",
       "  margin-right: 10px;\n",
       "}\n",
       "\n",
       ".xr-obj-type {\n",
       "  color: var(--xr-font-color2);\n",
       "}\n",
       "\n",
       ".xr-sections {\n",
       "  padding-left: 0 !important;\n",
       "  display: grid;\n",
       "  grid-template-columns: 150px auto auto 1fr 20px 20px;\n",
       "}\n",
       "\n",
       ".xr-section-item {\n",
       "  display: contents;\n",
       "}\n",
       "\n",
       ".xr-section-item input {\n",
       "  display: none;\n",
       "}\n",
       "\n",
       ".xr-section-item input + label {\n",
       "  color: var(--xr-disabled-color);\n",
       "}\n",
       "\n",
       ".xr-section-item input:enabled + label {\n",
       "  cursor: pointer;\n",
       "  color: var(--xr-font-color2);\n",
       "}\n",
       "\n",
       ".xr-section-item input:enabled + label:hover {\n",
       "  color: var(--xr-font-color0);\n",
       "}\n",
       "\n",
       ".xr-section-summary {\n",
       "  grid-column: 1;\n",
       "  color: var(--xr-font-color2);\n",
       "  font-weight: 500;\n",
       "}\n",
       "\n",
       ".xr-section-summary > span {\n",
       "  display: inline-block;\n",
       "  padding-left: 0.5em;\n",
       "}\n",
       "\n",
       ".xr-section-summary-in:disabled + label {\n",
       "  color: var(--xr-font-color2);\n",
       "}\n",
       "\n",
       ".xr-section-summary-in + label:before {\n",
       "  display: inline-block;\n",
       "  content: '►';\n",
       "  font-size: 11px;\n",
       "  width: 15px;\n",
       "  text-align: center;\n",
       "}\n",
       "\n",
       ".xr-section-summary-in:disabled + label:before {\n",
       "  color: var(--xr-disabled-color);\n",
       "}\n",
       "\n",
       ".xr-section-summary-in:checked + label:before {\n",
       "  content: '▼';\n",
       "}\n",
       "\n",
       ".xr-section-summary-in:checked + label > span {\n",
       "  display: none;\n",
       "}\n",
       "\n",
       ".xr-section-summary,\n",
       ".xr-section-inline-details {\n",
       "  padding-top: 4px;\n",
       "  padding-bottom: 4px;\n",
       "}\n",
       "\n",
       ".xr-section-inline-details {\n",
       "  grid-column: 2 / -1;\n",
       "}\n",
       "\n",
       ".xr-section-details {\n",
       "  display: none;\n",
       "  grid-column: 1 / -1;\n",
       "  margin-bottom: 5px;\n",
       "}\n",
       "\n",
       ".xr-section-summary-in:checked ~ .xr-section-details {\n",
       "  display: contents;\n",
       "}\n",
       "\n",
       ".xr-array-wrap {\n",
       "  grid-column: 1 / -1;\n",
       "  display: grid;\n",
       "  grid-template-columns: 20px auto;\n",
       "}\n",
       "\n",
       ".xr-array-wrap > label {\n",
       "  grid-column: 1;\n",
       "  vertical-align: top;\n",
       "}\n",
       "\n",
       ".xr-preview {\n",
       "  color: var(--xr-font-color3);\n",
       "}\n",
       "\n",
       ".xr-array-preview,\n",
       ".xr-array-data {\n",
       "  padding: 0 5px !important;\n",
       "  grid-column: 2;\n",
       "}\n",
       "\n",
       ".xr-array-data,\n",
       ".xr-array-in:checked ~ .xr-array-preview {\n",
       "  display: none;\n",
       "}\n",
       "\n",
       ".xr-array-in:checked ~ .xr-array-data,\n",
       ".xr-array-preview {\n",
       "  display: inline-block;\n",
       "}\n",
       "\n",
       ".xr-dim-list {\n",
       "  display: inline-block !important;\n",
       "  list-style: none;\n",
       "  padding: 0 !important;\n",
       "  margin: 0;\n",
       "}\n",
       "\n",
       ".xr-dim-list li {\n",
       "  display: inline-block;\n",
       "  padding: 0;\n",
       "  margin: 0;\n",
       "}\n",
       "\n",
       ".xr-dim-list:before {\n",
       "  content: '(';\n",
       "}\n",
       "\n",
       ".xr-dim-list:after {\n",
       "  content: ')';\n",
       "}\n",
       "\n",
       ".xr-dim-list li:not(:last-child):after {\n",
       "  content: ',';\n",
       "  padding-right: 5px;\n",
       "}\n",
       "\n",
       ".xr-has-index {\n",
       "  font-weight: bold;\n",
       "}\n",
       "\n",
       ".xr-var-list,\n",
       ".xr-var-item {\n",
       "  display: contents;\n",
       "}\n",
       "\n",
       ".xr-var-item > div,\n",
       ".xr-var-item label,\n",
       ".xr-var-item > .xr-var-name span {\n",
       "  background-color: var(--xr-background-color-row-even);\n",
       "  margin-bottom: 0;\n",
       "}\n",
       "\n",
       ".xr-var-item > .xr-var-name:hover span {\n",
       "  padding-right: 5px;\n",
       "}\n",
       "\n",
       ".xr-var-list > li:nth-child(odd) > div,\n",
       ".xr-var-list > li:nth-child(odd) > label,\n",
       ".xr-var-list > li:nth-child(odd) > .xr-var-name span {\n",
       "  background-color: var(--xr-background-color-row-odd);\n",
       "}\n",
       "\n",
       ".xr-var-name {\n",
       "  grid-column: 1;\n",
       "}\n",
       "\n",
       ".xr-var-dims {\n",
       "  grid-column: 2;\n",
       "}\n",
       "\n",
       ".xr-var-dtype {\n",
       "  grid-column: 3;\n",
       "  text-align: right;\n",
       "  color: var(--xr-font-color2);\n",
       "}\n",
       "\n",
       ".xr-var-preview {\n",
       "  grid-column: 4;\n",
       "}\n",
       "\n",
       ".xr-index-preview {\n",
       "  grid-column: 2 / 5;\n",
       "  color: var(--xr-font-color2);\n",
       "}\n",
       "\n",
       ".xr-var-name,\n",
       ".xr-var-dims,\n",
       ".xr-var-dtype,\n",
       ".xr-preview,\n",
       ".xr-attrs dt {\n",
       "  white-space: nowrap;\n",
       "  overflow: hidden;\n",
       "  text-overflow: ellipsis;\n",
       "  padding-right: 10px;\n",
       "}\n",
       "\n",
       ".xr-var-name:hover,\n",
       ".xr-var-dims:hover,\n",
       ".xr-var-dtype:hover,\n",
       ".xr-attrs dt:hover {\n",
       "  overflow: visible;\n",
       "  width: auto;\n",
       "  z-index: 1;\n",
       "}\n",
       "\n",
       ".xr-var-attrs,\n",
       ".xr-var-data,\n",
       ".xr-index-data {\n",
       "  display: none;\n",
       "  background-color: var(--xr-background-color) !important;\n",
       "  padding-bottom: 5px !important;\n",
       "}\n",
       "\n",
       ".xr-var-attrs-in:checked ~ .xr-var-attrs,\n",
       ".xr-var-data-in:checked ~ .xr-var-data,\n",
       ".xr-index-data-in:checked ~ .xr-index-data {\n",
       "  display: block;\n",
       "}\n",
       "\n",
       ".xr-var-data > table {\n",
       "  float: right;\n",
       "}\n",
       "\n",
       ".xr-var-name span,\n",
       ".xr-var-data,\n",
       ".xr-index-name div,\n",
       ".xr-index-data,\n",
       ".xr-attrs {\n",
       "  padding-left: 25px !important;\n",
       "}\n",
       "\n",
       ".xr-attrs,\n",
       ".xr-var-attrs,\n",
       ".xr-var-data,\n",
       ".xr-index-data {\n",
       "  grid-column: 1 / -1;\n",
       "}\n",
       "\n",
       "dl.xr-attrs {\n",
       "  padding: 0;\n",
       "  margin: 0;\n",
       "  display: grid;\n",
       "  grid-template-columns: 125px auto;\n",
       "}\n",
       "\n",
       ".xr-attrs dt,\n",
       ".xr-attrs dd {\n",
       "  padding: 0;\n",
       "  margin: 0;\n",
       "  float: left;\n",
       "  padding-right: 10px;\n",
       "  width: auto;\n",
       "}\n",
       "\n",
       ".xr-attrs dt {\n",
       "  font-weight: normal;\n",
       "  grid-column: 1;\n",
       "}\n",
       "\n",
       ".xr-attrs dt:hover span {\n",
       "  display: inline-block;\n",
       "  background: var(--xr-background-color);\n",
       "  padding-right: 10px;\n",
       "}\n",
       "\n",
       ".xr-attrs dd {\n",
       "  grid-column: 2;\n",
       "  white-space: pre-wrap;\n",
       "  word-break: break-all;\n",
       "}\n",
       "\n",
       ".xr-icon-database,\n",
       ".xr-icon-file-text2,\n",
       ".xr-no-icon {\n",
       "  display: inline-block;\n",
       "  vertical-align: middle;\n",
       "  width: 1em;\n",
       "  height: 1.5em !important;\n",
       "  stroke-width: 0;\n",
       "  stroke: currentColor;\n",
       "  fill: currentColor;\n",
       "}\n",
       "</style><pre class='xr-text-repr-fallback'>&lt;xarray.Dataset&gt;\n",
       "Dimensions:              (time: 17520)\n",
       "Coordinates:\n",
       "  * time                 (time) datetime64[ns] 2021-09-30T18:00:00 ... 2022-0...\n",
       "Data variables:\n",
       "    atmos_pressure       (time) float32 71.97 72.01 72.04 ... 71.76 71.77 71.78\n",
       "    temp_mean            (time) float32 6.697 5.653 5.154 ... 12.42 11.85 10.55\n",
       "    rh_mean              (time) float32 81.95 89.54 95.01 ... 45.28 48.98 59.54\n",
       "    vapor_pressure_mean  (time) float32 0.8648 0.8802 0.9023 ... 0.729 0.814\n",
       "    wspd_arith_mean      (time) float32 1.587 1.181 1.074 ... 3.748 4.043 5.067\n",
       "    wdir_vec_mean        (time) float32 190.4 127.7 30.5 ... 358.0 329.2 339.2\n",
       "    u                    (time) float32 0.07476 -0.6848 ... 0.4484 0.3518\n",
       "    v                    (time) float32 0.409 0.5292 -0.4064 ... -0.7524 -0.926\n",
       "    wdir_vec_median      (time) float32 nan nan nan nan nan ... nan nan nan nan\n",
       "Attributes: (12/21)\n",
       "    command_line:                met_ingest -s guc -f M1 -RD --max-runtime 0\n",
       "    Conventions:                 ARM-1.3\n",
       "    process_version:             ingest-met-4.53-0.el7\n",
       "    dod_version:                 met-b1-11.2\n",
       "    input_source:                /data/reproc/D221103.2/collection/guc/gucmet...\n",
       "    site_id:                     guc\n",
       "    ...                          ...\n",
       "    averaging_interval_comment:  The time assigned to each data point indicat...\n",
       "    org:                         Optical Rain Gauge\n",
       "    tbrg:                        Tipping Bucket Rain Gauge\n",
       "    pwd:                         Present Weather Detector\n",
       "    tbrg_precip_corr_info:       0.000000 * tbrg_precip_total^2 + 0.000000 * ...\n",
       "    history:                     created by user yahmad on machine prod-proc5...</pre><div class='xr-wrap' style='display:none'><div class='xr-header'><div class='xr-obj-type'>xarray.Dataset</div></div><ul class='xr-sections'><li class='xr-section-item'><input id='section-2b57b450-0bc9-485d-93e4-d0b2348492d0' class='xr-section-summary-in' type='checkbox' disabled ><label for='section-2b57b450-0bc9-485d-93e4-d0b2348492d0' class='xr-section-summary'  title='Expand/collapse section'>Dimensions:</label><div class='xr-section-inline-details'><ul class='xr-dim-list'><li><span class='xr-has-index'>time</span>: 17520</li></ul></div><div class='xr-section-details'></div></li><li class='xr-section-item'><input id='section-51f8eed3-da9d-4b56-a364-0e369b399b8a' class='xr-section-summary-in' type='checkbox'  checked><label for='section-51f8eed3-da9d-4b56-a364-0e369b399b8a' class='xr-section-summary' >Coordinates: <span>(1)</span></label><div class='xr-section-inline-details'></div><div class='xr-section-details'><ul class='xr-var-list'><li class='xr-var-item'><div class='xr-var-name'><span class='xr-has-index'>time</span></div><div class='xr-var-dims'>(time)</div><div class='xr-var-dtype'>datetime64[ns]</div><div class='xr-var-preview xr-preview'>2021-09-30T18:00:00 ... 2022-09-...</div><input id='attrs-38d3a23f-13d4-4fa9-91ea-f9cf89531adc' class='xr-var-attrs-in' type='checkbox' disabled><label for='attrs-38d3a23f-13d4-4fa9-91ea-f9cf89531adc' title='Show/Hide attributes'><svg class='icon xr-icon-file-text2'><use xlink:href='#icon-file-text2'></use></svg></label><input id='data-95c71b85-0a78-40b5-a1c0-0b92038bb4fd' class='xr-var-data-in' type='checkbox'><label for='data-95c71b85-0a78-40b5-a1c0-0b92038bb4fd' title='Show/Hide data repr'><svg class='icon xr-icon-database'><use xlink:href='#icon-database'></use></svg></label><div class='xr-var-attrs'><dl class='xr-attrs'></dl></div><div class='xr-var-data'><pre>array([&#x27;2021-09-30T18:00:00.000000000&#x27;, &#x27;2021-09-30T18:30:00.000000000&#x27;,\n",
       "       &#x27;2021-09-30T19:00:00.000000000&#x27;, ..., &#x27;2022-09-30T16:30:00.000000000&#x27;,\n",
       "       &#x27;2022-09-30T17:00:00.000000000&#x27;, &#x27;2022-09-30T17:30:00.000000000&#x27;],\n",
       "      dtype=&#x27;datetime64[ns]&#x27;)</pre></div></li></ul></div></li><li class='xr-section-item'><input id='section-ec34da3e-1a7d-4fb8-b9c4-55d80c4346c3' class='xr-section-summary-in' type='checkbox'  checked><label for='section-ec34da3e-1a7d-4fb8-b9c4-55d80c4346c3' class='xr-section-summary' >Data variables: <span>(9)</span></label><div class='xr-section-inline-details'></div><div class='xr-section-details'><ul class='xr-var-list'><li class='xr-var-item'><div class='xr-var-name'><span>atmos_pressure</span></div><div class='xr-var-dims'>(time)</div><div class='xr-var-dtype'>float32</div><div class='xr-var-preview xr-preview'>71.97 72.01 72.04 ... 71.77 71.78</div><input id='attrs-cfc5517e-62bb-460a-8bad-d07611650f09' class='xr-var-attrs-in' type='checkbox' ><label for='attrs-cfc5517e-62bb-460a-8bad-d07611650f09' title='Show/Hide attributes'><svg class='icon xr-icon-file-text2'><use xlink:href='#icon-file-text2'></use></svg></label><input id='data-b9c0dadb-980f-4253-9b1c-e2254ef2802b' class='xr-var-data-in' type='checkbox'><label for='data-b9c0dadb-980f-4253-9b1c-e2254ef2802b' title='Show/Hide data repr'><svg class='icon xr-icon-database'><use xlink:href='#icon-database'></use></svg></label><div class='xr-var-attrs'><dl class='xr-attrs'><dt><span>long_name :</span></dt><dd>Atmospheric pressure</dd><dt><span>units :</span></dt><dd>kPa</dd><dt><span>valid_min :</span></dt><dd>60.0</dd><dt><span>valid_max :</span></dt><dd>110.0</dd><dt><span>valid_delta :</span></dt><dd>1.0</dd><dt><span>ancillary_variables :</span></dt><dd>qc_atmos_pressure</dd><dt><span>standard_name :</span></dt><dd>surface_air_pressure</dd></dl></div><div class='xr-var-data'><pre>array([71.96834, 72.01134, 72.04234, ..., 71.75533, 71.76566, 71.77767],\n",
       "      dtype=float32)</pre></div></li><li class='xr-var-item'><div class='xr-var-name'><span>temp_mean</span></div><div class='xr-var-dims'>(time)</div><div class='xr-var-dtype'>float32</div><div class='xr-var-preview xr-preview'>6.697 5.653 5.154 ... 11.85 10.55</div><input id='attrs-74952e94-6efe-45f8-9d21-943b65f2dfa1' class='xr-var-attrs-in' type='checkbox' ><label for='attrs-74952e94-6efe-45f8-9d21-943b65f2dfa1' title='Show/Hide attributes'><svg class='icon xr-icon-file-text2'><use xlink:href='#icon-file-text2'></use></svg></label><input id='data-98dc7efc-0e4f-4399-b925-45599ab3588c' class='xr-var-data-in' type='checkbox'><label for='data-98dc7efc-0e4f-4399-b925-45599ab3588c' title='Show/Hide data repr'><svg class='icon xr-icon-database'><use xlink:href='#icon-database'></use></svg></label><div class='xr-var-attrs'><dl class='xr-attrs'><dt><span>long_name :</span></dt><dd>Temperature mean</dd><dt><span>units :</span></dt><dd>degC</dd><dt><span>valid_min :</span></dt><dd>-40.0</dd><dt><span>valid_max :</span></dt><dd>50.0</dd><dt><span>valid_delta :</span></dt><dd>20.0</dd><dt><span>ancillary_variables :</span></dt><dd>qc_temp_mean</dd><dt><span>standard_name :</span></dt><dd>air_temperature</dd></dl></div><div class='xr-var-data'><pre>array([ 6.696933 ,  5.6531677,  5.154166 , ..., 12.417998 , 11.849001 ,\n",
       "       10.553333 ], dtype=float32)</pre></div></li><li class='xr-var-item'><div class='xr-var-name'><span>rh_mean</span></div><div class='xr-var-dims'>(time)</div><div class='xr-var-dtype'>float32</div><div class='xr-var-preview xr-preview'>81.95 89.54 95.01 ... 48.98 59.54</div><input id='attrs-4bdfabd0-e3c4-40c1-8bad-d380f6ede4f4' class='xr-var-attrs-in' type='checkbox' ><label for='attrs-4bdfabd0-e3c4-40c1-8bad-d380f6ede4f4' title='Show/Hide attributes'><svg class='icon xr-icon-file-text2'><use xlink:href='#icon-file-text2'></use></svg></label><input id='data-d54c6bc6-ede8-4c02-81f2-6e543e21ae66' class='xr-var-data-in' type='checkbox'><label for='data-d54c6bc6-ede8-4c02-81f2-6e543e21ae66' title='Show/Hide data repr'><svg class='icon xr-icon-database'><use xlink:href='#icon-database'></use></svg></label><div class='xr-var-attrs'><dl class='xr-attrs'><dt><span>long_name :</span></dt><dd>Relative humidity mean</dd><dt><span>units :</span></dt><dd>%</dd><dt><span>valid_min :</span></dt><dd>0.0</dd><dt><span>valid_max :</span></dt><dd>104.0</dd><dt><span>valid_delta :</span></dt><dd>30.0</dd><dt><span>ancillary_variables :</span></dt><dd>qc_rh_mean</dd><dt><span>standard_name :</span></dt><dd>relative_humidity</dd></dl></div><div class='xr-var-data'><pre>array([81.95067 , 89.543335, 95.006676, ..., 45.27766 , 48.975662,\n",
       "       59.544994], dtype=float32)</pre></div></li><li class='xr-var-item'><div class='xr-var-name'><span>vapor_pressure_mean</span></div><div class='xr-var-dims'>(time)</div><div class='xr-var-dtype'>float32</div><div class='xr-var-preview xr-preview'>0.8648 0.8802 ... 0.729 0.814</div><input id='attrs-b553db6d-7e4e-43a0-b521-e876ef09ae0c' class='xr-var-attrs-in' type='checkbox' ><label for='attrs-b553db6d-7e4e-43a0-b521-e876ef09ae0c' title='Show/Hide attributes'><svg class='icon xr-icon-file-text2'><use xlink:href='#icon-file-text2'></use></svg></label><input id='data-5545ea30-f81b-466f-bafc-350fa00d720b' class='xr-var-data-in' type='checkbox'><label for='data-5545ea30-f81b-466f-bafc-350fa00d720b' title='Show/Hide data repr'><svg class='icon xr-icon-database'><use xlink:href='#icon-database'></use></svg></label><div class='xr-var-attrs'><dl class='xr-attrs'><dt><span>long_name :</span></dt><dd>Vapor pressure mean, calculated</dd><dt><span>units :</span></dt><dd>kPa</dd><dt><span>valid_min :</span></dt><dd>0.0</dd><dt><span>valid_max :</span></dt><dd>10.0</dd><dt><span>valid_delta :</span></dt><dd>1.0</dd><dt><span>ancillary_variables :</span></dt><dd>qc_vapor_pressure_mean</dd><dt><span>standard_name :</span></dt><dd>water_vapor_partial_pressure_in_air</dd><dt><span>comment :</span></dt><dd>The calculation is done with respect to ice or water, depending on the measured temperature being below or above 0 degC, respectively</dd></dl></div><div class='xr-var-data'><pre>array([0.8648333, 0.8801666, 0.9023333, ..., 0.7000667, 0.7290334,\n",
       "       0.8140333], dtype=float32)</pre></div></li><li class='xr-var-item'><div class='xr-var-name'><span>wspd_arith_mean</span></div><div class='xr-var-dims'>(time)</div><div class='xr-var-dtype'>float32</div><div class='xr-var-preview xr-preview'>1.587 1.181 1.074 ... 4.043 5.067</div><input id='attrs-a2031aab-964c-42da-ad62-7bb259756bc3' class='xr-var-attrs-in' type='checkbox' ><label for='attrs-a2031aab-964c-42da-ad62-7bb259756bc3' title='Show/Hide attributes'><svg class='icon xr-icon-file-text2'><use xlink:href='#icon-file-text2'></use></svg></label><input id='data-69cfb83a-0575-4ed3-a572-284bc7bab3b7' class='xr-var-data-in' type='checkbox'><label for='data-69cfb83a-0575-4ed3-a572-284bc7bab3b7' title='Show/Hide data repr'><svg class='icon xr-icon-database'><use xlink:href='#icon-database'></use></svg></label><div class='xr-var-attrs'><dl class='xr-attrs'><dt><span>long_name :</span></dt><dd>Wind speed arithmetic mean</dd><dt><span>units :</span></dt><dd>m/s</dd><dt><span>valid_min :</span></dt><dd>0.0</dd><dt><span>valid_max :</span></dt><dd>60.0</dd><dt><span>valid_delta :</span></dt><dd>20.0</dd><dt><span>ancillary_variables :</span></dt><dd>qc_wspd_arith_mean</dd></dl></div><div class='xr-var-data'><pre>array([1.5867   , 1.1812999, 1.0741   , ..., 3.7479665, 4.0429335,\n",
       "       5.0672   ], dtype=float32)</pre></div></li><li class='xr-var-item'><div class='xr-var-name'><span>wdir_vec_mean</span></div><div class='xr-var-dims'>(time)</div><div class='xr-var-dtype'>float32</div><div class='xr-var-preview xr-preview'>190.4 127.7 30.5 ... 329.2 339.2</div><input id='attrs-92fc436d-7114-44c0-b702-548af6e6ec2d' class='xr-var-attrs-in' type='checkbox' disabled><label for='attrs-92fc436d-7114-44c0-b702-548af6e6ec2d' title='Show/Hide attributes'><svg class='icon xr-icon-file-text2'><use xlink:href='#icon-file-text2'></use></svg></label><input id='data-0398b42c-148d-4695-9834-90cc85c69c8c' class='xr-var-data-in' type='checkbox'><label for='data-0398b42c-148d-4695-9834-90cc85c69c8c' title='Show/Hide data repr'><svg class='icon xr-icon-database'><use xlink:href='#icon-database'></use></svg></label><div class='xr-var-attrs'><dl class='xr-attrs'></dl></div><div class='xr-var-data'><pre>array([190.35864, 127.69902,  30.50476, ..., 358.00006, 329.20892,\n",
       "       339.1964 ], dtype=float32)</pre></div></li><li class='xr-var-item'><div class='xr-var-name'><span>u</span></div><div class='xr-var-dims'>(time)</div><div class='xr-var-dtype'>float32</div><div class='xr-var-preview xr-preview'>0.07476 -0.6848 ... 0.4484 0.3518</div><input id='attrs-7b1d5e7f-993e-4e13-af84-7e117d3fe755' class='xr-var-attrs-in' type='checkbox' ><label for='attrs-7b1d5e7f-993e-4e13-af84-7e117d3fe755' title='Show/Hide attributes'><svg class='icon xr-icon-file-text2'><use xlink:href='#icon-file-text2'></use></svg></label><input id='data-149fa65c-aa5f-4d0f-bc34-d33833e003ab' class='xr-var-data-in' type='checkbox'><label for='data-149fa65c-aa5f-4d0f-bc34-d33833e003ab' title='Show/Hide data repr'><svg class='icon xr-icon-database'><use xlink:href='#icon-database'></use></svg></label><div class='xr-var-attrs'><dl class='xr-attrs'><dt><span>long_name :</span></dt><dd>Wind direction vector mean</dd><dt><span>units :</span></dt><dd>degree</dd><dt><span>valid_min :</span></dt><dd>0.0</dd><dt><span>valid_max :</span></dt><dd>360.0</dd><dt><span>ancillary_variables :</span></dt><dd>qc_wdir_vec_mean</dd><dt><span>standard_name :</span></dt><dd>wind_from_direction</dd></dl></div><div class='xr-var-data'><pre>array([ 0.07476206, -0.6847529 , -0.23944017, ...,  0.03358435,\n",
       "        0.44836104,  0.35183796], dtype=float32)</pre></div></li><li class='xr-var-item'><div class='xr-var-name'><span>v</span></div><div class='xr-var-dims'>(time)</div><div class='xr-var-dtype'>float32</div><div class='xr-var-preview xr-preview'>0.409 0.5292 ... -0.7524 -0.926</div><input id='attrs-1a70e24d-ebc4-4209-87f3-9f5b89d5569f' class='xr-var-attrs-in' type='checkbox' ><label for='attrs-1a70e24d-ebc4-4209-87f3-9f5b89d5569f' title='Show/Hide attributes'><svg class='icon xr-icon-file-text2'><use xlink:href='#icon-file-text2'></use></svg></label><input id='data-4d4953d2-612d-4a76-864c-453876d7a13e' class='xr-var-data-in' type='checkbox'><label for='data-4d4953d2-612d-4a76-864c-453876d7a13e' title='Show/Hide data repr'><svg class='icon xr-icon-database'><use xlink:href='#icon-database'></use></svg></label><div class='xr-var-attrs'><dl class='xr-attrs'><dt><span>long_name :</span></dt><dd>Wind direction vector mean</dd><dt><span>units :</span></dt><dd>degree</dd><dt><span>valid_min :</span></dt><dd>0.0</dd><dt><span>valid_max :</span></dt><dd>360.0</dd><dt><span>ancillary_variables :</span></dt><dd>qc_wdir_vec_mean</dd><dt><span>standard_name :</span></dt><dd>wind_from_direction</dd></dl></div><div class='xr-var-data'><pre>array([ 0.40900943,  0.52921855, -0.40641117, ..., -0.96175665,\n",
       "       -0.7523996 , -0.9260462 ], dtype=float32)</pre></div></li><li class='xr-var-item'><div class='xr-var-name'><span>wdir_vec_median</span></div><div class='xr-var-dims'>(time)</div><div class='xr-var-dtype'>float32</div><div class='xr-var-preview xr-preview'>nan nan nan nan ... nan nan nan nan</div><input id='attrs-396199d4-5760-4790-892d-136c4d6eaba0' class='xr-var-attrs-in' type='checkbox' ><label for='attrs-396199d4-5760-4790-892d-136c4d6eaba0' title='Show/Hide attributes'><svg class='icon xr-icon-file-text2'><use xlink:href='#icon-file-text2'></use></svg></label><input id='data-2c00ae24-633d-4f00-a4f1-7da5062aed3f' class='xr-var-data-in' type='checkbox'><label for='data-2c00ae24-633d-4f00-a4f1-7da5062aed3f' title='Show/Hide data repr'><svg class='icon xr-icon-database'><use xlink:href='#icon-database'></use></svg></label><div class='xr-var-attrs'><dl class='xr-attrs'><dt><span>long_name :</span></dt><dd>Wind direction vector mean</dd><dt><span>units :</span></dt><dd>degree</dd><dt><span>valid_min :</span></dt><dd>0.0</dd><dt><span>valid_max :</span></dt><dd>360.0</dd><dt><span>ancillary_variables :</span></dt><dd>qc_wdir_vec_mean</dd><dt><span>standard_name :</span></dt><dd>wind_from_direction</dd></dl></div><div class='xr-var-data'><pre>array([nan, nan, nan, ..., nan, nan, nan], dtype=float32)</pre></div></li></ul></div></li><li class='xr-section-item'><input id='section-38b6b8d9-1d89-4edf-8e06-9242ca0fbf2f' class='xr-section-summary-in' type='checkbox'  ><label for='section-38b6b8d9-1d89-4edf-8e06-9242ca0fbf2f' class='xr-section-summary' >Indexes: <span>(1)</span></label><div class='xr-section-inline-details'></div><div class='xr-section-details'><ul class='xr-var-list'><li class='xr-var-item'><div class='xr-index-name'><div>time</div></div><div class='xr-index-preview'>PandasIndex</div><div></div><input id='index-f07602cc-cd8d-44cf-b297-95b398ce730e' class='xr-index-data-in' type='checkbox'/><label for='index-f07602cc-cd8d-44cf-b297-95b398ce730e' title='Show/Hide index repr'><svg class='icon xr-icon-database'><use xlink:href='#icon-database'></use></svg></label><div class='xr-index-data'><pre>PandasIndex(DatetimeIndex([&#x27;2021-09-30 18:00:00&#x27;, &#x27;2021-09-30 18:30:00&#x27;,\n",
       "               &#x27;2021-09-30 19:00:00&#x27;, &#x27;2021-09-30 19:30:00&#x27;,\n",
       "               &#x27;2021-09-30 20:00:00&#x27;, &#x27;2021-09-30 20:30:00&#x27;,\n",
       "               &#x27;2021-09-30 21:00:00&#x27;, &#x27;2021-09-30 21:30:00&#x27;,\n",
       "               &#x27;2021-09-30 22:00:00&#x27;, &#x27;2021-09-30 22:30:00&#x27;,\n",
       "               ...\n",
       "               &#x27;2022-09-30 13:00:00&#x27;, &#x27;2022-09-30 13:30:00&#x27;,\n",
       "               &#x27;2022-09-30 14:00:00&#x27;, &#x27;2022-09-30 14:30:00&#x27;,\n",
       "               &#x27;2022-09-30 15:00:00&#x27;, &#x27;2022-09-30 15:30:00&#x27;,\n",
       "               &#x27;2022-09-30 16:00:00&#x27;, &#x27;2022-09-30 16:30:00&#x27;,\n",
       "               &#x27;2022-09-30 17:00:00&#x27;, &#x27;2022-09-30 17:30:00&#x27;],\n",
       "              dtype=&#x27;datetime64[ns]&#x27;, name=&#x27;time&#x27;, length=17520, freq=&#x27;30T&#x27;))</pre></div></li></ul></div></li><li class='xr-section-item'><input id='section-8e2838a2-b175-4f3f-9862-8c831c573860' class='xr-section-summary-in' type='checkbox'  ><label for='section-8e2838a2-b175-4f3f-9862-8c831c573860' class='xr-section-summary' >Attributes: <span>(21)</span></label><div class='xr-section-inline-details'></div><div class='xr-section-details'><dl class='xr-attrs'><dt><span>command_line :</span></dt><dd>met_ingest -s guc -f M1 -RD --max-runtime 0</dd><dt><span>Conventions :</span></dt><dd>ARM-1.3</dd><dt><span>process_version :</span></dt><dd>ingest-met-4.53-0.el7</dd><dt><span>dod_version :</span></dt><dd>met-b1-11.2</dd><dt><span>input_source :</span></dt><dd>/data/reproc/D221103.2/collection/guc/gucmetM1.00/MET_Table1.20211124000000.dat</dd><dt><span>site_id :</span></dt><dd>guc</dd><dt><span>platform_id :</span></dt><dd>met</dd><dt><span>facility_id :</span></dt><dd>M1</dd><dt><span>data_level :</span></dt><dd>b1</dd><dt><span>location_description :</span></dt><dd>Surface Atmosphere Integrated Field Laboratory (SAIL), Mt Crested Butte, Colorado</dd><dt><span>datastream :</span></dt><dd>gucmetM1.b1</dd><dt><span>serial_number :</span></dt><dd>0</dd><dt><span>sampling_interval :</span></dt><dd>variable, see instrument handbook</dd><dt><span>averaging_interval :</span></dt><dd>60 seconds</dd><dt><span>doi :</span></dt><dd>10.5439/1786358</dd><dt><span>averaging_interval_comment :</span></dt><dd>The time assigned to each data point indicates the end of the averaging interval.</dd><dt><span>org :</span></dt><dd>Optical Rain Gauge</dd><dt><span>tbrg :</span></dt><dd>Tipping Bucket Rain Gauge</dd><dt><span>pwd :</span></dt><dd>Present Weather Detector</dd><dt><span>tbrg_precip_corr_info :</span></dt><dd>0.000000 * tbrg_precip_total^2 + 0.000000 * tbrg_precip_total</dd><dt><span>history :</span></dt><dd>created by user yahmad on machine prod-proc5.adc.arm.gov at 2023-11-16 19:52:05, using ingest-met-4.53-0.el7</dd></dl></div></li></ul></div></div>"
      ],
      "text/plain": [
       "<xarray.Dataset>\n",
       "Dimensions:              (time: 17520)\n",
       "Coordinates:\n",
       "  * time                 (time) datetime64[ns] 2021-09-30T18:00:00 ... 2022-0...\n",
       "Data variables:\n",
       "    atmos_pressure       (time) float32 71.97 72.01 72.04 ... 71.76 71.77 71.78\n",
       "    temp_mean            (time) float32 6.697 5.653 5.154 ... 12.42 11.85 10.55\n",
       "    rh_mean              (time) float32 81.95 89.54 95.01 ... 45.28 48.98 59.54\n",
       "    vapor_pressure_mean  (time) float32 0.8648 0.8802 0.9023 ... 0.729 0.814\n",
       "    wspd_arith_mean      (time) float32 1.587 1.181 1.074 ... 3.748 4.043 5.067\n",
       "    wdir_vec_mean        (time) float32 190.4 127.7 30.5 ... 358.0 329.2 339.2\n",
       "    u                    (time) float32 0.07476 -0.6848 ... 0.4484 0.3518\n",
       "    v                    (time) float32 0.409 0.5292 -0.4064 ... -0.7524 -0.926\n",
       "    wdir_vec_median      (time) float32 nan nan nan nan nan ... nan nan nan nan\n",
       "Attributes: (12/21)\n",
       "    command_line:                met_ingest -s guc -f M1 -RD --max-runtime 0\n",
       "    Conventions:                 ARM-1.3\n",
       "    process_version:             ingest-met-4.53-0.el7\n",
       "    dod_version:                 met-b1-11.2\n",
       "    input_source:                /data/reproc/D221103.2/collection/guc/gucmet...\n",
       "    site_id:                     guc\n",
       "    ...                          ...\n",
       "    averaging_interval_comment:  The time assigned to each data point indicat...\n",
       "    org:                         Optical Rain Gauge\n",
       "    tbrg:                        Tipping Bucket Rain Gauge\n",
       "    pwd:                         Present Weather Detector\n",
       "    tbrg_precip_corr_info:       0.000000 * tbrg_precip_total^2 + 0.000000 * ...\n",
       "    history:                     created by user yahmad on machine prod-proc5..."
      ]
     },
     "execution_count": 76,
     "metadata": {},
     "output_type": "execute_result"
    }
   ],
   "source": [
    "w22_sail_met_qc_ds_30min"
   ]
  },
  {
   "cell_type": "code",
   "execution_count": 57,
   "metadata": {},
   "outputs": [],
   "source": [
    "w22_sail_met_windy = w22_sail_met_qc_ds_30min.where(w22_sail_met_qc_ds_30min.time.dt.date.isin(w22_windy_days['date'].values.astype('datetime64[ns]')))\n",
    "w23_sail_met_windy = w23_sail_met_qc_ds_30min.where(w23_sail_met_qc_ds_30min.time.dt.date.isin(w23_windy_days['date'].values.astype('datetime64[ns]')))"
   ]
  },
  {
   "cell_type": "code",
   "execution_count": 70,
   "metadata": {},
   "outputs": [],
   "source": [
    "def build_windy_df(ds, days):\n",
    "    # get a list of the windy days\n",
    "    windy_days = pd.to_datetime(days.date.values).date\n",
    "    # interate through the days and make a ds for each day, store in a dictionary numbered by the day of water year (oct 1 - sept 30) \n",
    "    daily_ds_list = []\n",
    "    for day in windy_days:\n",
    "        # get the ds for the day\n",
    "        ds2 = ds.sel(time=slice(f'{day} 00:00:00', f'{day} 23:59:59'))\n",
    "        # make the time dimension only have the time of day\n",
    "        ds2['time'] = ds2['time'].dt.time\n",
    "        # add the day of water year as a new coordinate\n",
    "        ds2.coords['date'] = day\n",
    "        # add the ds to the dictionary\n",
    "        daily_ds_list.append(ds2)\n",
    "    windy_ds = xr.concat(daily_ds_list, dim='date')\n",
    "    # get wind speeds for each height\n",
    "    windy_wind_df = windy_ds[['wdir_vec_mean','wspd_arith_mean']].to_dataframe().reset_index()\n",
    "    # get temperature and rh for each height\n",
    "    windy_temp_df = windy_ds['temp_mean'].to_dataframe().reset_index()\n",
    "    # get water vapor for each height\n",
    "    windy_wv_df = windy_ds[['rh_mean','vapor_pressure_mean']].to_dataframe().reset_index()\n",
    "    # get the pressure for each height\n",
    "    windy_pres_df = windy_ds['atmos_pressure'].to_dataframe().reset_index()\n",
    "    return windy_wind_df, windy_temp_df, windy_wv_df, windy_pres_df"
   ]
  },
  {
   "cell_type": "code",
   "execution_count": 71,
   "metadata": {},
   "outputs": [
    {
     "name": "stdout",
     "output_type": "stream",
     "text": [
      "345\n"
     ]
    }
   ],
   "source": [
    "# define function to calculate day of the water year\n",
    "def get_day_of_water_year(date):\n",
    "    # if input is type dt.date convert to dt.datetime\n",
    "    if type(date) == dt.date:\n",
    "        date = dt.datetime(date.year, date.month, date.day)\n",
    "    # if the date is before october 1st, subtract one from the year\n",
    "    if date.month < 10:\n",
    "        year = date.year - 1\n",
    "    else:\n",
    "        year = date.year\n",
    "    # create a datetime object for october 1st of the year\n",
    "    oct_1 = dt.datetime(year, 10, 1)\n",
    "    # calculate the day of water year\n",
    "    day_of_water_year = (date - oct_1).days + 1\n",
    "    return day_of_water_year\n",
    "# test it and print result\n",
    "print(get_day_of_water_year(dt.date(2022, 9, 10)))"
   ]
  },
  {
   "cell_type": "code",
   "execution_count": 94,
   "metadata": {},
   "outputs": [],
   "source": [
    "# for each date, plot the wind speed at 10m on uw tower over the day. Color by the day of water year\n",
    "# also plot the mean wind speed for all the days in bold \n",
    "sail_30min_windy_wind_df, sail_30min_windy_temp_df, sail_30min_windy_wv_df, sail_30min_windy_pres_df = build_windy_df(w22_sail_met_qc_ds_30min, w22_windy_days)\n",
    "# first set up color ramp between 0 and 365 with viridis\n",
    "n_colors = 366\n",
    "color_scale = px.colors.sample_colorscale(\"IceFire\", [n/(n_colors -1) for n in range(n_colors)])\n",
    "color_dict = dict(zip(range(0,366),color_scale))\n",
    "\n",
    "# groupby time on uw_10m and get the mean\n",
    "sail_30min_windy_time_avg = sail_30min_windy_wind_df['wspd_arith_mean'].groupby(sail_30min_windy_wind_df.time).mean()"
   ]
  },
  {
   "cell_type": "code",
   "execution_count": 95,
   "metadata": {},
   "outputs": [
    {
     "data": {
      "application/vnd.plotly.v1+json": {
       "config": {
        "plotlyServerURL": "https://plot.ly"
       },
       "data": [
        {
         "connectgaps": false,
         "marker": {
          "color": "rgb(20, 101, 173)"
         },
         "name": "2021-12-15",
         "type": "scatter",
         "x": [
          "00:00:00",
          "00:30:00",
          "01:00:00",
          "01:30:00",
          "02:00:00",
          "02:30:00",
          "03:00:00",
          "03:30:00",
          "04:00:00",
          "04:30:00",
          "05:00:00",
          "05:30:00",
          "06:00:00",
          "06:30:00",
          "07:00:00",
          "07:30:00",
          "08:00:00",
          "08:30:00",
          "09:00:00",
          "09:30:00",
          "10:00:00",
          "10:30:00",
          "11:00:00",
          "11:30:00",
          "12:00:00",
          "12:30:00",
          "13:00:00",
          "13:30:00",
          "14:00:00",
          "14:30:00",
          "15:00:00",
          "15:30:00",
          "16:00:00",
          "16:30:00",
          "17:00:00",
          "17:30:00",
          "18:00:00",
          "18:30:00",
          "19:00:00",
          "19:30:00",
          "20:00:00",
          "20:30:00",
          "21:00:00",
          "21:30:00",
          "22:00:00",
          "22:30:00",
          "23:00:00",
          "23:30:00"
         ],
         "y": [
          1.880366563796997,
          2.193732976913452,
          1.5713999271392822,
          1.779233455657959,
          1.9532333612442017,
          1.5356667041778564,
          1.6706331968307495,
          1.454466700553894,
          2.133033275604248,
          3.1217334270477295,
          2.394379138946533,
          10.518320083618164,
          7.6003336906433105,
          5.702000617980957,
          4.156766891479492,
          3.499199867248535,
          5.894400596618652,
          5.828033447265625,
          5.553766250610352,
          7.6584672927856445,
          7.724700450897217,
          7.943133354187012,
          7.865733623504639,
          7.252600193023682,
          7.884467124938965,
          9.24726676940918,
          10.086700439453125,
          9.399733543395996,
          7.8510332107543945,
          5.358399391174316,
          3.4671335220336914,
          3.19533371925354,
          2.9466001987457275,
          2.8612334728240967,
          2.7403998374938965,
          2.3926336765289307,
          4.6230669021606445,
          5.446600437164307,
          6.536232948303223,
          5.4561333656311035,
          5.202300071716309,
          7.097766399383545,
          7.097833156585693,
          5.373967170715332,
          4.191033363342285,
          3.738966703414917,
          2.900066375732422,
          1.7681000232696533
         ]
        },
        {
         "connectgaps": false,
         "marker": {
          "color": "rgb(37, 136, 189)"
         },
         "name": "2022-01-05",
         "type": "scatter",
         "x": [
          "00:00:00",
          "00:30:00",
          "01:00:00",
          "01:30:00",
          "02:00:00",
          "02:30:00",
          "03:00:00",
          "03:30:00",
          "04:00:00",
          "04:30:00",
          "05:00:00",
          "05:30:00",
          "06:00:00",
          "06:30:00",
          "07:00:00",
          "07:30:00",
          "08:00:00",
          "08:30:00",
          "09:00:00",
          "09:30:00",
          "10:00:00",
          "10:30:00",
          "11:00:00",
          "11:30:00",
          "12:00:00",
          "12:30:00",
          "13:00:00",
          "13:30:00",
          "14:00:00",
          "14:30:00",
          "15:00:00",
          "15:30:00",
          "16:00:00",
          "16:30:00",
          "17:00:00",
          "17:30:00",
          "18:00:00",
          "18:30:00",
          "19:00:00",
          "19:30:00",
          "20:00:00",
          "20:30:00",
          "21:00:00",
          "21:30:00",
          "22:00:00",
          "22:30:00",
          "23:00:00",
          "23:30:00"
         ],
         "y": [
          6.3480658531188965,
          6.868033409118652,
          5.42476749420166,
          5.907465934753418,
          7.512733459472656,
          7.439766883850098,
          6.994534015655518,
          6.644499778747559,
          6.395833492279053,
          6.404366493225098,
          5.906099796295166,
          6.69320011138916,
          6.411333084106445,
          5.625600337982178,
          5.883999824523926,
          6.682533264160156,
          6.7068328857421875,
          6.906099796295166,
          6.363933086395264,
          6.994900226593018,
          6.645300388336182,
          7.464667320251465,
          7.634867191314697,
          8.038233757019043,
          8.037700653076172,
          8.472733497619629,
          8.8287992477417,
          8.349133491516113,
          8.671233177185059,
          8.933499336242676,
          8.900466918945312,
          8.607999801635742,
          8.388999938964844,
          7.450099468231201,
          7.135900497436523,
          6.566800117492676,
          6.458566665649414,
          6.404133319854736,
          6.279300212860107,
          6.6359333992004395,
          5.905533790588379,
          6.406732559204102,
          5.608566761016846,
          5.713866233825684,
          5.779266834259033,
          6.424499988555908,
          5.915833473205566,
          6.517767429351807
         ]
        },
        {
         "connectgaps": false,
         "marker": {
          "color": "rgb(79, 195, 220)"
         },
         "name": "2022-02-11",
         "type": "scatter",
         "x": [
          "00:00:00",
          "00:30:00",
          "01:00:00",
          "01:30:00",
          "02:00:00",
          "02:30:00",
          "03:00:00",
          "03:30:00",
          "04:00:00",
          "04:30:00",
          "05:00:00",
          "05:30:00",
          "06:00:00",
          "06:30:00",
          "07:00:00",
          "07:30:00",
          "08:00:00",
          "08:30:00",
          "09:00:00",
          "09:30:00",
          "10:00:00",
          "10:30:00",
          "11:00:00",
          "11:30:00",
          "12:00:00",
          "12:30:00",
          "13:00:00",
          "13:30:00",
          "14:00:00",
          "14:30:00",
          "15:00:00",
          "15:30:00",
          "16:00:00",
          "16:30:00",
          "17:00:00",
          "17:30:00",
          "18:00:00",
          "18:30:00",
          "19:00:00",
          "19:30:00",
          "20:00:00",
          "20:30:00",
          "21:00:00",
          "21:30:00",
          "22:00:00",
          "22:30:00",
          "23:00:00",
          "23:30:00"
         ],
         "y": [
          4.884599685668945,
          5.352632522583008,
          5.686767578125,
          5.59523344039917,
          5.046366214752197,
          5.029233932495117,
          4.547567367553711,
          4.064533710479736,
          4.837033271789551,
          5.727266788482666,
          3.835566759109497,
          4.014466285705566,
          3.7200002670288086,
          3.7211670875549316,
          3.092899799346924,
          3.6857998371124268,
          3.9808335304260254,
          4.979966640472412,
          6.395599365234375,
          6.675200462341309,
          5.401433944702148,
          6.690200328826904,
          6.48093318939209,
          7.196267127990723,
          5.908599853515625,
          4.7947998046875,
          5.935999870300293,
          5.314199447631836,
          6.0993332862854,
          6.2769670486450195,
          5.802966594696045,
          7.11460018157959,
          5.6974005699157715,
          5.07383394241333,
          5.193300247192383,
          5.602233409881592,
          6.520066738128662,
          7.1071672439575195,
          6.550666332244873,
          7.019233226776123,
          6.257599830627441,
          4.81683349609375,
          4.140066623687744,
          4.2928338050842285,
          4.299866676330566,
          3.942699909210205,
          3.122166872024536,
          2.758833408355713
         ]
        },
        {
         "connectgaps": false,
         "marker": {
          "color": "rgb(220, 233, 211)"
         },
         "name": "2022-03-30",
         "type": "scatter",
         "x": [
          "00:00:00",
          "00:30:00",
          "01:00:00",
          "01:30:00",
          "02:00:00",
          "02:30:00",
          "03:00:00",
          "03:30:00",
          "04:00:00",
          "04:30:00",
          "05:00:00",
          "05:30:00",
          "06:00:00",
          "06:30:00",
          "07:00:00",
          "07:30:00",
          "08:00:00",
          "08:30:00",
          "09:00:00",
          "09:30:00",
          "10:00:00",
          "10:30:00",
          "11:00:00",
          "11:30:00",
          "12:00:00",
          "12:30:00",
          "13:00:00",
          "13:30:00",
          "14:00:00",
          "14:30:00",
          "15:00:00",
          "15:30:00",
          "16:00:00",
          "16:30:00",
          "17:00:00",
          "17:30:00",
          "18:00:00",
          "18:30:00",
          "19:00:00",
          "19:30:00",
          "20:00:00",
          "20:30:00",
          "21:00:00",
          "21:30:00",
          "22:00:00",
          "22:30:00",
          "23:00:00",
          "23:30:00"
         ],
         "y": [
          2.7079665660858154,
          3.0508339405059814,
          3.1324331760406494,
          3.3396661281585693,
          3.6261332035064697,
          2.76586651802063,
          1.9076334238052368,
          3.5848002433776855,
          3.459366798400879,
          3.437999963760376,
          3.0401666164398193,
          3.2748334407806396,
          4.658433437347412,
          5.3953657150268555,
          4.060366630554199,
          6.007166385650635,
          5.3752665519714355,
          5.06993293762207,
          6.14739990234375,
          5.306299209594727,
          5.006134033203125,
          5.978766918182373,
          6.27203369140625,
          6.594266891479492,
          7.1205668449401855,
          7.525065898895264,
          6.888833522796631,
          6.942166805267334,
          6.830333232879639,
          6.837567329406738,
          7.559032917022705,
          7.637866497039795,
          7.95490026473999,
          7.0727996826171875,
          7.024333477020264,
          6.178300380706787,
          5.316666603088379,
          6.359899997711182,
          4.893333435058594,
          3.9320669174194336,
          3.2936666011810303,
          3.5973665714263916,
          3.620633363723755,
          4.229567050933838,
          3.425166606903076,
          3.1203668117523193,
          3.691533088684082,
          3.624800205230713
         ]
        },
        {
         "connectgaps": false,
         "marker": {
          "color": "rgb(229, 229, 190)"
         },
         "name": "2022-04-05",
         "type": "scatter",
         "x": [
          "00:00:00",
          "00:30:00",
          "01:00:00",
          "01:30:00",
          "02:00:00",
          "02:30:00",
          "03:00:00",
          "03:30:00",
          "04:00:00",
          "04:30:00",
          "05:00:00",
          "05:30:00",
          "06:00:00",
          "06:30:00",
          "07:00:00",
          "07:30:00",
          "08:00:00",
          "08:30:00",
          "09:00:00",
          "09:30:00",
          "10:00:00",
          "10:30:00",
          "11:00:00",
          "11:30:00",
          "12:00:00",
          "12:30:00",
          "13:00:00",
          "13:30:00",
          "14:00:00",
          "14:30:00",
          "15:00:00",
          "15:30:00",
          "16:00:00",
          "16:30:00",
          "17:00:00",
          "17:30:00",
          "18:00:00",
          "18:30:00",
          "19:00:00",
          "19:30:00",
          "20:00:00",
          "20:30:00",
          "21:00:00",
          "21:30:00",
          "22:00:00",
          "22:30:00",
          "23:00:00",
          "23:30:00"
         ],
         "y": [
          4.377500057220459,
          3.3652334213256836,
          4.028833389282227,
          4.542633533477783,
          3.5841333866119385,
          4.135333061218262,
          3.246533155441284,
          2.869800090789795,
          3.5407330989837646,
          4.209366798400879,
          5.457766532897949,
          5.8114333152771,
          5.09220027923584,
          5.5717997550964355,
          5.923532962799072,
          6.233266353607178,
          6.248300075531006,
          6.383966445922852,
          6.0865325927734375,
          5.4434332847595215,
          5.329932689666748,
          3.9994001388549805,
          4.600400447845459,
          5.437365531921387,
          6.111099720001221,
          6.521599769592285,
          6.912001132965088,
          5.994767189025879,
          6.723666667938232,
          6.1284661293029785,
          5.838665962219238,
          5.833199977874756,
          5.325133323669434,
          5.387032985687256,
          5.64696741104126,
          5.422033786773682,
          5.877866744995117,
          6.651600360870361,
          6.022700309753418,
          5.507199287414551,
          6.1294660568237305,
          5.8025665283203125,
          5.865133285522461,
          5.97263240814209,
          5.235866069793701,
          5.140533447265625,
          4.176166534423828,
          4.64840030670166
         ]
        },
        {
         "connectgaps": false,
         "marker": {
          "color": "rgb(229, 228, 186)"
         },
         "name": "2022-04-06",
         "type": "scatter",
         "x": [
          "00:00:00",
          "00:30:00",
          "01:00:00",
          "01:30:00",
          "02:00:00",
          "02:30:00",
          "03:00:00",
          "03:30:00",
          "04:00:00",
          "04:30:00",
          "05:00:00",
          "05:30:00",
          "06:00:00",
          "06:30:00",
          "07:00:00",
          "07:30:00",
          "08:00:00",
          "08:30:00",
          "09:00:00",
          "09:30:00",
          "10:00:00",
          "10:30:00",
          "11:00:00",
          "11:30:00",
          "12:00:00",
          "12:30:00",
          "13:00:00",
          "13:30:00",
          "14:00:00",
          "14:30:00",
          "15:00:00",
          "15:30:00",
          "16:00:00",
          "16:30:00",
          "17:00:00",
          "17:30:00",
          "18:00:00",
          "18:30:00",
          "19:00:00",
          "19:30:00",
          "20:00:00",
          "20:30:00",
          "21:00:00",
          "21:30:00",
          "22:00:00",
          "22:30:00",
          "23:00:00",
          "23:30:00"
         ],
         "y": [
          5.51813268661499,
          5.051300048828125,
          4.13070011138916,
          4.092466354370117,
          4.70246696472168,
          4.804366111755371,
          5.270633220672607,
          5.283433437347412,
          5.0889668464660645,
          4.404266357421875,
          4.6566996574401855,
          4.1952667236328125,
          4.3094329833984375,
          3.6018333435058594,
          5.31786584854126,
          5.7397332191467285,
          5.056267261505127,
          5.465933799743652,
          7.1441330909729,
          7.422399520874023,
          7.629233360290527,
          6.6302995681762695,
          5.784266948699951,
          6.496800422668457,
          6.506165981292725,
          6.517333507537842,
          6.980833530426025,
          7.624300003051758,
          6.990166664123535,
          6.222399711608887,
          6.763766288757324,
          6.11193323135376,
          5.907299995422363,
          6.601600170135498,
          6.213799953460693,
          5.304867267608643,
          4.565000534057617,
          4.385133266448975,
          3.8625664710998535,
          3.6148667335510254,
          3.812533140182495,
          4.052866458892822,
          3.984633445739746,
          2.9763998985290527,
          3.4710001945495605,
          3.575366497039795,
          3.5913994312286377,
          3.7173335552215576
         ]
        },
        {
         "connectgaps": false,
         "marker": {
          "color": "rgb(234, 223, 162)"
         },
         "name": "2022-04-12",
         "type": "scatter",
         "x": [
          "00:00:00",
          "00:30:00",
          "01:00:00",
          "01:30:00",
          "02:00:00",
          "02:30:00",
          "03:00:00",
          "03:30:00",
          "04:00:00",
          "04:30:00",
          "05:00:00",
          "05:30:00",
          "06:00:00",
          "06:30:00",
          "07:00:00",
          "07:30:00",
          "08:00:00",
          "08:30:00",
          "09:00:00",
          "09:30:00",
          "10:00:00",
          "10:30:00",
          "11:00:00",
          "11:30:00",
          "12:00:00",
          "12:30:00",
          "13:00:00",
          "13:30:00",
          "14:00:00",
          "14:30:00",
          "15:00:00",
          "15:30:00",
          "16:00:00",
          "16:30:00",
          "17:00:00",
          "17:30:00",
          "18:00:00",
          "18:30:00",
          "19:00:00",
          "19:30:00",
          "20:00:00",
          "20:30:00",
          "21:00:00",
          "21:30:00",
          "22:00:00",
          "22:30:00",
          "23:00:00",
          "23:30:00"
         ],
         "y": [
          7.9384002685546875,
          7.062933444976807,
          8.484933853149414,
          6.333333492279053,
          6.822501182556152,
          5.44420051574707,
          5.9972333908081055,
          5.197500228881836,
          5.11660099029541,
          7.573500156402588,
          7.048332691192627,
          6.970999717712402,
          3.954233407974243,
          5.60926628112793,
          2.388833522796631,
          5.093433856964111,
          7.648699760437012,
          6.292733192443848,
          6.210200786590576,
          4.19023323059082,
          4.6707329750061035,
          4.341466903686523,
          4.494933605194092,
          4.922799587249756,
          3.665900230407715,
          4.91143274307251,
          3.705833673477173,
          4.408633232116699,
          4.538599967956543,
          4.534766674041748,
          3.385033130645752,
          2.2032666206359863,
          2.801466941833496,
          3.243999719619751,
          3.754899740219116,
          4.621533393859863,
          4.365233421325684,
          4.616866588592529,
          3.892900228500366,
          5.9781670570373535,
          4.592166423797607,
          3.614633083343506,
          3.2865331172943115,
          2.460766553878784,
          1.7683665752410889,
          1.5856000185012817,
          1.7453666925430298,
          2.4923999309539795
         ]
        },
        {
         "connectgaps": false,
         "marker": {
          "color": "rgb(235, 189, 41)"
         },
         "name": "2022-05-08",
         "type": "scatter",
         "x": [
          "00:00:00",
          "00:30:00",
          "01:00:00",
          "01:30:00",
          "02:00:00",
          "02:30:00",
          "03:00:00",
          "03:30:00",
          "04:00:00",
          "04:30:00",
          "05:00:00",
          "05:30:00",
          "06:00:00",
          "06:30:00",
          "07:00:00",
          "07:30:00",
          "08:00:00",
          "08:30:00",
          "09:00:00",
          "09:30:00",
          "10:00:00",
          "10:30:00",
          "11:00:00",
          "11:30:00",
          "12:00:00",
          "12:30:00",
          "13:00:00",
          "13:30:00",
          "14:00:00",
          "14:30:00",
          "15:00:00",
          "15:30:00",
          "16:00:00",
          "16:30:00",
          "17:00:00",
          "17:30:00",
          "18:00:00",
          "18:30:00",
          "19:00:00",
          "19:30:00",
          "20:00:00",
          "20:30:00",
          "21:00:00",
          "21:30:00",
          "22:00:00",
          "22:30:00",
          "23:00:00",
          "23:30:00"
         ],
         "y": [
          2.9984333515167236,
          2.025233268737793,
          2.4725663661956787,
          2.959233283996582,
          4.6837663650512695,
          5.235133171081543,
          4.00896692276001,
          3.9056999683380127,
          2.1029999256134033,
          3.0918004512786865,
          4.394699573516846,
          3.519366502761841,
          4.760566234588623,
          4.522733211517334,
          3.261899471282959,
          4.219566822052002,
          3.7145330905914307,
          4.7044997215271,
          4.124300003051758,
          4.9217000007629395,
          4.801900386810303,
          4.403199672698975,
          4.457366466522217,
          4.949532985687256,
          4.633500099182129,
          5.231900215148926,
          4.655200004577637,
          6.209067344665527,
          6.438567161560059,
          5.650999069213867,
          6.183600425720215,
          5.480733394622803,
          6.018365859985352,
          5.906167507171631,
          5.5630998611450195,
          5.0749993324279785,
          4.854432582855225,
          3.869333028793335,
          4.964433193206787,
          5.419566631317139,
          5.3181328773498535,
          6.941299915313721,
          6.151566028594971,
          6.153066635131836,
          5.938233375549316,
          7.594299793243408,
          7.090400218963623,
          8.39013385772705
         ]
        },
        {
         "connectgaps": false,
         "marker": {
          "color": "rgb(235, 188, 36)"
         },
         "name": "2022-05-09",
         "type": "scatter",
         "x": [
          "00:00:00",
          "00:30:00",
          "01:00:00",
          "01:30:00",
          "02:00:00",
          "02:30:00",
          "03:00:00",
          "03:30:00",
          "04:00:00",
          "04:30:00",
          "05:00:00",
          "05:30:00",
          "06:00:00",
          "06:30:00",
          "07:00:00",
          "07:30:00",
          "08:00:00",
          "08:30:00",
          "09:00:00",
          "09:30:00",
          "10:00:00",
          "10:30:00",
          "11:00:00",
          "11:30:00",
          "12:00:00",
          "12:30:00",
          "13:00:00",
          "13:30:00",
          "14:00:00",
          "14:30:00",
          "15:00:00",
          "15:30:00",
          "16:00:00",
          "16:30:00",
          "17:00:00",
          "17:30:00",
          "18:00:00",
          "18:30:00",
          "19:00:00",
          "19:30:00",
          "20:00:00",
          "20:30:00",
          "21:00:00",
          "21:30:00",
          "22:00:00",
          "22:30:00",
          "23:00:00",
          "23:30:00"
         ],
         "y": [
          8.623632431030273,
          6.867300510406494,
          7.361700057983398,
          7.86003303527832,
          7.837399482727051,
          8.264033317565918,
          8.073533058166504,
          7.842566013336182,
          8.421666145324707,
          8.104266166687012,
          6.902299404144287,
          5.937733173370361,
          5.233033180236816,
          5.257599353790283,
          6.099999904632568,
          5.624933242797852,
          4.698699951171875,
          3.843566656112671,
          3.974233865737915,
          3.9860000610351562,
          3.812466859817505,
          3.6854329109191895,
          3.839233160018921,
          4.393033981323242,
          4.4275336265563965,
          4.8222336769104,
          5.353066921234131,
          4.950867176055908,
          5.3729658126831055,
          5.485400199890137,
          5.0933661460876465,
          4.52346658706665,
          5.053366661071777,
          4.540499687194824,
          4.039400100708008,
          5.9819655418396,
          4.691400051116943,
          3.2141335010528564,
          2.689199924468994,
          2.5624334812164307,
          2.242933511734009,
          2.8229334354400635,
          3.9434666633605957,
          4.5111002922058105,
          4.037399768829346,
          4.3100666999816895,
          4.747766494750977,
          3.96643328666687
         ]
        },
        {
         "connectgaps": false,
         "line": {
          "dash": "dash",
          "width": 3
         },
         "marker": {
          "color": "black"
         },
         "name": "mean",
         "type": "scatter",
         "x": [
          "00:00:00",
          "00:30:00",
          "01:00:00",
          "01:30:00",
          "02:00:00",
          "02:30:00",
          "03:00:00",
          "03:30:00",
          "04:00:00",
          "04:30:00",
          "05:00:00",
          "05:30:00",
          "06:00:00",
          "06:30:00",
          "07:00:00",
          "07:30:00",
          "08:00:00",
          "08:30:00",
          "09:00:00",
          "09:30:00",
          "10:00:00",
          "10:30:00",
          "11:00:00",
          "11:30:00",
          "12:00:00",
          "12:30:00",
          "13:00:00",
          "13:30:00",
          "14:00:00",
          "14:30:00",
          "15:00:00",
          "15:30:00",
          "16:00:00",
          "16:30:00",
          "17:00:00",
          "17:30:00",
          "18:00:00",
          "18:30:00",
          "19:00:00",
          "19:30:00",
          "20:00:00",
          "20:30:00",
          "21:00:00",
          "21:30:00",
          "22:00:00",
          "22:30:00",
          "23:00:00",
          "23:30:00"
         ],
         "y": [
          5.030788898468018,
          4.648581504821777,
          4.699344635009766,
          4.712144374847412,
          5.085414886474609,
          4.961511135101318,
          4.635251998901367,
          4.538589000701904,
          4.566247940063477,
          5.119396209716797,
          4.848445415496826,
          5.659513473510742,
          5.082174301147461,
          5.000818252563477,
          4.465129375457764,
          5.198403835296631,
          5.480425834655762,
          5.4971923828125,
          5.7777886390686035,
          5.844292640686035,
          5.669092655181885,
          5.681840896606445,
          5.714418411254883,
          6.142322063446045,
          6.0328369140625,
          6.449373722076416,
          6.594141006469727,
          6.5769853591918945,
          6.61287784576416,
          6.158718585968018,
          5.88822603225708,
          5.6342668533325195,
          5.565948009490967,
          5.34858512878418,
          5.256900310516357,
          5.23837423324585,
          5.252477645874023,
          5.33942985534668,
          5.076814651489258,
          5.125066757202148,
          4.750481605529785,
          5.017000198364258,
          4.855381488800049,
          4.631577968597412,
          4.238466262817383,
          4.381377696990967,
          4.10896635055542,
          4.20935583114624
         ]
        }
       ],
       "layout": {
        "hovermode": "x unified",
        "template": {
         "data": {
          "bar": [
           {
            "error_x": {
             "color": "#2a3f5f"
            },
            "error_y": {
             "color": "#2a3f5f"
            },
            "marker": {
             "line": {
              "color": "#E5ECF6",
              "width": 0.5
             },
             "pattern": {
              "fillmode": "overlay",
              "size": 10,
              "solidity": 0.2
             }
            },
            "type": "bar"
           }
          ],
          "barpolar": [
           {
            "marker": {
             "line": {
              "color": "#E5ECF6",
              "width": 0.5
             },
             "pattern": {
              "fillmode": "overlay",
              "size": 10,
              "solidity": 0.2
             }
            },
            "type": "barpolar"
           }
          ],
          "carpet": [
           {
            "aaxis": {
             "endlinecolor": "#2a3f5f",
             "gridcolor": "white",
             "linecolor": "white",
             "minorgridcolor": "white",
             "startlinecolor": "#2a3f5f"
            },
            "baxis": {
             "endlinecolor": "#2a3f5f",
             "gridcolor": "white",
             "linecolor": "white",
             "minorgridcolor": "white",
             "startlinecolor": "#2a3f5f"
            },
            "type": "carpet"
           }
          ],
          "choropleth": [
           {
            "colorbar": {
             "outlinewidth": 0,
             "ticks": ""
            },
            "type": "choropleth"
           }
          ],
          "contour": [
           {
            "colorbar": {
             "outlinewidth": 0,
             "ticks": ""
            },
            "colorscale": [
             [
              0,
              "#0d0887"
             ],
             [
              0.1111111111111111,
              "#46039f"
             ],
             [
              0.2222222222222222,
              "#7201a8"
             ],
             [
              0.3333333333333333,
              "#9c179e"
             ],
             [
              0.4444444444444444,
              "#bd3786"
             ],
             [
              0.5555555555555556,
              "#d8576b"
             ],
             [
              0.6666666666666666,
              "#ed7953"
             ],
             [
              0.7777777777777778,
              "#fb9f3a"
             ],
             [
              0.8888888888888888,
              "#fdca26"
             ],
             [
              1,
              "#f0f921"
             ]
            ],
            "type": "contour"
           }
          ],
          "contourcarpet": [
           {
            "colorbar": {
             "outlinewidth": 0,
             "ticks": ""
            },
            "type": "contourcarpet"
           }
          ],
          "heatmap": [
           {
            "colorbar": {
             "outlinewidth": 0,
             "ticks": ""
            },
            "colorscale": [
             [
              0,
              "#0d0887"
             ],
             [
              0.1111111111111111,
              "#46039f"
             ],
             [
              0.2222222222222222,
              "#7201a8"
             ],
             [
              0.3333333333333333,
              "#9c179e"
             ],
             [
              0.4444444444444444,
              "#bd3786"
             ],
             [
              0.5555555555555556,
              "#d8576b"
             ],
             [
              0.6666666666666666,
              "#ed7953"
             ],
             [
              0.7777777777777778,
              "#fb9f3a"
             ],
             [
              0.8888888888888888,
              "#fdca26"
             ],
             [
              1,
              "#f0f921"
             ]
            ],
            "type": "heatmap"
           }
          ],
          "heatmapgl": [
           {
            "colorbar": {
             "outlinewidth": 0,
             "ticks": ""
            },
            "colorscale": [
             [
              0,
              "#0d0887"
             ],
             [
              0.1111111111111111,
              "#46039f"
             ],
             [
              0.2222222222222222,
              "#7201a8"
             ],
             [
              0.3333333333333333,
              "#9c179e"
             ],
             [
              0.4444444444444444,
              "#bd3786"
             ],
             [
              0.5555555555555556,
              "#d8576b"
             ],
             [
              0.6666666666666666,
              "#ed7953"
             ],
             [
              0.7777777777777778,
              "#fb9f3a"
             ],
             [
              0.8888888888888888,
              "#fdca26"
             ],
             [
              1,
              "#f0f921"
             ]
            ],
            "type": "heatmapgl"
           }
          ],
          "histogram": [
           {
            "marker": {
             "pattern": {
              "fillmode": "overlay",
              "size": 10,
              "solidity": 0.2
             }
            },
            "type": "histogram"
           }
          ],
          "histogram2d": [
           {
            "colorbar": {
             "outlinewidth": 0,
             "ticks": ""
            },
            "colorscale": [
             [
              0,
              "#0d0887"
             ],
             [
              0.1111111111111111,
              "#46039f"
             ],
             [
              0.2222222222222222,
              "#7201a8"
             ],
             [
              0.3333333333333333,
              "#9c179e"
             ],
             [
              0.4444444444444444,
              "#bd3786"
             ],
             [
              0.5555555555555556,
              "#d8576b"
             ],
             [
              0.6666666666666666,
              "#ed7953"
             ],
             [
              0.7777777777777778,
              "#fb9f3a"
             ],
             [
              0.8888888888888888,
              "#fdca26"
             ],
             [
              1,
              "#f0f921"
             ]
            ],
            "type": "histogram2d"
           }
          ],
          "histogram2dcontour": [
           {
            "colorbar": {
             "outlinewidth": 0,
             "ticks": ""
            },
            "colorscale": [
             [
              0,
              "#0d0887"
             ],
             [
              0.1111111111111111,
              "#46039f"
             ],
             [
              0.2222222222222222,
              "#7201a8"
             ],
             [
              0.3333333333333333,
              "#9c179e"
             ],
             [
              0.4444444444444444,
              "#bd3786"
             ],
             [
              0.5555555555555556,
              "#d8576b"
             ],
             [
              0.6666666666666666,
              "#ed7953"
             ],
             [
              0.7777777777777778,
              "#fb9f3a"
             ],
             [
              0.8888888888888888,
              "#fdca26"
             ],
             [
              1,
              "#f0f921"
             ]
            ],
            "type": "histogram2dcontour"
           }
          ],
          "mesh3d": [
           {
            "colorbar": {
             "outlinewidth": 0,
             "ticks": ""
            },
            "type": "mesh3d"
           }
          ],
          "parcoords": [
           {
            "line": {
             "colorbar": {
              "outlinewidth": 0,
              "ticks": ""
             }
            },
            "type": "parcoords"
           }
          ],
          "pie": [
           {
            "automargin": true,
            "type": "pie"
           }
          ],
          "scatter": [
           {
            "fillpattern": {
             "fillmode": "overlay",
             "size": 10,
             "solidity": 0.2
            },
            "type": "scatter"
           }
          ],
          "scatter3d": [
           {
            "line": {
             "colorbar": {
              "outlinewidth": 0,
              "ticks": ""
             }
            },
            "marker": {
             "colorbar": {
              "outlinewidth": 0,
              "ticks": ""
             }
            },
            "type": "scatter3d"
           }
          ],
          "scattercarpet": [
           {
            "marker": {
             "colorbar": {
              "outlinewidth": 0,
              "ticks": ""
             }
            },
            "type": "scattercarpet"
           }
          ],
          "scattergeo": [
           {
            "marker": {
             "colorbar": {
              "outlinewidth": 0,
              "ticks": ""
             }
            },
            "type": "scattergeo"
           }
          ],
          "scattergl": [
           {
            "marker": {
             "colorbar": {
              "outlinewidth": 0,
              "ticks": ""
             }
            },
            "type": "scattergl"
           }
          ],
          "scattermapbox": [
           {
            "marker": {
             "colorbar": {
              "outlinewidth": 0,
              "ticks": ""
             }
            },
            "type": "scattermapbox"
           }
          ],
          "scatterpolar": [
           {
            "marker": {
             "colorbar": {
              "outlinewidth": 0,
              "ticks": ""
             }
            },
            "type": "scatterpolar"
           }
          ],
          "scatterpolargl": [
           {
            "marker": {
             "colorbar": {
              "outlinewidth": 0,
              "ticks": ""
             }
            },
            "type": "scatterpolargl"
           }
          ],
          "scatterternary": [
           {
            "marker": {
             "colorbar": {
              "outlinewidth": 0,
              "ticks": ""
             }
            },
            "type": "scatterternary"
           }
          ],
          "surface": [
           {
            "colorbar": {
             "outlinewidth": 0,
             "ticks": ""
            },
            "colorscale": [
             [
              0,
              "#0d0887"
             ],
             [
              0.1111111111111111,
              "#46039f"
             ],
             [
              0.2222222222222222,
              "#7201a8"
             ],
             [
              0.3333333333333333,
              "#9c179e"
             ],
             [
              0.4444444444444444,
              "#bd3786"
             ],
             [
              0.5555555555555556,
              "#d8576b"
             ],
             [
              0.6666666666666666,
              "#ed7953"
             ],
             [
              0.7777777777777778,
              "#fb9f3a"
             ],
             [
              0.8888888888888888,
              "#fdca26"
             ],
             [
              1,
              "#f0f921"
             ]
            ],
            "type": "surface"
           }
          ],
          "table": [
           {
            "cells": {
             "fill": {
              "color": "#EBF0F8"
             },
             "line": {
              "color": "white"
             }
            },
            "header": {
             "fill": {
              "color": "#C8D4E3"
             },
             "line": {
              "color": "white"
             }
            },
            "type": "table"
           }
          ]
         },
         "layout": {
          "annotationdefaults": {
           "arrowcolor": "#2a3f5f",
           "arrowhead": 0,
           "arrowwidth": 1
          },
          "autotypenumbers": "strict",
          "coloraxis": {
           "colorbar": {
            "outlinewidth": 0,
            "ticks": ""
           }
          },
          "colorscale": {
           "diverging": [
            [
             0,
             "#8e0152"
            ],
            [
             0.1,
             "#c51b7d"
            ],
            [
             0.2,
             "#de77ae"
            ],
            [
             0.3,
             "#f1b6da"
            ],
            [
             0.4,
             "#fde0ef"
            ],
            [
             0.5,
             "#f7f7f7"
            ],
            [
             0.6,
             "#e6f5d0"
            ],
            [
             0.7,
             "#b8e186"
            ],
            [
             0.8,
             "#7fbc41"
            ],
            [
             0.9,
             "#4d9221"
            ],
            [
             1,
             "#276419"
            ]
           ],
           "sequential": [
            [
             0,
             "#0d0887"
            ],
            [
             0.1111111111111111,
             "#46039f"
            ],
            [
             0.2222222222222222,
             "#7201a8"
            ],
            [
             0.3333333333333333,
             "#9c179e"
            ],
            [
             0.4444444444444444,
             "#bd3786"
            ],
            [
             0.5555555555555556,
             "#d8576b"
            ],
            [
             0.6666666666666666,
             "#ed7953"
            ],
            [
             0.7777777777777778,
             "#fb9f3a"
            ],
            [
             0.8888888888888888,
             "#fdca26"
            ],
            [
             1,
             "#f0f921"
            ]
           ],
           "sequentialminus": [
            [
             0,
             "#0d0887"
            ],
            [
             0.1111111111111111,
             "#46039f"
            ],
            [
             0.2222222222222222,
             "#7201a8"
            ],
            [
             0.3333333333333333,
             "#9c179e"
            ],
            [
             0.4444444444444444,
             "#bd3786"
            ],
            [
             0.5555555555555556,
             "#d8576b"
            ],
            [
             0.6666666666666666,
             "#ed7953"
            ],
            [
             0.7777777777777778,
             "#fb9f3a"
            ],
            [
             0.8888888888888888,
             "#fdca26"
            ],
            [
             1,
             "#f0f921"
            ]
           ]
          },
          "colorway": [
           "#636efa",
           "#EF553B",
           "#00cc96",
           "#ab63fa",
           "#FFA15A",
           "#19d3f3",
           "#FF6692",
           "#B6E880",
           "#FF97FF",
           "#FECB52"
          ],
          "font": {
           "color": "#2a3f5f"
          },
          "geo": {
           "bgcolor": "white",
           "lakecolor": "white",
           "landcolor": "#E5ECF6",
           "showlakes": true,
           "showland": true,
           "subunitcolor": "white"
          },
          "hoverlabel": {
           "align": "left"
          },
          "hovermode": "closest",
          "mapbox": {
           "style": "light"
          },
          "paper_bgcolor": "white",
          "plot_bgcolor": "#E5ECF6",
          "polar": {
           "angularaxis": {
            "gridcolor": "white",
            "linecolor": "white",
            "ticks": ""
           },
           "bgcolor": "#E5ECF6",
           "radialaxis": {
            "gridcolor": "white",
            "linecolor": "white",
            "ticks": ""
           }
          },
          "scene": {
           "xaxis": {
            "backgroundcolor": "#E5ECF6",
            "gridcolor": "white",
            "gridwidth": 2,
            "linecolor": "white",
            "showbackground": true,
            "ticks": "",
            "zerolinecolor": "white"
           },
           "yaxis": {
            "backgroundcolor": "#E5ECF6",
            "gridcolor": "white",
            "gridwidth": 2,
            "linecolor": "white",
            "showbackground": true,
            "ticks": "",
            "zerolinecolor": "white"
           },
           "zaxis": {
            "backgroundcolor": "#E5ECF6",
            "gridcolor": "white",
            "gridwidth": 2,
            "linecolor": "white",
            "showbackground": true,
            "ticks": "",
            "zerolinecolor": "white"
           }
          },
          "shapedefaults": {
           "line": {
            "color": "#2a3f5f"
           }
          },
          "ternary": {
           "aaxis": {
            "gridcolor": "white",
            "linecolor": "white",
            "ticks": ""
           },
           "baxis": {
            "gridcolor": "white",
            "linecolor": "white",
            "ticks": ""
           },
           "bgcolor": "#E5ECF6",
           "caxis": {
            "gridcolor": "white",
            "linecolor": "white",
            "ticks": ""
           }
          },
          "title": {
           "x": 0.05
          },
          "xaxis": {
           "automargin": true,
           "gridcolor": "white",
           "linecolor": "white",
           "ticks": "",
           "title": {
            "standoff": 15
           },
           "zerolinecolor": "white",
           "zerolinewidth": 2
          },
          "yaxis": {
           "automargin": true,
           "gridcolor": "white",
           "linecolor": "white",
           "ticks": "",
           "title": {
            "standoff": 15
           },
           "zerolinecolor": "white",
           "zerolinewidth": 2
          }
         }
        },
        "title": {
         "text": "Wind Speeds on UW Tower during highest 5th percentile windy days"
        },
        "xaxis": {
         "title": {
          "text": "Time of Day (Local)"
         }
        },
        "yaxis": {
         "title": {
          "text": "Wind Speed (m/s)"
         }
        }
       }
      },
      "text/html": [
       "<div>                            <div id=\"a1c6b054-bbd8-4ae3-adb6-e6dde2a31c73\" class=\"plotly-graph-div\" style=\"height:525px; width:100%;\"></div>            <script type=\"text/javascript\">                require([\"plotly\"], function(Plotly) {                    window.PLOTLYENV=window.PLOTLYENV || {};                                    if (document.getElementById(\"a1c6b054-bbd8-4ae3-adb6-e6dde2a31c73\")) {                    Plotly.newPlot(                        \"a1c6b054-bbd8-4ae3-adb6-e6dde2a31c73\",                        [{\"connectgaps\":false,\"marker\":{\"color\":\"rgb(20, 101, 173)\"},\"name\":\"2021-12-15\",\"x\":[\"00:00:00\",\"00:30:00\",\"01:00:00\",\"01:30:00\",\"02:00:00\",\"02:30:00\",\"03:00:00\",\"03:30:00\",\"04:00:00\",\"04:30:00\",\"05:00:00\",\"05:30:00\",\"06:00:00\",\"06:30:00\",\"07:00:00\",\"07:30:00\",\"08:00:00\",\"08:30:00\",\"09:00:00\",\"09:30:00\",\"10:00:00\",\"10:30:00\",\"11:00:00\",\"11:30:00\",\"12:00:00\",\"12:30:00\",\"13:00:00\",\"13:30:00\",\"14:00:00\",\"14:30:00\",\"15:00:00\",\"15:30:00\",\"16:00:00\",\"16:30:00\",\"17:00:00\",\"17:30:00\",\"18:00:00\",\"18:30:00\",\"19:00:00\",\"19:30:00\",\"20:00:00\",\"20:30:00\",\"21:00:00\",\"21:30:00\",\"22:00:00\",\"22:30:00\",\"23:00:00\",\"23:30:00\"],\"y\":[1.880366563796997,2.193732976913452,1.5713999271392822,1.779233455657959,1.9532333612442017,1.5356667041778564,1.6706331968307495,1.454466700553894,2.133033275604248,3.1217334270477295,2.394379138946533,10.518320083618164,7.6003336906433105,5.702000617980957,4.156766891479492,3.499199867248535,5.894400596618652,5.828033447265625,5.553766250610352,7.6584672927856445,7.724700450897217,7.943133354187012,7.865733623504639,7.252600193023682,7.884467124938965,9.24726676940918,10.086700439453125,9.399733543395996,7.8510332107543945,5.358399391174316,3.4671335220336914,3.19533371925354,2.9466001987457275,2.8612334728240967,2.7403998374938965,2.3926336765289307,4.6230669021606445,5.446600437164307,6.536232948303223,5.4561333656311035,5.202300071716309,7.097766399383545,7.097833156585693,5.373967170715332,4.191033363342285,3.738966703414917,2.900066375732422,1.7681000232696533],\"type\":\"scatter\"},{\"connectgaps\":false,\"marker\":{\"color\":\"rgb(37, 136, 189)\"},\"name\":\"2022-01-05\",\"x\":[\"00:00:00\",\"00:30:00\",\"01:00:00\",\"01:30:00\",\"02:00:00\",\"02:30:00\",\"03:00:00\",\"03:30:00\",\"04:00:00\",\"04:30:00\",\"05:00:00\",\"05:30:00\",\"06:00:00\",\"06:30:00\",\"07:00:00\",\"07:30:00\",\"08:00:00\",\"08:30:00\",\"09:00:00\",\"09:30:00\",\"10:00:00\",\"10:30:00\",\"11:00:00\",\"11:30:00\",\"12:00:00\",\"12:30:00\",\"13:00:00\",\"13:30:00\",\"14:00:00\",\"14:30:00\",\"15:00:00\",\"15:30:00\",\"16:00:00\",\"16:30:00\",\"17:00:00\",\"17:30:00\",\"18:00:00\",\"18:30:00\",\"19:00:00\",\"19:30:00\",\"20:00:00\",\"20:30:00\",\"21:00:00\",\"21:30:00\",\"22:00:00\",\"22:30:00\",\"23:00:00\",\"23:30:00\"],\"y\":[6.3480658531188965,6.868033409118652,5.42476749420166,5.907465934753418,7.512733459472656,7.439766883850098,6.994534015655518,6.644499778747559,6.395833492279053,6.404366493225098,5.906099796295166,6.69320011138916,6.411333084106445,5.625600337982178,5.883999824523926,6.682533264160156,6.7068328857421875,6.906099796295166,6.363933086395264,6.994900226593018,6.645300388336182,7.464667320251465,7.634867191314697,8.038233757019043,8.037700653076172,8.472733497619629,8.8287992477417,8.349133491516113,8.671233177185059,8.933499336242676,8.900466918945312,8.607999801635742,8.388999938964844,7.450099468231201,7.135900497436523,6.566800117492676,6.458566665649414,6.404133319854736,6.279300212860107,6.6359333992004395,5.905533790588379,6.406732559204102,5.608566761016846,5.713866233825684,5.779266834259033,6.424499988555908,5.915833473205566,6.517767429351807],\"type\":\"scatter\"},{\"connectgaps\":false,\"marker\":{\"color\":\"rgb(79, 195, 220)\"},\"name\":\"2022-02-11\",\"x\":[\"00:00:00\",\"00:30:00\",\"01:00:00\",\"01:30:00\",\"02:00:00\",\"02:30:00\",\"03:00:00\",\"03:30:00\",\"04:00:00\",\"04:30:00\",\"05:00:00\",\"05:30:00\",\"06:00:00\",\"06:30:00\",\"07:00:00\",\"07:30:00\",\"08:00:00\",\"08:30:00\",\"09:00:00\",\"09:30:00\",\"10:00:00\",\"10:30:00\",\"11:00:00\",\"11:30:00\",\"12:00:00\",\"12:30:00\",\"13:00:00\",\"13:30:00\",\"14:00:00\",\"14:30:00\",\"15:00:00\",\"15:30:00\",\"16:00:00\",\"16:30:00\",\"17:00:00\",\"17:30:00\",\"18:00:00\",\"18:30:00\",\"19:00:00\",\"19:30:00\",\"20:00:00\",\"20:30:00\",\"21:00:00\",\"21:30:00\",\"22:00:00\",\"22:30:00\",\"23:00:00\",\"23:30:00\"],\"y\":[4.884599685668945,5.352632522583008,5.686767578125,5.59523344039917,5.046366214752197,5.029233932495117,4.547567367553711,4.064533710479736,4.837033271789551,5.727266788482666,3.835566759109497,4.014466285705566,3.7200002670288086,3.7211670875549316,3.092899799346924,3.6857998371124268,3.9808335304260254,4.979966640472412,6.395599365234375,6.675200462341309,5.401433944702148,6.690200328826904,6.48093318939209,7.196267127990723,5.908599853515625,4.7947998046875,5.935999870300293,5.314199447631836,6.0993332862854,6.2769670486450195,5.802966594696045,7.11460018157959,5.6974005699157715,5.07383394241333,5.193300247192383,5.602233409881592,6.520066738128662,7.1071672439575195,6.550666332244873,7.019233226776123,6.257599830627441,4.81683349609375,4.140066623687744,4.2928338050842285,4.299866676330566,3.942699909210205,3.122166872024536,2.758833408355713],\"type\":\"scatter\"},{\"connectgaps\":false,\"marker\":{\"color\":\"rgb(220, 233, 211)\"},\"name\":\"2022-03-30\",\"x\":[\"00:00:00\",\"00:30:00\",\"01:00:00\",\"01:30:00\",\"02:00:00\",\"02:30:00\",\"03:00:00\",\"03:30:00\",\"04:00:00\",\"04:30:00\",\"05:00:00\",\"05:30:00\",\"06:00:00\",\"06:30:00\",\"07:00:00\",\"07:30:00\",\"08:00:00\",\"08:30:00\",\"09:00:00\",\"09:30:00\",\"10:00:00\",\"10:30:00\",\"11:00:00\",\"11:30:00\",\"12:00:00\",\"12:30:00\",\"13:00:00\",\"13:30:00\",\"14:00:00\",\"14:30:00\",\"15:00:00\",\"15:30:00\",\"16:00:00\",\"16:30:00\",\"17:00:00\",\"17:30:00\",\"18:00:00\",\"18:30:00\",\"19:00:00\",\"19:30:00\",\"20:00:00\",\"20:30:00\",\"21:00:00\",\"21:30:00\",\"22:00:00\",\"22:30:00\",\"23:00:00\",\"23:30:00\"],\"y\":[2.7079665660858154,3.0508339405059814,3.1324331760406494,3.3396661281585693,3.6261332035064697,2.76586651802063,1.9076334238052368,3.5848002433776855,3.459366798400879,3.437999963760376,3.0401666164398193,3.2748334407806396,4.658433437347412,5.3953657150268555,4.060366630554199,6.007166385650635,5.3752665519714355,5.06993293762207,6.14739990234375,5.306299209594727,5.006134033203125,5.978766918182373,6.27203369140625,6.594266891479492,7.1205668449401855,7.525065898895264,6.888833522796631,6.942166805267334,6.830333232879639,6.837567329406738,7.559032917022705,7.637866497039795,7.95490026473999,7.0727996826171875,7.024333477020264,6.178300380706787,5.316666603088379,6.359899997711182,4.893333435058594,3.9320669174194336,3.2936666011810303,3.5973665714263916,3.620633363723755,4.229567050933838,3.425166606903076,3.1203668117523193,3.691533088684082,3.624800205230713],\"type\":\"scatter\"},{\"connectgaps\":false,\"marker\":{\"color\":\"rgb(229, 229, 190)\"},\"name\":\"2022-04-05\",\"x\":[\"00:00:00\",\"00:30:00\",\"01:00:00\",\"01:30:00\",\"02:00:00\",\"02:30:00\",\"03:00:00\",\"03:30:00\",\"04:00:00\",\"04:30:00\",\"05:00:00\",\"05:30:00\",\"06:00:00\",\"06:30:00\",\"07:00:00\",\"07:30:00\",\"08:00:00\",\"08:30:00\",\"09:00:00\",\"09:30:00\",\"10:00:00\",\"10:30:00\",\"11:00:00\",\"11:30:00\",\"12:00:00\",\"12:30:00\",\"13:00:00\",\"13:30:00\",\"14:00:00\",\"14:30:00\",\"15:00:00\",\"15:30:00\",\"16:00:00\",\"16:30:00\",\"17:00:00\",\"17:30:00\",\"18:00:00\",\"18:30:00\",\"19:00:00\",\"19:30:00\",\"20:00:00\",\"20:30:00\",\"21:00:00\",\"21:30:00\",\"22:00:00\",\"22:30:00\",\"23:00:00\",\"23:30:00\"],\"y\":[4.377500057220459,3.3652334213256836,4.028833389282227,4.542633533477783,3.5841333866119385,4.135333061218262,3.246533155441284,2.869800090789795,3.5407330989837646,4.209366798400879,5.457766532897949,5.8114333152771,5.09220027923584,5.5717997550964355,5.923532962799072,6.233266353607178,6.248300075531006,6.383966445922852,6.0865325927734375,5.4434332847595215,5.329932689666748,3.9994001388549805,4.600400447845459,5.437365531921387,6.111099720001221,6.521599769592285,6.912001132965088,5.994767189025879,6.723666667938232,6.1284661293029785,5.838665962219238,5.833199977874756,5.325133323669434,5.387032985687256,5.64696741104126,5.422033786773682,5.877866744995117,6.651600360870361,6.022700309753418,5.507199287414551,6.1294660568237305,5.8025665283203125,5.865133285522461,5.97263240814209,5.235866069793701,5.140533447265625,4.176166534423828,4.64840030670166],\"type\":\"scatter\"},{\"connectgaps\":false,\"marker\":{\"color\":\"rgb(229, 228, 186)\"},\"name\":\"2022-04-06\",\"x\":[\"00:00:00\",\"00:30:00\",\"01:00:00\",\"01:30:00\",\"02:00:00\",\"02:30:00\",\"03:00:00\",\"03:30:00\",\"04:00:00\",\"04:30:00\",\"05:00:00\",\"05:30:00\",\"06:00:00\",\"06:30:00\",\"07:00:00\",\"07:30:00\",\"08:00:00\",\"08:30:00\",\"09:00:00\",\"09:30:00\",\"10:00:00\",\"10:30:00\",\"11:00:00\",\"11:30:00\",\"12:00:00\",\"12:30:00\",\"13:00:00\",\"13:30:00\",\"14:00:00\",\"14:30:00\",\"15:00:00\",\"15:30:00\",\"16:00:00\",\"16:30:00\",\"17:00:00\",\"17:30:00\",\"18:00:00\",\"18:30:00\",\"19:00:00\",\"19:30:00\",\"20:00:00\",\"20:30:00\",\"21:00:00\",\"21:30:00\",\"22:00:00\",\"22:30:00\",\"23:00:00\",\"23:30:00\"],\"y\":[5.51813268661499,5.051300048828125,4.13070011138916,4.092466354370117,4.70246696472168,4.804366111755371,5.270633220672607,5.283433437347412,5.0889668464660645,4.404266357421875,4.6566996574401855,4.1952667236328125,4.3094329833984375,3.6018333435058594,5.31786584854126,5.7397332191467285,5.056267261505127,5.465933799743652,7.1441330909729,7.422399520874023,7.629233360290527,6.6302995681762695,5.784266948699951,6.496800422668457,6.506165981292725,6.517333507537842,6.980833530426025,7.624300003051758,6.990166664123535,6.222399711608887,6.763766288757324,6.11193323135376,5.907299995422363,6.601600170135498,6.213799953460693,5.304867267608643,4.565000534057617,4.385133266448975,3.8625664710998535,3.6148667335510254,3.812533140182495,4.052866458892822,3.984633445739746,2.9763998985290527,3.4710001945495605,3.575366497039795,3.5913994312286377,3.7173335552215576],\"type\":\"scatter\"},{\"connectgaps\":false,\"marker\":{\"color\":\"rgb(234, 223, 162)\"},\"name\":\"2022-04-12\",\"x\":[\"00:00:00\",\"00:30:00\",\"01:00:00\",\"01:30:00\",\"02:00:00\",\"02:30:00\",\"03:00:00\",\"03:30:00\",\"04:00:00\",\"04:30:00\",\"05:00:00\",\"05:30:00\",\"06:00:00\",\"06:30:00\",\"07:00:00\",\"07:30:00\",\"08:00:00\",\"08:30:00\",\"09:00:00\",\"09:30:00\",\"10:00:00\",\"10:30:00\",\"11:00:00\",\"11:30:00\",\"12:00:00\",\"12:30:00\",\"13:00:00\",\"13:30:00\",\"14:00:00\",\"14:30:00\",\"15:00:00\",\"15:30:00\",\"16:00:00\",\"16:30:00\",\"17:00:00\",\"17:30:00\",\"18:00:00\",\"18:30:00\",\"19:00:00\",\"19:30:00\",\"20:00:00\",\"20:30:00\",\"21:00:00\",\"21:30:00\",\"22:00:00\",\"22:30:00\",\"23:00:00\",\"23:30:00\"],\"y\":[7.9384002685546875,7.062933444976807,8.484933853149414,6.333333492279053,6.822501182556152,5.44420051574707,5.9972333908081055,5.197500228881836,5.11660099029541,7.573500156402588,7.048332691192627,6.970999717712402,3.954233407974243,5.60926628112793,2.388833522796631,5.093433856964111,7.648699760437012,6.292733192443848,6.210200786590576,4.19023323059082,4.6707329750061035,4.341466903686523,4.494933605194092,4.922799587249756,3.665900230407715,4.91143274307251,3.705833673477173,4.408633232116699,4.538599967956543,4.534766674041748,3.385033130645752,2.2032666206359863,2.801466941833496,3.243999719619751,3.754899740219116,4.621533393859863,4.365233421325684,4.616866588592529,3.892900228500366,5.9781670570373535,4.592166423797607,3.614633083343506,3.2865331172943115,2.460766553878784,1.7683665752410889,1.5856000185012817,1.7453666925430298,2.4923999309539795],\"type\":\"scatter\"},{\"connectgaps\":false,\"marker\":{\"color\":\"rgb(235, 189, 41)\"},\"name\":\"2022-05-08\",\"x\":[\"00:00:00\",\"00:30:00\",\"01:00:00\",\"01:30:00\",\"02:00:00\",\"02:30:00\",\"03:00:00\",\"03:30:00\",\"04:00:00\",\"04:30:00\",\"05:00:00\",\"05:30:00\",\"06:00:00\",\"06:30:00\",\"07:00:00\",\"07:30:00\",\"08:00:00\",\"08:30:00\",\"09:00:00\",\"09:30:00\",\"10:00:00\",\"10:30:00\",\"11:00:00\",\"11:30:00\",\"12:00:00\",\"12:30:00\",\"13:00:00\",\"13:30:00\",\"14:00:00\",\"14:30:00\",\"15:00:00\",\"15:30:00\",\"16:00:00\",\"16:30:00\",\"17:00:00\",\"17:30:00\",\"18:00:00\",\"18:30:00\",\"19:00:00\",\"19:30:00\",\"20:00:00\",\"20:30:00\",\"21:00:00\",\"21:30:00\",\"22:00:00\",\"22:30:00\",\"23:00:00\",\"23:30:00\"],\"y\":[2.9984333515167236,2.025233268737793,2.4725663661956787,2.959233283996582,4.6837663650512695,5.235133171081543,4.00896692276001,3.9056999683380127,2.1029999256134033,3.0918004512786865,4.394699573516846,3.519366502761841,4.760566234588623,4.522733211517334,3.261899471282959,4.219566822052002,3.7145330905914307,4.7044997215271,4.124300003051758,4.9217000007629395,4.801900386810303,4.403199672698975,4.457366466522217,4.949532985687256,4.633500099182129,5.231900215148926,4.655200004577637,6.209067344665527,6.438567161560059,5.650999069213867,6.183600425720215,5.480733394622803,6.018365859985352,5.906167507171631,5.5630998611450195,5.0749993324279785,4.854432582855225,3.869333028793335,4.964433193206787,5.419566631317139,5.3181328773498535,6.941299915313721,6.151566028594971,6.153066635131836,5.938233375549316,7.594299793243408,7.090400218963623,8.39013385772705],\"type\":\"scatter\"},{\"connectgaps\":false,\"marker\":{\"color\":\"rgb(235, 188, 36)\"},\"name\":\"2022-05-09\",\"x\":[\"00:00:00\",\"00:30:00\",\"01:00:00\",\"01:30:00\",\"02:00:00\",\"02:30:00\",\"03:00:00\",\"03:30:00\",\"04:00:00\",\"04:30:00\",\"05:00:00\",\"05:30:00\",\"06:00:00\",\"06:30:00\",\"07:00:00\",\"07:30:00\",\"08:00:00\",\"08:30:00\",\"09:00:00\",\"09:30:00\",\"10:00:00\",\"10:30:00\",\"11:00:00\",\"11:30:00\",\"12:00:00\",\"12:30:00\",\"13:00:00\",\"13:30:00\",\"14:00:00\",\"14:30:00\",\"15:00:00\",\"15:30:00\",\"16:00:00\",\"16:30:00\",\"17:00:00\",\"17:30:00\",\"18:00:00\",\"18:30:00\",\"19:00:00\",\"19:30:00\",\"20:00:00\",\"20:30:00\",\"21:00:00\",\"21:30:00\",\"22:00:00\",\"22:30:00\",\"23:00:00\",\"23:30:00\"],\"y\":[8.623632431030273,6.867300510406494,7.361700057983398,7.86003303527832,7.837399482727051,8.264033317565918,8.073533058166504,7.842566013336182,8.421666145324707,8.104266166687012,6.902299404144287,5.937733173370361,5.233033180236816,5.257599353790283,6.099999904632568,5.624933242797852,4.698699951171875,3.843566656112671,3.974233865737915,3.9860000610351562,3.812466859817505,3.6854329109191895,3.839233160018921,4.393033981323242,4.4275336265563965,4.8222336769104,5.353066921234131,4.950867176055908,5.3729658126831055,5.485400199890137,5.0933661460876465,4.52346658706665,5.053366661071777,4.540499687194824,4.039400100708008,5.9819655418396,4.691400051116943,3.2141335010528564,2.689199924468994,2.5624334812164307,2.242933511734009,2.8229334354400635,3.9434666633605957,4.5111002922058105,4.037399768829346,4.3100666999816895,4.747766494750977,3.96643328666687],\"type\":\"scatter\"},{\"connectgaps\":false,\"line\":{\"dash\":\"dash\",\"width\":3},\"marker\":{\"color\":\"black\"},\"name\":\"mean\",\"x\":[\"00:00:00\",\"00:30:00\",\"01:00:00\",\"01:30:00\",\"02:00:00\",\"02:30:00\",\"03:00:00\",\"03:30:00\",\"04:00:00\",\"04:30:00\",\"05:00:00\",\"05:30:00\",\"06:00:00\",\"06:30:00\",\"07:00:00\",\"07:30:00\",\"08:00:00\",\"08:30:00\",\"09:00:00\",\"09:30:00\",\"10:00:00\",\"10:30:00\",\"11:00:00\",\"11:30:00\",\"12:00:00\",\"12:30:00\",\"13:00:00\",\"13:30:00\",\"14:00:00\",\"14:30:00\",\"15:00:00\",\"15:30:00\",\"16:00:00\",\"16:30:00\",\"17:00:00\",\"17:30:00\",\"18:00:00\",\"18:30:00\",\"19:00:00\",\"19:30:00\",\"20:00:00\",\"20:30:00\",\"21:00:00\",\"21:30:00\",\"22:00:00\",\"22:30:00\",\"23:00:00\",\"23:30:00\"],\"y\":[5.030788898468018,4.648581504821777,4.699344635009766,4.712144374847412,5.085414886474609,4.961511135101318,4.635251998901367,4.538589000701904,4.566247940063477,5.119396209716797,4.848445415496826,5.659513473510742,5.082174301147461,5.000818252563477,4.465129375457764,5.198403835296631,5.480425834655762,5.4971923828125,5.7777886390686035,5.844292640686035,5.669092655181885,5.681840896606445,5.714418411254883,6.142322063446045,6.0328369140625,6.449373722076416,6.594141006469727,6.5769853591918945,6.61287784576416,6.158718585968018,5.88822603225708,5.6342668533325195,5.565948009490967,5.34858512878418,5.256900310516357,5.23837423324585,5.252477645874023,5.33942985534668,5.076814651489258,5.125066757202148,4.750481605529785,5.017000198364258,4.855381488800049,4.631577968597412,4.238466262817383,4.381377696990967,4.10896635055542,4.20935583114624],\"type\":\"scatter\"}],                        {\"template\":{\"data\":{\"histogram2dcontour\":[{\"type\":\"histogram2dcontour\",\"colorbar\":{\"outlinewidth\":0,\"ticks\":\"\"},\"colorscale\":[[0.0,\"#0d0887\"],[0.1111111111111111,\"#46039f\"],[0.2222222222222222,\"#7201a8\"],[0.3333333333333333,\"#9c179e\"],[0.4444444444444444,\"#bd3786\"],[0.5555555555555556,\"#d8576b\"],[0.6666666666666666,\"#ed7953\"],[0.7777777777777778,\"#fb9f3a\"],[0.8888888888888888,\"#fdca26\"],[1.0,\"#f0f921\"]]}],\"choropleth\":[{\"type\":\"choropleth\",\"colorbar\":{\"outlinewidth\":0,\"ticks\":\"\"}}],\"histogram2d\":[{\"type\":\"histogram2d\",\"colorbar\":{\"outlinewidth\":0,\"ticks\":\"\"},\"colorscale\":[[0.0,\"#0d0887\"],[0.1111111111111111,\"#46039f\"],[0.2222222222222222,\"#7201a8\"],[0.3333333333333333,\"#9c179e\"],[0.4444444444444444,\"#bd3786\"],[0.5555555555555556,\"#d8576b\"],[0.6666666666666666,\"#ed7953\"],[0.7777777777777778,\"#fb9f3a\"],[0.8888888888888888,\"#fdca26\"],[1.0,\"#f0f921\"]]}],\"heatmap\":[{\"type\":\"heatmap\",\"colorbar\":{\"outlinewidth\":0,\"ticks\":\"\"},\"colorscale\":[[0.0,\"#0d0887\"],[0.1111111111111111,\"#46039f\"],[0.2222222222222222,\"#7201a8\"],[0.3333333333333333,\"#9c179e\"],[0.4444444444444444,\"#bd3786\"],[0.5555555555555556,\"#d8576b\"],[0.6666666666666666,\"#ed7953\"],[0.7777777777777778,\"#fb9f3a\"],[0.8888888888888888,\"#fdca26\"],[1.0,\"#f0f921\"]]}],\"heatmapgl\":[{\"type\":\"heatmapgl\",\"colorbar\":{\"outlinewidth\":0,\"ticks\":\"\"},\"colorscale\":[[0.0,\"#0d0887\"],[0.1111111111111111,\"#46039f\"],[0.2222222222222222,\"#7201a8\"],[0.3333333333333333,\"#9c179e\"],[0.4444444444444444,\"#bd3786\"],[0.5555555555555556,\"#d8576b\"],[0.6666666666666666,\"#ed7953\"],[0.7777777777777778,\"#fb9f3a\"],[0.8888888888888888,\"#fdca26\"],[1.0,\"#f0f921\"]]}],\"contourcarpet\":[{\"type\":\"contourcarpet\",\"colorbar\":{\"outlinewidth\":0,\"ticks\":\"\"}}],\"contour\":[{\"type\":\"contour\",\"colorbar\":{\"outlinewidth\":0,\"ticks\":\"\"},\"colorscale\":[[0.0,\"#0d0887\"],[0.1111111111111111,\"#46039f\"],[0.2222222222222222,\"#7201a8\"],[0.3333333333333333,\"#9c179e\"],[0.4444444444444444,\"#bd3786\"],[0.5555555555555556,\"#d8576b\"],[0.6666666666666666,\"#ed7953\"],[0.7777777777777778,\"#fb9f3a\"],[0.8888888888888888,\"#fdca26\"],[1.0,\"#f0f921\"]]}],\"surface\":[{\"type\":\"surface\",\"colorbar\":{\"outlinewidth\":0,\"ticks\":\"\"},\"colorscale\":[[0.0,\"#0d0887\"],[0.1111111111111111,\"#46039f\"],[0.2222222222222222,\"#7201a8\"],[0.3333333333333333,\"#9c179e\"],[0.4444444444444444,\"#bd3786\"],[0.5555555555555556,\"#d8576b\"],[0.6666666666666666,\"#ed7953\"],[0.7777777777777778,\"#fb9f3a\"],[0.8888888888888888,\"#fdca26\"],[1.0,\"#f0f921\"]]}],\"mesh3d\":[{\"type\":\"mesh3d\",\"colorbar\":{\"outlinewidth\":0,\"ticks\":\"\"}}],\"scatter\":[{\"fillpattern\":{\"fillmode\":\"overlay\",\"size\":10,\"solidity\":0.2},\"type\":\"scatter\"}],\"parcoords\":[{\"type\":\"parcoords\",\"line\":{\"colorbar\":{\"outlinewidth\":0,\"ticks\":\"\"}}}],\"scatterpolargl\":[{\"type\":\"scatterpolargl\",\"marker\":{\"colorbar\":{\"outlinewidth\":0,\"ticks\":\"\"}}}],\"bar\":[{\"error_x\":{\"color\":\"#2a3f5f\"},\"error_y\":{\"color\":\"#2a3f5f\"},\"marker\":{\"line\":{\"color\":\"#E5ECF6\",\"width\":0.5},\"pattern\":{\"fillmode\":\"overlay\",\"size\":10,\"solidity\":0.2}},\"type\":\"bar\"}],\"scattergeo\":[{\"type\":\"scattergeo\",\"marker\":{\"colorbar\":{\"outlinewidth\":0,\"ticks\":\"\"}}}],\"scatterpolar\":[{\"type\":\"scatterpolar\",\"marker\":{\"colorbar\":{\"outlinewidth\":0,\"ticks\":\"\"}}}],\"histogram\":[{\"marker\":{\"pattern\":{\"fillmode\":\"overlay\",\"size\":10,\"solidity\":0.2}},\"type\":\"histogram\"}],\"scattergl\":[{\"type\":\"scattergl\",\"marker\":{\"colorbar\":{\"outlinewidth\":0,\"ticks\":\"\"}}}],\"scatter3d\":[{\"type\":\"scatter3d\",\"line\":{\"colorbar\":{\"outlinewidth\":0,\"ticks\":\"\"}},\"marker\":{\"colorbar\":{\"outlinewidth\":0,\"ticks\":\"\"}}}],\"scattermapbox\":[{\"type\":\"scattermapbox\",\"marker\":{\"colorbar\":{\"outlinewidth\":0,\"ticks\":\"\"}}}],\"scatterternary\":[{\"type\":\"scatterternary\",\"marker\":{\"colorbar\":{\"outlinewidth\":0,\"ticks\":\"\"}}}],\"scattercarpet\":[{\"type\":\"scattercarpet\",\"marker\":{\"colorbar\":{\"outlinewidth\":0,\"ticks\":\"\"}}}],\"carpet\":[{\"aaxis\":{\"endlinecolor\":\"#2a3f5f\",\"gridcolor\":\"white\",\"linecolor\":\"white\",\"minorgridcolor\":\"white\",\"startlinecolor\":\"#2a3f5f\"},\"baxis\":{\"endlinecolor\":\"#2a3f5f\",\"gridcolor\":\"white\",\"linecolor\":\"white\",\"minorgridcolor\":\"white\",\"startlinecolor\":\"#2a3f5f\"},\"type\":\"carpet\"}],\"table\":[{\"cells\":{\"fill\":{\"color\":\"#EBF0F8\"},\"line\":{\"color\":\"white\"}},\"header\":{\"fill\":{\"color\":\"#C8D4E3\"},\"line\":{\"color\":\"white\"}},\"type\":\"table\"}],\"barpolar\":[{\"marker\":{\"line\":{\"color\":\"#E5ECF6\",\"width\":0.5},\"pattern\":{\"fillmode\":\"overlay\",\"size\":10,\"solidity\":0.2}},\"type\":\"barpolar\"}],\"pie\":[{\"automargin\":true,\"type\":\"pie\"}]},\"layout\":{\"autotypenumbers\":\"strict\",\"colorway\":[\"#636efa\",\"#EF553B\",\"#00cc96\",\"#ab63fa\",\"#FFA15A\",\"#19d3f3\",\"#FF6692\",\"#B6E880\",\"#FF97FF\",\"#FECB52\"],\"font\":{\"color\":\"#2a3f5f\"},\"hovermode\":\"closest\",\"hoverlabel\":{\"align\":\"left\"},\"paper_bgcolor\":\"white\",\"plot_bgcolor\":\"#E5ECF6\",\"polar\":{\"bgcolor\":\"#E5ECF6\",\"angularaxis\":{\"gridcolor\":\"white\",\"linecolor\":\"white\",\"ticks\":\"\"},\"radialaxis\":{\"gridcolor\":\"white\",\"linecolor\":\"white\",\"ticks\":\"\"}},\"ternary\":{\"bgcolor\":\"#E5ECF6\",\"aaxis\":{\"gridcolor\":\"white\",\"linecolor\":\"white\",\"ticks\":\"\"},\"baxis\":{\"gridcolor\":\"white\",\"linecolor\":\"white\",\"ticks\":\"\"},\"caxis\":{\"gridcolor\":\"white\",\"linecolor\":\"white\",\"ticks\":\"\"}},\"coloraxis\":{\"colorbar\":{\"outlinewidth\":0,\"ticks\":\"\"}},\"colorscale\":{\"sequential\":[[0.0,\"#0d0887\"],[0.1111111111111111,\"#46039f\"],[0.2222222222222222,\"#7201a8\"],[0.3333333333333333,\"#9c179e\"],[0.4444444444444444,\"#bd3786\"],[0.5555555555555556,\"#d8576b\"],[0.6666666666666666,\"#ed7953\"],[0.7777777777777778,\"#fb9f3a\"],[0.8888888888888888,\"#fdca26\"],[1.0,\"#f0f921\"]],\"sequentialminus\":[[0.0,\"#0d0887\"],[0.1111111111111111,\"#46039f\"],[0.2222222222222222,\"#7201a8\"],[0.3333333333333333,\"#9c179e\"],[0.4444444444444444,\"#bd3786\"],[0.5555555555555556,\"#d8576b\"],[0.6666666666666666,\"#ed7953\"],[0.7777777777777778,\"#fb9f3a\"],[0.8888888888888888,\"#fdca26\"],[1.0,\"#f0f921\"]],\"diverging\":[[0,\"#8e0152\"],[0.1,\"#c51b7d\"],[0.2,\"#de77ae\"],[0.3,\"#f1b6da\"],[0.4,\"#fde0ef\"],[0.5,\"#f7f7f7\"],[0.6,\"#e6f5d0\"],[0.7,\"#b8e186\"],[0.8,\"#7fbc41\"],[0.9,\"#4d9221\"],[1,\"#276419\"]]},\"xaxis\":{\"gridcolor\":\"white\",\"linecolor\":\"white\",\"ticks\":\"\",\"title\":{\"standoff\":15},\"zerolinecolor\":\"white\",\"automargin\":true,\"zerolinewidth\":2},\"yaxis\":{\"gridcolor\":\"white\",\"linecolor\":\"white\",\"ticks\":\"\",\"title\":{\"standoff\":15},\"zerolinecolor\":\"white\",\"automargin\":true,\"zerolinewidth\":2},\"scene\":{\"xaxis\":{\"backgroundcolor\":\"#E5ECF6\",\"gridcolor\":\"white\",\"linecolor\":\"white\",\"showbackground\":true,\"ticks\":\"\",\"zerolinecolor\":\"white\",\"gridwidth\":2},\"yaxis\":{\"backgroundcolor\":\"#E5ECF6\",\"gridcolor\":\"white\",\"linecolor\":\"white\",\"showbackground\":true,\"ticks\":\"\",\"zerolinecolor\":\"white\",\"gridwidth\":2},\"zaxis\":{\"backgroundcolor\":\"#E5ECF6\",\"gridcolor\":\"white\",\"linecolor\":\"white\",\"showbackground\":true,\"ticks\":\"\",\"zerolinecolor\":\"white\",\"gridwidth\":2}},\"shapedefaults\":{\"line\":{\"color\":\"#2a3f5f\"}},\"annotationdefaults\":{\"arrowcolor\":\"#2a3f5f\",\"arrowhead\":0,\"arrowwidth\":1},\"geo\":{\"bgcolor\":\"white\",\"landcolor\":\"#E5ECF6\",\"subunitcolor\":\"white\",\"showland\":true,\"showlakes\":true,\"lakecolor\":\"white\"},\"title\":{\"x\":0.05},\"mapbox\":{\"style\":\"light\"}}},\"hovermode\":\"x unified\",\"yaxis\":{\"title\":{\"text\":\"Wind Speed (m\\u002fs)\"}},\"xaxis\":{\"title\":{\"text\":\"Time of Day (Local)\"}},\"title\":{\"text\":\"Wind Speeds on UW Tower during highest 5th percentile windy days\"}},                        {\"responsive\": true}                    ).then(function(){\n",
       "                            \n",
       "var gd = document.getElementById('a1c6b054-bbd8-4ae3-adb6-e6dde2a31c73');\n",
       "var x = new MutationObserver(function (mutations, observer) {{\n",
       "        var display = window.getComputedStyle(gd).display;\n",
       "        if (!display || display === 'none') {{\n",
       "            console.log([gd, 'removed!']);\n",
       "            Plotly.purge(gd);\n",
       "            observer.disconnect();\n",
       "        }}\n",
       "}});\n",
       "\n",
       "// Listen for the removal of the full notebook cells\n",
       "var notebookContainer = gd.closest('#notebook-container');\n",
       "if (notebookContainer) {{\n",
       "    x.observe(notebookContainer, {childList: true});\n",
       "}}\n",
       "\n",
       "// Listen for the clearing of the current output cell\n",
       "var outputEl = gd.closest('.output');\n",
       "if (outputEl) {{\n",
       "    x.observe(outputEl, {childList: true});\n",
       "}}\n",
       "\n",
       "                        })                };                });            </script>        </div>"
      ]
     },
     "metadata": {},
     "output_type": "display_data"
    }
   ],
   "source": [
    "\n",
    "# iterate through the dates and plot the wind speed at 10m on uw tower over the day. Color by the day of water year\n",
    "fig = go.Figure()\n",
    "for date in sail_30min_windy_wind_df.date.unique():\n",
    "    # get the day of water year\n",
    "    day_of_water_year = get_day_of_water_year(date)\n",
    "    # get the data for the date\n",
    "    df = sail_30min_windy_wind_df[sail_30min_windy_wind_df.date == date]\n",
    "    # plot the data\n",
    "    fig.add_trace(go.Scatter(\n",
    "        x=df['time'], \n",
    "        y=df['wspd_arith_mean'],\n",
    "        name=f\"{date}\",\n",
    "        marker_color=color_dict[day_of_water_year],\n",
    "        connectgaps=False\n",
    "    ))\n",
    "# add the mean line with a heavier lineweight\n",
    "fig.add_trace(go.Scatter(\n",
    "    x=sail_30min_windy_time_avg.index, \n",
    "    y=sail_30min_windy_time_avg.values,\n",
    "    name=f\"mean\",\n",
    "    marker_color='black',\n",
    "    connectgaps=False,\n",
    "    line=dict(dash='dash'),\n",
    "    line_width=3\n",
    "))\n",
    "# update to show all hover data and not just the closest point\n",
    "fig.update_layout(hovermode=\"x unified\",\n",
    "                  yaxis_title='Wind Speed (m/s)',\n",
    "                    xaxis_title='Time of Day (Local)',\n",
    "                    title='Wind Speeds on UW Tower during highest 5th percentile windy days',\n",
    ")\n",
    "fig"
   ]
  },
  {
   "cell_type": "code",
   "execution_count": 96,
   "metadata": {},
   "outputs": [
    {
     "name": "stderr",
     "output_type": "stream",
     "text": [
      "The default of observed=False is deprecated and will be changed to True in a future version of pandas. Pass observed=False to retain current behavior or observed=True to adopt the future default and silence this warning.\n",
      "The default of observed=False is deprecated and will be changed to True in a future version of pandas. Pass observed=False to retain current behavior or observed=True to adopt the future default and silence this warning.\n"
     ]
    },
    {
     "data": {
      "application/vnd.plotly.v1+json": {
       "config": {
        "plotlyServerURL": "https://plot.ly"
       },
       "data": [
        {
         "hovertemplate": "speed=0-2<br>frequency=%{r}<br>direction=%{theta}<extra></extra>",
         "legendgroup": "0-2",
         "marker": {
          "color": "#f0f921",
          "pattern": {
           "shape": ""
          }
         },
         "name": "0-2",
         "r": [
          0.9259259259259259,
          0,
          0,
          0,
          0.46296296296296297,
          0.9259259259259259,
          0.46296296296296297,
          0,
          0,
          0,
          0,
          0,
          0,
          0,
          0,
          0
         ],
         "showlegend": true,
         "subplot": "polar",
         "theta": [
          "N",
          "NNE",
          "NE",
          "ENE",
          "E",
          "ESE",
          "SE",
          "SSE",
          "S",
          "SSW",
          "SW",
          "WSW",
          "W",
          "WNW",
          "NW",
          "NNW"
         ],
         "type": "barpolar"
        },
        {
         "hovertemplate": "speed=2-4<br>frequency=%{r}<br>direction=%{theta}<extra></extra>",
         "legendgroup": "2-4",
         "marker": {
          "color": "#fdca26",
          "pattern": {
           "shape": ""
          }
         },
         "name": "2-4",
         "r": [
          5.787037037037037,
          1.1574074074074074,
          0,
          0.9259259259259259,
          2.314814814814815,
          1.6203703703703705,
          0.9259259259259259,
          1.1574074074074074,
          0,
          0.46296296296296297,
          0,
          0.23148148148148148,
          0.23148148148148148,
          0.46296296296296297,
          2.314814814814815,
          4.398148148148148
         ],
         "showlegend": true,
         "subplot": "polar",
         "theta": [
          "N",
          "NNE",
          "NE",
          "ENE",
          "E",
          "ESE",
          "SE",
          "SSE",
          "S",
          "SSW",
          "SW",
          "WSW",
          "W",
          "WNW",
          "NW",
          "NNW"
         ],
         "type": "barpolar"
        },
        {
         "hovertemplate": "speed=4-6<br>frequency=%{r}<br>direction=%{theta}<extra></extra>",
         "legendgroup": "4-6",
         "marker": {
          "color": "#fb9f3a",
          "pattern": {
           "shape": ""
          }
         },
         "name": "4-6",
         "r": [
          8.564814814814815,
          0.23148148148148148,
          0.23148148148148148,
          1.1574074074074074,
          6.018518518518518,
          3.4722222222222223,
          1.6203703703703705,
          0.23148148148148148,
          0.23148148148148148,
          0,
          0,
          0,
          0,
          1.6203703703703705,
          6.712962962962963,
          12.037037037037036
         ],
         "showlegend": true,
         "subplot": "polar",
         "theta": [
          "N",
          "NNE",
          "NE",
          "ENE",
          "E",
          "ESE",
          "SE",
          "SSE",
          "S",
          "SSW",
          "SW",
          "WSW",
          "W",
          "WNW",
          "NW",
          "NNW"
         ],
         "type": "barpolar"
        },
        {
         "hovertemplate": "speed=6-8<br>frequency=%{r}<br>direction=%{theta}<extra></extra>",
         "legendgroup": "6-8",
         "marker": {
          "color": "#ed7953",
          "pattern": {
           "shape": ""
          }
         },
         "name": "6-8",
         "r": [
          3.7037037037037037,
          0,
          0,
          0,
          3.4722222222222223,
          1.3888888888888888,
          0.46296296296296297,
          0,
          0,
          0,
          0,
          0,
          0,
          0.23148148148148148,
          11.574074074074074,
          7.407407407407407
         ],
         "showlegend": true,
         "subplot": "polar",
         "theta": [
          "N",
          "NNE",
          "NE",
          "ENE",
          "E",
          "ESE",
          "SE",
          "SSE",
          "S",
          "SSW",
          "SW",
          "WSW",
          "W",
          "WNW",
          "NW",
          "NNW"
         ],
         "type": "barpolar"
        },
        {
         "hovertemplate": "speed=8-10<br>frequency=%{r}<br>direction=%{theta}<extra></extra>",
         "legendgroup": "8-10",
         "marker": {
          "color": "#d8576b",
          "pattern": {
           "shape": ""
          }
         },
         "name": "8-10",
         "r": [
          0.23148148148148148,
          0,
          0,
          0,
          0.9259259259259259,
          0.46296296296296297,
          0.23148148148148148,
          0,
          0,
          0,
          0,
          0,
          0,
          0,
          0,
          2.5462962962962963
         ],
         "showlegend": true,
         "subplot": "polar",
         "theta": [
          "N",
          "NNE",
          "NE",
          "ENE",
          "E",
          "ESE",
          "SE",
          "SSE",
          "S",
          "SSW",
          "SW",
          "WSW",
          "W",
          "WNW",
          "NW",
          "NNW"
         ],
         "type": "barpolar"
        },
        {
         "hovertemplate": "speed=10-12<br>frequency=%{r}<br>direction=%{theta}<extra></extra>",
         "legendgroup": "10-12",
         "marker": {
          "color": "#bd3786",
          "pattern": {
           "shape": ""
          }
         },
         "name": "10-12",
         "r": [
          0,
          0,
          0,
          0,
          0,
          0,
          0,
          0,
          0,
          0,
          0,
          0,
          0,
          0,
          0,
          0.46296296296296297
         ],
         "showlegend": true,
         "subplot": "polar",
         "theta": [
          "N",
          "NNE",
          "NE",
          "ENE",
          "E",
          "ESE",
          "SE",
          "SSE",
          "S",
          "SSW",
          "SW",
          "WSW",
          "W",
          "WNW",
          "NW",
          "NNW"
         ],
         "type": "barpolar"
        },
        {
         "hovertemplate": "speed=12-14<br>frequency=%{r}<br>direction=%{theta}<extra></extra>",
         "legendgroup": "12-14",
         "marker": {
          "color": "#9c179e",
          "pattern": {
           "shape": ""
          }
         },
         "name": "12-14",
         "r": [
          0,
          0,
          0,
          0,
          0,
          0,
          0,
          0,
          0,
          0,
          0,
          0,
          0,
          0,
          0,
          0
         ],
         "showlegend": true,
         "subplot": "polar",
         "theta": [
          "N",
          "NNE",
          "NE",
          "ENE",
          "E",
          "ESE",
          "SE",
          "SSE",
          "S",
          "SSW",
          "SW",
          "WSW",
          "W",
          "WNW",
          "NW",
          "NNW"
         ],
         "type": "barpolar"
        },
        {
         "hovertemplate": "speed=>14+<br>frequency=%{r}<br>direction=%{theta}<extra></extra>",
         "legendgroup": ">14+",
         "marker": {
          "color": "#7201a8",
          "pattern": {
           "shape": ""
          }
         },
         "name": ">14+",
         "r": [
          0,
          0,
          0,
          0,
          0,
          0,
          0,
          0,
          0,
          0,
          0,
          0,
          0,
          0,
          0,
          0
         ],
         "showlegend": true,
         "subplot": "polar",
         "theta": [
          "N",
          "NNE",
          "NE",
          "ENE",
          "E",
          "ESE",
          "SE",
          "SSE",
          "S",
          "SSW",
          "SW",
          "WSW",
          "W",
          "WNW",
          "NW",
          "NNW"
         ],
         "type": "barpolar"
        }
       ],
       "layout": {
        "barmode": "relative",
        "barnorm": "percent",
        "font": {
         "size": 12
        },
        "height": 500,
        "legend": {
         "title": {
          "text": "speed"
         },
         "tracegroupgap": 0
        },
        "margin": {
         "t": 60
        },
        "polar": {
         "angularaxis": {
          "direction": "clockwise",
          "rotation": 90
         },
         "domain": {
          "x": [
           0,
           1
          ],
          "y": [
           0,
           1
          ]
         },
         "radialaxis": {
          "angle": 45,
          "range": [
           0,
           30
          ],
          "showgrid": true,
          "showline": false,
          "showticklabels": true,
          "tickfont": {
           "size": 14
          },
          "ticksuffix": "%"
         }
        },
        "template": {
         "data": {
          "bar": [
           {
            "error_x": {
             "color": "#f2f5fa"
            },
            "error_y": {
             "color": "#f2f5fa"
            },
            "marker": {
             "line": {
              "color": "rgb(17,17,17)",
              "width": 0.5
             },
             "pattern": {
              "fillmode": "overlay",
              "size": 10,
              "solidity": 0.2
             }
            },
            "type": "bar"
           }
          ],
          "barpolar": [
           {
            "marker": {
             "line": {
              "color": "rgb(17,17,17)",
              "width": 0.5
             },
             "pattern": {
              "fillmode": "overlay",
              "size": 10,
              "solidity": 0.2
             }
            },
            "type": "barpolar"
           }
          ],
          "carpet": [
           {
            "aaxis": {
             "endlinecolor": "#A2B1C6",
             "gridcolor": "#506784",
             "linecolor": "#506784",
             "minorgridcolor": "#506784",
             "startlinecolor": "#A2B1C6"
            },
            "baxis": {
             "endlinecolor": "#A2B1C6",
             "gridcolor": "#506784",
             "linecolor": "#506784",
             "minorgridcolor": "#506784",
             "startlinecolor": "#A2B1C6"
            },
            "type": "carpet"
           }
          ],
          "choropleth": [
           {
            "colorbar": {
             "outlinewidth": 0,
             "ticks": ""
            },
            "type": "choropleth"
           }
          ],
          "contour": [
           {
            "colorbar": {
             "outlinewidth": 0,
             "ticks": ""
            },
            "colorscale": [
             [
              0,
              "#0d0887"
             ],
             [
              0.1111111111111111,
              "#46039f"
             ],
             [
              0.2222222222222222,
              "#7201a8"
             ],
             [
              0.3333333333333333,
              "#9c179e"
             ],
             [
              0.4444444444444444,
              "#bd3786"
             ],
             [
              0.5555555555555556,
              "#d8576b"
             ],
             [
              0.6666666666666666,
              "#ed7953"
             ],
             [
              0.7777777777777778,
              "#fb9f3a"
             ],
             [
              0.8888888888888888,
              "#fdca26"
             ],
             [
              1,
              "#f0f921"
             ]
            ],
            "type": "contour"
           }
          ],
          "contourcarpet": [
           {
            "colorbar": {
             "outlinewidth": 0,
             "ticks": ""
            },
            "type": "contourcarpet"
           }
          ],
          "heatmap": [
           {
            "colorbar": {
             "outlinewidth": 0,
             "ticks": ""
            },
            "colorscale": [
             [
              0,
              "#0d0887"
             ],
             [
              0.1111111111111111,
              "#46039f"
             ],
             [
              0.2222222222222222,
              "#7201a8"
             ],
             [
              0.3333333333333333,
              "#9c179e"
             ],
             [
              0.4444444444444444,
              "#bd3786"
             ],
             [
              0.5555555555555556,
              "#d8576b"
             ],
             [
              0.6666666666666666,
              "#ed7953"
             ],
             [
              0.7777777777777778,
              "#fb9f3a"
             ],
             [
              0.8888888888888888,
              "#fdca26"
             ],
             [
              1,
              "#f0f921"
             ]
            ],
            "type": "heatmap"
           }
          ],
          "heatmapgl": [
           {
            "colorbar": {
             "outlinewidth": 0,
             "ticks": ""
            },
            "colorscale": [
             [
              0,
              "#0d0887"
             ],
             [
              0.1111111111111111,
              "#46039f"
             ],
             [
              0.2222222222222222,
              "#7201a8"
             ],
             [
              0.3333333333333333,
              "#9c179e"
             ],
             [
              0.4444444444444444,
              "#bd3786"
             ],
             [
              0.5555555555555556,
              "#d8576b"
             ],
             [
              0.6666666666666666,
              "#ed7953"
             ],
             [
              0.7777777777777778,
              "#fb9f3a"
             ],
             [
              0.8888888888888888,
              "#fdca26"
             ],
             [
              1,
              "#f0f921"
             ]
            ],
            "type": "heatmapgl"
           }
          ],
          "histogram": [
           {
            "marker": {
             "pattern": {
              "fillmode": "overlay",
              "size": 10,
              "solidity": 0.2
             }
            },
            "type": "histogram"
           }
          ],
          "histogram2d": [
           {
            "colorbar": {
             "outlinewidth": 0,
             "ticks": ""
            },
            "colorscale": [
             [
              0,
              "#0d0887"
             ],
             [
              0.1111111111111111,
              "#46039f"
             ],
             [
              0.2222222222222222,
              "#7201a8"
             ],
             [
              0.3333333333333333,
              "#9c179e"
             ],
             [
              0.4444444444444444,
              "#bd3786"
             ],
             [
              0.5555555555555556,
              "#d8576b"
             ],
             [
              0.6666666666666666,
              "#ed7953"
             ],
             [
              0.7777777777777778,
              "#fb9f3a"
             ],
             [
              0.8888888888888888,
              "#fdca26"
             ],
             [
              1,
              "#f0f921"
             ]
            ],
            "type": "histogram2d"
           }
          ],
          "histogram2dcontour": [
           {
            "colorbar": {
             "outlinewidth": 0,
             "ticks": ""
            },
            "colorscale": [
             [
              0,
              "#0d0887"
             ],
             [
              0.1111111111111111,
              "#46039f"
             ],
             [
              0.2222222222222222,
              "#7201a8"
             ],
             [
              0.3333333333333333,
              "#9c179e"
             ],
             [
              0.4444444444444444,
              "#bd3786"
             ],
             [
              0.5555555555555556,
              "#d8576b"
             ],
             [
              0.6666666666666666,
              "#ed7953"
             ],
             [
              0.7777777777777778,
              "#fb9f3a"
             ],
             [
              0.8888888888888888,
              "#fdca26"
             ],
             [
              1,
              "#f0f921"
             ]
            ],
            "type": "histogram2dcontour"
           }
          ],
          "mesh3d": [
           {
            "colorbar": {
             "outlinewidth": 0,
             "ticks": ""
            },
            "type": "mesh3d"
           }
          ],
          "parcoords": [
           {
            "line": {
             "colorbar": {
              "outlinewidth": 0,
              "ticks": ""
             }
            },
            "type": "parcoords"
           }
          ],
          "pie": [
           {
            "automargin": true,
            "type": "pie"
           }
          ],
          "scatter": [
           {
            "marker": {
             "line": {
              "color": "#283442"
             }
            },
            "type": "scatter"
           }
          ],
          "scatter3d": [
           {
            "line": {
             "colorbar": {
              "outlinewidth": 0,
              "ticks": ""
             }
            },
            "marker": {
             "colorbar": {
              "outlinewidth": 0,
              "ticks": ""
             }
            },
            "type": "scatter3d"
           }
          ],
          "scattercarpet": [
           {
            "marker": {
             "colorbar": {
              "outlinewidth": 0,
              "ticks": ""
             }
            },
            "type": "scattercarpet"
           }
          ],
          "scattergeo": [
           {
            "marker": {
             "colorbar": {
              "outlinewidth": 0,
              "ticks": ""
             }
            },
            "type": "scattergeo"
           }
          ],
          "scattergl": [
           {
            "marker": {
             "line": {
              "color": "#283442"
             }
            },
            "type": "scattergl"
           }
          ],
          "scattermapbox": [
           {
            "marker": {
             "colorbar": {
              "outlinewidth": 0,
              "ticks": ""
             }
            },
            "type": "scattermapbox"
           }
          ],
          "scatterpolar": [
           {
            "marker": {
             "colorbar": {
              "outlinewidth": 0,
              "ticks": ""
             }
            },
            "type": "scatterpolar"
           }
          ],
          "scatterpolargl": [
           {
            "marker": {
             "colorbar": {
              "outlinewidth": 0,
              "ticks": ""
             }
            },
            "type": "scatterpolargl"
           }
          ],
          "scatterternary": [
           {
            "marker": {
             "colorbar": {
              "outlinewidth": 0,
              "ticks": ""
             }
            },
            "type": "scatterternary"
           }
          ],
          "surface": [
           {
            "colorbar": {
             "outlinewidth": 0,
             "ticks": ""
            },
            "colorscale": [
             [
              0,
              "#0d0887"
             ],
             [
              0.1111111111111111,
              "#46039f"
             ],
             [
              0.2222222222222222,
              "#7201a8"
             ],
             [
              0.3333333333333333,
              "#9c179e"
             ],
             [
              0.4444444444444444,
              "#bd3786"
             ],
             [
              0.5555555555555556,
              "#d8576b"
             ],
             [
              0.6666666666666666,
              "#ed7953"
             ],
             [
              0.7777777777777778,
              "#fb9f3a"
             ],
             [
              0.8888888888888888,
              "#fdca26"
             ],
             [
              1,
              "#f0f921"
             ]
            ],
            "type": "surface"
           }
          ],
          "table": [
           {
            "cells": {
             "fill": {
              "color": "#506784"
             },
             "line": {
              "color": "rgb(17,17,17)"
             }
            },
            "header": {
             "fill": {
              "color": "#2a3f5f"
             },
             "line": {
              "color": "rgb(17,17,17)"
             }
            },
            "type": "table"
           }
          ]
         },
         "layout": {
          "annotationdefaults": {
           "arrowcolor": "#f2f5fa",
           "arrowhead": 0,
           "arrowwidth": 1
          },
          "autotypenumbers": "strict",
          "coloraxis": {
           "colorbar": {
            "outlinewidth": 0,
            "ticks": ""
           }
          },
          "colorscale": {
           "diverging": [
            [
             0,
             "#8e0152"
            ],
            [
             0.1,
             "#c51b7d"
            ],
            [
             0.2,
             "#de77ae"
            ],
            [
             0.3,
             "#f1b6da"
            ],
            [
             0.4,
             "#fde0ef"
            ],
            [
             0.5,
             "#f7f7f7"
            ],
            [
             0.6,
             "#e6f5d0"
            ],
            [
             0.7,
             "#b8e186"
            ],
            [
             0.8,
             "#7fbc41"
            ],
            [
             0.9,
             "#4d9221"
            ],
            [
             1,
             "#276419"
            ]
           ],
           "sequential": [
            [
             0,
             "#0d0887"
            ],
            [
             0.1111111111111111,
             "#46039f"
            ],
            [
             0.2222222222222222,
             "#7201a8"
            ],
            [
             0.3333333333333333,
             "#9c179e"
            ],
            [
             0.4444444444444444,
             "#bd3786"
            ],
            [
             0.5555555555555556,
             "#d8576b"
            ],
            [
             0.6666666666666666,
             "#ed7953"
            ],
            [
             0.7777777777777778,
             "#fb9f3a"
            ],
            [
             0.8888888888888888,
             "#fdca26"
            ],
            [
             1,
             "#f0f921"
            ]
           ],
           "sequentialminus": [
            [
             0,
             "#0d0887"
            ],
            [
             0.1111111111111111,
             "#46039f"
            ],
            [
             0.2222222222222222,
             "#7201a8"
            ],
            [
             0.3333333333333333,
             "#9c179e"
            ],
            [
             0.4444444444444444,
             "#bd3786"
            ],
            [
             0.5555555555555556,
             "#d8576b"
            ],
            [
             0.6666666666666666,
             "#ed7953"
            ],
            [
             0.7777777777777778,
             "#fb9f3a"
            ],
            [
             0.8888888888888888,
             "#fdca26"
            ],
            [
             1,
             "#f0f921"
            ]
           ]
          },
          "colorway": [
           "#636efa",
           "#EF553B",
           "#00cc96",
           "#ab63fa",
           "#FFA15A",
           "#19d3f3",
           "#FF6692",
           "#B6E880",
           "#FF97FF",
           "#FECB52"
          ],
          "font": {
           "color": "#f2f5fa"
          },
          "geo": {
           "bgcolor": "rgb(17,17,17)",
           "lakecolor": "rgb(17,17,17)",
           "landcolor": "rgb(17,17,17)",
           "showlakes": true,
           "showland": true,
           "subunitcolor": "#506784"
          },
          "hoverlabel": {
           "align": "left"
          },
          "hovermode": "closest",
          "mapbox": {
           "style": "dark"
          },
          "paper_bgcolor": "rgb(17,17,17)",
          "plot_bgcolor": "rgb(17,17,17)",
          "polar": {
           "angularaxis": {
            "gridcolor": "#506784",
            "linecolor": "#506784",
            "ticks": ""
           },
           "bgcolor": "rgb(17,17,17)",
           "radialaxis": {
            "gridcolor": "#506784",
            "linecolor": "#506784",
            "ticks": ""
           }
          },
          "scene": {
           "xaxis": {
            "backgroundcolor": "rgb(17,17,17)",
            "gridcolor": "#506784",
            "gridwidth": 2,
            "linecolor": "#506784",
            "showbackground": true,
            "ticks": "",
            "zerolinecolor": "#C8D4E3"
           },
           "yaxis": {
            "backgroundcolor": "rgb(17,17,17)",
            "gridcolor": "#506784",
            "gridwidth": 2,
            "linecolor": "#506784",
            "showbackground": true,
            "ticks": "",
            "zerolinecolor": "#C8D4E3"
           },
           "zaxis": {
            "backgroundcolor": "rgb(17,17,17)",
            "gridcolor": "#506784",
            "gridwidth": 2,
            "linecolor": "#506784",
            "showbackground": true,
            "ticks": "",
            "zerolinecolor": "#C8D4E3"
           }
          },
          "shapedefaults": {
           "line": {
            "color": "#f2f5fa"
           }
          },
          "sliderdefaults": {
           "bgcolor": "#C8D4E3",
           "bordercolor": "rgb(17,17,17)",
           "borderwidth": 1,
           "tickwidth": 0
          },
          "ternary": {
           "aaxis": {
            "gridcolor": "#506784",
            "linecolor": "#506784",
            "ticks": ""
           },
           "baxis": {
            "gridcolor": "#506784",
            "linecolor": "#506784",
            "ticks": ""
           },
           "bgcolor": "rgb(17,17,17)",
           "caxis": {
            "gridcolor": "#506784",
            "linecolor": "#506784",
            "ticks": ""
           }
          },
          "title": {
           "x": 0.05
          },
          "updatemenudefaults": {
           "bgcolor": "#506784",
           "borderwidth": 0
          },
          "xaxis": {
           "automargin": true,
           "gridcolor": "#283442",
           "linecolor": "#506784",
           "ticks": "",
           "title": {
            "standoff": 15
           },
           "zerolinecolor": "#283442",
           "zerolinewidth": 2
          },
          "yaxis": {
           "automargin": true,
           "gridcolor": "#283442",
           "linecolor": "#506784",
           "ticks": "",
           "title": {
            "standoff": 15
           },
           "zerolinecolor": "#283442",
           "zerolinewidth": 2
          }
         }
        },
        "title": {
         "text": "Daily Avg Wind Rose at 10 m on SAIL Met Tower on 2023 windy days"
        },
        "width": 800
       }
      },
      "text/html": [
       "<div>                            <div id=\"bf5e9186-b836-4551-9779-a6a2d77199e5\" class=\"plotly-graph-div\" style=\"height:500px; width:800px;\"></div>            <script type=\"text/javascript\">                require([\"plotly\"], function(Plotly) {                    window.PLOTLYENV=window.PLOTLYENV || {};                                    if (document.getElementById(\"bf5e9186-b836-4551-9779-a6a2d77199e5\")) {                    Plotly.newPlot(                        \"bf5e9186-b836-4551-9779-a6a2d77199e5\",                        [{\"hovertemplate\":\"speed=0-2\\u003cbr\\u003efrequency=%{r}\\u003cbr\\u003edirection=%{theta}\\u003cextra\\u003e\\u003c\\u002fextra\\u003e\",\"legendgroup\":\"0-2\",\"marker\":{\"color\":\"#f0f921\",\"pattern\":{\"shape\":\"\"}},\"name\":\"0-2\",\"r\":[0.9259259259259259,0.0,0.0,0.0,0.46296296296296297,0.9259259259259259,0.46296296296296297,0.0,0.0,0.0,0.0,0.0,0.0,0.0,0.0,0.0],\"showlegend\":true,\"subplot\":\"polar\",\"theta\":[\"N\",\"NNE\",\"NE\",\"ENE\",\"E\",\"ESE\",\"SE\",\"SSE\",\"S\",\"SSW\",\"SW\",\"WSW\",\"W\",\"WNW\",\"NW\",\"NNW\"],\"type\":\"barpolar\"},{\"hovertemplate\":\"speed=2-4\\u003cbr\\u003efrequency=%{r}\\u003cbr\\u003edirection=%{theta}\\u003cextra\\u003e\\u003c\\u002fextra\\u003e\",\"legendgroup\":\"2-4\",\"marker\":{\"color\":\"#fdca26\",\"pattern\":{\"shape\":\"\"}},\"name\":\"2-4\",\"r\":[5.787037037037037,1.1574074074074074,0.0,0.9259259259259259,2.314814814814815,1.6203703703703705,0.9259259259259259,1.1574074074074074,0.0,0.46296296296296297,0.0,0.23148148148148148,0.23148148148148148,0.46296296296296297,2.314814814814815,4.398148148148148],\"showlegend\":true,\"subplot\":\"polar\",\"theta\":[\"N\",\"NNE\",\"NE\",\"ENE\",\"E\",\"ESE\",\"SE\",\"SSE\",\"S\",\"SSW\",\"SW\",\"WSW\",\"W\",\"WNW\",\"NW\",\"NNW\"],\"type\":\"barpolar\"},{\"hovertemplate\":\"speed=4-6\\u003cbr\\u003efrequency=%{r}\\u003cbr\\u003edirection=%{theta}\\u003cextra\\u003e\\u003c\\u002fextra\\u003e\",\"legendgroup\":\"4-6\",\"marker\":{\"color\":\"#fb9f3a\",\"pattern\":{\"shape\":\"\"}},\"name\":\"4-6\",\"r\":[8.564814814814815,0.23148148148148148,0.23148148148148148,1.1574074074074074,6.018518518518518,3.4722222222222223,1.6203703703703705,0.23148148148148148,0.23148148148148148,0.0,0.0,0.0,0.0,1.6203703703703705,6.712962962962963,12.037037037037036],\"showlegend\":true,\"subplot\":\"polar\",\"theta\":[\"N\",\"NNE\",\"NE\",\"ENE\",\"E\",\"ESE\",\"SE\",\"SSE\",\"S\",\"SSW\",\"SW\",\"WSW\",\"W\",\"WNW\",\"NW\",\"NNW\"],\"type\":\"barpolar\"},{\"hovertemplate\":\"speed=6-8\\u003cbr\\u003efrequency=%{r}\\u003cbr\\u003edirection=%{theta}\\u003cextra\\u003e\\u003c\\u002fextra\\u003e\",\"legendgroup\":\"6-8\",\"marker\":{\"color\":\"#ed7953\",\"pattern\":{\"shape\":\"\"}},\"name\":\"6-8\",\"r\":[3.7037037037037037,0.0,0.0,0.0,3.4722222222222223,1.3888888888888888,0.46296296296296297,0.0,0.0,0.0,0.0,0.0,0.0,0.23148148148148148,11.574074074074074,7.407407407407407],\"showlegend\":true,\"subplot\":\"polar\",\"theta\":[\"N\",\"NNE\",\"NE\",\"ENE\",\"E\",\"ESE\",\"SE\",\"SSE\",\"S\",\"SSW\",\"SW\",\"WSW\",\"W\",\"WNW\",\"NW\",\"NNW\"],\"type\":\"barpolar\"},{\"hovertemplate\":\"speed=8-10\\u003cbr\\u003efrequency=%{r}\\u003cbr\\u003edirection=%{theta}\\u003cextra\\u003e\\u003c\\u002fextra\\u003e\",\"legendgroup\":\"8-10\",\"marker\":{\"color\":\"#d8576b\",\"pattern\":{\"shape\":\"\"}},\"name\":\"8-10\",\"r\":[0.23148148148148148,0.0,0.0,0.0,0.9259259259259259,0.46296296296296297,0.23148148148148148,0.0,0.0,0.0,0.0,0.0,0.0,0.0,0.0,2.5462962962962963],\"showlegend\":true,\"subplot\":\"polar\",\"theta\":[\"N\",\"NNE\",\"NE\",\"ENE\",\"E\",\"ESE\",\"SE\",\"SSE\",\"S\",\"SSW\",\"SW\",\"WSW\",\"W\",\"WNW\",\"NW\",\"NNW\"],\"type\":\"barpolar\"},{\"hovertemplate\":\"speed=10-12\\u003cbr\\u003efrequency=%{r}\\u003cbr\\u003edirection=%{theta}\\u003cextra\\u003e\\u003c\\u002fextra\\u003e\",\"legendgroup\":\"10-12\",\"marker\":{\"color\":\"#bd3786\",\"pattern\":{\"shape\":\"\"}},\"name\":\"10-12\",\"r\":[0.0,0.0,0.0,0.0,0.0,0.0,0.0,0.0,0.0,0.0,0.0,0.0,0.0,0.0,0.0,0.46296296296296297],\"showlegend\":true,\"subplot\":\"polar\",\"theta\":[\"N\",\"NNE\",\"NE\",\"ENE\",\"E\",\"ESE\",\"SE\",\"SSE\",\"S\",\"SSW\",\"SW\",\"WSW\",\"W\",\"WNW\",\"NW\",\"NNW\"],\"type\":\"barpolar\"},{\"hovertemplate\":\"speed=12-14\\u003cbr\\u003efrequency=%{r}\\u003cbr\\u003edirection=%{theta}\\u003cextra\\u003e\\u003c\\u002fextra\\u003e\",\"legendgroup\":\"12-14\",\"marker\":{\"color\":\"#9c179e\",\"pattern\":{\"shape\":\"\"}},\"name\":\"12-14\",\"r\":[0.0,0.0,0.0,0.0,0.0,0.0,0.0,0.0,0.0,0.0,0.0,0.0,0.0,0.0,0.0,0.0],\"showlegend\":true,\"subplot\":\"polar\",\"theta\":[\"N\",\"NNE\",\"NE\",\"ENE\",\"E\",\"ESE\",\"SE\",\"SSE\",\"S\",\"SSW\",\"SW\",\"WSW\",\"W\",\"WNW\",\"NW\",\"NNW\"],\"type\":\"barpolar\"},{\"hovertemplate\":\"speed=\\u003e14+\\u003cbr\\u003efrequency=%{r}\\u003cbr\\u003edirection=%{theta}\\u003cextra\\u003e\\u003c\\u002fextra\\u003e\",\"legendgroup\":\"\\u003e14+\",\"marker\":{\"color\":\"#7201a8\",\"pattern\":{\"shape\":\"\"}},\"name\":\"\\u003e14+\",\"r\":[0.0,0.0,0.0,0.0,0.0,0.0,0.0,0.0,0.0,0.0,0.0,0.0,0.0,0.0,0.0,0.0],\"showlegend\":true,\"subplot\":\"polar\",\"theta\":[\"N\",\"NNE\",\"NE\",\"ENE\",\"E\",\"ESE\",\"SE\",\"SSE\",\"S\",\"SSW\",\"SW\",\"WSW\",\"W\",\"WNW\",\"NW\",\"NNW\"],\"type\":\"barpolar\"}],                        {\"template\":{\"data\":{\"barpolar\":[{\"marker\":{\"line\":{\"color\":\"rgb(17,17,17)\",\"width\":0.5},\"pattern\":{\"fillmode\":\"overlay\",\"size\":10,\"solidity\":0.2}},\"type\":\"barpolar\"}],\"bar\":[{\"error_x\":{\"color\":\"#f2f5fa\"},\"error_y\":{\"color\":\"#f2f5fa\"},\"marker\":{\"line\":{\"color\":\"rgb(17,17,17)\",\"width\":0.5},\"pattern\":{\"fillmode\":\"overlay\",\"size\":10,\"solidity\":0.2}},\"type\":\"bar\"}],\"carpet\":[{\"aaxis\":{\"endlinecolor\":\"#A2B1C6\",\"gridcolor\":\"#506784\",\"linecolor\":\"#506784\",\"minorgridcolor\":\"#506784\",\"startlinecolor\":\"#A2B1C6\"},\"baxis\":{\"endlinecolor\":\"#A2B1C6\",\"gridcolor\":\"#506784\",\"linecolor\":\"#506784\",\"minorgridcolor\":\"#506784\",\"startlinecolor\":\"#A2B1C6\"},\"type\":\"carpet\"}],\"choropleth\":[{\"colorbar\":{\"outlinewidth\":0,\"ticks\":\"\"},\"type\":\"choropleth\"}],\"contourcarpet\":[{\"colorbar\":{\"outlinewidth\":0,\"ticks\":\"\"},\"type\":\"contourcarpet\"}],\"contour\":[{\"colorbar\":{\"outlinewidth\":0,\"ticks\":\"\"},\"colorscale\":[[0.0,\"#0d0887\"],[0.1111111111111111,\"#46039f\"],[0.2222222222222222,\"#7201a8\"],[0.3333333333333333,\"#9c179e\"],[0.4444444444444444,\"#bd3786\"],[0.5555555555555556,\"#d8576b\"],[0.6666666666666666,\"#ed7953\"],[0.7777777777777778,\"#fb9f3a\"],[0.8888888888888888,\"#fdca26\"],[1.0,\"#f0f921\"]],\"type\":\"contour\"}],\"heatmapgl\":[{\"colorbar\":{\"outlinewidth\":0,\"ticks\":\"\"},\"colorscale\":[[0.0,\"#0d0887\"],[0.1111111111111111,\"#46039f\"],[0.2222222222222222,\"#7201a8\"],[0.3333333333333333,\"#9c179e\"],[0.4444444444444444,\"#bd3786\"],[0.5555555555555556,\"#d8576b\"],[0.6666666666666666,\"#ed7953\"],[0.7777777777777778,\"#fb9f3a\"],[0.8888888888888888,\"#fdca26\"],[1.0,\"#f0f921\"]],\"type\":\"heatmapgl\"}],\"heatmap\":[{\"colorbar\":{\"outlinewidth\":0,\"ticks\":\"\"},\"colorscale\":[[0.0,\"#0d0887\"],[0.1111111111111111,\"#46039f\"],[0.2222222222222222,\"#7201a8\"],[0.3333333333333333,\"#9c179e\"],[0.4444444444444444,\"#bd3786\"],[0.5555555555555556,\"#d8576b\"],[0.6666666666666666,\"#ed7953\"],[0.7777777777777778,\"#fb9f3a\"],[0.8888888888888888,\"#fdca26\"],[1.0,\"#f0f921\"]],\"type\":\"heatmap\"}],\"histogram2dcontour\":[{\"colorbar\":{\"outlinewidth\":0,\"ticks\":\"\"},\"colorscale\":[[0.0,\"#0d0887\"],[0.1111111111111111,\"#46039f\"],[0.2222222222222222,\"#7201a8\"],[0.3333333333333333,\"#9c179e\"],[0.4444444444444444,\"#bd3786\"],[0.5555555555555556,\"#d8576b\"],[0.6666666666666666,\"#ed7953\"],[0.7777777777777778,\"#fb9f3a\"],[0.8888888888888888,\"#fdca26\"],[1.0,\"#f0f921\"]],\"type\":\"histogram2dcontour\"}],\"histogram2d\":[{\"colorbar\":{\"outlinewidth\":0,\"ticks\":\"\"},\"colorscale\":[[0.0,\"#0d0887\"],[0.1111111111111111,\"#46039f\"],[0.2222222222222222,\"#7201a8\"],[0.3333333333333333,\"#9c179e\"],[0.4444444444444444,\"#bd3786\"],[0.5555555555555556,\"#d8576b\"],[0.6666666666666666,\"#ed7953\"],[0.7777777777777778,\"#fb9f3a\"],[0.8888888888888888,\"#fdca26\"],[1.0,\"#f0f921\"]],\"type\":\"histogram2d\"}],\"histogram\":[{\"marker\":{\"pattern\":{\"fillmode\":\"overlay\",\"size\":10,\"solidity\":0.2}},\"type\":\"histogram\"}],\"mesh3d\":[{\"colorbar\":{\"outlinewidth\":0,\"ticks\":\"\"},\"type\":\"mesh3d\"}],\"parcoords\":[{\"line\":{\"colorbar\":{\"outlinewidth\":0,\"ticks\":\"\"}},\"type\":\"parcoords\"}],\"pie\":[{\"automargin\":true,\"type\":\"pie\"}],\"scatter3d\":[{\"line\":{\"colorbar\":{\"outlinewidth\":0,\"ticks\":\"\"}},\"marker\":{\"colorbar\":{\"outlinewidth\":0,\"ticks\":\"\"}},\"type\":\"scatter3d\"}],\"scattercarpet\":[{\"marker\":{\"colorbar\":{\"outlinewidth\":0,\"ticks\":\"\"}},\"type\":\"scattercarpet\"}],\"scattergeo\":[{\"marker\":{\"colorbar\":{\"outlinewidth\":0,\"ticks\":\"\"}},\"type\":\"scattergeo\"}],\"scattergl\":[{\"marker\":{\"line\":{\"color\":\"#283442\"}},\"type\":\"scattergl\"}],\"scattermapbox\":[{\"marker\":{\"colorbar\":{\"outlinewidth\":0,\"ticks\":\"\"}},\"type\":\"scattermapbox\"}],\"scatterpolargl\":[{\"marker\":{\"colorbar\":{\"outlinewidth\":0,\"ticks\":\"\"}},\"type\":\"scatterpolargl\"}],\"scatterpolar\":[{\"marker\":{\"colorbar\":{\"outlinewidth\":0,\"ticks\":\"\"}},\"type\":\"scatterpolar\"}],\"scatter\":[{\"marker\":{\"line\":{\"color\":\"#283442\"}},\"type\":\"scatter\"}],\"scatterternary\":[{\"marker\":{\"colorbar\":{\"outlinewidth\":0,\"ticks\":\"\"}},\"type\":\"scatterternary\"}],\"surface\":[{\"colorbar\":{\"outlinewidth\":0,\"ticks\":\"\"},\"colorscale\":[[0.0,\"#0d0887\"],[0.1111111111111111,\"#46039f\"],[0.2222222222222222,\"#7201a8\"],[0.3333333333333333,\"#9c179e\"],[0.4444444444444444,\"#bd3786\"],[0.5555555555555556,\"#d8576b\"],[0.6666666666666666,\"#ed7953\"],[0.7777777777777778,\"#fb9f3a\"],[0.8888888888888888,\"#fdca26\"],[1.0,\"#f0f921\"]],\"type\":\"surface\"}],\"table\":[{\"cells\":{\"fill\":{\"color\":\"#506784\"},\"line\":{\"color\":\"rgb(17,17,17)\"}},\"header\":{\"fill\":{\"color\":\"#2a3f5f\"},\"line\":{\"color\":\"rgb(17,17,17)\"}},\"type\":\"table\"}]},\"layout\":{\"annotationdefaults\":{\"arrowcolor\":\"#f2f5fa\",\"arrowhead\":0,\"arrowwidth\":1},\"autotypenumbers\":\"strict\",\"coloraxis\":{\"colorbar\":{\"outlinewidth\":0,\"ticks\":\"\"}},\"colorscale\":{\"diverging\":[[0,\"#8e0152\"],[0.1,\"#c51b7d\"],[0.2,\"#de77ae\"],[0.3,\"#f1b6da\"],[0.4,\"#fde0ef\"],[0.5,\"#f7f7f7\"],[0.6,\"#e6f5d0\"],[0.7,\"#b8e186\"],[0.8,\"#7fbc41\"],[0.9,\"#4d9221\"],[1,\"#276419\"]],\"sequential\":[[0.0,\"#0d0887\"],[0.1111111111111111,\"#46039f\"],[0.2222222222222222,\"#7201a8\"],[0.3333333333333333,\"#9c179e\"],[0.4444444444444444,\"#bd3786\"],[0.5555555555555556,\"#d8576b\"],[0.6666666666666666,\"#ed7953\"],[0.7777777777777778,\"#fb9f3a\"],[0.8888888888888888,\"#fdca26\"],[1.0,\"#f0f921\"]],\"sequentialminus\":[[0.0,\"#0d0887\"],[0.1111111111111111,\"#46039f\"],[0.2222222222222222,\"#7201a8\"],[0.3333333333333333,\"#9c179e\"],[0.4444444444444444,\"#bd3786\"],[0.5555555555555556,\"#d8576b\"],[0.6666666666666666,\"#ed7953\"],[0.7777777777777778,\"#fb9f3a\"],[0.8888888888888888,\"#fdca26\"],[1.0,\"#f0f921\"]]},\"colorway\":[\"#636efa\",\"#EF553B\",\"#00cc96\",\"#ab63fa\",\"#FFA15A\",\"#19d3f3\",\"#FF6692\",\"#B6E880\",\"#FF97FF\",\"#FECB52\"],\"font\":{\"color\":\"#f2f5fa\"},\"geo\":{\"bgcolor\":\"rgb(17,17,17)\",\"lakecolor\":\"rgb(17,17,17)\",\"landcolor\":\"rgb(17,17,17)\",\"showlakes\":true,\"showland\":true,\"subunitcolor\":\"#506784\"},\"hoverlabel\":{\"align\":\"left\"},\"hovermode\":\"closest\",\"mapbox\":{\"style\":\"dark\"},\"paper_bgcolor\":\"rgb(17,17,17)\",\"plot_bgcolor\":\"rgb(17,17,17)\",\"polar\":{\"angularaxis\":{\"gridcolor\":\"#506784\",\"linecolor\":\"#506784\",\"ticks\":\"\"},\"bgcolor\":\"rgb(17,17,17)\",\"radialaxis\":{\"gridcolor\":\"#506784\",\"linecolor\":\"#506784\",\"ticks\":\"\"}},\"scene\":{\"xaxis\":{\"backgroundcolor\":\"rgb(17,17,17)\",\"gridcolor\":\"#506784\",\"gridwidth\":2,\"linecolor\":\"#506784\",\"showbackground\":true,\"ticks\":\"\",\"zerolinecolor\":\"#C8D4E3\"},\"yaxis\":{\"backgroundcolor\":\"rgb(17,17,17)\",\"gridcolor\":\"#506784\",\"gridwidth\":2,\"linecolor\":\"#506784\",\"showbackground\":true,\"ticks\":\"\",\"zerolinecolor\":\"#C8D4E3\"},\"zaxis\":{\"backgroundcolor\":\"rgb(17,17,17)\",\"gridcolor\":\"#506784\",\"gridwidth\":2,\"linecolor\":\"#506784\",\"showbackground\":true,\"ticks\":\"\",\"zerolinecolor\":\"#C8D4E3\"}},\"shapedefaults\":{\"line\":{\"color\":\"#f2f5fa\"}},\"sliderdefaults\":{\"bgcolor\":\"#C8D4E3\",\"bordercolor\":\"rgb(17,17,17)\",\"borderwidth\":1,\"tickwidth\":0},\"ternary\":{\"aaxis\":{\"gridcolor\":\"#506784\",\"linecolor\":\"#506784\",\"ticks\":\"\"},\"baxis\":{\"gridcolor\":\"#506784\",\"linecolor\":\"#506784\",\"ticks\":\"\"},\"bgcolor\":\"rgb(17,17,17)\",\"caxis\":{\"gridcolor\":\"#506784\",\"linecolor\":\"#506784\",\"ticks\":\"\"}},\"title\":{\"x\":0.05},\"updatemenudefaults\":{\"bgcolor\":\"#506784\",\"borderwidth\":0},\"xaxis\":{\"automargin\":true,\"gridcolor\":\"#283442\",\"linecolor\":\"#506784\",\"ticks\":\"\",\"title\":{\"standoff\":15},\"zerolinecolor\":\"#283442\",\"zerolinewidth\":2},\"yaxis\":{\"automargin\":true,\"gridcolor\":\"#283442\",\"linecolor\":\"#506784\",\"ticks\":\"\",\"title\":{\"standoff\":15},\"zerolinecolor\":\"#283442\",\"zerolinewidth\":2}}},\"polar\":{\"domain\":{\"x\":[0.0,1.0],\"y\":[0.0,1.0]},\"angularaxis\":{\"direction\":\"clockwise\",\"rotation\":90},\"radialaxis\":{\"tickfont\":{\"size\":14},\"ticksuffix\":\"%\",\"showline\":false,\"showticklabels\":true,\"showgrid\":true,\"angle\":45,\"range\":[0,30]}},\"legend\":{\"title\":{\"text\":\"speed\"},\"tracegroupgap\":0},\"margin\":{\"t\":60},\"barnorm\":\"percent\",\"barmode\":\"relative\",\"height\":500,\"width\":800,\"font\":{\"size\":12},\"title\":{\"text\":\"Daily Avg Wind Rose at 10 m on SAIL Met Tower on 2023 windy days\"}},                        {\"responsive\": true}                    ).then(function(){\n",
       "                            \n",
       "var gd = document.getElementById('bf5e9186-b836-4551-9779-a6a2d77199e5');\n",
       "var x = new MutationObserver(function (mutations, observer) {{\n",
       "        var display = window.getComputedStyle(gd).display;\n",
       "        if (!display || display === 'none') {{\n",
       "            console.log([gd, 'removed!']);\n",
       "            Plotly.purge(gd);\n",
       "            observer.disconnect();\n",
       "        }}\n",
       "}});\n",
       "\n",
       "// Listen for the removal of the full notebook cells\n",
       "var notebookContainer = gd.closest('#notebook-container');\n",
       "if (notebookContainer) {{\n",
       "    x.observe(notebookContainer, {childList: true});\n",
       "}}\n",
       "\n",
       "// Listen for the clearing of the current output cell\n",
       "var outputEl = gd.closest('.output');\n",
       "if (outputEl) {{\n",
       "    x.observe(outputEl, {childList: true});\n",
       "}}\n",
       "\n",
       "                        })                };                });            </script>        </div>"
      ]
     },
     "metadata": {},
     "output_type": "display_data"
    }
   ],
   "source": [
    "sail_met_gothic_daily = sail_30min_windy_wind_df[['wspd_arith_mean', 'wdir_vec_mean']]\n",
    "# create a windrose dataframe\n",
    "sail_met_gothic_daily = create_windrose_df(sail_met_gothic_daily, wind_dir_var='wdir_vec_mean', wind_spd_var='wspd_arith_mean')\n",
    "\n",
    "# create a wind rose plot using bar_polar\n",
    "fig = px.bar_polar(sail_met_gothic_daily, \n",
    "                   r=\"frequency\", \n",
    "                   theta=\"direction\", \n",
    "                   color=\"speed\", template=\"plotly_dark\",\n",
    "                   color_discrete_sequence= px.colors.sequential.Plasma_r,\n",
    "                   width= 800,\n",
    "                   height=500,\n",
    "                   barnorm='percent',\n",
    "                  )\n",
    "# update the radial axis to show percentages\n",
    "fig.update_layout(\n",
    "    title=\"Daily Avg Wind Rose at 10 m on SAIL Met Tower on 2023 windy days\",\n",
    "    font_size=12,\n",
    "    polar_radialaxis=dict(\n",
    "         ticksuffix='%',\n",
    "         tickfont_size=14,\n",
    "         showline=False,\n",
    "         showticklabels=True,\n",
    "         showgrid=True,\n",
    "         angle=45,\n",
    "         range=[0, 30]\n",
    "      ),\n",
    ")"
   ]
  },
  {
   "cell_type": "code",
   "execution_count": 97,
   "metadata": {},
   "outputs": [],
   "source": [
    "# for each date, plot the wind speed at 10m on uw tower over the day. Color by the day of water year\n",
    "# also plot the mean wind speed for all the days in bold \n",
    "sail_30min_windy_wind_df, sail_30min_windy_temp_df, sail_30min_windy_wv_df, sail_30min_windy_pres_df = build_windy_df(w23_sail_met_qc_ds_30min, w23_windy_days)\n",
    "# first set up color ramp between 0 and 365 with viridis\n",
    "n_colors = 366\n",
    "color_scale = px.colors.sample_colorscale(\"IceFire\", [n/(n_colors -1) for n in range(n_colors)])\n",
    "color_dict = dict(zip(range(0,366),color_scale))\n",
    "\n",
    "# groupby time on uw_10m and get the mean\n",
    "sail_30min_windy_time_avg = sail_30min_windy_wind_df['wspd_arith_mean'].groupby(sail_30min_windy_wind_df.time).mean()"
   ]
  },
  {
   "cell_type": "code",
   "execution_count": 98,
   "metadata": {},
   "outputs": [
    {
     "data": {
      "application/vnd.plotly.v1+json": {
       "config": {
        "plotlyServerURL": "https://plot.ly"
       },
       "data": [
        {
         "connectgaps": false,
         "marker": {
          "color": "rgb(19, 97, 172)"
         },
         "name": "2022-12-13",
         "type": "scatter",
         "x": [
          "00:00:00",
          "00:30:00",
          "01:00:00",
          "01:30:00",
          "02:00:00",
          "02:30:00",
          "03:00:00",
          "03:30:00",
          "04:00:00",
          "04:30:00",
          "05:00:00",
          "05:30:00",
          "06:00:00",
          "06:30:00",
          "07:00:00",
          "07:30:00",
          "08:00:00",
          "08:30:00",
          "09:00:00",
          "09:30:00",
          "10:00:00",
          "10:30:00",
          "11:00:00",
          "11:30:00",
          "12:00:00",
          "12:30:00",
          "13:00:00",
          "13:30:00",
          "14:00:00",
          "14:30:00",
          "15:00:00",
          "15:30:00",
          "16:00:00",
          "16:30:00",
          "17:00:00",
          "17:30:00",
          "18:00:00",
          "18:30:00",
          "19:00:00",
          "19:30:00",
          "20:00:00",
          "20:30:00",
          "21:00:00",
          "21:30:00",
          "22:00:00",
          "22:30:00",
          "23:00:00",
          "23:30:00"
         ],
         "y": [
          2.69866681098938,
          1.857699990272522,
          2.978066921234131,
          3.0543999671936035,
          3.162933349609375,
          2.9095664024353027,
          3.096766233444214,
          2.900099754333496,
          2.3048667907714844,
          3.2776668071746826,
          3.5985329151153564,
          4.4969000816345215,
          3.527033567428589,
          3.539733409881592,
          2.8261332511901855,
          3.1516668796539307,
          4.214333534240723,
          4.67983341217041,
          5.314600467681885,
          5.141266345977783,
          4.6494340896606445,
          5.0229997634887695,
          5.890233516693115,
          5.905433654785156,
          6.015666484832764,
          5.64263391494751,
          6.172933578491211,
          6.080033302307129,
          6.098633289337158,
          6.288300037384033,
          5.937666416168213,
          5.592033863067627,
          6.196465969085693,
          5.700400352478027,
          5.834599494934082,
          6.8230671882629395,
          6.705933570861816,
          6.412633419036865,
          6.458865642547607,
          6.333133220672607,
          5.753966808319092,
          4.389666557312012,
          4.885333061218262,
          5.405533313751221,
          6.2730326652526855,
          6.400266170501709,
          6.7429327964782715,
          6.516833782196045
         ]
        },
        {
         "connectgaps": false,
         "marker": {
          "color": "rgb(19, 99, 173)"
         },
         "name": "2022-12-14",
         "type": "scatter",
         "x": [
          "00:00:00",
          "00:30:00",
          "01:00:00",
          "01:30:00",
          "02:00:00",
          "02:30:00",
          "03:00:00",
          "03:30:00",
          "04:00:00",
          "04:30:00",
          "05:00:00",
          "05:30:00",
          "06:00:00",
          "06:30:00",
          "07:00:00",
          "07:30:00",
          "08:00:00",
          "08:30:00",
          "09:00:00",
          "09:30:00",
          "10:00:00",
          "10:30:00",
          "11:00:00",
          "11:30:00",
          "12:00:00",
          "12:30:00",
          "13:00:00",
          "13:30:00",
          "14:00:00",
          "14:30:00",
          "15:00:00",
          "15:30:00",
          "16:00:00",
          "16:30:00",
          "17:00:00",
          "17:30:00",
          "18:00:00",
          "18:30:00",
          "19:00:00",
          "19:30:00",
          "20:00:00",
          "20:30:00",
          "21:00:00",
          "21:30:00",
          "22:00:00",
          "22:30:00",
          "23:00:00",
          "23:30:00"
         ],
         "y": [
          7.087367057800293,
          6.3610005378723145,
          5.817766189575195,
          5.313699722290039,
          5.83613395690918,
          6.186766147613525,
          6.199465751647949,
          6.745266437530518,
          6.553999900817871,
          6.558233737945557,
          6.322300434112549,
          6.651132583618164,
          5.644233703613281,
          6.502166748046875,
          5.926033020019531,
          5.880934238433838,
          7.493432998657227,
          6.845666408538818,
          7.603300094604492,
          7.996100425720215,
          7.712433815002441,
          6.773733139038086,
          6.847899913787842,
          6.69016695022583,
          6.97160005569458,
          6.498366355895996,
          6.884533882141113,
          6.472933292388916,
          6.505499839782715,
          6.074899196624756,
          5.225766181945801,
          4.440999984741211,
          4.142233371734619,
          3.8343665599823,
          4.042399883270264,
          3.414299726486206,
          3.022000312805176,
          2.4477999210357666,
          1.672800064086914,
          2.292466640472412,
          3.035933494567871,
          2.679999589920044,
          1.750266671180725,
          2.878533363342285,
          3.4043667316436768,
          3.6842665672302246,
          3.9885001182556152,
          3.6697332859039307
         ]
        },
        {
         "connectgaps": false,
         "marker": {
          "color": "rgb(25, 111, 178)"
         },
         "name": "2022-12-21",
         "type": "scatter",
         "x": [
          "00:00:00",
          "00:30:00",
          "01:00:00",
          "01:30:00",
          "02:00:00",
          "02:30:00",
          "03:00:00",
          "03:30:00",
          "04:00:00",
          "04:30:00",
          "05:00:00",
          "05:30:00",
          "06:00:00",
          "06:30:00",
          "07:00:00",
          "07:30:00",
          "08:00:00",
          "08:30:00",
          "09:00:00",
          "09:30:00",
          "10:00:00",
          "10:30:00",
          "11:00:00",
          "11:30:00",
          "12:00:00",
          "12:30:00",
          "13:00:00",
          "13:30:00",
          "14:00:00",
          "14:30:00",
          "15:00:00",
          "15:30:00",
          "16:00:00",
          "16:30:00",
          "17:00:00",
          "17:30:00",
          "18:00:00",
          "18:30:00",
          "19:00:00",
          "19:30:00",
          "20:00:00",
          "20:30:00",
          "21:00:00",
          "21:30:00",
          "22:00:00",
          "22:30:00",
          "23:00:00",
          "23:30:00"
         ],
         "y": [
          0.9537333846092224,
          0.9420334696769714,
          0.7224332094192505,
          0.640466570854187,
          0.6889666318893433,
          1.0811667442321777,
          1.264799952507019,
          1.279099941253662,
          1.0566000938415527,
          1.1048333644866943,
          3.165433168411255,
          3.183300018310547,
          3.90256667137146,
          2.370333194732666,
          1.005199909210205,
          2.4387004375457764,
          4.009333610534668,
          4.290433406829834,
          3.5995330810546875,
          3.321732997894287,
          4.944966793060303,
          6.093132972717285,
          7.289733409881592,
          6.885499954223633,
          6.743333339691162,
          5.760100364685059,
          4.7365336418151855,
          5.089400291442871,
          5.95346736907959,
          5.977866172790527,
          6.168599605560303,
          6.867599964141846,
          6.664600849151611,
          6.06786584854126,
          5.989466667175293,
          6.690466403961182,
          5.705366611480713,
          5.6782002449035645,
          6.209266662597656,
          7.052267074584961,
          6.283099174499512,
          6.560434341430664,
          7.288232803344727,
          7.403999328613281,
          8.902332305908203,
          9.146932601928711,
          7.887532711029053,
          6.385700702667236
         ]
        },
        {
         "connectgaps": false,
         "marker": {
          "color": "rgb(26, 112, 178)"
         },
         "name": "2022-12-22",
         "type": "scatter",
         "x": [
          "00:00:00",
          "00:30:00",
          "01:00:00",
          "01:30:00",
          "02:00:00",
          "02:30:00",
          "03:00:00",
          "03:30:00",
          "04:00:00",
          "04:30:00",
          "05:00:00",
          "05:30:00",
          "06:00:00",
          "06:30:00",
          "07:00:00",
          "07:30:00",
          "08:00:00",
          "08:30:00",
          "09:00:00",
          "09:30:00",
          "10:00:00",
          "10:30:00",
          "11:00:00",
          "11:30:00",
          "12:00:00",
          "12:30:00",
          "13:00:00",
          "13:30:00",
          "14:00:00",
          "14:30:00",
          "15:00:00",
          "15:30:00",
          "16:00:00",
          "16:30:00",
          "17:00:00",
          "17:30:00",
          "18:00:00",
          "18:30:00",
          "19:00:00",
          "19:30:00",
          "20:00:00",
          "20:30:00",
          "21:00:00",
          "21:30:00",
          "22:00:00",
          "22:30:00",
          "23:00:00",
          "23:30:00"
         ],
         "y": [
          6.863500118255615,
          7.12166690826416,
          7.036233425140381,
          8.439300537109375,
          7.0610671043396,
          7.58220100402832,
          8.833832740783691,
          10.11889934539795,
          10.805499076843262,
          12.862000465393066,
          11.643632888793945,
          11.219266891479492,
          9.576600074768066,
          10.428333282470703,
          10.93936538696289,
          10.641833305358887,
          9.800500869750977,
          8.29106616973877,
          8.224900245666504,
          7.238565921783447,
          6.85606575012207,
          6.228099346160889,
          5.980966567993164,
          5.644933223724365,
          4.709799766540527,
          5.137134075164795,
          5.3237996101379395,
          4.488333225250244,
          5.041266441345215,
          4.926200866699219,
          5.402232646942139,
          4.9394330978393555,
          5.395566940307617,
          5.891967296600342,
          5.0183000564575195,
          3.8539328575134277,
          4.579366683959961,
          3.668799877166748,
          3.260833263397217,
          3.4322667121887207,
          3.620166540145874,
          3.4143331050872803,
          2.7569663524627686,
          2.7166671752929688,
          1.932466745376587,
          1.642133355140686,
          1.4765665531158447,
          0.9348334074020386
         ]
        },
        {
         "connectgaps": false,
         "marker": {
          "color": "rgb(100, 206, 227)"
         },
         "name": "2023-02-19",
         "type": "scatter",
         "x": [
          "00:00:00",
          "00:30:00",
          "01:00:00",
          "01:30:00",
          "02:00:00",
          "02:30:00",
          "03:00:00",
          "03:30:00",
          "04:00:00",
          "04:30:00",
          "05:00:00",
          "05:30:00",
          "06:00:00",
          "06:30:00",
          "07:00:00",
          "07:30:00",
          "08:00:00",
          "08:30:00",
          "09:00:00",
          "09:30:00",
          "10:00:00",
          "10:30:00",
          "11:00:00",
          "11:30:00",
          "12:00:00",
          "12:30:00",
          "13:00:00",
          "13:30:00",
          "14:00:00",
          "14:30:00",
          "15:00:00",
          "15:30:00",
          "16:00:00",
          "16:30:00",
          "17:00:00",
          "17:30:00",
          "18:00:00",
          "18:30:00",
          "19:00:00",
          "19:30:00",
          "20:00:00",
          "20:30:00",
          "21:00:00",
          "21:30:00",
          "22:00:00",
          "22:30:00",
          "23:00:00",
          "23:30:00"
         ],
         "y": [
          3.9790666103363037,
          6.039967060089111,
          5.207233905792236,
          5.778166770935059,
          6.120733737945557,
          5.819033145904541,
          5.978033542633057,
          6.31713342666626,
          5.034233570098877,
          5.476533889770508,
          5.638533115386963,
          6.132500171661377,
          5.783133506774902,
          5.600633144378662,
          5.513532638549805,
          5.350632667541504,
          5.471599102020264,
          5.379199504852295,
          6.13539981842041,
          4.932032585144043,
          5.2726335525512695,
          5.560633182525635,
          4.396200180053711,
          2.904099941253662,
          3.335700273513794,
          4.142533302307129,
          6.347433090209961,
          6.776900291442871,
          7.006133556365967,
          7.529500484466553,
          9.196732521057129,
          8.138833045959473,
          7.93316650390625,
          8.016533851623535,
          6.708166599273682,
          6.449100017547607,
          5.485400676727295,
          4.853366374969482,
          4.952999591827393,
          3.790466785430908,
          3.963566303253174,
          3.982800006866455,
          3.7582335472106934,
          3.472867012023926,
          3.809833526611328,
          4.935999393463135,
          4.743598937988281,
          5.139767169952393
         ]
        },
        {
         "connectgaps": false,
         "marker": {
          "color": "rgb(196, 231, 221)"
         },
         "name": "2023-03-22",
         "type": "scatter",
         "x": [
          "00:00:00",
          "00:30:00",
          "01:00:00",
          "01:30:00",
          "02:00:00",
          "02:30:00",
          "03:00:00",
          "03:30:00",
          "04:00:00",
          "04:30:00",
          "05:00:00",
          "05:30:00",
          "06:00:00",
          "06:30:00",
          "07:00:00",
          "07:30:00",
          "08:00:00",
          "08:30:00",
          "09:00:00",
          "09:30:00",
          "10:00:00",
          "10:30:00",
          "11:00:00",
          "11:30:00",
          "12:00:00",
          "12:30:00",
          "13:00:00",
          "13:30:00",
          "14:00:00",
          "14:30:00",
          "15:00:00",
          "15:30:00",
          "16:00:00",
          "16:30:00",
          "17:00:00",
          "17:30:00",
          "18:00:00",
          "18:30:00",
          "19:00:00",
          "19:30:00",
          "20:00:00",
          "20:30:00",
          "21:00:00",
          "21:30:00",
          "22:00:00",
          "22:30:00",
          "23:00:00",
          "23:30:00"
         ],
         "y": [
          2.5998332500457764,
          4.520400524139404,
          6.142300605773926,
          4.971133232116699,
          4.349800109863281,
          3.31850004196167,
          4.850166320800781,
          5.106466770172119,
          6.077133655548096,
          4.987366676330566,
          7.28606653213501,
          5.7487335205078125,
          3.421099901199341,
          3.7756001949310303,
          4.525466442108154,
          5.649232864379883,
          4.544600009918213,
          4.60996675491333,
          5.962532997131348,
          3.4459333419799805,
          3.2592337131500244,
          4.632933616638184,
          2.118000030517578,
          3.0189669132232666,
          5.932633399963379,
          4.045433521270752,
          6.018433094024658,
          3.663299798965454,
          3.800633430480957,
          3.895400047302246,
          5.728933334350586,
          4.801699638366699,
          5.889466762542725,
          4.414233207702637,
          3.689833402633667,
          3.678499937057495,
          3.9075000286102295,
          2.5923666954040527,
          1.585566759109497,
          2.5624330043792725,
          2.077566623687744,
          1.665700078010559,
          1.9554333686828613,
          2.2638330459594727,
          1.9238001108169556,
          2.2071335315704346,
          4.593667030334473,
          4.2502665519714355
         ]
        },
        {
         "connectgaps": false,
         "marker": {
          "color": "rgb(223, 233, 210)"
         },
         "name": "2023-03-31",
         "type": "scatter",
         "x": [
          "00:00:00",
          "00:30:00",
          "01:00:00",
          "01:30:00",
          "02:00:00",
          "02:30:00",
          "03:00:00",
          "03:30:00",
          "04:00:00",
          "04:30:00",
          "05:00:00",
          "05:30:00",
          "06:00:00",
          "06:30:00",
          "07:00:00",
          "07:30:00",
          "08:00:00",
          "08:30:00",
          "09:00:00",
          "09:30:00",
          "10:00:00",
          "10:30:00",
          "11:00:00",
          "11:30:00",
          "12:00:00",
          "12:30:00",
          "13:00:00",
          "13:30:00",
          "14:00:00",
          "14:30:00",
          "15:00:00",
          "15:30:00",
          "16:00:00",
          "16:30:00",
          "17:00:00",
          "17:30:00",
          "18:00:00",
          "18:30:00",
          "19:00:00",
          "19:30:00",
          "20:00:00",
          "20:30:00",
          "21:00:00",
          "21:30:00",
          "22:00:00",
          "22:30:00",
          "23:00:00",
          "23:30:00"
         ],
         "y": [
          null,
          null,
          null,
          null,
          null,
          null,
          null,
          null,
          null,
          null,
          null,
          null,
          null,
          null,
          null,
          null,
          null,
          4.7063751220703125,
          5.617066383361816,
          6.394632816314697,
          5.586400032043457,
          4.755533218383789,
          5.740567207336426,
          4.682333469390869,
          4.738832950592041,
          4.771966934204102,
          4.777866840362549,
          5.426232814788818,
          4.709799766540527,
          4.261233329772949,
          3.8930001258850098,
          3.7467334270477295,
          4.4800004959106445,
          3.645433187484741,
          4.21763277053833,
          3.5345664024353027,
          4.299799919128418,
          5.354799747467041,
          4.268233299255371,
          3.8261666297912598,
          3.9589998722076416,
          4.562066555023193,
          4.321233749389648,
          5.297066688537598,
          4.655333518981934,
          4.065866470336914,
          2.7900002002716064,
          3.1170666217803955
         ]
        },
        {
         "connectgaps": false,
         "marker": {
          "color": "rgb(227, 231, 199)"
         },
         "name": "2023-04-03",
         "type": "scatter",
         "x": [
          "00:00:00",
          "00:30:00",
          "01:00:00",
          "01:30:00",
          "02:00:00",
          "02:30:00",
          "03:00:00",
          "03:30:00",
          "04:00:00",
          "04:30:00",
          "05:00:00",
          "05:30:00",
          "06:00:00",
          "06:30:00",
          "07:00:00",
          "07:30:00",
          "08:00:00",
          "08:30:00",
          "09:00:00",
          "09:30:00",
          "10:00:00",
          "10:30:00",
          "11:00:00",
          "11:30:00",
          "12:00:00",
          "12:30:00",
          "13:00:00",
          "13:30:00",
          "14:00:00",
          "14:30:00",
          "15:00:00",
          "15:30:00",
          "16:00:00",
          "16:30:00",
          "17:00:00",
          "17:30:00",
          "18:00:00",
          "18:30:00",
          "19:00:00",
          "19:30:00",
          "20:00:00",
          "20:30:00",
          "21:00:00",
          "21:30:00",
          "22:00:00",
          "22:30:00",
          "23:00:00",
          "23:30:00"
         ],
         "y": [
          3.764566659927368,
          3.3782334327697754,
          4.015233039855957,
          3.2159998416900635,
          4.883600234985352,
          3.6506335735321045,
          3.6092000007629395,
          3.257066488265991,
          2.8557333946228027,
          2.604832887649536,
          2.4454336166381836,
          1.8481667041778564,
          1.9426666498184204,
          2.384333372116089,
          1.5432665348052979,
          2.310166597366333,
          2.3341000080108643,
          2.7151999473571777,
          4.061566352844238,
          4.356766700744629,
          5.693566799163818,
          4.626933574676514,
          5.2139997482299805,
          4.077200412750244,
          6.779500484466553,
          6.583400249481201,
          6.606634140014648,
          5.730099678039551,
          6.072866439819336,
          5.219033241271973,
          4.003233432769775,
          3.423766613006592,
          6.4322662353515625,
          6.025765895843506,
          4.053666591644287,
          3.8555335998535156,
          4.575933933258057,
          3.7995998859405518,
          4.704500198364258,
          2.822166919708252,
          4.6006669998168945,
          6.619365215301514,
          4.051666736602783,
          3.398566722869873,
          3.9825332164764404,
          3.868133783340454,
          4.500234127044678,
          4.656233787536621
         ]
        },
        {
         "connectgaps": false,
         "marker": {
          "color": "rgb(241, 205, 91)"
         },
         "name": "2023-04-28",
         "type": "scatter",
         "x": [
          "00:00:00",
          "00:30:00",
          "01:00:00",
          "01:30:00",
          "02:00:00",
          "02:30:00",
          "03:00:00",
          "03:30:00",
          "04:00:00",
          "04:30:00",
          "05:00:00",
          "05:30:00",
          "06:00:00",
          "06:30:00",
          "07:00:00",
          "07:30:00",
          "08:00:00",
          "08:30:00",
          "09:00:00",
          "09:30:00",
          "10:00:00",
          "10:30:00",
          "11:00:00",
          "11:30:00",
          "12:00:00",
          "12:30:00",
          "13:00:00",
          "13:30:00",
          "14:00:00",
          "14:30:00",
          "15:00:00",
          "15:30:00",
          "16:00:00",
          "16:30:00",
          "17:00:00",
          "17:30:00",
          "18:00:00",
          "18:30:00",
          "19:00:00",
          "19:30:00",
          "20:00:00",
          "20:30:00",
          "21:00:00",
          "21:30:00",
          "22:00:00",
          "22:30:00",
          "23:00:00",
          "23:30:00"
         ],
         "y": [
          3.0059332847595215,
          1.0421334505081177,
          2.4827332496643066,
          2.9192328453063965,
          3.0182669162750244,
          3.660600185394287,
          3.355599880218506,
          2.971400022506714,
          2.839033842086792,
          2.387200355529785,
          3.1897332668304443,
          2.880366802215576,
          2.271899938583374,
          1.0053666830062866,
          1.9367332458496094,
          1.9506332874298096,
          2.8366332054138184,
          2.370666742324829,
          4.8625335693359375,
          4.822066783905029,
          4.862466812133789,
          5.236200332641602,
          4.730466842651367,
          5.734333515167236,
          6.51406717300415,
          7.768599987030029,
          7.808899879455566,
          7.948733329772949,
          6.991766929626465,
          7.26140022277832,
          6.6168999671936035,
          7.419066429138184,
          6.664999961853027,
          7.14673376083374,
          6.633466720581055,
          5.986032962799072,
          4.941700458526611,
          4.756900310516357,
          3.898066997528076,
          2.50136661529541,
          3.5233333110809326,
          3.10746693611145,
          2.7657999992370605,
          3.1666667461395264,
          2.3725335597991943,
          0.8247334361076355,
          1.1114001274108887,
          1.0685999393463135
         ]
        },
        {
         "connectgaps": false,
         "line": {
          "dash": "dash",
          "width": 3
         },
         "marker": {
          "color": "black"
         },
         "name": "mean",
         "type": "scatter",
         "x": [
          "00:00:00",
          "00:30:00",
          "01:00:00",
          "01:30:00",
          "02:00:00",
          "02:30:00",
          "03:00:00",
          "03:30:00",
          "04:00:00",
          "04:30:00",
          "05:00:00",
          "05:30:00",
          "06:00:00",
          "06:30:00",
          "07:00:00",
          "07:30:00",
          "08:00:00",
          "08:30:00",
          "09:00:00",
          "09:30:00",
          "10:00:00",
          "10:30:00",
          "11:00:00",
          "11:30:00",
          "12:00:00",
          "12:30:00",
          "13:00:00",
          "13:30:00",
          "14:00:00",
          "14:30:00",
          "15:00:00",
          "15:30:00",
          "16:00:00",
          "16:30:00",
          "17:00:00",
          "17:30:00",
          "18:00:00",
          "18:30:00",
          "19:00:00",
          "19:30:00",
          "20:00:00",
          "20:30:00",
          "21:00:00",
          "21:30:00",
          "22:00:00",
          "22:30:00",
          "23:00:00",
          "23:30:00"
         ],
         "y": [
          3.8690834045410156,
          3.9078919887542725,
          4.300250053405762,
          4.2915496826171875,
          4.390187740325928,
          4.276058197021484,
          4.6484832763671875,
          4.836928844451904,
          4.690887451171875,
          4.9073333740234375,
          5.411208152770996,
          5.270045757293701,
          4.5086541175842285,
          4.450812339782715,
          4.276966094970703,
          4.671724796295166,
          5.088066577911377,
          4.876489639282227,
          5.709047794342041,
          5.294343948364258,
          5.426355361938477,
          5.4366888999938965,
          5.356451988220215,
          5.060329914093018,
          5.749014854431152,
          5.594463348388672,
          6.075229644775391,
          5.74177360534668,
          5.79778528213501,
          5.714870452880859,
          5.797007083892822,
          5.485574245452881,
          5.977640628814697,
          5.638144016265869,
          5.131947994232178,
          4.9206109046936035,
          4.802556037902832,
          4.39605188369751,
          4.1123480796813965,
          3.8458590507507324,
          4.090810775756836,
          4.1090922355651855,
          3.725907325744629,
          4.000414848327637,
          4.139581680297852,
          4.086162567138672,
          4.203825950622559,
          3.971004009246826
         ]
        }
       ],
       "layout": {
        "hovermode": "x unified",
        "template": {
         "data": {
          "bar": [
           {
            "error_x": {
             "color": "#2a3f5f"
            },
            "error_y": {
             "color": "#2a3f5f"
            },
            "marker": {
             "line": {
              "color": "#E5ECF6",
              "width": 0.5
             },
             "pattern": {
              "fillmode": "overlay",
              "size": 10,
              "solidity": 0.2
             }
            },
            "type": "bar"
           }
          ],
          "barpolar": [
           {
            "marker": {
             "line": {
              "color": "#E5ECF6",
              "width": 0.5
             },
             "pattern": {
              "fillmode": "overlay",
              "size": 10,
              "solidity": 0.2
             }
            },
            "type": "barpolar"
           }
          ],
          "carpet": [
           {
            "aaxis": {
             "endlinecolor": "#2a3f5f",
             "gridcolor": "white",
             "linecolor": "white",
             "minorgridcolor": "white",
             "startlinecolor": "#2a3f5f"
            },
            "baxis": {
             "endlinecolor": "#2a3f5f",
             "gridcolor": "white",
             "linecolor": "white",
             "minorgridcolor": "white",
             "startlinecolor": "#2a3f5f"
            },
            "type": "carpet"
           }
          ],
          "choropleth": [
           {
            "colorbar": {
             "outlinewidth": 0,
             "ticks": ""
            },
            "type": "choropleth"
           }
          ],
          "contour": [
           {
            "colorbar": {
             "outlinewidth": 0,
             "ticks": ""
            },
            "colorscale": [
             [
              0,
              "#0d0887"
             ],
             [
              0.1111111111111111,
              "#46039f"
             ],
             [
              0.2222222222222222,
              "#7201a8"
             ],
             [
              0.3333333333333333,
              "#9c179e"
             ],
             [
              0.4444444444444444,
              "#bd3786"
             ],
             [
              0.5555555555555556,
              "#d8576b"
             ],
             [
              0.6666666666666666,
              "#ed7953"
             ],
             [
              0.7777777777777778,
              "#fb9f3a"
             ],
             [
              0.8888888888888888,
              "#fdca26"
             ],
             [
              1,
              "#f0f921"
             ]
            ],
            "type": "contour"
           }
          ],
          "contourcarpet": [
           {
            "colorbar": {
             "outlinewidth": 0,
             "ticks": ""
            },
            "type": "contourcarpet"
           }
          ],
          "heatmap": [
           {
            "colorbar": {
             "outlinewidth": 0,
             "ticks": ""
            },
            "colorscale": [
             [
              0,
              "#0d0887"
             ],
             [
              0.1111111111111111,
              "#46039f"
             ],
             [
              0.2222222222222222,
              "#7201a8"
             ],
             [
              0.3333333333333333,
              "#9c179e"
             ],
             [
              0.4444444444444444,
              "#bd3786"
             ],
             [
              0.5555555555555556,
              "#d8576b"
             ],
             [
              0.6666666666666666,
              "#ed7953"
             ],
             [
              0.7777777777777778,
              "#fb9f3a"
             ],
             [
              0.8888888888888888,
              "#fdca26"
             ],
             [
              1,
              "#f0f921"
             ]
            ],
            "type": "heatmap"
           }
          ],
          "heatmapgl": [
           {
            "colorbar": {
             "outlinewidth": 0,
             "ticks": ""
            },
            "colorscale": [
             [
              0,
              "#0d0887"
             ],
             [
              0.1111111111111111,
              "#46039f"
             ],
             [
              0.2222222222222222,
              "#7201a8"
             ],
             [
              0.3333333333333333,
              "#9c179e"
             ],
             [
              0.4444444444444444,
              "#bd3786"
             ],
             [
              0.5555555555555556,
              "#d8576b"
             ],
             [
              0.6666666666666666,
              "#ed7953"
             ],
             [
              0.7777777777777778,
              "#fb9f3a"
             ],
             [
              0.8888888888888888,
              "#fdca26"
             ],
             [
              1,
              "#f0f921"
             ]
            ],
            "type": "heatmapgl"
           }
          ],
          "histogram": [
           {
            "marker": {
             "pattern": {
              "fillmode": "overlay",
              "size": 10,
              "solidity": 0.2
             }
            },
            "type": "histogram"
           }
          ],
          "histogram2d": [
           {
            "colorbar": {
             "outlinewidth": 0,
             "ticks": ""
            },
            "colorscale": [
             [
              0,
              "#0d0887"
             ],
             [
              0.1111111111111111,
              "#46039f"
             ],
             [
              0.2222222222222222,
              "#7201a8"
             ],
             [
              0.3333333333333333,
              "#9c179e"
             ],
             [
              0.4444444444444444,
              "#bd3786"
             ],
             [
              0.5555555555555556,
              "#d8576b"
             ],
             [
              0.6666666666666666,
              "#ed7953"
             ],
             [
              0.7777777777777778,
              "#fb9f3a"
             ],
             [
              0.8888888888888888,
              "#fdca26"
             ],
             [
              1,
              "#f0f921"
             ]
            ],
            "type": "histogram2d"
           }
          ],
          "histogram2dcontour": [
           {
            "colorbar": {
             "outlinewidth": 0,
             "ticks": ""
            },
            "colorscale": [
             [
              0,
              "#0d0887"
             ],
             [
              0.1111111111111111,
              "#46039f"
             ],
             [
              0.2222222222222222,
              "#7201a8"
             ],
             [
              0.3333333333333333,
              "#9c179e"
             ],
             [
              0.4444444444444444,
              "#bd3786"
             ],
             [
              0.5555555555555556,
              "#d8576b"
             ],
             [
              0.6666666666666666,
              "#ed7953"
             ],
             [
              0.7777777777777778,
              "#fb9f3a"
             ],
             [
              0.8888888888888888,
              "#fdca26"
             ],
             [
              1,
              "#f0f921"
             ]
            ],
            "type": "histogram2dcontour"
           }
          ],
          "mesh3d": [
           {
            "colorbar": {
             "outlinewidth": 0,
             "ticks": ""
            },
            "type": "mesh3d"
           }
          ],
          "parcoords": [
           {
            "line": {
             "colorbar": {
              "outlinewidth": 0,
              "ticks": ""
             }
            },
            "type": "parcoords"
           }
          ],
          "pie": [
           {
            "automargin": true,
            "type": "pie"
           }
          ],
          "scatter": [
           {
            "fillpattern": {
             "fillmode": "overlay",
             "size": 10,
             "solidity": 0.2
            },
            "type": "scatter"
           }
          ],
          "scatter3d": [
           {
            "line": {
             "colorbar": {
              "outlinewidth": 0,
              "ticks": ""
             }
            },
            "marker": {
             "colorbar": {
              "outlinewidth": 0,
              "ticks": ""
             }
            },
            "type": "scatter3d"
           }
          ],
          "scattercarpet": [
           {
            "marker": {
             "colorbar": {
              "outlinewidth": 0,
              "ticks": ""
             }
            },
            "type": "scattercarpet"
           }
          ],
          "scattergeo": [
           {
            "marker": {
             "colorbar": {
              "outlinewidth": 0,
              "ticks": ""
             }
            },
            "type": "scattergeo"
           }
          ],
          "scattergl": [
           {
            "marker": {
             "colorbar": {
              "outlinewidth": 0,
              "ticks": ""
             }
            },
            "type": "scattergl"
           }
          ],
          "scattermapbox": [
           {
            "marker": {
             "colorbar": {
              "outlinewidth": 0,
              "ticks": ""
             }
            },
            "type": "scattermapbox"
           }
          ],
          "scatterpolar": [
           {
            "marker": {
             "colorbar": {
              "outlinewidth": 0,
              "ticks": ""
             }
            },
            "type": "scatterpolar"
           }
          ],
          "scatterpolargl": [
           {
            "marker": {
             "colorbar": {
              "outlinewidth": 0,
              "ticks": ""
             }
            },
            "type": "scatterpolargl"
           }
          ],
          "scatterternary": [
           {
            "marker": {
             "colorbar": {
              "outlinewidth": 0,
              "ticks": ""
             }
            },
            "type": "scatterternary"
           }
          ],
          "surface": [
           {
            "colorbar": {
             "outlinewidth": 0,
             "ticks": ""
            },
            "colorscale": [
             [
              0,
              "#0d0887"
             ],
             [
              0.1111111111111111,
              "#46039f"
             ],
             [
              0.2222222222222222,
              "#7201a8"
             ],
             [
              0.3333333333333333,
              "#9c179e"
             ],
             [
              0.4444444444444444,
              "#bd3786"
             ],
             [
              0.5555555555555556,
              "#d8576b"
             ],
             [
              0.6666666666666666,
              "#ed7953"
             ],
             [
              0.7777777777777778,
              "#fb9f3a"
             ],
             [
              0.8888888888888888,
              "#fdca26"
             ],
             [
              1,
              "#f0f921"
             ]
            ],
            "type": "surface"
           }
          ],
          "table": [
           {
            "cells": {
             "fill": {
              "color": "#EBF0F8"
             },
             "line": {
              "color": "white"
             }
            },
            "header": {
             "fill": {
              "color": "#C8D4E3"
             },
             "line": {
              "color": "white"
             }
            },
            "type": "table"
           }
          ]
         },
         "layout": {
          "annotationdefaults": {
           "arrowcolor": "#2a3f5f",
           "arrowhead": 0,
           "arrowwidth": 1
          },
          "autotypenumbers": "strict",
          "coloraxis": {
           "colorbar": {
            "outlinewidth": 0,
            "ticks": ""
           }
          },
          "colorscale": {
           "diverging": [
            [
             0,
             "#8e0152"
            ],
            [
             0.1,
             "#c51b7d"
            ],
            [
             0.2,
             "#de77ae"
            ],
            [
             0.3,
             "#f1b6da"
            ],
            [
             0.4,
             "#fde0ef"
            ],
            [
             0.5,
             "#f7f7f7"
            ],
            [
             0.6,
             "#e6f5d0"
            ],
            [
             0.7,
             "#b8e186"
            ],
            [
             0.8,
             "#7fbc41"
            ],
            [
             0.9,
             "#4d9221"
            ],
            [
             1,
             "#276419"
            ]
           ],
           "sequential": [
            [
             0,
             "#0d0887"
            ],
            [
             0.1111111111111111,
             "#46039f"
            ],
            [
             0.2222222222222222,
             "#7201a8"
            ],
            [
             0.3333333333333333,
             "#9c179e"
            ],
            [
             0.4444444444444444,
             "#bd3786"
            ],
            [
             0.5555555555555556,
             "#d8576b"
            ],
            [
             0.6666666666666666,
             "#ed7953"
            ],
            [
             0.7777777777777778,
             "#fb9f3a"
            ],
            [
             0.8888888888888888,
             "#fdca26"
            ],
            [
             1,
             "#f0f921"
            ]
           ],
           "sequentialminus": [
            [
             0,
             "#0d0887"
            ],
            [
             0.1111111111111111,
             "#46039f"
            ],
            [
             0.2222222222222222,
             "#7201a8"
            ],
            [
             0.3333333333333333,
             "#9c179e"
            ],
            [
             0.4444444444444444,
             "#bd3786"
            ],
            [
             0.5555555555555556,
             "#d8576b"
            ],
            [
             0.6666666666666666,
             "#ed7953"
            ],
            [
             0.7777777777777778,
             "#fb9f3a"
            ],
            [
             0.8888888888888888,
             "#fdca26"
            ],
            [
             1,
             "#f0f921"
            ]
           ]
          },
          "colorway": [
           "#636efa",
           "#EF553B",
           "#00cc96",
           "#ab63fa",
           "#FFA15A",
           "#19d3f3",
           "#FF6692",
           "#B6E880",
           "#FF97FF",
           "#FECB52"
          ],
          "font": {
           "color": "#2a3f5f"
          },
          "geo": {
           "bgcolor": "white",
           "lakecolor": "white",
           "landcolor": "#E5ECF6",
           "showlakes": true,
           "showland": true,
           "subunitcolor": "white"
          },
          "hoverlabel": {
           "align": "left"
          },
          "hovermode": "closest",
          "mapbox": {
           "style": "light"
          },
          "paper_bgcolor": "white",
          "plot_bgcolor": "#E5ECF6",
          "polar": {
           "angularaxis": {
            "gridcolor": "white",
            "linecolor": "white",
            "ticks": ""
           },
           "bgcolor": "#E5ECF6",
           "radialaxis": {
            "gridcolor": "white",
            "linecolor": "white",
            "ticks": ""
           }
          },
          "scene": {
           "xaxis": {
            "backgroundcolor": "#E5ECF6",
            "gridcolor": "white",
            "gridwidth": 2,
            "linecolor": "white",
            "showbackground": true,
            "ticks": "",
            "zerolinecolor": "white"
           },
           "yaxis": {
            "backgroundcolor": "#E5ECF6",
            "gridcolor": "white",
            "gridwidth": 2,
            "linecolor": "white",
            "showbackground": true,
            "ticks": "",
            "zerolinecolor": "white"
           },
           "zaxis": {
            "backgroundcolor": "#E5ECF6",
            "gridcolor": "white",
            "gridwidth": 2,
            "linecolor": "white",
            "showbackground": true,
            "ticks": "",
            "zerolinecolor": "white"
           }
          },
          "shapedefaults": {
           "line": {
            "color": "#2a3f5f"
           }
          },
          "ternary": {
           "aaxis": {
            "gridcolor": "white",
            "linecolor": "white",
            "ticks": ""
           },
           "baxis": {
            "gridcolor": "white",
            "linecolor": "white",
            "ticks": ""
           },
           "bgcolor": "#E5ECF6",
           "caxis": {
            "gridcolor": "white",
            "linecolor": "white",
            "ticks": ""
           }
          },
          "title": {
           "x": 0.05
          },
          "xaxis": {
           "automargin": true,
           "gridcolor": "white",
           "linecolor": "white",
           "ticks": "",
           "title": {
            "standoff": 15
           },
           "zerolinecolor": "white",
           "zerolinewidth": 2
          },
          "yaxis": {
           "automargin": true,
           "gridcolor": "white",
           "linecolor": "white",
           "ticks": "",
           "title": {
            "standoff": 15
           },
           "zerolinecolor": "white",
           "zerolinewidth": 2
          }
         }
        },
        "title": {
         "text": "Wind Speeds on UW Tower during highest 5th percentile windy days"
        },
        "xaxis": {
         "title": {
          "text": "Time of Day (Local)"
         }
        },
        "yaxis": {
         "title": {
          "text": "Wind Speed (m/s)"
         }
        }
       }
      },
      "text/html": [
       "<div>                            <div id=\"aa2ccff1-2710-464f-8b13-0e831cfc562f\" class=\"plotly-graph-div\" style=\"height:525px; width:100%;\"></div>            <script type=\"text/javascript\">                require([\"plotly\"], function(Plotly) {                    window.PLOTLYENV=window.PLOTLYENV || {};                                    if (document.getElementById(\"aa2ccff1-2710-464f-8b13-0e831cfc562f\")) {                    Plotly.newPlot(                        \"aa2ccff1-2710-464f-8b13-0e831cfc562f\",                        [{\"connectgaps\":false,\"marker\":{\"color\":\"rgb(19, 97, 172)\"},\"name\":\"2022-12-13\",\"x\":[\"00:00:00\",\"00:30:00\",\"01:00:00\",\"01:30:00\",\"02:00:00\",\"02:30:00\",\"03:00:00\",\"03:30:00\",\"04:00:00\",\"04:30:00\",\"05:00:00\",\"05:30:00\",\"06:00:00\",\"06:30:00\",\"07:00:00\",\"07:30:00\",\"08:00:00\",\"08:30:00\",\"09:00:00\",\"09:30:00\",\"10:00:00\",\"10:30:00\",\"11:00:00\",\"11:30:00\",\"12:00:00\",\"12:30:00\",\"13:00:00\",\"13:30:00\",\"14:00:00\",\"14:30:00\",\"15:00:00\",\"15:30:00\",\"16:00:00\",\"16:30:00\",\"17:00:00\",\"17:30:00\",\"18:00:00\",\"18:30:00\",\"19:00:00\",\"19:30:00\",\"20:00:00\",\"20:30:00\",\"21:00:00\",\"21:30:00\",\"22:00:00\",\"22:30:00\",\"23:00:00\",\"23:30:00\"],\"y\":[2.69866681098938,1.857699990272522,2.978066921234131,3.0543999671936035,3.162933349609375,2.9095664024353027,3.096766233444214,2.900099754333496,2.3048667907714844,3.2776668071746826,3.5985329151153564,4.4969000816345215,3.527033567428589,3.539733409881592,2.8261332511901855,3.1516668796539307,4.214333534240723,4.67983341217041,5.314600467681885,5.141266345977783,4.6494340896606445,5.0229997634887695,5.890233516693115,5.905433654785156,6.015666484832764,5.64263391494751,6.172933578491211,6.080033302307129,6.098633289337158,6.288300037384033,5.937666416168213,5.592033863067627,6.196465969085693,5.700400352478027,5.834599494934082,6.8230671882629395,6.705933570861816,6.412633419036865,6.458865642547607,6.333133220672607,5.753966808319092,4.389666557312012,4.885333061218262,5.405533313751221,6.2730326652526855,6.400266170501709,6.7429327964782715,6.516833782196045],\"type\":\"scatter\"},{\"connectgaps\":false,\"marker\":{\"color\":\"rgb(19, 99, 173)\"},\"name\":\"2022-12-14\",\"x\":[\"00:00:00\",\"00:30:00\",\"01:00:00\",\"01:30:00\",\"02:00:00\",\"02:30:00\",\"03:00:00\",\"03:30:00\",\"04:00:00\",\"04:30:00\",\"05:00:00\",\"05:30:00\",\"06:00:00\",\"06:30:00\",\"07:00:00\",\"07:30:00\",\"08:00:00\",\"08:30:00\",\"09:00:00\",\"09:30:00\",\"10:00:00\",\"10:30:00\",\"11:00:00\",\"11:30:00\",\"12:00:00\",\"12:30:00\",\"13:00:00\",\"13:30:00\",\"14:00:00\",\"14:30:00\",\"15:00:00\",\"15:30:00\",\"16:00:00\",\"16:30:00\",\"17:00:00\",\"17:30:00\",\"18:00:00\",\"18:30:00\",\"19:00:00\",\"19:30:00\",\"20:00:00\",\"20:30:00\",\"21:00:00\",\"21:30:00\",\"22:00:00\",\"22:30:00\",\"23:00:00\",\"23:30:00\"],\"y\":[7.087367057800293,6.3610005378723145,5.817766189575195,5.313699722290039,5.83613395690918,6.186766147613525,6.199465751647949,6.745266437530518,6.553999900817871,6.558233737945557,6.322300434112549,6.651132583618164,5.644233703613281,6.502166748046875,5.926033020019531,5.880934238433838,7.493432998657227,6.845666408538818,7.603300094604492,7.996100425720215,7.712433815002441,6.773733139038086,6.847899913787842,6.69016695022583,6.97160005569458,6.498366355895996,6.884533882141113,6.472933292388916,6.505499839782715,6.074899196624756,5.225766181945801,4.440999984741211,4.142233371734619,3.8343665599823,4.042399883270264,3.414299726486206,3.022000312805176,2.4477999210357666,1.672800064086914,2.292466640472412,3.035933494567871,2.679999589920044,1.750266671180725,2.878533363342285,3.4043667316436768,3.6842665672302246,3.9885001182556152,3.6697332859039307],\"type\":\"scatter\"},{\"connectgaps\":false,\"marker\":{\"color\":\"rgb(25, 111, 178)\"},\"name\":\"2022-12-21\",\"x\":[\"00:00:00\",\"00:30:00\",\"01:00:00\",\"01:30:00\",\"02:00:00\",\"02:30:00\",\"03:00:00\",\"03:30:00\",\"04:00:00\",\"04:30:00\",\"05:00:00\",\"05:30:00\",\"06:00:00\",\"06:30:00\",\"07:00:00\",\"07:30:00\",\"08:00:00\",\"08:30:00\",\"09:00:00\",\"09:30:00\",\"10:00:00\",\"10:30:00\",\"11:00:00\",\"11:30:00\",\"12:00:00\",\"12:30:00\",\"13:00:00\",\"13:30:00\",\"14:00:00\",\"14:30:00\",\"15:00:00\",\"15:30:00\",\"16:00:00\",\"16:30:00\",\"17:00:00\",\"17:30:00\",\"18:00:00\",\"18:30:00\",\"19:00:00\",\"19:30:00\",\"20:00:00\",\"20:30:00\",\"21:00:00\",\"21:30:00\",\"22:00:00\",\"22:30:00\",\"23:00:00\",\"23:30:00\"],\"y\":[0.9537333846092224,0.9420334696769714,0.7224332094192505,0.640466570854187,0.6889666318893433,1.0811667442321777,1.264799952507019,1.279099941253662,1.0566000938415527,1.1048333644866943,3.165433168411255,3.183300018310547,3.90256667137146,2.370333194732666,1.005199909210205,2.4387004375457764,4.009333610534668,4.290433406829834,3.5995330810546875,3.321732997894287,4.944966793060303,6.093132972717285,7.289733409881592,6.885499954223633,6.743333339691162,5.760100364685059,4.7365336418151855,5.089400291442871,5.95346736907959,5.977866172790527,6.168599605560303,6.867599964141846,6.664600849151611,6.06786584854126,5.989466667175293,6.690466403961182,5.705366611480713,5.6782002449035645,6.209266662597656,7.052267074584961,6.283099174499512,6.560434341430664,7.288232803344727,7.403999328613281,8.902332305908203,9.146932601928711,7.887532711029053,6.385700702667236],\"type\":\"scatter\"},{\"connectgaps\":false,\"marker\":{\"color\":\"rgb(26, 112, 178)\"},\"name\":\"2022-12-22\",\"x\":[\"00:00:00\",\"00:30:00\",\"01:00:00\",\"01:30:00\",\"02:00:00\",\"02:30:00\",\"03:00:00\",\"03:30:00\",\"04:00:00\",\"04:30:00\",\"05:00:00\",\"05:30:00\",\"06:00:00\",\"06:30:00\",\"07:00:00\",\"07:30:00\",\"08:00:00\",\"08:30:00\",\"09:00:00\",\"09:30:00\",\"10:00:00\",\"10:30:00\",\"11:00:00\",\"11:30:00\",\"12:00:00\",\"12:30:00\",\"13:00:00\",\"13:30:00\",\"14:00:00\",\"14:30:00\",\"15:00:00\",\"15:30:00\",\"16:00:00\",\"16:30:00\",\"17:00:00\",\"17:30:00\",\"18:00:00\",\"18:30:00\",\"19:00:00\",\"19:30:00\",\"20:00:00\",\"20:30:00\",\"21:00:00\",\"21:30:00\",\"22:00:00\",\"22:30:00\",\"23:00:00\",\"23:30:00\"],\"y\":[6.863500118255615,7.12166690826416,7.036233425140381,8.439300537109375,7.0610671043396,7.58220100402832,8.833832740783691,10.11889934539795,10.805499076843262,12.862000465393066,11.643632888793945,11.219266891479492,9.576600074768066,10.428333282470703,10.93936538696289,10.641833305358887,9.800500869750977,8.29106616973877,8.224900245666504,7.238565921783447,6.85606575012207,6.228099346160889,5.980966567993164,5.644933223724365,4.709799766540527,5.137134075164795,5.3237996101379395,4.488333225250244,5.041266441345215,4.926200866699219,5.402232646942139,4.9394330978393555,5.395566940307617,5.891967296600342,5.0183000564575195,3.8539328575134277,4.579366683959961,3.668799877166748,3.260833263397217,3.4322667121887207,3.620166540145874,3.4143331050872803,2.7569663524627686,2.7166671752929688,1.932466745376587,1.642133355140686,1.4765665531158447,0.9348334074020386],\"type\":\"scatter\"},{\"connectgaps\":false,\"marker\":{\"color\":\"rgb(100, 206, 227)\"},\"name\":\"2023-02-19\",\"x\":[\"00:00:00\",\"00:30:00\",\"01:00:00\",\"01:30:00\",\"02:00:00\",\"02:30:00\",\"03:00:00\",\"03:30:00\",\"04:00:00\",\"04:30:00\",\"05:00:00\",\"05:30:00\",\"06:00:00\",\"06:30:00\",\"07:00:00\",\"07:30:00\",\"08:00:00\",\"08:30:00\",\"09:00:00\",\"09:30:00\",\"10:00:00\",\"10:30:00\",\"11:00:00\",\"11:30:00\",\"12:00:00\",\"12:30:00\",\"13:00:00\",\"13:30:00\",\"14:00:00\",\"14:30:00\",\"15:00:00\",\"15:30:00\",\"16:00:00\",\"16:30:00\",\"17:00:00\",\"17:30:00\",\"18:00:00\",\"18:30:00\",\"19:00:00\",\"19:30:00\",\"20:00:00\",\"20:30:00\",\"21:00:00\",\"21:30:00\",\"22:00:00\",\"22:30:00\",\"23:00:00\",\"23:30:00\"],\"y\":[3.9790666103363037,6.039967060089111,5.207233905792236,5.778166770935059,6.120733737945557,5.819033145904541,5.978033542633057,6.31713342666626,5.034233570098877,5.476533889770508,5.638533115386963,6.132500171661377,5.783133506774902,5.600633144378662,5.513532638549805,5.350632667541504,5.471599102020264,5.379199504852295,6.13539981842041,4.932032585144043,5.2726335525512695,5.560633182525635,4.396200180053711,2.904099941253662,3.335700273513794,4.142533302307129,6.347433090209961,6.776900291442871,7.006133556365967,7.529500484466553,9.196732521057129,8.138833045959473,7.93316650390625,8.016533851623535,6.708166599273682,6.449100017547607,5.485400676727295,4.853366374969482,4.952999591827393,3.790466785430908,3.963566303253174,3.982800006866455,3.7582335472106934,3.472867012023926,3.809833526611328,4.935999393463135,4.743598937988281,5.139767169952393],\"type\":\"scatter\"},{\"connectgaps\":false,\"marker\":{\"color\":\"rgb(196, 231, 221)\"},\"name\":\"2023-03-22\",\"x\":[\"00:00:00\",\"00:30:00\",\"01:00:00\",\"01:30:00\",\"02:00:00\",\"02:30:00\",\"03:00:00\",\"03:30:00\",\"04:00:00\",\"04:30:00\",\"05:00:00\",\"05:30:00\",\"06:00:00\",\"06:30:00\",\"07:00:00\",\"07:30:00\",\"08:00:00\",\"08:30:00\",\"09:00:00\",\"09:30:00\",\"10:00:00\",\"10:30:00\",\"11:00:00\",\"11:30:00\",\"12:00:00\",\"12:30:00\",\"13:00:00\",\"13:30:00\",\"14:00:00\",\"14:30:00\",\"15:00:00\",\"15:30:00\",\"16:00:00\",\"16:30:00\",\"17:00:00\",\"17:30:00\",\"18:00:00\",\"18:30:00\",\"19:00:00\",\"19:30:00\",\"20:00:00\",\"20:30:00\",\"21:00:00\",\"21:30:00\",\"22:00:00\",\"22:30:00\",\"23:00:00\",\"23:30:00\"],\"y\":[2.5998332500457764,4.520400524139404,6.142300605773926,4.971133232116699,4.349800109863281,3.31850004196167,4.850166320800781,5.106466770172119,6.077133655548096,4.987366676330566,7.28606653213501,5.7487335205078125,3.421099901199341,3.7756001949310303,4.525466442108154,5.649232864379883,4.544600009918213,4.60996675491333,5.962532997131348,3.4459333419799805,3.2592337131500244,4.632933616638184,2.118000030517578,3.0189669132232666,5.932633399963379,4.045433521270752,6.018433094024658,3.663299798965454,3.800633430480957,3.895400047302246,5.728933334350586,4.801699638366699,5.889466762542725,4.414233207702637,3.689833402633667,3.678499937057495,3.9075000286102295,2.5923666954040527,1.585566759109497,2.5624330043792725,2.077566623687744,1.665700078010559,1.9554333686828613,2.2638330459594727,1.9238001108169556,2.2071335315704346,4.593667030334473,4.2502665519714355],\"type\":\"scatter\"},{\"connectgaps\":false,\"marker\":{\"color\":\"rgb(223, 233, 210)\"},\"name\":\"2023-03-31\",\"x\":[\"00:00:00\",\"00:30:00\",\"01:00:00\",\"01:30:00\",\"02:00:00\",\"02:30:00\",\"03:00:00\",\"03:30:00\",\"04:00:00\",\"04:30:00\",\"05:00:00\",\"05:30:00\",\"06:00:00\",\"06:30:00\",\"07:00:00\",\"07:30:00\",\"08:00:00\",\"08:30:00\",\"09:00:00\",\"09:30:00\",\"10:00:00\",\"10:30:00\",\"11:00:00\",\"11:30:00\",\"12:00:00\",\"12:30:00\",\"13:00:00\",\"13:30:00\",\"14:00:00\",\"14:30:00\",\"15:00:00\",\"15:30:00\",\"16:00:00\",\"16:30:00\",\"17:00:00\",\"17:30:00\",\"18:00:00\",\"18:30:00\",\"19:00:00\",\"19:30:00\",\"20:00:00\",\"20:30:00\",\"21:00:00\",\"21:30:00\",\"22:00:00\",\"22:30:00\",\"23:00:00\",\"23:30:00\"],\"y\":[null,null,null,null,null,null,null,null,null,null,null,null,null,null,null,null,null,4.7063751220703125,5.617066383361816,6.394632816314697,5.586400032043457,4.755533218383789,5.740567207336426,4.682333469390869,4.738832950592041,4.771966934204102,4.777866840362549,5.426232814788818,4.709799766540527,4.261233329772949,3.8930001258850098,3.7467334270477295,4.4800004959106445,3.645433187484741,4.21763277053833,3.5345664024353027,4.299799919128418,5.354799747467041,4.268233299255371,3.8261666297912598,3.9589998722076416,4.562066555023193,4.321233749389648,5.297066688537598,4.655333518981934,4.065866470336914,2.7900002002716064,3.1170666217803955],\"type\":\"scatter\"},{\"connectgaps\":false,\"marker\":{\"color\":\"rgb(227, 231, 199)\"},\"name\":\"2023-04-03\",\"x\":[\"00:00:00\",\"00:30:00\",\"01:00:00\",\"01:30:00\",\"02:00:00\",\"02:30:00\",\"03:00:00\",\"03:30:00\",\"04:00:00\",\"04:30:00\",\"05:00:00\",\"05:30:00\",\"06:00:00\",\"06:30:00\",\"07:00:00\",\"07:30:00\",\"08:00:00\",\"08:30:00\",\"09:00:00\",\"09:30:00\",\"10:00:00\",\"10:30:00\",\"11:00:00\",\"11:30:00\",\"12:00:00\",\"12:30:00\",\"13:00:00\",\"13:30:00\",\"14:00:00\",\"14:30:00\",\"15:00:00\",\"15:30:00\",\"16:00:00\",\"16:30:00\",\"17:00:00\",\"17:30:00\",\"18:00:00\",\"18:30:00\",\"19:00:00\",\"19:30:00\",\"20:00:00\",\"20:30:00\",\"21:00:00\",\"21:30:00\",\"22:00:00\",\"22:30:00\",\"23:00:00\",\"23:30:00\"],\"y\":[3.764566659927368,3.3782334327697754,4.015233039855957,3.2159998416900635,4.883600234985352,3.6506335735321045,3.6092000007629395,3.257066488265991,2.8557333946228027,2.604832887649536,2.4454336166381836,1.8481667041778564,1.9426666498184204,2.384333372116089,1.5432665348052979,2.310166597366333,2.3341000080108643,2.7151999473571777,4.061566352844238,4.356766700744629,5.693566799163818,4.626933574676514,5.2139997482299805,4.077200412750244,6.779500484466553,6.583400249481201,6.606634140014648,5.730099678039551,6.072866439819336,5.219033241271973,4.003233432769775,3.423766613006592,6.4322662353515625,6.025765895843506,4.053666591644287,3.8555335998535156,4.575933933258057,3.7995998859405518,4.704500198364258,2.822166919708252,4.6006669998168945,6.619365215301514,4.051666736602783,3.398566722869873,3.9825332164764404,3.868133783340454,4.500234127044678,4.656233787536621],\"type\":\"scatter\"},{\"connectgaps\":false,\"marker\":{\"color\":\"rgb(241, 205, 91)\"},\"name\":\"2023-04-28\",\"x\":[\"00:00:00\",\"00:30:00\",\"01:00:00\",\"01:30:00\",\"02:00:00\",\"02:30:00\",\"03:00:00\",\"03:30:00\",\"04:00:00\",\"04:30:00\",\"05:00:00\",\"05:30:00\",\"06:00:00\",\"06:30:00\",\"07:00:00\",\"07:30:00\",\"08:00:00\",\"08:30:00\",\"09:00:00\",\"09:30:00\",\"10:00:00\",\"10:30:00\",\"11:00:00\",\"11:30:00\",\"12:00:00\",\"12:30:00\",\"13:00:00\",\"13:30:00\",\"14:00:00\",\"14:30:00\",\"15:00:00\",\"15:30:00\",\"16:00:00\",\"16:30:00\",\"17:00:00\",\"17:30:00\",\"18:00:00\",\"18:30:00\",\"19:00:00\",\"19:30:00\",\"20:00:00\",\"20:30:00\",\"21:00:00\",\"21:30:00\",\"22:00:00\",\"22:30:00\",\"23:00:00\",\"23:30:00\"],\"y\":[3.0059332847595215,1.0421334505081177,2.4827332496643066,2.9192328453063965,3.0182669162750244,3.660600185394287,3.355599880218506,2.971400022506714,2.839033842086792,2.387200355529785,3.1897332668304443,2.880366802215576,2.271899938583374,1.0053666830062866,1.9367332458496094,1.9506332874298096,2.8366332054138184,2.370666742324829,4.8625335693359375,4.822066783905029,4.862466812133789,5.236200332641602,4.730466842651367,5.734333515167236,6.51406717300415,7.768599987030029,7.808899879455566,7.948733329772949,6.991766929626465,7.26140022277832,6.6168999671936035,7.419066429138184,6.664999961853027,7.14673376083374,6.633466720581055,5.986032962799072,4.941700458526611,4.756900310516357,3.898066997528076,2.50136661529541,3.5233333110809326,3.10746693611145,2.7657999992370605,3.1666667461395264,2.3725335597991943,0.8247334361076355,1.1114001274108887,1.0685999393463135],\"type\":\"scatter\"},{\"connectgaps\":false,\"line\":{\"dash\":\"dash\",\"width\":3},\"marker\":{\"color\":\"black\"},\"name\":\"mean\",\"x\":[\"00:00:00\",\"00:30:00\",\"01:00:00\",\"01:30:00\",\"02:00:00\",\"02:30:00\",\"03:00:00\",\"03:30:00\",\"04:00:00\",\"04:30:00\",\"05:00:00\",\"05:30:00\",\"06:00:00\",\"06:30:00\",\"07:00:00\",\"07:30:00\",\"08:00:00\",\"08:30:00\",\"09:00:00\",\"09:30:00\",\"10:00:00\",\"10:30:00\",\"11:00:00\",\"11:30:00\",\"12:00:00\",\"12:30:00\",\"13:00:00\",\"13:30:00\",\"14:00:00\",\"14:30:00\",\"15:00:00\",\"15:30:00\",\"16:00:00\",\"16:30:00\",\"17:00:00\",\"17:30:00\",\"18:00:00\",\"18:30:00\",\"19:00:00\",\"19:30:00\",\"20:00:00\",\"20:30:00\",\"21:00:00\",\"21:30:00\",\"22:00:00\",\"22:30:00\",\"23:00:00\",\"23:30:00\"],\"y\":[3.8690834045410156,3.9078919887542725,4.300250053405762,4.2915496826171875,4.390187740325928,4.276058197021484,4.6484832763671875,4.836928844451904,4.690887451171875,4.9073333740234375,5.411208152770996,5.270045757293701,4.5086541175842285,4.450812339782715,4.276966094970703,4.671724796295166,5.088066577911377,4.876489639282227,5.709047794342041,5.294343948364258,5.426355361938477,5.4366888999938965,5.356451988220215,5.060329914093018,5.749014854431152,5.594463348388672,6.075229644775391,5.74177360534668,5.79778528213501,5.714870452880859,5.797007083892822,5.485574245452881,5.977640628814697,5.638144016265869,5.131947994232178,4.9206109046936035,4.802556037902832,4.39605188369751,4.1123480796813965,3.8458590507507324,4.090810775756836,4.1090922355651855,3.725907325744629,4.000414848327637,4.139581680297852,4.086162567138672,4.203825950622559,3.971004009246826],\"type\":\"scatter\"}],                        {\"template\":{\"data\":{\"histogram2dcontour\":[{\"type\":\"histogram2dcontour\",\"colorbar\":{\"outlinewidth\":0,\"ticks\":\"\"},\"colorscale\":[[0.0,\"#0d0887\"],[0.1111111111111111,\"#46039f\"],[0.2222222222222222,\"#7201a8\"],[0.3333333333333333,\"#9c179e\"],[0.4444444444444444,\"#bd3786\"],[0.5555555555555556,\"#d8576b\"],[0.6666666666666666,\"#ed7953\"],[0.7777777777777778,\"#fb9f3a\"],[0.8888888888888888,\"#fdca26\"],[1.0,\"#f0f921\"]]}],\"choropleth\":[{\"type\":\"choropleth\",\"colorbar\":{\"outlinewidth\":0,\"ticks\":\"\"}}],\"histogram2d\":[{\"type\":\"histogram2d\",\"colorbar\":{\"outlinewidth\":0,\"ticks\":\"\"},\"colorscale\":[[0.0,\"#0d0887\"],[0.1111111111111111,\"#46039f\"],[0.2222222222222222,\"#7201a8\"],[0.3333333333333333,\"#9c179e\"],[0.4444444444444444,\"#bd3786\"],[0.5555555555555556,\"#d8576b\"],[0.6666666666666666,\"#ed7953\"],[0.7777777777777778,\"#fb9f3a\"],[0.8888888888888888,\"#fdca26\"],[1.0,\"#f0f921\"]]}],\"heatmap\":[{\"type\":\"heatmap\",\"colorbar\":{\"outlinewidth\":0,\"ticks\":\"\"},\"colorscale\":[[0.0,\"#0d0887\"],[0.1111111111111111,\"#46039f\"],[0.2222222222222222,\"#7201a8\"],[0.3333333333333333,\"#9c179e\"],[0.4444444444444444,\"#bd3786\"],[0.5555555555555556,\"#d8576b\"],[0.6666666666666666,\"#ed7953\"],[0.7777777777777778,\"#fb9f3a\"],[0.8888888888888888,\"#fdca26\"],[1.0,\"#f0f921\"]]}],\"heatmapgl\":[{\"type\":\"heatmapgl\",\"colorbar\":{\"outlinewidth\":0,\"ticks\":\"\"},\"colorscale\":[[0.0,\"#0d0887\"],[0.1111111111111111,\"#46039f\"],[0.2222222222222222,\"#7201a8\"],[0.3333333333333333,\"#9c179e\"],[0.4444444444444444,\"#bd3786\"],[0.5555555555555556,\"#d8576b\"],[0.6666666666666666,\"#ed7953\"],[0.7777777777777778,\"#fb9f3a\"],[0.8888888888888888,\"#fdca26\"],[1.0,\"#f0f921\"]]}],\"contourcarpet\":[{\"type\":\"contourcarpet\",\"colorbar\":{\"outlinewidth\":0,\"ticks\":\"\"}}],\"contour\":[{\"type\":\"contour\",\"colorbar\":{\"outlinewidth\":0,\"ticks\":\"\"},\"colorscale\":[[0.0,\"#0d0887\"],[0.1111111111111111,\"#46039f\"],[0.2222222222222222,\"#7201a8\"],[0.3333333333333333,\"#9c179e\"],[0.4444444444444444,\"#bd3786\"],[0.5555555555555556,\"#d8576b\"],[0.6666666666666666,\"#ed7953\"],[0.7777777777777778,\"#fb9f3a\"],[0.8888888888888888,\"#fdca26\"],[1.0,\"#f0f921\"]]}],\"surface\":[{\"type\":\"surface\",\"colorbar\":{\"outlinewidth\":0,\"ticks\":\"\"},\"colorscale\":[[0.0,\"#0d0887\"],[0.1111111111111111,\"#46039f\"],[0.2222222222222222,\"#7201a8\"],[0.3333333333333333,\"#9c179e\"],[0.4444444444444444,\"#bd3786\"],[0.5555555555555556,\"#d8576b\"],[0.6666666666666666,\"#ed7953\"],[0.7777777777777778,\"#fb9f3a\"],[0.8888888888888888,\"#fdca26\"],[1.0,\"#f0f921\"]]}],\"mesh3d\":[{\"type\":\"mesh3d\",\"colorbar\":{\"outlinewidth\":0,\"ticks\":\"\"}}],\"scatter\":[{\"fillpattern\":{\"fillmode\":\"overlay\",\"size\":10,\"solidity\":0.2},\"type\":\"scatter\"}],\"parcoords\":[{\"type\":\"parcoords\",\"line\":{\"colorbar\":{\"outlinewidth\":0,\"ticks\":\"\"}}}],\"scatterpolargl\":[{\"type\":\"scatterpolargl\",\"marker\":{\"colorbar\":{\"outlinewidth\":0,\"ticks\":\"\"}}}],\"bar\":[{\"error_x\":{\"color\":\"#2a3f5f\"},\"error_y\":{\"color\":\"#2a3f5f\"},\"marker\":{\"line\":{\"color\":\"#E5ECF6\",\"width\":0.5},\"pattern\":{\"fillmode\":\"overlay\",\"size\":10,\"solidity\":0.2}},\"type\":\"bar\"}],\"scattergeo\":[{\"type\":\"scattergeo\",\"marker\":{\"colorbar\":{\"outlinewidth\":0,\"ticks\":\"\"}}}],\"scatterpolar\":[{\"type\":\"scatterpolar\",\"marker\":{\"colorbar\":{\"outlinewidth\":0,\"ticks\":\"\"}}}],\"histogram\":[{\"marker\":{\"pattern\":{\"fillmode\":\"overlay\",\"size\":10,\"solidity\":0.2}},\"type\":\"histogram\"}],\"scattergl\":[{\"type\":\"scattergl\",\"marker\":{\"colorbar\":{\"outlinewidth\":0,\"ticks\":\"\"}}}],\"scatter3d\":[{\"type\":\"scatter3d\",\"line\":{\"colorbar\":{\"outlinewidth\":0,\"ticks\":\"\"}},\"marker\":{\"colorbar\":{\"outlinewidth\":0,\"ticks\":\"\"}}}],\"scattermapbox\":[{\"type\":\"scattermapbox\",\"marker\":{\"colorbar\":{\"outlinewidth\":0,\"ticks\":\"\"}}}],\"scatterternary\":[{\"type\":\"scatterternary\",\"marker\":{\"colorbar\":{\"outlinewidth\":0,\"ticks\":\"\"}}}],\"scattercarpet\":[{\"type\":\"scattercarpet\",\"marker\":{\"colorbar\":{\"outlinewidth\":0,\"ticks\":\"\"}}}],\"carpet\":[{\"aaxis\":{\"endlinecolor\":\"#2a3f5f\",\"gridcolor\":\"white\",\"linecolor\":\"white\",\"minorgridcolor\":\"white\",\"startlinecolor\":\"#2a3f5f\"},\"baxis\":{\"endlinecolor\":\"#2a3f5f\",\"gridcolor\":\"white\",\"linecolor\":\"white\",\"minorgridcolor\":\"white\",\"startlinecolor\":\"#2a3f5f\"},\"type\":\"carpet\"}],\"table\":[{\"cells\":{\"fill\":{\"color\":\"#EBF0F8\"},\"line\":{\"color\":\"white\"}},\"header\":{\"fill\":{\"color\":\"#C8D4E3\"},\"line\":{\"color\":\"white\"}},\"type\":\"table\"}],\"barpolar\":[{\"marker\":{\"line\":{\"color\":\"#E5ECF6\",\"width\":0.5},\"pattern\":{\"fillmode\":\"overlay\",\"size\":10,\"solidity\":0.2}},\"type\":\"barpolar\"}],\"pie\":[{\"automargin\":true,\"type\":\"pie\"}]},\"layout\":{\"autotypenumbers\":\"strict\",\"colorway\":[\"#636efa\",\"#EF553B\",\"#00cc96\",\"#ab63fa\",\"#FFA15A\",\"#19d3f3\",\"#FF6692\",\"#B6E880\",\"#FF97FF\",\"#FECB52\"],\"font\":{\"color\":\"#2a3f5f\"},\"hovermode\":\"closest\",\"hoverlabel\":{\"align\":\"left\"},\"paper_bgcolor\":\"white\",\"plot_bgcolor\":\"#E5ECF6\",\"polar\":{\"bgcolor\":\"#E5ECF6\",\"angularaxis\":{\"gridcolor\":\"white\",\"linecolor\":\"white\",\"ticks\":\"\"},\"radialaxis\":{\"gridcolor\":\"white\",\"linecolor\":\"white\",\"ticks\":\"\"}},\"ternary\":{\"bgcolor\":\"#E5ECF6\",\"aaxis\":{\"gridcolor\":\"white\",\"linecolor\":\"white\",\"ticks\":\"\"},\"baxis\":{\"gridcolor\":\"white\",\"linecolor\":\"white\",\"ticks\":\"\"},\"caxis\":{\"gridcolor\":\"white\",\"linecolor\":\"white\",\"ticks\":\"\"}},\"coloraxis\":{\"colorbar\":{\"outlinewidth\":0,\"ticks\":\"\"}},\"colorscale\":{\"sequential\":[[0.0,\"#0d0887\"],[0.1111111111111111,\"#46039f\"],[0.2222222222222222,\"#7201a8\"],[0.3333333333333333,\"#9c179e\"],[0.4444444444444444,\"#bd3786\"],[0.5555555555555556,\"#d8576b\"],[0.6666666666666666,\"#ed7953\"],[0.7777777777777778,\"#fb9f3a\"],[0.8888888888888888,\"#fdca26\"],[1.0,\"#f0f921\"]],\"sequentialminus\":[[0.0,\"#0d0887\"],[0.1111111111111111,\"#46039f\"],[0.2222222222222222,\"#7201a8\"],[0.3333333333333333,\"#9c179e\"],[0.4444444444444444,\"#bd3786\"],[0.5555555555555556,\"#d8576b\"],[0.6666666666666666,\"#ed7953\"],[0.7777777777777778,\"#fb9f3a\"],[0.8888888888888888,\"#fdca26\"],[1.0,\"#f0f921\"]],\"diverging\":[[0,\"#8e0152\"],[0.1,\"#c51b7d\"],[0.2,\"#de77ae\"],[0.3,\"#f1b6da\"],[0.4,\"#fde0ef\"],[0.5,\"#f7f7f7\"],[0.6,\"#e6f5d0\"],[0.7,\"#b8e186\"],[0.8,\"#7fbc41\"],[0.9,\"#4d9221\"],[1,\"#276419\"]]},\"xaxis\":{\"gridcolor\":\"white\",\"linecolor\":\"white\",\"ticks\":\"\",\"title\":{\"standoff\":15},\"zerolinecolor\":\"white\",\"automargin\":true,\"zerolinewidth\":2},\"yaxis\":{\"gridcolor\":\"white\",\"linecolor\":\"white\",\"ticks\":\"\",\"title\":{\"standoff\":15},\"zerolinecolor\":\"white\",\"automargin\":true,\"zerolinewidth\":2},\"scene\":{\"xaxis\":{\"backgroundcolor\":\"#E5ECF6\",\"gridcolor\":\"white\",\"linecolor\":\"white\",\"showbackground\":true,\"ticks\":\"\",\"zerolinecolor\":\"white\",\"gridwidth\":2},\"yaxis\":{\"backgroundcolor\":\"#E5ECF6\",\"gridcolor\":\"white\",\"linecolor\":\"white\",\"showbackground\":true,\"ticks\":\"\",\"zerolinecolor\":\"white\",\"gridwidth\":2},\"zaxis\":{\"backgroundcolor\":\"#E5ECF6\",\"gridcolor\":\"white\",\"linecolor\":\"white\",\"showbackground\":true,\"ticks\":\"\",\"zerolinecolor\":\"white\",\"gridwidth\":2}},\"shapedefaults\":{\"line\":{\"color\":\"#2a3f5f\"}},\"annotationdefaults\":{\"arrowcolor\":\"#2a3f5f\",\"arrowhead\":0,\"arrowwidth\":1},\"geo\":{\"bgcolor\":\"white\",\"landcolor\":\"#E5ECF6\",\"subunitcolor\":\"white\",\"showland\":true,\"showlakes\":true,\"lakecolor\":\"white\"},\"title\":{\"x\":0.05},\"mapbox\":{\"style\":\"light\"}}},\"hovermode\":\"x unified\",\"yaxis\":{\"title\":{\"text\":\"Wind Speed (m\\u002fs)\"}},\"xaxis\":{\"title\":{\"text\":\"Time of Day (Local)\"}},\"title\":{\"text\":\"Wind Speeds on UW Tower during highest 5th percentile windy days\"}},                        {\"responsive\": true}                    ).then(function(){\n",
       "                            \n",
       "var gd = document.getElementById('aa2ccff1-2710-464f-8b13-0e831cfc562f');\n",
       "var x = new MutationObserver(function (mutations, observer) {{\n",
       "        var display = window.getComputedStyle(gd).display;\n",
       "        if (!display || display === 'none') {{\n",
       "            console.log([gd, 'removed!']);\n",
       "            Plotly.purge(gd);\n",
       "            observer.disconnect();\n",
       "        }}\n",
       "}});\n",
       "\n",
       "// Listen for the removal of the full notebook cells\n",
       "var notebookContainer = gd.closest('#notebook-container');\n",
       "if (notebookContainer) {{\n",
       "    x.observe(notebookContainer, {childList: true});\n",
       "}}\n",
       "\n",
       "// Listen for the clearing of the current output cell\n",
       "var outputEl = gd.closest('.output');\n",
       "if (outputEl) {{\n",
       "    x.observe(outputEl, {childList: true});\n",
       "}}\n",
       "\n",
       "                        })                };                });            </script>        </div>"
      ]
     },
     "metadata": {},
     "output_type": "display_data"
    }
   ],
   "source": [
    "\n",
    "# iterate through the dates and plot the wind speed at 10m on uw tower over the day. Color by the day of water year\n",
    "fig = go.Figure()\n",
    "for date in sail_30min_windy_wind_df.date.unique():\n",
    "    # get the day of water year\n",
    "    day_of_water_year = get_day_of_water_year(date)\n",
    "    # get the data for the date\n",
    "    df = sail_30min_windy_wind_df[sail_30min_windy_wind_df.date == date]\n",
    "    # plot the data\n",
    "    fig.add_trace(go.Scatter(\n",
    "        x=df['time'], \n",
    "        y=df['wspd_arith_mean'],\n",
    "        name=f\"{date}\",\n",
    "        marker_color=color_dict[day_of_water_year],\n",
    "        connectgaps=False\n",
    "    ))\n",
    "# add the mean line with a heavier lineweight\n",
    "fig.add_trace(go.Scatter(\n",
    "    x=sail_30min_windy_time_avg.index, \n",
    "    y=sail_30min_windy_time_avg.values,\n",
    "    name=f\"mean\",\n",
    "    marker_color='black',\n",
    "    connectgaps=False,\n",
    "    line=dict(dash='dash'),\n",
    "    line_width=3\n",
    "))\n",
    "# update to show all hover data and not just the closest point\n",
    "fig.update_layout(hovermode=\"x unified\",\n",
    "                  yaxis_title='Wind Speed (m/s)',\n",
    "                    xaxis_title='Time of Day (Local)',\n",
    "                    title='Wind Speeds on UW Tower during highest 5th percentile windy days',\n",
    ")\n",
    "fig"
   ]
  },
  {
   "cell_type": "code",
   "execution_count": 99,
   "metadata": {},
   "outputs": [
    {
     "name": "stderr",
     "output_type": "stream",
     "text": [
      "The default of observed=False is deprecated and will be changed to True in a future version of pandas. Pass observed=False to retain current behavior or observed=True to adopt the future default and silence this warning.\n",
      "The default of observed=False is deprecated and will be changed to True in a future version of pandas. Pass observed=False to retain current behavior or observed=True to adopt the future default and silence this warning.\n"
     ]
    },
    {
     "data": {
      "application/vnd.plotly.v1+json": {
       "config": {
        "plotlyServerURL": "https://plot.ly"
       },
       "data": [
        {
         "hovertemplate": "speed=0-2<br>frequency=%{r}<br>direction=%{theta}<extra></extra>",
         "legendgroup": "0-2",
         "marker": {
          "color": "#f0f921",
          "pattern": {
           "shape": ""
          }
         },
         "name": "0-2",
         "r": [
          1.4457831325301205,
          1.2048192771084338,
          0.7228915662650602,
          0.24096385542168675,
          0.24096385542168675,
          0.7228915662650602,
          0.7228915662650602,
          0.24096385542168675,
          0.4819277108433735,
          0,
          0.4819277108433735,
          0,
          0,
          0,
          0.24096385542168675,
          0.963855421686747
         ],
         "showlegend": true,
         "subplot": "polar",
         "theta": [
          "N",
          "NNE",
          "NE",
          "ENE",
          "E",
          "ESE",
          "SE",
          "SSE",
          "S",
          "SSW",
          "SW",
          "WSW",
          "W",
          "WNW",
          "NW",
          "NNW"
         ],
         "type": "barpolar"
        },
        {
         "hovertemplate": "speed=2-4<br>frequency=%{r}<br>direction=%{theta}<extra></extra>",
         "legendgroup": "2-4",
         "marker": {
          "color": "#fdca26",
          "pattern": {
           "shape": ""
          }
         },
         "name": "2-4",
         "r": [
          7.710843373493976,
          0.963855421686747,
          1.4457831325301205,
          0.7228915662650602,
          1.4457831325301205,
          4.578313253012048,
          1.4457831325301205,
          0,
          0,
          0.24096385542168675,
          0,
          0,
          0,
          1.2048192771084338,
          3.6144578313253013,
          5.0602409638554215
         ],
         "showlegend": true,
         "subplot": "polar",
         "theta": [
          "N",
          "NNE",
          "NE",
          "ENE",
          "E",
          "ESE",
          "SE",
          "SSE",
          "S",
          "SSW",
          "SW",
          "WSW",
          "W",
          "WNW",
          "NW",
          "NNW"
         ],
         "type": "barpolar"
        },
        {
         "hovertemplate": "speed=4-6<br>frequency=%{r}<br>direction=%{theta}<extra></extra>",
         "legendgroup": "4-6",
         "marker": {
          "color": "#fb9f3a",
          "pattern": {
           "shape": ""
          }
         },
         "name": "4-6",
         "r": [
          7.951807228915663,
          0.7228915662650602,
          0,
          0.24096385542168675,
          1.927710843373494,
          5.0602409638554215,
          0.7228915662650602,
          0,
          0,
          0,
          0,
          0,
          0,
          1.4457831325301205,
          6.9879518072289155,
          10.36144578313253
         ],
         "showlegend": true,
         "subplot": "polar",
         "theta": [
          "N",
          "NNE",
          "NE",
          "ENE",
          "E",
          "ESE",
          "SE",
          "SSE",
          "S",
          "SSW",
          "SW",
          "WSW",
          "W",
          "WNW",
          "NW",
          "NNW"
         ],
         "type": "barpolar"
        },
        {
         "hovertemplate": "speed=6-8<br>frequency=%{r}<br>direction=%{theta}<extra></extra>",
         "legendgroup": "6-8",
         "marker": {
          "color": "#ed7953",
          "pattern": {
           "shape": ""
          }
         },
         "name": "6-8",
         "r": [
          2.891566265060241,
          0,
          0,
          0,
          0.7228915662650602,
          1.927710843373494,
          0,
          0,
          0,
          0,
          0,
          0,
          0,
          1.927710843373494,
          10.36144578313253,
          6.024096385542169
         ],
         "showlegend": true,
         "subplot": "polar",
         "theta": [
          "N",
          "NNE",
          "NE",
          "ENE",
          "E",
          "ESE",
          "SE",
          "SSE",
          "S",
          "SSW",
          "SW",
          "WSW",
          "W",
          "WNW",
          "NW",
          "NNW"
         ],
         "type": "barpolar"
        },
        {
         "hovertemplate": "speed=8-10<br>frequency=%{r}<br>direction=%{theta}<extra></extra>",
         "legendgroup": "8-10",
         "marker": {
          "color": "#d8576b",
          "pattern": {
           "shape": ""
          }
         },
         "name": "8-10",
         "r": [
          0.7228915662650602,
          0,
          0,
          0,
          0,
          0,
          0,
          0,
          0,
          0,
          0,
          0,
          0,
          0,
          0.963855421686747,
          0.963855421686747
         ],
         "showlegend": true,
         "subplot": "polar",
         "theta": [
          "N",
          "NNE",
          "NE",
          "ENE",
          "E",
          "ESE",
          "SE",
          "SSE",
          "S",
          "SSW",
          "SW",
          "WSW",
          "W",
          "WNW",
          "NW",
          "NNW"
         ],
         "type": "barpolar"
        },
        {
         "hovertemplate": "speed=10-12<br>frequency=%{r}<br>direction=%{theta}<extra></extra>",
         "legendgroup": "10-12",
         "marker": {
          "color": "#bd3786",
          "pattern": {
           "shape": ""
          }
         },
         "name": "10-12",
         "r": [
          0,
          0,
          0,
          0,
          0,
          0,
          0,
          0,
          0,
          0,
          0,
          0,
          0,
          0,
          0.7228915662650602,
          0.963855421686747
         ],
         "showlegend": true,
         "subplot": "polar",
         "theta": [
          "N",
          "NNE",
          "NE",
          "ENE",
          "E",
          "ESE",
          "SE",
          "SSE",
          "S",
          "SSW",
          "SW",
          "WSW",
          "W",
          "WNW",
          "NW",
          "NNW"
         ],
         "type": "barpolar"
        },
        {
         "hovertemplate": "speed=12-14<br>frequency=%{r}<br>direction=%{theta}<extra></extra>",
         "legendgroup": "12-14",
         "marker": {
          "color": "#9c179e",
          "pattern": {
           "shape": ""
          }
         },
         "name": "12-14",
         "r": [
          0,
          0,
          0,
          0,
          0,
          0,
          0,
          0,
          0,
          0,
          0,
          0,
          0,
          0,
          0,
          0.24096385542168675
         ],
         "showlegend": true,
         "subplot": "polar",
         "theta": [
          "N",
          "NNE",
          "NE",
          "ENE",
          "E",
          "ESE",
          "SE",
          "SSE",
          "S",
          "SSW",
          "SW",
          "WSW",
          "W",
          "WNW",
          "NW",
          "NNW"
         ],
         "type": "barpolar"
        },
        {
         "hovertemplate": "speed=>14+<br>frequency=%{r}<br>direction=%{theta}<extra></extra>",
         "legendgroup": ">14+",
         "marker": {
          "color": "#7201a8",
          "pattern": {
           "shape": ""
          }
         },
         "name": ">14+",
         "r": [
          0,
          0,
          0,
          0,
          0,
          0,
          0,
          0,
          0,
          0,
          0,
          0,
          0,
          0,
          0,
          0
         ],
         "showlegend": true,
         "subplot": "polar",
         "theta": [
          "N",
          "NNE",
          "NE",
          "ENE",
          "E",
          "ESE",
          "SE",
          "SSE",
          "S",
          "SSW",
          "SW",
          "WSW",
          "W",
          "WNW",
          "NW",
          "NNW"
         ],
         "type": "barpolar"
        }
       ],
       "layout": {
        "barmode": "relative",
        "barnorm": "percent",
        "font": {
         "size": 12
        },
        "height": 500,
        "legend": {
         "title": {
          "text": "speed"
         },
         "tracegroupgap": 0
        },
        "margin": {
         "t": 60
        },
        "polar": {
         "angularaxis": {
          "direction": "clockwise",
          "rotation": 90
         },
         "domain": {
          "x": [
           0,
           1
          ],
          "y": [
           0,
           1
          ]
         },
         "radialaxis": {
          "angle": 45,
          "range": [
           0,
           30
          ],
          "showgrid": true,
          "showline": false,
          "showticklabels": true,
          "tickfont": {
           "size": 14
          },
          "ticksuffix": "%"
         }
        },
        "template": {
         "data": {
          "bar": [
           {
            "error_x": {
             "color": "#f2f5fa"
            },
            "error_y": {
             "color": "#f2f5fa"
            },
            "marker": {
             "line": {
              "color": "rgb(17,17,17)",
              "width": 0.5
             },
             "pattern": {
              "fillmode": "overlay",
              "size": 10,
              "solidity": 0.2
             }
            },
            "type": "bar"
           }
          ],
          "barpolar": [
           {
            "marker": {
             "line": {
              "color": "rgb(17,17,17)",
              "width": 0.5
             },
             "pattern": {
              "fillmode": "overlay",
              "size": 10,
              "solidity": 0.2
             }
            },
            "type": "barpolar"
           }
          ],
          "carpet": [
           {
            "aaxis": {
             "endlinecolor": "#A2B1C6",
             "gridcolor": "#506784",
             "linecolor": "#506784",
             "minorgridcolor": "#506784",
             "startlinecolor": "#A2B1C6"
            },
            "baxis": {
             "endlinecolor": "#A2B1C6",
             "gridcolor": "#506784",
             "linecolor": "#506784",
             "minorgridcolor": "#506784",
             "startlinecolor": "#A2B1C6"
            },
            "type": "carpet"
           }
          ],
          "choropleth": [
           {
            "colorbar": {
             "outlinewidth": 0,
             "ticks": ""
            },
            "type": "choropleth"
           }
          ],
          "contour": [
           {
            "colorbar": {
             "outlinewidth": 0,
             "ticks": ""
            },
            "colorscale": [
             [
              0,
              "#0d0887"
             ],
             [
              0.1111111111111111,
              "#46039f"
             ],
             [
              0.2222222222222222,
              "#7201a8"
             ],
             [
              0.3333333333333333,
              "#9c179e"
             ],
             [
              0.4444444444444444,
              "#bd3786"
             ],
             [
              0.5555555555555556,
              "#d8576b"
             ],
             [
              0.6666666666666666,
              "#ed7953"
             ],
             [
              0.7777777777777778,
              "#fb9f3a"
             ],
             [
              0.8888888888888888,
              "#fdca26"
             ],
             [
              1,
              "#f0f921"
             ]
            ],
            "type": "contour"
           }
          ],
          "contourcarpet": [
           {
            "colorbar": {
             "outlinewidth": 0,
             "ticks": ""
            },
            "type": "contourcarpet"
           }
          ],
          "heatmap": [
           {
            "colorbar": {
             "outlinewidth": 0,
             "ticks": ""
            },
            "colorscale": [
             [
              0,
              "#0d0887"
             ],
             [
              0.1111111111111111,
              "#46039f"
             ],
             [
              0.2222222222222222,
              "#7201a8"
             ],
             [
              0.3333333333333333,
              "#9c179e"
             ],
             [
              0.4444444444444444,
              "#bd3786"
             ],
             [
              0.5555555555555556,
              "#d8576b"
             ],
             [
              0.6666666666666666,
              "#ed7953"
             ],
             [
              0.7777777777777778,
              "#fb9f3a"
             ],
             [
              0.8888888888888888,
              "#fdca26"
             ],
             [
              1,
              "#f0f921"
             ]
            ],
            "type": "heatmap"
           }
          ],
          "heatmapgl": [
           {
            "colorbar": {
             "outlinewidth": 0,
             "ticks": ""
            },
            "colorscale": [
             [
              0,
              "#0d0887"
             ],
             [
              0.1111111111111111,
              "#46039f"
             ],
             [
              0.2222222222222222,
              "#7201a8"
             ],
             [
              0.3333333333333333,
              "#9c179e"
             ],
             [
              0.4444444444444444,
              "#bd3786"
             ],
             [
              0.5555555555555556,
              "#d8576b"
             ],
             [
              0.6666666666666666,
              "#ed7953"
             ],
             [
              0.7777777777777778,
              "#fb9f3a"
             ],
             [
              0.8888888888888888,
              "#fdca26"
             ],
             [
              1,
              "#f0f921"
             ]
            ],
            "type": "heatmapgl"
           }
          ],
          "histogram": [
           {
            "marker": {
             "pattern": {
              "fillmode": "overlay",
              "size": 10,
              "solidity": 0.2
             }
            },
            "type": "histogram"
           }
          ],
          "histogram2d": [
           {
            "colorbar": {
             "outlinewidth": 0,
             "ticks": ""
            },
            "colorscale": [
             [
              0,
              "#0d0887"
             ],
             [
              0.1111111111111111,
              "#46039f"
             ],
             [
              0.2222222222222222,
              "#7201a8"
             ],
             [
              0.3333333333333333,
              "#9c179e"
             ],
             [
              0.4444444444444444,
              "#bd3786"
             ],
             [
              0.5555555555555556,
              "#d8576b"
             ],
             [
              0.6666666666666666,
              "#ed7953"
             ],
             [
              0.7777777777777778,
              "#fb9f3a"
             ],
             [
              0.8888888888888888,
              "#fdca26"
             ],
             [
              1,
              "#f0f921"
             ]
            ],
            "type": "histogram2d"
           }
          ],
          "histogram2dcontour": [
           {
            "colorbar": {
             "outlinewidth": 0,
             "ticks": ""
            },
            "colorscale": [
             [
              0,
              "#0d0887"
             ],
             [
              0.1111111111111111,
              "#46039f"
             ],
             [
              0.2222222222222222,
              "#7201a8"
             ],
             [
              0.3333333333333333,
              "#9c179e"
             ],
             [
              0.4444444444444444,
              "#bd3786"
             ],
             [
              0.5555555555555556,
              "#d8576b"
             ],
             [
              0.6666666666666666,
              "#ed7953"
             ],
             [
              0.7777777777777778,
              "#fb9f3a"
             ],
             [
              0.8888888888888888,
              "#fdca26"
             ],
             [
              1,
              "#f0f921"
             ]
            ],
            "type": "histogram2dcontour"
           }
          ],
          "mesh3d": [
           {
            "colorbar": {
             "outlinewidth": 0,
             "ticks": ""
            },
            "type": "mesh3d"
           }
          ],
          "parcoords": [
           {
            "line": {
             "colorbar": {
              "outlinewidth": 0,
              "ticks": ""
             }
            },
            "type": "parcoords"
           }
          ],
          "pie": [
           {
            "automargin": true,
            "type": "pie"
           }
          ],
          "scatter": [
           {
            "marker": {
             "line": {
              "color": "#283442"
             }
            },
            "type": "scatter"
           }
          ],
          "scatter3d": [
           {
            "line": {
             "colorbar": {
              "outlinewidth": 0,
              "ticks": ""
             }
            },
            "marker": {
             "colorbar": {
              "outlinewidth": 0,
              "ticks": ""
             }
            },
            "type": "scatter3d"
           }
          ],
          "scattercarpet": [
           {
            "marker": {
             "colorbar": {
              "outlinewidth": 0,
              "ticks": ""
             }
            },
            "type": "scattercarpet"
           }
          ],
          "scattergeo": [
           {
            "marker": {
             "colorbar": {
              "outlinewidth": 0,
              "ticks": ""
             }
            },
            "type": "scattergeo"
           }
          ],
          "scattergl": [
           {
            "marker": {
             "line": {
              "color": "#283442"
             }
            },
            "type": "scattergl"
           }
          ],
          "scattermapbox": [
           {
            "marker": {
             "colorbar": {
              "outlinewidth": 0,
              "ticks": ""
             }
            },
            "type": "scattermapbox"
           }
          ],
          "scatterpolar": [
           {
            "marker": {
             "colorbar": {
              "outlinewidth": 0,
              "ticks": ""
             }
            },
            "type": "scatterpolar"
           }
          ],
          "scatterpolargl": [
           {
            "marker": {
             "colorbar": {
              "outlinewidth": 0,
              "ticks": ""
             }
            },
            "type": "scatterpolargl"
           }
          ],
          "scatterternary": [
           {
            "marker": {
             "colorbar": {
              "outlinewidth": 0,
              "ticks": ""
             }
            },
            "type": "scatterternary"
           }
          ],
          "surface": [
           {
            "colorbar": {
             "outlinewidth": 0,
             "ticks": ""
            },
            "colorscale": [
             [
              0,
              "#0d0887"
             ],
             [
              0.1111111111111111,
              "#46039f"
             ],
             [
              0.2222222222222222,
              "#7201a8"
             ],
             [
              0.3333333333333333,
              "#9c179e"
             ],
             [
              0.4444444444444444,
              "#bd3786"
             ],
             [
              0.5555555555555556,
              "#d8576b"
             ],
             [
              0.6666666666666666,
              "#ed7953"
             ],
             [
              0.7777777777777778,
              "#fb9f3a"
             ],
             [
              0.8888888888888888,
              "#fdca26"
             ],
             [
              1,
              "#f0f921"
             ]
            ],
            "type": "surface"
           }
          ],
          "table": [
           {
            "cells": {
             "fill": {
              "color": "#506784"
             },
             "line": {
              "color": "rgb(17,17,17)"
             }
            },
            "header": {
             "fill": {
              "color": "#2a3f5f"
             },
             "line": {
              "color": "rgb(17,17,17)"
             }
            },
            "type": "table"
           }
          ]
         },
         "layout": {
          "annotationdefaults": {
           "arrowcolor": "#f2f5fa",
           "arrowhead": 0,
           "arrowwidth": 1
          },
          "autotypenumbers": "strict",
          "coloraxis": {
           "colorbar": {
            "outlinewidth": 0,
            "ticks": ""
           }
          },
          "colorscale": {
           "diverging": [
            [
             0,
             "#8e0152"
            ],
            [
             0.1,
             "#c51b7d"
            ],
            [
             0.2,
             "#de77ae"
            ],
            [
             0.3,
             "#f1b6da"
            ],
            [
             0.4,
             "#fde0ef"
            ],
            [
             0.5,
             "#f7f7f7"
            ],
            [
             0.6,
             "#e6f5d0"
            ],
            [
             0.7,
             "#b8e186"
            ],
            [
             0.8,
             "#7fbc41"
            ],
            [
             0.9,
             "#4d9221"
            ],
            [
             1,
             "#276419"
            ]
           ],
           "sequential": [
            [
             0,
             "#0d0887"
            ],
            [
             0.1111111111111111,
             "#46039f"
            ],
            [
             0.2222222222222222,
             "#7201a8"
            ],
            [
             0.3333333333333333,
             "#9c179e"
            ],
            [
             0.4444444444444444,
             "#bd3786"
            ],
            [
             0.5555555555555556,
             "#d8576b"
            ],
            [
             0.6666666666666666,
             "#ed7953"
            ],
            [
             0.7777777777777778,
             "#fb9f3a"
            ],
            [
             0.8888888888888888,
             "#fdca26"
            ],
            [
             1,
             "#f0f921"
            ]
           ],
           "sequentialminus": [
            [
             0,
             "#0d0887"
            ],
            [
             0.1111111111111111,
             "#46039f"
            ],
            [
             0.2222222222222222,
             "#7201a8"
            ],
            [
             0.3333333333333333,
             "#9c179e"
            ],
            [
             0.4444444444444444,
             "#bd3786"
            ],
            [
             0.5555555555555556,
             "#d8576b"
            ],
            [
             0.6666666666666666,
             "#ed7953"
            ],
            [
             0.7777777777777778,
             "#fb9f3a"
            ],
            [
             0.8888888888888888,
             "#fdca26"
            ],
            [
             1,
             "#f0f921"
            ]
           ]
          },
          "colorway": [
           "#636efa",
           "#EF553B",
           "#00cc96",
           "#ab63fa",
           "#FFA15A",
           "#19d3f3",
           "#FF6692",
           "#B6E880",
           "#FF97FF",
           "#FECB52"
          ],
          "font": {
           "color": "#f2f5fa"
          },
          "geo": {
           "bgcolor": "rgb(17,17,17)",
           "lakecolor": "rgb(17,17,17)",
           "landcolor": "rgb(17,17,17)",
           "showlakes": true,
           "showland": true,
           "subunitcolor": "#506784"
          },
          "hoverlabel": {
           "align": "left"
          },
          "hovermode": "closest",
          "mapbox": {
           "style": "dark"
          },
          "paper_bgcolor": "rgb(17,17,17)",
          "plot_bgcolor": "rgb(17,17,17)",
          "polar": {
           "angularaxis": {
            "gridcolor": "#506784",
            "linecolor": "#506784",
            "ticks": ""
           },
           "bgcolor": "rgb(17,17,17)",
           "radialaxis": {
            "gridcolor": "#506784",
            "linecolor": "#506784",
            "ticks": ""
           }
          },
          "scene": {
           "xaxis": {
            "backgroundcolor": "rgb(17,17,17)",
            "gridcolor": "#506784",
            "gridwidth": 2,
            "linecolor": "#506784",
            "showbackground": true,
            "ticks": "",
            "zerolinecolor": "#C8D4E3"
           },
           "yaxis": {
            "backgroundcolor": "rgb(17,17,17)",
            "gridcolor": "#506784",
            "gridwidth": 2,
            "linecolor": "#506784",
            "showbackground": true,
            "ticks": "",
            "zerolinecolor": "#C8D4E3"
           },
           "zaxis": {
            "backgroundcolor": "rgb(17,17,17)",
            "gridcolor": "#506784",
            "gridwidth": 2,
            "linecolor": "#506784",
            "showbackground": true,
            "ticks": "",
            "zerolinecolor": "#C8D4E3"
           }
          },
          "shapedefaults": {
           "line": {
            "color": "#f2f5fa"
           }
          },
          "sliderdefaults": {
           "bgcolor": "#C8D4E3",
           "bordercolor": "rgb(17,17,17)",
           "borderwidth": 1,
           "tickwidth": 0
          },
          "ternary": {
           "aaxis": {
            "gridcolor": "#506784",
            "linecolor": "#506784",
            "ticks": ""
           },
           "baxis": {
            "gridcolor": "#506784",
            "linecolor": "#506784",
            "ticks": ""
           },
           "bgcolor": "rgb(17,17,17)",
           "caxis": {
            "gridcolor": "#506784",
            "linecolor": "#506784",
            "ticks": ""
           }
          },
          "title": {
           "x": 0.05
          },
          "updatemenudefaults": {
           "bgcolor": "#506784",
           "borderwidth": 0
          },
          "xaxis": {
           "automargin": true,
           "gridcolor": "#283442",
           "linecolor": "#506784",
           "ticks": "",
           "title": {
            "standoff": 15
           },
           "zerolinecolor": "#283442",
           "zerolinewidth": 2
          },
          "yaxis": {
           "automargin": true,
           "gridcolor": "#283442",
           "linecolor": "#506784",
           "ticks": "",
           "title": {
            "standoff": 15
           },
           "zerolinecolor": "#283442",
           "zerolinewidth": 2
          }
         }
        },
        "title": {
         "text": "Daily Avg Wind Rose at 10 m on SAIL Met Tower on 2023 windy days"
        },
        "width": 800
       }
      },
      "text/html": [
       "<div>                            <div id=\"19f0c22f-69a3-462c-a58c-fa3168896155\" class=\"plotly-graph-div\" style=\"height:500px; width:800px;\"></div>            <script type=\"text/javascript\">                require([\"plotly\"], function(Plotly) {                    window.PLOTLYENV=window.PLOTLYENV || {};                                    if (document.getElementById(\"19f0c22f-69a3-462c-a58c-fa3168896155\")) {                    Plotly.newPlot(                        \"19f0c22f-69a3-462c-a58c-fa3168896155\",                        [{\"hovertemplate\":\"speed=0-2\\u003cbr\\u003efrequency=%{r}\\u003cbr\\u003edirection=%{theta}\\u003cextra\\u003e\\u003c\\u002fextra\\u003e\",\"legendgroup\":\"0-2\",\"marker\":{\"color\":\"#f0f921\",\"pattern\":{\"shape\":\"\"}},\"name\":\"0-2\",\"r\":[1.4457831325301205,1.2048192771084338,0.7228915662650602,0.24096385542168675,0.24096385542168675,0.7228915662650602,0.7228915662650602,0.24096385542168675,0.4819277108433735,0.0,0.4819277108433735,0.0,0.0,0.0,0.24096385542168675,0.963855421686747],\"showlegend\":true,\"subplot\":\"polar\",\"theta\":[\"N\",\"NNE\",\"NE\",\"ENE\",\"E\",\"ESE\",\"SE\",\"SSE\",\"S\",\"SSW\",\"SW\",\"WSW\",\"W\",\"WNW\",\"NW\",\"NNW\"],\"type\":\"barpolar\"},{\"hovertemplate\":\"speed=2-4\\u003cbr\\u003efrequency=%{r}\\u003cbr\\u003edirection=%{theta}\\u003cextra\\u003e\\u003c\\u002fextra\\u003e\",\"legendgroup\":\"2-4\",\"marker\":{\"color\":\"#fdca26\",\"pattern\":{\"shape\":\"\"}},\"name\":\"2-4\",\"r\":[7.710843373493976,0.963855421686747,1.4457831325301205,0.7228915662650602,1.4457831325301205,4.578313253012048,1.4457831325301205,0.0,0.0,0.24096385542168675,0.0,0.0,0.0,1.2048192771084338,3.6144578313253013,5.0602409638554215],\"showlegend\":true,\"subplot\":\"polar\",\"theta\":[\"N\",\"NNE\",\"NE\",\"ENE\",\"E\",\"ESE\",\"SE\",\"SSE\",\"S\",\"SSW\",\"SW\",\"WSW\",\"W\",\"WNW\",\"NW\",\"NNW\"],\"type\":\"barpolar\"},{\"hovertemplate\":\"speed=4-6\\u003cbr\\u003efrequency=%{r}\\u003cbr\\u003edirection=%{theta}\\u003cextra\\u003e\\u003c\\u002fextra\\u003e\",\"legendgroup\":\"4-6\",\"marker\":{\"color\":\"#fb9f3a\",\"pattern\":{\"shape\":\"\"}},\"name\":\"4-6\",\"r\":[7.951807228915663,0.7228915662650602,0.0,0.24096385542168675,1.927710843373494,5.0602409638554215,0.7228915662650602,0.0,0.0,0.0,0.0,0.0,0.0,1.4457831325301205,6.9879518072289155,10.36144578313253],\"showlegend\":true,\"subplot\":\"polar\",\"theta\":[\"N\",\"NNE\",\"NE\",\"ENE\",\"E\",\"ESE\",\"SE\",\"SSE\",\"S\",\"SSW\",\"SW\",\"WSW\",\"W\",\"WNW\",\"NW\",\"NNW\"],\"type\":\"barpolar\"},{\"hovertemplate\":\"speed=6-8\\u003cbr\\u003efrequency=%{r}\\u003cbr\\u003edirection=%{theta}\\u003cextra\\u003e\\u003c\\u002fextra\\u003e\",\"legendgroup\":\"6-8\",\"marker\":{\"color\":\"#ed7953\",\"pattern\":{\"shape\":\"\"}},\"name\":\"6-8\",\"r\":[2.891566265060241,0.0,0.0,0.0,0.7228915662650602,1.927710843373494,0.0,0.0,0.0,0.0,0.0,0.0,0.0,1.927710843373494,10.36144578313253,6.024096385542169],\"showlegend\":true,\"subplot\":\"polar\",\"theta\":[\"N\",\"NNE\",\"NE\",\"ENE\",\"E\",\"ESE\",\"SE\",\"SSE\",\"S\",\"SSW\",\"SW\",\"WSW\",\"W\",\"WNW\",\"NW\",\"NNW\"],\"type\":\"barpolar\"},{\"hovertemplate\":\"speed=8-10\\u003cbr\\u003efrequency=%{r}\\u003cbr\\u003edirection=%{theta}\\u003cextra\\u003e\\u003c\\u002fextra\\u003e\",\"legendgroup\":\"8-10\",\"marker\":{\"color\":\"#d8576b\",\"pattern\":{\"shape\":\"\"}},\"name\":\"8-10\",\"r\":[0.7228915662650602,0.0,0.0,0.0,0.0,0.0,0.0,0.0,0.0,0.0,0.0,0.0,0.0,0.0,0.963855421686747,0.963855421686747],\"showlegend\":true,\"subplot\":\"polar\",\"theta\":[\"N\",\"NNE\",\"NE\",\"ENE\",\"E\",\"ESE\",\"SE\",\"SSE\",\"S\",\"SSW\",\"SW\",\"WSW\",\"W\",\"WNW\",\"NW\",\"NNW\"],\"type\":\"barpolar\"},{\"hovertemplate\":\"speed=10-12\\u003cbr\\u003efrequency=%{r}\\u003cbr\\u003edirection=%{theta}\\u003cextra\\u003e\\u003c\\u002fextra\\u003e\",\"legendgroup\":\"10-12\",\"marker\":{\"color\":\"#bd3786\",\"pattern\":{\"shape\":\"\"}},\"name\":\"10-12\",\"r\":[0.0,0.0,0.0,0.0,0.0,0.0,0.0,0.0,0.0,0.0,0.0,0.0,0.0,0.0,0.7228915662650602,0.963855421686747],\"showlegend\":true,\"subplot\":\"polar\",\"theta\":[\"N\",\"NNE\",\"NE\",\"ENE\",\"E\",\"ESE\",\"SE\",\"SSE\",\"S\",\"SSW\",\"SW\",\"WSW\",\"W\",\"WNW\",\"NW\",\"NNW\"],\"type\":\"barpolar\"},{\"hovertemplate\":\"speed=12-14\\u003cbr\\u003efrequency=%{r}\\u003cbr\\u003edirection=%{theta}\\u003cextra\\u003e\\u003c\\u002fextra\\u003e\",\"legendgroup\":\"12-14\",\"marker\":{\"color\":\"#9c179e\",\"pattern\":{\"shape\":\"\"}},\"name\":\"12-14\",\"r\":[0.0,0.0,0.0,0.0,0.0,0.0,0.0,0.0,0.0,0.0,0.0,0.0,0.0,0.0,0.0,0.24096385542168675],\"showlegend\":true,\"subplot\":\"polar\",\"theta\":[\"N\",\"NNE\",\"NE\",\"ENE\",\"E\",\"ESE\",\"SE\",\"SSE\",\"S\",\"SSW\",\"SW\",\"WSW\",\"W\",\"WNW\",\"NW\",\"NNW\"],\"type\":\"barpolar\"},{\"hovertemplate\":\"speed=\\u003e14+\\u003cbr\\u003efrequency=%{r}\\u003cbr\\u003edirection=%{theta}\\u003cextra\\u003e\\u003c\\u002fextra\\u003e\",\"legendgroup\":\"\\u003e14+\",\"marker\":{\"color\":\"#7201a8\",\"pattern\":{\"shape\":\"\"}},\"name\":\"\\u003e14+\",\"r\":[0.0,0.0,0.0,0.0,0.0,0.0,0.0,0.0,0.0,0.0,0.0,0.0,0.0,0.0,0.0,0.0],\"showlegend\":true,\"subplot\":\"polar\",\"theta\":[\"N\",\"NNE\",\"NE\",\"ENE\",\"E\",\"ESE\",\"SE\",\"SSE\",\"S\",\"SSW\",\"SW\",\"WSW\",\"W\",\"WNW\",\"NW\",\"NNW\"],\"type\":\"barpolar\"}],                        {\"template\":{\"data\":{\"barpolar\":[{\"marker\":{\"line\":{\"color\":\"rgb(17,17,17)\",\"width\":0.5},\"pattern\":{\"fillmode\":\"overlay\",\"size\":10,\"solidity\":0.2}},\"type\":\"barpolar\"}],\"bar\":[{\"error_x\":{\"color\":\"#f2f5fa\"},\"error_y\":{\"color\":\"#f2f5fa\"},\"marker\":{\"line\":{\"color\":\"rgb(17,17,17)\",\"width\":0.5},\"pattern\":{\"fillmode\":\"overlay\",\"size\":10,\"solidity\":0.2}},\"type\":\"bar\"}],\"carpet\":[{\"aaxis\":{\"endlinecolor\":\"#A2B1C6\",\"gridcolor\":\"#506784\",\"linecolor\":\"#506784\",\"minorgridcolor\":\"#506784\",\"startlinecolor\":\"#A2B1C6\"},\"baxis\":{\"endlinecolor\":\"#A2B1C6\",\"gridcolor\":\"#506784\",\"linecolor\":\"#506784\",\"minorgridcolor\":\"#506784\",\"startlinecolor\":\"#A2B1C6\"},\"type\":\"carpet\"}],\"choropleth\":[{\"colorbar\":{\"outlinewidth\":0,\"ticks\":\"\"},\"type\":\"choropleth\"}],\"contourcarpet\":[{\"colorbar\":{\"outlinewidth\":0,\"ticks\":\"\"},\"type\":\"contourcarpet\"}],\"contour\":[{\"colorbar\":{\"outlinewidth\":0,\"ticks\":\"\"},\"colorscale\":[[0.0,\"#0d0887\"],[0.1111111111111111,\"#46039f\"],[0.2222222222222222,\"#7201a8\"],[0.3333333333333333,\"#9c179e\"],[0.4444444444444444,\"#bd3786\"],[0.5555555555555556,\"#d8576b\"],[0.6666666666666666,\"#ed7953\"],[0.7777777777777778,\"#fb9f3a\"],[0.8888888888888888,\"#fdca26\"],[1.0,\"#f0f921\"]],\"type\":\"contour\"}],\"heatmapgl\":[{\"colorbar\":{\"outlinewidth\":0,\"ticks\":\"\"},\"colorscale\":[[0.0,\"#0d0887\"],[0.1111111111111111,\"#46039f\"],[0.2222222222222222,\"#7201a8\"],[0.3333333333333333,\"#9c179e\"],[0.4444444444444444,\"#bd3786\"],[0.5555555555555556,\"#d8576b\"],[0.6666666666666666,\"#ed7953\"],[0.7777777777777778,\"#fb9f3a\"],[0.8888888888888888,\"#fdca26\"],[1.0,\"#f0f921\"]],\"type\":\"heatmapgl\"}],\"heatmap\":[{\"colorbar\":{\"outlinewidth\":0,\"ticks\":\"\"},\"colorscale\":[[0.0,\"#0d0887\"],[0.1111111111111111,\"#46039f\"],[0.2222222222222222,\"#7201a8\"],[0.3333333333333333,\"#9c179e\"],[0.4444444444444444,\"#bd3786\"],[0.5555555555555556,\"#d8576b\"],[0.6666666666666666,\"#ed7953\"],[0.7777777777777778,\"#fb9f3a\"],[0.8888888888888888,\"#fdca26\"],[1.0,\"#f0f921\"]],\"type\":\"heatmap\"}],\"histogram2dcontour\":[{\"colorbar\":{\"outlinewidth\":0,\"ticks\":\"\"},\"colorscale\":[[0.0,\"#0d0887\"],[0.1111111111111111,\"#46039f\"],[0.2222222222222222,\"#7201a8\"],[0.3333333333333333,\"#9c179e\"],[0.4444444444444444,\"#bd3786\"],[0.5555555555555556,\"#d8576b\"],[0.6666666666666666,\"#ed7953\"],[0.7777777777777778,\"#fb9f3a\"],[0.8888888888888888,\"#fdca26\"],[1.0,\"#f0f921\"]],\"type\":\"histogram2dcontour\"}],\"histogram2d\":[{\"colorbar\":{\"outlinewidth\":0,\"ticks\":\"\"},\"colorscale\":[[0.0,\"#0d0887\"],[0.1111111111111111,\"#46039f\"],[0.2222222222222222,\"#7201a8\"],[0.3333333333333333,\"#9c179e\"],[0.4444444444444444,\"#bd3786\"],[0.5555555555555556,\"#d8576b\"],[0.6666666666666666,\"#ed7953\"],[0.7777777777777778,\"#fb9f3a\"],[0.8888888888888888,\"#fdca26\"],[1.0,\"#f0f921\"]],\"type\":\"histogram2d\"}],\"histogram\":[{\"marker\":{\"pattern\":{\"fillmode\":\"overlay\",\"size\":10,\"solidity\":0.2}},\"type\":\"histogram\"}],\"mesh3d\":[{\"colorbar\":{\"outlinewidth\":0,\"ticks\":\"\"},\"type\":\"mesh3d\"}],\"parcoords\":[{\"line\":{\"colorbar\":{\"outlinewidth\":0,\"ticks\":\"\"}},\"type\":\"parcoords\"}],\"pie\":[{\"automargin\":true,\"type\":\"pie\"}],\"scatter3d\":[{\"line\":{\"colorbar\":{\"outlinewidth\":0,\"ticks\":\"\"}},\"marker\":{\"colorbar\":{\"outlinewidth\":0,\"ticks\":\"\"}},\"type\":\"scatter3d\"}],\"scattercarpet\":[{\"marker\":{\"colorbar\":{\"outlinewidth\":0,\"ticks\":\"\"}},\"type\":\"scattercarpet\"}],\"scattergeo\":[{\"marker\":{\"colorbar\":{\"outlinewidth\":0,\"ticks\":\"\"}},\"type\":\"scattergeo\"}],\"scattergl\":[{\"marker\":{\"line\":{\"color\":\"#283442\"}},\"type\":\"scattergl\"}],\"scattermapbox\":[{\"marker\":{\"colorbar\":{\"outlinewidth\":0,\"ticks\":\"\"}},\"type\":\"scattermapbox\"}],\"scatterpolargl\":[{\"marker\":{\"colorbar\":{\"outlinewidth\":0,\"ticks\":\"\"}},\"type\":\"scatterpolargl\"}],\"scatterpolar\":[{\"marker\":{\"colorbar\":{\"outlinewidth\":0,\"ticks\":\"\"}},\"type\":\"scatterpolar\"}],\"scatter\":[{\"marker\":{\"line\":{\"color\":\"#283442\"}},\"type\":\"scatter\"}],\"scatterternary\":[{\"marker\":{\"colorbar\":{\"outlinewidth\":0,\"ticks\":\"\"}},\"type\":\"scatterternary\"}],\"surface\":[{\"colorbar\":{\"outlinewidth\":0,\"ticks\":\"\"},\"colorscale\":[[0.0,\"#0d0887\"],[0.1111111111111111,\"#46039f\"],[0.2222222222222222,\"#7201a8\"],[0.3333333333333333,\"#9c179e\"],[0.4444444444444444,\"#bd3786\"],[0.5555555555555556,\"#d8576b\"],[0.6666666666666666,\"#ed7953\"],[0.7777777777777778,\"#fb9f3a\"],[0.8888888888888888,\"#fdca26\"],[1.0,\"#f0f921\"]],\"type\":\"surface\"}],\"table\":[{\"cells\":{\"fill\":{\"color\":\"#506784\"},\"line\":{\"color\":\"rgb(17,17,17)\"}},\"header\":{\"fill\":{\"color\":\"#2a3f5f\"},\"line\":{\"color\":\"rgb(17,17,17)\"}},\"type\":\"table\"}]},\"layout\":{\"annotationdefaults\":{\"arrowcolor\":\"#f2f5fa\",\"arrowhead\":0,\"arrowwidth\":1},\"autotypenumbers\":\"strict\",\"coloraxis\":{\"colorbar\":{\"outlinewidth\":0,\"ticks\":\"\"}},\"colorscale\":{\"diverging\":[[0,\"#8e0152\"],[0.1,\"#c51b7d\"],[0.2,\"#de77ae\"],[0.3,\"#f1b6da\"],[0.4,\"#fde0ef\"],[0.5,\"#f7f7f7\"],[0.6,\"#e6f5d0\"],[0.7,\"#b8e186\"],[0.8,\"#7fbc41\"],[0.9,\"#4d9221\"],[1,\"#276419\"]],\"sequential\":[[0.0,\"#0d0887\"],[0.1111111111111111,\"#46039f\"],[0.2222222222222222,\"#7201a8\"],[0.3333333333333333,\"#9c179e\"],[0.4444444444444444,\"#bd3786\"],[0.5555555555555556,\"#d8576b\"],[0.6666666666666666,\"#ed7953\"],[0.7777777777777778,\"#fb9f3a\"],[0.8888888888888888,\"#fdca26\"],[1.0,\"#f0f921\"]],\"sequentialminus\":[[0.0,\"#0d0887\"],[0.1111111111111111,\"#46039f\"],[0.2222222222222222,\"#7201a8\"],[0.3333333333333333,\"#9c179e\"],[0.4444444444444444,\"#bd3786\"],[0.5555555555555556,\"#d8576b\"],[0.6666666666666666,\"#ed7953\"],[0.7777777777777778,\"#fb9f3a\"],[0.8888888888888888,\"#fdca26\"],[1.0,\"#f0f921\"]]},\"colorway\":[\"#636efa\",\"#EF553B\",\"#00cc96\",\"#ab63fa\",\"#FFA15A\",\"#19d3f3\",\"#FF6692\",\"#B6E880\",\"#FF97FF\",\"#FECB52\"],\"font\":{\"color\":\"#f2f5fa\"},\"geo\":{\"bgcolor\":\"rgb(17,17,17)\",\"lakecolor\":\"rgb(17,17,17)\",\"landcolor\":\"rgb(17,17,17)\",\"showlakes\":true,\"showland\":true,\"subunitcolor\":\"#506784\"},\"hoverlabel\":{\"align\":\"left\"},\"hovermode\":\"closest\",\"mapbox\":{\"style\":\"dark\"},\"paper_bgcolor\":\"rgb(17,17,17)\",\"plot_bgcolor\":\"rgb(17,17,17)\",\"polar\":{\"angularaxis\":{\"gridcolor\":\"#506784\",\"linecolor\":\"#506784\",\"ticks\":\"\"},\"bgcolor\":\"rgb(17,17,17)\",\"radialaxis\":{\"gridcolor\":\"#506784\",\"linecolor\":\"#506784\",\"ticks\":\"\"}},\"scene\":{\"xaxis\":{\"backgroundcolor\":\"rgb(17,17,17)\",\"gridcolor\":\"#506784\",\"gridwidth\":2,\"linecolor\":\"#506784\",\"showbackground\":true,\"ticks\":\"\",\"zerolinecolor\":\"#C8D4E3\"},\"yaxis\":{\"backgroundcolor\":\"rgb(17,17,17)\",\"gridcolor\":\"#506784\",\"gridwidth\":2,\"linecolor\":\"#506784\",\"showbackground\":true,\"ticks\":\"\",\"zerolinecolor\":\"#C8D4E3\"},\"zaxis\":{\"backgroundcolor\":\"rgb(17,17,17)\",\"gridcolor\":\"#506784\",\"gridwidth\":2,\"linecolor\":\"#506784\",\"showbackground\":true,\"ticks\":\"\",\"zerolinecolor\":\"#C8D4E3\"}},\"shapedefaults\":{\"line\":{\"color\":\"#f2f5fa\"}},\"sliderdefaults\":{\"bgcolor\":\"#C8D4E3\",\"bordercolor\":\"rgb(17,17,17)\",\"borderwidth\":1,\"tickwidth\":0},\"ternary\":{\"aaxis\":{\"gridcolor\":\"#506784\",\"linecolor\":\"#506784\",\"ticks\":\"\"},\"baxis\":{\"gridcolor\":\"#506784\",\"linecolor\":\"#506784\",\"ticks\":\"\"},\"bgcolor\":\"rgb(17,17,17)\",\"caxis\":{\"gridcolor\":\"#506784\",\"linecolor\":\"#506784\",\"ticks\":\"\"}},\"title\":{\"x\":0.05},\"updatemenudefaults\":{\"bgcolor\":\"#506784\",\"borderwidth\":0},\"xaxis\":{\"automargin\":true,\"gridcolor\":\"#283442\",\"linecolor\":\"#506784\",\"ticks\":\"\",\"title\":{\"standoff\":15},\"zerolinecolor\":\"#283442\",\"zerolinewidth\":2},\"yaxis\":{\"automargin\":true,\"gridcolor\":\"#283442\",\"linecolor\":\"#506784\",\"ticks\":\"\",\"title\":{\"standoff\":15},\"zerolinecolor\":\"#283442\",\"zerolinewidth\":2}}},\"polar\":{\"domain\":{\"x\":[0.0,1.0],\"y\":[0.0,1.0]},\"angularaxis\":{\"direction\":\"clockwise\",\"rotation\":90},\"radialaxis\":{\"tickfont\":{\"size\":14},\"ticksuffix\":\"%\",\"showline\":false,\"showticklabels\":true,\"showgrid\":true,\"angle\":45,\"range\":[0,30]}},\"legend\":{\"title\":{\"text\":\"speed\"},\"tracegroupgap\":0},\"margin\":{\"t\":60},\"barnorm\":\"percent\",\"barmode\":\"relative\",\"height\":500,\"width\":800,\"font\":{\"size\":12},\"title\":{\"text\":\"Daily Avg Wind Rose at 10 m on SAIL Met Tower on 2023 windy days\"}},                        {\"responsive\": true}                    ).then(function(){\n",
       "                            \n",
       "var gd = document.getElementById('19f0c22f-69a3-462c-a58c-fa3168896155');\n",
       "var x = new MutationObserver(function (mutations, observer) {{\n",
       "        var display = window.getComputedStyle(gd).display;\n",
       "        if (!display || display === 'none') {{\n",
       "            console.log([gd, 'removed!']);\n",
       "            Plotly.purge(gd);\n",
       "            observer.disconnect();\n",
       "        }}\n",
       "}});\n",
       "\n",
       "// Listen for the removal of the full notebook cells\n",
       "var notebookContainer = gd.closest('#notebook-container');\n",
       "if (notebookContainer) {{\n",
       "    x.observe(notebookContainer, {childList: true});\n",
       "}}\n",
       "\n",
       "// Listen for the clearing of the current output cell\n",
       "var outputEl = gd.closest('.output');\n",
       "if (outputEl) {{\n",
       "    x.observe(outputEl, {childList: true});\n",
       "}}\n",
       "\n",
       "                        })                };                });            </script>        </div>"
      ]
     },
     "metadata": {},
     "output_type": "display_data"
    }
   ],
   "source": [
    "sail_met_gothic_daily = sail_30min_windy_wind_df[['wspd_arith_mean', 'wdir_vec_mean']]\n",
    "# create a windrose dataframe\n",
    "sail_met_gothic_daily = create_windrose_df(sail_met_gothic_daily, wind_dir_var='wdir_vec_mean', wind_spd_var='wspd_arith_mean')\n",
    "\n",
    "# create a wind rose plot using bar_polar\n",
    "fig = px.bar_polar(sail_met_gothic_daily, \n",
    "                   r=\"frequency\", \n",
    "                   theta=\"direction\", \n",
    "                   color=\"speed\", template=\"plotly_dark\",\n",
    "                   color_discrete_sequence= px.colors.sequential.Plasma_r,\n",
    "                   width= 800,\n",
    "                   height=500,\n",
    "                   barnorm='percent',\n",
    "                  )\n",
    "# update the radial axis to show percentages\n",
    "fig.update_layout(\n",
    "    title=\"Daily Avg Wind Rose at 10 m on SAIL Met Tower on 2023 windy days\",\n",
    "    font_size=12,\n",
    "    polar_radialaxis=dict(\n",
    "         ticksuffix='%',\n",
    "         tickfont_size=14,\n",
    "         showline=False,\n",
    "         showticklabels=True,\n",
    "         showgrid=True,\n",
    "         angle=45,\n",
    "         range=[0, 30]\n",
    "      ),\n",
    ")"
   ]
  },
  {
   "cell_type": "markdown",
   "metadata": {},
   "source": [
    "## 3. How much sublimation over the season came from these events?\n",
    "We will address this question by calculating hourly sublimation totals from SOS and SAIL over the winter period (dates may need to be adjusted to what Eli calculated with). Then for each of the days we calculated from above, we'll get the total sublimation from those specific days. \n",
    "1) First, make a timeseries plot of cumulative sublimation over the year. Add horizontal boxes that mark the days of each wind event\n",
    "2) Filter the hourly sublimation totals to just the days we want to include and sum the total. \n",
    "3) How well the days with the most sublimation correspond with these windy days."
   ]
  },
  {
   "cell_type": "code",
   "execution_count": 55,
   "metadata": {},
   "outputs": [],
   "source": [
    "# ecor_ds = xr.open_dataset(w23_data_loc_dict['eddy_covariance_kettle_ponds'])\n",
    "# met_ds = xr.open_dataset(w23_data_loc_dict['met'])\n",
    "# # resample to 30 minute mean\n",
    "# met_ds_30min = met_ds.resample(time='30min').mean()\n",
    "# # add temp_mean to the ecor dataset\n",
    "# ecor_ds['temp_mean'] = met_ds_30min['temp_mean']\n",
    "# latent heat of sublimation\n",
    "Ls = 2834.1e3 # J/g\n",
    "# latent heat of vaporization\n",
    "Lv = 2500.1e3 # J/g\n",
    "# density of water\n",
    "rho_w = 1 # g/cm^3\n",
    "\n",
    "# resample to hourly mean\n",
    "# ecor_ds = ecor_ds.resample(time='1H').mean()\n",
    "# calculate the sublimation rate when the temperature is below 0C and evaporation rate when the temperature is above 0C\n",
    "ecor_ds['e_rate'] = ecor_ds['latent_heat_flux'].where(ecor_ds['qc_latent_heat_flux']==0) *3600 * 1000/ 1000 / Ls\n",
    "ecor_ds['e_rate'] = ecor_ds['e_rate'].where(ecor_ds['temp_mean'] < 0, ecor_ds['latent_heat_flux'].where(ecor_ds['qc_latent_heat_flux']==0) *3600 * 1000/ 1000 / Lv) "
   ]
  },
  {
   "cell_type": "code",
   "execution_count": 60,
   "metadata": {},
   "outputs": [],
   "source": [
    "# caclulate and plot the cumulative sum of e_rate\n",
    "ds = xr.open_dataset('../../01_data/processed_data/sos_daily_h2o_flux_cleaned.nc')\n",
    "# ecor_ds.e_rate.cumsum().plot()\n",
    "cumulative_sos_sublimation = ds.cumsum(dim='time')"
   ]
  },
  {
   "cell_type": "code",
   "execution_count": 65,
   "metadata": {},
   "outputs": [
    {
     "data": {
      "text/html": [
       "<div><svg style=\"position: absolute; width: 0; height: 0; overflow: hidden\">\n",
       "<defs>\n",
       "<symbol id=\"icon-database\" viewBox=\"0 0 32 32\">\n",
       "<path d=\"M16 0c-8.837 0-16 2.239-16 5v4c0 2.761 7.163 5 16 5s16-2.239 16-5v-4c0-2.761-7.163-5-16-5z\"></path>\n",
       "<path d=\"M16 17c-8.837 0-16-2.239-16-5v6c0 2.761 7.163 5 16 5s16-2.239 16-5v-6c0 2.761-7.163 5-16 5z\"></path>\n",
       "<path d=\"M16 26c-8.837 0-16-2.239-16-5v6c0 2.761 7.163 5 16 5s16-2.239 16-5v-6c0 2.761-7.163 5-16 5z\"></path>\n",
       "</symbol>\n",
       "<symbol id=\"icon-file-text2\" viewBox=\"0 0 32 32\">\n",
       "<path d=\"M28.681 7.159c-0.694-0.947-1.662-2.053-2.724-3.116s-2.169-2.030-3.116-2.724c-1.612-1.182-2.393-1.319-2.841-1.319h-15.5c-1.378 0-2.5 1.121-2.5 2.5v27c0 1.378 1.122 2.5 2.5 2.5h23c1.378 0 2.5-1.122 2.5-2.5v-19.5c0-0.448-0.137-1.23-1.319-2.841zM24.543 5.457c0.959 0.959 1.712 1.825 2.268 2.543h-4.811v-4.811c0.718 0.556 1.584 1.309 2.543 2.268zM28 29.5c0 0.271-0.229 0.5-0.5 0.5h-23c-0.271 0-0.5-0.229-0.5-0.5v-27c0-0.271 0.229-0.5 0.5-0.5 0 0 15.499-0 15.5 0v7c0 0.552 0.448 1 1 1h7v19.5z\"></path>\n",
       "<path d=\"M23 26h-14c-0.552 0-1-0.448-1-1s0.448-1 1-1h14c0.552 0 1 0.448 1 1s-0.448 1-1 1z\"></path>\n",
       "<path d=\"M23 22h-14c-0.552 0-1-0.448-1-1s0.448-1 1-1h14c0.552 0 1 0.448 1 1s-0.448 1-1 1z\"></path>\n",
       "<path d=\"M23 18h-14c-0.552 0-1-0.448-1-1s0.448-1 1-1h14c0.552 0 1 0.448 1 1s-0.448 1-1 1z\"></path>\n",
       "</symbol>\n",
       "</defs>\n",
       "</svg>\n",
       "<style>/* CSS stylesheet for displaying xarray objects in jupyterlab.\n",
       " *\n",
       " */\n",
       "\n",
       ":root {\n",
       "  --xr-font-color0: var(--jp-content-font-color0, rgba(0, 0, 0, 1));\n",
       "  --xr-font-color2: var(--jp-content-font-color2, rgba(0, 0, 0, 0.54));\n",
       "  --xr-font-color3: var(--jp-content-font-color3, rgba(0, 0, 0, 0.38));\n",
       "  --xr-border-color: var(--jp-border-color2, #e0e0e0);\n",
       "  --xr-disabled-color: var(--jp-layout-color3, #bdbdbd);\n",
       "  --xr-background-color: var(--jp-layout-color0, white);\n",
       "  --xr-background-color-row-even: var(--jp-layout-color1, white);\n",
       "  --xr-background-color-row-odd: var(--jp-layout-color2, #eeeeee);\n",
       "}\n",
       "\n",
       "html[theme=dark],\n",
       "body[data-theme=dark],\n",
       "body.vscode-dark {\n",
       "  --xr-font-color0: rgba(255, 255, 255, 1);\n",
       "  --xr-font-color2: rgba(255, 255, 255, 0.54);\n",
       "  --xr-font-color3: rgba(255, 255, 255, 0.38);\n",
       "  --xr-border-color: #1F1F1F;\n",
       "  --xr-disabled-color: #515151;\n",
       "  --xr-background-color: #111111;\n",
       "  --xr-background-color-row-even: #111111;\n",
       "  --xr-background-color-row-odd: #313131;\n",
       "}\n",
       "\n",
       ".xr-wrap {\n",
       "  display: block !important;\n",
       "  min-width: 300px;\n",
       "  max-width: 700px;\n",
       "}\n",
       "\n",
       ".xr-text-repr-fallback {\n",
       "  /* fallback to plain text repr when CSS is not injected (untrusted notebook) */\n",
       "  display: none;\n",
       "}\n",
       "\n",
       ".xr-header {\n",
       "  padding-top: 6px;\n",
       "  padding-bottom: 6px;\n",
       "  margin-bottom: 4px;\n",
       "  border-bottom: solid 1px var(--xr-border-color);\n",
       "}\n",
       "\n",
       ".xr-header > div,\n",
       ".xr-header > ul {\n",
       "  display: inline;\n",
       "  margin-top: 0;\n",
       "  margin-bottom: 0;\n",
       "}\n",
       "\n",
       ".xr-obj-type,\n",
       ".xr-array-name {\n",
       "  margin-left: 2px;\n",
       "  margin-right: 10px;\n",
       "}\n",
       "\n",
       ".xr-obj-type {\n",
       "  color: var(--xr-font-color2);\n",
       "}\n",
       "\n",
       ".xr-sections {\n",
       "  padding-left: 0 !important;\n",
       "  display: grid;\n",
       "  grid-template-columns: 150px auto auto 1fr 20px 20px;\n",
       "}\n",
       "\n",
       ".xr-section-item {\n",
       "  display: contents;\n",
       "}\n",
       "\n",
       ".xr-section-item input {\n",
       "  display: none;\n",
       "}\n",
       "\n",
       ".xr-section-item input + label {\n",
       "  color: var(--xr-disabled-color);\n",
       "}\n",
       "\n",
       ".xr-section-item input:enabled + label {\n",
       "  cursor: pointer;\n",
       "  color: var(--xr-font-color2);\n",
       "}\n",
       "\n",
       ".xr-section-item input:enabled + label:hover {\n",
       "  color: var(--xr-font-color0);\n",
       "}\n",
       "\n",
       ".xr-section-summary {\n",
       "  grid-column: 1;\n",
       "  color: var(--xr-font-color2);\n",
       "  font-weight: 500;\n",
       "}\n",
       "\n",
       ".xr-section-summary > span {\n",
       "  display: inline-block;\n",
       "  padding-left: 0.5em;\n",
       "}\n",
       "\n",
       ".xr-section-summary-in:disabled + label {\n",
       "  color: var(--xr-font-color2);\n",
       "}\n",
       "\n",
       ".xr-section-summary-in + label:before {\n",
       "  display: inline-block;\n",
       "  content: '►';\n",
       "  font-size: 11px;\n",
       "  width: 15px;\n",
       "  text-align: center;\n",
       "}\n",
       "\n",
       ".xr-section-summary-in:disabled + label:before {\n",
       "  color: var(--xr-disabled-color);\n",
       "}\n",
       "\n",
       ".xr-section-summary-in:checked + label:before {\n",
       "  content: '▼';\n",
       "}\n",
       "\n",
       ".xr-section-summary-in:checked + label > span {\n",
       "  display: none;\n",
       "}\n",
       "\n",
       ".xr-section-summary,\n",
       ".xr-section-inline-details {\n",
       "  padding-top: 4px;\n",
       "  padding-bottom: 4px;\n",
       "}\n",
       "\n",
       ".xr-section-inline-details {\n",
       "  grid-column: 2 / -1;\n",
       "}\n",
       "\n",
       ".xr-section-details {\n",
       "  display: none;\n",
       "  grid-column: 1 / -1;\n",
       "  margin-bottom: 5px;\n",
       "}\n",
       "\n",
       ".xr-section-summary-in:checked ~ .xr-section-details {\n",
       "  display: contents;\n",
       "}\n",
       "\n",
       ".xr-array-wrap {\n",
       "  grid-column: 1 / -1;\n",
       "  display: grid;\n",
       "  grid-template-columns: 20px auto;\n",
       "}\n",
       "\n",
       ".xr-array-wrap > label {\n",
       "  grid-column: 1;\n",
       "  vertical-align: top;\n",
       "}\n",
       "\n",
       ".xr-preview {\n",
       "  color: var(--xr-font-color3);\n",
       "}\n",
       "\n",
       ".xr-array-preview,\n",
       ".xr-array-data {\n",
       "  padding: 0 5px !important;\n",
       "  grid-column: 2;\n",
       "}\n",
       "\n",
       ".xr-array-data,\n",
       ".xr-array-in:checked ~ .xr-array-preview {\n",
       "  display: none;\n",
       "}\n",
       "\n",
       ".xr-array-in:checked ~ .xr-array-data,\n",
       ".xr-array-preview {\n",
       "  display: inline-block;\n",
       "}\n",
       "\n",
       ".xr-dim-list {\n",
       "  display: inline-block !important;\n",
       "  list-style: none;\n",
       "  padding: 0 !important;\n",
       "  margin: 0;\n",
       "}\n",
       "\n",
       ".xr-dim-list li {\n",
       "  display: inline-block;\n",
       "  padding: 0;\n",
       "  margin: 0;\n",
       "}\n",
       "\n",
       ".xr-dim-list:before {\n",
       "  content: '(';\n",
       "}\n",
       "\n",
       ".xr-dim-list:after {\n",
       "  content: ')';\n",
       "}\n",
       "\n",
       ".xr-dim-list li:not(:last-child):after {\n",
       "  content: ',';\n",
       "  padding-right: 5px;\n",
       "}\n",
       "\n",
       ".xr-has-index {\n",
       "  font-weight: bold;\n",
       "}\n",
       "\n",
       ".xr-var-list,\n",
       ".xr-var-item {\n",
       "  display: contents;\n",
       "}\n",
       "\n",
       ".xr-var-item > div,\n",
       ".xr-var-item label,\n",
       ".xr-var-item > .xr-var-name span {\n",
       "  background-color: var(--xr-background-color-row-even);\n",
       "  margin-bottom: 0;\n",
       "}\n",
       "\n",
       ".xr-var-item > .xr-var-name:hover span {\n",
       "  padding-right: 5px;\n",
       "}\n",
       "\n",
       ".xr-var-list > li:nth-child(odd) > div,\n",
       ".xr-var-list > li:nth-child(odd) > label,\n",
       ".xr-var-list > li:nth-child(odd) > .xr-var-name span {\n",
       "  background-color: var(--xr-background-color-row-odd);\n",
       "}\n",
       "\n",
       ".xr-var-name {\n",
       "  grid-column: 1;\n",
       "}\n",
       "\n",
       ".xr-var-dims {\n",
       "  grid-column: 2;\n",
       "}\n",
       "\n",
       ".xr-var-dtype {\n",
       "  grid-column: 3;\n",
       "  text-align: right;\n",
       "  color: var(--xr-font-color2);\n",
       "}\n",
       "\n",
       ".xr-var-preview {\n",
       "  grid-column: 4;\n",
       "}\n",
       "\n",
       ".xr-index-preview {\n",
       "  grid-column: 2 / 5;\n",
       "  color: var(--xr-font-color2);\n",
       "}\n",
       "\n",
       ".xr-var-name,\n",
       ".xr-var-dims,\n",
       ".xr-var-dtype,\n",
       ".xr-preview,\n",
       ".xr-attrs dt {\n",
       "  white-space: nowrap;\n",
       "  overflow: hidden;\n",
       "  text-overflow: ellipsis;\n",
       "  padding-right: 10px;\n",
       "}\n",
       "\n",
       ".xr-var-name:hover,\n",
       ".xr-var-dims:hover,\n",
       ".xr-var-dtype:hover,\n",
       ".xr-attrs dt:hover {\n",
       "  overflow: visible;\n",
       "  width: auto;\n",
       "  z-index: 1;\n",
       "}\n",
       "\n",
       ".xr-var-attrs,\n",
       ".xr-var-data,\n",
       ".xr-index-data {\n",
       "  display: none;\n",
       "  background-color: var(--xr-background-color) !important;\n",
       "  padding-bottom: 5px !important;\n",
       "}\n",
       "\n",
       ".xr-var-attrs-in:checked ~ .xr-var-attrs,\n",
       ".xr-var-data-in:checked ~ .xr-var-data,\n",
       ".xr-index-data-in:checked ~ .xr-index-data {\n",
       "  display: block;\n",
       "}\n",
       "\n",
       ".xr-var-data > table {\n",
       "  float: right;\n",
       "}\n",
       "\n",
       ".xr-var-name span,\n",
       ".xr-var-data,\n",
       ".xr-index-name div,\n",
       ".xr-index-data,\n",
       ".xr-attrs {\n",
       "  padding-left: 25px !important;\n",
       "}\n",
       "\n",
       ".xr-attrs,\n",
       ".xr-var-attrs,\n",
       ".xr-var-data,\n",
       ".xr-index-data {\n",
       "  grid-column: 1 / -1;\n",
       "}\n",
       "\n",
       "dl.xr-attrs {\n",
       "  padding: 0;\n",
       "  margin: 0;\n",
       "  display: grid;\n",
       "  grid-template-columns: 125px auto;\n",
       "}\n",
       "\n",
       ".xr-attrs dt,\n",
       ".xr-attrs dd {\n",
       "  padding: 0;\n",
       "  margin: 0;\n",
       "  float: left;\n",
       "  padding-right: 10px;\n",
       "  width: auto;\n",
       "}\n",
       "\n",
       ".xr-attrs dt {\n",
       "  font-weight: normal;\n",
       "  grid-column: 1;\n",
       "}\n",
       "\n",
       ".xr-attrs dt:hover span {\n",
       "  display: inline-block;\n",
       "  background: var(--xr-background-color);\n",
       "  padding-right: 10px;\n",
       "}\n",
       "\n",
       ".xr-attrs dd {\n",
       "  grid-column: 2;\n",
       "  white-space: pre-wrap;\n",
       "  word-break: break-all;\n",
       "}\n",
       "\n",
       ".xr-icon-database,\n",
       ".xr-icon-file-text2,\n",
       ".xr-no-icon {\n",
       "  display: inline-block;\n",
       "  vertical-align: middle;\n",
       "  width: 1em;\n",
       "  height: 1.5em !important;\n",
       "  stroke-width: 0;\n",
       "  stroke: currentColor;\n",
       "  fill: currentColor;\n",
       "}\n",
       "</style><pre class='xr-text-repr-fallback'>&lt;xarray.DataArray &#x27;time&#x27; (time: 160)&gt;\n",
       "array([  0,   1,   2,   3,   4,   5,   6,   7,   8,   9,  10,  11,  12,  13,\n",
       "        14,  15,  16,  17,  18,  19,  20,  21,  22,  23,  24,  25,  26,  27,\n",
       "        28,  29,  30,  31,  32,  33,  34,  35,  36,  37,  38,  39,  40,  41,\n",
       "        42,  43,  44,  45,  46,  47,  48,  49,  50,  51,  52,  53,  54,  55,\n",
       "        56,  57,  58,  59,  60,  61,  62,  63,  64,  65,  66,  67,  68,  69,\n",
       "        70,  71,  72,  73,  74,  75,  76,  77,  78,  79,  80,  81,  82,  83,\n",
       "        84,  85,  86,  87,  88,  89,  90,  91,  92,  93,  94,  95,  96,  97,\n",
       "        98,  99, 100, 101, 102, 103, 104, 105, 106, 107, 108, 109, 110, 111,\n",
       "       112, 113, 114, 115, 116, 117, 118, 119, 120, 121, 122, 123, 124, 125,\n",
       "       126, 127, 128, 129, 130, 131, 132, 133, 134, 135, 136, 137, 138, 139,\n",
       "       140, 141, 142, 143, 144, 145, 146, 147, 148, 149, 150, 151, 152, 153,\n",
       "       154, 155, 156, 157, 158, 159])\n",
       "Dimensions without coordinates: time</pre><div class='xr-wrap' style='display:none'><div class='xr-header'><div class='xr-obj-type'>xarray.DataArray</div><div class='xr-array-name'>'time'</div><ul class='xr-dim-list'><li><span>time</span>: 160</li></ul></div><ul class='xr-sections'><li class='xr-section-item'><div class='xr-array-wrap'><input id='section-dd8a90a9-3190-4f22-a47b-23e6713693fc' class='xr-array-in' type='checkbox' checked><label for='section-dd8a90a9-3190-4f22-a47b-23e6713693fc' title='Show/hide data repr'><svg class='icon xr-icon-database'><use xlink:href='#icon-database'></use></svg></label><div class='xr-array-preview xr-preview'><span>0 1 2 3 4 5 6 7 8 9 10 ... 149 150 151 152 153 154 155 156 157 158 159</span></div><div class='xr-array-data'><pre>array([  0,   1,   2,   3,   4,   5,   6,   7,   8,   9,  10,  11,  12,  13,\n",
       "        14,  15,  16,  17,  18,  19,  20,  21,  22,  23,  24,  25,  26,  27,\n",
       "        28,  29,  30,  31,  32,  33,  34,  35,  36,  37,  38,  39,  40,  41,\n",
       "        42,  43,  44,  45,  46,  47,  48,  49,  50,  51,  52,  53,  54,  55,\n",
       "        56,  57,  58,  59,  60,  61,  62,  63,  64,  65,  66,  67,  68,  69,\n",
       "        70,  71,  72,  73,  74,  75,  76,  77,  78,  79,  80,  81,  82,  83,\n",
       "        84,  85,  86,  87,  88,  89,  90,  91,  92,  93,  94,  95,  96,  97,\n",
       "        98,  99, 100, 101, 102, 103, 104, 105, 106, 107, 108, 109, 110, 111,\n",
       "       112, 113, 114, 115, 116, 117, 118, 119, 120, 121, 122, 123, 124, 125,\n",
       "       126, 127, 128, 129, 130, 131, 132, 133, 134, 135, 136, 137, 138, 139,\n",
       "       140, 141, 142, 143, 144, 145, 146, 147, 148, 149, 150, 151, 152, 153,\n",
       "       154, 155, 156, 157, 158, 159])</pre></div></div></li><li class='xr-section-item'><input id='section-d6084a23-66c5-4b5e-8421-8398605db8c8' class='xr-section-summary-in' type='checkbox' disabled ><label for='section-d6084a23-66c5-4b5e-8421-8398605db8c8' class='xr-section-summary'  title='Expand/collapse section'>Coordinates: <span>(0)</span></label><div class='xr-section-inline-details'></div><div class='xr-section-details'><ul class='xr-var-list'></ul></div></li><li class='xr-section-item'><input id='section-6df27564-5b4c-4a4a-ab49-2520d3ed0f17' class='xr-section-summary-in' type='checkbox' disabled ><label for='section-6df27564-5b4c-4a4a-ab49-2520d3ed0f17' class='xr-section-summary'  title='Expand/collapse section'>Indexes: <span>(0)</span></label><div class='xr-section-inline-details'></div><div class='xr-section-details'><ul class='xr-var-list'></ul></div></li><li class='xr-section-item'><input id='section-dd363068-fa90-4d0d-84a0-da75a36615aa' class='xr-section-summary-in' type='checkbox' disabled ><label for='section-dd363068-fa90-4d0d-84a0-da75a36615aa' class='xr-section-summary'  title='Expand/collapse section'>Attributes: <span>(0)</span></label><div class='xr-section-inline-details'></div><div class='xr-section-details'><dl class='xr-attrs'></dl></div></li></ul></div></div>"
      ],
      "text/plain": [
       "<xarray.DataArray 'time' (time: 160)>\n",
       "array([  0,   1,   2,   3,   4,   5,   6,   7,   8,   9,  10,  11,  12,  13,\n",
       "        14,  15,  16,  17,  18,  19,  20,  21,  22,  23,  24,  25,  26,  27,\n",
       "        28,  29,  30,  31,  32,  33,  34,  35,  36,  37,  38,  39,  40,  41,\n",
       "        42,  43,  44,  45,  46,  47,  48,  49,  50,  51,  52,  53,  54,  55,\n",
       "        56,  57,  58,  59,  60,  61,  62,  63,  64,  65,  66,  67,  68,  69,\n",
       "        70,  71,  72,  73,  74,  75,  76,  77,  78,  79,  80,  81,  82,  83,\n",
       "        84,  85,  86,  87,  88,  89,  90,  91,  92,  93,  94,  95,  96,  97,\n",
       "        98,  99, 100, 101, 102, 103, 104, 105, 106, 107, 108, 109, 110, 111,\n",
       "       112, 113, 114, 115, 116, 117, 118, 119, 120, 121, 122, 123, 124, 125,\n",
       "       126, 127, 128, 129, 130, 131, 132, 133, 134, 135, 136, 137, 138, 139,\n",
       "       140, 141, 142, 143, 144, 145, 146, 147, 148, 149, 150, 151, 152, 153,\n",
       "       154, 155, 156, 157, 158, 159])\n",
       "Dimensions without coordinates: time"
      ]
     },
     "execution_count": 65,
     "metadata": {},
     "output_type": "execute_result"
    }
   ],
   "source": [
    "cumulative_sos_sublimation['w_h2o__10m_d']"
   ]
  },
  {
   "cell_type": "code",
   "execution_count": 71,
   "metadata": {},
   "outputs": [
    {
     "data": {
      "text/plain": [
       "<matplotlib.legend.Legend at 0x7fdc2da33ed0>"
      ]
     },
     "execution_count": 71,
     "metadata": {},
     "output_type": "execute_result"
    },
    {
     "data": {
      "image/png": "[encoded data removed]",
      "text/plain": [
       "<Figure size 640x480 with 1 Axes>"
      ]
     },
     "metadata": {},
     "output_type": "display_data"
    }
   ],
   "source": [
    "fig, ax = plt.subplots()\n",
    "ax.plot(ecor_ds['e_rate'].resample(time='1D').sum().cumsum().values, label='SAIL ECOR (Gothic)')\n",
    "cumulative_sos_sublimation['w_h2o__3m_uw'].plot(ax=ax, label='SOS')\n",
    "ax.set_ylabel('Cumulative Sublimation (mm)')\n",
    "ax.set_xlabel('Date')\n",
    "ax.legend()"
   ]
  },
  {
   "cell_type": "markdown",
   "metadata": {},
   "source": [
    "Curious to see connection to synoptics. Also consider conditions to strong radiation driven events. "
   ]
  }
 ],
 "metadata": {
  "kernelspec": {
   "display_name": "sublime_synoptics",
   "language": "python",
   "name": "python3"
  },
  "language_info": {
   "codemirror_mode": {
    "name": "ipython",
    "version": 3
   },
   "file_extension": ".py",
   "mimetype": "text/x-python",
   "name": "python",
   "nbconvert_exporter": "python",
   "pygments_lexer": "ipython3",
   "version": "3.11.6"
  }
 },
 "nbformat": 4,
 "nbformat_minor": 2
}
