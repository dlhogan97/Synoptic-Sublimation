{
 "cells": [
  {
   "cell_type": "markdown",
   "metadata": {},
   "source": [
    "# 05 Explore Valley Wind Events\n",
    "\n",
    "Now we know the valley orientation for our valleys (see `04_valley_orientation.ipynb` for details) and we downloaded a wide range of different data from stations contained within each basin (as available). \n",
    "\n",
    "Questions to address here:\n",
    "\n",
    "1. How often to wind events > 5 m/s occur in each valley during winter? Which years had more windy events?\n",
    "2. Do thes wind events follow an up valley-downvalley orientation? Or are they all over the place?\n",
    "3. Do basins in certain orientations see a greater occurance of big wind events?\n",
    "\n",
    "\n",
    "Follow up:\n",
    "1. Which upper air variables from reanalysis correlate with observations at the surface?\n",
    "2. Do we suppose this is pressure channeling or forced channelling? "
   ]
  },
  {
   "cell_type": "code",
   "execution_count": 4,
   "metadata": {},
   "outputs": [
    {
     "data": {
      "text/html": [
       "        <script type=\"text/javascript\">\n",
       "        window.PlotlyConfig = {MathJaxConfig: 'local'};\n",
       "        if (window.MathJax && window.MathJax.Hub && window.MathJax.Hub.Config) {window.MathJax.Hub.Config({SVG: {font: \"STIX-Web\"}});}\n",
       "        if (typeof require !== 'undefined') {\n",
       "        require.undef(\"plotly\");\n",
       "        requirejs.config({\n",
       "            paths: {\n",
       "                'plotly': ['https://cdn.plot.ly/plotly-2.27.0.min']\n",
       "            }\n",
       "        });\n",
       "        require(['plotly'], function(Plotly) {\n",
       "            window._Plotly = Plotly;\n",
       "        });\n",
       "        }\n",
       "        </script>\n",
       "        "
      ]
     },
     "metadata": {},
     "output_type": "display_data"
    },
    {
     "data": {
      "text/html": [
       "        <script type=\"text/javascript\">\n",
       "        window.PlotlyConfig = {MathJaxConfig: 'local'};\n",
       "        if (window.MathJax && window.MathJax.Hub && window.MathJax.Hub.Config) {window.MathJax.Hub.Config({SVG: {font: \"STIX-Web\"}});}\n",
       "        if (typeof require !== 'undefined') {\n",
       "        require.undef(\"plotly\");\n",
       "        requirejs.config({\n",
       "            paths: {\n",
       "                'plotly': ['https://cdn.plot.ly/plotly-2.27.0.min']\n",
       "            }\n",
       "        });\n",
       "        require(['plotly'], function(Plotly) {\n",
       "            window._Plotly = Plotly;\n",
       "        });\n",
       "        }\n",
       "        </script>\n",
       "        "
      ]
     },
     "metadata": {},
     "output_type": "display_data"
    }
   ],
   "source": [
    "import glob\n",
    "import os\n",
    "import pandas as pd\n",
    "import numpy as np\n",
    "import geopandas as gpd \n",
    "import xarray as xr\n",
    "\n",
    "from act import discovery, plotting\n",
    "# plotting\n",
    "import matplotlib.pyplot as plt\n",
    "from metpy.cbook import get_test_data\n",
    "from metpy.plots import add_metpy_logo, SkewT\n",
    "import plotly.express as px \n",
    "import plotly.graph_objects as go\n",
    "from plotly.subplots import make_subplots\n",
    "import cufflinks as cf\n",
    "from plotly.offline import download_plotlyjs, init_notebook_mode, plot, iplot\n",
    "\n",
    "from scripts.helper_funcs import create_windrose_df, simple_sounding, mean_sounding\n",
    "import scripts.helper_funcs as hf\n",
    "from metpy import calc, units\n",
    "# make plotly work \n",
    "init_notebook_mode(connected=True)\n",
    "cf.go_offline()"
   ]
  },
  {
   "cell_type": "code",
   "execution_count": 5,
   "metadata": {},
   "outputs": [],
   "source": [
    "# Import basin geometries and stations\n",
    "# -------------------------------------\n",
    "basin_geometries = gpd.read_file('../../01_data/processed_data/east_river_stations/valley_orinetation_basins.geojson')\n",
    "stations = gpd.read_file('../../01_data/processed_data/east_river_stations/met_station_metadata.geojson')"
   ]
  },
  {
   "cell_type": "code",
   "execution_count": 6,
   "metadata": {},
   "outputs": [
    {
     "data": {
      "text/html": [
       "<div>\n",
       "<style scoped>\n",
       "    .dataframe tbody tr th:only-of-type {\n",
       "        vertical-align: middle;\n",
       "    }\n",
       "\n",
       "    .dataframe tbody tr th {\n",
       "        vertical-align: top;\n",
       "    }\n",
       "\n",
       "    .dataframe thead th {\n",
       "        text-align: right;\n",
       "    }\n",
       "</style>\n",
       "<table border=\"1\" class=\"dataframe\">\n",
       "  <thead>\n",
       "    <tr style=\"text-align: right;\">\n",
       "      <th></th>\n",
       "      <th>gage_id</th>\n",
       "      <th>name</th>\n",
       "      <th>valley_orientation</th>\n",
       "      <th>valley_orientation_cardinal</th>\n",
       "      <th>geometry</th>\n",
       "    </tr>\n",
       "  </thead>\n",
       "  <tbody>\n",
       "    <tr>\n",
       "      <th>0</th>\n",
       "      <td>09112500</td>\n",
       "      <td>east_river_at_almont</td>\n",
       "      <td>307.5</td>\n",
       "      <td>NW</td>\n",
       "      <td>POLYGON ((-106.88540 38.66370, -106.88878 38.6...</td>\n",
       "    </tr>\n",
       "    <tr>\n",
       "      <th>1</th>\n",
       "      <td>09112000</td>\n",
       "      <td>cement_creek</td>\n",
       "      <td>22.5</td>\n",
       "      <td>NE</td>\n",
       "      <td>POLYGON ((-106.82051 38.79981, -106.82827 38.8...</td>\n",
       "    </tr>\n",
       "    <tr>\n",
       "      <th>2</th>\n",
       "      <td>09107000</td>\n",
       "      <td>taylor_river_at_taylor_park</td>\n",
       "      <td>292.5</td>\n",
       "      <td>NW</td>\n",
       "      <td>POLYGON ((-106.54865 38.85595, -106.55160 38.8...</td>\n",
       "    </tr>\n",
       "    <tr>\n",
       "      <th>3</th>\n",
       "      <td>09063900</td>\n",
       "      <td>missouri_creek_near_gold_park</td>\n",
       "      <td>82.5</td>\n",
       "      <td>E</td>\n",
       "      <td>POLYGON ((-106.48869 39.35712, -106.49513 39.3...</td>\n",
       "    </tr>\n",
       "    <tr>\n",
       "      <th>4</th>\n",
       "      <td>09065500</td>\n",
       "      <td>gore_creek_at_upper_station</td>\n",
       "      <td>277.5</td>\n",
       "      <td>W</td>\n",
       "      <td>POLYGON ((-106.21477 39.60422, -106.21660 39.6...</td>\n",
       "    </tr>\n",
       "    <tr>\n",
       "      <th>5</th>\n",
       "      <td>09046600</td>\n",
       "      <td>blue_river_near_dillon</td>\n",
       "      <td>157.5</td>\n",
       "      <td>S</td>\n",
       "      <td>POLYGON ((-106.05627 39.35841, -106.06838 39.3...</td>\n",
       "    </tr>\n",
       "    <tr>\n",
       "      <th>6</th>\n",
       "      <td>09051050</td>\n",
       "      <td>stright_creek_below_laskey_gulch_nr_dillon</td>\n",
       "      <td>262.5</td>\n",
       "      <td>W</td>\n",
       "      <td>POLYGON ((-106.05976 39.62409, -106.06750 39.6...</td>\n",
       "    </tr>\n",
       "    <tr>\n",
       "      <th>7</th>\n",
       "      <td>09359500</td>\n",
       "      <td>animas_river_at_tall_timber_resort_above_tacoma</td>\n",
       "      <td>217.5</td>\n",
       "      <td>SW</td>\n",
       "      <td>POLYGON ((-107.79923 37.54412, -107.80106 37.5...</td>\n",
       "    </tr>\n",
       "    <tr>\n",
       "      <th>8</th>\n",
       "      <td>09358550</td>\n",
       "      <td>cement_creek_at_silverton</td>\n",
       "      <td>202.5</td>\n",
       "      <td>SW</td>\n",
       "      <td>POLYGON ((-107.67420 37.81947, -107.68210 37.8...</td>\n",
       "    </tr>\n",
       "    <tr>\n",
       "      <th>9</th>\n",
       "      <td>09146200</td>\n",
       "      <td>uncompahgre_river_near_ridgway</td>\n",
       "      <td>142.5</td>\n",
       "      <td>SE</td>\n",
       "      <td>POLYGON ((-107.73271 37.92982, -107.73839 37.9...</td>\n",
       "    </tr>\n",
       "    <tr>\n",
       "      <th>10</th>\n",
       "      <td>09165000</td>\n",
       "      <td>dolores_river_below_rico</td>\n",
       "      <td>52.5</td>\n",
       "      <td>NE</td>\n",
       "      <td>POLYGON ((-108.00068 37.61444, -108.00677 37.6...</td>\n",
       "    </tr>\n",
       "  </tbody>\n",
       "</table>\n",
       "</div>"
      ],
      "text/plain": [
       "     gage_id                                             name  \\\n",
       "0   09112500                             east_river_at_almont   \n",
       "1   09112000                                     cement_creek   \n",
       "2   09107000                      taylor_river_at_taylor_park   \n",
       "3   09063900                    missouri_creek_near_gold_park   \n",
       "4   09065500                      gore_creek_at_upper_station   \n",
       "5   09046600                           blue_river_near_dillon   \n",
       "6   09051050       stright_creek_below_laskey_gulch_nr_dillon   \n",
       "7   09359500  animas_river_at_tall_timber_resort_above_tacoma   \n",
       "8   09358550                        cement_creek_at_silverton   \n",
       "9   09146200                   uncompahgre_river_near_ridgway   \n",
       "10  09165000                         dolores_river_below_rico   \n",
       "\n",
       "    valley_orientation valley_orientation_cardinal  \\\n",
       "0                307.5                          NW   \n",
       "1                 22.5                          NE   \n",
       "2                292.5                          NW   \n",
       "3                 82.5                           E   \n",
       "4                277.5                           W   \n",
       "5                157.5                           S   \n",
       "6                262.5                           W   \n",
       "7                217.5                          SW   \n",
       "8                202.5                          SW   \n",
       "9                142.5                          SE   \n",
       "10                52.5                          NE   \n",
       "\n",
       "                                             geometry  \n",
       "0   POLYGON ((-106.88540 38.66370, -106.88878 38.6...  \n",
       "1   POLYGON ((-106.82051 38.79981, -106.82827 38.8...  \n",
       "2   POLYGON ((-106.54865 38.85595, -106.55160 38.8...  \n",
       "3   POLYGON ((-106.48869 39.35712, -106.49513 39.3...  \n",
       "4   POLYGON ((-106.21477 39.60422, -106.21660 39.6...  \n",
       "5   POLYGON ((-106.05627 39.35841, -106.06838 39.3...  \n",
       "6   POLYGON ((-106.05976 39.62409, -106.06750 39.6...  \n",
       "7   POLYGON ((-107.79923 37.54412, -107.80106 37.5...  \n",
       "8   POLYGON ((-107.67420 37.81947, -107.68210 37.8...  \n",
       "9   POLYGON ((-107.73271 37.92982, -107.73839 37.9...  \n",
       "10  POLYGON ((-108.00068 37.61444, -108.00677 37.6...  "
      ]
     },
     "execution_count": 6,
     "metadata": {},
     "output_type": "execute_result"
    }
   ],
   "source": [
    "basin_geometries"
   ]
  },
  {
   "cell_type": "code",
   "execution_count": 7,
   "metadata": {},
   "outputs": [],
   "source": [
    "# lets begin by selecting one basin\n",
    "name = 'dolores_river_below_rico'\n",
    "selected_basin_stations = stations[stations['name'] == name]\n",
    "# create lat and lon columns\n",
    "selected_basin_stations['lat'] = selected_basin_stations.geometry.y\n",
    "selected_basin_stations['lon'] = selected_basin_stations.geometry.x\n",
    "# elevation column\n",
    "selected_basin_stations['elevation'] = selected_basin_stations.geometry.z\n",
    "\n",
    "# selected_basin\n",
    "selected_basin = basin_geometries[basin_geometries['name'] == name]"
   ]
  },
  {
   "cell_type": "code",
   "execution_count": 8,
   "metadata": {},
   "outputs": [],
   "source": [
    "import json\n",
    "# get token from .mapbox_token.json file in the home directory\n",
    "with open('/home/dlhogan/.mapbox_token.json') as f:\n",
    "    mapbox_token = json.load(f)['token']\n",
    "f.close()"
   ]
  },
  {
   "cell_type": "code",
   "execution_count": 9,
   "metadata": {},
   "outputs": [],
   "source": [
    "all_coords = []\n",
    "for b in selected_basin.geometry.boundary: # for first feature/row\n",
    "    coords = np.dstack(b.coords.xy).tolist()\n",
    "    all_coords.append(*coords)   "
   ]
  },
  {
   "cell_type": "code",
   "execution_count": 10,
   "metadata": {},
   "outputs": [
    {
     "data": {
      "application/vnd.plotly.v1+json": {
       "config": {
        "plotlyServerURL": "https://plot.ly"
       },
       "data": [
        {
         "customdata": [
          [
           10000,
           "EDSC2"
          ],
          [
           8931,
           "CARIC"
          ],
          [
           10597,
           "E6434"
          ],
          [
           9195,
           "739:CO:SNTL"
          ],
          [
           10193,
           "586:CO:SNTL"
          ],
          [
           10217,
           "465:CO:SNTL"
          ]
         ],
         "hovertemplate": "<b>%{hovertext}</b><br><br>lat=%{lat}<br>lon=%{lon}<br>elevation=%{marker.color}<br>id=%{customdata[1]}<extra></extra>",
         "hovertext": [
          "dolores_river_below_rico",
          "dolores_river_below_rico",
          "dolores_river_below_rico",
          "dolores_river_below_rico",
          "dolores_river_below_rico",
          "dolores_river_below_rico"
         ],
         "lat": [
          37.78617,
          37.68626,
          37.7,
          37.64562,
          37.79895,
          37.78607
         ],
         "legendgroup": "",
         "lon": [
          -108.02155,
          -108.0381,
          -108,
          -108.00833,
          -107.92475,
          -108.02235
         ],
         "marker": {
          "color": [
           10000,
           8931,
           10597,
           9195,
           10193,
           10217
          ],
          "coloraxis": "coloraxis"
         },
         "mode": "markers",
         "name": "",
         "showlegend": false,
         "subplot": "mapbox",
         "type": "scattermapbox"
        },
        {
         "lat": [
          37.61443610685604,
          37.61692741129778,
          37.61930385342156,
          37.622493274748216,
          37.622966072578514,
          37.6300165450504,
          37.630502430860695,
          37.6345078836024,
          37.638001740723055,
          37.64036010010671,
          37.65041449286871,
          37.656475642853216,
          37.6610725531309,
          37.66439887572909,
          37.67433927459471,
          37.67688462509396,
          37.679917815617266,
          37.68412786741828,
          37.69623008584165,
          37.6974269453691,
          37.70779261455212,
          37.71044289990747,
          37.719419655764234,
          37.7220908458536,
          37.72543745741456,
          37.72638170757232,
          37.734228378183936,
          37.74365172234033,
          37.74617198400136,
          37.74976964147083,
          37.74928708237215,
          37.75716203857042,
          37.77049188957182,
          37.777555524339434,
          37.78527610790924,
          37.79436069472136,
          37.803719189646515,
          37.8068716226444,
          37.81594321386466,
          37.82647492771059,
          37.829605218165014,
          37.8322152993697,
          37.8395533354656,
          37.84514130250876,
          37.843410468243164,
          37.83562966758597,
          37.832224953258844,
          37.83174208598625,
          37.83548783177019,
          37.83099420887186,
          37.828694160718825,
          37.82298056694974,
          37.8244303724246,
          37.818295006824656,
          37.81047023295058,
          37.806603176143014,
          37.8025185418623,
          37.79813542857207,
          37.791658878351896,
          37.78809579665901,
          37.78544158186823,
          37.78618759410817,
          37.78430545524068,
          37.78129922039119,
          37.77665502317688,
          37.77373347174604,
          37.771654875367545,
          37.768759323371604,
          37.76734772493175,
          37.76297251434093,
          37.76023585394341,
          37.755821026538335,
          37.75278893565362,
          37.74680871572214,
          37.745808118295066,
          37.738214475350766,
          37.72544644137401,
          37.72213544208431,
          37.71585693974808,
          37.718101690317134,
          37.71734008993883,
          37.71885823368609,
          37.71895568342563,
          37.71599468044666,
          37.71269158221552,
          37.710003963482755,
          37.70279897101895,
          37.70299805970909,
          37.70636808140237,
          37.706881118894515,
          37.70503425449608,
          37.70328539571912,
          37.697912867853596,
          37.68786664669098,
          37.68363146862815,
          37.67905673423704,
          37.64851277269099,
          37.642778946092655,
          37.6412281360963,
          37.63895451566937,
          37.629678775635504,
          37.628276681855404,
          37.62422028204936,
          37.61557389656845,
          37.61443610685604
         ],
         "line": {
          "color": "red",
          "width": 2
         },
         "lon": [
          -108.00067634262882,
          -108.0067670929067,
          -108.00750532323802,
          -108.01323893265953,
          -108.02351086345392,
          -108.04151895008022,
          -108.05251628925393,
          -108.059744780577,
          -108.06229233574251,
          -108.06138880354574,
          -108.06304899891452,
          -108.07189165202337,
          -108.07244322630106,
          -108.07022453969631,
          -108.07135667877378,
          -108.07435659453515,
          -108.08536833774623,
          -108.0895794330501,
          -108.0818698269556,
          -108.08543164649092,
          -108.0931178789589,
          -108.0901544934286,
          -108.0901778868612,
          -108.07571704203721,
          -108.0692767142741,
          -108.063607363481,
          -108.05796410727481,
          -108.06089368334325,
          -108.05748829423659,
          -108.05635179328559,
          -108.04999075852598,
          -108.03601701666418,
          -108.03175802731002,
          -108.02608053321103,
          -108.02760394606514,
          -108.01849962767194,
          -108.02081175032173,
          -108.01625274681231,
          -108.01174576027269,
          -108.01204221232788,
          -108.00824614390747,
          -107.99216708684577,
          -107.99162951993931,
          -107.98421457498956,
          -107.98036828463387,
          -107.97521958512134,
          -107.97041047661092,
          -107.96633478256364,
          -107.95072786773657,
          -107.94677014323409,
          -107.94703186619945,
          -107.93590381683794,
          -107.91771746960794,
          -107.91552303416839,
          -107.90577110879957,
          -107.90410908095275,
          -107.89197052642898,
          -107.88891516522835,
          -107.89107634499248,
          -107.88930082876342,
          -107.8860990407966,
          -107.87407597204664,
          -107.87017356151236,
          -107.87052662666804,
          -107.86130568010873,
          -107.86208694420453,
          -107.86532825938274,
          -107.86521742174844,
          -107.86825332950265,
          -107.87034280730661,
          -107.86339811134772,
          -107.86206537802732,
          -107.86463525268546,
          -107.86639140604447,
          -107.86930728629703,
          -107.87584566851024,
          -107.87560754313424,
          -107.87301065684893,
          -107.87763910961036,
          -107.88165343558873,
          -107.89476275498484,
          -107.8960360390006,
          -107.90199579240914,
          -107.91074551004017,
          -107.91120961442626,
          -107.92841869004329,
          -107.93647072445695,
          -107.94141945780332,
          -107.94474271218701,
          -107.95238573297827,
          -107.95760871973458,
          -107.95801868678777,
          -107.9678244399619,
          -107.97058887594132,
          -107.97490543541656,
          -107.96931581137777,
          -107.95735232327192,
          -107.95961988795797,
          -107.96209147688405,
          -107.97270420499045,
          -107.97479101479419,
          -107.98260997376168,
          -107.98884994058176,
          -107.9946358686214,
          -108.00067634262882
         ],
         "mode": "lines",
         "name": "Basin Boundary",
         "type": "scattermapbox"
        }
       ],
       "layout": {
        "coloraxis": {
         "colorbar": {
          "title": {
           "text": "elevation"
          }
         },
         "colorscale": [
          [
           0,
           "#f0f921"
          ],
          [
           0.1111111111111111,
           "#fdca26"
          ],
          [
           0.2222222222222222,
           "#fb9f3a"
          ],
          [
           0.3333333333333333,
           "#ed7953"
          ],
          [
           0.4444444444444444,
           "#d8576b"
          ],
          [
           0.5555555555555556,
           "#bd3786"
          ],
          [
           0.6666666666666666,
           "#9c179e"
          ],
          [
           0.7777777777777778,
           "#7201a8"
          ],
          [
           0.8888888888888888,
           "#46039f"
          ],
          [
           1,
           "#0d0887"
          ]
         ]
        },
        "font": {
         "size": 16
        },
        "height": 600,
        "legend": {
         "tracegroupgap": 0
        },
        "mapbox": {
         "accesstoken": "pk.eyJ1IjoiZGxob2dhbiIsImEiOiJjbHI2dm4zZDUxZTV0MmxrOHphanBvZW5jIn0.sDiYItVsHLRyEIuUQk7e7A",
         "center": {
          "lat": 37.733844999999995,
          "lon": -108.00251333333334
         },
         "domain": {
          "x": [
           0,
           1
          ],
          "y": [
           0,
           1
          ]
         },
         "style": "mapbox://styles/mapbox/outdoors-v12",
         "zoom": 10
        },
        "margin": {
         "b": 0,
         "l": 0,
         "r": 0,
         "t": 40
        },
        "template": {
         "data": {
          "bar": [
           {
            "error_x": {
             "color": "#2a3f5f"
            },
            "error_y": {
             "color": "#2a3f5f"
            },
            "marker": {
             "line": {
              "color": "#E5ECF6",
              "width": 0.5
             },
             "pattern": {
              "fillmode": "overlay",
              "size": 10,
              "solidity": 0.2
             }
            },
            "type": "bar"
           }
          ],
          "barpolar": [
           {
            "marker": {
             "line": {
              "color": "#E5ECF6",
              "width": 0.5
             },
             "pattern": {
              "fillmode": "overlay",
              "size": 10,
              "solidity": 0.2
             }
            },
            "type": "barpolar"
           }
          ],
          "carpet": [
           {
            "aaxis": {
             "endlinecolor": "#2a3f5f",
             "gridcolor": "white",
             "linecolor": "white",
             "minorgridcolor": "white",
             "startlinecolor": "#2a3f5f"
            },
            "baxis": {
             "endlinecolor": "#2a3f5f",
             "gridcolor": "white",
             "linecolor": "white",
             "minorgridcolor": "white",
             "startlinecolor": "#2a3f5f"
            },
            "type": "carpet"
           }
          ],
          "choropleth": [
           {
            "colorbar": {
             "outlinewidth": 0,
             "ticks": ""
            },
            "type": "choropleth"
           }
          ],
          "contour": [
           {
            "colorbar": {
             "outlinewidth": 0,
             "ticks": ""
            },
            "colorscale": [
             [
              0,
              "#0d0887"
             ],
             [
              0.1111111111111111,
              "#46039f"
             ],
             [
              0.2222222222222222,
              "#7201a8"
             ],
             [
              0.3333333333333333,
              "#9c179e"
             ],
             [
              0.4444444444444444,
              "#bd3786"
             ],
             [
              0.5555555555555556,
              "#d8576b"
             ],
             [
              0.6666666666666666,
              "#ed7953"
             ],
             [
              0.7777777777777778,
              "#fb9f3a"
             ],
             [
              0.8888888888888888,
              "#fdca26"
             ],
             [
              1,
              "#f0f921"
             ]
            ],
            "type": "contour"
           }
          ],
          "contourcarpet": [
           {
            "colorbar": {
             "outlinewidth": 0,
             "ticks": ""
            },
            "type": "contourcarpet"
           }
          ],
          "heatmap": [
           {
            "colorbar": {
             "outlinewidth": 0,
             "ticks": ""
            },
            "colorscale": [
             [
              0,
              "#0d0887"
             ],
             [
              0.1111111111111111,
              "#46039f"
             ],
             [
              0.2222222222222222,
              "#7201a8"
             ],
             [
              0.3333333333333333,
              "#9c179e"
             ],
             [
              0.4444444444444444,
              "#bd3786"
             ],
             [
              0.5555555555555556,
              "#d8576b"
             ],
             [
              0.6666666666666666,
              "#ed7953"
             ],
             [
              0.7777777777777778,
              "#fb9f3a"
             ],
             [
              0.8888888888888888,
              "#fdca26"
             ],
             [
              1,
              "#f0f921"
             ]
            ],
            "type": "heatmap"
           }
          ],
          "heatmapgl": [
           {
            "colorbar": {
             "outlinewidth": 0,
             "ticks": ""
            },
            "colorscale": [
             [
              0,
              "#0d0887"
             ],
             [
              0.1111111111111111,
              "#46039f"
             ],
             [
              0.2222222222222222,
              "#7201a8"
             ],
             [
              0.3333333333333333,
              "#9c179e"
             ],
             [
              0.4444444444444444,
              "#bd3786"
             ],
             [
              0.5555555555555556,
              "#d8576b"
             ],
             [
              0.6666666666666666,
              "#ed7953"
             ],
             [
              0.7777777777777778,
              "#fb9f3a"
             ],
             [
              0.8888888888888888,
              "#fdca26"
             ],
             [
              1,
              "#f0f921"
             ]
            ],
            "type": "heatmapgl"
           }
          ],
          "histogram": [
           {
            "marker": {
             "pattern": {
              "fillmode": "overlay",
              "size": 10,
              "solidity": 0.2
             }
            },
            "type": "histogram"
           }
          ],
          "histogram2d": [
           {
            "colorbar": {
             "outlinewidth": 0,
             "ticks": ""
            },
            "colorscale": [
             [
              0,
              "#0d0887"
             ],
             [
              0.1111111111111111,
              "#46039f"
             ],
             [
              0.2222222222222222,
              "#7201a8"
             ],
             [
              0.3333333333333333,
              "#9c179e"
             ],
             [
              0.4444444444444444,
              "#bd3786"
             ],
             [
              0.5555555555555556,
              "#d8576b"
             ],
             [
              0.6666666666666666,
              "#ed7953"
             ],
             [
              0.7777777777777778,
              "#fb9f3a"
             ],
             [
              0.8888888888888888,
              "#fdca26"
             ],
             [
              1,
              "#f0f921"
             ]
            ],
            "type": "histogram2d"
           }
          ],
          "histogram2dcontour": [
           {
            "colorbar": {
             "outlinewidth": 0,
             "ticks": ""
            },
            "colorscale": [
             [
              0,
              "#0d0887"
             ],
             [
              0.1111111111111111,
              "#46039f"
             ],
             [
              0.2222222222222222,
              "#7201a8"
             ],
             [
              0.3333333333333333,
              "#9c179e"
             ],
             [
              0.4444444444444444,
              "#bd3786"
             ],
             [
              0.5555555555555556,
              "#d8576b"
             ],
             [
              0.6666666666666666,
              "#ed7953"
             ],
             [
              0.7777777777777778,
              "#fb9f3a"
             ],
             [
              0.8888888888888888,
              "#fdca26"
             ],
             [
              1,
              "#f0f921"
             ]
            ],
            "type": "histogram2dcontour"
           }
          ],
          "mesh3d": [
           {
            "colorbar": {
             "outlinewidth": 0,
             "ticks": ""
            },
            "type": "mesh3d"
           }
          ],
          "parcoords": [
           {
            "line": {
             "colorbar": {
              "outlinewidth": 0,
              "ticks": ""
             }
            },
            "type": "parcoords"
           }
          ],
          "pie": [
           {
            "automargin": true,
            "type": "pie"
           }
          ],
          "scatter": [
           {
            "fillpattern": {
             "fillmode": "overlay",
             "size": 10,
             "solidity": 0.2
            },
            "type": "scatter"
           }
          ],
          "scatter3d": [
           {
            "line": {
             "colorbar": {
              "outlinewidth": 0,
              "ticks": ""
             }
            },
            "marker": {
             "colorbar": {
              "outlinewidth": 0,
              "ticks": ""
             }
            },
            "type": "scatter3d"
           }
          ],
          "scattercarpet": [
           {
            "marker": {
             "colorbar": {
              "outlinewidth": 0,
              "ticks": ""
             }
            },
            "type": "scattercarpet"
           }
          ],
          "scattergeo": [
           {
            "marker": {
             "colorbar": {
              "outlinewidth": 0,
              "ticks": ""
             }
            },
            "type": "scattergeo"
           }
          ],
          "scattergl": [
           {
            "marker": {
             "colorbar": {
              "outlinewidth": 0,
              "ticks": ""
             }
            },
            "type": "scattergl"
           }
          ],
          "scattermapbox": [
           {
            "marker": {
             "colorbar": {
              "outlinewidth": 0,
              "ticks": ""
             }
            },
            "type": "scattermapbox"
           }
          ],
          "scatterpolar": [
           {
            "marker": {
             "colorbar": {
              "outlinewidth": 0,
              "ticks": ""
             }
            },
            "type": "scatterpolar"
           }
          ],
          "scatterpolargl": [
           {
            "marker": {
             "colorbar": {
              "outlinewidth": 0,
              "ticks": ""
             }
            },
            "type": "scatterpolargl"
           }
          ],
          "scatterternary": [
           {
            "marker": {
             "colorbar": {
              "outlinewidth": 0,
              "ticks": ""
             }
            },
            "type": "scatterternary"
           }
          ],
          "surface": [
           {
            "colorbar": {
             "outlinewidth": 0,
             "ticks": ""
            },
            "colorscale": [
             [
              0,
              "#0d0887"
             ],
             [
              0.1111111111111111,
              "#46039f"
             ],
             [
              0.2222222222222222,
              "#7201a8"
             ],
             [
              0.3333333333333333,
              "#9c179e"
             ],
             [
              0.4444444444444444,
              "#bd3786"
             ],
             [
              0.5555555555555556,
              "#d8576b"
             ],
             [
              0.6666666666666666,
              "#ed7953"
             ],
             [
              0.7777777777777778,
              "#fb9f3a"
             ],
             [
              0.8888888888888888,
              "#fdca26"
             ],
             [
              1,
              "#f0f921"
             ]
            ],
            "type": "surface"
           }
          ],
          "table": [
           {
            "cells": {
             "fill": {
              "color": "#EBF0F8"
             },
             "line": {
              "color": "white"
             }
            },
            "header": {
             "fill": {
              "color": "#C8D4E3"
             },
             "line": {
              "color": "white"
             }
            },
            "type": "table"
           }
          ]
         },
         "layout": {
          "annotationdefaults": {
           "arrowcolor": "#2a3f5f",
           "arrowhead": 0,
           "arrowwidth": 1
          },
          "autotypenumbers": "strict",
          "coloraxis": {
           "colorbar": {
            "outlinewidth": 0,
            "ticks": ""
           }
          },
          "colorscale": {
           "diverging": [
            [
             0,
             "#8e0152"
            ],
            [
             0.1,
             "#c51b7d"
            ],
            [
             0.2,
             "#de77ae"
            ],
            [
             0.3,
             "#f1b6da"
            ],
            [
             0.4,
             "#fde0ef"
            ],
            [
             0.5,
             "#f7f7f7"
            ],
            [
             0.6,
             "#e6f5d0"
            ],
            [
             0.7,
             "#b8e186"
            ],
            [
             0.8,
             "#7fbc41"
            ],
            [
             0.9,
             "#4d9221"
            ],
            [
             1,
             "#276419"
            ]
           ],
           "sequential": [
            [
             0,
             "#0d0887"
            ],
            [
             0.1111111111111111,
             "#46039f"
            ],
            [
             0.2222222222222222,
             "#7201a8"
            ],
            [
             0.3333333333333333,
             "#9c179e"
            ],
            [
             0.4444444444444444,
             "#bd3786"
            ],
            [
             0.5555555555555556,
             "#d8576b"
            ],
            [
             0.6666666666666666,
             "#ed7953"
            ],
            [
             0.7777777777777778,
             "#fb9f3a"
            ],
            [
             0.8888888888888888,
             "#fdca26"
            ],
            [
             1,
             "#f0f921"
            ]
           ],
           "sequentialminus": [
            [
             0,
             "#0d0887"
            ],
            [
             0.1111111111111111,
             "#46039f"
            ],
            [
             0.2222222222222222,
             "#7201a8"
            ],
            [
             0.3333333333333333,
             "#9c179e"
            ],
            [
             0.4444444444444444,
             "#bd3786"
            ],
            [
             0.5555555555555556,
             "#d8576b"
            ],
            [
             0.6666666666666666,
             "#ed7953"
            ],
            [
             0.7777777777777778,
             "#fb9f3a"
            ],
            [
             0.8888888888888888,
             "#fdca26"
            ],
            [
             1,
             "#f0f921"
            ]
           ]
          },
          "colorway": [
           "#636efa",
           "#EF553B",
           "#00cc96",
           "#ab63fa",
           "#FFA15A",
           "#19d3f3",
           "#FF6692",
           "#B6E880",
           "#FF97FF",
           "#FECB52"
          ],
          "font": {
           "color": "#2a3f5f"
          },
          "geo": {
           "bgcolor": "white",
           "lakecolor": "white",
           "landcolor": "#E5ECF6",
           "showlakes": true,
           "showland": true,
           "subunitcolor": "white"
          },
          "hoverlabel": {
           "align": "left"
          },
          "hovermode": "closest",
          "mapbox": {
           "style": "light"
          },
          "paper_bgcolor": "white",
          "plot_bgcolor": "#E5ECF6",
          "polar": {
           "angularaxis": {
            "gridcolor": "white",
            "linecolor": "white",
            "ticks": ""
           },
           "bgcolor": "#E5ECF6",
           "radialaxis": {
            "gridcolor": "white",
            "linecolor": "white",
            "ticks": ""
           }
          },
          "scene": {
           "xaxis": {
            "backgroundcolor": "#E5ECF6",
            "gridcolor": "white",
            "gridwidth": 2,
            "linecolor": "white",
            "showbackground": true,
            "ticks": "",
            "zerolinecolor": "white"
           },
           "yaxis": {
            "backgroundcolor": "#E5ECF6",
            "gridcolor": "white",
            "gridwidth": 2,
            "linecolor": "white",
            "showbackground": true,
            "ticks": "",
            "zerolinecolor": "white"
           },
           "zaxis": {
            "backgroundcolor": "#E5ECF6",
            "gridcolor": "white",
            "gridwidth": 2,
            "linecolor": "white",
            "showbackground": true,
            "ticks": "",
            "zerolinecolor": "white"
           }
          },
          "shapedefaults": {
           "line": {
            "color": "#2a3f5f"
           }
          },
          "ternary": {
           "aaxis": {
            "gridcolor": "white",
            "linecolor": "white",
            "ticks": ""
           },
           "baxis": {
            "gridcolor": "white",
            "linecolor": "white",
            "ticks": ""
           },
           "bgcolor": "#E5ECF6",
           "caxis": {
            "gridcolor": "white",
            "linecolor": "white",
            "ticks": ""
           }
          },
          "title": {
           "x": 0.05
          },
          "xaxis": {
           "automargin": true,
           "gridcolor": "white",
           "linecolor": "white",
           "ticks": "",
           "title": {
            "standoff": 15
           },
           "zerolinecolor": "white",
           "zerolinewidth": 2
          },
          "yaxis": {
           "automargin": true,
           "gridcolor": "white",
           "linecolor": "white",
           "ticks": "",
           "title": {
            "standoff": 15
           },
           "zerolinecolor": "white",
           "zerolinewidth": 2
          }
         }
        },
        "title": {
         "font": {
          "size": 24
         },
         "text": "Synoptic Stations in dolores_river_below_rico",
         "x": 0.5,
         "xanchor": "center",
         "y": 0.98,
         "yanchor": "top"
        },
        "width": 800
       }
      },
      "text/html": [
       "<div>                            <div id=\"0f2350d0-e0ff-4978-8db1-0fde6c09b1a6\" class=\"plotly-graph-div\" style=\"height:600px; width:800px;\"></div>            <script type=\"text/javascript\">                require([\"plotly\"], function(Plotly) {                    window.PLOTLYENV=window.PLOTLYENV || {};                                    if (document.getElementById(\"0f2350d0-e0ff-4978-8db1-0fde6c09b1a6\")) {                    Plotly.newPlot(                        \"0f2350d0-e0ff-4978-8db1-0fde6c09b1a6\",                        [{\"customdata\":[[10000.0,\"EDSC2\"],[8931.0,\"CARIC\"],[10597.0,\"E6434\"],[9195.0,\"739:CO:SNTL\"],[10193.0,\"586:CO:SNTL\"],[10217.0,\"465:CO:SNTL\"]],\"hovertemplate\":\"\\u003cb\\u003e%{hovertext}\\u003c\\u002fb\\u003e\\u003cbr\\u003e\\u003cbr\\u003elat=%{lat}\\u003cbr\\u003elon=%{lon}\\u003cbr\\u003eelevation=%{marker.color}\\u003cbr\\u003eid=%{customdata[1]}\\u003cextra\\u003e\\u003c\\u002fextra\\u003e\",\"hovertext\":[\"dolores_river_below_rico\",\"dolores_river_below_rico\",\"dolores_river_below_rico\",\"dolores_river_below_rico\",\"dolores_river_below_rico\",\"dolores_river_below_rico\"],\"lat\":[37.78617,37.68626,37.7,37.64562,37.79895,37.78607],\"legendgroup\":\"\",\"lon\":[-108.02155,-108.0381,-108.0,-108.00833,-107.92475,-108.02235],\"marker\":{\"color\":[10000.0,8931.0,10597.0,9195.0,10193.0,10217.0],\"coloraxis\":\"coloraxis\"},\"mode\":\"markers\",\"name\":\"\",\"showlegend\":false,\"subplot\":\"mapbox\",\"type\":\"scattermapbox\"},{\"lat\":[37.61443610685604,37.61692741129778,37.61930385342156,37.622493274748216,37.622966072578514,37.6300165450504,37.630502430860695,37.6345078836024,37.638001740723055,37.64036010010671,37.65041449286871,37.656475642853216,37.6610725531309,37.66439887572909,37.67433927459471,37.67688462509396,37.679917815617266,37.68412786741828,37.69623008584165,37.6974269453691,37.70779261455212,37.71044289990747,37.719419655764234,37.7220908458536,37.72543745741456,37.72638170757232,37.734228378183936,37.74365172234033,37.74617198400136,37.74976964147083,37.74928708237215,37.75716203857042,37.77049188957182,37.777555524339434,37.78527610790924,37.79436069472136,37.803719189646515,37.8068716226444,37.81594321386466,37.82647492771059,37.829605218165014,37.8322152993697,37.8395533354656,37.84514130250876,37.843410468243164,37.83562966758597,37.832224953258844,37.83174208598625,37.83548783177019,37.83099420887186,37.828694160718825,37.82298056694974,37.8244303724246,37.818295006824656,37.81047023295058,37.806603176143014,37.8025185418623,37.79813542857207,37.791658878351896,37.78809579665901,37.78544158186823,37.78618759410817,37.78430545524068,37.78129922039119,37.77665502317688,37.77373347174604,37.771654875367545,37.768759323371604,37.76734772493175,37.76297251434093,37.76023585394341,37.755821026538335,37.75278893565362,37.74680871572214,37.745808118295066,37.738214475350766,37.72544644137401,37.72213544208431,37.71585693974808,37.718101690317134,37.71734008993883,37.71885823368609,37.71895568342563,37.71599468044666,37.71269158221552,37.710003963482755,37.70279897101895,37.70299805970909,37.70636808140237,37.706881118894515,37.70503425449608,37.70328539571912,37.697912867853596,37.68786664669098,37.68363146862815,37.67905673423704,37.64851277269099,37.642778946092655,37.6412281360963,37.63895451566937,37.629678775635504,37.628276681855404,37.62422028204936,37.61557389656845,37.61443610685604],\"line\":{\"color\":\"red\",\"width\":2},\"lon\":[-108.00067634262882,-108.0067670929067,-108.00750532323802,-108.01323893265953,-108.02351086345392,-108.04151895008022,-108.05251628925393,-108.059744780577,-108.06229233574251,-108.06138880354574,-108.06304899891452,-108.07189165202337,-108.07244322630106,-108.07022453969631,-108.07135667877378,-108.07435659453515,-108.08536833774623,-108.0895794330501,-108.0818698269556,-108.08543164649092,-108.0931178789589,-108.0901544934286,-108.0901778868612,-108.07571704203721,-108.0692767142741,-108.063607363481,-108.05796410727481,-108.06089368334325,-108.05748829423659,-108.05635179328559,-108.04999075852598,-108.03601701666418,-108.03175802731002,-108.02608053321103,-108.02760394606514,-108.01849962767194,-108.02081175032173,-108.01625274681231,-108.01174576027269,-108.01204221232788,-108.00824614390747,-107.99216708684577,-107.99162951993931,-107.98421457498956,-107.98036828463387,-107.97521958512134,-107.97041047661092,-107.96633478256364,-107.95072786773657,-107.94677014323409,-107.94703186619945,-107.93590381683794,-107.91771746960794,-107.91552303416839,-107.90577110879957,-107.90410908095275,-107.89197052642898,-107.88891516522835,-107.89107634499248,-107.88930082876342,-107.8860990407966,-107.87407597204664,-107.87017356151236,-107.87052662666804,-107.86130568010873,-107.86208694420453,-107.86532825938274,-107.86521742174844,-107.86825332950265,-107.87034280730661,-107.86339811134772,-107.86206537802732,-107.86463525268546,-107.86639140604447,-107.86930728629703,-107.87584566851024,-107.87560754313424,-107.87301065684893,-107.87763910961036,-107.88165343558873,-107.89476275498484,-107.8960360390006,-107.90199579240914,-107.91074551004017,-107.91120961442626,-107.92841869004329,-107.93647072445695,-107.94141945780332,-107.94474271218701,-107.95238573297827,-107.95760871973458,-107.95801868678777,-107.9678244399619,-107.97058887594132,-107.97490543541656,-107.96931581137777,-107.95735232327192,-107.95961988795797,-107.96209147688405,-107.97270420499045,-107.97479101479419,-107.98260997376168,-107.98884994058176,-107.9946358686214,-108.00067634262882],\"mode\":\"lines\",\"name\":\"Basin Boundary\",\"type\":\"scattermapbox\"}],                        {\"template\":{\"data\":{\"histogram2dcontour\":[{\"type\":\"histogram2dcontour\",\"colorbar\":{\"outlinewidth\":0,\"ticks\":\"\"},\"colorscale\":[[0.0,\"#0d0887\"],[0.1111111111111111,\"#46039f\"],[0.2222222222222222,\"#7201a8\"],[0.3333333333333333,\"#9c179e\"],[0.4444444444444444,\"#bd3786\"],[0.5555555555555556,\"#d8576b\"],[0.6666666666666666,\"#ed7953\"],[0.7777777777777778,\"#fb9f3a\"],[0.8888888888888888,\"#fdca26\"],[1.0,\"#f0f921\"]]}],\"choropleth\":[{\"type\":\"choropleth\",\"colorbar\":{\"outlinewidth\":0,\"ticks\":\"\"}}],\"histogram2d\":[{\"type\":\"histogram2d\",\"colorbar\":{\"outlinewidth\":0,\"ticks\":\"\"},\"colorscale\":[[0.0,\"#0d0887\"],[0.1111111111111111,\"#46039f\"],[0.2222222222222222,\"#7201a8\"],[0.3333333333333333,\"#9c179e\"],[0.4444444444444444,\"#bd3786\"],[0.5555555555555556,\"#d8576b\"],[0.6666666666666666,\"#ed7953\"],[0.7777777777777778,\"#fb9f3a\"],[0.8888888888888888,\"#fdca26\"],[1.0,\"#f0f921\"]]}],\"heatmap\":[{\"type\":\"heatmap\",\"colorbar\":{\"outlinewidth\":0,\"ticks\":\"\"},\"colorscale\":[[0.0,\"#0d0887\"],[0.1111111111111111,\"#46039f\"],[0.2222222222222222,\"#7201a8\"],[0.3333333333333333,\"#9c179e\"],[0.4444444444444444,\"#bd3786\"],[0.5555555555555556,\"#d8576b\"],[0.6666666666666666,\"#ed7953\"],[0.7777777777777778,\"#fb9f3a\"],[0.8888888888888888,\"#fdca26\"],[1.0,\"#f0f921\"]]}],\"heatmapgl\":[{\"type\":\"heatmapgl\",\"colorbar\":{\"outlinewidth\":0,\"ticks\":\"\"},\"colorscale\":[[0.0,\"#0d0887\"],[0.1111111111111111,\"#46039f\"],[0.2222222222222222,\"#7201a8\"],[0.3333333333333333,\"#9c179e\"],[0.4444444444444444,\"#bd3786\"],[0.5555555555555556,\"#d8576b\"],[0.6666666666666666,\"#ed7953\"],[0.7777777777777778,\"#fb9f3a\"],[0.8888888888888888,\"#fdca26\"],[1.0,\"#f0f921\"]]}],\"contourcarpet\":[{\"type\":\"contourcarpet\",\"colorbar\":{\"outlinewidth\":0,\"ticks\":\"\"}}],\"contour\":[{\"type\":\"contour\",\"colorbar\":{\"outlinewidth\":0,\"ticks\":\"\"},\"colorscale\":[[0.0,\"#0d0887\"],[0.1111111111111111,\"#46039f\"],[0.2222222222222222,\"#7201a8\"],[0.3333333333333333,\"#9c179e\"],[0.4444444444444444,\"#bd3786\"],[0.5555555555555556,\"#d8576b\"],[0.6666666666666666,\"#ed7953\"],[0.7777777777777778,\"#fb9f3a\"],[0.8888888888888888,\"#fdca26\"],[1.0,\"#f0f921\"]]}],\"surface\":[{\"type\":\"surface\",\"colorbar\":{\"outlinewidth\":0,\"ticks\":\"\"},\"colorscale\":[[0.0,\"#0d0887\"],[0.1111111111111111,\"#46039f\"],[0.2222222222222222,\"#7201a8\"],[0.3333333333333333,\"#9c179e\"],[0.4444444444444444,\"#bd3786\"],[0.5555555555555556,\"#d8576b\"],[0.6666666666666666,\"#ed7953\"],[0.7777777777777778,\"#fb9f3a\"],[0.8888888888888888,\"#fdca26\"],[1.0,\"#f0f921\"]]}],\"mesh3d\":[{\"type\":\"mesh3d\",\"colorbar\":{\"outlinewidth\":0,\"ticks\":\"\"}}],\"scatter\":[{\"fillpattern\":{\"fillmode\":\"overlay\",\"size\":10,\"solidity\":0.2},\"type\":\"scatter\"}],\"parcoords\":[{\"type\":\"parcoords\",\"line\":{\"colorbar\":{\"outlinewidth\":0,\"ticks\":\"\"}}}],\"scatterpolargl\":[{\"type\":\"scatterpolargl\",\"marker\":{\"colorbar\":{\"outlinewidth\":0,\"ticks\":\"\"}}}],\"bar\":[{\"error_x\":{\"color\":\"#2a3f5f\"},\"error_y\":{\"color\":\"#2a3f5f\"},\"marker\":{\"line\":{\"color\":\"#E5ECF6\",\"width\":0.5},\"pattern\":{\"fillmode\":\"overlay\",\"size\":10,\"solidity\":0.2}},\"type\":\"bar\"}],\"scattergeo\":[{\"type\":\"scattergeo\",\"marker\":{\"colorbar\":{\"outlinewidth\":0,\"ticks\":\"\"}}}],\"scatterpolar\":[{\"type\":\"scatterpolar\",\"marker\":{\"colorbar\":{\"outlinewidth\":0,\"ticks\":\"\"}}}],\"histogram\":[{\"marker\":{\"pattern\":{\"fillmode\":\"overlay\",\"size\":10,\"solidity\":0.2}},\"type\":\"histogram\"}],\"scattergl\":[{\"type\":\"scattergl\",\"marker\":{\"colorbar\":{\"outlinewidth\":0,\"ticks\":\"\"}}}],\"scatter3d\":[{\"type\":\"scatter3d\",\"line\":{\"colorbar\":{\"outlinewidth\":0,\"ticks\":\"\"}},\"marker\":{\"colorbar\":{\"outlinewidth\":0,\"ticks\":\"\"}}}],\"scattermapbox\":[{\"type\":\"scattermapbox\",\"marker\":{\"colorbar\":{\"outlinewidth\":0,\"ticks\":\"\"}}}],\"scatterternary\":[{\"type\":\"scatterternary\",\"marker\":{\"colorbar\":{\"outlinewidth\":0,\"ticks\":\"\"}}}],\"scattercarpet\":[{\"type\":\"scattercarpet\",\"marker\":{\"colorbar\":{\"outlinewidth\":0,\"ticks\":\"\"}}}],\"carpet\":[{\"aaxis\":{\"endlinecolor\":\"#2a3f5f\",\"gridcolor\":\"white\",\"linecolor\":\"white\",\"minorgridcolor\":\"white\",\"startlinecolor\":\"#2a3f5f\"},\"baxis\":{\"endlinecolor\":\"#2a3f5f\",\"gridcolor\":\"white\",\"linecolor\":\"white\",\"minorgridcolor\":\"white\",\"startlinecolor\":\"#2a3f5f\"},\"type\":\"carpet\"}],\"table\":[{\"cells\":{\"fill\":{\"color\":\"#EBF0F8\"},\"line\":{\"color\":\"white\"}},\"header\":{\"fill\":{\"color\":\"#C8D4E3\"},\"line\":{\"color\":\"white\"}},\"type\":\"table\"}],\"barpolar\":[{\"marker\":{\"line\":{\"color\":\"#E5ECF6\",\"width\":0.5},\"pattern\":{\"fillmode\":\"overlay\",\"size\":10,\"solidity\":0.2}},\"type\":\"barpolar\"}],\"pie\":[{\"automargin\":true,\"type\":\"pie\"}]},\"layout\":{\"autotypenumbers\":\"strict\",\"colorway\":[\"#636efa\",\"#EF553B\",\"#00cc96\",\"#ab63fa\",\"#FFA15A\",\"#19d3f3\",\"#FF6692\",\"#B6E880\",\"#FF97FF\",\"#FECB52\"],\"font\":{\"color\":\"#2a3f5f\"},\"hovermode\":\"closest\",\"hoverlabel\":{\"align\":\"left\"},\"paper_bgcolor\":\"white\",\"plot_bgcolor\":\"#E5ECF6\",\"polar\":{\"bgcolor\":\"#E5ECF6\",\"angularaxis\":{\"gridcolor\":\"white\",\"linecolor\":\"white\",\"ticks\":\"\"},\"radialaxis\":{\"gridcolor\":\"white\",\"linecolor\":\"white\",\"ticks\":\"\"}},\"ternary\":{\"bgcolor\":\"#E5ECF6\",\"aaxis\":{\"gridcolor\":\"white\",\"linecolor\":\"white\",\"ticks\":\"\"},\"baxis\":{\"gridcolor\":\"white\",\"linecolor\":\"white\",\"ticks\":\"\"},\"caxis\":{\"gridcolor\":\"white\",\"linecolor\":\"white\",\"ticks\":\"\"}},\"coloraxis\":{\"colorbar\":{\"outlinewidth\":0,\"ticks\":\"\"}},\"colorscale\":{\"sequential\":[[0.0,\"#0d0887\"],[0.1111111111111111,\"#46039f\"],[0.2222222222222222,\"#7201a8\"],[0.3333333333333333,\"#9c179e\"],[0.4444444444444444,\"#bd3786\"],[0.5555555555555556,\"#d8576b\"],[0.6666666666666666,\"#ed7953\"],[0.7777777777777778,\"#fb9f3a\"],[0.8888888888888888,\"#fdca26\"],[1.0,\"#f0f921\"]],\"sequentialminus\":[[0.0,\"#0d0887\"],[0.1111111111111111,\"#46039f\"],[0.2222222222222222,\"#7201a8\"],[0.3333333333333333,\"#9c179e\"],[0.4444444444444444,\"#bd3786\"],[0.5555555555555556,\"#d8576b\"],[0.6666666666666666,\"#ed7953\"],[0.7777777777777778,\"#fb9f3a\"],[0.8888888888888888,\"#fdca26\"],[1.0,\"#f0f921\"]],\"diverging\":[[0,\"#8e0152\"],[0.1,\"#c51b7d\"],[0.2,\"#de77ae\"],[0.3,\"#f1b6da\"],[0.4,\"#fde0ef\"],[0.5,\"#f7f7f7\"],[0.6,\"#e6f5d0\"],[0.7,\"#b8e186\"],[0.8,\"#7fbc41\"],[0.9,\"#4d9221\"],[1,\"#276419\"]]},\"xaxis\":{\"gridcolor\":\"white\",\"linecolor\":\"white\",\"ticks\":\"\",\"title\":{\"standoff\":15},\"zerolinecolor\":\"white\",\"automargin\":true,\"zerolinewidth\":2},\"yaxis\":{\"gridcolor\":\"white\",\"linecolor\":\"white\",\"ticks\":\"\",\"title\":{\"standoff\":15},\"zerolinecolor\":\"white\",\"automargin\":true,\"zerolinewidth\":2},\"scene\":{\"xaxis\":{\"backgroundcolor\":\"#E5ECF6\",\"gridcolor\":\"white\",\"linecolor\":\"white\",\"showbackground\":true,\"ticks\":\"\",\"zerolinecolor\":\"white\",\"gridwidth\":2},\"yaxis\":{\"backgroundcolor\":\"#E5ECF6\",\"gridcolor\":\"white\",\"linecolor\":\"white\",\"showbackground\":true,\"ticks\":\"\",\"zerolinecolor\":\"white\",\"gridwidth\":2},\"zaxis\":{\"backgroundcolor\":\"#E5ECF6\",\"gridcolor\":\"white\",\"linecolor\":\"white\",\"showbackground\":true,\"ticks\":\"\",\"zerolinecolor\":\"white\",\"gridwidth\":2}},\"shapedefaults\":{\"line\":{\"color\":\"#2a3f5f\"}},\"annotationdefaults\":{\"arrowcolor\":\"#2a3f5f\",\"arrowhead\":0,\"arrowwidth\":1},\"geo\":{\"bgcolor\":\"white\",\"landcolor\":\"#E5ECF6\",\"subunitcolor\":\"white\",\"showland\":true,\"showlakes\":true,\"lakecolor\":\"white\"},\"title\":{\"x\":0.05},\"mapbox\":{\"style\":\"light\"}}},\"mapbox\":{\"domain\":{\"x\":[0.0,1.0],\"y\":[0.0,1.0]},\"center\":{\"lat\":37.733844999999995,\"lon\":-108.00251333333334},\"zoom\":10,\"accesstoken\":\"pk.eyJ1IjoiZGxob2dhbiIsImEiOiJjbHI2dm4zZDUxZTV0MmxrOHphanBvZW5jIn0.sDiYItVsHLRyEIuUQk7e7A\",\"style\":\"mapbox:\\u002f\\u002fstyles\\u002fmapbox\\u002foutdoors-v12\"},\"coloraxis\":{\"colorbar\":{\"title\":{\"text\":\"elevation\"}},\"colorscale\":[[0.0,\"#f0f921\"],[0.1111111111111111,\"#fdca26\"],[0.2222222222222222,\"#fb9f3a\"],[0.3333333333333333,\"#ed7953\"],[0.4444444444444444,\"#d8576b\"],[0.5555555555555556,\"#bd3786\"],[0.6666666666666666,\"#9c179e\"],[0.7777777777777778,\"#7201a8\"],[0.8888888888888888,\"#46039f\"],[1.0,\"#0d0887\"]]},\"legend\":{\"tracegroupgap\":0},\"title\":{\"text\":\"Synoptic Stations in dolores_river_below_rico\",\"font\":{\"size\":24},\"xanchor\":\"center\",\"yanchor\":\"top\",\"y\":0.98,\"x\":0.5},\"font\":{\"size\":16},\"margin\":{\"r\":0,\"t\":40,\"l\":0,\"b\":0},\"width\":800,\"height\":600},                        {\"responsive\": true}                    ).then(function(){\n",
       "                            \n",
       "var gd = document.getElementById('0f2350d0-e0ff-4978-8db1-0fde6c09b1a6');\n",
       "var x = new MutationObserver(function (mutations, observer) {{\n",
       "        var display = window.getComputedStyle(gd).display;\n",
       "        if (!display || display === 'none') {{\n",
       "            console.log([gd, 'removed!']);\n",
       "            Plotly.purge(gd);\n",
       "            observer.disconnect();\n",
       "        }}\n",
       "}});\n",
       "\n",
       "// Listen for the removal of the full notebook cells\n",
       "var notebookContainer = gd.closest('#notebook-container');\n",
       "if (notebookContainer) {{\n",
       "    x.observe(notebookContainer, {childList: true});\n",
       "}}\n",
       "\n",
       "// Listen for the clearing of the current output cell\n",
       "var outputEl = gd.closest('.output');\n",
       "if (outputEl) {{\n",
       "    x.observe(outputEl, {childList: true});\n",
       "}}\n",
       "\n",
       "                        })                };                });            </script>        </div>"
      ]
     },
     "metadata": {},
     "output_type": "display_data"
    }
   ],
   "source": [
    "fig = px.scatter_mapbox(selected_basin_stations,\n",
    "                        lat=\"lat\",\n",
    "                        lon=\"lon\",\n",
    "                        hover_name='name',\n",
    "                        hover_data=[\"elevation\",\"id\"],\n",
    "                        # color by elevation\n",
    "                        color=\"elevation\",\n",
    "                        color_continuous_scale=px.colors.sequential.Plasma_r,\n",
    "                        # size_max=24,\n",
    "                        zoom=10,\n",
    "                        title=f\"Synoptic Stations in {name}\",\n",
    "                        )\n",
    "# add a trace for the selected basin\n",
    "fig.add_trace(go.Scattermapbox(\n",
    "    mode = \"lines\",\n",
    "    lat=[c[1] for c in all_coords[0]],\n",
    "    lon=[c[0] for c in all_coords[0]],\n",
    "    line = {'color': 'red', 'width': 2},\n",
    "    name = 'Basin Boundary'\n",
    "))\n",
    "\n",
    "fig.update_layout(font_size=16,  title={'xanchor': 'center','yanchor': 'top', 'y':.98, 'x':0.5,}, \n",
    "        title_font_size = 24, mapbox_accesstoken=mapbox_token, mapbox_style = 'mapbox://styles/mapbox/outdoors-v12',\n",
    "        width= 800, height=600, margin={\"r\":0,\"t\":40,\"l\":0,\"b\":0})\n",
    "\n",
    "fig"
   ]
  },
  {
   "cell_type": "code",
   "execution_count": 11,
   "metadata": {},
   "outputs": [
    {
     "data": {
      "text/plain": [
       "41          EDSC2\n",
       "42          CARIC\n",
       "43          E6434\n",
       "44    739:CO:SNTL\n",
       "45    586:CO:SNTL\n",
       "46    465:CO:SNTL\n",
       "Name: id, dtype: object"
      ]
     },
     "execution_count": 11,
     "metadata": {},
     "output_type": "execute_result"
    }
   ],
   "source": [
    "selected_basin_stations['id']"
   ]
  },
  {
   "cell_type": "code",
   "execution_count": 12,
   "metadata": {},
   "outputs": [],
   "source": [
    "mesowest_filepaths = glob.glob('../../01_data/raw_data/station_data/long_term_data/mesowest/*.csv')\n",
    "snotel_filepaths = glob.glob('../../01_data/raw_data/station_data/long_term_data/sntl_tidy/*.csv')\n",
    "# filter to only filepaths that contain the selected_basin_stations id\n",
    "site_paths = []\n",
    "for path in mesowest_filepaths+snotel_filepaths:\n",
    "    for site in selected_basin_stations['id'].values:\n",
    "        site = site.split(':')[0]\n",
    "        if site in path:\n",
    "            site_paths.append(path)\n"
   ]
  },
  {
   "cell_type": "code",
   "execution_count": 13,
   "metadata": {},
   "outputs": [],
   "source": [
    "def create_tidy_mesowest_df(df, station_id, station_units, filter_to_winter=True):\n",
    "    # create a tidy dataframe\n",
    "    tidy_df = df.melt(id_vars=['Date_Time'], var_name='variable', value_name='value')\n",
    "    # map the units to the variables\n",
    "    tidy_df['unit'] = tidy_df['variable'].map(station_units[station_id].to_dict())\n",
    "    # convert types to float \n",
    "    tidy_df[~((tidy_df['unit'].isna()) | (tidy_df['unit']=='code'))] = tidy_df[~((tidy_df['unit'].isna()) | (tidy_df['unit']=='code'))].apply(pd.to_numeric, errors='ignore')\n",
    "    # convert Date_Time to datetime\n",
    "    tidy_df['Date_Time'] = pd.to_datetime(tidy_df['Date_Time'])\n",
    "    # if station id is equal to CACB1\n",
    "    if station_id == 'CACB1':\n",
    "        # convert rotate the wind_direction_set_1 to be in the correct orientation by sutracting pi/2\n",
    "        tidy_df.loc[tidy_df['variable'] == 'wind_direction_set_1', 'value'] = tidy_df.loc[tidy_df['variable'] == 'wind_direction_set_1', 'value'] + 90\n",
    "        # if value is greater than 360 subtract 360\n",
    "        tidy_df.loc[tidy_df['variable'] == 'wind_direction_set_1', 'value'] = tidy_df.loc[tidy_df['variable'] == 'wind_direction_set_1', 'value'].apply(lambda x: x - 360 if x > 360 else x)\n",
    "    # set to index\n",
    "    tidy_df = tidy_df.set_index('Date_Time')\n",
    "    # convert to datetime\n",
    "    tidy_df.index = pd.to_datetime(tidy_df.index)\n",
    "    # filter to only data during cold season months (11,12, 1, 2,3,4)\n",
    "    if filter_to_winter:\n",
    "        tidy_df = tidy_df[tidy_df.index.month.isin([11,12,1,2,3,4])]\n",
    "    return tidy_df\n",
    "\n",
    "def read_mesowest_data(filepath):\n",
    "    if 'mesowest' in filepath:\n",
    "        \n",
    "        df = pd.read_csv(filepath, comment='#')\n",
    "        station_id = df['Station_ID'].loc[1]\n",
    "        station_units = {}\n",
    "        station_units[station_id] = df.loc[0]\n",
    "        # drop first row of the dataset and reindex\n",
    "        df = df.drop(0).reset_index(drop=True)\n",
    "        # create a tidy dataframe\n",
    "        tidy_df = create_tidy_mesowest_df(df, station_id, station_units)\n",
    "        # print the length of the dataset in years\n",
    "        print(f\"{station_id} has {len(tidy_df.index.unique().year.unique())} years of data\")\n",
    "        return tidy_df, station_id\n",
    "    else:\n",
    "        print('Not a mesowest file')\n",
    "        return\n",
    "\n",
    "def read_sntl_data(filepath, filter_to_winter=True):\n",
    "    if 'sntl' in filepath:\n",
    "        df = pd.read_csv(filepath)\n",
    "        if len(df.query(\"variable == 'Wind Speed Average (mph)'\").value.dropna()) ==0:\n",
    "            print('No wind data at this site')\n",
    "            return\n",
    "        else:\n",
    "            site_id = filepath.split('/')[-1].split('_')[1]\n",
    "            # rename Date column to Date_Time\n",
    "            df = df.rename(columns={'Date':'Date_Time'})\n",
    "            # set Date_Time to index\n",
    "            df = df.set_index('Date_Time')\n",
    "            # convert Date_Time to datetime \n",
    "            df.index = pd.to_datetime(df.index)\n",
    "            # filter to only data during cold season months (11,12, 1, 2,3,4)\n",
    "            if filter_to_winter:\n",
    "                df = df[df.index.month.isin([11,12,1,2,3,4])]\n",
    "            # convert wind speed to m/s from mph\n",
    "            df.loc[df['variable'] == 'Wind Speed Average (mph)', 'value'] = df.loc[df['variable'] == 'Wind Speed Average (mph)', 'value']*0.44704\n",
    "            # rename the wind speed variable to change the unit\n",
    "            df.loc[df['variable'] == 'Wind Speed Average (mph)', 'variable'] = 'Wind Speed Average (m/s)'\n",
    "        \n",
    "            # print the length of the dataset in years\n",
    "            print(f\"{site_id}:CO:SNTL has {len(df.index.unique().year.unique())} years of data\")\n",
    "            return df\n",
    "    else:\n",
    "        print('Not a sntl file')\n",
    "        return\n",
    "    \n",
    "def get_windy_days(df, wind_speed_var, threshold):\n",
    "    # get days with wind speed greater than 5 m/s\n",
    "    mean_wind_speed = df.query(f'variable == \"{wind_speed_var}\"')['value'].resample('1D').mean()\n",
    "    # get days with wind speed in the 90th percentile\n",
    "    # days = mean_wind_speed[mean_wind_speed > mean_wind_speed.quantile(.95)].index\n",
    "    days = mean_wind_speed[mean_wind_speed > threshold].index\n",
    "    # filter out days not in months 12,1,2,3,4\n",
    "    days = days[(days.month >= 12) | (days.month <= 4)]\n",
    "    print(f\"Number of days with wind speed greater than 5 m/s: {len(days)}\")\n",
    "    print(f\"Original length: {len(df)}\")\n",
    "    windy_tidy_df = df[pd.to_datetime(df.index.date).isin(days.date)]\n",
    "    print(f\"Filtered length: {len(windy_tidy_df)}\")\n",
    "    return windy_tidy_df"
   ]
  },
  {
   "cell_type": "code",
   "execution_count": 14,
   "metadata": {},
   "outputs": [
    {
     "data": {
      "text/plain": [
       "['../../01_data/raw_data/station_data/long_term_data/mesowest/CARIC.2024-04-09.csv',\n",
       " '../../01_data/raw_data/station_data/long_term_data/mesowest/E6434.2024-04-09.csv',\n",
       " '../../01_data/raw_data/station_data/long_term_data/mesowest/EDSC2.2024-04-09.csv',\n",
       " '../../01_data/raw_data/station_data/long_term_data/sntl_tidy/El_465_SNTL_tidy.csv',\n",
       " '../../01_data/raw_data/station_data/long_term_data/sntl_tidy/Lizard_586_SNTL_tidy.csv',\n",
       " '../../01_data/raw_data/station_data/long_term_data/sntl_tidy/Scotch_739_SNTL_tidy.csv']"
      ]
     },
     "execution_count": 14,
     "metadata": {},
     "output_type": "execute_result"
    }
   ],
   "source": [
    "site_paths"
   ]
  },
  {
   "cell_type": "code",
   "execution_count": 17,
   "metadata": {},
   "outputs": [
    {
     "name": "stderr",
     "output_type": "stream",
     "text": [
      "/tmp/ipykernel_6480/673450550.py:45: DtypeWarning:\n",
      "\n",
      "Columns (3) have mixed types. Specify dtype option on import or set low_memory=False.\n",
      "\n"
     ]
    },
    {
     "name": "stdout",
     "output_type": "stream",
     "text": [
      "465:CO:SNTL has 39 years of data\n"
     ]
    }
   ],
   "source": [
    "site = site_paths[3]\n",
    "if 'mesowest' in site:\n",
    "    df, site_id = read_mesowest_data(site)\n",
    "    wind_speed_var = 'wind_speed_set_1'\n",
    "    wind_dir_var = 'wind_direction_set_1'\n",
    "else:\n",
    "    site_id = site.split('/')[-1].split('_')[1]\n",
    "    df = read_sntl_data(site)\n",
    "    wind_speed_var = 'Wind Speed Average (m/s)'\n",
    "    wind_dir_var = 'Wind Direction Average (degree)'"
   ]
  },
  {
   "cell_type": "code",
   "execution_count": 18,
   "metadata": {},
   "outputs": [
    {
     "name": "stdout",
     "output_type": "stream",
     "text": [
      "Number of days with wind speed greater than 5 m/s: 1\n",
      "Original length: 850410\n",
      "Filtered length: 216\n"
     ]
    }
   ],
   "source": [
    "windy_tidy_df = get_windy_days(df, wind_speed_var,5)"
   ]
  },
  {
   "cell_type": "code",
   "execution_count": 19,
   "metadata": {},
   "outputs": [
    {
     "name": "stderr",
     "output_type": "stream",
     "text": [
      "/home/dlhogan/GitHub/Synoptic-Sublimation/02_analysis/data_exploration/scripts/helper_funcs.py:121: FutureWarning:\n",
      "\n",
      "The default of observed=False is deprecated and will be changed to True in a future version of pandas. Pass observed=False to retain current behavior or observed=True to adopt the future default and silence this warning.\n",
      "\n",
      "/home/dlhogan/miniforge3/envs/sublime_synoptics/lib/python3.11/site-packages/plotly/express/_core.py:2044: FutureWarning:\n",
      "\n",
      "The default of observed=False is deprecated and will be changed to True in a future version of pandas. Pass observed=False to retain current behavior or observed=True to adopt the future default and silence this warning.\n",
      "\n"
     ]
    },
    {
     "data": {
      "application/vnd.plotly.v1+json": {
       "config": {
        "plotlyServerURL": "https://plot.ly"
       },
       "data": [
        {
         "hovertemplate": "speed=0-2<br>frequency=%{r}<br>direction=%{theta}<extra></extra>",
         "legendgroup": "0-2",
         "marker": {
          "color": "#f0f921",
          "pattern": {
           "shape": ""
          }
         },
         "name": "0-2",
         "r": [
          0,
          0,
          0,
          4.166666666666667,
          0,
          0,
          0,
          4.166666666666667,
          0,
          8.333333333333334,
          0,
          0,
          0,
          0,
          0,
          0
         ],
         "showlegend": true,
         "subplot": "polar",
         "theta": [
          "N",
          "NNE",
          "NE",
          "ENE",
          "E",
          "ESE",
          "SE",
          "SSE",
          "S",
          "SSW",
          "SW",
          "WSW",
          "W",
          "WNW",
          "NW",
          "NNW"
         ],
         "type": "barpolar"
        },
        {
         "hovertemplate": "speed=2-4<br>frequency=%{r}<br>direction=%{theta}<extra></extra>",
         "legendgroup": "2-4",
         "marker": {
          "color": "#fdca26",
          "pattern": {
           "shape": ""
          }
         },
         "name": "2-4",
         "r": [
          0,
          0,
          0,
          4.166666666666667,
          4.166666666666667,
          0,
          0,
          0,
          4.166666666666667,
          0,
          4.166666666666667,
          0,
          0,
          0,
          0,
          0
         ],
         "showlegend": true,
         "subplot": "polar",
         "theta": [
          "N",
          "NNE",
          "NE",
          "ENE",
          "E",
          "ESE",
          "SE",
          "SSE",
          "S",
          "SSW",
          "SW",
          "WSW",
          "W",
          "WNW",
          "NW",
          "NNW"
         ],
         "type": "barpolar"
        },
        {
         "hovertemplate": "speed=4-6<br>frequency=%{r}<br>direction=%{theta}<extra></extra>",
         "legendgroup": "4-6",
         "marker": {
          "color": "#fb9f3a",
          "pattern": {
           "shape": ""
          }
         },
         "name": "4-6",
         "r": [
          0,
          0,
          0,
          0,
          0,
          0,
          0,
          0,
          0,
          4.166666666666667,
          0,
          0,
          0,
          0,
          0,
          0
         ],
         "showlegend": true,
         "subplot": "polar",
         "theta": [
          "N",
          "NNE",
          "NE",
          "ENE",
          "E",
          "ESE",
          "SE",
          "SSE",
          "S",
          "SSW",
          "SW",
          "WSW",
          "W",
          "WNW",
          "NW",
          "NNW"
         ],
         "type": "barpolar"
        },
        {
         "hovertemplate": "speed=6-8<br>frequency=%{r}<br>direction=%{theta}<extra></extra>",
         "legendgroup": "6-8",
         "marker": {
          "color": "#ed7953",
          "pattern": {
           "shape": ""
          }
         },
         "name": "6-8",
         "r": [
          0,
          0,
          0,
          0,
          0,
          0,
          0,
          0,
          8.333333333333334,
          16.666666666666668,
          0,
          0,
          0,
          0,
          0,
          0
         ],
         "showlegend": true,
         "subplot": "polar",
         "theta": [
          "N",
          "NNE",
          "NE",
          "ENE",
          "E",
          "ESE",
          "SE",
          "SSE",
          "S",
          "SSW",
          "SW",
          "WSW",
          "W",
          "WNW",
          "NW",
          "NNW"
         ],
         "type": "barpolar"
        },
        {
         "hovertemplate": "speed=8-10<br>frequency=%{r}<br>direction=%{theta}<extra></extra>",
         "legendgroup": "8-10",
         "marker": {
          "color": "#d8576b",
          "pattern": {
           "shape": ""
          }
         },
         "name": "8-10",
         "r": [
          0,
          0,
          0,
          0,
          0,
          0,
          0,
          0,
          29.166666666666668,
          8.333333333333334,
          0,
          0,
          0,
          0,
          0,
          0
         ],
         "showlegend": true,
         "subplot": "polar",
         "theta": [
          "N",
          "NNE",
          "NE",
          "ENE",
          "E",
          "ESE",
          "SE",
          "SSE",
          "S",
          "SSW",
          "SW",
          "WSW",
          "W",
          "WNW",
          "NW",
          "NNW"
         ],
         "type": "barpolar"
        },
        {
         "hovertemplate": "speed=10-12<br>frequency=%{r}<br>direction=%{theta}<extra></extra>",
         "legendgroup": "10-12",
         "marker": {
          "color": "#bd3786",
          "pattern": {
           "shape": ""
          }
         },
         "name": "10-12",
         "r": [
          0,
          0,
          0,
          0,
          0,
          0,
          0,
          0,
          0,
          0,
          0,
          0,
          0,
          0,
          0,
          0
         ],
         "showlegend": true,
         "subplot": "polar",
         "theta": [
          "N",
          "NNE",
          "NE",
          "ENE",
          "E",
          "ESE",
          "SE",
          "SSE",
          "S",
          "SSW",
          "SW",
          "WSW",
          "W",
          "WNW",
          "NW",
          "NNW"
         ],
         "type": "barpolar"
        },
        {
         "hovertemplate": "speed=12-14<br>frequency=%{r}<br>direction=%{theta}<extra></extra>",
         "legendgroup": "12-14",
         "marker": {
          "color": "#9c179e",
          "pattern": {
           "shape": ""
          }
         },
         "name": "12-14",
         "r": [
          0,
          0,
          0,
          0,
          0,
          0,
          0,
          0,
          0,
          0,
          0,
          0,
          0,
          0,
          0,
          0
         ],
         "showlegend": true,
         "subplot": "polar",
         "theta": [
          "N",
          "NNE",
          "NE",
          "ENE",
          "E",
          "ESE",
          "SE",
          "SSE",
          "S",
          "SSW",
          "SW",
          "WSW",
          "W",
          "WNW",
          "NW",
          "NNW"
         ],
         "type": "barpolar"
        },
        {
         "hovertemplate": "speed=>14+<br>frequency=%{r}<br>direction=%{theta}<extra></extra>",
         "legendgroup": ">14+",
         "marker": {
          "color": "#7201a8",
          "pattern": {
           "shape": ""
          }
         },
         "name": ">14+",
         "r": [
          0,
          0,
          0,
          0,
          0,
          0,
          0,
          0,
          0,
          0,
          0,
          0,
          0,
          0,
          0,
          0
         ],
         "showlegend": true,
         "subplot": "polar",
         "theta": [
          "N",
          "NNE",
          "NE",
          "ENE",
          "E",
          "ESE",
          "SE",
          "SSE",
          "S",
          "SSW",
          "SW",
          "WSW",
          "W",
          "WNW",
          "NW",
          "NNW"
         ],
         "type": "barpolar"
        }
       ],
       "layout": {
        "barmode": "relative",
        "barnorm": "percent",
        "font": {
         "size": 12
        },
        "height": 500,
        "legend": {
         "title": {
          "text": "speed"
         },
         "tracegroupgap": 0
        },
        "margin": {
         "t": 60
        },
        "polar": {
         "angularaxis": {
          "direction": "clockwise",
          "rotation": 90
         },
         "domain": {
          "x": [
           0,
           1
          ],
          "y": [
           0,
           1
          ]
         },
         "radialaxis": {
          "angle": 45,
          "range": [
           0,
           50
          ],
          "showgrid": true,
          "showline": false,
          "showticklabels": true,
          "tickfont": {
           "size": 14
          },
          "ticksuffix": "%"
         }
        },
        "template": {
         "data": {
          "bar": [
           {
            "error_x": {
             "color": "#f2f5fa"
            },
            "error_y": {
             "color": "#f2f5fa"
            },
            "marker": {
             "line": {
              "color": "rgb(17,17,17)",
              "width": 0.5
             },
             "pattern": {
              "fillmode": "overlay",
              "size": 10,
              "solidity": 0.2
             }
            },
            "type": "bar"
           }
          ],
          "barpolar": [
           {
            "marker": {
             "line": {
              "color": "rgb(17,17,17)",
              "width": 0.5
             },
             "pattern": {
              "fillmode": "overlay",
              "size": 10,
              "solidity": 0.2
             }
            },
            "type": "barpolar"
           }
          ],
          "carpet": [
           {
            "aaxis": {
             "endlinecolor": "#A2B1C6",
             "gridcolor": "#506784",
             "linecolor": "#506784",
             "minorgridcolor": "#506784",
             "startlinecolor": "#A2B1C6"
            },
            "baxis": {
             "endlinecolor": "#A2B1C6",
             "gridcolor": "#506784",
             "linecolor": "#506784",
             "minorgridcolor": "#506784",
             "startlinecolor": "#A2B1C6"
            },
            "type": "carpet"
           }
          ],
          "choropleth": [
           {
            "colorbar": {
             "outlinewidth": 0,
             "ticks": ""
            },
            "type": "choropleth"
           }
          ],
          "contour": [
           {
            "colorbar": {
             "outlinewidth": 0,
             "ticks": ""
            },
            "colorscale": [
             [
              0,
              "#0d0887"
             ],
             [
              0.1111111111111111,
              "#46039f"
             ],
             [
              0.2222222222222222,
              "#7201a8"
             ],
             [
              0.3333333333333333,
              "#9c179e"
             ],
             [
              0.4444444444444444,
              "#bd3786"
             ],
             [
              0.5555555555555556,
              "#d8576b"
             ],
             [
              0.6666666666666666,
              "#ed7953"
             ],
             [
              0.7777777777777778,
              "#fb9f3a"
             ],
             [
              0.8888888888888888,
              "#fdca26"
             ],
             [
              1,
              "#f0f921"
             ]
            ],
            "type": "contour"
           }
          ],
          "contourcarpet": [
           {
            "colorbar": {
             "outlinewidth": 0,
             "ticks": ""
            },
            "type": "contourcarpet"
           }
          ],
          "heatmap": [
           {
            "colorbar": {
             "outlinewidth": 0,
             "ticks": ""
            },
            "colorscale": [
             [
              0,
              "#0d0887"
             ],
             [
              0.1111111111111111,
              "#46039f"
             ],
             [
              0.2222222222222222,
              "#7201a8"
             ],
             [
              0.3333333333333333,
              "#9c179e"
             ],
             [
              0.4444444444444444,
              "#bd3786"
             ],
             [
              0.5555555555555556,
              "#d8576b"
             ],
             [
              0.6666666666666666,
              "#ed7953"
             ],
             [
              0.7777777777777778,
              "#fb9f3a"
             ],
             [
              0.8888888888888888,
              "#fdca26"
             ],
             [
              1,
              "#f0f921"
             ]
            ],
            "type": "heatmap"
           }
          ],
          "heatmapgl": [
           {
            "colorbar": {
             "outlinewidth": 0,
             "ticks": ""
            },
            "colorscale": [
             [
              0,
              "#0d0887"
             ],
             [
              0.1111111111111111,
              "#46039f"
             ],
             [
              0.2222222222222222,
              "#7201a8"
             ],
             [
              0.3333333333333333,
              "#9c179e"
             ],
             [
              0.4444444444444444,
              "#bd3786"
             ],
             [
              0.5555555555555556,
              "#d8576b"
             ],
             [
              0.6666666666666666,
              "#ed7953"
             ],
             [
              0.7777777777777778,
              "#fb9f3a"
             ],
             [
              0.8888888888888888,
              "#fdca26"
             ],
             [
              1,
              "#f0f921"
             ]
            ],
            "type": "heatmapgl"
           }
          ],
          "histogram": [
           {
            "marker": {
             "pattern": {
              "fillmode": "overlay",
              "size": 10,
              "solidity": 0.2
             }
            },
            "type": "histogram"
           }
          ],
          "histogram2d": [
           {
            "colorbar": {
             "outlinewidth": 0,
             "ticks": ""
            },
            "colorscale": [
             [
              0,
              "#0d0887"
             ],
             [
              0.1111111111111111,
              "#46039f"
             ],
             [
              0.2222222222222222,
              "#7201a8"
             ],
             [
              0.3333333333333333,
              "#9c179e"
             ],
             [
              0.4444444444444444,
              "#bd3786"
             ],
             [
              0.5555555555555556,
              "#d8576b"
             ],
             [
              0.6666666666666666,
              "#ed7953"
             ],
             [
              0.7777777777777778,
              "#fb9f3a"
             ],
             [
              0.8888888888888888,
              "#fdca26"
             ],
             [
              1,
              "#f0f921"
             ]
            ],
            "type": "histogram2d"
           }
          ],
          "histogram2dcontour": [
           {
            "colorbar": {
             "outlinewidth": 0,
             "ticks": ""
            },
            "colorscale": [
             [
              0,
              "#0d0887"
             ],
             [
              0.1111111111111111,
              "#46039f"
             ],
             [
              0.2222222222222222,
              "#7201a8"
             ],
             [
              0.3333333333333333,
              "#9c179e"
             ],
             [
              0.4444444444444444,
              "#bd3786"
             ],
             [
              0.5555555555555556,
              "#d8576b"
             ],
             [
              0.6666666666666666,
              "#ed7953"
             ],
             [
              0.7777777777777778,
              "#fb9f3a"
             ],
             [
              0.8888888888888888,
              "#fdca26"
             ],
             [
              1,
              "#f0f921"
             ]
            ],
            "type": "histogram2dcontour"
           }
          ],
          "mesh3d": [
           {
            "colorbar": {
             "outlinewidth": 0,
             "ticks": ""
            },
            "type": "mesh3d"
           }
          ],
          "parcoords": [
           {
            "line": {
             "colorbar": {
              "outlinewidth": 0,
              "ticks": ""
             }
            },
            "type": "parcoords"
           }
          ],
          "pie": [
           {
            "automargin": true,
            "type": "pie"
           }
          ],
          "scatter": [
           {
            "marker": {
             "line": {
              "color": "#283442"
             }
            },
            "type": "scatter"
           }
          ],
          "scatter3d": [
           {
            "line": {
             "colorbar": {
              "outlinewidth": 0,
              "ticks": ""
             }
            },
            "marker": {
             "colorbar": {
              "outlinewidth": 0,
              "ticks": ""
             }
            },
            "type": "scatter3d"
           }
          ],
          "scattercarpet": [
           {
            "marker": {
             "colorbar": {
              "outlinewidth": 0,
              "ticks": ""
             }
            },
            "type": "scattercarpet"
           }
          ],
          "scattergeo": [
           {
            "marker": {
             "colorbar": {
              "outlinewidth": 0,
              "ticks": ""
             }
            },
            "type": "scattergeo"
           }
          ],
          "scattergl": [
           {
            "marker": {
             "line": {
              "color": "#283442"
             }
            },
            "type": "scattergl"
           }
          ],
          "scattermapbox": [
           {
            "marker": {
             "colorbar": {
              "outlinewidth": 0,
              "ticks": ""
             }
            },
            "type": "scattermapbox"
           }
          ],
          "scatterpolar": [
           {
            "marker": {
             "colorbar": {
              "outlinewidth": 0,
              "ticks": ""
             }
            },
            "type": "scatterpolar"
           }
          ],
          "scatterpolargl": [
           {
            "marker": {
             "colorbar": {
              "outlinewidth": 0,
              "ticks": ""
             }
            },
            "type": "scatterpolargl"
           }
          ],
          "scatterternary": [
           {
            "marker": {
             "colorbar": {
              "outlinewidth": 0,
              "ticks": ""
             }
            },
            "type": "scatterternary"
           }
          ],
          "surface": [
           {
            "colorbar": {
             "outlinewidth": 0,
             "ticks": ""
            },
            "colorscale": [
             [
              0,
              "#0d0887"
             ],
             [
              0.1111111111111111,
              "#46039f"
             ],
             [
              0.2222222222222222,
              "#7201a8"
             ],
             [
              0.3333333333333333,
              "#9c179e"
             ],
             [
              0.4444444444444444,
              "#bd3786"
             ],
             [
              0.5555555555555556,
              "#d8576b"
             ],
             [
              0.6666666666666666,
              "#ed7953"
             ],
             [
              0.7777777777777778,
              "#fb9f3a"
             ],
             [
              0.8888888888888888,
              "#fdca26"
             ],
             [
              1,
              "#f0f921"
             ]
            ],
            "type": "surface"
           }
          ],
          "table": [
           {
            "cells": {
             "fill": {
              "color": "#506784"
             },
             "line": {
              "color": "rgb(17,17,17)"
             }
            },
            "header": {
             "fill": {
              "color": "#2a3f5f"
             },
             "line": {
              "color": "rgb(17,17,17)"
             }
            },
            "type": "table"
           }
          ]
         },
         "layout": {
          "annotationdefaults": {
           "arrowcolor": "#f2f5fa",
           "arrowhead": 0,
           "arrowwidth": 1
          },
          "autotypenumbers": "strict",
          "coloraxis": {
           "colorbar": {
            "outlinewidth": 0,
            "ticks": ""
           }
          },
          "colorscale": {
           "diverging": [
            [
             0,
             "#8e0152"
            ],
            [
             0.1,
             "#c51b7d"
            ],
            [
             0.2,
             "#de77ae"
            ],
            [
             0.3,
             "#f1b6da"
            ],
            [
             0.4,
             "#fde0ef"
            ],
            [
             0.5,
             "#f7f7f7"
            ],
            [
             0.6,
             "#e6f5d0"
            ],
            [
             0.7,
             "#b8e186"
            ],
            [
             0.8,
             "#7fbc41"
            ],
            [
             0.9,
             "#4d9221"
            ],
            [
             1,
             "#276419"
            ]
           ],
           "sequential": [
            [
             0,
             "#0d0887"
            ],
            [
             0.1111111111111111,
             "#46039f"
            ],
            [
             0.2222222222222222,
             "#7201a8"
            ],
            [
             0.3333333333333333,
             "#9c179e"
            ],
            [
             0.4444444444444444,
             "#bd3786"
            ],
            [
             0.5555555555555556,
             "#d8576b"
            ],
            [
             0.6666666666666666,
             "#ed7953"
            ],
            [
             0.7777777777777778,
             "#fb9f3a"
            ],
            [
             0.8888888888888888,
             "#fdca26"
            ],
            [
             1,
             "#f0f921"
            ]
           ],
           "sequentialminus": [
            [
             0,
             "#0d0887"
            ],
            [
             0.1111111111111111,
             "#46039f"
            ],
            [
             0.2222222222222222,
             "#7201a8"
            ],
            [
             0.3333333333333333,
             "#9c179e"
            ],
            [
             0.4444444444444444,
             "#bd3786"
            ],
            [
             0.5555555555555556,
             "#d8576b"
            ],
            [
             0.6666666666666666,
             "#ed7953"
            ],
            [
             0.7777777777777778,
             "#fb9f3a"
            ],
            [
             0.8888888888888888,
             "#fdca26"
            ],
            [
             1,
             "#f0f921"
            ]
           ]
          },
          "colorway": [
           "#636efa",
           "#EF553B",
           "#00cc96",
           "#ab63fa",
           "#FFA15A",
           "#19d3f3",
           "#FF6692",
           "#B6E880",
           "#FF97FF",
           "#FECB52"
          ],
          "font": {
           "color": "#f2f5fa"
          },
          "geo": {
           "bgcolor": "rgb(17,17,17)",
           "lakecolor": "rgb(17,17,17)",
           "landcolor": "rgb(17,17,17)",
           "showlakes": true,
           "showland": true,
           "subunitcolor": "#506784"
          },
          "hoverlabel": {
           "align": "left"
          },
          "hovermode": "closest",
          "mapbox": {
           "style": "dark"
          },
          "paper_bgcolor": "rgb(17,17,17)",
          "plot_bgcolor": "rgb(17,17,17)",
          "polar": {
           "angularaxis": {
            "gridcolor": "#506784",
            "linecolor": "#506784",
            "ticks": ""
           },
           "bgcolor": "rgb(17,17,17)",
           "radialaxis": {
            "gridcolor": "#506784",
            "linecolor": "#506784",
            "ticks": ""
           }
          },
          "scene": {
           "xaxis": {
            "backgroundcolor": "rgb(17,17,17)",
            "gridcolor": "#506784",
            "gridwidth": 2,
            "linecolor": "#506784",
            "showbackground": true,
            "ticks": "",
            "zerolinecolor": "#C8D4E3"
           },
           "yaxis": {
            "backgroundcolor": "rgb(17,17,17)",
            "gridcolor": "#506784",
            "gridwidth": 2,
            "linecolor": "#506784",
            "showbackground": true,
            "ticks": "",
            "zerolinecolor": "#C8D4E3"
           },
           "zaxis": {
            "backgroundcolor": "rgb(17,17,17)",
            "gridcolor": "#506784",
            "gridwidth": 2,
            "linecolor": "#506784",
            "showbackground": true,
            "ticks": "",
            "zerolinecolor": "#C8D4E3"
           }
          },
          "shapedefaults": {
           "line": {
            "color": "#f2f5fa"
           }
          },
          "sliderdefaults": {
           "bgcolor": "#C8D4E3",
           "bordercolor": "rgb(17,17,17)",
           "borderwidth": 1,
           "tickwidth": 0
          },
          "ternary": {
           "aaxis": {
            "gridcolor": "#506784",
            "linecolor": "#506784",
            "ticks": ""
           },
           "baxis": {
            "gridcolor": "#506784",
            "linecolor": "#506784",
            "ticks": ""
           },
           "bgcolor": "rgb(17,17,17)",
           "caxis": {
            "gridcolor": "#506784",
            "linecolor": "#506784",
            "ticks": ""
           }
          },
          "title": {
           "x": 0.05
          },
          "updatemenudefaults": {
           "bgcolor": "#506784",
           "borderwidth": 0
          },
          "xaxis": {
           "automargin": true,
           "gridcolor": "#283442",
           "linecolor": "#506784",
           "ticks": "",
           "title": {
            "standoff": 15
           },
           "zerolinecolor": "#283442",
           "zerolinewidth": 2
          },
          "yaxis": {
           "automargin": true,
           "gridcolor": "#283442",
           "linecolor": "#506784",
           "ticks": "",
           "title": {
            "standoff": 15
           },
           "zerolinecolor": "#283442",
           "zerolinewidth": 2
          }
         }
        },
        "title": {
         "text": "Wind Rose for 465"
        },
        "width": 800
       }
      },
      "text/html": [
       "<div>                            <div id=\"2e01150a-8353-4f5d-ac2c-d81dda81f6b0\" class=\"plotly-graph-div\" style=\"height:500px; width:800px;\"></div>            <script type=\"text/javascript\">                require([\"plotly\"], function(Plotly) {                    window.PLOTLYENV=window.PLOTLYENV || {};                                    if (document.getElementById(\"2e01150a-8353-4f5d-ac2c-d81dda81f6b0\")) {                    Plotly.newPlot(                        \"2e01150a-8353-4f5d-ac2c-d81dda81f6b0\",                        [{\"hovertemplate\":\"speed=0-2\\u003cbr\\u003efrequency=%{r}\\u003cbr\\u003edirection=%{theta}\\u003cextra\\u003e\\u003c\\u002fextra\\u003e\",\"legendgroup\":\"0-2\",\"marker\":{\"color\":\"#f0f921\",\"pattern\":{\"shape\":\"\"}},\"name\":\"0-2\",\"r\":[0.0,0.0,0.0,4.166666666666667,0.0,0.0,0.0,4.166666666666667,0.0,8.333333333333334,0.0,0.0,0.0,0.0,0.0,0.0],\"showlegend\":true,\"subplot\":\"polar\",\"theta\":[\"N\",\"NNE\",\"NE\",\"ENE\",\"E\",\"ESE\",\"SE\",\"SSE\",\"S\",\"SSW\",\"SW\",\"WSW\",\"W\",\"WNW\",\"NW\",\"NNW\"],\"type\":\"barpolar\"},{\"hovertemplate\":\"speed=2-4\\u003cbr\\u003efrequency=%{r}\\u003cbr\\u003edirection=%{theta}\\u003cextra\\u003e\\u003c\\u002fextra\\u003e\",\"legendgroup\":\"2-4\",\"marker\":{\"color\":\"#fdca26\",\"pattern\":{\"shape\":\"\"}},\"name\":\"2-4\",\"r\":[0.0,0.0,0.0,4.166666666666667,4.166666666666667,0.0,0.0,0.0,4.166666666666667,0.0,4.166666666666667,0.0,0.0,0.0,0.0,0.0],\"showlegend\":true,\"subplot\":\"polar\",\"theta\":[\"N\",\"NNE\",\"NE\",\"ENE\",\"E\",\"ESE\",\"SE\",\"SSE\",\"S\",\"SSW\",\"SW\",\"WSW\",\"W\",\"WNW\",\"NW\",\"NNW\"],\"type\":\"barpolar\"},{\"hovertemplate\":\"speed=4-6\\u003cbr\\u003efrequency=%{r}\\u003cbr\\u003edirection=%{theta}\\u003cextra\\u003e\\u003c\\u002fextra\\u003e\",\"legendgroup\":\"4-6\",\"marker\":{\"color\":\"#fb9f3a\",\"pattern\":{\"shape\":\"\"}},\"name\":\"4-6\",\"r\":[0.0,0.0,0.0,0.0,0.0,0.0,0.0,0.0,0.0,4.166666666666667,0.0,0.0,0.0,0.0,0.0,0.0],\"showlegend\":true,\"subplot\":\"polar\",\"theta\":[\"N\",\"NNE\",\"NE\",\"ENE\",\"E\",\"ESE\",\"SE\",\"SSE\",\"S\",\"SSW\",\"SW\",\"WSW\",\"W\",\"WNW\",\"NW\",\"NNW\"],\"type\":\"barpolar\"},{\"hovertemplate\":\"speed=6-8\\u003cbr\\u003efrequency=%{r}\\u003cbr\\u003edirection=%{theta}\\u003cextra\\u003e\\u003c\\u002fextra\\u003e\",\"legendgroup\":\"6-8\",\"marker\":{\"color\":\"#ed7953\",\"pattern\":{\"shape\":\"\"}},\"name\":\"6-8\",\"r\":[0.0,0.0,0.0,0.0,0.0,0.0,0.0,0.0,8.333333333333334,16.666666666666668,0.0,0.0,0.0,0.0,0.0,0.0],\"showlegend\":true,\"subplot\":\"polar\",\"theta\":[\"N\",\"NNE\",\"NE\",\"ENE\",\"E\",\"ESE\",\"SE\",\"SSE\",\"S\",\"SSW\",\"SW\",\"WSW\",\"W\",\"WNW\",\"NW\",\"NNW\"],\"type\":\"barpolar\"},{\"hovertemplate\":\"speed=8-10\\u003cbr\\u003efrequency=%{r}\\u003cbr\\u003edirection=%{theta}\\u003cextra\\u003e\\u003c\\u002fextra\\u003e\",\"legendgroup\":\"8-10\",\"marker\":{\"color\":\"#d8576b\",\"pattern\":{\"shape\":\"\"}},\"name\":\"8-10\",\"r\":[0.0,0.0,0.0,0.0,0.0,0.0,0.0,0.0,29.166666666666668,8.333333333333334,0.0,0.0,0.0,0.0,0.0,0.0],\"showlegend\":true,\"subplot\":\"polar\",\"theta\":[\"N\",\"NNE\",\"NE\",\"ENE\",\"E\",\"ESE\",\"SE\",\"SSE\",\"S\",\"SSW\",\"SW\",\"WSW\",\"W\",\"WNW\",\"NW\",\"NNW\"],\"type\":\"barpolar\"},{\"hovertemplate\":\"speed=10-12\\u003cbr\\u003efrequency=%{r}\\u003cbr\\u003edirection=%{theta}\\u003cextra\\u003e\\u003c\\u002fextra\\u003e\",\"legendgroup\":\"10-12\",\"marker\":{\"color\":\"#bd3786\",\"pattern\":{\"shape\":\"\"}},\"name\":\"10-12\",\"r\":[0.0,0.0,0.0,0.0,0.0,0.0,0.0,0.0,0.0,0.0,0.0,0.0,0.0,0.0,0.0,0.0],\"showlegend\":true,\"subplot\":\"polar\",\"theta\":[\"N\",\"NNE\",\"NE\",\"ENE\",\"E\",\"ESE\",\"SE\",\"SSE\",\"S\",\"SSW\",\"SW\",\"WSW\",\"W\",\"WNW\",\"NW\",\"NNW\"],\"type\":\"barpolar\"},{\"hovertemplate\":\"speed=12-14\\u003cbr\\u003efrequency=%{r}\\u003cbr\\u003edirection=%{theta}\\u003cextra\\u003e\\u003c\\u002fextra\\u003e\",\"legendgroup\":\"12-14\",\"marker\":{\"color\":\"#9c179e\",\"pattern\":{\"shape\":\"\"}},\"name\":\"12-14\",\"r\":[0.0,0.0,0.0,0.0,0.0,0.0,0.0,0.0,0.0,0.0,0.0,0.0,0.0,0.0,0.0,0.0],\"showlegend\":true,\"subplot\":\"polar\",\"theta\":[\"N\",\"NNE\",\"NE\",\"ENE\",\"E\",\"ESE\",\"SE\",\"SSE\",\"S\",\"SSW\",\"SW\",\"WSW\",\"W\",\"WNW\",\"NW\",\"NNW\"],\"type\":\"barpolar\"},{\"hovertemplate\":\"speed=\\u003e14+\\u003cbr\\u003efrequency=%{r}\\u003cbr\\u003edirection=%{theta}\\u003cextra\\u003e\\u003c\\u002fextra\\u003e\",\"legendgroup\":\"\\u003e14+\",\"marker\":{\"color\":\"#7201a8\",\"pattern\":{\"shape\":\"\"}},\"name\":\"\\u003e14+\",\"r\":[0.0,0.0,0.0,0.0,0.0,0.0,0.0,0.0,0.0,0.0,0.0,0.0,0.0,0.0,0.0,0.0],\"showlegend\":true,\"subplot\":\"polar\",\"theta\":[\"N\",\"NNE\",\"NE\",\"ENE\",\"E\",\"ESE\",\"SE\",\"SSE\",\"S\",\"SSW\",\"SW\",\"WSW\",\"W\",\"WNW\",\"NW\",\"NNW\"],\"type\":\"barpolar\"}],                        {\"template\":{\"data\":{\"barpolar\":[{\"marker\":{\"line\":{\"color\":\"rgb(17,17,17)\",\"width\":0.5},\"pattern\":{\"fillmode\":\"overlay\",\"size\":10,\"solidity\":0.2}},\"type\":\"barpolar\"}],\"bar\":[{\"error_x\":{\"color\":\"#f2f5fa\"},\"error_y\":{\"color\":\"#f2f5fa\"},\"marker\":{\"line\":{\"color\":\"rgb(17,17,17)\",\"width\":0.5},\"pattern\":{\"fillmode\":\"overlay\",\"size\":10,\"solidity\":0.2}},\"type\":\"bar\"}],\"carpet\":[{\"aaxis\":{\"endlinecolor\":\"#A2B1C6\",\"gridcolor\":\"#506784\",\"linecolor\":\"#506784\",\"minorgridcolor\":\"#506784\",\"startlinecolor\":\"#A2B1C6\"},\"baxis\":{\"endlinecolor\":\"#A2B1C6\",\"gridcolor\":\"#506784\",\"linecolor\":\"#506784\",\"minorgridcolor\":\"#506784\",\"startlinecolor\":\"#A2B1C6\"},\"type\":\"carpet\"}],\"choropleth\":[{\"colorbar\":{\"outlinewidth\":0,\"ticks\":\"\"},\"type\":\"choropleth\"}],\"contourcarpet\":[{\"colorbar\":{\"outlinewidth\":0,\"ticks\":\"\"},\"type\":\"contourcarpet\"}],\"contour\":[{\"colorbar\":{\"outlinewidth\":0,\"ticks\":\"\"},\"colorscale\":[[0.0,\"#0d0887\"],[0.1111111111111111,\"#46039f\"],[0.2222222222222222,\"#7201a8\"],[0.3333333333333333,\"#9c179e\"],[0.4444444444444444,\"#bd3786\"],[0.5555555555555556,\"#d8576b\"],[0.6666666666666666,\"#ed7953\"],[0.7777777777777778,\"#fb9f3a\"],[0.8888888888888888,\"#fdca26\"],[1.0,\"#f0f921\"]],\"type\":\"contour\"}],\"heatmapgl\":[{\"colorbar\":{\"outlinewidth\":0,\"ticks\":\"\"},\"colorscale\":[[0.0,\"#0d0887\"],[0.1111111111111111,\"#46039f\"],[0.2222222222222222,\"#7201a8\"],[0.3333333333333333,\"#9c179e\"],[0.4444444444444444,\"#bd3786\"],[0.5555555555555556,\"#d8576b\"],[0.6666666666666666,\"#ed7953\"],[0.7777777777777778,\"#fb9f3a\"],[0.8888888888888888,\"#fdca26\"],[1.0,\"#f0f921\"]],\"type\":\"heatmapgl\"}],\"heatmap\":[{\"colorbar\":{\"outlinewidth\":0,\"ticks\":\"\"},\"colorscale\":[[0.0,\"#0d0887\"],[0.1111111111111111,\"#46039f\"],[0.2222222222222222,\"#7201a8\"],[0.3333333333333333,\"#9c179e\"],[0.4444444444444444,\"#bd3786\"],[0.5555555555555556,\"#d8576b\"],[0.6666666666666666,\"#ed7953\"],[0.7777777777777778,\"#fb9f3a\"],[0.8888888888888888,\"#fdca26\"],[1.0,\"#f0f921\"]],\"type\":\"heatmap\"}],\"histogram2dcontour\":[{\"colorbar\":{\"outlinewidth\":0,\"ticks\":\"\"},\"colorscale\":[[0.0,\"#0d0887\"],[0.1111111111111111,\"#46039f\"],[0.2222222222222222,\"#7201a8\"],[0.3333333333333333,\"#9c179e\"],[0.4444444444444444,\"#bd3786\"],[0.5555555555555556,\"#d8576b\"],[0.6666666666666666,\"#ed7953\"],[0.7777777777777778,\"#fb9f3a\"],[0.8888888888888888,\"#fdca26\"],[1.0,\"#f0f921\"]],\"type\":\"histogram2dcontour\"}],\"histogram2d\":[{\"colorbar\":{\"outlinewidth\":0,\"ticks\":\"\"},\"colorscale\":[[0.0,\"#0d0887\"],[0.1111111111111111,\"#46039f\"],[0.2222222222222222,\"#7201a8\"],[0.3333333333333333,\"#9c179e\"],[0.4444444444444444,\"#bd3786\"],[0.5555555555555556,\"#d8576b\"],[0.6666666666666666,\"#ed7953\"],[0.7777777777777778,\"#fb9f3a\"],[0.8888888888888888,\"#fdca26\"],[1.0,\"#f0f921\"]],\"type\":\"histogram2d\"}],\"histogram\":[{\"marker\":{\"pattern\":{\"fillmode\":\"overlay\",\"size\":10,\"solidity\":0.2}},\"type\":\"histogram\"}],\"mesh3d\":[{\"colorbar\":{\"outlinewidth\":0,\"ticks\":\"\"},\"type\":\"mesh3d\"}],\"parcoords\":[{\"line\":{\"colorbar\":{\"outlinewidth\":0,\"ticks\":\"\"}},\"type\":\"parcoords\"}],\"pie\":[{\"automargin\":true,\"type\":\"pie\"}],\"scatter3d\":[{\"line\":{\"colorbar\":{\"outlinewidth\":0,\"ticks\":\"\"}},\"marker\":{\"colorbar\":{\"outlinewidth\":0,\"ticks\":\"\"}},\"type\":\"scatter3d\"}],\"scattercarpet\":[{\"marker\":{\"colorbar\":{\"outlinewidth\":0,\"ticks\":\"\"}},\"type\":\"scattercarpet\"}],\"scattergeo\":[{\"marker\":{\"colorbar\":{\"outlinewidth\":0,\"ticks\":\"\"}},\"type\":\"scattergeo\"}],\"scattergl\":[{\"marker\":{\"line\":{\"color\":\"#283442\"}},\"type\":\"scattergl\"}],\"scattermapbox\":[{\"marker\":{\"colorbar\":{\"outlinewidth\":0,\"ticks\":\"\"}},\"type\":\"scattermapbox\"}],\"scatterpolargl\":[{\"marker\":{\"colorbar\":{\"outlinewidth\":0,\"ticks\":\"\"}},\"type\":\"scatterpolargl\"}],\"scatterpolar\":[{\"marker\":{\"colorbar\":{\"outlinewidth\":0,\"ticks\":\"\"}},\"type\":\"scatterpolar\"}],\"scatter\":[{\"marker\":{\"line\":{\"color\":\"#283442\"}},\"type\":\"scatter\"}],\"scatterternary\":[{\"marker\":{\"colorbar\":{\"outlinewidth\":0,\"ticks\":\"\"}},\"type\":\"scatterternary\"}],\"surface\":[{\"colorbar\":{\"outlinewidth\":0,\"ticks\":\"\"},\"colorscale\":[[0.0,\"#0d0887\"],[0.1111111111111111,\"#46039f\"],[0.2222222222222222,\"#7201a8\"],[0.3333333333333333,\"#9c179e\"],[0.4444444444444444,\"#bd3786\"],[0.5555555555555556,\"#d8576b\"],[0.6666666666666666,\"#ed7953\"],[0.7777777777777778,\"#fb9f3a\"],[0.8888888888888888,\"#fdca26\"],[1.0,\"#f0f921\"]],\"type\":\"surface\"}],\"table\":[{\"cells\":{\"fill\":{\"color\":\"#506784\"},\"line\":{\"color\":\"rgb(17,17,17)\"}},\"header\":{\"fill\":{\"color\":\"#2a3f5f\"},\"line\":{\"color\":\"rgb(17,17,17)\"}},\"type\":\"table\"}]},\"layout\":{\"annotationdefaults\":{\"arrowcolor\":\"#f2f5fa\",\"arrowhead\":0,\"arrowwidth\":1},\"autotypenumbers\":\"strict\",\"coloraxis\":{\"colorbar\":{\"outlinewidth\":0,\"ticks\":\"\"}},\"colorscale\":{\"diverging\":[[0,\"#8e0152\"],[0.1,\"#c51b7d\"],[0.2,\"#de77ae\"],[0.3,\"#f1b6da\"],[0.4,\"#fde0ef\"],[0.5,\"#f7f7f7\"],[0.6,\"#e6f5d0\"],[0.7,\"#b8e186\"],[0.8,\"#7fbc41\"],[0.9,\"#4d9221\"],[1,\"#276419\"]],\"sequential\":[[0.0,\"#0d0887\"],[0.1111111111111111,\"#46039f\"],[0.2222222222222222,\"#7201a8\"],[0.3333333333333333,\"#9c179e\"],[0.4444444444444444,\"#bd3786\"],[0.5555555555555556,\"#d8576b\"],[0.6666666666666666,\"#ed7953\"],[0.7777777777777778,\"#fb9f3a\"],[0.8888888888888888,\"#fdca26\"],[1.0,\"#f0f921\"]],\"sequentialminus\":[[0.0,\"#0d0887\"],[0.1111111111111111,\"#46039f\"],[0.2222222222222222,\"#7201a8\"],[0.3333333333333333,\"#9c179e\"],[0.4444444444444444,\"#bd3786\"],[0.5555555555555556,\"#d8576b\"],[0.6666666666666666,\"#ed7953\"],[0.7777777777777778,\"#fb9f3a\"],[0.8888888888888888,\"#fdca26\"],[1.0,\"#f0f921\"]]},\"colorway\":[\"#636efa\",\"#EF553B\",\"#00cc96\",\"#ab63fa\",\"#FFA15A\",\"#19d3f3\",\"#FF6692\",\"#B6E880\",\"#FF97FF\",\"#FECB52\"],\"font\":{\"color\":\"#f2f5fa\"},\"geo\":{\"bgcolor\":\"rgb(17,17,17)\",\"lakecolor\":\"rgb(17,17,17)\",\"landcolor\":\"rgb(17,17,17)\",\"showlakes\":true,\"showland\":true,\"subunitcolor\":\"#506784\"},\"hoverlabel\":{\"align\":\"left\"},\"hovermode\":\"closest\",\"mapbox\":{\"style\":\"dark\"},\"paper_bgcolor\":\"rgb(17,17,17)\",\"plot_bgcolor\":\"rgb(17,17,17)\",\"polar\":{\"angularaxis\":{\"gridcolor\":\"#506784\",\"linecolor\":\"#506784\",\"ticks\":\"\"},\"bgcolor\":\"rgb(17,17,17)\",\"radialaxis\":{\"gridcolor\":\"#506784\",\"linecolor\":\"#506784\",\"ticks\":\"\"}},\"scene\":{\"xaxis\":{\"backgroundcolor\":\"rgb(17,17,17)\",\"gridcolor\":\"#506784\",\"gridwidth\":2,\"linecolor\":\"#506784\",\"showbackground\":true,\"ticks\":\"\",\"zerolinecolor\":\"#C8D4E3\"},\"yaxis\":{\"backgroundcolor\":\"rgb(17,17,17)\",\"gridcolor\":\"#506784\",\"gridwidth\":2,\"linecolor\":\"#506784\",\"showbackground\":true,\"ticks\":\"\",\"zerolinecolor\":\"#C8D4E3\"},\"zaxis\":{\"backgroundcolor\":\"rgb(17,17,17)\",\"gridcolor\":\"#506784\",\"gridwidth\":2,\"linecolor\":\"#506784\",\"showbackground\":true,\"ticks\":\"\",\"zerolinecolor\":\"#C8D4E3\"}},\"shapedefaults\":{\"line\":{\"color\":\"#f2f5fa\"}},\"sliderdefaults\":{\"bgcolor\":\"#C8D4E3\",\"bordercolor\":\"rgb(17,17,17)\",\"borderwidth\":1,\"tickwidth\":0},\"ternary\":{\"aaxis\":{\"gridcolor\":\"#506784\",\"linecolor\":\"#506784\",\"ticks\":\"\"},\"baxis\":{\"gridcolor\":\"#506784\",\"linecolor\":\"#506784\",\"ticks\":\"\"},\"bgcolor\":\"rgb(17,17,17)\",\"caxis\":{\"gridcolor\":\"#506784\",\"linecolor\":\"#506784\",\"ticks\":\"\"}},\"title\":{\"x\":0.05},\"updatemenudefaults\":{\"bgcolor\":\"#506784\",\"borderwidth\":0},\"xaxis\":{\"automargin\":true,\"gridcolor\":\"#283442\",\"linecolor\":\"#506784\",\"ticks\":\"\",\"title\":{\"standoff\":15},\"zerolinecolor\":\"#283442\",\"zerolinewidth\":2},\"yaxis\":{\"automargin\":true,\"gridcolor\":\"#283442\",\"linecolor\":\"#506784\",\"ticks\":\"\",\"title\":{\"standoff\":15},\"zerolinecolor\":\"#283442\",\"zerolinewidth\":2}}},\"polar\":{\"domain\":{\"x\":[0.0,1.0],\"y\":[0.0,1.0]},\"angularaxis\":{\"direction\":\"clockwise\",\"rotation\":90},\"radialaxis\":{\"tickfont\":{\"size\":14},\"ticksuffix\":\"%\",\"showline\":false,\"showticklabels\":true,\"showgrid\":true,\"angle\":45,\"range\":[0,50]}},\"legend\":{\"title\":{\"text\":\"speed\"},\"tracegroupgap\":0},\"margin\":{\"t\":60},\"barnorm\":\"percent\",\"barmode\":\"relative\",\"height\":500,\"width\":800,\"font\":{\"size\":12},\"title\":{\"text\":\"Wind Rose for 465\"}},                        {\"responsive\": true}                    ).then(function(){\n",
       "                            \n",
       "var gd = document.getElementById('2e01150a-8353-4f5d-ac2c-d81dda81f6b0');\n",
       "var x = new MutationObserver(function (mutations, observer) {{\n",
       "        var display = window.getComputedStyle(gd).display;\n",
       "        if (!display || display === 'none') {{\n",
       "            console.log([gd, 'removed!']);\n",
       "            Plotly.purge(gd);\n",
       "            observer.disconnect();\n",
       "        }}\n",
       "}});\n",
       "\n",
       "// Listen for the removal of the full notebook cells\n",
       "var notebookContainer = gd.closest('#notebook-container');\n",
       "if (notebookContainer) {{\n",
       "    x.observe(notebookContainer, {childList: true});\n",
       "}}\n",
       "\n",
       "// Listen for the clearing of the current output cell\n",
       "var outputEl = gd.closest('.output');\n",
       "if (outputEl) {{\n",
       "    x.observe(outputEl, {childList: true});\n",
       "}}\n",
       "\n",
       "                        })                };                });            </script>        </div>"
      ]
     },
     "metadata": {},
     "output_type": "display_data"
    }
   ],
   "source": [
    "# set up for wind rose\n",
    "wind_vars = ['Wind_Speed', 'Wind_Direction']\n",
    "query_wind_spd = f'variable == \"{wind_speed_var}\"'\n",
    "wind_df = windy_tidy_df.query(query_wind_spd).rename(columns={'value': 'Wind_Speed'})\n",
    "query_wind_dir = f'variable == \"{wind_dir_var}\"'\n",
    "wind_df['Wind_Direction'] = windy_tidy_df.query(query_wind_dir)['value']\n",
    "# filter out wind speeds greater than 40 m/s\n",
    "wind_df = wind_df[wind_df['Wind_Speed'] < 40]\n",
    "# creae wind rose\n",
    "wind_rose_df = create_windrose_df(wind_df, wind_vars[1], wind_vars[0])\n",
    "# create a wind rose plot using bar_polar\n",
    "fig = px.bar_polar(wind_rose_df, \n",
    "                   r=\"frequency\", \n",
    "                   theta=\"direction\", \n",
    "                   color=\"speed\", template=\"plotly_dark\",\n",
    "                   color_discrete_sequence= px.colors.sequential.Plasma_r,\n",
    "                   width= 800,\n",
    "                   height=500,\n",
    "                   barnorm='percent',\n",
    "                  )\n",
    "# update the radial axis to show percentages\n",
    "fig.update_layout(\n",
    "    title=f\"Wind Rose for {site_id}\",\n",
    "    font_size=12,\n",
    "    polar_radialaxis=dict(\n",
    "         ticksuffix='%',\n",
    "         tickfont_size=14,\n",
    "         showline=False,\n",
    "         showticklabels=True,\n",
    "         showgrid=True,\n",
    "         angle=45,\n",
    "         range=[0, 50]\n",
    "      ),\n",
    ")"
   ]
  },
  {
   "cell_type": "code",
   "execution_count": 30,
   "metadata": {},
   "outputs": [
    {
     "data": {
      "text/plain": [
       "Date_Time\n",
       "1986-11-01    False\n",
       "1986-11-02    False\n",
       "1986-11-03    False\n",
       "1986-11-04    False\n",
       "1986-11-05    False\n",
       "              ...  \n",
       "2024-04-05     True\n",
       "2024-04-06    False\n",
       "2024-04-07    False\n",
       "2024-04-08    False\n",
       "2024-04-09    False\n",
       "Freq: D, Name: value, Length: 13675, dtype: bool"
      ]
     },
     "execution_count": 30,
     "metadata": {},
     "output_type": "execute_result"
    }
   ],
   "source": [
    "df.query(f'variable == \"{wind_speed_var}\"')['value'].resample('1D').mean() > 2"
   ]
  },
  {
   "cell_type": "code",
   "execution_count": 27,
   "metadata": {},
   "outputs": [
    {
     "data": {
      "text/plain": [
       "Series([], Name: value, dtype: float64)"
      ]
     },
     "execution_count": 27,
     "metadata": {},
     "output_type": "execute_result"
    }
   ],
   "source": [
    "# get the # of days with wind speed greater than 5 m/s\n",
    "mean_wind_speed = df.query(f'variable == \"{wind_speed_var}\"')['value'].resample('1D').mean()\n",
    "days = mean_wind_speed[mean_wind_speed > 4].index\n",
    "# filter out days not in months 12,1,2,3,4\n",
    "days = days[(days.month >= 12) | (days.month < 4)]\n",
    "mean_wind_speed = mean_wind_speed.loc[days]\n",
    "mean_wind_speed"
   ]
  },
  {
   "cell_type": "code",
   "execution_count": 25,
   "metadata": {},
   "outputs": [],
   "source": [
    "# add a water year column to the dataframe\n",
    "mean_wind_speed.name = 'daily_mean_wind_speed'\n",
    "mean_wind_speed = mean_wind_speed.to_frame()\n",
    "# convert index to datetime\n",
    "mean_wind_speed.index = pd.to_datetime(mean_wind_speed.index)\n",
    "mean_wind_speed['water_year'] = mean_wind_speed.index.year.where(mean_wind_speed.index.month <= 10, mean_wind_speed.index.year + 1)"
   ]
  },
  {
   "cell_type": "code",
   "execution_count": 26,
   "metadata": {},
   "outputs": [
    {
     "data": {
      "text/plain": [
       "<Axes: xlabel='water_year'>"
      ]
     },
     "execution_count": 26,
     "metadata": {},
     "output_type": "execute_result"
    },
    {
     "data": {
      "image/png": "[encoded data removed]",
      "text/plain": [
       "<Figure size 640x480 with 1 Axes>"
      ]
     },
     "metadata": {},
     "output_type": "display_data"
    }
   ],
   "source": [
    "mean_wind_speed.groupby('water_year').count().plot()"
   ]
  },
  {
   "cell_type": "code",
   "execution_count": 23,
   "metadata": {},
   "outputs": [
    {
     "ename": "ValueError",
     "evalue": "zero-size array to reduction operation fmin which has no identity",
     "output_type": "error",
     "traceback": [
      "\u001b[0;31m---------------------------------------------------------------------------\u001b[0m",
      "\u001b[0;31mValueError\u001b[0m                                Traceback (most recent call last)",
      "Cell \u001b[0;32mIn[23], line 1\u001b[0m\n\u001b[0;32m----> 1\u001b[0m \u001b[43mdf\u001b[49m\u001b[38;5;241;43m.\u001b[39;49m\u001b[43mquery\u001b[49m\u001b[43m(\u001b[49m\u001b[38;5;124;43m'\u001b[39;49m\u001b[38;5;124;43mvariable == \u001b[39;49m\u001b[38;5;124;43m\"\u001b[39;49m\u001b[38;5;124;43mwind_speed_set_1\u001b[39;49m\u001b[38;5;124;43m\"\u001b[39;49m\u001b[38;5;124;43m'\u001b[39;49m\u001b[43m)\u001b[49m\u001b[43m[\u001b[49m\u001b[38;5;124;43m'\u001b[39;49m\u001b[38;5;124;43mvalue\u001b[39;49m\u001b[38;5;124;43m'\u001b[39;49m\u001b[43m]\u001b[49m\u001b[38;5;241;43m.\u001b[39;49m\u001b[43mresample\u001b[49m\u001b[43m(\u001b[49m\u001b[38;5;124;43m'\u001b[39;49m\u001b[38;5;124;43m1D\u001b[39;49m\u001b[38;5;124;43m'\u001b[39;49m\u001b[43m)\u001b[49m\u001b[38;5;241;43m.\u001b[39;49m\u001b[43mmean\u001b[49m\u001b[43m(\u001b[49m\u001b[43m)\u001b[49m\u001b[38;5;241;43m.\u001b[39;49m\u001b[43mplot\u001b[49m\u001b[43m(\u001b[49m\u001b[43m)\u001b[49m\n",
      "File \u001b[0;32m~/miniforge3/envs/sublime_synoptics/lib/python3.11/site-packages/pandas/plotting/_core.py:1031\u001b[0m, in \u001b[0;36mPlotAccessor.__call__\u001b[0;34m(self, *args, **kwargs)\u001b[0m\n\u001b[1;32m   1028\u001b[0m             label_name \u001b[38;5;241m=\u001b[39m label_kw \u001b[38;5;129;01mor\u001b[39;00m data\u001b[38;5;241m.\u001b[39mcolumns\n\u001b[1;32m   1029\u001b[0m             data\u001b[38;5;241m.\u001b[39mcolumns \u001b[38;5;241m=\u001b[39m label_name\n\u001b[0;32m-> 1031\u001b[0m \u001b[38;5;28;01mreturn\u001b[39;00m \u001b[43mplot_backend\u001b[49m\u001b[38;5;241;43m.\u001b[39;49m\u001b[43mplot\u001b[49m\u001b[43m(\u001b[49m\u001b[43mdata\u001b[49m\u001b[43m,\u001b[49m\u001b[43m \u001b[49m\u001b[43mkind\u001b[49m\u001b[38;5;241;43m=\u001b[39;49m\u001b[43mkind\u001b[49m\u001b[43m,\u001b[49m\u001b[43m \u001b[49m\u001b[38;5;241;43m*\u001b[39;49m\u001b[38;5;241;43m*\u001b[39;49m\u001b[43mkwargs\u001b[49m\u001b[43m)\u001b[49m\n",
      "File \u001b[0;32m~/miniforge3/envs/sublime_synoptics/lib/python3.11/site-packages/pandas/plotting/_matplotlib/__init__.py:71\u001b[0m, in \u001b[0;36mplot\u001b[0;34m(data, kind, **kwargs)\u001b[0m\n\u001b[1;32m     69\u001b[0m         kwargs[\u001b[38;5;124m\"\u001b[39m\u001b[38;5;124max\u001b[39m\u001b[38;5;124m\"\u001b[39m] \u001b[38;5;241m=\u001b[39m \u001b[38;5;28mgetattr\u001b[39m(ax, \u001b[38;5;124m\"\u001b[39m\u001b[38;5;124mleft_ax\u001b[39m\u001b[38;5;124m\"\u001b[39m, ax)\n\u001b[1;32m     70\u001b[0m plot_obj \u001b[38;5;241m=\u001b[39m PLOT_CLASSES[kind](data, \u001b[38;5;241m*\u001b[39m\u001b[38;5;241m*\u001b[39mkwargs)\n\u001b[0;32m---> 71\u001b[0m \u001b[43mplot_obj\u001b[49m\u001b[38;5;241;43m.\u001b[39;49m\u001b[43mgenerate\u001b[49m\u001b[43m(\u001b[49m\u001b[43m)\u001b[49m\n\u001b[1;32m     72\u001b[0m plot_obj\u001b[38;5;241m.\u001b[39mdraw()\n\u001b[1;32m     73\u001b[0m \u001b[38;5;28;01mreturn\u001b[39;00m plot_obj\u001b[38;5;241m.\u001b[39mresult\n",
      "File \u001b[0;32m~/miniforge3/envs/sublime_synoptics/lib/python3.11/site-packages/pandas/plotting/_matplotlib/core.py:453\u001b[0m, in \u001b[0;36mMPLPlot.generate\u001b[0;34m(self)\u001b[0m\n\u001b[1;32m    451\u001b[0m \u001b[38;5;28mself\u001b[39m\u001b[38;5;241m.\u001b[39m_compute_plot_data()\n\u001b[1;32m    452\u001b[0m \u001b[38;5;28mself\u001b[39m\u001b[38;5;241m.\u001b[39m_setup_subplots()\n\u001b[0;32m--> 453\u001b[0m \u001b[38;5;28;43mself\u001b[39;49m\u001b[38;5;241;43m.\u001b[39;49m\u001b[43m_make_plot\u001b[49m\u001b[43m(\u001b[49m\u001b[43m)\u001b[49m\n\u001b[1;32m    454\u001b[0m \u001b[38;5;28mself\u001b[39m\u001b[38;5;241m.\u001b[39m_add_table()\n\u001b[1;32m    455\u001b[0m \u001b[38;5;28mself\u001b[39m\u001b[38;5;241m.\u001b[39m_make_legend()\n",
      "File \u001b[0;32m~/miniforge3/envs/sublime_synoptics/lib/python3.11/site-packages/pandas/plotting/_matplotlib/core.py:1408\u001b[0m, in \u001b[0;36mLinePlot._make_plot\u001b[0;34m(self)\u001b[0m\n\u001b[1;32m   1404\u001b[0m \u001b[38;5;28;01mif\u001b[39;00m \u001b[38;5;28mself\u001b[39m\u001b[38;5;241m.\u001b[39m_is_ts_plot():\n\u001b[1;32m   1405\u001b[0m     \u001b[38;5;66;03m# reset of xlim should be used for ts data\u001b[39;00m\n\u001b[1;32m   1406\u001b[0m     \u001b[38;5;66;03m# TODO: GH28021, should find a way to change view limit on xaxis\u001b[39;00m\n\u001b[1;32m   1407\u001b[0m     lines \u001b[38;5;241m=\u001b[39m get_all_lines(ax)\n\u001b[0;32m-> 1408\u001b[0m     left, right \u001b[38;5;241m=\u001b[39m \u001b[43mget_xlim\u001b[49m\u001b[43m(\u001b[49m\u001b[43mlines\u001b[49m\u001b[43m)\u001b[49m\n\u001b[1;32m   1409\u001b[0m     ax\u001b[38;5;241m.\u001b[39mset_xlim(left, right)\n",
      "File \u001b[0;32m~/miniforge3/envs/sublime_synoptics/lib/python3.11/site-packages/pandas/plotting/_matplotlib/tools.py:482\u001b[0m, in \u001b[0;36mget_xlim\u001b[0;34m(lines)\u001b[0m\n\u001b[1;32m    480\u001b[0m \u001b[38;5;28;01mfor\u001b[39;00m line \u001b[38;5;129;01min\u001b[39;00m lines:\n\u001b[1;32m    481\u001b[0m     x \u001b[38;5;241m=\u001b[39m line\u001b[38;5;241m.\u001b[39mget_xdata(orig\u001b[38;5;241m=\u001b[39m\u001b[38;5;28;01mFalse\u001b[39;00m)\n\u001b[0;32m--> 482\u001b[0m     left \u001b[38;5;241m=\u001b[39m \u001b[38;5;28mmin\u001b[39m(\u001b[43mnp\u001b[49m\u001b[38;5;241;43m.\u001b[39;49m\u001b[43mnanmin\u001b[49m\u001b[43m(\u001b[49m\u001b[43mx\u001b[49m\u001b[43m)\u001b[49m, left)\n\u001b[1;32m    483\u001b[0m     right \u001b[38;5;241m=\u001b[39m \u001b[38;5;28mmax\u001b[39m(np\u001b[38;5;241m.\u001b[39mnanmax(x), right)\n\u001b[1;32m    484\u001b[0m \u001b[38;5;28;01mreturn\u001b[39;00m left, right\n",
      "File \u001b[0;32m~/miniforge3/envs/sublime_synoptics/lib/python3.11/site-packages/numpy/lib/nanfunctions.py:343\u001b[0m, in \u001b[0;36mnanmin\u001b[0;34m(a, axis, out, keepdims, initial, where)\u001b[0m\n\u001b[1;32m    338\u001b[0m     kwargs[\u001b[38;5;124m'\u001b[39m\u001b[38;5;124mwhere\u001b[39m\u001b[38;5;124m'\u001b[39m] \u001b[38;5;241m=\u001b[39m where\n\u001b[1;32m    340\u001b[0m \u001b[38;5;28;01mif\u001b[39;00m \u001b[38;5;28mtype\u001b[39m(a) \u001b[38;5;129;01mis\u001b[39;00m np\u001b[38;5;241m.\u001b[39mndarray \u001b[38;5;129;01mand\u001b[39;00m a\u001b[38;5;241m.\u001b[39mdtype \u001b[38;5;241m!=\u001b[39m np\u001b[38;5;241m.\u001b[39mobject_:\n\u001b[1;32m    341\u001b[0m     \u001b[38;5;66;03m# Fast, but not safe for subclasses of ndarray, or object arrays,\u001b[39;00m\n\u001b[1;32m    342\u001b[0m     \u001b[38;5;66;03m# which do not implement isnan (gh-9009), or fmin correctly (gh-8975)\u001b[39;00m\n\u001b[0;32m--> 343\u001b[0m     res \u001b[38;5;241m=\u001b[39m \u001b[43mnp\u001b[49m\u001b[38;5;241;43m.\u001b[39;49m\u001b[43mfmin\u001b[49m\u001b[38;5;241;43m.\u001b[39;49m\u001b[43mreduce\u001b[49m\u001b[43m(\u001b[49m\u001b[43ma\u001b[49m\u001b[43m,\u001b[49m\u001b[43m \u001b[49m\u001b[43maxis\u001b[49m\u001b[38;5;241;43m=\u001b[39;49m\u001b[43maxis\u001b[49m\u001b[43m,\u001b[49m\u001b[43m \u001b[49m\u001b[43mout\u001b[49m\u001b[38;5;241;43m=\u001b[39;49m\u001b[43mout\u001b[49m\u001b[43m,\u001b[49m\u001b[43m \u001b[49m\u001b[38;5;241;43m*\u001b[39;49m\u001b[38;5;241;43m*\u001b[39;49m\u001b[43mkwargs\u001b[49m\u001b[43m)\u001b[49m\n\u001b[1;32m    344\u001b[0m     \u001b[38;5;28;01mif\u001b[39;00m np\u001b[38;5;241m.\u001b[39misnan(res)\u001b[38;5;241m.\u001b[39many():\n\u001b[1;32m    345\u001b[0m         warnings\u001b[38;5;241m.\u001b[39mwarn(\u001b[38;5;124m\"\u001b[39m\u001b[38;5;124mAll-NaN slice encountered\u001b[39m\u001b[38;5;124m\"\u001b[39m, \u001b[38;5;167;01mRuntimeWarning\u001b[39;00m,\n\u001b[1;32m    346\u001b[0m                       stacklevel\u001b[38;5;241m=\u001b[39m\u001b[38;5;241m2\u001b[39m)\n",
      "\u001b[0;31mValueError\u001b[0m: zero-size array to reduction operation fmin which has no identity"
     ]
    },
    {
     "data": {
      "image/png": "[encoded data removed]",
      "text/plain": [
       "<Figure size 640x480 with 1 Axes>"
      ]
     },
     "metadata": {},
     "output_type": "display_data"
    }
   ],
   "source": [
    "df.query('variable == \"wind_speed_set_1\"')['value'].resample('1D').mean().plot()"
   ]
  }
 ],
 "metadata": {
  "kernelspec": {
   "display_name": "metloom",
   "language": "python",
   "name": "python3"
  },
  "language_info": {
   "codemirror_mode": {
    "name": "ipython",
    "version": 3
   },
   "file_extension": ".py",
   "mimetype": "text/x-python",
   "name": "python",
   "nbconvert_exporter": "python",
   "pygments_lexer": "ipython3",
   "version": "3.11.6"
  }
 },
 "nbformat": 4,
 "nbformat_minor": 2
}
