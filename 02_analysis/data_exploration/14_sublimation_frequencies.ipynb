{
 "cells": [
  {
   "cell_type": "code",
   "execution_count": null,
   "metadata": {},
   "outputs": [],
   "source": []
  },
  {
   "cell_type": "markdown",
   "metadata": {},
   "source": [
    "### Imports\n"
   ]
  },
  {
   "cell_type": "code",
   "execution_count": 2,
   "metadata": {},
   "outputs": [
    {
     "name": "stdout",
     "output_type": "stream",
     "text": [
      "nctoolkit is using Climate Data Operators version 2.3.0\n"
     ]
    },
    {
     "data": {
      "text/html": [
       "        <script type=\"text/javascript\">\n",
       "        window.PlotlyConfig = {MathJaxConfig: 'local'};\n",
       "        if (window.MathJax && window.MathJax.Hub && window.MathJax.Hub.Config) {window.MathJax.Hub.Config({SVG: {font: \"STIX-Web\"}});}\n",
       "        if (typeof require !== 'undefined') {\n",
       "        require.undef(\"plotly\");\n",
       "        requirejs.config({\n",
       "            paths: {\n",
       "                'plotly': ['https://cdn.plot.ly/plotly-2.27.0.min']\n",
       "            }\n",
       "        });\n",
       "        require(['plotly'], function(Plotly) {\n",
       "            window._Plotly = Plotly;\n",
       "        });\n",
       "        }\n",
       "        </script>\n",
       "        "
      ]
     },
     "metadata": {},
     "output_type": "display_data"
    },
    {
     "data": {
      "text/html": [
       "        <script type=\"text/javascript\">\n",
       "        window.PlotlyConfig = {MathJaxConfig: 'local'};\n",
       "        if (window.MathJax && window.MathJax.Hub && window.MathJax.Hub.Config) {window.MathJax.Hub.Config({SVG: {font: \"STIX-Web\"}});}\n",
       "        if (typeof require !== 'undefined') {\n",
       "        require.undef(\"plotly\");\n",
       "        requirejs.config({\n",
       "            paths: {\n",
       "                'plotly': ['https://cdn.plot.ly/plotly-2.27.0.min']\n",
       "            }\n",
       "        });\n",
       "        require(['plotly'], function(Plotly) {\n",
       "            window._Plotly = Plotly;\n",
       "        });\n",
       "        }\n",
       "        </script>\n",
       "        "
      ]
     },
     "metadata": {},
     "output_type": "display_data"
    }
   ],
   "source": [
    "# general\n",
    "import os\n",
    "import glob\n",
    "import datetime as dt\n",
    "import json\n",
    "import time\n",
    "# data \n",
    "import xarray as xr \n",
    "from sublimpy import utils, variables, tidy, turbulence\n",
    "import numpy as np\n",
    "import pandas as pd\n",
    "from act import discovery, plotting\n",
    "# plotting\n",
    "import matplotlib.pyplot as plt\n",
    "import seaborn as sns\n",
    "from metpy.cbook import get_test_data\n",
    "from metpy.plots import add_metpy_logo, SkewT\n",
    "import plotly.express as px \n",
    "import plotly.graph_objects as go\n",
    "from plotly.subplots import make_subplots\n",
    "import cufflinks as cf\n",
    "from plotly.offline import download_plotlyjs, init_notebook_mode, plot, iplot\n",
    "import plotly.io as pio\n",
    "# helper tools\n",
    "from scripts.get_sail_data import get_sail_data\n",
    "from scripts.helper_funcs import create_windrose_df, mean_sounding, simple_sounding\n",
    "import scripts.helper_funcs as hf\n",
    "from metpy import calc, units\n",
    "# make plotly work \n",
    "init_notebook_mode(connected=True)\n",
    "cf.go_offline()"
   ]
  },
  {
   "cell_type": "markdown",
   "metadata": {},
   "source": [
    "# Grabbing our data of interest\n",
    "\n",
    "### First all the met data"
   ]
  },
  {
   "cell_type": "code",
   "execution_count": 3,
   "metadata": {},
   "outputs": [],
   "source": [
    "# Kettle Ponds SOS Data\n",
    "kp_sos_23 = xr.open_dataset('../../01_data/processed_data/sos_ds_1H_storage.nc')\n",
    "# kp_sos_max_23 = xr.open_dataset('../../01_data/processed_data/sos_ds_1H_max_wspd_storage.nc')\n",
    "kp_sos_23 = kp_sos_23.sel(time=slice('2022-12-01', '2023-03-31'))\n",
    "sos_1H_h2o_flux_ds = kp_sos_23[[variable for variable in hf.TURBULENCE_VARIABLES if 'w_h2o' in variable]+[variable for variable in hf.COUNT_VARIABLES]+hf.SNOW_FLUX+hf.WIND_VARIABLES+hf.TEMPERATURE_VARIABLES]\n",
    "\n",
    "# adjust wdir\n",
    "def adjust_wdir(ds):\n",
    "    new_df = ds.to_dataframe()\n",
    "    new_ds = hf.adjust_wdir(new_df).to_xarray()\n",
    "    ## Copy attributes from the original dataset\n",
    "    new_ds.attrs = ds.attrs\n",
    "    for var in new_ds:\n",
    "        new_ds[var].attrs = ds[var].attrs\n",
    "    return new_ds\n",
    "sos_1H_h2o_flux_ds = adjust_wdir(sos_1H_h2o_flux_ds)\n",
    "\n",
    "# Kettle Ponds SAIL Data 2022 + 2023\n",
    "kp_sail_22 = xr.open_dataset('../../01_data/processed_data/sail_processed/sail_ds_1H_met_kp_2022.nc')\n",
    "kp_sail_23 = xr.open_dataset('../../01_data/processed_data/sail_processed/sail_ds_1H_met_kp_2023.nc')\n",
    "\n",
    "# Kettle Ponds SPLASH Data 2022\n",
    "kp_splash_22 = xr.open_dataset('../../01_data/processed_data/splash/w22_splash_kp_qc_1H.nc')\n",
    "\n",
    "# Gothic SAIL Data 2022 + 2023\n",
    "gts_sail_22 = xr.open_dataset('../../01_data/processed_data/sail_processed/sail_ds_1H_met_2022.nc')\n",
    "gts_sail_23 = xr.open_dataset('../../01_data/processed_data/sail_processed/sail_ds_1H_met_2023.nc')\n",
    "\n",
    "# SPLASH Avery Picnic Data 2022 + 2023\n",
    "ap_splash_22 = xr.open_dataset('../../01_data/processed_data/splash/w22_splash_ap_qc_1H.nc')\n",
    "ap_splash_23 = xr.open_dataset('../../01_data/processed_data/splash/w23_splash_ap_qc_1H.nc')"
   ]
  },
  {
   "cell_type": "code",
   "execution_count": 4,
   "metadata": {},
   "outputs": [],
   "source": [
    "x = ap_splash_22['Hl'].dropna('time')\n",
    "y = kp_splash_22['Hl'].sel(time=x.time).dropna('time')\n",
    "x = x.sel(time=y.time)\n",
    "\n",
    "import scipy.stats as stats\n",
    "slope, intercept, r, p, stderr = stats.linregress(x, y)\n",
    "\n",
    "# use the regression to fill nan in kp_splash_22['Hl']\n",
    "x1 = ap_splash_22['Hl']\n",
    "# filled these values, but they are uncertain!!!!\n",
    "kp_splash_22['Hl'] = kp_splash_22['Hl'].where(~kp_splash_22['Hl'].isnull(), x1*slope + intercept)\n",
    "# filled these values, but they are uncertain!!!!"
   ]
  },
  {
   "cell_type": "code",
   "execution_count": 48,
   "metadata": {},
   "outputs": [],
   "source": [
    "w22_kp_sail = kp_sail_22.sel(time=slice('2021-12-01','2022-03-31'))[['wind_spd','wind_dir','mean_q','mean_t','lv','precip_rate']].to_dataframe()\n",
    "# add kp_splash_22['Hl'] and convert from W/m^2 to mm/hr\n",
    "w22_kp_sail['sublimation'] = (kp_splash_22['Hl'] * 3600 / (2834.1e3))\n",
    "# fill to match the index of the kp_sos_23_sondes\n",
    "# w22_kp_sail['precip'] = w22_kp_precip['binary_corrected_prcp_rate_m2']\n",
    "w22_kp_sail['wind_spd'] = kp_splash_22['wspd_vec_mean'].where(~kp_splash_22['wspd_vec_mean'].isnull(),kp_sail_22['wind_spd'].values)\n",
    "# interpolate missing wind speeds\n",
    "w22_kp_sail['wind_spd'] = w22_kp_sail['wind_spd'].interpolate(method='linear')\n",
    "# add rolling precipitation \n",
    "w22_kp_sail['rolling_24H_precip'] = w22_kp_sail['precip_rate'].rolling(window=24).sum()\n",
    "# set the first 24 hours to 0 because there was no precipitation\n",
    "w22_kp_sail['rolling_24H_precip'].iloc[:24] = 0\n",
    "stormy_sublimation_22 = w22_kp_sail[(w22_kp_sail['rolling_24H_precip']>=1) & (w22_kp_sail['wind_spd']>=2)]\n",
    "stormy_calm_sublimation_22 = w22_kp_sail[(w22_kp_sail['rolling_24H_precip']>=1) & (w22_kp_sail['wind_spd']<2)]\n",
    "dry_windy_sublimation_22 = w22_kp_sail[(w22_kp_sail['rolling_24H_precip']<1) & (w22_kp_sail['wind_spd']>=2)]\n",
    "dry_calm_sublimation_22 = w22_kp_sail[(w22_kp_sail['rolling_24H_precip']<1) & (w22_kp_sail['wind_spd']<2)]"
   ]
  },
  {
   "cell_type": "code",
   "execution_count": 49,
   "metadata": {},
   "outputs": [
    {
     "data": {
      "text/plain": [
       "(-0.5, 5.0)"
      ]
     },
     "execution_count": 49,
     "metadata": {},
     "output_type": "execute_result"
    },
    {
     "data": {
      "image/png": "[encoded data removed]",
      "text/plain": [
       "<Figure size 1000x600 with 1 Axes>"
      ]
     },
     "metadata": {},
     "output_type": "display_data"
    }
   ],
   "source": [
    "# total sublimation in a time interval is the sublimation rate multiplied by the frequency of that rate\n",
    "# cut each sublimation rate into 0.01 g/m^2/s bins\n",
    "bins = np.arange(-0.10, 0.2, 0.01)\n",
    "# bins[10] = 0\n",
    "def cut_bins(df, bins):\n",
    "    df['binned'] = pd.cut(df['sublimation'], bins)\n",
    "    return df\n",
    "stormy_sublimation_freq_22 = cut_bins(stormy_sublimation_22, bins).value_counts('binned').sort_index() * bins[1:]\n",
    "stormy_calm_sublimation_freq_22 = cut_bins(stormy_calm_sublimation_22, bins).value_counts('binned').sort_index() * bins[1:]\n",
    "dry_windy_sublimation_freq_22 = cut_bins(dry_windy_sublimation_22, bins).value_counts('binned').sort_index() * bins[1:]\n",
    "dry_calm_sublimation_freq_22 = cut_bins(dry_calm_sublimation_22, bins).value_counts('binned').sort_index() * bins[1:]\n",
    "plt.style.use('ggplot')\n",
    "fig, ax = plt.subplots(figsize=(10,6))\n",
    "\n",
    "ax.plot(bins[1:], stormy_sublimation_freq_22.values, label='Stormy and Windy', color='blue', lw=2)\n",
    "ax.plot(bins[1:], stormy_calm_sublimation_freq_22.values, label='Stormy and Calm', color='red', lw=2)\n",
    "ax.plot(bins[1:], dry_windy_sublimation_freq_22.values, label='Dry and Windy', color='green', lw=2)\n",
    "ax.plot(bins[1:], dry_calm_sublimation_freq_22.values, label='Dry and Calm', color='orange', lw=2)\n",
    "ax.legend(fontsize=18)\n",
    "ax.axhline(0, color='black', lw=2)\n",
    "ax.set_xlabel('Sublimation Rate (mm/hour)', size=18)\n",
    "ax.set_ylabel('Frequency x Sublimation Rate (mm)', size=18)\n",
    "# increase tick label size on x and y axes\n",
    "ax.tick_params(axis='x', labelsize=18)\n",
    "ax.tick_params(axis='y', labelsize=18)\n",
    "ax.set_title('Dec 2021-March 2022 [SAIL/SPLASH Data]', size=20)\n",
    "ax.set_xlim(-0.1,0.2)\n",
    "ax.set_ylim(-0.5,5)"
   ]
  },
  {
   "cell_type": "markdown",
   "metadata": {},
   "source": [
    "### 2023 Plot with SOS Data"
   ]
  },
  {
   "cell_type": "code",
   "execution_count": 50,
   "metadata": {},
   "outputs": [
    {
     "name": "stdout",
     "output_type": "stream",
     "text": [
      "20.144449512886318\n"
     ]
    }
   ],
   "source": [
    "ds = sos_1H_h2o_flux_ds\n",
    "rho_w = 1000\n",
    "g2kg = 1/1000\n",
    "s_in_hour = 3600\n",
    "sublimation_1H = (ds[[variable for variable in hf.TURBULENCE_VARIABLES if 'w_h2o' in variable]] * 1/rho_w * 1000 * g2kg * s_in_hour).to_dataframe()\n",
    "# get the mean at the 3 meter height\n",
    "sublimation_1H = sublimation_1H[[var for var in sublimation_1H if 'w_h2o__5m' in var]].mean(axis=1).to_frame()\n",
    "sublimation_1H.columns = ['sublimation_1H']\n",
    "# wind speed !!!!! max wind speed !!!!!\n",
    "wind_speed_1H = ds[[var for var in ds if 'spd_10m_' in var]].to_dataframe().mean(axis=1).to_frame()\n",
    "wind_speed_1H.name = 'wind_speed_1H'\n",
    "# if wind speed is nan, interpolate from previous and next value\n",
    "wind_speed_1H = wind_speed_1H.interpolate(method='linear')\n",
    "# wind direction\n",
    "wind_direction_1H = sos_1H_h2o_flux_ds['dir_10m_ue']\n",
    "wind_direction_1H.name = 'wind_direction_1H'\n",
    "# temperature at 3m on c\n",
    "temperature_1H = sos_1H_h2o_flux_ds['T_3m_c']\n",
    "temperature_1H.name = 'temperature_1H'\n",
    "# blowing snow flux\n",
    "bsf_timestep = (ds['SF_avg_1m_ue'] + ds['SF_avg_2m_ue'])\n",
    "\n",
    "# add preciptiation rate\n",
    "precipitation_1H = xr.open_dataset('../../01_data/processed_data/splash/corrected_ldis_precipitation_rate_kps_w23.nc')['corrected_prcp_rate_m2']\n",
    "\n",
    "# add to the sublimation rate\n",
    "sublimation_1H['wind_speed_1H'] = wind_speed_1H.values\n",
    "sublimation_1H['wind_direction_1H'] = wind_direction_1H.values\n",
    "sublimation_1H['temperature_1H'] = temperature_1H.values\n",
    "sublimation_1H['bsf'] = bsf_timestep.values\n",
    "sublimation_1H['precipitation_1H'] = precipitation_1H.values\n",
    "print(sublimation_1H['sublimation_1H'].sum())"
   ]
  },
  {
   "cell_type": "code",
   "execution_count": 52,
   "metadata": {},
   "outputs": [],
   "source": [
    "# add rolling precipitation \n",
    "sublimation_1H['rolling_24H_precip'] = sublimation_1H['precipitation_1H'].rolling(window=24).sum()\n",
    "# set the first 24 hours to 0\n",
    "sublimation_1H['rolling_24H_precip'][:24] = 0\n",
    "stormy_sublimation_23 = sublimation_1H[(sublimation_1H['rolling_24H_precip']>=1) & (sublimation_1H['wind_speed_1H']>=2)]\n",
    "stormy_calm_sublimation_23 = sublimation_1H[(sublimation_1H['rolling_24H_precip']>=1) & (sublimation_1H['wind_speed_1H']<2)]\n",
    "dry_windy_sublimation_23 = sublimation_1H[(sublimation_1H['rolling_24H_precip']<1) & (sublimation_1H['wind_speed_1H']>=2)]\n",
    "dry_calm_sublimation_23 = sublimation_1H[(sublimation_1H['rolling_24H_precip']<1) & (sublimation_1H['wind_speed_1H']<2)]"
   ]
  },
  {
   "cell_type": "code",
   "execution_count": 53,
   "metadata": {},
   "outputs": [],
   "source": [
    "# total sublimation in a time interval is the sublimation rate multiplied by the frequency of that rate\n",
    "# cut each sublimation rate into 0.01 g/m^2/s bins\n",
    "bins = np.arange(-0.10, 0.2, 0.01)\n",
    "bins[10] = 0\n",
    "def cut_bins(df, bins):\n",
    "    df['binned'] = pd.cut(df['sublimation_1H'], bins)\n",
    "    return df\n",
    "stormy_sublimation_freq_23 = cut_bins(stormy_sublimation_23, bins).value_counts('binned').sort_index() * bins[1:]\n",
    "stormy_calm_sublimation_freq_23 = cut_bins(stormy_calm_sublimation_23, bins).value_counts('binned').sort_index() * bins[1:]\n",
    "dry_windy_sublimation_freq_23 = cut_bins(dry_windy_sublimation_23, bins).value_counts('binned').sort_index() * bins[1:]\n",
    "dry_calm_sublimation_freq_23 = cut_bins(dry_calm_sublimation_23, bins).value_counts('binned').sort_index() * bins[1:]"
   ]
  },
  {
   "cell_type": "code",
   "execution_count": 64,
   "metadata": {},
   "outputs": [
    {
     "data": {
      "text/plain": [
       "(-0.5, 5.0)"
      ]
     },
     "execution_count": 64,
     "metadata": {},
     "output_type": "execute_result"
    },
    {
     "data": {
      "image/png": "[encoded data removed]",
      "text/plain": [
       "<Figure size 1000x600 with 1 Axes>"
      ]
     },
     "metadata": {},
     "output_type": "display_data"
    }
   ],
   "source": [
    "plt.style.use('ggplot')\n",
    "fig, ax = plt.subplots(figsize=(10,6))\n",
    "\n",
    "ax.plot(bins[1:], stormy_sublimation_freq_23.values, label=f'Stormy and Windy', color='blue',lw=2)\n",
    "ax.plot(bins[1:], stormy_calm_sublimation_freq_23.values, label='Stormy and Calm', color='red',lw=2)\n",
    "ax.plot(bins[1:], dry_windy_sublimation_freq_23.values, label='Dry and Windy', color='green',lw=2)\n",
    "ax.plot(bins[1:], dry_calm_sublimation_freq_23.values, label='Dry and Calm', color='orange',lw=2)\n",
    "ax.legend(fontsize=18)\n",
    "ax.axhline(0, color='black', lw=2)\n",
    "ax.set_xlabel('Sublimation Rate (mm/hour)', size=18)\n",
    "ax.set_ylabel('Frequency x Sublimation Rate (mm)', size=18)\n",
    "# increase tick label size on x and y axes\n",
    "ax.tick_params(axis='x', labelsize=18)\n",
    "ax.tick_params(axis='y', labelsize=18)\n",
    "ax.set_title('Dec 2022-March 2023 [SOS Data]', size=20)\n",
    "ax.set_xlim(-0.1,0.2)\n",
    "ax.set_ylim(-0.5,5)\n"
   ]
  },
  {
   "cell_type": "code",
   "execution_count": 69,
   "metadata": {},
   "outputs": [
    {
     "data": {
      "text/plain": [
       "(-0.5, 5.0)"
      ]
     },
     "execution_count": 69,
     "metadata": {},
     "output_type": "execute_result"
    },
    {
     "data": {
      "image/png": "[encoded data removed]",
      "text/plain": [
       "<Figure size 1000x600 with 1 Axes>"
      ]
     },
     "metadata": {},
     "output_type": "display_data"
    }
   ],
   "source": [
    "# plot a comparison of stormy and windy conditions for the two years\n",
    "plt.style.use('ggplot')\n",
    "fig, ax = plt.subplots(figsize=(10,6))\n",
    "\n",
    "ax.plot(bins[1:], stormy_sublimation_freq_22.values, label=f\"2022: {stormy_sublimation_freq_22.sum()/w22_kp_sail['sublimation'].sum()} % of total\", color='blue',lw=2, ls='--')\n",
    "ax.plot(bins[1:], stormy_sublimation_freq_23.values, label=f\"2023: {stormy_sublimation_freq_23.sum()/sublimation_1H['sublimation_1H'].sum()}\", color='blue',lw=2)\n",
    "ax.legend(fontsize=18)\n",
    "ax.axhline(0, color='black', lw=2)\n",
    "ax.set_xlabel('Sublimation Rate (mm/hour)', size=18)\n",
    "ax.set_ylabel('Frequency x Sublimation Rate (mm)', size=18)\n",
    "# increase tick label size on x and y axes\n",
    "ax.tick_params(axis='x', labelsize=18)\n",
    "ax.tick_params(axis='y', labelsize=18)\n",
    "ax.set_title('Sublimation Frequencies During Stormy and Windy Conditions', size=20)\n",
    "ax.set_xlim(-0.1,0.2)\n",
    "ax.set_ylim(-0.5,5)"
   ]
  },
  {
   "cell_type": "code",
   "execution_count": 56,
   "metadata": {},
   "outputs": [
    {
     "data": {
      "application/vnd.plotly.v1+json": {
       "config": {
        "plotlyServerURL": "https://plot.ly"
       },
       "data": [
        {
         "marker": {
          "color": "blue"
         },
         "name": "Stormy and Windy",
         "offsetgroup": "0",
         "type": "bar",
         "x": [
          2022
         ],
         "y": [
          573
         ]
        },
        {
         "base": 573,
         "marker": {
          "color": "red"
         },
         "name": "Stormy and Calm",
         "offsetgroup": "1",
         "type": "bar",
         "x": [
          2022
         ],
         "y": [
          272
         ]
        },
        {
         "base": 845,
         "marker": {
          "color": "green"
         },
         "name": "Dry and Windy",
         "offsetgroup": "2",
         "type": "bar",
         "x": [
          2022
         ],
         "y": [
          1015
         ]
        },
        {
         "base": 1860,
         "marker": {
          "color": "orange"
         },
         "name": "Dry and Calm",
         "offsetgroup": "3",
         "type": "bar",
         "x": [
          2022
         ],
         "y": [
          1044
         ]
        },
        {
         "base": 2904,
         "marker": {
          "color": "gray"
         },
         "name": "No Data",
         "offsetgroup": "4",
         "type": "bar",
         "x": [
          2022
         ],
         "y": [
          0
         ]
        },
        {
         "marker": {
          "color": "blue"
         },
         "offsetgroup": "0",
         "showlegend": false,
         "type": "bar",
         "x": [
          2023
         ],
         "y": [
          924
         ]
        },
        {
         "base": 924,
         "marker": {
          "color": "red"
         },
         "offsetgroup": "1",
         "showlegend": false,
         "type": "bar",
         "x": [
          2023
         ],
         "y": [
          492
         ]
        },
        {
         "base": 1416,
         "marker": {
          "color": "green"
         },
         "offsetgroup": "2",
         "showlegend": false,
         "type": "bar",
         "x": [
          2023
         ],
         "y": [
          726
         ]
        },
        {
         "base": 2142,
         "marker": {
          "color": "orange"
         },
         "offsetgroup": "3",
         "showlegend": false,
         "type": "bar",
         "x": [
          2023
         ],
         "y": [
          762
         ]
        },
        {
         "base": 2904,
         "marker": {
          "color": "gray"
         },
         "offsetgroup": "4",
         "showlegend": false,
         "type": "bar",
         "x": [
          2023
         ],
         "y": [
          0
         ]
        }
       ],
       "layout": {
        "barmode": "stack",
        "height": 600,
        "showlegend": true,
        "template": {
         "data": {
          "bar": [
           {
            "error_x": {
             "color": "#2a3f5f"
            },
            "error_y": {
             "color": "#2a3f5f"
            },
            "marker": {
             "line": {
              "color": "#E5ECF6",
              "width": 0.5
             },
             "pattern": {
              "fillmode": "overlay",
              "size": 10,
              "solidity": 0.2
             }
            },
            "type": "bar"
           }
          ],
          "barpolar": [
           {
            "marker": {
             "line": {
              "color": "#E5ECF6",
              "width": 0.5
             },
             "pattern": {
              "fillmode": "overlay",
              "size": 10,
              "solidity": 0.2
             }
            },
            "type": "barpolar"
           }
          ],
          "carpet": [
           {
            "aaxis": {
             "endlinecolor": "#2a3f5f",
             "gridcolor": "white",
             "linecolor": "white",
             "minorgridcolor": "white",
             "startlinecolor": "#2a3f5f"
            },
            "baxis": {
             "endlinecolor": "#2a3f5f",
             "gridcolor": "white",
             "linecolor": "white",
             "minorgridcolor": "white",
             "startlinecolor": "#2a3f5f"
            },
            "type": "carpet"
           }
          ],
          "choropleth": [
           {
            "colorbar": {
             "outlinewidth": 0,
             "ticks": ""
            },
            "type": "choropleth"
           }
          ],
          "contour": [
           {
            "colorbar": {
             "outlinewidth": 0,
             "ticks": ""
            },
            "colorscale": [
             [
              0,
              "#0d0887"
             ],
             [
              0.1111111111111111,
              "#46039f"
             ],
             [
              0.2222222222222222,
              "#7201a8"
             ],
             [
              0.3333333333333333,
              "#9c179e"
             ],
             [
              0.4444444444444444,
              "#bd3786"
             ],
             [
              0.5555555555555556,
              "#d8576b"
             ],
             [
              0.6666666666666666,
              "#ed7953"
             ],
             [
              0.7777777777777778,
              "#fb9f3a"
             ],
             [
              0.8888888888888888,
              "#fdca26"
             ],
             [
              1,
              "#f0f921"
             ]
            ],
            "type": "contour"
           }
          ],
          "contourcarpet": [
           {
            "colorbar": {
             "outlinewidth": 0,
             "ticks": ""
            },
            "type": "contourcarpet"
           }
          ],
          "heatmap": [
           {
            "colorbar": {
             "outlinewidth": 0,
             "ticks": ""
            },
            "colorscale": [
             [
              0,
              "#0d0887"
             ],
             [
              0.1111111111111111,
              "#46039f"
             ],
             [
              0.2222222222222222,
              "#7201a8"
             ],
             [
              0.3333333333333333,
              "#9c179e"
             ],
             [
              0.4444444444444444,
              "#bd3786"
             ],
             [
              0.5555555555555556,
              "#d8576b"
             ],
             [
              0.6666666666666666,
              "#ed7953"
             ],
             [
              0.7777777777777778,
              "#fb9f3a"
             ],
             [
              0.8888888888888888,
              "#fdca26"
             ],
             [
              1,
              "#f0f921"
             ]
            ],
            "type": "heatmap"
           }
          ],
          "heatmapgl": [
           {
            "colorbar": {
             "outlinewidth": 0,
             "ticks": ""
            },
            "colorscale": [
             [
              0,
              "#0d0887"
             ],
             [
              0.1111111111111111,
              "#46039f"
             ],
             [
              0.2222222222222222,
              "#7201a8"
             ],
             [
              0.3333333333333333,
              "#9c179e"
             ],
             [
              0.4444444444444444,
              "#bd3786"
             ],
             [
              0.5555555555555556,
              "#d8576b"
             ],
             [
              0.6666666666666666,
              "#ed7953"
             ],
             [
              0.7777777777777778,
              "#fb9f3a"
             ],
             [
              0.8888888888888888,
              "#fdca26"
             ],
             [
              1,
              "#f0f921"
             ]
            ],
            "type": "heatmapgl"
           }
          ],
          "histogram": [
           {
            "marker": {
             "pattern": {
              "fillmode": "overlay",
              "size": 10,
              "solidity": 0.2
             }
            },
            "type": "histogram"
           }
          ],
          "histogram2d": [
           {
            "colorbar": {
             "outlinewidth": 0,
             "ticks": ""
            },
            "colorscale": [
             [
              0,
              "#0d0887"
             ],
             [
              0.1111111111111111,
              "#46039f"
             ],
             [
              0.2222222222222222,
              "#7201a8"
             ],
             [
              0.3333333333333333,
              "#9c179e"
             ],
             [
              0.4444444444444444,
              "#bd3786"
             ],
             [
              0.5555555555555556,
              "#d8576b"
             ],
             [
              0.6666666666666666,
              "#ed7953"
             ],
             [
              0.7777777777777778,
              "#fb9f3a"
             ],
             [
              0.8888888888888888,
              "#fdca26"
             ],
             [
              1,
              "#f0f921"
             ]
            ],
            "type": "histogram2d"
           }
          ],
          "histogram2dcontour": [
           {
            "colorbar": {
             "outlinewidth": 0,
             "ticks": ""
            },
            "colorscale": [
             [
              0,
              "#0d0887"
             ],
             [
              0.1111111111111111,
              "#46039f"
             ],
             [
              0.2222222222222222,
              "#7201a8"
             ],
             [
              0.3333333333333333,
              "#9c179e"
             ],
             [
              0.4444444444444444,
              "#bd3786"
             ],
             [
              0.5555555555555556,
              "#d8576b"
             ],
             [
              0.6666666666666666,
              "#ed7953"
             ],
             [
              0.7777777777777778,
              "#fb9f3a"
             ],
             [
              0.8888888888888888,
              "#fdca26"
             ],
             [
              1,
              "#f0f921"
             ]
            ],
            "type": "histogram2dcontour"
           }
          ],
          "mesh3d": [
           {
            "colorbar": {
             "outlinewidth": 0,
             "ticks": ""
            },
            "type": "mesh3d"
           }
          ],
          "parcoords": [
           {
            "line": {
             "colorbar": {
              "outlinewidth": 0,
              "ticks": ""
             }
            },
            "type": "parcoords"
           }
          ],
          "pie": [
           {
            "automargin": true,
            "type": "pie"
           }
          ],
          "scatter": [
           {
            "fillpattern": {
             "fillmode": "overlay",
             "size": 10,
             "solidity": 0.2
            },
            "type": "scatter"
           }
          ],
          "scatter3d": [
           {
            "line": {
             "colorbar": {
              "outlinewidth": 0,
              "ticks": ""
             }
            },
            "marker": {
             "colorbar": {
              "outlinewidth": 0,
              "ticks": ""
             }
            },
            "type": "scatter3d"
           }
          ],
          "scattercarpet": [
           {
            "marker": {
             "colorbar": {
              "outlinewidth": 0,
              "ticks": ""
             }
            },
            "type": "scattercarpet"
           }
          ],
          "scattergeo": [
           {
            "marker": {
             "colorbar": {
              "outlinewidth": 0,
              "ticks": ""
             }
            },
            "type": "scattergeo"
           }
          ],
          "scattergl": [
           {
            "marker": {
             "colorbar": {
              "outlinewidth": 0,
              "ticks": ""
             }
            },
            "type": "scattergl"
           }
          ],
          "scattermapbox": [
           {
            "marker": {
             "colorbar": {
              "outlinewidth": 0,
              "ticks": ""
             }
            },
            "type": "scattermapbox"
           }
          ],
          "scatterpolar": [
           {
            "marker": {
             "colorbar": {
              "outlinewidth": 0,
              "ticks": ""
             }
            },
            "type": "scatterpolar"
           }
          ],
          "scatterpolargl": [
           {
            "marker": {
             "colorbar": {
              "outlinewidth": 0,
              "ticks": ""
             }
            },
            "type": "scatterpolargl"
           }
          ],
          "scatterternary": [
           {
            "marker": {
             "colorbar": {
              "outlinewidth": 0,
              "ticks": ""
             }
            },
            "type": "scatterternary"
           }
          ],
          "surface": [
           {
            "colorbar": {
             "outlinewidth": 0,
             "ticks": ""
            },
            "colorscale": [
             [
              0,
              "#0d0887"
             ],
             [
              0.1111111111111111,
              "#46039f"
             ],
             [
              0.2222222222222222,
              "#7201a8"
             ],
             [
              0.3333333333333333,
              "#9c179e"
             ],
             [
              0.4444444444444444,
              "#bd3786"
             ],
             [
              0.5555555555555556,
              "#d8576b"
             ],
             [
              0.6666666666666666,
              "#ed7953"
             ],
             [
              0.7777777777777778,
              "#fb9f3a"
             ],
             [
              0.8888888888888888,
              "#fdca26"
             ],
             [
              1,
              "#f0f921"
             ]
            ],
            "type": "surface"
           }
          ],
          "table": [
           {
            "cells": {
             "fill": {
              "color": "#EBF0F8"
             },
             "line": {
              "color": "white"
             }
            },
            "header": {
             "fill": {
              "color": "#C8D4E3"
             },
             "line": {
              "color": "white"
             }
            },
            "type": "table"
           }
          ]
         },
         "layout": {
          "annotationdefaults": {
           "arrowcolor": "#2a3f5f",
           "arrowhead": 0,
           "arrowwidth": 1
          },
          "autotypenumbers": "strict",
          "coloraxis": {
           "colorbar": {
            "outlinewidth": 0,
            "ticks": ""
           }
          },
          "colorscale": {
           "diverging": [
            [
             0,
             "#8e0152"
            ],
            [
             0.1,
             "#c51b7d"
            ],
            [
             0.2,
             "#de77ae"
            ],
            [
             0.3,
             "#f1b6da"
            ],
            [
             0.4,
             "#fde0ef"
            ],
            [
             0.5,
             "#f7f7f7"
            ],
            [
             0.6,
             "#e6f5d0"
            ],
            [
             0.7,
             "#b8e186"
            ],
            [
             0.8,
             "#7fbc41"
            ],
            [
             0.9,
             "#4d9221"
            ],
            [
             1,
             "#276419"
            ]
           ],
           "sequential": [
            [
             0,
             "#0d0887"
            ],
            [
             0.1111111111111111,
             "#46039f"
            ],
            [
             0.2222222222222222,
             "#7201a8"
            ],
            [
             0.3333333333333333,
             "#9c179e"
            ],
            [
             0.4444444444444444,
             "#bd3786"
            ],
            [
             0.5555555555555556,
             "#d8576b"
            ],
            [
             0.6666666666666666,
             "#ed7953"
            ],
            [
             0.7777777777777778,
             "#fb9f3a"
            ],
            [
             0.8888888888888888,
             "#fdca26"
            ],
            [
             1,
             "#f0f921"
            ]
           ],
           "sequentialminus": [
            [
             0,
             "#0d0887"
            ],
            [
             0.1111111111111111,
             "#46039f"
            ],
            [
             0.2222222222222222,
             "#7201a8"
            ],
            [
             0.3333333333333333,
             "#9c179e"
            ],
            [
             0.4444444444444444,
             "#bd3786"
            ],
            [
             0.5555555555555556,
             "#d8576b"
            ],
            [
             0.6666666666666666,
             "#ed7953"
            ],
            [
             0.7777777777777778,
             "#fb9f3a"
            ],
            [
             0.8888888888888888,
             "#fdca26"
            ],
            [
             1,
             "#f0f921"
            ]
           ]
          },
          "colorway": [
           "#636efa",
           "#EF553B",
           "#00cc96",
           "#ab63fa",
           "#FFA15A",
           "#19d3f3",
           "#FF6692",
           "#B6E880",
           "#FF97FF",
           "#FECB52"
          ],
          "font": {
           "color": "#2a3f5f"
          },
          "geo": {
           "bgcolor": "white",
           "lakecolor": "white",
           "landcolor": "#E5ECF6",
           "showlakes": true,
           "showland": true,
           "subunitcolor": "white"
          },
          "hoverlabel": {
           "align": "left"
          },
          "hovermode": "closest",
          "mapbox": {
           "style": "light"
          },
          "paper_bgcolor": "white",
          "plot_bgcolor": "#E5ECF6",
          "polar": {
           "angularaxis": {
            "gridcolor": "white",
            "linecolor": "white",
            "ticks": ""
           },
           "bgcolor": "#E5ECF6",
           "radialaxis": {
            "gridcolor": "white",
            "linecolor": "white",
            "ticks": ""
           }
          },
          "scene": {
           "xaxis": {
            "backgroundcolor": "#E5ECF6",
            "gridcolor": "white",
            "gridwidth": 2,
            "linecolor": "white",
            "showbackground": true,
            "ticks": "",
            "zerolinecolor": "white"
           },
           "yaxis": {
            "backgroundcolor": "#E5ECF6",
            "gridcolor": "white",
            "gridwidth": 2,
            "linecolor": "white",
            "showbackground": true,
            "ticks": "",
            "zerolinecolor": "white"
           },
           "zaxis": {
            "backgroundcolor": "#E5ECF6",
            "gridcolor": "white",
            "gridwidth": 2,
            "linecolor": "white",
            "showbackground": true,
            "ticks": "",
            "zerolinecolor": "white"
           }
          },
          "shapedefaults": {
           "line": {
            "color": "#2a3f5f"
           }
          },
          "ternary": {
           "aaxis": {
            "gridcolor": "white",
            "linecolor": "white",
            "ticks": ""
           },
           "baxis": {
            "gridcolor": "white",
            "linecolor": "white",
            "ticks": ""
           },
           "bgcolor": "#E5ECF6",
           "caxis": {
            "gridcolor": "white",
            "linecolor": "white",
            "ticks": ""
           }
          },
          "title": {
           "x": 0.05
          },
          "xaxis": {
           "automargin": true,
           "gridcolor": "white",
           "linecolor": "white",
           "ticks": "",
           "title": {
            "standoff": 15
           },
           "zerolinecolor": "white",
           "zerolinewidth": 2
          },
          "yaxis": {
           "automargin": true,
           "gridcolor": "white",
           "linecolor": "white",
           "ticks": "",
           "title": {
            "standoff": 15
           },
           "zerolinecolor": "white",
           "zerolinewidth": 2
          }
         }
        },
        "width": 800,
        "xaxis": {
         "tickvals": [
          2022,
          2023
         ],
         "title": {
          "text": "Year"
         }
        },
        "yaxis": {
         "title": {
          "text": "Frequency (hours)"
         }
        }
       }
      },
      "text/html": [
       "<div>                            <div id=\"b597f5f8-a4fa-41d1-836f-1e34c38b39d0\" class=\"plotly-graph-div\" style=\"height:600px; width:800px;\"></div>            <script type=\"text/javascript\">                require([\"plotly\"], function(Plotly) {                    window.PLOTLYENV=window.PLOTLYENV || {};                                    if (document.getElementById(\"b597f5f8-a4fa-41d1-836f-1e34c38b39d0\")) {                    Plotly.newPlot(                        \"b597f5f8-a4fa-41d1-836f-1e34c38b39d0\",                        [{\"marker\":{\"color\":\"blue\"},\"name\":\"Stormy and Windy\",\"offsetgroup\":\"0\",\"x\":[2022],\"y\":[573],\"type\":\"bar\"},{\"base\":573,\"marker\":{\"color\":\"red\"},\"name\":\"Stormy and Calm\",\"offsetgroup\":\"1\",\"x\":[2022],\"y\":[272],\"type\":\"bar\"},{\"base\":845,\"marker\":{\"color\":\"green\"},\"name\":\"Dry and Windy\",\"offsetgroup\":\"2\",\"x\":[2022],\"y\":[1015],\"type\":\"bar\"},{\"base\":1860,\"marker\":{\"color\":\"orange\"},\"name\":\"Dry and Calm\",\"offsetgroup\":\"3\",\"x\":[2022],\"y\":[1044],\"type\":\"bar\"},{\"base\":2904,\"marker\":{\"color\":\"gray\"},\"name\":\"No Data\",\"offsetgroup\":\"4\",\"x\":[2022],\"y\":[0],\"type\":\"bar\"},{\"marker\":{\"color\":\"blue\"},\"offsetgroup\":\"0\",\"showlegend\":false,\"x\":[2023],\"y\":[924],\"type\":\"bar\"},{\"base\":924,\"marker\":{\"color\":\"red\"},\"offsetgroup\":\"1\",\"showlegend\":false,\"x\":[2023],\"y\":[492],\"type\":\"bar\"},{\"base\":1416,\"marker\":{\"color\":\"green\"},\"offsetgroup\":\"2\",\"showlegend\":false,\"x\":[2023],\"y\":[726],\"type\":\"bar\"},{\"base\":2142,\"marker\":{\"color\":\"orange\"},\"offsetgroup\":\"3\",\"showlegend\":false,\"x\":[2023],\"y\":[762],\"type\":\"bar\"},{\"base\":2904,\"marker\":{\"color\":\"gray\"},\"offsetgroup\":\"4\",\"showlegend\":false,\"x\":[2023],\"y\":[0],\"type\":\"bar\"}],                        {\"template\":{\"data\":{\"histogram2dcontour\":[{\"type\":\"histogram2dcontour\",\"colorbar\":{\"outlinewidth\":0,\"ticks\":\"\"},\"colorscale\":[[0.0,\"#0d0887\"],[0.1111111111111111,\"#46039f\"],[0.2222222222222222,\"#7201a8\"],[0.3333333333333333,\"#9c179e\"],[0.4444444444444444,\"#bd3786\"],[0.5555555555555556,\"#d8576b\"],[0.6666666666666666,\"#ed7953\"],[0.7777777777777778,\"#fb9f3a\"],[0.8888888888888888,\"#fdca26\"],[1.0,\"#f0f921\"]]}],\"choropleth\":[{\"type\":\"choropleth\",\"colorbar\":{\"outlinewidth\":0,\"ticks\":\"\"}}],\"histogram2d\":[{\"type\":\"histogram2d\",\"colorbar\":{\"outlinewidth\":0,\"ticks\":\"\"},\"colorscale\":[[0.0,\"#0d0887\"],[0.1111111111111111,\"#46039f\"],[0.2222222222222222,\"#7201a8\"],[0.3333333333333333,\"#9c179e\"],[0.4444444444444444,\"#bd3786\"],[0.5555555555555556,\"#d8576b\"],[0.6666666666666666,\"#ed7953\"],[0.7777777777777778,\"#fb9f3a\"],[0.8888888888888888,\"#fdca26\"],[1.0,\"#f0f921\"]]}],\"heatmap\":[{\"type\":\"heatmap\",\"colorbar\":{\"outlinewidth\":0,\"ticks\":\"\"},\"colorscale\":[[0.0,\"#0d0887\"],[0.1111111111111111,\"#46039f\"],[0.2222222222222222,\"#7201a8\"],[0.3333333333333333,\"#9c179e\"],[0.4444444444444444,\"#bd3786\"],[0.5555555555555556,\"#d8576b\"],[0.6666666666666666,\"#ed7953\"],[0.7777777777777778,\"#fb9f3a\"],[0.8888888888888888,\"#fdca26\"],[1.0,\"#f0f921\"]]}],\"heatmapgl\":[{\"type\":\"heatmapgl\",\"colorbar\":{\"outlinewidth\":0,\"ticks\":\"\"},\"colorscale\":[[0.0,\"#0d0887\"],[0.1111111111111111,\"#46039f\"],[0.2222222222222222,\"#7201a8\"],[0.3333333333333333,\"#9c179e\"],[0.4444444444444444,\"#bd3786\"],[0.5555555555555556,\"#d8576b\"],[0.6666666666666666,\"#ed7953\"],[0.7777777777777778,\"#fb9f3a\"],[0.8888888888888888,\"#fdca26\"],[1.0,\"#f0f921\"]]}],\"contourcarpet\":[{\"type\":\"contourcarpet\",\"colorbar\":{\"outlinewidth\":0,\"ticks\":\"\"}}],\"contour\":[{\"type\":\"contour\",\"colorbar\":{\"outlinewidth\":0,\"ticks\":\"\"},\"colorscale\":[[0.0,\"#0d0887\"],[0.1111111111111111,\"#46039f\"],[0.2222222222222222,\"#7201a8\"],[0.3333333333333333,\"#9c179e\"],[0.4444444444444444,\"#bd3786\"],[0.5555555555555556,\"#d8576b\"],[0.6666666666666666,\"#ed7953\"],[0.7777777777777778,\"#fb9f3a\"],[0.8888888888888888,\"#fdca26\"],[1.0,\"#f0f921\"]]}],\"surface\":[{\"type\":\"surface\",\"colorbar\":{\"outlinewidth\":0,\"ticks\":\"\"},\"colorscale\":[[0.0,\"#0d0887\"],[0.1111111111111111,\"#46039f\"],[0.2222222222222222,\"#7201a8\"],[0.3333333333333333,\"#9c179e\"],[0.4444444444444444,\"#bd3786\"],[0.5555555555555556,\"#d8576b\"],[0.6666666666666666,\"#ed7953\"],[0.7777777777777778,\"#fb9f3a\"],[0.8888888888888888,\"#fdca26\"],[1.0,\"#f0f921\"]]}],\"mesh3d\":[{\"type\":\"mesh3d\",\"colorbar\":{\"outlinewidth\":0,\"ticks\":\"\"}}],\"scatter\":[{\"fillpattern\":{\"fillmode\":\"overlay\",\"size\":10,\"solidity\":0.2},\"type\":\"scatter\"}],\"parcoords\":[{\"type\":\"parcoords\",\"line\":{\"colorbar\":{\"outlinewidth\":0,\"ticks\":\"\"}}}],\"scatterpolargl\":[{\"type\":\"scatterpolargl\",\"marker\":{\"colorbar\":{\"outlinewidth\":0,\"ticks\":\"\"}}}],\"bar\":[{\"error_x\":{\"color\":\"#2a3f5f\"},\"error_y\":{\"color\":\"#2a3f5f\"},\"marker\":{\"line\":{\"color\":\"#E5ECF6\",\"width\":0.5},\"pattern\":{\"fillmode\":\"overlay\",\"size\":10,\"solidity\":0.2}},\"type\":\"bar\"}],\"scattergeo\":[{\"type\":\"scattergeo\",\"marker\":{\"colorbar\":{\"outlinewidth\":0,\"ticks\":\"\"}}}],\"scatterpolar\":[{\"type\":\"scatterpolar\",\"marker\":{\"colorbar\":{\"outlinewidth\":0,\"ticks\":\"\"}}}],\"histogram\":[{\"marker\":{\"pattern\":{\"fillmode\":\"overlay\",\"size\":10,\"solidity\":0.2}},\"type\":\"histogram\"}],\"scattergl\":[{\"type\":\"scattergl\",\"marker\":{\"colorbar\":{\"outlinewidth\":0,\"ticks\":\"\"}}}],\"scatter3d\":[{\"type\":\"scatter3d\",\"line\":{\"colorbar\":{\"outlinewidth\":0,\"ticks\":\"\"}},\"marker\":{\"colorbar\":{\"outlinewidth\":0,\"ticks\":\"\"}}}],\"scattermapbox\":[{\"type\":\"scattermapbox\",\"marker\":{\"colorbar\":{\"outlinewidth\":0,\"ticks\":\"\"}}}],\"scatterternary\":[{\"type\":\"scatterternary\",\"marker\":{\"colorbar\":{\"outlinewidth\":0,\"ticks\":\"\"}}}],\"scattercarpet\":[{\"type\":\"scattercarpet\",\"marker\":{\"colorbar\":{\"outlinewidth\":0,\"ticks\":\"\"}}}],\"carpet\":[{\"aaxis\":{\"endlinecolor\":\"#2a3f5f\",\"gridcolor\":\"white\",\"linecolor\":\"white\",\"minorgridcolor\":\"white\",\"startlinecolor\":\"#2a3f5f\"},\"baxis\":{\"endlinecolor\":\"#2a3f5f\",\"gridcolor\":\"white\",\"linecolor\":\"white\",\"minorgridcolor\":\"white\",\"startlinecolor\":\"#2a3f5f\"},\"type\":\"carpet\"}],\"table\":[{\"cells\":{\"fill\":{\"color\":\"#EBF0F8\"},\"line\":{\"color\":\"white\"}},\"header\":{\"fill\":{\"color\":\"#C8D4E3\"},\"line\":{\"color\":\"white\"}},\"type\":\"table\"}],\"barpolar\":[{\"marker\":{\"line\":{\"color\":\"#E5ECF6\",\"width\":0.5},\"pattern\":{\"fillmode\":\"overlay\",\"size\":10,\"solidity\":0.2}},\"type\":\"barpolar\"}],\"pie\":[{\"automargin\":true,\"type\":\"pie\"}]},\"layout\":{\"autotypenumbers\":\"strict\",\"colorway\":[\"#636efa\",\"#EF553B\",\"#00cc96\",\"#ab63fa\",\"#FFA15A\",\"#19d3f3\",\"#FF6692\",\"#B6E880\",\"#FF97FF\",\"#FECB52\"],\"font\":{\"color\":\"#2a3f5f\"},\"hovermode\":\"closest\",\"hoverlabel\":{\"align\":\"left\"},\"paper_bgcolor\":\"white\",\"plot_bgcolor\":\"#E5ECF6\",\"polar\":{\"bgcolor\":\"#E5ECF6\",\"angularaxis\":{\"gridcolor\":\"white\",\"linecolor\":\"white\",\"ticks\":\"\"},\"radialaxis\":{\"gridcolor\":\"white\",\"linecolor\":\"white\",\"ticks\":\"\"}},\"ternary\":{\"bgcolor\":\"#E5ECF6\",\"aaxis\":{\"gridcolor\":\"white\",\"linecolor\":\"white\",\"ticks\":\"\"},\"baxis\":{\"gridcolor\":\"white\",\"linecolor\":\"white\",\"ticks\":\"\"},\"caxis\":{\"gridcolor\":\"white\",\"linecolor\":\"white\",\"ticks\":\"\"}},\"coloraxis\":{\"colorbar\":{\"outlinewidth\":0,\"ticks\":\"\"}},\"colorscale\":{\"sequential\":[[0.0,\"#0d0887\"],[0.1111111111111111,\"#46039f\"],[0.2222222222222222,\"#7201a8\"],[0.3333333333333333,\"#9c179e\"],[0.4444444444444444,\"#bd3786\"],[0.5555555555555556,\"#d8576b\"],[0.6666666666666666,\"#ed7953\"],[0.7777777777777778,\"#fb9f3a\"],[0.8888888888888888,\"#fdca26\"],[1.0,\"#f0f921\"]],\"sequentialminus\":[[0.0,\"#0d0887\"],[0.1111111111111111,\"#46039f\"],[0.2222222222222222,\"#7201a8\"],[0.3333333333333333,\"#9c179e\"],[0.4444444444444444,\"#bd3786\"],[0.5555555555555556,\"#d8576b\"],[0.6666666666666666,\"#ed7953\"],[0.7777777777777778,\"#fb9f3a\"],[0.8888888888888888,\"#fdca26\"],[1.0,\"#f0f921\"]],\"diverging\":[[0,\"#8e0152\"],[0.1,\"#c51b7d\"],[0.2,\"#de77ae\"],[0.3,\"#f1b6da\"],[0.4,\"#fde0ef\"],[0.5,\"#f7f7f7\"],[0.6,\"#e6f5d0\"],[0.7,\"#b8e186\"],[0.8,\"#7fbc41\"],[0.9,\"#4d9221\"],[1,\"#276419\"]]},\"xaxis\":{\"gridcolor\":\"white\",\"linecolor\":\"white\",\"ticks\":\"\",\"title\":{\"standoff\":15},\"zerolinecolor\":\"white\",\"automargin\":true,\"zerolinewidth\":2},\"yaxis\":{\"gridcolor\":\"white\",\"linecolor\":\"white\",\"ticks\":\"\",\"title\":{\"standoff\":15},\"zerolinecolor\":\"white\",\"automargin\":true,\"zerolinewidth\":2},\"scene\":{\"xaxis\":{\"backgroundcolor\":\"#E5ECF6\",\"gridcolor\":\"white\",\"linecolor\":\"white\",\"showbackground\":true,\"ticks\":\"\",\"zerolinecolor\":\"white\",\"gridwidth\":2},\"yaxis\":{\"backgroundcolor\":\"#E5ECF6\",\"gridcolor\":\"white\",\"linecolor\":\"white\",\"showbackground\":true,\"ticks\":\"\",\"zerolinecolor\":\"white\",\"gridwidth\":2},\"zaxis\":{\"backgroundcolor\":\"#E5ECF6\",\"gridcolor\":\"white\",\"linecolor\":\"white\",\"showbackground\":true,\"ticks\":\"\",\"zerolinecolor\":\"white\",\"gridwidth\":2}},\"shapedefaults\":{\"line\":{\"color\":\"#2a3f5f\"}},\"annotationdefaults\":{\"arrowcolor\":\"#2a3f5f\",\"arrowhead\":0,\"arrowwidth\":1},\"geo\":{\"bgcolor\":\"white\",\"landcolor\":\"#E5ECF6\",\"subunitcolor\":\"white\",\"showland\":true,\"showlakes\":true,\"lakecolor\":\"white\"},\"title\":{\"x\":0.05},\"mapbox\":{\"style\":\"light\"}}},\"barmode\":\"stack\",\"xaxis\":{\"title\":{\"text\":\"Year\"},\"tickvals\":[2022,2023]},\"yaxis\":{\"title\":{\"text\":\"Frequency (hours)\"}},\"showlegend\":true,\"height\":600,\"width\":800},                        {\"responsive\": true}                    ).then(function(){\n",
       "                            \n",
       "var gd = document.getElementById('b597f5f8-a4fa-41d1-836f-1e34c38b39d0');\n",
       "var x = new MutationObserver(function (mutations, observer) {{\n",
       "        var display = window.getComputedStyle(gd).display;\n",
       "        if (!display || display === 'none') {{\n",
       "            console.log([gd, 'removed!']);\n",
       "            Plotly.purge(gd);\n",
       "            observer.disconnect();\n",
       "        }}\n",
       "}});\n",
       "\n",
       "// Listen for the removal of the full notebook cells\n",
       "var notebookContainer = gd.closest('#notebook-container');\n",
       "if (notebookContainer) {{\n",
       "    x.observe(notebookContainer, {childList: true});\n",
       "}}\n",
       "\n",
       "// Listen for the clearing of the current output cell\n",
       "var outputEl = gd.closest('.output');\n",
       "if (outputEl) {{\n",
       "    x.observe(outputEl, {childList: true});\n",
       "}}\n",
       "\n",
       "                        })                };                });            </script>        </div>"
      ]
     },
     "metadata": {},
     "output_type": "display_data"
    }
   ],
   "source": [
    "# make two stacked bar plots with the number of hours in each category for each year\n",
    "fig = go.Figure()\n",
    "\n",
    "fig.add_trace(go.Bar(x=[2022], y=[stormy_sublimation_22.shape[0]], offsetgroup=0, name='Stormy and Windy', marker_color='blue'))\n",
    "fig.add_trace(go.Bar(x=[2022], y=[stormy_calm_sublimation_22.shape[0]], offsetgroup=1, name='Stormy and Calm', marker_color='red', base=stormy_sublimation_22.shape[0]))\n",
    "fig.add_trace(go.Bar(x=[2022], y=[dry_windy_sublimation_22.shape[0]], offsetgroup=2, name='Dry and Windy', marker_color='green', base=stormy_sublimation_22.shape[0]+stormy_calm_sublimation_22.shape[0]))\n",
    "fig.add_trace(go.Bar(x=[2022], y=[dry_calm_sublimation_22.shape[0]], offsetgroup=3, name='Dry and Calm', marker_color='orange', base=stormy_sublimation_22.shape[0]+stormy_calm_sublimation_22.shape[0]+dry_windy_sublimation_22.shape[0]))\n",
    "# fill the remainder up to 2904 as a nan value\n",
    "fig.add_trace(go.Bar(x=[2022], y=[2904-stormy_sublimation_22.shape[0]-stormy_calm_sublimation_22.shape[0]-dry_windy_sublimation_22.shape[0]-dry_calm_sublimation_22.shape[0]],\n",
    "                        offsetgroup=4,\n",
    "                        name='No Data',\n",
    "                        marker_color='gray',\n",
    "                        base=stormy_sublimation_22.shape[0]+stormy_calm_sublimation_22.shape[0]+dry_windy_sublimation_22.shape[0]+dry_calm_sublimation_22.shape[0]))\n",
    "\n",
    "fig.add_trace(go.Bar(x=[2023], y=[stormy_sublimation_23.shape[0]], offsetgroup=0, showlegend=False, marker_color='blue'))\n",
    "fig.add_trace(go.Bar(x=[2023], y=[stormy_calm_sublimation_23.shape[0]], offsetgroup=1, showlegend=False, marker_color='red', base=stormy_sublimation_23.shape[0]))\n",
    "fig.add_trace(go.Bar(x=[2023], y=[dry_windy_sublimation_23.shape[0]], offsetgroup=2, showlegend=False, marker_color='green', base=stormy_sublimation_23.shape[0]+stormy_calm_sublimation_23.shape[0]))\n",
    "fig.add_trace(go.Bar(x=[2023], y=[dry_calm_sublimation_23.shape[0]], offsetgroup=3, showlegend=False, marker_color='orange', base=stormy_sublimation_23.shape[0]+stormy_calm_sublimation_23.shape[0]+dry_windy_sublimation_23.shape[0]))\n",
    "# fill the remainder up to 2904 as a nan value\n",
    "fig.add_trace(go.Bar(x=[2023], y=[2904-stormy_sublimation_23.shape[0]-stormy_calm_sublimation_23.shape[0]-dry_windy_sublimation_23.shape[0]-dry_calm_sublimation_23.shape[0]], \n",
    "                     offsetgroup=4, \n",
    "                     showlegend=False, \n",
    "                     marker_color='gray',\n",
    "                    base=stormy_sublimation_23.shape[0]+stormy_calm_sublimation_23.shape[0]+dry_windy_sublimation_23.shape[0]+dry_calm_sublimation_23.shape[0]))\n",
    "\n",
    "fig.update_layout(barmode='stack', xaxis_title='Year', \n",
    "                  yaxis_title='Frequency (hours)', \n",
    "                  showlegend=True,\n",
    "                  height=600, width=800,)\n",
    "# make the x axis ticks just the years\n",
    "fig.update_xaxes(tickvals=[2022,2023])\n"
   ]
  },
  {
   "cell_type": "code",
   "execution_count": 59,
   "metadata": {},
   "outputs": [
    {
     "data": {
      "application/vnd.plotly.v1+json": {
       "config": {
        "plotlyServerURL": "https://plot.ly"
       },
       "data": [
        {
         "marker": {
          "color": "blue"
         },
         "name": "Stormy and Windy",
         "offsetgroup": "0",
         "type": "bar",
         "x": [
          2022
         ],
         "y": [
          573
         ]
        },
        {
         "marker": {
          "color": "red"
         },
         "name": "Stormy and Calm",
         "offsetgroup": "1",
         "type": "bar",
         "x": [
          2022
         ],
         "y": [
          272
         ]
        },
        {
         "marker": {
          "color": "green"
         },
         "name": "Dry and Windy",
         "offsetgroup": "2",
         "type": "bar",
         "x": [
          2022
         ],
         "y": [
          1015
         ]
        },
        {
         "marker": {
          "color": "orange"
         },
         "name": "Dry and Calm",
         "offsetgroup": "3",
         "type": "bar",
         "x": [
          2022
         ],
         "y": [
          1044
         ]
        },
        {
         "marker": {
          "color": "blue"
         },
         "offsetgroup": "0",
         "showlegend": false,
         "type": "bar",
         "x": [
          2023
         ],
         "y": [
          924
         ]
        },
        {
         "marker": {
          "color": "red"
         },
         "offsetgroup": "1",
         "showlegend": false,
         "type": "bar",
         "x": [
          2023
         ],
         "y": [
          492
         ]
        },
        {
         "marker": {
          "color": "green"
         },
         "offsetgroup": "2",
         "showlegend": false,
         "type": "bar",
         "x": [
          2023
         ],
         "y": [
          726
         ]
        },
        {
         "marker": {
          "color": "orange"
         },
         "offsetgroup": "3",
         "showlegend": false,
         "type": "bar",
         "x": [
          2023
         ],
         "y": [
          762
         ]
        },
        {
         "marker": {
          "color": "purple"
         },
         "name": "Sublimation",
         "offsetgroup": "4",
         "type": "bar",
         "x": [
          2022
         ],
         "y": [
          16.658428085040462
         ],
         "yaxis": "y2"
        },
        {
         "marker": {
          "color": "purple"
         },
         "offsetgroup": "4",
         "showlegend": false,
         "type": "bar",
         "x": [
          2023
         ],
         "y": [
          20.144449512886318
         ],
         "yaxis": "y2"
        }
       ],
       "layout": {
        "barmode": "group",
        "font": {
         "size": 18
        },
        "height": 600,
        "legend": {
         "orientation": "h",
         "x": 1,
         "xanchor": "right",
         "y": 1.02,
         "yanchor": "bottom"
        },
        "showlegend": true,
        "template": {
         "data": {
          "bar": [
           {
            "error_x": {
             "color": "#2a3f5f"
            },
            "error_y": {
             "color": "#2a3f5f"
            },
            "marker": {
             "line": {
              "color": "#E5ECF6",
              "width": 0.5
             },
             "pattern": {
              "fillmode": "overlay",
              "size": 10,
              "solidity": 0.2
             }
            },
            "type": "bar"
           }
          ],
          "barpolar": [
           {
            "marker": {
             "line": {
              "color": "#E5ECF6",
              "width": 0.5
             },
             "pattern": {
              "fillmode": "overlay",
              "size": 10,
              "solidity": 0.2
             }
            },
            "type": "barpolar"
           }
          ],
          "carpet": [
           {
            "aaxis": {
             "endlinecolor": "#2a3f5f",
             "gridcolor": "white",
             "linecolor": "white",
             "minorgridcolor": "white",
             "startlinecolor": "#2a3f5f"
            },
            "baxis": {
             "endlinecolor": "#2a3f5f",
             "gridcolor": "white",
             "linecolor": "white",
             "minorgridcolor": "white",
             "startlinecolor": "#2a3f5f"
            },
            "type": "carpet"
           }
          ],
          "choropleth": [
           {
            "colorbar": {
             "outlinewidth": 0,
             "ticks": ""
            },
            "type": "choropleth"
           }
          ],
          "contour": [
           {
            "colorbar": {
             "outlinewidth": 0,
             "ticks": ""
            },
            "colorscale": [
             [
              0,
              "#0d0887"
             ],
             [
              0.1111111111111111,
              "#46039f"
             ],
             [
              0.2222222222222222,
              "#7201a8"
             ],
             [
              0.3333333333333333,
              "#9c179e"
             ],
             [
              0.4444444444444444,
              "#bd3786"
             ],
             [
              0.5555555555555556,
              "#d8576b"
             ],
             [
              0.6666666666666666,
              "#ed7953"
             ],
             [
              0.7777777777777778,
              "#fb9f3a"
             ],
             [
              0.8888888888888888,
              "#fdca26"
             ],
             [
              1,
              "#f0f921"
             ]
            ],
            "type": "contour"
           }
          ],
          "contourcarpet": [
           {
            "colorbar": {
             "outlinewidth": 0,
             "ticks": ""
            },
            "type": "contourcarpet"
           }
          ],
          "heatmap": [
           {
            "colorbar": {
             "outlinewidth": 0,
             "ticks": ""
            },
            "colorscale": [
             [
              0,
              "#0d0887"
             ],
             [
              0.1111111111111111,
              "#46039f"
             ],
             [
              0.2222222222222222,
              "#7201a8"
             ],
             [
              0.3333333333333333,
              "#9c179e"
             ],
             [
              0.4444444444444444,
              "#bd3786"
             ],
             [
              0.5555555555555556,
              "#d8576b"
             ],
             [
              0.6666666666666666,
              "#ed7953"
             ],
             [
              0.7777777777777778,
              "#fb9f3a"
             ],
             [
              0.8888888888888888,
              "#fdca26"
             ],
             [
              1,
              "#f0f921"
             ]
            ],
            "type": "heatmap"
           }
          ],
          "heatmapgl": [
           {
            "colorbar": {
             "outlinewidth": 0,
             "ticks": ""
            },
            "colorscale": [
             [
              0,
              "#0d0887"
             ],
             [
              0.1111111111111111,
              "#46039f"
             ],
             [
              0.2222222222222222,
              "#7201a8"
             ],
             [
              0.3333333333333333,
              "#9c179e"
             ],
             [
              0.4444444444444444,
              "#bd3786"
             ],
             [
              0.5555555555555556,
              "#d8576b"
             ],
             [
              0.6666666666666666,
              "#ed7953"
             ],
             [
              0.7777777777777778,
              "#fb9f3a"
             ],
             [
              0.8888888888888888,
              "#fdca26"
             ],
             [
              1,
              "#f0f921"
             ]
            ],
            "type": "heatmapgl"
           }
          ],
          "histogram": [
           {
            "marker": {
             "pattern": {
              "fillmode": "overlay",
              "size": 10,
              "solidity": 0.2
             }
            },
            "type": "histogram"
           }
          ],
          "histogram2d": [
           {
            "colorbar": {
             "outlinewidth": 0,
             "ticks": ""
            },
            "colorscale": [
             [
              0,
              "#0d0887"
             ],
             [
              0.1111111111111111,
              "#46039f"
             ],
             [
              0.2222222222222222,
              "#7201a8"
             ],
             [
              0.3333333333333333,
              "#9c179e"
             ],
             [
              0.4444444444444444,
              "#bd3786"
             ],
             [
              0.5555555555555556,
              "#d8576b"
             ],
             [
              0.6666666666666666,
              "#ed7953"
             ],
             [
              0.7777777777777778,
              "#fb9f3a"
             ],
             [
              0.8888888888888888,
              "#fdca26"
             ],
             [
              1,
              "#f0f921"
             ]
            ],
            "type": "histogram2d"
           }
          ],
          "histogram2dcontour": [
           {
            "colorbar": {
             "outlinewidth": 0,
             "ticks": ""
            },
            "colorscale": [
             [
              0,
              "#0d0887"
             ],
             [
              0.1111111111111111,
              "#46039f"
             ],
             [
              0.2222222222222222,
              "#7201a8"
             ],
             [
              0.3333333333333333,
              "#9c179e"
             ],
             [
              0.4444444444444444,
              "#bd3786"
             ],
             [
              0.5555555555555556,
              "#d8576b"
             ],
             [
              0.6666666666666666,
              "#ed7953"
             ],
             [
              0.7777777777777778,
              "#fb9f3a"
             ],
             [
              0.8888888888888888,
              "#fdca26"
             ],
             [
              1,
              "#f0f921"
             ]
            ],
            "type": "histogram2dcontour"
           }
          ],
          "mesh3d": [
           {
            "colorbar": {
             "outlinewidth": 0,
             "ticks": ""
            },
            "type": "mesh3d"
           }
          ],
          "parcoords": [
           {
            "line": {
             "colorbar": {
              "outlinewidth": 0,
              "ticks": ""
             }
            },
            "type": "parcoords"
           }
          ],
          "pie": [
           {
            "automargin": true,
            "type": "pie"
           }
          ],
          "scatter": [
           {
            "fillpattern": {
             "fillmode": "overlay",
             "size": 10,
             "solidity": 0.2
            },
            "type": "scatter"
           }
          ],
          "scatter3d": [
           {
            "line": {
             "colorbar": {
              "outlinewidth": 0,
              "ticks": ""
             }
            },
            "marker": {
             "colorbar": {
              "outlinewidth": 0,
              "ticks": ""
             }
            },
            "type": "scatter3d"
           }
          ],
          "scattercarpet": [
           {
            "marker": {
             "colorbar": {
              "outlinewidth": 0,
              "ticks": ""
             }
            },
            "type": "scattercarpet"
           }
          ],
          "scattergeo": [
           {
            "marker": {
             "colorbar": {
              "outlinewidth": 0,
              "ticks": ""
             }
            },
            "type": "scattergeo"
           }
          ],
          "scattergl": [
           {
            "marker": {
             "colorbar": {
              "outlinewidth": 0,
              "ticks": ""
             }
            },
            "type": "scattergl"
           }
          ],
          "scattermapbox": [
           {
            "marker": {
             "colorbar": {
              "outlinewidth": 0,
              "ticks": ""
             }
            },
            "type": "scattermapbox"
           }
          ],
          "scatterpolar": [
           {
            "marker": {
             "colorbar": {
              "outlinewidth": 0,
              "ticks": ""
             }
            },
            "type": "scatterpolar"
           }
          ],
          "scatterpolargl": [
           {
            "marker": {
             "colorbar": {
              "outlinewidth": 0,
              "ticks": ""
             }
            },
            "type": "scatterpolargl"
           }
          ],
          "scatterternary": [
           {
            "marker": {
             "colorbar": {
              "outlinewidth": 0,
              "ticks": ""
             }
            },
            "type": "scatterternary"
           }
          ],
          "surface": [
           {
            "colorbar": {
             "outlinewidth": 0,
             "ticks": ""
            },
            "colorscale": [
             [
              0,
              "#0d0887"
             ],
             [
              0.1111111111111111,
              "#46039f"
             ],
             [
              0.2222222222222222,
              "#7201a8"
             ],
             [
              0.3333333333333333,
              "#9c179e"
             ],
             [
              0.4444444444444444,
              "#bd3786"
             ],
             [
              0.5555555555555556,
              "#d8576b"
             ],
             [
              0.6666666666666666,
              "#ed7953"
             ],
             [
              0.7777777777777778,
              "#fb9f3a"
             ],
             [
              0.8888888888888888,
              "#fdca26"
             ],
             [
              1,
              "#f0f921"
             ]
            ],
            "type": "surface"
           }
          ],
          "table": [
           {
            "cells": {
             "fill": {
              "color": "#EBF0F8"
             },
             "line": {
              "color": "white"
             }
            },
            "header": {
             "fill": {
              "color": "#C8D4E3"
             },
             "line": {
              "color": "white"
             }
            },
            "type": "table"
           }
          ]
         },
         "layout": {
          "annotationdefaults": {
           "arrowcolor": "#2a3f5f",
           "arrowhead": 0,
           "arrowwidth": 1
          },
          "autotypenumbers": "strict",
          "coloraxis": {
           "colorbar": {
            "outlinewidth": 0,
            "ticks": ""
           }
          },
          "colorscale": {
           "diverging": [
            [
             0,
             "#8e0152"
            ],
            [
             0.1,
             "#c51b7d"
            ],
            [
             0.2,
             "#de77ae"
            ],
            [
             0.3,
             "#f1b6da"
            ],
            [
             0.4,
             "#fde0ef"
            ],
            [
             0.5,
             "#f7f7f7"
            ],
            [
             0.6,
             "#e6f5d0"
            ],
            [
             0.7,
             "#b8e186"
            ],
            [
             0.8,
             "#7fbc41"
            ],
            [
             0.9,
             "#4d9221"
            ],
            [
             1,
             "#276419"
            ]
           ],
           "sequential": [
            [
             0,
             "#0d0887"
            ],
            [
             0.1111111111111111,
             "#46039f"
            ],
            [
             0.2222222222222222,
             "#7201a8"
            ],
            [
             0.3333333333333333,
             "#9c179e"
            ],
            [
             0.4444444444444444,
             "#bd3786"
            ],
            [
             0.5555555555555556,
             "#d8576b"
            ],
            [
             0.6666666666666666,
             "#ed7953"
            ],
            [
             0.7777777777777778,
             "#fb9f3a"
            ],
            [
             0.8888888888888888,
             "#fdca26"
            ],
            [
             1,
             "#f0f921"
            ]
           ],
           "sequentialminus": [
            [
             0,
             "#0d0887"
            ],
            [
             0.1111111111111111,
             "#46039f"
            ],
            [
             0.2222222222222222,
             "#7201a8"
            ],
            [
             0.3333333333333333,
             "#9c179e"
            ],
            [
             0.4444444444444444,
             "#bd3786"
            ],
            [
             0.5555555555555556,
             "#d8576b"
            ],
            [
             0.6666666666666666,
             "#ed7953"
            ],
            [
             0.7777777777777778,
             "#fb9f3a"
            ],
            [
             0.8888888888888888,
             "#fdca26"
            ],
            [
             1,
             "#f0f921"
            ]
           ]
          },
          "colorway": [
           "#636efa",
           "#EF553B",
           "#00cc96",
           "#ab63fa",
           "#FFA15A",
           "#19d3f3",
           "#FF6692",
           "#B6E880",
           "#FF97FF",
           "#FECB52"
          ],
          "font": {
           "color": "#2a3f5f"
          },
          "geo": {
           "bgcolor": "white",
           "lakecolor": "white",
           "landcolor": "#E5ECF6",
           "showlakes": true,
           "showland": true,
           "subunitcolor": "white"
          },
          "hoverlabel": {
           "align": "left"
          },
          "hovermode": "closest",
          "mapbox": {
           "style": "light"
          },
          "paper_bgcolor": "white",
          "plot_bgcolor": "#E5ECF6",
          "polar": {
           "angularaxis": {
            "gridcolor": "white",
            "linecolor": "white",
            "ticks": ""
           },
           "bgcolor": "#E5ECF6",
           "radialaxis": {
            "gridcolor": "white",
            "linecolor": "white",
            "ticks": ""
           }
          },
          "scene": {
           "xaxis": {
            "backgroundcolor": "#E5ECF6",
            "gridcolor": "white",
            "gridwidth": 2,
            "linecolor": "white",
            "showbackground": true,
            "ticks": "",
            "zerolinecolor": "white"
           },
           "yaxis": {
            "backgroundcolor": "#E5ECF6",
            "gridcolor": "white",
            "gridwidth": 2,
            "linecolor": "white",
            "showbackground": true,
            "ticks": "",
            "zerolinecolor": "white"
           },
           "zaxis": {
            "backgroundcolor": "#E5ECF6",
            "gridcolor": "white",
            "gridwidth": 2,
            "linecolor": "white",
            "showbackground": true,
            "ticks": "",
            "zerolinecolor": "white"
           }
          },
          "shapedefaults": {
           "line": {
            "color": "#2a3f5f"
           }
          },
          "ternary": {
           "aaxis": {
            "gridcolor": "white",
            "linecolor": "white",
            "ticks": ""
           },
           "baxis": {
            "gridcolor": "white",
            "linecolor": "white",
            "ticks": ""
           },
           "bgcolor": "#E5ECF6",
           "caxis": {
            "gridcolor": "white",
            "linecolor": "white",
            "ticks": ""
           }
          },
          "title": {
           "x": 0.05
          },
          "xaxis": {
           "automargin": true,
           "gridcolor": "white",
           "linecolor": "white",
           "ticks": "",
           "title": {
            "standoff": 15
           },
           "zerolinecolor": "white",
           "zerolinewidth": 2
          },
          "yaxis": {
           "automargin": true,
           "gridcolor": "white",
           "linecolor": "white",
           "ticks": "",
           "title": {
            "standoff": 15
           },
           "zerolinecolor": "white",
           "zerolinewidth": 2
          }
         }
        },
        "width": 800,
        "xaxis": {
         "tickvals": [
          2022,
          2023
         ],
         "title": {
          "text": "Year"
         }
        },
        "yaxis": {
         "title": {
          "text": "Frequency (hours)"
         }
        },
        "yaxis2": {
         "overlaying": "y",
         "side": "right",
         "title": {
          "text": "Winter Sublimation (mm)"
         }
        }
       }
      },
      "text/html": [
       "<div>                            <div id=\"08d30ecb-f18c-46dd-b4da-a6b4377988d2\" class=\"plotly-graph-div\" style=\"height:600px; width:800px;\"></div>            <script type=\"text/javascript\">                require([\"plotly\"], function(Plotly) {                    window.PLOTLYENV=window.PLOTLYENV || {};                                    if (document.getElementById(\"08d30ecb-f18c-46dd-b4da-a6b4377988d2\")) {                    Plotly.newPlot(                        \"08d30ecb-f18c-46dd-b4da-a6b4377988d2\",                        [{\"marker\":{\"color\":\"blue\"},\"name\":\"Stormy and Windy\",\"offsetgroup\":\"0\",\"x\":[2022],\"y\":[573],\"type\":\"bar\"},{\"marker\":{\"color\":\"red\"},\"name\":\"Stormy and Calm\",\"offsetgroup\":\"1\",\"x\":[2022],\"y\":[272],\"type\":\"bar\"},{\"marker\":{\"color\":\"green\"},\"name\":\"Dry and Windy\",\"offsetgroup\":\"2\",\"x\":[2022],\"y\":[1015],\"type\":\"bar\"},{\"marker\":{\"color\":\"orange\"},\"name\":\"Dry and Calm\",\"offsetgroup\":\"3\",\"x\":[2022],\"y\":[1044],\"type\":\"bar\"},{\"marker\":{\"color\":\"blue\"},\"offsetgroup\":\"0\",\"showlegend\":false,\"x\":[2023],\"y\":[924],\"type\":\"bar\"},{\"marker\":{\"color\":\"red\"},\"offsetgroup\":\"1\",\"showlegend\":false,\"x\":[2023],\"y\":[492],\"type\":\"bar\"},{\"marker\":{\"color\":\"green\"},\"offsetgroup\":\"2\",\"showlegend\":false,\"x\":[2023],\"y\":[726],\"type\":\"bar\"},{\"marker\":{\"color\":\"orange\"},\"offsetgroup\":\"3\",\"showlegend\":false,\"x\":[2023],\"y\":[762],\"type\":\"bar\"},{\"marker\":{\"color\":\"purple\"},\"name\":\"Sublimation\",\"offsetgroup\":\"4\",\"x\":[2022],\"y\":[16.658428085040462],\"yaxis\":\"y2\",\"type\":\"bar\"},{\"marker\":{\"color\":\"purple\"},\"offsetgroup\":\"4\",\"showlegend\":false,\"x\":[2023],\"y\":[20.144449512886318],\"yaxis\":\"y2\",\"type\":\"bar\"}],                        {\"template\":{\"data\":{\"histogram2dcontour\":[{\"type\":\"histogram2dcontour\",\"colorbar\":{\"outlinewidth\":0,\"ticks\":\"\"},\"colorscale\":[[0.0,\"#0d0887\"],[0.1111111111111111,\"#46039f\"],[0.2222222222222222,\"#7201a8\"],[0.3333333333333333,\"#9c179e\"],[0.4444444444444444,\"#bd3786\"],[0.5555555555555556,\"#d8576b\"],[0.6666666666666666,\"#ed7953\"],[0.7777777777777778,\"#fb9f3a\"],[0.8888888888888888,\"#fdca26\"],[1.0,\"#f0f921\"]]}],\"choropleth\":[{\"type\":\"choropleth\",\"colorbar\":{\"outlinewidth\":0,\"ticks\":\"\"}}],\"histogram2d\":[{\"type\":\"histogram2d\",\"colorbar\":{\"outlinewidth\":0,\"ticks\":\"\"},\"colorscale\":[[0.0,\"#0d0887\"],[0.1111111111111111,\"#46039f\"],[0.2222222222222222,\"#7201a8\"],[0.3333333333333333,\"#9c179e\"],[0.4444444444444444,\"#bd3786\"],[0.5555555555555556,\"#d8576b\"],[0.6666666666666666,\"#ed7953\"],[0.7777777777777778,\"#fb9f3a\"],[0.8888888888888888,\"#fdca26\"],[1.0,\"#f0f921\"]]}],\"heatmap\":[{\"type\":\"heatmap\",\"colorbar\":{\"outlinewidth\":0,\"ticks\":\"\"},\"colorscale\":[[0.0,\"#0d0887\"],[0.1111111111111111,\"#46039f\"],[0.2222222222222222,\"#7201a8\"],[0.3333333333333333,\"#9c179e\"],[0.4444444444444444,\"#bd3786\"],[0.5555555555555556,\"#d8576b\"],[0.6666666666666666,\"#ed7953\"],[0.7777777777777778,\"#fb9f3a\"],[0.8888888888888888,\"#fdca26\"],[1.0,\"#f0f921\"]]}],\"heatmapgl\":[{\"type\":\"heatmapgl\",\"colorbar\":{\"outlinewidth\":0,\"ticks\":\"\"},\"colorscale\":[[0.0,\"#0d0887\"],[0.1111111111111111,\"#46039f\"],[0.2222222222222222,\"#7201a8\"],[0.3333333333333333,\"#9c179e\"],[0.4444444444444444,\"#bd3786\"],[0.5555555555555556,\"#d8576b\"],[0.6666666666666666,\"#ed7953\"],[0.7777777777777778,\"#fb9f3a\"],[0.8888888888888888,\"#fdca26\"],[1.0,\"#f0f921\"]]}],\"contourcarpet\":[{\"type\":\"contourcarpet\",\"colorbar\":{\"outlinewidth\":0,\"ticks\":\"\"}}],\"contour\":[{\"type\":\"contour\",\"colorbar\":{\"outlinewidth\":0,\"ticks\":\"\"},\"colorscale\":[[0.0,\"#0d0887\"],[0.1111111111111111,\"#46039f\"],[0.2222222222222222,\"#7201a8\"],[0.3333333333333333,\"#9c179e\"],[0.4444444444444444,\"#bd3786\"],[0.5555555555555556,\"#d8576b\"],[0.6666666666666666,\"#ed7953\"],[0.7777777777777778,\"#fb9f3a\"],[0.8888888888888888,\"#fdca26\"],[1.0,\"#f0f921\"]]}],\"surface\":[{\"type\":\"surface\",\"colorbar\":{\"outlinewidth\":0,\"ticks\":\"\"},\"colorscale\":[[0.0,\"#0d0887\"],[0.1111111111111111,\"#46039f\"],[0.2222222222222222,\"#7201a8\"],[0.3333333333333333,\"#9c179e\"],[0.4444444444444444,\"#bd3786\"],[0.5555555555555556,\"#d8576b\"],[0.6666666666666666,\"#ed7953\"],[0.7777777777777778,\"#fb9f3a\"],[0.8888888888888888,\"#fdca26\"],[1.0,\"#f0f921\"]]}],\"mesh3d\":[{\"type\":\"mesh3d\",\"colorbar\":{\"outlinewidth\":0,\"ticks\":\"\"}}],\"scatter\":[{\"fillpattern\":{\"fillmode\":\"overlay\",\"size\":10,\"solidity\":0.2},\"type\":\"scatter\"}],\"parcoords\":[{\"type\":\"parcoords\",\"line\":{\"colorbar\":{\"outlinewidth\":0,\"ticks\":\"\"}}}],\"scatterpolargl\":[{\"type\":\"scatterpolargl\",\"marker\":{\"colorbar\":{\"outlinewidth\":0,\"ticks\":\"\"}}}],\"bar\":[{\"error_x\":{\"color\":\"#2a3f5f\"},\"error_y\":{\"color\":\"#2a3f5f\"},\"marker\":{\"line\":{\"color\":\"#E5ECF6\",\"width\":0.5},\"pattern\":{\"fillmode\":\"overlay\",\"size\":10,\"solidity\":0.2}},\"type\":\"bar\"}],\"scattergeo\":[{\"type\":\"scattergeo\",\"marker\":{\"colorbar\":{\"outlinewidth\":0,\"ticks\":\"\"}}}],\"scatterpolar\":[{\"type\":\"scatterpolar\",\"marker\":{\"colorbar\":{\"outlinewidth\":0,\"ticks\":\"\"}}}],\"histogram\":[{\"marker\":{\"pattern\":{\"fillmode\":\"overlay\",\"size\":10,\"solidity\":0.2}},\"type\":\"histogram\"}],\"scattergl\":[{\"type\":\"scattergl\",\"marker\":{\"colorbar\":{\"outlinewidth\":0,\"ticks\":\"\"}}}],\"scatter3d\":[{\"type\":\"scatter3d\",\"line\":{\"colorbar\":{\"outlinewidth\":0,\"ticks\":\"\"}},\"marker\":{\"colorbar\":{\"outlinewidth\":0,\"ticks\":\"\"}}}],\"scattermapbox\":[{\"type\":\"scattermapbox\",\"marker\":{\"colorbar\":{\"outlinewidth\":0,\"ticks\":\"\"}}}],\"scatterternary\":[{\"type\":\"scatterternary\",\"marker\":{\"colorbar\":{\"outlinewidth\":0,\"ticks\":\"\"}}}],\"scattercarpet\":[{\"type\":\"scattercarpet\",\"marker\":{\"colorbar\":{\"outlinewidth\":0,\"ticks\":\"\"}}}],\"carpet\":[{\"aaxis\":{\"endlinecolor\":\"#2a3f5f\",\"gridcolor\":\"white\",\"linecolor\":\"white\",\"minorgridcolor\":\"white\",\"startlinecolor\":\"#2a3f5f\"},\"baxis\":{\"endlinecolor\":\"#2a3f5f\",\"gridcolor\":\"white\",\"linecolor\":\"white\",\"minorgridcolor\":\"white\",\"startlinecolor\":\"#2a3f5f\"},\"type\":\"carpet\"}],\"table\":[{\"cells\":{\"fill\":{\"color\":\"#EBF0F8\"},\"line\":{\"color\":\"white\"}},\"header\":{\"fill\":{\"color\":\"#C8D4E3\"},\"line\":{\"color\":\"white\"}},\"type\":\"table\"}],\"barpolar\":[{\"marker\":{\"line\":{\"color\":\"#E5ECF6\",\"width\":0.5},\"pattern\":{\"fillmode\":\"overlay\",\"size\":10,\"solidity\":0.2}},\"type\":\"barpolar\"}],\"pie\":[{\"automargin\":true,\"type\":\"pie\"}]},\"layout\":{\"autotypenumbers\":\"strict\",\"colorway\":[\"#636efa\",\"#EF553B\",\"#00cc96\",\"#ab63fa\",\"#FFA15A\",\"#19d3f3\",\"#FF6692\",\"#B6E880\",\"#FF97FF\",\"#FECB52\"],\"font\":{\"color\":\"#2a3f5f\"},\"hovermode\":\"closest\",\"hoverlabel\":{\"align\":\"left\"},\"paper_bgcolor\":\"white\",\"plot_bgcolor\":\"#E5ECF6\",\"polar\":{\"bgcolor\":\"#E5ECF6\",\"angularaxis\":{\"gridcolor\":\"white\",\"linecolor\":\"white\",\"ticks\":\"\"},\"radialaxis\":{\"gridcolor\":\"white\",\"linecolor\":\"white\",\"ticks\":\"\"}},\"ternary\":{\"bgcolor\":\"#E5ECF6\",\"aaxis\":{\"gridcolor\":\"white\",\"linecolor\":\"white\",\"ticks\":\"\"},\"baxis\":{\"gridcolor\":\"white\",\"linecolor\":\"white\",\"ticks\":\"\"},\"caxis\":{\"gridcolor\":\"white\",\"linecolor\":\"white\",\"ticks\":\"\"}},\"coloraxis\":{\"colorbar\":{\"outlinewidth\":0,\"ticks\":\"\"}},\"colorscale\":{\"sequential\":[[0.0,\"#0d0887\"],[0.1111111111111111,\"#46039f\"],[0.2222222222222222,\"#7201a8\"],[0.3333333333333333,\"#9c179e\"],[0.4444444444444444,\"#bd3786\"],[0.5555555555555556,\"#d8576b\"],[0.6666666666666666,\"#ed7953\"],[0.7777777777777778,\"#fb9f3a\"],[0.8888888888888888,\"#fdca26\"],[1.0,\"#f0f921\"]],\"sequentialminus\":[[0.0,\"#0d0887\"],[0.1111111111111111,\"#46039f\"],[0.2222222222222222,\"#7201a8\"],[0.3333333333333333,\"#9c179e\"],[0.4444444444444444,\"#bd3786\"],[0.5555555555555556,\"#d8576b\"],[0.6666666666666666,\"#ed7953\"],[0.7777777777777778,\"#fb9f3a\"],[0.8888888888888888,\"#fdca26\"],[1.0,\"#f0f921\"]],\"diverging\":[[0,\"#8e0152\"],[0.1,\"#c51b7d\"],[0.2,\"#de77ae\"],[0.3,\"#f1b6da\"],[0.4,\"#fde0ef\"],[0.5,\"#f7f7f7\"],[0.6,\"#e6f5d0\"],[0.7,\"#b8e186\"],[0.8,\"#7fbc41\"],[0.9,\"#4d9221\"],[1,\"#276419\"]]},\"xaxis\":{\"gridcolor\":\"white\",\"linecolor\":\"white\",\"ticks\":\"\",\"title\":{\"standoff\":15},\"zerolinecolor\":\"white\",\"automargin\":true,\"zerolinewidth\":2},\"yaxis\":{\"gridcolor\":\"white\",\"linecolor\":\"white\",\"ticks\":\"\",\"title\":{\"standoff\":15},\"zerolinecolor\":\"white\",\"automargin\":true,\"zerolinewidth\":2},\"scene\":{\"xaxis\":{\"backgroundcolor\":\"#E5ECF6\",\"gridcolor\":\"white\",\"linecolor\":\"white\",\"showbackground\":true,\"ticks\":\"\",\"zerolinecolor\":\"white\",\"gridwidth\":2},\"yaxis\":{\"backgroundcolor\":\"#E5ECF6\",\"gridcolor\":\"white\",\"linecolor\":\"white\",\"showbackground\":true,\"ticks\":\"\",\"zerolinecolor\":\"white\",\"gridwidth\":2},\"zaxis\":{\"backgroundcolor\":\"#E5ECF6\",\"gridcolor\":\"white\",\"linecolor\":\"white\",\"showbackground\":true,\"ticks\":\"\",\"zerolinecolor\":\"white\",\"gridwidth\":2}},\"shapedefaults\":{\"line\":{\"color\":\"#2a3f5f\"}},\"annotationdefaults\":{\"arrowcolor\":\"#2a3f5f\",\"arrowhead\":0,\"arrowwidth\":1},\"geo\":{\"bgcolor\":\"white\",\"landcolor\":\"#E5ECF6\",\"subunitcolor\":\"white\",\"showland\":true,\"showlakes\":true,\"lakecolor\":\"white\"},\"title\":{\"x\":0.05},\"mapbox\":{\"style\":\"light\"}}},\"yaxis2\":{\"title\":{\"text\":\"Winter Sublimation (mm)\"},\"overlaying\":\"y\",\"side\":\"right\"},\"barmode\":\"group\",\"xaxis\":{\"title\":{\"text\":\"Year\"},\"tickvals\":[2022,2023]},\"yaxis\":{\"title\":{\"text\":\"Frequency (hours)\"}},\"showlegend\":true,\"height\":600,\"width\":800,\"legend\":{\"orientation\":\"h\",\"yanchor\":\"bottom\",\"y\":1.02,\"xanchor\":\"right\",\"x\":1},\"font\":{\"size\":18}},                        {\"responsive\": true}                    ).then(function(){\n",
       "                            \n",
       "var gd = document.getElementById('08d30ecb-f18c-46dd-b4da-a6b4377988d2');\n",
       "var x = new MutationObserver(function (mutations, observer) {{\n",
       "        var display = window.getComputedStyle(gd).display;\n",
       "        if (!display || display === 'none') {{\n",
       "            console.log([gd, 'removed!']);\n",
       "            Plotly.purge(gd);\n",
       "            observer.disconnect();\n",
       "        }}\n",
       "}});\n",
       "\n",
       "// Listen for the removal of the full notebook cells\n",
       "var notebookContainer = gd.closest('#notebook-container');\n",
       "if (notebookContainer) {{\n",
       "    x.observe(notebookContainer, {childList: true});\n",
       "}}\n",
       "\n",
       "// Listen for the clearing of the current output cell\n",
       "var outputEl = gd.closest('.output');\n",
       "if (outputEl) {{\n",
       "    x.observe(outputEl, {childList: true});\n",
       "}}\n",
       "\n",
       "                        })                };                });            </script>        </div>"
      ]
     },
     "metadata": {},
     "output_type": "display_data"
    }
   ],
   "source": [
    "import plotly.graph_objects as go\n",
    "\n",
    "fig = go.Figure()\n",
    "\n",
    "# Add primary y-axis bars\n",
    "fig.add_trace(go.Bar(x=[2022], y=[stormy_sublimation_22.shape[0]], offsetgroup=0, name='Stormy and Windy', marker_color='blue'))\n",
    "fig.add_trace(go.Bar(x=[2022], y=[stormy_calm_sublimation_22.shape[0]], offsetgroup=1, name='Stormy and Calm', marker_color='red'))\n",
    "fig.add_trace(go.Bar(x=[2022], y=[dry_windy_sublimation_22.shape[0]], offsetgroup=2, name='Dry and Windy', marker_color='green'))\n",
    "fig.add_trace(go.Bar(x=[2022], y=[dry_calm_sublimation_22.shape[0]], offsetgroup=3, name='Dry and Calm', marker_color='orange'))\n",
    "# fig.add_trace(go.Bar(x=[2022], y=[2904 - stormy_sublimation_22.shape[0] - stormy_calm_sublimation_22.shape[0] - dry_windy_sublimation_22.shape[0] - dry_calm_sublimation_22.shape[0]],\n",
    "#                      offsetgroup=4, name='No Data', marker_color='gray'))\n",
    "\n",
    "fig.add_trace(go.Bar(x=[2023], y=[stormy_sublimation_23.shape[0]], offsetgroup=0, showlegend=False, marker_color='blue'))\n",
    "fig.add_trace(go.Bar(x=[2023], y=[stormy_calm_sublimation_23.shape[0]], offsetgroup=1, showlegend=False, marker_color='red'))\n",
    "fig.add_trace(go.Bar(x=[2023], y=[dry_windy_sublimation_23.shape[0]], offsetgroup=2, showlegend=False, marker_color='green'))\n",
    "fig.add_trace(go.Bar(x=[2023], y=[dry_calm_sublimation_23.shape[0]], offsetgroup=3, showlegend=False, marker_color='orange'))\n",
    "# fig.add_trace(go.Bar(x=[2023], y=[2904 - stormy_sublimation_23.shape[0] - stormy_calm_sublimation_23.shape[0] - dry_windy_sublimation_23.shape[0] - dry_calm_sublimation_23.shape[0]], \n",
    "#                      offsetgroup=4, showlegend=False, marker_color='gray'))\n",
    "\n",
    "# Add secondary y-axis bars\n",
    "fig.add_trace(go.Bar(x=[2022], y=[w22_kp_sail['sublimation'].sum()], offsetgroup=4, name='Sublimation', marker_color='purple', yaxis='y2'))\n",
    "fig.add_trace(go.Bar(x=[2023], y=[sublimation_1H['sublimation_1H'].sum()], offsetgroup=4, showlegend=False, marker_color='purple', yaxis='y2'))\n",
    "\n",
    "# Update layout for secondary y-axis\n",
    "fig.update_layout(\n",
    "    barmode='group',\n",
    "    xaxis_title='Year',\n",
    "    yaxis_title='Frequency (hours)',\n",
    "    yaxis2=dict(\n",
    "        title='Winter Sublimation (mm)',\n",
    "        overlaying='y',\n",
    "        side='right'\n",
    "    ),\n",
    "    showlegend=True,\n",
    "    height=600,\n",
    "    width=800\n",
    ")\n",
    "\n",
    "# move the legend to the right\n",
    "fig.update_layout(legend=dict(\n",
    "    orientation='h',\n",
    "    yanchor='bottom',\n",
    "    y=1.02,\n",
    "    xanchor='right',\n",
    "    x=1\n",
    "))\n",
    "\n",
    "# Make the x-axis ticks just the years\n",
    "fig.update_xaxes(tickvals=[2022, 2023])\n",
    "# increse the font size of all the labels\n",
    "fig.update_layout(font=dict(size=18))\n",
    "\n",
    "fig.show()\n"
   ]
  }
 ],
 "metadata": {
  "kernelspec": {
   "display_name": "sublime_synoptics",
   "language": "python",
   "name": "python3"
  },
  "language_info": {
   "codemirror_mode": {
    "name": "ipython",
    "version": 3
   },
   "file_extension": ".py",
   "mimetype": "text/x-python",
   "name": "python",
   "nbconvert_exporter": "python",
   "pygments_lexer": "ipython3",
   "version": "3.11.6"
  }
 },
 "nbformat": 4,
 "nbformat_minor": 2
}
