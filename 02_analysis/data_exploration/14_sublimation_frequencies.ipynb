{
 "cells": [
  {
   "cell_type": "markdown",
   "metadata": {},
   "source": [
    "# Sublimation Frequencies\n",
    "\n",
    "Author: Daniel Hogan\n",
    "Created: June 20, 2024\n",
    "\n",
    "This notebook will explore when sublimation occurred most. Was it around storms? Was it during dry, windy periods? How did sublimation rates change and how much sublimation occurred under some different general conditions."
   ]
  },
  {
   "cell_type": "markdown",
   "metadata": {},
   "source": [
    "### Imports\n"
   ]
  },
  {
   "cell_type": "code",
   "execution_count": null,
   "metadata": {},
   "outputs": [
    {
     "name": "stdout",
     "output_type": "stream",
     "text": [
      "Storage path set to: C:\\Users\\dlhogan\\OneDrive - UW\\Documents\\GitHub\\Synoptic-Sublimation\\01_data\\storage\\data\n"
     ]
    }
   ],
   "source": [
    "import os\n",
    "\n",
    "data_source = 'local'  # 'local' or 'remote'\n",
    "if data_source == 'remote':\n",
    "   os.chdir('/home/dlhogan/GitHub/Synoptic-Sublimation/')\n",
    "   storage_path = '/storage/dlhogan/synoptic_sublimation/'\n",
    "else:\n",
    "    os.chdir('C:/Users/dlhogan/OneDrive - UW/Documents/GitHub/Synoptic-Sublimation/')    \n",
    "    storage_path = os.path.join(os.getcwd(), '01_data', 'storage', 'data')\n",
    "\n",
    "print(f\"Storage path set to: {storage_path}\")"
   ]
  },
  {
   "cell_type": "code",
   "execution_count": null,
   "metadata": {},
   "outputs": [
    {
     "name": "stdout",
     "output_type": "stream",
     "text": [
      "nctoolkit is using Climate Data Operators version 2.4.4\n"
     ]
    },
    {
     "data": {
      "text/html": [
       "        <script type=\"text/javascript\">\n",
       "        window.PlotlyConfig = {MathJaxConfig: 'local'};\n",
       "        if (window.MathJax && window.MathJax.Hub && window.MathJax.Hub.Config) {window.MathJax.Hub.Config({SVG: {font: \"STIX-Web\"}});}\n",
       "        if (typeof require !== 'undefined') {\n",
       "        require.undef(\"plotly\");\n",
       "        requirejs.config({\n",
       "            paths: {\n",
       "                'plotly': ['https://cdn.plot.ly/plotly-2.27.0.min']\n",
       "            }\n",
       "        });\n",
       "        require(['plotly'], function(Plotly) {\n",
       "            window._Plotly = Plotly;\n",
       "        });\n",
       "        }\n",
       "        </script>\n",
       "        "
      ]
     },
     "metadata": {},
     "output_type": "display_data"
    },
    {
     "data": {
      "text/html": [
       "        <script type=\"text/javascript\">\n",
       "        window.PlotlyConfig = {MathJaxConfig: 'local'};\n",
       "        if (window.MathJax && window.MathJax.Hub && window.MathJax.Hub.Config) {window.MathJax.Hub.Config({SVG: {font: \"STIX-Web\"}});}\n",
       "        if (typeof require !== 'undefined') {\n",
       "        require.undef(\"plotly\");\n",
       "        requirejs.config({\n",
       "            paths: {\n",
       "                'plotly': ['https://cdn.plot.ly/plotly-2.27.0.min']\n",
       "            }\n",
       "        });\n",
       "        require(['plotly'], function(Plotly) {\n",
       "            window._Plotly = Plotly;\n",
       "        });\n",
       "        }\n",
       "        </script>\n",
       "        "
      ]
     },
     "metadata": {},
     "output_type": "display_data"
    }
   ],
   "source": [
    "# general\n",
    "import glob\n",
    "import datetime as dt\n",
    "import json\n",
    "import time\n",
    "# data \n",
    "import xarray as xr \n",
    "from sublimpy import utils, variables, tidy, turbulence\n",
    "import numpy as np\n",
    "import pandas as pd\n",
    "from act import discovery, plotting\n",
    "# plotting\n",
    "import matplotlib.pyplot as plt\n",
    "import seaborn as sns\n",
    "from metpy.cbook import get_test_data\n",
    "from metpy.plots import add_metpy_logo, SkewT\n",
    "import plotly.express as px \n",
    "import plotly.graph_objects as go\n",
    "from plotly.subplots import make_subplots\n",
    "import cufflinks as cf\n",
    "from plotly.offline import download_plotlyjs, init_notebook_mode, plot, iplot\n",
    "import plotly.io as pio\n",
    "# helper tools\n",
    "from scripts.get_sail_data import get_sail_data\n",
    "from scripts.helper_funcs import create_windrose_df, mean_sounding, simple_sounding\n",
    "import scripts.helper_funcs as hf\n",
    "from metpy import calc, units\n",
    "# make plotly work \n",
    "init_notebook_mode(connected=True)\n",
    "cf.go_offline()"
   ]
  },
  {
   "cell_type": "markdown",
   "metadata": {},
   "source": [
    "# Grabbing our data of interest\n",
    "\n",
    "### First all the met data"
   ]
  },
  {
   "cell_type": "code",
   "execution_count": 2,
   "metadata": {},
   "outputs": [],
   "source": [
    "# Kettle Ponds SOS Data\n",
    "kp_sos_23 = xr.open_dataset('./01_data/processed_data/sos/sos_ds_1H_storage.nc')\n",
    "# kp_sos_max_23 = xr.open_dataset('./01_data/processed_data/sos/sos_ds_1H_max_wspd_storage.nc')\n",
    "kp_sos_23 = kp_sos_23.sel(time=slice('2022-12-01', '2023-03-31'))\n",
    "sos_1H_h2o_flux_ds = kp_sos_23[[variable for variable in hf.TURBULENCE_VARIABLES if 'w_h2o' in variable]+hf.SNOW_FLUX+hf.WIND_VARIABLES+hf.TEMPERATURE_VARIABLES]\n",
    "\n",
    "# adjust wdir\n",
    "def adjust_wdir(ds):\n",
    "    new_df = ds.to_dataframe()\n",
    "    new_ds = hf.adjust_wdir(new_df).to_xarray()\n",
    "    ## Copy attributes from the original dataset\n",
    "    new_ds.attrs = ds.attrs\n",
    "    for var in new_ds:\n",
    "        new_ds[var].attrs = ds[var].attrs\n",
    "    return new_ds\n",
    "sos_1H_h2o_flux_ds = adjust_wdir(sos_1H_h2o_flux_ds)\n",
    "\n",
    "# Kettle Ponds SAIL Data 2022 + 2023\n",
    "kp_sail_22 = xr.open_dataset('./01_data/processed_data/sail/sail_ds_1H_met_kp_2022.nc').sel(time=slice('2021-12-01', '2022-03-31'))\n",
    "kp_sail_23 = xr.open_dataset('./01_data/processed_data/sail/sail_ds_1H_met_kp_2023.nc').sel(time=slice('2022-12-01', '2023-03-31'))\n",
    "\n",
    "# Kettle Ponds SPLASH Data 2022\n",
    "kp_splash_22 = xr.open_dataset('./01_data/processed_data/splash/w22_splash_kp_qc_1H.nc').sel(time=slice('2021-12-01', '2022-03-31'))\n",
    "\n",
    "# Gothic SAIL Data 2022 + 2023\n",
    "gts_sail_22 = xr.open_dataset('./01_data/processed_data/sail/sail_ds_1H_met_2022.nc').sel(time=slice('2021-12-01', '2022-03-31'))\n",
    "gts_sail_23 = xr.open_dataset('./01_data/processed_data/sail/sail_ds_1H_met_2023.nc').sel(time=slice('2022-12-01', '2023-03-31'))\n",
    "\n",
    "# SPLASH Avery Picnic Data 2022 + 2023\n",
    "ap_splash_22 = xr.open_dataset('./01_data/processed_data/splash/w22_splash_ap_qc_1H.nc').sel(time=slice('2021-12-01', '2022-03-31'))\n",
    "ap_splash_23 = xr.open_dataset('./01_data/processed_data/splash/w23_splash_ap_qc_1H.nc').sel(time=slice('2022-12-01', '2023-03-31'))"
   ]
  },
  {
   "cell_type": "code",
   "execution_count": 3,
   "metadata": {},
   "outputs": [],
   "source": [
    "x = ap_splash_22['Hl'].dropna('time')\n",
    "y = kp_splash_22['Hl'].sel(time=x.time).dropna('time')\n",
    "x = x.sel(time=y.time)\n",
    "\n",
    "import scipy.stats as stats\n",
    "slope, intercept, r, p, stderr = stats.linregress(x, y)\n",
    "\n",
    "# use the regression to fill nan in kp_splash_22['Hl']\n",
    "x1 = ap_splash_22['Hl']\n",
    "# filled these values, but they are uncertain!!!!\n",
    "kp_splash_22['Hl'] = kp_splash_22['Hl'].where(~kp_splash_22['Hl'].isnull(), x1*slope + intercept)\n",
    "# filled these values, but they are uncertain!!!!"
   ]
  },
  {
   "cell_type": "code",
   "execution_count": null,
   "metadata": {},
   "outputs": [],
   "source": [
    "# pluvio buckets\n",
    "w23_wbpluvio_ds = xr.open_dataset(f'{storage_path}sail_data/winter_22_23/pluvio2_20221001_20230930.nc').sel(time=slice('2022-12-01', '2023-03-31'))\n",
    "w22_wbpluvio_ds = xr.open_dataset(f'{storage_path}sail_data/winter_21_22/pluvio2_20211001_20220930.nc').sel(time=slice('2021-12-01', '2022-03-31'))"
   ]
  },
  {
   "cell_type": "code",
   "execution_count": 5,
   "metadata": {},
   "outputs": [],
   "source": [
    "w22_kp_sail = kp_sail_22.sel(time=slice('2021-12-01','2022-03-31'))[['wind_spd','wind_dir','mean_q','mean_t','lv','precip_rate']].to_dataframe()\n",
    "w22_kp_sail['precip_rate'] = w22_wbpluvio_ds['accum_nrt'].resample(time='1H').sum()\n",
    "# add kp_splash_22['Hl'] and convert from W/m^2 to mm/hr\n",
    "w22_kp_sail['sublimation'] = (kp_splash_22['Hl'] * 3600 / (2834.1e3))\n",
    "# fill to match the index of the kp_sos_23_sondes\n",
    "# w22_kp_sail['precip'] = w22_kp_precip['binary_corrected_prcp_rate_m2']\n",
    "w22_kp_sail['wind_spd'] = kp_splash_22['wspd_vec_mean'].where(~kp_splash_22['wspd_vec_mean'].isnull(),kp_sail_22['wind_spd'].values)\n",
    "# interpolate missing wind speeds\n",
    "w22_kp_sail['wind_spd'] = w22_kp_sail['wind_spd'].interpolate(method='linear')\n",
    "# add rolling precipitation \n",
    "w22_kp_sail['rolling_24H_precip'] = w22_kp_sail['precip_rate'].rolling(window=24, center=True).sum()\n",
    "# set the first 24 hours to 0 because there was no precipitation\n",
    "w22_kp_sail['rolling_24H_precip'].iloc[:24] = 0\n",
    "snowy_sublimation_22 = w22_kp_sail[(w22_kp_sail['rolling_24H_precip']>=1) & (w22_kp_sail['wind_spd']>=2)]\n",
    "snowy_calm_sublimation_22 = w22_kp_sail[(w22_kp_sail['rolling_24H_precip']>=1) & (w22_kp_sail['wind_spd']<2)]\n",
    "dry_windy_sublimation_22 = w22_kp_sail[(w22_kp_sail['rolling_24H_precip']<1) & (w22_kp_sail['wind_spd']>=2)]\n",
    "dry_calm_sublimation_22 = w22_kp_sail[(w22_kp_sail['rolling_24H_precip']<1) & (w22_kp_sail['wind_spd']<2)]"
   ]
  },
  {
   "cell_type": "code",
   "execution_count": 6,
   "metadata": {},
   "outputs": [
    {
     "data": {
      "text/plain": [
       "(-0.5, 5.0)"
      ]
     },
     "execution_count": 6,
     "metadata": {},
     "output_type": "execute_result"
    },
    {
     "data": {
      "image/png": "[encoded data removed]",
      "text/plain": [
       "<Figure size 1000x600 with 1 Axes>"
      ]
     },
     "metadata": {},
     "output_type": "display_data"
    }
   ],
   "source": [
    "# total sublimation in a time interval is the sublimation rate multiplied by the frequency of that rate\n",
    "# cut each sublimation rate into 0.01 g/m^2/s bins\n",
    "bins = np.arange(-0.10, 0.2, 0.01)\n",
    "# bins[10] = 0\n",
    "def cut_bins(df, bins):\n",
    "    df['binned'] = pd.cut(df['sublimation'], bins)\n",
    "    return df\n",
    "snowy_sublimation_freq_22 = cut_bins(snowy_sublimation_22, bins).value_counts('binned').sort_index() * bins[1:]\n",
    "snowy_calm_sublimation_freq_22 = cut_bins(snowy_calm_sublimation_22, bins).value_counts('binned').sort_index() * bins[1:]\n",
    "dry_windy_sublimation_freq_22 = cut_bins(dry_windy_sublimation_22, bins).value_counts('binned').sort_index() * bins[1:]\n",
    "dry_calm_sublimation_freq_22 = cut_bins(dry_calm_sublimation_22, bins).value_counts('binned').sort_index() * bins[1:]\n",
    "plt.style.use('ggplot')\n",
    "fig, ax = plt.subplots(figsize=(10,6))\n",
    "\n",
    "ax.plot(bins[1:], snowy_sublimation_freq_22.values, label='Snowy and Windy', color='blue', lw=2)\n",
    "ax.plot(bins[1:], snowy_calm_sublimation_freq_22.values, label='Snowy and Calm', color='red', lw=2)\n",
    "ax.plot(bins[1:], dry_windy_sublimation_freq_22.values, label='Dry and Windy', color='green', lw=2)\n",
    "ax.plot(bins[1:], dry_calm_sublimation_freq_22.values, label='Dry and Calm', color='orange', lw=2)\n",
    "ax.legend(fontsize=18)\n",
    "ax.axhline(0, color='black', lw=2)\n",
    "ax.set_xlabel('Sublimation Rate (mm/hour)', size=18)\n",
    "ax.set_ylabel('Frequency x Sublimation Rate (mm)', size=18)\n",
    "# increase tick label size on x and y axes\n",
    "ax.tick_params(axis='x', labelsize=18)\n",
    "ax.tick_params(axis='y', labelsize=18)\n",
    "ax.set_title('2022 Winter', size=20)\n",
    "ax.set_xlim(-0.1,0.2)\n",
    "ax.set_ylim(-0.5,5)"
   ]
  },
  {
   "cell_type": "markdown",
   "metadata": {},
   "source": [
    "### 2023 Plot with SOS Data"
   ]
  },
  {
   "cell_type": "code",
   "execution_count": 7,
   "metadata": {},
   "outputs": [
    {
     "name": "stdout",
     "output_type": "stream",
     "text": [
      "19.94585516983728\n"
     ]
    }
   ],
   "source": [
    "ds = sos_1H_h2o_flux_ds\n",
    "rho_w = 1000\n",
    "g2kg = 1/1000\n",
    "s_in_hour = 3600\n",
    "sublimation_1H = (ds[[variable for variable in hf.TURBULENCE_VARIABLES if 'w_h2o' in variable]] * 1/rho_w * 1000 * g2kg * s_in_hour).to_dataframe()\n",
    "# get the mean at the 3 meter height\n",
    "sublimation_1H = sublimation_1H[[var for var in sublimation_1H if 'w_h2o__5m' in var]].mean(axis=1).to_frame()\n",
    "sublimation_1H.columns = ['sublimation_1H']\n",
    "# wind speed !!!!! max wind speed !!!!!\n",
    "wind_speed_1H = ds[[var for var in ds if 'spd_10m_' in var]].to_dataframe().mean(axis=1).to_frame()\n",
    "wind_speed_1H.name = 'wind_speed_1H'\n",
    "# if wind speed is nan, interpolate from previous and next value\n",
    "wind_speed_1H = wind_speed_1H.interpolate(method='linear')\n",
    "# wind direction\n",
    "wind_direction_1H = sos_1H_h2o_flux_ds['dir_10m_ue']\n",
    "wind_direction_1H.name = 'wind_direction_1H'\n",
    "# temperature at 3m on c\n",
    "temperature_1H = sos_1H_h2o_flux_ds['T_3m_c']\n",
    "temperature_1H.name = 'temperature_1H'\n",
    "# blowing snow flux\n",
    "bsf_timestep = (ds['SF_avg_1m_ue'] + ds['SF_avg_2m_ue'])\n",
    "\n",
    "# add preciptiation rate\n",
    "precipitation_1H = xr.open_dataset('./01_data/processed_data/splash/corrected_ldis_precipitation_rate_kps_w23.nc')['corrected_prcp_rate_m2']\n",
    "\n",
    "# add to the sublimation rate\n",
    "sublimation_1H['wind_speed_1H'] = wind_speed_1H.values\n",
    "sublimation_1H['wind_direction_1H'] = wind_direction_1H.values\n",
    "sublimation_1H['temperature_1H'] = temperature_1H.values\n",
    "sublimation_1H['bsf'] = bsf_timestep.values\n",
    "sublimation_1H['precipitation_1H'] =  w23_wbpluvio_ds['accum_nrt'].resample(time='1H').sum()\n",
    "print(sublimation_1H['sublimation_1H'].sum())"
   ]
  },
  {
   "cell_type": "code",
   "execution_count": 8,
   "metadata": {},
   "outputs": [],
   "source": [
    "# add rolling precipitation \n",
    "sublimation_1H['rolling_24H_precip'] = sublimation_1H['precipitation_1H'].rolling(window=48, center=True).sum()\n",
    "# set the first 24 hours to 0\n",
    "sublimation_1H['rolling_24H_precip'][:24] = 0\n",
    "snowy_sublimation_23 = sublimation_1H[(sublimation_1H['rolling_24H_precip']>=1) & (sublimation_1H['wind_speed_1H']>=2)]\n",
    "snowy_calm_sublimation_23 = sublimation_1H[(sublimation_1H['rolling_24H_precip']>=1) & (sublimation_1H['wind_speed_1H']<2)]\n",
    "dry_windy_sublimation_23 = sublimation_1H[(sublimation_1H['rolling_24H_precip']<1) & (sublimation_1H['wind_speed_1H']>=2)]\n",
    "dry_calm_sublimation_23 = sublimation_1H[(sublimation_1H['rolling_24H_precip']<1) & (sublimation_1H['wind_speed_1H']<2)]"
   ]
  },
  {
   "cell_type": "code",
   "execution_count": 9,
   "metadata": {},
   "outputs": [],
   "source": [
    "# total sublimation in a time interval is the sublimation rate multiplied by the frequency of that rate\n",
    "# cut each sublimation rate into 0.01 g/m^2/s bins\n",
    "bins = np.arange(-0.10, 0.2, 0.01)\n",
    "bins[10] = 0\n",
    "def cut_bins(df, bins):\n",
    "    df['binned'] = pd.cut(df['sublimation_1H'], bins)\n",
    "    return df\n",
    "snowy_sublimation_freq_23 = cut_bins(snowy_sublimation_23, bins).value_counts('binned').sort_index() * bins[1:]\n",
    "snowy_calm_sublimation_freq_23 = cut_bins(snowy_calm_sublimation_23, bins).value_counts('binned').sort_index() * bins[1:]\n",
    "dry_windy_sublimation_freq_23 = cut_bins(dry_windy_sublimation_23, bins).value_counts('binned').sort_index() * bins[1:]\n",
    "dry_calm_sublimation_freq_23 = cut_bins(dry_calm_sublimation_23, bins).value_counts('binned').sort_index() * bins[1:]"
   ]
  },
  {
   "cell_type": "code",
   "execution_count": 10,
   "metadata": {},
   "outputs": [
    {
     "data": {
      "text/plain": [
       "(-0.5, 5.0)"
      ]
     },
     "execution_count": 10,
     "metadata": {},
     "output_type": "execute_result"
    },
    {
     "data": {
      "image/png": "[encoded data removed]",
      "text/plain": [
       "<Figure size 1000x600 with 1 Axes>"
      ]
     },
     "metadata": {},
     "output_type": "display_data"
    }
   ],
   "source": [
    "plt.style.use('ggplot')\n",
    "fig, ax = plt.subplots(figsize=(10,6))\n",
    "\n",
    "ax.plot(bins[1:], snowy_sublimation_freq_23.values, label=f'Snowy and Windy', color='blue',lw=2)\n",
    "ax.plot(bins[1:], snowy_calm_sublimation_freq_23.values, label='Snowy and Calm', color='red',lw=2)\n",
    "ax.plot(bins[1:], dry_windy_sublimation_freq_23.values, label='Dry and Windy', color='green',lw=2)\n",
    "ax.plot(bins[1:], dry_calm_sublimation_freq_23.values, label='Dry and Calm', color='orange',lw=2)\n",
    "ax.legend(fontsize=18)\n",
    "ax.axhline(0, color='black', lw=2)\n",
    "ax.set_xlabel('Sublimation Rate (mm/hour)', size=18)\n",
    "ax.set_ylabel('Frequency x Sublimation Rate (mm)', size=18)\n",
    "# increase tick label size on x and y axes\n",
    "ax.tick_params(axis='x', labelsize=18)\n",
    "ax.tick_params(axis='y', labelsize=18)\n",
    "ax.set_title('2023 Winter', size=20)\n",
    "ax.set_xlim(-0.1,0.2)\n",
    "ax.set_ylim(-0.5,5)\n"
   ]
  },
  {
   "cell_type": "code",
   "execution_count": 13,
   "metadata": {},
   "outputs": [
    {
     "data": {
      "text/html": [
       "<div>\n",
       "<style scoped>\n",
       "    .dataframe tbody tr th:only-of-type {\n",
       "        vertical-align: middle;\n",
       "    }\n",
       "\n",
       "    .dataframe tbody tr th {\n",
       "        vertical-align: top;\n",
       "    }\n",
       "\n",
       "    .dataframe thead th {\n",
       "        text-align: right;\n",
       "    }\n",
       "</style>\n",
       "<table border=\"1\" class=\"dataframe\">\n",
       "  <thead>\n",
       "    <tr style=\"text-align: right;\">\n",
       "      <th></th>\n",
       "      <th>wind_spd</th>\n",
       "      <th>wind_dir</th>\n",
       "      <th>mean_q</th>\n",
       "      <th>mean_t</th>\n",
       "      <th>lv</th>\n",
       "      <th>precip_rate</th>\n",
       "      <th>size_bins</th>\n",
       "      <th>sublimation</th>\n",
       "      <th>rolling_24H_precip</th>\n",
       "      <th>binned</th>\n",
       "    </tr>\n",
       "    <tr>\n",
       "      <th>time</th>\n",
       "      <th></th>\n",
       "      <th></th>\n",
       "      <th></th>\n",
       "      <th></th>\n",
       "      <th></th>\n",
       "      <th></th>\n",
       "      <th></th>\n",
       "      <th></th>\n",
       "      <th></th>\n",
       "      <th></th>\n",
       "    </tr>\n",
       "  </thead>\n",
       "  <tbody>\n",
       "    <tr>\n",
       "      <th>2021-12-06 15:00:00</th>\n",
       "      <td>0.556550</td>\n",
       "      <td>320.200012</td>\n",
       "      <td>NaN</td>\n",
       "      <td>NaN</td>\n",
       "      <td>2533000.0</td>\n",
       "      <td>0.00</td>\n",
       "      <td>0.187</td>\n",
       "      <td>0.023192</td>\n",
       "      <td>1.80</td>\n",
       "      <td>(0.02, 0.03]</td>\n",
       "    </tr>\n",
       "    <tr>\n",
       "      <th>2021-12-06 16:00:00</th>\n",
       "      <td>0.666756</td>\n",
       "      <td>NaN</td>\n",
       "      <td>NaN</td>\n",
       "      <td>NaN</td>\n",
       "      <td>NaN</td>\n",
       "      <td>0.00</td>\n",
       "      <td>0.187</td>\n",
       "      <td>0.028824</td>\n",
       "      <td>2.85</td>\n",
       "      <td>(0.02, 0.03]</td>\n",
       "    </tr>\n",
       "    <tr>\n",
       "      <th>2021-12-06 17:00:00</th>\n",
       "      <td>1.571058</td>\n",
       "      <td>NaN</td>\n",
       "      <td>NaN</td>\n",
       "      <td>NaN</td>\n",
       "      <td>NaN</td>\n",
       "      <td>0.00</td>\n",
       "      <td>0.187</td>\n",
       "      <td>0.032973</td>\n",
       "      <td>3.74</td>\n",
       "      <td>(0.03, 0.04]</td>\n",
       "    </tr>\n",
       "    <tr>\n",
       "      <th>2021-12-07 01:00:00</th>\n",
       "      <td>1.112461</td>\n",
       "      <td>319.799988</td>\n",
       "      <td>NaN</td>\n",
       "      <td>NaN</td>\n",
       "      <td>2512500.0</td>\n",
       "      <td>0.47</td>\n",
       "      <td>0.187</td>\n",
       "      <td>0.006402</td>\n",
       "      <td>5.38</td>\n",
       "      <td>(-5.55e-17, 0.01]</td>\n",
       "    </tr>\n",
       "    <tr>\n",
       "      <th>2021-12-07 02:00:00</th>\n",
       "      <td>1.638591</td>\n",
       "      <td>133.000000</td>\n",
       "      <td>NaN</td>\n",
       "      <td>NaN</td>\n",
       "      <td>2521500.0</td>\n",
       "      <td>1.33</td>\n",
       "      <td>0.187</td>\n",
       "      <td>0.002584</td>\n",
       "      <td>5.38</td>\n",
       "      <td>(-5.55e-17, 0.01]</td>\n",
       "    </tr>\n",
       "    <tr>\n",
       "      <th>...</th>\n",
       "      <td>...</td>\n",
       "      <td>...</td>\n",
       "      <td>...</td>\n",
       "      <td>...</td>\n",
       "      <td>...</td>\n",
       "      <td>...</td>\n",
       "      <td>...</td>\n",
       "      <td>...</td>\n",
       "      <td>...</td>\n",
       "      <td>...</td>\n",
       "    </tr>\n",
       "    <tr>\n",
       "      <th>2022-03-29 12:00:00</th>\n",
       "      <td>1.393753</td>\n",
       "      <td>277.899994</td>\n",
       "      <td>NaN</td>\n",
       "      <td>NaN</td>\n",
       "      <td>2503000.0</td>\n",
       "      <td>0.06</td>\n",
       "      <td>0.187</td>\n",
       "      <td>NaN</td>\n",
       "      <td>3.53</td>\n",
       "      <td>NaN</td>\n",
       "    </tr>\n",
       "    <tr>\n",
       "      <th>2022-03-29 13:00:00</th>\n",
       "      <td>0.937925</td>\n",
       "      <td>88.529999</td>\n",
       "      <td>NaN</td>\n",
       "      <td>NaN</td>\n",
       "      <td>2505500.0</td>\n",
       "      <td>0.07</td>\n",
       "      <td>0.187</td>\n",
       "      <td>NaN</td>\n",
       "      <td>3.53</td>\n",
       "      <td>NaN</td>\n",
       "    </tr>\n",
       "    <tr>\n",
       "      <th>2022-03-29 14:00:00</th>\n",
       "      <td>0.792491</td>\n",
       "      <td>0.525100</td>\n",
       "      <td>NaN</td>\n",
       "      <td>NaN</td>\n",
       "      <td>2526500.0</td>\n",
       "      <td>0.41</td>\n",
       "      <td>0.187</td>\n",
       "      <td>NaN</td>\n",
       "      <td>3.53</td>\n",
       "      <td>NaN</td>\n",
       "    </tr>\n",
       "    <tr>\n",
       "      <th>2022-03-29 15:00:00</th>\n",
       "      <td>1.295380</td>\n",
       "      <td>91.150002</td>\n",
       "      <td>NaN</td>\n",
       "      <td>NaN</td>\n",
       "      <td>2526000.0</td>\n",
       "      <td>0.21</td>\n",
       "      <td>0.187</td>\n",
       "      <td>0.013760</td>\n",
       "      <td>3.53</td>\n",
       "      <td>(0.01, 0.02]</td>\n",
       "    </tr>\n",
       "    <tr>\n",
       "      <th>2022-03-29 16:00:00</th>\n",
       "      <td>1.194305</td>\n",
       "      <td>93.059998</td>\n",
       "      <td>NaN</td>\n",
       "      <td>NaN</td>\n",
       "      <td>2526500.0</td>\n",
       "      <td>0.37</td>\n",
       "      <td>0.187</td>\n",
       "      <td>NaN</td>\n",
       "      <td>3.53</td>\n",
       "      <td>NaN</td>\n",
       "    </tr>\n",
       "  </tbody>\n",
       "</table>\n",
       "<p>299 rows × 10 columns</p>\n",
       "</div>"
      ],
      "text/plain": [
       "                     wind_spd    wind_dir  mean_q  mean_t         lv  \\\n",
       "time                                                                   \n",
       "2021-12-06 15:00:00  0.556550  320.200012     NaN     NaN  2533000.0   \n",
       "2021-12-06 16:00:00  0.666756         NaN     NaN     NaN        NaN   \n",
       "2021-12-06 17:00:00  1.571058         NaN     NaN     NaN        NaN   \n",
       "2021-12-07 01:00:00  1.112461  319.799988     NaN     NaN  2512500.0   \n",
       "2021-12-07 02:00:00  1.638591  133.000000     NaN     NaN  2521500.0   \n",
       "...                       ...         ...     ...     ...        ...   \n",
       "2022-03-29 12:00:00  1.393753  277.899994     NaN     NaN  2503000.0   \n",
       "2022-03-29 13:00:00  0.937925   88.529999     NaN     NaN  2505500.0   \n",
       "2022-03-29 14:00:00  0.792491    0.525100     NaN     NaN  2526500.0   \n",
       "2022-03-29 15:00:00  1.295380   91.150002     NaN     NaN  2526000.0   \n",
       "2022-03-29 16:00:00  1.194305   93.059998     NaN     NaN  2526500.0   \n",
       "\n",
       "                     precip_rate  size_bins  sublimation  rolling_24H_precip  \\\n",
       "time                                                                           \n",
       "2021-12-06 15:00:00         0.00      0.187     0.023192                1.80   \n",
       "2021-12-06 16:00:00         0.00      0.187     0.028824                2.85   \n",
       "2021-12-06 17:00:00         0.00      0.187     0.032973                3.74   \n",
       "2021-12-07 01:00:00         0.47      0.187     0.006402                5.38   \n",
       "2021-12-07 02:00:00         1.33      0.187     0.002584                5.38   \n",
       "...                          ...        ...          ...                 ...   \n",
       "2022-03-29 12:00:00         0.06      0.187          NaN                3.53   \n",
       "2022-03-29 13:00:00         0.07      0.187          NaN                3.53   \n",
       "2022-03-29 14:00:00         0.41      0.187          NaN                3.53   \n",
       "2022-03-29 15:00:00         0.21      0.187     0.013760                3.53   \n",
       "2022-03-29 16:00:00         0.37      0.187          NaN                3.53   \n",
       "\n",
       "                                binned  \n",
       "time                                    \n",
       "2021-12-06 15:00:00       (0.02, 0.03]  \n",
       "2021-12-06 16:00:00       (0.02, 0.03]  \n",
       "2021-12-06 17:00:00       (0.03, 0.04]  \n",
       "2021-12-07 01:00:00  (-5.55e-17, 0.01]  \n",
       "2021-12-07 02:00:00  (-5.55e-17, 0.01]  \n",
       "...                                ...  \n",
       "2022-03-29 12:00:00                NaN  \n",
       "2022-03-29 13:00:00                NaN  \n",
       "2022-03-29 14:00:00                NaN  \n",
       "2022-03-29 15:00:00       (0.01, 0.02]  \n",
       "2022-03-29 16:00:00                NaN  \n",
       "\n",
       "[299 rows x 10 columns]"
      ]
     },
     "execution_count": 13,
     "metadata": {},
     "output_type": "execute_result"
    }
   ],
   "source": [
    "snowy_calm_sublimation_22"
   ]
  },
  {
   "cell_type": "code",
   "execution_count": 14,
   "metadata": {},
   "outputs": [
    {
     "data": {
      "text/plain": [
       "(-0.5, 5.0)"
      ]
     },
     "execution_count": 14,
     "metadata": {},
     "output_type": "execute_result"
    },
    {
     "data": {
      "image/png": "[encoded data removed]",
      "text/plain": [
       "<Figure size 1000x600 with 1 Axes>"
      ]
     },
     "metadata": {},
     "output_type": "display_data"
    }
   ],
   "source": [
    "# plot a comparison of snowy and windy conditions for the two years\n",
    "plt.style.use('ggplot')\n",
    "fig, ax = plt.subplots(figsize=(10,6))\n",
    "\n",
    "ax.plot(bins[1:], snowy_sublimation_freq_22.values, label=f\"2022: {(100*snowy_sublimation_22['sublimation'].sum()/w22_kp_sail['sublimation'].sum()):.0f}% of 2022 Sublimation\", color='blue',lw=2, ls='--')\n",
    "ax.plot(bins[1:], snowy_sublimation_freq_23.values, label=f\"2023: {(100*snowy_sublimation_23['sublimation_1H'].sum()/sublimation_1H['sublimation_1H'].sum()):.0f}% of 2023 Sublimation\", color='blue',lw=2)\n",
    "ax.legend(fontsize=18)\n",
    "ax.axhline(0, color='black', lw=2)\n",
    "ax.set_xlabel('Sublimation Rate (mm/hour)', size=18)\n",
    "ax.set_ylabel('Frequency x Sublimation Rate (mm)', size=18)\n",
    "# increase tick label size on x and y axes\n",
    "ax.tick_params(axis='x', labelsize=18)\n",
    "ax.tick_params(axis='y', labelsize=18)\n",
    "ax.set_title('Sublimation Frequencies During snowy and Windy Conditions', size=20)\n",
    "ax.set_xlim(-0.1,0.2)\n",
    "ax.set_ylim(-0.5,5)"
   ]
  },
  {
   "cell_type": "code",
   "execution_count": 15,
   "metadata": {},
   "outputs": [
    {
     "data": {
      "application/vnd.plotly.v1+json": {
       "config": {
        "plotlyServerURL": "https://plot.ly"
       },
       "data": [
        {
         "marker": {
          "color": "blue"
         },
         "name": "snowy and Windy",
         "offsetgroup": "0",
         "type": "bar",
         "x": [
          2022
         ],
         "y": [
          548
         ]
        },
        {
         "base": 548,
         "marker": {
          "color": "red"
         },
         "name": "snowy and Calm",
         "offsetgroup": "1",
         "type": "bar",
         "x": [
          2022
         ],
         "y": [
          299
         ]
        },
        {
         "base": 847,
         "marker": {
          "color": "green"
         },
         "name": "Dry and Windy",
         "offsetgroup": "2",
         "type": "bar",
         "x": [
          2022
         ],
         "y": [
          1009
         ]
        },
        {
         "base": 1856,
         "marker": {
          "color": "orange"
         },
         "name": "Dry and Calm",
         "offsetgroup": "3",
         "type": "bar",
         "x": [
          2022
         ],
         "y": [
          1010
         ]
        },
        {
         "base": 2866,
         "marker": {
          "color": "gray"
         },
         "name": "No Data",
         "offsetgroup": "4",
         "type": "bar",
         "x": [
          2022
         ],
         "y": [
          38
         ]
        },
        {
         "marker": {
          "color": "blue"
         },
         "offsetgroup": "0",
         "showlegend": false,
         "type": "bar",
         "x": [
          2023
         ],
         "y": [
          1043
         ]
        },
        {
         "base": 1043,
         "marker": {
          "color": "red"
         },
         "offsetgroup": "1",
         "showlegend": false,
         "type": "bar",
         "x": [
          2023
         ],
         "y": [
          690
         ]
        },
        {
         "base": 1733,
         "marker": {
          "color": "green"
         },
         "offsetgroup": "2",
         "showlegend": false,
         "type": "bar",
         "x": [
          2023
         ],
         "y": [
          516
         ]
        },
        {
         "base": 2249,
         "marker": {
          "color": "orange"
         },
         "offsetgroup": "3",
         "showlegend": false,
         "type": "bar",
         "x": [
          2023
         ],
         "y": [
          502
         ]
        },
        {
         "base": 2751,
         "marker": {
          "color": "gray"
         },
         "offsetgroup": "4",
         "showlegend": false,
         "type": "bar",
         "x": [
          2023
         ],
         "y": [
          153
         ]
        }
       ],
       "layout": {
        "barmode": "stack",
        "height": 600,
        "showlegend": true,
        "template": {
         "data": {
          "bar": [
           {
            "error_x": {
             "color": "#2a3f5f"
            },
            "error_y": {
             "color": "#2a3f5f"
            },
            "marker": {
             "line": {
              "color": "#E5ECF6",
              "width": 0.5
             },
             "pattern": {
              "fillmode": "overlay",
              "size": 10,
              "solidity": 0.2
             }
            },
            "type": "bar"
           }
          ],
          "barpolar": [
           {
            "marker": {
             "line": {
              "color": "#E5ECF6",
              "width": 0.5
             },
             "pattern": {
              "fillmode": "overlay",
              "size": 10,
              "solidity": 0.2
             }
            },
            "type": "barpolar"
           }
          ],
          "carpet": [
           {
            "aaxis": {
             "endlinecolor": "#2a3f5f",
             "gridcolor": "white",
             "linecolor": "white",
             "minorgridcolor": "white",
             "startlinecolor": "#2a3f5f"
            },
            "baxis": {
             "endlinecolor": "#2a3f5f",
             "gridcolor": "white",
             "linecolor": "white",
             "minorgridcolor": "white",
             "startlinecolor": "#2a3f5f"
            },
            "type": "carpet"
           }
          ],
          "choropleth": [
           {
            "colorbar": {
             "outlinewidth": 0,
             "ticks": ""
            },
            "type": "choropleth"
           }
          ],
          "contour": [
           {
            "colorbar": {
             "outlinewidth": 0,
             "ticks": ""
            },
            "colorscale": [
             [
              0,
              "#0d0887"
             ],
             [
              0.1111111111111111,
              "#46039f"
             ],
             [
              0.2222222222222222,
              "#7201a8"
             ],
             [
              0.3333333333333333,
              "#9c179e"
             ],
             [
              0.4444444444444444,
              "#bd3786"
             ],
             [
              0.5555555555555556,
              "#d8576b"
             ],
             [
              0.6666666666666666,
              "#ed7953"
             ],
             [
              0.7777777777777778,
              "#fb9f3a"
             ],
             [
              0.8888888888888888,
              "#fdca26"
             ],
             [
              1,
              "#f0f921"
             ]
            ],
            "type": "contour"
           }
          ],
          "contourcarpet": [
           {
            "colorbar": {
             "outlinewidth": 0,
             "ticks": ""
            },
            "type": "contourcarpet"
           }
          ],
          "heatmap": [
           {
            "colorbar": {
             "outlinewidth": 0,
             "ticks": ""
            },
            "colorscale": [
             [
              0,
              "#0d0887"
             ],
             [
              0.1111111111111111,
              "#46039f"
             ],
             [
              0.2222222222222222,
              "#7201a8"
             ],
             [
              0.3333333333333333,
              "#9c179e"
             ],
             [
              0.4444444444444444,
              "#bd3786"
             ],
             [
              0.5555555555555556,
              "#d8576b"
             ],
             [
              0.6666666666666666,
              "#ed7953"
             ],
             [
              0.7777777777777778,
              "#fb9f3a"
             ],
             [
              0.8888888888888888,
              "#fdca26"
             ],
             [
              1,
              "#f0f921"
             ]
            ],
            "type": "heatmap"
           }
          ],
          "heatmapgl": [
           {
            "colorbar": {
             "outlinewidth": 0,
             "ticks": ""
            },
            "colorscale": [
             [
              0,
              "#0d0887"
             ],
             [
              0.1111111111111111,
              "#46039f"
             ],
             [
              0.2222222222222222,
              "#7201a8"
             ],
             [
              0.3333333333333333,
              "#9c179e"
             ],
             [
              0.4444444444444444,
              "#bd3786"
             ],
             [
              0.5555555555555556,
              "#d8576b"
             ],
             [
              0.6666666666666666,
              "#ed7953"
             ],
             [
              0.7777777777777778,
              "#fb9f3a"
             ],
             [
              0.8888888888888888,
              "#fdca26"
             ],
             [
              1,
              "#f0f921"
             ]
            ],
            "type": "heatmapgl"
           }
          ],
          "histogram": [
           {
            "marker": {
             "pattern": {
              "fillmode": "overlay",
              "size": 10,
              "solidity": 0.2
             }
            },
            "type": "histogram"
           }
          ],
          "histogram2d": [
           {
            "colorbar": {
             "outlinewidth": 0,
             "ticks": ""
            },
            "colorscale": [
             [
              0,
              "#0d0887"
             ],
             [
              0.1111111111111111,
              "#46039f"
             ],
             [
              0.2222222222222222,
              "#7201a8"
             ],
             [
              0.3333333333333333,
              "#9c179e"
             ],
             [
              0.4444444444444444,
              "#bd3786"
             ],
             [
              0.5555555555555556,
              "#d8576b"
             ],
             [
              0.6666666666666666,
              "#ed7953"
             ],
             [
              0.7777777777777778,
              "#fb9f3a"
             ],
             [
              0.8888888888888888,
              "#fdca26"
             ],
             [
              1,
              "#f0f921"
             ]
            ],
            "type": "histogram2d"
           }
          ],
          "histogram2dcontour": [
           {
            "colorbar": {
             "outlinewidth": 0,
             "ticks": ""
            },
            "colorscale": [
             [
              0,
              "#0d0887"
             ],
             [
              0.1111111111111111,
              "#46039f"
             ],
             [
              0.2222222222222222,
              "#7201a8"
             ],
             [
              0.3333333333333333,
              "#9c179e"
             ],
             [
              0.4444444444444444,
              "#bd3786"
             ],
             [
              0.5555555555555556,
              "#d8576b"
             ],
             [
              0.6666666666666666,
              "#ed7953"
             ],
             [
              0.7777777777777778,
              "#fb9f3a"
             ],
             [
              0.8888888888888888,
              "#fdca26"
             ],
             [
              1,
              "#f0f921"
             ]
            ],
            "type": "histogram2dcontour"
           }
          ],
          "mesh3d": [
           {
            "colorbar": {
             "outlinewidth": 0,
             "ticks": ""
            },
            "type": "mesh3d"
           }
          ],
          "parcoords": [
           {
            "line": {
             "colorbar": {
              "outlinewidth": 0,
              "ticks": ""
             }
            },
            "type": "parcoords"
           }
          ],
          "pie": [
           {
            "automargin": true,
            "type": "pie"
           }
          ],
          "scatter": [
           {
            "fillpattern": {
             "fillmode": "overlay",
             "size": 10,
             "solidity": 0.2
            },
            "type": "scatter"
           }
          ],
          "scatter3d": [
           {
            "line": {
             "colorbar": {
              "outlinewidth": 0,
              "ticks": ""
             }
            },
            "marker": {
             "colorbar": {
              "outlinewidth": 0,
              "ticks": ""
             }
            },
            "type": "scatter3d"
           }
          ],
          "scattercarpet": [
           {
            "marker": {
             "colorbar": {
              "outlinewidth": 0,
              "ticks": ""
             }
            },
            "type": "scattercarpet"
           }
          ],
          "scattergeo": [
           {
            "marker": {
             "colorbar": {
              "outlinewidth": 0,
              "ticks": ""
             }
            },
            "type": "scattergeo"
           }
          ],
          "scattergl": [
           {
            "marker": {
             "colorbar": {
              "outlinewidth": 0,
              "ticks": ""
             }
            },
            "type": "scattergl"
           }
          ],
          "scattermapbox": [
           {
            "marker": {
             "colorbar": {
              "outlinewidth": 0,
              "ticks": ""
             }
            },
            "type": "scattermapbox"
           }
          ],
          "scatterpolar": [
           {
            "marker": {
             "colorbar": {
              "outlinewidth": 0,
              "ticks": ""
             }
            },
            "type": "scatterpolar"
           }
          ],
          "scatterpolargl": [
           {
            "marker": {
             "colorbar": {
              "outlinewidth": 0,
              "ticks": ""
             }
            },
            "type": "scatterpolargl"
           }
          ],
          "scatterternary": [
           {
            "marker": {
             "colorbar": {
              "outlinewidth": 0,
              "ticks": ""
             }
            },
            "type": "scatterternary"
           }
          ],
          "surface": [
           {
            "colorbar": {
             "outlinewidth": 0,
             "ticks": ""
            },
            "colorscale": [
             [
              0,
              "#0d0887"
             ],
             [
              0.1111111111111111,
              "#46039f"
             ],
             [
              0.2222222222222222,
              "#7201a8"
             ],
             [
              0.3333333333333333,
              "#9c179e"
             ],
             [
              0.4444444444444444,
              "#bd3786"
             ],
             [
              0.5555555555555556,
              "#d8576b"
             ],
             [
              0.6666666666666666,
              "#ed7953"
             ],
             [
              0.7777777777777778,
              "#fb9f3a"
             ],
             [
              0.8888888888888888,
              "#fdca26"
             ],
             [
              1,
              "#f0f921"
             ]
            ],
            "type": "surface"
           }
          ],
          "table": [
           {
            "cells": {
             "fill": {
              "color": "#EBF0F8"
             },
             "line": {
              "color": "white"
             }
            },
            "header": {
             "fill": {
              "color": "#C8D4E3"
             },
             "line": {
              "color": "white"
             }
            },
            "type": "table"
           }
          ]
         },
         "layout": {
          "annotationdefaults": {
           "arrowcolor": "#2a3f5f",
           "arrowhead": 0,
           "arrowwidth": 1
          },
          "autotypenumbers": "strict",
          "coloraxis": {
           "colorbar": {
            "outlinewidth": 0,
            "ticks": ""
           }
          },
          "colorscale": {
           "diverging": [
            [
             0,
             "#8e0152"
            ],
            [
             0.1,
             "#c51b7d"
            ],
            [
             0.2,
             "#de77ae"
            ],
            [
             0.3,
             "#f1b6da"
            ],
            [
             0.4,
             "#fde0ef"
            ],
            [
             0.5,
             "#f7f7f7"
            ],
            [
             0.6,
             "#e6f5d0"
            ],
            [
             0.7,
             "#b8e186"
            ],
            [
             0.8,
             "#7fbc41"
            ],
            [
             0.9,
             "#4d9221"
            ],
            [
             1,
             "#276419"
            ]
           ],
           "sequential": [
            [
             0,
             "#0d0887"
            ],
            [
             0.1111111111111111,
             "#46039f"
            ],
            [
             0.2222222222222222,
             "#7201a8"
            ],
            [
             0.3333333333333333,
             "#9c179e"
            ],
            [
             0.4444444444444444,
             "#bd3786"
            ],
            [
             0.5555555555555556,
             "#d8576b"
            ],
            [
             0.6666666666666666,
             "#ed7953"
            ],
            [
             0.7777777777777778,
             "#fb9f3a"
            ],
            [
             0.8888888888888888,
             "#fdca26"
            ],
            [
             1,
             "#f0f921"
            ]
           ],
           "sequentialminus": [
            [
             0,
             "#0d0887"
            ],
            [
             0.1111111111111111,
             "#46039f"
            ],
            [
             0.2222222222222222,
             "#7201a8"
            ],
            [
             0.3333333333333333,
             "#9c179e"
            ],
            [
             0.4444444444444444,
             "#bd3786"
            ],
            [
             0.5555555555555556,
             "#d8576b"
            ],
            [
             0.6666666666666666,
             "#ed7953"
            ],
            [
             0.7777777777777778,
             "#fb9f3a"
            ],
            [
             0.8888888888888888,
             "#fdca26"
            ],
            [
             1,
             "#f0f921"
            ]
           ]
          },
          "colorway": [
           "#636efa",
           "#EF553B",
           "#00cc96",
           "#ab63fa",
           "#FFA15A",
           "#19d3f3",
           "#FF6692",
           "#B6E880",
           "#FF97FF",
           "#FECB52"
          ],
          "font": {
           "color": "#2a3f5f"
          },
          "geo": {
           "bgcolor": "white",
           "lakecolor": "white",
           "landcolor": "#E5ECF6",
           "showlakes": true,
           "showland": true,
           "subunitcolor": "white"
          },
          "hoverlabel": {
           "align": "left"
          },
          "hovermode": "closest",
          "mapbox": {
           "style": "light"
          },
          "paper_bgcolor": "white",
          "plot_bgcolor": "#E5ECF6",
          "polar": {
           "angularaxis": {
            "gridcolor": "white",
            "linecolor": "white",
            "ticks": ""
           },
           "bgcolor": "#E5ECF6",
           "radialaxis": {
            "gridcolor": "white",
            "linecolor": "white",
            "ticks": ""
           }
          },
          "scene": {
           "xaxis": {
            "backgroundcolor": "#E5ECF6",
            "gridcolor": "white",
            "gridwidth": 2,
            "linecolor": "white",
            "showbackground": true,
            "ticks": "",
            "zerolinecolor": "white"
           },
           "yaxis": {
            "backgroundcolor": "#E5ECF6",
            "gridcolor": "white",
            "gridwidth": 2,
            "linecolor": "white",
            "showbackground": true,
            "ticks": "",
            "zerolinecolor": "white"
           },
           "zaxis": {
            "backgroundcolor": "#E5ECF6",
            "gridcolor": "white",
            "gridwidth": 2,
            "linecolor": "white",
            "showbackground": true,
            "ticks": "",
            "zerolinecolor": "white"
           }
          },
          "shapedefaults": {
           "line": {
            "color": "#2a3f5f"
           }
          },
          "ternary": {
           "aaxis": {
            "gridcolor": "white",
            "linecolor": "white",
            "ticks": ""
           },
           "baxis": {
            "gridcolor": "white",
            "linecolor": "white",
            "ticks": ""
           },
           "bgcolor": "#E5ECF6",
           "caxis": {
            "gridcolor": "white",
            "linecolor": "white",
            "ticks": ""
           }
          },
          "title": {
           "x": 0.05
          },
          "xaxis": {
           "automargin": true,
           "gridcolor": "white",
           "linecolor": "white",
           "ticks": "",
           "title": {
            "standoff": 15
           },
           "zerolinecolor": "white",
           "zerolinewidth": 2
          },
          "yaxis": {
           "automargin": true,
           "gridcolor": "white",
           "linecolor": "white",
           "ticks": "",
           "title": {
            "standoff": 15
           },
           "zerolinecolor": "white",
           "zerolinewidth": 2
          }
         }
        },
        "width": 800,
        "xaxis": {
         "tickvals": [
          2022,
          2023
         ],
         "title": {
          "text": "Year"
         }
        },
        "yaxis": {
         "title": {
          "text": "Frequency (hours)"
         }
        }
       }
      },
      "text/html": [
       "<div>                            <div id=\"7776e09c-b461-42b5-9721-99621b859782\" class=\"plotly-graph-div\" style=\"height:600px; width:800px;\"></div>            <script type=\"text/javascript\">                require([\"plotly\"], function(Plotly) {                    window.PLOTLYENV=window.PLOTLYENV || {};                                    if (document.getElementById(\"7776e09c-b461-42b5-9721-99621b859782\")) {                    Plotly.newPlot(                        \"7776e09c-b461-42b5-9721-99621b859782\",                        [{\"marker\":{\"color\":\"blue\"},\"name\":\"snowy and Windy\",\"offsetgroup\":\"0\",\"x\":[2022],\"y\":[548],\"type\":\"bar\"},{\"base\":548,\"marker\":{\"color\":\"red\"},\"name\":\"snowy and Calm\",\"offsetgroup\":\"1\",\"x\":[2022],\"y\":[299],\"type\":\"bar\"},{\"base\":847,\"marker\":{\"color\":\"green\"},\"name\":\"Dry and Windy\",\"offsetgroup\":\"2\",\"x\":[2022],\"y\":[1009],\"type\":\"bar\"},{\"base\":1856,\"marker\":{\"color\":\"orange\"},\"name\":\"Dry and Calm\",\"offsetgroup\":\"3\",\"x\":[2022],\"y\":[1010],\"type\":\"bar\"},{\"base\":2866,\"marker\":{\"color\":\"gray\"},\"name\":\"No Data\",\"offsetgroup\":\"4\",\"x\":[2022],\"y\":[38],\"type\":\"bar\"},{\"marker\":{\"color\":\"blue\"},\"offsetgroup\":\"0\",\"showlegend\":false,\"x\":[2023],\"y\":[1043],\"type\":\"bar\"},{\"base\":1043,\"marker\":{\"color\":\"red\"},\"offsetgroup\":\"1\",\"showlegend\":false,\"x\":[2023],\"y\":[690],\"type\":\"bar\"},{\"base\":1733,\"marker\":{\"color\":\"green\"},\"offsetgroup\":\"2\",\"showlegend\":false,\"x\":[2023],\"y\":[516],\"type\":\"bar\"},{\"base\":2249,\"marker\":{\"color\":\"orange\"},\"offsetgroup\":\"3\",\"showlegend\":false,\"x\":[2023],\"y\":[502],\"type\":\"bar\"},{\"base\":2751,\"marker\":{\"color\":\"gray\"},\"offsetgroup\":\"4\",\"showlegend\":false,\"x\":[2023],\"y\":[153],\"type\":\"bar\"}],                        {\"template\":{\"data\":{\"histogram2dcontour\":[{\"type\":\"histogram2dcontour\",\"colorbar\":{\"outlinewidth\":0,\"ticks\":\"\"},\"colorscale\":[[0.0,\"#0d0887\"],[0.1111111111111111,\"#46039f\"],[0.2222222222222222,\"#7201a8\"],[0.3333333333333333,\"#9c179e\"],[0.4444444444444444,\"#bd3786\"],[0.5555555555555556,\"#d8576b\"],[0.6666666666666666,\"#ed7953\"],[0.7777777777777778,\"#fb9f3a\"],[0.8888888888888888,\"#fdca26\"],[1.0,\"#f0f921\"]]}],\"choropleth\":[{\"type\":\"choropleth\",\"colorbar\":{\"outlinewidth\":0,\"ticks\":\"\"}}],\"histogram2d\":[{\"type\":\"histogram2d\",\"colorbar\":{\"outlinewidth\":0,\"ticks\":\"\"},\"colorscale\":[[0.0,\"#0d0887\"],[0.1111111111111111,\"#46039f\"],[0.2222222222222222,\"#7201a8\"],[0.3333333333333333,\"#9c179e\"],[0.4444444444444444,\"#bd3786\"],[0.5555555555555556,\"#d8576b\"],[0.6666666666666666,\"#ed7953\"],[0.7777777777777778,\"#fb9f3a\"],[0.8888888888888888,\"#fdca26\"],[1.0,\"#f0f921\"]]}],\"heatmap\":[{\"type\":\"heatmap\",\"colorbar\":{\"outlinewidth\":0,\"ticks\":\"\"},\"colorscale\":[[0.0,\"#0d0887\"],[0.1111111111111111,\"#46039f\"],[0.2222222222222222,\"#7201a8\"],[0.3333333333333333,\"#9c179e\"],[0.4444444444444444,\"#bd3786\"],[0.5555555555555556,\"#d8576b\"],[0.6666666666666666,\"#ed7953\"],[0.7777777777777778,\"#fb9f3a\"],[0.8888888888888888,\"#fdca26\"],[1.0,\"#f0f921\"]]}],\"heatmapgl\":[{\"type\":\"heatmapgl\",\"colorbar\":{\"outlinewidth\":0,\"ticks\":\"\"},\"colorscale\":[[0.0,\"#0d0887\"],[0.1111111111111111,\"#46039f\"],[0.2222222222222222,\"#7201a8\"],[0.3333333333333333,\"#9c179e\"],[0.4444444444444444,\"#bd3786\"],[0.5555555555555556,\"#d8576b\"],[0.6666666666666666,\"#ed7953\"],[0.7777777777777778,\"#fb9f3a\"],[0.8888888888888888,\"#fdca26\"],[1.0,\"#f0f921\"]]}],\"contourcarpet\":[{\"type\":\"contourcarpet\",\"colorbar\":{\"outlinewidth\":0,\"ticks\":\"\"}}],\"contour\":[{\"type\":\"contour\",\"colorbar\":{\"outlinewidth\":0,\"ticks\":\"\"},\"colorscale\":[[0.0,\"#0d0887\"],[0.1111111111111111,\"#46039f\"],[0.2222222222222222,\"#7201a8\"],[0.3333333333333333,\"#9c179e\"],[0.4444444444444444,\"#bd3786\"],[0.5555555555555556,\"#d8576b\"],[0.6666666666666666,\"#ed7953\"],[0.7777777777777778,\"#fb9f3a\"],[0.8888888888888888,\"#fdca26\"],[1.0,\"#f0f921\"]]}],\"surface\":[{\"type\":\"surface\",\"colorbar\":{\"outlinewidth\":0,\"ticks\":\"\"},\"colorscale\":[[0.0,\"#0d0887\"],[0.1111111111111111,\"#46039f\"],[0.2222222222222222,\"#7201a8\"],[0.3333333333333333,\"#9c179e\"],[0.4444444444444444,\"#bd3786\"],[0.5555555555555556,\"#d8576b\"],[0.6666666666666666,\"#ed7953\"],[0.7777777777777778,\"#fb9f3a\"],[0.8888888888888888,\"#fdca26\"],[1.0,\"#f0f921\"]]}],\"mesh3d\":[{\"type\":\"mesh3d\",\"colorbar\":{\"outlinewidth\":0,\"ticks\":\"\"}}],\"scatter\":[{\"fillpattern\":{\"fillmode\":\"overlay\",\"size\":10,\"solidity\":0.2},\"type\":\"scatter\"}],\"parcoords\":[{\"type\":\"parcoords\",\"line\":{\"colorbar\":{\"outlinewidth\":0,\"ticks\":\"\"}}}],\"scatterpolargl\":[{\"type\":\"scatterpolargl\",\"marker\":{\"colorbar\":{\"outlinewidth\":0,\"ticks\":\"\"}}}],\"bar\":[{\"error_x\":{\"color\":\"#2a3f5f\"},\"error_y\":{\"color\":\"#2a3f5f\"},\"marker\":{\"line\":{\"color\":\"#E5ECF6\",\"width\":0.5},\"pattern\":{\"fillmode\":\"overlay\",\"size\":10,\"solidity\":0.2}},\"type\":\"bar\"}],\"scattergeo\":[{\"type\":\"scattergeo\",\"marker\":{\"colorbar\":{\"outlinewidth\":0,\"ticks\":\"\"}}}],\"scatterpolar\":[{\"type\":\"scatterpolar\",\"marker\":{\"colorbar\":{\"outlinewidth\":0,\"ticks\":\"\"}}}],\"histogram\":[{\"marker\":{\"pattern\":{\"fillmode\":\"overlay\",\"size\":10,\"solidity\":0.2}},\"type\":\"histogram\"}],\"scattergl\":[{\"type\":\"scattergl\",\"marker\":{\"colorbar\":{\"outlinewidth\":0,\"ticks\":\"\"}}}],\"scatter3d\":[{\"type\":\"scatter3d\",\"line\":{\"colorbar\":{\"outlinewidth\":0,\"ticks\":\"\"}},\"marker\":{\"colorbar\":{\"outlinewidth\":0,\"ticks\":\"\"}}}],\"scattermapbox\":[{\"type\":\"scattermapbox\",\"marker\":{\"colorbar\":{\"outlinewidth\":0,\"ticks\":\"\"}}}],\"scatterternary\":[{\"type\":\"scatterternary\",\"marker\":{\"colorbar\":{\"outlinewidth\":0,\"ticks\":\"\"}}}],\"scattercarpet\":[{\"type\":\"scattercarpet\",\"marker\":{\"colorbar\":{\"outlinewidth\":0,\"ticks\":\"\"}}}],\"carpet\":[{\"aaxis\":{\"endlinecolor\":\"#2a3f5f\",\"gridcolor\":\"white\",\"linecolor\":\"white\",\"minorgridcolor\":\"white\",\"startlinecolor\":\"#2a3f5f\"},\"baxis\":{\"endlinecolor\":\"#2a3f5f\",\"gridcolor\":\"white\",\"linecolor\":\"white\",\"minorgridcolor\":\"white\",\"startlinecolor\":\"#2a3f5f\"},\"type\":\"carpet\"}],\"table\":[{\"cells\":{\"fill\":{\"color\":\"#EBF0F8\"},\"line\":{\"color\":\"white\"}},\"header\":{\"fill\":{\"color\":\"#C8D4E3\"},\"line\":{\"color\":\"white\"}},\"type\":\"table\"}],\"barpolar\":[{\"marker\":{\"line\":{\"color\":\"#E5ECF6\",\"width\":0.5},\"pattern\":{\"fillmode\":\"overlay\",\"size\":10,\"solidity\":0.2}},\"type\":\"barpolar\"}],\"pie\":[{\"automargin\":true,\"type\":\"pie\"}]},\"layout\":{\"autotypenumbers\":\"strict\",\"colorway\":[\"#636efa\",\"#EF553B\",\"#00cc96\",\"#ab63fa\",\"#FFA15A\",\"#19d3f3\",\"#FF6692\",\"#B6E880\",\"#FF97FF\",\"#FECB52\"],\"font\":{\"color\":\"#2a3f5f\"},\"hovermode\":\"closest\",\"hoverlabel\":{\"align\":\"left\"},\"paper_bgcolor\":\"white\",\"plot_bgcolor\":\"#E5ECF6\",\"polar\":{\"bgcolor\":\"#E5ECF6\",\"angularaxis\":{\"gridcolor\":\"white\",\"linecolor\":\"white\",\"ticks\":\"\"},\"radialaxis\":{\"gridcolor\":\"white\",\"linecolor\":\"white\",\"ticks\":\"\"}},\"ternary\":{\"bgcolor\":\"#E5ECF6\",\"aaxis\":{\"gridcolor\":\"white\",\"linecolor\":\"white\",\"ticks\":\"\"},\"baxis\":{\"gridcolor\":\"white\",\"linecolor\":\"white\",\"ticks\":\"\"},\"caxis\":{\"gridcolor\":\"white\",\"linecolor\":\"white\",\"ticks\":\"\"}},\"coloraxis\":{\"colorbar\":{\"outlinewidth\":0,\"ticks\":\"\"}},\"colorscale\":{\"sequential\":[[0.0,\"#0d0887\"],[0.1111111111111111,\"#46039f\"],[0.2222222222222222,\"#7201a8\"],[0.3333333333333333,\"#9c179e\"],[0.4444444444444444,\"#bd3786\"],[0.5555555555555556,\"#d8576b\"],[0.6666666666666666,\"#ed7953\"],[0.7777777777777778,\"#fb9f3a\"],[0.8888888888888888,\"#fdca26\"],[1.0,\"#f0f921\"]],\"sequentialminus\":[[0.0,\"#0d0887\"],[0.1111111111111111,\"#46039f\"],[0.2222222222222222,\"#7201a8\"],[0.3333333333333333,\"#9c179e\"],[0.4444444444444444,\"#bd3786\"],[0.5555555555555556,\"#d8576b\"],[0.6666666666666666,\"#ed7953\"],[0.7777777777777778,\"#fb9f3a\"],[0.8888888888888888,\"#fdca26\"],[1.0,\"#f0f921\"]],\"diverging\":[[0,\"#8e0152\"],[0.1,\"#c51b7d\"],[0.2,\"#de77ae\"],[0.3,\"#f1b6da\"],[0.4,\"#fde0ef\"],[0.5,\"#f7f7f7\"],[0.6,\"#e6f5d0\"],[0.7,\"#b8e186\"],[0.8,\"#7fbc41\"],[0.9,\"#4d9221\"],[1,\"#276419\"]]},\"xaxis\":{\"gridcolor\":\"white\",\"linecolor\":\"white\",\"ticks\":\"\",\"title\":{\"standoff\":15},\"zerolinecolor\":\"white\",\"automargin\":true,\"zerolinewidth\":2},\"yaxis\":{\"gridcolor\":\"white\",\"linecolor\":\"white\",\"ticks\":\"\",\"title\":{\"standoff\":15},\"zerolinecolor\":\"white\",\"automargin\":true,\"zerolinewidth\":2},\"scene\":{\"xaxis\":{\"backgroundcolor\":\"#E5ECF6\",\"gridcolor\":\"white\",\"linecolor\":\"white\",\"showbackground\":true,\"ticks\":\"\",\"zerolinecolor\":\"white\",\"gridwidth\":2},\"yaxis\":{\"backgroundcolor\":\"#E5ECF6\",\"gridcolor\":\"white\",\"linecolor\":\"white\",\"showbackground\":true,\"ticks\":\"\",\"zerolinecolor\":\"white\",\"gridwidth\":2},\"zaxis\":{\"backgroundcolor\":\"#E5ECF6\",\"gridcolor\":\"white\",\"linecolor\":\"white\",\"showbackground\":true,\"ticks\":\"\",\"zerolinecolor\":\"white\",\"gridwidth\":2}},\"shapedefaults\":{\"line\":{\"color\":\"#2a3f5f\"}},\"annotationdefaults\":{\"arrowcolor\":\"#2a3f5f\",\"arrowhead\":0,\"arrowwidth\":1},\"geo\":{\"bgcolor\":\"white\",\"landcolor\":\"#E5ECF6\",\"subunitcolor\":\"white\",\"showland\":true,\"showlakes\":true,\"lakecolor\":\"white\"},\"title\":{\"x\":0.05},\"mapbox\":{\"style\":\"light\"}}},\"barmode\":\"stack\",\"xaxis\":{\"title\":{\"text\":\"Year\"},\"tickvals\":[2022,2023]},\"yaxis\":{\"title\":{\"text\":\"Frequency (hours)\"}},\"showlegend\":true,\"height\":600,\"width\":800},                        {\"responsive\": true}                    ).then(function(){\n",
       "                            \n",
       "var gd = document.getElementById('7776e09c-b461-42b5-9721-99621b859782');\n",
       "var x = new MutationObserver(function (mutations, observer) {{\n",
       "        var display = window.getComputedStyle(gd).display;\n",
       "        if (!display || display === 'none') {{\n",
       "            console.log([gd, 'removed!']);\n",
       "            Plotly.purge(gd);\n",
       "            observer.disconnect();\n",
       "        }}\n",
       "}});\n",
       "\n",
       "// Listen for the removal of the full notebook cells\n",
       "var notebookContainer = gd.closest('#notebook-container');\n",
       "if (notebookContainer) {{\n",
       "    x.observe(notebookContainer, {childList: true});\n",
       "}}\n",
       "\n",
       "// Listen for the clearing of the current output cell\n",
       "var outputEl = gd.closest('.output');\n",
       "if (outputEl) {{\n",
       "    x.observe(outputEl, {childList: true});\n",
       "}}\n",
       "\n",
       "                        })                };                });            </script>        </div>"
      ]
     },
     "metadata": {},
     "output_type": "display_data"
    }
   ],
   "source": [
    "# make two stacked bar plots with the number of hours in each category for each year\n",
    "fig = go.Figure()\n",
    "\n",
    "fig.add_trace(go.Bar(x=[2022], y=[snowy_sublimation_22.shape[0]], offsetgroup=0, name='snowy and Windy', marker_color='blue'))\n",
    "fig.add_trace(go.Bar(x=[2022], y=[snowy_calm_sublimation_22.shape[0]], offsetgroup=1, name='snowy and Calm', marker_color='red', base=snowy_sublimation_22.shape[0]))\n",
    "fig.add_trace(go.Bar(x=[2022], y=[dry_windy_sublimation_22.shape[0]], offsetgroup=2, name='Dry and Windy', marker_color='green', base=snowy_sublimation_22.shape[0]+snowy_calm_sublimation_22.shape[0]))\n",
    "fig.add_trace(go.Bar(x=[2022], y=[dry_calm_sublimation_22.shape[0]], offsetgroup=3, name='Dry and Calm', marker_color='orange', base=snowy_sublimation_22.shape[0]+snowy_calm_sublimation_22.shape[0]+dry_windy_sublimation_22.shape[0]))\n",
    "# fill the remainder up to 2904 as a nan value\n",
    "fig.add_trace(go.Bar(x=[2022], y=[2904-snowy_sublimation_22.shape[0]-snowy_calm_sublimation_22.shape[0]-dry_windy_sublimation_22.shape[0]-dry_calm_sublimation_22.shape[0]],\n",
    "                        offsetgroup=4,\n",
    "                        name='No Data',\n",
    "                        marker_color='gray',\n",
    "                        base=snowy_sublimation_22.shape[0]+snowy_calm_sublimation_22.shape[0]+dry_windy_sublimation_22.shape[0]+dry_calm_sublimation_22.shape[0]))\n",
    "\n",
    "fig.add_trace(go.Bar(x=[2023], y=[snowy_sublimation_23.shape[0]], offsetgroup=0, showlegend=False, marker_color='blue'))\n",
    "fig.add_trace(go.Bar(x=[2023], y=[snowy_calm_sublimation_23.shape[0]], offsetgroup=1, showlegend=False, marker_color='red', base=snowy_sublimation_23.shape[0]))\n",
    "fig.add_trace(go.Bar(x=[2023], y=[dry_windy_sublimation_23.shape[0]], offsetgroup=2, showlegend=False, marker_color='green', base=snowy_sublimation_23.shape[0]+snowy_calm_sublimation_23.shape[0]))\n",
    "fig.add_trace(go.Bar(x=[2023], y=[dry_calm_sublimation_23.shape[0]], offsetgroup=3, showlegend=False, marker_color='orange', base=snowy_sublimation_23.shape[0]+snowy_calm_sublimation_23.shape[0]+dry_windy_sublimation_23.shape[0]))\n",
    "# fill the remainder up to 2904 as a nan value\n",
    "fig.add_trace(go.Bar(x=[2023], y=[2904-snowy_sublimation_23.shape[0]-snowy_calm_sublimation_23.shape[0]-dry_windy_sublimation_23.shape[0]-dry_calm_sublimation_23.shape[0]], \n",
    "                     offsetgroup=4, \n",
    "                     showlegend=False, \n",
    "                     marker_color='gray',\n",
    "                    base=snowy_sublimation_23.shape[0]+snowy_calm_sublimation_23.shape[0]+dry_windy_sublimation_23.shape[0]+dry_calm_sublimation_23.shape[0]))\n",
    "\n",
    "fig.update_layout(barmode='stack', xaxis_title='Year', \n",
    "                  yaxis_title='Frequency (hours)', \n",
    "                  showlegend=True,\n",
    "                  height=600, width=800,)\n",
    "# make the x axis ticks just the years\n",
    "fig.update_xaxes(tickvals=[2022,2023])\n"
   ]
  },
  {
   "cell_type": "code",
   "execution_count": 16,
   "metadata": {},
   "outputs": [
    {
     "data": {
      "application/vnd.plotly.v1+json": {
       "config": {
        "plotlyServerURL": "https://plot.ly"
       },
       "data": [
        {
         "marker": {
          "color": "blue"
         },
         "name": "snowy and Windy",
         "offsetgroup": "0",
         "type": "bar",
         "x": [
          2022
         ],
         "y": [
          548
         ]
        },
        {
         "marker": {
          "color": "red"
         },
         "name": "snowy and Calm",
         "offsetgroup": "1",
         "type": "bar",
         "x": [
          2022
         ],
         "y": [
          299
         ]
        },
        {
         "marker": {
          "color": "green"
         },
         "name": "Dry and Windy",
         "offsetgroup": "2",
         "type": "bar",
         "x": [
          2022
         ],
         "y": [
          1009
         ]
        },
        {
         "marker": {
          "color": "orange"
         },
         "name": "Dry and Calm",
         "offsetgroup": "3",
         "type": "bar",
         "x": [
          2022
         ],
         "y": [
          1010
         ]
        },
        {
         "marker": {
          "color": "blue"
         },
         "offsetgroup": "0",
         "showlegend": false,
         "type": "bar",
         "x": [
          2023
         ],
         "y": [
          1043
         ]
        },
        {
         "marker": {
          "color": "red"
         },
         "offsetgroup": "1",
         "showlegend": false,
         "type": "bar",
         "x": [
          2023
         ],
         "y": [
          690
         ]
        },
        {
         "marker": {
          "color": "green"
         },
         "offsetgroup": "2",
         "showlegend": false,
         "type": "bar",
         "x": [
          2023
         ],
         "y": [
          516
         ]
        },
        {
         "marker": {
          "color": "orange"
         },
         "offsetgroup": "3",
         "showlegend": false,
         "type": "bar",
         "x": [
          2023
         ],
         "y": [
          502
         ]
        },
        {
         "marker": {
          "color": "purple"
         },
         "name": "Sublimation",
         "offsetgroup": "4",
         "type": "bar",
         "x": [
          2022
         ],
         "y": [
          16.658428085040462
         ],
         "yaxis": "y2"
        },
        {
         "marker": {
          "color": "purple"
         },
         "offsetgroup": "4",
         "showlegend": false,
         "type": "bar",
         "x": [
          2023
         ],
         "y": [
          20.144449512886318
         ],
         "yaxis": "y2"
        }
       ],
       "layout": {
        "barmode": "group",
        "font": {
         "size": 18
        },
        "height": 600,
        "legend": {
         "orientation": "h",
         "x": 1,
         "xanchor": "right",
         "y": 1.02,
         "yanchor": "bottom"
        },
        "showlegend": true,
        "template": {
         "data": {
          "bar": [
           {
            "error_x": {
             "color": "#2a3f5f"
            },
            "error_y": {
             "color": "#2a3f5f"
            },
            "marker": {
             "line": {
              "color": "#E5ECF6",
              "width": 0.5
             },
             "pattern": {
              "fillmode": "overlay",
              "size": 10,
              "solidity": 0.2
             }
            },
            "type": "bar"
           }
          ],
          "barpolar": [
           {
            "marker": {
             "line": {
              "color": "#E5ECF6",
              "width": 0.5
             },
             "pattern": {
              "fillmode": "overlay",
              "size": 10,
              "solidity": 0.2
             }
            },
            "type": "barpolar"
           }
          ],
          "carpet": [
           {
            "aaxis": {
             "endlinecolor": "#2a3f5f",
             "gridcolor": "white",
             "linecolor": "white",
             "minorgridcolor": "white",
             "startlinecolor": "#2a3f5f"
            },
            "baxis": {
             "endlinecolor": "#2a3f5f",
             "gridcolor": "white",
             "linecolor": "white",
             "minorgridcolor": "white",
             "startlinecolor": "#2a3f5f"
            },
            "type": "carpet"
           }
          ],
          "choropleth": [
           {
            "colorbar": {
             "outlinewidth": 0,
             "ticks": ""
            },
            "type": "choropleth"
           }
          ],
          "contour": [
           {
            "colorbar": {
             "outlinewidth": 0,
             "ticks": ""
            },
            "colorscale": [
             [
              0,
              "#0d0887"
             ],
             [
              0.1111111111111111,
              "#46039f"
             ],
             [
              0.2222222222222222,
              "#7201a8"
             ],
             [
              0.3333333333333333,
              "#9c179e"
             ],
             [
              0.4444444444444444,
              "#bd3786"
             ],
             [
              0.5555555555555556,
              "#d8576b"
             ],
             [
              0.6666666666666666,
              "#ed7953"
             ],
             [
              0.7777777777777778,
              "#fb9f3a"
             ],
             [
              0.8888888888888888,
              "#fdca26"
             ],
             [
              1,
              "#f0f921"
             ]
            ],
            "type": "contour"
           }
          ],
          "contourcarpet": [
           {
            "colorbar": {
             "outlinewidth": 0,
             "ticks": ""
            },
            "type": "contourcarpet"
           }
          ],
          "heatmap": [
           {
            "colorbar": {
             "outlinewidth": 0,
             "ticks": ""
            },
            "colorscale": [
             [
              0,
              "#0d0887"
             ],
             [
              0.1111111111111111,
              "#46039f"
             ],
             [
              0.2222222222222222,
              "#7201a8"
             ],
             [
              0.3333333333333333,
              "#9c179e"
             ],
             [
              0.4444444444444444,
              "#bd3786"
             ],
             [
              0.5555555555555556,
              "#d8576b"
             ],
             [
              0.6666666666666666,
              "#ed7953"
             ],
             [
              0.7777777777777778,
              "#fb9f3a"
             ],
             [
              0.8888888888888888,
              "#fdca26"
             ],
             [
              1,
              "#f0f921"
             ]
            ],
            "type": "heatmap"
           }
          ],
          "heatmapgl": [
           {
            "colorbar": {
             "outlinewidth": 0,
             "ticks": ""
            },
            "colorscale": [
             [
              0,
              "#0d0887"
             ],
             [
              0.1111111111111111,
              "#46039f"
             ],
             [
              0.2222222222222222,
              "#7201a8"
             ],
             [
              0.3333333333333333,
              "#9c179e"
             ],
             [
              0.4444444444444444,
              "#bd3786"
             ],
             [
              0.5555555555555556,
              "#d8576b"
             ],
             [
              0.6666666666666666,
              "#ed7953"
             ],
             [
              0.7777777777777778,
              "#fb9f3a"
             ],
             [
              0.8888888888888888,
              "#fdca26"
             ],
             [
              1,
              "#f0f921"
             ]
            ],
            "type": "heatmapgl"
           }
          ],
          "histogram": [
           {
            "marker": {
             "pattern": {
              "fillmode": "overlay",
              "size": 10,
              "solidity": 0.2
             }
            },
            "type": "histogram"
           }
          ],
          "histogram2d": [
           {
            "colorbar": {
             "outlinewidth": 0,
             "ticks": ""
            },
            "colorscale": [
             [
              0,
              "#0d0887"
             ],
             [
              0.1111111111111111,
              "#46039f"
             ],
             [
              0.2222222222222222,
              "#7201a8"
             ],
             [
              0.3333333333333333,
              "#9c179e"
             ],
             [
              0.4444444444444444,
              "#bd3786"
             ],
             [
              0.5555555555555556,
              "#d8576b"
             ],
             [
              0.6666666666666666,
              "#ed7953"
             ],
             [
              0.7777777777777778,
              "#fb9f3a"
             ],
             [
              0.8888888888888888,
              "#fdca26"
             ],
             [
              1,
              "#f0f921"
             ]
            ],
            "type": "histogram2d"
           }
          ],
          "histogram2dcontour": [
           {
            "colorbar": {
             "outlinewidth": 0,
             "ticks": ""
            },
            "colorscale": [
             [
              0,
              "#0d0887"
             ],
             [
              0.1111111111111111,
              "#46039f"
             ],
             [
              0.2222222222222222,
              "#7201a8"
             ],
             [
              0.3333333333333333,
              "#9c179e"
             ],
             [
              0.4444444444444444,
              "#bd3786"
             ],
             [
              0.5555555555555556,
              "#d8576b"
             ],
             [
              0.6666666666666666,
              "#ed7953"
             ],
             [
              0.7777777777777778,
              "#fb9f3a"
             ],
             [
              0.8888888888888888,
              "#fdca26"
             ],
             [
              1,
              "#f0f921"
             ]
            ],
            "type": "histogram2dcontour"
           }
          ],
          "mesh3d": [
           {
            "colorbar": {
             "outlinewidth": 0,
             "ticks": ""
            },
            "type": "mesh3d"
           }
          ],
          "parcoords": [
           {
            "line": {
             "colorbar": {
              "outlinewidth": 0,
              "ticks": ""
             }
            },
            "type": "parcoords"
           }
          ],
          "pie": [
           {
            "automargin": true,
            "type": "pie"
           }
          ],
          "scatter": [
           {
            "fillpattern": {
             "fillmode": "overlay",
             "size": 10,
             "solidity": 0.2
            },
            "type": "scatter"
           }
          ],
          "scatter3d": [
           {
            "line": {
             "colorbar": {
              "outlinewidth": 0,
              "ticks": ""
             }
            },
            "marker": {
             "colorbar": {
              "outlinewidth": 0,
              "ticks": ""
             }
            },
            "type": "scatter3d"
           }
          ],
          "scattercarpet": [
           {
            "marker": {
             "colorbar": {
              "outlinewidth": 0,
              "ticks": ""
             }
            },
            "type": "scattercarpet"
           }
          ],
          "scattergeo": [
           {
            "marker": {
             "colorbar": {
              "outlinewidth": 0,
              "ticks": ""
             }
            },
            "type": "scattergeo"
           }
          ],
          "scattergl": [
           {
            "marker": {
             "colorbar": {
              "outlinewidth": 0,
              "ticks": ""
             }
            },
            "type": "scattergl"
           }
          ],
          "scattermapbox": [
           {
            "marker": {
             "colorbar": {
              "outlinewidth": 0,
              "ticks": ""
             }
            },
            "type": "scattermapbox"
           }
          ],
          "scatterpolar": [
           {
            "marker": {
             "colorbar": {
              "outlinewidth": 0,
              "ticks": ""
             }
            },
            "type": "scatterpolar"
           }
          ],
          "scatterpolargl": [
           {
            "marker": {
             "colorbar": {
              "outlinewidth": 0,
              "ticks": ""
             }
            },
            "type": "scatterpolargl"
           }
          ],
          "scatterternary": [
           {
            "marker": {
             "colorbar": {
              "outlinewidth": 0,
              "ticks": ""
             }
            },
            "type": "scatterternary"
           }
          ],
          "surface": [
           {
            "colorbar": {
             "outlinewidth": 0,
             "ticks": ""
            },
            "colorscale": [
             [
              0,
              "#0d0887"
             ],
             [
              0.1111111111111111,
              "#46039f"
             ],
             [
              0.2222222222222222,
              "#7201a8"
             ],
             [
              0.3333333333333333,
              "#9c179e"
             ],
             [
              0.4444444444444444,
              "#bd3786"
             ],
             [
              0.5555555555555556,
              "#d8576b"
             ],
             [
              0.6666666666666666,
              "#ed7953"
             ],
             [
              0.7777777777777778,
              "#fb9f3a"
             ],
             [
              0.8888888888888888,
              "#fdca26"
             ],
             [
              1,
              "#f0f921"
             ]
            ],
            "type": "surface"
           }
          ],
          "table": [
           {
            "cells": {
             "fill": {
              "color": "#EBF0F8"
             },
             "line": {
              "color": "white"
             }
            },
            "header": {
             "fill": {
              "color": "#C8D4E3"
             },
             "line": {
              "color": "white"
             }
            },
            "type": "table"
           }
          ]
         },
         "layout": {
          "annotationdefaults": {
           "arrowcolor": "#2a3f5f",
           "arrowhead": 0,
           "arrowwidth": 1
          },
          "autotypenumbers": "strict",
          "coloraxis": {
           "colorbar": {
            "outlinewidth": 0,
            "ticks": ""
           }
          },
          "colorscale": {
           "diverging": [
            [
             0,
             "#8e0152"
            ],
            [
             0.1,
             "#c51b7d"
            ],
            [
             0.2,
             "#de77ae"
            ],
            [
             0.3,
             "#f1b6da"
            ],
            [
             0.4,
             "#fde0ef"
            ],
            [
             0.5,
             "#f7f7f7"
            ],
            [
             0.6,
             "#e6f5d0"
            ],
            [
             0.7,
             "#b8e186"
            ],
            [
             0.8,
             "#7fbc41"
            ],
            [
             0.9,
             "#4d9221"
            ],
            [
             1,
             "#276419"
            ]
           ],
           "sequential": [
            [
             0,
             "#0d0887"
            ],
            [
             0.1111111111111111,
             "#46039f"
            ],
            [
             0.2222222222222222,
             "#7201a8"
            ],
            [
             0.3333333333333333,
             "#9c179e"
            ],
            [
             0.4444444444444444,
             "#bd3786"
            ],
            [
             0.5555555555555556,
             "#d8576b"
            ],
            [
             0.6666666666666666,
             "#ed7953"
            ],
            [
             0.7777777777777778,
             "#fb9f3a"
            ],
            [
             0.8888888888888888,
             "#fdca26"
            ],
            [
             1,
             "#f0f921"
            ]
           ],
           "sequentialminus": [
            [
             0,
             "#0d0887"
            ],
            [
             0.1111111111111111,
             "#46039f"
            ],
            [
             0.2222222222222222,
             "#7201a8"
            ],
            [
             0.3333333333333333,
             "#9c179e"
            ],
            [
             0.4444444444444444,
             "#bd3786"
            ],
            [
             0.5555555555555556,
             "#d8576b"
            ],
            [
             0.6666666666666666,
             "#ed7953"
            ],
            [
             0.7777777777777778,
             "#fb9f3a"
            ],
            [
             0.8888888888888888,
             "#fdca26"
            ],
            [
             1,
             "#f0f921"
            ]
           ]
          },
          "colorway": [
           "#636efa",
           "#EF553B",
           "#00cc96",
           "#ab63fa",
           "#FFA15A",
           "#19d3f3",
           "#FF6692",
           "#B6E880",
           "#FF97FF",
           "#FECB52"
          ],
          "font": {
           "color": "#2a3f5f"
          },
          "geo": {
           "bgcolor": "white",
           "lakecolor": "white",
           "landcolor": "#E5ECF6",
           "showlakes": true,
           "showland": true,
           "subunitcolor": "white"
          },
          "hoverlabel": {
           "align": "left"
          },
          "hovermode": "closest",
          "mapbox": {
           "style": "light"
          },
          "paper_bgcolor": "white",
          "plot_bgcolor": "#E5ECF6",
          "polar": {
           "angularaxis": {
            "gridcolor": "white",
            "linecolor": "white",
            "ticks": ""
           },
           "bgcolor": "#E5ECF6",
           "radialaxis": {
            "gridcolor": "white",
            "linecolor": "white",
            "ticks": ""
           }
          },
          "scene": {
           "xaxis": {
            "backgroundcolor": "#E5ECF6",
            "gridcolor": "white",
            "gridwidth": 2,
            "linecolor": "white",
            "showbackground": true,
            "ticks": "",
            "zerolinecolor": "white"
           },
           "yaxis": {
            "backgroundcolor": "#E5ECF6",
            "gridcolor": "white",
            "gridwidth": 2,
            "linecolor": "white",
            "showbackground": true,
            "ticks": "",
            "zerolinecolor": "white"
           },
           "zaxis": {
            "backgroundcolor": "#E5ECF6",
            "gridcolor": "white",
            "gridwidth": 2,
            "linecolor": "white",
            "showbackground": true,
            "ticks": "",
            "zerolinecolor": "white"
           }
          },
          "shapedefaults": {
           "line": {
            "color": "#2a3f5f"
           }
          },
          "ternary": {
           "aaxis": {
            "gridcolor": "white",
            "linecolor": "white",
            "ticks": ""
           },
           "baxis": {
            "gridcolor": "white",
            "linecolor": "white",
            "ticks": ""
           },
           "bgcolor": "#E5ECF6",
           "caxis": {
            "gridcolor": "white",
            "linecolor": "white",
            "ticks": ""
           }
          },
          "title": {
           "x": 0.05
          },
          "xaxis": {
           "automargin": true,
           "gridcolor": "white",
           "linecolor": "white",
           "ticks": "",
           "title": {
            "standoff": 15
           },
           "zerolinecolor": "white",
           "zerolinewidth": 2
          },
          "yaxis": {
           "automargin": true,
           "gridcolor": "white",
           "linecolor": "white",
           "ticks": "",
           "title": {
            "standoff": 15
           },
           "zerolinecolor": "white",
           "zerolinewidth": 2
          }
         }
        },
        "width": 800,
        "xaxis": {
         "tickvals": [
          2022,
          2023
         ],
         "title": {
          "text": "Year"
         }
        },
        "yaxis": {
         "title": {
          "text": "Frequency (hours)"
         }
        },
        "yaxis2": {
         "overlaying": "y",
         "side": "right",
         "title": {
          "text": "Winter Sublimation (mm)"
         }
        }
       }
      },
      "text/html": [
       "<div>                            <div id=\"84c4ad8d-ffdc-4115-92ce-fede2d4c5e4a\" class=\"plotly-graph-div\" style=\"height:600px; width:800px;\"></div>            <script type=\"text/javascript\">                require([\"plotly\"], function(Plotly) {                    window.PLOTLYENV=window.PLOTLYENV || {};                                    if (document.getElementById(\"84c4ad8d-ffdc-4115-92ce-fede2d4c5e4a\")) {                    Plotly.newPlot(                        \"84c4ad8d-ffdc-4115-92ce-fede2d4c5e4a\",                        [{\"marker\":{\"color\":\"blue\"},\"name\":\"snowy and Windy\",\"offsetgroup\":\"0\",\"x\":[2022],\"y\":[548],\"type\":\"bar\"},{\"marker\":{\"color\":\"red\"},\"name\":\"snowy and Calm\",\"offsetgroup\":\"1\",\"x\":[2022],\"y\":[299],\"type\":\"bar\"},{\"marker\":{\"color\":\"green\"},\"name\":\"Dry and Windy\",\"offsetgroup\":\"2\",\"x\":[2022],\"y\":[1009],\"type\":\"bar\"},{\"marker\":{\"color\":\"orange\"},\"name\":\"Dry and Calm\",\"offsetgroup\":\"3\",\"x\":[2022],\"y\":[1010],\"type\":\"bar\"},{\"marker\":{\"color\":\"blue\"},\"offsetgroup\":\"0\",\"showlegend\":false,\"x\":[2023],\"y\":[1043],\"type\":\"bar\"},{\"marker\":{\"color\":\"red\"},\"offsetgroup\":\"1\",\"showlegend\":false,\"x\":[2023],\"y\":[690],\"type\":\"bar\"},{\"marker\":{\"color\":\"green\"},\"offsetgroup\":\"2\",\"showlegend\":false,\"x\":[2023],\"y\":[516],\"type\":\"bar\"},{\"marker\":{\"color\":\"orange\"},\"offsetgroup\":\"3\",\"showlegend\":false,\"x\":[2023],\"y\":[502],\"type\":\"bar\"},{\"marker\":{\"color\":\"purple\"},\"name\":\"Sublimation\",\"offsetgroup\":\"4\",\"x\":[2022],\"y\":[16.658428085040462],\"yaxis\":\"y2\",\"type\":\"bar\"},{\"marker\":{\"color\":\"purple\"},\"offsetgroup\":\"4\",\"showlegend\":false,\"x\":[2023],\"y\":[20.144449512886318],\"yaxis\":\"y2\",\"type\":\"bar\"}],                        {\"template\":{\"data\":{\"histogram2dcontour\":[{\"type\":\"histogram2dcontour\",\"colorbar\":{\"outlinewidth\":0,\"ticks\":\"\"},\"colorscale\":[[0.0,\"#0d0887\"],[0.1111111111111111,\"#46039f\"],[0.2222222222222222,\"#7201a8\"],[0.3333333333333333,\"#9c179e\"],[0.4444444444444444,\"#bd3786\"],[0.5555555555555556,\"#d8576b\"],[0.6666666666666666,\"#ed7953\"],[0.7777777777777778,\"#fb9f3a\"],[0.8888888888888888,\"#fdca26\"],[1.0,\"#f0f921\"]]}],\"choropleth\":[{\"type\":\"choropleth\",\"colorbar\":{\"outlinewidth\":0,\"ticks\":\"\"}}],\"histogram2d\":[{\"type\":\"histogram2d\",\"colorbar\":{\"outlinewidth\":0,\"ticks\":\"\"},\"colorscale\":[[0.0,\"#0d0887\"],[0.1111111111111111,\"#46039f\"],[0.2222222222222222,\"#7201a8\"],[0.3333333333333333,\"#9c179e\"],[0.4444444444444444,\"#bd3786\"],[0.5555555555555556,\"#d8576b\"],[0.6666666666666666,\"#ed7953\"],[0.7777777777777778,\"#fb9f3a\"],[0.8888888888888888,\"#fdca26\"],[1.0,\"#f0f921\"]]}],\"heatmap\":[{\"type\":\"heatmap\",\"colorbar\":{\"outlinewidth\":0,\"ticks\":\"\"},\"colorscale\":[[0.0,\"#0d0887\"],[0.1111111111111111,\"#46039f\"],[0.2222222222222222,\"#7201a8\"],[0.3333333333333333,\"#9c179e\"],[0.4444444444444444,\"#bd3786\"],[0.5555555555555556,\"#d8576b\"],[0.6666666666666666,\"#ed7953\"],[0.7777777777777778,\"#fb9f3a\"],[0.8888888888888888,\"#fdca26\"],[1.0,\"#f0f921\"]]}],\"heatmapgl\":[{\"type\":\"heatmapgl\",\"colorbar\":{\"outlinewidth\":0,\"ticks\":\"\"},\"colorscale\":[[0.0,\"#0d0887\"],[0.1111111111111111,\"#46039f\"],[0.2222222222222222,\"#7201a8\"],[0.3333333333333333,\"#9c179e\"],[0.4444444444444444,\"#bd3786\"],[0.5555555555555556,\"#d8576b\"],[0.6666666666666666,\"#ed7953\"],[0.7777777777777778,\"#fb9f3a\"],[0.8888888888888888,\"#fdca26\"],[1.0,\"#f0f921\"]]}],\"contourcarpet\":[{\"type\":\"contourcarpet\",\"colorbar\":{\"outlinewidth\":0,\"ticks\":\"\"}}],\"contour\":[{\"type\":\"contour\",\"colorbar\":{\"outlinewidth\":0,\"ticks\":\"\"},\"colorscale\":[[0.0,\"#0d0887\"],[0.1111111111111111,\"#46039f\"],[0.2222222222222222,\"#7201a8\"],[0.3333333333333333,\"#9c179e\"],[0.4444444444444444,\"#bd3786\"],[0.5555555555555556,\"#d8576b\"],[0.6666666666666666,\"#ed7953\"],[0.7777777777777778,\"#fb9f3a\"],[0.8888888888888888,\"#fdca26\"],[1.0,\"#f0f921\"]]}],\"surface\":[{\"type\":\"surface\",\"colorbar\":{\"outlinewidth\":0,\"ticks\":\"\"},\"colorscale\":[[0.0,\"#0d0887\"],[0.1111111111111111,\"#46039f\"],[0.2222222222222222,\"#7201a8\"],[0.3333333333333333,\"#9c179e\"],[0.4444444444444444,\"#bd3786\"],[0.5555555555555556,\"#d8576b\"],[0.6666666666666666,\"#ed7953\"],[0.7777777777777778,\"#fb9f3a\"],[0.8888888888888888,\"#fdca26\"],[1.0,\"#f0f921\"]]}],\"mesh3d\":[{\"type\":\"mesh3d\",\"colorbar\":{\"outlinewidth\":0,\"ticks\":\"\"}}],\"scatter\":[{\"fillpattern\":{\"fillmode\":\"overlay\",\"size\":10,\"solidity\":0.2},\"type\":\"scatter\"}],\"parcoords\":[{\"type\":\"parcoords\",\"line\":{\"colorbar\":{\"outlinewidth\":0,\"ticks\":\"\"}}}],\"scatterpolargl\":[{\"type\":\"scatterpolargl\",\"marker\":{\"colorbar\":{\"outlinewidth\":0,\"ticks\":\"\"}}}],\"bar\":[{\"error_x\":{\"color\":\"#2a3f5f\"},\"error_y\":{\"color\":\"#2a3f5f\"},\"marker\":{\"line\":{\"color\":\"#E5ECF6\",\"width\":0.5},\"pattern\":{\"fillmode\":\"overlay\",\"size\":10,\"solidity\":0.2}},\"type\":\"bar\"}],\"scattergeo\":[{\"type\":\"scattergeo\",\"marker\":{\"colorbar\":{\"outlinewidth\":0,\"ticks\":\"\"}}}],\"scatterpolar\":[{\"type\":\"scatterpolar\",\"marker\":{\"colorbar\":{\"outlinewidth\":0,\"ticks\":\"\"}}}],\"histogram\":[{\"marker\":{\"pattern\":{\"fillmode\":\"overlay\",\"size\":10,\"solidity\":0.2}},\"type\":\"histogram\"}],\"scattergl\":[{\"type\":\"scattergl\",\"marker\":{\"colorbar\":{\"outlinewidth\":0,\"ticks\":\"\"}}}],\"scatter3d\":[{\"type\":\"scatter3d\",\"line\":{\"colorbar\":{\"outlinewidth\":0,\"ticks\":\"\"}},\"marker\":{\"colorbar\":{\"outlinewidth\":0,\"ticks\":\"\"}}}],\"scattermapbox\":[{\"type\":\"scattermapbox\",\"marker\":{\"colorbar\":{\"outlinewidth\":0,\"ticks\":\"\"}}}],\"scatterternary\":[{\"type\":\"scatterternary\",\"marker\":{\"colorbar\":{\"outlinewidth\":0,\"ticks\":\"\"}}}],\"scattercarpet\":[{\"type\":\"scattercarpet\",\"marker\":{\"colorbar\":{\"outlinewidth\":0,\"ticks\":\"\"}}}],\"carpet\":[{\"aaxis\":{\"endlinecolor\":\"#2a3f5f\",\"gridcolor\":\"white\",\"linecolor\":\"white\",\"minorgridcolor\":\"white\",\"startlinecolor\":\"#2a3f5f\"},\"baxis\":{\"endlinecolor\":\"#2a3f5f\",\"gridcolor\":\"white\",\"linecolor\":\"white\",\"minorgridcolor\":\"white\",\"startlinecolor\":\"#2a3f5f\"},\"type\":\"carpet\"}],\"table\":[{\"cells\":{\"fill\":{\"color\":\"#EBF0F8\"},\"line\":{\"color\":\"white\"}},\"header\":{\"fill\":{\"color\":\"#C8D4E3\"},\"line\":{\"color\":\"white\"}},\"type\":\"table\"}],\"barpolar\":[{\"marker\":{\"line\":{\"color\":\"#E5ECF6\",\"width\":0.5},\"pattern\":{\"fillmode\":\"overlay\",\"size\":10,\"solidity\":0.2}},\"type\":\"barpolar\"}],\"pie\":[{\"automargin\":true,\"type\":\"pie\"}]},\"layout\":{\"autotypenumbers\":\"strict\",\"colorway\":[\"#636efa\",\"#EF553B\",\"#00cc96\",\"#ab63fa\",\"#FFA15A\",\"#19d3f3\",\"#FF6692\",\"#B6E880\",\"#FF97FF\",\"#FECB52\"],\"font\":{\"color\":\"#2a3f5f\"},\"hovermode\":\"closest\",\"hoverlabel\":{\"align\":\"left\"},\"paper_bgcolor\":\"white\",\"plot_bgcolor\":\"#E5ECF6\",\"polar\":{\"bgcolor\":\"#E5ECF6\",\"angularaxis\":{\"gridcolor\":\"white\",\"linecolor\":\"white\",\"ticks\":\"\"},\"radialaxis\":{\"gridcolor\":\"white\",\"linecolor\":\"white\",\"ticks\":\"\"}},\"ternary\":{\"bgcolor\":\"#E5ECF6\",\"aaxis\":{\"gridcolor\":\"white\",\"linecolor\":\"white\",\"ticks\":\"\"},\"baxis\":{\"gridcolor\":\"white\",\"linecolor\":\"white\",\"ticks\":\"\"},\"caxis\":{\"gridcolor\":\"white\",\"linecolor\":\"white\",\"ticks\":\"\"}},\"coloraxis\":{\"colorbar\":{\"outlinewidth\":0,\"ticks\":\"\"}},\"colorscale\":{\"sequential\":[[0.0,\"#0d0887\"],[0.1111111111111111,\"#46039f\"],[0.2222222222222222,\"#7201a8\"],[0.3333333333333333,\"#9c179e\"],[0.4444444444444444,\"#bd3786\"],[0.5555555555555556,\"#d8576b\"],[0.6666666666666666,\"#ed7953\"],[0.7777777777777778,\"#fb9f3a\"],[0.8888888888888888,\"#fdca26\"],[1.0,\"#f0f921\"]],\"sequentialminus\":[[0.0,\"#0d0887\"],[0.1111111111111111,\"#46039f\"],[0.2222222222222222,\"#7201a8\"],[0.3333333333333333,\"#9c179e\"],[0.4444444444444444,\"#bd3786\"],[0.5555555555555556,\"#d8576b\"],[0.6666666666666666,\"#ed7953\"],[0.7777777777777778,\"#fb9f3a\"],[0.8888888888888888,\"#fdca26\"],[1.0,\"#f0f921\"]],\"diverging\":[[0,\"#8e0152\"],[0.1,\"#c51b7d\"],[0.2,\"#de77ae\"],[0.3,\"#f1b6da\"],[0.4,\"#fde0ef\"],[0.5,\"#f7f7f7\"],[0.6,\"#e6f5d0\"],[0.7,\"#b8e186\"],[0.8,\"#7fbc41\"],[0.9,\"#4d9221\"],[1,\"#276419\"]]},\"xaxis\":{\"gridcolor\":\"white\",\"linecolor\":\"white\",\"ticks\":\"\",\"title\":{\"standoff\":15},\"zerolinecolor\":\"white\",\"automargin\":true,\"zerolinewidth\":2},\"yaxis\":{\"gridcolor\":\"white\",\"linecolor\":\"white\",\"ticks\":\"\",\"title\":{\"standoff\":15},\"zerolinecolor\":\"white\",\"automargin\":true,\"zerolinewidth\":2},\"scene\":{\"xaxis\":{\"backgroundcolor\":\"#E5ECF6\",\"gridcolor\":\"white\",\"linecolor\":\"white\",\"showbackground\":true,\"ticks\":\"\",\"zerolinecolor\":\"white\",\"gridwidth\":2},\"yaxis\":{\"backgroundcolor\":\"#E5ECF6\",\"gridcolor\":\"white\",\"linecolor\":\"white\",\"showbackground\":true,\"ticks\":\"\",\"zerolinecolor\":\"white\",\"gridwidth\":2},\"zaxis\":{\"backgroundcolor\":\"#E5ECF6\",\"gridcolor\":\"white\",\"linecolor\":\"white\",\"showbackground\":true,\"ticks\":\"\",\"zerolinecolor\":\"white\",\"gridwidth\":2}},\"shapedefaults\":{\"line\":{\"color\":\"#2a3f5f\"}},\"annotationdefaults\":{\"arrowcolor\":\"#2a3f5f\",\"arrowhead\":0,\"arrowwidth\":1},\"geo\":{\"bgcolor\":\"white\",\"landcolor\":\"#E5ECF6\",\"subunitcolor\":\"white\",\"showland\":true,\"showlakes\":true,\"lakecolor\":\"white\"},\"title\":{\"x\":0.05},\"mapbox\":{\"style\":\"light\"}}},\"yaxis2\":{\"title\":{\"text\":\"Winter Sublimation (mm)\"},\"overlaying\":\"y\",\"side\":\"right\"},\"barmode\":\"group\",\"xaxis\":{\"title\":{\"text\":\"Year\"},\"tickvals\":[2022,2023]},\"yaxis\":{\"title\":{\"text\":\"Frequency (hours)\"}},\"showlegend\":true,\"height\":600,\"width\":800,\"legend\":{\"orientation\":\"h\",\"yanchor\":\"bottom\",\"y\":1.02,\"xanchor\":\"right\",\"x\":1},\"font\":{\"size\":18}},                        {\"responsive\": true}                    ).then(function(){\n",
       "                            \n",
       "var gd = document.getElementById('84c4ad8d-ffdc-4115-92ce-fede2d4c5e4a');\n",
       "var x = new MutationObserver(function (mutations, observer) {{\n",
       "        var display = window.getComputedStyle(gd).display;\n",
       "        if (!display || display === 'none') {{\n",
       "            console.log([gd, 'removed!']);\n",
       "            Plotly.purge(gd);\n",
       "            observer.disconnect();\n",
       "        }}\n",
       "}});\n",
       "\n",
       "// Listen for the removal of the full notebook cells\n",
       "var notebookContainer = gd.closest('#notebook-container');\n",
       "if (notebookContainer) {{\n",
       "    x.observe(notebookContainer, {childList: true});\n",
       "}}\n",
       "\n",
       "// Listen for the clearing of the current output cell\n",
       "var outputEl = gd.closest('.output');\n",
       "if (outputEl) {{\n",
       "    x.observe(outputEl, {childList: true});\n",
       "}}\n",
       "\n",
       "                        })                };                });            </script>        </div>"
      ]
     },
     "metadata": {},
     "output_type": "display_data"
    }
   ],
   "source": [
    "import plotly.graph_objects as go\n",
    "\n",
    "fig = go.Figure()\n",
    "\n",
    "# Add primary y-axis bars\n",
    "fig.add_trace(go.Bar(x=[2022], y=[snowy_sublimation_22.shape[0]], offsetgroup=0, name='snowy and Windy', marker_color='blue'))\n",
    "fig.add_trace(go.Bar(x=[2022], y=[snowy_calm_sublimation_22.shape[0]], offsetgroup=1, name='snowy and Calm', marker_color='red'))\n",
    "fig.add_trace(go.Bar(x=[2022], y=[dry_windy_sublimation_22.shape[0]], offsetgroup=2, name='Dry and Windy', marker_color='green'))\n",
    "fig.add_trace(go.Bar(x=[2022], y=[dry_calm_sublimation_22.shape[0]], offsetgroup=3, name='Dry and Calm', marker_color='orange'))\n",
    "# fig.add_trace(go.Bar(x=[2022], y=[2904 - snowy_sublimation_22.shape[0] - snowy_calm_sublimation_22.shape[0] - dry_windy_sublimation_22.shape[0] - dry_calm_sublimation_22.shape[0]],\n",
    "#                      offsetgroup=4, name='No Data', marker_color='gray'))\n",
    "\n",
    "fig.add_trace(go.Bar(x=[2023], y=[snowy_sublimation_23.shape[0]], offsetgroup=0, showlegend=False, marker_color='blue'))\n",
    "fig.add_trace(go.Bar(x=[2023], y=[snowy_calm_sublimation_23.shape[0]], offsetgroup=1, showlegend=False, marker_color='red'))\n",
    "fig.add_trace(go.Bar(x=[2023], y=[dry_windy_sublimation_23.shape[0]], offsetgroup=2, showlegend=False, marker_color='green'))\n",
    "fig.add_trace(go.Bar(x=[2023], y=[dry_calm_sublimation_23.shape[0]], offsetgroup=3, showlegend=False, marker_color='orange'))\n",
    "# fig.add_trace(go.Bar(x=[2023], y=[2904 - snowy_sublimation_23.shape[0] - snowy_calm_sublimation_23.shape[0] - dry_windy_sublimation_23.shape[0] - dry_calm_sublimation_23.shape[0]], \n",
    "#                      offsetgroup=4, showlegend=False, marker_color='gray'))\n",
    "\n",
    "# Add secondary y-axis bars\n",
    "fig.add_trace(go.Bar(x=[2022], y=[w22_kp_sail['sublimation'].sum()], offsetgroup=4, name='Sublimation', marker_color='purple', yaxis='y2'))\n",
    "fig.add_trace(go.Bar(x=[2023], y=[sublimation_1H['sublimation_1H'].sum()], offsetgroup=4, showlegend=False, marker_color='purple', yaxis='y2'))\n",
    "\n",
    "# Update layout for secondary y-axis\n",
    "fig.update_layout(\n",
    "    barmode='group',\n",
    "    xaxis_title='Year',\n",
    "    yaxis_title='Frequency (hours)',\n",
    "    yaxis2=dict(\n",
    "        title='Winter Sublimation (mm)',\n",
    "        overlaying='y',\n",
    "        side='right'\n",
    "    ),\n",
    "    showlegend=True,\n",
    "    height=600,\n",
    "    width=800\n",
    ")\n",
    "\n",
    "# move the legend to the right\n",
    "fig.update_layout(legend=dict(\n",
    "    orientation='h',\n",
    "    yanchor='bottom',\n",
    "    y=1.02,\n",
    "    xanchor='right',\n",
    "    x=1\n",
    "))\n",
    "\n",
    "# Make the x-axis ticks just the years\n",
    "fig.update_xaxes(tickvals=[2022, 2023])\n",
    "# increse the font size of all the labels\n",
    "fig.update_layout(font=dict(size=18))\n",
    "\n",
    "fig.show()\n"
   ]
  }
 ],
 "metadata": {
  "kernelspec": {
   "display_name": "sublime_synoptics",
   "language": "python",
   "name": "python3"
  },
  "language_info": {
   "codemirror_mode": {
    "name": "ipython",
    "version": 3
   },
   "file_extension": ".py",
   "mimetype": "text/x-python",
   "name": "python",
   "nbconvert_exporter": "python",
   "pygments_lexer": "ipython3",
   "version": "3.11.10"
  }
 },
 "nbformat": 4,
 "nbformat_minor": 2
}
