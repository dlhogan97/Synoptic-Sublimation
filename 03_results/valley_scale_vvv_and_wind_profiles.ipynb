{
 "cells": [
  {
   "cell_type": "markdown",
   "metadata": {},
   "source": [
    "# Valley scale vertical velocity variance and wind profiles\n",
    "\n",
    "Figure in manuscript\n",
    "\n",
    "Produced by Daniel Hogan"
   ]
  },
  {
   "cell_type": "markdown",
   "metadata": {},
   "source": [
    "## Imports"
   ]
  },
  {
   "cell_type": "code",
   "execution_count": 1,
   "metadata": {},
   "outputs": [
    {
     "name": "stdout",
     "output_type": "stream",
     "text": [
      "nctoolkit is using Climate Data Operators version 2.4.4\n"
     ]
    }
   ],
   "source": [
    "# general\n",
    "import os\n",
    "os.chdir('/home/dlhogan/GitHub/Synoptic-Sublimation')\n",
    "import datetime as dt\n",
    "import json\n",
    "import glob\n",
    "# data \n",
    "import xarray as xr \n",
    "import numpy as np\n",
    "import pandas as pd\n",
    "from scipy import stats as stats \n",
    "# plotting\n",
    "import matplotlib.pyplot as plt\n",
    "import matplotlib.gridspec as gridspec\n",
    "import matplotlib.patches as mpatches\n",
    "# helper tools\n",
    "from utils.get_sail_data import get_sail_data\n",
    "from utils.helper_funcs import create_windrose_df, mean_sounding, simple_sounding\n",
    "import utils.helper_funcs as hf\n",
    "from metpy import calc\n",
    "from metpy.units import units"
   ]
  },
  {
   "cell_type": "markdown",
   "metadata": {},
   "source": [
    "## Data"
   ]
  },
  {
   "cell_type": "markdown",
   "metadata": {},
   "source": [
    "### Sublimation Events"
   ]
  },
  {
   "cell_type": "code",
   "execution_count": 2,
   "metadata": {},
   "outputs": [],
   "source": [
    "# First, gather the dates during the long sublimation events\n",
    "long_sub_events_22 = pd.read_csv('./01_data/processed_data/sublimation/w22_long_evts.csv', index_col=0, parse_dates=True)\n",
    "long_sub_events_23 = pd.read_csv('./01_data/processed_data/sublimation/w23_long_evts.csv', index_col=0, parse_dates=True)\n",
    "# concatenate the two dataframes\n",
    "long_sub_events = pd.concat([long_sub_events_22, long_sub_events_23])\n",
    "\n",
    "# Next, grab short duration intense sublimation events\n",
    "short_sub_events_22 = pd.read_csv('./01_data/processed_data/sublimation/w22_spiky_evts.csv', index_col=0, parse_dates=True)\n",
    "short_sub_events_23 = pd.read_csv('./01_data/processed_data/sublimation/w23_spiky_evts.csv', index_col=0, parse_dates=True)\n",
    "# concatenate the two dataframes\n",
    "short_sub_events = pd.concat([short_sub_events_22, short_sub_events_23])"
   ]
  },
  {
   "cell_type": "code",
   "execution_count": 3,
   "metadata": {},
   "outputs": [],
   "source": [
    "long_sub_events_22_start = long_sub_events_22.reset_index().groupby('event_number').first()['index']\n",
    "long_sub_events_22_end = long_sub_events_22.reset_index().groupby('event_number').last()['index']\n",
    "short_sub_events_22_start = short_sub_events_22.reset_index().groupby('event_number').first()['index']\n",
    "short_sub_events_22_end = short_sub_events_22.reset_index().groupby('event_number').last()['index']\n",
    "# get the start and end datetimes of the events\n",
    "long_sub_events_23_start = long_sub_events_23.reset_index().groupby('event_number').first()['time']\n",
    "long_sub_events_23_end = long_sub_events_23.reset_index().groupby('event_number').last()['time']\n",
    "short_sub_events_23_start = short_sub_events_23.reset_index().groupby('event_number').first()['time']\n",
    "short_sub_events_23_end = short_sub_events_23.reset_index().groupby('event_number').last()['time']"
   ]
  },
  {
   "cell_type": "code",
   "execution_count": 4,
   "metadata": {},
   "outputs": [],
   "source": [
    "# make 10 minute interval time series ofr each event\n",
    "def get_event_times(event_start, event_end, freq='10T'):\n",
    "    event_times = []\n",
    "    for event in event_start.index.unique():\n",
    "        start = event_start.loc[event]\n",
    "        end = event_end.loc[event]\n",
    "        time = pd.date_range(start, end, freq=freq)\n",
    "        event_times.append(time)\n",
    "    return pd.Series(np.concatenate(event_times))\n",
    "\n",
    "# get the 10 minute time series for each event\n",
    "w22_long_events_10min = get_event_times(long_sub_events_22_start, long_sub_events_22_end)\n",
    "w22_short_events_10min = get_event_times(short_sub_events_22_start, short_sub_events_22_end)\n",
    "w23_long_events_10min = get_event_times(long_sub_events_23_start, long_sub_events_23_end)\n",
    "w23_short_events_10min = get_event_times(short_sub_events_23_start, short_sub_events_23_end)"
   ]
  },
  {
   "cell_type": "markdown",
   "metadata": {},
   "source": [
    "### Vertical Velocity Variance"
   ]
  },
  {
   "cell_type": "code",
   "execution_count": 5,
   "metadata": {},
   "outputs": [],
   "source": [
    "# Function to load ARM credentials\n",
    "def load_arm_credentials(credential_path):\n",
    "    with open(credential_path, 'r') as f:\n",
    "        credentials = json.load(f)\n",
    "    return credentials\n",
    "# Location of ARM credentials\n",
    "credential_path = '/home/dlhogan/.act_config.json'\n",
    "credentials = load_arm_credentials(credential_path)\n",
    "# api token and username for ARM\n",
    "api_username = credentials.get('username')\n",
    "api_token = credentials.get('token')"
   ]
  },
  {
   "cell_type": "code",
   "execution_count": 6,
   "metadata": {},
   "outputs": [],
   "source": [
    "# establish start and ends of the different winters\n",
    "start_22, end_22 = dt.datetime(2021, 12, 1), dt.datetime(2022, 3, 31)\n",
    "start_23, end_23 = dt.datetime(2022, 12, 1), dt.datetime(2023, 3, 31)"
   ]
  },
  {
   "cell_type": "code",
   "execution_count": 7,
   "metadata": {},
   "outputs": [
    {
     "name": "stdout",
     "output_type": "stream",
     "text": [
      "gucdlprofwstats4newsM1_20211201_20220331.nc already exists\n",
      "-------------------\n",
      "gucdlprofwstats4newsM1_20221201_20230331.nc already exists\n",
      "-------------------\n"
     ]
    }
   ],
   "source": [
    "sail_datastream= \"gucdlprofwstats4newsM1.c1\"\n",
    "storage_directory = '/home/dlhogan/GitHub/Synoptic-Sublimation/01_data/processed_data/sail/gucdlprofwstats'\n",
    "# create empty data dictionary\n",
    "data_loc_dict = {}\n",
    "\n",
    "def download_wstats_data(sail_datastream, start, end, storage_directory):\n",
    "        if (os.path.exists(f\"{storage_directory}/{sail_datastream[:-3]}_{start.strftime('%Y%m%d')}_{end.strftime('%Y%m%d')}.nc\")): \n",
    "                print(f\"{sail_datastream[:-3]}_{start.strftime('%Y%m%d')}_{end.strftime('%Y%m%d')}.nc already exists\")\n",
    "                print('-------------------')\n",
    "                # add the filename to the dictionary which can be used if we want to load the data\n",
    "                wstats_data = xr.open_dataset(os.path.join(storage_directory,f\"{sail_datastream[:-3]}_{start.strftime('%Y%m%d')}_{end.strftime('%Y%m%d')}.nc\"))\n",
    "        else:\n",
    "                wstats_data = get_sail_data(api_username,\n",
    "                                                api_token,\n",
    "                                                sail_datastream,\n",
    "                                                startdate=start.strftime('%Y%m%d'),\n",
    "                                                enddate=end.strftime('%Y%m%d'))\n",
    "                wstats_data.to_netcdf(f\"{storage_directory}/{sail_datastream[:-3]}_{start.strftime('%Y%m%d')}_{end.strftime('%Y%m%d')}.nc\")\n",
    "        return wstats_data\n",
    "\n",
    "w22_wstats_data = download_wstats_data(sail_datastream, start_22, end_22, storage_directory)\n",
    "w23_wstats_data = download_wstats_data(sail_datastream, start_23, end_23, storage_directory)\n",
    "\n",
    "device_alt = w22_wstats_data['alt'].values[0]"
   ]
  },
  {
   "cell_type": "markdown",
   "metadata": {},
   "source": [
    "### Wind Speed and Direction"
   ]
  },
  {
   "cell_type": "code",
   "execution_count": 8,
   "metadata": {},
   "outputs": [],
   "source": [
    "files_22 = glob.glob('/storage/dlhogan/synoptic_sublimation/sail_data/winter_21_22/radiosonde/*')\n",
    "files_23 = glob.glob('/storage/dlhogan/synoptic_sublimation/sail_data/winter_22_23/radiosonde/*')\n",
    "# create a function to get specific soundin data\n",
    "# we want to grab the values when pressure is closest to 700, 650, 600, 550, 500, 450, 400, 350, and 300 hPa\n",
    "# We then want to calculate the time offset from the start time of the sounding and then combine this into a new dataset\n",
    "# with coordinates of inital time, and pressure level\n",
    "# and variables of temperature, dewpoint, wind speed, wind direction, rh, and height etc\n",
    "def get_sounding_height_data(ds):\n",
    "    # get the start time of the sounding\n",
    "    start_time = pd.to_datetime(ds.time.values[0])\n",
    "    # round to either 00Z or 12Z\n",
    "    if (start_time.hour < 6) | (start_time.hour > 18):\n",
    "        start_time = start_time.replace(hour=0, minute=0, second=0)\n",
    "    else:\n",
    "        start_time = start_time.replace(hour=12, minute=0, second=0)\n",
    "    # get the time delta of every other measurement\n",
    "    time_delta = ds.time.values - ds.time.values[0]\n",
    "    # get the pressure levels we want\n",
    "    pressure_levels = [700, 650, 600, 550, 500, 450, 400, 350, 300]\n",
    "    # create a dictionary to hold the data\n",
    "    data = {}\n",
    "    # loop through the pressure levels\n",
    "    for p in pressure_levels:\n",
    "        # get the index of the pressure level\n",
    "        idx = np.argmin(np.abs(ds.pres.values - p))\n",
    "        # get the time offset convert to hours\n",
    "        time_offset = time_delta[idx].astype('timedelta64[s]').astype('timedelta64[m]')\n",
    "        # get the data\n",
    "        data[p] = {'time_offset': time_offset,\n",
    "                   'pressure': ds.pres.values[idx],\n",
    "                   'tdry': ds.tdry.values[idx],\n",
    "                   'dp': ds.dp.values[idx],\n",
    "                   'u_wind': ds.u_wind.values[idx],\n",
    "                   'v_wind': ds.v_wind.values[idx],\n",
    "                   'wspd': ds.wspd.values[idx],\n",
    "                   'deg': ds.deg.values[idx],\n",
    "                   'rh': ds.rh.values[idx],\n",
    "                   'alt': ds.alt.values[idx]}\n",
    "    # create a dataframe\n",
    "    df = pd.DataFrame(data).T\n",
    "    # add the start time\n",
    "    df['start_time'] = start_time\n",
    "\n",
    "    # convert to xarray and make start_time and coordinate\n",
    "    df = df.reset_index().rename(columns={'index': 'pres'})\n",
    "    df['pres'] = df['pres'].astype('int')\n",
    "    df = df.set_index(['start_time', 'pres'])\n",
    "\n",
    "    return df"
   ]
  },
  {
   "cell_type": "markdown",
   "metadata": {},
   "source": [
    "## Data Processing"
   ]
  },
  {
   "cell_type": "markdown",
   "metadata": {},
   "source": [
    "### Vertical Velocity Variance"
   ]
  },
  {
   "cell_type": "code",
   "execution_count": 9,
   "metadata": {},
   "outputs": [],
   "source": [
    "def filter_wstats_data(wstats_data, heights=None, variables=None, localize_time=False, add_time_grouper=True):\n",
    "    # write a docstring for the function\n",
    "    \"\"\"\n",
    "    This function filters the wstats data to only include the heights and variables specified.\n",
    "    \"\"\"\n",
    "    # Filter data for SNR extremes\n",
    "    wstats_data_filtered = wstats_data.where((wstats_data.snr > 0.008) & (wstats_data.noise < 1))\n",
    "    \n",
    "    # filter the data by height and variables\n",
    "    if heights is None:\n",
    "        pass\n",
    "    else:\n",
    "        wstats_data_filtered = wstats_data_filtered.sel(height=heights)  \n",
    "    if variables is None:\n",
    "        pass\n",
    "    else:\n",
    "        wstats_data_filtered = wstats_data_filtered[variables]\n",
    "    if localize_time:\n",
    "        wstats_data_filtered['time'] = pd.to_datetime(wstats_data_filtered.time).tz_localize('UTC').tz_convert('US/Mountain').tz_localize(None)\n",
    "    else:\n",
    "        pass\n",
    "    if add_time_grouper:\n",
    "        # I want to group by individual 10-minute periods to average over the dataset.\n",
    "        # let's create a new array that indexes what 10-minute period each time belongs to\n",
    "        # first, create an array of each 10-minute period\n",
    "        index_array = np.arange(0,24*6,1)\n",
    "        # then, create an array of the time values\n",
    "        time_range = pd.date_range(\"2022-12-01\", \"2022-12-02\", freq='10min').time\n",
    "        # then, create a dictionary that maps the time values to the index array\n",
    "        time_index= pd.Series(dict(zip(time_range, index_array)))\n",
    "        # then, create a new array that maps the time values to the index array\n",
    "        # inefficient, but it works, can I make it faster?\n",
    "        # time_index_array = np.array([time_index_dict[time.dt.time.item()] for time in wstats_data_filtered.time])\n",
    "        time_index_array = time_index.loc[wstats_data_filtered.time.dt.time].values\n",
    "        wstats_data_filtered = wstats_data_filtered.assign(time_index=('time', time_index_array))\n",
    "    else:\n",
    "        pass\n",
    "    return wstats_data_filtered\n",
    "\n",
    "# filter the data to only include the heights and variables we want\n",
    "w22_wstats_data_filtered = filter_wstats_data(w22_wstats_data, heights=slice(0,2000), variables=['snr','w','w_variance','w_skewness','noise','ecor_w_var','ecor_w_skew'], localize_time=False, add_time_grouper=True)\n",
    "w23_wstats_data_filtered = filter_wstats_data(w23_wstats_data, heights=slice(0,2000), variables=['snr','w','w_variance','w_skewness','noise','ecor_w_var','ecor_w_skew'], localize_time=False, add_time_grouper=True)\n",
    "\n",
    "# add device_alt to the height variable\n",
    "w22_wstats_data_filtered['height'] = w22_wstats_data_filtered['height'] + device_alt\n",
    "w23_wstats_data_filtered['height'] = w23_wstats_data_filtered['height'] + device_alt\n",
    "# convert to dataframe, may not use\n",
    "# wstats_df = utils.modify_df_timezone(wstats_data.to_dataframe().reset_index(), 'UTC', 'US/Mountain')\n",
    "# wstats_df['time_low'] = wstats_df['time'] - dt.timedelta(minutes=5)\n",
    "# wstats_df['time_high'] = wstats_df['time'] + dt.timedelta(minutes=5)\n",
    "# wstats_df['height_low'] = wstats_df['height'] - 15\n",
    "# wstats_df['height_high'] = wstats_df['height'] + 15\n"
   ]
  },
  {
   "cell_type": "markdown",
   "metadata": {},
   "source": [
    "#### 2022 VVV statistic"
   ]
  },
  {
   "cell_type": "code",
   "execution_count": 10,
   "metadata": {},
   "outputs": [],
   "source": [
    "w22_daily_stats = w22_wstats_data_filtered.groupby('time_index').mean()\n",
    "w22_daily_stats_no_events = w22_wstats_data_filtered.sel(time=w22_wstats_data_filtered.time[~w22_wstats_data_filtered.time.isin(np.concatenate([w22_long_events_10min.values,\n",
    "                                                                                                                                                w22_short_events_10min.values]))]).groupby('time_index').mean()\n",
    "w22_daily_stats_long_events = w22_wstats_data_filtered.sel(time=w22_long_events_10min.values).groupby('time_index').mean()\n",
    "w22_daily_stats_short_events = w22_wstats_data_filtered.sel(time=w22_short_events_10min.values).groupby('time_index').mean()\n",
    "\n",
    "# Get avearage over 100 meter bins for the whole winter\n",
    "w22_height_stats = w22_wstats_data_filtered.sel(time=w22_wstats_data_filtered.time[~w22_wstats_data_filtered.time.isin(np.concatenate([w22_long_events_10min.values,\n",
    "                                                                                                                                                w22_short_events_10min.values]))]).groupby_bins('height', bins=np.arange(device_alt,device_alt+2000,90)).mean()\n",
    "# Get average over 100 meter bins for the long events\n",
    "w22_height_stats_long_events = w22_wstats_data_filtered.sel(time=w22_long_events_10min.values).groupby_bins('height', bins=np.arange(device_alt,device_alt+2000,90)).mean()\n",
    "# Get average over 100 meter bins for the short events\n",
    "w22_height_stats_short_events = w22_wstats_data_filtered.sel(time=w22_short_events_10min.values).groupby_bins('height', bins=np.arange(device_alt,device_alt+2000,90)).mean()"
   ]
  },
  {
   "cell_type": "code",
   "execution_count": 11,
   "metadata": {},
   "outputs": [],
   "source": [
    "# reset the index and convert to dataframe\n",
    "w22_height_stats_df = w22_height_stats.to_dataframe().reset_index()\n",
    "w22_height_stats_long_events_df = w22_height_stats_long_events.to_dataframe().reset_index()\n",
    "w22_height_stats_short_events_df = w22_height_stats_short_events.to_dataframe().reset_index()\n",
    "\n",
    "# replace height_bins with the left of the bin\n",
    "w22_height_stats_df['height'] = w22_height_stats_df['height_bins'].apply(lambda x: x.left)\n",
    "w22_height_stats_long_events_df['height'] = w22_height_stats_long_events_df['height_bins'].apply(lambda x: x.left)\n",
    "w22_height_stats_short_events_df['height'] = w22_height_stats_short_events_df['height_bins'].apply(lambda x: x.left)\n"
   ]
  },
  {
   "cell_type": "markdown",
   "metadata": {},
   "source": [
    "#### 2023 VVV statistic"
   ]
  },
  {
   "cell_type": "code",
   "execution_count": 12,
   "metadata": {},
   "outputs": [],
   "source": [
    "w23_daily_stats = w23_wstats_data_filtered.groupby('time_index').mean()\n",
    "w23_daily_stats_no_events = w23_wstats_data_filtered.sel(time=w23_wstats_data_filtered.time[~w23_wstats_data_filtered.time.isin(np.concatenate([w23_long_events_10min.values,\n",
    "                                                                                                                                                w23_short_events_10min.values]))]).groupby('time_index').mean()\n",
    "w23_daily_stats_long_events = w23_wstats_data_filtered.sel(time=w23_long_events_10min.values).groupby('time_index').mean()\n",
    "w23_daily_stats_short_events = w23_wstats_data_filtered.sel(time=w23_short_events_10min.values).groupby('time_index').mean()\n",
    "\n",
    "# Get avearage over 100 meter bins for the whole winter\n",
    "w23_height_stats = w23_wstats_data_filtered.sel(time=w23_wstats_data_filtered.time[~w23_wstats_data_filtered.time.isin(np.concatenate([w23_long_events_10min.values,\n",
    "                                                                                                                                                w23_short_events_10min.values]))]).groupby_bins('height', bins=np.arange(device_alt,device_alt+2000,90)).mean()\n",
    "# Get average over 100 meter bins for the long events\n",
    "w23_height_stats_long_events = w23_wstats_data_filtered.sel(time=w23_long_events_10min.values).groupby_bins('height', bins=np.arange(device_alt,device_alt+2000,90)).mean()\n",
    "# Get average over 100 meter bins for the short events\n",
    "w23_height_stats_short_events = w23_wstats_data_filtered.sel(time=w23_short_events_10min.values).groupby_bins('height', bins=np.arange(device_alt,device_alt+2000,90)).mean()"
   ]
  },
  {
   "cell_type": "code",
   "execution_count": 13,
   "metadata": {},
   "outputs": [],
   "source": [
    "# reset the index and convert to dataframe\n",
    "w23_height_stats_df = w23_height_stats.to_dataframe().reset_index()\n",
    "w23_height_stats_long_events_df = w23_height_stats_long_events.to_dataframe().reset_index()\n",
    "w23_height_stats_short_events_df = w23_height_stats_short_events.to_dataframe().reset_index()\n",
    "\n",
    "# replace height_bins with the left of the bin\n",
    "w23_height_stats_df['height'] = w23_height_stats_df['height_bins'].apply(lambda x: x.left)\n",
    "w23_height_stats_long_events_df['height'] = w23_height_stats_long_events_df['height_bins'].apply(lambda x: x.left)\n",
    "w23_height_stats_short_events_df['height'] = w23_height_stats_short_events_df['height_bins'].apply(lambda x: x.left)\n"
   ]
  },
  {
   "cell_type": "markdown",
   "metadata": {},
   "source": [
    "#### Combine data"
   ]
  },
  {
   "cell_type": "code",
   "execution_count": 14,
   "metadata": {},
   "outputs": [],
   "source": [
    "cdf_all = pd.concat([w22_height_stats_df, w23_height_stats_df]).reset_index()\n",
    "cdf_long_events = pd.concat([w22_height_stats_long_events_df, w23_height_stats_long_events_df]).reset_index()\n",
    "cdf_short_events = pd.concat([w22_height_stats_short_events_df, w23_height_stats_short_events_df]).reset_index()"
   ]
  },
  {
   "cell_type": "markdown",
   "metadata": {},
   "source": [
    "### Wind Speed and Direction"
   ]
  },
  {
   "cell_type": "code",
   "execution_count": 15,
   "metadata": {},
   "outputs": [],
   "source": [
    "# create a function to calculate wind direction from u and v wind components\n",
    "def calculate_wind_direction(u, v):\n",
    "    \"\"\"\n",
    "    Calculate wind direction from u and v wind components.\n",
    "    Wind direction is defined as the direction from which the wind is coming.\n",
    "    \"\"\"\n",
    "    wind_dir = 270 - np.arctan2(v, u) * (180 / np.pi)  # Convert radians to degrees\n",
    "    wind_dir = (wind_dir) % 360  # Ensure wind direction is in [0, 360)\n",
    "    return wind_dir\n",
    "\n",
    "def get_sounding_winds(ds):\n",
    "    # Filter to only include data below 5000 m\n",
    "    df = ds[['pres','wspd','u_wind', 'v_wind','alt']].where(ds['alt'] < 5000, drop=True).to_dataframe().reset_index(drop=True)\n",
    "\n",
    "    # Get the time value\n",
    "    time = pd.to_datetime(ds.time.values[0])\n",
    "\n",
    "    # Group by 50 m altitude bins\n",
    "    df_grouped = df.groupby(pd.cut(df.alt, np.arange(df.alt.min() - 100, df.alt.max(), 100)), observed=True).mean().reset_index(drop=True)\n",
    "    \n",
    "    # Limit to first 30 bins\n",
    "    df_grouped = df_grouped.iloc[:30].copy()\n",
    "    df_grouped[\"alt_bin\"] = np.arange(df_grouped.shape[0])\n",
    "    df_grouped = df_grouped.set_index(\"alt_bin\")\n",
    "\n",
    "    # Convert to xarray Dataset\n",
    "    ds_out = xr.Dataset.from_dataframe(df_grouped)\n",
    "\n",
    "    # Add time dimension\n",
    "    ds_out = ds_out.expand_dims(dim={\"time\": [time]})\n",
    "\n",
    "    return ds_out\n",
    "\n",
    "# Example usage\n",
    "ds = xr.open_dataset(files_23[397])\n",
    "sounding_xr = get_sounding_winds(ds)\n"
   ]
  },
  {
   "cell_type": "markdown",
   "metadata": {},
   "source": [
    "#### 2022 sounding data"
   ]
  },
  {
   "cell_type": "code",
   "execution_count": 16,
   "metadata": {},
   "outputs": [
    {
     "name": "stdout",
     "output_type": "stream",
     "text": [
      "Error with /storage/dlhogan/synoptic_sublimation/sail_data/winter_21_22/radiosonde/gucsondewnpnM1.b1.20220817.113900.cdf\n"
     ]
    }
   ],
   "source": [
    "data = {}\n",
    "for i, f in enumerate(files_22):\n",
    "    try:\n",
    "        ds = xr.open_dataset(f)\n",
    "        # get the sounding data\n",
    "        data[f] = get_sounding_winds(ds)\n",
    "        # replace the index with the first timestep of the ds\n",
    "    except:\n",
    "        print(f'Error with {f}')\n",
    "        continue\n",
    "\n",
    "# Combine all data into single dataset concatenating along the time dimension\n",
    "sounding_ds_22 = xr.concat(list(data.values()), dim='time')"
   ]
  },
  {
   "cell_type": "markdown",
   "metadata": {},
   "source": [
    "#### 2023 sounding data"
   ]
  },
  {
   "cell_type": "code",
   "execution_count": 17,
   "metadata": {},
   "outputs": [],
   "source": [
    "data = {}\n",
    "for i, f in enumerate(files_23):\n",
    "    try:\n",
    "        ds = xr.open_dataset(f)\n",
    "        # get the sounding data\n",
    "        data[f] = get_sounding_winds(ds)\n",
    "        # replace the index with the first timestep of the ds\n",
    "    except:\n",
    "        print(f'Error with {f}')\n",
    "        continue\n",
    "\n",
    "# Combine all data into single dataset concatenating along the time dimension\n",
    "sounding_ds_23 = xr.concat(list(data.values()), dim='time')"
   ]
  },
  {
   "cell_type": "markdown",
   "metadata": {},
   "source": [
    "#### Combine the two datasets"
   ]
  },
  {
   "cell_type": "code",
   "execution_count": 18,
   "metadata": {},
   "outputs": [],
   "source": [
    "# combine the two datasets\n",
    "wind_sounding_ds = xr.concat([sounding_ds_22, sounding_ds_23], dim='time')\n",
    "\n",
    "# get DJFM month data\n",
    "winter_wind_sounding_ds = wind_sounding_ds.sel(time=wind_sounding_ds.time.dt.month.isin([12, 1, 2, 3]))\n",
    "\n",
    "# limit to only the winter soundings (time between 23 and 01 hours)\n",
    "pm_winter_wind_sounding_ds = winter_wind_sounding_ds.sel(time=((winter_wind_sounding_ds.time.dt.hour > 20) | (winter_wind_sounding_ds.time.dt.hour < 3)))\n",
    "\n",
    "# isolate soundings that occurred on the days of long sublimation events\n",
    "long_sub_pm_wind_sounding_ds = pm_winter_wind_sounding_ds.sel(time=pm_winter_wind_sounding_ds.time.dt.date.isin(long_sub_events.index.date))\n",
    "\n",
    "# isolate soundings that occurred on the days of short sublimation events\n",
    "short_sub_pm_wind_sounding_ds = pm_winter_wind_sounding_ds.sel(time=pm_winter_wind_sounding_ds.time.dt.date.isin(short_sub_events.index.date))\n",
    "\n",
    "# exclude soundings that occurred on the days of long sublimation events from pm_winter_wind_sounding_ds\n",
    "no_sub_pm_wind_sounding_ds = pm_winter_wind_sounding_ds.sel(time=(~pm_winter_wind_sounding_ds.time.dt.date.isin(long_sub_events.index.date))\n",
    "                                                             & (~pm_winter_wind_sounding_ds.time.dt.date.isin(short_sub_events.index.date)))"
   ]
  },
  {
   "cell_type": "code",
   "execution_count": 19,
   "metadata": {},
   "outputs": [],
   "source": [
    "# close sounding_ds_22 and sounding_ds_23 to free up memory\n",
    "sounding_ds_22.close()\n",
    "sounding_ds_23.close()"
   ]
  },
  {
   "cell_type": "markdown",
   "metadata": {},
   "source": [
    "#### Calculate wind direcation"
   ]
  },
  {
   "cell_type": "code",
   "execution_count": 20,
   "metadata": {},
   "outputs": [],
   "source": [
    "# add wind direction to the datasets\n",
    "long_sub_pm_wind_sounding_ds['deg'] = calculate_wind_direction(long_sub_pm_wind_sounding_ds['u_wind'], long_sub_pm_wind_sounding_ds['v_wind'])\n",
    "short_sub_pm_wind_sounding_ds['deg'] = calculate_wind_direction(short_sub_pm_wind_sounding_ds['u_wind'], short_sub_pm_wind_sounding_ds['v_wind'])\n",
    "no_sub_pm_wind_sounding_ds['deg'] = calculate_wind_direction(no_sub_pm_wind_sounding_ds['u_wind'], no_sub_pm_wind_sounding_ds['v_wind'])"
   ]
  },
  {
   "cell_type": "markdown",
   "metadata": {},
   "source": [
    "## Figure"
   ]
  },
  {
   "cell_type": "code",
   "execution_count": null,
   "metadata": {},
   "outputs": [
    {
     "data": {
      "text/plain": [
       "Text(0.4, 0.54, 'Mean Ridgeline\\nElevation')"
      ]
     },
     "execution_count": 26,
     "metadata": {},
     "output_type": "execute_result"
    },
    {
     "data": {
      "image/png": "[encoded data removed]",
      "text/plain": [
       "<Figure size 1000x500 with 3 Axes>"
      ]
     },
     "metadata": {},
     "output_type": "display_data"
    }
   ],
   "source": [
    "plt.style.use('seaborn-v0_8-talk')\n",
    "\n",
    "# === Parameters ===\n",
    "figure_font_size = 20\n",
    "legend_width_fraction = 0.15  # Adjust to 0.10 or 0.20 to change legend width\n",
    "title_labels = ['(A)', '(B)', '(C)', '']\n",
    "\n",
    "# === Figure and Gridspec Setup ===\n",
    "fig = plt.figure(figsize=(12, 5))  # Slightly wider to accommodate legend\n",
    "gs = gridspec.GridSpec(\n",
    "    nrows=1,\n",
    "    ncols=4,\n",
    "    width_ratios=[2, 2, 1.5, legend_width_fraction * 10],\n",
    "    figure=fig\n",
    ")\n",
    "gs.update(wspace=0.15)\n",
    "\n",
    "# === Subplot Axes ===\n",
    "ax_vvv = fig.add_subplot(gs[0])\n",
    "ax_spd = fig.add_subplot(gs[1])\n",
    "ax_barbs = fig.add_subplot(gs[2])\n",
    "ax_barb_legend = fig.add_subplot(gs[3])\n",
    "\n",
    "# === Subplot Formatting ===\n",
    "ax_spd.tick_params(axis='y', labelcolor='none')\n",
    "ax_barbs.tick_params(axis='y', labelcolor='none')\n",
    "\n",
    "for ax in [ax_vvv, ax_spd, ax_barbs]:\n",
    "    ax.grid(axis='both', linestyle='--', alpha=0.5)\n",
    "\n",
    "# === Vertical Velocity Variance Plot ===\n",
    "ax_vvv.scatter(\n",
    "    cdf_all['w_variance'].groupby(cdf_all['height']).mean(),\n",
    "    np.arange(device_alt, device_alt + 1980, 90),\n",
    "    marker='x', facecolor='black', s=50, label='Winter Average'\n",
    ")\n",
    "\n",
    "ax_vvv.scatter(\n",
    "    cdf_short_events['w_variance'].groupby(cdf_short_events['height']).mean(),\n",
    "    np.arange(device_alt, device_alt + 1980, 90),\n",
    "    marker='^', facecolor='white', edgecolor='black', s=50, lw=1.5,\n",
    "    label='Short, Intense\\nSublimation Events'\n",
    ")\n",
    "\n",
    "ax_vvv.scatter(\n",
    "    cdf_long_events['w_variance'].groupby(cdf_long_events['height']).mean(),\n",
    "    np.arange(device_alt, device_alt + 1980, 90),\n",
    "    marker='s', facecolor='grey', edgecolor='black', s=50, lw=1.5,\n",
    "    label='Long Sublimation\\nEvents'\n",
    ")\n",
    "\n",
    "ax_vvv.set_xlabel(r'$\\sigma_w^2$ (m$^2$/s$^2$)')\n",
    "ax_vvv.set_ylabel('Altitude (m)', fontsize=figure_font_size)\n",
    "ax_vvv.set_xlim(-1, 7.5)\n",
    "\n",
    "# === Wind Speed Plot ===\n",
    "def calc_mean_wind_spd(ds):\n",
    "    return np.sqrt(ds['u_wind']**2 + ds['v_wind']**2)\n",
    "\n",
    "categories = [\n",
    "    (\"Winter avg.\", no_sub_pm_wind_sounding_ds, 0, 'o'),\n",
    "    (\"Short events\", short_sub_pm_wind_sounding_ds, 1, '^'),\n",
    "    (\"Long events\", long_sub_pm_wind_sounding_ds, 2, 's'),\n",
    "]\n",
    "\n",
    "ax_spd.scatter(\n",
    "    calc_mean_wind_spd(no_sub_pm_wind_sounding_ds).mean(dim='time'),\n",
    "    no_sub_pm_wind_sounding_ds['alt'].mean(dim='time'),\n",
    "    label='Winter avg.', marker='x', facecolor='black', s=50\n",
    ")\n",
    "\n",
    "ax_spd.scatter(\n",
    "    calc_mean_wind_spd(short_sub_pm_wind_sounding_ds).mean(dim='time'),\n",
    "    short_sub_pm_wind_sounding_ds['alt'].mean(dim='time'),\n",
    "    label='Short events', marker='^', color='white', edgecolor='black', s=50, lw=1.5\n",
    ")\n",
    "\n",
    "ax_spd.scatter(\n",
    "    calc_mean_wind_spd(long_sub_pm_wind_sounding_ds).mean(dim='time'),\n",
    "    long_sub_pm_wind_sounding_ds['alt'].mean(dim='time'),\n",
    "    label='Long Events', marker='s', color='grey', edgecolor='black', s=50, lw=1.5\n",
    ")\n",
    "\n",
    "ax_spd.set_xlabel('Wind Speed (m/s)', ha='left')\n",
    "ax_spd.set_xlim(0, 12)\n",
    "\n",
    "# === Wind Barb Plot ===\n",
    "for label, ds, x_pos, marker in categories:\n",
    "    u = ds['u_wind'].mean(dim='time').values[0:12]\n",
    "    v = ds['v_wind'].mean(dim='time').values[0:12]\n",
    "    alt = ds['alt'].mean(dim='time').values[0:12]\n",
    "    x = np.ones_like(alt) * x_pos\n",
    "\n",
    "    ax_barbs.barbs(\n",
    "        x, alt, u, v,\n",
    "        length=7, lw=1.5,\n",
    "        barb_increments=dict(half=2.5, full=5, flag=25)\n",
    "    )\n",
    "\n",
    "ax_barbs.set_xticks([0, 1, 2])\n",
    "ax_barbs.set_xticklabels([c[0] for c in categories], rotation=90,\n",
    "                         ha='center', va='top', fontsize=figure_font_size - 2)\n",
    "ax_barbs.set_xlim(-1, 2.5)\n",
    "\n",
    "# === Wind Barb Legend (Right Axis) ===\n",
    "wind_speeds = np.arange(2.5, 10, 2.5)\n",
    "y_pos = np.arange(len(wind_speeds))\n",
    "u_fixed, v_fixed = -1, -1  # All point NW\n",
    "\n",
    "ax_barb_legend.barbs(\n",
    "    np.zeros_like(y_pos), y_pos,\n",
    "    np.full_like(y_pos, u_fixed), np.full_like(y_pos, v_fixed),\n",
    "    length=7, barb_increments=dict(half=2.5, full=5, flag=25),\n",
    "    barbcolor='k', linewidth=1.5\n",
    ")\n",
    "\n",
    "for speed, y in zip(wind_speeds, y_pos):\n",
    "    ax_barb_legend.text(0.3, y, f\"{speed:.1f} m/s\", va='center', fontsize=figure_font_size - 5)\n",
    "\n",
    "ax_barb_legend.set_xlim(-0.5, 1.5)\n",
    "ax_barb_legend.set_ylim(-1, len(wind_speeds))\n",
    "ax_barb_legend.set_title(\"Wind Speed\\nLegend\", fontsize=figure_font_size - 4)\n",
    "ax_barb_legend.axis('off')\n",
    "\n",
    "# === Legend Below Left Plot ===\n",
    "ax_vvv.legend(\n",
    "    loc='upper left', bbox_to_anchor=(-0.5, -0.35), ncol=3,\n",
    "    fontsize=figure_font_size - 4, frameon=False, alignment='left',\n",
    "    title='Legend', title_fontsize=figure_font_size,\n",
    "    handletextpad=0.5, columnspacing=1.0, markerscale=1.2\n",
    ")\n",
    "\n",
    "# === Add Titles, Red Line, and Ticks ===\n",
    "for i, ax in enumerate([ax_vvv, ax_spd, ax_barbs, ax_barb_legend]):\n",
    "    if i < 3:  # Only apply to main subplots\n",
    "        ax.set_ylim(device_alt - 20, device_alt + 1100)\n",
    "        ax.axhline(device_alt + 605, color='red', linestyle='--', linewidth=2)\n",
    "        ax.set_xlabel(ax.get_xlabel(), fontsize=figure_font_size)\n",
    "        ax.tick_params(axis='both', labelsize=figure_font_size - 2)\n",
    "        ax.text(0.15, 1.07, title_labels[i], transform=ax.transAxes,\n",
    "                fontsize=figure_font_size, fontweight='bold', va='top', ha='right')\n",
    "\n",
    "# === Add Figure Annotation ===\n",
    "fig.text(\n",
    "    0.4, 0.54, 'Mean Ridgeline\\nElevation',\n",
    "    fontsize=figure_font_size - 4, ha='center', va='center', color='red',\n",
    "    bbox=dict(facecolor='white', edgecolor='none', alpha=0.8, boxstyle='round,pad=0.3')\n",
    ")"
   ]
  },
  {
   "cell_type": "markdown",
   "metadata": {},
   "source": [
    "## Save Figure"
   ]
  },
  {
   "cell_type": "code",
   "execution_count": 117,
   "metadata": {},
   "outputs": [],
   "source": [
    "save_location = '/home/dlhogan/GitHub/Synoptic-Sublimation/04_products/figures/draft/valley_scale_vvv_and_wind_profiles.png'\n",
    "\n",
    "fig.savefig(save_location, bbox_inches='tight', dpi=300)"
   ]
  }
 ],
 "metadata": {
  "kernelspec": {
   "display_name": "sublime_synoptics",
   "language": "python",
   "name": "python3"
  },
  "language_info": {
   "codemirror_mode": {
    "name": "ipython",
    "version": 3
   },
   "file_extension": ".py",
   "mimetype": "text/x-python",
   "name": "python",
   "nbconvert_exporter": "python",
   "pygments_lexer": "ipython3",
   "version": "3.11.10"
  }
 },
 "nbformat": 4,
 "nbformat_minor": 2
}
